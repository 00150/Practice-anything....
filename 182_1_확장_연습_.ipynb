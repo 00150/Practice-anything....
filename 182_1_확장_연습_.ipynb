{
  "cells": [
    {
      "cell_type": "markdown",
      "metadata": {
        "id": "view-in-github",
        "colab_type": "text"
      },
      "source": [
        "<a href=\"https://colab.research.google.com/github/00150/Practice-anything..../blob/main/182_1_%ED%99%95%EC%9E%A5_%EC%97%B0%EC%8A%B5_.ipynb\" target=\"_parent\"><img src=\"https://colab.research.google.com/assets/colab-badge.svg\" alt=\"Open In Colab\"/></a>"
      ]
    },
    {
      "cell_type": "code",
      "execution_count": 1,
      "metadata": {
        "id": "OTgcTB5EvC6o",
        "outputId": "0df06735-4094-4bc0-e79f-3f466a5abd66",
        "colab": {
          "base_uri": "https://localhost:8080/"
        }
      },
      "outputs": [
        {
          "output_type": "stream",
          "name": "stdout",
          "text": [
            "Looking in indexes: https://pypi.org/simple, https://us-python.pkg.dev/colab-wheels/public/simple/\n",
            "Collecting category_encoders\n",
            "  Downloading category_encoders-2.6.0-py2.py3-none-any.whl (81 kB)\n",
            "\u001b[2K     \u001b[90m━━━━━━━━━━━━━━━━━━━━━━━━━━━━━━━━━━━━━━━━\u001b[0m \u001b[32m81.2/81.2 KB\u001b[0m \u001b[31m2.7 MB/s\u001b[0m eta \u001b[36m0:00:00\u001b[0m\n",
            "\u001b[?25hRequirement already satisfied: scikit-learn>=0.20.0 in /usr/local/lib/python3.8/dist-packages (from category_encoders) (1.0.2)\n",
            "Requirement already satisfied: scipy>=1.0.0 in /usr/local/lib/python3.8/dist-packages (from category_encoders) (1.7.3)\n",
            "Requirement already satisfied: statsmodels>=0.9.0 in /usr/local/lib/python3.8/dist-packages (from category_encoders) (0.12.2)\n",
            "Requirement already satisfied: patsy>=0.5.1 in /usr/local/lib/python3.8/dist-packages (from category_encoders) (0.5.3)\n",
            "Requirement already satisfied: pandas>=1.0.5 in /usr/local/lib/python3.8/dist-packages (from category_encoders) (1.3.5)\n",
            "Requirement already satisfied: numpy>=1.14.0 in /usr/local/lib/python3.8/dist-packages (from category_encoders) (1.21.6)\n",
            "Requirement already satisfied: pytz>=2017.3 in /usr/local/lib/python3.8/dist-packages (from pandas>=1.0.5->category_encoders) (2022.7)\n",
            "Requirement already satisfied: python-dateutil>=2.7.3 in /usr/local/lib/python3.8/dist-packages (from pandas>=1.0.5->category_encoders) (2.8.2)\n",
            "Requirement already satisfied: six in /usr/local/lib/python3.8/dist-packages (from patsy>=0.5.1->category_encoders) (1.15.0)\n",
            "Requirement already satisfied: joblib>=0.11 in /usr/local/lib/python3.8/dist-packages (from scikit-learn>=0.20.0->category_encoders) (1.2.0)\n",
            "Requirement already satisfied: threadpoolctl>=2.0.0 in /usr/local/lib/python3.8/dist-packages (from scikit-learn>=0.20.0->category_encoders) (3.1.0)\n",
            "Installing collected packages: category_encoders\n",
            "Successfully installed category_encoders-2.6.0\n"
          ]
        }
      ],
      "source": [
        "!pip install category_encoders "
      ]
    },
    {
      "cell_type": "code",
      "execution_count": 2,
      "metadata": {
        "id": "CrX82FDJvThh",
        "outputId": "f8e08892-cdb7-4c3b-ee38-0e6f4ef42fea",
        "colab": {
          "base_uri": "https://localhost:8080/"
        }
      },
      "outputs": [
        {
          "output_type": "stream",
          "name": "stdout",
          "text": [
            "Looking in indexes: https://pypi.org/simple, https://us-python.pkg.dev/colab-wheels/public/simple/\n",
            "Collecting eli5\n",
            "  Downloading eli5-0.13.0.tar.gz (216 kB)\n",
            "\u001b[2K     \u001b[90m━━━━━━━━━━━━━━━━━━━━━━━━━━━━━━━━━━━━━━━\u001b[0m \u001b[32m216.2/216.2 KB\u001b[0m \u001b[31m6.9 MB/s\u001b[0m eta \u001b[36m0:00:00\u001b[0m\n",
            "\u001b[?25h  Preparing metadata (setup.py) ... \u001b[?25l\u001b[?25hdone\n",
            "Requirement already satisfied: attrs>17.1.0 in /usr/local/lib/python3.8/dist-packages (from eli5) (22.2.0)\n",
            "Collecting jinja2>=3.0.0\n",
            "  Downloading Jinja2-3.1.2-py3-none-any.whl (133 kB)\n",
            "\u001b[2K     \u001b[90m━━━━━━━━━━━━━━━━━━━━━━━━━━━━━━━━━━━━━━━\u001b[0m \u001b[32m133.1/133.1 KB\u001b[0m \u001b[31m7.7 MB/s\u001b[0m eta \u001b[36m0:00:00\u001b[0m\n",
            "\u001b[?25hRequirement already satisfied: numpy>=1.9.0 in /usr/local/lib/python3.8/dist-packages (from eli5) (1.21.6)\n",
            "Requirement already satisfied: scipy in /usr/local/lib/python3.8/dist-packages (from eli5) (1.7.3)\n",
            "Requirement already satisfied: six in /usr/local/lib/python3.8/dist-packages (from eli5) (1.15.0)\n",
            "Requirement already satisfied: scikit-learn>=0.20 in /usr/local/lib/python3.8/dist-packages (from eli5) (1.0.2)\n",
            "Requirement already satisfied: graphviz in /usr/local/lib/python3.8/dist-packages (from eli5) (0.10.1)\n",
            "Requirement already satisfied: tabulate>=0.7.7 in /usr/local/lib/python3.8/dist-packages (from eli5) (0.8.10)\n",
            "Requirement already satisfied: MarkupSafe>=2.0 in /usr/local/lib/python3.8/dist-packages (from jinja2>=3.0.0->eli5) (2.0.1)\n",
            "Requirement already satisfied: threadpoolctl>=2.0.0 in /usr/local/lib/python3.8/dist-packages (from scikit-learn>=0.20->eli5) (3.1.0)\n",
            "Requirement already satisfied: joblib>=0.11 in /usr/local/lib/python3.8/dist-packages (from scikit-learn>=0.20->eli5) (1.2.0)\n",
            "Building wheels for collected packages: eli5\n",
            "  Building wheel for eli5 (setup.py) ... \u001b[?25l\u001b[?25hdone\n",
            "  Created wheel for eli5: filename=eli5-0.13.0-py2.py3-none-any.whl size=107748 sha256=2a12f1ef01e8950a784619f27fe7eb902c1604648090f59cc07c56710fb649fa\n",
            "  Stored in directory: /root/.cache/pip/wheels/85/ac/25/ffcd87ef8f9b1eec324fdf339359be71f22612459d8c75d89c\n",
            "Successfully built eli5\n",
            "Installing collected packages: jinja2, eli5\n",
            "  Attempting uninstall: jinja2\n",
            "    Found existing installation: Jinja2 2.11.3\n",
            "    Uninstalling Jinja2-2.11.3:\n",
            "      Successfully uninstalled Jinja2-2.11.3\n",
            "\u001b[31mERROR: pip's dependency resolver does not currently take into account all the packages that are installed. This behaviour is the source of the following dependency conflicts.\n",
            "notebook 5.7.16 requires jinja2<=3.0.0, but you have jinja2 3.1.2 which is incompatible.\n",
            "flask 1.1.4 requires Jinja2<3.0,>=2.10.1, but you have jinja2 3.1.2 which is incompatible.\u001b[0m\u001b[31m\n",
            "\u001b[0mSuccessfully installed eli5-0.13.0 jinja2-3.1.2\n"
          ]
        }
      ],
      "source": [
        "!pip install eli5 "
      ]
    },
    {
      "cell_type": "code",
      "execution_count": 3,
      "metadata": {
        "id": "xNnpEkk7tjt3"
      },
      "outputs": [],
      "source": [
        "import pandas as pd\n",
        "import numpy as np\n",
        "import matplotlib.pyplot as plt\n",
        "import seaborn as sns\n",
        "import eli5\n",
        "\n",
        "from sklearn.model_selection import train_test_split\n",
        "from sklearn.metrics import accuracy_score\n",
        "from sklearn.preprocessing import LabelEncoder \n",
        "from sklearn.ensemble import RandomForestClassifier\n",
        "from sklearn.pipeline import make_pipeline\n",
        "from category_encoders import OrdinalEncoder\n",
        "from sklearn.model_selection import cross_val_score\n",
        "from sklearn.metrics import roc_auc_score\n",
        "from eli5.sklearn import PermutationImportance"
      ]
    },
    {
      "cell_type": "markdown",
      "metadata": {
        "id": "hUS8L__irBSr"
      },
      "source": [
        "## **Part 1. 데이터 준비**\n",
        "\n",
        "- 데이터셋을 불러오세요.\n",
        "  - https://www.kaggle.com/datasets/pavansubhasht/ibm-hr-analytics-attrition-dataset\n",
        "- 타겟과 특성을 지정해 주세요. \n",
        "  - 타겟은 `Attrition`입니다.  \n",
        "- 훈련/평가 데이터셋을 분리하세요.\n",
        "  - 훈련/평가 데이터의 비율은 8:2로 합니다.\n",
        "  - `random_state=42`로 설정합니다. \n"
      ]
    },
    {
      "cell_type": "code",
      "execution_count": 4,
      "metadata": {
        "colab": {
          "base_uri": "https://localhost:8080/",
          "height": 369
        },
        "id": "afUN00woumY9",
        "outputId": "bf570602-552d-4239-c812-c3fac576f668"
      },
      "outputs": [
        {
          "output_type": "execute_result",
          "data": {
            "text/plain": [
              "   Age Attrition     BusinessTravel  DailyRate              Department  \\\n",
              "0   41       Yes      Travel_Rarely       1102                   Sales   \n",
              "1   49        No  Travel_Frequently        279  Research & Development   \n",
              "2   37       Yes      Travel_Rarely       1373  Research & Development   \n",
              "3   33        No  Travel_Frequently       1392  Research & Development   \n",
              "4   27        No      Travel_Rarely        591  Research & Development   \n",
              "\n",
              "   DistanceFromHome  Education EducationField  EmployeeCount  EmployeeNumber  \\\n",
              "0                 1          2  Life Sciences              1               1   \n",
              "1                 8          1  Life Sciences              1               2   \n",
              "2                 2          2          Other              1               4   \n",
              "3                 3          4  Life Sciences              1               5   \n",
              "4                 2          1        Medical              1               7   \n",
              "\n",
              "   ...  RelationshipSatisfaction StandardHours  StockOptionLevel  \\\n",
              "0  ...                         1            80                 0   \n",
              "1  ...                         4            80                 1   \n",
              "2  ...                         2            80                 0   \n",
              "3  ...                         3            80                 0   \n",
              "4  ...                         4            80                 1   \n",
              "\n",
              "   TotalWorkingYears  TrainingTimesLastYear WorkLifeBalance  YearsAtCompany  \\\n",
              "0                  8                      0               1               6   \n",
              "1                 10                      3               3              10   \n",
              "2                  7                      3               3               0   \n",
              "3                  8                      3               3               8   \n",
              "4                  6                      3               3               2   \n",
              "\n",
              "  YearsInCurrentRole  YearsSinceLastPromotion  YearsWithCurrManager  \n",
              "0                  4                        0                     5  \n",
              "1                  7                        1                     7  \n",
              "2                  0                        0                     0  \n",
              "3                  7                        3                     0  \n",
              "4                  2                        2                     2  \n",
              "\n",
              "[5 rows x 35 columns]"
            ],
            "text/html": [
              "\n",
              "  <div id=\"df-8ef2df45-ed5b-475a-8d48-d4f970fcbf06\">\n",
              "    <div class=\"colab-df-container\">\n",
              "      <div>\n",
              "<style scoped>\n",
              "    .dataframe tbody tr th:only-of-type {\n",
              "        vertical-align: middle;\n",
              "    }\n",
              "\n",
              "    .dataframe tbody tr th {\n",
              "        vertical-align: top;\n",
              "    }\n",
              "\n",
              "    .dataframe thead th {\n",
              "        text-align: right;\n",
              "    }\n",
              "</style>\n",
              "<table border=\"1\" class=\"dataframe\">\n",
              "  <thead>\n",
              "    <tr style=\"text-align: right;\">\n",
              "      <th></th>\n",
              "      <th>Age</th>\n",
              "      <th>Attrition</th>\n",
              "      <th>BusinessTravel</th>\n",
              "      <th>DailyRate</th>\n",
              "      <th>Department</th>\n",
              "      <th>DistanceFromHome</th>\n",
              "      <th>Education</th>\n",
              "      <th>EducationField</th>\n",
              "      <th>EmployeeCount</th>\n",
              "      <th>EmployeeNumber</th>\n",
              "      <th>...</th>\n",
              "      <th>RelationshipSatisfaction</th>\n",
              "      <th>StandardHours</th>\n",
              "      <th>StockOptionLevel</th>\n",
              "      <th>TotalWorkingYears</th>\n",
              "      <th>TrainingTimesLastYear</th>\n",
              "      <th>WorkLifeBalance</th>\n",
              "      <th>YearsAtCompany</th>\n",
              "      <th>YearsInCurrentRole</th>\n",
              "      <th>YearsSinceLastPromotion</th>\n",
              "      <th>YearsWithCurrManager</th>\n",
              "    </tr>\n",
              "  </thead>\n",
              "  <tbody>\n",
              "    <tr>\n",
              "      <th>0</th>\n",
              "      <td>41</td>\n",
              "      <td>Yes</td>\n",
              "      <td>Travel_Rarely</td>\n",
              "      <td>1102</td>\n",
              "      <td>Sales</td>\n",
              "      <td>1</td>\n",
              "      <td>2</td>\n",
              "      <td>Life Sciences</td>\n",
              "      <td>1</td>\n",
              "      <td>1</td>\n",
              "      <td>...</td>\n",
              "      <td>1</td>\n",
              "      <td>80</td>\n",
              "      <td>0</td>\n",
              "      <td>8</td>\n",
              "      <td>0</td>\n",
              "      <td>1</td>\n",
              "      <td>6</td>\n",
              "      <td>4</td>\n",
              "      <td>0</td>\n",
              "      <td>5</td>\n",
              "    </tr>\n",
              "    <tr>\n",
              "      <th>1</th>\n",
              "      <td>49</td>\n",
              "      <td>No</td>\n",
              "      <td>Travel_Frequently</td>\n",
              "      <td>279</td>\n",
              "      <td>Research &amp; Development</td>\n",
              "      <td>8</td>\n",
              "      <td>1</td>\n",
              "      <td>Life Sciences</td>\n",
              "      <td>1</td>\n",
              "      <td>2</td>\n",
              "      <td>...</td>\n",
              "      <td>4</td>\n",
              "      <td>80</td>\n",
              "      <td>1</td>\n",
              "      <td>10</td>\n",
              "      <td>3</td>\n",
              "      <td>3</td>\n",
              "      <td>10</td>\n",
              "      <td>7</td>\n",
              "      <td>1</td>\n",
              "      <td>7</td>\n",
              "    </tr>\n",
              "    <tr>\n",
              "      <th>2</th>\n",
              "      <td>37</td>\n",
              "      <td>Yes</td>\n",
              "      <td>Travel_Rarely</td>\n",
              "      <td>1373</td>\n",
              "      <td>Research &amp; Development</td>\n",
              "      <td>2</td>\n",
              "      <td>2</td>\n",
              "      <td>Other</td>\n",
              "      <td>1</td>\n",
              "      <td>4</td>\n",
              "      <td>...</td>\n",
              "      <td>2</td>\n",
              "      <td>80</td>\n",
              "      <td>0</td>\n",
              "      <td>7</td>\n",
              "      <td>3</td>\n",
              "      <td>3</td>\n",
              "      <td>0</td>\n",
              "      <td>0</td>\n",
              "      <td>0</td>\n",
              "      <td>0</td>\n",
              "    </tr>\n",
              "    <tr>\n",
              "      <th>3</th>\n",
              "      <td>33</td>\n",
              "      <td>No</td>\n",
              "      <td>Travel_Frequently</td>\n",
              "      <td>1392</td>\n",
              "      <td>Research &amp; Development</td>\n",
              "      <td>3</td>\n",
              "      <td>4</td>\n",
              "      <td>Life Sciences</td>\n",
              "      <td>1</td>\n",
              "      <td>5</td>\n",
              "      <td>...</td>\n",
              "      <td>3</td>\n",
              "      <td>80</td>\n",
              "      <td>0</td>\n",
              "      <td>8</td>\n",
              "      <td>3</td>\n",
              "      <td>3</td>\n",
              "      <td>8</td>\n",
              "      <td>7</td>\n",
              "      <td>3</td>\n",
              "      <td>0</td>\n",
              "    </tr>\n",
              "    <tr>\n",
              "      <th>4</th>\n",
              "      <td>27</td>\n",
              "      <td>No</td>\n",
              "      <td>Travel_Rarely</td>\n",
              "      <td>591</td>\n",
              "      <td>Research &amp; Development</td>\n",
              "      <td>2</td>\n",
              "      <td>1</td>\n",
              "      <td>Medical</td>\n",
              "      <td>1</td>\n",
              "      <td>7</td>\n",
              "      <td>...</td>\n",
              "      <td>4</td>\n",
              "      <td>80</td>\n",
              "      <td>1</td>\n",
              "      <td>6</td>\n",
              "      <td>3</td>\n",
              "      <td>3</td>\n",
              "      <td>2</td>\n",
              "      <td>2</td>\n",
              "      <td>2</td>\n",
              "      <td>2</td>\n",
              "    </tr>\n",
              "  </tbody>\n",
              "</table>\n",
              "<p>5 rows × 35 columns</p>\n",
              "</div>\n",
              "      <button class=\"colab-df-convert\" onclick=\"convertToInteractive('df-8ef2df45-ed5b-475a-8d48-d4f970fcbf06')\"\n",
              "              title=\"Convert this dataframe to an interactive table.\"\n",
              "              style=\"display:none;\">\n",
              "        \n",
              "  <svg xmlns=\"http://www.w3.org/2000/svg\" height=\"24px\"viewBox=\"0 0 24 24\"\n",
              "       width=\"24px\">\n",
              "    <path d=\"M0 0h24v24H0V0z\" fill=\"none\"/>\n",
              "    <path d=\"M18.56 5.44l.94 2.06.94-2.06 2.06-.94-2.06-.94-.94-2.06-.94 2.06-2.06.94zm-11 1L8.5 8.5l.94-2.06 2.06-.94-2.06-.94L8.5 2.5l-.94 2.06-2.06.94zm10 10l.94 2.06.94-2.06 2.06-.94-2.06-.94-.94-2.06-.94 2.06-2.06.94z\"/><path d=\"M17.41 7.96l-1.37-1.37c-.4-.4-.92-.59-1.43-.59-.52 0-1.04.2-1.43.59L10.3 9.45l-7.72 7.72c-.78.78-.78 2.05 0 2.83L4 21.41c.39.39.9.59 1.41.59.51 0 1.02-.2 1.41-.59l7.78-7.78 2.81-2.81c.8-.78.8-2.07 0-2.86zM5.41 20L4 18.59l7.72-7.72 1.47 1.35L5.41 20z\"/>\n",
              "  </svg>\n",
              "      </button>\n",
              "      \n",
              "  <style>\n",
              "    .colab-df-container {\n",
              "      display:flex;\n",
              "      flex-wrap:wrap;\n",
              "      gap: 12px;\n",
              "    }\n",
              "\n",
              "    .colab-df-convert {\n",
              "      background-color: #E8F0FE;\n",
              "      border: none;\n",
              "      border-radius: 50%;\n",
              "      cursor: pointer;\n",
              "      display: none;\n",
              "      fill: #1967D2;\n",
              "      height: 32px;\n",
              "      padding: 0 0 0 0;\n",
              "      width: 32px;\n",
              "    }\n",
              "\n",
              "    .colab-df-convert:hover {\n",
              "      background-color: #E2EBFA;\n",
              "      box-shadow: 0px 1px 2px rgba(60, 64, 67, 0.3), 0px 1px 3px 1px rgba(60, 64, 67, 0.15);\n",
              "      fill: #174EA6;\n",
              "    }\n",
              "\n",
              "    [theme=dark] .colab-df-convert {\n",
              "      background-color: #3B4455;\n",
              "      fill: #D2E3FC;\n",
              "    }\n",
              "\n",
              "    [theme=dark] .colab-df-convert:hover {\n",
              "      background-color: #434B5C;\n",
              "      box-shadow: 0px 1px 3px 1px rgba(0, 0, 0, 0.15);\n",
              "      filter: drop-shadow(0px 1px 2px rgba(0, 0, 0, 0.3));\n",
              "      fill: #FFFFFF;\n",
              "    }\n",
              "  </style>\n",
              "\n",
              "      <script>\n",
              "        const buttonEl =\n",
              "          document.querySelector('#df-8ef2df45-ed5b-475a-8d48-d4f970fcbf06 button.colab-df-convert');\n",
              "        buttonEl.style.display =\n",
              "          google.colab.kernel.accessAllowed ? 'block' : 'none';\n",
              "\n",
              "        async function convertToInteractive(key) {\n",
              "          const element = document.querySelector('#df-8ef2df45-ed5b-475a-8d48-d4f970fcbf06');\n",
              "          const dataTable =\n",
              "            await google.colab.kernel.invokeFunction('convertToInteractive',\n",
              "                                                     [key], {});\n",
              "          if (!dataTable) return;\n",
              "\n",
              "          const docLinkHtml = 'Like what you see? Visit the ' +\n",
              "            '<a target=\"_blank\" href=https://colab.research.google.com/notebooks/data_table.ipynb>data table notebook</a>'\n",
              "            + ' to learn more about interactive tables.';\n",
              "          element.innerHTML = '';\n",
              "          dataTable['output_type'] = 'display_data';\n",
              "          await google.colab.output.renderOutput(dataTable, element);\n",
              "          const docLink = document.createElement('div');\n",
              "          docLink.innerHTML = docLinkHtml;\n",
              "          element.appendChild(docLink);\n",
              "        }\n",
              "      </script>\n",
              "    </div>\n",
              "  </div>\n",
              "  "
            ]
          },
          "metadata": {},
          "execution_count": 4
        }
      ],
      "source": [
        "# 데이터셋 불러오기 \n",
        "df = pd.read_csv('https://ds-lecture-data.s3.ap-northeast-2.amazonaws.com/Employee-Attrition.csv')\n",
        "df.head()"
      ]
    },
    {
      "cell_type": "code",
      "source": [
        "df.info()"
      ],
      "metadata": {
        "id": "lr_FHqTJe4Hr",
        "outputId": "9de2a33f-c3f6-4e15-e274-54b70c839ded",
        "colab": {
          "base_uri": "https://localhost:8080/"
        }
      },
      "execution_count": 5,
      "outputs": [
        {
          "output_type": "stream",
          "name": "stdout",
          "text": [
            "<class 'pandas.core.frame.DataFrame'>\n",
            "RangeIndex: 1470 entries, 0 to 1469\n",
            "Data columns (total 35 columns):\n",
            " #   Column                    Non-Null Count  Dtype \n",
            "---  ------                    --------------  ----- \n",
            " 0   Age                       1470 non-null   int64 \n",
            " 1   Attrition                 1470 non-null   object\n",
            " 2   BusinessTravel            1470 non-null   object\n",
            " 3   DailyRate                 1470 non-null   int64 \n",
            " 4   Department                1470 non-null   object\n",
            " 5   DistanceFromHome          1470 non-null   int64 \n",
            " 6   Education                 1470 non-null   int64 \n",
            " 7   EducationField            1470 non-null   object\n",
            " 8   EmployeeCount             1470 non-null   int64 \n",
            " 9   EmployeeNumber            1470 non-null   int64 \n",
            " 10  EnvironmentSatisfaction   1470 non-null   int64 \n",
            " 11  Gender                    1470 non-null   object\n",
            " 12  HourlyRate                1470 non-null   int64 \n",
            " 13  JobInvolvement            1470 non-null   int64 \n",
            " 14  JobLevel                  1470 non-null   int64 \n",
            " 15  JobRole                   1470 non-null   object\n",
            " 16  JobSatisfaction           1470 non-null   int64 \n",
            " 17  MaritalStatus             1470 non-null   object\n",
            " 18  MonthlyIncome             1470 non-null   int64 \n",
            " 19  MonthlyRate               1470 non-null   int64 \n",
            " 20  NumCompaniesWorked        1470 non-null   int64 \n",
            " 21  Over18                    1470 non-null   object\n",
            " 22  OverTime                  1470 non-null   object\n",
            " 23  PercentSalaryHike         1470 non-null   int64 \n",
            " 24  PerformanceRating         1470 non-null   int64 \n",
            " 25  RelationshipSatisfaction  1470 non-null   int64 \n",
            " 26  StandardHours             1470 non-null   int64 \n",
            " 27  StockOptionLevel          1470 non-null   int64 \n",
            " 28  TotalWorkingYears         1470 non-null   int64 \n",
            " 29  TrainingTimesLastYear     1470 non-null   int64 \n",
            " 30  WorkLifeBalance           1470 non-null   int64 \n",
            " 31  YearsAtCompany            1470 non-null   int64 \n",
            " 32  YearsInCurrentRole        1470 non-null   int64 \n",
            " 33  YearsSinceLastPromotion   1470 non-null   int64 \n",
            " 34  YearsWithCurrManager      1470 non-null   int64 \n",
            "dtypes: int64(26), object(9)\n",
            "memory usage: 402.1+ KB\n"
          ]
        }
      ]
    },
    {
      "cell_type": "code",
      "source": [
        "# 타겟 타입을 살펴보면 분류로 접근해야할 것 같습니다.\n",
        "# 타겟의 분포를 확인합니다. -> 분류의 Baseline은 최다 빈도수를 기준으로 진행합니다. \n",
        "df['Attrition'].value_counts()\n",
        "\n",
        "# 시각화 진행 - 필요한 라이브러리를 가져옵니다.\n",
        "import seaborn as sns\n",
        "import matplotlib.pyplot as plt\n",
        "\n",
        "print(df['Attrition'].value_counts())\n",
        "\n",
        "# 바로 시각화 진행\n",
        "%matplotlib inline\n",
        "sns.countplot(x=df['Attrition'])"
      ],
      "metadata": {
        "id": "3EfVugYhe8-u",
        "outputId": "1b5c5461-a611-4ac2-bc3f-70d8d60c3445",
        "colab": {
          "base_uri": "https://localhost:8080/",
          "height": 352
        }
      },
      "execution_count": 6,
      "outputs": [
        {
          "output_type": "stream",
          "name": "stdout",
          "text": [
            "No     1233\n",
            "Yes     237\n",
            "Name: Attrition, dtype: int64\n"
          ]
        },
        {
          "output_type": "execute_result",
          "data": {
            "text/plain": [
              "<matplotlib.axes._subplots.AxesSubplot at 0x7fe0c5e11520>"
            ]
          },
          "metadata": {},
          "execution_count": 6
        },
        {
          "output_type": "display_data",
          "data": {
            "text/plain": [
              "<Figure size 432x288 with 1 Axes>"
            ],
            "image/png": "[encoded data removed]"
          },
          "metadata": {
            "needs_background": "light"
          }
        }
      ]
    },
    {
      "cell_type": "code",
      "source": [
        "# 타겟 값을 변경합니다. No = 0, Yes = 1\n",
        "df['Attrition'] = df['Attrition'].replace({'No':0, 'Yes':1})\n",
        "\n",
        "# 타겟의 최다 빈도수를 선택합니다.\n",
        "major = df['Attrition'].mode()[0]\n",
        "major\n",
        "\n",
        "# 타겟의 샘플 수만큼 '0'값이 담긴 리스트를 생성합니다. => 기준모델로 예측을 진행합니다. \n",
        "y_pred = [major] * len(df['Attrition'])\n",
        "\n",
        "# 필요한 라이브러리를 생성합니다. \n",
        "from sklearn.metrics import accuracy_score\n",
        "\n",
        "# 베이스라인의 정확도\n",
        "print('baseline accuracy:', accuracy_score(df['Attrition'], y_pred))"
      ],
      "metadata": {
        "id": "0WYsxPL27URT",
        "outputId": "12b225c5-30da-45f7-e554-c8dc9a5076d0",
        "colab": {
          "base_uri": "https://localhost:8080/"
        }
      },
      "execution_count": 7,
      "outputs": [
        {
          "output_type": "stream",
          "name": "stdout",
          "text": [
            "baseline accuracy: 0.8387755102040816\n"
          ]
        }
      ]
    },
    {
      "cell_type": "markdown",
      "source": [
        "#### 데이터를 분리합니다."
      ],
      "metadata": {
        "id": "7NNH-hW_eszi"
      }
    },
    {
      "cell_type": "code",
      "source": [
        "from sklearn.model_selection import train_test_split\n",
        "train, test = train_test_split(df, train_size =0.8, test_size=0.2, stratify = df['Attrition'], random_state = 42)\n",
        "\n",
        "train.shape, test.shape\n",
        "\n",
        "# 타겟 지정.\n",
        "target = 'Attrition'\n",
        "\n",
        "# 훈련데이터 : 타겟 및 피처 지정\n",
        "y_train = train[target]\n",
        "X_train = train.drop(target, axis=1)\n",
        "\n",
        "# 테스트데이터 : 타겟 및 피처 지정\n",
        "y_test = test[target]\n",
        "X_test = test.drop(target, axis=1) \n",
        "\n"
      ],
      "metadata": {
        "id": "g9iLYOiZdhTQ"
      },
      "execution_count": 8,
      "outputs": []
    },
    {
      "cell_type": "code",
      "source": [
        "X_train.columns"
      ],
      "metadata": {
        "id": "nWgS26IranXf",
        "outputId": "4fc3e944-c8b2-4f80-a6e7-b83cbb5f8144",
        "colab": {
          "base_uri": "https://localhost:8080/"
        }
      },
      "execution_count": 9,
      "outputs": [
        {
          "output_type": "execute_result",
          "data": {
            "text/plain": [
              "Index(['Age', 'BusinessTravel', 'DailyRate', 'Department', 'DistanceFromHome',\n",
              "       'Education', 'EducationField', 'EmployeeCount', 'EmployeeNumber',\n",
              "       'EnvironmentSatisfaction', 'Gender', 'HourlyRate', 'JobInvolvement',\n",
              "       'JobLevel', 'JobRole', 'JobSatisfaction', 'MaritalStatus',\n",
              "       'MonthlyIncome', 'MonthlyRate', 'NumCompaniesWorked', 'Over18',\n",
              "       'OverTime', 'PercentSalaryHike', 'PerformanceRating',\n",
              "       'RelationshipSatisfaction', 'StandardHours', 'StockOptionLevel',\n",
              "       'TotalWorkingYears', 'TrainingTimesLastYear', 'WorkLifeBalance',\n",
              "       'YearsAtCompany', 'YearsInCurrentRole', 'YearsSinceLastPromotion',\n",
              "       'YearsWithCurrManager'],\n",
              "      dtype='object')"
            ]
          },
          "metadata": {},
          "execution_count": 9
        }
      ]
    },
    {
      "cell_type": "markdown",
      "metadata": {
        "id": "0ckMrZNkYJlx"
      },
      "source": [
        "## **Part 2. 모델 학습**\n",
        "\n",
        "- 타겟 Label을 `No=0`, `Yes=1`로 변환하세요.\n",
        "  - 훈련/평가 데이터 모두 변환합니다. \n",
        "- 훈련 데이터셋에 대하여 기준모델의 AUC score를 확인하세요.\n",
        "  - 기준모델은 최빈값으로 만듭니다.\n",
        "- `OrdinalEncoder()`를 사용하여 특성을 인코딩하세요. \n",
        "- `RandomForestClassifier()`를 사용하여 랜덤포레스트 모델을 학습하세요. \n",
        "  - `random_state=42`로 설정합니다. \n",
        "  - `n_jobs=-1`, `max_depth=3`으로 설정합니다. \n",
        "- `Cross_val_score()`를 활용해서 학습시킨 랜덤포레스트 모델의 검증 score를 구하세요.\n",
        "  - `cv=10`, `n_jobs=-1`로 설정합니다. \n",
        "  - `scoring`은 `roc_auc`를 사용합니다.\n",
        "  - 검증 score는 평균값으로 구할 수 있습니다."
      ]
    },
    {
      "cell_type": "code",
      "source": [
        "# 파이프라인을 생성하는 함수를 생성하여 봅시다.\n",
        "# 파이프라인을 생성하기 위해 필요한 라이브러리를 가져옵니다. \n",
        "from sklearn.ensemble import RandomForestClassifier\n",
        "from sklearn.pipeline import make_pipeline\n",
        "from category_encoders import OrdinalEncoder\n",
        "\n",
        "# 조건에 충족하는 파이프라인 함수를 생성합니다.\n",
        "def get_pipeline():\n",
        "  return make_pipeline(\n",
        "      OrdinalEncoder(),\n",
        "      RandomForestClassifier(\n",
        "          max_depth =3, n_jobs = -1, random_state =42, class_weight = 'balanced')\n",
        "  )\n",
        "\n",
        "# 파이프라인 생성\n",
        "pipe = get_pipeline()\n",
        "\n",
        "# 파이프라인 fit\n",
        "pipe.fit(X_train, y_train)"
      ],
      "metadata": {
        "id": "5ERiyqjUbKQ2",
        "outputId": "ca5bb95a-fb61-4ae7-9cc5-448945593c08",
        "colab": {
          "base_uri": "https://localhost:8080/"
        }
      },
      "execution_count": 10,
      "outputs": [
        {
          "output_type": "execute_result",
          "data": {
            "text/plain": [
              "Pipeline(steps=[('ordinalencoder',\n",
              "                 OrdinalEncoder(cols=['BusinessTravel', 'Department',\n",
              "                                      'EducationField', 'Gender', 'JobRole',\n",
              "                                      'MaritalStatus', 'Over18', 'OverTime'],\n",
              "                                mapping=[{'col': 'BusinessTravel',\n",
              "                                          'data_type': dtype('O'),\n",
              "                                          'mapping': Travel_Rarely        1\n",
              "Travel_Frequently    2\n",
              "Non-Travel           3\n",
              "NaN                 -2\n",
              "dtype: int64},\n",
              "                                         {'col': 'Department',\n",
              "                                          'data_type': dtype('O'),\n",
              "                                          'mapping': Sales                     1\n",
              "Resear...\n",
              "                                         {'col': 'MaritalStatus',\n",
              "                                          'data_type': dtype('O'),\n",
              "                                          'mapping': Divorced    1\n",
              "Married     2\n",
              "Single      3\n",
              "NaN        -2\n",
              "dtype: int64},\n",
              "                                         {'col': 'Over18',\n",
              "                                          'data_type': dtype('O'),\n",
              "                                          'mapping': Y      1\n",
              "NaN   -2\n",
              "dtype: int64},\n",
              "                                         {'col': 'OverTime',\n",
              "                                          'data_type': dtype('O'),\n",
              "                                          'mapping': No     1\n",
              "Yes    2\n",
              "NaN   -2\n",
              "dtype: int64}])),\n",
              "                ('randomforestclassifier',\n",
              "                 RandomForestClassifier(class_weight='balanced', max_depth=3,\n",
              "                                        n_jobs=-1, random_state=42))])"
            ]
          },
          "metadata": {},
          "execution_count": 10
        }
      ]
    },
    {
      "cell_type": "markdown",
      "source": [
        "#### 성능 평가를 진행합니다."
      ],
      "metadata": {
        "id": "Nyf5hXUx_CnE"
      }
    },
    {
      "cell_type": "code",
      "source": [
        "# 필요한 라이브러리를 가져옵시다.\n",
        "from sklearn.metrics import classification_report\n",
        "from sklearn.metrics import confusion_matrix, ConfusionMatrixDisplay\n",
        "from sklearn.metrics import roc_curve, roc_auc_score\n",
        "\n",
        "# 베이스라인 값 정의.\n",
        "base_target = df[target]\n",
        "base_features = df.drop(target, axis = 1)"
      ],
      "metadata": {
        "id": "UCn9eDJ6C9iW"
      },
      "execution_count": 11,
      "outputs": []
    },
    {
      "cell_type": "markdown",
      "source": [
        "#### 1. classification_report\n",
        "* 1을 예측할 확률이 현저히 적습니다.\n",
        "  * 타겟의 분포에 0의 값이 상당수를 차지하여 이런 결과가 나온 것 같습니다. "
      ],
      "metadata": {
        "id": "fswmwa3TB9Tq"
      }
    },
    {
      "cell_type": "code",
      "source": [
        "# 1. classification_report를 작성하여 봅시다. \n",
        "print(classification_report(base_target, pipe.predict(base_features)))"
      ],
      "metadata": {
        "id": "rG8eM85B_EjC",
        "outputId": "6a1763d4-675c-4647-fb5a-432885d01b35",
        "colab": {
          "base_uri": "https://localhost:8080/"
        }
      },
      "execution_count": 12,
      "outputs": [
        {
          "output_type": "stream",
          "name": "stdout",
          "text": [
            "              precision    recall  f1-score   support\n",
            "\n",
            "           0       0.93      0.85      0.89      1233\n",
            "           1       0.46      0.66      0.55       237\n",
            "\n",
            "    accuracy                           0.82      1470\n",
            "   macro avg       0.70      0.76      0.72      1470\n",
            "weighted avg       0.85      0.82      0.83      1470\n",
            "\n"
          ]
        }
      ]
    },
    {
      "cell_type": "markdown",
      "source": [
        "#### 2. 훈련데이터셋에 대하여 기준모델의 AUC score를 확인하기."
      ],
      "metadata": {
        "id": "KL-i2cpcCfXZ"
      }
    },
    {
      "cell_type": "markdown",
      "source": [
        "2-1. 기준모델 AUC SCORE"
      ],
      "metadata": {
        "id": "tS9A0BVgI2R0"
      }
    },
    {
      "cell_type": "code",
      "source": [
        "# 훈련 데이터셋의 예측값을 생성합니다.\n",
        "# 0일 확률을 불러옵니다. (최다 빈도 값.)\n",
        "baseline_proba = pipe.predict_proba(base_features)[:,0]\n",
        "\n",
        "\n",
        "# 이후 훈련 값 \n",
        "# 기준모델 값은 위에서 정해놓은 y_pred를 사용합니다.\n",
        "print(f'Auc : {roc_auc_score(base_target, baseline_proba)}')"
      ],
      "metadata": {
        "id": "E23IO5B3DIeq",
        "outputId": "4e1a7a2b-7a7d-4d3e-9f92-4d35daaa982d",
        "colab": {
          "base_uri": "https://localhost:8080/"
        }
      },
      "execution_count": 13,
      "outputs": [
        {
          "output_type": "stream",
          "name": "stdout",
          "text": [
            "Auc : 0.16183299625968017\n"
          ]
        }
      ]
    },
    {
      "cell_type": "markdown",
      "source": [
        "2-2. 기준모델 Roc Curve & Confusion matrix 시각화 "
      ],
      "metadata": {
        "id": "rKP7nl8pLaZ3"
      }
    },
    {
      "cell_type": "code",
      "source": [
        "# Roc Curve를 먼저 생성합니다. \n",
        "\n",
        "baseline_fpr, baseline_tpr , _ = roc_curve(base_target, y_pred)\n",
        "fpr, tpr, thresholds = roc_curve(base_target, baseline_proba)\n",
        "\n",
        "plt.plot(baseline_fpr, baseline_tpr, linestyle ='--', color = 'green', label = 'Baseline')\n",
        "plt.plot(fpr, tpr, color ='blue', label='Model')\n",
        "plt.scatter(fpr, tpr, color=\"red\")\n",
        "plt.title(\"ROC curve\")\n",
        "plt.xlabel(\"FPR\")\n",
        "plt.ylabel(\"TPR\")\n",
        "plt.show()\n",
        "\n",
        "# ConfusionMatrix 생성.\n",
        "cm = confusion_matrix(base_target, y_pred, labels= pipe.named_steps['randomforestclassifier'].classes_)\n",
        "\n",
        "# CM 시각화\n",
        "disp = ConfusionMatrixDisplay(confusion_matrix = cm,\n",
        "                              display_labels = pipe.named_steps['randomforestclassifier'].classes_)\n",
        "\n",
        "disp.plot()\n",
        "plt.title(f'Confusion matrix = {len(base_target)}')\n",
        "plt.show()"
      ],
      "metadata": {
        "id": "HUrAEhiRM2hN",
        "outputId": "d4c0718c-9652-4024-f666-3a414edc8014",
        "colab": {
          "base_uri": "https://localhost:8080/",
          "height": 573
        }
      },
      "execution_count": 14,
      "outputs": [
        {
          "output_type": "display_data",
          "data": {
            "text/plain": [
              "<Figure size 432x288 with 1 Axes>"
            ],
            "image/png": "[encoded data removed]"
          },
          "metadata": {
            "needs_background": "light"
          }
        },
        {
          "output_type": "display_data",
          "data": {
            "text/plain": [
              "<Figure size 432x288 with 2 Axes>"
            ],
            "image/png": "[encoded data removed]"
          },
          "metadata": {
            "needs_background": "light"
          }
        }
      ]
    },
    {
      "cell_type": "markdown",
      "source": [
        "2-2.검증 값으로 진행하기. "
      ],
      "metadata": {
        "id": "-Gqw4ImXI7QR"
      }
    },
    {
      "cell_type": "code",
      "source": [
        "# 파이프라인 생성\n",
        "pipe = get_pipeline()\n",
        "\n",
        "# fit\n",
        "pipe.fit(X_train, y_train)\n",
        "\n",
        "# 파이프라인의 '검증정확도'\n",
        "print(f'검증 정확도 : {pipe.score(X_test, y_test)}')"
      ],
      "metadata": {
        "id": "V1iHNh0ECknw",
        "outputId": "bdce8452-986c-421f-ce8a-0ab72cd9323f",
        "colab": {
          "base_uri": "https://localhost:8080/"
        }
      },
      "execution_count": 15,
      "outputs": [
        {
          "output_type": "stream",
          "name": "stdout",
          "text": [
            "검증 정확도 : 0.782312925170068\n"
          ]
        }
      ]
    },
    {
      "cell_type": "markdown",
      "source": [
        "2-3. Classification_Report"
      ],
      "metadata": {
        "id": "_9JWROV1HD6v"
      }
    },
    {
      "cell_type": "code",
      "source": [
        "print(classification_report(y_test, pipe.predict(X_test)))"
      ],
      "metadata": {
        "id": "RNLFp5baHIJT",
        "outputId": "ee7bdad4-5f55-42e0-b5c6-ecfcff63df18",
        "colab": {
          "base_uri": "https://localhost:8080/"
        }
      },
      "execution_count": 16,
      "outputs": [
        {
          "output_type": "stream",
          "name": "stdout",
          "text": [
            "              precision    recall  f1-score   support\n",
            "\n",
            "           0       0.92      0.81      0.86       247\n",
            "           1       0.39      0.64      0.48        47\n",
            "\n",
            "    accuracy                           0.78       294\n",
            "   macro avg       0.66      0.72      0.67       294\n",
            "weighted avg       0.84      0.78      0.80       294\n",
            "\n"
          ]
        }
      ]
    },
    {
      "cell_type": "markdown",
      "source": [
        "2-4. Roc Curve, Confusion Matrix 시각화"
      ],
      "metadata": {
        "id": "70P2lz6ux4Jf"
      }
    },
    {
      "cell_type": "code",
      "source": [
        "# 예측값 설정. \n",
        "pred = pipe.predict(X_test)\n",
        "\n",
        "# CM 생성\n",
        "cm = confusion_matrix(y_test, pred, labels = pipe.named_steps['randomforestclassifier'].classes_)\n",
        "disp = ConfusionMatrixDisplay(confusion_matrix = cm, \n",
        "                              display_labels = pipe.classes_)\n",
        "\n",
        "disp.plot()\n",
        "plt.title(f'Confusion Matrix (n = {len(y_test)})', fontsize=15)\n",
        "plt.show()\n",
        "\n",
        "#1. Roc Curve 생성.\n",
        "y_pred_proba = pipe.predict_proba(X_test)[:, -1]\n",
        "print(f'AUC : {roc_auc_score(y_test, y_pred_proba)}')\n",
        "\n",
        "\n",
        "#1-2. baseline 생성(최대 빈도값은 0 입니다.) \n",
        "baseline_fpr, baseline_tpr, _ = roc_curve(y_test, [0]*len(y_test))\n",
        "fpr, tpr, thresholds = roc_curve(y_test, y_pred_proba)\n",
        "\n",
        "#1-3. 시각화 진행.\n",
        "plt.plot(baseline_fpr, baseline_tpr, linestyle='--', color='green', label = 'Baseline')\n",
        "plt.plot(fpr, tpr, color = 'blue', label = 'Model')\n",
        "plt.scatter(fpr, tpr, color = 'red')\n",
        "plt.title('ROC curve')\n",
        "plt.xlabel('FPR')\n",
        "plt.ylabel('TPR')\n",
        "plt.show()"
      ],
      "metadata": {
        "colab": {
          "base_uri": "https://localhost:8080/",
          "height": 593
        },
        "id": "lNJ7ru9iyC45",
        "outputId": "559fbf42-d51c-4575-da1b-6635950312bc"
      },
      "execution_count": 17,
      "outputs": [
        {
          "output_type": "display_data",
          "data": {
            "text/plain": [
              "<Figure size 432x288 with 2 Axes>"
            ],
            "image/png": "[encoded data removed]"
          },
          "metadata": {
            "needs_background": "light"
          }
        },
        {
          "output_type": "stream",
          "name": "stdout",
          "text": [
            "AUC : 0.7695753294857438\n"
          ]
        },
        {
          "output_type": "display_data",
          "data": {
            "text/plain": [
              "<Figure size 432x288 with 1 Axes>"
            ],
            "image/png": "[encoded data removed]"
          },
          "metadata": {
            "needs_background": "light"
          }
        }
      ]
    },
    {
      "cell_type": "markdown",
      "metadata": {
        "id": "p9ZuncIITGVm"
      },
      "source": [
        "##### **Q1. 랜덤포레스트 모델의 검증 AUC score를 소수점 둘째 자리까지 제출해 주세요.**"
      ]
    },
    {
      "cell_type": "code",
      "execution_count": 18,
      "metadata": {
        "id": "_0Y0MRQOxAZn",
        "colab": {
          "base_uri": "https://localhost:8080/"
        },
        "outputId": "271a7da9-b2ea-4e4c-8c74-85787511a065"
      },
      "outputs": [
        {
          "output_type": "execute_result",
          "data": {
            "text/plain": [
              "0.7695753294857438"
            ]
          },
          "metadata": {},
          "execution_count": 18
        }
      ],
      "source": [
        "## AUC SCORE 생성.\n",
        "score = roc_auc_score(y_test, pipe.predict_proba(X_test)[:,-1])\n",
        "score"
      ]
    },
    {
      "cell_type": "markdown",
      "metadata": {
        "id": "6HXoVQwUYdsd"
      },
      "source": [
        "## **Part 3. 순열중요도**\n",
        "\n",
        "- `PermutationImportance()`를 사용해 `\bpermuter`를 정의하세요.\n",
        "  - 모델은 `randomforestclassifier`로 설정합니다.\n",
        "  - 평가지표는 `roc_auc`로 설정합니다. \n",
        "  - `n_iter=5`로 설정합니다. \n",
        "  - `random_state=42`로 설정합니다.\n",
        "- 평가 데이터셋에 대하여 특성에 Ordinal Encoding을 적용하고, `permuter`로 score를 다시 계산하세요. \n",
        "- eli5 라이브러리의 `.show_weights`를 사용해 특성별 score를 확인하세요.  \n",
        "  - `top=None`으로 설정합니다. \n",
        "- score가 평균보다 큰 특성들만 추출하여 랜덤포레스트 모델을 학습하세요.\n",
        "  - 타겟과 특성(score가 평균보다 큰)을 지정합니다.\n",
        "  - 훈련/평가 데이터셋을 분리합니다. \n",
        "    - 훈련/평가 데이터의 비율은 8:2로 합니다.\n",
        "    - `random_state=42`로 설정합니다. \n",
        "  - 특성은 Ordinal Encoding을 적용합니다. \n",
        "  - `RandomForestClassifier()`를 사용하여 모델을 학습합니다.\n",
        "    - `random_state=42`로 설정합니다. \n",
        "    - `n_jobs=-1`, `max_depth=3`으로 설정합니다. \n",
        "- `Cross_val_score()`를 활용해서 학습시킨 랜덤포레스트 모델의 검증 score를 구하세요.\n",
        "  - `cv=10`, `n_jobs=-1`로 설정합니다. \n",
        "  - `scoring`은 `roc_auc`를 사용합니다.\n",
        "  - 검증 score는 평균값으로 구할 수 있습니다.\n",
        "- 평가 데이터셋에 대하여 모델의 AUC score를 구하세요."
      ]
    },
    {
      "cell_type": "markdown",
      "metadata": {
        "id": "M18T8Tkweair"
      },
      "source": [
        "##### **Q2. 순열중요도 계산 결과 score가 가장 높은 특성의 이름을 제출해 주세요.**"
      ]
    },
    {
      "cell_type": "markdown",
      "source": [
        "`column : overtime` 이 가장 높은 특성입니다."
      ],
      "metadata": {
        "id": "AhxL_dxWEUC5"
      }
    },
    {
      "cell_type": "markdown",
      "metadata": {
        "id": "WaJq1Hzy6Tcr"
      },
      "source": [
        "##### **Q3. 상위 특성으로 학습한 랜덤포레스트 모델의 검증 AUC score를 소수점 둘째 자리까지 제출해 주세요.**"
      ]
    },
    {
      "cell_type": "markdown",
      "metadata": {
        "id": "VMW1hZdMg6nW"
      },
      "source": [
        "##### **Q4. 평가 데이터셋에 대하여 모델의 AUC score를 소수점 둘째 자리까지 제출해 주세요.**"
      ]
    },
    {
      "cell_type": "markdown",
      "source": [
        "#### 3-1. `permuter & Imputer` 생성하기."
      ],
      "metadata": {
        "id": "WZ2ef-A74unA"
      }
    },
    {
      "cell_type": "code",
      "source": [
        "# 먼저, 조건에 충족하는 파이프라인 함수를 생성합니다. \n",
        "\n",
        "def get_pipeline():\n",
        "  return make_pipeline(\n",
        "      OrdinalEncoder(),\n",
        "      RandomForestClassifier(\n",
        "          max_depth = 3,\n",
        "          n_jobs = -1,\n",
        "          random_state = 42,\n",
        "          class_weight = 'balanced'\n",
        "      )\n",
        "  )\n",
        "\n",
        "# 이후 permuter를 정의합니다, 이때 모델은 RandomforestClassifier을 적용합니다. \n",
        "permuter = PermutationImportance(\n",
        "    pipe.named_steps['randomforestclassifier'],\n",
        "    scoring = 'roc_auc',\n",
        "    n_iter = 5, \n",
        "    random_state = 42)\n",
        "\n",
        "# 평가 데이터셋에 대하여 특성에 Ordinal Encoding을 적용하고, permuter 로 score를 계산합니다.\n",
        "# 파이프라인의 'Ordinal_Encoding'에 접근합니다. \n",
        "\n",
        "X_test_preprocessed = pipe[0].transform(X_test)\n",
        "permuter.fit(X_test_preprocessed, y_test)"
      ],
      "metadata": {
        "id": "iCLqLmPAwfjO",
        "colab": {
          "base_uri": "https://localhost:8080/"
        },
        "outputId": "48ff9938-b285-4b66-b072-11f6949abe12"
      },
      "execution_count": 19,
      "outputs": [
        {
          "output_type": "execute_result",
          "data": {
            "text/plain": [
              "PermutationImportance(estimator=RandomForestClassifier(class_weight='balanced',\n",
              "                                                       max_depth=3, n_jobs=-1,\n",
              "                                                       random_state=42),\n",
              "                      random_state=42, scoring='roc_auc')"
            ]
          },
          "metadata": {},
          "execution_count": 19
        }
      ]
    },
    {
      "cell_type": "code",
      "source": [
        "# 이후, eli5 라이브러리를 이용하여 Permutation Importance를 계산합니다. \n",
        "# index 형태는 tolist() 를 사용하여 형태를 list 타입으로 변경할 수 있습니다.\n",
        "feature_names = X_test.columns.tolist()\n",
        "feature_names\n",
        "\n",
        "# 이후 시리즈를 생성하며, 값을 정렬합니다.\n",
        "pi= pd.Series(permuter.feature_importances_, feature_names).sort_values()\n",
        "\n",
        "# matplotlib 시각화 기본 설정 변경(더 크게)\n",
        "plt.rcParams[\"figure.figsize\"] = (14,8)\n",
        "\n",
        "\n",
        "#시각화를 진행합니다.\n",
        "pi.plot.barh()\n",
        "\n",
        "# 제목을 생성합니다.\n",
        "plt.title('Permutation Importance')"
      ],
      "metadata": {
        "id": "2wCw0RFxycvT",
        "outputId": "510cae82-cb00-43cd-ada6-7bd5deb00152",
        "colab": {
          "base_uri": "https://localhost:8080/",
          "height": 517
        }
      },
      "execution_count": 20,
      "outputs": [
        {
          "output_type": "execute_result",
          "data": {
            "text/plain": [
              "Text(0.5, 1.0, 'Permutation Importance')"
            ]
          },
          "metadata": {},
          "execution_count": 20
        },
        {
          "output_type": "display_data",
          "data": {
            "text/plain": [
              "<Figure size 1008x576 with 1 Axes>"
            ],
            "image/png": "[encoded data removed]"
          },
          "metadata": {
            "needs_background": "light"
          }
        }
      ]
    },
    {
      "cell_type": "markdown",
      "source": [
        "평균 값은 다음과 같습니다.\n"
      ],
      "metadata": {
        "id": "S1bIMcqsTGy8"
      }
    },
    {
      "cell_type": "code",
      "source": [
        "mean_score = pi.mean()\n",
        "mean_score"
      ],
      "metadata": {
        "colab": {
          "base_uri": "https://localhost:8080/"
        },
        "id": "JSp0Q20oTBgK",
        "outputId": "437ca330-17f2-4607-d4ed-bdc5c5183c30"
      },
      "execution_count": 21,
      "outputs": [
        {
          "output_type": "execute_result",
          "data": {
            "text/plain": [
              "0.003169954345766204"
            ]
          },
          "metadata": {},
          "execution_count": 21
        }
      ]
    },
    {
      "cell_type": "markdown",
      "source": [
        "#### 3-2. `eli5`를 이용하여 특성별 score를 확인합니다."
      ],
      "metadata": {
        "id": "5Zl97mRuts2u"
      }
    },
    {
      "cell_type": "code",
      "source": [
        "eli5.show_weights(\n",
        "    permuter,\n",
        "    top = None,\n",
        "    feature_names = feature_names)"
      ],
      "metadata": {
        "colab": {
          "base_uri": "https://localhost:8080/",
          "height": 624
        },
        "id": "5ZgNMdP2VHM8",
        "outputId": "7269c565-8b7a-426e-c409-9038fd00ed66"
      },
      "execution_count": 22,
      "outputs": [
        {
          "output_type": "execute_result",
          "data": {
            "text/plain": [
              "<IPython.core.display.HTML object>"
            ],
            "text/html": [
              "\n",
              "    <style>\n",
              "    table.eli5-weights tr:hover {\n",
              "        filter: brightness(85%);\n",
              "    }\n",
              "</style>\n",
              "\n",
              "\n",
              "\n",
              "    \n",
              "\n",
              "    \n",
              "\n",
              "    \n",
              "\n",
              "    \n",
              "\n",
              "    \n",
              "\n",
              "    \n",
              "\n",
              "\n",
              "    \n",
              "\n",
              "    \n",
              "\n",
              "    \n",
              "\n",
              "    \n",
              "\n",
              "    \n",
              "\n",
              "    \n",
              "\n",
              "\n",
              "    \n",
              "\n",
              "    \n",
              "\n",
              "    \n",
              "\n",
              "    \n",
              "\n",
              "    \n",
              "        <table class=\"eli5-weights eli5-feature-importances\" style=\"border-collapse: collapse; border: none; margin-top: 0em; table-layout: auto;\">\n",
              "    <thead>\n",
              "    <tr style=\"border: none;\">\n",
              "        <th style=\"padding: 0 1em 0 0.5em; text-align: right; border: none;\">Weight</th>\n",
              "        <th style=\"padding: 0 0.5em 0 0.5em; text-align: left; border: none;\">Feature</th>\n",
              "    </tr>\n",
              "    </thead>\n",
              "    <tbody>\n",
              "    \n",
              "        <tr style=\"background-color: hsl(120, 100.00%, 80.00%); border: none;\">\n",
              "            <td style=\"padding: 0 1em 0 0.5em; text-align: right; border: none;\">\n",
              "                0.0631\n",
              "                \n",
              "                    &plusmn; 0.0199\n",
              "                \n",
              "            </td>\n",
              "            <td style=\"padding: 0 0.5em 0 0.5em; text-align: left; border: none;\">\n",
              "                OverTime\n",
              "            </td>\n",
              "        </tr>\n",
              "    \n",
              "        <tr style=\"background-color: hsl(120, 100.00%, 85.65%); border: none;\">\n",
              "            <td style=\"padding: 0 1em 0 0.5em; text-align: right; border: none;\">\n",
              "                0.0393\n",
              "                \n",
              "                    &plusmn; 0.0210\n",
              "                \n",
              "            </td>\n",
              "            <td style=\"padding: 0 0.5em 0 0.5em; text-align: left; border: none;\">\n",
              "                StockOptionLevel\n",
              "            </td>\n",
              "        </tr>\n",
              "    \n",
              "        <tr style=\"background-color: hsl(120, 100.00%, 97.10%); border: none;\">\n",
              "            <td style=\"padding: 0 1em 0 0.5em; text-align: right; border: none;\">\n",
              "                0.0040\n",
              "                \n",
              "                    &plusmn; 0.0030\n",
              "                \n",
              "            </td>\n",
              "            <td style=\"padding: 0 0.5em 0 0.5em; text-align: left; border: none;\">\n",
              "                JobInvolvement\n",
              "            </td>\n",
              "        </tr>\n",
              "    \n",
              "        <tr style=\"background-color: hsl(120, 100.00%, 97.61%); border: none;\">\n",
              "            <td style=\"padding: 0 1em 0 0.5em; text-align: right; border: none;\">\n",
              "                0.0030\n",
              "                \n",
              "                    &plusmn; 0.0084\n",
              "                \n",
              "            </td>\n",
              "            <td style=\"padding: 0 0.5em 0 0.5em; text-align: left; border: none;\">\n",
              "                MaritalStatus\n",
              "            </td>\n",
              "        </tr>\n",
              "    \n",
              "        <tr style=\"background-color: hsl(120, 100.00%, 97.75%); border: none;\">\n",
              "            <td style=\"padding: 0 1em 0 0.5em; text-align: right; border: none;\">\n",
              "                0.0028\n",
              "                \n",
              "                    &plusmn; 0.0030\n",
              "                \n",
              "            </td>\n",
              "            <td style=\"padding: 0 0.5em 0 0.5em; text-align: left; border: none;\">\n",
              "                EmployeeNumber\n",
              "            </td>\n",
              "        </tr>\n",
              "    \n",
              "        <tr style=\"background-color: hsl(120, 100.00%, 97.78%); border: none;\">\n",
              "            <td style=\"padding: 0 1em 0 0.5em; text-align: right; border: none;\">\n",
              "                0.0027\n",
              "                \n",
              "                    &plusmn; 0.0134\n",
              "                \n",
              "            </td>\n",
              "            <td style=\"padding: 0 0.5em 0 0.5em; text-align: left; border: none;\">\n",
              "                Age\n",
              "            </td>\n",
              "        </tr>\n",
              "    \n",
              "        <tr style=\"background-color: hsl(120, 100.00%, 97.88%); border: none;\">\n",
              "            <td style=\"padding: 0 1em 0 0.5em; text-align: right; border: none;\">\n",
              "                0.0025\n",
              "                \n",
              "                    &plusmn; 0.0076\n",
              "                \n",
              "            </td>\n",
              "            <td style=\"padding: 0 0.5em 0 0.5em; text-align: left; border: none;\">\n",
              "                EnvironmentSatisfaction\n",
              "            </td>\n",
              "        </tr>\n",
              "    \n",
              "        <tr style=\"background-color: hsl(120, 100.00%, 97.96%); border: none;\">\n",
              "            <td style=\"padding: 0 1em 0 0.5em; text-align: right; border: none;\">\n",
              "                0.0024\n",
              "                \n",
              "                    &plusmn; 0.0054\n",
              "                \n",
              "            </td>\n",
              "            <td style=\"padding: 0 0.5em 0 0.5em; text-align: left; border: none;\">\n",
              "                Department\n",
              "            </td>\n",
              "        </tr>\n",
              "    \n",
              "        <tr style=\"background-color: hsl(120, 100.00%, 98.26%); border: none;\">\n",
              "            <td style=\"padding: 0 1em 0 0.5em; text-align: right; border: none;\">\n",
              "                0.0019\n",
              "                \n",
              "                    &plusmn; 0.0054\n",
              "                \n",
              "            </td>\n",
              "            <td style=\"padding: 0 0.5em 0 0.5em; text-align: left; border: none;\">\n",
              "                DistanceFromHome\n",
              "            </td>\n",
              "        </tr>\n",
              "    \n",
              "        <tr style=\"background-color: hsl(120, 100.00%, 98.38%); border: none;\">\n",
              "            <td style=\"padding: 0 1em 0 0.5em; text-align: right; border: none;\">\n",
              "                0.0017\n",
              "                \n",
              "                    &plusmn; 0.0015\n",
              "                \n",
              "            </td>\n",
              "            <td style=\"padding: 0 0.5em 0 0.5em; text-align: left; border: none;\">\n",
              "                JobSatisfaction\n",
              "            </td>\n",
              "        </tr>\n",
              "    \n",
              "        <tr style=\"background-color: hsl(120, 100.00%, 99.08%); border: none;\">\n",
              "            <td style=\"padding: 0 1em 0 0.5em; text-align: right; border: none;\">\n",
              "                0.0008\n",
              "                \n",
              "                    &plusmn; 0.0009\n",
              "                \n",
              "            </td>\n",
              "            <td style=\"padding: 0 0.5em 0 0.5em; text-align: left; border: none;\">\n",
              "                YearsSinceLastPromotion\n",
              "            </td>\n",
              "        </tr>\n",
              "    \n",
              "        <tr style=\"background-color: hsl(120, 100.00%, 99.26%); border: none;\">\n",
              "            <td style=\"padding: 0 1em 0 0.5em; text-align: right; border: none;\">\n",
              "                0.0006\n",
              "                \n",
              "                    &plusmn; 0.0095\n",
              "                \n",
              "            </td>\n",
              "            <td style=\"padding: 0 0.5em 0 0.5em; text-align: left; border: none;\">\n",
              "                JobLevel\n",
              "            </td>\n",
              "        </tr>\n",
              "    \n",
              "        <tr style=\"background-color: hsl(120, 100.00%, 99.44%); border: none;\">\n",
              "            <td style=\"padding: 0 1em 0 0.5em; text-align: right; border: none;\">\n",
              "                0.0004\n",
              "                \n",
              "                    &plusmn; 0.0019\n",
              "                \n",
              "            </td>\n",
              "            <td style=\"padding: 0 0.5em 0 0.5em; text-align: left; border: none;\">\n",
              "                BusinessTravel\n",
              "            </td>\n",
              "        </tr>\n",
              "    \n",
              "        <tr style=\"background-color: hsl(120, 100.00%, 99.53%); border: none;\">\n",
              "            <td style=\"padding: 0 1em 0 0.5em; text-align: right; border: none;\">\n",
              "                0.0003\n",
              "                \n",
              "                    &plusmn; 0.0008\n",
              "                \n",
              "            </td>\n",
              "            <td style=\"padding: 0 0.5em 0 0.5em; text-align: left; border: none;\">\n",
              "                Education\n",
              "            </td>\n",
              "        </tr>\n",
              "    \n",
              "        <tr style=\"background-color: hsl(120, 100.00%, 99.64%); border: none;\">\n",
              "            <td style=\"padding: 0 1em 0 0.5em; text-align: right; border: none;\">\n",
              "                0.0002\n",
              "                \n",
              "                    &plusmn; 0.0016\n",
              "                \n",
              "            </td>\n",
              "            <td style=\"padding: 0 0.5em 0 0.5em; text-align: left; border: none;\">\n",
              "                EducationField\n",
              "            </td>\n",
              "        </tr>\n",
              "    \n",
              "        <tr style=\"background-color: hsl(120, 100.00%, 99.66%); border: none;\">\n",
              "            <td style=\"padding: 0 1em 0 0.5em; text-align: right; border: none;\">\n",
              "                0.0002\n",
              "                \n",
              "                    &plusmn; 0.0006\n",
              "                \n",
              "            </td>\n",
              "            <td style=\"padding: 0 0.5em 0 0.5em; text-align: left; border: none;\">\n",
              "                TrainingTimesLastYear\n",
              "            </td>\n",
              "        </tr>\n",
              "    \n",
              "        <tr style=\"background-color: hsl(120, 100.00%, 99.80%); border: none;\">\n",
              "            <td style=\"padding: 0 1em 0 0.5em; text-align: right; border: none;\">\n",
              "                0.0001\n",
              "                \n",
              "                    &plusmn; 0.0004\n",
              "                \n",
              "            </td>\n",
              "            <td style=\"padding: 0 0.5em 0 0.5em; text-align: left; border: none;\">\n",
              "                PerformanceRating\n",
              "            </td>\n",
              "        </tr>\n",
              "    \n",
              "        <tr style=\"background-color: hsl(120, 100.00%, 99.83%); border: none;\">\n",
              "            <td style=\"padding: 0 1em 0 0.5em; text-align: right; border: none;\">\n",
              "                0.0001\n",
              "                \n",
              "                    &plusmn; 0.0007\n",
              "                \n",
              "            </td>\n",
              "            <td style=\"padding: 0 0.5em 0 0.5em; text-align: left; border: none;\">\n",
              "                PercentSalaryHike\n",
              "            </td>\n",
              "        </tr>\n",
              "    \n",
              "        <tr style=\"background-color: hsl(0, 100.00%, 100.00%); border: none;\">\n",
              "            <td style=\"padding: 0 1em 0 0.5em; text-align: right; border: none;\">\n",
              "                0\n",
              "                \n",
              "                    &plusmn; 0.0000\n",
              "                \n",
              "            </td>\n",
              "            <td style=\"padding: 0 0.5em 0 0.5em; text-align: left; border: none;\">\n",
              "                Over18\n",
              "            </td>\n",
              "        </tr>\n",
              "    \n",
              "        <tr style=\"background-color: hsl(0, 100.00%, 100.00%); border: none;\">\n",
              "            <td style=\"padding: 0 1em 0 0.5em; text-align: right; border: none;\">\n",
              "                0\n",
              "                \n",
              "                    &plusmn; 0.0000\n",
              "                \n",
              "            </td>\n",
              "            <td style=\"padding: 0 0.5em 0 0.5em; text-align: left; border: none;\">\n",
              "                StandardHours\n",
              "            </td>\n",
              "        </tr>\n",
              "    \n",
              "        <tr style=\"background-color: hsl(0, 100.00%, 100.00%); border: none;\">\n",
              "            <td style=\"padding: 0 1em 0 0.5em; text-align: right; border: none;\">\n",
              "                0\n",
              "                \n",
              "                    &plusmn; 0.0000\n",
              "                \n",
              "            </td>\n",
              "            <td style=\"padding: 0 0.5em 0 0.5em; text-align: left; border: none;\">\n",
              "                EmployeeCount\n",
              "            </td>\n",
              "        </tr>\n",
              "    \n",
              "        <tr style=\"background-color: hsl(0, 100.00%, 99.59%); border: none;\">\n",
              "            <td style=\"padding: 0 1em 0 0.5em; text-align: right; border: none;\">\n",
              "                -0.0002\n",
              "                \n",
              "                    &plusmn; 0.0182\n",
              "                \n",
              "            </td>\n",
              "            <td style=\"padding: 0 0.5em 0 0.5em; text-align: left; border: none;\">\n",
              "                MonthlyIncome\n",
              "            </td>\n",
              "        </tr>\n",
              "    \n",
              "        <tr style=\"background-color: hsl(0, 100.00%, 99.53%); border: none;\">\n",
              "            <td style=\"padding: 0 1em 0 0.5em; text-align: right; border: none;\">\n",
              "                -0.0003\n",
              "                \n",
              "                    &plusmn; 0.0016\n",
              "                \n",
              "            </td>\n",
              "            <td style=\"padding: 0 0.5em 0 0.5em; text-align: left; border: none;\">\n",
              "                RelationshipSatisfaction\n",
              "            </td>\n",
              "        </tr>\n",
              "    \n",
              "        <tr style=\"background-color: hsl(0, 100.00%, 99.52%); border: none;\">\n",
              "            <td style=\"padding: 0 1em 0 0.5em; text-align: right; border: none;\">\n",
              "                -0.0003\n",
              "                \n",
              "                    &plusmn; 0.0039\n",
              "                \n",
              "            </td>\n",
              "            <td style=\"padding: 0 0.5em 0 0.5em; text-align: left; border: none;\">\n",
              "                JobRole\n",
              "            </td>\n",
              "        </tr>\n",
              "    \n",
              "        <tr style=\"background-color: hsl(0, 100.00%, 99.36%); border: none;\">\n",
              "            <td style=\"padding: 0 1em 0 0.5em; text-align: right; border: none;\">\n",
              "                -0.0005\n",
              "                \n",
              "                    &plusmn; 0.0004\n",
              "                \n",
              "            </td>\n",
              "            <td style=\"padding: 0 0.5em 0 0.5em; text-align: left; border: none;\">\n",
              "                Gender\n",
              "            </td>\n",
              "        </tr>\n",
              "    \n",
              "        <tr style=\"background-color: hsl(0, 100.00%, 99.23%); border: none;\">\n",
              "            <td style=\"padding: 0 1em 0 0.5em; text-align: right; border: none;\">\n",
              "                -0.0006\n",
              "                \n",
              "                    &plusmn; 0.0011\n",
              "                \n",
              "            </td>\n",
              "            <td style=\"padding: 0 0.5em 0 0.5em; text-align: left; border: none;\">\n",
              "                WorkLifeBalance\n",
              "            </td>\n",
              "        </tr>\n",
              "    \n",
              "        <tr style=\"background-color: hsl(0, 100.00%, 99.18%); border: none;\">\n",
              "            <td style=\"padding: 0 1em 0 0.5em; text-align: right; border: none;\">\n",
              "                -0.0007\n",
              "                \n",
              "                    &plusmn; 0.0025\n",
              "                \n",
              "            </td>\n",
              "            <td style=\"padding: 0 0.5em 0 0.5em; text-align: left; border: none;\">\n",
              "                NumCompaniesWorked\n",
              "            </td>\n",
              "        </tr>\n",
              "    \n",
              "        <tr style=\"background-color: hsl(0, 100.00%, 99.08%); border: none;\">\n",
              "            <td style=\"padding: 0 1em 0 0.5em; text-align: right; border: none;\">\n",
              "                -0.0008\n",
              "                \n",
              "                    &plusmn; 0.0031\n",
              "                \n",
              "            </td>\n",
              "            <td style=\"padding: 0 0.5em 0 0.5em; text-align: left; border: none;\">\n",
              "                YearsInCurrentRole\n",
              "            </td>\n",
              "        </tr>\n",
              "    \n",
              "        <tr style=\"background-color: hsl(0, 100.00%, 98.88%); border: none;\">\n",
              "            <td style=\"padding: 0 1em 0 0.5em; text-align: right; border: none;\">\n",
              "                -0.0010\n",
              "                \n",
              "                    &plusmn; 0.0157\n",
              "                \n",
              "            </td>\n",
              "            <td style=\"padding: 0 0.5em 0 0.5em; text-align: left; border: none;\">\n",
              "                YearsAtCompany\n",
              "            </td>\n",
              "        </tr>\n",
              "    \n",
              "        <tr style=\"background-color: hsl(0, 100.00%, 98.85%); border: none;\">\n",
              "            <td style=\"padding: 0 1em 0 0.5em; text-align: right; border: none;\">\n",
              "                -0.0011\n",
              "                \n",
              "                    &plusmn; 0.0012\n",
              "                \n",
              "            </td>\n",
              "            <td style=\"padding: 0 0.5em 0 0.5em; text-align: left; border: none;\">\n",
              "                MonthlyRate\n",
              "            </td>\n",
              "        </tr>\n",
              "    \n",
              "        <tr style=\"background-color: hsl(0, 100.00%, 98.82%); border: none;\">\n",
              "            <td style=\"padding: 0 1em 0 0.5em; text-align: right; border: none;\">\n",
              "                -0.0011\n",
              "                \n",
              "                    &plusmn; 0.0047\n",
              "                \n",
              "            </td>\n",
              "            <td style=\"padding: 0 0.5em 0 0.5em; text-align: left; border: none;\">\n",
              "                DailyRate\n",
              "            </td>\n",
              "        </tr>\n",
              "    \n",
              "        <tr style=\"background-color: hsl(0, 100.00%, 98.59%); border: none;\">\n",
              "            <td style=\"padding: 0 1em 0 0.5em; text-align: right; border: none;\">\n",
              "                -0.0014\n",
              "                \n",
              "                    &plusmn; 0.0009\n",
              "                \n",
              "            </td>\n",
              "            <td style=\"padding: 0 0.5em 0 0.5em; text-align: left; border: none;\">\n",
              "                HourlyRate\n",
              "            </td>\n",
              "        </tr>\n",
              "    \n",
              "        <tr style=\"background-color: hsl(0, 100.00%, 97.79%); border: none;\">\n",
              "            <td style=\"padding: 0 1em 0 0.5em; text-align: right; border: none;\">\n",
              "                -0.0027\n",
              "                \n",
              "                    &plusmn; 0.0041\n",
              "                \n",
              "            </td>\n",
              "            <td style=\"padding: 0 0.5em 0 0.5em; text-align: left; border: none;\">\n",
              "                YearsWithCurrManager\n",
              "            </td>\n",
              "        </tr>\n",
              "    \n",
              "        <tr style=\"background-color: hsl(0, 100.00%, 95.43%); border: none;\">\n",
              "            <td style=\"padding: 0 1em 0 0.5em; text-align: right; border: none;\">\n",
              "                -0.0076\n",
              "                \n",
              "                    &plusmn; 0.0064\n",
              "                \n",
              "            </td>\n",
              "            <td style=\"padding: 0 0.5em 0 0.5em; text-align: left; border: none;\">\n",
              "                TotalWorkingYears\n",
              "            </td>\n",
              "        </tr>\n",
              "    \n",
              "    \n",
              "    </tbody>\n",
              "</table>\n",
              "    \n",
              "\n",
              "    \n",
              "\n",
              "\n",
              "    \n",
              "\n",
              "    \n",
              "\n",
              "    \n",
              "\n",
              "    \n",
              "\n",
              "    \n",
              "\n",
              "    \n",
              "\n",
              "\n",
              "\n"
            ]
          },
          "metadata": {},
          "execution_count": 22
        }
      ]
    },
    {
      "cell_type": "markdown",
      "source": [
        "#### score 가 평균보다 큰 특성으로 다시 데이터를 추출합니다.\n",
        "* 이후 데이터를 훈련 & 테스트셋으로 다시 분리합니다."
      ],
      "metadata": {
        "id": "ZCW-0778chvF"
      }
    },
    {
      "cell_type": "markdown",
      "metadata": {
        "id": "rbNfwOQBoqWH"
      },
      "source": [
        "# 🥇 **도전 과제**"
      ]
    },
    {
      "cell_type": "markdown",
      "metadata": {
        "id": "ffDpdhzI2ZNg"
      },
      "source": [
        "## **Part 4. 프로젝트 준비**\n",
        "\n",
        "> 다음주부터 프로젝트가 진행됩니다. <br>\n",
        "> 관심있는 프로젝트 주제와 데이터를 살펴보시고, 데이터가 정해졌다면 해당 데이터로 도전과제를 진행해보세요.\n",
        "\n",
        "- 프로젝트에 사용할 데이터셋을 불러오세요.\n",
        "- 모든 특성에 대하여 모델을 학습하고, 평가지표를 구하세요. \n",
        "  - 타겟과 문제에 적합한 모델을 사용합니다. \n",
        "- 순열중요도를 계산하세요.\n",
        "- 순열중요도의 상위 특성만 사용하여 모델을 학습하고, 평가지표를 구하세요. \n",
        "- 모든 특성에 대하여 모델을 학습했을 때와 상위 특성만 사용하여 모델을 학습했을 때의 평가지표를 비교해 보세요. "
      ]
    },
    {
      "cell_type": "code",
      "execution_count": null,
      "metadata": {
        "id": "fHaw9K5L3kcu"
      },
      "outputs": [],
      "source": []
    }
  ],
  "metadata": {
    "colab": {
      "provenance": [],
      "include_colab_link": true
    },
    "kernelspec": {
      "display_name": "Python 3",
      "name": "python3"
    },
    "language_info": {
      "name": "python"
    }
  },
  "nbformat": 4,
  "nbformat_minor": 0
}