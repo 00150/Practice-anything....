{
  "nbformat": 4,
  "nbformat_minor": 0,
  "metadata": {
    "colab": {
      "provenance": [],
      "authorship_tag": "ABX9TyO5xQzn5uTrStsyyNJ2Uwkh",
      "include_colab_link": true
    },
    "kernelspec": {
      "name": "python3",
      "display_name": "Python 3"
    },
    "language_info": {
      "name": "python"
    }
  },
  "cells": [
    {
      "cell_type": "markdown",
      "metadata": {
        "id": "view-in-github",
        "colab_type": "text"
      },
      "source": [
        "<a href=\"https://colab.research.google.com/github/00150/Practice-anything..../blob/main/Untitled186.ipynb\" target=\"_parent\"><img src=\"https://colab.research.google.com/assets/colab-badge.svg\" alt=\"Open In Colab\"/></a>"
      ]
    },
    {
      "cell_type": "markdown",
      "source": [
        "## 01. Multi-class Classification\n",
        "* 지금까지 해결한 분류 문제들은 타겟이 0/1 의 2개의 class로 구성된 문제들이었습니다.\n",
        "* 하지만 기존에 배운 분류 모델들을 사용해 다중 class를 타겟으로 갖는 분류 문제도 해결할 수 있다\n",
        "* 간단한 예시를 통해 Logistic Regression / Tree-based 모델을 사용하여 다중 분류 문제를 해결하여 봅시다."
      ],
      "metadata": {
        "id": "ZovKCGBmhKHc"
      }
    },
    {
      "cell_type": "markdown",
      "source": [
        "#### 1-1. 가상의 데이터를 생성합니다.\n",
        "make_classification함수는 설정에 따른 분류용 가상 데이터를 생성합니다. <br/>\n",
        "\n",
        "인수:<br/>\n",
        "\n",
        "n_samples : 표본 데이터의 수, 디폴트 100<br/>\n",
        "\n",
        "n_features : 독립 변수의 수, 디폴트 20<br/>\n",
        "\n",
        "n_informative : 독립 변수 중 종속 변수와 상관 관계가 있는 성분의 수, 디폴트 2<br/>\n",
        "\n",
        "n_redundant : 독립 변수 중 다른 독립 변수의 선형 조합으로 나타나는 성분의 수, 디폴트 2<br/>\n",
        "\n",
        "n_repeated : 독립 변수 중 단순 중복된 성분의 수, 디폴트 0<br/>\n",
        "\n",
        "n_classes : 종속 변수의 클래스 수, 디폴트 2<br/>\n",
        "\n",
        "n_clusters_per_class : 클래스 당 클러스터의 수, 디폴트 2<br/>\n",
        "\n",
        "weights : 각 클래스에 할당된 표본 수<br/>\n",
        "\n",
        "random_state : 난수 발생 시드<br/>\n",
        "\n",
        "-----반환값<br/>\n",
        "\n",
        "X : [n_samples, n_features] 크기의 배열<br/>\n",
        "\n",
        "독립 변수<br/>\n",
        "\n",
        "y : [n_samples] 크기의 배열<br/>\n",
        "\n",
        "종속 변수<br/>"
      ],
      "metadata": {
        "id": "fEmmyWfGib1A"
      }
    },
    {
      "cell_type": "code",
      "source": [
        "from sklearn.datasets import make_classification\n",
        "from sklearn.model_selection import train_test_split\n",
        "\n",
        "# 실습에 사용될 가상 데이터 생성\n",
        "X,y = make_classification(\n",
        "    n_samples = 1250,\n",
        "    n_features = 20,\n",
        "    n_informative = 12,\n",
        "    n_classes = 4,\n",
        "    n_clusters_per_class = 3,\n",
        "    random_state = 42\n",
        ")\n",
        "\n",
        "X_train, X_val, y_train, y_val = train_test_split(\n",
        "    X, y, stratify = y, train_size = 0.8, random_state = 42 \n",
        ")\n"
      ],
      "metadata": {
        "id": "iO6es_-Xhslw"
      },
      "execution_count": 1,
      "outputs": []
    },
    {
      "cell_type": "code",
      "source": [
        "print('Train :', X_train.shape, y_train.shape)\n",
        "print('Val:', X_val.shape, y_val.shape)"
      ],
      "metadata": {
        "colab": {
          "base_uri": "https://localhost:8080/"
        },
        "id": "voQZehuCjusR",
        "outputId": "a55f2559-eb30-4b37-ba02-31ab6ea87363"
      },
      "execution_count": 2,
      "outputs": [
        {
          "output_type": "stream",
          "name": "stdout",
          "text": [
            "Train : (1000, 20) (1000,)\n",
            "Val: (250, 20) (250,)\n"
          ]
        }
      ]
    },
    {
      "cell_type": "markdown",
      "source": [
        "만들어진 데이터의 타겟값을 한 번 살펴보도록 합니다.\n",
        "> 타겟 값은 총 4개가 존재하며, 값은 각각 0,1,2,3의 값을 갖는 class 입니다.\n",
        "\n",
        "* 4-class를 타겟으로 갖는 분류 문제를 해결하여 봅시다."
      ],
      "metadata": {
        "id": "DK2Z2RIaj83d"
      }
    },
    {
      "cell_type": "code",
      "source": [
        "import numpy as np\n",
        "print(np.unique(y))"
      ],
      "metadata": {
        "colab": {
          "base_uri": "https://localhost:8080/"
        },
        "id": "PdQzj5B9kSAY",
        "outputId": "83fb8ad5-7920-4d71-d94b-dd0ffa016495"
      },
      "execution_count": 5,
      "outputs": [
        {
          "output_type": "stream",
          "name": "stdout",
          "text": [
            "[0 1 2 3]\n"
          ]
        }
      ]
    },
    {
      "cell_type": "markdown",
      "source": [
        "## 02. LOgistic Regression\n",
        ">`Logistic Regresssion`에서는 다중 분류 문제를 해결하기 위한 옵션 파라미터(`multi_class`)에서 두 가지 선택지(over`, `multinomial`)가 존재한다.\n"
      ],
      "metadata": {
        "id": "o_WkqsTfkkEW"
      }
    },
    {
      "cell_type": "code",
      "source": [
        "import numpy as np\n",
        "\n",
        "def softmax(x):\n",
        "  return np.exp(x) / np.exp(x).sum()\n",
        "\n",
        "\n",
        "print(softmax(np.array([1.2, 0.8, -1.8, -0.3])))"
      ],
      "metadata": {
        "colab": {
          "base_uri": "https://localhost:8080/"
        },
        "id": "vILz55Bepz2P",
        "outputId": "a1540995-04ba-420c-d1d8-84a29e1fb023"
      },
      "execution_count": 6,
      "outputs": [
        {
          "output_type": "stream",
          "name": "stdout",
          "text": [
            "[0.5146052  0.34495018 0.02562068 0.11482394]\n"
          ]
        }
      ]
    },
    {
      "cell_type": "code",
      "source": [
        "from sklearn.linear_model import LogisticRegression\n",
        "\n",
        "\n",
        "# multi_class 파리미터 : ovr 사용\n",
        "lr_ovr = LogisticRegression(multi_class ='ovr', random_state = 42).fit(X_train, y_train)\n",
        "\n",
        "# multi_class 파라미터 : multinomal\n",
        "lr_multinomial = LogisticRegression(multi_class ='multinomial', random_state = 42).fit(X_train, y_train)"
      ],
      "metadata": {
        "id": "-gQlBOPJqDwY"
      },
      "execution_count": 7,
      "outputs": []
    },
    {
      "cell_type": "markdown",
      "source": [
        "각각 다른 파라미터를 이용하는 다중클래스 모델객체를 생성하였습니다.\n",
        "* 두 모델이 모든 클래스의 개수만큼 사용하는지 확인하여 봅시다."
      ],
      "metadata": {
        "id": "QyNraz1MrIcK"
      }
    },
    {
      "cell_type": "code",
      "source": [
        "print(lr_ovr.coef_.shape, lr_multinomial.coef_.shape)"
      ],
      "metadata": {
        "colab": {
          "base_uri": "https://localhost:8080/"
        },
        "id": "r9wU0Bf4rY_p",
        "outputId": "778280ac-c71e-474e-e8aa-929fcd914fab"
      },
      "execution_count": 10,
      "outputs": [
        {
          "output_type": "stream",
          "name": "stdout",
          "text": [
            "(4, 20) (4, 20)\n"
          ]
        }
      ]
    },
    {
      "cell_type": "code",
      "source": [
        "lr_ovr.coef_"
      ],
      "metadata": {
        "colab": {
          "base_uri": "https://localhost:8080/"
        },
        "id": "EYaaEBwIrgN9",
        "outputId": "2315d7e9-1cf0-458f-8958-7b2b0a7b66e1"
      },
      "execution_count": 11,
      "outputs": [
        {
          "output_type": "execute_result",
          "data": {
            "text/plain": [
              "array([[ 0.08591648,  0.18707424, -0.11815621,  0.07177869,  0.10020405,\n",
              "        -0.2033501 , -0.0050303 ,  0.09784882,  0.13927213,  0.08173185,\n",
              "        -0.03792976,  0.1007086 , -0.0291365 ,  0.00818478, -0.16920842,\n",
              "         0.12505175, -0.06675306, -0.11396835,  0.09085633, -0.31926943],\n",
              "       [ 0.05266679, -0.01075334, -0.07006284,  0.04941139,  0.00481986,\n",
              "         0.50002653,  0.00875257,  0.00174579, -0.05986479,  0.04890623,\n",
              "        -0.03971965, -0.10647903,  0.04823214,  0.06445939, -0.04639489,\n",
              "        -0.07270897, -0.04285807,  0.07713072, -0.06064155,  0.11956982],\n",
              "       [-0.00136666, -0.00271298,  0.08944067,  0.1262006 ,  0.02990717,\n",
              "        -0.1722642 , -0.02827158, -0.23375041, -0.09125576,  0.00287151,\n",
              "         0.01943848,  0.19399325, -0.00303981, -0.18849789,  0.32596073,\n",
              "        -0.13111696,  0.09721349,  0.14176509,  0.01223339,  0.1234601 ],\n",
              "       [-0.06481455, -0.18268911,  0.11952584, -0.2268542 , -0.07631495,\n",
              "        -0.11991174,  0.00605676,  0.13472343, -0.01210324, -0.15443446,\n",
              "         0.05098942, -0.13818462, -0.03550808,  0.07090201, -0.04487235,\n",
              "         0.03128097, -0.05407796, -0.12830045, -0.03515002,  0.02939965]])"
            ]
          },
          "metadata": {},
          "execution_count": 11
        }
      ]
    }
  ]
}