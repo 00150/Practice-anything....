{
  "nbformat": 4,
  "nbformat_minor": 0,
  "metadata": {
    "colab": {
      "provenance": [],
      "authorship_tag": "ABX9TyO51w236R0iGyMu5hwh4r5i",
      "include_colab_link": true
    },
    "kernelspec": {
      "name": "python3",
      "display_name": "Python 3"
    },
    "language_info": {
      "name": "python"
    }
  },
  "cells": [
    {
      "cell_type": "markdown",
      "metadata": {
        "id": "view-in-github",
        "colab_type": "text"
      },
      "source": [
        "<a href=\"https://colab.research.google.com/github/00150/Practice-anything..../blob/main/Untitled186.ipynb\" target=\"_parent\"><img src=\"https://colab.research.google.com/assets/colab-badge.svg\" alt=\"Open In Colab\"/></a>"
      ]
    },
    {
      "cell_type": "markdown",
      "source": [
        "## 01. Multi-class Classification\n",
        "* 지금까지 해결한 분류 문제들은 타겟이 0/1 의 2개의 class로 구성된 문제들이었습니다.\n",
        "* 하지만 기존에 배운 분류 모델들을 사용해 다중 class를 타겟으로 갖는 분류 문제도 해결할 수 있다\n",
        "* 간단한 예시를 통해 Logistic Regression / Tree-based 모델을 사용하여 다중 분류 문제를 해결하여 봅시다."
      ],
      "metadata": {
        "id": "ZovKCGBmhKHc"
      }
    },
    {
      "cell_type": "markdown",
      "source": [
        "#### 1-1. 가상의 데이터를 생성합니다.\n",
        "make_classification함수는 설정에 따른 분류용 가상 데이터를 생성합니다. <br/>\n",
        "\n",
        "인수:<br/>\n",
        "\n",
        "n_samples : 표본 데이터의 수, 디폴트 100<br/>\n",
        "\n",
        "n_features : 독립 변수의 수, 디폴트 20<br/>\n",
        "\n",
        "n_informative : 독립 변수 중 종속 변수와 상관 관계가 있는 성분의 수, 디폴트 2<br/>\n",
        "\n",
        "n_redundant : 독립 변수 중 다른 독립 변수의 선형 조합으로 나타나는 성분의 수, 디폴트 2<br/>\n",
        "\n",
        "n_repeated : 독립 변수 중 단순 중복된 성분의 수, 디폴트 0<br/>\n",
        "\n",
        "n_classes : 종속 변수의 클래스 수, 디폴트 2<br/>\n",
        "\n",
        "n_clusters_per_class : 클래스 당 클러스터의 수, 디폴트 2<br/>\n",
        "\n",
        "weights : 각 클래스에 할당된 표본 수<br/>\n",
        "\n",
        "random_state : 난수 발생 시드<br/>\n",
        "\n",
        "-----반환값<br/>\n",
        "\n",
        "X : [n_samples, n_features] 크기의 배열<br/>\n",
        "\n",
        "독립 변수<br/>\n",
        "\n",
        "y : [n_samples] 크기의 배열<br/>\n",
        "\n",
        "종속 변수<br/>"
      ],
      "metadata": {
        "id": "fEmmyWfGib1A"
      }
    },
    {
      "cell_type": "code",
      "source": [
        "from sklearn.datasets import make_classification\n",
        "from sklearn.model_selection import train_test_split\n",
        "\n",
        "# 실습에 사용될 가상 데이터 생성\n",
        "X,y = make_classification(\n",
        "    n_samples = 1250,\n",
        "    n_features = 20,\n",
        "    n_informative = 12,\n",
        "    n_classes = 4,\n",
        "    n_clusters_per_class = 3,\n",
        "    random_state = 42\n",
        ")\n",
        "\n",
        "X_train, X_val, y_train, y_val = train_test_split(\n",
        "    X, y, stratify = y, train_size = 0.8, random_state = 42 \n",
        ")\n"
      ],
      "metadata": {
        "id": "iO6es_-Xhslw"
      },
      "execution_count": 1,
      "outputs": []
    },
    {
      "cell_type": "code",
      "source": [
        "print('Train :', X_train.shape, y_train.shape)\n",
        "print('Val:', X_val.shape, y_val.shape)"
      ],
      "metadata": {
        "colab": {
          "base_uri": "https://localhost:8080/"
        },
        "id": "voQZehuCjusR",
        "outputId": "a55f2559-eb30-4b37-ba02-31ab6ea87363"
      },
      "execution_count": 2,
      "outputs": [
        {
          "output_type": "stream",
          "name": "stdout",
          "text": [
            "Train : (1000, 20) (1000,)\n",
            "Val: (250, 20) (250,)\n"
          ]
        }
      ]
    },
    {
      "cell_type": "markdown",
      "source": [
        "만들어진 데이터의 타겟값을 한 번 살펴보도록 합니다.\n",
        "> 타겟 값은 총 4개가 존재하며, 값은 각각 0,1,2,3의 값을 갖는 class 입니다.\n",
        "\n",
        "* 4-class를 타겟으로 갖는 분류 문제를 해결하여 봅시다."
      ],
      "metadata": {
        "id": "DK2Z2RIaj83d"
      }
    },
    {
      "cell_type": "code",
      "source": [
        "import numpy as np\n",
        "print(np.unique(y))"
      ],
      "metadata": {
        "colab": {
          "base_uri": "https://localhost:8080/"
        },
        "id": "PdQzj5B9kSAY",
        "outputId": "83fb8ad5-7920-4d71-d94b-dd0ffa016495"
      },
      "execution_count": 5,
      "outputs": [
        {
          "output_type": "stream",
          "name": "stdout",
          "text": [
            "[0 1 2 3]\n"
          ]
        }
      ]
    },
    {
      "cell_type": "markdown",
      "source": [
        "## 02. LOgistic Regression\n",
        ">`Logistic Regresssion`에서는 다중 분류 문제를 해결하기 위한 옵션 파라미터(`multi_class`)에서 두 가지 선택지(over`, `multinomial`)가 존재한다.\n"
      ],
      "metadata": {
        "id": "o_WkqsTfkkEW"
      }
    },
    {
      "cell_type": "code",
      "source": [
        "import numpy as np\n",
        "\n",
        "def softmax(x):\n",
        "  return np.exp(x) / np.exp(x).sum()\n",
        "\n",
        "\n",
        "print(softmax(np.array([1.2, 0.8, -1.8, -0.3])))"
      ],
      "metadata": {
        "colab": {
          "base_uri": "https://localhost:8080/"
        },
        "id": "vILz55Bepz2P",
        "outputId": "a1540995-04ba-420c-d1d8-84a29e1fb023"
      },
      "execution_count": 6,
      "outputs": [
        {
          "output_type": "stream",
          "name": "stdout",
          "text": [
            "[0.5146052  0.34495018 0.02562068 0.11482394]\n"
          ]
        }
      ]
    },
    {
      "cell_type": "code",
      "source": [
        "from sklearn.linear_model import LogisticRegression\n",
        "\n",
        "\n",
        "# multi_class 파리미터 : ovr 사용\n",
        "lr_over = LogisticRegression(multi_class ='ovr', random_state = 42).fit(X_train, y_train)"
      ],
      "metadata": {
        "id": "-gQlBOPJqDwY"
      },
      "execution_count": null,
      "outputs": []
    }
  ]
}