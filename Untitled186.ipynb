{
  "nbformat": 4,
  "nbformat_minor": 0,
  "metadata": {
    "colab": {
      "provenance": [],
      "authorship_tag": "ABX9TyMo1AzQiSwgd4mlqD1wHjBD",
      "include_colab_link": true
    },
    "kernelspec": {
      "name": "python3",
      "display_name": "Python 3"
    },
    "language_info": {
      "name": "python"
    }
  },
  "cells": [
    {
      "cell_type": "markdown",
      "metadata": {
        "id": "view-in-github",
        "colab_type": "text"
      },
      "source": [
        "<a href=\"https://colab.research.google.com/github/00150/Practice-anything..../blob/main/Untitled186.ipynb\" target=\"_parent\"><img src=\"https://colab.research.google.com/assets/colab-badge.svg\" alt=\"Open In Colab\"/></a>"
      ]
    },
    {
      "cell_type": "markdown",
      "source": [
        "## 01. Multi-class Classification\n",
        "* 지금까지 해결한 분류 문제들은 타겟이 0/1 의 2개의 class로 구성된 문제들이었습니다.\n",
        "* 하지만 기존에 배운 분류 모델들을 사용해 다중 class를 타겟으로 갖는 분류 문제도 해결할 수 있다\n",
        "* 간단한 예시를 통해 Logistic Regression / Tree-based 모델을 사용하여 다중 분류 문제를 해결하여 봅시다."
      ],
      "metadata": {
        "id": "ZovKCGBmhKHc"
      }
    },
    {
      "cell_type": "markdown",
      "source": [
        "#### 1-1. 가상의 데이터를 생성합니다.\n",
        "make_classification함수는 설정에 따른 분류용 가상 데이터를 생성합니다. <br/>\n",
        "\n",
        "인수:<br/>\n",
        "\n",
        "n_samples : 표본 데이터의 수, 디폴트 100<br/>\n",
        "\n",
        "n_features : 독립 변수의 수, 디폴트 20<br/>\n",
        "\n",
        "n_informative : 독립 변수 중 종속 변수와 상관 관계가 있는 성분의 수, 디폴트 2<br/>\n",
        "\n",
        "n_redundant : 독립 변수 중 다른 독립 변수의 선형 조합으로 나타나는 성분의 수, 디폴트 2<br/>\n",
        "\n",
        "n_repeated : 독립 변수 중 단순 중복된 성분의 수, 디폴트 0<br/>\n",
        "\n",
        "n_classes : 종속 변수의 클래스 수, 디폴트 2<br/>\n",
        "\n",
        "n_clusters_per_class : 클래스 당 클러스터의 수, 디폴트 2<br/>\n",
        "\n",
        "weights : 각 클래스에 할당된 표본 수<br/>\n",
        "\n",
        "random_state : 난수 발생 시드<br/>\n",
        "\n",
        "-----반환값<br/>\n",
        "\n",
        "X : [n_samples, n_features] 크기의 배열<br/>\n",
        "\n",
        "독립 변수<br/>\n",
        "\n",
        "y : [n_samples] 크기의 배열<br/>\n",
        "\n",
        "종속 변수<br/>"
      ],
      "metadata": {
        "id": "fEmmyWfGib1A"
      }
    },
    {
      "cell_type": "code",
      "source": [
        "from sklearn.datasets import make_classification\n",
        "from sklearn.model_selection import train_test_split\n",
        "\n",
        "# 실습에 사용될 가상 데이터 생성\n",
        "X,y = make_classification(\n",
        "    n_samples = 1250,\n",
        "    n_features = 20,\n",
        "    n_informative = 12,\n",
        "    n_classes = 4,\n",
        "    n_clusters_per_class = 3,\n",
        "    random_state = 42\n",
        ")\n",
        "\n",
        "X_train, X_val, y_train, y_val = train_test_split(\n",
        "    X, y, stratify = y, train_size = 0.8, random_state = 42 \n",
        ")\n"
      ],
      "metadata": {
        "id": "iO6es_-Xhslw"
      },
      "execution_count": 12,
      "outputs": []
    },
    {
      "cell_type": "code",
      "source": [
        "print('Train :', X_train.shape, y_train.shape)\n",
        "print('Val:', X_val.shape, y_val.shape)"
      ],
      "metadata": {
        "colab": {
          "base_uri": "https://localhost:8080/"
        },
        "id": "voQZehuCjusR",
        "outputId": "a1639dc3-3cf1-43dd-d1cc-23f118f6ebc2"
      },
      "execution_count": 13,
      "outputs": [
        {
          "output_type": "stream",
          "name": "stdout",
          "text": [
            "Train : (1000, 20) (1000,)\n",
            "Val: (250, 20) (250,)\n"
          ]
        }
      ]
    },
    {
      "cell_type": "markdown",
      "source": [
        "만들어진 데이터의 타겟값을 한 번 살펴보도록 합니다.\n",
        "> 타겟 값은 총 4개가 존재하며, 값은 각각 0,1,2,3의 값을 갖는 class 입니다.\n",
        "\n",
        "* 4-class를 타겟으로 갖는 분류 문제를 해결하여 봅시다."
      ],
      "metadata": {
        "id": "DK2Z2RIaj83d"
      }
    },
    {
      "cell_type": "code",
      "source": [
        "import numpy as np\n",
        "print(np.unique(y))"
      ],
      "metadata": {
        "colab": {
          "base_uri": "https://localhost:8080/"
        },
        "id": "PdQzj5B9kSAY",
        "outputId": "15c540c2-f16e-4344-a866-38024eaa7a21"
      },
      "execution_count": 14,
      "outputs": [
        {
          "output_type": "stream",
          "name": "stdout",
          "text": [
            "[0 1 2 3]\n"
          ]
        }
      ]
    },
    {
      "cell_type": "markdown",
      "source": [
        "## 02. LOgistic Regression\n",
        ">`Logistic Regresssion`에서는 다중 분류 문제를 해결하기 위한 옵션 파라미터(`multi_class`)에서 두 가지 선택지(over`, `multinomial`)가 존재한다.\n"
      ],
      "metadata": {
        "id": "o_WkqsTfkkEW"
      }
    },
    {
      "cell_type": "code",
      "source": [
        "import numpy as np\n",
        "\n",
        "def softmax(x):\n",
        "  return np.exp(x) / np.exp(x).sum()\n",
        "\n",
        "\n",
        "print(softmax(np.array([1.2, 0.8, -1.8, -0.3])))"
      ],
      "metadata": {
        "colab": {
          "base_uri": "https://localhost:8080/"
        },
        "id": "vILz55Bepz2P",
        "outputId": "488caaef-7a0b-4d03-ccd6-4f6ab024efb2"
      },
      "execution_count": 15,
      "outputs": [
        {
          "output_type": "stream",
          "name": "stdout",
          "text": [
            "[0.5146052  0.34495018 0.02562068 0.11482394]\n"
          ]
        }
      ]
    },
    {
      "cell_type": "code",
      "source": [
        "from sklearn.linear_model import LogisticRegression\n",
        "\n",
        "\n",
        "# multi_class 파리미터 : ovr 사용\n",
        "lr_ovr = LogisticRegression(multi_class ='ovr', random_state = 42).fit(X_train, y_train)\n",
        "\n",
        "# multi_class 파라미터 : multinomal\n",
        "lr_multinomial = LogisticRegression(multi_class ='multinomial', random_state = 42).fit(X_train, y_train)"
      ],
      "metadata": {
        "id": "-gQlBOPJqDwY"
      },
      "execution_count": 16,
      "outputs": []
    },
    {
      "cell_type": "markdown",
      "source": [
        "각각 다른 파라미터를 이용하는 다중클래스 모델객체를 생성하였습니다.\n",
        "* 두 모델이 모든 클래스의 개수만큼 사용하는지 확인하여 봅시다."
      ],
      "metadata": {
        "id": "QyNraz1MrIcK"
      }
    },
    {
      "cell_type": "code",
      "source": [
        "print(lr_ovr.coef_.shape, lr_multinomial.coef_.shape)"
      ],
      "metadata": {
        "colab": {
          "base_uri": "https://localhost:8080/"
        },
        "id": "r9wU0Bf4rY_p",
        "outputId": "f0b22942-7bf7-476c-bbb5-c79be37808ce"
      },
      "execution_count": 17,
      "outputs": [
        {
          "output_type": "stream",
          "name": "stdout",
          "text": [
            "(4, 20) (4, 20)\n"
          ]
        }
      ]
    },
    {
      "cell_type": "code",
      "source": [
        "# parameter : ovr인 모델의 예측값은 다음과 같습니다\n",
        "lr_ovr.predict(X_val)"
      ],
      "metadata": {
        "colab": {
          "base_uri": "https://localhost:8080/"
        },
        "id": "EYaaEBwIrgN9",
        "outputId": "712d42c3-0de5-468a-cfca-bd2573fe7c5d"
      },
      "execution_count": 19,
      "outputs": [
        {
          "output_type": "execute_result",
          "data": {
            "text/plain": [
              "array([0, 2, 0, 2, 0, 1, 0, 2, 1, 1, 0, 2, 1, 1, 2, 3, 1, 1, 2, 2, 3, 3,\n",
              "       0, 0, 2, 2, 1, 1, 1, 2, 1, 0, 2, 3, 1, 3, 0, 2, 1, 3, 0, 1, 3, 0,\n",
              "       0, 2, 3, 3, 1, 2, 2, 0, 3, 1, 3, 0, 0, 1, 3, 1, 2, 3, 1, 0, 2, 3,\n",
              "       3, 0, 2, 0, 1, 1, 0, 1, 2, 0, 2, 2, 0, 1, 3, 2, 1, 1, 0, 3, 0, 1,\n",
              "       1, 0, 0, 3, 3, 3, 2, 1, 3, 2, 2, 3, 2, 0, 0, 1, 2, 0, 0, 3, 0, 2,\n",
              "       3, 0, 1, 1, 2, 1, 2, 2, 0, 3, 2, 1, 2, 0, 3, 2, 1, 2, 2, 0, 0, 2,\n",
              "       1, 3, 3, 0, 0, 0, 0, 0, 3, 1, 0, 2, 2, 2, 2, 2, 2, 0, 3, 3, 3, 1,\n",
              "       0, 3, 1, 1, 1, 2, 2, 2, 0, 0, 2, 3, 3, 2, 0, 2, 3, 2, 1, 3, 0, 1,\n",
              "       1, 0, 1, 0, 0, 3, 2, 2, 2, 3, 2, 0, 2, 3, 1, 2, 1, 2, 1, 0, 0, 3,\n",
              "       2, 1, 2, 0, 0, 3, 2, 0, 1, 0, 1, 0, 3, 3, 3, 3, 0, 2, 1, 0, 0, 1,\n",
              "       3, 0, 3, 2, 0, 2, 1, 3, 2, 0, 0, 0, 1, 3, 3, 1, 1, 3, 2, 1, 2, 2,\n",
              "       0, 3, 3, 0, 0, 1, 3, 0])"
            ]
          },
          "metadata": {},
          "execution_count": 19
        }
      ]
    },
    {
      "cell_type": "code",
      "source": [
        "# parameter : multinomial인 모델의 예측값은 다음과 같습니다.\n",
        "lr_multinomial.predict(X_val)"
      ],
      "metadata": {
        "colab": {
          "base_uri": "https://localhost:8080/"
        },
        "id": "NY3Lg0JstxNy",
        "outputId": "2467469c-abf9-44de-c2af-b8cdd412d60b"
      },
      "execution_count": 21,
      "outputs": [
        {
          "output_type": "execute_result",
          "data": {
            "text/plain": [
              "array([0, 2, 0, 2, 0, 1, 0, 2, 1, 1, 0, 2, 1, 1, 2, 3, 1, 1, 2, 2, 3, 3,\n",
              "       0, 0, 2, 2, 1, 1, 1, 2, 1, 0, 2, 3, 1, 3, 0, 2, 1, 3, 0, 1, 3, 0,\n",
              "       0, 2, 3, 3, 1, 2, 2, 0, 3, 1, 3, 0, 0, 1, 3, 1, 2, 3, 1, 0, 2, 3,\n",
              "       3, 0, 2, 0, 1, 1, 0, 1, 2, 0, 2, 2, 0, 1, 0, 2, 1, 1, 0, 3, 0, 1,\n",
              "       1, 0, 0, 3, 3, 3, 2, 1, 3, 2, 2, 3, 2, 0, 0, 1, 2, 0, 0, 3, 0, 2,\n",
              "       3, 0, 1, 1, 2, 1, 2, 2, 0, 3, 2, 1, 2, 0, 3, 2, 1, 2, 2, 0, 0, 2,\n",
              "       1, 3, 3, 0, 0, 0, 0, 0, 3, 1, 0, 2, 2, 1, 2, 2, 2, 0, 3, 3, 3, 1,\n",
              "       0, 2, 1, 1, 1, 2, 2, 2, 0, 0, 2, 3, 3, 2, 0, 2, 3, 2, 1, 3, 3, 1,\n",
              "       1, 3, 1, 0, 0, 3, 2, 2, 2, 3, 2, 0, 2, 3, 1, 2, 1, 2, 1, 0, 0, 3,\n",
              "       2, 1, 2, 0, 0, 3, 2, 0, 1, 0, 1, 0, 3, 3, 3, 3, 0, 2, 1, 0, 0, 1,\n",
              "       3, 0, 3, 2, 0, 2, 1, 3, 2, 0, 0, 0, 1, 3, 3, 1, 1, 3, 2, 1, 2, 2,\n",
              "       0, 3, 3, 0, 0, 1, 3, 0])"
            ]
          },
          "metadata": {},
          "execution_count": 21
        }
      ]
    },
    {
      "cell_type": "markdown",
      "source": [
        "## 03. Tree-based Model\n",
        "> 트리 기반 모델의 경우 기본적으로 다중 분류를 지원합니다.\n",
        "\n",
        "* 트리 학습에 사용되는 비용함수인 지니 불순도와 엔트로피가 다중 class 상황에서도  예외없이 정의됩니다.\n",
        "* 트리 기반 모델에서는 별도 하이퍼파라미터 조정없이 다중 클래스 분류를 바로 수행할 수 있습니다."
      ],
      "metadata": {
        "id": "Al__r__cuINg"
      }
    },
    {
      "cell_type": "code",
      "source": [
        "from sklearn.tree import DecisionTreeClassifier\n",
        "from sklearn.ensemble import RandomForestClassifier\n",
        "\n",
        "# 결정트리 모델 생성\n",
        "dtc = DecisionTreeClassifier(max_depth=7).fit(X_train, y_train)\n",
        "\n",
        "\n",
        "# 랜덤트리 모델 생성\n",
        "rf = RandomForestClassifier(max_depth=7, n_estimators=100, random_state=42).fit(X_train, y_train)"
      ],
      "metadata": {
        "id": "BhMNSE5zwoyM"
      },
      "execution_count": 23,
      "outputs": []
    },
    {
      "cell_type": "code",
      "source": [
        "# 결정트리 모델의 예측값.\n",
        "dtc.predict(X_val)"
      ],
      "metadata": {
        "colab": {
          "base_uri": "https://localhost:8080/"
        },
        "id": "Ei1ovuSWxr2F",
        "outputId": "3c536ed6-b2ae-4125-8def-77df08f407e8"
      },
      "execution_count": 24,
      "outputs": [
        {
          "output_type": "execute_result",
          "data": {
            "text/plain": [
              "array([3, 1, 0, 0, 0, 0, 0, 1, 3, 1, 0, 2, 1, 3, 3, 3, 1, 3, 3, 3, 1, 1,\n",
              "       0, 0, 2, 2, 1, 0, 3, 1, 2, 0, 3, 3, 0, 3, 2, 0, 1, 3, 0, 2, 0, 3,\n",
              "       0, 1, 1, 2, 3, 2, 2, 0, 3, 1, 2, 0, 3, 1, 2, 3, 0, 3, 1, 0, 1, 0,\n",
              "       1, 1, 2, 1, 0, 3, 0, 3, 0, 0, 2, 1, 0, 1, 1, 2, 1, 2, 2, 2, 0, 3,\n",
              "       1, 0, 3, 3, 3, 3, 2, 1, 2, 2, 2, 3, 2, 0, 3, 1, 2, 0, 3, 2, 0, 2,\n",
              "       3, 0, 1, 2, 2, 1, 2, 3, 0, 2, 3, 1, 3, 0, 3, 1, 0, 3, 0, 0, 0, 2,\n",
              "       1, 2, 2, 0, 3, 0, 1, 2, 3, 1, 2, 3, 2, 2, 0, 2, 0, 0, 2, 1, 2, 0,\n",
              "       2, 3, 1, 1, 1, 2, 1, 2, 0, 0, 2, 0, 3, 1, 3, 2, 3, 2, 1, 0, 3, 1,\n",
              "       1, 1, 1, 3, 0, 0, 3, 2, 2, 3, 2, 0, 2, 3, 1, 2, 3, 0, 1, 2, 0, 1,\n",
              "       2, 3, 2, 0, 1, 3, 1, 0, 1, 0, 3, 0, 3, 3, 3, 0, 0, 0, 1, 0, 0, 0,\n",
              "       2, 2, 2, 3, 0, 2, 1, 3, 2, 0, 0, 0, 1, 3, 3, 0, 1, 2, 0, 0, 3, 0,\n",
              "       1, 3, 3, 3, 0, 1, 2, 0])"
            ]
          },
          "metadata": {},
          "execution_count": 24
        }
      ]
    },
    {
      "cell_type": "code",
      "source": [
        "rf.predict(X_val)"
      ],
      "metadata": {
        "colab": {
          "base_uri": "https://localhost:8080/"
        },
        "id": "AqyOMlTNxtrf",
        "outputId": "b6f91603-8fda-42da-f659-f338963b08c0"
      },
      "execution_count": 25,
      "outputs": [
        {
          "output_type": "execute_result",
          "data": {
            "text/plain": [
              "array([3, 1, 0, 2, 0, 1, 0, 0, 1, 1, 0, 2, 1, 1, 3, 3, 1, 2, 2, 1, 1, 1,\n",
              "       0, 0, 2, 2, 1, 1, 3, 3, 1, 0, 2, 2, 1, 3, 0, 2, 1, 3, 0, 1, 3, 0,\n",
              "       0, 0, 1, 3, 3, 2, 2, 0, 2, 1, 2, 3, 2, 1, 3, 1, 0, 3, 1, 0, 2, 3,\n",
              "       1, 2, 2, 0, 1, 3, 0, 3, 3, 0, 2, 2, 0, 1, 1, 2, 1, 2, 0, 2, 1, 1,\n",
              "       1, 0, 3, 3, 3, 2, 2, 1, 2, 2, 1, 3, 2, 0, 3, 1, 2, 0, 2, 2, 0, 2,\n",
              "       3, 0, 1, 2, 0, 1, 2, 2, 0, 3, 2, 1, 2, 0, 3, 3, 1, 2, 2, 0, 0, 2,\n",
              "       1, 2, 2, 0, 0, 0, 0, 2, 3, 1, 0, 3, 2, 2, 0, 2, 2, 0, 3, 3, 3, 1,\n",
              "       0, 3, 1, 1, 1, 2, 2, 2, 0, 0, 2, 0, 3, 1, 3, 2, 2, 2, 1, 3, 3, 1,\n",
              "       1, 3, 1, 0, 3, 3, 2, 2, 2, 3, 2, 0, 2, 3, 1, 2, 3, 2, 1, 0, 0, 0,\n",
              "       2, 1, 2, 0, 0, 3, 1, 0, 1, 0, 1, 0, 3, 3, 3, 0, 0, 2, 1, 0, 0, 0,\n",
              "       3, 0, 3, 3, 0, 2, 0, 3, 2, 0, 0, 0, 1, 3, 3, 1, 1, 3, 2, 1, 2, 2,\n",
              "       0, 3, 0, 0, 0, 1, 2, 0])"
            ]
          },
          "metadata": {},
          "execution_count": 25
        }
      ]
    },
    {
      "cell_type": "code",
      "source": [],
      "metadata": {
        "id": "Oa0a1xmux8rw"
      },
      "execution_count": null,
      "outputs": []
    }
  ]
}