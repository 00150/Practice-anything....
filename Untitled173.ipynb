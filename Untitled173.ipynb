{
  "nbformat": 4,
  "nbformat_minor": 0,
  "metadata": {
    "colab": {
      "provenance": [],
      "authorship_tag": "ABX9TyMcYag+Lc1G2rZj0cTjEd/h",
      "include_colab_link": true
    },
    "kernelspec": {
      "name": "python3",
      "display_name": "Python 3"
    },
    "language_info": {
      "name": "python"
    }
  },
  "cells": [
    {
      "cell_type": "markdown",
      "metadata": {
        "id": "view-in-github",
        "colab_type": "text"
      },
      "source": [
        "<a href=\"https://colab.research.google.com/github/00150/Practice-anything..../blob/main/Untitled173.ipynb\" target=\"_parent\"><img src=\"https://colab.research.google.com/assets/colab-badge.svg\" alt=\"Open In Colab\"/></a>"
      ]
    },
    {
      "cell_type": "markdown",
      "source": [
        "#### 랜덤포레스트 연습\n"
      ],
      "metadata": {
        "id": "WXAU3umysS3H"
      }
    },
    {
      "cell_type": "code",
      "source": [
        "!pip install category_encoders"
      ],
      "metadata": {
        "colab": {
          "base_uri": "https://localhost:8080/"
        },
        "id": "vFOpkI8CymgH",
        "outputId": "86a251e4-4544-4136-d8aa-aca5448119ba"
      },
      "execution_count": 1,
      "outputs": [
        {
          "output_type": "stream",
          "name": "stdout",
          "text": [
            "Looking in indexes: https://pypi.org/simple, https://us-python.pkg.dev/colab-wheels/public/simple/\n",
            "Collecting category_encoders\n",
            "  Downloading category_encoders-2.5.1.post0-py2.py3-none-any.whl (72 kB)\n",
            "\u001b[K     |████████████████████████████████| 72 kB 270 kB/s \n",
            "\u001b[?25hRequirement already satisfied: statsmodels>=0.9.0 in /usr/local/lib/python3.7/dist-packages (from category_encoders) (0.12.2)\n",
            "Requirement already satisfied: patsy>=0.5.1 in /usr/local/lib/python3.7/dist-packages (from category_encoders) (0.5.3)\n",
            "Requirement already satisfied: pandas>=1.0.5 in /usr/local/lib/python3.7/dist-packages (from category_encoders) (1.3.5)\n",
            "Requirement already satisfied: scikit-learn>=0.20.0 in /usr/local/lib/python3.7/dist-packages (from category_encoders) (1.0.2)\n",
            "Requirement already satisfied: numpy>=1.14.0 in /usr/local/lib/python3.7/dist-packages (from category_encoders) (1.21.6)\n",
            "Requirement already satisfied: scipy>=1.0.0 in /usr/local/lib/python3.7/dist-packages (from category_encoders) (1.7.3)\n",
            "Requirement already satisfied: pytz>=2017.3 in /usr/local/lib/python3.7/dist-packages (from pandas>=1.0.5->category_encoders) (2022.6)\n",
            "Requirement already satisfied: python-dateutil>=2.7.3 in /usr/local/lib/python3.7/dist-packages (from pandas>=1.0.5->category_encoders) (2.8.2)\n",
            "Requirement already satisfied: six in /usr/local/lib/python3.7/dist-packages (from patsy>=0.5.1->category_encoders) (1.15.0)\n",
            "Requirement already satisfied: threadpoolctl>=2.0.0 in /usr/local/lib/python3.7/dist-packages (from scikit-learn>=0.20.0->category_encoders) (3.1.0)\n",
            "Requirement already satisfied: joblib>=0.11 in /usr/local/lib/python3.7/dist-packages (from scikit-learn>=0.20.0->category_encoders) (1.2.0)\n",
            "Installing collected packages: category-encoders\n",
            "Successfully installed category-encoders-2.5.1.post0\n"
          ]
        }
      ]
    },
    {
      "cell_type": "code",
      "source": [
        "# 사용할 라이브러리 가져오기.\n",
        "import pandas as pd"
      ],
      "metadata": {
        "id": "lwkjbMRAyuAv"
      },
      "execution_count": 2,
      "outputs": []
    },
    {
      "cell_type": "markdown",
      "source": [
        "#### H1N1 데이터 불러오기."
      ],
      "metadata": {
        "id": "7XVJZKFuOYN-"
      }
    },
    {
      "cell_type": "code",
      "source": [
        "target = 'vacc_h1n1_f'\n",
        "train = pd.merge(pd.read_csv('https://ds-lecture-data.s3.ap-northeast-2.amazonaws.com/vacc_flu/train.csv'), \n",
        "                 pd.read_csv('https://ds-lecture-data.s3.ap-northeast-2.amazonaws.com/vacc_flu/train_labels.csv')[target], left_index=True, right_index=True)\n",
        "test = pd.read_csv('https://ds-lecture-data.s3.ap-northeast-2.amazonaws.com/vacc_flu/test.csv')\n",
        "sample_submission = pd.read_csv('https://ds-lecture-data.s3.ap-northeast-2.amazonaws.com/vacc_flu/submission.csv')"
      ],
      "metadata": {
        "id": "UZbDz2eKO0SR"
      },
      "execution_count": 3,
      "outputs": []
    },
    {
      "cell_type": "markdown",
      "source": [
        "#### 훈련데이터 및 검증 데이터로 분리."
      ],
      "metadata": {
        "id": "zxHcH4ByO1l2"
      }
    },
    {
      "cell_type": "code",
      "source": [
        "from sklearn.model_selection import train_test_split\n",
        "train, val = train_test_split(train, train_size=0.80, test_size=0.20,\n",
        "                              stratify = train[target], random_state=2)\n",
        "\n",
        "train.shape, val.shape, test.shape"
      ],
      "metadata": {
        "colab": {
          "base_uri": "https://localhost:8080/"
        },
        "id": "J8hl4xFvObv4",
        "outputId": "215b6543-649b-45e4-ad0e-769733a6e0ef"
      },
      "execution_count": 4,
      "outputs": [
        {
          "output_type": "execute_result",
          "data": {
            "text/plain": [
              "((33723, 39), (8431, 39), (28104, 38))"
            ]
          },
          "metadata": {},
          "execution_count": 4
        }
      ]
    },
    {
      "cell_type": "code",
      "source": [
        "def engineer(df):\n",
        "    \"\"\"특성을 엔지니어링 하는 함수입니다.\"\"\"\n",
        "    \n",
        "    # 높은 카디널리티를 가지는 특성을 제거합니다.\n",
        "#     selected_cols = df.select_dtypes(include=['number', 'object'])\n",
        "#     colnames = selected_cols.columns.tolist()\n",
        "#     labels = selected_cols.nunique()\n",
        "    \n",
        "#     selected_features = labels[labels <= 30].index.tolist()\n",
        "#     df = df[selected_features]\n",
        "    \n",
        "    # 새로운 특성을 생성합니다.\n",
        "    behaviorals = [col for col in df.columns if 'behavioral' in col] \n",
        "    df['behaviorals'] = df[behaviorals].sum(axis=1)\n",
        "    \n",
        "    \n",
        "    dels = [col for col in df.columns if ('employment' in col or 'seas' in col)]\n",
        "    df.drop(columns=dels, inplace=True)\n",
        "        \n",
        "    return df\n",
        "\n",
        "\n",
        "train = engineer(train)\n",
        "val = engineer(val)\n",
        "test = engineer(test)"
      ],
      "metadata": {
        "id": "g5rPL68IOy4U"
      },
      "execution_count": 5,
      "outputs": []
    },
    {
      "cell_type": "markdown",
      "source": [
        "#### 훈련/검증/테스트 데이터를 특성과 타겟으로 분리."
      ],
      "metadata": {
        "id": "usvEszFzPews"
      }
    },
    {
      "cell_type": "code",
      "source": [
        "# 독립변수 : features 지정\n",
        "features = train.drop(columns= [target]).columns\n",
        "\n",
        "# 데이터 분할 (target & features)\n",
        "\n",
        "# 훈련\n",
        "X_train = train[features]\n",
        "y_train = train[target]\n",
        "\n",
        "# 검증\n",
        "X_val = train[features]\n",
        "y_val = train[target]\n",
        "\n",
        "# 테스트 데이터(feature)\n",
        "X_test = test[features]"
      ],
      "metadata": {
        "id": "AsZc_LwCPkmH"
      },
      "execution_count": 6,
      "outputs": []
    },
    {
      "cell_type": "markdown",
      "source": [
        "#### 파이프라인 - 랜덤포레스트 적용\n"
      ],
      "metadata": {
        "id": "dARjozPGRCxr"
      }
    },
    {
      "cell_type": "code",
      "source": [
        "%%time\n",
        "from category_encoders import OneHotEncoder\n",
        "from sklearn.ensemble import RandomForestClassifier\n",
        "from sklearn.impute import SimpleImputer\n",
        "from sklearn.pipeline import make_pipeline\n",
        "\n",
        "pipe = make_pipeline(OneHotEncoder(use_cat_names=True),\n",
        "                     SimpleImputer(),\n",
        "                     RandomForestClassifier(n_jobs=-1, random_state=10, oob_score = True))\n",
        "\n",
        "# oob_score = Out - of _ Bag 의 약자, 부트스트랩 샘플링시 선택되지 않은 샘플을 의미한다. \n",
        "            # true로 진행시, 훈련 종료 후  oob 샘플을 기반으로 평가를 수행한다.\n",
        "\n",
        "\n",
        "# fit\n",
        "pipe.fit(X_train, y_train)\n",
        "print('검증 정확도', pipe.score(X_val, y_val))"
      ],
      "metadata": {
        "colab": {
          "base_uri": "https://localhost:8080/"
        },
        "id": "Xl944Xf1RGhR",
        "outputId": "16944e5b-4afc-4968-bc83-bbc909ca738e"
      },
      "execution_count": 7,
      "outputs": [
        {
          "output_type": "stream",
          "name": "stdout",
          "text": [
            "검증 정확도 0.9971829315304095\n",
            "CPU times: user 13.4 s, sys: 308 ms, total: 13.7 s\n",
            "Wall time: 9.88 s\n"
          ]
        }
      ]
    },
    {
      "cell_type": "code",
      "source": [
        " pipe.named_steps"
      ],
      "metadata": {
        "colab": {
          "base_uri": "https://localhost:8080/"
        },
        "id": "GsdWr0BeRzbW",
        "outputId": "f5b6f77f-f985-4e7c-fdc5-416a239b7af5"
      },
      "execution_count": 8,
      "outputs": [
        {
          "output_type": "execute_result",
          "data": {
            "text/plain": [
              "{'onehotencoder': OneHotEncoder(cols=['opinion_h1n1_vacc_effective', 'opinion_h1n1_risk',\n",
              "                     'opinion_h1n1_sick_from_vacc', 'agegrp', 'census_msa',\n",
              "                     'state'],\n",
              "               use_cat_names=True),\n",
              " 'simpleimputer': SimpleImputer(),\n",
              " 'randomforestclassifier': RandomForestClassifier(n_jobs=-1, oob_score=True, random_state=10)}"
            ]
          },
          "metadata": {},
          "execution_count": 8
        }
      ]
    },
    {
      "cell_type": "markdown",
      "source": [
        "### 순서형 인코딩은 범주에 숫자를 맵핑합니다.\n",
        "\n",
        "---\n",
        "\n",
        "[’a’, ‘b’, ‘c’] 세 범주가 있다면 이것을 [1,2,3] 처럼 숫자로 인코딩합니다.\n",
        "\n",
        "**트리구조 학습에서는 원핫인코딩을 사용하면 문제가 존재합니다❗**\n",
        "\n",
        "- 트리구조에서는 중요한 특성이 상위노드에서 먼저 분할이 일어나게 됩니다.\n",
        "    - 범주가 많은 High Cardinality 특성은 원핫인코딩으로 인해 상위노드에서 선택될 기회가 적어집니다.\n",
        "\n",
        "<aside>\n",
        "\n",
        "`💡 그래서 원핫인코딩 영향을 안 받는 수치형 특성들이 상위노드를 차지할 기회가 높아지고, 전체적인 성능 저하가 생길 수 있습니다.`\n",
        "\n",
        "</aside>"
      ],
      "metadata": {
        "id": "_WLl-aqzR4Q8"
      }
    },
    {
      "cell_type": "markdown",
      "source": [
        "#### OrdinalEncoder를 사용하여 범주형 자료의 맵핑이 어떻게 일어나는지 살펴봅시다."
      ],
      "metadata": {
        "id": "2pyjVXuaaUFZ"
      }
    },
    {
      "cell_type": "code",
      "source": [
        "from category_encoders import OrdinalEncoder\n",
        "enc = OrdinalEncoder(handle_missing ='Value')\n",
        "\n",
        "X = [['Male', 1 ,'yes'],\n",
        "     ['Female', 3, 'No'],\n",
        "     ['Female', 2, 'None']]\n",
        "enc.fit(X)\n",
        "\n",
        "#A) 저기에선 0번째 컬럼과 2번째 컬럼만 encoding된거고 1번 컬럼은 그냥 상수라서 인코딩이 안됨."
      ],
      "metadata": {
        "colab": {
          "base_uri": "https://localhost:8080/"
        },
        "id": "RZ3s4IVtacOZ",
        "outputId": "3c58b988-e741-468d-fbc4-da5cd2e843ef"
      },
      "execution_count": 9,
      "outputs": [
        {
          "output_type": "execute_result",
          "data": {
            "text/plain": [
              "OrdinalEncoder(cols=[0, 2], handle_missing='Value',\n",
              "               mapping=[{'col': 0, 'data_type': dtype('O'),\n",
              "                         'mapping': Male      1\n",
              "Female    2\n",
              "dtype: int64},\n",
              "                        {'col': 2, 'data_type': dtype('O'),\n",
              "                         'mapping': yes     1\n",
              "No      2\n",
              "None    3\n",
              "dtype: int64}])"
            ]
          },
          "metadata": {},
          "execution_count": 9
        }
      ]
    },
    {
      "cell_type": "markdown",
      "source": [
        "#### transform을 사용하여 데이터를 넣어보기.  "
      ],
      "metadata": {
        "id": "H7NsG8IZhAZb"
      }
    },
    {
      "cell_type": "code",
      "source": [
        "enc.transform([['Male',1,'No'],\n",
        "               ['Female',10]])"
      ],
      "metadata": {
        "colab": {
          "base_uri": "https://localhost:8080/",
          "height": 112
        },
        "id": "7NwpClr4iNLf",
        "outputId": "edc43adf-980d-4205-fd11-d72b805c4063"
      },
      "execution_count": 10,
      "outputs": [
        {
          "output_type": "execute_result",
          "data": {
            "text/plain": [
              "   0   1    2\n",
              "0  1   1  2.0\n",
              "1  2  10 -1.0"
            ],
            "text/html": [
              "\n",
              "  <div id=\"df-7d114f65-b6f2-44e9-9675-9a904e146d27\">\n",
              "    <div class=\"colab-df-container\">\n",
              "      <div>\n",
              "<style scoped>\n",
              "    .dataframe tbody tr th:only-of-type {\n",
              "        vertical-align: middle;\n",
              "    }\n",
              "\n",
              "    .dataframe tbody tr th {\n",
              "        vertical-align: top;\n",
              "    }\n",
              "\n",
              "    .dataframe thead th {\n",
              "        text-align: right;\n",
              "    }\n",
              "</style>\n",
              "<table border=\"1\" class=\"dataframe\">\n",
              "  <thead>\n",
              "    <tr style=\"text-align: right;\">\n",
              "      <th></th>\n",
              "      <th>0</th>\n",
              "      <th>1</th>\n",
              "      <th>2</th>\n",
              "    </tr>\n",
              "  </thead>\n",
              "  <tbody>\n",
              "    <tr>\n",
              "      <th>0</th>\n",
              "      <td>1</td>\n",
              "      <td>1</td>\n",
              "      <td>2.0</td>\n",
              "    </tr>\n",
              "    <tr>\n",
              "      <th>1</th>\n",
              "      <td>2</td>\n",
              "      <td>10</td>\n",
              "      <td>-1.0</td>\n",
              "    </tr>\n",
              "  </tbody>\n",
              "</table>\n",
              "</div>\n",
              "      <button class=\"colab-df-convert\" onclick=\"convertToInteractive('df-7d114f65-b6f2-44e9-9675-9a904e146d27')\"\n",
              "              title=\"Convert this dataframe to an interactive table.\"\n",
              "              style=\"display:none;\">\n",
              "        \n",
              "  <svg xmlns=\"http://www.w3.org/2000/svg\" height=\"24px\"viewBox=\"0 0 24 24\"\n",
              "       width=\"24px\">\n",
              "    <path d=\"M0 0h24v24H0V0z\" fill=\"none\"/>\n",
              "    <path d=\"M18.56 5.44l.94 2.06.94-2.06 2.06-.94-2.06-.94-.94-2.06-.94 2.06-2.06.94zm-11 1L8.5 8.5l.94-2.06 2.06-.94-2.06-.94L8.5 2.5l-.94 2.06-2.06.94zm10 10l.94 2.06.94-2.06 2.06-.94-2.06-.94-.94-2.06-.94 2.06-2.06.94z\"/><path d=\"M17.41 7.96l-1.37-1.37c-.4-.4-.92-.59-1.43-.59-.52 0-1.04.2-1.43.59L10.3 9.45l-7.72 7.72c-.78.78-.78 2.05 0 2.83L4 21.41c.39.39.9.59 1.41.59.51 0 1.02-.2 1.41-.59l7.78-7.78 2.81-2.81c.8-.78.8-2.07 0-2.86zM5.41 20L4 18.59l7.72-7.72 1.47 1.35L5.41 20z\"/>\n",
              "  </svg>\n",
              "      </button>\n",
              "      \n",
              "  <style>\n",
              "    .colab-df-container {\n",
              "      display:flex;\n",
              "      flex-wrap:wrap;\n",
              "      gap: 12px;\n",
              "    }\n",
              "\n",
              "    .colab-df-convert {\n",
              "      background-color: #E8F0FE;\n",
              "      border: none;\n",
              "      border-radius: 50%;\n",
              "      cursor: pointer;\n",
              "      display: none;\n",
              "      fill: #1967D2;\n",
              "      height: 32px;\n",
              "      padding: 0 0 0 0;\n",
              "      width: 32px;\n",
              "    }\n",
              "\n",
              "    .colab-df-convert:hover {\n",
              "      background-color: #E2EBFA;\n",
              "      box-shadow: 0px 1px 2px rgba(60, 64, 67, 0.3), 0px 1px 3px 1px rgba(60, 64, 67, 0.15);\n",
              "      fill: #174EA6;\n",
              "    }\n",
              "\n",
              "    [theme=dark] .colab-df-convert {\n",
              "      background-color: #3B4455;\n",
              "      fill: #D2E3FC;\n",
              "    }\n",
              "\n",
              "    [theme=dark] .colab-df-convert:hover {\n",
              "      background-color: #434B5C;\n",
              "      box-shadow: 0px 1px 3px 1px rgba(0, 0, 0, 0.15);\n",
              "      filter: drop-shadow(0px 1px 2px rgba(0, 0, 0, 0.3));\n",
              "      fill: #FFFFFF;\n",
              "    }\n",
              "  </style>\n",
              "\n",
              "      <script>\n",
              "        const buttonEl =\n",
              "          document.querySelector('#df-7d114f65-b6f2-44e9-9675-9a904e146d27 button.colab-df-convert');\n",
              "        buttonEl.style.display =\n",
              "          google.colab.kernel.accessAllowed ? 'block' : 'none';\n",
              "\n",
              "        async function convertToInteractive(key) {\n",
              "          const element = document.querySelector('#df-7d114f65-b6f2-44e9-9675-9a904e146d27');\n",
              "          const dataTable =\n",
              "            await google.colab.kernel.invokeFunction('convertToInteractive',\n",
              "                                                     [key], {});\n",
              "          if (!dataTable) return;\n",
              "\n",
              "          const docLinkHtml = 'Like what you see? Visit the ' +\n",
              "            '<a target=\"_blank\" href=https://colab.research.google.com/notebooks/data_table.ipynb>data table notebook</a>'\n",
              "            + ' to learn more about interactive tables.';\n",
              "          element.innerHTML = '';\n",
              "          dataTable['output_type'] = 'display_data';\n",
              "          await google.colab.output.renderOutput(dataTable, element);\n",
              "          const docLink = document.createElement('div');\n",
              "          docLink.innerHTML = docLinkHtml;\n",
              "          element.appendChild(docLink);\n",
              "        }\n",
              "      </script>\n",
              "    </div>\n",
              "  </div>\n",
              "  "
            ]
          },
          "metadata": {},
          "execution_count": 10
        }
      ]
    },
    {
      "cell_type": "code",
      "source": [
        "enc.category_mapping"
      ],
      "metadata": {
        "colab": {
          "base_uri": "https://localhost:8080/"
        },
        "id": "A_G_xft7iVeQ",
        "outputId": "45dac17c-a254-458b-e008-53738a31010d"
      },
      "execution_count": 11,
      "outputs": [
        {
          "output_type": "execute_result",
          "data": {
            "text/plain": [
              "[{'col': 0, 'mapping': Male      1\n",
              "  Female    2\n",
              "  dtype: int64, 'data_type': dtype('O')}, {'col': 2, 'mapping': yes     1\n",
              "  No      2\n",
              "  None    3\n",
              "  dtype: int64, 'data_type': dtype('O')}]"
            ]
          },
          "metadata": {},
          "execution_count": 11
        }
      ]
    },
    {
      "cell_type": "markdown",
      "source": [
        "#### H1N1 데이터를 순서형 인코딩으로 학습해보기. \n"
      ],
      "metadata": {
        "id": "tLFVRgkDijx1"
      }
    },
    {
      "cell_type": "code",
      "source": [
        "%%time\n",
        "# ordinal encoding\n",
        "pipe_ord =make_pipeline(\n",
        "    OrdinalEncoder(),\n",
        "    SimpleImputer(),\n",
        "    RandomForestClassifier(random_state = 10, n_jobs=-1, oob_score = True))\n",
        "\n",
        "pipe_ord.fit(X_train, y_train)\n",
        "print('검증 정확도', pipe_ord.score(X_val, y_val))"
      ],
      "metadata": {
        "colab": {
          "base_uri": "https://localhost:8080/"
        },
        "id": "5p44CTrGi1uY",
        "outputId": "32c96560-e654-40c0-efc0-cb91c52a0baf"
      },
      "execution_count": 12,
      "outputs": [
        {
          "output_type": "stream",
          "name": "stdout",
          "text": [
            "검증 정확도 0.9971829315304095\n",
            "CPU times: user 8.69 s, sys: 111 ms, total: 8.8 s\n",
            "Wall time: 5.27 s\n"
          ]
        }
      ]
    },
    {
      "cell_type": "markdown",
      "source": [
        "#### 원핫인코딩보다, 오디널 인코딩을 사용하였을 때, 실행 속도의 변화가 높습니다!\n",
        "---\n",
        "특성의 수 또한 비교하여 봅시다. : OneHot vs Ordinal\n"
      ],
      "metadata": {
        "id": "f2YVqiyhjVx5"
      }
    },
    {
      "cell_type": "code",
      "source": [
        "print('Shape before:', X_train.shape)\n",
        "\n",
        "# OneHotEncoder\n",
        "enc = pipe.named_steps['onehotencoder']\n",
        "encoded = enc.transform(X_train)\n",
        "print('OneHot shape:', encoded.shape)\n",
        "\n",
        "# Ordinal Encoder\n",
        "enc = pipe_ord.named_steps['ordinalencoder']\n",
        "encoded = enc.transform(X_train)\n",
        "print('Ordinal shape', encoded.shape)"
      ],
      "metadata": {
        "colab": {
          "base_uri": "https://localhost:8080/"
        },
        "id": "pKxVoyTwjpgt",
        "outputId": "ba52d756-10e8-4600-ef34-0eb19b903efc"
      },
      "execution_count": 13,
      "outputs": [
        {
          "output_type": "stream",
          "name": "stdout",
          "text": [
            "Shape before: (33723, 32)\n",
            "OneHot shape: (33723, 108)\n",
            "Ordinal shape (33723, 32)\n"
          ]
        }
      ]
    },
    {
      "cell_type": "markdown",
      "source": [
        "#### 랜덤포레스트 특성 중요도를 비교.\n",
        "---\n",
        "> 랜덤포레스트에서는 학습 후에 특성들의 중요도 정보(Gini importance)를 기본으로 제공합니다. \n",
        "\n",
        "* 중요도는 노드들의 지니불순도(Gini impurity)를 가지고 계산하는데 **노드가 중요할 수록 불순도가 크게 감소** 한다는 사실을 이용합니다.\n",
        "\n",
        "* 노드는 한 특성의 값을 기준으로 분리가 되기 때문에 불순도를 크게 감소하는데 많이 사용된 특성이 중요도가 올라갈 것입니다."
      ],
      "metadata": {
        "id": "43Bti4rcIID8"
      }
    },
    {
      "cell_type": "code",
      "source": [
        "import matplotlib.pyplot as plt\n",
        "\n",
        "# 특성 중요도 (onehot)\n",
        "rf = pipe.named_steps['randomforestclassifier']\n",
        "colnames = pipe.named_steps['onehotencoder'].get_feature_names()\n",
        "importances = pd.Series(rf.feature_importances_, colnames)\n",
        "\n",
        "\n",
        "# 특성 중요도의 개수 : n\n",
        "n = 10\n",
        "plt.figure(figsize =(10, n/4))\n",
        "plt.title(f'Top{n} features with onehotencoder')\n",
        "importances.sort_values()[-n:].plot.barh();\n",
        "\n",
        "# 특성 중요도(ordinal)\n",
        "rf_ord = pipe_ord.named_steps['randomforestclassifier']\n",
        "importances_ord = pd.Series(rf_ord.feature_importances_, X_train.columns)\n",
        "\n",
        "plt.figure(figsize=(10,n/4))\n",
        "plt.title(f'Top {n} features with ordinalencoder')\n",
        "importances_ord.sort_values()[-n:].plot.barh();"
      ],
      "metadata": {
        "id": "mOIChSNkIJSg",
        "outputId": "d3aa3d7a-1b0f-43ef-dd4a-ad9ccbdc002d",
        "colab": {
          "base_uri": "https://localhost:8080/",
          "height": 383
        }
      },
      "execution_count": 20,
      "outputs": [
        {
          "output_type": "display_data",
          "data": {
            "text/plain": [
              "<Figure size 720x180 with 1 Axes>"
            ],
            "image/png": "[encoded data removed]"
          },
          "metadata": {
            "needs_background": "light"
          }
        },
        {
          "output_type": "display_data",
          "data": {
            "text/plain": [
              "<Figure size 720x180 with 1 Axes>"
            ],
            "image/png": "[encoded data removed]"
          },
          "metadata": {
            "needs_background": "light"
          }
        }
      ]
    },
    {
      "cell_type": "markdown",
      "source": [
        "#### Ordinal-Encoding이 Onehot 보다 특성대비 불순도의 감소가 휠씬 높다."
      ],
      "metadata": {
        "id": "aQoDgwevAia6"
      }
    },
    {
      "cell_type": "code",
      "source": [
        "from sklearn.linear_model import LogisticRegression\n",
        "from sklearn.preprocessing import StandardScaler\n",
        "pipe_lr = make_pipeline(\n",
        "    OneHotEncoder(),\n",
        "    SimpleImputer(),\n",
        "    LogisticRegression(n_jobs=-1)\n",
        ")\n"
      ],
      "metadata": {
        "id": "k7N75VurBTLa"
      },
      "execution_count": null,
      "outputs": []
    }
  ]
}