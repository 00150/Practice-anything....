{
  "nbformat": 4,
  "nbformat_minor": 0,
  "metadata": {
    "colab": {
      "provenance": [],
      "authorship_tag": "ABX9TyMwZYubiRSQjlmmWAsnq2Sr",
      "include_colab_link": true
    },
    "kernelspec": {
      "name": "python3",
      "display_name": "Python 3"
    },
    "language_info": {
      "name": "python"
    }
  },
  "cells": [
    {
      "cell_type": "markdown",
      "metadata": {
        "id": "view-in-github",
        "colab_type": "text"
      },
      "source": [
        "<a href=\"https://colab.research.google.com/github/00150/Practice-anything..../blob/main/Untitled173.ipynb\" target=\"_parent\"><img src=\"https://colab.research.google.com/assets/colab-badge.svg\" alt=\"Open In Colab\"/></a>"
      ]
    },
    {
      "cell_type": "markdown",
      "source": [
        "#### 랜덤포레스트 연습\n"
      ],
      "metadata": {
        "id": "WXAU3umysS3H"
      }
    },
    {
      "cell_type": "code",
      "source": [
        "!pip install category_encoders"
      ],
      "metadata": {
        "colab": {
          "base_uri": "https://localhost:8080/"
        },
        "id": "vFOpkI8CymgH",
        "outputId": "05e08013-d703-46ba-efc3-f685c016bd50"
      },
      "execution_count": 1,
      "outputs": [
        {
          "output_type": "stream",
          "name": "stdout",
          "text": [
            "Looking in indexes: https://pypi.org/simple, https://us-python.pkg.dev/colab-wheels/public/simple/\n",
            "Collecting category_encoders\n",
            "  Downloading category_encoders-2.5.1.post0-py2.py3-none-any.whl (72 kB)\n",
            "\u001b[K     |████████████████████████████████| 72 kB 161 kB/s \n",
            "\u001b[?25hRequirement already satisfied: numpy>=1.14.0 in /usr/local/lib/python3.7/dist-packages (from category_encoders) (1.21.6)\n",
            "Requirement already satisfied: pandas>=1.0.5 in /usr/local/lib/python3.7/dist-packages (from category_encoders) (1.3.5)\n",
            "Requirement already satisfied: scikit-learn>=0.20.0 in /usr/local/lib/python3.7/dist-packages (from category_encoders) (1.0.2)\n",
            "Requirement already satisfied: scipy>=1.0.0 in /usr/local/lib/python3.7/dist-packages (from category_encoders) (1.7.3)\n",
            "Requirement already satisfied: statsmodels>=0.9.0 in /usr/local/lib/python3.7/dist-packages (from category_encoders) (0.12.2)\n",
            "Requirement already satisfied: patsy>=0.5.1 in /usr/local/lib/python3.7/dist-packages (from category_encoders) (0.5.3)\n",
            "Requirement already satisfied: python-dateutil>=2.7.3 in /usr/local/lib/python3.7/dist-packages (from pandas>=1.0.5->category_encoders) (2.8.2)\n",
            "Requirement already satisfied: pytz>=2017.3 in /usr/local/lib/python3.7/dist-packages (from pandas>=1.0.5->category_encoders) (2022.6)\n",
            "Requirement already satisfied: six in /usr/local/lib/python3.7/dist-packages (from patsy>=0.5.1->category_encoders) (1.15.0)\n",
            "Requirement already satisfied: threadpoolctl>=2.0.0 in /usr/local/lib/python3.7/dist-packages (from scikit-learn>=0.20.0->category_encoders) (3.1.0)\n",
            "Requirement already satisfied: joblib>=0.11 in /usr/local/lib/python3.7/dist-packages (from scikit-learn>=0.20.0->category_encoders) (1.2.0)\n",
            "Installing collected packages: category-encoders\n",
            "Successfully installed category-encoders-2.5.1.post0\n"
          ]
        }
      ]
    },
    {
      "cell_type": "code",
      "source": [
        "# 사용할 라이브러리 가져오기.\n",
        "import pandas as pd"
      ],
      "metadata": {
        "id": "lwkjbMRAyuAv"
      },
      "execution_count": 2,
      "outputs": []
    },
    {
      "cell_type": "markdown",
      "source": [
        "#### H1N1 데이터 불러오기."
      ],
      "metadata": {
        "id": "7XVJZKFuOYN-"
      }
    },
    {
      "cell_type": "code",
      "source": [
        "target = 'vacc_h1n1_f'\n",
        "train = pd.merge(pd.read_csv('https://ds-lecture-data.s3.ap-northeast-2.amazonaws.com/vacc_flu/train.csv'), \n",
        "                 pd.read_csv('https://ds-lecture-data.s3.ap-northeast-2.amazonaws.com/vacc_flu/train_labels.csv')[target], left_index=True, right_index=True)\n",
        "test = pd.read_csv('https://ds-lecture-data.s3.ap-northeast-2.amazonaws.com/vacc_flu/test.csv')\n",
        "sample_submission = pd.read_csv('https://ds-lecture-data.s3.ap-northeast-2.amazonaws.com/vacc_flu/submission.csv')"
      ],
      "metadata": {
        "id": "UZbDz2eKO0SR"
      },
      "execution_count": 4,
      "outputs": []
    },
    {
      "cell_type": "markdown",
      "source": [
        "#### 훈련데이터 및 검증 데이터로 분리."
      ],
      "metadata": {
        "id": "zxHcH4ByO1l2"
      }
    },
    {
      "cell_type": "code",
      "source": [
        "from sklearn.model_selection import train_test_split\n",
        "train, val = train_test_split(train, train_size=0.80, test_size=0.20,\n",
        "                              stratify = train[target], random_state=2)\n",
        "\n",
        "train.shape, val.shape, test.shape"
      ],
      "metadata": {
        "colab": {
          "base_uri": "https://localhost:8080/"
        },
        "id": "J8hl4xFvObv4",
        "outputId": "8ac9750a-6dad-45cc-9e30-ede3883851d5"
      },
      "execution_count": 7,
      "outputs": [
        {
          "output_type": "execute_result",
          "data": {
            "text/plain": [
              "((33723, 39), (8431, 39), (28104, 38))"
            ]
          },
          "metadata": {},
          "execution_count": 7
        }
      ]
    },
    {
      "cell_type": "code",
      "source": [
        "def engineer(df):\n",
        "    \"\"\"특성을 엔지니어링 하는 함수입니다.\"\"\"\n",
        "    \n",
        "    # 높은 카디널리티를 가지는 특성을 제거합니다.\n",
        "#     selected_cols = df.select_dtypes(include=['number', 'object'])\n",
        "#     colnames = selected_cols.columns.tolist()\n",
        "#     labels = selected_cols.nunique()\n",
        "    \n",
        "#     selected_features = labels[labels <= 30].index.tolist()\n",
        "#     df = df[selected_features]\n",
        "    \n",
        "    # 새로운 특성을 생성합니다.\n",
        "    behaviorals = [col for col in df.columns if 'behavioral' in col] \n",
        "    df['behaviorals'] = df[behaviorals].sum(axis=1)\n",
        "    \n",
        "    \n",
        "    dels = [col for col in df.columns if ('employment' in col or 'seas' in col)]\n",
        "    df.drop(columns=dels, inplace=True)\n",
        "        \n",
        "    return df\n",
        "\n",
        "\n",
        "train = engineer(train)\n",
        "val = engineer(val)\n",
        "test = engineer(test)"
      ],
      "metadata": {
        "id": "g5rPL68IOy4U"
      },
      "execution_count": 8,
      "outputs": []
    },
    {
      "cell_type": "markdown",
      "source": [
        "#### 훈련/검증/테스트 데이터를 특성과 타겟으로 분리."
      ],
      "metadata": {
        "id": "usvEszFzPews"
      }
    },
    {
      "cell_type": "code",
      "source": [
        "# 독립변수 : features 지정\n",
        "features = train.drop(columns= [target]).columns\n",
        "\n",
        "# 데이터 분할 (target & features)\n",
        "\n",
        "# 훈련\n",
        "X_train = train[features]\n",
        "y_train = train[target]\n",
        "\n",
        "# 검증\n",
        "X_val = train[features]\n",
        "y_val = train[target]\n",
        "\n",
        "# 테스트 데이터(feature)\n",
        "X_test = test[features]"
      ],
      "metadata": {
        "id": "AsZc_LwCPkmH"
      },
      "execution_count": 9,
      "outputs": []
    },
    {
      "cell_type": "markdown",
      "source": [
        "#### 파이프라인 - 랜덤포레스트 적용\n"
      ],
      "metadata": {
        "id": "dARjozPGRCxr"
      }
    },
    {
      "cell_type": "code",
      "source": [
        "%%time\n",
        "from category_encoders import OneHotEncoder\n",
        "from sklearn.ensemble import RandomForestClassifier\n",
        "from sklearn.impute import SimpleImputer\n",
        "from sklearn.pipeline import make_pipeline\n",
        "\n",
        "pipe = make_pipeline(OneHotEncoder(use_cat_names=True),\n",
        "                     SimpleImputer(),\n",
        "                     RandomForestClassifier(n_jobs=-1, random_state=10, oob_score = True))\n",
        "\n",
        "# oob_score = Out - of _ Bag 의 약자, 부트스트랩 샘플링시 선택되지 않은 샘플을 의미한다. \n",
        "            # true로 진행시, 훈련 종료 후  oob 샘플을 기반으로 평가를 수행한다.\n",
        "\n",
        "\n",
        "# fit\n",
        "pipe.fit(X_train, y_train)\n",
        "print('검증 정확도', pipe.score(X_val, y_val))"
      ],
      "metadata": {
        "colab": {
          "base_uri": "https://localhost:8080/"
        },
        "id": "Xl944Xf1RGhR",
        "outputId": "3f081942-aad2-487d-964e-31f20eda2902"
      },
      "execution_count": 12,
      "outputs": [
        {
          "output_type": "stream",
          "name": "stdout",
          "text": [
            "검증 정확도 0.9971829315304095\n",
            "CPU times: user 12.4 s, sys: 261 ms, total: 12.6 s\n",
            "Wall time: 7.92 s\n"
          ]
        }
      ]
    },
    {
      "cell_type": "code",
      "source": [
        " pipe.named_steps"
      ],
      "metadata": {
        "colab": {
          "base_uri": "https://localhost:8080/"
        },
        "id": "GsdWr0BeRzbW",
        "outputId": "8cbc7f7d-8d55-49d3-f376-d881991154a3"
      },
      "execution_count": 13,
      "outputs": [
        {
          "output_type": "execute_result",
          "data": {
            "text/plain": [
              "{'onehotencoder': OneHotEncoder(cols=['opinion_h1n1_vacc_effective', 'opinion_h1n1_risk',\n",
              "                     'opinion_h1n1_sick_from_vacc', 'agegrp', 'census_msa',\n",
              "                     'state'],\n",
              "               use_cat_names=True),\n",
              " 'simpleimputer': SimpleImputer(),\n",
              " 'randomforestclassifier': RandomForestClassifier(n_jobs=-1, oob_score=True, random_state=10)}"
            ]
          },
          "metadata": {},
          "execution_count": 13
        }
      ]
    },
    {
      "cell_type": "code",
      "source": [],
      "metadata": {
        "id": "_WLl-aqzR4Q8"
      },
      "execution_count": null,
      "outputs": []
    }
  ]
}