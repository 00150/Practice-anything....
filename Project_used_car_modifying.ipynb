{
  "nbformat": 4,
  "nbformat_minor": 0,
  "metadata": {
    "colab": {
      "provenance": [],
      "include_colab_link": true
    },
    "kernelspec": {
      "name": "python3",
      "display_name": "Python 3"
    },
    "language_info": {
      "name": "python"
    },
    "widgets": {
      "application/vnd.jupyter.widget-state+json": {
        "6dfec2b22c9a421c82945728e164d302": {
          "model_module": "@jupyter-widgets/controls",
          "model_name": "HBoxModel",
          "model_module_version": "1.5.0",
          "state": {
            "_dom_classes": [],
            "_model_module": "@jupyter-widgets/controls",
            "_model_module_version": "1.5.0",
            "_model_name": "HBoxModel",
            "_view_count": null,
            "_view_module": "@jupyter-widgets/controls",
            "_view_module_version": "1.5.0",
            "_view_name": "HBoxView",
            "box_style": "",
            "children": [
              "IPY_MODEL_27e7e6be4f824e36bf557078734c859f",
              "IPY_MODEL_b25a5a45c3914dafa8e57f20cd1be891",
              "IPY_MODEL_bbdccba2aefb467e88025566d8ec76a3"
            ],
            "layout": "IPY_MODEL_9cad58503d054b9cb2acf7e771ba95be"
          }
        },
        "27e7e6be4f824e36bf557078734c859f": {
          "model_module": "@jupyter-widgets/controls",
          "model_name": "HTMLModel",
          "model_module_version": "1.5.0",
          "state": {
            "_dom_classes": [],
            "_model_module": "@jupyter-widgets/controls",
            "_model_module_version": "1.5.0",
            "_model_name": "HTMLModel",
            "_view_count": null,
            "_view_module": "@jupyter-widgets/controls",
            "_view_module_version": "1.5.0",
            "_view_name": "HTMLView",
            "description": "",
            "description_tooltip": null,
            "layout": "IPY_MODEL_e9c1027d55244955862592c408c78352",
            "placeholder": "​",
            "style": "IPY_MODEL_5a8886f81e9f4868bca4bc4ae3ea7605",
            "value": "Summarize dataset: 100%"
          }
        },
        "b25a5a45c3914dafa8e57f20cd1be891": {
          "model_module": "@jupyter-widgets/controls",
          "model_name": "FloatProgressModel",
          "model_module_version": "1.5.0",
          "state": {
            "_dom_classes": [],
            "_model_module": "@jupyter-widgets/controls",
            "_model_module_version": "1.5.0",
            "_model_name": "FloatProgressModel",
            "_view_count": null,
            "_view_module": "@jupyter-widgets/controls",
            "_view_module_version": "1.5.0",
            "_view_name": "ProgressView",
            "bar_style": "success",
            "description": "",
            "description_tooltip": null,
            "layout": "IPY_MODEL_72e0392aeb9448639612e46ef0dc54af",
            "max": 17,
            "min": 0,
            "orientation": "horizontal",
            "style": "IPY_MODEL_7ce592eee65d4d29969e03079fb3ea90",
            "value": 17
          }
        },
        "bbdccba2aefb467e88025566d8ec76a3": {
          "model_module": "@jupyter-widgets/controls",
          "model_name": "HTMLModel",
          "model_module_version": "1.5.0",
          "state": {
            "_dom_classes": [],
            "_model_module": "@jupyter-widgets/controls",
            "_model_module_version": "1.5.0",
            "_model_name": "HTMLModel",
            "_view_count": null,
            "_view_module": "@jupyter-widgets/controls",
            "_view_module_version": "1.5.0",
            "_view_name": "HTMLView",
            "description": "",
            "description_tooltip": null,
            "layout": "IPY_MODEL_a3552c2bde974ed1ada8efbbbcabba22",
            "placeholder": "​",
            "style": "IPY_MODEL_960477b134134763a93ea15e60a5510f",
            "value": " 17/17 [00:00&lt;00:00, 58.54it/s, Completed]"
          }
        },
        "9cad58503d054b9cb2acf7e771ba95be": {
          "model_module": "@jupyter-widgets/base",
          "model_name": "LayoutModel",
          "model_module_version": "1.2.0",
          "state": {
            "_model_module": "@jupyter-widgets/base",
            "_model_module_version": "1.2.0",
            "_model_name": "LayoutModel",
            "_view_count": null,
            "_view_module": "@jupyter-widgets/base",
            "_view_module_version": "1.2.0",
            "_view_name": "LayoutView",
            "align_content": null,
            "align_items": null,
            "align_self": null,
            "border": null,
            "bottom": null,
            "display": null,
            "flex": null,
            "flex_flow": null,
            "grid_area": null,
            "grid_auto_columns": null,
            "grid_auto_flow": null,
            "grid_auto_rows": null,
            "grid_column": null,
            "grid_gap": null,
            "grid_row": null,
            "grid_template_areas": null,
            "grid_template_columns": null,
            "grid_template_rows": null,
            "height": null,
            "justify_content": null,
            "justify_items": null,
            "left": null,
            "margin": null,
            "max_height": null,
            "max_width": null,
            "min_height": null,
            "min_width": null,
            "object_fit": null,
            "object_position": null,
            "order": null,
            "overflow": null,
            "overflow_x": null,
            "overflow_y": null,
            "padding": null,
            "right": null,
            "top": null,
            "visibility": null,
            "width": null
          }
        },
        "e9c1027d55244955862592c408c78352": {
          "model_module": "@jupyter-widgets/base",
          "model_name": "LayoutModel",
          "model_module_version": "1.2.0",
          "state": {
            "_model_module": "@jupyter-widgets/base",
            "_model_module_version": "1.2.0",
            "_model_name": "LayoutModel",
            "_view_count": null,
            "_view_module": "@jupyter-widgets/base",
            "_view_module_version": "1.2.0",
            "_view_name": "LayoutView",
            "align_content": null,
            "align_items": null,
            "align_self": null,
            "border": null,
            "bottom": null,
            "display": null,
            "flex": null,
            "flex_flow": null,
            "grid_area": null,
            "grid_auto_columns": null,
            "grid_auto_flow": null,
            "grid_auto_rows": null,
            "grid_column": null,
            "grid_gap": null,
            "grid_row": null,
            "grid_template_areas": null,
            "grid_template_columns": null,
            "grid_template_rows": null,
            "height": null,
            "justify_content": null,
            "justify_items": null,
            "left": null,
            "margin": null,
            "max_height": null,
            "max_width": null,
            "min_height": null,
            "min_width": null,
            "object_fit": null,
            "object_position": null,
            "order": null,
            "overflow": null,
            "overflow_x": null,
            "overflow_y": null,
            "padding": null,
            "right": null,
            "top": null,
            "visibility": null,
            "width": null
          }
        },
        "5a8886f81e9f4868bca4bc4ae3ea7605": {
          "model_module": "@jupyter-widgets/controls",
          "model_name": "DescriptionStyleModel",
          "model_module_version": "1.5.0",
          "state": {
            "_model_module": "@jupyter-widgets/controls",
            "_model_module_version": "1.5.0",
            "_model_name": "DescriptionStyleModel",
            "_view_count": null,
            "_view_module": "@jupyter-widgets/base",
            "_view_module_version": "1.2.0",
            "_view_name": "StyleView",
            "description_width": ""
          }
        },
        "72e0392aeb9448639612e46ef0dc54af": {
          "model_module": "@jupyter-widgets/base",
          "model_name": "LayoutModel",
          "model_module_version": "1.2.0",
          "state": {
            "_model_module": "@jupyter-widgets/base",
            "_model_module_version": "1.2.0",
            "_model_name": "LayoutModel",
            "_view_count": null,
            "_view_module": "@jupyter-widgets/base",
            "_view_module_version": "1.2.0",
            "_view_name": "LayoutView",
            "align_content": null,
            "align_items": null,
            "align_self": null,
            "border": null,
            "bottom": null,
            "display": null,
            "flex": null,
            "flex_flow": null,
            "grid_area": null,
            "grid_auto_columns": null,
            "grid_auto_flow": null,
            "grid_auto_rows": null,
            "grid_column": null,
            "grid_gap": null,
            "grid_row": null,
            "grid_template_areas": null,
            "grid_template_columns": null,
            "grid_template_rows": null,
            "height": null,
            "justify_content": null,
            "justify_items": null,
            "left": null,
            "margin": null,
            "max_height": null,
            "max_width": null,
            "min_height": null,
            "min_width": null,
            "object_fit": null,
            "object_position": null,
            "order": null,
            "overflow": null,
            "overflow_x": null,
            "overflow_y": null,
            "padding": null,
            "right": null,
            "top": null,
            "visibility": null,
            "width": null
          }
        },
        "7ce592eee65d4d29969e03079fb3ea90": {
          "model_module": "@jupyter-widgets/controls",
          "model_name": "ProgressStyleModel",
          "model_module_version": "1.5.0",
          "state": {
            "_model_module": "@jupyter-widgets/controls",
            "_model_module_version": "1.5.0",
            "_model_name": "ProgressStyleModel",
            "_view_count": null,
            "_view_module": "@jupyter-widgets/base",
            "_view_module_version": "1.2.0",
            "_view_name": "StyleView",
            "bar_color": null,
            "description_width": ""
          }
        },
        "a3552c2bde974ed1ada8efbbbcabba22": {
          "model_module": "@jupyter-widgets/base",
          "model_name": "LayoutModel",
          "model_module_version": "1.2.0",
          "state": {
            "_model_module": "@jupyter-widgets/base",
            "_model_module_version": "1.2.0",
            "_model_name": "LayoutModel",
            "_view_count": null,
            "_view_module": "@jupyter-widgets/base",
            "_view_module_version": "1.2.0",
            "_view_name": "LayoutView",
            "align_content": null,
            "align_items": null,
            "align_self": null,
            "border": null,
            "bottom": null,
            "display": null,
            "flex": null,
            "flex_flow": null,
            "grid_area": null,
            "grid_auto_columns": null,
            "grid_auto_flow": null,
            "grid_auto_rows": null,
            "grid_column": null,
            "grid_gap": null,
            "grid_row": null,
            "grid_template_areas": null,
            "grid_template_columns": null,
            "grid_template_rows": null,
            "height": null,
            "justify_content": null,
            "justify_items": null,
            "left": null,
            "margin": null,
            "max_height": null,
            "max_width": null,
            "min_height": null,
            "min_width": null,
            "object_fit": null,
            "object_position": null,
            "order": null,
            "overflow": null,
            "overflow_x": null,
            "overflow_y": null,
            "padding": null,
            "right": null,
            "top": null,
            "visibility": null,
            "width": null
          }
        },
        "960477b134134763a93ea15e60a5510f": {
          "model_module": "@jupyter-widgets/controls",
          "model_name": "DescriptionStyleModel",
          "model_module_version": "1.5.0",
          "state": {
            "_model_module": "@jupyter-widgets/controls",
            "_model_module_version": "1.5.0",
            "_model_name": "DescriptionStyleModel",
            "_view_count": null,
            "_view_module": "@jupyter-widgets/base",
            "_view_module_version": "1.2.0",
            "_view_name": "StyleView",
            "description_width": ""
          }
        },
        "1bdb957d326943639fea52b36d5369e3": {
          "model_module": "@jupyter-widgets/controls",
          "model_name": "HBoxModel",
          "model_module_version": "1.5.0",
          "state": {
            "_dom_classes": [],
            "_model_module": "@jupyter-widgets/controls",
            "_model_module_version": "1.5.0",
            "_model_name": "HBoxModel",
            "_view_count": null,
            "_view_module": "@jupyter-widgets/controls",
            "_view_module_version": "1.5.0",
            "_view_name": "HBoxView",
            "box_style": "",
            "children": [
              "IPY_MODEL_1bf6c5a3ab004db09b245ba8747dac23",
              "IPY_MODEL_0af3571519c5404fb00c0574c4534adf",
              "IPY_MODEL_35bb25c79a8b47b38900dc019134c973"
            ],
            "layout": "IPY_MODEL_b92e5435c74a425d830351fb6ab188bd"
          }
        },
        "1bf6c5a3ab004db09b245ba8747dac23": {
          "model_module": "@jupyter-widgets/controls",
          "model_name": "HTMLModel",
          "model_module_version": "1.5.0",
          "state": {
            "_dom_classes": [],
            "_model_module": "@jupyter-widgets/controls",
            "_model_module_version": "1.5.0",
            "_model_name": "HTMLModel",
            "_view_count": null,
            "_view_module": "@jupyter-widgets/controls",
            "_view_module_version": "1.5.0",
            "_view_name": "HTMLView",
            "description": "",
            "description_tooltip": null,
            "layout": "IPY_MODEL_22ef72c3b2df45dcb6c619fe0f31eab3",
            "placeholder": "​",
            "style": "IPY_MODEL_b148ce0c003e4e00a8ace7f873eae4f0",
            "value": "Generate report structure:   0%"
          }
        },
        "0af3571519c5404fb00c0574c4534adf": {
          "model_module": "@jupyter-widgets/controls",
          "model_name": "FloatProgressModel",
          "model_module_version": "1.5.0",
          "state": {
            "_dom_classes": [],
            "_model_module": "@jupyter-widgets/controls",
            "_model_module_version": "1.5.0",
            "_model_name": "FloatProgressModel",
            "_view_count": null,
            "_view_module": "@jupyter-widgets/controls",
            "_view_module_version": "1.5.0",
            "_view_name": "ProgressView",
            "bar_style": "danger",
            "description": "",
            "description_tooltip": null,
            "layout": "IPY_MODEL_1e3d57bdcacc4745bc87b09e0a9dfbf7",
            "max": 1,
            "min": 0,
            "orientation": "horizontal",
            "style": "IPY_MODEL_7c1a450efa9c420386a4c05465ec2100",
            "value": 0
          }
        },
        "35bb25c79a8b47b38900dc019134c973": {
          "model_module": "@jupyter-widgets/controls",
          "model_name": "HTMLModel",
          "model_module_version": "1.5.0",
          "state": {
            "_dom_classes": [],
            "_model_module": "@jupyter-widgets/controls",
            "_model_module_version": "1.5.0",
            "_model_name": "HTMLModel",
            "_view_count": null,
            "_view_module": "@jupyter-widgets/controls",
            "_view_module_version": "1.5.0",
            "_view_name": "HTMLView",
            "description": "",
            "description_tooltip": null,
            "layout": "IPY_MODEL_e990ab98b8fb4cd0898355bb9bd8226b",
            "placeholder": "​",
            "style": "IPY_MODEL_0715700dca9a4e35aad319fb27207398",
            "value": " 0/1 [00:00&lt;?, ?it/s]"
          }
        },
        "b92e5435c74a425d830351fb6ab188bd": {
          "model_module": "@jupyter-widgets/base",
          "model_name": "LayoutModel",
          "model_module_version": "1.2.0",
          "state": {
            "_model_module": "@jupyter-widgets/base",
            "_model_module_version": "1.2.0",
            "_model_name": "LayoutModel",
            "_view_count": null,
            "_view_module": "@jupyter-widgets/base",
            "_view_module_version": "1.2.0",
            "_view_name": "LayoutView",
            "align_content": null,
            "align_items": null,
            "align_self": null,
            "border": null,
            "bottom": null,
            "display": null,
            "flex": null,
            "flex_flow": null,
            "grid_area": null,
            "grid_auto_columns": null,
            "grid_auto_flow": null,
            "grid_auto_rows": null,
            "grid_column": null,
            "grid_gap": null,
            "grid_row": null,
            "grid_template_areas": null,
            "grid_template_columns": null,
            "grid_template_rows": null,
            "height": null,
            "justify_content": null,
            "justify_items": null,
            "left": null,
            "margin": null,
            "max_height": null,
            "max_width": null,
            "min_height": null,
            "min_width": null,
            "object_fit": null,
            "object_position": null,
            "order": null,
            "overflow": null,
            "overflow_x": null,
            "overflow_y": null,
            "padding": null,
            "right": null,
            "top": null,
            "visibility": null,
            "width": null
          }
        },
        "22ef72c3b2df45dcb6c619fe0f31eab3": {
          "model_module": "@jupyter-widgets/base",
          "model_name": "LayoutModel",
          "model_module_version": "1.2.0",
          "state": {
            "_model_module": "@jupyter-widgets/base",
            "_model_module_version": "1.2.0",
            "_model_name": "LayoutModel",
            "_view_count": null,
            "_view_module": "@jupyter-widgets/base",
            "_view_module_version": "1.2.0",
            "_view_name": "LayoutView",
            "align_content": null,
            "align_items": null,
            "align_self": null,
            "border": null,
            "bottom": null,
            "display": null,
            "flex": null,
            "flex_flow": null,
            "grid_area": null,
            "grid_auto_columns": null,
            "grid_auto_flow": null,
            "grid_auto_rows": null,
            "grid_column": null,
            "grid_gap": null,
            "grid_row": null,
            "grid_template_areas": null,
            "grid_template_columns": null,
            "grid_template_rows": null,
            "height": null,
            "justify_content": null,
            "justify_items": null,
            "left": null,
            "margin": null,
            "max_height": null,
            "max_width": null,
            "min_height": null,
            "min_width": null,
            "object_fit": null,
            "object_position": null,
            "order": null,
            "overflow": null,
            "overflow_x": null,
            "overflow_y": null,
            "padding": null,
            "right": null,
            "top": null,
            "visibility": null,
            "width": null
          }
        },
        "b148ce0c003e4e00a8ace7f873eae4f0": {
          "model_module": "@jupyter-widgets/controls",
          "model_name": "DescriptionStyleModel",
          "model_module_version": "1.5.0",
          "state": {
            "_model_module": "@jupyter-widgets/controls",
            "_model_module_version": "1.5.0",
            "_model_name": "DescriptionStyleModel",
            "_view_count": null,
            "_view_module": "@jupyter-widgets/base",
            "_view_module_version": "1.2.0",
            "_view_name": "StyleView",
            "description_width": ""
          }
        },
        "1e3d57bdcacc4745bc87b09e0a9dfbf7": {
          "model_module": "@jupyter-widgets/base",
          "model_name": "LayoutModel",
          "model_module_version": "1.2.0",
          "state": {
            "_model_module": "@jupyter-widgets/base",
            "_model_module_version": "1.2.0",
            "_model_name": "LayoutModel",
            "_view_count": null,
            "_view_module": "@jupyter-widgets/base",
            "_view_module_version": "1.2.0",
            "_view_name": "LayoutView",
            "align_content": null,
            "align_items": null,
            "align_self": null,
            "border": null,
            "bottom": null,
            "display": null,
            "flex": null,
            "flex_flow": null,
            "grid_area": null,
            "grid_auto_columns": null,
            "grid_auto_flow": null,
            "grid_auto_rows": null,
            "grid_column": null,
            "grid_gap": null,
            "grid_row": null,
            "grid_template_areas": null,
            "grid_template_columns": null,
            "grid_template_rows": null,
            "height": null,
            "justify_content": null,
            "justify_items": null,
            "left": null,
            "margin": null,
            "max_height": null,
            "max_width": null,
            "min_height": null,
            "min_width": null,
            "object_fit": null,
            "object_position": null,
            "order": null,
            "overflow": null,
            "overflow_x": null,
            "overflow_y": null,
            "padding": null,
            "right": null,
            "top": null,
            "visibility": null,
            "width": null
          }
        },
        "7c1a450efa9c420386a4c05465ec2100": {
          "model_module": "@jupyter-widgets/controls",
          "model_name": "ProgressStyleModel",
          "model_module_version": "1.5.0",
          "state": {
            "_model_module": "@jupyter-widgets/controls",
            "_model_module_version": "1.5.0",
            "_model_name": "ProgressStyleModel",
            "_view_count": null,
            "_view_module": "@jupyter-widgets/base",
            "_view_module_version": "1.2.0",
            "_view_name": "StyleView",
            "bar_color": null,
            "description_width": ""
          }
        },
        "e990ab98b8fb4cd0898355bb9bd8226b": {
          "model_module": "@jupyter-widgets/base",
          "model_name": "LayoutModel",
          "model_module_version": "1.2.0",
          "state": {
            "_model_module": "@jupyter-widgets/base",
            "_model_module_version": "1.2.0",
            "_model_name": "LayoutModel",
            "_view_count": null,
            "_view_module": "@jupyter-widgets/base",
            "_view_module_version": "1.2.0",
            "_view_name": "LayoutView",
            "align_content": null,
            "align_items": null,
            "align_self": null,
            "border": null,
            "bottom": null,
            "display": null,
            "flex": null,
            "flex_flow": null,
            "grid_area": null,
            "grid_auto_columns": null,
            "grid_auto_flow": null,
            "grid_auto_rows": null,
            "grid_column": null,
            "grid_gap": null,
            "grid_row": null,
            "grid_template_areas": null,
            "grid_template_columns": null,
            "grid_template_rows": null,
            "height": null,
            "justify_content": null,
            "justify_items": null,
            "left": null,
            "margin": null,
            "max_height": null,
            "max_width": null,
            "min_height": null,
            "min_width": null,
            "object_fit": null,
            "object_position": null,
            "order": null,
            "overflow": null,
            "overflow_x": null,
            "overflow_y": null,
            "padding": null,
            "right": null,
            "top": null,
            "visibility": null,
            "width": null
          }
        },
        "0715700dca9a4e35aad319fb27207398": {
          "model_module": "@jupyter-widgets/controls",
          "model_name": "DescriptionStyleModel",
          "model_module_version": "1.5.0",
          "state": {
            "_model_module": "@jupyter-widgets/controls",
            "_model_module_version": "1.5.0",
            "_model_name": "DescriptionStyleModel",
            "_view_count": null,
            "_view_module": "@jupyter-widgets/base",
            "_view_module_version": "1.2.0",
            "_view_name": "StyleView",
            "description_width": ""
          }
        }
      }
    },
    "accelerator": "GPU",
    "gpuClass": "standard"
  },
  "cells": [
    {
      "cell_type": "markdown",
      "metadata": {
        "id": "view-in-github",
        "colab_type": "text"
      },
      "source": [
        "<a href=\"https://colab.research.google.com/github/00150/Practice-anything..../blob/main/Project_used_car_modifying.ipynb\" target=\"_parent\"><img src=\"https://colab.research.google.com/assets/colab-badge.svg\" alt=\"Open In Colab\"/></a>"
      ]
    },
    {
      "cell_type": "markdown",
      "source": [
        "# 🚘**중고차 데이터 분석 및 시각화**🚘\n",
        "\n",
        ">**1.연구 배경**\n",
        "  \n",
        "국내 중고차 시장 규모는 20조 ~ 25조원으로 추정됩니다.</br>\n",
        "**한국자동차산업협회(KAMA)**가 발표한 **'2020년 국내 중고차 거래현황 분석 및 시사점' 보고서**에 따르면\n",
        "  **2020년 한 해 동안 국내에서 거래된 중고차 대수**는 **약 251만 5000대**로, <u>**같은 기간 신차 판매량보다 \n",
        "  약 1.32배 이상 높은 수치**</u>를 기록하였습니다. </br>\n",
        "  \n",
        "KAMA에서 발표한 보고서에 따르면 국내 중고차 시장에서 매매업자를 통한 거래보다 개인등 당사자 간의\n",
        "  거래의 비중이 더 높은 것으로 나타나 **<u>중고차 매매업자에 대한 소비자 불신이 심각한 수준</u>**이라는 분석이 나왔습니다.\n",
        "  \n",
        "  - 당사자간의 거래 : 54.7%\n",
        "  - 중고차 매매업자를 통한 거래 : 45.3% \n",
        "  \n",
        "  \n",
        "또한 지난 3월, 중소벤처기업부에 따르면 생계형 적합업종 심의위원회는 중고차 판매업을 생계형 적합업종으로 지정하지 않기로 의결하며 **완성차 대기업의 중고차 시장 진출이 가능**해졌습니다. </br>\n",
        "  \n",
        "   이는 완성차 대기업의 진출로 중고차 성능 및 상태 등등의 제품의 신뢰성이 확보되고, </br>소비자들에게 제품 구매에 관한 신뢰도를 높임으로써 **중고차 거래에서 더 나은 활력**을 불어줄 것입니다. </br>\n",
        "\n",
        "**하지만** 큰 규모의 중고차 시장을 들여다보면</br> \n",
        "**중고차 중개인의 허위 매물 판매, 중고차의 성능 및 상태 조작 등등의  여러가지 사건 & 사고가 존재**합니다.\n",
        "\n",
        "**이번 프로젝트를 통해 구매하고 싶은 차의 종류 및 상태의 적정 가격을 알 수 있다면,**</br> \n",
        "<u>**매매업자 및 당사자간의 거래에서 원활한 거래를 진행할 수 있을 것 입니다.**</u>\n",
        "\n",
        "\n",
        " * 연구 배경 참조 URL\n",
        "  - [URL 1](https://www.yna.co.kr/view/AKR20211025079400003)\n",
        "  - [URL 2]((https://biz.chosun.com/industry/company/2022/03/17/7K2CGANW3BB7RFI5CWXIKWFUYA/))\n",
        "\n",
        "\n",
        "\n",
        ">**2.연구 목적**\n",
        "\n",
        "* 구매하고 싶은 차의 종류 및 적정 가격을 알 수 있다.\n",
        "* 위 내용을 바탕으로 앞으로의 중고차의 거래에서 원활한 거래를 진행할 수 있다.\n",
        "\n",
        "\n",
        "\n",
        ">**3.연구 방법**\n",
        "\n",
        "* 자료 : [Kaggle 데이터 참조](https://www.kaggle.com/datasets/adityadesai13/used-car-dataset-ford-and-mercedes)\n",
        "\n",
        "* 사용할 수 있는 방법 \n",
        " - 머신러닝 지도학습 : 회귀 & 결정트리\n",
        " - 데이터를 살펴보고 어떤 방법을 사용할 지 결정합니다.\n",
        " - 지도학습 회귀 & 결정트리는 알아보고자하는 target 이 어떠한 데이터 형태를 띄느냐에 따라 사용할 수 있는 방법이 다릅니다.\n",
        "  \n",
        "  - ex) 회귀 output : 연속형 변수</br>분류 output : 범주형 변수\n",
        "  - 데이터를 살펴보고, 전처리 및 가공을 통해 올바른 방법으로 데이터를 분석을 진행하고자 합니다. \n",
        "\n",
        "\n",
        "\n"
      ],
      "metadata": {
        "id": "feQ7l_1kCJRG"
      }
    },
    {
      "cell_type": "markdown",
      "source": [
        "❗  참고\n",
        "* 필요한 라이브러리 및 패키지는 그때마다 가져와서 사용하도록 하겠습니다.\n"
      ],
      "metadata": {
        "id": "Zy8XcfMBXZoY"
      }
    },
    {
      "cell_type": "code",
      "source": [
        "# 데이터 불러오기 (크롬)\n",
        "from google.colab import drive\n",
        "drive.mount('/content/drive')"
      ],
      "metadata": {
        "id": "Viyoe-sQV8it",
        "outputId": "b6471ed4-27f9-4662-eab6-0e969740d5f9",
        "colab": {
          "base_uri": "https://localhost:8080/"
        }
      },
      "execution_count": 1,
      "outputs": [
        {
          "output_type": "stream",
          "name": "stdout",
          "text": [
            "Drive already mounted at /content/drive; to attempt to forcibly remount, call drive.mount(\"/content/drive\", force_remount=True).\n"
          ]
        }
      ]
    },
    {
      "cell_type": "code",
      "source": [
        "# 필요한 라이브러리 불러오기\n",
        "import pandas as pd\n",
        "import numpy as np\n",
        "\n",
        "# 전처리 작업 진행 도중 값의 앞 부분에 띄어쓰기가 들어가 있어 삭제합니다. \n",
        "# 파라미터: skipinitialspace=True \n",
        "\n",
        "# 아우디 \n",
        "# 아우디\n",
        "audi = pd.read_csv('/content/drive/MyDrive/project : used_car/audi.csv',skipinitialspace=True)\n"
      ],
      "metadata": {
        "id": "XFfSRzHmZP6q"
      },
      "execution_count": 2,
      "outputs": []
    },
    {
      "cell_type": "markdown",
      "source": [
        "# 1. Audi 데이터 살펴보기.\n",
        "> 외제차중 인기있는 브랜드 중 하나인 audi의 DATA를 살펴봅니다.\n",
        "\n"
      ],
      "metadata": {
        "id": "d-ISwjmjgoUA"
      }
    },
    {
      "cell_type": "code",
      "source": [
        "audi.head()"
      ],
      "metadata": {
        "colab": {
          "base_uri": "https://localhost:8080/",
          "height": 206
        },
        "id": "jPmNiRxN_i20",
        "outputId": "975f81a3-7058-49cb-bc30-630e7c96f780"
      },
      "execution_count": 3,
      "outputs": [
        {
          "output_type": "execute_result",
          "data": {
            "text/plain": [
              "  model  year  price transmission  mileage fuelType  tax   mpg  engineSize\n",
              "0    A1  2017  12500       Manual    15735   Petrol  150  55.4         1.4\n",
              "1    A6  2016  16500    Automatic    36203   Diesel   20  64.2         2.0\n",
              "2    A1  2016  11000       Manual    29946   Petrol   30  55.4         1.4\n",
              "3    A4  2017  16800    Automatic    25952   Diesel  145  67.3         2.0\n",
              "4    A3  2019  17300       Manual     1998   Petrol  145  49.6         1.0"
            ],
            "text/html": [
              "\n",
              "  <div id=\"df-37585ed8-0199-4271-9223-ecbbe53aba25\">\n",
              "    <div class=\"colab-df-container\">\n",
              "      <div>\n",
              "<style scoped>\n",
              "    .dataframe tbody tr th:only-of-type {\n",
              "        vertical-align: middle;\n",
              "    }\n",
              "\n",
              "    .dataframe tbody tr th {\n",
              "        vertical-align: top;\n",
              "    }\n",
              "\n",
              "    .dataframe thead th {\n",
              "        text-align: right;\n",
              "    }\n",
              "</style>\n",
              "<table border=\"1\" class=\"dataframe\">\n",
              "  <thead>\n",
              "    <tr style=\"text-align: right;\">\n",
              "      <th></th>\n",
              "      <th>model</th>\n",
              "      <th>year</th>\n",
              "      <th>price</th>\n",
              "      <th>transmission</th>\n",
              "      <th>mileage</th>\n",
              "      <th>fuelType</th>\n",
              "      <th>tax</th>\n",
              "      <th>mpg</th>\n",
              "      <th>engineSize</th>\n",
              "    </tr>\n",
              "  </thead>\n",
              "  <tbody>\n",
              "    <tr>\n",
              "      <th>0</th>\n",
              "      <td>A1</td>\n",
              "      <td>2017</td>\n",
              "      <td>12500</td>\n",
              "      <td>Manual</td>\n",
              "      <td>15735</td>\n",
              "      <td>Petrol</td>\n",
              "      <td>150</td>\n",
              "      <td>55.4</td>\n",
              "      <td>1.4</td>\n",
              "    </tr>\n",
              "    <tr>\n",
              "      <th>1</th>\n",
              "      <td>A6</td>\n",
              "      <td>2016</td>\n",
              "      <td>16500</td>\n",
              "      <td>Automatic</td>\n",
              "      <td>36203</td>\n",
              "      <td>Diesel</td>\n",
              "      <td>20</td>\n",
              "      <td>64.2</td>\n",
              "      <td>2.0</td>\n",
              "    </tr>\n",
              "    <tr>\n",
              "      <th>2</th>\n",
              "      <td>A1</td>\n",
              "      <td>2016</td>\n",
              "      <td>11000</td>\n",
              "      <td>Manual</td>\n",
              "      <td>29946</td>\n",
              "      <td>Petrol</td>\n",
              "      <td>30</td>\n",
              "      <td>55.4</td>\n",
              "      <td>1.4</td>\n",
              "    </tr>\n",
              "    <tr>\n",
              "      <th>3</th>\n",
              "      <td>A4</td>\n",
              "      <td>2017</td>\n",
              "      <td>16800</td>\n",
              "      <td>Automatic</td>\n",
              "      <td>25952</td>\n",
              "      <td>Diesel</td>\n",
              "      <td>145</td>\n",
              "      <td>67.3</td>\n",
              "      <td>2.0</td>\n",
              "    </tr>\n",
              "    <tr>\n",
              "      <th>4</th>\n",
              "      <td>A3</td>\n",
              "      <td>2019</td>\n",
              "      <td>17300</td>\n",
              "      <td>Manual</td>\n",
              "      <td>1998</td>\n",
              "      <td>Petrol</td>\n",
              "      <td>145</td>\n",
              "      <td>49.6</td>\n",
              "      <td>1.0</td>\n",
              "    </tr>\n",
              "  </tbody>\n",
              "</table>\n",
              "</div>\n",
              "      <button class=\"colab-df-convert\" onclick=\"convertToInteractive('df-37585ed8-0199-4271-9223-ecbbe53aba25')\"\n",
              "              title=\"Convert this dataframe to an interactive table.\"\n",
              "              style=\"display:none;\">\n",
              "        \n",
              "  <svg xmlns=\"http://www.w3.org/2000/svg\" height=\"24px\"viewBox=\"0 0 24 24\"\n",
              "       width=\"24px\">\n",
              "    <path d=\"M0 0h24v24H0V0z\" fill=\"none\"/>\n",
              "    <path d=\"M18.56 5.44l.94 2.06.94-2.06 2.06-.94-2.06-.94-.94-2.06-.94 2.06-2.06.94zm-11 1L8.5 8.5l.94-2.06 2.06-.94-2.06-.94L8.5 2.5l-.94 2.06-2.06.94zm10 10l.94 2.06.94-2.06 2.06-.94-2.06-.94-.94-2.06-.94 2.06-2.06.94z\"/><path d=\"M17.41 7.96l-1.37-1.37c-.4-.4-.92-.59-1.43-.59-.52 0-1.04.2-1.43.59L10.3 9.45l-7.72 7.72c-.78.78-.78 2.05 0 2.83L4 21.41c.39.39.9.59 1.41.59.51 0 1.02-.2 1.41-.59l7.78-7.78 2.81-2.81c.8-.78.8-2.07 0-2.86zM5.41 20L4 18.59l7.72-7.72 1.47 1.35L5.41 20z\"/>\n",
              "  </svg>\n",
              "      </button>\n",
              "      \n",
              "  <style>\n",
              "    .colab-df-container {\n",
              "      display:flex;\n",
              "      flex-wrap:wrap;\n",
              "      gap: 12px;\n",
              "    }\n",
              "\n",
              "    .colab-df-convert {\n",
              "      background-color: #E8F0FE;\n",
              "      border: none;\n",
              "      border-radius: 50%;\n",
              "      cursor: pointer;\n",
              "      display: none;\n",
              "      fill: #1967D2;\n",
              "      height: 32px;\n",
              "      padding: 0 0 0 0;\n",
              "      width: 32px;\n",
              "    }\n",
              "\n",
              "    .colab-df-convert:hover {\n",
              "      background-color: #E2EBFA;\n",
              "      box-shadow: 0px 1px 2px rgba(60, 64, 67, 0.3), 0px 1px 3px 1px rgba(60, 64, 67, 0.15);\n",
              "      fill: #174EA6;\n",
              "    }\n",
              "\n",
              "    [theme=dark] .colab-df-convert {\n",
              "      background-color: #3B4455;\n",
              "      fill: #D2E3FC;\n",
              "    }\n",
              "\n",
              "    [theme=dark] .colab-df-convert:hover {\n",
              "      background-color: #434B5C;\n",
              "      box-shadow: 0px 1px 3px 1px rgba(0, 0, 0, 0.15);\n",
              "      filter: drop-shadow(0px 1px 2px rgba(0, 0, 0, 0.3));\n",
              "      fill: #FFFFFF;\n",
              "    }\n",
              "  </style>\n",
              "\n",
              "      <script>\n",
              "        const buttonEl =\n",
              "          document.querySelector('#df-37585ed8-0199-4271-9223-ecbbe53aba25 button.colab-df-convert');\n",
              "        buttonEl.style.display =\n",
              "          google.colab.kernel.accessAllowed ? 'block' : 'none';\n",
              "\n",
              "        async function convertToInteractive(key) {\n",
              "          const element = document.querySelector('#df-37585ed8-0199-4271-9223-ecbbe53aba25');\n",
              "          const dataTable =\n",
              "            await google.colab.kernel.invokeFunction('convertToInteractive',\n",
              "                                                     [key], {});\n",
              "          if (!dataTable) return;\n",
              "\n",
              "          const docLinkHtml = 'Like what you see? Visit the ' +\n",
              "            '<a target=\"_blank\" href=https://colab.research.google.com/notebooks/data_table.ipynb>data table notebook</a>'\n",
              "            + ' to learn more about interactive tables.';\n",
              "          element.innerHTML = '';\n",
              "          dataTable['output_type'] = 'display_data';\n",
              "          await google.colab.output.renderOutput(dataTable, element);\n",
              "          const docLink = document.createElement('div');\n",
              "          docLink.innerHTML = docLinkHtml;\n",
              "          element.appendChild(docLink);\n",
              "        }\n",
              "      </script>\n",
              "    </div>\n",
              "  </div>\n",
              "  "
            ]
          },
          "metadata": {},
          "execution_count": 3
        }
      ]
    },
    {
      "cell_type": "markdown",
      "source": [
        "* 각각의 컬럼은 다음과 같습니다. \n",
        "  - model : 자동차의 모델명🏎\n",
        "  - year : 연식 📅\n",
        "  - price : 가격 💸\n",
        "  - transmission : 변속기⚙\n",
        "  - mileage : 자동차 주행거리🎛\n",
        "  - fuelType : 자동차 연료의 유형⛽\n",
        "  - tax : 세금(자동차)🧾\n",
        "  - mpg(Miles per Gallon) : 연비(Fuel efficiency)🎭\n",
        "  - engineSize :엔진 크기🦾"
      ],
      "metadata": {
        "id": "Xgk50HnpAyTX"
      }
    },
    {
      "cell_type": "markdown",
      "source": [
        "#### **1-2. EDA : Audi** "
      ],
      "metadata": {
        "id": "C3ioe02pAKnM"
      }
    },
    {
      "cell_type": "code",
      "source": [
        "audi.info()"
      ],
      "metadata": {
        "colab": {
          "base_uri": "https://localhost:8080/"
        },
        "id": "6HRqJ_0WANbW",
        "outputId": "121fb1c4-922a-48ce-f2c0-c53440a5e8a5"
      },
      "execution_count": 4,
      "outputs": [
        {
          "output_type": "stream",
          "name": "stdout",
          "text": [
            "<class 'pandas.core.frame.DataFrame'>\n",
            "RangeIndex: 10668 entries, 0 to 10667\n",
            "Data columns (total 9 columns):\n",
            " #   Column        Non-Null Count  Dtype  \n",
            "---  ------        --------------  -----  \n",
            " 0   model         10668 non-null  object \n",
            " 1   year          10668 non-null  int64  \n",
            " 2   price         10668 non-null  int64  \n",
            " 3   transmission  10668 non-null  object \n",
            " 4   mileage       10668 non-null  int64  \n",
            " 5   fuelType      10668 non-null  object \n",
            " 6   tax           10668 non-null  int64  \n",
            " 7   mpg           10668 non-null  float64\n",
            " 8   engineSize    10668 non-null  float64\n",
            "dtypes: float64(2), int64(4), object(3)\n",
            "memory usage: 750.2+ KB\n"
          ]
        }
      ]
    },
    {
      "cell_type": "code",
      "source": [
        "audi.isnull().sum()"
      ],
      "metadata": {
        "colab": {
          "base_uri": "https://localhost:8080/"
        },
        "id": "xuLQE9WsB-pM",
        "outputId": "12a7a4e3-c2a1-40d9-d25a-25c5e6660de8"
      },
      "execution_count": 5,
      "outputs": [
        {
          "output_type": "execute_result",
          "data": {
            "text/plain": [
              "model           0\n",
              "year            0\n",
              "price           0\n",
              "transmission    0\n",
              "mileage         0\n",
              "fuelType        0\n",
              "tax             0\n",
              "mpg             0\n",
              "engineSize      0\n",
              "dtype: int64"
            ]
          },
          "metadata": {},
          "execution_count": 5
        }
      ]
    },
    {
      "cell_type": "code",
      "source": [
        "# 숫자 타입 데이터 살펴보기.\n",
        "audi.describe()"
      ],
      "metadata": {
        "colab": {
          "base_uri": "https://localhost:8080/",
          "height": 300
        },
        "id": "EGd6eAsgCFqT",
        "outputId": "861e86e9-bc44-4b2a-a9e1-3a343e2bb141"
      },
      "execution_count": 6,
      "outputs": [
        {
          "output_type": "execute_result",
          "data": {
            "text/plain": [
              "               year          price        mileage           tax           mpg  \\\n",
              "count  10668.000000   10668.000000   10668.000000  10668.000000  10668.000000   \n",
              "mean    2017.100675   22896.685039   24827.244001    126.011436     50.770022   \n",
              "std        2.167494   11714.841888   23505.257205     67.170294     12.949782   \n",
              "min     1997.000000    1490.000000       1.000000      0.000000     18.900000   \n",
              "25%     2016.000000   15130.750000    5968.750000    125.000000     40.900000   \n",
              "50%     2017.000000   20200.000000   19000.000000    145.000000     49.600000   \n",
              "75%     2019.000000   27990.000000   36464.500000    145.000000     58.900000   \n",
              "max     2020.000000  145000.000000  323000.000000    580.000000    188.300000   \n",
              "\n",
              "         engineSize  \n",
              "count  10668.000000  \n",
              "mean       1.930709  \n",
              "std        0.602957  \n",
              "min        0.000000  \n",
              "25%        1.500000  \n",
              "50%        2.000000  \n",
              "75%        2.000000  \n",
              "max        6.300000  "
            ],
            "text/html": [
              "\n",
              "  <div id=\"df-e865579f-0753-459f-a613-3f9e69a537d1\">\n",
              "    <div class=\"colab-df-container\">\n",
              "      <div>\n",
              "<style scoped>\n",
              "    .dataframe tbody tr th:only-of-type {\n",
              "        vertical-align: middle;\n",
              "    }\n",
              "\n",
              "    .dataframe tbody tr th {\n",
              "        vertical-align: top;\n",
              "    }\n",
              "\n",
              "    .dataframe thead th {\n",
              "        text-align: right;\n",
              "    }\n",
              "</style>\n",
              "<table border=\"1\" class=\"dataframe\">\n",
              "  <thead>\n",
              "    <tr style=\"text-align: right;\">\n",
              "      <th></th>\n",
              "      <th>year</th>\n",
              "      <th>price</th>\n",
              "      <th>mileage</th>\n",
              "      <th>tax</th>\n",
              "      <th>mpg</th>\n",
              "      <th>engineSize</th>\n",
              "    </tr>\n",
              "  </thead>\n",
              "  <tbody>\n",
              "    <tr>\n",
              "      <th>count</th>\n",
              "      <td>10668.000000</td>\n",
              "      <td>10668.000000</td>\n",
              "      <td>10668.000000</td>\n",
              "      <td>10668.000000</td>\n",
              "      <td>10668.000000</td>\n",
              "      <td>10668.000000</td>\n",
              "    </tr>\n",
              "    <tr>\n",
              "      <th>mean</th>\n",
              "      <td>2017.100675</td>\n",
              "      <td>22896.685039</td>\n",
              "      <td>24827.244001</td>\n",
              "      <td>126.011436</td>\n",
              "      <td>50.770022</td>\n",
              "      <td>1.930709</td>\n",
              "    </tr>\n",
              "    <tr>\n",
              "      <th>std</th>\n",
              "      <td>2.167494</td>\n",
              "      <td>11714.841888</td>\n",
              "      <td>23505.257205</td>\n",
              "      <td>67.170294</td>\n",
              "      <td>12.949782</td>\n",
              "      <td>0.602957</td>\n",
              "    </tr>\n",
              "    <tr>\n",
              "      <th>min</th>\n",
              "      <td>1997.000000</td>\n",
              "      <td>1490.000000</td>\n",
              "      <td>1.000000</td>\n",
              "      <td>0.000000</td>\n",
              "      <td>18.900000</td>\n",
              "      <td>0.000000</td>\n",
              "    </tr>\n",
              "    <tr>\n",
              "      <th>25%</th>\n",
              "      <td>2016.000000</td>\n",
              "      <td>15130.750000</td>\n",
              "      <td>5968.750000</td>\n",
              "      <td>125.000000</td>\n",
              "      <td>40.900000</td>\n",
              "      <td>1.500000</td>\n",
              "    </tr>\n",
              "    <tr>\n",
              "      <th>50%</th>\n",
              "      <td>2017.000000</td>\n",
              "      <td>20200.000000</td>\n",
              "      <td>19000.000000</td>\n",
              "      <td>145.000000</td>\n",
              "      <td>49.600000</td>\n",
              "      <td>2.000000</td>\n",
              "    </tr>\n",
              "    <tr>\n",
              "      <th>75%</th>\n",
              "      <td>2019.000000</td>\n",
              "      <td>27990.000000</td>\n",
              "      <td>36464.500000</td>\n",
              "      <td>145.000000</td>\n",
              "      <td>58.900000</td>\n",
              "      <td>2.000000</td>\n",
              "    </tr>\n",
              "    <tr>\n",
              "      <th>max</th>\n",
              "      <td>2020.000000</td>\n",
              "      <td>145000.000000</td>\n",
              "      <td>323000.000000</td>\n",
              "      <td>580.000000</td>\n",
              "      <td>188.300000</td>\n",
              "      <td>6.300000</td>\n",
              "    </tr>\n",
              "  </tbody>\n",
              "</table>\n",
              "</div>\n",
              "      <button class=\"colab-df-convert\" onclick=\"convertToInteractive('df-e865579f-0753-459f-a613-3f9e69a537d1')\"\n",
              "              title=\"Convert this dataframe to an interactive table.\"\n",
              "              style=\"display:none;\">\n",
              "        \n",
              "  <svg xmlns=\"http://www.w3.org/2000/svg\" height=\"24px\"viewBox=\"0 0 24 24\"\n",
              "       width=\"24px\">\n",
              "    <path d=\"M0 0h24v24H0V0z\" fill=\"none\"/>\n",
              "    <path d=\"M18.56 5.44l.94 2.06.94-2.06 2.06-.94-2.06-.94-.94-2.06-.94 2.06-2.06.94zm-11 1L8.5 8.5l.94-2.06 2.06-.94-2.06-.94L8.5 2.5l-.94 2.06-2.06.94zm10 10l.94 2.06.94-2.06 2.06-.94-2.06-.94-.94-2.06-.94 2.06-2.06.94z\"/><path d=\"M17.41 7.96l-1.37-1.37c-.4-.4-.92-.59-1.43-.59-.52 0-1.04.2-1.43.59L10.3 9.45l-7.72 7.72c-.78.78-.78 2.05 0 2.83L4 21.41c.39.39.9.59 1.41.59.51 0 1.02-.2 1.41-.59l7.78-7.78 2.81-2.81c.8-.78.8-2.07 0-2.86zM5.41 20L4 18.59l7.72-7.72 1.47 1.35L5.41 20z\"/>\n",
              "  </svg>\n",
              "      </button>\n",
              "      \n",
              "  <style>\n",
              "    .colab-df-container {\n",
              "      display:flex;\n",
              "      flex-wrap:wrap;\n",
              "      gap: 12px;\n",
              "    }\n",
              "\n",
              "    .colab-df-convert {\n",
              "      background-color: #E8F0FE;\n",
              "      border: none;\n",
              "      border-radius: 50%;\n",
              "      cursor: pointer;\n",
              "      display: none;\n",
              "      fill: #1967D2;\n",
              "      height: 32px;\n",
              "      padding: 0 0 0 0;\n",
              "      width: 32px;\n",
              "    }\n",
              "\n",
              "    .colab-df-convert:hover {\n",
              "      background-color: #E2EBFA;\n",
              "      box-shadow: 0px 1px 2px rgba(60, 64, 67, 0.3), 0px 1px 3px 1px rgba(60, 64, 67, 0.15);\n",
              "      fill: #174EA6;\n",
              "    }\n",
              "\n",
              "    [theme=dark] .colab-df-convert {\n",
              "      background-color: #3B4455;\n",
              "      fill: #D2E3FC;\n",
              "    }\n",
              "\n",
              "    [theme=dark] .colab-df-convert:hover {\n",
              "      background-color: #434B5C;\n",
              "      box-shadow: 0px 1px 3px 1px rgba(0, 0, 0, 0.15);\n",
              "      filter: drop-shadow(0px 1px 2px rgba(0, 0, 0, 0.3));\n",
              "      fill: #FFFFFF;\n",
              "    }\n",
              "  </style>\n",
              "\n",
              "      <script>\n",
              "        const buttonEl =\n",
              "          document.querySelector('#df-e865579f-0753-459f-a613-3f9e69a537d1 button.colab-df-convert');\n",
              "        buttonEl.style.display =\n",
              "          google.colab.kernel.accessAllowed ? 'block' : 'none';\n",
              "\n",
              "        async function convertToInteractive(key) {\n",
              "          const element = document.querySelector('#df-e865579f-0753-459f-a613-3f9e69a537d1');\n",
              "          const dataTable =\n",
              "            await google.colab.kernel.invokeFunction('convertToInteractive',\n",
              "                                                     [key], {});\n",
              "          if (!dataTable) return;\n",
              "\n",
              "          const docLinkHtml = 'Like what you see? Visit the ' +\n",
              "            '<a target=\"_blank\" href=https://colab.research.google.com/notebooks/data_table.ipynb>data table notebook</a>'\n",
              "            + ' to learn more about interactive tables.';\n",
              "          element.innerHTML = '';\n",
              "          dataTable['output_type'] = 'display_data';\n",
              "          await google.colab.output.renderOutput(dataTable, element);\n",
              "          const docLink = document.createElement('div');\n",
              "          docLink.innerHTML = docLinkHtml;\n",
              "          element.appendChild(docLink);\n",
              "        }\n",
              "      </script>\n",
              "    </div>\n",
              "  </div>\n",
              "  "
            ]
          },
          "metadata": {},
          "execution_count": 6
        }
      ]
    },
    {
      "cell_type": "code",
      "source": [
        "# 문자열 데이터 타입 살펴보기.\n",
        "audi.describe(exclude = np.number)"
      ],
      "metadata": {
        "colab": {
          "base_uri": "https://localhost:8080/",
          "height": 175
        },
        "id": "2q0-2vImCKMQ",
        "outputId": "f10e41d0-1be7-4763-c84c-70f001029057"
      },
      "execution_count": 7,
      "outputs": [
        {
          "output_type": "execute_result",
          "data": {
            "text/plain": [
              "        model transmission fuelType\n",
              "count   10668        10668    10668\n",
              "unique     26            3        3\n",
              "top        A3       Manual   Diesel\n",
              "freq     1929         4369     5577"
            ],
            "text/html": [
              "\n",
              "  <div id=\"df-1aa21596-32ed-4bc9-8c74-3fc275ced1a2\">\n",
              "    <div class=\"colab-df-container\">\n",
              "      <div>\n",
              "<style scoped>\n",
              "    .dataframe tbody tr th:only-of-type {\n",
              "        vertical-align: middle;\n",
              "    }\n",
              "\n",
              "    .dataframe tbody tr th {\n",
              "        vertical-align: top;\n",
              "    }\n",
              "\n",
              "    .dataframe thead th {\n",
              "        text-align: right;\n",
              "    }\n",
              "</style>\n",
              "<table border=\"1\" class=\"dataframe\">\n",
              "  <thead>\n",
              "    <tr style=\"text-align: right;\">\n",
              "      <th></th>\n",
              "      <th>model</th>\n",
              "      <th>transmission</th>\n",
              "      <th>fuelType</th>\n",
              "    </tr>\n",
              "  </thead>\n",
              "  <tbody>\n",
              "    <tr>\n",
              "      <th>count</th>\n",
              "      <td>10668</td>\n",
              "      <td>10668</td>\n",
              "      <td>10668</td>\n",
              "    </tr>\n",
              "    <tr>\n",
              "      <th>unique</th>\n",
              "      <td>26</td>\n",
              "      <td>3</td>\n",
              "      <td>3</td>\n",
              "    </tr>\n",
              "    <tr>\n",
              "      <th>top</th>\n",
              "      <td>A3</td>\n",
              "      <td>Manual</td>\n",
              "      <td>Diesel</td>\n",
              "    </tr>\n",
              "    <tr>\n",
              "      <th>freq</th>\n",
              "      <td>1929</td>\n",
              "      <td>4369</td>\n",
              "      <td>5577</td>\n",
              "    </tr>\n",
              "  </tbody>\n",
              "</table>\n",
              "</div>\n",
              "      <button class=\"colab-df-convert\" onclick=\"convertToInteractive('df-1aa21596-32ed-4bc9-8c74-3fc275ced1a2')\"\n",
              "              title=\"Convert this dataframe to an interactive table.\"\n",
              "              style=\"display:none;\">\n",
              "        \n",
              "  <svg xmlns=\"http://www.w3.org/2000/svg\" height=\"24px\"viewBox=\"0 0 24 24\"\n",
              "       width=\"24px\">\n",
              "    <path d=\"M0 0h24v24H0V0z\" fill=\"none\"/>\n",
              "    <path d=\"M18.56 5.44l.94 2.06.94-2.06 2.06-.94-2.06-.94-.94-2.06-.94 2.06-2.06.94zm-11 1L8.5 8.5l.94-2.06 2.06-.94-2.06-.94L8.5 2.5l-.94 2.06-2.06.94zm10 10l.94 2.06.94-2.06 2.06-.94-2.06-.94-.94-2.06-.94 2.06-2.06.94z\"/><path d=\"M17.41 7.96l-1.37-1.37c-.4-.4-.92-.59-1.43-.59-.52 0-1.04.2-1.43.59L10.3 9.45l-7.72 7.72c-.78.78-.78 2.05 0 2.83L4 21.41c.39.39.9.59 1.41.59.51 0 1.02-.2 1.41-.59l7.78-7.78 2.81-2.81c.8-.78.8-2.07 0-2.86zM5.41 20L4 18.59l7.72-7.72 1.47 1.35L5.41 20z\"/>\n",
              "  </svg>\n",
              "      </button>\n",
              "      \n",
              "  <style>\n",
              "    .colab-df-container {\n",
              "      display:flex;\n",
              "      flex-wrap:wrap;\n",
              "      gap: 12px;\n",
              "    }\n",
              "\n",
              "    .colab-df-convert {\n",
              "      background-color: #E8F0FE;\n",
              "      border: none;\n",
              "      border-radius: 50%;\n",
              "      cursor: pointer;\n",
              "      display: none;\n",
              "      fill: #1967D2;\n",
              "      height: 32px;\n",
              "      padding: 0 0 0 0;\n",
              "      width: 32px;\n",
              "    }\n",
              "\n",
              "    .colab-df-convert:hover {\n",
              "      background-color: #E2EBFA;\n",
              "      box-shadow: 0px 1px 2px rgba(60, 64, 67, 0.3), 0px 1px 3px 1px rgba(60, 64, 67, 0.15);\n",
              "      fill: #174EA6;\n",
              "    }\n",
              "\n",
              "    [theme=dark] .colab-df-convert {\n",
              "      background-color: #3B4455;\n",
              "      fill: #D2E3FC;\n",
              "    }\n",
              "\n",
              "    [theme=dark] .colab-df-convert:hover {\n",
              "      background-color: #434B5C;\n",
              "      box-shadow: 0px 1px 3px 1px rgba(0, 0, 0, 0.15);\n",
              "      filter: drop-shadow(0px 1px 2px rgba(0, 0, 0, 0.3));\n",
              "      fill: #FFFFFF;\n",
              "    }\n",
              "  </style>\n",
              "\n",
              "      <script>\n",
              "        const buttonEl =\n",
              "          document.querySelector('#df-1aa21596-32ed-4bc9-8c74-3fc275ced1a2 button.colab-df-convert');\n",
              "        buttonEl.style.display =\n",
              "          google.colab.kernel.accessAllowed ? 'block' : 'none';\n",
              "\n",
              "        async function convertToInteractive(key) {\n",
              "          const element = document.querySelector('#df-1aa21596-32ed-4bc9-8c74-3fc275ced1a2');\n",
              "          const dataTable =\n",
              "            await google.colab.kernel.invokeFunction('convertToInteractive',\n",
              "                                                     [key], {});\n",
              "          if (!dataTable) return;\n",
              "\n",
              "          const docLinkHtml = 'Like what you see? Visit the ' +\n",
              "            '<a target=\"_blank\" href=https://colab.research.google.com/notebooks/data_table.ipynb>data table notebook</a>'\n",
              "            + ' to learn more about interactive tables.';\n",
              "          element.innerHTML = '';\n",
              "          dataTable['output_type'] = 'display_data';\n",
              "          await google.colab.output.renderOutput(dataTable, element);\n",
              "          const docLink = document.createElement('div');\n",
              "          docLink.innerHTML = docLinkHtml;\n",
              "          element.appendChild(docLink);\n",
              "        }\n",
              "      </script>\n",
              "    </div>\n",
              "  </div>\n",
              "  "
            ]
          },
          "metadata": {},
          "execution_count": 7
        }
      ]
    },
    {
      "cell_type": "markdown",
      "source": [
        "데이터의 결측치는 없는 상태입니다.\n",
        "추가적으로 놓친 부분이 없는지 ```ProfileReport```를 이용하여 데이터를 확인합니다.\n"
      ],
      "metadata": {
        "id": "Cj_ttXpaCYRn"
      }
    },
    {
      "cell_type": "code",
      "source": [
        "# 필요한 라이브러리 가져오기.\n",
        "!pip install category_encoders\n",
        "!pip install pandas-profiling==2.11.0 --upgrade"
      ],
      "metadata": {
        "colab": {
          "base_uri": "https://localhost:8080/"
        },
        "id": "UXlYL9fZCwsq",
        "outputId": "dd8c17f6-627d-44d3-c384-a377d8594633"
      },
      "execution_count": 8,
      "outputs": [
        {
          "output_type": "stream",
          "name": "stdout",
          "text": [
            "Looking in indexes: https://pypi.org/simple, https://us-python.pkg.dev/colab-wheels/public/simple/\n",
            "Requirement already satisfied: category_encoders in /usr/local/lib/python3.8/dist-packages (2.6.0)\n",
            "Requirement already satisfied: numpy>=1.14.0 in /usr/local/lib/python3.8/dist-packages (from category_encoders) (1.21.6)\n",
            "Requirement already satisfied: scipy>=1.0.0 in /usr/local/lib/python3.8/dist-packages (from category_encoders) (1.7.3)\n",
            "Requirement already satisfied: pandas>=1.0.5 in /usr/local/lib/python3.8/dist-packages (from category_encoders) (1.3.5)\n",
            "Requirement already satisfied: scikit-learn>=0.20.0 in /usr/local/lib/python3.8/dist-packages (from category_encoders) (1.0.2)\n",
            "Requirement already satisfied: statsmodels>=0.9.0 in /usr/local/lib/python3.8/dist-packages (from category_encoders) (0.12.2)\n",
            "Requirement already satisfied: patsy>=0.5.1 in /usr/local/lib/python3.8/dist-packages (from category_encoders) (0.5.3)\n",
            "Requirement already satisfied: python-dateutil>=2.7.3 in /usr/local/lib/python3.8/dist-packages (from pandas>=1.0.5->category_encoders) (2.8.2)\n",
            "Requirement already satisfied: pytz>=2017.3 in /usr/local/lib/python3.8/dist-packages (from pandas>=1.0.5->category_encoders) (2022.7.1)\n",
            "Requirement already satisfied: six in /usr/local/lib/python3.8/dist-packages (from patsy>=0.5.1->category_encoders) (1.15.0)\n",
            "Requirement already satisfied: threadpoolctl>=2.0.0 in /usr/local/lib/python3.8/dist-packages (from scikit-learn>=0.20.0->category_encoders) (3.1.0)\n",
            "Requirement already satisfied: joblib>=0.11 in /usr/local/lib/python3.8/dist-packages (from scikit-learn>=0.20.0->category_encoders) (1.2.0)\n",
            "\u001b[33mWARNING: Running pip as the 'root' user can result in broken permissions and conflicting behaviour with the system package manager. It is recommended to use a virtual environment instead: https://pip.pypa.io/warnings/venv\u001b[0m\u001b[33m\n",
            "\u001b[0mLooking in indexes: https://pypi.org/simple, https://us-python.pkg.dev/colab-wheels/public/simple/\n",
            "Requirement already satisfied: pandas-profiling==2.11.0 in /usr/local/lib/python3.8/dist-packages (2.11.0)\n",
            "Requirement already satisfied: tqdm>=4.48.2 in /usr/local/lib/python3.8/dist-packages (from pandas-profiling==2.11.0) (4.64.1)\n",
            "Requirement already satisfied: jinja2>=2.11.1 in /usr/local/lib/python3.8/dist-packages (from pandas-profiling==2.11.0) (3.0.0)\n",
            "Requirement already satisfied: htmlmin>=0.1.12 in /usr/local/lib/python3.8/dist-packages (from pandas-profiling==2.11.0) (0.1.12)\n",
            "Requirement already satisfied: tangled-up-in-unicode>=0.0.6 in /usr/local/lib/python3.8/dist-packages (from pandas-profiling==2.11.0) (0.2.0)\n",
            "Requirement already satisfied: pandas!=1.0.0,!=1.0.1,!=1.0.2,!=1.1.0,>=0.25.3 in /usr/local/lib/python3.8/dist-packages (from pandas-profiling==2.11.0) (1.3.5)\n",
            "Requirement already satisfied: visions[type_image_path]==0.6.0 in /usr/local/lib/python3.8/dist-packages (from pandas-profiling==2.11.0) (0.6.0)\n",
            "Requirement already satisfied: ipywidgets>=7.5.1 in /usr/local/lib/python3.8/dist-packages (from pandas-profiling==2.11.0) (7.7.1)\n",
            "Requirement already satisfied: joblib in /usr/local/lib/python3.8/dist-packages (from pandas-profiling==2.11.0) (1.2.0)\n",
            "Requirement already satisfied: confuse>=1.0.0 in /usr/local/lib/python3.8/dist-packages (from pandas-profiling==2.11.0) (2.0.0)\n",
            "Requirement already satisfied: scipy>=1.4.1 in /usr/local/lib/python3.8/dist-packages (from pandas-profiling==2.11.0) (1.7.3)\n",
            "Requirement already satisfied: numpy>=1.16.0 in /usr/local/lib/python3.8/dist-packages (from pandas-profiling==2.11.0) (1.21.6)\n",
            "Requirement already satisfied: attrs>=19.3.0 in /usr/local/lib/python3.8/dist-packages (from pandas-profiling==2.11.0) (22.2.0)\n",
            "Requirement already satisfied: seaborn>=0.10.1 in /usr/local/lib/python3.8/dist-packages (from pandas-profiling==2.11.0) (0.11.2)\n",
            "Requirement already satisfied: requests>=2.24.0 in /usr/local/lib/python3.8/dist-packages (from pandas-profiling==2.11.0) (2.25.1)\n",
            "Requirement already satisfied: missingno>=0.4.2 in /usr/local/lib/python3.8/dist-packages (from pandas-profiling==2.11.0) (0.5.1)\n",
            "Requirement already satisfied: phik>=0.10.0 in /usr/local/lib/python3.8/dist-packages (from pandas-profiling==2.11.0) (0.12.3)\n",
            "Collecting matplotlib>=3.2.0\n",
            "  Downloading matplotlib-3.7.0-cp38-cp38-manylinux_2_12_x86_64.manylinux2010_x86_64.whl (9.2 MB)\n",
            "\u001b[2K     \u001b[90m━━━━━━━━━━━━━━━━━━━━━━━━━━━━━━━━━━━━━━━━\u001b[0m \u001b[32m9.2/9.2 MB\u001b[0m \u001b[31m28.0 MB/s\u001b[0m eta \u001b[36m0:00:00\u001b[0m\n",
            "\u001b[?25hRequirement already satisfied: networkx>=2.4 in /usr/local/lib/python3.8/dist-packages (from visions[type_image_path]==0.6.0->pandas-profiling==2.11.0) (3.0)\n",
            "Requirement already satisfied: imagehash in /usr/local/lib/python3.8/dist-packages (from visions[type_image_path]==0.6.0->pandas-profiling==2.11.0) (4.3.1)\n",
            "Requirement already satisfied: Pillow in /usr/local/lib/python3.8/dist-packages (from visions[type_image_path]==0.6.0->pandas-profiling==2.11.0) (7.1.2)\n",
            "Requirement already satisfied: pyyaml in /usr/local/lib/python3.8/dist-packages (from confuse>=1.0.0->pandas-profiling==2.11.0) (6.0)\n",
            "Requirement already satisfied: ipython>=4.0.0 in /usr/local/lib/python3.8/dist-packages (from ipywidgets>=7.5.1->pandas-profiling==2.11.0) (7.9.0)\n",
            "Requirement already satisfied: traitlets>=4.3.1 in /usr/local/lib/python3.8/dist-packages (from ipywidgets>=7.5.1->pandas-profiling==2.11.0) (5.7.1)\n",
            "Requirement already satisfied: ipykernel>=4.5.1 in /usr/local/lib/python3.8/dist-packages (from ipywidgets>=7.5.1->pandas-profiling==2.11.0) (5.3.4)\n",
            "Requirement already satisfied: widgetsnbextension~=3.6.0 in /usr/local/lib/python3.8/dist-packages (from ipywidgets>=7.5.1->pandas-profiling==2.11.0) (3.6.1)\n",
            "Requirement already satisfied: ipython-genutils~=0.2.0 in /usr/local/lib/python3.8/dist-packages (from ipywidgets>=7.5.1->pandas-profiling==2.11.0) (0.2.0)\n",
            "Requirement already satisfied: jupyterlab-widgets>=1.0.0 in /usr/local/lib/python3.8/dist-packages (from ipywidgets>=7.5.1->pandas-profiling==2.11.0) (3.0.5)\n",
            "Requirement already satisfied: MarkupSafe>=2.0.0rc2 in /usr/local/lib/python3.8/dist-packages (from jinja2>=2.11.1->pandas-profiling==2.11.0) (2.0.1)\n",
            "Collecting fonttools>=4.22.0\n",
            "  Downloading fonttools-4.38.0-py3-none-any.whl (965 kB)\n",
            "\u001b[2K     \u001b[90m━━━━━━━━━━━━━━━━━━━━━━━━━━━━━━━━━━━━━━\u001b[0m \u001b[32m965.4/965.4 kB\u001b[0m \u001b[31m21.1 MB/s\u001b[0m eta \u001b[36m0:00:00\u001b[0m\n",
            "\u001b[?25hRequirement already satisfied: packaging>=20.0 in /usr/local/lib/python3.8/dist-packages (from matplotlib>=3.2.0->pandas-profiling==2.11.0) (23.0)\n",
            "Requirement already satisfied: pyparsing>=2.3.1 in /usr/local/lib/python3.8/dist-packages (from matplotlib>=3.2.0->pandas-profiling==2.11.0) (3.0.9)\n",
            "Collecting contourpy>=1.0.1\n",
            "  Downloading contourpy-1.0.7-cp38-cp38-manylinux_2_17_x86_64.manylinux2014_x86_64.whl (300 kB)\n",
            "\u001b[2K     \u001b[90m━━━━━━━━━━━━━━━━━━━━━━━━━━━━━━━━━━━━━━\u001b[0m \u001b[32m300.0/300.0 kB\u001b[0m \u001b[31m20.6 MB/s\u001b[0m eta \u001b[36m0:00:00\u001b[0m\n",
            "\u001b[?25hRequirement already satisfied: cycler>=0.10 in /usr/local/lib/python3.8/dist-packages (from matplotlib>=3.2.0->pandas-profiling==2.11.0) (0.11.0)\n",
            "Requirement already satisfied: python-dateutil>=2.7 in /usr/local/lib/python3.8/dist-packages (from matplotlib>=3.2.0->pandas-profiling==2.11.0) (2.8.2)\n",
            "Requirement already satisfied: importlib-resources>=3.2.0 in /usr/local/lib/python3.8/dist-packages (from matplotlib>=3.2.0->pandas-profiling==2.11.0) (5.10.2)\n",
            "Requirement already satisfied: kiwisolver>=1.0.1 in /usr/local/lib/python3.8/dist-packages (from matplotlib>=3.2.0->pandas-profiling==2.11.0) (1.4.4)\n",
            "Requirement already satisfied: pytz>=2017.3 in /usr/local/lib/python3.8/dist-packages (from pandas!=1.0.0,!=1.0.1,!=1.0.2,!=1.1.0,>=0.25.3->pandas-profiling==2.11.0) (2022.7.1)\n",
            "Requirement already satisfied: idna<3,>=2.5 in /usr/local/lib/python3.8/dist-packages (from requests>=2.24.0->pandas-profiling==2.11.0) (2.10)\n",
            "Requirement already satisfied: urllib3<1.27,>=1.21.1 in /usr/local/lib/python3.8/dist-packages (from requests>=2.24.0->pandas-profiling==2.11.0) (1.24.3)\n",
            "Requirement already satisfied: certifi>=2017.4.17 in /usr/local/lib/python3.8/dist-packages (from requests>=2.24.0->pandas-profiling==2.11.0) (2022.12.7)\n",
            "Requirement already satisfied: chardet<5,>=3.0.2 in /usr/local/lib/python3.8/dist-packages (from requests>=2.24.0->pandas-profiling==2.11.0) (4.0.0)\n",
            "Requirement already satisfied: zipp>=3.1.0 in /usr/local/lib/python3.8/dist-packages (from importlib-resources>=3.2.0->matplotlib>=3.2.0->pandas-profiling==2.11.0) (3.12.1)\n",
            "Requirement already satisfied: tornado>=4.2 in /usr/local/lib/python3.8/dist-packages (from ipykernel>=4.5.1->ipywidgets>=7.5.1->pandas-profiling==2.11.0) (6.0.4)\n",
            "Requirement already satisfied: jupyter-client in /usr/local/lib/python3.8/dist-packages (from ipykernel>=4.5.1->ipywidgets>=7.5.1->pandas-profiling==2.11.0) (6.1.12)\n",
            "Requirement already satisfied: prompt-toolkit<2.1.0,>=2.0.0 in /usr/local/lib/python3.8/dist-packages (from ipython>=4.0.0->ipywidgets>=7.5.1->pandas-profiling==2.11.0) (2.0.10)\n",
            "Requirement already satisfied: decorator in /usr/local/lib/python3.8/dist-packages (from ipython>=4.0.0->ipywidgets>=7.5.1->pandas-profiling==2.11.0) (4.4.2)\n",
            "Requirement already satisfied: pexpect in /usr/local/lib/python3.8/dist-packages (from ipython>=4.0.0->ipywidgets>=7.5.1->pandas-profiling==2.11.0) (4.8.0)\n",
            "Requirement already satisfied: setuptools>=18.5 in /usr/local/lib/python3.8/dist-packages (from ipython>=4.0.0->ipywidgets>=7.5.1->pandas-profiling==2.11.0) (67.3.2)\n",
            "Requirement already satisfied: pickleshare in /usr/local/lib/python3.8/dist-packages (from ipython>=4.0.0->ipywidgets>=7.5.1->pandas-profiling==2.11.0) (0.7.5)\n",
            "Requirement already satisfied: backcall in /usr/local/lib/python3.8/dist-packages (from ipython>=4.0.0->ipywidgets>=7.5.1->pandas-profiling==2.11.0) (0.2.0)\n",
            "Requirement already satisfied: jedi>=0.10 in /usr/local/lib/python3.8/dist-packages (from ipython>=4.0.0->ipywidgets>=7.5.1->pandas-profiling==2.11.0) (0.18.2)\n",
            "Requirement already satisfied: pygments in /usr/local/lib/python3.8/dist-packages (from ipython>=4.0.0->ipywidgets>=7.5.1->pandas-profiling==2.11.0) (2.6.1)\n",
            "Requirement already satisfied: six>=1.5 in /usr/local/lib/python3.8/dist-packages (from python-dateutil>=2.7->matplotlib>=3.2.0->pandas-profiling==2.11.0) (1.15.0)\n",
            "Requirement already satisfied: notebook>=4.4.1 in /usr/local/lib/python3.8/dist-packages (from widgetsnbextension~=3.6.0->ipywidgets>=7.5.1->pandas-profiling==2.11.0) (5.7.16)\n",
            "Requirement already satisfied: PyWavelets in /usr/local/lib/python3.8/dist-packages (from imagehash->visions[type_image_path]==0.6.0->pandas-profiling==2.11.0) (1.4.1)\n",
            "Requirement already satisfied: parso<0.9.0,>=0.8.0 in /usr/local/lib/python3.8/dist-packages (from jedi>=0.10->ipython>=4.0.0->ipywidgets>=7.5.1->pandas-profiling==2.11.0) (0.8.3)\n",
            "Requirement already satisfied: pyzmq>=17 in /usr/local/lib/python3.8/dist-packages (from notebook>=4.4.1->widgetsnbextension~=3.6.0->ipywidgets>=7.5.1->pandas-profiling==2.11.0) (23.2.1)\n",
            "Requirement already satisfied: jupyter-core>=4.4.0 in /usr/local/lib/python3.8/dist-packages (from notebook>=4.4.1->widgetsnbextension~=3.6.0->ipywidgets>=7.5.1->pandas-profiling==2.11.0) (5.2.0)\n",
            "Requirement already satisfied: nbformat in /usr/local/lib/python3.8/dist-packages (from notebook>=4.4.1->widgetsnbextension~=3.6.0->ipywidgets>=7.5.1->pandas-profiling==2.11.0) (5.7.3)\n",
            "Requirement already satisfied: Send2Trash in /usr/local/lib/python3.8/dist-packages (from notebook>=4.4.1->widgetsnbextension~=3.6.0->ipywidgets>=7.5.1->pandas-profiling==2.11.0) (1.8.0)\n",
            "Requirement already satisfied: prometheus-client in /usr/local/lib/python3.8/dist-packages (from notebook>=4.4.1->widgetsnbextension~=3.6.0->ipywidgets>=7.5.1->pandas-profiling==2.11.0) (0.16.0)\n",
            "Requirement already satisfied: nbconvert<6.0 in /usr/local/lib/python3.8/dist-packages (from notebook>=4.4.1->widgetsnbextension~=3.6.0->ipywidgets>=7.5.1->pandas-profiling==2.11.0) (5.6.1)\n",
            "Requirement already satisfied: terminado>=0.8.1 in /usr/local/lib/python3.8/dist-packages (from notebook>=4.4.1->widgetsnbextension~=3.6.0->ipywidgets>=7.5.1->pandas-profiling==2.11.0) (0.13.3)\n",
            "Requirement already satisfied: wcwidth in /usr/local/lib/python3.8/dist-packages (from prompt-toolkit<2.1.0,>=2.0.0->ipython>=4.0.0->ipywidgets>=7.5.1->pandas-profiling==2.11.0) (0.2.6)\n",
            "Requirement already satisfied: ptyprocess>=0.5 in /usr/local/lib/python3.8/dist-packages (from pexpect->ipython>=4.0.0->ipywidgets>=7.5.1->pandas-profiling==2.11.0) (0.7.0)\n",
            "Requirement already satisfied: platformdirs>=2.5 in /usr/local/lib/python3.8/dist-packages (from jupyter-core>=4.4.0->notebook>=4.4.1->widgetsnbextension~=3.6.0->ipywidgets>=7.5.1->pandas-profiling==2.11.0) (3.0.0)\n",
            "Requirement already satisfied: testpath in /usr/local/lib/python3.8/dist-packages (from nbconvert<6.0->notebook>=4.4.1->widgetsnbextension~=3.6.0->ipywidgets>=7.5.1->pandas-profiling==2.11.0) (0.6.0)\n",
            "Requirement already satisfied: defusedxml in /usr/local/lib/python3.8/dist-packages (from nbconvert<6.0->notebook>=4.4.1->widgetsnbextension~=3.6.0->ipywidgets>=7.5.1->pandas-profiling==2.11.0) (0.7.1)\n",
            "Requirement already satisfied: bleach in /usr/local/lib/python3.8/dist-packages (from nbconvert<6.0->notebook>=4.4.1->widgetsnbextension~=3.6.0->ipywidgets>=7.5.1->pandas-profiling==2.11.0) (6.0.0)\n",
            "Requirement already satisfied: entrypoints>=0.2.2 in /usr/local/lib/python3.8/dist-packages (from nbconvert<6.0->notebook>=4.4.1->widgetsnbextension~=3.6.0->ipywidgets>=7.5.1->pandas-profiling==2.11.0) (0.4)\n",
            "Requirement already satisfied: mistune<2,>=0.8.1 in /usr/local/lib/python3.8/dist-packages (from nbconvert<6.0->notebook>=4.4.1->widgetsnbextension~=3.6.0->ipywidgets>=7.5.1->pandas-profiling==2.11.0) (0.8.4)\n",
            "Requirement already satisfied: pandocfilters>=1.4.1 in /usr/local/lib/python3.8/dist-packages (from nbconvert<6.0->notebook>=4.4.1->widgetsnbextension~=3.6.0->ipywidgets>=7.5.1->pandas-profiling==2.11.0) (1.5.0)\n",
            "Requirement already satisfied: jsonschema>=2.6 in /usr/local/lib/python3.8/dist-packages (from nbformat->notebook>=4.4.1->widgetsnbextension~=3.6.0->ipywidgets>=7.5.1->pandas-profiling==2.11.0) (4.3.3)\n",
            "Requirement already satisfied: fastjsonschema in /usr/local/lib/python3.8/dist-packages (from nbformat->notebook>=4.4.1->widgetsnbextension~=3.6.0->ipywidgets>=7.5.1->pandas-profiling==2.11.0) (2.16.2)\n",
            "Requirement already satisfied: pyrsistent!=0.17.0,!=0.17.1,!=0.17.2,>=0.14.0 in /usr/local/lib/python3.8/dist-packages (from jsonschema>=2.6->nbformat->notebook>=4.4.1->widgetsnbextension~=3.6.0->ipywidgets>=7.5.1->pandas-profiling==2.11.0) (0.19.3)\n",
            "Requirement already satisfied: webencodings in /usr/local/lib/python3.8/dist-packages (from bleach->nbconvert<6.0->notebook>=4.4.1->widgetsnbextension~=3.6.0->ipywidgets>=7.5.1->pandas-profiling==2.11.0) (0.5.1)\n",
            "Installing collected packages: fonttools, contourpy, matplotlib\n",
            "  Attempting uninstall: matplotlib\n",
            "    Found existing installation: matplotlib 3.1.1\n",
            "    Uninstalling matplotlib-3.1.1:\n",
            "      Successfully uninstalled matplotlib-3.1.1\n",
            "\u001b[31mERROR: pip's dependency resolver does not currently take into account all the packages that are installed. This behaviour is the source of the following dependency conflicts.\n",
            "pdpbox 0.2.1 requires matplotlib==3.1.1, but you have matplotlib 3.7.0 which is incompatible.\u001b[0m\u001b[31m\n",
            "\u001b[0mSuccessfully installed contourpy-1.0.7 fonttools-4.38.0 matplotlib-3.7.0\n",
            "\u001b[33mWARNING: Running pip as the 'root' user can result in broken permissions and conflicting behaviour with the system package manager. It is recommended to use a virtual environment instead: https://pip.pypa.io/warnings/venv\u001b[0m\u001b[33m\n",
            "\u001b[0m"
          ]
        }
      ]
    },
    {
      "cell_type": "code",
      "source": [
        "from pandas_profiling import ProfileReport\n",
        "profile = ProfileReport(audi, minimal=True).to_notebook_iframe()"
      ],
      "metadata": {
        "colab": {
          "base_uri": "https://localhost:8080/",
          "height": 406,
          "referenced_widgets": [
            "6dfec2b22c9a421c82945728e164d302",
            "27e7e6be4f824e36bf557078734c859f",
            "b25a5a45c3914dafa8e57f20cd1be891",
            "bbdccba2aefb467e88025566d8ec76a3",
            "9cad58503d054b9cb2acf7e771ba95be",
            "e9c1027d55244955862592c408c78352",
            "5a8886f81e9f4868bca4bc4ae3ea7605",
            "72e0392aeb9448639612e46ef0dc54af",
            "7ce592eee65d4d29969e03079fb3ea90",
            "a3552c2bde974ed1ada8efbbbcabba22",
            "960477b134134763a93ea15e60a5510f",
            "1bdb957d326943639fea52b36d5369e3",
            "1bf6c5a3ab004db09b245ba8747dac23",
            "0af3571519c5404fb00c0574c4534adf",
            "35bb25c79a8b47b38900dc019134c973",
            "b92e5435c74a425d830351fb6ab188bd",
            "22ef72c3b2df45dcb6c619fe0f31eab3",
            "b148ce0c003e4e00a8ace7f873eae4f0",
            "1e3d57bdcacc4745bc87b09e0a9dfbf7",
            "7c1a450efa9c420386a4c05465ec2100",
            "e990ab98b8fb4cd0898355bb9bd8226b",
            "0715700dca9a4e35aad319fb27207398"
          ]
        },
        "id": "UHyLaNl6C8eI",
        "outputId": "7bd0e07f-ea91-4364-8525-10bb4c5bd60c"
      },
      "execution_count": 9,
      "outputs": [
        {
          "output_type": "display_data",
          "data": {
            "text/plain": [
              "Summarize dataset:   0%|          | 0/17 [00:00<?, ?it/s]"
            ],
            "application/vnd.jupyter.widget-view+json": {
              "version_major": 2,
              "version_minor": 0,
              "model_id": "6dfec2b22c9a421c82945728e164d302"
            }
          },
          "metadata": {}
        },
        {
          "output_type": "display_data",
          "data": {
            "text/plain": [
              "Generate report structure:   0%|          | 0/1 [00:00<?, ?it/s]"
            ],
            "application/vnd.jupyter.widget-view+json": {
              "version_major": 2,
              "version_minor": 0,
              "model_id": "1bdb957d326943639fea52b36d5369e3"
            }
          },
          "metadata": {}
        },
        {
          "output_type": "error",
          "ename": "TypeError",
          "evalue": "ignored",
          "traceback": [
            "\u001b[0;31m---------------------------------------------------------------------------\u001b[0m",
            "\u001b[0;31mTypeError\u001b[0m                                 Traceback (most recent call last)",
            "\u001b[0;32m<ipython-input-9-31a86a79af27>\u001b[0m in \u001b[0;36m<module>\u001b[0;34m\u001b[0m\n\u001b[1;32m      1\u001b[0m \u001b[0;32mfrom\u001b[0m \u001b[0mpandas_profiling\u001b[0m \u001b[0;32mimport\u001b[0m \u001b[0mProfileReport\u001b[0m\u001b[0;34m\u001b[0m\u001b[0;34m\u001b[0m\u001b[0m\n\u001b[0;32m----> 2\u001b[0;31m \u001b[0mprofile\u001b[0m \u001b[0;34m=\u001b[0m \u001b[0mProfileReport\u001b[0m\u001b[0;34m(\u001b[0m\u001b[0maudi\u001b[0m\u001b[0;34m,\u001b[0m \u001b[0mminimal\u001b[0m\u001b[0;34m=\u001b[0m\u001b[0;32mTrue\u001b[0m\u001b[0;34m)\u001b[0m\u001b[0;34m.\u001b[0m\u001b[0mto_notebook_iframe\u001b[0m\u001b[0;34m(\u001b[0m\u001b[0;34m)\u001b[0m\u001b[0;34m\u001b[0m\u001b[0;34m\u001b[0m\u001b[0m\n\u001b[0m",
            "\u001b[0;32m/usr/local/lib/python3.8/dist-packages/pandas_profiling/profile_report.py\u001b[0m in \u001b[0;36mto_notebook_iframe\u001b[0;34m(self)\u001b[0m\n\u001b[1;32m    414\u001b[0m         \u001b[0;32mwith\u001b[0m \u001b[0mwarnings\u001b[0m\u001b[0;34m.\u001b[0m\u001b[0mcatch_warnings\u001b[0m\u001b[0;34m(\u001b[0m\u001b[0;34m)\u001b[0m\u001b[0;34m:\u001b[0m\u001b[0;34m\u001b[0m\u001b[0;34m\u001b[0m\u001b[0m\n\u001b[1;32m    415\u001b[0m             \u001b[0mwarnings\u001b[0m\u001b[0;34m.\u001b[0m\u001b[0msimplefilter\u001b[0m\u001b[0;34m(\u001b[0m\u001b[0;34m\"ignore\"\u001b[0m\u001b[0;34m)\u001b[0m\u001b[0;34m\u001b[0m\u001b[0;34m\u001b[0m\u001b[0m\n\u001b[0;32m--> 416\u001b[0;31m             \u001b[0mdisplay\u001b[0m\u001b[0;34m(\u001b[0m\u001b[0mget_notebook_iframe\u001b[0m\u001b[0;34m(\u001b[0m\u001b[0mself\u001b[0m\u001b[0;34m)\u001b[0m\u001b[0;34m)\u001b[0m\u001b[0;34m\u001b[0m\u001b[0;34m\u001b[0m\u001b[0m\n\u001b[0m\u001b[1;32m    417\u001b[0m \u001b[0;34m\u001b[0m\u001b[0m\n\u001b[1;32m    418\u001b[0m     \u001b[0;32mdef\u001b[0m \u001b[0mto_widgets\u001b[0m\u001b[0;34m(\u001b[0m\u001b[0mself\u001b[0m\u001b[0;34m)\u001b[0m\u001b[0;34m:\u001b[0m\u001b[0;34m\u001b[0m\u001b[0;34m\u001b[0m\u001b[0m\n",
            "\u001b[0;32m/usr/local/lib/python3.8/dist-packages/pandas_profiling/report/presentation/flavours/widget/notebook.py\u001b[0m in \u001b[0;36mget_notebook_iframe\u001b[0;34m(profile)\u001b[0m\n\u001b[1;32m     63\u001b[0m         \u001b[0moutput\u001b[0m \u001b[0;34m=\u001b[0m \u001b[0mget_notebook_iframe_src\u001b[0m\u001b[0;34m(\u001b[0m\u001b[0mprofile\u001b[0m\u001b[0;34m)\u001b[0m\u001b[0;34m\u001b[0m\u001b[0;34m\u001b[0m\u001b[0m\n\u001b[1;32m     64\u001b[0m     \u001b[0;32melif\u001b[0m \u001b[0mattribute\u001b[0m \u001b[0;34m==\u001b[0m \u001b[0;34m\"srcdoc\"\u001b[0m\u001b[0;34m:\u001b[0m\u001b[0;34m\u001b[0m\u001b[0;34m\u001b[0m\u001b[0m\n\u001b[0;32m---> 65\u001b[0;31m         \u001b[0moutput\u001b[0m \u001b[0;34m=\u001b[0m \u001b[0mget_notebook_iframe_srcdoc\u001b[0m\u001b[0;34m(\u001b[0m\u001b[0mprofile\u001b[0m\u001b[0;34m)\u001b[0m\u001b[0;34m\u001b[0m\u001b[0;34m\u001b[0m\u001b[0m\n\u001b[0m\u001b[1;32m     66\u001b[0m     \u001b[0;32melse\u001b[0m\u001b[0;34m:\u001b[0m\u001b[0;34m\u001b[0m\u001b[0;34m\u001b[0m\u001b[0m\n\u001b[1;32m     67\u001b[0m         raise ValueError(\n",
            "\u001b[0;32m/usr/local/lib/python3.8/dist-packages/pandas_profiling/report/presentation/flavours/widget/notebook.py\u001b[0m in \u001b[0;36mget_notebook_iframe_srcdoc\u001b[0;34m(profile)\u001b[0m\n\u001b[1;32m     21\u001b[0m     \u001b[0mwidth\u001b[0m \u001b[0;34m=\u001b[0m \u001b[0mconfig\u001b[0m\u001b[0;34m[\u001b[0m\u001b[0;34m\"notebook\"\u001b[0m\u001b[0;34m]\u001b[0m\u001b[0;34m[\u001b[0m\u001b[0;34m\"iframe\"\u001b[0m\u001b[0;34m]\u001b[0m\u001b[0;34m[\u001b[0m\u001b[0;34m\"width\"\u001b[0m\u001b[0;34m]\u001b[0m\u001b[0;34m.\u001b[0m\u001b[0mget\u001b[0m\u001b[0;34m(\u001b[0m\u001b[0mstr\u001b[0m\u001b[0;34m)\u001b[0m\u001b[0;34m\u001b[0m\u001b[0;34m\u001b[0m\u001b[0m\n\u001b[1;32m     22\u001b[0m     \u001b[0mheight\u001b[0m \u001b[0;34m=\u001b[0m \u001b[0mconfig\u001b[0m\u001b[0;34m[\u001b[0m\u001b[0;34m\"notebook\"\u001b[0m\u001b[0;34m]\u001b[0m\u001b[0;34m[\u001b[0m\u001b[0;34m\"iframe\"\u001b[0m\u001b[0;34m]\u001b[0m\u001b[0;34m[\u001b[0m\u001b[0;34m\"height\"\u001b[0m\u001b[0;34m]\u001b[0m\u001b[0;34m.\u001b[0m\u001b[0mget\u001b[0m\u001b[0;34m(\u001b[0m\u001b[0mstr\u001b[0m\u001b[0;34m)\u001b[0m\u001b[0;34m\u001b[0m\u001b[0;34m\u001b[0m\u001b[0m\n\u001b[0;32m---> 23\u001b[0;31m     \u001b[0msrc\u001b[0m \u001b[0;34m=\u001b[0m \u001b[0mhtml\u001b[0m\u001b[0;34m.\u001b[0m\u001b[0mescape\u001b[0m\u001b[0;34m(\u001b[0m\u001b[0mprofile\u001b[0m\u001b[0;34m.\u001b[0m\u001b[0mto_html\u001b[0m\u001b[0;34m(\u001b[0m\u001b[0;34m)\u001b[0m\u001b[0;34m)\u001b[0m\u001b[0;34m\u001b[0m\u001b[0;34m\u001b[0m\u001b[0m\n\u001b[0m\u001b[1;32m     24\u001b[0m \u001b[0;34m\u001b[0m\u001b[0m\n\u001b[1;32m     25\u001b[0m     \u001b[0miframe\u001b[0m \u001b[0;34m=\u001b[0m \u001b[0;34mf'<iframe width=\"{width}\" height=\"{height}\" srcdoc=\"{src}\" frameborder=\"0\" allowfullscreen></iframe>'\u001b[0m\u001b[0;34m\u001b[0m\u001b[0;34m\u001b[0m\u001b[0m\n",
            "\u001b[0;32m/usr/local/lib/python3.8/dist-packages/pandas_profiling/profile_report.py\u001b[0m in \u001b[0;36mto_html\u001b[0;34m(self)\u001b[0m\n\u001b[1;32m    384\u001b[0m \u001b[0;34m\u001b[0m\u001b[0m\n\u001b[1;32m    385\u001b[0m         \"\"\"\n\u001b[0;32m--> 386\u001b[0;31m         \u001b[0;32mreturn\u001b[0m \u001b[0mself\u001b[0m\u001b[0;34m.\u001b[0m\u001b[0mhtml\u001b[0m\u001b[0;34m\u001b[0m\u001b[0;34m\u001b[0m\u001b[0m\n\u001b[0m\u001b[1;32m    387\u001b[0m \u001b[0;34m\u001b[0m\u001b[0m\n\u001b[1;32m    388\u001b[0m     \u001b[0;32mdef\u001b[0m \u001b[0mto_json\u001b[0m\u001b[0;34m(\u001b[0m\u001b[0mself\u001b[0m\u001b[0;34m)\u001b[0m \u001b[0;34m->\u001b[0m \u001b[0mstr\u001b[0m\u001b[0;34m:\u001b[0m\u001b[0;34m\u001b[0m\u001b[0;34m\u001b[0m\u001b[0m\n",
            "\u001b[0;32m/usr/local/lib/python3.8/dist-packages/pandas_profiling/profile_report.py\u001b[0m in \u001b[0;36mhtml\u001b[0;34m(self)\u001b[0m\n\u001b[1;32m    199\u001b[0m     \u001b[0;32mdef\u001b[0m \u001b[0mhtml\u001b[0m\u001b[0;34m(\u001b[0m\u001b[0mself\u001b[0m\u001b[0;34m)\u001b[0m\u001b[0;34m:\u001b[0m\u001b[0;34m\u001b[0m\u001b[0;34m\u001b[0m\u001b[0m\n\u001b[1;32m    200\u001b[0m         \u001b[0;32mif\u001b[0m \u001b[0mself\u001b[0m\u001b[0;34m.\u001b[0m\u001b[0m_html\u001b[0m \u001b[0;32mis\u001b[0m \u001b[0;32mNone\u001b[0m\u001b[0;34m:\u001b[0m\u001b[0;34m\u001b[0m\u001b[0;34m\u001b[0m\u001b[0m\n\u001b[0;32m--> 201\u001b[0;31m             \u001b[0mself\u001b[0m\u001b[0;34m.\u001b[0m\u001b[0m_html\u001b[0m \u001b[0;34m=\u001b[0m \u001b[0mself\u001b[0m\u001b[0;34m.\u001b[0m\u001b[0m_render_html\u001b[0m\u001b[0;34m(\u001b[0m\u001b[0;34m)\u001b[0m\u001b[0;34m\u001b[0m\u001b[0;34m\u001b[0m\u001b[0m\n\u001b[0m\u001b[1;32m    202\u001b[0m         \u001b[0;32mreturn\u001b[0m \u001b[0mself\u001b[0m\u001b[0;34m.\u001b[0m\u001b[0m_html\u001b[0m\u001b[0;34m\u001b[0m\u001b[0;34m\u001b[0m\u001b[0m\n\u001b[1;32m    203\u001b[0m \u001b[0;34m\u001b[0m\u001b[0m\n",
            "\u001b[0;32m/usr/local/lib/python3.8/dist-packages/pandas_profiling/profile_report.py\u001b[0m in \u001b[0;36m_render_html\u001b[0;34m(self)\u001b[0m\n\u001b[1;32m    306\u001b[0m         \u001b[0;32mfrom\u001b[0m \u001b[0mpandas_profiling\u001b[0m\u001b[0;34m.\u001b[0m\u001b[0mreport\u001b[0m\u001b[0;34m.\u001b[0m\u001b[0mpresentation\u001b[0m\u001b[0;34m.\u001b[0m\u001b[0mflavours\u001b[0m \u001b[0;32mimport\u001b[0m \u001b[0mHTMLReport\u001b[0m\u001b[0;34m\u001b[0m\u001b[0;34m\u001b[0m\u001b[0m\n\u001b[1;32m    307\u001b[0m \u001b[0;34m\u001b[0m\u001b[0m\n\u001b[0;32m--> 308\u001b[0;31m         \u001b[0mreport\u001b[0m \u001b[0;34m=\u001b[0m \u001b[0mself\u001b[0m\u001b[0;34m.\u001b[0m\u001b[0mreport\u001b[0m\u001b[0;34m\u001b[0m\u001b[0;34m\u001b[0m\u001b[0m\n\u001b[0m\u001b[1;32m    309\u001b[0m \u001b[0;34m\u001b[0m\u001b[0m\n\u001b[1;32m    310\u001b[0m         \u001b[0mdisable_progress_bar\u001b[0m \u001b[0;34m=\u001b[0m \u001b[0;32mnot\u001b[0m \u001b[0mconfig\u001b[0m\u001b[0;34m[\u001b[0m\u001b[0;34m\"progress_bar\"\u001b[0m\u001b[0;34m]\u001b[0m\u001b[0;34m.\u001b[0m\u001b[0mget\u001b[0m\u001b[0;34m(\u001b[0m\u001b[0mbool\u001b[0m\u001b[0;34m)\u001b[0m\u001b[0;34m\u001b[0m\u001b[0;34m\u001b[0m\u001b[0m\n",
            "\u001b[0;32m/usr/local/lib/python3.8/dist-packages/pandas_profiling/profile_report.py\u001b[0m in \u001b[0;36mreport\u001b[0;34m(self)\u001b[0m\n\u001b[1;32m    193\u001b[0m     \u001b[0;32mdef\u001b[0m \u001b[0mreport\u001b[0m\u001b[0;34m(\u001b[0m\u001b[0mself\u001b[0m\u001b[0;34m)\u001b[0m\u001b[0;34m:\u001b[0m\u001b[0;34m\u001b[0m\u001b[0;34m\u001b[0m\u001b[0m\n\u001b[1;32m    194\u001b[0m         \u001b[0;32mif\u001b[0m \u001b[0mself\u001b[0m\u001b[0;34m.\u001b[0m\u001b[0m_report\u001b[0m \u001b[0;32mis\u001b[0m \u001b[0;32mNone\u001b[0m\u001b[0;34m:\u001b[0m\u001b[0;34m\u001b[0m\u001b[0;34m\u001b[0m\u001b[0m\n\u001b[0;32m--> 195\u001b[0;31m             \u001b[0mself\u001b[0m\u001b[0;34m.\u001b[0m\u001b[0m_report\u001b[0m \u001b[0;34m=\u001b[0m \u001b[0mget_report_structure\u001b[0m\u001b[0;34m(\u001b[0m\u001b[0mself\u001b[0m\u001b[0;34m.\u001b[0m\u001b[0mdescription_set\u001b[0m\u001b[0;34m)\u001b[0m\u001b[0;34m\u001b[0m\u001b[0;34m\u001b[0m\u001b[0m\n\u001b[0m\u001b[1;32m    196\u001b[0m         \u001b[0;32mreturn\u001b[0m \u001b[0mself\u001b[0m\u001b[0;34m.\u001b[0m\u001b[0m_report\u001b[0m\u001b[0;34m\u001b[0m\u001b[0;34m\u001b[0m\u001b[0m\n\u001b[1;32m    197\u001b[0m \u001b[0;34m\u001b[0m\u001b[0m\n",
            "\u001b[0;32m/usr/local/lib/python3.8/dist-packages/pandas_profiling/report/structure/report.py\u001b[0m in \u001b[0;36mget_report_structure\u001b[0;34m(summary)\u001b[0m\n\u001b[1;32m    245\u001b[0m             ),\n\u001b[1;32m    246\u001b[0m             Container(\n\u001b[0;32m--> 247\u001b[0;31m                 \u001b[0mrender_variables_section\u001b[0m\u001b[0;34m(\u001b[0m\u001b[0msummary\u001b[0m\u001b[0;34m)\u001b[0m\u001b[0;34m,\u001b[0m\u001b[0;34m\u001b[0m\u001b[0;34m\u001b[0m\u001b[0m\n\u001b[0m\u001b[1;32m    248\u001b[0m                 \u001b[0msequence_type\u001b[0m\u001b[0;34m=\u001b[0m\u001b[0;34m\"accordion\"\u001b[0m\u001b[0;34m,\u001b[0m\u001b[0;34m\u001b[0m\u001b[0;34m\u001b[0m\u001b[0m\n\u001b[1;32m    249\u001b[0m                 \u001b[0mname\u001b[0m\u001b[0;34m=\u001b[0m\u001b[0;34m\"Variables\"\u001b[0m\u001b[0;34m,\u001b[0m\u001b[0;34m\u001b[0m\u001b[0;34m\u001b[0m\u001b[0m\n",
            "\u001b[0;32m/usr/local/lib/python3.8/dist-packages/pandas_profiling/report/structure/report.py\u001b[0m in \u001b[0;36mrender_variables_section\u001b[0;34m(dataframe_summary)\u001b[0m\n\u001b[1;32m    100\u001b[0m \u001b[0;34m\u001b[0m\u001b[0m\n\u001b[1;32m    101\u001b[0m         \u001b[0;31m# Per type template variables\u001b[0m\u001b[0;34m\u001b[0m\u001b[0;34m\u001b[0m\u001b[0;34m\u001b[0m\u001b[0m\n\u001b[0;32m--> 102\u001b[0;31m         \u001b[0mtemplate_variables\u001b[0m\u001b[0;34m.\u001b[0m\u001b[0mupdate\u001b[0m\u001b[0;34m(\u001b[0m\u001b[0mrender_map\u001b[0m\u001b[0;34m[\u001b[0m\u001b[0msummary\u001b[0m\u001b[0;34m[\u001b[0m\u001b[0;34m\"type\"\u001b[0m\u001b[0;34m]\u001b[0m\u001b[0;34m]\u001b[0m\u001b[0;34m(\u001b[0m\u001b[0mtemplate_variables\u001b[0m\u001b[0;34m)\u001b[0m\u001b[0;34m)\u001b[0m\u001b[0;34m\u001b[0m\u001b[0;34m\u001b[0m\u001b[0m\n\u001b[0m\u001b[1;32m    103\u001b[0m \u001b[0;34m\u001b[0m\u001b[0m\n\u001b[1;32m    104\u001b[0m         \u001b[0;31m# Ignore these\u001b[0m\u001b[0;34m\u001b[0m\u001b[0;34m\u001b[0m\u001b[0;34m\u001b[0m\u001b[0m\n",
            "\u001b[0;32m/usr/local/lib/python3.8/dist-packages/pandas_profiling/report/structure/variables/render_categorical.py\u001b[0m in \u001b[0;36mrender_categorical\u001b[0;34m(summary)\u001b[0m\n\u001b[1;32m    366\u001b[0m     )\n\u001b[1;32m    367\u001b[0m \u001b[0;34m\u001b[0m\u001b[0m\n\u001b[0;32m--> 368\u001b[0;31m     unique_stats, value_counts = render_categorical_frequency(\n\u001b[0m\u001b[1;32m    369\u001b[0m         \u001b[0msummary\u001b[0m\u001b[0;34m,\u001b[0m \u001b[0mvarid\u001b[0m\u001b[0;34m,\u001b[0m \u001b[0mimage_format\u001b[0m\u001b[0;34m\u001b[0m\u001b[0;34m\u001b[0m\u001b[0m\n\u001b[1;32m    370\u001b[0m     )\n",
            "\u001b[0;32m/usr/local/lib/python3.8/dist-packages/pandas_profiling/report/structure/variables/render_categorical.py\u001b[0m in \u001b[0;36mrender_categorical_frequency\u001b[0;34m(summary, varid, image_format)\u001b[0m\n\u001b[1;32m     35\u001b[0m \u001b[0;34m\u001b[0m\u001b[0m\n\u001b[1;32m     36\u001b[0m     frequencies = Image(\n\u001b[0;32m---> 37\u001b[0;31m         \u001b[0mhistogram\u001b[0m\u001b[0;34m(\u001b[0m\u001b[0;34m*\u001b[0m\u001b[0msummary\u001b[0m\u001b[0;34m[\u001b[0m\u001b[0;34m\"histogram_frequencies\"\u001b[0m\u001b[0;34m]\u001b[0m\u001b[0;34m)\u001b[0m\u001b[0;34m,\u001b[0m\u001b[0;34m\u001b[0m\u001b[0;34m\u001b[0m\u001b[0m\n\u001b[0m\u001b[1;32m     38\u001b[0m         \u001b[0mimage_format\u001b[0m\u001b[0;34m=\u001b[0m\u001b[0mimage_format\u001b[0m\u001b[0;34m,\u001b[0m\u001b[0;34m\u001b[0m\u001b[0;34m\u001b[0m\u001b[0m\n\u001b[1;32m     39\u001b[0m         \u001b[0malt\u001b[0m\u001b[0;34m=\u001b[0m\u001b[0;34m\"frequencies histogram\"\u001b[0m\u001b[0;34m,\u001b[0m\u001b[0;34m\u001b[0m\u001b[0;34m\u001b[0m\u001b[0m\n",
            "\u001b[0;32m/usr/lib/python3.8/contextlib.py\u001b[0m in \u001b[0;36minner\u001b[0;34m(*args, **kwds)\u001b[0m\n\u001b[1;32m     73\u001b[0m         \u001b[0;32mdef\u001b[0m \u001b[0minner\u001b[0m\u001b[0;34m(\u001b[0m\u001b[0;34m*\u001b[0m\u001b[0margs\u001b[0m\u001b[0;34m,\u001b[0m \u001b[0;34m**\u001b[0m\u001b[0mkwds\u001b[0m\u001b[0;34m)\u001b[0m\u001b[0;34m:\u001b[0m\u001b[0;34m\u001b[0m\u001b[0;34m\u001b[0m\u001b[0m\n\u001b[1;32m     74\u001b[0m             \u001b[0;32mwith\u001b[0m \u001b[0mself\u001b[0m\u001b[0;34m.\u001b[0m\u001b[0m_recreate_cm\u001b[0m\u001b[0;34m(\u001b[0m\u001b[0;34m)\u001b[0m\u001b[0;34m:\u001b[0m\u001b[0;34m\u001b[0m\u001b[0;34m\u001b[0m\u001b[0m\n\u001b[0;32m---> 75\u001b[0;31m                 \u001b[0;32mreturn\u001b[0m \u001b[0mfunc\u001b[0m\u001b[0;34m(\u001b[0m\u001b[0;34m*\u001b[0m\u001b[0margs\u001b[0m\u001b[0;34m,\u001b[0m \u001b[0;34m**\u001b[0m\u001b[0mkwds\u001b[0m\u001b[0;34m)\u001b[0m\u001b[0;34m\u001b[0m\u001b[0;34m\u001b[0m\u001b[0m\n\u001b[0m\u001b[1;32m     76\u001b[0m         \u001b[0;32mreturn\u001b[0m \u001b[0minner\u001b[0m\u001b[0;34m\u001b[0m\u001b[0;34m\u001b[0m\u001b[0m\n\u001b[1;32m     77\u001b[0m \u001b[0;34m\u001b[0m\u001b[0m\n",
            "\u001b[0;32m/usr/local/lib/python3.8/dist-packages/pandas_profiling/visualisation/plot.py\u001b[0m in \u001b[0;36mhistogram\u001b[0;34m(series, bins, date)\u001b[0m\n\u001b[1;32m     74\u001b[0m     \u001b[0mplot\u001b[0m\u001b[0;34m.\u001b[0m\u001b[0mxaxis\u001b[0m\u001b[0;34m.\u001b[0m\u001b[0mset_tick_params\u001b[0m\u001b[0;34m(\u001b[0m\u001b[0mrotation\u001b[0m\u001b[0;34m=\u001b[0m\u001b[0;36m90\u001b[0m \u001b[0;32mif\u001b[0m \u001b[0mdate\u001b[0m \u001b[0;32melse\u001b[0m \u001b[0;36m45\u001b[0m\u001b[0;34m)\u001b[0m\u001b[0;34m\u001b[0m\u001b[0;34m\u001b[0m\u001b[0m\n\u001b[1;32m     75\u001b[0m     \u001b[0mplot\u001b[0m\u001b[0;34m.\u001b[0m\u001b[0mfigure\u001b[0m\u001b[0;34m.\u001b[0m\u001b[0mtight_layout\u001b[0m\u001b[0;34m(\u001b[0m\u001b[0;34m)\u001b[0m\u001b[0;34m\u001b[0m\u001b[0;34m\u001b[0m\u001b[0m\n\u001b[0;32m---> 76\u001b[0;31m     \u001b[0;32mreturn\u001b[0m \u001b[0mplot_360_n0sc0pe\u001b[0m\u001b[0;34m(\u001b[0m\u001b[0mplt\u001b[0m\u001b[0;34m)\u001b[0m\u001b[0;34m\u001b[0m\u001b[0;34m\u001b[0m\u001b[0m\n\u001b[0m\u001b[1;32m     77\u001b[0m \u001b[0;34m\u001b[0m\u001b[0m\n\u001b[1;32m     78\u001b[0m \u001b[0;34m\u001b[0m\u001b[0m\n",
            "\u001b[0;32m/usr/local/lib/python3.8/dist-packages/pandas_profiling/visualisation/utils.py\u001b[0m in \u001b[0;36mplot_360_n0sc0pe\u001b[0;34m(plt, image_format, attempts)\u001b[0m\n\u001b[1;32m     66\u001b[0m             \u001b[0;32mif\u001b[0m \u001b[0mimage_format\u001b[0m \u001b[0;34m==\u001b[0m \u001b[0;34m\"svg\"\u001b[0m\u001b[0;34m:\u001b[0m\u001b[0;34m\u001b[0m\u001b[0;34m\u001b[0m\u001b[0m\n\u001b[1;32m     67\u001b[0m                 \u001b[0mimage_str\u001b[0m \u001b[0;34m=\u001b[0m \u001b[0mStringIO\u001b[0m\u001b[0;34m(\u001b[0m\u001b[0;34m)\u001b[0m\u001b[0;34m\u001b[0m\u001b[0;34m\u001b[0m\u001b[0m\n\u001b[0;32m---> 68\u001b[0;31m                 \u001b[0mplt\u001b[0m\u001b[0;34m.\u001b[0m\u001b[0msavefig\u001b[0m\u001b[0;34m(\u001b[0m\u001b[0mimage_str\u001b[0m\u001b[0;34m,\u001b[0m \u001b[0mformat\u001b[0m\u001b[0;34m=\u001b[0m\u001b[0mimage_format\u001b[0m\u001b[0;34m)\u001b[0m\u001b[0;34m\u001b[0m\u001b[0;34m\u001b[0m\u001b[0m\n\u001b[0m\u001b[1;32m     69\u001b[0m                 \u001b[0mimage_str\u001b[0m\u001b[0;34m.\u001b[0m\u001b[0mseek\u001b[0m\u001b[0;34m(\u001b[0m\u001b[0;36m0\u001b[0m\u001b[0;34m)\u001b[0m\u001b[0;34m\u001b[0m\u001b[0;34m\u001b[0m\u001b[0m\n\u001b[1;32m     70\u001b[0m                 \u001b[0mresult_string\u001b[0m \u001b[0;34m=\u001b[0m \u001b[0mimage_str\u001b[0m\u001b[0;34m.\u001b[0m\u001b[0mgetvalue\u001b[0m\u001b[0;34m(\u001b[0m\u001b[0;34m)\u001b[0m\u001b[0;34m\u001b[0m\u001b[0;34m\u001b[0m\u001b[0m\n",
            "\u001b[0;32m/usr/local/lib/python3.8/dist-packages/matplotlib/pyplot.py\u001b[0m in \u001b[0;36msavefig\u001b[0;34m(*args, **kwargs)\u001b[0m\n\u001b[1;32m    720\u001b[0m \u001b[0;34m\u001b[0m\u001b[0m\n\u001b[1;32m    721\u001b[0m     \u001b[0mfigsize\u001b[0m \u001b[0;34m:\u001b[0m \u001b[0;34m(\u001b[0m\u001b[0mfloat\u001b[0m\u001b[0;34m,\u001b[0m \u001b[0mfloat\u001b[0m\u001b[0;34m)\u001b[0m\u001b[0;34m,\u001b[0m \u001b[0mdefault\u001b[0m\u001b[0;34m:\u001b[0m \u001b[0;34m:\u001b[0m\u001b[0mrc\u001b[0m\u001b[0;34m:\u001b[0m\u001b[0;31m`\u001b[0m\u001b[0mfigure\u001b[0m\u001b[0;34m.\u001b[0m\u001b[0mfigsize\u001b[0m\u001b[0;31m`\u001b[0m\u001b[0;34m\u001b[0m\u001b[0;34m\u001b[0m\u001b[0m\n\u001b[0;32m--> 722\u001b[0;31m         \u001b[0mWidth\u001b[0m\u001b[0;34m,\u001b[0m \u001b[0mheight\u001b[0m \u001b[0;32min\u001b[0m \u001b[0minches\u001b[0m\u001b[0;34m.\u001b[0m\u001b[0;34m\u001b[0m\u001b[0;34m\u001b[0m\u001b[0m\n\u001b[0m\u001b[1;32m    723\u001b[0m \u001b[0;34m\u001b[0m\u001b[0m\n\u001b[1;32m    724\u001b[0m     \u001b[0mdpi\u001b[0m \u001b[0;34m:\u001b[0m \u001b[0mfloat\u001b[0m\u001b[0;34m,\u001b[0m \u001b[0mdefault\u001b[0m\u001b[0;34m:\u001b[0m \u001b[0;34m:\u001b[0m\u001b[0mrc\u001b[0m\u001b[0;34m:\u001b[0m\u001b[0;31m`\u001b[0m\u001b[0mfigure\u001b[0m\u001b[0;34m.\u001b[0m\u001b[0mdpi\u001b[0m\u001b[0;31m`\u001b[0m\u001b[0;34m\u001b[0m\u001b[0;34m\u001b[0m\u001b[0m\n",
            "\u001b[0;32m/usr/local/lib/python3.8/dist-packages/matplotlib/figure.py\u001b[0m in \u001b[0;36msavefig\u001b[0;34m(self, fname, transparent, **kwargs)\u001b[0m\n\u001b[1;32m   2178\u001b[0m \u001b[0;34m\u001b[0m\u001b[0m\n\u001b[1;32m   2179\u001b[0m         \u001b[0mself\u001b[0m\u001b[0;34m.\u001b[0m\u001b[0m_subplotspec\u001b[0m \u001b[0;34m=\u001b[0m \u001b[0msubplotspec\u001b[0m\u001b[0;34m\u001b[0m\u001b[0;34m\u001b[0m\u001b[0m\n\u001b[0;32m-> 2180\u001b[0;31m         \u001b[0mself\u001b[0m\u001b[0;34m.\u001b[0m\u001b[0m_parent\u001b[0m \u001b[0;34m=\u001b[0m \u001b[0mparent\u001b[0m\u001b[0;34m\u001b[0m\u001b[0;34m\u001b[0m\u001b[0m\n\u001b[0m\u001b[1;32m   2181\u001b[0m         \u001b[0mself\u001b[0m\u001b[0;34m.\u001b[0m\u001b[0mfigure\u001b[0m \u001b[0;34m=\u001b[0m \u001b[0mparent\u001b[0m\u001b[0;34m.\u001b[0m\u001b[0mfigure\u001b[0m\u001b[0;34m\u001b[0m\u001b[0;34m\u001b[0m\u001b[0m\n\u001b[1;32m   2182\u001b[0m         \u001b[0mself\u001b[0m\u001b[0;34m.\u001b[0m\u001b[0m_fig_callbacks\u001b[0m \u001b[0;34m=\u001b[0m \u001b[0mparent\u001b[0m\u001b[0;34m.\u001b[0m\u001b[0m_fig_callbacks\u001b[0m\u001b[0;34m\u001b[0m\u001b[0;34m\u001b[0m\u001b[0m\n",
            "\u001b[0;32m/usr/local/lib/python3.8/dist-packages/matplotlib/backend_bases.py\u001b[0m in \u001b[0;36mprint_figure\u001b[0;34m(self, filename, dpi, facecolor, edgecolor, orientation, format, bbox_inches, **kwargs)\u001b[0m\n\u001b[1;32m   2073\u001b[0m         \u001b[0mstrategy\u001b[0m \u001b[0mto\u001b[0m \u001b[0mprevent\u001b[0m \u001b[0mmultiple\u001b[0m \u001b[0mrenderings\u001b[0m\u001b[0;34m.\u001b[0m\u001b[0;34m\u001b[0m\u001b[0;34m\u001b[0m\u001b[0m\n\u001b[1;32m   2074\u001b[0m \u001b[0;34m\u001b[0m\u001b[0m\n\u001b[0;32m-> 2075\u001b[0;31m         \"\"\"\n\u001b[0m\u001b[1;32m   2076\u001b[0m         \u001b[0;32mif\u001b[0m \u001b[0;32mnot\u001b[0m \u001b[0mself\u001b[0m\u001b[0;34m.\u001b[0m\u001b[0m_is_idle_drawing\u001b[0m\u001b[0;34m:\u001b[0m\u001b[0;34m\u001b[0m\u001b[0;34m\u001b[0m\u001b[0m\n\u001b[1;32m   2077\u001b[0m             \u001b[0;32mwith\u001b[0m \u001b[0mself\u001b[0m\u001b[0;34m.\u001b[0m\u001b[0m_idle_draw_cntx\u001b[0m\u001b[0;34m(\u001b[0m\u001b[0;34m)\u001b[0m\u001b[0;34m:\u001b[0m\u001b[0;34m\u001b[0m\u001b[0;34m\u001b[0m\u001b[0m\n",
            "\u001b[0;31mTypeError\u001b[0m: print_svg() got an unexpected keyword argument 'dpi'"
          ]
        }
      ]
    },
    {
      "cell_type": "markdown",
      "source": [
        "현재 데이터에서 중복되는 행이 존재하며, ```col : tax```에서는 zero 값이 존재하는 것을 알 수 있었습니다.\n",
        "\n",
        "* 먼저 중복되는 값들을 확인해봅니다."
      ],
      "metadata": {
        "id": "dkXg__tlDjAR"
      }
    },
    {
      "cell_type": "code",
      "source": [
        "audi.duplicated().value_counts()"
      ],
      "metadata": {
        "id": "y7GE_pakKyzO"
      },
      "execution_count": null,
      "outputs": []
    },
    {
      "cell_type": "code",
      "source": [
        "# 중복된 행을 찾기 위한 함수 생성.\n",
        "\n",
        "True_list = []\n",
        "\n",
        "def check_duplicate(data):\n",
        "\n",
        "  # 중복값 확인\n",
        "  bool_index = audi.duplicated()\n",
        "  \n",
        "  for index,values in enumerate(bool_index):\n",
        "    if values == True :\n",
        "      True_list.append(index)\n",
        "  \n",
        "  return None    "
      ],
      "metadata": {
        "id": "Y0ypb-n0D9t7"
      },
      "execution_count": null,
      "outputs": []
    },
    {
      "cell_type": "code",
      "source": [
        "# 정의한 함수 실행 : check_duplicate\n",
        "check_duplicate(audi)"
      ],
      "metadata": {
        "id": "DxEO1piYEePc"
      },
      "execution_count": null,
      "outputs": []
    },
    {
      "cell_type": "code",
      "source": [
        "len(True_list)"
      ],
      "metadata": {
        "id": "0sPZy3aaFamq"
      },
      "execution_count": null,
      "outputs": []
    },
    {
      "cell_type": "markdown",
      "source": [
        "중복되는 값들은 ```ProfileReport```에서 보고된 개수와 일치합니다.\n",
        "* 데이터의 개수가 그리 많지 않으니 중복된 데이터의 행을 살펴봅니다."
      ],
      "metadata": {
        "id": "qHsCSVzIFfAs"
      }
    },
    {
      "cell_type": "code",
      "source": [
        "audi_dup_data = audi.loc[True_list]\n",
        "audi_dup_data"
      ],
      "metadata": {
        "id": "GWfsFmw6Kb1H"
      },
      "execution_count": null,
      "outputs": []
    },
    {
      "cell_type": "markdown",
      "source": [
        "중복된 값들만 포함된 df만 살펴보니 삭제하는게 큰 의미가 있을 것 같지 않습니다."
      ],
      "metadata": {
        "id": "G3S57oX-LlJD"
      }
    },
    {
      "cell_type": "code",
      "source": [
        "audi_dup_data.tax.value_counts()"
      ],
      "metadata": {
        "id": "CVp-kbSjSFBF"
      },
      "execution_count": null,
      "outputs": []
    },
    {
      "cell_type": "code",
      "source": [
        "audi[audi['engineSize'] ==0].head()"
      ],
      "metadata": {
        "id": "NS8V4K84sN0t"
      },
      "execution_count": null,
      "outputs": []
    },
    {
      "cell_type": "markdown",
      "source": [
        "엔진의 값에서 '0'인 값들이 존재합니다.\n",
        "```engineSize : 0```이라면 엔진이 없다고 느낄 수 있으므로 잘못된 관측치인 것 같습니다.\n",
        "\n",
        "* 다행스럽게도 자동차 모델의 세세한 옵션을 제외하곤 모두 규격화되어 있으므로\n",
        "  같은 종류의 자동차의 엔진크기를 입혀도 될 것 같습니다.\n",
        "\n",
        "* 먼저 자동차모델 및 연료타입에 따른 엔진사이즈만 따로 확인해보도록 합니다."
      ],
      "metadata": {
        "id": "6TG6Nv1BSKEz"
      }
    },
    {
      "cell_type": "code",
      "source": [
        "# 자동차 모델 및 연료타입 및 연료사이즈\n",
        "extraction_audi = audi.loc[:,['model','fuelType','engineSize']]\n",
        "extraction_audi.head()"
      ],
      "metadata": {
        "id": "VYXAS1c7steJ"
      },
      "execution_count": null,
      "outputs": []
    },
    {
      "cell_type": "code",
      "source": [
        "groupby_audi = extraction_audi.set_index([\"model\", \"fuelType\"])[[\"engineSize\"]]\n",
        "groupby_audi"
      ],
      "metadata": {
        "id": "WghZ0ckrsYR3"
      },
      "execution_count": null,
      "outputs": []
    },
    {
      "cell_type": "code",
      "source": [
        "# A3에 대해서만 확인합니다.\n",
        "A3_engineSize = groupby_audi.loc[['A3',],:]\n",
        "A3_engineSize.head()"
      ],
      "metadata": {
        "id": "OLkCrxNGsUNC"
      },
      "execution_count": null,
      "outputs": []
    },
    {
      "cell_type": "markdown",
      "source": [
        "연료타입이 같음에도 불구하고 엔진사이즈가 다른 경우가 존재합니다. </br>\n",
        "혹시 연료타입이 아닌 다른 결과가 엔진사이즈에 영향을 미칠 수 도 있을 것 같습니다. <br/>\n",
        "\n",
        "```transmission```과 함께 확인하여 봅니다.\n"
      ],
      "metadata": {
        "id": "aIxChu1VznQ2"
      }
    },
    {
      "cell_type": "code",
      "source": [
        "groupby_audi = audi.set_index([\"model\", \"year\", \"transmission\", \"fuelType\"])[[\"engineSize\"]].sort_values(by='year')"
      ],
      "metadata": {
        "id": "sL_fQ9DG0VpM"
      },
      "execution_count": null,
      "outputs": []
    },
    {
      "cell_type": "code",
      "source": [
        "## row 생략 없이 출력\n",
        "#pd.set_option('display.max_rows', None)\n",
        "\n",
        "## col 생략 없이 출력\n",
        "#pd.set_option('display.max_columns', None)\n",
        "\n",
        "groupby_audi = groupby_audi.loc[['A3',],:]\n",
        "groupby_audi"
      ],
      "metadata": {
        "id": "YFNx0Paz0XMo"
      },
      "execution_count": null,
      "outputs": []
    },
    {
      "cell_type": "markdown",
      "source": [
        "#### 별다른 특이점을 찾지 못하였습니다❗\n",
        "* 같은 연도에서 ```fuelType```, ```transmission```을 살펴보았으나, 세 가지 모두 같음에도 엔진의 값이 다른 경우가 존재합니다. \n",
        "\n",
        "  - 즉 이들 값으로 엔진의 값을 채우는 것은 무리가 있어보이므로, ```engineSize```가 '0' 으로 되어있는 값은 삭제하도록 하겠습니다. "
      ],
      "metadata": {
        "id": "feJT06HF4ANX"
      }
    },
    {
      "cell_type": "markdown",
      "source": [
        "####1-2-1.```engineSize```가 0인 행을 삭제하도록 합니다."
      ],
      "metadata": {
        "id": "jRfMKv6M4VGV"
      }
    },
    {
      "cell_type": "code",
      "source": [
        "# engineSize = 0인 행만 따로 추출\n",
        "engineSize_0 = audi[audi['engineSize'] == 0]\n",
        "\n",
        "print(f'엔진 사이즈가 0인 경우 :{engineSize_0.shape}')\n",
        "\n",
        "# 제거하기 전 audi : df크기\n",
        "print(f'제거하기 전 df 크기 : {audi.shape}')\n",
        "\n",
        "# table drop\n",
        "# 엔진 사이즈가 0인 값들은 모두 제거합니다.\n",
        "audi = audi[audi['engineSize'] !=0]\n",
        "\n",
        "\n",
        "# 제거 이후 audi : df크기\n",
        "print(f'제거이후 df 크기 : {audi.shape}')"
      ],
      "metadata": {
        "id": "VUEMbm5h8zwt"
      },
      "execution_count": null,
      "outputs": []
    },
    {
      "cell_type": "markdown",
      "source": [
        "#### 1-2-2. year 제거.\n",
        ">현재 날짜를 기준으로 보았을 때, 90년대 및 2000년대 중고차 차량은 매력이 없는 상품일 것 입니다.\n",
        "\n",
        "* 차의 연식이 오래될수록, 비교적 차량의 관리가 어렵고, 사고 또한 존재할 위험이 있으며, 주행거리 또한 높을 확률이 통념상 높습니다.\n",
        "\n",
        "* 차량의 기준점은 2014년으로 잡도록 하겠습니다. \n",
        "  - 2014년 이전의 생산차량은 모두 제거하도록 합니다.\n",
        "  \n"
      ],
      "metadata": {
        "id": "SdSqhM-B7YVt"
      }
    },
    {
      "cell_type": "code",
      "source": [
        "# 날짜 컬럼만 살펴봅시다.\n",
        "audi['year'].sort_values() # 1998년도 차량이 존재합니다.\n",
        "identify_year = audi[audi['year'] < 2014]\n",
        "\n",
        "# 2014년 미만의 데이터 확인\n",
        "print(f'2014년 미만의 차량의 개수는 총 {identify_year.shape[0]}대 입니다.')\n",
        "print(f'제거 전의 데이터 크기는 총 {audi.shape[0]}입니다.')\n",
        "audi = audi[audi['year'] > 2013]\n",
        "print(f'제거 후의 데이터 크기는 총 {audi.shape[0]}입니다.')"
      ],
      "metadata": {
        "id": "Xpo9smTFi70g"
      },
      "execution_count": null,
      "outputs": []
    },
    {
      "cell_type": "markdown",
      "source": [
        "####1-2-3. EDA : IQR Method 💡\n",
        "> 데이터 내에서 이상치를 탐지하는 강력한 방법중 하나로\n",
        "  데이터를 정제하기 위해 IQR Method로 데이터를 탐색합니다.\n",
        "\n",
        "* 이상치 : 관측된 데이터의 범위에서 많이 벗어난 아주 작은 값 & 큰 값\n",
        "* 시각화 : 이상치를 눈에 볼 수 있게끔 시각화 또한 포함합니다."
      ],
      "metadata": {
        "id": "1dY_aQC69QR9"
      }
    },
    {
      "cell_type": "markdown",
      "source": [
        " **❗주의 :  <u>몇가지 컬럼에 대하여는 IQR Method를 실행하지 않겠습니다</u>❗**\n",
        "* ```차량 연비 : mpg``` 같은 경우, 비싼 스포츠카 및 고급 외제차는 많은 연비가 나올 수 있습니다.\n",
        "* ``` 가격 : price ``` 와 같은 경우, 비싼 스포츠카 및 고급 외제차는 '감가' 또한 적게 이루어질 수 있습니다.  "
      ],
      "metadata": {
        "id": "tzrUeFq_LyvP"
      }
    },
    {
      "cell_type": "markdown",
      "source": [
        "#### ```mileage```에 대하여 이상치 컬럼을 확인합니다. \n",
        "중고차를 구매할 때 많은 주행거리는 상대적으로 매력이 있지 않습니다. </br>\n",
        "따라서 이상치로 판단하여, 너무 많은 주행거리는 삭제하겠습니다."
      ],
      "metadata": {
        "id": "RF_eIogtNHP_"
      }
    },
    {
      "cell_type": "code",
      "source": [
        "# 이상치를 탐지 하기 위해 함수를 정의합니다. : IQR Method \n",
        "\n",
        "#  필요한 라이브러리를 가져옵니다.\n",
        "import matplotlib.pyplot as plt\n",
        "import seaborn as sns\n",
        "%matplotlib inline\n",
        "\n",
        "def outlier_iqr(data, column):\n",
        "  \n",
        "  \n",
        "  boxplot_column = sns.boxplot(x = column, data =data)\n",
        "  plt.title(f'Outlier Data : {column}')\n",
        "  plt.show()\n",
        "  \n",
        "  # 글로벌 변수 선언\n",
        "  global lower, upper, data1, data2, data_cleaning\n",
        "\n",
        "  # 분위수 기준 정하기.\n",
        "  q1, q3 = np.quantile(data[column], 0.25), np.quantile(data[column], 0.75)\n",
        "\n",
        "  # iqr 계산.\n",
        "  iqr = q3 - q1\n",
        "\n",
        "  # 이상치 : outlier cutoff 계산\n",
        "  cut_off = iqr*1.5\n",
        "\n",
        "  # lower, upper bound 값 구하기.\n",
        "  lower, upper = q1 - cut_off, q3 + cut_off\n",
        "\n",
        "  # identify...\n",
        "  print(f'IQR은 {iqr} 이다.')\n",
        "  print(f'lower bound 값은 {lower} 이다.')\n",
        "  print(f'upper bound 값은 {upper} 이다.')\n",
        "\n",
        "  # 1사분위 및 4사분위에 속해있는 데이터 저장. \n",
        "  data1 = data[data[column] > upper]\n",
        "  data2 = data[data[column] < lower]\n",
        "\n",
        "  # 이상치 개수 구하기.\n",
        "  print(f'총 이상치 개수는 {data1.shape[0] + data2.shape[0]}이다.')\n",
        "\n",
        "  # 제거전 데이터의 크기.\n",
        "  print(f'제거 전 데이터 크기 {data.shape}')\n",
        "  # 이상치 제거\n",
        "  data_cleaning = data[(data[column]<upper) & (data[column] > lower)]\n",
        "  \n",
        "  print(f'제거 이후 데이터 크기{data_cleaning.shape}')\n",
        "\n",
        "  return data_cleaning"
      ],
      "metadata": {
        "id": "PLwzNXoUAUBE"
      },
      "execution_count": null,
      "outputs": []
    },
    {
      "cell_type": "code",
      "source": [
        "outlier_iqr(audi, 'mileage')"
      ],
      "metadata": {
        "id": "yEWJp_IpAK8N"
      },
      "execution_count": null,
      "outputs": []
    },
    {
      "cell_type": "code",
      "source": [
        "audi = data_cleaning\n",
        "audi.head()"
      ],
      "metadata": {
        "id": "dBIo4k48BB7Q"
      },
      "execution_count": null,
      "outputs": []
    },
    {
      "cell_type": "code",
      "source": [
        "# 시각화 라이브러리 한글 깨짐 현상 방지\n",
        "\n",
        "!sudo apt-get install -y fonts-nanum\n",
        "!sudo fc-cache -fv\n",
        "!rm ~/.cache/matplotlib -rf"
      ],
      "metadata": {
        "id": "dTeszwB613_J"
      },
      "execution_count": null,
      "outputs": []
    },
    {
      "cell_type": "code",
      "source": [
        "# 정제된 데이터를  outlier_iqr이 적용된 데이터에 덮어씌웁니다.\n",
        "audi = data_cleaning\n",
        "audi.shape"
      ],
      "metadata": {
        "id": "fGIJ_m9BAO_Q"
      },
      "execution_count": null,
      "outputs": []
    },
    {
      "cell_type": "code",
      "source": [
        "# 런타임 재시작 및 실행 이후 이 코드셀을 다시 한 번 실행하면 한글 출력 원활하게 나옴.\n",
        "\n",
        "# 박스플롯으로 다시 한 번 확인하여 봅시다.\n",
        "fig, axes = plt.subplots(2,1, figsize = (10,9))\n",
        "sns.boxplot(data= audi, x = 'mileage', color = 'red', ax = axes[0])\n",
        "sns.histplot(data = audi, x = 'mileage', kde = True, color = 'blue', ax=axes[1])\n",
        "\n",
        "# subplots 간격조절.\n",
        "plt.subplots_adjust(hspace = 0.35)\n",
        "\n",
        "\n",
        "# 한글깨짐 방지 폰트 지정 matplotlib.\n",
        "plt.rc('font', family='NanumBarunGothic') \n",
        "plt.title('Audi 차량의 마일리지')\n",
        "\n",
        "# 제목 생성\n",
        "axes[0].set_title(\"박스그래프 : Mileage\", fontsize = 18)\n",
        "axes[1].set_title(\"분포도 : Mileage\", fontsize = 18) \n",
        "\n",
        "axes[0].set_xlabel('주행거리', fontsize=16)\n",
        "axes[1].set_xlabel('주행거리', fontsize=16)\n",
        "plt.show()"
      ],
      "metadata": {
        "id": "Or65LdIG8ZR7"
      },
      "execution_count": null,
      "outputs": []
    },
    {
      "cell_type": "code",
      "source": [
        "audi.columns"
      ],
      "metadata": {
        "id": "YbLST1DusqsG"
      },
      "execution_count": null,
      "outputs": []
    },
    {
      "cell_type": "markdown",
      "source": [
        "###1-2-4. 이번에는 연비를 살펴봅시다.\n",
        "* 살펴본 결과, 0의 연비를 가지고 있는 자동차는 현재 데이터에서 존재하지 않습니다."
      ],
      "metadata": {
        "id": "pxEDVhWdssUP"
      }
    },
    {
      "cell_type": "code",
      "source": [
        "audi['mpg'].sort_values(ascending = True)"
      ],
      "metadata": {
        "id": "qac_Ff95s9h_"
      },
      "execution_count": null,
      "outputs": []
    },
    {
      "cell_type": "markdown",
      "source": [
        "이번에는 tax에 대하여 살펴보도록 합니다.\n"
      ],
      "metadata": {
        "id": "Oq7OvsG7tWsA"
      }
    },
    {
      "cell_type": "code",
      "source": [
        "audi['tax'].sort_values()"
      ],
      "metadata": {
        "id": "ggbE8NzutwRJ"
      },
      "execution_count": null,
      "outputs": []
    },
    {
      "cell_type": "markdown",
      "source": [
        "* 차량의 종류에 따라 세금은 다를 수 있습니다. \n",
        "  - 하지만 세금이 0인 경우는 어째서 0인지 잘 모르겠습니다.</br>\n",
        "    현재 데이터에서 세금이 0인 경우는 어째서 세금이 0인지 살펴볼 수 없으므로,\n",
        "    삭제하도록 하겠습니다."
      ],
      "metadata": {
        "id": "qK6GZ8EFtJT7"
      }
    },
    {
      "cell_type": "code",
      "source": [
        "# 현재 세금이 0인 경우에 해당하는 차량은 총 462대 입니다.\n",
        "# 현재  audi데이터의 shape은 (9807,9) 이므로  세금이 0인 차량을 제외한다면  9,345가 되어야 합니다.\n",
        "audi[audi['tax'] == 0].shape\n",
        "audi = audi[audi['tax']>0]\n",
        "audi.shape"
      ],
      "metadata": {
        "id": "7aSGJtPxyfm5"
      },
      "execution_count": null,
      "outputs": []
    },
    {
      "cell_type": "markdown",
      "source": [
        "#### 현재 ```col : year, engineSize, mileage, mpg, tax```에 까지 데이터를 살펴봤습니다.\n",
        "나머지 컬럼은 범주형 변수 및 문제점이 없는데이터라고 생각하여 분석을 진행하도록 하겠습니다."
      ],
      "metadata": {
        "id": "cdDqh5SXyyTP"
      }
    },
    {
      "cell_type": "markdown",
      "source": [
        "#### 1-3. Features Engineering\n",
        "> 정제된 데이터에 추가로 알아보고 싶은 것들을 작성합니다. <br>\n",
        "\n",
        "* 차량의 타입으로 자동차를 고를 분들도 존재할 것 같아, 차량의 타입을 작성했습니다. \n",
        "  - ex) sedan, suv, hatchback...\n",
        "\n",
        "* 이외에 다양한 아이디어로 작성할 수 있습니다."
      ],
      "metadata": {
        "id": "a9qlU_4lck5G"
      }
    },
    {
      "cell_type": "markdown",
      "source": [
        "> 다음과 같은 컬럼을 추가하였습니다.\n",
        "\n",
        "* ```'size_and_type'``` : size & type을 나타내는 컬럼 생성.</br> \n",
        "  <sub>이후 ```size```와 ```type```을 나눠 추가 생성하였습니다.</sub>\n",
        "\n",
        "* ```used_year``` : 차를 사용한 연도를 알아보기 쉽게 하기 위해 표기하였습니다.</br>\n",
        "<sub> 기준은 2022년이며, 단위는 (년) 입니다.</sub>\n",
        "\n",
        "* ```ampy``` : 연간 평균 주행거리를 의미합니다. \n",
        "</br><sub>Average_mileage_per_year </sub>\n",
        "\n",
        "* ```km/l``` : 자동차 연비를 한국식으로 표현했습니다.\n",
        "<sub> ```mpg```보다는 가독성이 더 좋을 것 같습니다...</sub>"
      ],
      "metadata": {
        "id": "KDpEifc_x2rr"
      }
    },
    {
      "cell_type": "code",
      "source": [
        "def engineering_audi(data):\n",
        "\n",
        "  # 적용되어야 할 df의 모든 속성 가져오기.\n",
        "  selected_cols = data.select_dtypes(include = ['number','object'])\n",
        "\n",
        "  # size & type을 나타내는 컬럼 생성.\n",
        "  data['size_and_type'] = data['model']\n",
        "\n",
        "  # 생성된 컬럼의 값을 대체합니다.\n",
        "  data.replace({'size_and_type' : {'A1':'small_hatchback',\n",
        "                                   'A2':'small_hatchback',\n",
        "                                   'A3':'submid_hatchback',\n",
        "                                   'A4':'mid_sedan',\n",
        "                                   'A5':'mid_coupe',\n",
        "                                   'A6':'subfull_sedan',\n",
        "                                   'A7':'subfull_coupe', \n",
        "                                   'A8':'full_sedan',\n",
        "                                    \n",
        "                                   'Q2':'small_suv',\n",
        "                                   'Q3':'submid_suv',\n",
        "                                   'Q5':'mid_suv',\n",
        "                                   'Q7':'subfull_suv',\n",
        "                                   'Q8':'subfull_suv',\n",
        "                                    \n",
        "                                   'S3':'submid_hatchback',\n",
        "                                   'S4':'mid_sedan',\n",
        "                                   'S5':'mid_coupe',\n",
        "                                   'S8':'full_sedan',\n",
        "                                    \n",
        "                                   'SQ5':'mid_suv',\n",
        "                                   'SQ7':'subfull_suv',\n",
        "                                    \n",
        "                                   'RS3':'submid_hatchback',\n",
        "                                   'RS4':'mid_sedan',\n",
        "                                   'RS5':'mid_coupe',\n",
        "                                   'RS6':'subfull_wagon',\n",
        "\n",
        "                                   'TT':'small_sportscoupe',\n",
        "                                   'R8': 'mid_sportscoupe'}}, inplace = True)\n",
        "  \n",
        "\n",
        "  # size & type 생성.\n",
        "  data['size'] = data['size_and_type'].str.split('_').str[0]\n",
        "  \n",
        "  data['type'] = data['size_and_type'].str.split('_').str[1]\n",
        "  \n",
        "  # 사용한 날짜(단위 : 년) 생성 / 기준년도 2022년\n",
        "  data['used_year'] = (2022 - data['year']) + 1\n",
        " \n",
        "  # 연간 평균 주행거리 :Average_mileage_per_year\n",
        "  data['ampy'] = (data['mileage'] / data['used_year']).round(1)\n",
        "  \n",
        "  # 자동차 연비 : mpg라서 한국식으로 좀 바꿔봅시다.\n",
        "  # 1mpg : 0.43km/L 을 기준으로 잡아서 계산하였습니다. \n",
        "  data['km/l'] = (data['mpg'] * 0.43).round(1)\n",
        "\n",
        "\n",
        "  return audi"
      ],
      "metadata": {
        "id": "lwu3PDFSeK3D"
      },
      "execution_count": null,
      "outputs": []
    },
    {
      "cell_type": "code",
      "source": [
        "engineering_audi(audi).head()"
      ],
      "metadata": {
        "id": "la-osOU7ojTZ"
      },
      "execution_count": null,
      "outputs": []
    },
    {
      "cell_type": "code",
      "source": [
        "# 최종적으로 생성된 데이터를 한번 확인하여 봅시다.\n",
        "audi.info()"
      ],
      "metadata": {
        "id": "XC8Pi3nWpEI8"
      },
      "execution_count": null,
      "outputs": []
    },
    {
      "cell_type": "markdown",
      "source": [
        "# **2. Data Visualization🙇🏻‍♂️**\n",
        "> 현재 데이터에서 살펴볼 수 있는 것을 살펴보고자 합니다."
      ],
      "metadata": {
        "id": "9M3JG5381rYs"
      }
    },
    {
      "cell_type": "code",
      "source": [
        "# 호버기능을 이용할 수 있는 plotly 사용\n",
        "!pip install plotly\n",
        "!pip install plotly --upgrade"
      ],
      "metadata": {
        "id": "sK3acHIx270s"
      },
      "execution_count": null,
      "outputs": []
    },
    {
      "cell_type": "markdown",
      "source": [
        "#### 2-1. 모델별 차량의 개수"
      ],
      "metadata": {
        "id": "38t41h7S7TOI"
      }
    },
    {
      "cell_type": "code",
      "source": [
        "# 필요한 라이브러리를 가져옵니다.\n",
        "import plotly.express as px\n",
        "import plotly.graph_objs as go\n",
        "\n",
        "# 모델에 따른 개수를 확인합니다.\n",
        "audi_counts = audi.groupby('model')['model'].count().reset_index(name ='counts').sort_values(by='counts')\n",
        "\n",
        "# 시각화에 들어갈 색상 생성\n",
        "sns.set_palette(\"Set2\")  \n",
        "\n",
        "# 시각화\n",
        "fig = px.bar(audi_counts,\n",
        "             x = 'counts',\n",
        "             y= 'model',\n",
        "             text_auto = 'Count',\n",
        "             color = audi_counts['model'])\n",
        "\n",
        "\n",
        "# 1. 그래프 설정.\n",
        "fig.update_layout(\n",
        "    \n",
        "    # 제목 설정\n",
        "    title = dict(\n",
        "        # <br> 태그와 <sup> 태그를 사용하여 subtitle을 지정할 수 있다.\n",
        "        text = '<b> 모델별 차량의 개수</b><br><sup> Count of Model \"Audi\"</sup>',\n",
        "\n",
        "        x = 0.5,\n",
        "        y = 0.95,\n",
        "        font = dict(\n",
        "            size = 23,\n",
        "            color = '#000000'\n",
        "        )\n",
        "    ),\n",
        "\n",
        "    # x축 설정\n",
        "    xaxis_title = dict(\n",
        "        text = '<b>종류별 개수</b>'\n",
        "    ),\n",
        "\n",
        "    # y축 설정\n",
        "    yaxis_title = dict(\n",
        "        text = '<b>모델 종류</b>'\n",
        "    ),\n",
        "\n",
        "    #배경화면 설정\n",
        "    plot_bgcolor = '#FCFDF2',\n",
        "\n",
        "   #바 사이 간격 조정.\n",
        "   bargap =0.5\n",
        ")\n",
        "\n",
        "\n",
        "#2. 추가설정\n",
        "fig.update_traces(\n",
        "    \n",
        "    # 막대 오른쪽 글자 표시 : 크기.\n",
        "    textfont_size = 15,\n",
        "\n",
        "    #\n",
        "    textposition = 'outside',\n",
        "    \n",
        "    # 막대크기\n",
        "    width = 1,\n",
        "    \n",
        "    # 막대 주변 \n",
        "    marker_line_width=0.5,\n",
        "    marker_line_color = 'black'\n",
        ")\n",
        "\n",
        "\n",
        "fig.show()\n"
      ],
      "metadata": {
        "id": "ZpW5kwzK36R7"
      },
      "execution_count": null,
      "outputs": []
    },
    {
      "cell_type": "markdown",
      "source": [
        "####2-2. 아우디 자동차별 평균 가격에 대한 시각화\n",
        "> 평균가격에서 소수점 반올림을 진행합니다.\n",
        "\n",
        "* 차량의 개수가 가장많은 A3는 두번째로 가장 싼 평균가격을 차지하고 있습니다.\n",
        "* 아우디 :R8의 중고차 매물은 24대뿐이지만, 가장 비싼 평균금액대를 형성하고 있습니다.\n"
      ],
      "metadata": {
        "id": "-giX0vv1qnsc"
      }
    },
    {
      "cell_type": "code",
      "source": [
        "#자동차별 평균 금액 묶기.\n",
        "price_model = audi.groupby('model')['price'].mean().reset_index(name = 'prices').sort_values(by='prices')\n",
        "\n",
        "# 반올림\n",
        "price_model['prices'] = price_model['prices'].round()\n",
        "\n",
        "# 영국의 차량을 나타내는 데이터이므로 '파운드 -> 원' 으로 바꿔줍니다.\n",
        "price_model['prices'] = price_model['prices'] * 1600\n",
        "\n",
        "\n",
        "# 시각화에 들어갈 색상 생성.\n",
        "sns.set_palette(\"Set2\")\n",
        "\n",
        "# 시각화\n",
        "fig = px.bar(price_model,\n",
        "             x = 'prices',\n",
        "             y = 'model',\n",
        "             text_auto = True,\n",
        "             color = price_model['model'])\n",
        "\n",
        "\n",
        "\n",
        "# 1. 그래프 설정.\n",
        "fig.update_layout(\n",
        "    \n",
        "    # 제목 설정\n",
        "    title = dict(\n",
        "        # <br> 태그와 <sup> 태그를 사용하여 subtitle을 지정할 수 있다.\n",
        "        text = '<b> 차량 모델별 평균 금액</b><br><sup> Average amount of Model \"Audi\"</sup>',\n",
        "\n",
        "        x = 0.5,\n",
        "        y = 0.95,\n",
        "        font = dict(\n",
        "            size = 23,\n",
        "            color = '#000000'\n",
        "        )\n",
        "    ),\n",
        "\n",
        "    # x축 설정\n",
        "    xaxis_title = dict(\n",
        "        text = '<b>평균 금액</b><br><sup>단위:원화</sup>'\n",
        "    ),\n",
        "\n",
        "    # y축 설정\n",
        "    yaxis_title = dict(\n",
        "        text = '<b>모델 종류</b>'\n",
        "    ),\n",
        "\n",
        "    #배경화면 설정\n",
        "    plot_bgcolor = '#FCFDF2',\n",
        "\n",
        "   #바 사이 간격 조정.\n",
        "   bargap =0.5\n",
        ")\n",
        "\n",
        "# 2-1. 가장 싼 차량\n",
        "fig.add_annotation(\n",
        "    text = '가장 싼 차량 : A1', \n",
        "    y = 24,\n",
        "    showarrow = False,\n",
        "    xshift = 60\n",
        ")\n",
        "\n",
        "\n",
        "# 2-2. 금액 중앙값.\n",
        "fig.add_annotation(\n",
        "    text = ' \"다양한 모델\" 중 중앙 값 : SQ5',\n",
        "    y = 12,\n",
        "    showarrow = False,\n",
        "    xshift = 110\n",
        ")\n",
        "\n",
        "\n",
        "# 2-3. 가장 비싼 차량\n",
        "fig.add_annotation(\n",
        "    text = '가장 비싼 금액의 차량 :R8',\n",
        "    y = 0,\n",
        "    showarrow = False,\n",
        "    xshift = 100\n",
        ")\n",
        "\n",
        "\n",
        "#3. 추가설정\n",
        "fig.update_traces(\n",
        "    \n",
        "    # 막대 오른쪽 글자 표시 : 크기.\n",
        "    textfont_size = 15,\n",
        "\n",
        "    #\n",
        "    textposition = 'outside',\n",
        "    \n",
        "    # 막대크기\n",
        "    width = 1,\n",
        "    \n",
        "    # 막대 주변 \n",
        "    marker_line_width=0.5,\n",
        "    marker_line_color = 'black'\n",
        ")\n",
        "\n",
        "fig.show()"
      ],
      "metadata": {
        "id": "Wvaw9YW57hfD"
      },
      "execution_count": null,
      "outputs": []
    },
    {
      "cell_type": "markdown",
      "source": [
        "####2-3. 차량 타입에 따른 개수 확인.\n",
        "> 모델 이름은 모르지만, 자동차의 타입(해치백,suv...)을 알고 있다면 확인할 수 있습니다.\n",
        "\n",
        "* suv 타입의 자동차가 현재 중고차 시장에 가장 많은 매물을 형성하고 있는 것을 확인할 수 있습니다."
      ],
      "metadata": {
        "id": "0hi0cm_J2SPk"
      }
    },
    {
      "cell_type": "code",
      "source": [
        "types_counts = audi.groupby('type')['type'].count().reset_index(name = 'counts').sort_values(by='counts')\n",
        "types_counts\n",
        "\n",
        "\n",
        "\n",
        "# 시각화에 들어갈 색상 생성.\n",
        "sns.set_palette(\"Set2\")\n",
        "\n",
        "# 시각화\n",
        "fig = px.bar(types_counts,\n",
        "             x = 'counts',\n",
        "             y = 'type',\n",
        "             text_auto = True,\n",
        "             color = types_counts['type'])\n",
        "\n",
        "\n",
        "\n",
        "# 1. 그래프 설정.\n",
        "fig.update_layout(\n",
        "    \n",
        "    # 제목 설정\n",
        "    title = dict(\n",
        "        # <br> 태그와 <sup> 태그를 사용하여 subtitle을 지정할 수 있다.\n",
        "        text = '<b> 차량 타입별 개수</b><br><sup> Number by vehicle type \"Audi\"</sup>',\n",
        "\n",
        "        x = 0.5,\n",
        "        y = 0.95,\n",
        "        font = dict(\n",
        "            size = 23,\n",
        "            color = '#000000'\n",
        "        )\n",
        "    ),\n",
        "\n",
        "    # x축 설정\n",
        "    xaxis_title = dict(\n",
        "        text = '<b>총 개수</b>'\n",
        "    ),\n",
        "\n",
        "    # y축 설정\n",
        "    yaxis_title = dict(\n",
        "        text = '<b>타입 종류</b>'\n",
        "    ),\n",
        "\n",
        "    #배경화면 설정\n",
        "    plot_bgcolor = '#FCFDF2',\n",
        "\n",
        "   #바 사이 간격 조정.\n",
        "   bargap =0.5\n",
        ")\n",
        "\n",
        "\n",
        "#3. 추가설정\n",
        "fig.update_traces(\n",
        "    \n",
        "    # 막대 오른쪽 글자 표시 : 크기.\n",
        "    textfont_size = 15,\n",
        "\n",
        "    #\n",
        "    textposition = 'outside',\n",
        "    \n",
        "    # 막대크기\n",
        "    width = 1,\n",
        "    \n",
        "    # 막대 주변 \n",
        "    marker_line_width=0.5,\n",
        "    marker_line_color = 'black'\n",
        ")\n",
        "\n",
        "fig.show()\n",
        "\n"
      ],
      "metadata": {
        "id": "FeXATVzx7IDc"
      },
      "execution_count": null,
      "outputs": []
    },
    {
      "cell_type": "markdown",
      "source": [
        "####2-4. 차량 모델에 따른 가격의 범위\n",
        "* R8의 최소가격 및 최대가격이 가장많은 차이를 보여주는 것으로 나타났습니다.\n",
        "  - RS7 & S5는 차량이 각각 1대뿐입니다."
      ],
      "metadata": {
        "id": "0JUqIJDoXZ7a"
      }
    },
    {
      "cell_type": "code",
      "source": [
        "fig = px.box(audi, \n",
        "             x = 'model', \n",
        "             # 파운드 -> 원\n",
        "             y = audi['price'] * 1600,\n",
        "             color = audi['model'])\n",
        "\n",
        "# 시각화에 들어갈 색상 생성.\n",
        "sns.set_palette(\"Set2\")\n",
        "\n",
        "\n",
        "# 1. 그래프 설정.\n",
        "fig.update_layout(\n",
        "    \n",
        "    # 제목 설정\n",
        "    title = dict(\n",
        "        # <br> 태그와 <sup> 태그를 사용하여 subtitle을 지정할 수 있다.\n",
        "        text = '<b> 차량 모델에 따른 가격의 범위</b><br><sup> Price range according to  \"Audi\" model </sup>',\n",
        "\n",
        "        x = 0.5,\n",
        "        y = 0.95,\n",
        "        font = dict(\n",
        "            size = 23,\n",
        "            color = '#000000'\n",
        "        )\n",
        "    ),\n",
        "\n",
        "    # x축 설정\n",
        "    xaxis_title = dict(\n",
        "        text = '<b>모델 종류</b>'\n",
        "    ),\n",
        "\n",
        "    # y축 설정\n",
        "    yaxis_title = dict(\n",
        "        text = '<b>금액</b><br><sup>(단위 : 원)</sup>'\n",
        "    ),\n",
        "\n",
        "    #배경화면 설정\n",
        "    plot_bgcolor = '#FCFDF2',\n",
        "\n",
        "   #바 사이 간격 조정.\n",
        "   bargap =0.5\n",
        ")\n",
        "\n",
        "\n",
        "# RS7 가격 표기\n",
        "fig.add_annotation(\n",
        "    text = '<b>RS7</b><br><sup> 원화 : 53,584,000</sup>',\n",
        "    x = 2.45,\n",
        "    y = 53584000,\n",
        "    showarrow = True,\n",
        "    arrowhead = 4,\n",
        "    ax= -50,\n",
        "    ay= -30,\n",
        "    xshift = 1000\n",
        ")\n",
        "\n",
        "# S5 가격 표기\n",
        "fig.add_annotation(\n",
        "    text = '<b>S5</b><br><sup> 원화 : 30,320,000</sup>',\n",
        "    x = 2.45,\n",
        "    y = 30320000,\n",
        "    showarrow = True,\n",
        "    arrowhead = 4,\n",
        "    ax= -20,\n",
        "    ay= 30,\n",
        "    xshift = 1050\n",
        ")\n",
        "\n",
        "\n",
        "fig.show()"
      ],
      "metadata": {
        "id": "0BjQ0RH4Hn8D"
      },
      "execution_count": null,
      "outputs": []
    },
    {
      "cell_type": "markdown",
      "source": [
        "#### 2-5. 특정 엔진 크기를 가진 차량의 가격대.\n",
        "> 엔진 사이즈가 4.1 및 6.3인 경우 값이 각각 1개씩 존재합니다. (별도 표기)\n"
      ],
      "metadata": {
        "id": "lTX9qN2vt47h"
      }
    },
    {
      "cell_type": "code",
      "source": [
        "\n",
        "audi_engine = audi[['engineSize', 'price']].sort_values(by='engineSize')\n",
        "audi_engine\n",
        "\n",
        "\n",
        "fig = px.box(audi_engine,\n",
        "             x = 'engineSize',\n",
        "             # 파운드 -> 원\n",
        "             y = audi_engine['price'] * 1600,\n",
        "             color = audi_engine['engineSize'])\n",
        "\n",
        "\n",
        "# 시각화에 들어갈 색상 생성.\n",
        "sns.set_palette(\"Set2\")\n",
        "\n",
        "\n",
        "\n",
        "# 1. 그래프 설정.\n",
        "fig.update_layout(\n",
        "    \n",
        "    # 제목 설정\n",
        "    title = dict(\n",
        "        # <br> 태그와 <sup> 태그를 사용하여 subtitle을 지정할 수 있다.\n",
        "        text = '<b> 차량 엔진에 따른 가격의 범위</b><br><sup> Range of prices according to \"audi\" engine </sup>',\n",
        "\n",
        "        x = 0.5,\n",
        "        y = 0.95,\n",
        "        font = dict(\n",
        "            size = 23,\n",
        "            color = '#000000'\n",
        "        )\n",
        "    ),\n",
        "\n",
        "    # x축 설정\n",
        "    xaxis_title = dict(\n",
        "        text = '<b>엔진 종류</b>'\n",
        "    ),\n",
        "\n",
        "    # y축 설정\n",
        "    yaxis_title = dict(\n",
        "        text = '<b>금액</b><br><sup>(단위 : 원)</sup>'\n",
        "    ),\n",
        "\n",
        "    #배경화면 설정\n",
        "    plot_bgcolor = '#FCFDF2',\n",
        "\n",
        "   #바 사이 간격 조정.\n",
        "   bargap =0.5\n",
        ")\n",
        "\n",
        "# 2-3. engineSize = 4.1\n",
        "fig.add_annotation(\n",
        "    text = '<b>engineSize = 4.1 </b><br><sup> 원화 : 36,792,000</sup>',\n",
        "    x = 2.45,\n",
        "    y = 36792000,\n",
        "    showarrow = True,\n",
        "    arrowhead = 4,\n",
        "    ax= -120,\n",
        "    ay= -30,\n",
        "    xshift = 370\n",
        ")\n",
        "\n",
        "\n",
        "\n",
        "# 2-4. engineSize = 4.1\n",
        "fig.add_annotation(\n",
        "    text = '<b>engineSize = 6.3 </b><br><sup> 원화 : 51,200,000</sup>',\n",
        "    x = 4.5,\n",
        "    y =51200000,\n",
        "    showarrow = True,\n",
        "    arrowhead = 4,\n",
        "    ay= -30,\n",
        "    ax = -80,\n",
        "    xshift = 400\n",
        ")\n",
        "\n",
        "\n",
        "\n",
        "\n",
        "fig.show()"
      ],
      "metadata": {
        "id": "bKVMsm4Pt86p"
      },
      "execution_count": null,
      "outputs": []
    },
    {
      "cell_type": "markdown",
      "source": [
        "#### 2-6. 자동차 연도별 세금의 변화\n",
        "* 연도별 출시된 차량에 따라 중고차 세금의 값이 천차만별이다.\n",
        "* 비교적 최근연도의 속하는 19~20년식 차량의 세금은 약 150€이다."
      ],
      "metadata": {
        "id": "98DggSlG21w9"
      }
    },
    {
      "cell_type": "code",
      "source": [
        "sns.lineplot(x = 'year', y = 'tax', data = audi)\n",
        "plt.title('중고차 연도에 따른 세금 현황')\n",
        "plt.show()"
      ],
      "metadata": {
        "id": "xgPPAYd-S666"
      },
      "execution_count": null,
      "outputs": []
    },
    {
      "cell_type": "markdown",
      "source": [
        "####2-7 연도별 가격 변화량\n",
        "* 비교적 최근에 출시된 차량의 가격이 월등히 높습니다.\n",
        "* 물가상승 등의 요인도 있겠지만, 개인적으로는 신기술 탑재, 주행거리등 많은 요인이 있을 것으로 생각됩니다."
      ],
      "metadata": {
        "id": "Ptws7J4oTxPv"
      }
    },
    {
      "cell_type": "code",
      "source": [
        "sns.lineplot(x = 'year', y ='price', data = audi)\n",
        "plt.title ('연도별 중고차 가격 변동')\n",
        "plt.show()"
      ],
      "metadata": {
        "id": "ha8CEeAPUF9A"
      },
      "execution_count": null,
      "outputs": []
    },
    {
      "cell_type": "markdown",
      "source": [
        "#### 2-8. 주행거리에 따른 가격을 비교한 산점도 그래프 생성\n",
        "* 비교적 주행거리 많은 차량일수록 가격이 낮습니다."
      ],
      "metadata": {
        "id": "-RoLJJ_LT02X"
      }
    },
    {
      "cell_type": "code",
      "source": [
        "fig = px.scatter(audi,\n",
        "                 x= 'mileage',\n",
        "                 y = 'price',\n",
        "                 color = 'model')\n",
        "\n",
        "\n",
        "# 1. 그래프 설정.\n",
        "fig.update_layout(\n",
        "    \n",
        "    # 제목 설정\n",
        "    title = dict(\n",
        "        # <br> 태그와 <sup> 태그를 사용하여 subtitle을 지정할 수 있다.\n",
        "        text = '<b>주행거리에 따른 가격을 비교한 산점도 </b><br><sup> Price comparison based on mileage</sup>',\n",
        "\n",
        "        x = 0.5,\n",
        "        y = 0.95,\n",
        "        font = dict(\n",
        "            size = 23,\n",
        "            color = '#000000'\n",
        "        )\n",
        "    )\n",
        ")\n",
        "fig.show()"
      ],
      "metadata": {
        "id": "BCkVVIUFVM2s"
      },
      "execution_count": null,
      "outputs": []
    },
    {
      "cell_type": "code",
      "source": [
        "audi"
      ],
      "metadata": {
        "id": "teYYysi3fCr4"
      },
      "execution_count": null,
      "outputs": []
    },
    {
      "cell_type": "markdown",
      "source": [
        "# **3. 모델 생성 : 가격 예측**\n",
        "\n",
        "* target의 값은 price 입니다. \n",
        "* 데이터의 특성상, 우리는 `회귀`를 이용하여 모델을 생성하도록 합니다."
      ],
      "metadata": {
        "id": "BUmb9uGfwolt"
      }
    },
    {
      "cell_type": "code",
      "source": [
        "# 필요한 라이브러리를 가져옵니다.\n",
        "from sklearn.model_selection import train_test_split\n",
        "\n",
        "# train & test 분할.\n",
        "train, test = train_test_split(audi, train_size = 0.8, test_size = 0.2, random_state = 42)\n",
        "\n",
        "# trainw & val 분할.\n",
        "train, val = train_test_split(train, train_size =0.7, test_size = 0.3, random_state= 42)\n",
        "\n",
        "train.shape, val.shape, test.shape\n",
        "\n",
        "\n",
        "# features & target 분할.\n",
        "target = 'price'\n",
        "\n",
        "# train\n",
        "y_train = train[target]\n",
        "X_train = train.drop(target, axis = 1)\n",
        "\n",
        "# val\n",
        "y_val = val[target]\n",
        "X_val = val.drop(target, axis = 1)\n",
        "\n",
        "# test\n",
        "y_test = test[target]\n",
        "X_test = test.drop(target, axis = 1)\n",
        "\n"
      ],
      "metadata": {
        "id": "OSQdAloKxoAw"
      },
      "execution_count": null,
      "outputs": []
    },
    {
      "cell_type": "markdown",
      "source": [
        "#### 3-1. `PipeLine : RandomForestRegressor` 을 통한 가격 예측"
      ],
      "metadata": {
        "id": "ahRuCjOCFdN0"
      }
    },
    {
      "cell_type": "code",
      "source": [
        "audi.isnull().sum()"
      ],
      "metadata": {
        "id": "SGgo_qlaK_3Y"
      },
      "execution_count": null,
      "outputs": []
    },
    {
      "cell_type": "code",
      "source": [
        "# 파이프라인을 생성합니다, 먼저 필요한 라이브러리를 가져옵니다.\n",
        "from sklearn.pipeline import make_pipeline\n",
        "from sklearn.ensemble import RandomForestRegressor\n",
        "from sklearn.preprocessing import OrdinalEncoder\n",
        "from sklearn.impute import SimpleImputer\n",
        "\n",
        "\n",
        "# 함수를 생성합니다.\n",
        "def get_pipeline(**kwargs):\n",
        "  return make_pipeline(\n",
        "      OrdinalEncoder(handle_unknown = 'use_encoded_value',\n",
        "                     unknown_value = 9182),\n",
        "      SimpleImputer(),\n",
        "      RandomForestRegressor(**kwargs),\n",
        ")\n",
        "\n",
        "# 파이프라인을 생성합니다.\n",
        "pipe = get_pipeline(max_depth = 3,\n",
        "                    n_jobs = -1)\n",
        "\n",
        "# fit\n",
        "pipe.fit(X_train, y_train)"
      ],
      "metadata": {
        "id": "AW6_r5OKxpSb"
      },
      "execution_count": null,
      "outputs": []
    },
    {
      "cell_type": "markdown",
      "source": [
        "#### 3-1-1. 모델 성능 평가 진행.\n",
        "* 데이터를 살펴볼 때, 평균치보다 큰 값들이 존재합니다.\n",
        "  * 큰 오류값의 차이에 대하여, 크게 페널티를 주는 이점이 존재하는 `RMSE`를 사용합니다.\n",
        "  "
      ],
      "metadata": {
        "id": "t6yVu_TDAyQ9"
      }
    },
    {
      "cell_type": "code",
      "source": [
        "# 필요한 라이브러리를 가져옵니다. 사이킷런에서는 rmse를 지원하지 않으므로 직접 만들어야 합니다.\n",
        "from sklearn.metrics import mean_squared_error\n",
        "\n",
        "# 검증데이터로 진행합니다.  \n",
        "# 아래 예측값을 만드는 과정중에 학습 데이터에 존재하지 않는 새 항목을 포함할 수 도 있다는 것을 알게 되었습니다. (값이 3개일 때 나눌때 쏠리는 현상)\n",
        "# 위 파이프라인의 ordinalencoder에 존재하는 파라미터의 handle_unknown 및 unknown_value 를 수정하였습니다.\n",
        "\n",
        "\n",
        "val_predict = pipe.predict(X_val)\n",
        "\n",
        "MSE = mean_squared_error(y_val, val_predict)\n",
        "rmse = np.sqrt(MSE)"
      ],
      "metadata": {
        "id": "5FTeKBFUVBN0"
      },
      "execution_count": null,
      "outputs": []
    },
    {
      "cell_type": "markdown",
      "source": [
        "훈련 에러 값은 다음과 같습니다."
      ],
      "metadata": {
        "id": "BHdKoOdafpCF"
      }
    },
    {
      "cell_type": "code",
      "source": [
        "print(f'검증값 에러: {rmse:.3f}')"
      ],
      "metadata": {
        "id": "45gu3VF3Ybuw"
      },
      "execution_count": null,
      "outputs": []
    },
    {
      "cell_type": "markdown",
      "source": [
        "####3-1-2.오차 값을 실제 값의 퍼센트로 나타내어 봅시다.\n",
        "* 데이터프레임을 생성합니다.\n",
        "  * 데이터프레임은 <U>검증데이터의 예측값</U>인 `val_predict`와 <U>검증데이터의 타겟</U>인 `y_val`를 이용하여 생성합니다.\n",
        "  * 오차 값을 실제 값의 퍼센트로 나타내어 봅시다.\n",
        "\n",
        "* 오차값의 평균 또한 구해봅시다."
      ],
      "metadata": {
        "id": "L-oU0SqxeVW1"
      }
    },
    {
      "cell_type": "code",
      "source": [
        "# 데이터 생성\n",
        "result = pd.DataFrame({'pred_val': val_predict, 'real_val' : y_val})\n",
        "result\n",
        "\n",
        "# 오차를 실제 값의 퍼센트로 나타내어 봅시다.\n",
        "result['ratio(%)'] = abs((result['pred_val'] - result['real_val']) / result['real_val']) * 100\n",
        "\n",
        "\n",
        "# 평균 오차율은 다음과 같습니다. \n",
        "#print(f'오차값의 평균은 다음과 같습니다: {result['ratio(%)'].mean()}')\n",
        "error_avg = result['ratio(%)'].mean()\n",
        "\n",
        "print(f'오차값의 평균은 {error_avg}% 입니다.')\n"
      ],
      "metadata": {
        "id": "gkYidILUf9fO"
      },
      "execution_count": null,
      "outputs": []
    },
    {
      "cell_type": "markdown",
      "source": [
        "3-1-3. 오차를 더욱더 줄여봅시다.\n",
        "* `n_estimators`에 차이에 따른 결과를 비교해보도록 합니다.\n",
        "  * 150, 200, 250 으로 지정하였습니다.\n",
        "\n"
      ],
      "metadata": {
        "id": "3ixdvBKSNjy6"
      }
    },
    {
      "cell_type": "code",
      "source": [
        "num = [10,50,150, 200, 250, 300]\n",
        "\n",
        "for i in num:\n",
        "  # 파이프라인을 생성할 때, i값을 넣어 생성합니다.\n",
        "  pipe = get_pipeline(max_depth = 3,\n",
        "                    n_jobs = -1,\n",
        "                    n_estimators = i)\n",
        "  \n",
        "  # 학습\n",
        "  pipe.fit(X_train, y_train)\n",
        "\n",
        "  #검증 값 생성. (검증데이터 이용)\n",
        "  y_pred = pipe.predict(X_val)\n",
        "\n",
        "  percent = abs((y_pred - y_val) / y_val) * 100\n",
        "  avg_percent = (np.mean(percent))\n",
        "  print(f'{i}를 이용한 오차 퍼센트는 다음과 같습니다. : {avg_percent}%')\n"
      ],
      "metadata": {
        "id": "pIQCsGqEPqIA"
      },
      "execution_count": null,
      "outputs": []
    },
    {
      "cell_type": "markdown",
      "source": [
        "n_estimators를 조정하였으나, 큰 차이를 보여주지 않았습니다.\n"
      ],
      "metadata": {
        "id": "q40TeUy2QZ3w"
      }
    },
    {
      "cell_type": "markdown",
      "source": [
        "#### 3-2. 특성중요도 계산하기 : `Permutation Importance`\n",
        "\n",
        "* 순열 중요도를 계산합니다\n",
        "  * 순열 중요도의 상위 특성만 사용하여 모델을 학습하고, 평가지표를 구하도록 합니다.\n",
        "\n",
        "* 모든 특성에 대하여 모델을 학습했을 때와 상위 특성만 사용하여 모델을 학습했을 때의 평가지표를 확인하도록 하겠습니다❗"
      ],
      "metadata": {
        "id": "CBy5l-VIQaf4"
      }
    },
    {
      "cell_type": "markdown",
      "source": [
        "`단점 : Permutation Importance`\n",
        "* 강한 상관관계가 있는 특성이 존재한다면 잘못된 값을 낼 수 있습니다.\n",
        "  * 결과적으로 해당 특성과 강력한 관계가 있는 특성은 </br>실제로 중요한 특성일 수 있음에도 낮은 `Permutation Importance`를 보일 수 있습니다.\n"
      ],
      "metadata": {
        "id": "BCoqm2nIVBR4"
      }
    },
    {
      "cell_type": "code",
      "source": [
        "# 필요한 라이브러리를 설치합니다.  \n",
        "!pip install eli5"
      ],
      "metadata": {
        "id": "WCa6Ek_mUihD"
      },
      "execution_count": null,
      "outputs": []
    },
    {
      "cell_type": "code",
      "source": [
        "# column :  mpg & size_and_type을 모든 데이터셋에서 제거합니다. (연관이 존재할 가능성이 있음)\n",
        "X_train = X_train.drop(['mpg', 'size_and_type'], axis = 1)\n",
        "X_val = X_val.drop(['mpg', 'size_and_type'], axis = 1)\n",
        "X_test = X_test.drop(['mpg', 'size_and_type'], axis = 1)"
      ],
      "metadata": {
        "id": "6HE9e0LIa6Ov"
      },
      "execution_count": null,
      "outputs": []
    },
    {
      "cell_type": "code",
      "source": [
        "X_train.shape, X_val.shape, X_test.shape"
      ],
      "metadata": {
        "id": "wJTRnIfqdagn"
      },
      "execution_count": null,
      "outputs": []
    },
    {
      "cell_type": "code",
      "source": [
        "pipe.named_steps"
      ],
      "metadata": {
        "id": "CmO4zyHSd4m8"
      },
      "execution_count": null,
      "outputs": []
    },
    {
      "cell_type": "code",
      "source": [
        "pipe[0]"
      ],
      "metadata": {
        "id": "NjO7fvebd6Ji"
      },
      "execution_count": null,
      "outputs": []
    },
    {
      "cell_type": "code",
      "source": [
        "X_val.head()"
      ],
      "metadata": {
        "id": "WJv22w4WGshz"
      },
      "execution_count": null,
      "outputs": []
    },
    {
      "cell_type": "code",
      "source": [
        "# 필요한 라이브러리를 불러옵니다. : eli5\n",
        "import eli5\n",
        "from eli5.sklearn import PermutationImportance\n",
        "\n",
        "\n",
        "# 파이프라인을 생성합니다. (기존 정의한 함수를 이용합니다.)\n",
        "pipe = get_pipeline(max_depth = 3,\n",
        "                    n_jobs = -1,\n",
        "                    n_estimators = 150, random_state = 42)\n",
        "\n",
        "\n",
        "\n",
        "# 생성한 파이프라인으로  \n",
        "pipe.fit(X_train, y_train)\n",
        "\n",
        "\n",
        "# PermutationImportance를 생성합니다.\n",
        "permuter = PermutationImportance(\n",
        "    pipe.named_steps['randomforestregressor'],\n",
        "    scoring = 'neg_root_mean_squared_error',\n",
        "    n_iter= 10,\n",
        "    random_state = 2)\n",
        "\n",
        "\n",
        "\n",
        "# 검증 데이터를 이용하여 스코어를 다시 계산하도록 합니다, 검증 데이터에는 ordinalencoder를 적용합니다. \n",
        "\n",
        "\n",
        "X_val_preprocessed = pipe[0].transform(X_val)\n",
        "\n",
        "# permuter.fit\n",
        "permuter.fit(X_val_preprocessed, y_val)"
      ],
      "metadata": {
        "id": "9jj4Bax1U45q"
      },
      "execution_count": null,
      "outputs": []
    },
    {
      "cell_type": "markdown",
      "source": [
        "Permutation Importance를 시각화하여 봅시다."
      ],
      "metadata": {
        "id": "ZO8v9B8yXSfq"
      }
    },
    {
      "cell_type": "code",
      "source": [
        "# feature_name 지정.\n",
        "feature_names = X_val.columns.tolist()\n",
        "\n",
        "# Series 생성.\n",
        "pi = pd.Series(permuter.feature_importances_, feature_names).sort_values()\n",
        "\n",
        "# 시각화 생성.\n",
        "pi.plot.barh()\n",
        "plt.title('Permutation Importance')"
      ],
      "metadata": {
        "id": "RTjsCpp-XT-J"
      },
      "execution_count": null,
      "outputs": []
    },
    {
      "cell_type": "code",
      "source": [
        "# 특성별 score를 확인합니다. \n",
        "eli5.show_weights(\n",
        "    permuter,\n",
        "    top = None, # top이 None일 때 모든 특성\n",
        "    feature_names = feature_names\n",
        ")"
      ],
      "metadata": {
        "id": "3cnnl6XzVD7O"
      },
      "execution_count": null,
      "outputs": []
    },
    {
      "cell_type": "markdown",
      "source": [
        " PI의 평균값 및 PI의 모든 값을 살펴봅시다.\n"
      ],
      "metadata": {
        "id": "dBBhE6Y0FeFw"
      }
    },
    {
      "cell_type": "code",
      "source": [
        "print(f' Permutation Importance의 평균값: {pi.mean()}')\n",
        "pi.round(3)"
      ],
      "metadata": {
        "id": "wYDmYBUQFrux"
      },
      "execution_count": null,
      "outputs": []
    },
    {
      "cell_type": "markdown",
      "source": [
        "#### Permutation Importance의 평균값보다 높은 값을 갖는 컬럼은 총 3가지 입니다,\n",
        "`used_year, engineSize, km/l`\n",
        "\n",
        "* 상위 특성만을 사용하여 모델을 학습했을 때의 평가지표와<br/>\n",
        "  모든 특성에 대하여 모델을 학습했을 때의 평가지표를 비교하여 보겠습니다.\n",
        "  * 또한 상위 특성만을 이용하는 것이 아닌 어느정도 높은 값을 가진 특성을 모두 사용했을 때의 값 또한 비교하여 보겠습니다."
      ],
      "metadata": {
        "id": "8rDr6jcBF1ZV"
      }
    },
    {
      "cell_type": "markdown",
      "source": [
        "#### 성능 평가 "
      ],
      "metadata": {
        "id": "Bx45hieZKJDV"
      }
    },
    {
      "cell_type": "markdown",
      "source": [
        "모든 컬럼을 사용했을 경우는 다음과 같습니다."
      ],
      "metadata": {
        "id": "_1XRxsg0VYrg"
      }
    },
    {
      "cell_type": "code",
      "source": [
        "# 필요한 라이브러리를 가져옵니다. 사이킷런에서는 rmse를 지원하지 않으므로 직접 만들어야 합니다.\n",
        "from sklearn.metrics import mean_squared_error\n",
        "from sklearn.metrics import mean_squared_log_error\n",
        "\n",
        "# 검증데이터로 진행합니다.  \n",
        "# 아래 예측값을 만드는 과정중에 학습 데이터에 존재하지 않는 새 항목을 포함할 수 도 있다는 것을 알게 되었습니다. (값이 3개일 때 나눌때 쏠리는 현상)\n",
        "# 위 파이프라인의 ordinalencoder에 존재하는 파라미터의 handle_unknown 및 unknown_value 를 수정하였습니다.\n",
        "\n",
        "val_predict = pipe.predict(X_val)\n",
        "\n",
        "mse = mean_squared_error(y_val, val_predict)\n",
        "rmse = np.sqrt(MSE)\n",
        "msle = mean_squared_log_error(y_val, val_predict)\n",
        "rmsle  = np.sqrt(msle)\n",
        "\n",
        "print(f'RMSE의 값 : {round(rmse, 5)}')\n",
        "print(f'MSE의 값 : {round(mse,5)}')\n",
        "print(f'MSLE의 값 : {round(msle,5)}')\n",
        "print(f'rmsle의 값 : {round(rmsle,5)}')"
      ],
      "metadata": {
        "id": "Ml4lMA_iJDtK"
      },
      "execution_count": null,
      "outputs": []
    },
    {
      "cell_type": "markdown",
      "source": [
        "r2_score는 1에 가까울 수록 선형회귀 모델이 데이터에 대하여 높은 연관성을 지니고 설명합니다.</br>\n",
        "현재 검증값과 검증데이터로 생성한 예측값으로 r2_score을 측정했을 때, 1에 거의 근접한 값을 보여줍니다."
      ],
      "metadata": {
        "id": "oZsn7nnJIX1L"
      }
    },
    {
      "cell_type": "code",
      "source": [
        "# r2_score 또한 확인하여 봅시다. \n",
        "from sklearn.metrics import r2_score\n",
        "print(round(r2_score(val_predict, y_val),5))"
      ],
      "metadata": {
        "id": "EDk8Wte1mYlR"
      },
      "execution_count": null,
      "outputs": []
    },
    {
      "cell_type": "markdown",
      "source": [
        "상위 컬럼만 이용했을 때의 값 또한 살펴봅시다.\n",
        "* 데이터를 새로 나누어야 합니다.\n",
        "* 이후 데이터를 모델 및 PI(Permutation Importance)에 학습시키도록 합니다."
      ],
      "metadata": {
        "id": "tfh-RjM0eWOE"
      }
    },
    {
      "cell_type": "code",
      "source": [
        "# 데이터를 새로 지정해야합니다, 평균보다 높은 값을 가진 컬럼으로 구성한 피처를 생성합니다.\n",
        "pi_features = ['used_year','engineSize','km/l']\n",
        "\n",
        "# 훈련\n",
        "X_train_pi = X_train[pi_features]\n",
        "\n",
        "# 검증\n",
        "X_val_pi = X_val[pi_features]\n",
        "\n",
        "# 테스트\n",
        "X_test_pi =X_test[pi_features]\n",
        "\n",
        "\n",
        "# 파이프라인을 생성합니다. 파라미터는 기존과 동일합니다.\n",
        "pipe = get_pipeline(max_depth = 3,\n",
        "                    n_jobs = -1,\n",
        "                    n_estimators = 150, random_state = 42)\n",
        "\n",
        "# 파이프라인을 학습시킵니다.\n",
        "pipe.fit(X_train_pi, y_train)"
      ],
      "metadata": {
        "id": "3pwi_L47WsQY"
      },
      "execution_count": null,
      "outputs": []
    },
    {
      "cell_type": "code",
      "source": [
        "# permuter를 생성합니다,\n",
        "permuter = PermutationImportance(\n",
        "    \n",
        "    # 모델 : 파이프라인의 랜덤포레스트 회귀를 이용합니다.\n",
        "    pipe.named_steps['randomforestregressor'],\n",
        "\n",
        "    # scoring : 위에서 봤듯이, MAE보다는 RMSE의 결과가 잘 나오는 것을 알 수 있습니다.\n",
        "    n_iter = 10,\n",
        "    random_state = 2)\n",
        "\n",
        "# 검증 데이터를 이용하여 스코어를 다시 계산하도록 합니다, 검증 데이터에는 ordinalencoder를 적용합니다. \n",
        "X_val_preprocessed = pipe[0].transform(X_val_pi)\n",
        "\n",
        "# permuter.fit\n",
        "permuter.fit(X_val_preprocessed, y_val)"
      ],
      "metadata": {
        "id": "lGdgUF8CD8Wj"
      },
      "execution_count": null,
      "outputs": []
    },
    {
      "cell_type": "code",
      "source": [
        "# 인덱스 데이터 타입을 리스트 형태로 변경합니다.\n",
        "feature_names = X_val_pi.columns.tolist()\n",
        "\n",
        "# 피처의 이름 및 값을 시리즈 형태로 표현합니다. -> permuter에 접근, 피처 중요도를 가져옵니다.\n",
        "pi = pd.Series(permuter.feature_importances_, feature_names).sort_values()\n",
        "pi.plot.barh()\n",
        "\n",
        "plt.title('Permutation Importance')"
      ],
      "metadata": {
        "id": "eGkxkmcFGarb"
      },
      "execution_count": null,
      "outputs": []
    },
    {
      "cell_type": "code",
      "source": [
        "pi"
      ],
      "metadata": {
        "id": "BlozRICbRAxQ"
      },
      "execution_count": null,
      "outputs": []
    },
    {
      "cell_type": "markdown",
      "source": [
        "상위 피처만을 이용했을 때의 성능은 다음과 같습니다."
      ],
      "metadata": {
        "id": "U_sqSFAqJzlA"
      }
    },
    {
      "cell_type": "code",
      "source": [
        "# 검증 데이터를 생성합니다.\n",
        "val_predict = pipe.predict(X_val_pi)\n",
        "\n",
        "mse = mean_squared_error(y_val, val_predict)\n",
        "rmse = np.sqrt(MSE)\n",
        "msle = mean_squared_log_error(y_val, val_predict)\n",
        "rmsle  = np.sqrt(msle)\n",
        "\n",
        "\n",
        "print(f'RMSE의 값 : {round(rmse, 5)}')\n",
        "print(f'MSE의 값 : {round(mse,5)}')\n",
        "print(f'MSLE의 값 : {round(msle,5)}')\n",
        "print(f'rmsle의 값 : {round(rmsle,5)}')\n",
        "\n"
      ],
      "metadata": {
        "id": "wBvxoDHuKVfr"
      },
      "execution_count": null,
      "outputs": []
    },
    {
      "cell_type": "code",
      "source": [
        "# r2_score 또한 확인하여 봅시다. \n",
        "print(round(r2_score(val_predict, y_val),5))"
      ],
      "metadata": {
        "id": "rKZMeI2jmW0W"
      },
      "execution_count": null,
      "outputs": []
    },
    {
      "cell_type": "markdown",
      "source": [
        "#### 중요특성만 사용했을 경우 및 모든 특성을 사용했을 경우의 차이는 다음과 같습니다.\n",
        "\n",
        "* 오히려 MSE의 값이 높아졌습니다, 하지만 RMSE의 값의 차이는 존재하지 않습니다\n",
        "* MSLE 및 RMSLE의 값 또한 모두 상승하였습니다.\n",
        "* 이번에는 pi에서 적은 값을 제외한 나머지 컬럼만을 이용하여 성능평가를 진행해보도록 합시다.(컬럼추가)"
      ],
      "metadata": {
        "id": "f8SWFl_iMv5H"
      }
    },
    {
      "cell_type": "code",
      "source": [
        "# aim \n",
        "pi_features = ['fuelType', 'tax', 'model', 'year', 'used_year', 'engineSize', 'km/l']\n",
        "\n",
        "\n",
        "# adoped\n",
        "X_train_pi = X_train[pi_features]\n",
        "X_val_pi = X_val[pi_features]\n",
        "X_test_pi = X_test[pi_features]\n",
        "\n",
        "\n",
        "# pipline\n",
        "pipe = get_pipeline(max_depth = 3,\n",
        "                    n_jobs = -1,\n",
        "                    n_estimators = 150, random_state = 42)\n",
        "\n",
        "#fit.\n",
        "pipe.fit(X_train_pi, y_train)"
      ],
      "metadata": {
        "id": "D0d9KZU6M1Vj"
      },
      "execution_count": null,
      "outputs": []
    },
    {
      "cell_type": "code",
      "source": [
        "val_predict = pipe.predict(X_val_pi)\n",
        "\n",
        "mse = mean_squared_error(y_val, val_predict)\n",
        "rmse = np.sqrt(MSE)\n",
        "msle = mean_squared_log_error(y_val, val_predict)\n",
        "rmsle  = np.sqrt(msle)\n",
        "\n",
        "print(f'RMSE의 값 : {round(rmse, 5)}')\n",
        "print(f'MSE의 값 : {round(mse,5)}')\n",
        "print(f'MSLE의 값 : {round(msle,5)}')\n",
        "print(f'rmsle의 값 : {round(rmsle,5)}')"
      ],
      "metadata": {
        "id": "Xw5XsWO0RGZl"
      },
      "execution_count": null,
      "outputs": []
    },
    {
      "cell_type": "code",
      "source": [
        "# r2_score 또한 확인하여 봅시다. \n",
        "print(round(r2_score(val_predict, y_val),5))"
      ],
      "metadata": {
        "id": "MnaMvfPtmEZh"
      },
      "execution_count": null,
      "outputs": []
    },
    {
      "cell_type": "markdown",
      "source": [
        "#### 모든 특성 vs 중요한 특성만 vs 기댓값이 높은 특성 \n",
        "> 각기 다른 성능지표에서 천차만별의 값을 보여주고 있습니다.\n",
        "\n",
        "* R2_Score로 살펴보았을 때, 1에 가까운 특성은 기댓값이 높은특성입니다. (pi값이 \n",
        "적은컬럼을 제외한 모델)\n",
        "  * 이 모델의 MSE는 모든특성을 이용했을 때보다 값이 높으나, 다른 지표에서는 큰 차이가 없고, </br>R2_score가 높아 셋중 가장 좋은 성능을 내고 있다고 생각합니다."
      ],
      "metadata": {
        "id": "KvZvnaUlRQ39"
      }
    },
    {
      "cell_type": "markdown",
      "source": [
        "\n",
        "####❗❗ Permutation Importance로 상위특성만 사용하였을 때 평가지표가 좋지 않습니다.\n",
        "* PI는 강한 상관관계를 갖는 특성이 존재한다면"
      ],
      "metadata": {
        "id": "zHvHY6PYcKbb"
      }
    },
    {
      "cell_type": "code",
      "source": [
        "X_train.shape, X_val.shape"
      ],
      "metadata": {
        "id": "LkzwyrUvWYe5"
      },
      "execution_count": null,
      "outputs": []
    },
    {
      "cell_type": "markdown",
      "source": [
        "#### 타 모델을 생성하여 기존 모델과의 성능을 비교하여 봅시다."
      ],
      "metadata": {
        "id": "zwfht1MTW-Mz"
      }
    },
    {
      "cell_type": "markdown",
      "source": [
        "* 이번에는 XGBoost의 회귀모델을 이용하겠습니다.\n",
        "* 먼저 `XGBRegressor : glinear` 타입을 생성한 모델의 값은 다음과 같습니다."
      ],
      "metadata": {
        "id": "Eu8fhIzT7fnK"
      }
    },
    {
      "cell_type": "markdown",
      "source": [
        "[다음글 참조 : XGBoost earlystopping](https://mljar.com/blog/xgboost-early-stopping/)"
      ],
      "metadata": {
        "id": "t0VfepeMdvK1"
      }
    },
    {
      "cell_type": "code",
      "source": [
        "# 필요한 라이브러리를 설치합니다. xgboost\n",
        "!pip install xgboost==1.7.2"
      ],
      "metadata": {
        "id": "EvjaSOBo7tmh"
      },
      "execution_count": null,
      "outputs": []
    },
    {
      "cell_type": "code",
      "source": [
        "# 필요한 라이브러리 가져오기\n",
        "from category_encoders import OrdinalEncoder\n",
        "from xgboost import XGBRegressor\n",
        "\n",
        "# 필요한 인스턴스 객체 생성 : 인코더 및 모델 \n",
        "enc = OrdinalEncoder()\n",
        "model = XGBRegressor(n_estimators = 200,\n",
        "                     booster ='gblinear',\n",
        "                   learning_rate=0.08, \n",
        "                   gamma=0,\n",
        "                   objective = 'reg:squaredlogerror', \n",
        "                   subsample=0.75,\n",
        "                   colsample_bytree=1, \n",
        "                   max_depth=7,\n",
        "                   early_stopping_rounds=20)\n",
        "\n",
        "# 훈련데이터 : fit_transform\n",
        "X_train_encoded = enc.fit_transform(X_train, y_train)\n",
        "\n",
        "# 검증데이터 : transform\n",
        "X_val_encoded = enc.transform(X_val)\n",
        "\n",
        "# eval_set 생성. \n",
        "eval_set = [(X_train_encoded, y_train), (X_val_encoded, y_val)]\n",
        "\n",
        "# fit.\n",
        "model.fit(X_train_encoded, y_train,\n",
        "          eval_set = eval_set)"
      ],
      "metadata": {
        "id": "oxHUWA0iVra_"
      },
      "execution_count": null,
      "outputs": []
    },
    {
      "cell_type": "code",
      "source": [
        "print(f'기울기 : {model.coef_}')\n",
        "print(f'y절편 : {model.intercept_}')"
      ],
      "metadata": {
        "id": "IZUJ-t6RZTzO"
      },
      "execution_count": null,
      "outputs": []
    },
    {
      "cell_type": "code",
      "source": [
        "val_predict = model.predict(X_val_encoded)\n",
        "\n",
        "mse = mean_squared_error(val_predict,y_val)\n",
        "rmse = np.sqrt(MSE)\n",
        "\n",
        "msle = mean_squared_log_error(y_val, val_predict)\n",
        "rmsle  = np.sqrt(msle)\n",
        "\n",
        "\n",
        "print(f'RMSE의 값 : {round(rmse, 5)}')\n",
        "print(f'MSE의 값 : {round(mse,5)}')\n",
        "print(f'MSLE의 값 : {round(msle,5)}')\n",
        "print(f'rmsle의 값 : {round(rmsle,5)}')"
      ],
      "metadata": {
        "id": "ypn5B8iLAqjL"
      },
      "execution_count": null,
      "outputs": []
    },
    {
      "cell_type": "code",
      "source": [
        "# XGB model의 score를 계산하여 봅시다,\n",
        "from sklearn.metrics import r2_score\n",
        "print(round(r2_score(val_predict, y_val),5))"
      ],
      "metadata": {
        "id": "4fdYsO1GwSft"
      },
      "execution_count": null,
      "outputs": []
    },
    {
      "cell_type": "code",
      "source": [
        "# XGBoost는 앙상블에 기반한 모델입니다, 하지만  현재는 회귀를 이용하여 생성되었습니다.\n",
        "# 따라서 최적의 트리수는 확인할 수 없습니다.\n",
        "model.best_ntree_limit"
      ],
      "metadata": {
        "id": "TqMNWRWQ-9iD"
      },
      "execution_count": null,
      "outputs": []
    },
    {
      "cell_type": "markdown",
      "source": [
        "#### XGBRegressor를 회귀 모델로 이용하였을 때 성능지표는 좋아보이지 않습니다.\n",
        "\n",
        "* 4가지 성능 지표는 다른 모델과는 다르게 높은 값을 보여줍니다.(4가지 성능지표는 낮을 수록 좋습니다)\n",
        "* R2_score 값은 1에 가까울 수록 좋습니다.(하지만 R2_score 값은 **nagative**한 값을 보여주고 있습니다.)\n",
        "* 또한 최적의 트리수를 확인할 수 없습니다. (회귀를 이용하여 모델을 생성하였기 때문입니다.)"
      ],
      "metadata": {
        "id": "l4pYvKcSEb5z"
      }
    },
    {
      "cell_type": "markdown",
      "source": [
        "#### XGBRegressor를 다시 트리타입으로 모델을 생성하여 봅시다.\n",
        "* booster의 값을 기본값으로 변경합니다. `booster = gtree`\n"
      ],
      "metadata": {
        "id": "YuhEMcffwIFo"
      }
    },
    {
      "cell_type": "code",
      "source": [
        "# 필요한 인스턴스 객체 생성 : 인코더 및 모델 \n",
        "enc = OrdinalEncoder()\n",
        "\n",
        "# 모델 생성\n",
        "model = XGBRegressor(n_estimators = 200,\n",
        "                     booster ='gbtree',\n",
        "                   learning_rate=0.08, \n",
        "                   gamma=0,\n",
        "                   objective = 'reg:squarederror', \n",
        "                   subsample=0.75,\n",
        "                   colsample_bytree=1, \n",
        "                   max_depth=7,\n",
        "                   early_stopping_rounds=20)\n",
        "\n",
        "\n",
        "# 훈련데이터 : fit_transform\n",
        "X_train_encoded = enc.fit_transform(X_train, y_train)\n",
        "\n",
        "# 검증데이터 : transform\n",
        "X_val_encoded = enc.transform(X_val)\n",
        "\n",
        "# eval_set 생성. \n",
        "eval_set = [(X_train_encoded, y_train), (X_val_encoded, y_val)]\n",
        "\n",
        "# fit.\n",
        "model.fit(X_train_encoded, y_train,\n",
        "          eval_set = eval_set)"
      ],
      "metadata": {
        "id": "5XfhImAOxFJ6"
      },
      "execution_count": null,
      "outputs": []
    },
    {
      "cell_type": "markdown",
      "source": [
        "**XGB모델의 트리생성의 설정은 200으로 맞춰놨습니다.**</br>\n",
        "하지만 현재 모델의 파리미터 `booster`의 값은 `glinear`이므로 트리의 개수가 나오지 않습니다.(앙상블 모델로 생성되지 않았기 때문) </br>\n",
        "* `parameter = objective`의 값을 기본으로 변경합니다. => `reg:squarederror`\n",
        "* `parameter  = booster`의 값을 변경합니다. => `reg:squarederror (basic option)` \n",
        "* `booster = gtree(basic)`라면 최적의 트리수는 100개입니다."
      ],
      "metadata": {
        "id": "nv__JVN2ch-E"
      }
    },
    {
      "cell_type": "code",
      "source": [
        "model.best_ntree_limit"
      ],
      "metadata": {
        "id": "WpHOHYPl_i-t"
      },
      "execution_count": null,
      "outputs": []
    },
    {
      "cell_type": "markdown",
      "source": [
        "이후 생성된 모델의 성능을 확인하여 봅시다. (성능지표)"
      ],
      "metadata": {
        "id": "THKkakIRAXKK"
      }
    },
    {
      "cell_type": "code",
      "source": [
        "val_predict = model.predict(X_val_encoded)\n",
        "\n",
        "mse = mean_squared_error(val_predict,y_val)\n",
        "rmse = np.sqrt(MSE)\n",
        "msle = mean_squared_log_error(y_val, val_predict)\n",
        "rmsle  = np.sqrt(msle)\n",
        "\n",
        "\n",
        "\n",
        "print(f'RMSE의 값 : {round(rmse, 5)}')\n",
        "print(f'MSE의 값 : {round(mse,5)}')\n",
        "print(f'MSLE의 값 : {round(msle,5)}')\n",
        "print(f'rmsle의 값 : {round(rmsle,5)}')\n",
        "print(f'R2_Score의 값 : {round(r2_score(val_predict, y_val),5)}')\n"
      ],
      "metadata": {
        "id": "aEHiL6zRAa-L"
      },
      "execution_count": null,
      "outputs": []
    },
    {
      "cell_type": "code",
      "source": [
        "results = model.evals_result()\n",
        "results"
      ],
      "metadata": {
        "id": "Syfx5Fo_p3t4"
      },
      "execution_count": null,
      "outputs": []
    },
    {
      "cell_type": "code",
      "source": [
        "# 훈련 손실 및 검증데이터의 손실을 시각화하여 봅니다.\n",
        "plt.figure(figsize=(10,7))\n",
        "plt.plot(results['validation_0']['rmse'], label = 'Training loss')\n",
        "plt.plot(results['validation_1']['rmse'], label = 'Validation loss')\n",
        "\n",
        "\n",
        "\n",
        "#최적의 트리를 표기합니다.\n",
        "plt.axvline(100, color = 'gray', label = 'Optimal tree number')\n",
        "\n",
        "# 라벨 이름을 정의합니다.\n",
        "plt.xlabel('Number of trees')\n",
        "plt.ylabel('loss')\n",
        "plt.legend()"
      ],
      "metadata": {
        "id": "Q1RKC6t3GoRx"
      },
      "execution_count": null,
      "outputs": []
    },
    {
      "cell_type": "markdown",
      "source": [
        "#### **성능지표를 통해 알아본 가장 좋은 성능을 뽑아내는 모델**\n",
        "> `XGB model`이 현재 모델중에 가장 우수한 성능을 뽑아내고 있습니다.\n",
        "\n",
        "* `parameter = objective`의 값이 `glinear` 선형모델이라면 성능이 좋지 않습니다.\n",
        "* `objective = glinear` 일 경우 R2_score 또한 준수한 성능을 내고 있습니다.\n",
        "  * 1에 가까운 지표를 보여줍니다, 1에 가까울 수록 높은 연관성을 지니고 있다고 설명합니다."
      ],
      "metadata": {
        "id": "2CKp9T27Y9AW"
      }
    },
    {
      "cell_type": "markdown",
      "source": [
        "# **4. ICE Plot**\n",
        "> 특정 관측치(데이터 포인트)에서의 **특정 특성**의 변화에 따른 모델의 예측 양상변화를 확인할 수 있습니다.\n",
        "\n",
        "* 특정행의 데이터셋에서 분석을 진행합니다."
      ],
      "metadata": {
        "id": "uMSBzp0fkxDQ"
      }
    },
    {
      "cell_type": "code",
      "source": [
        "X_val.iloc[[3]]"
      ],
      "metadata": {
        "id": "pibsOxZWeotW"
      },
      "execution_count": null,
      "outputs": []
    },
    {
      "cell_type": "markdown",
      "source": [
        "위와 같은 통계 정보를 갖는 사람에 대하여 'km/l'이 바뀔수록 모델이 예측을 어떻게 하는지 살펴봅시다."
      ],
      "metadata": {
        "id": "OUMHRAx6JKDH"
      }
    },
    {
      "cell_type": "code",
      "source": [
        "#   를 확인하고자 하는 데이터를 가져오도록 합니다. 하나의 행을 가져옵니다. \n",
        "# 인코딩이 적용된 데이터로 진행합니다. \n",
        "one_datapoint = X_val_encoded.iloc[[3]].copy()\n",
        "\n",
        "# 세 번째 데이터의 age 값을 데이터셋에 존재하는 최소 나이에서 최대 나이까지의 age값으로 변경합니다.\n",
        "# km/l의 값은 소수가 섞여있으므로 np.arange를 이용합니다\n",
        "# 하단에서 IndexError가 일어날 수 있으므로, 데이터의 값을 정수로 바꿔줍니다.\n",
        "km_test_range = range(int(X_val_encoded['km/l'].min()), int(X_val_encoded['km/l'].max()+1))\n",
        "result = []\n",
        "\n",
        "for km in km_test_range:\n",
        "  one_datapoint = X_val_encoded.iloc[[3]].copy()\n",
        "  one_datapoint.iat[0,11] = km\n",
        "\n",
        "  # 어레이타입의 값을 벗겨냅니다.  -> 값하나하나당 리스트로 변경됩니다.\n",
        "  one_datapoint = model.predict(one_datapoint).tolist()\n",
        "\n",
        "  # 빈 리스트에 우리가 위에서 작성한 리스트를 넣어줍니다.\n",
        "  result.append(one_datapoint)\n",
        "\n",
        "\n",
        "# 2차원 리스트를 1차원으로 flat해줍니다. -> 펴줍시다.\n",
        "result = sum(result,[])\n",
        "result\n",
        "\n",
        "# array 배열을 생성합니다. \n",
        "results = np.array(result)\n",
        "results\n",
        "\n",
        "# km/l 값이 최소일 때  예측 확률로부터의 변화값을 볼 것입니다.\n",
        "# 최소 값을 각 값에서 다 빼준다면 높은 km/l 값을 가질때 얼마나 값이 변화하는지 알 수 있습니다.\n",
        "results -=  result[0]"
      ],
      "metadata": {
        "id": "AKnBTKP3dMzd"
      },
      "execution_count": null,
      "outputs": []
    },
    {
      "cell_type": "code",
      "source": [
        "# 값이 얼마나 변화하였는지 시각화를 진행합니다.\n",
        "\n",
        "\n",
        "# 음수를 표기할 수 있게 설정을 변경합니다\n",
        "plt.rcParams['axes.unicode_minus'] = False\n",
        "\n",
        "plt.plot(km_test_range, results)\n",
        "plt.xlabel('km/l')\n",
        "plt.ylabel(\"$\\Delta$ predict\")"
      ],
      "metadata": {
        "id": "xcQ0oaqnsp5r"
      },
      "execution_count": null,
      "outputs": []
    },
    {
      "cell_type": "markdown",
      "source": [
        "* 위 정보를 비추어봤을 때, 자동차의 가격은 'km/l'가 높아질 수록 가격이 낮아질 것으로 예측됩니다.\n",
        "* 다른 특성을 갖는 자동차들도 위와 같이 분석하는지 확인하여 봅시다. \n",
        "  * 변경될 타겟 특성은 그대로 `km/l`을 이용합니다.\n",
        "  * 위에서 살펴본 차종은 **'Q3'** 였습니다. 다른 차종또한 확인하여 봅시다.\n",
        "  "
      ],
      "metadata": {
        "id": "sN5PSY6s8d-s"
      }
    },
    {
      "cell_type": "markdown",
      "source": [
        "#### 4-1 다른 특성(구간)에서의 ICE Plot"
      ],
      "metadata": {
        "id": "3kS0bnb5UWUq"
      }
    },
    {
      "cell_type": "code",
      "source": [
        "# 인코딩 되기 전의 값은 다음과 같습니다.\n",
        "X_val.iloc[[17,43,61,94,117]]"
      ],
      "metadata": {
        "id": "ybXknywEx_Pr"
      },
      "execution_count": null,
      "outputs": []
    },
    {
      "cell_type": "code",
      "source": [
        "# ordinal_encoding된 데이터의 값은 다음과 같습니다.\n",
        "idx = [17,43,61,94,117]\n",
        "scan_data = X_val_encoded.iloc[idx].copy()\n",
        "scan_data"
      ],
      "metadata": {
        "id": "1om3oyLRlEhl"
      },
      "execution_count": null,
      "outputs": []
    },
    {
      "cell_type": "code",
      "source": [
        "# 17,43,61,94,117 행에 대해서 살펴볼 것 입니다, 또한  피처의 범위 또한 그대로 이용합니다.\n",
        "target_range = range(int(X_val_encoded['km/l'].min()), int(X_val_encoded['km/l'].max()+1))\n",
        "\n",
        "\n",
        "def make_ice_plot(data, idx, target, target_feature_range):\n",
        "  \n",
        "  # 입력한 idx에 대한 데이터를 볼 수 있게 데이터를 따로 생성합니다.\n",
        "  scan_data = data.iloc[[idx]].copy()\n",
        "\n",
        "\n",
        "  # 결과 값을 담을 리스트 생성\n",
        "  results =[]\n",
        "  \n",
        "\n",
        "\n",
        "  for value in target_feature_range:\n",
        "\n",
        "    # 이 값은 타겟 : 'km/l'의 값이 될 것입니다.\n",
        "    scan_data[target] = value\n",
        "\n",
        "\n",
        "    # 위에서 지정한 값을 이용하여 예측하여 봅시다, 예측값을 먼저 펴주고,\n",
        "    pred = model.predict(scan_data).tolist() \n",
        "  \n",
        "    results.append(pred)\n",
        "\n",
        "  # 여기서 다시 array를 생성합니다.\n",
        "  results = np.array(results)\n",
        "  \n",
        "  return target_feature_range, results - results[0]  \n"
      ],
      "metadata": {
        "id": "p5QpcIB-61l5"
      },
      "execution_count": null,
      "outputs": []
    },
    {
      "cell_type": "code",
      "source": [
        "# 타겟 및 타겟의 범위를 지정하여줍니다.\n",
        "target = 'km/l'\n",
        "target_feature_range = range(int(X_val_encoded['km/l'].min()), int(X_val_encoded['km/l'].max()+1))\n",
        "\n",
        "# 우리가 살펴볼 행은 총 5개며 다음과 같습니다.\n",
        "for idx in [17,43,61,94,117]:\n",
        "\n",
        "  #plot을 생성합니다.\n",
        "  plt.plot(*make_ice_plot(X_val_encoded, idx, target, target_feature_range),\n",
        "           \n",
        "           #쉽게 확인할 수 있도록 라벨을 생성합니다.\n",
        "           label=f\"data_idx={idx}\")\n",
        "\n",
        "plt.xlabel(f'단위 (km/l):{target_feature_range}')\n",
        "plt.ylabel(\"$\\Delta$ pred_proba\")\n",
        "plt.legend()\n"
      ],
      "metadata": {
        "id": "YHfvuHshoZ03"
      },
      "execution_count": null,
      "outputs": []
    },
    {
      "cell_type": "markdown",
      "source": [
        "> 전반적으로 `km/l` 값이 높을 수록 차량의 값이 많이 떨어진다는 것을 알 수 있습니다. \n",
        "\n",
        "* 살펴볼 점\n",
        "  * `idx :43`은 앞서 살펴본 차량과 같은 모델이나, 차의 연식과 변속기 등이 다릅니다. <br/>\n",
        "  허나 `km/l`는 이러한 옵션과 상관없이 늘어날 수록 가격이 계속해서 낮아집니다."
      ],
      "metadata": {
        "id": "BfK-c75_xGS_"
      }
    },
    {
      "cell_type": "code",
      "source": [
        "idx = [17,43,61,94,117]\n",
        "scan_data = X_val_encoded.iloc[idx].copy()\n",
        "scan_data "
      ],
      "metadata": {
        "id": "kFt-OXRjo_6x"
      },
      "execution_count": null,
      "outputs": []
    },
    {
      "cell_type": "markdown",
      "source": [
        "# 5. PDP plot.\n",
        "> 사람들은 평균적으로 모델이 특정 피처에 따라 타겟 값을 어떻게 예측하는지 궁금해합니다.\n",
        "\n",
        "* ICE Plot으로 특정 데이터에 관하여 특정 피처의 변화에 따른 모델의 예측 양상을 살펴볼 수 있었습니다.\n",
        "* 하나의 ICE Plot으로는 모델이 해당 특성에 대하여 어떻게 분석하고 이해하는지 알 수 없습니다.\n",
        "  * 여러 세세한 조건에서의 모델의 예측 변화를 확인하긴 어렵지만, PDP를 통해 전반적인 모델의 해당 특성에 대한 이해방식을 확인할 수 있습니다.\n",
        "  * **PDP는 입력 데이터들에 대하여 ICE plot의 평균으로 값을 구할 수 있습니다.**\n",
        "\n",
        "**❗PDP plot 특정 특성의 대한 모델의 복잡한 반응 양상을 이해하기 쉽게 시각화 해준다는 장점이 존재합니다.**"
      ],
      "metadata": {
        "id": "KN9mxNnMs_uN"
      }
    },
    {
      "cell_type": "markdown",
      "source": [
        "#### 5-1 하나의 특성에 대하여 PDP plot을 생성합니다."
      ],
      "metadata": {
        "id": "jLJuNU_hwYJd"
      }
    },
    {
      "cell_type": "code",
      "source": [
        "# 작업에 걸리는 시간을 확인합니다, 필요한 라이브러리를 가져옵니다.\n",
        "from tqdm import tqdm\n",
        "\n",
        "\n",
        "# 피처와 범위는 위에서 진행한 것과 같게 합니다.\n",
        "target_feature = 'km/l'\n",
        "target_feature_range = range(int(X_val_encoded['km/l'].min()), int(X_val_encoded['km/l'].max()+1))\n",
        "\n",
        "\n",
        "# 결과값을 모을 빈 데이터를 작성합니다.\n",
        "all_ice_plot = []\n",
        "\n",
        "\n",
        "# 모든 검증데이터에 대하여, 위에서 작성한 함수로 ICE plot 데이터를 계산합니다.\n",
        "for idx in tqdm(range(len(X_val_encoded))):\n",
        "  all_ice_plot.append(\n",
        "      make_ice_plot(X_val_encoded, idx, target_feature, target_feature_range)[1]\n",
        "  )  "
      ],
      "metadata": {
        "id": "_sdDTbY8WgVl"
      },
      "execution_count": null,
      "outputs": []
    },
    {
      "cell_type": "code",
      "source": [
        "# 위에서 저장한 리스트 데이터를 벡터화합니다.\n",
        "all_ice_plot_data = np.array(all_ice_plot)\n",
        "\n",
        "print(f'all_ice_plot_data.shape:{all_ice_plot_data.shape}')\n",
        "\n",
        "# 6033개의 ICE plot data를 0번째(data index) 축으로 평균을 내어봅니다.\n",
        "pdp_data = all_ice_plot_data.mean(0)\n",
        "\n",
        "# 차원의 모습은 다음과 같습니다.\n",
        "print(f'pdp_data.shape :{pdp_data.shape}')\n",
        "\n",
        "# dpi(dots per inch)수치를 조정하여 이미지 화질을 조정할 수 있습니다.\n",
        "plt.rcParams['figure.dpi'] = 96\n",
        "\n",
        "# PDP(평균 ICE plot) data를 시각화합니다.\n",
        "plt.plot(target_feature_range, pdp_data)\n",
        "\n",
        "#label 정리\n",
        "plt.xlabel(target_feature)\n",
        "plt.ylabel('AVG : ($\\Delta$ pred_proba)')\n",
        "plt.show()"
      ],
      "metadata": {
        "id": "YB8j2HYhqGlS"
      },
      "execution_count": null,
      "outputs": []
    },
    {
      "cell_type": "markdown",
      "source": [
        "**INSIGHT : 모델 시각화 결과**<br/>\n",
        "중고차의 가격은 키로수가 높아질수록 중고차의 가격이 크게 떨어지기 시작합니다.\n",
        "  "
      ],
      "metadata": {
        "id": "FtFll1NGrmT5"
      }
    },
    {
      "cell_type": "markdown",
      "source": [
        "#### 5-2. 2개의 특성을 이용하여 PDP plot을 생성합니다.\n",
        "* `PDPbox libarary`의 `pdp_isolate`를 사용한다면 하나의 특성에 대하여 pdp를 시각화할 수 있습니다.\n",
        "* 2특성 변화에 대한 PDP는 heatmap 형태로 시각화할 수 있습니다."
      ],
      "metadata": {
        "id": "IZwm8roIr92j"
      }
    },
    {
      "cell_type": "code",
      "source": [
        "# 필요한 라이브러리를 설치합니다.\n",
        "!pip install wheel setuptools pip --upgrade\n",
        "\n",
        "\n",
        "#!pip install -U setuptools\n",
        "!pip install pdpbox"
      ],
      "metadata": {
        "id": "FeeKFUqObrPU"
      },
      "execution_count": null,
      "outputs": []
    },
    {
      "cell_type": "code",
      "source": [
        "# 필요한 라이브러리를 가져옵니다.\n",
        "from pdpbox.pdp import pdp_interact, pdp_interact_plot, pdp_isolate, pdp_plot\n",
        "\n",
        "# 살펴볼 feature 를 지정합니다.\n",
        "target_features = ['tax', 'km/l']\n",
        "\n",
        "# 필요한 인스턴스 객체를 생성합니다.\n",
        "interaction = pdp_interact(\n",
        "    \n",
        "    # 사용할 모델을 지정합니다.\n",
        "    model = model,\n",
        "\n",
        "    # 사용할 데이터셋을 지정합니다.\n",
        "    dataset = X_val_encoded, \n",
        "\n",
        "    # 모델의 피처는 사용한 데이터셋의 컬럼을 넣어둡니다.\n",
        "    model_features = X_val_encoded.columns,\n",
        "\n",
        "    # 살펴볼 특성을 features로 집어넣습니다.\n",
        "    features = target_features)"
      ],
      "metadata": {
        "id": "flb14ujnn_oC"
      },
      "execution_count": null,
      "outputs": []
    },
    {
      "cell_type": "code",
      "source": [
        "# 위에서 생성한 interaction에 대하여 plot을 생성합니다.\n",
        "\n",
        "pdp_interact_plot(\n",
        "    interaction,\n",
        "\n",
        "    # 격자형태로 살펴볼 수 있다.(2특성을 살펴볼 경우)\n",
        "    plot_type = 'grid',\n",
        "\n",
        "    # 타겟으로 살펴볼 feature를 집어넣습니다.\n",
        "    feature_names = target_features)\n"
      ],
      "metadata": {
        "id": "HjCxx1zZoILJ"
      },
      "execution_count": null,
      "outputs": []
    },
    {
      "cell_type": "markdown",
      "source": [
        "####5-3 PDP plot : 3D타입 시각화"
      ],
      "metadata": {
        "id": "mOrDAA73xi3l"
      }
    },
    {
      "cell_type": "markdown",
      "source": [
        "위의 결과값을 데이터프레임으로 뽑아내면 다음과 같습니다"
      ],
      "metadata": {
        "id": "FyPMd0RNvtJz"
      }
    },
    {
      "cell_type": "code",
      "source": [
        "interaction.pdp.head(5)"
      ],
      "metadata": {
        "id": "RPLuFzFjxg4w"
      },
      "execution_count": null,
      "outputs": []
    },
    {
      "cell_type": "code",
      "source": [
        "# 생성된 데이터를 pivoting 합니다.\n",
        "\n",
        "pdp_pivoted_data = interaction.pdp.pivot_table(\n",
        "    values = 'preds', columns = target_features[0], index = target_features[1])[::-1]\n",
        "\n",
        "pdp_pivoted_data.head(6)    "
      ],
      "metadata": {
        "id": "XFSmQAEjykSe"
      },
      "execution_count": null,
      "outputs": []
    },
    {
      "cell_type": "code",
      "source": [
        "# 생성된 피벗테이블을 이용하여 3D로 시각화를 진행합니다.\n",
        "import plotly.graph_objs as go\n",
        "\n",
        "# 3D\n",
        "surface = go.Surface(\n",
        "    x = pdp_pivoted_data.columns,\n",
        "    y = pdp_pivoted_data.index,\n",
        "    z = pdp_pivoted_data.values)\n",
        "\n",
        "\n",
        "# layout 설정.\n",
        "layout = go.Layout(\n",
        "    scene=dict(\n",
        "        xaxis=dict(title=target_features[0]),\n",
        "        yaxis=dict(title=target_features[1]),\n",
        "        zaxis=dict(title=target),\n",
        "    )\n",
        ")\n",
        "\n",
        "fig = go.Figure(surface, layout)\n",
        "fig.show()"
      ],
      "metadata": {
        "id": "wFkNnmxUyphh"
      },
      "execution_count": null,
      "outputs": []
    },
    {
      "cell_type": "markdown",
      "source": [
        "#### PDP plot : 범주형 특성에 대하여 PDP plot 생성하기.\n",
        "* 범주형 특성은 모델에 학습시키기 전에 수치형으로 인코딩되어집니다.\n",
        "* 수치형으로 변환되기 전의 각 범주 값을 PDP에 제공하여 이해하기 쉬운 형태로 시각화하여 봅시다.\n",
        "  * `범주형 피처 : type 이용하여 봅시다.` "
      ],
      "metadata": {
        "id": "bL195ImN3XGF"
      }
    },
    {
      "cell_type": "code",
      "source": [
        "target_feature = 'type'"
      ],
      "metadata": {
        "id": "kkg9xFI54dC3"
      },
      "execution_count": null,
      "outputs": []
    },
    {
      "cell_type": "code",
      "source": [
        "# 학습 시 사용한 encoder로부터 각 특성값을 어떤 수치값으로 맵핑되었는지 확인하여 봅시다.\n",
        "mappings = enc.mapping\n",
        "print(mappings)"
      ],
      "metadata": {
        "id": "KnqVnnxm4icf"
      },
      "execution_count": null,
      "outputs": []
    },
    {
      "cell_type": "code",
      "source": [
        "# 살펴보고자 하는 타겟값만 가져오도록 합니다. \n",
        "mapping_data = list(filter(lambda x: x['col'] == target_feature, mappings))\n",
        "mapping_data\n",
        "\n",
        "#mapping은 pandas series 형태로 저장되어있습니다. index가 원래 값이며, value가 인코딩된 수치입니다.\n",
        "maps = mapping_data[0]['mapping']\n",
        "print(type(maps))\n",
        "maps"
      ],
      "metadata": {
        "id": "By90qoGr50rR"
      },
      "execution_count": null,
      "outputs": []
    },
    {
      "cell_type": "code",
      "source": [
        "#인코딩이 되고난 이후의 값(value)를 기준으로 pdp를 생성합니다.\n",
        "\n",
        "\n",
        "pdp_dist = pdp_isolate(\n",
        "    model = model,\n",
        "    dataset = X_val_encoded,\n",
        "    model_features = X_val_encoded.columns,\n",
        "    feature = target_feature,\n",
        "    cust_grid_points = [1,2,3,4,5,6,7])\n",
        "\n",
        "\n",
        "pdp_plot(pdp_dist, target_feature)"
      ],
      "metadata": {
        "id": "N0Ob1GEaYBC4"
      },
      "execution_count": null,
      "outputs": []
    },
    {
      "cell_type": "code",
      "source": [
        "# 인코딩된 특성값과 원래 특성값을 리스트로 가져옵니다.\n",
        "encoded_features = maps.values.tolist()\n",
        "original_features = maps.index.tolist()\n",
        "\n",
        "print(encoded_features, priginal_features)"
      ],
      "metadata": {
        "id": "n7PVzGftYTmR"
      },
      "execution_count": null,
      "outputs": []
    },
    {
      "cell_type": "code",
      "source": [],
      "metadata": {
        "id": "9sgKRNC2aT_u"
      },
      "execution_count": null,
      "outputs": []
    }
  ]
}