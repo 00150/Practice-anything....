{
  "nbformat": 4,
  "nbformat_minor": 0,
  "metadata": {
    "colab": {
      "provenance": [],
      "authorship_tag": "ABX9TyN4ecJVEAdw3yPhqbIx0B7U",
      "include_colab_link": true
    },
    "kernelspec": {
      "name": "python3",
      "display_name": "Python 3"
    },
    "language_info": {
      "name": "python"
    },
    "accelerator": "GPU",
    "gpuClass": "standard"
  },
  "cells": [
    {
      "cell_type": "markdown",
      "metadata": {
        "id": "view-in-github",
        "colab_type": "text"
      },
      "source": [
        "<a href=\"https://colab.research.google.com/github/00150/Practice-anything..../blob/main/Untitled191.ipynb\" target=\"_parent\"><img src=\"https://colab.research.google.com/assets/colab-badge.svg\" alt=\"Open In Colab\"/></a>"
      ]
    },
    {
      "cell_type": "code",
      "execution_count": 21,
      "metadata": {
        "colab": {
          "base_uri": "https://localhost:8080/"
        },
        "id": "W4vT-Vtm9ecJ",
        "outputId": "4453ea3d-a89c-4ae3-b30f-34e0be9adae2"
      },
      "outputs": [
        {
          "output_type": "stream",
          "name": "stdout",
          "text": [
            "Looking in indexes: https://pypi.org/simple, https://us-python.pkg.dev/colab-wheels/public/simple/\n",
            "Requirement already satisfied: hyperopt in /usr/local/lib/python3.8/dist-packages (0.1.2)\n",
            "Requirement already satisfied: scipy in /usr/local/lib/python3.8/dist-packages (from hyperopt) (1.10.1)\n",
            "Requirement already satisfied: pymongo in /usr/local/lib/python3.8/dist-packages (from hyperopt) (4.3.3)\n",
            "Requirement already satisfied: future in /usr/local/lib/python3.8/dist-packages (from hyperopt) (0.16.0)\n",
            "Requirement already satisfied: numpy in /usr/local/lib/python3.8/dist-packages (from hyperopt) (1.22.4)\n",
            "Requirement already satisfied: networkx in /usr/local/lib/python3.8/dist-packages (from hyperopt) (3.0)\n",
            "Requirement already satisfied: six in /usr/local/lib/python3.8/dist-packages (from hyperopt) (1.15.0)\n",
            "Requirement already satisfied: tqdm in /usr/local/lib/python3.8/dist-packages (from hyperopt) (4.64.1)\n",
            "Requirement already satisfied: dnspython<3.0.0,>=1.16.0 in /usr/local/lib/python3.8/dist-packages (from pymongo->hyperopt) (2.3.0)\n",
            "Looking in indexes: https://pypi.org/simple, https://us-python.pkg.dev/colab-wheels/public/simple/\n",
            "Requirement already satisfied: category_encoders in /usr/local/lib/python3.8/dist-packages (2.6.0)\n",
            "Requirement already satisfied: numpy>=1.14.0 in /usr/local/lib/python3.8/dist-packages (from category_encoders) (1.22.4)\n",
            "Requirement already satisfied: statsmodels>=0.9.0 in /usr/local/lib/python3.8/dist-packages (from category_encoders) (0.13.5)\n",
            "Requirement already satisfied: scipy>=1.0.0 in /usr/local/lib/python3.8/dist-packages (from category_encoders) (1.10.1)\n",
            "Requirement already satisfied: pandas>=1.0.5 in /usr/local/lib/python3.8/dist-packages (from category_encoders) (1.3.5)\n",
            "Requirement already satisfied: scikit-learn>=0.20.0 in /usr/local/lib/python3.8/dist-packages (from category_encoders) (1.2.1)\n",
            "Requirement already satisfied: patsy>=0.5.1 in /usr/local/lib/python3.8/dist-packages (from category_encoders) (0.5.3)\n",
            "Requirement already satisfied: pytz>=2017.3 in /usr/local/lib/python3.8/dist-packages (from pandas>=1.0.5->category_encoders) (2022.7.1)\n",
            "Requirement already satisfied: python-dateutil>=2.7.3 in /usr/local/lib/python3.8/dist-packages (from pandas>=1.0.5->category_encoders) (2.8.2)\n",
            "Requirement already satisfied: six in /usr/local/lib/python3.8/dist-packages (from patsy>=0.5.1->category_encoders) (1.15.0)\n",
            "Requirement already satisfied: joblib>=1.1.1 in /usr/local/lib/python3.8/dist-packages (from scikit-learn>=0.20.0->category_encoders) (1.2.0)\n",
            "Requirement already satisfied: threadpoolctl>=2.0.0 in /usr/local/lib/python3.8/dist-packages (from scikit-learn>=0.20.0->category_encoders) (3.1.0)\n",
            "Requirement already satisfied: packaging>=21.3 in /usr/local/lib/python3.8/dist-packages (from statsmodels>=0.9.0->category_encoders) (23.0)\n"
          ]
        }
      ],
      "source": [
        "!pip3 install hyperopt\n",
        "!pip3 install category_encoders"
      ]
    },
    {
      "cell_type": "code",
      "source": [
        "import numpy as np\n",
        "import pandas as pd\n",
        "from sklearn.model_selection import train_test_split\n",
        "\n",
        "target = 'vacc_h1n1_f'\n",
        "train = pd.merge(\n",
        "    pd.read_csv(\n",
        "        \"https://ds-lecture-data.s3.ap-northeast-2.amazonaws.com/vacc_flu/train.csv\"\n",
        "    ),\n",
        "    pd.read_csv(\n",
        "        \"https://ds-lecture-data.s3.ap-northeast-2.amazonaws.com/vacc_flu/train_labels.csv\"\n",
        "    )[target],\n",
        "    left_index=True,\n",
        "    right_index=True,\n",
        ")\n",
        "test = pd.read_csv(\n",
        "    \"https://ds-lecture-data.s3.ap-northeast-2.amazonaws.com/vacc_flu/test.csv\"\n",
        ")\n",
        "\n",
        "# Feature Engineering을 수행합니다.\n",
        "\n",
        "# Feature Engineering을 수행합니다.\n",
        "def engineer(df):\n",
        "    # 새로운 특성을 생성합니다.\n",
        "    behaviorals = [col for col in df.columns if \"behavioral\" in col]\n",
        "    df[\"behaviorals\"] = df[behaviorals].sum(axis=1)\n",
        "\n",
        "    # 사용하지 않는 특성을 drop합니다.\n",
        "    dels = [col for col in df.columns if (\"employment\" in col or \"seas\" in col)]\n",
        "    df.drop(columns=dels, inplace=True)\n",
        "    return df\n",
        "\n",
        "train = engineer(train.copy())\n",
        "test = engineer(test.copy())\n",
        "\n",
        "# feature과 label 분리.\n",
        "X_train, y_train = train.drop(columns = target), train[target]"
      ],
      "metadata": {
        "id": "-W27GTZ6_Vyg"
      },
      "execution_count": 22,
      "outputs": []
    },
    {
      "cell_type": "markdown",
      "source": [
        "학습에 사용될 파이프라인 구성."
      ],
      "metadata": {
        "id": "Nz9IFmE7-84r"
      }
    },
    {
      "cell_type": "code",
      "source": [
        "from category_encoders import OrdinalEncoder\n",
        "from sklearn.impute import SimpleImputer\n",
        "from xgboost import XGBClassifier\n",
        "from sklearn.pipeline import make_pipeline\n",
        "\n",
        "pipe = make_pipeline(\n",
        "    OrdinalEncoder(),\n",
        "    SimpleImputer(strategy = 'median'),\n",
        "    XGBClassifier(\n",
        "        objective = 'binary:logistic',\n",
        "        eval_metric = 'error',\n",
        "        n_estimators = 200,\n",
        "        random_state = 42,\n",
        "        n_jobs= -1,\n",
        "        learning_rate= 0.1,\n",
        "        use_label_encoder = False,\n",
        "    )\n",
        "\n",
        ")\n",
        "\n",
        "print(pipe)"
      ],
      "metadata": {
        "colab": {
          "base_uri": "https://localhost:8080/"
        },
        "id": "6gwZJ5dbHqFM",
        "outputId": "fbae02f6-c72a-468d-a046-db917887e176"
      },
      "execution_count": 23,
      "outputs": [
        {
          "output_type": "stream",
          "name": "stdout",
          "text": [
            "Pipeline(steps=[('ordinalencoder', OrdinalEncoder()),\n",
            "                ('simpleimputer', SimpleImputer(strategy='median')),\n",
            "                ('xgbclassifier',\n",
            "                 XGBClassifier(base_score=None, booster=None, callbacks=None,\n",
            "                               colsample_bylevel=None, colsample_bynode=None,\n",
            "                               colsample_bytree=None,\n",
            "                               early_stopping_rounds=None,\n",
            "                               enable_categorical=False, eval_metric='error',\n",
            "                               feature_types=None, gamma=None, gpu_id=None,\n",
            "                               grow_policy=None, importance_type=None,\n",
            "                               interaction_constraints=None, learning_rate=0.1,\n",
            "                               max_bin=None, max_cat_threshold=None,\n",
            "                               max_cat_to_onehot=None, max_delta_step=None,\n",
            "                               max_depth=None, max_leaves=None,\n",
            "                               min_child_weight=None, missing=nan,\n",
            "                               monotone_constraints=None, n_estimators=200,\n",
            "                               n_jobs=-1, num_parallel_tree=None,\n",
            "                               predictor=None, random_state=42, ...))])\n"
          ]
        },
        {
          "output_type": "stream",
          "name": "stderr",
          "text": [
            "/usr/local/lib/python3.8/dist-packages/xgboost/sklearn.py:1395: UserWarning: `use_label_encoder` is deprecated in 1.7.0.\n",
            "  warnings.warn(\"`use_label_encoder` is deprecated in 1.7.0.\")\n"
          ]
        }
      ]
    },
    {
      "cell_type": "markdown",
      "source": [
        "아래와 같이 탐색할 하이퍼파라미터와 범위를 지정하여 줍니다."
      ],
      "metadata": {
        "id": "hKpn3b1uLF2k"
      }
    },
    {
      "cell_type": "code",
      "source": [
        "params = {\n",
        "    'xgbclassifier__max_depth':[2,4,6],\n",
        "    'xgbclassifier__min_child_weight':[2,4,8],\n",
        "    'xgbclassifier__colsample_bytree':[0.6, 0.8, 1.0],\n",
        "}"
      ],
      "metadata": {
        "id": "exLIkv1sK9_l"
      },
      "execution_count": 24,
      "outputs": []
    },
    {
      "cell_type": "markdown",
      "source": [
        "Exhaustive Grid Search 진행.\n",
        "* `sklearn`에서 제공하는 Grid Search는 교차검증(cross validation)의 방법으로 탐색을 진행.\n",
        "* 각 파라미터 조합 3 * 3 * 3에 cv3 곱하여 81번의 fitting이 이루어진다."
      ],
      "metadata": {
        "id": "arIZoMKWQ-AH"
      }
    },
    {
      "cell_type": "code",
      "source": [
        "from sklearn.model_selection import GridSearchCV\n",
        "\n",
        "grid_search = GridSearchCV(pipe,\n",
        "                           param_grid = params,\n",
        "                           scoring = 'roc_auc', cv = 3, verbose = 3)\n",
        "\n",
        "grid_search.fit(X_train, y_train)"
      ],
      "metadata": {
        "colab": {
          "base_uri": "https://localhost:8080/",
          "height": 1000
        },
        "id": "Igp6guUDUhxg",
        "outputId": "67ee3dff-ce81-4ac6-ed97-6998440fc1e1"
      },
      "execution_count": 25,
      "outputs": [
        {
          "output_type": "stream",
          "name": "stderr",
          "text": [
            "/usr/local/lib/python3.8/dist-packages/xgboost/sklearn.py:1395: UserWarning: `use_label_encoder` is deprecated in 1.7.0.\n",
            "  warnings.warn(\"`use_label_encoder` is deprecated in 1.7.0.\")\n",
            "/usr/local/lib/python3.8/dist-packages/xgboost/sklearn.py:1395: UserWarning: `use_label_encoder` is deprecated in 1.7.0.\n",
            "  warnings.warn(\"`use_label_encoder` is deprecated in 1.7.0.\")\n"
          ]
        },
        {
          "output_type": "stream",
          "name": "stdout",
          "text": [
            "Fitting 3 folds for each of 27 candidates, totalling 81 fits\n",
            "[CV 1/3] END xgbclassifier__colsample_bytree=0.6, xgbclassifier__max_depth=2, xgbclassifier__min_child_weight=2;, score=0.820 total time=   2.0s\n"
          ]
        },
        {
          "output_type": "stream",
          "name": "stderr",
          "text": [
            "/usr/local/lib/python3.8/dist-packages/xgboost/sklearn.py:1395: UserWarning: `use_label_encoder` is deprecated in 1.7.0.\n",
            "  warnings.warn(\"`use_label_encoder` is deprecated in 1.7.0.\")\n"
          ]
        },
        {
          "output_type": "stream",
          "name": "stdout",
          "text": [
            "[CV 2/3] END xgbclassifier__colsample_bytree=0.6, xgbclassifier__max_depth=2, xgbclassifier__min_child_weight=2;, score=0.818 total time=   1.9s\n"
          ]
        },
        {
          "output_type": "stream",
          "name": "stderr",
          "text": [
            "/usr/local/lib/python3.8/dist-packages/xgboost/sklearn.py:1395: UserWarning: `use_label_encoder` is deprecated in 1.7.0.\n",
            "  warnings.warn(\"`use_label_encoder` is deprecated in 1.7.0.\")\n"
          ]
        },
        {
          "output_type": "stream",
          "name": "stdout",
          "text": [
            "[CV 3/3] END xgbclassifier__colsample_bytree=0.6, xgbclassifier__max_depth=2, xgbclassifier__min_child_weight=2;, score=0.813 total time=   3.3s\n"
          ]
        },
        {
          "output_type": "stream",
          "name": "stderr",
          "text": [
            "/usr/local/lib/python3.8/dist-packages/xgboost/sklearn.py:1395: UserWarning: `use_label_encoder` is deprecated in 1.7.0.\n",
            "  warnings.warn(\"`use_label_encoder` is deprecated in 1.7.0.\")\n"
          ]
        },
        {
          "output_type": "stream",
          "name": "stdout",
          "text": [
            "[CV 1/3] END xgbclassifier__colsample_bytree=0.6, xgbclassifier__max_depth=2, xgbclassifier__min_child_weight=4;, score=0.820 total time=   2.9s\n"
          ]
        },
        {
          "output_type": "stream",
          "name": "stderr",
          "text": [
            "/usr/local/lib/python3.8/dist-packages/xgboost/sklearn.py:1395: UserWarning: `use_label_encoder` is deprecated in 1.7.0.\n",
            "  warnings.warn(\"`use_label_encoder` is deprecated in 1.7.0.\")\n"
          ]
        },
        {
          "output_type": "stream",
          "name": "stdout",
          "text": [
            "[CV 2/3] END xgbclassifier__colsample_bytree=0.6, xgbclassifier__max_depth=2, xgbclassifier__min_child_weight=4;, score=0.818 total time=   5.0s\n"
          ]
        },
        {
          "output_type": "stream",
          "name": "stderr",
          "text": [
            "/usr/local/lib/python3.8/dist-packages/xgboost/sklearn.py:1395: UserWarning: `use_label_encoder` is deprecated in 1.7.0.\n",
            "  warnings.warn(\"`use_label_encoder` is deprecated in 1.7.0.\")\n"
          ]
        },
        {
          "output_type": "stream",
          "name": "stdout",
          "text": [
            "[CV 3/3] END xgbclassifier__colsample_bytree=0.6, xgbclassifier__max_depth=2, xgbclassifier__min_child_weight=4;, score=0.813 total time=   5.5s\n"
          ]
        },
        {
          "output_type": "stream",
          "name": "stderr",
          "text": [
            "/usr/local/lib/python3.8/dist-packages/xgboost/sklearn.py:1395: UserWarning: `use_label_encoder` is deprecated in 1.7.0.\n",
            "  warnings.warn(\"`use_label_encoder` is deprecated in 1.7.0.\")\n"
          ]
        },
        {
          "output_type": "stream",
          "name": "stdout",
          "text": [
            "[CV 1/3] END xgbclassifier__colsample_bytree=0.6, xgbclassifier__max_depth=2, xgbclassifier__min_child_weight=8;, score=0.820 total time=   3.1s\n"
          ]
        },
        {
          "output_type": "stream",
          "name": "stderr",
          "text": [
            "/usr/local/lib/python3.8/dist-packages/xgboost/sklearn.py:1395: UserWarning: `use_label_encoder` is deprecated in 1.7.0.\n",
            "  warnings.warn(\"`use_label_encoder` is deprecated in 1.7.0.\")\n"
          ]
        },
        {
          "output_type": "stream",
          "name": "stdout",
          "text": [
            "[CV 2/3] END xgbclassifier__colsample_bytree=0.6, xgbclassifier__max_depth=2, xgbclassifier__min_child_weight=8;, score=0.818 total time=   4.1s\n"
          ]
        },
        {
          "output_type": "stream",
          "name": "stderr",
          "text": [
            "/usr/local/lib/python3.8/dist-packages/xgboost/sklearn.py:1395: UserWarning: `use_label_encoder` is deprecated in 1.7.0.\n",
            "  warnings.warn(\"`use_label_encoder` is deprecated in 1.7.0.\")\n"
          ]
        },
        {
          "output_type": "stream",
          "name": "stdout",
          "text": [
            "[CV 3/3] END xgbclassifier__colsample_bytree=0.6, xgbclassifier__max_depth=2, xgbclassifier__min_child_weight=8;, score=0.813 total time=   5.2s\n"
          ]
        },
        {
          "output_type": "stream",
          "name": "stderr",
          "text": [
            "/usr/local/lib/python3.8/dist-packages/xgboost/sklearn.py:1395: UserWarning: `use_label_encoder` is deprecated in 1.7.0.\n",
            "  warnings.warn(\"`use_label_encoder` is deprecated in 1.7.0.\")\n"
          ]
        },
        {
          "output_type": "stream",
          "name": "stdout",
          "text": [
            "[CV 1/3] END xgbclassifier__colsample_bytree=0.6, xgbclassifier__max_depth=4, xgbclassifier__min_child_weight=2;, score=0.823 total time=   6.7s\n"
          ]
        },
        {
          "output_type": "stream",
          "name": "stderr",
          "text": [
            "/usr/local/lib/python3.8/dist-packages/xgboost/sklearn.py:1395: UserWarning: `use_label_encoder` is deprecated in 1.7.0.\n",
            "  warnings.warn(\"`use_label_encoder` is deprecated in 1.7.0.\")\n"
          ]
        },
        {
          "output_type": "stream",
          "name": "stdout",
          "text": [
            "[CV 2/3] END xgbclassifier__colsample_bytree=0.6, xgbclassifier__max_depth=4, xgbclassifier__min_child_weight=2;, score=0.822 total time=   7.8s\n"
          ]
        },
        {
          "output_type": "stream",
          "name": "stderr",
          "text": [
            "/usr/local/lib/python3.8/dist-packages/xgboost/sklearn.py:1395: UserWarning: `use_label_encoder` is deprecated in 1.7.0.\n",
            "  warnings.warn(\"`use_label_encoder` is deprecated in 1.7.0.\")\n"
          ]
        },
        {
          "output_type": "stream",
          "name": "stdout",
          "text": [
            "[CV 3/3] END xgbclassifier__colsample_bytree=0.6, xgbclassifier__max_depth=4, xgbclassifier__min_child_weight=2;, score=0.816 total time=   7.7s\n"
          ]
        },
        {
          "output_type": "stream",
          "name": "stderr",
          "text": [
            "/usr/local/lib/python3.8/dist-packages/xgboost/sklearn.py:1395: UserWarning: `use_label_encoder` is deprecated in 1.7.0.\n",
            "  warnings.warn(\"`use_label_encoder` is deprecated in 1.7.0.\")\n"
          ]
        },
        {
          "output_type": "stream",
          "name": "stdout",
          "text": [
            "[CV 1/3] END xgbclassifier__colsample_bytree=0.6, xgbclassifier__max_depth=4, xgbclassifier__min_child_weight=4;, score=0.823 total time=   5.6s\n"
          ]
        },
        {
          "output_type": "stream",
          "name": "stderr",
          "text": [
            "/usr/local/lib/python3.8/dist-packages/xgboost/sklearn.py:1395: UserWarning: `use_label_encoder` is deprecated in 1.7.0.\n",
            "  warnings.warn(\"`use_label_encoder` is deprecated in 1.7.0.\")\n"
          ]
        },
        {
          "output_type": "stream",
          "name": "stdout",
          "text": [
            "[CV 2/3] END xgbclassifier__colsample_bytree=0.6, xgbclassifier__max_depth=4, xgbclassifier__min_child_weight=4;, score=0.822 total time=   7.5s\n"
          ]
        },
        {
          "output_type": "stream",
          "name": "stderr",
          "text": [
            "/usr/local/lib/python3.8/dist-packages/xgboost/sklearn.py:1395: UserWarning: `use_label_encoder` is deprecated in 1.7.0.\n",
            "  warnings.warn(\"`use_label_encoder` is deprecated in 1.7.0.\")\n"
          ]
        },
        {
          "output_type": "stream",
          "name": "stdout",
          "text": [
            "[CV 3/3] END xgbclassifier__colsample_bytree=0.6, xgbclassifier__max_depth=4, xgbclassifier__min_child_weight=4;, score=0.816 total time=   3.1s\n"
          ]
        },
        {
          "output_type": "stream",
          "name": "stderr",
          "text": [
            "/usr/local/lib/python3.8/dist-packages/xgboost/sklearn.py:1395: UserWarning: `use_label_encoder` is deprecated in 1.7.0.\n",
            "  warnings.warn(\"`use_label_encoder` is deprecated in 1.7.0.\")\n"
          ]
        },
        {
          "output_type": "stream",
          "name": "stdout",
          "text": [
            "[CV 1/3] END xgbclassifier__colsample_bytree=0.6, xgbclassifier__max_depth=4, xgbclassifier__min_child_weight=8;, score=0.823 total time=   3.1s\n"
          ]
        },
        {
          "output_type": "stream",
          "name": "stderr",
          "text": [
            "/usr/local/lib/python3.8/dist-packages/xgboost/sklearn.py:1395: UserWarning: `use_label_encoder` is deprecated in 1.7.0.\n",
            "  warnings.warn(\"`use_label_encoder` is deprecated in 1.7.0.\")\n"
          ]
        },
        {
          "output_type": "stream",
          "name": "stdout",
          "text": [
            "[CV 2/3] END xgbclassifier__colsample_bytree=0.6, xgbclassifier__max_depth=4, xgbclassifier__min_child_weight=8;, score=0.822 total time=   4.5s\n"
          ]
        },
        {
          "output_type": "stream",
          "name": "stderr",
          "text": [
            "/usr/local/lib/python3.8/dist-packages/xgboost/sklearn.py:1395: UserWarning: `use_label_encoder` is deprecated in 1.7.0.\n",
            "  warnings.warn(\"`use_label_encoder` is deprecated in 1.7.0.\")\n"
          ]
        },
        {
          "output_type": "stream",
          "name": "stdout",
          "text": [
            "[CV 3/3] END xgbclassifier__colsample_bytree=0.6, xgbclassifier__max_depth=4, xgbclassifier__min_child_weight=8;, score=0.816 total time=   3.0s\n"
          ]
        },
        {
          "output_type": "stream",
          "name": "stderr",
          "text": [
            "/usr/local/lib/python3.8/dist-packages/xgboost/sklearn.py:1395: UserWarning: `use_label_encoder` is deprecated in 1.7.0.\n",
            "  warnings.warn(\"`use_label_encoder` is deprecated in 1.7.0.\")\n"
          ]
        },
        {
          "output_type": "stream",
          "name": "stdout",
          "text": [
            "[CV 1/3] END xgbclassifier__colsample_bytree=0.6, xgbclassifier__max_depth=6, xgbclassifier__min_child_weight=2;, score=0.819 total time=   4.8s\n"
          ]
        },
        {
          "output_type": "stream",
          "name": "stderr",
          "text": [
            "/usr/local/lib/python3.8/dist-packages/xgboost/sklearn.py:1395: UserWarning: `use_label_encoder` is deprecated in 1.7.0.\n",
            "  warnings.warn(\"`use_label_encoder` is deprecated in 1.7.0.\")\n"
          ]
        },
        {
          "output_type": "stream",
          "name": "stdout",
          "text": [
            "[CV 2/3] END xgbclassifier__colsample_bytree=0.6, xgbclassifier__max_depth=6, xgbclassifier__min_child_weight=2;, score=0.818 total time=   6.3s\n"
          ]
        },
        {
          "output_type": "stream",
          "name": "stderr",
          "text": [
            "/usr/local/lib/python3.8/dist-packages/xgboost/sklearn.py:1395: UserWarning: `use_label_encoder` is deprecated in 1.7.0.\n",
            "  warnings.warn(\"`use_label_encoder` is deprecated in 1.7.0.\")\n"
          ]
        },
        {
          "output_type": "stream",
          "name": "stdout",
          "text": [
            "[CV 3/3] END xgbclassifier__colsample_bytree=0.6, xgbclassifier__max_depth=6, xgbclassifier__min_child_weight=2;, score=0.811 total time=   8.9s\n"
          ]
        },
        {
          "output_type": "stream",
          "name": "stderr",
          "text": [
            "/usr/local/lib/python3.8/dist-packages/xgboost/sklearn.py:1395: UserWarning: `use_label_encoder` is deprecated in 1.7.0.\n",
            "  warnings.warn(\"`use_label_encoder` is deprecated in 1.7.0.\")\n"
          ]
        },
        {
          "output_type": "stream",
          "name": "stdout",
          "text": [
            "[CV 1/3] END xgbclassifier__colsample_bytree=0.6, xgbclassifier__max_depth=6, xgbclassifier__min_child_weight=4;, score=0.820 total time=   8.7s\n"
          ]
        },
        {
          "output_type": "stream",
          "name": "stderr",
          "text": [
            "/usr/local/lib/python3.8/dist-packages/xgboost/sklearn.py:1395: UserWarning: `use_label_encoder` is deprecated in 1.7.0.\n",
            "  warnings.warn(\"`use_label_encoder` is deprecated in 1.7.0.\")\n"
          ]
        },
        {
          "output_type": "stream",
          "name": "stdout",
          "text": [
            "[CV 2/3] END xgbclassifier__colsample_bytree=0.6, xgbclassifier__max_depth=6, xgbclassifier__min_child_weight=4;, score=0.819 total time=   9.5s\n"
          ]
        },
        {
          "output_type": "stream",
          "name": "stderr",
          "text": [
            "/usr/local/lib/python3.8/dist-packages/xgboost/sklearn.py:1395: UserWarning: `use_label_encoder` is deprecated in 1.7.0.\n",
            "  warnings.warn(\"`use_label_encoder` is deprecated in 1.7.0.\")\n"
          ]
        },
        {
          "output_type": "stream",
          "name": "stdout",
          "text": [
            "[CV 3/3] END xgbclassifier__colsample_bytree=0.6, xgbclassifier__max_depth=6, xgbclassifier__min_child_weight=4;, score=0.813 total time=  10.4s\n"
          ]
        },
        {
          "output_type": "stream",
          "name": "stderr",
          "text": [
            "/usr/local/lib/python3.8/dist-packages/xgboost/sklearn.py:1395: UserWarning: `use_label_encoder` is deprecated in 1.7.0.\n",
            "  warnings.warn(\"`use_label_encoder` is deprecated in 1.7.0.\")\n"
          ]
        },
        {
          "output_type": "stream",
          "name": "stdout",
          "text": [
            "[CV 1/3] END xgbclassifier__colsample_bytree=0.6, xgbclassifier__max_depth=6, xgbclassifier__min_child_weight=8;, score=0.820 total time=   4.8s\n"
          ]
        },
        {
          "output_type": "stream",
          "name": "stderr",
          "text": [
            "/usr/local/lib/python3.8/dist-packages/xgboost/sklearn.py:1395: UserWarning: `use_label_encoder` is deprecated in 1.7.0.\n",
            "  warnings.warn(\"`use_label_encoder` is deprecated in 1.7.0.\")\n"
          ]
        },
        {
          "output_type": "stream",
          "name": "stdout",
          "text": [
            "[CV 2/3] END xgbclassifier__colsample_bytree=0.6, xgbclassifier__max_depth=6, xgbclassifier__min_child_weight=8;, score=0.819 total time=   6.1s\n"
          ]
        },
        {
          "output_type": "stream",
          "name": "stderr",
          "text": [
            "/usr/local/lib/python3.8/dist-packages/xgboost/sklearn.py:1395: UserWarning: `use_label_encoder` is deprecated in 1.7.0.\n",
            "  warnings.warn(\"`use_label_encoder` is deprecated in 1.7.0.\")\n"
          ]
        },
        {
          "output_type": "stream",
          "name": "stdout",
          "text": [
            "[CV 3/3] END xgbclassifier__colsample_bytree=0.6, xgbclassifier__max_depth=6, xgbclassifier__min_child_weight=8;, score=0.813 total time=   4.7s\n"
          ]
        },
        {
          "output_type": "stream",
          "name": "stderr",
          "text": [
            "/usr/local/lib/python3.8/dist-packages/xgboost/sklearn.py:1395: UserWarning: `use_label_encoder` is deprecated in 1.7.0.\n",
            "  warnings.warn(\"`use_label_encoder` is deprecated in 1.7.0.\")\n"
          ]
        },
        {
          "output_type": "stream",
          "name": "stdout",
          "text": [
            "[CV 1/3] END xgbclassifier__colsample_bytree=0.8, xgbclassifier__max_depth=2, xgbclassifier__min_child_weight=2;, score=0.820 total time=   2.1s\n"
          ]
        },
        {
          "output_type": "stream",
          "name": "stderr",
          "text": [
            "/usr/local/lib/python3.8/dist-packages/xgboost/sklearn.py:1395: UserWarning: `use_label_encoder` is deprecated in 1.7.0.\n",
            "  warnings.warn(\"`use_label_encoder` is deprecated in 1.7.0.\")\n"
          ]
        },
        {
          "output_type": "stream",
          "name": "stdout",
          "text": [
            "[CV 2/3] END xgbclassifier__colsample_bytree=0.8, xgbclassifier__max_depth=2, xgbclassifier__min_child_weight=2;, score=0.819 total time=   3.2s\n"
          ]
        },
        {
          "output_type": "stream",
          "name": "stderr",
          "text": [
            "/usr/local/lib/python3.8/dist-packages/xgboost/sklearn.py:1395: UserWarning: `use_label_encoder` is deprecated in 1.7.0.\n",
            "  warnings.warn(\"`use_label_encoder` is deprecated in 1.7.0.\")\n"
          ]
        },
        {
          "output_type": "stream",
          "name": "stdout",
          "text": [
            "[CV 3/3] END xgbclassifier__colsample_bytree=0.8, xgbclassifier__max_depth=2, xgbclassifier__min_child_weight=2;, score=0.813 total time=   2.0s\n"
          ]
        },
        {
          "output_type": "stream",
          "name": "stderr",
          "text": [
            "/usr/local/lib/python3.8/dist-packages/xgboost/sklearn.py:1395: UserWarning: `use_label_encoder` is deprecated in 1.7.0.\n",
            "  warnings.warn(\"`use_label_encoder` is deprecated in 1.7.0.\")\n"
          ]
        },
        {
          "output_type": "stream",
          "name": "stdout",
          "text": [
            "[CV 1/3] END xgbclassifier__colsample_bytree=0.8, xgbclassifier__max_depth=2, xgbclassifier__min_child_weight=4;, score=0.820 total time=   2.0s\n"
          ]
        },
        {
          "output_type": "stream",
          "name": "stderr",
          "text": [
            "/usr/local/lib/python3.8/dist-packages/xgboost/sklearn.py:1395: UserWarning: `use_label_encoder` is deprecated in 1.7.0.\n",
            "  warnings.warn(\"`use_label_encoder` is deprecated in 1.7.0.\")\n"
          ]
        },
        {
          "output_type": "stream",
          "name": "stdout",
          "text": [
            "[CV 2/3] END xgbclassifier__colsample_bytree=0.8, xgbclassifier__max_depth=2, xgbclassifier__min_child_weight=4;, score=0.819 total time=   2.0s\n"
          ]
        },
        {
          "output_type": "stream",
          "name": "stderr",
          "text": [
            "/usr/local/lib/python3.8/dist-packages/xgboost/sklearn.py:1395: UserWarning: `use_label_encoder` is deprecated in 1.7.0.\n",
            "  warnings.warn(\"`use_label_encoder` is deprecated in 1.7.0.\")\n"
          ]
        },
        {
          "output_type": "stream",
          "name": "stdout",
          "text": [
            "[CV 3/3] END xgbclassifier__colsample_bytree=0.8, xgbclassifier__max_depth=2, xgbclassifier__min_child_weight=4;, score=0.813 total time=   2.0s\n"
          ]
        },
        {
          "output_type": "stream",
          "name": "stderr",
          "text": [
            "/usr/local/lib/python3.8/dist-packages/xgboost/sklearn.py:1395: UserWarning: `use_label_encoder` is deprecated in 1.7.0.\n",
            "  warnings.warn(\"`use_label_encoder` is deprecated in 1.7.0.\")\n"
          ]
        },
        {
          "output_type": "stream",
          "name": "stdout",
          "text": [
            "[CV 1/3] END xgbclassifier__colsample_bytree=0.8, xgbclassifier__max_depth=2, xgbclassifier__min_child_weight=8;, score=0.821 total time=   3.4s\n"
          ]
        },
        {
          "output_type": "stream",
          "name": "stderr",
          "text": [
            "/usr/local/lib/python3.8/dist-packages/xgboost/sklearn.py:1395: UserWarning: `use_label_encoder` is deprecated in 1.7.0.\n",
            "  warnings.warn(\"`use_label_encoder` is deprecated in 1.7.0.\")\n"
          ]
        },
        {
          "output_type": "stream",
          "name": "stdout",
          "text": [
            "[CV 2/3] END xgbclassifier__colsample_bytree=0.8, xgbclassifier__max_depth=2, xgbclassifier__min_child_weight=8;, score=0.818 total time=   2.0s\n"
          ]
        },
        {
          "output_type": "stream",
          "name": "stderr",
          "text": [
            "/usr/local/lib/python3.8/dist-packages/xgboost/sklearn.py:1395: UserWarning: `use_label_encoder` is deprecated in 1.7.0.\n",
            "  warnings.warn(\"`use_label_encoder` is deprecated in 1.7.0.\")\n"
          ]
        },
        {
          "output_type": "stream",
          "name": "stdout",
          "text": [
            "[CV 3/3] END xgbclassifier__colsample_bytree=0.8, xgbclassifier__max_depth=2, xgbclassifier__min_child_weight=8;, score=0.813 total time=   2.0s\n"
          ]
        },
        {
          "output_type": "stream",
          "name": "stderr",
          "text": [
            "/usr/local/lib/python3.8/dist-packages/xgboost/sklearn.py:1395: UserWarning: `use_label_encoder` is deprecated in 1.7.0.\n",
            "  warnings.warn(\"`use_label_encoder` is deprecated in 1.7.0.\")\n"
          ]
        },
        {
          "output_type": "stream",
          "name": "stdout",
          "text": [
            "[CV 1/3] END xgbclassifier__colsample_bytree=0.8, xgbclassifier__max_depth=4, xgbclassifier__min_child_weight=2;, score=0.822 total time=   3.6s\n"
          ]
        },
        {
          "output_type": "stream",
          "name": "stderr",
          "text": [
            "/usr/local/lib/python3.8/dist-packages/xgboost/sklearn.py:1395: UserWarning: `use_label_encoder` is deprecated in 1.7.0.\n",
            "  warnings.warn(\"`use_label_encoder` is deprecated in 1.7.0.\")\n"
          ]
        },
        {
          "output_type": "stream",
          "name": "stdout",
          "text": [
            "[CV 2/3] END xgbclassifier__colsample_bytree=0.8, xgbclassifier__max_depth=4, xgbclassifier__min_child_weight=2;, score=0.822 total time=   5.0s\n"
          ]
        },
        {
          "output_type": "stream",
          "name": "stderr",
          "text": [
            "/usr/local/lib/python3.8/dist-packages/xgboost/sklearn.py:1395: UserWarning: `use_label_encoder` is deprecated in 1.7.0.\n",
            "  warnings.warn(\"`use_label_encoder` is deprecated in 1.7.0.\")\n"
          ]
        },
        {
          "output_type": "stream",
          "name": "stdout",
          "text": [
            "[CV 3/3] END xgbclassifier__colsample_bytree=0.8, xgbclassifier__max_depth=4, xgbclassifier__min_child_weight=2;, score=0.816 total time=   3.6s\n"
          ]
        },
        {
          "output_type": "stream",
          "name": "stderr",
          "text": [
            "/usr/local/lib/python3.8/dist-packages/xgboost/sklearn.py:1395: UserWarning: `use_label_encoder` is deprecated in 1.7.0.\n",
            "  warnings.warn(\"`use_label_encoder` is deprecated in 1.7.0.\")\n"
          ]
        },
        {
          "output_type": "stream",
          "name": "stdout",
          "text": [
            "[CV 1/3] END xgbclassifier__colsample_bytree=0.8, xgbclassifier__max_depth=4, xgbclassifier__min_child_weight=4;, score=0.822 total time=   3.6s\n"
          ]
        },
        {
          "output_type": "stream",
          "name": "stderr",
          "text": [
            "/usr/local/lib/python3.8/dist-packages/xgboost/sklearn.py:1395: UserWarning: `use_label_encoder` is deprecated in 1.7.0.\n",
            "  warnings.warn(\"`use_label_encoder` is deprecated in 1.7.0.\")\n"
          ]
        },
        {
          "output_type": "stream",
          "name": "stdout",
          "text": [
            "[CV 2/3] END xgbclassifier__colsample_bytree=0.8, xgbclassifier__max_depth=4, xgbclassifier__min_child_weight=4;, score=0.822 total time=   6.3s\n"
          ]
        },
        {
          "output_type": "stream",
          "name": "stderr",
          "text": [
            "/usr/local/lib/python3.8/dist-packages/xgboost/sklearn.py:1395: UserWarning: `use_label_encoder` is deprecated in 1.7.0.\n",
            "  warnings.warn(\"`use_label_encoder` is deprecated in 1.7.0.\")\n"
          ]
        },
        {
          "output_type": "stream",
          "name": "stdout",
          "text": [
            "[CV 3/3] END xgbclassifier__colsample_bytree=0.8, xgbclassifier__max_depth=4, xgbclassifier__min_child_weight=4;, score=0.816 total time=   3.7s\n"
          ]
        },
        {
          "output_type": "stream",
          "name": "stderr",
          "text": [
            "/usr/local/lib/python3.8/dist-packages/xgboost/sklearn.py:1395: UserWarning: `use_label_encoder` is deprecated in 1.7.0.\n",
            "  warnings.warn(\"`use_label_encoder` is deprecated in 1.7.0.\")\n"
          ]
        },
        {
          "output_type": "stream",
          "name": "stdout",
          "text": [
            "[CV 1/3] END xgbclassifier__colsample_bytree=0.8, xgbclassifier__max_depth=4, xgbclassifier__min_child_weight=8;, score=0.822 total time=   3.6s\n"
          ]
        },
        {
          "output_type": "stream",
          "name": "stderr",
          "text": [
            "/usr/local/lib/python3.8/dist-packages/xgboost/sklearn.py:1395: UserWarning: `use_label_encoder` is deprecated in 1.7.0.\n",
            "  warnings.warn(\"`use_label_encoder` is deprecated in 1.7.0.\")\n"
          ]
        },
        {
          "output_type": "stream",
          "name": "stdout",
          "text": [
            "[CV 2/3] END xgbclassifier__colsample_bytree=0.8, xgbclassifier__max_depth=4, xgbclassifier__min_child_weight=8;, score=0.822 total time=   4.9s\n"
          ]
        },
        {
          "output_type": "stream",
          "name": "stderr",
          "text": [
            "/usr/local/lib/python3.8/dist-packages/xgboost/sklearn.py:1395: UserWarning: `use_label_encoder` is deprecated in 1.7.0.\n",
            "  warnings.warn(\"`use_label_encoder` is deprecated in 1.7.0.\")\n"
          ]
        },
        {
          "output_type": "stream",
          "name": "stdout",
          "text": [
            "[CV 3/3] END xgbclassifier__colsample_bytree=0.8, xgbclassifier__max_depth=4, xgbclassifier__min_child_weight=8;, score=0.816 total time=   3.6s\n"
          ]
        },
        {
          "output_type": "stream",
          "name": "stderr",
          "text": [
            "/usr/local/lib/python3.8/dist-packages/xgboost/sklearn.py:1395: UserWarning: `use_label_encoder` is deprecated in 1.7.0.\n",
            "  warnings.warn(\"`use_label_encoder` is deprecated in 1.7.0.\")\n"
          ]
        },
        {
          "output_type": "stream",
          "name": "stdout",
          "text": [
            "[CV 1/3] END xgbclassifier__colsample_bytree=0.8, xgbclassifier__max_depth=6, xgbclassifier__min_child_weight=2;, score=0.818 total time=   7.1s\n"
          ]
        },
        {
          "output_type": "stream",
          "name": "stderr",
          "text": [
            "/usr/local/lib/python3.8/dist-packages/xgboost/sklearn.py:1395: UserWarning: `use_label_encoder` is deprecated in 1.7.0.\n",
            "  warnings.warn(\"`use_label_encoder` is deprecated in 1.7.0.\")\n"
          ]
        },
        {
          "output_type": "stream",
          "name": "stdout",
          "text": [
            "[CV 2/3] END xgbclassifier__colsample_bytree=0.8, xgbclassifier__max_depth=6, xgbclassifier__min_child_weight=2;, score=0.816 total time=   5.6s\n"
          ]
        },
        {
          "output_type": "stream",
          "name": "stderr",
          "text": [
            "/usr/local/lib/python3.8/dist-packages/xgboost/sklearn.py:1395: UserWarning: `use_label_encoder` is deprecated in 1.7.0.\n",
            "  warnings.warn(\"`use_label_encoder` is deprecated in 1.7.0.\")\n"
          ]
        },
        {
          "output_type": "stream",
          "name": "stdout",
          "text": [
            "[CV 3/3] END xgbclassifier__colsample_bytree=0.8, xgbclassifier__max_depth=6, xgbclassifier__min_child_weight=2;, score=0.810 total time=   7.6s\n"
          ]
        },
        {
          "output_type": "stream",
          "name": "stderr",
          "text": [
            "/usr/local/lib/python3.8/dist-packages/xgboost/sklearn.py:1395: UserWarning: `use_label_encoder` is deprecated in 1.7.0.\n",
            "  warnings.warn(\"`use_label_encoder` is deprecated in 1.7.0.\")\n"
          ]
        },
        {
          "output_type": "stream",
          "name": "stdout",
          "text": [
            "[CV 1/3] END xgbclassifier__colsample_bytree=0.8, xgbclassifier__max_depth=6, xgbclassifier__min_child_weight=4;, score=0.818 total time=  11.8s\n"
          ]
        },
        {
          "output_type": "stream",
          "name": "stderr",
          "text": [
            "/usr/local/lib/python3.8/dist-packages/xgboost/sklearn.py:1395: UserWarning: `use_label_encoder` is deprecated in 1.7.0.\n",
            "  warnings.warn(\"`use_label_encoder` is deprecated in 1.7.0.\")\n"
          ]
        },
        {
          "output_type": "stream",
          "name": "stdout",
          "text": [
            "[CV 2/3] END xgbclassifier__colsample_bytree=0.8, xgbclassifier__max_depth=6, xgbclassifier__min_child_weight=4;, score=0.817 total time=  10.6s\n"
          ]
        },
        {
          "output_type": "stream",
          "name": "stderr",
          "text": [
            "/usr/local/lib/python3.8/dist-packages/xgboost/sklearn.py:1395: UserWarning: `use_label_encoder` is deprecated in 1.7.0.\n",
            "  warnings.warn(\"`use_label_encoder` is deprecated in 1.7.0.\")\n"
          ]
        },
        {
          "output_type": "stream",
          "name": "stdout",
          "text": [
            "[CV 3/3] END xgbclassifier__colsample_bytree=0.8, xgbclassifier__max_depth=6, xgbclassifier__min_child_weight=4;, score=0.810 total time=  10.7s\n"
          ]
        },
        {
          "output_type": "stream",
          "name": "stderr",
          "text": [
            "/usr/local/lib/python3.8/dist-packages/xgboost/sklearn.py:1395: UserWarning: `use_label_encoder` is deprecated in 1.7.0.\n",
            "  warnings.warn(\"`use_label_encoder` is deprecated in 1.7.0.\")\n"
          ]
        },
        {
          "output_type": "stream",
          "name": "stdout",
          "text": [
            "[CV 1/3] END xgbclassifier__colsample_bytree=0.8, xgbclassifier__max_depth=6, xgbclassifier__min_child_weight=8;, score=0.819 total time=   5.5s\n"
          ]
        },
        {
          "output_type": "stream",
          "name": "stderr",
          "text": [
            "/usr/local/lib/python3.8/dist-packages/xgboost/sklearn.py:1395: UserWarning: `use_label_encoder` is deprecated in 1.7.0.\n",
            "  warnings.warn(\"`use_label_encoder` is deprecated in 1.7.0.\")\n"
          ]
        },
        {
          "output_type": "stream",
          "name": "stdout",
          "text": [
            "[CV 2/3] END xgbclassifier__colsample_bytree=0.8, xgbclassifier__max_depth=6, xgbclassifier__min_child_weight=8;, score=0.819 total time=   7.0s\n"
          ]
        },
        {
          "output_type": "stream",
          "name": "stderr",
          "text": [
            "/usr/local/lib/python3.8/dist-packages/xgboost/sklearn.py:1395: UserWarning: `use_label_encoder` is deprecated in 1.7.0.\n",
            "  warnings.warn(\"`use_label_encoder` is deprecated in 1.7.0.\")\n"
          ]
        },
        {
          "output_type": "stream",
          "name": "stdout",
          "text": [
            "[CV 3/3] END xgbclassifier__colsample_bytree=0.8, xgbclassifier__max_depth=6, xgbclassifier__min_child_weight=8;, score=0.811 total time=  10.4s\n"
          ]
        },
        {
          "output_type": "stream",
          "name": "stderr",
          "text": [
            "/usr/local/lib/python3.8/dist-packages/xgboost/sklearn.py:1395: UserWarning: `use_label_encoder` is deprecated in 1.7.0.\n",
            "  warnings.warn(\"`use_label_encoder` is deprecated in 1.7.0.\")\n"
          ]
        },
        {
          "output_type": "stream",
          "name": "stdout",
          "text": [
            "[CV 1/3] END xgbclassifier__colsample_bytree=1.0, xgbclassifier__max_depth=2, xgbclassifier__min_child_weight=2;, score=0.820 total time=   2.9s\n"
          ]
        },
        {
          "output_type": "stream",
          "name": "stderr",
          "text": [
            "/usr/local/lib/python3.8/dist-packages/xgboost/sklearn.py:1395: UserWarning: `use_label_encoder` is deprecated in 1.7.0.\n",
            "  warnings.warn(\"`use_label_encoder` is deprecated in 1.7.0.\")\n"
          ]
        },
        {
          "output_type": "stream",
          "name": "stdout",
          "text": [
            "[CV 2/3] END xgbclassifier__colsample_bytree=1.0, xgbclassifier__max_depth=2, xgbclassifier__min_child_weight=2;, score=0.818 total time=   2.3s\n"
          ]
        },
        {
          "output_type": "stream",
          "name": "stderr",
          "text": [
            "/usr/local/lib/python3.8/dist-packages/xgboost/sklearn.py:1395: UserWarning: `use_label_encoder` is deprecated in 1.7.0.\n",
            "  warnings.warn(\"`use_label_encoder` is deprecated in 1.7.0.\")\n"
          ]
        },
        {
          "output_type": "stream",
          "name": "stdout",
          "text": [
            "[CV 3/3] END xgbclassifier__colsample_bytree=1.0, xgbclassifier__max_depth=2, xgbclassifier__min_child_weight=2;, score=0.812 total time=   2.3s\n"
          ]
        },
        {
          "output_type": "stream",
          "name": "stderr",
          "text": [
            "/usr/local/lib/python3.8/dist-packages/xgboost/sklearn.py:1395: UserWarning: `use_label_encoder` is deprecated in 1.7.0.\n",
            "  warnings.warn(\"`use_label_encoder` is deprecated in 1.7.0.\")\n"
          ]
        },
        {
          "output_type": "stream",
          "name": "stdout",
          "text": [
            "[CV 1/3] END xgbclassifier__colsample_bytree=1.0, xgbclassifier__max_depth=2, xgbclassifier__min_child_weight=4;, score=0.820 total time=   2.4s\n"
          ]
        },
        {
          "output_type": "stream",
          "name": "stderr",
          "text": [
            "/usr/local/lib/python3.8/dist-packages/xgboost/sklearn.py:1395: UserWarning: `use_label_encoder` is deprecated in 1.7.0.\n",
            "  warnings.warn(\"`use_label_encoder` is deprecated in 1.7.0.\")\n"
          ]
        },
        {
          "output_type": "stream",
          "name": "stdout",
          "text": [
            "[CV 2/3] END xgbclassifier__colsample_bytree=1.0, xgbclassifier__max_depth=2, xgbclassifier__min_child_weight=4;, score=0.818 total time=   5.0s\n"
          ]
        },
        {
          "output_type": "stream",
          "name": "stderr",
          "text": [
            "/usr/local/lib/python3.8/dist-packages/xgboost/sklearn.py:1395: UserWarning: `use_label_encoder` is deprecated in 1.7.0.\n",
            "  warnings.warn(\"`use_label_encoder` is deprecated in 1.7.0.\")\n"
          ]
        },
        {
          "output_type": "stream",
          "name": "stdout",
          "text": [
            "[CV 3/3] END xgbclassifier__colsample_bytree=1.0, xgbclassifier__max_depth=2, xgbclassifier__min_child_weight=4;, score=0.812 total time=   3.6s\n"
          ]
        },
        {
          "output_type": "stream",
          "name": "stderr",
          "text": [
            "/usr/local/lib/python3.8/dist-packages/xgboost/sklearn.py:1395: UserWarning: `use_label_encoder` is deprecated in 1.7.0.\n",
            "  warnings.warn(\"`use_label_encoder` is deprecated in 1.7.0.\")\n"
          ]
        },
        {
          "output_type": "stream",
          "name": "stdout",
          "text": [
            "[CV 1/3] END xgbclassifier__colsample_bytree=1.0, xgbclassifier__max_depth=2, xgbclassifier__min_child_weight=8;, score=0.820 total time=   2.3s\n"
          ]
        },
        {
          "output_type": "stream",
          "name": "stderr",
          "text": [
            "/usr/local/lib/python3.8/dist-packages/xgboost/sklearn.py:1395: UserWarning: `use_label_encoder` is deprecated in 1.7.0.\n",
            "  warnings.warn(\"`use_label_encoder` is deprecated in 1.7.0.\")\n"
          ]
        },
        {
          "output_type": "stream",
          "name": "stdout",
          "text": [
            "[CV 2/3] END xgbclassifier__colsample_bytree=1.0, xgbclassifier__max_depth=2, xgbclassifier__min_child_weight=8;, score=0.818 total time=   3.6s\n"
          ]
        },
        {
          "output_type": "stream",
          "name": "stderr",
          "text": [
            "/usr/local/lib/python3.8/dist-packages/xgboost/sklearn.py:1395: UserWarning: `use_label_encoder` is deprecated in 1.7.0.\n",
            "  warnings.warn(\"`use_label_encoder` is deprecated in 1.7.0.\")\n"
          ]
        },
        {
          "output_type": "stream",
          "name": "stdout",
          "text": [
            "[CV 3/3] END xgbclassifier__colsample_bytree=1.0, xgbclassifier__max_depth=2, xgbclassifier__min_child_weight=8;, score=0.812 total time=   2.3s\n"
          ]
        },
        {
          "output_type": "stream",
          "name": "stderr",
          "text": [
            "/usr/local/lib/python3.8/dist-packages/xgboost/sklearn.py:1395: UserWarning: `use_label_encoder` is deprecated in 1.7.0.\n",
            "  warnings.warn(\"`use_label_encoder` is deprecated in 1.7.0.\")\n"
          ]
        },
        {
          "output_type": "stream",
          "name": "stdout",
          "text": [
            "[CV 1/3] END xgbclassifier__colsample_bytree=1.0, xgbclassifier__max_depth=4, xgbclassifier__min_child_weight=2;, score=0.821 total time=   4.3s\n"
          ]
        },
        {
          "output_type": "stream",
          "name": "stderr",
          "text": [
            "/usr/local/lib/python3.8/dist-packages/xgboost/sklearn.py:1395: UserWarning: `use_label_encoder` is deprecated in 1.7.0.\n",
            "  warnings.warn(\"`use_label_encoder` is deprecated in 1.7.0.\")\n"
          ]
        },
        {
          "output_type": "stream",
          "name": "stdout",
          "text": [
            "[CV 2/3] END xgbclassifier__colsample_bytree=1.0, xgbclassifier__max_depth=4, xgbclassifier__min_child_weight=2;, score=0.822 total time=   5.6s\n"
          ]
        },
        {
          "output_type": "stream",
          "name": "stderr",
          "text": [
            "/usr/local/lib/python3.8/dist-packages/xgboost/sklearn.py:1395: UserWarning: `use_label_encoder` is deprecated in 1.7.0.\n",
            "  warnings.warn(\"`use_label_encoder` is deprecated in 1.7.0.\")\n"
          ]
        },
        {
          "output_type": "stream",
          "name": "stdout",
          "text": [
            "[CV 3/3] END xgbclassifier__colsample_bytree=1.0, xgbclassifier__max_depth=4, xgbclassifier__min_child_weight=2;, score=0.815 total time=   4.2s\n"
          ]
        },
        {
          "output_type": "stream",
          "name": "stderr",
          "text": [
            "/usr/local/lib/python3.8/dist-packages/xgboost/sklearn.py:1395: UserWarning: `use_label_encoder` is deprecated in 1.7.0.\n",
            "  warnings.warn(\"`use_label_encoder` is deprecated in 1.7.0.\")\n"
          ]
        },
        {
          "output_type": "stream",
          "name": "stdout",
          "text": [
            "[CV 1/3] END xgbclassifier__colsample_bytree=1.0, xgbclassifier__max_depth=4, xgbclassifier__min_child_weight=4;, score=0.822 total time=   4.2s\n"
          ]
        },
        {
          "output_type": "stream",
          "name": "stderr",
          "text": [
            "/usr/local/lib/python3.8/dist-packages/xgboost/sklearn.py:1395: UserWarning: `use_label_encoder` is deprecated in 1.7.0.\n",
            "  warnings.warn(\"`use_label_encoder` is deprecated in 1.7.0.\")\n"
          ]
        },
        {
          "output_type": "stream",
          "name": "stdout",
          "text": [
            "[CV 2/3] END xgbclassifier__colsample_bytree=1.0, xgbclassifier__max_depth=4, xgbclassifier__min_child_weight=4;, score=0.820 total time=   5.7s\n"
          ]
        },
        {
          "output_type": "stream",
          "name": "stderr",
          "text": [
            "/usr/local/lib/python3.8/dist-packages/xgboost/sklearn.py:1395: UserWarning: `use_label_encoder` is deprecated in 1.7.0.\n",
            "  warnings.warn(\"`use_label_encoder` is deprecated in 1.7.0.\")\n"
          ]
        },
        {
          "output_type": "stream",
          "name": "stdout",
          "text": [
            "[CV 3/3] END xgbclassifier__colsample_bytree=1.0, xgbclassifier__max_depth=4, xgbclassifier__min_child_weight=4;, score=0.815 total time=   4.8s\n"
          ]
        },
        {
          "output_type": "stream",
          "name": "stderr",
          "text": [
            "/usr/local/lib/python3.8/dist-packages/xgboost/sklearn.py:1395: UserWarning: `use_label_encoder` is deprecated in 1.7.0.\n",
            "  warnings.warn(\"`use_label_encoder` is deprecated in 1.7.0.\")\n"
          ]
        },
        {
          "output_type": "stream",
          "name": "stdout",
          "text": [
            "[CV 1/3] END xgbclassifier__colsample_bytree=1.0, xgbclassifier__max_depth=4, xgbclassifier__min_child_weight=8;, score=0.821 total time=   5.6s\n"
          ]
        },
        {
          "output_type": "stream",
          "name": "stderr",
          "text": [
            "/usr/local/lib/python3.8/dist-packages/xgboost/sklearn.py:1395: UserWarning: `use_label_encoder` is deprecated in 1.7.0.\n",
            "  warnings.warn(\"`use_label_encoder` is deprecated in 1.7.0.\")\n"
          ]
        },
        {
          "output_type": "stream",
          "name": "stdout",
          "text": [
            "[CV 2/3] END xgbclassifier__colsample_bytree=1.0, xgbclassifier__max_depth=4, xgbclassifier__min_child_weight=8;, score=0.822 total time=   4.1s\n"
          ]
        },
        {
          "output_type": "stream",
          "name": "stderr",
          "text": [
            "/usr/local/lib/python3.8/dist-packages/xgboost/sklearn.py:1395: UserWarning: `use_label_encoder` is deprecated in 1.7.0.\n",
            "  warnings.warn(\"`use_label_encoder` is deprecated in 1.7.0.\")\n"
          ]
        },
        {
          "output_type": "stream",
          "name": "stdout",
          "text": [
            "[CV 3/3] END xgbclassifier__colsample_bytree=1.0, xgbclassifier__max_depth=4, xgbclassifier__min_child_weight=8;, score=0.816 total time=   5.5s\n"
          ]
        },
        {
          "output_type": "stream",
          "name": "stderr",
          "text": [
            "/usr/local/lib/python3.8/dist-packages/xgboost/sklearn.py:1395: UserWarning: `use_label_encoder` is deprecated in 1.7.0.\n",
            "  warnings.warn(\"`use_label_encoder` is deprecated in 1.7.0.\")\n"
          ]
        },
        {
          "output_type": "stream",
          "name": "stdout",
          "text": [
            "[CV 1/3] END xgbclassifier__colsample_bytree=1.0, xgbclassifier__max_depth=6, xgbclassifier__min_child_weight=2;, score=0.816 total time=   6.8s\n"
          ]
        },
        {
          "output_type": "stream",
          "name": "stderr",
          "text": [
            "/usr/local/lib/python3.8/dist-packages/xgboost/sklearn.py:1395: UserWarning: `use_label_encoder` is deprecated in 1.7.0.\n",
            "  warnings.warn(\"`use_label_encoder` is deprecated in 1.7.0.\")\n"
          ]
        },
        {
          "output_type": "stream",
          "name": "stdout",
          "text": [
            "[CV 2/3] END xgbclassifier__colsample_bytree=1.0, xgbclassifier__max_depth=6, xgbclassifier__min_child_weight=2;, score=0.815 total time=  11.7s\n"
          ]
        },
        {
          "output_type": "stream",
          "name": "stderr",
          "text": [
            "/usr/local/lib/python3.8/dist-packages/xgboost/sklearn.py:1395: UserWarning: `use_label_encoder` is deprecated in 1.7.0.\n",
            "  warnings.warn(\"`use_label_encoder` is deprecated in 1.7.0.\")\n"
          ]
        },
        {
          "output_type": "stream",
          "name": "stdout",
          "text": [
            "[CV 3/3] END xgbclassifier__colsample_bytree=1.0, xgbclassifier__max_depth=6, xgbclassifier__min_child_weight=2;, score=0.809 total time=   8.1s\n"
          ]
        },
        {
          "output_type": "stream",
          "name": "stderr",
          "text": [
            "/usr/local/lib/python3.8/dist-packages/xgboost/sklearn.py:1395: UserWarning: `use_label_encoder` is deprecated in 1.7.0.\n",
            "  warnings.warn(\"`use_label_encoder` is deprecated in 1.7.0.\")\n"
          ]
        },
        {
          "output_type": "stream",
          "name": "stdout",
          "text": [
            "[CV 1/3] END xgbclassifier__colsample_bytree=1.0, xgbclassifier__max_depth=6, xgbclassifier__min_child_weight=4;, score=0.816 total time=  11.2s\n"
          ]
        },
        {
          "output_type": "stream",
          "name": "stderr",
          "text": [
            "/usr/local/lib/python3.8/dist-packages/xgboost/sklearn.py:1395: UserWarning: `use_label_encoder` is deprecated in 1.7.0.\n",
            "  warnings.warn(\"`use_label_encoder` is deprecated in 1.7.0.\")\n"
          ]
        },
        {
          "output_type": "stream",
          "name": "stdout",
          "text": [
            "[CV 2/3] END xgbclassifier__colsample_bytree=1.0, xgbclassifier__max_depth=6, xgbclassifier__min_child_weight=4;, score=0.817 total time=  12.8s\n"
          ]
        },
        {
          "output_type": "stream",
          "name": "stderr",
          "text": [
            "/usr/local/lib/python3.8/dist-packages/xgboost/sklearn.py:1395: UserWarning: `use_label_encoder` is deprecated in 1.7.0.\n",
            "  warnings.warn(\"`use_label_encoder` is deprecated in 1.7.0.\")\n"
          ]
        },
        {
          "output_type": "stream",
          "name": "stdout",
          "text": [
            "[CV 3/3] END xgbclassifier__colsample_bytree=1.0, xgbclassifier__max_depth=6, xgbclassifier__min_child_weight=4;, score=0.808 total time=  11.7s\n"
          ]
        },
        {
          "output_type": "stream",
          "name": "stderr",
          "text": [
            "/usr/local/lib/python3.8/dist-packages/xgboost/sklearn.py:1395: UserWarning: `use_label_encoder` is deprecated in 1.7.0.\n",
            "  warnings.warn(\"`use_label_encoder` is deprecated in 1.7.0.\")\n"
          ]
        },
        {
          "output_type": "stream",
          "name": "stdout",
          "text": [
            "[CV 1/3] END xgbclassifier__colsample_bytree=1.0, xgbclassifier__max_depth=6, xgbclassifier__min_child_weight=8;, score=0.819 total time=  11.1s\n"
          ]
        },
        {
          "output_type": "stream",
          "name": "stderr",
          "text": [
            "/usr/local/lib/python3.8/dist-packages/xgboost/sklearn.py:1395: UserWarning: `use_label_encoder` is deprecated in 1.7.0.\n",
            "  warnings.warn(\"`use_label_encoder` is deprecated in 1.7.0.\")\n"
          ]
        },
        {
          "output_type": "stream",
          "name": "stdout",
          "text": [
            "[CV 2/3] END xgbclassifier__colsample_bytree=1.0, xgbclassifier__max_depth=6, xgbclassifier__min_child_weight=8;, score=0.815 total time=  11.8s\n"
          ]
        },
        {
          "output_type": "stream",
          "name": "stderr",
          "text": [
            "/usr/local/lib/python3.8/dist-packages/xgboost/sklearn.py:1395: UserWarning: `use_label_encoder` is deprecated in 1.7.0.\n",
            "  warnings.warn(\"`use_label_encoder` is deprecated in 1.7.0.\")\n"
          ]
        },
        {
          "output_type": "stream",
          "name": "stdout",
          "text": [
            "[CV 3/3] END xgbclassifier__colsample_bytree=1.0, xgbclassifier__max_depth=6, xgbclassifier__min_child_weight=8;, score=0.811 total time=  10.6s\n"
          ]
        },
        {
          "output_type": "stream",
          "name": "stderr",
          "text": [
            "/usr/local/lib/python3.8/dist-packages/xgboost/sklearn.py:1395: UserWarning: `use_label_encoder` is deprecated in 1.7.0.\n",
            "  warnings.warn(\"`use_label_encoder` is deprecated in 1.7.0.\")\n"
          ]
        },
        {
          "output_type": "execute_result",
          "data": {
            "text/plain": [
              "GridSearchCV(cv=3,\n",
              "             estimator=Pipeline(steps=[('ordinalencoder', OrdinalEncoder()),\n",
              "                                       ('simpleimputer',\n",
              "                                        SimpleImputer(strategy='median')),\n",
              "                                       ('xgbclassifier',\n",
              "                                        XGBClassifier(base_score=None,\n",
              "                                                      booster=None,\n",
              "                                                      callbacks=None,\n",
              "                                                      colsample_bylevel=None,\n",
              "                                                      colsample_bynode=None,\n",
              "                                                      colsample_bytree=None,\n",
              "                                                      early_stopping_rounds=None,\n",
              "                                                      enable_categorical=False,\n",
              "                                                      eval_metric='error',\n",
              "                                                      featu...\n",
              "                                                      max_delta_step=None,\n",
              "                                                      max_depth=None,\n",
              "                                                      max_leaves=None,\n",
              "                                                      min_child_weight=None,\n",
              "                                                      missing=nan,\n",
              "                                                      monotone_constraints=None,\n",
              "                                                      n_estimators=200,\n",
              "                                                      n_jobs=-1,\n",
              "                                                      num_parallel_tree=None,\n",
              "                                                      predictor=None,\n",
              "                                                      random_state=42, ...))]),\n",
              "             param_grid={'xgbclassifier__colsample_bytree': [0.6, 0.8, 1.0],\n",
              "                         'xgbclassifier__max_depth': [2, 4, 6],\n",
              "                         'xgbclassifier__min_child_weight': [2, 4, 8]},\n",
              "             scoring='roc_auc', verbose=3)"
            ],
            "text/html": [
              "<style>#sk-container-id-3 {color: black;background-color: white;}#sk-container-id-3 pre{padding: 0;}#sk-container-id-3 div.sk-toggleable {background-color: white;}#sk-container-id-3 label.sk-toggleable__label {cursor: pointer;display: block;width: 100%;margin-bottom: 0;padding: 0.3em;box-sizing: border-box;text-align: center;}#sk-container-id-3 label.sk-toggleable__label-arrow:before {content: \"▸\";float: left;margin-right: 0.25em;color: #696969;}#sk-container-id-3 label.sk-toggleable__label-arrow:hover:before {color: black;}#sk-container-id-3 div.sk-estimator:hover label.sk-toggleable__label-arrow:before {color: black;}#sk-container-id-3 div.sk-toggleable__content {max-height: 0;max-width: 0;overflow: hidden;text-align: left;background-color: #f0f8ff;}#sk-container-id-3 div.sk-toggleable__content pre {margin: 0.2em;color: black;border-radius: 0.25em;background-color: #f0f8ff;}#sk-container-id-3 input.sk-toggleable__control:checked~div.sk-toggleable__content {max-height: 200px;max-width: 100%;overflow: auto;}#sk-container-id-3 input.sk-toggleable__control:checked~label.sk-toggleable__label-arrow:before {content: \"▾\";}#sk-container-id-3 div.sk-estimator input.sk-toggleable__control:checked~label.sk-toggleable__label {background-color: #d4ebff;}#sk-container-id-3 div.sk-label input.sk-toggleable__control:checked~label.sk-toggleable__label {background-color: #d4ebff;}#sk-container-id-3 input.sk-hidden--visually {border: 0;clip: rect(1px 1px 1px 1px);clip: rect(1px, 1px, 1px, 1px);height: 1px;margin: -1px;overflow: hidden;padding: 0;position: absolute;width: 1px;}#sk-container-id-3 div.sk-estimator {font-family: monospace;background-color: #f0f8ff;border: 1px dotted black;border-radius: 0.25em;box-sizing: border-box;margin-bottom: 0.5em;}#sk-container-id-3 div.sk-estimator:hover {background-color: #d4ebff;}#sk-container-id-3 div.sk-parallel-item::after {content: \"\";width: 100%;border-bottom: 1px solid gray;flex-grow: 1;}#sk-container-id-3 div.sk-label:hover label.sk-toggleable__label {background-color: #d4ebff;}#sk-container-id-3 div.sk-serial::before {content: \"\";position: absolute;border-left: 1px solid gray;box-sizing: border-box;top: 0;bottom: 0;left: 50%;z-index: 0;}#sk-container-id-3 div.sk-serial {display: flex;flex-direction: column;align-items: center;background-color: white;padding-right: 0.2em;padding-left: 0.2em;position: relative;}#sk-container-id-3 div.sk-item {position: relative;z-index: 1;}#sk-container-id-3 div.sk-parallel {display: flex;align-items: stretch;justify-content: center;background-color: white;position: relative;}#sk-container-id-3 div.sk-item::before, #sk-container-id-3 div.sk-parallel-item::before {content: \"\";position: absolute;border-left: 1px solid gray;box-sizing: border-box;top: 0;bottom: 0;left: 50%;z-index: -1;}#sk-container-id-3 div.sk-parallel-item {display: flex;flex-direction: column;z-index: 1;position: relative;background-color: white;}#sk-container-id-3 div.sk-parallel-item:first-child::after {align-self: flex-end;width: 50%;}#sk-container-id-3 div.sk-parallel-item:last-child::after {align-self: flex-start;width: 50%;}#sk-container-id-3 div.sk-parallel-item:only-child::after {width: 0;}#sk-container-id-3 div.sk-dashed-wrapped {border: 1px dashed gray;margin: 0 0.4em 0.5em 0.4em;box-sizing: border-box;padding-bottom: 0.4em;background-color: white;}#sk-container-id-3 div.sk-label label {font-family: monospace;font-weight: bold;display: inline-block;line-height: 1.2em;}#sk-container-id-3 div.sk-label-container {text-align: center;}#sk-container-id-3 div.sk-container {/* jupyter's `normalize.less` sets `[hidden] { display: none; }` but bootstrap.min.css set `[hidden] { display: none !important; }` so we also need the `!important` here to be able to override the default hidden behavior on the sphinx rendered scikit-learn.org. See: https://github.com/scikit-learn/scikit-learn/issues/21755 */display: inline-block !important;position: relative;}#sk-container-id-3 div.sk-text-repr-fallback {display: none;}</style><div id=\"sk-container-id-3\" class=\"sk-top-container\"><div class=\"sk-text-repr-fallback\"><pre>GridSearchCV(cv=3,\n",
              "             estimator=Pipeline(steps=[(&#x27;ordinalencoder&#x27;, OrdinalEncoder()),\n",
              "                                       (&#x27;simpleimputer&#x27;,\n",
              "                                        SimpleImputer(strategy=&#x27;median&#x27;)),\n",
              "                                       (&#x27;xgbclassifier&#x27;,\n",
              "                                        XGBClassifier(base_score=None,\n",
              "                                                      booster=None,\n",
              "                                                      callbacks=None,\n",
              "                                                      colsample_bylevel=None,\n",
              "                                                      colsample_bynode=None,\n",
              "                                                      colsample_bytree=None,\n",
              "                                                      early_stopping_rounds=None,\n",
              "                                                      enable_categorical=False,\n",
              "                                                      eval_metric=&#x27;error&#x27;,\n",
              "                                                      featu...\n",
              "                                                      max_delta_step=None,\n",
              "                                                      max_depth=None,\n",
              "                                                      max_leaves=None,\n",
              "                                                      min_child_weight=None,\n",
              "                                                      missing=nan,\n",
              "                                                      monotone_constraints=None,\n",
              "                                                      n_estimators=200,\n",
              "                                                      n_jobs=-1,\n",
              "                                                      num_parallel_tree=None,\n",
              "                                                      predictor=None,\n",
              "                                                      random_state=42, ...))]),\n",
              "             param_grid={&#x27;xgbclassifier__colsample_bytree&#x27;: [0.6, 0.8, 1.0],\n",
              "                         &#x27;xgbclassifier__max_depth&#x27;: [2, 4, 6],\n",
              "                         &#x27;xgbclassifier__min_child_weight&#x27;: [2, 4, 8]},\n",
              "             scoring=&#x27;roc_auc&#x27;, verbose=3)</pre><b>In a Jupyter environment, please rerun this cell to show the HTML representation or trust the notebook. <br />On GitHub, the HTML representation is unable to render, please try loading this page with nbviewer.org.</b></div><div class=\"sk-container\" hidden><div class=\"sk-item sk-dashed-wrapped\"><div class=\"sk-label-container\"><div class=\"sk-label sk-toggleable\"><input class=\"sk-toggleable__control sk-hidden--visually\" id=\"sk-estimator-id-11\" type=\"checkbox\" ><label for=\"sk-estimator-id-11\" class=\"sk-toggleable__label sk-toggleable__label-arrow\">GridSearchCV</label><div class=\"sk-toggleable__content\"><pre>GridSearchCV(cv=3,\n",
              "             estimator=Pipeline(steps=[(&#x27;ordinalencoder&#x27;, OrdinalEncoder()),\n",
              "                                       (&#x27;simpleimputer&#x27;,\n",
              "                                        SimpleImputer(strategy=&#x27;median&#x27;)),\n",
              "                                       (&#x27;xgbclassifier&#x27;,\n",
              "                                        XGBClassifier(base_score=None,\n",
              "                                                      booster=None,\n",
              "                                                      callbacks=None,\n",
              "                                                      colsample_bylevel=None,\n",
              "                                                      colsample_bynode=None,\n",
              "                                                      colsample_bytree=None,\n",
              "                                                      early_stopping_rounds=None,\n",
              "                                                      enable_categorical=False,\n",
              "                                                      eval_metric=&#x27;error&#x27;,\n",
              "                                                      featu...\n",
              "                                                      max_delta_step=None,\n",
              "                                                      max_depth=None,\n",
              "                                                      max_leaves=None,\n",
              "                                                      min_child_weight=None,\n",
              "                                                      missing=nan,\n",
              "                                                      monotone_constraints=None,\n",
              "                                                      n_estimators=200,\n",
              "                                                      n_jobs=-1,\n",
              "                                                      num_parallel_tree=None,\n",
              "                                                      predictor=None,\n",
              "                                                      random_state=42, ...))]),\n",
              "             param_grid={&#x27;xgbclassifier__colsample_bytree&#x27;: [0.6, 0.8, 1.0],\n",
              "                         &#x27;xgbclassifier__max_depth&#x27;: [2, 4, 6],\n",
              "                         &#x27;xgbclassifier__min_child_weight&#x27;: [2, 4, 8]},\n",
              "             scoring=&#x27;roc_auc&#x27;, verbose=3)</pre></div></div></div><div class=\"sk-parallel\"><div class=\"sk-parallel-item\"><div class=\"sk-item\"><div class=\"sk-label-container\"><div class=\"sk-label sk-toggleable\"><input class=\"sk-toggleable__control sk-hidden--visually\" id=\"sk-estimator-id-12\" type=\"checkbox\" ><label for=\"sk-estimator-id-12\" class=\"sk-toggleable__label sk-toggleable__label-arrow\">estimator: Pipeline</label><div class=\"sk-toggleable__content\"><pre>Pipeline(steps=[(&#x27;ordinalencoder&#x27;, OrdinalEncoder()),\n",
              "                (&#x27;simpleimputer&#x27;, SimpleImputer(strategy=&#x27;median&#x27;)),\n",
              "                (&#x27;xgbclassifier&#x27;,\n",
              "                 XGBClassifier(base_score=None, booster=None, callbacks=None,\n",
              "                               colsample_bylevel=None, colsample_bynode=None,\n",
              "                               colsample_bytree=None,\n",
              "                               early_stopping_rounds=None,\n",
              "                               enable_categorical=False, eval_metric=&#x27;error&#x27;,\n",
              "                               feature_types=None, gamma=None, gpu_id=None,\n",
              "                               grow_policy=None, importance_type=None,\n",
              "                               interaction_constraints=None, learning_rate=0.1,\n",
              "                               max_bin=None, max_cat_threshold=None,\n",
              "                               max_cat_to_onehot=None, max_delta_step=None,\n",
              "                               max_depth=None, max_leaves=None,\n",
              "                               min_child_weight=None, missing=nan,\n",
              "                               monotone_constraints=None, n_estimators=200,\n",
              "                               n_jobs=-1, num_parallel_tree=None,\n",
              "                               predictor=None, random_state=42, ...))])</pre></div></div></div><div class=\"sk-serial\"><div class=\"sk-item\"><div class=\"sk-serial\"><div class=\"sk-item\"><div class=\"sk-estimator sk-toggleable\"><input class=\"sk-toggleable__control sk-hidden--visually\" id=\"sk-estimator-id-13\" type=\"checkbox\" ><label for=\"sk-estimator-id-13\" class=\"sk-toggleable__label sk-toggleable__label-arrow\">OrdinalEncoder</label><div class=\"sk-toggleable__content\"><pre>OrdinalEncoder()</pre></div></div></div><div class=\"sk-item\"><div class=\"sk-estimator sk-toggleable\"><input class=\"sk-toggleable__control sk-hidden--visually\" id=\"sk-estimator-id-14\" type=\"checkbox\" ><label for=\"sk-estimator-id-14\" class=\"sk-toggleable__label sk-toggleable__label-arrow\">SimpleImputer</label><div class=\"sk-toggleable__content\"><pre>SimpleImputer(strategy=&#x27;median&#x27;)</pre></div></div></div><div class=\"sk-item\"><div class=\"sk-estimator sk-toggleable\"><input class=\"sk-toggleable__control sk-hidden--visually\" id=\"sk-estimator-id-15\" type=\"checkbox\" ><label for=\"sk-estimator-id-15\" class=\"sk-toggleable__label sk-toggleable__label-arrow\">XGBClassifier</label><div class=\"sk-toggleable__content\"><pre>XGBClassifier(base_score=None, booster=None, callbacks=None,\n",
              "              colsample_bylevel=None, colsample_bynode=None,\n",
              "              colsample_bytree=None, early_stopping_rounds=None,\n",
              "              enable_categorical=False, eval_metric=&#x27;error&#x27;, feature_types=None,\n",
              "              gamma=None, gpu_id=None, grow_policy=None, importance_type=None,\n",
              "              interaction_constraints=None, learning_rate=0.1, max_bin=None,\n",
              "              max_cat_threshold=None, max_cat_to_onehot=None,\n",
              "              max_delta_step=None, max_depth=None, max_leaves=None,\n",
              "              min_child_weight=None, missing=nan, monotone_constraints=None,\n",
              "              n_estimators=200, n_jobs=-1, num_parallel_tree=None,\n",
              "              predictor=None, random_state=42, ...)</pre></div></div></div></div></div></div></div></div></div></div></div></div>"
            ]
          },
          "metadata": {},
          "execution_count": 25
        }
      ]
    },
    {
      "cell_type": "markdown",
      "source": [
        "최적의 하이퍼파라미터 값은 무엇인지 살펴봅니다.\n"
      ],
      "metadata": {
        "id": "7XaCK_mfWQlC"
      }
    },
    {
      "cell_type": "code",
      "source": [
        "print(f'최적의 하이퍼 파라미터:{grid_search.best_params_}')\n",
        "print(f'최적 AUC:', grid_search.best_score_)"
      ],
      "metadata": {
        "colab": {
          "base_uri": "https://localhost:8080/"
        },
        "id": "OvFvNTvkY9Hs",
        "outputId": "91d38702-e038-41cd-81d2-e436d2fd5676"
      },
      "execution_count": 26,
      "outputs": [
        {
          "output_type": "stream",
          "name": "stdout",
          "text": [
            "최적의 하이퍼 파라미터:{'xgbclassifier__colsample_bytree': 0.6, 'xgbclassifier__max_depth': 4, 'xgbclassifier__min_child_weight': 4}\n",
            "최적 AUC: 0.820400801965271\n"
          ]
        }
      ]
    },
    {
      "cell_type": "markdown",
      "source": [
        "각 하이퍼 파라미터 조합으로 만들어진 모델을 순위별로 나열합니다."
      ],
      "metadata": {
        "id": "bLPA4egLcgQh"
      }
    },
    {
      "cell_type": "markdown",
      "source": [
        "* `rank_test_score` 테스트 순위\n",
        "* `mean_score_time` 예측에 걸리는 시간."
      ],
      "metadata": {
        "id": "yoUxvvqwcm-K"
      }
    },
    {
      "cell_type": "code",
      "source": [
        "pd.DataFrame(grid_search.cv_results_).sort_values(by = 'rank_test_score').T"
      ],
      "metadata": {
        "colab": {
          "base_uri": "https://localhost:8080/",
          "height": 599
        },
        "id": "pzmJ7W1Hc6pu",
        "outputId": "360f1dea-c7cb-4e32-d079-7244c11f633d"
      },
      "execution_count": 27,
      "outputs": [
        {
          "output_type": "execute_result",
          "data": {
            "text/plain": [
              "                                                                                      4   \\\n",
              "mean_fit_time                                                                   5.288324   \n",
              "std_fit_time                                                                    1.831091   \n",
              "mean_score_time                                                                 0.107624   \n",
              "std_score_time                                                                  0.055259   \n",
              "param_xgbclassifier__colsample_bytree                                                0.6   \n",
              "param_xgbclassifier__max_depth                                                         4   \n",
              "param_xgbclassifier__min_child_weight                                                  4   \n",
              "params                                 {'xgbclassifier__colsample_bytree': 0.6, 'xgbc...   \n",
              "split0_test_score                                                               0.822685   \n",
              "split1_test_score                                                                0.82202   \n",
              "split2_test_score                                                               0.816497   \n",
              "mean_test_score                                                                 0.820401   \n",
              "std_test_score                                                                  0.002773   \n",
              "rank_test_score                                                                        1   \n",
              "\n",
              "                                                                                      5   \\\n",
              "mean_fit_time                                                                   3.475165   \n",
              "std_fit_time                                                                    0.666811   \n",
              "mean_score_time                                                                 0.067891   \n",
              "std_score_time                                                                  0.001386   \n",
              "param_xgbclassifier__colsample_bytree                                                0.6   \n",
              "param_xgbclassifier__max_depth                                                         4   \n",
              "param_xgbclassifier__min_child_weight                                                  8   \n",
              "params                                 {'xgbclassifier__colsample_bytree': 0.6, 'xgbc...   \n",
              "split0_test_score                                                               0.822765   \n",
              "split1_test_score                                                               0.822082   \n",
              "split2_test_score                                                               0.816203   \n",
              "mean_test_score                                                                  0.82035   \n",
              "std_test_score                                                                  0.002945   \n",
              "rank_test_score                                                                        2   \n",
              "\n",
              "                                                                                      3   \\\n",
              "mean_fit_time                                                                    7.29174   \n",
              "std_fit_time                                                                    0.523326   \n",
              "mean_score_time                                                                 0.104155   \n",
              "std_score_time                                                                  0.045091   \n",
              "param_xgbclassifier__colsample_bytree                                                0.6   \n",
              "param_xgbclassifier__max_depth                                                         4   \n",
              "param_xgbclassifier__min_child_weight                                                  2   \n",
              "params                                 {'xgbclassifier__colsample_bytree': 0.6, 'xgbc...   \n",
              "split0_test_score                                                               0.822674   \n",
              "split1_test_score                                                               0.821778   \n",
              "split2_test_score                                                               0.816309   \n",
              "mean_test_score                                                                 0.820254   \n",
              "std_test_score                                                                  0.002813   \n",
              "rank_test_score                                                                        3   \n",
              "\n",
              "                                                                                      13  \\\n",
              "mean_fit_time                                                                   4.478721   \n",
              "std_fit_time                                                                    1.271879   \n",
              "mean_score_time                                                                 0.070468   \n",
              "std_score_time                                                                  0.005497   \n",
              "param_xgbclassifier__colsample_bytree                                                0.8   \n",
              "param_xgbclassifier__max_depth                                                         4   \n",
              "param_xgbclassifier__min_child_weight                                                  4   \n",
              "params                                 {'xgbclassifier__colsample_bytree': 0.8, 'xgbc...   \n",
              "split0_test_score                                                                0.82215   \n",
              "split1_test_score                                                               0.822022   \n",
              "split2_test_score                                                               0.815695   \n",
              "mean_test_score                                                                 0.819956   \n",
              "std_test_score                                                                  0.003013   \n",
              "rank_test_score                                                                        4   \n",
              "\n",
              "                                                                                      14  \\\n",
              "mean_fit_time                                                                   3.957699   \n",
              "std_fit_time                                                                    0.619134   \n",
              "mean_score_time                                                                  0.06878   \n",
              "std_score_time                                                                  0.002014   \n",
              "param_xgbclassifier__colsample_bytree                                                0.8   \n",
              "param_xgbclassifier__max_depth                                                         4   \n",
              "param_xgbclassifier__min_child_weight                                                  8   \n",
              "params                                 {'xgbclassifier__colsample_bytree': 0.8, 'xgbc...   \n",
              "split0_test_score                                                                0.82238   \n",
              "split1_test_score                                                               0.821651   \n",
              "split2_test_score                                                               0.815595   \n",
              "mean_test_score                                                                 0.819876   \n",
              "std_test_score                                                                  0.003041   \n",
              "rank_test_score                                                                        5   \n",
              "\n",
              "                                                                                      12  \\\n",
              "mean_fit_time                                                                   3.988038   \n",
              "std_fit_time                                                                    0.652121   \n",
              "mean_score_time                                                                 0.070893   \n",
              "std_score_time                                                                  0.005183   \n",
              "param_xgbclassifier__colsample_bytree                                                0.8   \n",
              "param_xgbclassifier__max_depth                                                         4   \n",
              "param_xgbclassifier__min_child_weight                                                  2   \n",
              "params                                 {'xgbclassifier__colsample_bytree': 0.8, 'xgbc...   \n",
              "split0_test_score                                                               0.821709   \n",
              "split1_test_score                                                               0.822089   \n",
              "split2_test_score                                                               0.815798   \n",
              "mean_test_score                                                                 0.819866   \n",
              "std_test_score                                                                   0.00288   \n",
              "rank_test_score                                                                        6   \n",
              "\n",
              "                                                                                      23  \\\n",
              "mean_fit_time                                                                    4.98999   \n",
              "std_fit_time                                                                    0.672758   \n",
              "mean_score_time                                                                 0.095064   \n",
              "std_score_time                                                                  0.039979   \n",
              "param_xgbclassifier__colsample_bytree                                                1.0   \n",
              "param_xgbclassifier__max_depth                                                         4   \n",
              "param_xgbclassifier__min_child_weight                                                  8   \n",
              "params                                 {'xgbclassifier__colsample_bytree': 1.0, 'xgbc...   \n",
              "split0_test_score                                                               0.821318   \n",
              "split1_test_score                                                               0.822005   \n",
              "split2_test_score                                                               0.816001   \n",
              "mean_test_score                                                                 0.819775   \n",
              "std_test_score                                                                  0.002683   \n",
              "rank_test_score                                                                        7   \n",
              "\n",
              "                                                                                      21  \\\n",
              "mean_fit_time                                                                   4.647909   \n",
              "std_fit_time                                                                    0.651839   \n",
              "mean_score_time                                                                 0.069806   \n",
              "std_score_time                                                                  0.001559   \n",
              "param_xgbclassifier__colsample_bytree                                                1.0   \n",
              "param_xgbclassifier__max_depth                                                         4   \n",
              "param_xgbclassifier__min_child_weight                                                  2   \n",
              "params                                 {'xgbclassifier__colsample_bytree': 1.0, 'xgbc...   \n",
              "split0_test_score                                                               0.821354   \n",
              "split1_test_score                                                               0.821827   \n",
              "split2_test_score                                                               0.815407   \n",
              "mean_test_score                                                                 0.819529   \n",
              "std_test_score                                                                  0.002921   \n",
              "rank_test_score                                                                        8   \n",
              "\n",
              "                                                                                      22  \\\n",
              "mean_fit_time                                                                   4.833509   \n",
              "std_fit_time                                                                    0.605308   \n",
              "mean_score_time                                                                 0.067907   \n",
              "std_score_time                                                                  0.001873   \n",
              "param_xgbclassifier__colsample_bytree                                                1.0   \n",
              "param_xgbclassifier__max_depth                                                         4   \n",
              "param_xgbclassifier__min_child_weight                                                  4   \n",
              "params                                 {'xgbclassifier__colsample_bytree': 1.0, 'xgbc...   \n",
              "split0_test_score                                                               0.821598   \n",
              "split1_test_score                                                               0.820407   \n",
              "split2_test_score                                                               0.815251   \n",
              "mean_test_score                                                                 0.819085   \n",
              "std_test_score                                                                  0.002755   \n",
              "rank_test_score                                                                        9   \n",
              "\n",
              "                                                                                      2   \\\n",
              "mean_fit_time                                                                   4.021134   \n",
              "std_fit_time                                                                    0.842923   \n",
              "mean_score_time                                                                 0.117147   \n",
              "std_score_time                                                                  0.037228   \n",
              "param_xgbclassifier__colsample_bytree                                                0.6   \n",
              "param_xgbclassifier__max_depth                                                         2   \n",
              "param_xgbclassifier__min_child_weight                                                  8   \n",
              "params                                 {'xgbclassifier__colsample_bytree': 0.6, 'xgbc...   \n",
              "split0_test_score                                                                0.82046   \n",
              "split1_test_score                                                               0.818235   \n",
              "split2_test_score                                                               0.813024   \n",
              "mean_test_score                                                                  0.81724   \n",
              "std_test_score                                                                  0.003116   \n",
              "rank_test_score                                                                       10   \n",
              "\n",
              "                                       ...  \\\n",
              "mean_fit_time                          ...   \n",
              "std_fit_time                           ...   \n",
              "mean_score_time                        ...   \n",
              "std_score_time                         ...   \n",
              "param_xgbclassifier__colsample_bytree  ...   \n",
              "param_xgbclassifier__max_depth         ...   \n",
              "param_xgbclassifier__min_child_weight  ...   \n",
              "params                                 ...   \n",
              "split0_test_score                      ...   \n",
              "split1_test_score                      ...   \n",
              "split2_test_score                      ...   \n",
              "mean_test_score                        ...   \n",
              "std_test_score                         ...   \n",
              "rank_test_score                        ...   \n",
              "\n",
              "                                                                                      19  \\\n",
              "mean_fit_time                                                                   3.572152   \n",
              "std_fit_time                                                                     1.06217   \n",
              "mean_score_time                                                                 0.068339   \n",
              "std_score_time                                                                  0.019123   \n",
              "param_xgbclassifier__colsample_bytree                                                1.0   \n",
              "param_xgbclassifier__max_depth                                                         2   \n",
              "param_xgbclassifier__min_child_weight                                                  4   \n",
              "params                                 {'xgbclassifier__colsample_bytree': 1.0, 'xgbc...   \n",
              "split0_test_score                                                               0.819812   \n",
              "split1_test_score                                                               0.818325   \n",
              "split2_test_score                                                               0.812326   \n",
              "mean_test_score                                                                 0.816821   \n",
              "std_test_score                                                                  0.003236   \n",
              "rank_test_score                                                                       18   \n",
              "\n",
              "                                                                                      18  \\\n",
              "mean_fit_time                                                                   2.444893   \n",
              "std_fit_time                                                                    0.248946   \n",
              "mean_score_time                                                                  0.05814   \n",
              "std_score_time                                                                  0.003999   \n",
              "param_xgbclassifier__colsample_bytree                                                1.0   \n",
              "param_xgbclassifier__max_depth                                                         2   \n",
              "param_xgbclassifier__min_child_weight                                                  2   \n",
              "params                                 {'xgbclassifier__colsample_bytree': 1.0, 'xgbc...   \n",
              "split0_test_score                                                                0.81959   \n",
              "split1_test_score                                                               0.818286   \n",
              "split2_test_score                                                               0.812415   \n",
              "mean_test_score                                                                 0.816764   \n",
              "std_test_score                                                                  0.003121   \n",
              "rank_test_score                                                                       19   \n",
              "\n",
              "                                                                                      20  \\\n",
              "mean_fit_time                                                                   2.670855   \n",
              "std_fit_time                                                                    0.611291   \n",
              "mean_score_time                                                                 0.055392   \n",
              "std_score_time                                                                  0.001049   \n",
              "param_xgbclassifier__colsample_bytree                                                1.0   \n",
              "param_xgbclassifier__max_depth                                                         2   \n",
              "param_xgbclassifier__min_child_weight                                                  8   \n",
              "params                                 {'xgbclassifier__colsample_bytree': 1.0, 'xgbc...   \n",
              "split0_test_score                                                               0.819901   \n",
              "split1_test_score                                                               0.817987   \n",
              "split2_test_score                                                               0.812143   \n",
              "mean_test_score                                                                 0.816677   \n",
              "std_test_score                                                                    0.0033   \n",
              "rank_test_score                                                                       20   \n",
              "\n",
              "                                                                                      17  \\\n",
              "mean_fit_time                                                                   7.543794   \n",
              "std_fit_time                                                                    2.023032   \n",
              "mean_score_time                                                                 0.103614   \n",
              "std_score_time                                                                  0.021879   \n",
              "param_xgbclassifier__colsample_bytree                                                0.8   \n",
              "param_xgbclassifier__max_depth                                                         6   \n",
              "param_xgbclassifier__min_child_weight                                                  8   \n",
              "params                                 {'xgbclassifier__colsample_bytree': 0.8, 'xgbc...   \n",
              "split0_test_score                                                               0.818578   \n",
              "split1_test_score                                                               0.819062   \n",
              "split2_test_score                                                               0.811211   \n",
              "mean_test_score                                                                 0.816284   \n",
              "std_test_score                                                                  0.003593   \n",
              "rank_test_score                                                                       21   \n",
              "\n",
              "                                                                                      6   \\\n",
              "mean_fit_time                                                                   6.506375   \n",
              "std_fit_time                                                                    1.642754   \n",
              "mean_score_time                                                                 0.128779   \n",
              "std_score_time                                                                  0.058284   \n",
              "param_xgbclassifier__colsample_bytree                                                0.6   \n",
              "param_xgbclassifier__max_depth                                                         6   \n",
              "param_xgbclassifier__min_child_weight                                                  2   \n",
              "params                                 {'xgbclassifier__colsample_bytree': 0.6, 'xgbc...   \n",
              "split0_test_score                                                               0.819064   \n",
              "split1_test_score                                                               0.817982   \n",
              "split2_test_score                                                               0.811465   \n",
              "mean_test_score                                                                  0.81617   \n",
              "std_test_score                                                                  0.003356   \n",
              "rank_test_score                                                                       22   \n",
              "\n",
              "                                                                                      26  \\\n",
              "mean_fit_time                                                                  10.986804   \n",
              "std_fit_time                                                                    0.545493   \n",
              "mean_score_time                                                                 0.172763   \n",
              "std_score_time                                                                  0.080522   \n",
              "param_xgbclassifier__colsample_bytree                                                1.0   \n",
              "param_xgbclassifier__max_depth                                                         6   \n",
              "param_xgbclassifier__min_child_weight                                                  8   \n",
              "params                                 {'xgbclassifier__colsample_bytree': 1.0, 'xgbc...   \n",
              "split0_test_score                                                               0.818563   \n",
              "split1_test_score                                                               0.815423   \n",
              "split2_test_score                                                                0.81084   \n",
              "mean_test_score                                                                 0.814942   \n",
              "std_test_score                                                                  0.003171   \n",
              "rank_test_score                                                                       23   \n",
              "\n",
              "                                                                                      16  \\\n",
              "mean_fit_time                                                                  10.938465   \n",
              "std_fit_time                                                                    0.545586   \n",
              "mean_score_time                                                                 0.116116   \n",
              "std_score_time                                                                  0.021097   \n",
              "param_xgbclassifier__colsample_bytree                                                0.8   \n",
              "param_xgbclassifier__max_depth                                                         6   \n",
              "param_xgbclassifier__min_child_weight                                                  4   \n",
              "params                                 {'xgbclassifier__colsample_bytree': 0.8, 'xgbc...   \n",
              "split0_test_score                                                               0.817752   \n",
              "split1_test_score                                                               0.817251   \n",
              "split2_test_score                                                               0.809738   \n",
              "mean_test_score                                                                 0.814914   \n",
              "std_test_score                                                                  0.003666   \n",
              "rank_test_score                                                                       24   \n",
              "\n",
              "                                                                                      15  \\\n",
              "mean_fit_time                                                                   6.701738   \n",
              "std_fit_time                                                                    0.832349   \n",
              "mean_score_time                                                                 0.108183   \n",
              "std_score_time                                                                  0.023297   \n",
              "param_xgbclassifier__colsample_bytree                                                0.8   \n",
              "param_xgbclassifier__max_depth                                                         6   \n",
              "param_xgbclassifier__min_child_weight                                                  2   \n",
              "params                                 {'xgbclassifier__colsample_bytree': 0.8, 'xgbc...   \n",
              "split0_test_score                                                               0.818155   \n",
              "split1_test_score                                                               0.816273   \n",
              "split2_test_score                                                               0.809542   \n",
              "mean_test_score                                                                 0.814657   \n",
              "std_test_score                                                                  0.003698   \n",
              "rank_test_score                                                                       25   \n",
              "\n",
              "                                                                                      25  \\\n",
              "mean_fit_time                                                                  11.779094   \n",
              "std_fit_time                                                                    0.676596   \n",
              "mean_score_time                                                                 0.122609   \n",
              "std_score_time                                                                  0.034062   \n",
              "param_xgbclassifier__colsample_bytree                                                1.0   \n",
              "param_xgbclassifier__max_depth                                                         6   \n",
              "param_xgbclassifier__min_child_weight                                                  4   \n",
              "params                                 {'xgbclassifier__colsample_bytree': 1.0, 'xgbc...   \n",
              "split0_test_score                                                               0.816346   \n",
              "split1_test_score                                                               0.816903   \n",
              "split2_test_score                                                               0.808272   \n",
              "mean_test_score                                                                  0.81384   \n",
              "std_test_score                                                                  0.003944   \n",
              "rank_test_score                                                                       26   \n",
              "\n",
              "                                                                                      24  \n",
              "mean_fit_time                                                                   8.769736  \n",
              "std_fit_time                                                                    2.053953  \n",
              "mean_score_time                                                                 0.091498  \n",
              "std_score_time                                                                  0.006158  \n",
              "param_xgbclassifier__colsample_bytree                                                1.0  \n",
              "param_xgbclassifier__max_depth                                                         6  \n",
              "param_xgbclassifier__min_child_weight                                                  2  \n",
              "params                                 {'xgbclassifier__colsample_bytree': 1.0, 'xgbc...  \n",
              "split0_test_score                                                               0.816051  \n",
              "split1_test_score                                                               0.814736  \n",
              "split2_test_score                                                               0.808827  \n",
              "mean_test_score                                                                 0.813205  \n",
              "std_test_score                                                                  0.003142  \n",
              "rank_test_score                                                                       27  \n",
              "\n",
              "[14 rows x 27 columns]"
            ],
            "text/html": [
              "\n",
              "  <div id=\"df-0fc3e32a-b591-4cf2-89c1-24cb0ae80892\">\n",
              "    <div class=\"colab-df-container\">\n",
              "      <div>\n",
              "<style scoped>\n",
              "    .dataframe tbody tr th:only-of-type {\n",
              "        vertical-align: middle;\n",
              "    }\n",
              "\n",
              "    .dataframe tbody tr th {\n",
              "        vertical-align: top;\n",
              "    }\n",
              "\n",
              "    .dataframe thead th {\n",
              "        text-align: right;\n",
              "    }\n",
              "</style>\n",
              "<table border=\"1\" class=\"dataframe\">\n",
              "  <thead>\n",
              "    <tr style=\"text-align: right;\">\n",
              "      <th></th>\n",
              "      <th>4</th>\n",
              "      <th>5</th>\n",
              "      <th>3</th>\n",
              "      <th>13</th>\n",
              "      <th>14</th>\n",
              "      <th>12</th>\n",
              "      <th>23</th>\n",
              "      <th>21</th>\n",
              "      <th>22</th>\n",
              "      <th>2</th>\n",
              "      <th>...</th>\n",
              "      <th>19</th>\n",
              "      <th>18</th>\n",
              "      <th>20</th>\n",
              "      <th>17</th>\n",
              "      <th>6</th>\n",
              "      <th>26</th>\n",
              "      <th>16</th>\n",
              "      <th>15</th>\n",
              "      <th>25</th>\n",
              "      <th>24</th>\n",
              "    </tr>\n",
              "  </thead>\n",
              "  <tbody>\n",
              "    <tr>\n",
              "      <th>mean_fit_time</th>\n",
              "      <td>5.288324</td>\n",
              "      <td>3.475165</td>\n",
              "      <td>7.29174</td>\n",
              "      <td>4.478721</td>\n",
              "      <td>3.957699</td>\n",
              "      <td>3.988038</td>\n",
              "      <td>4.98999</td>\n",
              "      <td>4.647909</td>\n",
              "      <td>4.833509</td>\n",
              "      <td>4.021134</td>\n",
              "      <td>...</td>\n",
              "      <td>3.572152</td>\n",
              "      <td>2.444893</td>\n",
              "      <td>2.670855</td>\n",
              "      <td>7.543794</td>\n",
              "      <td>6.506375</td>\n",
              "      <td>10.986804</td>\n",
              "      <td>10.938465</td>\n",
              "      <td>6.701738</td>\n",
              "      <td>11.779094</td>\n",
              "      <td>8.769736</td>\n",
              "    </tr>\n",
              "    <tr>\n",
              "      <th>std_fit_time</th>\n",
              "      <td>1.831091</td>\n",
              "      <td>0.666811</td>\n",
              "      <td>0.523326</td>\n",
              "      <td>1.271879</td>\n",
              "      <td>0.619134</td>\n",
              "      <td>0.652121</td>\n",
              "      <td>0.672758</td>\n",
              "      <td>0.651839</td>\n",
              "      <td>0.605308</td>\n",
              "      <td>0.842923</td>\n",
              "      <td>...</td>\n",
              "      <td>1.06217</td>\n",
              "      <td>0.248946</td>\n",
              "      <td>0.611291</td>\n",
              "      <td>2.023032</td>\n",
              "      <td>1.642754</td>\n",
              "      <td>0.545493</td>\n",
              "      <td>0.545586</td>\n",
              "      <td>0.832349</td>\n",
              "      <td>0.676596</td>\n",
              "      <td>2.053953</td>\n",
              "    </tr>\n",
              "    <tr>\n",
              "      <th>mean_score_time</th>\n",
              "      <td>0.107624</td>\n",
              "      <td>0.067891</td>\n",
              "      <td>0.104155</td>\n",
              "      <td>0.070468</td>\n",
              "      <td>0.06878</td>\n",
              "      <td>0.070893</td>\n",
              "      <td>0.095064</td>\n",
              "      <td>0.069806</td>\n",
              "      <td>0.067907</td>\n",
              "      <td>0.117147</td>\n",
              "      <td>...</td>\n",
              "      <td>0.068339</td>\n",
              "      <td>0.05814</td>\n",
              "      <td>0.055392</td>\n",
              "      <td>0.103614</td>\n",
              "      <td>0.128779</td>\n",
              "      <td>0.172763</td>\n",
              "      <td>0.116116</td>\n",
              "      <td>0.108183</td>\n",
              "      <td>0.122609</td>\n",
              "      <td>0.091498</td>\n",
              "    </tr>\n",
              "    <tr>\n",
              "      <th>std_score_time</th>\n",
              "      <td>0.055259</td>\n",
              "      <td>0.001386</td>\n",
              "      <td>0.045091</td>\n",
              "      <td>0.005497</td>\n",
              "      <td>0.002014</td>\n",
              "      <td>0.005183</td>\n",
              "      <td>0.039979</td>\n",
              "      <td>0.001559</td>\n",
              "      <td>0.001873</td>\n",
              "      <td>0.037228</td>\n",
              "      <td>...</td>\n",
              "      <td>0.019123</td>\n",
              "      <td>0.003999</td>\n",
              "      <td>0.001049</td>\n",
              "      <td>0.021879</td>\n",
              "      <td>0.058284</td>\n",
              "      <td>0.080522</td>\n",
              "      <td>0.021097</td>\n",
              "      <td>0.023297</td>\n",
              "      <td>0.034062</td>\n",
              "      <td>0.006158</td>\n",
              "    </tr>\n",
              "    <tr>\n",
              "      <th>param_xgbclassifier__colsample_bytree</th>\n",
              "      <td>0.6</td>\n",
              "      <td>0.6</td>\n",
              "      <td>0.6</td>\n",
              "      <td>0.8</td>\n",
              "      <td>0.8</td>\n",
              "      <td>0.8</td>\n",
              "      <td>1.0</td>\n",
              "      <td>1.0</td>\n",
              "      <td>1.0</td>\n",
              "      <td>0.6</td>\n",
              "      <td>...</td>\n",
              "      <td>1.0</td>\n",
              "      <td>1.0</td>\n",
              "      <td>1.0</td>\n",
              "      <td>0.8</td>\n",
              "      <td>0.6</td>\n",
              "      <td>1.0</td>\n",
              "      <td>0.8</td>\n",
              "      <td>0.8</td>\n",
              "      <td>1.0</td>\n",
              "      <td>1.0</td>\n",
              "    </tr>\n",
              "    <tr>\n",
              "      <th>param_xgbclassifier__max_depth</th>\n",
              "      <td>4</td>\n",
              "      <td>4</td>\n",
              "      <td>4</td>\n",
              "      <td>4</td>\n",
              "      <td>4</td>\n",
              "      <td>4</td>\n",
              "      <td>4</td>\n",
              "      <td>4</td>\n",
              "      <td>4</td>\n",
              "      <td>2</td>\n",
              "      <td>...</td>\n",
              "      <td>2</td>\n",
              "      <td>2</td>\n",
              "      <td>2</td>\n",
              "      <td>6</td>\n",
              "      <td>6</td>\n",
              "      <td>6</td>\n",
              "      <td>6</td>\n",
              "      <td>6</td>\n",
              "      <td>6</td>\n",
              "      <td>6</td>\n",
              "    </tr>\n",
              "    <tr>\n",
              "      <th>param_xgbclassifier__min_child_weight</th>\n",
              "      <td>4</td>\n",
              "      <td>8</td>\n",
              "      <td>2</td>\n",
              "      <td>4</td>\n",
              "      <td>8</td>\n",
              "      <td>2</td>\n",
              "      <td>8</td>\n",
              "      <td>2</td>\n",
              "      <td>4</td>\n",
              "      <td>8</td>\n",
              "      <td>...</td>\n",
              "      <td>4</td>\n",
              "      <td>2</td>\n",
              "      <td>8</td>\n",
              "      <td>8</td>\n",
              "      <td>2</td>\n",
              "      <td>8</td>\n",
              "      <td>4</td>\n",
              "      <td>2</td>\n",
              "      <td>4</td>\n",
              "      <td>2</td>\n",
              "    </tr>\n",
              "    <tr>\n",
              "      <th>params</th>\n",
              "      <td>{'xgbclassifier__colsample_bytree': 0.6, 'xgbc...</td>\n",
              "      <td>{'xgbclassifier__colsample_bytree': 0.6, 'xgbc...</td>\n",
              "      <td>{'xgbclassifier__colsample_bytree': 0.6, 'xgbc...</td>\n",
              "      <td>{'xgbclassifier__colsample_bytree': 0.8, 'xgbc...</td>\n",
              "      <td>{'xgbclassifier__colsample_bytree': 0.8, 'xgbc...</td>\n",
              "      <td>{'xgbclassifier__colsample_bytree': 0.8, 'xgbc...</td>\n",
              "      <td>{'xgbclassifier__colsample_bytree': 1.0, 'xgbc...</td>\n",
              "      <td>{'xgbclassifier__colsample_bytree': 1.0, 'xgbc...</td>\n",
              "      <td>{'xgbclassifier__colsample_bytree': 1.0, 'xgbc...</td>\n",
              "      <td>{'xgbclassifier__colsample_bytree': 0.6, 'xgbc...</td>\n",
              "      <td>...</td>\n",
              "      <td>{'xgbclassifier__colsample_bytree': 1.0, 'xgbc...</td>\n",
              "      <td>{'xgbclassifier__colsample_bytree': 1.0, 'xgbc...</td>\n",
              "      <td>{'xgbclassifier__colsample_bytree': 1.0, 'xgbc...</td>\n",
              "      <td>{'xgbclassifier__colsample_bytree': 0.8, 'xgbc...</td>\n",
              "      <td>{'xgbclassifier__colsample_bytree': 0.6, 'xgbc...</td>\n",
              "      <td>{'xgbclassifier__colsample_bytree': 1.0, 'xgbc...</td>\n",
              "      <td>{'xgbclassifier__colsample_bytree': 0.8, 'xgbc...</td>\n",
              "      <td>{'xgbclassifier__colsample_bytree': 0.8, 'xgbc...</td>\n",
              "      <td>{'xgbclassifier__colsample_bytree': 1.0, 'xgbc...</td>\n",
              "      <td>{'xgbclassifier__colsample_bytree': 1.0, 'xgbc...</td>\n",
              "    </tr>\n",
              "    <tr>\n",
              "      <th>split0_test_score</th>\n",
              "      <td>0.822685</td>\n",
              "      <td>0.822765</td>\n",
              "      <td>0.822674</td>\n",
              "      <td>0.82215</td>\n",
              "      <td>0.82238</td>\n",
              "      <td>0.821709</td>\n",
              "      <td>0.821318</td>\n",
              "      <td>0.821354</td>\n",
              "      <td>0.821598</td>\n",
              "      <td>0.82046</td>\n",
              "      <td>...</td>\n",
              "      <td>0.819812</td>\n",
              "      <td>0.81959</td>\n",
              "      <td>0.819901</td>\n",
              "      <td>0.818578</td>\n",
              "      <td>0.819064</td>\n",
              "      <td>0.818563</td>\n",
              "      <td>0.817752</td>\n",
              "      <td>0.818155</td>\n",
              "      <td>0.816346</td>\n",
              "      <td>0.816051</td>\n",
              "    </tr>\n",
              "    <tr>\n",
              "      <th>split1_test_score</th>\n",
              "      <td>0.82202</td>\n",
              "      <td>0.822082</td>\n",
              "      <td>0.821778</td>\n",
              "      <td>0.822022</td>\n",
              "      <td>0.821651</td>\n",
              "      <td>0.822089</td>\n",
              "      <td>0.822005</td>\n",
              "      <td>0.821827</td>\n",
              "      <td>0.820407</td>\n",
              "      <td>0.818235</td>\n",
              "      <td>...</td>\n",
              "      <td>0.818325</td>\n",
              "      <td>0.818286</td>\n",
              "      <td>0.817987</td>\n",
              "      <td>0.819062</td>\n",
              "      <td>0.817982</td>\n",
              "      <td>0.815423</td>\n",
              "      <td>0.817251</td>\n",
              "      <td>0.816273</td>\n",
              "      <td>0.816903</td>\n",
              "      <td>0.814736</td>\n",
              "    </tr>\n",
              "    <tr>\n",
              "      <th>split2_test_score</th>\n",
              "      <td>0.816497</td>\n",
              "      <td>0.816203</td>\n",
              "      <td>0.816309</td>\n",
              "      <td>0.815695</td>\n",
              "      <td>0.815595</td>\n",
              "      <td>0.815798</td>\n",
              "      <td>0.816001</td>\n",
              "      <td>0.815407</td>\n",
              "      <td>0.815251</td>\n",
              "      <td>0.813024</td>\n",
              "      <td>...</td>\n",
              "      <td>0.812326</td>\n",
              "      <td>0.812415</td>\n",
              "      <td>0.812143</td>\n",
              "      <td>0.811211</td>\n",
              "      <td>0.811465</td>\n",
              "      <td>0.81084</td>\n",
              "      <td>0.809738</td>\n",
              "      <td>0.809542</td>\n",
              "      <td>0.808272</td>\n",
              "      <td>0.808827</td>\n",
              "    </tr>\n",
              "    <tr>\n",
              "      <th>mean_test_score</th>\n",
              "      <td>0.820401</td>\n",
              "      <td>0.82035</td>\n",
              "      <td>0.820254</td>\n",
              "      <td>0.819956</td>\n",
              "      <td>0.819876</td>\n",
              "      <td>0.819866</td>\n",
              "      <td>0.819775</td>\n",
              "      <td>0.819529</td>\n",
              "      <td>0.819085</td>\n",
              "      <td>0.81724</td>\n",
              "      <td>...</td>\n",
              "      <td>0.816821</td>\n",
              "      <td>0.816764</td>\n",
              "      <td>0.816677</td>\n",
              "      <td>0.816284</td>\n",
              "      <td>0.81617</td>\n",
              "      <td>0.814942</td>\n",
              "      <td>0.814914</td>\n",
              "      <td>0.814657</td>\n",
              "      <td>0.81384</td>\n",
              "      <td>0.813205</td>\n",
              "    </tr>\n",
              "    <tr>\n",
              "      <th>std_test_score</th>\n",
              "      <td>0.002773</td>\n",
              "      <td>0.002945</td>\n",
              "      <td>0.002813</td>\n",
              "      <td>0.003013</td>\n",
              "      <td>0.003041</td>\n",
              "      <td>0.00288</td>\n",
              "      <td>0.002683</td>\n",
              "      <td>0.002921</td>\n",
              "      <td>0.002755</td>\n",
              "      <td>0.003116</td>\n",
              "      <td>...</td>\n",
              "      <td>0.003236</td>\n",
              "      <td>0.003121</td>\n",
              "      <td>0.0033</td>\n",
              "      <td>0.003593</td>\n",
              "      <td>0.003356</td>\n",
              "      <td>0.003171</td>\n",
              "      <td>0.003666</td>\n",
              "      <td>0.003698</td>\n",
              "      <td>0.003944</td>\n",
              "      <td>0.003142</td>\n",
              "    </tr>\n",
              "    <tr>\n",
              "      <th>rank_test_score</th>\n",
              "      <td>1</td>\n",
              "      <td>2</td>\n",
              "      <td>3</td>\n",
              "      <td>4</td>\n",
              "      <td>5</td>\n",
              "      <td>6</td>\n",
              "      <td>7</td>\n",
              "      <td>8</td>\n",
              "      <td>9</td>\n",
              "      <td>10</td>\n",
              "      <td>...</td>\n",
              "      <td>18</td>\n",
              "      <td>19</td>\n",
              "      <td>20</td>\n",
              "      <td>21</td>\n",
              "      <td>22</td>\n",
              "      <td>23</td>\n",
              "      <td>24</td>\n",
              "      <td>25</td>\n",
              "      <td>26</td>\n",
              "      <td>27</td>\n",
              "    </tr>\n",
              "  </tbody>\n",
              "</table>\n",
              "<p>14 rows × 27 columns</p>\n",
              "</div>\n",
              "      <button class=\"colab-df-convert\" onclick=\"convertToInteractive('df-0fc3e32a-b591-4cf2-89c1-24cb0ae80892')\"\n",
              "              title=\"Convert this dataframe to an interactive table.\"\n",
              "              style=\"display:none;\">\n",
              "        \n",
              "  <svg xmlns=\"http://www.w3.org/2000/svg\" height=\"24px\"viewBox=\"0 0 24 24\"\n",
              "       width=\"24px\">\n",
              "    <path d=\"M0 0h24v24H0V0z\" fill=\"none\"/>\n",
              "    <path d=\"M18.56 5.44l.94 2.06.94-2.06 2.06-.94-2.06-.94-.94-2.06-.94 2.06-2.06.94zm-11 1L8.5 8.5l.94-2.06 2.06-.94-2.06-.94L8.5 2.5l-.94 2.06-2.06.94zm10 10l.94 2.06.94-2.06 2.06-.94-2.06-.94-.94-2.06-.94 2.06-2.06.94z\"/><path d=\"M17.41 7.96l-1.37-1.37c-.4-.4-.92-.59-1.43-.59-.52 0-1.04.2-1.43.59L10.3 9.45l-7.72 7.72c-.78.78-.78 2.05 0 2.83L4 21.41c.39.39.9.59 1.41.59.51 0 1.02-.2 1.41-.59l7.78-7.78 2.81-2.81c.8-.78.8-2.07 0-2.86zM5.41 20L4 18.59l7.72-7.72 1.47 1.35L5.41 20z\"/>\n",
              "  </svg>\n",
              "      </button>\n",
              "      \n",
              "  <style>\n",
              "    .colab-df-container {\n",
              "      display:flex;\n",
              "      flex-wrap:wrap;\n",
              "      gap: 12px;\n",
              "    }\n",
              "\n",
              "    .colab-df-convert {\n",
              "      background-color: #E8F0FE;\n",
              "      border: none;\n",
              "      border-radius: 50%;\n",
              "      cursor: pointer;\n",
              "      display: none;\n",
              "      fill: #1967D2;\n",
              "      height: 32px;\n",
              "      padding: 0 0 0 0;\n",
              "      width: 32px;\n",
              "    }\n",
              "\n",
              "    .colab-df-convert:hover {\n",
              "      background-color: #E2EBFA;\n",
              "      box-shadow: 0px 1px 2px rgba(60, 64, 67, 0.3), 0px 1px 3px 1px rgba(60, 64, 67, 0.15);\n",
              "      fill: #174EA6;\n",
              "    }\n",
              "\n",
              "    [theme=dark] .colab-df-convert {\n",
              "      background-color: #3B4455;\n",
              "      fill: #D2E3FC;\n",
              "    }\n",
              "\n",
              "    [theme=dark] .colab-df-convert:hover {\n",
              "      background-color: #434B5C;\n",
              "      box-shadow: 0px 1px 3px 1px rgba(0, 0, 0, 0.15);\n",
              "      filter: drop-shadow(0px 1px 2px rgba(0, 0, 0, 0.3));\n",
              "      fill: #FFFFFF;\n",
              "    }\n",
              "  </style>\n",
              "\n",
              "      <script>\n",
              "        const buttonEl =\n",
              "          document.querySelector('#df-0fc3e32a-b591-4cf2-89c1-24cb0ae80892 button.colab-df-convert');\n",
              "        buttonEl.style.display =\n",
              "          google.colab.kernel.accessAllowed ? 'block' : 'none';\n",
              "\n",
              "        async function convertToInteractive(key) {\n",
              "          const element = document.querySelector('#df-0fc3e32a-b591-4cf2-89c1-24cb0ae80892');\n",
              "          const dataTable =\n",
              "            await google.colab.kernel.invokeFunction('convertToInteractive',\n",
              "                                                     [key], {});\n",
              "          if (!dataTable) return;\n",
              "\n",
              "          const docLinkHtml = 'Like what you see? Visit the ' +\n",
              "            '<a target=\"_blank\" href=https://colab.research.google.com/notebooks/data_table.ipynb>data table notebook</a>'\n",
              "            + ' to learn more about interactive tables.';\n",
              "          element.innerHTML = '';\n",
              "          dataTable['output_type'] = 'display_data';\n",
              "          await google.colab.output.renderOutput(dataTable, element);\n",
              "          const docLink = document.createElement('div');\n",
              "          docLink.innerHTML = docLinkHtml;\n",
              "          element.appendChild(docLink);\n",
              "        }\n",
              "      </script>\n",
              "    </div>\n",
              "  </div>\n",
              "  "
            ]
          },
          "metadata": {},
          "execution_count": 27
        }
      ]
    },
    {
      "cell_type": "markdown",
      "source": [
        "**Randomized Search는 더 많은 하이퍼 파라미터의 더 넓은 범위를 탐색할 수 있다.**\n",
        "* sklearn에서 제공하는 Randomized Search는 교차검증(cross validation)의 방법으로 탐색을 진행한다.\n",
        "* 하이퍼파라미터 범위로 값을 지정해줄 수도 있고, `scipy.stats`의 분포로 지정해줄 수도 있다.\n",
        "* 설정해주는 하이퍼파라미터의 범위는 넓지만, fitting은 설정해준 `n_iter()`만큼만 진행된다. "
      ],
      "metadata": {
        "id": "IHGPPrF3dDTj"
      }
    },
    {
      "cell_type": "code",
      "source": [
        "from scipy.stats.distributions import uniform\n",
        "\n",
        "params = {\n",
        "    'simpleimputer__strategy':['median', 'mean'],\n",
        "    'xgbclassifier__max_depth' : [2,4,6],\n",
        "    'xgbclassifier__min_child_weight':[2,4,8],\n",
        "    'xgbclassifier__colsample_bytree': uniform(\n",
        "        loc = 0.5, scale = 0.5,\n",
        "    ) # 0.5 ~ 1사이의 uniform 분포로 범위를 지정한다.\n",
        "}"
      ],
      "metadata": {
        "id": "5H1klJZNeeHe"
      },
      "execution_count": 28,
      "outputs": []
    },
    {
      "cell_type": "code",
      "source": [
        "from sklearn.model_selection import RandomizedSearchCV\n",
        "\n",
        "randomized_search = RandomizedSearchCV(\n",
        "    pipe,\n",
        "    param_distributions = params,\n",
        "    scoring = 'roc_auc',\n",
        "    n_iter = 10,\n",
        "    cv = 3,\n",
        "    verbose =3,\n",
        "    random_state = 42,\n",
        ")\n",
        "\n",
        "randomized_search.fit(X_train, y_train)"
      ],
      "metadata": {
        "colab": {
          "base_uri": "https://localhost:8080/",
          "height": 1000
        },
        "id": "EwEmQBEMfVPg",
        "outputId": "d5936930-54c7-4107-9e21-f1502d7cce2a"
      },
      "execution_count": 29,
      "outputs": [
        {
          "output_type": "stream",
          "name": "stdout",
          "text": [
            "Fitting 3 folds for each of 10 candidates, totalling 30 fits\n"
          ]
        },
        {
          "output_type": "stream",
          "name": "stderr",
          "text": [
            "/usr/local/lib/python3.8/dist-packages/xgboost/sklearn.py:1395: UserWarning: `use_label_encoder` is deprecated in 1.7.0.\n",
            "  warnings.warn(\"`use_label_encoder` is deprecated in 1.7.0.\")\n",
            "/usr/local/lib/python3.8/dist-packages/xgboost/sklearn.py:1395: UserWarning: `use_label_encoder` is deprecated in 1.7.0.\n",
            "  warnings.warn(\"`use_label_encoder` is deprecated in 1.7.0.\")\n"
          ]
        },
        {
          "output_type": "stream",
          "name": "stdout",
          "text": [
            "[CV 1/3] END simpleimputer__strategy=median, xgbclassifier__colsample_bytree=0.8982714934301164, xgbclassifier__max_depth=6, xgbclassifier__min_child_weight=8;, score=0.818 total time=   8.8s\n"
          ]
        },
        {
          "output_type": "stream",
          "name": "stderr",
          "text": [
            "/usr/local/lib/python3.8/dist-packages/xgboost/sklearn.py:1395: UserWarning: `use_label_encoder` is deprecated in 1.7.0.\n",
            "  warnings.warn(\"`use_label_encoder` is deprecated in 1.7.0.\")\n"
          ]
        },
        {
          "output_type": "stream",
          "name": "stdout",
          "text": [
            "[CV 2/3] END simpleimputer__strategy=median, xgbclassifier__colsample_bytree=0.8982714934301164, xgbclassifier__max_depth=6, xgbclassifier__min_child_weight=8;, score=0.817 total time=  17.5s\n"
          ]
        },
        {
          "output_type": "stream",
          "name": "stderr",
          "text": [
            "/usr/local/lib/python3.8/dist-packages/xgboost/sklearn.py:1395: UserWarning: `use_label_encoder` is deprecated in 1.7.0.\n",
            "  warnings.warn(\"`use_label_encoder` is deprecated in 1.7.0.\")\n"
          ]
        },
        {
          "output_type": "stream",
          "name": "stdout",
          "text": [
            "[CV 3/3] END simpleimputer__strategy=median, xgbclassifier__colsample_bytree=0.8982714934301164, xgbclassifier__max_depth=6, xgbclassifier__min_child_weight=8;, score=0.811 total time=  14.1s\n"
          ]
        },
        {
          "output_type": "stream",
          "name": "stderr",
          "text": [
            "/usr/local/lib/python3.8/dist-packages/xgboost/sklearn.py:1395: UserWarning: `use_label_encoder` is deprecated in 1.7.0.\n",
            "  warnings.warn(\"`use_label_encoder` is deprecated in 1.7.0.\")\n"
          ]
        },
        {
          "output_type": "stream",
          "name": "stdout",
          "text": [
            "[CV 1/3] END simpleimputer__strategy=mean, xgbclassifier__colsample_bytree=0.7993292420985183, xgbclassifier__max_depth=6, xgbclassifier__min_child_weight=4;, score=0.846 total time=  18.0s\n"
          ]
        },
        {
          "output_type": "stream",
          "name": "stderr",
          "text": [
            "/usr/local/lib/python3.8/dist-packages/xgboost/sklearn.py:1395: UserWarning: `use_label_encoder` is deprecated in 1.7.0.\n",
            "  warnings.warn(\"`use_label_encoder` is deprecated in 1.7.0.\")\n"
          ]
        },
        {
          "output_type": "stream",
          "name": "stdout",
          "text": [
            "[CV 2/3] END simpleimputer__strategy=mean, xgbclassifier__colsample_bytree=0.7993292420985183, xgbclassifier__max_depth=6, xgbclassifier__min_child_weight=4;, score=0.849 total time=  13.8s\n"
          ]
        },
        {
          "output_type": "stream",
          "name": "stderr",
          "text": [
            "/usr/local/lib/python3.8/dist-packages/xgboost/sklearn.py:1395: UserWarning: `use_label_encoder` is deprecated in 1.7.0.\n",
            "  warnings.warn(\"`use_label_encoder` is deprecated in 1.7.0.\")\n"
          ]
        },
        {
          "output_type": "stream",
          "name": "stdout",
          "text": [
            "[CV 3/3] END simpleimputer__strategy=mean, xgbclassifier__colsample_bytree=0.7993292420985183, xgbclassifier__max_depth=6, xgbclassifier__min_child_weight=4;, score=0.839 total time=  11.8s\n"
          ]
        },
        {
          "output_type": "stream",
          "name": "stderr",
          "text": [
            "/usr/local/lib/python3.8/dist-packages/xgboost/sklearn.py:1395: UserWarning: `use_label_encoder` is deprecated in 1.7.0.\n",
            "  warnings.warn(\"`use_label_encoder` is deprecated in 1.7.0.\")\n"
          ]
        },
        {
          "output_type": "stream",
          "name": "stdout",
          "text": [
            "[CV 1/3] END simpleimputer__strategy=median, xgbclassifier__colsample_bytree=0.5499874579090014, xgbclassifier__max_depth=6, xgbclassifier__min_child_weight=2;, score=0.820 total time=   9.3s\n"
          ]
        },
        {
          "output_type": "stream",
          "name": "stderr",
          "text": [
            "/usr/local/lib/python3.8/dist-packages/xgboost/sklearn.py:1395: UserWarning: `use_label_encoder` is deprecated in 1.7.0.\n",
            "  warnings.warn(\"`use_label_encoder` is deprecated in 1.7.0.\")\n"
          ]
        },
        {
          "output_type": "stream",
          "name": "stdout",
          "text": [
            "[CV 2/3] END simpleimputer__strategy=median, xgbclassifier__colsample_bytree=0.5499874579090014, xgbclassifier__max_depth=6, xgbclassifier__min_child_weight=2;, score=0.820 total time=  12.5s\n"
          ]
        },
        {
          "output_type": "stream",
          "name": "stderr",
          "text": [
            "/usr/local/lib/python3.8/dist-packages/xgboost/sklearn.py:1395: UserWarning: `use_label_encoder` is deprecated in 1.7.0.\n",
            "  warnings.warn(\"`use_label_encoder` is deprecated in 1.7.0.\")\n"
          ]
        },
        {
          "output_type": "stream",
          "name": "stdout",
          "text": [
            "[CV 3/3] END simpleimputer__strategy=median, xgbclassifier__colsample_bytree=0.5499874579090014, xgbclassifier__max_depth=6, xgbclassifier__min_child_weight=2;, score=0.812 total time=  17.2s\n"
          ]
        },
        {
          "output_type": "stream",
          "name": "stderr",
          "text": [
            "/usr/local/lib/python3.8/dist-packages/xgboost/sklearn.py:1395: UserWarning: `use_label_encoder` is deprecated in 1.7.0.\n",
            "  warnings.warn(\"`use_label_encoder` is deprecated in 1.7.0.\")\n"
          ]
        },
        {
          "output_type": "stream",
          "name": "stdout",
          "text": [
            "[CV 1/3] END simpleimputer__strategy=mean, xgbclassifier__colsample_bytree=0.5714334089609704, xgbclassifier__max_depth=6, xgbclassifier__min_child_weight=4;, score=0.848 total time=   6.2s\n"
          ]
        },
        {
          "output_type": "stream",
          "name": "stderr",
          "text": [
            "/usr/local/lib/python3.8/dist-packages/xgboost/sklearn.py:1395: UserWarning: `use_label_encoder` is deprecated in 1.7.0.\n",
            "  warnings.warn(\"`use_label_encoder` is deprecated in 1.7.0.\")\n"
          ]
        },
        {
          "output_type": "stream",
          "name": "stdout",
          "text": [
            "[CV 2/3] END simpleimputer__strategy=mean, xgbclassifier__colsample_bytree=0.5714334089609704, xgbclassifier__max_depth=6, xgbclassifier__min_child_weight=4;, score=0.850 total time=   4.7s\n"
          ]
        },
        {
          "output_type": "stream",
          "name": "stderr",
          "text": [
            "/usr/local/lib/python3.8/dist-packages/xgboost/sklearn.py:1395: UserWarning: `use_label_encoder` is deprecated in 1.7.0.\n",
            "  warnings.warn(\"`use_label_encoder` is deprecated in 1.7.0.\")\n"
          ]
        },
        {
          "output_type": "stream",
          "name": "stdout",
          "text": [
            "[CV 3/3] END simpleimputer__strategy=mean, xgbclassifier__colsample_bytree=0.5714334089609704, xgbclassifier__max_depth=6, xgbclassifier__min_child_weight=4;, score=0.840 total time=   6.1s\n"
          ]
        },
        {
          "output_type": "stream",
          "name": "stderr",
          "text": [
            "/usr/local/lib/python3.8/dist-packages/xgboost/sklearn.py:1395: UserWarning: `use_label_encoder` is deprecated in 1.7.0.\n",
            "  warnings.warn(\"`use_label_encoder` is deprecated in 1.7.0.\")\n"
          ]
        },
        {
          "output_type": "stream",
          "name": "stdout",
          "text": [
            "[CV 1/3] END simpleimputer__strategy=median, xgbclassifier__colsample_bytree=0.9849549260809971, xgbclassifier__max_depth=4, xgbclassifier__min_child_weight=4;, score=0.821 total time=   4.1s\n"
          ]
        },
        {
          "output_type": "stream",
          "name": "stderr",
          "text": [
            "/usr/local/lib/python3.8/dist-packages/xgboost/sklearn.py:1395: UserWarning: `use_label_encoder` is deprecated in 1.7.0.\n",
            "  warnings.warn(\"`use_label_encoder` is deprecated in 1.7.0.\")\n"
          ]
        },
        {
          "output_type": "stream",
          "name": "stdout",
          "text": [
            "[CV 2/3] END simpleimputer__strategy=median, xgbclassifier__colsample_bytree=0.9849549260809971, xgbclassifier__max_depth=4, xgbclassifier__min_child_weight=4;, score=0.821 total time=   4.3s\n"
          ]
        },
        {
          "output_type": "stream",
          "name": "stderr",
          "text": [
            "/usr/local/lib/python3.8/dist-packages/xgboost/sklearn.py:1395: UserWarning: `use_label_encoder` is deprecated in 1.7.0.\n",
            "  warnings.warn(\"`use_label_encoder` is deprecated in 1.7.0.\")\n"
          ]
        },
        {
          "output_type": "stream",
          "name": "stdout",
          "text": [
            "[CV 3/3] END simpleimputer__strategy=median, xgbclassifier__colsample_bytree=0.9849549260809971, xgbclassifier__max_depth=4, xgbclassifier__min_child_weight=4;, score=0.816 total time=   5.3s\n"
          ]
        },
        {
          "output_type": "stream",
          "name": "stderr",
          "text": [
            "/usr/local/lib/python3.8/dist-packages/xgboost/sklearn.py:1395: UserWarning: `use_label_encoder` is deprecated in 1.7.0.\n",
            "  warnings.warn(\"`use_label_encoder` is deprecated in 1.7.0.\")\n"
          ]
        },
        {
          "output_type": "stream",
          "name": "stdout",
          "text": [
            "[CV 1/3] END simpleimputer__strategy=mean, xgbclassifier__colsample_bytree=0.5909124836035503, xgbclassifier__max_depth=2, xgbclassifier__min_child_weight=2;, score=0.847 total time=   1.6s\n"
          ]
        },
        {
          "output_type": "stream",
          "name": "stderr",
          "text": [
            "/usr/local/lib/python3.8/dist-packages/xgboost/sklearn.py:1395: UserWarning: `use_label_encoder` is deprecated in 1.7.0.\n",
            "  warnings.warn(\"`use_label_encoder` is deprecated in 1.7.0.\")\n"
          ]
        },
        {
          "output_type": "stream",
          "name": "stdout",
          "text": [
            "[CV 2/3] END simpleimputer__strategy=mean, xgbclassifier__colsample_bytree=0.5909124836035503, xgbclassifier__max_depth=2, xgbclassifier__min_child_weight=2;, score=0.846 total time=   1.7s\n"
          ]
        },
        {
          "output_type": "stream",
          "name": "stderr",
          "text": [
            "/usr/local/lib/python3.8/dist-packages/xgboost/sklearn.py:1395: UserWarning: `use_label_encoder` is deprecated in 1.7.0.\n",
            "  warnings.warn(\"`use_label_encoder` is deprecated in 1.7.0.\")\n"
          ]
        },
        {
          "output_type": "stream",
          "name": "stdout",
          "text": [
            "[CV 3/3] END simpleimputer__strategy=mean, xgbclassifier__colsample_bytree=0.5909124836035503, xgbclassifier__max_depth=2, xgbclassifier__min_child_weight=2;, score=0.837 total time=   1.7s\n"
          ]
        },
        {
          "output_type": "stream",
          "name": "stderr",
          "text": [
            "/usr/local/lib/python3.8/dist-packages/xgboost/sklearn.py:1395: UserWarning: `use_label_encoder` is deprecated in 1.7.0.\n",
            "  warnings.warn(\"`use_label_encoder` is deprecated in 1.7.0.\")\n"
          ]
        },
        {
          "output_type": "stream",
          "name": "stdout",
          "text": [
            "[CV 1/3] END simpleimputer__strategy=mean, xgbclassifier__colsample_bytree=0.8058265802441404, xgbclassifier__max_depth=2, xgbclassifier__min_child_weight=2;, score=0.847 total time=   3.2s\n"
          ]
        },
        {
          "output_type": "stream",
          "name": "stderr",
          "text": [
            "/usr/local/lib/python3.8/dist-packages/xgboost/sklearn.py:1395: UserWarning: `use_label_encoder` is deprecated in 1.7.0.\n",
            "  warnings.warn(\"`use_label_encoder` is deprecated in 1.7.0.\")\n"
          ]
        },
        {
          "output_type": "stream",
          "name": "stdout",
          "text": [
            "[CV 2/3] END simpleimputer__strategy=mean, xgbclassifier__colsample_bytree=0.8058265802441404, xgbclassifier__max_depth=2, xgbclassifier__min_child_weight=2;, score=0.846 total time=   2.1s\n"
          ]
        },
        {
          "output_type": "stream",
          "name": "stderr",
          "text": [
            "/usr/local/lib/python3.8/dist-packages/xgboost/sklearn.py:1395: UserWarning: `use_label_encoder` is deprecated in 1.7.0.\n",
            "  warnings.warn(\"`use_label_encoder` is deprecated in 1.7.0.\")\n"
          ]
        },
        {
          "output_type": "stream",
          "name": "stdout",
          "text": [
            "[CV 3/3] END simpleimputer__strategy=mean, xgbclassifier__colsample_bytree=0.8058265802441404, xgbclassifier__max_depth=2, xgbclassifier__min_child_weight=2;, score=0.837 total time=   2.0s\n"
          ]
        },
        {
          "output_type": "stream",
          "name": "stderr",
          "text": [
            "/usr/local/lib/python3.8/dist-packages/xgboost/sklearn.py:1395: UserWarning: `use_label_encoder` is deprecated in 1.7.0.\n",
            "  warnings.warn(\"`use_label_encoder` is deprecated in 1.7.0.\")\n"
          ]
        },
        {
          "output_type": "stream",
          "name": "stdout",
          "text": [
            "[CV 1/3] END simpleimputer__strategy=median, xgbclassifier__colsample_bytree=0.7623873301291946, xgbclassifier__max_depth=6, xgbclassifier__min_child_weight=4;, score=0.819 total time=   5.4s\n"
          ]
        },
        {
          "output_type": "stream",
          "name": "stderr",
          "text": [
            "/usr/local/lib/python3.8/dist-packages/xgboost/sklearn.py:1395: UserWarning: `use_label_encoder` is deprecated in 1.7.0.\n",
            "  warnings.warn(\"`use_label_encoder` is deprecated in 1.7.0.\")\n"
          ]
        },
        {
          "output_type": "stream",
          "name": "stdout",
          "text": [
            "[CV 2/3] END simpleimputer__strategy=median, xgbclassifier__colsample_bytree=0.7623873301291946, xgbclassifier__max_depth=6, xgbclassifier__min_child_weight=4;, score=0.817 total time=   8.3s\n"
          ]
        },
        {
          "output_type": "stream",
          "name": "stderr",
          "text": [
            "/usr/local/lib/python3.8/dist-packages/xgboost/sklearn.py:1395: UserWarning: `use_label_encoder` is deprecated in 1.7.0.\n",
            "  warnings.warn(\"`use_label_encoder` is deprecated in 1.7.0.\")\n"
          ]
        },
        {
          "output_type": "stream",
          "name": "stdout",
          "text": [
            "[CV 3/3] END simpleimputer__strategy=median, xgbclassifier__colsample_bytree=0.7623873301291946, xgbclassifier__max_depth=6, xgbclassifier__min_child_weight=4;, score=0.811 total time=   6.9s\n"
          ]
        },
        {
          "output_type": "stream",
          "name": "stderr",
          "text": [
            "/usr/local/lib/python3.8/dist-packages/xgboost/sklearn.py:1395: UserWarning: `use_label_encoder` is deprecated in 1.7.0.\n",
            "  warnings.warn(\"`use_label_encoder` is deprecated in 1.7.0.\")\n"
          ]
        },
        {
          "output_type": "stream",
          "name": "stdout",
          "text": [
            "[CV 1/3] END simpleimputer__strategy=mean, xgbclassifier__colsample_bytree=0.6460723242676091, xgbclassifier__max_depth=6, xgbclassifier__min_child_weight=4;, score=0.846 total time=   5.0s\n"
          ]
        },
        {
          "output_type": "stream",
          "name": "stderr",
          "text": [
            "/usr/local/lib/python3.8/dist-packages/xgboost/sklearn.py:1395: UserWarning: `use_label_encoder` is deprecated in 1.7.0.\n",
            "  warnings.warn(\"`use_label_encoder` is deprecated in 1.7.0.\")\n"
          ]
        },
        {
          "output_type": "stream",
          "name": "stdout",
          "text": [
            "[CV 2/3] END simpleimputer__strategy=mean, xgbclassifier__colsample_bytree=0.6460723242676091, xgbclassifier__max_depth=6, xgbclassifier__min_child_weight=4;, score=0.849 total time=   5.2s\n"
          ]
        },
        {
          "output_type": "stream",
          "name": "stderr",
          "text": [
            "/usr/local/lib/python3.8/dist-packages/xgboost/sklearn.py:1395: UserWarning: `use_label_encoder` is deprecated in 1.7.0.\n",
            "  warnings.warn(\"`use_label_encoder` is deprecated in 1.7.0.\")\n"
          ]
        },
        {
          "output_type": "stream",
          "name": "stdout",
          "text": [
            "[CV 3/3] END simpleimputer__strategy=mean, xgbclassifier__colsample_bytree=0.6460723242676091, xgbclassifier__max_depth=6, xgbclassifier__min_child_weight=4;, score=0.841 total time=   7.4s\n"
          ]
        },
        {
          "output_type": "stream",
          "name": "stderr",
          "text": [
            "/usr/local/lib/python3.8/dist-packages/xgboost/sklearn.py:1395: UserWarning: `use_label_encoder` is deprecated in 1.7.0.\n",
            "  warnings.warn(\"`use_label_encoder` is deprecated in 1.7.0.\")\n"
          ]
        },
        {
          "output_type": "stream",
          "name": "stdout",
          "text": [
            "[CV 1/3] END simpleimputer__strategy=mean, xgbclassifier__colsample_bytree=0.8925879806965068, xgbclassifier__max_depth=6, xgbclassifier__min_child_weight=8;, score=0.847 total time=   7.4s\n"
          ]
        },
        {
          "output_type": "stream",
          "name": "stderr",
          "text": [
            "/usr/local/lib/python3.8/dist-packages/xgboost/sklearn.py:1395: UserWarning: `use_label_encoder` is deprecated in 1.7.0.\n",
            "  warnings.warn(\"`use_label_encoder` is deprecated in 1.7.0.\")\n"
          ]
        },
        {
          "output_type": "stream",
          "name": "stdout",
          "text": [
            "[CV 2/3] END simpleimputer__strategy=mean, xgbclassifier__colsample_bytree=0.8925879806965068, xgbclassifier__max_depth=6, xgbclassifier__min_child_weight=8;, score=0.848 total time=  14.3s\n"
          ]
        },
        {
          "output_type": "stream",
          "name": "stderr",
          "text": [
            "/usr/local/lib/python3.8/dist-packages/xgboost/sklearn.py:1395: UserWarning: `use_label_encoder` is deprecated in 1.7.0.\n",
            "  warnings.warn(\"`use_label_encoder` is deprecated in 1.7.0.\")\n"
          ]
        },
        {
          "output_type": "stream",
          "name": "stdout",
          "text": [
            "[CV 3/3] END simpleimputer__strategy=mean, xgbclassifier__colsample_bytree=0.8925879806965068, xgbclassifier__max_depth=6, xgbclassifier__min_child_weight=8;, score=0.839 total time=  13.6s\n"
          ]
        },
        {
          "output_type": "stream",
          "name": "stderr",
          "text": [
            "/usr/local/lib/python3.8/dist-packages/xgboost/sklearn.py:1395: UserWarning: `use_label_encoder` is deprecated in 1.7.0.\n",
            "  warnings.warn(\"`use_label_encoder` is deprecated in 1.7.0.\")\n"
          ]
        },
        {
          "output_type": "execute_result",
          "data": {
            "text/plain": [
              "RandomizedSearchCV(cv=3,\n",
              "                   estimator=Pipeline(steps=[('ordinalencoder',\n",
              "                                              OrdinalEncoder()),\n",
              "                                             ('simpleimputer',\n",
              "                                              SimpleImputer(strategy='median')),\n",
              "                                             ('xgbclassifier',\n",
              "                                              XGBClassifier(base_score=None,\n",
              "                                                            booster=None,\n",
              "                                                            callbacks=None,\n",
              "                                                            colsample_bylevel=None,\n",
              "                                                            colsample_bynode=None,\n",
              "                                                            colsample_bytree=None,\n",
              "                                                            early_stopping_rounds=None,\n",
              "                                                            enable_categorical=False,\n",
              "                                                            eval_metric='error'...\n",
              "                                                            num_parallel_tree=None,\n",
              "                                                            predictor=None,\n",
              "                                                            random_state=42, ...))]),\n",
              "                   param_distributions={'simpleimputer__strategy': ['median',\n",
              "                                                                    'mean'],\n",
              "                                        'xgbclassifier__colsample_bytree': <scipy.stats._distn_infrastructure.rv_continuous_frozen object at 0x7f022c495100>,\n",
              "                                        'xgbclassifier__max_depth': [2, 4, 6],\n",
              "                                        'xgbclassifier__min_child_weight': [2,\n",
              "                                                                            4,\n",
              "                                                                            8]},\n",
              "                   random_state=42, scoring='roc_auc', verbose=3)"
            ],
            "text/html": [
              "<style>#sk-container-id-4 {color: black;background-color: white;}#sk-container-id-4 pre{padding: 0;}#sk-container-id-4 div.sk-toggleable {background-color: white;}#sk-container-id-4 label.sk-toggleable__label {cursor: pointer;display: block;width: 100%;margin-bottom: 0;padding: 0.3em;box-sizing: border-box;text-align: center;}#sk-container-id-4 label.sk-toggleable__label-arrow:before {content: \"▸\";float: left;margin-right: 0.25em;color: #696969;}#sk-container-id-4 label.sk-toggleable__label-arrow:hover:before {color: black;}#sk-container-id-4 div.sk-estimator:hover label.sk-toggleable__label-arrow:before {color: black;}#sk-container-id-4 div.sk-toggleable__content {max-height: 0;max-width: 0;overflow: hidden;text-align: left;background-color: #f0f8ff;}#sk-container-id-4 div.sk-toggleable__content pre {margin: 0.2em;color: black;border-radius: 0.25em;background-color: #f0f8ff;}#sk-container-id-4 input.sk-toggleable__control:checked~div.sk-toggleable__content {max-height: 200px;max-width: 100%;overflow: auto;}#sk-container-id-4 input.sk-toggleable__control:checked~label.sk-toggleable__label-arrow:before {content: \"▾\";}#sk-container-id-4 div.sk-estimator input.sk-toggleable__control:checked~label.sk-toggleable__label {background-color: #d4ebff;}#sk-container-id-4 div.sk-label input.sk-toggleable__control:checked~label.sk-toggleable__label {background-color: #d4ebff;}#sk-container-id-4 input.sk-hidden--visually {border: 0;clip: rect(1px 1px 1px 1px);clip: rect(1px, 1px, 1px, 1px);height: 1px;margin: -1px;overflow: hidden;padding: 0;position: absolute;width: 1px;}#sk-container-id-4 div.sk-estimator {font-family: monospace;background-color: #f0f8ff;border: 1px dotted black;border-radius: 0.25em;box-sizing: border-box;margin-bottom: 0.5em;}#sk-container-id-4 div.sk-estimator:hover {background-color: #d4ebff;}#sk-container-id-4 div.sk-parallel-item::after {content: \"\";width: 100%;border-bottom: 1px solid gray;flex-grow: 1;}#sk-container-id-4 div.sk-label:hover label.sk-toggleable__label {background-color: #d4ebff;}#sk-container-id-4 div.sk-serial::before {content: \"\";position: absolute;border-left: 1px solid gray;box-sizing: border-box;top: 0;bottom: 0;left: 50%;z-index: 0;}#sk-container-id-4 div.sk-serial {display: flex;flex-direction: column;align-items: center;background-color: white;padding-right: 0.2em;padding-left: 0.2em;position: relative;}#sk-container-id-4 div.sk-item {position: relative;z-index: 1;}#sk-container-id-4 div.sk-parallel {display: flex;align-items: stretch;justify-content: center;background-color: white;position: relative;}#sk-container-id-4 div.sk-item::before, #sk-container-id-4 div.sk-parallel-item::before {content: \"\";position: absolute;border-left: 1px solid gray;box-sizing: border-box;top: 0;bottom: 0;left: 50%;z-index: -1;}#sk-container-id-4 div.sk-parallel-item {display: flex;flex-direction: column;z-index: 1;position: relative;background-color: white;}#sk-container-id-4 div.sk-parallel-item:first-child::after {align-self: flex-end;width: 50%;}#sk-container-id-4 div.sk-parallel-item:last-child::after {align-self: flex-start;width: 50%;}#sk-container-id-4 div.sk-parallel-item:only-child::after {width: 0;}#sk-container-id-4 div.sk-dashed-wrapped {border: 1px dashed gray;margin: 0 0.4em 0.5em 0.4em;box-sizing: border-box;padding-bottom: 0.4em;background-color: white;}#sk-container-id-4 div.sk-label label {font-family: monospace;font-weight: bold;display: inline-block;line-height: 1.2em;}#sk-container-id-4 div.sk-label-container {text-align: center;}#sk-container-id-4 div.sk-container {/* jupyter's `normalize.less` sets `[hidden] { display: none; }` but bootstrap.min.css set `[hidden] { display: none !important; }` so we also need the `!important` here to be able to override the default hidden behavior on the sphinx rendered scikit-learn.org. See: https://github.com/scikit-learn/scikit-learn/issues/21755 */display: inline-block !important;position: relative;}#sk-container-id-4 div.sk-text-repr-fallback {display: none;}</style><div id=\"sk-container-id-4\" class=\"sk-top-container\"><div class=\"sk-text-repr-fallback\"><pre>RandomizedSearchCV(cv=3,\n",
              "                   estimator=Pipeline(steps=[(&#x27;ordinalencoder&#x27;,\n",
              "                                              OrdinalEncoder()),\n",
              "                                             (&#x27;simpleimputer&#x27;,\n",
              "                                              SimpleImputer(strategy=&#x27;median&#x27;)),\n",
              "                                             (&#x27;xgbclassifier&#x27;,\n",
              "                                              XGBClassifier(base_score=None,\n",
              "                                                            booster=None,\n",
              "                                                            callbacks=None,\n",
              "                                                            colsample_bylevel=None,\n",
              "                                                            colsample_bynode=None,\n",
              "                                                            colsample_bytree=None,\n",
              "                                                            early_stopping_rounds=None,\n",
              "                                                            enable_categorical=False,\n",
              "                                                            eval_metric=&#x27;error&#x27;...\n",
              "                                                            num_parallel_tree=None,\n",
              "                                                            predictor=None,\n",
              "                                                            random_state=42, ...))]),\n",
              "                   param_distributions={&#x27;simpleimputer__strategy&#x27;: [&#x27;median&#x27;,\n",
              "                                                                    &#x27;mean&#x27;],\n",
              "                                        &#x27;xgbclassifier__colsample_bytree&#x27;: &lt;scipy.stats._distn_infrastructure.rv_continuous_frozen object at 0x7f022c495100&gt;,\n",
              "                                        &#x27;xgbclassifier__max_depth&#x27;: [2, 4, 6],\n",
              "                                        &#x27;xgbclassifier__min_child_weight&#x27;: [2,\n",
              "                                                                            4,\n",
              "                                                                            8]},\n",
              "                   random_state=42, scoring=&#x27;roc_auc&#x27;, verbose=3)</pre><b>In a Jupyter environment, please rerun this cell to show the HTML representation or trust the notebook. <br />On GitHub, the HTML representation is unable to render, please try loading this page with nbviewer.org.</b></div><div class=\"sk-container\" hidden><div class=\"sk-item sk-dashed-wrapped\"><div class=\"sk-label-container\"><div class=\"sk-label sk-toggleable\"><input class=\"sk-toggleable__control sk-hidden--visually\" id=\"sk-estimator-id-16\" type=\"checkbox\" ><label for=\"sk-estimator-id-16\" class=\"sk-toggleable__label sk-toggleable__label-arrow\">RandomizedSearchCV</label><div class=\"sk-toggleable__content\"><pre>RandomizedSearchCV(cv=3,\n",
              "                   estimator=Pipeline(steps=[(&#x27;ordinalencoder&#x27;,\n",
              "                                              OrdinalEncoder()),\n",
              "                                             (&#x27;simpleimputer&#x27;,\n",
              "                                              SimpleImputer(strategy=&#x27;median&#x27;)),\n",
              "                                             (&#x27;xgbclassifier&#x27;,\n",
              "                                              XGBClassifier(base_score=None,\n",
              "                                                            booster=None,\n",
              "                                                            callbacks=None,\n",
              "                                                            colsample_bylevel=None,\n",
              "                                                            colsample_bynode=None,\n",
              "                                                            colsample_bytree=None,\n",
              "                                                            early_stopping_rounds=None,\n",
              "                                                            enable_categorical=False,\n",
              "                                                            eval_metric=&#x27;error&#x27;...\n",
              "                                                            num_parallel_tree=None,\n",
              "                                                            predictor=None,\n",
              "                                                            random_state=42, ...))]),\n",
              "                   param_distributions={&#x27;simpleimputer__strategy&#x27;: [&#x27;median&#x27;,\n",
              "                                                                    &#x27;mean&#x27;],\n",
              "                                        &#x27;xgbclassifier__colsample_bytree&#x27;: &lt;scipy.stats._distn_infrastructure.rv_continuous_frozen object at 0x7f022c495100&gt;,\n",
              "                                        &#x27;xgbclassifier__max_depth&#x27;: [2, 4, 6],\n",
              "                                        &#x27;xgbclassifier__min_child_weight&#x27;: [2,\n",
              "                                                                            4,\n",
              "                                                                            8]},\n",
              "                   random_state=42, scoring=&#x27;roc_auc&#x27;, verbose=3)</pre></div></div></div><div class=\"sk-parallel\"><div class=\"sk-parallel-item\"><div class=\"sk-item\"><div class=\"sk-label-container\"><div class=\"sk-label sk-toggleable\"><input class=\"sk-toggleable__control sk-hidden--visually\" id=\"sk-estimator-id-17\" type=\"checkbox\" ><label for=\"sk-estimator-id-17\" class=\"sk-toggleable__label sk-toggleable__label-arrow\">estimator: Pipeline</label><div class=\"sk-toggleable__content\"><pre>Pipeline(steps=[(&#x27;ordinalencoder&#x27;, OrdinalEncoder()),\n",
              "                (&#x27;simpleimputer&#x27;, SimpleImputer(strategy=&#x27;median&#x27;)),\n",
              "                (&#x27;xgbclassifier&#x27;,\n",
              "                 XGBClassifier(base_score=None, booster=None, callbacks=None,\n",
              "                               colsample_bylevel=None, colsample_bynode=None,\n",
              "                               colsample_bytree=None,\n",
              "                               early_stopping_rounds=None,\n",
              "                               enable_categorical=False, eval_metric=&#x27;error&#x27;,\n",
              "                               feature_types=None, gamma=None, gpu_id=None,\n",
              "                               grow_policy=None, importance_type=None,\n",
              "                               interaction_constraints=None, learning_rate=0.1,\n",
              "                               max_bin=None, max_cat_threshold=None,\n",
              "                               max_cat_to_onehot=None, max_delta_step=None,\n",
              "                               max_depth=None, max_leaves=None,\n",
              "                               min_child_weight=None, missing=nan,\n",
              "                               monotone_constraints=None, n_estimators=200,\n",
              "                               n_jobs=-1, num_parallel_tree=None,\n",
              "                               predictor=None, random_state=42, ...))])</pre></div></div></div><div class=\"sk-serial\"><div class=\"sk-item\"><div class=\"sk-serial\"><div class=\"sk-item\"><div class=\"sk-estimator sk-toggleable\"><input class=\"sk-toggleable__control sk-hidden--visually\" id=\"sk-estimator-id-18\" type=\"checkbox\" ><label for=\"sk-estimator-id-18\" class=\"sk-toggleable__label sk-toggleable__label-arrow\">OrdinalEncoder</label><div class=\"sk-toggleable__content\"><pre>OrdinalEncoder()</pre></div></div></div><div class=\"sk-item\"><div class=\"sk-estimator sk-toggleable\"><input class=\"sk-toggleable__control sk-hidden--visually\" id=\"sk-estimator-id-19\" type=\"checkbox\" ><label for=\"sk-estimator-id-19\" class=\"sk-toggleable__label sk-toggleable__label-arrow\">SimpleImputer</label><div class=\"sk-toggleable__content\"><pre>SimpleImputer(strategy=&#x27;median&#x27;)</pre></div></div></div><div class=\"sk-item\"><div class=\"sk-estimator sk-toggleable\"><input class=\"sk-toggleable__control sk-hidden--visually\" id=\"sk-estimator-id-20\" type=\"checkbox\" ><label for=\"sk-estimator-id-20\" class=\"sk-toggleable__label sk-toggleable__label-arrow\">XGBClassifier</label><div class=\"sk-toggleable__content\"><pre>XGBClassifier(base_score=None, booster=None, callbacks=None,\n",
              "              colsample_bylevel=None, colsample_bynode=None,\n",
              "              colsample_bytree=None, early_stopping_rounds=None,\n",
              "              enable_categorical=False, eval_metric=&#x27;error&#x27;, feature_types=None,\n",
              "              gamma=None, gpu_id=None, grow_policy=None, importance_type=None,\n",
              "              interaction_constraints=None, learning_rate=0.1, max_bin=None,\n",
              "              max_cat_threshold=None, max_cat_to_onehot=None,\n",
              "              max_delta_step=None, max_depth=None, max_leaves=None,\n",
              "              min_child_weight=None, missing=nan, monotone_constraints=None,\n",
              "              n_estimators=200, n_jobs=-1, num_parallel_tree=None,\n",
              "              predictor=None, random_state=42, ...)</pre></div></div></div></div></div></div></div></div></div></div></div></div>"
            ]
          },
          "metadata": {},
          "execution_count": 29
        }
      ]
    },
    {
      "cell_type": "markdown",
      "source": [
        "최적의 하이퍼 파라미터 값은 다음과 같습니다."
      ],
      "metadata": {
        "id": "c1o78VPrf6Iu"
      }
    },
    {
      "cell_type": "code",
      "source": [
        "print('최적 하이퍼파라미터:', randomized_search.best_params_)\n",
        "print('최적 AUC', randomized_search.best_score_)\n"
      ],
      "metadata": {
        "colab": {
          "base_uri": "https://localhost:8080/"
        },
        "id": "nL2hKkLqgRdU",
        "outputId": "fb6ebb3b-22ee-4bc7-9158-82e20c80d713"
      },
      "execution_count": 30,
      "outputs": [
        {
          "output_type": "stream",
          "name": "stdout",
          "text": [
            "최적 하이퍼파라미터: {'simpleimputer__strategy': 'mean', 'xgbclassifier__colsample_bytree': 0.5714334089609704, 'xgbclassifier__max_depth': 6, 'xgbclassifier__min_child_weight': 4}\n",
            "최적 AUC 0.8463059762352785\n"
          ]
        }
      ]
    },
    {
      "cell_type": "markdown",
      "source": [
        "각 하이퍼 파라미터로 조합된 모델을 순위별로 나열합니다."
      ],
      "metadata": {
        "id": "9haX_Z6sghjT"
      }
    },
    {
      "cell_type": "code",
      "source": [
        "pd.DataFrame(randomized_search.cv_results_).sort_values(by='rank_test_score').T"
      ],
      "metadata": {
        "colab": {
          "base_uri": "https://localhost:8080/",
          "height": 601
        },
        "id": "hkSxdhYEgpIb",
        "outputId": "b6a2b2d7-79ff-4f3a-819a-fd578d45f1cf"
      },
      "execution_count": 31,
      "outputs": [
        {
          "output_type": "execute_result",
          "data": {
            "text/plain": [
              "                                                                                       3  \\\n",
              "mean_fit_time                                                                    5.53904   \n",
              "std_fit_time                                                                    0.700793   \n",
              "mean_score_time                                                                 0.093331   \n",
              "std_score_time                                                                  0.006347   \n",
              "param_simpleimputer__strategy                                                       mean   \n",
              "param_xgbclassifier__colsample_bytree                                           0.571433   \n",
              "param_xgbclassifier__max_depth                                                         6   \n",
              "param_xgbclassifier__min_child_weight                                                  4   \n",
              "params                                 {'simpleimputer__strategy': 'mean', 'xgbclassi...   \n",
              "split0_test_score                                                               0.848125   \n",
              "split1_test_score                                                                 0.8504   \n",
              "split2_test_score                                                               0.840393   \n",
              "mean_test_score                                                                 0.846306   \n",
              "std_test_score                                                                  0.004283   \n",
              "rank_test_score                                                                        1   \n",
              "\n",
              "                                                                                       8  \\\n",
              "mean_fit_time                                                                   5.727765   \n",
              "std_fit_time                                                                    1.094089   \n",
              "mean_score_time                                                                 0.119155   \n",
              "std_score_time                                                                  0.045623   \n",
              "param_simpleimputer__strategy                                                       mean   \n",
              "param_xgbclassifier__colsample_bytree                                           0.646072   \n",
              "param_xgbclassifier__max_depth                                                         6   \n",
              "param_xgbclassifier__min_child_weight                                                  4   \n",
              "params                                 {'simpleimputer__strategy': 'mean', 'xgbclassi...   \n",
              "split0_test_score                                                                0.84618   \n",
              "split1_test_score                                                               0.849431   \n",
              "split2_test_score                                                               0.840771   \n",
              "mean_test_score                                                                  0.84546   \n",
              "std_test_score                                                                  0.003572   \n",
              "rank_test_score                                                                        2   \n",
              "\n",
              "                                                                                       9  \\\n",
              "mean_fit_time                                                                  11.664884   \n",
              "std_fit_time                                                                     3.08978   \n",
              "mean_score_time                                                                  0.12806   \n",
              "std_score_time                                                                  0.048168   \n",
              "param_simpleimputer__strategy                                                       mean   \n",
              "param_xgbclassifier__colsample_bytree                                           0.892588   \n",
              "param_xgbclassifier__max_depth                                                         6   \n",
              "param_xgbclassifier__min_child_weight                                                  8   \n",
              "params                                 {'simpleimputer__strategy': 'mean', 'xgbclassi...   \n",
              "split0_test_score                                                                0.84746   \n",
              "split1_test_score                                                                0.84845   \n",
              "split2_test_score                                                               0.838822   \n",
              "mean_test_score                                                                 0.844911   \n",
              "std_test_score                                                                  0.004325   \n",
              "rank_test_score                                                                        3   \n",
              "\n",
              "                                                                                       1  \\\n",
              "mean_fit_time                                                                   14.42031   \n",
              "std_fit_time                                                                    2.598581   \n",
              "mean_score_time                                                                  0.12028   \n",
              "std_score_time                                                                  0.013803   \n",
              "param_simpleimputer__strategy                                                       mean   \n",
              "param_xgbclassifier__colsample_bytree                                           0.799329   \n",
              "param_xgbclassifier__max_depth                                                         6   \n",
              "param_xgbclassifier__min_child_weight                                                  4   \n",
              "params                                 {'simpleimputer__strategy': 'mean', 'xgbclassi...   \n",
              "split0_test_score                                                               0.846333   \n",
              "split1_test_score                                                               0.848624   \n",
              "split2_test_score                                                               0.838656   \n",
              "mean_test_score                                                                 0.844538   \n",
              "std_test_score                                                                  0.004263   \n",
              "rank_test_score                                                                        4   \n",
              "\n",
              "                                                                                       5  \\\n",
              "mean_fit_time                                                                   1.614353   \n",
              "std_fit_time                                                                    0.017077   \n",
              "mean_score_time                                                                 0.055122   \n",
              "std_score_time                                                                  0.001754   \n",
              "param_simpleimputer__strategy                                                       mean   \n",
              "param_xgbclassifier__colsample_bytree                                           0.590912   \n",
              "param_xgbclassifier__max_depth                                                         2   \n",
              "param_xgbclassifier__min_child_weight                                                  2   \n",
              "params                                 {'simpleimputer__strategy': 'mean', 'xgbclassi...   \n",
              "split0_test_score                                                               0.846613   \n",
              "split1_test_score                                                               0.846196   \n",
              "split2_test_score                                                               0.837032   \n",
              "mean_test_score                                                                  0.84328   \n",
              "std_test_score                                                                  0.004422   \n",
              "rank_test_score                                                                        5   \n",
              "\n",
              "                                                                                       6  \\\n",
              "mean_fit_time                                                                   2.364844   \n",
              "std_fit_time                                                                    0.518818   \n",
              "mean_score_time                                                                  0.06681   \n",
              "std_score_time                                                                  0.016256   \n",
              "param_simpleimputer__strategy                                                       mean   \n",
              "param_xgbclassifier__colsample_bytree                                           0.805827   \n",
              "param_xgbclassifier__max_depth                                                         2   \n",
              "param_xgbclassifier__min_child_weight                                                  2   \n",
              "params                                 {'simpleimputer__strategy': 'mean', 'xgbclassi...   \n",
              "split0_test_score                                                               0.846649   \n",
              "split1_test_score                                                               0.846044   \n",
              "split2_test_score                                                               0.836791   \n",
              "mean_test_score                                                                 0.843161   \n",
              "std_test_score                                                                  0.004511   \n",
              "rank_test_score                                                                        6   \n",
              "\n",
              "                                                                                       4  \\\n",
              "mean_fit_time                                                                   4.483219   \n",
              "std_fit_time                                                                    0.529986   \n",
              "mean_score_time                                                                 0.088404   \n",
              "std_score_time                                                                  0.029002   \n",
              "param_simpleimputer__strategy                                                     median   \n",
              "param_xgbclassifier__colsample_bytree                                           0.984955   \n",
              "param_xgbclassifier__max_depth                                                         4   \n",
              "param_xgbclassifier__min_child_weight                                                  4   \n",
              "params                                 {'simpleimputer__strategy': 'median', 'xgbclas...   \n",
              "split0_test_score                                                                0.82134   \n",
              "split1_test_score                                                                0.82127   \n",
              "split2_test_score                                                               0.815564   \n",
              "mean_test_score                                                                 0.819391   \n",
              "std_test_score                                                                  0.002706   \n",
              "rank_test_score                                                                        7   \n",
              "\n",
              "                                                                                       2  \\\n",
              "mean_fit_time                                                                   12.83638   \n",
              "std_fit_time                                                                    3.235884   \n",
              "mean_score_time                                                                 0.147881   \n",
              "std_score_time                                                                  0.041741   \n",
              "param_simpleimputer__strategy                                                     median   \n",
              "param_xgbclassifier__colsample_bytree                                           0.549987   \n",
              "param_xgbclassifier__max_depth                                                         6   \n",
              "param_xgbclassifier__min_child_weight                                                  2   \n",
              "params                                 {'simpleimputer__strategy': 'median', 'xgbclas...   \n",
              "split0_test_score                                                               0.819671   \n",
              "split1_test_score                                                               0.819797   \n",
              "split2_test_score                                                               0.811998   \n",
              "mean_test_score                                                                 0.817155   \n",
              "std_test_score                                                                  0.003647   \n",
              "rank_test_score                                                                        8   \n",
              "\n",
              "                                                                                       7  \\\n",
              "mean_fit_time                                                                    6.77463   \n",
              "std_fit_time                                                                    1.162268   \n",
              "mean_score_time                                                                 0.091299   \n",
              "std_score_time                                                                  0.005817   \n",
              "param_simpleimputer__strategy                                                     median   \n",
              "param_xgbclassifier__colsample_bytree                                           0.762387   \n",
              "param_xgbclassifier__max_depth                                                         6   \n",
              "param_xgbclassifier__min_child_weight                                                  4   \n",
              "params                                 {'simpleimputer__strategy': 'median', 'xgbclas...   \n",
              "split0_test_score                                                               0.819339   \n",
              "split1_test_score                                                               0.817075   \n",
              "split2_test_score                                                               0.810942   \n",
              "mean_test_score                                                                 0.815785   \n",
              "std_test_score                                                                  0.003547   \n",
              "rank_test_score                                                                        9   \n",
              "\n",
              "                                                                                       0  \n",
              "mean_fit_time                                                                  13.261292  \n",
              "std_fit_time                                                                    3.507992  \n",
              "mean_score_time                                                                 0.237109  \n",
              "std_score_time                                                                   0.13552  \n",
              "param_simpleimputer__strategy                                                     median  \n",
              "param_xgbclassifier__colsample_bytree                                           0.898271  \n",
              "param_xgbclassifier__max_depth                                                         6  \n",
              "param_xgbclassifier__min_child_weight                                                  8  \n",
              "params                                 {'simpleimputer__strategy': 'median', 'xgbclas...  \n",
              "split0_test_score                                                               0.818332  \n",
              "split1_test_score                                                               0.816761  \n",
              "split2_test_score                                                               0.811102  \n",
              "mean_test_score                                                                 0.815398  \n",
              "std_test_score                                                                  0.003105  \n",
              "rank_test_score                                                                       10  "
            ],
            "text/html": [
              "\n",
              "  <div id=\"df-b7545533-aed3-4362-aa91-4acbb9a88efd\">\n",
              "    <div class=\"colab-df-container\">\n",
              "      <div>\n",
              "<style scoped>\n",
              "    .dataframe tbody tr th:only-of-type {\n",
              "        vertical-align: middle;\n",
              "    }\n",
              "\n",
              "    .dataframe tbody tr th {\n",
              "        vertical-align: top;\n",
              "    }\n",
              "\n",
              "    .dataframe thead th {\n",
              "        text-align: right;\n",
              "    }\n",
              "</style>\n",
              "<table border=\"1\" class=\"dataframe\">\n",
              "  <thead>\n",
              "    <tr style=\"text-align: right;\">\n",
              "      <th></th>\n",
              "      <th>3</th>\n",
              "      <th>8</th>\n",
              "      <th>9</th>\n",
              "      <th>1</th>\n",
              "      <th>5</th>\n",
              "      <th>6</th>\n",
              "      <th>4</th>\n",
              "      <th>2</th>\n",
              "      <th>7</th>\n",
              "      <th>0</th>\n",
              "    </tr>\n",
              "  </thead>\n",
              "  <tbody>\n",
              "    <tr>\n",
              "      <th>mean_fit_time</th>\n",
              "      <td>5.53904</td>\n",
              "      <td>5.727765</td>\n",
              "      <td>11.664884</td>\n",
              "      <td>14.42031</td>\n",
              "      <td>1.614353</td>\n",
              "      <td>2.364844</td>\n",
              "      <td>4.483219</td>\n",
              "      <td>12.83638</td>\n",
              "      <td>6.77463</td>\n",
              "      <td>13.261292</td>\n",
              "    </tr>\n",
              "    <tr>\n",
              "      <th>std_fit_time</th>\n",
              "      <td>0.700793</td>\n",
              "      <td>1.094089</td>\n",
              "      <td>3.08978</td>\n",
              "      <td>2.598581</td>\n",
              "      <td>0.017077</td>\n",
              "      <td>0.518818</td>\n",
              "      <td>0.529986</td>\n",
              "      <td>3.235884</td>\n",
              "      <td>1.162268</td>\n",
              "      <td>3.507992</td>\n",
              "    </tr>\n",
              "    <tr>\n",
              "      <th>mean_score_time</th>\n",
              "      <td>0.093331</td>\n",
              "      <td>0.119155</td>\n",
              "      <td>0.12806</td>\n",
              "      <td>0.12028</td>\n",
              "      <td>0.055122</td>\n",
              "      <td>0.06681</td>\n",
              "      <td>0.088404</td>\n",
              "      <td>0.147881</td>\n",
              "      <td>0.091299</td>\n",
              "      <td>0.237109</td>\n",
              "    </tr>\n",
              "    <tr>\n",
              "      <th>std_score_time</th>\n",
              "      <td>0.006347</td>\n",
              "      <td>0.045623</td>\n",
              "      <td>0.048168</td>\n",
              "      <td>0.013803</td>\n",
              "      <td>0.001754</td>\n",
              "      <td>0.016256</td>\n",
              "      <td>0.029002</td>\n",
              "      <td>0.041741</td>\n",
              "      <td>0.005817</td>\n",
              "      <td>0.13552</td>\n",
              "    </tr>\n",
              "    <tr>\n",
              "      <th>param_simpleimputer__strategy</th>\n",
              "      <td>mean</td>\n",
              "      <td>mean</td>\n",
              "      <td>mean</td>\n",
              "      <td>mean</td>\n",
              "      <td>mean</td>\n",
              "      <td>mean</td>\n",
              "      <td>median</td>\n",
              "      <td>median</td>\n",
              "      <td>median</td>\n",
              "      <td>median</td>\n",
              "    </tr>\n",
              "    <tr>\n",
              "      <th>param_xgbclassifier__colsample_bytree</th>\n",
              "      <td>0.571433</td>\n",
              "      <td>0.646072</td>\n",
              "      <td>0.892588</td>\n",
              "      <td>0.799329</td>\n",
              "      <td>0.590912</td>\n",
              "      <td>0.805827</td>\n",
              "      <td>0.984955</td>\n",
              "      <td>0.549987</td>\n",
              "      <td>0.762387</td>\n",
              "      <td>0.898271</td>\n",
              "    </tr>\n",
              "    <tr>\n",
              "      <th>param_xgbclassifier__max_depth</th>\n",
              "      <td>6</td>\n",
              "      <td>6</td>\n",
              "      <td>6</td>\n",
              "      <td>6</td>\n",
              "      <td>2</td>\n",
              "      <td>2</td>\n",
              "      <td>4</td>\n",
              "      <td>6</td>\n",
              "      <td>6</td>\n",
              "      <td>6</td>\n",
              "    </tr>\n",
              "    <tr>\n",
              "      <th>param_xgbclassifier__min_child_weight</th>\n",
              "      <td>4</td>\n",
              "      <td>4</td>\n",
              "      <td>8</td>\n",
              "      <td>4</td>\n",
              "      <td>2</td>\n",
              "      <td>2</td>\n",
              "      <td>4</td>\n",
              "      <td>2</td>\n",
              "      <td>4</td>\n",
              "      <td>8</td>\n",
              "    </tr>\n",
              "    <tr>\n",
              "      <th>params</th>\n",
              "      <td>{'simpleimputer__strategy': 'mean', 'xgbclassi...</td>\n",
              "      <td>{'simpleimputer__strategy': 'mean', 'xgbclassi...</td>\n",
              "      <td>{'simpleimputer__strategy': 'mean', 'xgbclassi...</td>\n",
              "      <td>{'simpleimputer__strategy': 'mean', 'xgbclassi...</td>\n",
              "      <td>{'simpleimputer__strategy': 'mean', 'xgbclassi...</td>\n",
              "      <td>{'simpleimputer__strategy': 'mean', 'xgbclassi...</td>\n",
              "      <td>{'simpleimputer__strategy': 'median', 'xgbclas...</td>\n",
              "      <td>{'simpleimputer__strategy': 'median', 'xgbclas...</td>\n",
              "      <td>{'simpleimputer__strategy': 'median', 'xgbclas...</td>\n",
              "      <td>{'simpleimputer__strategy': 'median', 'xgbclas...</td>\n",
              "    </tr>\n",
              "    <tr>\n",
              "      <th>split0_test_score</th>\n",
              "      <td>0.848125</td>\n",
              "      <td>0.84618</td>\n",
              "      <td>0.84746</td>\n",
              "      <td>0.846333</td>\n",
              "      <td>0.846613</td>\n",
              "      <td>0.846649</td>\n",
              "      <td>0.82134</td>\n",
              "      <td>0.819671</td>\n",
              "      <td>0.819339</td>\n",
              "      <td>0.818332</td>\n",
              "    </tr>\n",
              "    <tr>\n",
              "      <th>split1_test_score</th>\n",
              "      <td>0.8504</td>\n",
              "      <td>0.849431</td>\n",
              "      <td>0.84845</td>\n",
              "      <td>0.848624</td>\n",
              "      <td>0.846196</td>\n",
              "      <td>0.846044</td>\n",
              "      <td>0.82127</td>\n",
              "      <td>0.819797</td>\n",
              "      <td>0.817075</td>\n",
              "      <td>0.816761</td>\n",
              "    </tr>\n",
              "    <tr>\n",
              "      <th>split2_test_score</th>\n",
              "      <td>0.840393</td>\n",
              "      <td>0.840771</td>\n",
              "      <td>0.838822</td>\n",
              "      <td>0.838656</td>\n",
              "      <td>0.837032</td>\n",
              "      <td>0.836791</td>\n",
              "      <td>0.815564</td>\n",
              "      <td>0.811998</td>\n",
              "      <td>0.810942</td>\n",
              "      <td>0.811102</td>\n",
              "    </tr>\n",
              "    <tr>\n",
              "      <th>mean_test_score</th>\n",
              "      <td>0.846306</td>\n",
              "      <td>0.84546</td>\n",
              "      <td>0.844911</td>\n",
              "      <td>0.844538</td>\n",
              "      <td>0.84328</td>\n",
              "      <td>0.843161</td>\n",
              "      <td>0.819391</td>\n",
              "      <td>0.817155</td>\n",
              "      <td>0.815785</td>\n",
              "      <td>0.815398</td>\n",
              "    </tr>\n",
              "    <tr>\n",
              "      <th>std_test_score</th>\n",
              "      <td>0.004283</td>\n",
              "      <td>0.003572</td>\n",
              "      <td>0.004325</td>\n",
              "      <td>0.004263</td>\n",
              "      <td>0.004422</td>\n",
              "      <td>0.004511</td>\n",
              "      <td>0.002706</td>\n",
              "      <td>0.003647</td>\n",
              "      <td>0.003547</td>\n",
              "      <td>0.003105</td>\n",
              "    </tr>\n",
              "    <tr>\n",
              "      <th>rank_test_score</th>\n",
              "      <td>1</td>\n",
              "      <td>2</td>\n",
              "      <td>3</td>\n",
              "      <td>4</td>\n",
              "      <td>5</td>\n",
              "      <td>6</td>\n",
              "      <td>7</td>\n",
              "      <td>8</td>\n",
              "      <td>9</td>\n",
              "      <td>10</td>\n",
              "    </tr>\n",
              "  </tbody>\n",
              "</table>\n",
              "</div>\n",
              "      <button class=\"colab-df-convert\" onclick=\"convertToInteractive('df-b7545533-aed3-4362-aa91-4acbb9a88efd')\"\n",
              "              title=\"Convert this dataframe to an interactive table.\"\n",
              "              style=\"display:none;\">\n",
              "        \n",
              "  <svg xmlns=\"http://www.w3.org/2000/svg\" height=\"24px\"viewBox=\"0 0 24 24\"\n",
              "       width=\"24px\">\n",
              "    <path d=\"M0 0h24v24H0V0z\" fill=\"none\"/>\n",
              "    <path d=\"M18.56 5.44l.94 2.06.94-2.06 2.06-.94-2.06-.94-.94-2.06-.94 2.06-2.06.94zm-11 1L8.5 8.5l.94-2.06 2.06-.94-2.06-.94L8.5 2.5l-.94 2.06-2.06.94zm10 10l.94 2.06.94-2.06 2.06-.94-2.06-.94-.94-2.06-.94 2.06-2.06.94z\"/><path d=\"M17.41 7.96l-1.37-1.37c-.4-.4-.92-.59-1.43-.59-.52 0-1.04.2-1.43.59L10.3 9.45l-7.72 7.72c-.78.78-.78 2.05 0 2.83L4 21.41c.39.39.9.59 1.41.59.51 0 1.02-.2 1.41-.59l7.78-7.78 2.81-2.81c.8-.78.8-2.07 0-2.86zM5.41 20L4 18.59l7.72-7.72 1.47 1.35L5.41 20z\"/>\n",
              "  </svg>\n",
              "      </button>\n",
              "      \n",
              "  <style>\n",
              "    .colab-df-container {\n",
              "      display:flex;\n",
              "      flex-wrap:wrap;\n",
              "      gap: 12px;\n",
              "    }\n",
              "\n",
              "    .colab-df-convert {\n",
              "      background-color: #E8F0FE;\n",
              "      border: none;\n",
              "      border-radius: 50%;\n",
              "      cursor: pointer;\n",
              "      display: none;\n",
              "      fill: #1967D2;\n",
              "      height: 32px;\n",
              "      padding: 0 0 0 0;\n",
              "      width: 32px;\n",
              "    }\n",
              "\n",
              "    .colab-df-convert:hover {\n",
              "      background-color: #E2EBFA;\n",
              "      box-shadow: 0px 1px 2px rgba(60, 64, 67, 0.3), 0px 1px 3px 1px rgba(60, 64, 67, 0.15);\n",
              "      fill: #174EA6;\n",
              "    }\n",
              "\n",
              "    [theme=dark] .colab-df-convert {\n",
              "      background-color: #3B4455;\n",
              "      fill: #D2E3FC;\n",
              "    }\n",
              "\n",
              "    [theme=dark] .colab-df-convert:hover {\n",
              "      background-color: #434B5C;\n",
              "      box-shadow: 0px 1px 3px 1px rgba(0, 0, 0, 0.15);\n",
              "      filter: drop-shadow(0px 1px 2px rgba(0, 0, 0, 0.3));\n",
              "      fill: #FFFFFF;\n",
              "    }\n",
              "  </style>\n",
              "\n",
              "      <script>\n",
              "        const buttonEl =\n",
              "          document.querySelector('#df-b7545533-aed3-4362-aa91-4acbb9a88efd button.colab-df-convert');\n",
              "        buttonEl.style.display =\n",
              "          google.colab.kernel.accessAllowed ? 'block' : 'none';\n",
              "\n",
              "        async function convertToInteractive(key) {\n",
              "          const element = document.querySelector('#df-b7545533-aed3-4362-aa91-4acbb9a88efd');\n",
              "          const dataTable =\n",
              "            await google.colab.kernel.invokeFunction('convertToInteractive',\n",
              "                                                     [key], {});\n",
              "          if (!dataTable) return;\n",
              "\n",
              "          const docLinkHtml = 'Like what you see? Visit the ' +\n",
              "            '<a target=\"_blank\" href=https://colab.research.google.com/notebooks/data_table.ipynb>data table notebook</a>'\n",
              "            + ' to learn more about interactive tables.';\n",
              "          element.innerHTML = '';\n",
              "          dataTable['output_type'] = 'display_data';\n",
              "          await google.colab.output.renderOutput(dataTable, element);\n",
              "          const docLink = document.createElement('div');\n",
              "          docLink.innerHTML = docLinkHtml;\n",
              "          element.appendChild(docLink);\n",
              "        }\n",
              "      </script>\n",
              "    </div>\n",
              "  </div>\n",
              "  "
            ]
          },
          "metadata": {},
          "execution_count": 31
        }
      ]
    },
    {
      "cell_type": "markdown",
      "source": [
        "`hyperopt` 라이브러리를 사용하여 베이지안 Search 진행.\n"
      ],
      "metadata": {
        "id": "ykYJS4VWi9Yu"
      }
    },
    {
      "cell_type": "code",
      "source": [
        "from hyperopt import hp\n",
        "\n",
        "# 파라미터 설정.\n",
        "params = {\n",
        "    \"simpleimputer__strategy\": hp.choice(\"strategy\", [\"median\", \"mean\"]),\n",
        "    \"xgbclassifier__max_depth\": hp.quniform(\"max_depth\", 2, 10, 2),\n",
        "    \"xgbclassifier__min_child_weight\": hp.quniform(\"min_child_weight\", 2, 10, 2),\n",
        "    \"xgbclassifier__colsample_bytree\": hp.uniform(\"colsample_bytree\", 0.5, 1.0),\n",
        "}"
      ],
      "metadata": {
        "id": "2AZbP4NpjfYi"
      },
      "execution_count": 32,
      "outputs": []
    },
    {
      "cell_type": "code",
      "source": [
        "from hyperopt import fmin, tpe, Trials, STATUS_OK\n",
        "from sklearn.model_selection import cross_val_score\n",
        "import numpy as np\n",
        "\n",
        "def get_pipe(params):\n",
        "  params['xgbclassifier__max_depth'] = int(params['xgbclassifier__max_depth'])\n",
        "\n",
        "  pipe = make_pipeline(\n",
        "      OrdinalEncoder(),\n",
        "      SimpleImputer(strategy = 'median'),\n",
        "      XGBClassifier(\n",
        "          objective = 'binary:logistic',\n",
        "          eval_metric = 'error',\n",
        "          n_estimators=200,\n",
        "          random_state = 42,\n",
        "          n_jobs =-1,\n",
        "          learning_rate = 0.1,\n",
        "          use_label_encoder = False,\n",
        "      )\n",
        "  )\n",
        "  pipe = pipe.set_params(**params)\n",
        "  return pipe\n",
        "\n",
        "def fit_and_eval(params):\n",
        "  pipe = get_pipe(params) # 주어진 params로 파이프라인을 만들어 가져옵니다.\n",
        "  score = cross_val_score(pipe, X_train, y_train, cv=3, scoring = 'roc_auc')\n",
        "  avg_cv_score = np.mean(score)\n",
        "\n",
        "  # roc_auc는 클수록 좋은 metric이므로, hyperopt.fmin이 roc_auc를 최대화하도록 하기 위해 - 부호를 붙여 반환한다.\n",
        "  return {'loss': -avg_cv_score, 'status':STATUS_OK}\n",
        "\n",
        "trials = (\n",
        "    Trials()\n",
        ") #Trials() 객체를 fmin에 함께 넣어 실행하면, 실행되는 매 fit의 학습 정보 및 학습 결과 해당 객체에 모두 저장된다.\n",
        "\n",
        "best_params = fmin(\n",
        "    fn = fit_and_eval, # 목적함수\n",
        "    trials =trials, \n",
        "    space = params, # 검색공간\n",
        "    algo = tpe.suggest, # 베이지안 최적화 적용 알고리즘\n",
        "    max_evals = 10, # 입력 횟수\n",
        "    rstate = np.random.RandomState(2023)\n",
        ")"
      ],
      "metadata": {
        "colab": {
          "base_uri": "https://localhost:8080/"
        },
        "id": "-Co1s0MMkD0B",
        "outputId": "b5a7e279-b3db-4514-daae-b2ca927f56e0"
      },
      "execution_count": 33,
      "outputs": [
        {
          "output_type": "stream",
          "name": "stdout",
          "text": [
            "\r  0%|          | 0/10 [00:00<?, ?it/s, best loss: ?]"
          ]
        },
        {
          "output_type": "stream",
          "name": "stderr",
          "text": [
            "/usr/local/lib/python3.8/dist-packages/xgboost/sklearn.py:1395: UserWarning: `use_label_encoder` is deprecated in 1.7.0.\n",
            "  warnings.warn(\"`use_label_encoder` is deprecated in 1.7.0.\")\n",
            "\n",
            "/usr/local/lib/python3.8/dist-packages/xgboost/sklearn.py:1395: UserWarning: `use_label_encoder` is deprecated in 1.7.0.\n",
            "  warnings.warn(\"`use_label_encoder` is deprecated in 1.7.0.\")\n",
            "\n",
            "/usr/local/lib/python3.8/dist-packages/xgboost/sklearn.py:1395: UserWarning: `use_label_encoder` is deprecated in 1.7.0.\n",
            "  warnings.warn(\"`use_label_encoder` is deprecated in 1.7.0.\")\n",
            "\n",
            "/usr/local/lib/python3.8/dist-packages/xgboost/sklearn.py:1395: UserWarning: `use_label_encoder` is deprecated in 1.7.0.\n",
            "  warnings.warn(\"`use_label_encoder` is deprecated in 1.7.0.\")\n",
            "\n"
          ]
        },
        {
          "output_type": "stream",
          "name": "stdout",
          "text": [
            "\r 10%|█         | 1/10 [00:39<05:59, 39.93s/it, best loss: -0.815398310321671]"
          ]
        },
        {
          "output_type": "stream",
          "name": "stderr",
          "text": [
            "/usr/local/lib/python3.8/dist-packages/xgboost/sklearn.py:1395: UserWarning: `use_label_encoder` is deprecated in 1.7.0.\n",
            "  warnings.warn(\"`use_label_encoder` is deprecated in 1.7.0.\")\n",
            "\n",
            "/usr/local/lib/python3.8/dist-packages/xgboost/sklearn.py:1395: UserWarning: `use_label_encoder` is deprecated in 1.7.0.\n",
            "  warnings.warn(\"`use_label_encoder` is deprecated in 1.7.0.\")\n",
            "\n",
            "/usr/local/lib/python3.8/dist-packages/xgboost/sklearn.py:1395: UserWarning: `use_label_encoder` is deprecated in 1.7.0.\n",
            "  warnings.warn(\"`use_label_encoder` is deprecated in 1.7.0.\")\n",
            "\n",
            "/usr/local/lib/python3.8/dist-packages/xgboost/sklearn.py:1395: UserWarning: `use_label_encoder` is deprecated in 1.7.0.\n",
            "  warnings.warn(\"`use_label_encoder` is deprecated in 1.7.0.\")\n",
            "\n"
          ]
        },
        {
          "output_type": "stream",
          "name": "stdout",
          "text": [
            "\r 20%|██        | 2/10 [01:12<04:42, 35.36s/it, best loss: -0.815398310321671]"
          ]
        },
        {
          "output_type": "stream",
          "name": "stderr",
          "text": [
            "/usr/local/lib/python3.8/dist-packages/xgboost/sklearn.py:1395: UserWarning: `use_label_encoder` is deprecated in 1.7.0.\n",
            "  warnings.warn(\"`use_label_encoder` is deprecated in 1.7.0.\")\n",
            "\n",
            "/usr/local/lib/python3.8/dist-packages/xgboost/sklearn.py:1395: UserWarning: `use_label_encoder` is deprecated in 1.7.0.\n",
            "  warnings.warn(\"`use_label_encoder` is deprecated in 1.7.0.\")\n",
            "\n",
            "/usr/local/lib/python3.8/dist-packages/xgboost/sklearn.py:1395: UserWarning: `use_label_encoder` is deprecated in 1.7.0.\n",
            "  warnings.warn(\"`use_label_encoder` is deprecated in 1.7.0.\")\n",
            "\n",
            "/usr/local/lib/python3.8/dist-packages/xgboost/sklearn.py:1395: UserWarning: `use_label_encoder` is deprecated in 1.7.0.\n",
            "  warnings.warn(\"`use_label_encoder` is deprecated in 1.7.0.\")\n",
            "\n"
          ]
        },
        {
          "output_type": "stream",
          "name": "stdout",
          "text": [
            "\r 30%|███       | 3/10 [01:25<02:57, 25.37s/it, best loss: -0.8481736961555155]"
          ]
        },
        {
          "output_type": "stream",
          "name": "stderr",
          "text": [
            "/usr/local/lib/python3.8/dist-packages/xgboost/sklearn.py:1395: UserWarning: `use_label_encoder` is deprecated in 1.7.0.\n",
            "  warnings.warn(\"`use_label_encoder` is deprecated in 1.7.0.\")\n",
            "\n",
            "/usr/local/lib/python3.8/dist-packages/xgboost/sklearn.py:1395: UserWarning: `use_label_encoder` is deprecated in 1.7.0.\n",
            "  warnings.warn(\"`use_label_encoder` is deprecated in 1.7.0.\")\n",
            "\n",
            "/usr/local/lib/python3.8/dist-packages/xgboost/sklearn.py:1395: UserWarning: `use_label_encoder` is deprecated in 1.7.0.\n",
            "  warnings.warn(\"`use_label_encoder` is deprecated in 1.7.0.\")\n",
            "\n",
            "/usr/local/lib/python3.8/dist-packages/xgboost/sklearn.py:1395: UserWarning: `use_label_encoder` is deprecated in 1.7.0.\n",
            "  warnings.warn(\"`use_label_encoder` is deprecated in 1.7.0.\")\n",
            "\n"
          ]
        },
        {
          "output_type": "stream",
          "name": "stdout",
          "text": [
            "\r 40%|████      | 4/10 [01:32<01:48, 18.14s/it, best loss: -0.8481736961555155]"
          ]
        },
        {
          "output_type": "stream",
          "name": "stderr",
          "text": [
            "/usr/local/lib/python3.8/dist-packages/xgboost/sklearn.py:1395: UserWarning: `use_label_encoder` is deprecated in 1.7.0.\n",
            "  warnings.warn(\"`use_label_encoder` is deprecated in 1.7.0.\")\n",
            "\n",
            "/usr/local/lib/python3.8/dist-packages/xgboost/sklearn.py:1395: UserWarning: `use_label_encoder` is deprecated in 1.7.0.\n",
            "  warnings.warn(\"`use_label_encoder` is deprecated in 1.7.0.\")\n",
            "\n",
            "/usr/local/lib/python3.8/dist-packages/xgboost/sklearn.py:1395: UserWarning: `use_label_encoder` is deprecated in 1.7.0.\n",
            "  warnings.warn(\"`use_label_encoder` is deprecated in 1.7.0.\")\n",
            "\n",
            "/usr/local/lib/python3.8/dist-packages/xgboost/sklearn.py:1395: UserWarning: `use_label_encoder` is deprecated in 1.7.0.\n",
            "  warnings.warn(\"`use_label_encoder` is deprecated in 1.7.0.\")\n",
            "\n"
          ]
        },
        {
          "output_type": "stream",
          "name": "stdout",
          "text": [
            "\r 50%|█████     | 5/10 [02:16<02:17, 27.49s/it, best loss: -0.8481736961555155]"
          ]
        },
        {
          "output_type": "stream",
          "name": "stderr",
          "text": [
            "/usr/local/lib/python3.8/dist-packages/xgboost/sklearn.py:1395: UserWarning: `use_label_encoder` is deprecated in 1.7.0.\n",
            "  warnings.warn(\"`use_label_encoder` is deprecated in 1.7.0.\")\n",
            "\n",
            "/usr/local/lib/python3.8/dist-packages/xgboost/sklearn.py:1395: UserWarning: `use_label_encoder` is deprecated in 1.7.0.\n",
            "  warnings.warn(\"`use_label_encoder` is deprecated in 1.7.0.\")\n",
            "\n",
            "/usr/local/lib/python3.8/dist-packages/xgboost/sklearn.py:1395: UserWarning: `use_label_encoder` is deprecated in 1.7.0.\n",
            "  warnings.warn(\"`use_label_encoder` is deprecated in 1.7.0.\")\n",
            "\n",
            "/usr/local/lib/python3.8/dist-packages/xgboost/sklearn.py:1395: UserWarning: `use_label_encoder` is deprecated in 1.7.0.\n",
            "  warnings.warn(\"`use_label_encoder` is deprecated in 1.7.0.\")\n",
            "\n"
          ]
        },
        {
          "output_type": "stream",
          "name": "stdout",
          "text": [
            "\r 60%|██████    | 6/10 [03:01<02:13, 33.29s/it, best loss: -0.8481736961555155]"
          ]
        },
        {
          "output_type": "stream",
          "name": "stderr",
          "text": [
            "/usr/local/lib/python3.8/dist-packages/xgboost/sklearn.py:1395: UserWarning: `use_label_encoder` is deprecated in 1.7.0.\n",
            "  warnings.warn(\"`use_label_encoder` is deprecated in 1.7.0.\")\n",
            "\n",
            "/usr/local/lib/python3.8/dist-packages/xgboost/sklearn.py:1395: UserWarning: `use_label_encoder` is deprecated in 1.7.0.\n",
            "  warnings.warn(\"`use_label_encoder` is deprecated in 1.7.0.\")\n",
            "\n",
            "/usr/local/lib/python3.8/dist-packages/xgboost/sklearn.py:1395: UserWarning: `use_label_encoder` is deprecated in 1.7.0.\n",
            "  warnings.warn(\"`use_label_encoder` is deprecated in 1.7.0.\")\n",
            "\n",
            "/usr/local/lib/python3.8/dist-packages/xgboost/sklearn.py:1395: UserWarning: `use_label_encoder` is deprecated in 1.7.0.\n",
            "  warnings.warn(\"`use_label_encoder` is deprecated in 1.7.0.\")\n",
            "\n"
          ]
        },
        {
          "output_type": "stream",
          "name": "stdout",
          "text": [
            "\r 70%|███████   | 7/10 [03:23<01:29, 29.80s/it, best loss: -0.8481736961555155]"
          ]
        },
        {
          "output_type": "stream",
          "name": "stderr",
          "text": [
            "/usr/local/lib/python3.8/dist-packages/xgboost/sklearn.py:1395: UserWarning: `use_label_encoder` is deprecated in 1.7.0.\n",
            "  warnings.warn(\"`use_label_encoder` is deprecated in 1.7.0.\")\n",
            "\n",
            "/usr/local/lib/python3.8/dist-packages/xgboost/sklearn.py:1395: UserWarning: `use_label_encoder` is deprecated in 1.7.0.\n",
            "  warnings.warn(\"`use_label_encoder` is deprecated in 1.7.0.\")\n",
            "\n",
            "/usr/local/lib/python3.8/dist-packages/xgboost/sklearn.py:1395: UserWarning: `use_label_encoder` is deprecated in 1.7.0.\n",
            "  warnings.warn(\"`use_label_encoder` is deprecated in 1.7.0.\")\n",
            "\n",
            "/usr/local/lib/python3.8/dist-packages/xgboost/sklearn.py:1395: UserWarning: `use_label_encoder` is deprecated in 1.7.0.\n",
            "  warnings.warn(\"`use_label_encoder` is deprecated in 1.7.0.\")\n",
            "\n"
          ]
        },
        {
          "output_type": "stream",
          "name": "stdout",
          "text": [
            "\r 80%|████████  | 8/10 [03:46<00:54, 27.36s/it, best loss: -0.8481736961555155]"
          ]
        },
        {
          "output_type": "stream",
          "name": "stderr",
          "text": [
            "/usr/local/lib/python3.8/dist-packages/xgboost/sklearn.py:1395: UserWarning: `use_label_encoder` is deprecated in 1.7.0.\n",
            "  warnings.warn(\"`use_label_encoder` is deprecated in 1.7.0.\")\n",
            "\n",
            "/usr/local/lib/python3.8/dist-packages/xgboost/sklearn.py:1395: UserWarning: `use_label_encoder` is deprecated in 1.7.0.\n",
            "  warnings.warn(\"`use_label_encoder` is deprecated in 1.7.0.\")\n",
            "\n",
            "/usr/local/lib/python3.8/dist-packages/xgboost/sklearn.py:1395: UserWarning: `use_label_encoder` is deprecated in 1.7.0.\n",
            "  warnings.warn(\"`use_label_encoder` is deprecated in 1.7.0.\")\n",
            "\n",
            "/usr/local/lib/python3.8/dist-packages/xgboost/sklearn.py:1395: UserWarning: `use_label_encoder` is deprecated in 1.7.0.\n",
            "  warnings.warn(\"`use_label_encoder` is deprecated in 1.7.0.\")\n",
            "\n"
          ]
        },
        {
          "output_type": "stream",
          "name": "stdout",
          "text": [
            "\r 90%|█████████ | 9/10 [03:58<00:22, 22.68s/it, best loss: -0.8481736961555155]"
          ]
        },
        {
          "output_type": "stream",
          "name": "stderr",
          "text": [
            "/usr/local/lib/python3.8/dist-packages/xgboost/sklearn.py:1395: UserWarning: `use_label_encoder` is deprecated in 1.7.0.\n",
            "  warnings.warn(\"`use_label_encoder` is deprecated in 1.7.0.\")\n",
            "\n",
            "/usr/local/lib/python3.8/dist-packages/xgboost/sklearn.py:1395: UserWarning: `use_label_encoder` is deprecated in 1.7.0.\n",
            "  warnings.warn(\"`use_label_encoder` is deprecated in 1.7.0.\")\n",
            "\n",
            "/usr/local/lib/python3.8/dist-packages/xgboost/sklearn.py:1395: UserWarning: `use_label_encoder` is deprecated in 1.7.0.\n",
            "  warnings.warn(\"`use_label_encoder` is deprecated in 1.7.0.\")\n",
            "\n",
            "/usr/local/lib/python3.8/dist-packages/xgboost/sklearn.py:1395: UserWarning: `use_label_encoder` is deprecated in 1.7.0.\n",
            "  warnings.warn(\"`use_label_encoder` is deprecated in 1.7.0.\")\n",
            "\n"
          ]
        },
        {
          "output_type": "stream",
          "name": "stdout",
          "text": [
            "100%|██████████| 10/10 [04:14<00:00, 25.44s/it, best loss: -0.8481736961555155]\n"
          ]
        }
      ]
    },
    {
      "cell_type": "markdown",
      "source": [],
      "metadata": {
        "id": "nk_KwH_rDbSS"
      }
    },
    {
      "cell_type": "code",
      "source": [
        "trials.trials"
      ],
      "metadata": {
        "colab": {
          "base_uri": "https://localhost:8080/"
        },
        "id": "tLAiMwYi_wOl",
        "outputId": "00576091-c620-4097-fbb4-28f658da9f3e"
      },
      "execution_count": 34,
      "outputs": [
        {
          "output_type": "execute_result",
          "data": {
            "text/plain": [
              "[{'state': 2,\n",
              "  'tid': 0,\n",
              "  'spec': None,\n",
              "  'result': {'loss': -0.815398310321671, 'status': 'ok'},\n",
              "  'misc': {'tid': 0,\n",
              "   'cmd': ('domain_attachment', 'FMinIter_Domain'),\n",
              "   'workdir': None,\n",
              "   'idxs': {'colsample_bytree': [0],\n",
              "    'max_depth': [0],\n",
              "    'min_child_weight': [0],\n",
              "    'strategy': [0]},\n",
              "   'vals': {'colsample_bytree': [0.8896926982367929],\n",
              "    'max_depth': [6.0],\n",
              "    'min_child_weight': [8.0],\n",
              "    'strategy': [0]}},\n",
              "  'exp_key': None,\n",
              "  'owner': None,\n",
              "  'version': 0,\n",
              "  'book_time': datetime.datetime(2023, 3, 8, 10, 30, 32, 368000),\n",
              "  'refresh_time': datetime.datetime(2023, 3, 8, 10, 31, 12, 293000)},\n",
              " {'state': 2,\n",
              "  'tid': 1,\n",
              "  'spec': None,\n",
              "  'result': {'loss': -0.8096387792330294, 'status': 'ok'},\n",
              "  'misc': {'tid': 1,\n",
              "   'cmd': ('domain_attachment', 'FMinIter_Domain'),\n",
              "   'workdir': None,\n",
              "   'idxs': {'colsample_bytree': [1],\n",
              "    'max_depth': [1],\n",
              "    'min_child_weight': [1],\n",
              "    'strategy': [1]},\n",
              "   'vals': {'colsample_bytree': [0.581703388084142],\n",
              "    'max_depth': [8.0],\n",
              "    'min_child_weight': [2.0],\n",
              "    'strategy': [0]}},\n",
              "  'exp_key': None,\n",
              "  'owner': None,\n",
              "  'version': 0,\n",
              "  'book_time': datetime.datetime(2023, 3, 8, 10, 31, 12, 301000),\n",
              "  'refresh_time': datetime.datetime(2023, 3, 8, 10, 31, 44, 462000)},\n",
              " {'state': 2,\n",
              "  'tid': 2,\n",
              "  'spec': None,\n",
              "  'result': {'loss': -0.8481736961555155, 'status': 'ok'},\n",
              "  'misc': {'tid': 2,\n",
              "   'cmd': ('domain_attachment', 'FMinIter_Domain'),\n",
              "   'workdir': None,\n",
              "   'idxs': {'colsample_bytree': [2],\n",
              "    'max_depth': [2],\n",
              "    'min_child_weight': [2],\n",
              "    'strategy': [2]},\n",
              "   'vals': {'colsample_bytree': [0.8815768328637574],\n",
              "    'max_depth': [4.0],\n",
              "    'min_child_weight': [2.0],\n",
              "    'strategy': [1]}},\n",
              "  'exp_key': None,\n",
              "  'owner': None,\n",
              "  'version': 0,\n",
              "  'book_time': datetime.datetime(2023, 3, 8, 10, 31, 44, 470000),\n",
              "  'refresh_time': datetime.datetime(2023, 3, 8, 10, 31, 57, 934000)},\n",
              " {'state': 2,\n",
              "  'tid': 3,\n",
              "  'spec': None,\n",
              "  'result': {'loss': -0.8428248072481086, 'status': 'ok'},\n",
              "  'misc': {'tid': 3,\n",
              "   'cmd': ('domain_attachment', 'FMinIter_Domain'),\n",
              "   'workdir': None,\n",
              "   'idxs': {'colsample_bytree': [3],\n",
              "    'max_depth': [3],\n",
              "    'min_child_weight': [3],\n",
              "    'strategy': [3]},\n",
              "   'vals': {'colsample_bytree': [0.7475427564378407],\n",
              "    'max_depth': [2.0],\n",
              "    'min_child_weight': [6.0],\n",
              "    'strategy': [1]}},\n",
              "  'exp_key': None,\n",
              "  'owner': None,\n",
              "  'version': 0,\n",
              "  'book_time': datetime.datetime(2023, 3, 8, 10, 31, 57, 941000),\n",
              "  'refresh_time': datetime.datetime(2023, 3, 8, 10, 32, 4, 981000)},\n",
              " {'state': 2,\n",
              "  'tid': 4,\n",
              "  'spec': None,\n",
              "  'result': {'loss': -0.8102375035765372, 'status': 'ok'},\n",
              "  'misc': {'tid': 4,\n",
              "   'cmd': ('domain_attachment', 'FMinIter_Domain'),\n",
              "   'workdir': None,\n",
              "   'idxs': {'colsample_bytree': [4],\n",
              "    'max_depth': [4],\n",
              "    'min_child_weight': [4],\n",
              "    'strategy': [4]},\n",
              "   'vals': {'colsample_bytree': [0.606250386424452],\n",
              "    'max_depth': [8.0],\n",
              "    'min_child_weight': [4.0],\n",
              "    'strategy': [0]}},\n",
              "  'exp_key': None,\n",
              "  'owner': None,\n",
              "  'version': 0,\n",
              "  'book_time': datetime.datetime(2023, 3, 8, 10, 32, 4, 988000),\n",
              "  'refresh_time': datetime.datetime(2023, 3, 8, 10, 32, 49, 67000)},\n",
              " {'state': 2,\n",
              "  'tid': 5,\n",
              "  'spec': None,\n",
              "  'result': {'loss': -0.8311200964777651, 'status': 'ok'},\n",
              "  'misc': {'tid': 5,\n",
              "   'cmd': ('domain_attachment', 'FMinIter_Domain'),\n",
              "   'workdir': None,\n",
              "   'idxs': {'colsample_bytree': [5],\n",
              "    'max_depth': [5],\n",
              "    'min_child_weight': [5],\n",
              "    'strategy': [5]},\n",
              "   'vals': {'colsample_bytree': [0.9339605944837011],\n",
              "    'max_depth': [10.0],\n",
              "    'min_child_weight': [4.0],\n",
              "    'strategy': [1]}},\n",
              "  'exp_key': None,\n",
              "  'owner': None,\n",
              "  'version': 0,\n",
              "  'book_time': datetime.datetime(2023, 3, 8, 10, 32, 49, 74000),\n",
              "  'refresh_time': datetime.datetime(2023, 3, 8, 10, 33, 33, 606000)},\n",
              " {'state': 2,\n",
              "  'tid': 6,\n",
              "  'spec': None,\n",
              "  'result': {'loss': -0.8147584908868232, 'status': 'ok'},\n",
              "  'misc': {'tid': 6,\n",
              "   'cmd': ('domain_attachment', 'FMinIter_Domain'),\n",
              "   'workdir': None,\n",
              "   'idxs': {'colsample_bytree': [6],\n",
              "    'max_depth': [6],\n",
              "    'min_child_weight': [6],\n",
              "    'strategy': [6]},\n",
              "   'vals': {'colsample_bytree': [0.9171214955101952],\n",
              "    'max_depth': [6.0],\n",
              "    'min_child_weight': [4.0],\n",
              "    'strategy': [0]}},\n",
              "  'exp_key': None,\n",
              "  'owner': None,\n",
              "  'version': 0,\n",
              "  'book_time': datetime.datetime(2023, 3, 8, 10, 33, 33, 613000),\n",
              "  'refresh_time': datetime.datetime(2023, 3, 8, 10, 33, 56, 228000)},\n",
              " {'state': 2,\n",
              "  'tid': 7,\n",
              "  'spec': None,\n",
              "  'result': {'loss': -0.8442300858918728, 'status': 'ok'},\n",
              "  'misc': {'tid': 7,\n",
              "   'cmd': ('domain_attachment', 'FMinIter_Domain'),\n",
              "   'workdir': None,\n",
              "   'idxs': {'colsample_bytree': [7],\n",
              "    'max_depth': [7],\n",
              "    'min_child_weight': [7],\n",
              "    'strategy': [7]},\n",
              "   'vals': {'colsample_bytree': [0.920331376741601],\n",
              "    'max_depth': [6.0],\n",
              "    'min_child_weight': [6.0],\n",
              "    'strategy': [1]}},\n",
              "  'exp_key': None,\n",
              "  'owner': None,\n",
              "  'version': 0,\n",
              "  'book_time': datetime.datetime(2023, 3, 8, 10, 33, 56, 236000),\n",
              "  'refresh_time': datetime.datetime(2023, 3, 8, 10, 34, 18, 366000)},\n",
              " {'state': 2,\n",
              "  'tid': 8,\n",
              "  'spec': None,\n",
              "  'result': {'loss': -0.8202502870775215, 'status': 'ok'},\n",
              "  'misc': {'tid': 8,\n",
              "   'cmd': ('domain_attachment', 'FMinIter_Domain'),\n",
              "   'workdir': None,\n",
              "   'idxs': {'colsample_bytree': [8],\n",
              "    'max_depth': [8],\n",
              "    'min_child_weight': [8],\n",
              "    'strategy': [8]},\n",
              "   'vals': {'colsample_bytree': [0.5365445765371997],\n",
              "    'max_depth': [4.0],\n",
              "    'min_child_weight': [2.0],\n",
              "    'strategy': [0]}},\n",
              "  'exp_key': None,\n",
              "  'owner': None,\n",
              "  'version': 0,\n",
              "  'book_time': datetime.datetime(2023, 3, 8, 10, 34, 18, 372000),\n",
              "  'refresh_time': datetime.datetime(2023, 3, 8, 10, 34, 30, 766000)},\n",
              " {'state': 2,\n",
              "  'tid': 9,\n",
              "  'spec': None,\n",
              "  'result': {'loss': -0.8169770834417225, 'status': 'ok'},\n",
              "  'misc': {'tid': 9,\n",
              "   'cmd': ('domain_attachment', 'FMinIter_Domain'),\n",
              "   'workdir': None,\n",
              "   'idxs': {'colsample_bytree': [9],\n",
              "    'max_depth': [9],\n",
              "    'min_child_weight': [9],\n",
              "    'strategy': [9]},\n",
              "   'vals': {'colsample_bytree': [0.594470835953878],\n",
              "    'max_depth': [6.0],\n",
              "    'min_child_weight': [4.0],\n",
              "    'strategy': [0]}},\n",
              "  'exp_key': None,\n",
              "  'owner': None,\n",
              "  'version': 0,\n",
              "  'book_time': datetime.datetime(2023, 3, 8, 10, 34, 30, 771000),\n",
              "  'refresh_time': datetime.datetime(2023, 3, 8, 10, 34, 46, 808000)}]"
            ]
          },
          "metadata": {},
          "execution_count": 34
        }
      ]
    },
    {
      "cell_type": "markdown",
      "source": [
        "탐색을 통해 발견한 최적의 하이퍼 파라미터 조합을 확인해보기.\n"
      ],
      "metadata": {
        "id": "auc4KAv1DXk5"
      }
    },
    {
      "cell_type": "code",
      "source": [
        "print(f'최적 하이퍼 파라미터{trials.best_trial[\"misc\"][\"vals\"]}') \n",
        "print(\"최적 AUC: \", -trials.best_trial[\"result\"][\"loss\"])"
      ],
      "metadata": {
        "colab": {
          "base_uri": "https://localhost:8080/"
        },
        "id": "Ewko-_I4Dos5",
        "outputId": "bc1918e8-6786-4c93-aae6-6d1a27781400"
      },
      "execution_count": 35,
      "outputs": [
        {
          "output_type": "stream",
          "name": "stdout",
          "text": [
            "최적 하이퍼 파라미터{'colsample_bytree': [0.8815768328637574], 'max_depth': [4.0], 'min_child_weight': [2.0], 'strategy': [1]}\n",
            "최적 AUC:  0.8481736961555155\n"
          ]
        }
      ]
    },
    {
      "cell_type": "markdown",
      "source": [
        "---\n"
      ],
      "metadata": {
        "id": "7ZpO6eT9FYqv"
      }
    },
    {
      "cell_type": "markdown",
      "source": [
        "##**특성 선택**\n",
        "* 충분한 데이터가 보장되어 있는 대부분의 머신러닝 상황에서는 예측에 중요하지 않은 특성이 학습 데이터에 포함되더라도 모델의 성능이 크게 하락하지 않는다.\n",
        "  * 모델 학습과정에서 중요하지 않은 특성이 모델의 예측에 자동으로 덜 반영되기 때문.\n",
        "* But, 데이터가 충분하지 않은 상황에서는 불필요한 특성이 과적합을 유발할 수 있다.\n",
        "* 또한 불필요한 특성을 학습 데이터에서 배제 함으로써 모델 학습 및 추론 과정에서의 효율을 향상 시킬 수 있다.\n",
        "* 데이터로부터 주요 특성을 선택하고 불필요한 특성을 배제하는 몇 가지 방법은 다음과 같다. "
      ],
      "metadata": {
        "id": "gZE5h7LgFroJ"
      }
    },
    {
      "cell_type": "markdown",
      "source": [
        "#### 직관에 기반한 특성 선택\n",
        "* 데이터의 각 특성에 대하여 충분히 이해하고 있는 개발자가 주요하지 않은 특성을 선제적으로 배제하는 방법.\n",
        "  * 대부분의 경우에서 가장 일반적이며, 동시에 필수적인 방법이다.\n",
        "  * 사용자에게 상품을 추천하는 문제를 머신러닝으로 모델링할 때, 사용자의 고유 ID나 이름등은 추천에 영향이 없다.(없는 게 맞음)\n",
        "  * 이러한 특성을 학습전에 선제적으로 제거한다면 모델 학습시간을 단축시키고, 효율성을 높일 수 있다."
      ],
      "metadata": {
        "id": "DOE-3FppFyiK"
      }
    },
    {
      "cell_type": "markdown",
      "source": [
        "#### 특성 중요도 기반 특성 선택\n",
        "* 모델 학습 이후, 각 특성의 모델 예측에 대한 중요도를 기반으로 특성을 선택하는 방법 또한 존재한다.\n",
        "* 선형회귀 모델 : `coefficient`를 통해, 트리 기반 모델의 경우, 자체 `feature_importance`를 통해 특성의 중요도에 대한 수치값을 얻을 수 있다. <br/>\n",
        "이를 기반으로, 특정 값 아래의 중요도를 갖는 특성들을 drop할 수 있다.\n"
      ],
      "metadata": {
        "id": "zpvw5UybHLkS"
      }
    },
    {
      "cell_type": "code",
      "source": [
        "train_sub, val = train_test_split(train, test_size =0.2, stratify = train[target], random_state = 42)\n",
        "X_train, y_train = train_sub.drop(columns = target), train_sub[target]\n",
        "X_val, y_val = val.drop(columns = target), val[target]\n",
        "\n",
        "\n",
        "pipe = make_pipeline(\n",
        "    OrdinalEncoder(),\n",
        "    SimpleImputer(strategy='mean'),\n",
        "    XGBClassifier(\n",
        "        objective='binary:logistic',\n",
        "        eval_metric = 'auc',\n",
        "        n_estimators = 200,\n",
        "        random_state = 42,\n",
        "        n_jobs = -1,\n",
        "        max_depth = 6,\n",
        "        min_child_weight = 6,\n",
        "        colsample_bytree = 0.7,\n",
        "        learning_rate = 0.1,\n",
        "        #use_label_encoder = False,\n",
        "    )\n",
        ")\n",
        "\n",
        "pipe.fit(X_train, y_train)\n",
        "print('검증 AUC :', pipe.score(X_val, y_val))"
      ],
      "metadata": {
        "id": "kfNT3lu5gSih",
        "colab": {
          "base_uri": "https://localhost:8080/"
        },
        "outputId": "3eaaf36d-e2f2-4c79-ca4e-6dc8baf2854a"
      },
      "execution_count": 36,
      "outputs": [
        {
          "output_type": "stream",
          "name": "stdout",
          "text": [
            "검증 AUC : 0.8255248487723876\n"
          ]
        }
      ]
    },
    {
      "cell_type": "code",
      "source": [
        "# 특성 중요도 시각화\n",
        "import matplotlib.pyplot as plt\n",
        "\n",
        "\n",
        "feature_importances = list(\n",
        "    zip(X_train.columns, pipe.named_steps['xgbclassifier'].feature_importances_))\n",
        "\n",
        "\n",
        "feature_importances = sorted(feature_importances, key = lambda x:x[1], reverse = True)\n",
        "plt.figure(figsize = (10,10), dpi = 120)\n",
        "plt.barh(*list(zip(*feature_importances[::-1])))\n",
        "plt.axvline(0.015, color = 'red', linewidth = 0.5)"
      ],
      "metadata": {
        "colab": {
          "base_uri": "https://localhost:8080/",
          "height": 913
        },
        "id": "uw9Ekxbega9e",
        "outputId": "b902b4e1-8a55-4198-ce15-eca151751cf3"
      },
      "execution_count": 37,
      "outputs": [
        {
          "output_type": "execute_result",
          "data": {
            "text/plain": [
              "<matplotlib.lines.Line2D at 0x7f01d856d970>"
            ]
          },
          "metadata": {},
          "execution_count": 37
        },
        {
          "output_type": "display_data",
          "data": {
            "text/plain": [
              "<Figure size 1200x1200 with 1 Axes>"
            ],
            "image/png": "[encoded data removed]"
          },
          "metadata": {
            "needs_background": "light"
          }
        }
      ]
    },
    {
      "cell_type": "markdown",
      "source": [
        "# 특성 중요도 0.015 미만인 특성들을 Drop한 후 재학습을 진행합니다.\n",
        "feature_selected = list(filter(lambda x :x[1]))"
      ],
      "metadata": {
        "id": "Aj6E4WKkizsw"
      }
    },
    {
      "cell_type": "code",
      "source": [
        "features_selected = list(filter(lambda x:x[1] >=0.015, feature_importances))\n",
        "print(features_selected)\n",
        "selected_feature_names = list(map(lambda x:x[0], features_selected))\n"
      ],
      "metadata": {
        "colab": {
          "base_uri": "https://localhost:8080/"
        },
        "id": "2SAZL84Pr5uq",
        "outputId": "319c34dc-cfa9-4c4c-dd6a-ab42f01d3022"
      },
      "execution_count": 38,
      "outputs": [
        {
          "output_type": "stream",
          "name": "stdout",
          "text": [
            "[('doctor_recc_h1n1', 0.38906136), ('health_insurance', 0.12081953), ('health_worker', 0.06493636), ('opinion_h1n1_vacc_effective', 0.049852304), ('opinion_h1n1_risk', 0.04525942), ('child_under_6_months', 0.023517363), ('h1n1_knowledge', 0.02146051), ('behavioral_face_mask', 0.017400455), ('behavioral_antiviral_meds', 0.017309794), ('h1n1_concern', 0.015408192)]\n"
          ]
        }
      ]
    },
    {
      "cell_type": "code",
      "source": [
        "X_train_selected = X_train[selected_feature_names]\n",
        "X_val_selected = X_val[selected_feature_names]\n",
        "\n",
        "pipe = make_pipeline(\n",
        "    OrdinalEncoder(),\n",
        "    SimpleImputer(strategy = 'mean'),\n",
        "    XGBClassifier(\n",
        "        objective = 'binary:logistic',\n",
        "        eval_metric = 'auc',\n",
        "        n_estimators = 200,\n",
        "        random_state = 42,\n",
        "        n_jobs = -1,\n",
        "        max_depth = 6,\n",
        "        min_child_weight = 0.7,\n",
        "        learning_rate =0.1,\n",
        "        use_label_encoder = False,\n",
        "    )\n",
        ")\n",
        "\n",
        "pipe.fit(X_train_selected, y_train)\n",
        "print('검증 AUC:', pipe.score(X_val_selected, y_val))\n",
        "print('특성 수')\n",
        "print(\"\\tBefore: \", X_train.shape[1])\n",
        "print(\"\\tAfter: \", X_train_selected.shape[1])"
      ],
      "metadata": {
        "colab": {
          "base_uri": "https://localhost:8080/"
        },
        "id": "MONBEKxNr7EY",
        "outputId": "a2d4fe5b-c5a5-4a93-ccb3-9a9b57801fa9"
      },
      "execution_count": 39,
      "outputs": [
        {
          "output_type": "stream",
          "name": "stderr",
          "text": [
            "/usr/local/lib/python3.8/dist-packages/xgboost/sklearn.py:1395: UserWarning: `use_label_encoder` is deprecated in 1.7.0.\n",
            "  warnings.warn(\"`use_label_encoder` is deprecated in 1.7.0.\")\n"
          ]
        },
        {
          "output_type": "stream",
          "name": "stdout",
          "text": [
            "검증 AUC: 0.8259992883406476\n",
            "특성 수\n",
            "\tBefore:  32\n",
            "\tAfter:  10\n"
          ]
        }
      ]
    },
    {
      "cell_type": "code",
      "source": [
        "X_train_selected.columns"
      ],
      "metadata": {
        "colab": {
          "base_uri": "https://localhost:8080/"
        },
        "id": "6GNZgHFTtAGD",
        "outputId": "1a36cf01-4fee-4a5e-db06-022676ed021e"
      },
      "execution_count": 40,
      "outputs": [
        {
          "output_type": "execute_result",
          "data": {
            "text/plain": [
              "Index(['doctor_recc_h1n1', 'health_insurance', 'health_worker',\n",
              "       'opinion_h1n1_vacc_effective', 'opinion_h1n1_risk',\n",
              "       'child_under_6_months', 'h1n1_knowledge', 'behavioral_face_mask',\n",
              "       'behavioral_antiviral_meds', 'h1n1_concern'],\n",
              "      dtype='object')"
            ]
          },
          "metadata": {},
          "execution_count": 40
        }
      ]
    },
    {
      "cell_type": "markdown",
      "source": [
        "---\n",
        "##통계량 기반 특성 선택\n",
        "* 모델 학습 이전에 각 특성들과 타겟값 간의 통계량부터 각 특성의 영향력을 추측하여 낮은 영향력을 갖는 특성들을 제거할 수 있다.\n",
        "\n",
        "#### 피어슨 상관계수\n",
        "* 연속형 특성과 연속형 타겟의 경우, 두 필드 간의 피어슨 상관계수를 통해 관련도를 추측할 수 있습니다.\n",
        "* 피어슨 상관계수는 `np.corrcoef`를 사용해 쉽게 구할 수 있습니다. <br/>\n",
        "하지만 두 특성간의 선형관계성만 확인할 수 있다는 단점이 존재합니다.\n",
        "\n",
        "\n",
        "#### 스피어만 상관계수\n",
        "* 스피어만 상관계수는 투 특성간의 선형성 이 아닌 **단조성**을 보여줍니다.\n",
        "  * 선형성 : 말 그대로 선형(직선)으로 표현되는 경향\n",
        "  * 단조성 : 두 변수가 반드시 일정한 비율로 변화하는 것은 아니다. <br/>\n",
        "* 스피어만 상관계수는 `scipy.stats.spearmanr`을 사용해 구할 수 있다.\n",
        "* 피어슨 / 스피어만 상관계수 통계량을 이용하여 타겟값과의 통계량이 상위 K내에 드는 특성들만 선택하거나, 적절한 threshold를 지정하여 해당 값 이상의 통계량을 갖는 특성들만 학습에 이용할 수 있다."
      ],
      "metadata": {
        "id": "tmKLqBtDx3Zs"
      }
    },
    {
      "cell_type": "code",
      "source": [
        "from scipy.stats import spearmanr\n",
        "\n",
        "# 두 특성이 선형 관계일 때 Pearson, spearman corrcoef 값을 확인하여 봅시다.\n",
        "x = np.random.normal(0,5,1000)\n",
        "y = 4*x + 7 + np.random.normal(0,1,1000)\n",
        "\n",
        "plt.plot(x, y, '.')\n",
        "print('Pearson Corrcoef :', np.corrcoef(x,y)[0,1])\n",
        "print('Spearman Corrcoef :', spearmanr(x,y))"
      ],
      "metadata": {
        "colab": {
          "base_uri": "https://localhost:8080/",
          "height": 302
        },
        "id": "Vqy5jAllwn6H",
        "outputId": "74a8e761-0f00-4150-e1cb-b09693052103"
      },
      "execution_count": 42,
      "outputs": [
        {
          "output_type": "stream",
          "name": "stdout",
          "text": [
            "Pearson Corrcoef : 0.9989536559782225\n",
            "Spearman Corrcoef : SignificanceResult(statistic=0.9988586308586309, pvalue=0.0)\n"
          ]
        },
        {
          "output_type": "display_data",
          "data": {
            "text/plain": [
              "<Figure size 432x288 with 1 Axes>"
            ],
            "image/png": "[encoded data removed]"
          },
          "metadata": {
            "needs_background": "light"
          }
        }
      ]
    },
    {
      "cell_type": "code",
      "source": [
        "# 두 특성이 선형관계는 아니지만, 단조 관계일 때의 값은 다음과 같습니다.\n",
        "x = np.random.normal(0,5,1000)\n",
        "y = x**3 + np.random.normal(0,1, 1000)\n",
        "plt.plot(x,y, '.')\n",
        "\n",
        "print('Pearson Corrcoef:', np.corrcoef(x,y)[0,1])\n",
        "print('Spearman Corrcoef:', spearmanr(x,y))"
      ],
      "metadata": {
        "colab": {
          "base_uri": "https://localhost:8080/",
          "height": 302
        },
        "id": "QVhCCZjPutxB",
        "outputId": "7c80527e-3abd-46f2-d479-c547c0b1fcb1"
      },
      "execution_count": 43,
      "outputs": [
        {
          "output_type": "stream",
          "name": "stdout",
          "text": [
            "Pearson Corrcoef: 0.7806233919920837\n",
            "Spearman Corrcoef: SignificanceResult(statistic=0.9960645000645001, pvalue=0.0)\n"
          ]
        },
        {
          "output_type": "display_data",
          "data": {
            "text/plain": [
              "<Figure size 432x288 with 1 Axes>"
            ],
            "image/png": "[encoded data removed]"
          },
          "metadata": {
            "needs_background": "light"
          }
        }
      ]
    },
    {
      "cell_type": "markdown",
      "source": [
        "####`sklearn.feature_selection.SelectKBest`\n",
        "* `sklearn`의  `SelectKBest` 모듈은 문제의 유형(분류/회귀)에 따라 다양한 통계량을 기반으로 특성을 선택할 수 있도록 합니다.\n",
        "* `SelectKBest`를 이용하여 통계량으로부터 특성을 선택해봅시다.\n",
        "  * `SelectKBest`의 `score_func` 인자를 바꿔줌으로써 서로 다른 통계량부터 특성을 선택할 수 있다.\n",
        "\n",
        "**대표적인 몇 가지 통계량 옵션(`score_func`)**\n",
        "* 분류 / 회귀 문제에 따라 적절한 옵션을 선택합니다.\n",
        "  * 분류 타겟을 이용한 옵션은 다음과 같다.\n",
        "    * `f_classif`\n",
        "    * `mutual_info_classif`\n",
        "    * `chi2`\n",
        "  * 회귀 타겟을 이용한 옵션.\n",
        "    * `f_regression`\n",
        "    * `mutual_info_regression`\n"
      ],
      "metadata": {
        "id": "0I8jVarr1FWD"
      }
    },
    {
      "cell_type": "code",
      "source": [
        "from category_encoders import OneHotEncoder\n",
        "enc = OrdinalEncoder()\n",
        "imp = SimpleImputer()\n",
        "\n",
        "X_train_encoded = enc.fit_transform(X_train)\n",
        "X_train_imputed = imp.fit_transform(X_train_encoded)\n",
        "\n",
        "X_val_encoded = enc.transform(X_val)\n",
        "X_val_imputed = imp.transform(X_train_encoded)\n"
      ],
      "metadata": {
        "id": "vgUj7u-g3Rf-"
      },
      "execution_count": 44,
      "outputs": []
    },
    {
      "cell_type": "code",
      "source": [
        "from sklearn.feature_selection import SelectKBest, mutual_info_classif\n",
        "\n",
        "selector  = SelectKBest(score_func = mutual_info_classif, k=6)\n",
        "X_train_selected = selector.fit_transform(X_train_imputed, y_train)\n",
        "X_val_selected = selector.transform(X_val_imputed)"
      ],
      "metadata": {
        "id": "mXjm5b9w6w5L"
      },
      "execution_count": 45,
      "outputs": []
    },
    {
      "cell_type": "code",
      "source": [
        "print(f'선택된 특성 : {X_train_encoded.columns[selector.get_support()].tolist()}')"
      ],
      "metadata": {
        "colab": {
          "base_uri": "https://localhost:8080/"
        },
        "id": "AssIhAAE7XUC",
        "outputId": "bb4103f3-b49b-477e-f5ca-94b1b4de8aac"
      },
      "execution_count": 50,
      "outputs": [
        {
          "output_type": "stream",
          "name": "stdout",
          "text": [
            "선택된 특성 : ['h1n1_knowledge', 'doctor_recc_h1n1', 'health_insurance', 'health_worker', 'opinion_h1n1_vacc_effective', 'opinion_h1n1_risk']\n"
          ]
        }
      ]
    },
    {
      "cell_type": "code",
      "source": [
        "model = XGBClassifier(\n",
        "    objective = 'binary:logistic',\n",
        "    eval_metric = 'auc',\n",
        "    n_estimators = 200,\n",
        "    random_state = 42,\n",
        "    n_jobs = -1,\n",
        "    max_depth = 6,\n",
        "    min_child_weight = 6,\n",
        "    colsample_bytree = 0.7,\n",
        "    learning_rate = 0.1,\n",
        "\n",
        ")\n",
        "\n",
        "model.fit(X_train_selected, y_train)\n",
        "print(\"검증 AUC: \", model.score(X_val_selected, y_val))\n",
        "print(\"특성 수:\")\n",
        "print(\"\\tBefore: \", X_train.shape[1])\n",
        "print(\"\\tAfter: \", X_train_selected.shape[1])"
      ],
      "metadata": {
        "colab": {
          "base_uri": "https://localhost:8080/"
        },
        "id": "dkMVr3sn7lrK",
        "outputId": "60964ee8-7a1f-47bd-ee9d-497bc8d0d461"
      },
      "execution_count": 49,
      "outputs": [
        {
          "output_type": "execute_result",
          "data": {
            "text/plain": [
              "['h1n1_knowledge',\n",
              " 'doctor_recc_h1n1',\n",
              " 'health_insurance',\n",
              " 'health_worker',\n",
              " 'opinion_h1n1_vacc_effective',\n",
              " 'opinion_h1n1_risk']"
            ]
          },
          "metadata": {},
          "execution_count": 49
        }
      ]
    },
    {
      "cell_type": "code",
      "source": [],
      "metadata": {
        "id": "qXaTKfzv7nfS"
      },
      "execution_count": null,
      "outputs": []
    }
  ]
}