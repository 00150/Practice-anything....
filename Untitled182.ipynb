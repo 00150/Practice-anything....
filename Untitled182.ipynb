{
  "nbformat": 4,
  "nbformat_minor": 0,
  "metadata": {
    "colab": {
      "provenance": [],
      "authorship_tag": "ABX9TyMJDcScD1UsauKH3kyfDoJ6",
      "include_colab_link": true
    },
    "kernelspec": {
      "name": "python3",
      "display_name": "Python 3"
    },
    "language_info": {
      "name": "python"
    }
  },
  "cells": [
    {
      "cell_type": "markdown",
      "metadata": {
        "id": "view-in-github",
        "colab_type": "text"
      },
      "source": [
        "<a href=\"https://colab.research.google.com/github/00150/Practice-anything..../blob/main/Untitled182.ipynb\" target=\"_parent\"><img src=\"https://colab.research.google.com/assets/colab-badge.svg\" alt=\"Open In Colab\"/></a>"
      ]
    },
    {
      "cell_type": "code",
      "execution_count": 12,
      "metadata": {
        "colab": {
          "base_uri": "https://localhost:8080/"
        },
        "id": "XW1FBeVOzH0c",
        "outputId": "dba68395-c9d5-4e82-87cf-d465647994dc"
      },
      "outputs": [
        {
          "output_type": "stream",
          "name": "stdout",
          "text": [
            "Looking in indexes: https://pypi.org/simple, https://us-python.pkg.dev/colab-wheels/public/simple/\n",
            "Requirement already satisfied: eli5 in /usr/local/lib/python3.8/dist-packages (0.13.0)\n",
            "Requirement already satisfied: six in /usr/local/lib/python3.8/dist-packages (from eli5) (1.15.0)\n",
            "Requirement already satisfied: scikit-learn>=0.20 in /usr/local/lib/python3.8/dist-packages (from eli5) (1.0.2)\n",
            "Requirement already satisfied: numpy>=1.9.0 in /usr/local/lib/python3.8/dist-packages (from eli5) (1.21.6)\n",
            "Requirement already satisfied: graphviz in /usr/local/lib/python3.8/dist-packages (from eli5) (0.10.1)\n",
            "Requirement already satisfied: attrs>17.1.0 in /usr/local/lib/python3.8/dist-packages (from eli5) (22.2.0)\n",
            "Requirement already satisfied: scipy in /usr/local/lib/python3.8/dist-packages (from eli5) (1.7.3)\n",
            "Requirement already satisfied: jinja2>=3.0.0 in /usr/local/lib/python3.8/dist-packages (from eli5) (3.1.2)\n",
            "Requirement already satisfied: tabulate>=0.7.7 in /usr/local/lib/python3.8/dist-packages (from eli5) (0.8.10)\n",
            "Requirement already satisfied: MarkupSafe>=2.0 in /usr/local/lib/python3.8/dist-packages (from jinja2>=3.0.0->eli5) (2.0.1)\n",
            "Requirement already satisfied: threadpoolctl>=2.0.0 in /usr/local/lib/python3.8/dist-packages (from scikit-learn>=0.20->eli5) (3.1.0)\n",
            "Requirement already satisfied: joblib>=0.11 in /usr/local/lib/python3.8/dist-packages (from scikit-learn>=0.20->eli5) (1.2.0)\n",
            "Looking in indexes: https://pypi.org/simple, https://us-python.pkg.dev/colab-wheels/public/simple/\n",
            "Requirement already satisfied: category_encoders in /usr/local/lib/python3.8/dist-packages (2.5.1.post0)\n",
            "Requirement already satisfied: pandas>=1.0.5 in /usr/local/lib/python3.8/dist-packages (from category_encoders) (1.3.5)\n",
            "Requirement already satisfied: patsy>=0.5.1 in /usr/local/lib/python3.8/dist-packages (from category_encoders) (0.5.3)\n",
            "Requirement already satisfied: numpy>=1.14.0 in /usr/local/lib/python3.8/dist-packages (from category_encoders) (1.21.6)\n",
            "Requirement already satisfied: statsmodels>=0.9.0 in /usr/local/lib/python3.8/dist-packages (from category_encoders) (0.12.2)\n",
            "Requirement already satisfied: scikit-learn>=0.20.0 in /usr/local/lib/python3.8/dist-packages (from category_encoders) (1.0.2)\n",
            "Requirement already satisfied: scipy>=1.0.0 in /usr/local/lib/python3.8/dist-packages (from category_encoders) (1.7.3)\n",
            "Requirement already satisfied: pytz>=2017.3 in /usr/local/lib/python3.8/dist-packages (from pandas>=1.0.5->category_encoders) (2022.7)\n",
            "Requirement already satisfied: python-dateutil>=2.7.3 in /usr/local/lib/python3.8/dist-packages (from pandas>=1.0.5->category_encoders) (2.8.2)\n",
            "Requirement already satisfied: six in /usr/local/lib/python3.8/dist-packages (from patsy>=0.5.1->category_encoders) (1.15.0)\n",
            "Requirement already satisfied: threadpoolctl>=2.0.0 in /usr/local/lib/python3.8/dist-packages (from scikit-learn>=0.20.0->category_encoders) (3.1.0)\n",
            "Requirement already satisfied: joblib>=0.11 in /usr/local/lib/python3.8/dist-packages (from scikit-learn>=0.20.0->category_encoders) (1.2.0)\n"
          ]
        }
      ],
      "source": [
        "!pip install eli5\n",
        "!pip install category_encoders"
      ]
    },
    {
      "cell_type": "code",
      "source": [
        "# 필요한 라이브러리 가져오기\n",
        "\n",
        "import pandas as pd\n",
        "from sklearn.model_selection import train_test_split\n",
        "\n",
        "df = pd.read_csv(\"https://ds-lecture-data.s3.ap-northeast-2.amazonaws.com/fuel.csv\")"
      ],
      "metadata": {
        "id": "lxEJMGlmztmd"
      },
      "execution_count": 13,
      "outputs": []
    },
    {
      "cell_type": "code",
      "source": [
        "df.head()"
      ],
      "metadata": {
        "colab": {
          "base_uri": "https://localhost:8080/",
          "height": 354
        },
        "id": "c6WmkBPCz5MK",
        "outputId": "875018bf-4337-42f3-9593-b718334e349a"
      },
      "execution_count": 14,
      "outputs": [
        {
          "output_type": "execute_result",
          "data": {
            "text/plain": [
              "   Model Year  Make       Model Vehicle Class  Engine Size(L)  Cylinders  \\\n",
              "0        2018  Ford    Focus ST      Mid-size             2.0          4   \n",
              "1        2018  Ford      Fusion      Mid-size             2.0          4   \n",
              "2        2018  Ford      Fusion      Mid-size             2.5          4   \n",
              "3        2018  Ford  Fusion AWD      Mid-size             2.0          4   \n",
              "4        2018  Ford  Fusion AWD      Mid-size             2.7          6   \n",
              "\n",
              "  Transmission Fuel Type  Fuel Consumption (City (L/100 km)  \\\n",
              "0           M6         X                               10.5   \n",
              "1          AS6         X                               11.2   \n",
              "2           A6         X                               11.3   \n",
              "3          AS6         X                               11.8   \n",
              "4          AS6         X                               13.8   \n",
              "\n",
              "   Fuel Consumption(Hwy (L/100 km))  Fuel Consumption(Comb (L/100 km))  \\\n",
              "0                               7.8                                9.3   \n",
              "1                               7.6                                9.6   \n",
              "2                               7.4                                9.5   \n",
              "3                               8.2                               10.2   \n",
              "4                               9.1                               11.8   \n",
              "\n",
              "   Fuel Consumption(Comb (mpg))  CO2 Emissions(g/km)  CO2 Rating  Smog Rating  \n",
              "0                            30                  219           5            3  \n",
              "1                            29                  225           5            5  \n",
              "2                            30                  223           5            5  \n",
              "3                            28                  238           5            5  \n",
              "4                            24                  277           4            5  "
            ],
            "text/html": [
              "\n",
              "  <div id=\"df-43ba439f-8ca1-481c-98d8-ce7a543a2c77\">\n",
              "    <div class=\"colab-df-container\">\n",
              "      <div>\n",
              "<style scoped>\n",
              "    .dataframe tbody tr th:only-of-type {\n",
              "        vertical-align: middle;\n",
              "    }\n",
              "\n",
              "    .dataframe tbody tr th {\n",
              "        vertical-align: top;\n",
              "    }\n",
              "\n",
              "    .dataframe thead th {\n",
              "        text-align: right;\n",
              "    }\n",
              "</style>\n",
              "<table border=\"1\" class=\"dataframe\">\n",
              "  <thead>\n",
              "    <tr style=\"text-align: right;\">\n",
              "      <th></th>\n",
              "      <th>Model Year</th>\n",
              "      <th>Make</th>\n",
              "      <th>Model</th>\n",
              "      <th>Vehicle Class</th>\n",
              "      <th>Engine Size(L)</th>\n",
              "      <th>Cylinders</th>\n",
              "      <th>Transmission</th>\n",
              "      <th>Fuel Type</th>\n",
              "      <th>Fuel Consumption (City (L/100 km)</th>\n",
              "      <th>Fuel Consumption(Hwy (L/100 km))</th>\n",
              "      <th>Fuel Consumption(Comb (L/100 km))</th>\n",
              "      <th>Fuel Consumption(Comb (mpg))</th>\n",
              "      <th>CO2 Emissions(g/km)</th>\n",
              "      <th>CO2 Rating</th>\n",
              "      <th>Smog Rating</th>\n",
              "    </tr>\n",
              "  </thead>\n",
              "  <tbody>\n",
              "    <tr>\n",
              "      <th>0</th>\n",
              "      <td>2018</td>\n",
              "      <td>Ford</td>\n",
              "      <td>Focus ST</td>\n",
              "      <td>Mid-size</td>\n",
              "      <td>2.0</td>\n",
              "      <td>4</td>\n",
              "      <td>M6</td>\n",
              "      <td>X</td>\n",
              "      <td>10.5</td>\n",
              "      <td>7.8</td>\n",
              "      <td>9.3</td>\n",
              "      <td>30</td>\n",
              "      <td>219</td>\n",
              "      <td>5</td>\n",
              "      <td>3</td>\n",
              "    </tr>\n",
              "    <tr>\n",
              "      <th>1</th>\n",
              "      <td>2018</td>\n",
              "      <td>Ford</td>\n",
              "      <td>Fusion</td>\n",
              "      <td>Mid-size</td>\n",
              "      <td>2.0</td>\n",
              "      <td>4</td>\n",
              "      <td>AS6</td>\n",
              "      <td>X</td>\n",
              "      <td>11.2</td>\n",
              "      <td>7.6</td>\n",
              "      <td>9.6</td>\n",
              "      <td>29</td>\n",
              "      <td>225</td>\n",
              "      <td>5</td>\n",
              "      <td>5</td>\n",
              "    </tr>\n",
              "    <tr>\n",
              "      <th>2</th>\n",
              "      <td>2018</td>\n",
              "      <td>Ford</td>\n",
              "      <td>Fusion</td>\n",
              "      <td>Mid-size</td>\n",
              "      <td>2.5</td>\n",
              "      <td>4</td>\n",
              "      <td>A6</td>\n",
              "      <td>X</td>\n",
              "      <td>11.3</td>\n",
              "      <td>7.4</td>\n",
              "      <td>9.5</td>\n",
              "      <td>30</td>\n",
              "      <td>223</td>\n",
              "      <td>5</td>\n",
              "      <td>5</td>\n",
              "    </tr>\n",
              "    <tr>\n",
              "      <th>3</th>\n",
              "      <td>2018</td>\n",
              "      <td>Ford</td>\n",
              "      <td>Fusion AWD</td>\n",
              "      <td>Mid-size</td>\n",
              "      <td>2.0</td>\n",
              "      <td>4</td>\n",
              "      <td>AS6</td>\n",
              "      <td>X</td>\n",
              "      <td>11.8</td>\n",
              "      <td>8.2</td>\n",
              "      <td>10.2</td>\n",
              "      <td>28</td>\n",
              "      <td>238</td>\n",
              "      <td>5</td>\n",
              "      <td>5</td>\n",
              "    </tr>\n",
              "    <tr>\n",
              "      <th>4</th>\n",
              "      <td>2018</td>\n",
              "      <td>Ford</td>\n",
              "      <td>Fusion AWD</td>\n",
              "      <td>Mid-size</td>\n",
              "      <td>2.7</td>\n",
              "      <td>6</td>\n",
              "      <td>AS6</td>\n",
              "      <td>X</td>\n",
              "      <td>13.8</td>\n",
              "      <td>9.1</td>\n",
              "      <td>11.8</td>\n",
              "      <td>24</td>\n",
              "      <td>277</td>\n",
              "      <td>4</td>\n",
              "      <td>5</td>\n",
              "    </tr>\n",
              "  </tbody>\n",
              "</table>\n",
              "</div>\n",
              "      <button class=\"colab-df-convert\" onclick=\"convertToInteractive('df-43ba439f-8ca1-481c-98d8-ce7a543a2c77')\"\n",
              "              title=\"Convert this dataframe to an interactive table.\"\n",
              "              style=\"display:none;\">\n",
              "        \n",
              "  <svg xmlns=\"http://www.w3.org/2000/svg\" height=\"24px\"viewBox=\"0 0 24 24\"\n",
              "       width=\"24px\">\n",
              "    <path d=\"M0 0h24v24H0V0z\" fill=\"none\"/>\n",
              "    <path d=\"M18.56 5.44l.94 2.06.94-2.06 2.06-.94-2.06-.94-.94-2.06-.94 2.06-2.06.94zm-11 1L8.5 8.5l.94-2.06 2.06-.94-2.06-.94L8.5 2.5l-.94 2.06-2.06.94zm10 10l.94 2.06.94-2.06 2.06-.94-2.06-.94-.94-2.06-.94 2.06-2.06.94z\"/><path d=\"M17.41 7.96l-1.37-1.37c-.4-.4-.92-.59-1.43-.59-.52 0-1.04.2-1.43.59L10.3 9.45l-7.72 7.72c-.78.78-.78 2.05 0 2.83L4 21.41c.39.39.9.59 1.41.59.51 0 1.02-.2 1.41-.59l7.78-7.78 2.81-2.81c.8-.78.8-2.07 0-2.86zM5.41 20L4 18.59l7.72-7.72 1.47 1.35L5.41 20z\"/>\n",
              "  </svg>\n",
              "      </button>\n",
              "      \n",
              "  <style>\n",
              "    .colab-df-container {\n",
              "      display:flex;\n",
              "      flex-wrap:wrap;\n",
              "      gap: 12px;\n",
              "    }\n",
              "\n",
              "    .colab-df-convert {\n",
              "      background-color: #E8F0FE;\n",
              "      border: none;\n",
              "      border-radius: 50%;\n",
              "      cursor: pointer;\n",
              "      display: none;\n",
              "      fill: #1967D2;\n",
              "      height: 32px;\n",
              "      padding: 0 0 0 0;\n",
              "      width: 32px;\n",
              "    }\n",
              "\n",
              "    .colab-df-convert:hover {\n",
              "      background-color: #E2EBFA;\n",
              "      box-shadow: 0px 1px 2px rgba(60, 64, 67, 0.3), 0px 1px 3px 1px rgba(60, 64, 67, 0.15);\n",
              "      fill: #174EA6;\n",
              "    }\n",
              "\n",
              "    [theme=dark] .colab-df-convert {\n",
              "      background-color: #3B4455;\n",
              "      fill: #D2E3FC;\n",
              "    }\n",
              "\n",
              "    [theme=dark] .colab-df-convert:hover {\n",
              "      background-color: #434B5C;\n",
              "      box-shadow: 0px 1px 3px 1px rgba(0, 0, 0, 0.15);\n",
              "      filter: drop-shadow(0px 1px 2px rgba(0, 0, 0, 0.3));\n",
              "      fill: #FFFFFF;\n",
              "    }\n",
              "  </style>\n",
              "\n",
              "      <script>\n",
              "        const buttonEl =\n",
              "          document.querySelector('#df-43ba439f-8ca1-481c-98d8-ce7a543a2c77 button.colab-df-convert');\n",
              "        buttonEl.style.display =\n",
              "          google.colab.kernel.accessAllowed ? 'block' : 'none';\n",
              "\n",
              "        async function convertToInteractive(key) {\n",
              "          const element = document.querySelector('#df-43ba439f-8ca1-481c-98d8-ce7a543a2c77');\n",
              "          const dataTable =\n",
              "            await google.colab.kernel.invokeFunction('convertToInteractive',\n",
              "                                                     [key], {});\n",
              "          if (!dataTable) return;\n",
              "\n",
              "          const docLinkHtml = 'Like what you see? Visit the ' +\n",
              "            '<a target=\"_blank\" href=https://colab.research.google.com/notebooks/data_table.ipynb>data table notebook</a>'\n",
              "            + ' to learn more about interactive tables.';\n",
              "          element.innerHTML = '';\n",
              "          dataTable['output_type'] = 'display_data';\n",
              "          await google.colab.output.renderOutput(dataTable, element);\n",
              "          const docLink = document.createElement('div');\n",
              "          docLink.innerHTML = docLinkHtml;\n",
              "          element.appendChild(docLink);\n",
              "        }\n",
              "      </script>\n",
              "    </div>\n",
              "  </div>\n",
              "  "
            ]
          },
          "metadata": {},
          "execution_count": 14
        }
      ]
    },
    {
      "cell_type": "code",
      "source": [
        "df.info()"
      ],
      "metadata": {
        "colab": {
          "base_uri": "https://localhost:8080/"
        },
        "id": "HWCiPsxHz6wy",
        "outputId": "7c9bd1da-8cbc-4fee-e26c-7d4b98dc91a0"
      },
      "execution_count": 15,
      "outputs": [
        {
          "output_type": "stream",
          "name": "stdout",
          "text": [
            "<class 'pandas.core.frame.DataFrame'>\n",
            "RangeIndex: 2206 entries, 0 to 2205\n",
            "Data columns (total 15 columns):\n",
            " #   Column                             Non-Null Count  Dtype  \n",
            "---  ------                             --------------  -----  \n",
            " 0   Model Year                         2206 non-null   int64  \n",
            " 1   Make                               2206 non-null   object \n",
            " 2   Model                              2206 non-null   object \n",
            " 3   Vehicle Class                      2206 non-null   object \n",
            " 4   Engine Size(L)                     2206 non-null   float64\n",
            " 5   Cylinders                          2206 non-null   int64  \n",
            " 6   Transmission                       2206 non-null   object \n",
            " 7   Fuel Type                          2206 non-null   object \n",
            " 8   Fuel Consumption (City (L/100 km)  2206 non-null   float64\n",
            " 9   Fuel Consumption(Hwy (L/100 km))   2206 non-null   float64\n",
            " 10  Fuel Consumption(Comb (L/100 km))  2206 non-null   float64\n",
            " 11  Fuel Consumption(Comb (mpg))       2206 non-null   int64  \n",
            " 12  CO2 Emissions(g/km)                2206 non-null   int64  \n",
            " 13  CO2 Rating                         2206 non-null   int64  \n",
            " 14  Smog Rating                        2206 non-null   int64  \n",
            "dtypes: float64(4), int64(6), object(5)\n",
            "memory usage: 258.6+ KB\n"
          ]
        }
      ]
    },
    {
      "cell_type": "code",
      "source": [
        "df['Smog Rating'].value_counts()"
      ],
      "metadata": {
        "colab": {
          "base_uri": "https://localhost:8080/"
        },
        "id": "9CRYlU_w0ZQv",
        "outputId": "18e50b4e-6237-4f52-f40d-a2be962b7271"
      },
      "execution_count": 16,
      "outputs": [
        {
          "output_type": "execute_result",
          "data": {
            "text/plain": [
              "3    727\n",
              "5    674\n",
              "7    363\n",
              "6    242\n",
              "1    200\n",
              "Name: Smog Rating, dtype: int64"
            ]
          },
          "metadata": {},
          "execution_count": 16
        }
      ]
    },
    {
      "cell_type": "code",
      "source": [
        "\n",
        "# 컬럼 명을 정리합니다.\n",
        "df.columns = [\n",
        "    \"year\",\n",
        "    \"make\",\n",
        "    \"model\",\n",
        "    \"class\",\n",
        "    \"esize\",\n",
        "    \"n_cylinder\",\n",
        "    \"ttype\",\n",
        "    \"ftype\",\n",
        "    \"fcons_cty\",\n",
        "    \"fcons_hwy\",\n",
        "    \"fcons_comp\",\n",
        "    \"fcons_mpg\",\n",
        "    \"co2_emsn\",\n",
        "    \"co2_rating\",\n",
        "    \"smog_rating\",\n",
        "]\n",
        "\n",
        "\n",
        "# classification target을 생성.\n",
        "df['is_green'] = df['smog_rating'] >= 6\n",
        "\n",
        "# 6이상의 값을 True로 표기하게 됩니다.. (6,7)\n",
        "df['is_green'].value_counts()\n"
      ],
      "metadata": {
        "colab": {
          "base_uri": "https://localhost:8080/"
        },
        "id": "8MP_bK71z8IM",
        "outputId": "edc70469-a830-4eea-cf40-dee310787f5f"
      },
      "execution_count": 17,
      "outputs": [
        {
          "output_type": "execute_result",
          "data": {
            "text/plain": [
              "False    1601\n",
              "True      605\n",
              "Name: is_green, dtype: int64"
            ]
          },
          "metadata": {},
          "execution_count": 17
        }
      ]
    },
    {
      "cell_type": "markdown",
      "source": [
        "###\\# 모델의 baseline score를 확인합니다. \n",
        "* 범주의 최빈값을 기준으로 하므로, Baseline의 값은 0.725...가 됩니다."
      ],
      "metadata": {
        "id": "xetgolJF0i8s"
      }
    },
    {
      "cell_type": "code",
      "source": [
        "df['is_green'].value_counts(normalize=True)"
      ],
      "metadata": {
        "colab": {
          "base_uri": "https://localhost:8080/"
        },
        "id": "KMOv3_Ku1iJ3",
        "outputId": "e4348749-e216-4800-9f94-674855a5ac4d"
      },
      "execution_count": 18,
      "outputs": [
        {
          "output_type": "execute_result",
          "data": {
            "text/plain": [
              "False    0.725748\n",
              "True     0.274252\n",
              "Name: is_green, dtype: float64"
            ]
          },
          "metadata": {},
          "execution_count": 18
        }
      ]
    },
    {
      "cell_type": "code",
      "source": [
        "# 가장 빈도수가 높은 값을 출력하게 됩니다.\n",
        "print('Baseline Score', df['is_green'].value_counts(normalize=True).max())"
      ],
      "metadata": {
        "colab": {
          "base_uri": "https://localhost:8080/"
        },
        "id": "uHl2yFVc1X5t",
        "outputId": "7c1014e7-9fde-4b07-e10b-d9f0fed2075d"
      },
      "execution_count": 19,
      "outputs": [
        {
          "output_type": "stream",
          "name": "stdout",
          "text": [
            "Baseline Score 0.7257479601087942\n"
          ]
        }
      ]
    },
    {
      "cell_type": "code",
      "source": [
        "# 학습 / 평가 데이터셋을 분리합니다.\n",
        "train, test = train_test_split(df, test_size =0.2, random_state=42)\n",
        "\n",
        "# feature과 label을 분리합니다.\n",
        "features = ['make', 'class', 'esize', 'n_cylinder', 'ttype', 'ftype', 'fcons_mpg']\n",
        "target = 'is_green'\n",
        "\n",
        "X_train, y_train = train[features], train[target]\n",
        "X_test, y_test = test[features], test[target]"
      ],
      "metadata": {
        "id": "nz13xPbP1lxU"
      },
      "execution_count": 20,
      "outputs": []
    },
    {
      "cell_type": "markdown",
      "source": [
        "#### 학습을 진행합니다.\n",
        "* 베이스라인으로 살펴본 결과 타겟은 현재 불균형한 지표를 보여주고 있습니다.\n",
        " * `RandomForestClassifier`의 파라미터 중, `class_weight = \"balanced\"` 을 사용합니다. <br/>\n",
        "    * 클래스가 데이터에 나타나는 빈도에 반비례하여 가중치가 적용됩니다. "
      ],
      "metadata": {
        "id": "GIzqzZ9M209M"
      }
    },
    {
      "cell_type": "code",
      "source": [
        "# 필요한 라이브러리 가져오기.\n",
        "\n",
        "from sklearn.ensemble import RandomForestClassifier\n",
        "from sklearn.pipeline import make_pipeline\n",
        "from category_encoders import TargetEncoder\n",
        "\n",
        "# 파이프라인 생성.\n",
        "def get_pipeline():\n",
        "  return make_pipeline(\n",
        "      TargetEncoder(min_samples_leaf = 1, smoothing=1),\n",
        "      RandomForestClassifier(n_estimators=100,\n",
        "                             random_state = 42,\n",
        "                             class_weight = \"balanced\")# 클래스가 나타난 빈도에 반비례 하여 가중치가 적용됨. \n",
        "                       )\n",
        "1\n",
        "\n",
        "\n",
        "# 생성한 파이프라인 실행.\n",
        "pipe = get_pipeline()\n",
        "pipe.fit(X_train, y_train)\n",
        "\n",
        "\n",
        "# 검증 정확도\n",
        "print(f'검증 정확도 : {pipe.score(X_test, y_test)}')"
      ],
      "metadata": {
        "colab": {
          "base_uri": "https://localhost:8080/"
        },
        "id": "BwCq7f6L24l6",
        "outputId": "508ff5bb-cb1d-4875-8da3-0ecd4069d97d"
      },
      "execution_count": 21,
      "outputs": [
        {
          "output_type": "stream",
          "name": "stderr",
          "text": [
            "/usr/local/lib/python3.8/dist-packages/category_encoders/target_encoder.py:122: FutureWarning: Default parameter min_samples_leaf will change in version 2.6.See https://github.com/scikit-learn-contrib/category_encoders/issues/327\n",
            "  warnings.warn(\"Default parameter min_samples_leaf will change in version 2.6.\"\n",
            "/usr/local/lib/python3.8/dist-packages/category_encoders/target_encoder.py:127: FutureWarning: Default parameter smoothing will change in version 2.6.See https://github.com/scikit-learn-contrib/category_encoders/issues/327\n",
            "  warnings.warn(\"Default parameter smoothing will change in version 2.6.\"\n"
          ]
        },
        {
          "output_type": "stream",
          "name": "stdout",
          "text": [
            "검증 정확도 : 0.9049773755656109\n"
          ]
        }
      ]
    },
    {
      "cell_type": "markdown",
      "source": [
        "검증 정롹도가 0.90의 높은 스코어가 출력되었습니다. \n",
        "불균형한 클래스는 정확도 만으로 평가할 수 없습니다.\n",
        " * 정밀도, 재현율, ROC Curve, AUC 등을 같이 사용해야 합니다, **성능 평가**를 진행하여 봅시다."
      ],
      "metadata": {
        "id": "tZALesdh3e06"
      }
    },
    {
      "cell_type": "markdown",
      "source": [
        "####**성능평가**"
      ],
      "metadata": {
        "id": "hlPpHMLa_lgM"
      }
    },
    {
      "cell_type": "markdown",
      "source": [
        "1. Classification_report\n",
        " * False 및 True 범주를 고르게 예측하고 있습니다. \n",
        "  * `Parameter : class_weight`을 이용하여 가중치를 적용하였으므로 고르게 예측한 것으로 파악됩니다. \n",
        "   "
      ],
      "metadata": {
        "id": "QgxhMpXCBDEA"
      }
    },
    {
      "cell_type": "code",
      "source": [
        "# 필요한 라이브러리 가져오기. \n",
        "from sklearn.metrics import classification_report\n",
        "\n",
        "print(classification_report(y_test, pipe.predict(X_test)))"
      ],
      "metadata": {
        "colab": {
          "base_uri": "https://localhost:8080/"
        },
        "id": "iAKwquRF_pwx",
        "outputId": "6c902718-cc73-40e9-8684-b63f4ea9305b"
      },
      "execution_count": 11,
      "outputs": [
        {
          "output_type": "stream",
          "name": "stdout",
          "text": [
            "              precision    recall  f1-score   support\n",
            "\n",
            "       False       0.95      0.92      0.93       322\n",
            "        True       0.80      0.86      0.83       120\n",
            "\n",
            "    accuracy                           0.90       442\n",
            "   macro avg       0.88      0.89      0.88       442\n",
            "weighted avg       0.91      0.90      0.91       442\n",
            "\n"
          ]
        }
      ]
    },
    {
      "cell_type": "markdown",
      "source": [
        "2. Confusion Matrix & ROC Curve 그리기. \n",
        "\n"
      ],
      "metadata": {
        "id": "BmLyXX3bA8Hi"
      }
    },
    {
      "cell_type": "code",
      "source": [
        "y_test"
      ],
      "metadata": {
        "id": "YJmEmGCe7iMi",
        "outputId": "a84bfbdb-6978-451f-e63b-99039e4fbfe4",
        "colab": {
          "base_uri": "https://localhost:8080/"
        }
      },
      "execution_count": 30,
      "outputs": [
        {
          "output_type": "execute_result",
          "data": {
            "text/plain": [
              "1681     True\n",
              "1591    False\n",
              "1469     True\n",
              "438     False\n",
              "1791    False\n",
              "        ...  \n",
              "931     False\n",
              "829     False\n",
              "59      False\n",
              "71      False\n",
              "2091    False\n",
              "Name: is_green, Length: 442, dtype: bool"
            ]
          },
          "metadata": {},
          "execution_count": 30
        }
      ]
    },
    {
      "cell_type": "code",
      "source": [
        "print('AUC', roc_auc_score(y_test, y_pred_proba))"
      ],
      "metadata": {
        "id": "Ok4a82as8taj",
        "outputId": "b454ea49-79ab-423b-8f79-9ea5085d4e89",
        "colab": {
          "base_uri": "https://localhost:8080/"
        }
      },
      "execution_count": 40,
      "outputs": [
        {
          "output_type": "stream",
          "name": "stdout",
          "text": [
            "AUC 0.9596143892339544\n"
          ]
        }
      ]
    },
    {
      "cell_type": "code",
      "source": [
        "# 예측값 지정\n",
        "y_pred = pipe.predict(X_test)\n",
        "\n",
        "# Confusion Matrix 시각화 : 필요한 라이브러리 가져오기.\n",
        "from sklearn.metrics import confusion_matrix, ConfusionMatrixDisplay\n",
        "from sklearn.metrics import roc_curve, roc_auc_score\n",
        "import matplotlib.pyplot as plt\n",
        "\n",
        "\n",
        "\n",
        "# subplot을 생성합니다. : 2행 1열로 생성합니다.\n",
        "fig, axes = plt.subplots(2,1,figsize = (10,10))\n",
        "\n",
        "\n",
        "#1. Confusion Matrix 생성.\n",
        "cm = confusion_matrix(y_test, y_pred,\n",
        "                      labels = pipe.named_steps['randomforestclassifier'].classes_)\n",
        "\n",
        "disp = ConfusionMatrixDisplay(confusion_matrix = cm, \n",
        "                              display_labels = pipe.named_steps['randomforestclassifier'].classes_)\n",
        "\n",
        "disp.plot(ax = axes[0])\n",
        "\n",
        "# 1-1. Confusion Matrix title 생성\n",
        "axes[0].set_title(f'confusion matrix (n = {len(y_test)})', fontsize = 15)\n",
        "\n",
        "\n",
        "\n",
        "# 2. ROC Curve 생성. \n",
        "\n",
        "# 2-1. 예측한 값들 중 True의 값을 불러옵니다. \n",
        "y_pred_proba = pipe.predict_proba(X_test)[:, 1]\n",
        "print('AUC', roc_auc_score(y_test, y_pred_proba))\n",
        "\n",
        "baseline_fpr, baseline_tpr, _ = roc_curve(y_test, [0] * len(y_test))\n",
        "\n",
        "\n",
        "\n",
        "\n",
        "\n",
        "plt.show()"
      ],
      "metadata": {
        "id": "t_LX9t--muOk",
        "outputId": "8b42bc22-933c-40a8-9a3a-6c018a6b1cc5",
        "colab": {
          "base_uri": "https://localhost:8080/",
          "height": 837
        }
      },
      "execution_count": 39,
      "outputs": [
        {
          "output_type": "error",
          "ename": "NameError",
          "evalue": "ignored",
          "traceback": [
            "\u001b[0;31m---------------------------------------------------------------------------\u001b[0m",
            "\u001b[0;31mNameError\u001b[0m                                 Traceback (most recent call last)",
            "\u001b[0;32m<ipython-input-39-8f3bb9b81c40>\u001b[0m in \u001b[0;36m<module>\u001b[0;34m\u001b[0m\n\u001b[1;32m     31\u001b[0m \u001b[0;31m# 2-1. 예측한 값들 중 True의 값을 불러옵니다.\u001b[0m\u001b[0;34m\u001b[0m\u001b[0;34m\u001b[0m\u001b[0;34m\u001b[0m\u001b[0m\n\u001b[1;32m     32\u001b[0m \u001b[0my_pred_proba\u001b[0m \u001b[0;34m=\u001b[0m \u001b[0mpipe\u001b[0m\u001b[0;34m.\u001b[0m\u001b[0mpredict_proba\u001b[0m\u001b[0;34m(\u001b[0m\u001b[0mX_test\u001b[0m\u001b[0;34m)\u001b[0m\u001b[0;34m[\u001b[0m\u001b[0;34m:\u001b[0m\u001b[0;34m,\u001b[0m \u001b[0;36m1\u001b[0m\u001b[0;34m]\u001b[0m\u001b[0;34m\u001b[0m\u001b[0;34m\u001b[0m\u001b[0m\n\u001b[0;32m---> 33\u001b[0;31m \u001b[0mprint\u001b[0m\u001b[0;34m(\u001b[0m\u001b[0;34m'AUC'\u001b[0m\u001b[0;34m,\u001b[0m \u001b[0mroc_auc_score\u001b[0m\u001b[0;34m(\u001b[0m\u001b[0my_yest\u001b[0m\u001b[0;34m,\u001b[0m \u001b[0my_pred_proba\u001b[0m\u001b[0;34m)\u001b[0m\u001b[0;34m)\u001b[0m\u001b[0;34m\u001b[0m\u001b[0;34m\u001b[0m\u001b[0m\n\u001b[0m\u001b[1;32m     34\u001b[0m \u001b[0;34m\u001b[0m\u001b[0m\n\u001b[1;32m     35\u001b[0m \u001b[0;34m\u001b[0m\u001b[0m\n",
            "\u001b[0;31mNameError\u001b[0m: name 'y_yest' is not defined"
          ]
        },
        {
          "output_type": "display_data",
          "data": {
            "text/plain": [
              "<Figure size 720x720 with 3 Axes>"
            ],
            "image/png": "[encoded data removed]"
          },
          "metadata": {
            "needs_background": "light"
          }
        }
      ]
    },
    {
      "cell_type": "code",
      "source": [],
      "metadata": {
        "id": "_WbuIYC71njk"
      },
      "execution_count": null,
      "outputs": []
    }
  ]
}