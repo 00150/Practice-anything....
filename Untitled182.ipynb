{
  "nbformat": 4,
  "nbformat_minor": 0,
  "metadata": {
    "colab": {
      "provenance": [],
      "authorship_tag": "ABX9TyNNpi33K/AoWDtU3EQaQBR1",
      "include_colab_link": true
    },
    "kernelspec": {
      "name": "python3",
      "display_name": "Python 3"
    },
    "language_info": {
      "name": "python"
    }
  },
  "cells": [
    {
      "cell_type": "markdown",
      "metadata": {
        "id": "view-in-github",
        "colab_type": "text"
      },
      "source": [
        "<a href=\"https://colab.research.google.com/github/00150/Practice-anything..../blob/main/Untitled182.ipynb\" target=\"_parent\"><img src=\"https://colab.research.google.com/assets/colab-badge.svg\" alt=\"Open In Colab\"/></a>"
      ]
    },
    {
      "cell_type": "code",
      "execution_count": 2,
      "metadata": {
        "colab": {
          "base_uri": "https://localhost:8080/"
        },
        "id": "XW1FBeVOzH0c",
        "outputId": "2bcc2208-e674-4359-c801-260c2a13d581"
      },
      "outputs": [
        {
          "output_type": "stream",
          "name": "stdout",
          "text": [
            "Looking in indexes: https://pypi.org/simple, https://us-python.pkg.dev/colab-wheels/public/simple/\n",
            "Collecting eli5\n",
            "  Downloading eli5-0.13.0.tar.gz (216 kB)\n",
            "\u001b[2K     \u001b[90m━━━━━━━━━━━━━━━━━━━━━━━━━━━━━━━━━━━━━━━\u001b[0m \u001b[32m216.2/216.2 KB\u001b[0m \u001b[31m6.1 MB/s\u001b[0m eta \u001b[36m0:00:00\u001b[0m\n",
            "\u001b[?25h  Preparing metadata (setup.py) ... \u001b[?25l\u001b[?25hdone\n",
            "Requirement already satisfied: attrs>17.1.0 in /usr/local/lib/python3.8/dist-packages (from eli5) (22.2.0)\n",
            "Collecting jinja2>=3.0.0\n",
            "  Downloading Jinja2-3.1.2-py3-none-any.whl (133 kB)\n",
            "\u001b[2K     \u001b[90m━━━━━━━━━━━━━━━━━━━━━━━━━━━━━━━━━━━━━━\u001b[0m \u001b[32m133.1/133.1 KB\u001b[0m \u001b[31m14.4 MB/s\u001b[0m eta \u001b[36m0:00:00\u001b[0m\n",
            "\u001b[?25hRequirement already satisfied: numpy>=1.9.0 in /usr/local/lib/python3.8/dist-packages (from eli5) (1.21.6)\n",
            "Requirement already satisfied: scipy in /usr/local/lib/python3.8/dist-packages (from eli5) (1.7.3)\n",
            "Requirement already satisfied: six in /usr/local/lib/python3.8/dist-packages (from eli5) (1.15.0)\n",
            "Requirement already satisfied: scikit-learn>=0.20 in /usr/local/lib/python3.8/dist-packages (from eli5) (1.0.2)\n",
            "Requirement already satisfied: graphviz in /usr/local/lib/python3.8/dist-packages (from eli5) (0.10.1)\n",
            "Requirement already satisfied: tabulate>=0.7.7 in /usr/local/lib/python3.8/dist-packages (from eli5) (0.8.10)\n",
            "Requirement already satisfied: MarkupSafe>=2.0 in /usr/local/lib/python3.8/dist-packages (from jinja2>=3.0.0->eli5) (2.0.1)\n",
            "Requirement already satisfied: joblib>=0.11 in /usr/local/lib/python3.8/dist-packages (from scikit-learn>=0.20->eli5) (1.2.0)\n",
            "Requirement already satisfied: threadpoolctl>=2.0.0 in /usr/local/lib/python3.8/dist-packages (from scikit-learn>=0.20->eli5) (3.1.0)\n",
            "Building wheels for collected packages: eli5\n",
            "  Building wheel for eli5 (setup.py) ... \u001b[?25l\u001b[?25hdone\n",
            "  Created wheel for eli5: filename=eli5-0.13.0-py2.py3-none-any.whl size=107748 sha256=a2f2c4b64a4ab0c5dab0ee2cf1b3b3d26c8b3fa5752eb57837dfa1afb1af878c\n",
            "  Stored in directory: /root/.cache/pip/wheels/85/ac/25/ffcd87ef8f9b1eec324fdf339359be71f22612459d8c75d89c\n",
            "Successfully built eli5\n",
            "Installing collected packages: jinja2, eli5\n",
            "  Attempting uninstall: jinja2\n",
            "    Found existing installation: Jinja2 2.11.3\n",
            "    Uninstalling Jinja2-2.11.3:\n",
            "      Successfully uninstalled Jinja2-2.11.3\n",
            "\u001b[31mERROR: pip's dependency resolver does not currently take into account all the packages that are installed. This behaviour is the source of the following dependency conflicts.\n",
            "notebook 5.7.16 requires jinja2<=3.0.0, but you have jinja2 3.1.2 which is incompatible.\n",
            "flask 1.1.4 requires Jinja2<3.0,>=2.10.1, but you have jinja2 3.1.2 which is incompatible.\u001b[0m\u001b[31m\n",
            "\u001b[0mSuccessfully installed eli5-0.13.0 jinja2-3.1.2\n",
            "Looking in indexes: https://pypi.org/simple, https://us-python.pkg.dev/colab-wheels/public/simple/\n",
            "Collecting category_encoders\n",
            "  Downloading category_encoders-2.5.1.post0-py2.py3-none-any.whl (72 kB)\n",
            "\u001b[2K     \u001b[90m━━━━━━━━━━━━━━━━━━━━━━━━━━━━━━━━━━━━━━━━\u001b[0m \u001b[32m72.4/72.4 KB\u001b[0m \u001b[31m3.4 MB/s\u001b[0m eta \u001b[36m0:00:00\u001b[0m\n",
            "\u001b[?25hRequirement already satisfied: statsmodels>=0.9.0 in /usr/local/lib/python3.8/dist-packages (from category_encoders) (0.12.2)\n",
            "Requirement already satisfied: patsy>=0.5.1 in /usr/local/lib/python3.8/dist-packages (from category_encoders) (0.5.3)\n",
            "Requirement already satisfied: numpy>=1.14.0 in /usr/local/lib/python3.8/dist-packages (from category_encoders) (1.21.6)\n",
            "Requirement already satisfied: scikit-learn>=0.20.0 in /usr/local/lib/python3.8/dist-packages (from category_encoders) (1.0.2)\n",
            "Requirement already satisfied: pandas>=1.0.5 in /usr/local/lib/python3.8/dist-packages (from category_encoders) (1.3.5)\n",
            "Requirement already satisfied: scipy>=1.0.0 in /usr/local/lib/python3.8/dist-packages (from category_encoders) (1.7.3)\n",
            "Requirement already satisfied: python-dateutil>=2.7.3 in /usr/local/lib/python3.8/dist-packages (from pandas>=1.0.5->category_encoders) (2.8.2)\n",
            "Requirement already satisfied: pytz>=2017.3 in /usr/local/lib/python3.8/dist-packages (from pandas>=1.0.5->category_encoders) (2022.7)\n",
            "Requirement already satisfied: six in /usr/local/lib/python3.8/dist-packages (from patsy>=0.5.1->category_encoders) (1.15.0)\n",
            "Requirement already satisfied: threadpoolctl>=2.0.0 in /usr/local/lib/python3.8/dist-packages (from scikit-learn>=0.20.0->category_encoders) (3.1.0)\n",
            "Requirement already satisfied: joblib>=0.11 in /usr/local/lib/python3.8/dist-packages (from scikit-learn>=0.20.0->category_encoders) (1.2.0)\n",
            "Installing collected packages: category_encoders\n",
            "Successfully installed category_encoders-2.5.1.post0\n"
          ]
        }
      ],
      "source": [
        "!pip install eli5\n",
        "!pip install category_encoders"
      ]
    },
    {
      "cell_type": "code",
      "source": [
        "# 필요한 라이브러리 가져오기\n",
        "\n",
        "import pandas as pd\n",
        "from sklearn.model_selection import train_test_split\n",
        "\n",
        "df = pd.read_csv(\"https://ds-lecture-data.s3.ap-northeast-2.amazonaws.com/fuel.csv\")"
      ],
      "metadata": {
        "id": "lxEJMGlmztmd"
      },
      "execution_count": 3,
      "outputs": []
    },
    {
      "cell_type": "code",
      "source": [
        "df.head()"
      ],
      "metadata": {
        "colab": {
          "base_uri": "https://localhost:8080/",
          "height": 374
        },
        "id": "c6WmkBPCz5MK",
        "outputId": "c1112f8d-8954-4ddd-beda-2165ec4a178d"
      },
      "execution_count": 4,
      "outputs": [
        {
          "output_type": "execute_result",
          "data": {
            "text/plain": [
              "   Model Year  Make       Model Vehicle Class  Engine Size(L)  Cylinders  \\\n",
              "0        2018  Ford    Focus ST      Mid-size             2.0          4   \n",
              "1        2018  Ford      Fusion      Mid-size             2.0          4   \n",
              "2        2018  Ford      Fusion      Mid-size             2.5          4   \n",
              "3        2018  Ford  Fusion AWD      Mid-size             2.0          4   \n",
              "4        2018  Ford  Fusion AWD      Mid-size             2.7          6   \n",
              "\n",
              "  Transmission Fuel Type  Fuel Consumption (City (L/100 km)  \\\n",
              "0           M6         X                               10.5   \n",
              "1          AS6         X                               11.2   \n",
              "2           A6         X                               11.3   \n",
              "3          AS6         X                               11.8   \n",
              "4          AS6         X                               13.8   \n",
              "\n",
              "   Fuel Consumption(Hwy (L/100 km))  Fuel Consumption(Comb (L/100 km))  \\\n",
              "0                               7.8                                9.3   \n",
              "1                               7.6                                9.6   \n",
              "2                               7.4                                9.5   \n",
              "3                               8.2                               10.2   \n",
              "4                               9.1                               11.8   \n",
              "\n",
              "   Fuel Consumption(Comb (mpg))  CO2 Emissions(g/km)  CO2 Rating  Smog Rating  \n",
              "0                            30                  219           5            3  \n",
              "1                            29                  225           5            5  \n",
              "2                            30                  223           5            5  \n",
              "3                            28                  238           5            5  \n",
              "4                            24                  277           4            5  "
            ],
            "text/html": [
              "\n",
              "  <div id=\"df-14174ff5-99b7-4a5f-a3b1-1675cac61fb1\">\n",
              "    <div class=\"colab-df-container\">\n",
              "      <div>\n",
              "<style scoped>\n",
              "    .dataframe tbody tr th:only-of-type {\n",
              "        vertical-align: middle;\n",
              "    }\n",
              "\n",
              "    .dataframe tbody tr th {\n",
              "        vertical-align: top;\n",
              "    }\n",
              "\n",
              "    .dataframe thead th {\n",
              "        text-align: right;\n",
              "    }\n",
              "</style>\n",
              "<table border=\"1\" class=\"dataframe\">\n",
              "  <thead>\n",
              "    <tr style=\"text-align: right;\">\n",
              "      <th></th>\n",
              "      <th>Model Year</th>\n",
              "      <th>Make</th>\n",
              "      <th>Model</th>\n",
              "      <th>Vehicle Class</th>\n",
              "      <th>Engine Size(L)</th>\n",
              "      <th>Cylinders</th>\n",
              "      <th>Transmission</th>\n",
              "      <th>Fuel Type</th>\n",
              "      <th>Fuel Consumption (City (L/100 km)</th>\n",
              "      <th>Fuel Consumption(Hwy (L/100 km))</th>\n",
              "      <th>Fuel Consumption(Comb (L/100 km))</th>\n",
              "      <th>Fuel Consumption(Comb (mpg))</th>\n",
              "      <th>CO2 Emissions(g/km)</th>\n",
              "      <th>CO2 Rating</th>\n",
              "      <th>Smog Rating</th>\n",
              "    </tr>\n",
              "  </thead>\n",
              "  <tbody>\n",
              "    <tr>\n",
              "      <th>0</th>\n",
              "      <td>2018</td>\n",
              "      <td>Ford</td>\n",
              "      <td>Focus ST</td>\n",
              "      <td>Mid-size</td>\n",
              "      <td>2.0</td>\n",
              "      <td>4</td>\n",
              "      <td>M6</td>\n",
              "      <td>X</td>\n",
              "      <td>10.5</td>\n",
              "      <td>7.8</td>\n",
              "      <td>9.3</td>\n",
              "      <td>30</td>\n",
              "      <td>219</td>\n",
              "      <td>5</td>\n",
              "      <td>3</td>\n",
              "    </tr>\n",
              "    <tr>\n",
              "      <th>1</th>\n",
              "      <td>2018</td>\n",
              "      <td>Ford</td>\n",
              "      <td>Fusion</td>\n",
              "      <td>Mid-size</td>\n",
              "      <td>2.0</td>\n",
              "      <td>4</td>\n",
              "      <td>AS6</td>\n",
              "      <td>X</td>\n",
              "      <td>11.2</td>\n",
              "      <td>7.6</td>\n",
              "      <td>9.6</td>\n",
              "      <td>29</td>\n",
              "      <td>225</td>\n",
              "      <td>5</td>\n",
              "      <td>5</td>\n",
              "    </tr>\n",
              "    <tr>\n",
              "      <th>2</th>\n",
              "      <td>2018</td>\n",
              "      <td>Ford</td>\n",
              "      <td>Fusion</td>\n",
              "      <td>Mid-size</td>\n",
              "      <td>2.5</td>\n",
              "      <td>4</td>\n",
              "      <td>A6</td>\n",
              "      <td>X</td>\n",
              "      <td>11.3</td>\n",
              "      <td>7.4</td>\n",
              "      <td>9.5</td>\n",
              "      <td>30</td>\n",
              "      <td>223</td>\n",
              "      <td>5</td>\n",
              "      <td>5</td>\n",
              "    </tr>\n",
              "    <tr>\n",
              "      <th>3</th>\n",
              "      <td>2018</td>\n",
              "      <td>Ford</td>\n",
              "      <td>Fusion AWD</td>\n",
              "      <td>Mid-size</td>\n",
              "      <td>2.0</td>\n",
              "      <td>4</td>\n",
              "      <td>AS6</td>\n",
              "      <td>X</td>\n",
              "      <td>11.8</td>\n",
              "      <td>8.2</td>\n",
              "      <td>10.2</td>\n",
              "      <td>28</td>\n",
              "      <td>238</td>\n",
              "      <td>5</td>\n",
              "      <td>5</td>\n",
              "    </tr>\n",
              "    <tr>\n",
              "      <th>4</th>\n",
              "      <td>2018</td>\n",
              "      <td>Ford</td>\n",
              "      <td>Fusion AWD</td>\n",
              "      <td>Mid-size</td>\n",
              "      <td>2.7</td>\n",
              "      <td>6</td>\n",
              "      <td>AS6</td>\n",
              "      <td>X</td>\n",
              "      <td>13.8</td>\n",
              "      <td>9.1</td>\n",
              "      <td>11.8</td>\n",
              "      <td>24</td>\n",
              "      <td>277</td>\n",
              "      <td>4</td>\n",
              "      <td>5</td>\n",
              "    </tr>\n",
              "  </tbody>\n",
              "</table>\n",
              "</div>\n",
              "      <button class=\"colab-df-convert\" onclick=\"convertToInteractive('df-14174ff5-99b7-4a5f-a3b1-1675cac61fb1')\"\n",
              "              title=\"Convert this dataframe to an interactive table.\"\n",
              "              style=\"display:none;\">\n",
              "        \n",
              "  <svg xmlns=\"http://www.w3.org/2000/svg\" height=\"24px\"viewBox=\"0 0 24 24\"\n",
              "       width=\"24px\">\n",
              "    <path d=\"M0 0h24v24H0V0z\" fill=\"none\"/>\n",
              "    <path d=\"M18.56 5.44l.94 2.06.94-2.06 2.06-.94-2.06-.94-.94-2.06-.94 2.06-2.06.94zm-11 1L8.5 8.5l.94-2.06 2.06-.94-2.06-.94L8.5 2.5l-.94 2.06-2.06.94zm10 10l.94 2.06.94-2.06 2.06-.94-2.06-.94-.94-2.06-.94 2.06-2.06.94z\"/><path d=\"M17.41 7.96l-1.37-1.37c-.4-.4-.92-.59-1.43-.59-.52 0-1.04.2-1.43.59L10.3 9.45l-7.72 7.72c-.78.78-.78 2.05 0 2.83L4 21.41c.39.39.9.59 1.41.59.51 0 1.02-.2 1.41-.59l7.78-7.78 2.81-2.81c.8-.78.8-2.07 0-2.86zM5.41 20L4 18.59l7.72-7.72 1.47 1.35L5.41 20z\"/>\n",
              "  </svg>\n",
              "      </button>\n",
              "      \n",
              "  <style>\n",
              "    .colab-df-container {\n",
              "      display:flex;\n",
              "      flex-wrap:wrap;\n",
              "      gap: 12px;\n",
              "    }\n",
              "\n",
              "    .colab-df-convert {\n",
              "      background-color: #E8F0FE;\n",
              "      border: none;\n",
              "      border-radius: 50%;\n",
              "      cursor: pointer;\n",
              "      display: none;\n",
              "      fill: #1967D2;\n",
              "      height: 32px;\n",
              "      padding: 0 0 0 0;\n",
              "      width: 32px;\n",
              "    }\n",
              "\n",
              "    .colab-df-convert:hover {\n",
              "      background-color: #E2EBFA;\n",
              "      box-shadow: 0px 1px 2px rgba(60, 64, 67, 0.3), 0px 1px 3px 1px rgba(60, 64, 67, 0.15);\n",
              "      fill: #174EA6;\n",
              "    }\n",
              "\n",
              "    [theme=dark] .colab-df-convert {\n",
              "      background-color: #3B4455;\n",
              "      fill: #D2E3FC;\n",
              "    }\n",
              "\n",
              "    [theme=dark] .colab-df-convert:hover {\n",
              "      background-color: #434B5C;\n",
              "      box-shadow: 0px 1px 3px 1px rgba(0, 0, 0, 0.15);\n",
              "      filter: drop-shadow(0px 1px 2px rgba(0, 0, 0, 0.3));\n",
              "      fill: #FFFFFF;\n",
              "    }\n",
              "  </style>\n",
              "\n",
              "      <script>\n",
              "        const buttonEl =\n",
              "          document.querySelector('#df-14174ff5-99b7-4a5f-a3b1-1675cac61fb1 button.colab-df-convert');\n",
              "        buttonEl.style.display =\n",
              "          google.colab.kernel.accessAllowed ? 'block' : 'none';\n",
              "\n",
              "        async function convertToInteractive(key) {\n",
              "          const element = document.querySelector('#df-14174ff5-99b7-4a5f-a3b1-1675cac61fb1');\n",
              "          const dataTable =\n",
              "            await google.colab.kernel.invokeFunction('convertToInteractive',\n",
              "                                                     [key], {});\n",
              "          if (!dataTable) return;\n",
              "\n",
              "          const docLinkHtml = 'Like what you see? Visit the ' +\n",
              "            '<a target=\"_blank\" href=https://colab.research.google.com/notebooks/data_table.ipynb>data table notebook</a>'\n",
              "            + ' to learn more about interactive tables.';\n",
              "          element.innerHTML = '';\n",
              "          dataTable['output_type'] = 'display_data';\n",
              "          await google.colab.output.renderOutput(dataTable, element);\n",
              "          const docLink = document.createElement('div');\n",
              "          docLink.innerHTML = docLinkHtml;\n",
              "          element.appendChild(docLink);\n",
              "        }\n",
              "      </script>\n",
              "    </div>\n",
              "  </div>\n",
              "  "
            ]
          },
          "metadata": {},
          "execution_count": 4
        }
      ]
    },
    {
      "cell_type": "code",
      "source": [
        "df.info()"
      ],
      "metadata": {
        "colab": {
          "base_uri": "https://localhost:8080/"
        },
        "id": "HWCiPsxHz6wy",
        "outputId": "e0075cbe-a937-4996-911c-106154ca4f0c"
      },
      "execution_count": 5,
      "outputs": [
        {
          "output_type": "stream",
          "name": "stdout",
          "text": [
            "<class 'pandas.core.frame.DataFrame'>\n",
            "RangeIndex: 2206 entries, 0 to 2205\n",
            "Data columns (total 15 columns):\n",
            " #   Column                             Non-Null Count  Dtype  \n",
            "---  ------                             --------------  -----  \n",
            " 0   Model Year                         2206 non-null   int64  \n",
            " 1   Make                               2206 non-null   object \n",
            " 2   Model                              2206 non-null   object \n",
            " 3   Vehicle Class                      2206 non-null   object \n",
            " 4   Engine Size(L)                     2206 non-null   float64\n",
            " 5   Cylinders                          2206 non-null   int64  \n",
            " 6   Transmission                       2206 non-null   object \n",
            " 7   Fuel Type                          2206 non-null   object \n",
            " 8   Fuel Consumption (City (L/100 km)  2206 non-null   float64\n",
            " 9   Fuel Consumption(Hwy (L/100 km))   2206 non-null   float64\n",
            " 10  Fuel Consumption(Comb (L/100 km))  2206 non-null   float64\n",
            " 11  Fuel Consumption(Comb (mpg))       2206 non-null   int64  \n",
            " 12  CO2 Emissions(g/km)                2206 non-null   int64  \n",
            " 13  CO2 Rating                         2206 non-null   int64  \n",
            " 14  Smog Rating                        2206 non-null   int64  \n",
            "dtypes: float64(4), int64(6), object(5)\n",
            "memory usage: 258.6+ KB\n"
          ]
        }
      ]
    },
    {
      "cell_type": "code",
      "source": [
        "df['Smog Rating'].value_counts()"
      ],
      "metadata": {
        "colab": {
          "base_uri": "https://localhost:8080/"
        },
        "id": "9CRYlU_w0ZQv",
        "outputId": "90beb4be-090b-4751-9e15-2e67989d0590"
      },
      "execution_count": 6,
      "outputs": [
        {
          "output_type": "execute_result",
          "data": {
            "text/plain": [
              "3    727\n",
              "5    674\n",
              "7    363\n",
              "6    242\n",
              "1    200\n",
              "Name: Smog Rating, dtype: int64"
            ]
          },
          "metadata": {},
          "execution_count": 6
        }
      ]
    },
    {
      "cell_type": "code",
      "source": [
        "\n",
        "# 컬럼 명을 정리합니다.\n",
        "df.columns = [\n",
        "    \"year\",\n",
        "    \"make\",\n",
        "    \"model\",\n",
        "    \"class\",\n",
        "    \"esize\",\n",
        "    \"n_cylinder\",\n",
        "    \"ttype\",\n",
        "    \"ftype\",\n",
        "    \"fcons_cty\",\n",
        "    \"fcons_hwy\",\n",
        "    \"fcons_comp\",\n",
        "    \"fcons_mpg\",\n",
        "    \"co2_emsn\",\n",
        "    \"co2_rating\",\n",
        "    \"smog_rating\",\n",
        "]\n",
        "\n",
        "\n",
        "# classification target을 생성.\n",
        "df['is_green'] = df['smog_rating'] >= 6\n",
        "\n",
        "# 6이상의 값을 True로 표기하게 됩니다.. (6,7)\n",
        "df['is_green'].value_counts()\n"
      ],
      "metadata": {
        "colab": {
          "base_uri": "https://localhost:8080/"
        },
        "id": "8MP_bK71z8IM",
        "outputId": "3e76a496-f368-48db-8d36-9f4a7cb94a42"
      },
      "execution_count": 7,
      "outputs": [
        {
          "output_type": "execute_result",
          "data": {
            "text/plain": [
              "False    1601\n",
              "True      605\n",
              "Name: is_green, dtype: int64"
            ]
          },
          "metadata": {},
          "execution_count": 7
        }
      ]
    },
    {
      "cell_type": "markdown",
      "source": [
        "###\\# 모델의 baseline score를 확인합니다. \n",
        "* 범주의 최빈값을 기준으로 하므로, Baseline의 값은 0.725...가 됩니다."
      ],
      "metadata": {
        "id": "xetgolJF0i8s"
      }
    },
    {
      "cell_type": "code",
      "source": [
        "df['is_green'].value_counts(normalize=True)"
      ],
      "metadata": {
        "colab": {
          "base_uri": "https://localhost:8080/"
        },
        "id": "KMOv3_Ku1iJ3",
        "outputId": "73393c1f-3241-41c0-a57f-b10070207db1"
      },
      "execution_count": 8,
      "outputs": [
        {
          "output_type": "execute_result",
          "data": {
            "text/plain": [
              "False    0.725748\n",
              "True     0.274252\n",
              "Name: is_green, dtype: float64"
            ]
          },
          "metadata": {},
          "execution_count": 8
        }
      ]
    },
    {
      "cell_type": "code",
      "source": [
        "# 가장 빈도수가 높은 값을 출력하게 됩니다.\n",
        "print('Baseline Score', df['is_green'].value_counts(normalize=True).max())"
      ],
      "metadata": {
        "colab": {
          "base_uri": "https://localhost:8080/"
        },
        "id": "uHl2yFVc1X5t",
        "outputId": "89329d54-6992-40eb-d6fa-900a9c94f87c"
      },
      "execution_count": 9,
      "outputs": [
        {
          "output_type": "stream",
          "name": "stdout",
          "text": [
            "Baseline Score 0.7257479601087942\n"
          ]
        }
      ]
    },
    {
      "cell_type": "code",
      "source": [
        "# 학습 / 평가 데이터셋을 분리합니다.\n",
        "train, test = train_test_split(df, test_size =0.2, random_state=42)\n",
        "\n",
        "# feature과 label을 분리합니다.\n",
        "features = ['make', 'class', 'esize', 'n_cylinder', 'ttype', 'ftype', 'fcons_mpg']\n",
        "target = 'is_green'\n",
        "\n",
        "X_train, y_train = train[features], train[target]\n",
        "X_test, y_test = test[features], test[target]"
      ],
      "metadata": {
        "id": "nz13xPbP1lxU"
      },
      "execution_count": 10,
      "outputs": []
    },
    {
      "cell_type": "markdown",
      "source": [
        "#### 학습을 진행합니다.\n",
        "* 베이스라인으로 살펴본 결과 타겟은 현재 불균형한 지표를 보여주고 있습니다.\n",
        " * `RandomForestClassifier`의 파라미터 중, `class_weight = \"balanced\"` 을 사용합니다. <br/>\n",
        "    * 클래스가 데이터에 나타나는 빈도에 반비례하여 가중치가 적용됩니다. "
      ],
      "metadata": {
        "id": "GIzqzZ9M209M"
      }
    },
    {
      "cell_type": "code",
      "source": [
        "# 필요한 라이브러리 가져오기.\n",
        "\n",
        "from sklearn.ensemble import RandomForestClassifier\n",
        "from sklearn.pipeline import make_pipeline\n",
        "from category_encoders import TargetEncoder\n",
        "\n",
        "# 파이프라인 생성.\n",
        "def get_pipeline():\n",
        "  return make_pipeline(\n",
        "      TargetEncoder(min_samples_leaf = 1, smoothing=1),\n",
        "      RandomForestClassifier(n_estimators=100,\n",
        "                             random_state = 42,\n",
        "                             class_weight = \"balanced\")# 클래스가 나타난 빈도에 반비례 하여 가중치가 적용됨. \n",
        "                       )\n",
        "1\n",
        "\n",
        "\n",
        "# 생성한 파이프라인 실행.\n",
        "pipe = get_pipeline()\n",
        "pipe.fit(X_train, y_train)\n",
        "\n",
        "\n",
        "# 검증 정확도\n",
        "print(f'검증 정확도 : {pipe.score(X_test, y_test)}')"
      ],
      "metadata": {
        "colab": {
          "base_uri": "https://localhost:8080/"
        },
        "id": "BwCq7f6L24l6",
        "outputId": "f0e4c08d-051e-4261-cf6e-932a3f6c429f"
      },
      "execution_count": 11,
      "outputs": [
        {
          "output_type": "stream",
          "name": "stderr",
          "text": [
            "/usr/local/lib/python3.8/dist-packages/category_encoders/target_encoder.py:122: FutureWarning: Default parameter min_samples_leaf will change in version 2.6.See https://github.com/scikit-learn-contrib/category_encoders/issues/327\n",
            "  warnings.warn(\"Default parameter min_samples_leaf will change in version 2.6.\"\n",
            "/usr/local/lib/python3.8/dist-packages/category_encoders/target_encoder.py:127: FutureWarning: Default parameter smoothing will change in version 2.6.See https://github.com/scikit-learn-contrib/category_encoders/issues/327\n",
            "  warnings.warn(\"Default parameter smoothing will change in version 2.6.\"\n"
          ]
        },
        {
          "output_type": "stream",
          "name": "stdout",
          "text": [
            "검증 정확도 : 0.9049773755656109\n"
          ]
        }
      ]
    },
    {
      "cell_type": "markdown",
      "source": [
        "검증 정롹도가 0.90의 높은 스코어가 출력되었습니다. \n",
        "불균형한 클래스는 정확도 만으로 평가할 수 없습니다.\n",
        " * 정밀도, 재현율, ROC Curve, AUC 등을 같이 사용해야 합니다, **성능 평가**를 진행하여 봅시다."
      ],
      "metadata": {
        "id": "tZALesdh3e06"
      }
    },
    {
      "cell_type": "markdown",
      "source": [
        "####**성능평가**"
      ],
      "metadata": {
        "id": "hlPpHMLa_lgM"
      }
    },
    {
      "cell_type": "markdown",
      "source": [
        "1. Classification_report\n",
        " * False 및 True 범주를 고르게 예측하고 있습니다. \n",
        "  * `Parameter : class_weight`을 이용하여 가중치를 적용하였으므로 고르게 예측한 것으로 파악됩니다. \n",
        "   "
      ],
      "metadata": {
        "id": "QgxhMpXCBDEA"
      }
    },
    {
      "cell_type": "code",
      "source": [
        "# 필요한 라이브러리 가져오기. \n",
        "from sklearn.metrics import classification_report\n",
        "\n",
        "print(classification_report(y_test, pipe.predict(X_test)))"
      ],
      "metadata": {
        "colab": {
          "base_uri": "https://localhost:8080/"
        },
        "id": "iAKwquRF_pwx",
        "outputId": "21b3e592-b8d0-4da0-e327-3a7e101a7be0"
      },
      "execution_count": 12,
      "outputs": [
        {
          "output_type": "stream",
          "name": "stdout",
          "text": [
            "              precision    recall  f1-score   support\n",
            "\n",
            "       False       0.95      0.92      0.93       322\n",
            "        True       0.80      0.86      0.83       120\n",
            "\n",
            "    accuracy                           0.90       442\n",
            "   macro avg       0.88      0.89      0.88       442\n",
            "weighted avg       0.91      0.90      0.91       442\n",
            "\n"
          ]
        }
      ]
    },
    {
      "cell_type": "markdown",
      "source": [
        "2. Confusion Matrix & ROC Curve 그리기. \n",
        "\n",
        "\n"
      ],
      "metadata": {
        "id": "BmLyXX3bA8Hi"
      }
    },
    {
      "cell_type": "code",
      "source": [
        "# 예측값 지정\n",
        "y_pred = pipe.predict(X_test)\n",
        "\n",
        "# Confusion Matrix 시각화 : 필요한 라이브러리 가져오기.\n",
        "from sklearn.metrics import confusion_matrix, ConfusionMatrixDisplay\n",
        "from sklearn.metrics import roc_curve, roc_auc_score\n",
        "import matplotlib.pyplot as plt\n",
        "\n",
        "\n",
        "\n",
        "# subplot을 생성합니다. : 2행 1열로 생성합니다.\n",
        "fig, axes = plt.subplots(2,1,figsize = (10,10))\n",
        "\n",
        "\n",
        "#1. Confusion Matrix 생성.\n",
        "cm = confusion_matrix(y_test, y_pred,\n",
        "                      labels = pipe.named_steps['randomforestclassifier'].classes_)\n",
        "\n",
        "disp_1 = ConfusionMatrixDisplay(confusion_matrix = cm, \n",
        "                              display_labels = pipe.named_steps['randomforestclassifier'].classes_)\n",
        "\n",
        "disp_1.plot(ax = axes[0])\n",
        "\n",
        "# 1-1. Confusion Matrix title 생성\n",
        "axes[0].set_title(f'confusion matrix (n = {len(y_test)})', fontsize = 15)\n",
        "\n",
        "\n",
        "\n",
        "# 2. ROC Curve 생성. \n",
        "\n",
        "# 2-1. 예측한 값들 중 True의 값을 불러옵니다. \n",
        "y_pred_proba = pipe.predict_proba(X_test)[:, 1]\n",
        "print('AUC', roc_auc_score(y_test, y_pred_proba))\n",
        "\n",
        "\n",
        "# 2-2. 베이스라인 생성 : 초록색 직선의 선으로 생성할 것 입니다. \n",
        "baseline_fpr, baseline_tpr, _ = roc_curve(y_test, [0] * len(y_test))\n",
        "\n",
        "# 2-3. 예측값과 확률로  위양성률 및 재현율을 생성합니다. \n",
        "#  점선과 직선으로 시각화를 진행할 것 입니다.\n",
        "fpr, tpr, thresholds = roc_curve(y_test, y_pred_proba)\n",
        "\n",
        "disp_2 = plt.plot(baseline_fpr, baseline_tpr, linestyle = '--', color = 'green',label=\"Baseline\", )\n",
        "plt.plot(fpr, tpr, color=\"blue\", label=\"Model\")\n",
        "plt.scatter(fpr, tpr, color = 'red')\n",
        "\n",
        "axes[1].set_title('Roc Curve')\n",
        "\n",
        "plt.xlabel('FPR')\n",
        "plt.ylabel('TPR')\n",
        "\n",
        "plt.show()"
      ],
      "metadata": {
        "colab": {
          "base_uri": "https://localhost:8080/",
          "height": 641
        },
        "id": "t_LX9t--muOk",
        "outputId": "8a965b03-8ee7-48f6-bb7d-c9cb9731153a"
      },
      "execution_count": 13,
      "outputs": [
        {
          "output_type": "stream",
          "name": "stdout",
          "text": [
            "AUC 0.9596143892339544\n"
          ]
        },
        {
          "output_type": "display_data",
          "data": {
            "text/plain": [
              "<Figure size 720x720 with 3 Axes>"
            ],
            "image/png": "[encoded data removed]"
          },
          "metadata": {
            "needs_background": "light"
          }
        }
      ]
    },
    {
      "cell_type": "markdown",
      "source": [
        "#### Feature Importance(Mean decrease impurity , MDI)\n",
        "* 트리 기반 모델에서는 각 step에서 특정 피처에 의하여 노드를 분할하여, 노드의 불순도를 감소 시킵니다.\n",
        "  * 그렇다면, 평균적으로 불순도를 크게 감소시키는데 사용되는 피처들은 중요한 피처로 생각할 수 있습니다."
      ],
      "metadata": {
        "id": "_WbuIYC71njk"
      }
    },
    {
      "cell_type": "markdown",
      "source": [
        "* 사이킷런의 트리 기반 모델은 평균 불순도 감소(Mean Decrease Impurity) 값을 사용하는 특성 중요도 계산을 기본적으로 제공합니다.\n",
        "  * MDI기반 Feature Importance는 빠르고, 간편하게 계산이 가능하다는 장점이 존재합니다."
      ],
      "metadata": {
        "id": "UoF8RTIMGBSV"
      }
    },
    {
      "cell_type": "code",
      "source": [
        "# subplots 2행 1열 그래프를 생성합니다. \n",
        "\n",
        "\n",
        "# 1. 특성 중요도 생성\n",
        "\n",
        "# 1-1. 파이프라인의 랜덤포레스트 접근\n",
        "rf  = pipe.named_steps['randomforestclassifier']\n",
        "\n",
        "# 1-2. 중요도\n",
        "importances = pd.Series(rf.feature_importances_, X_train.columns)\n",
        "\n",
        "# 1-3. 데이터프레임 변환\n",
        "import_df = pd.DataFrame(importances, columns = ['importances'])\n",
        "\n",
        "# 1-4. 그래프 지정\n",
        "ax_1 = plt.subplot(121)\n",
        "graph1 = importances.sort_values().plot.barh()\n",
        "ax_1.set_title('feature importances')\n",
        "# 1-3. 시각화\n",
        "#axes[0].plot(x = rf.feature_importances_, y = X_train.columns).barh()\n",
        "plt.show() \n",
        "\n",
        "\n",
        "ax_2 = plt.subplot(122)\n",
        "X_train.nunique().sort_values().plot.barh()\n",
        "ax_2.set_title('Cardinailty')\n",
        "\n",
        "\n",
        "\n",
        "fig.show()"
      ],
      "metadata": {
        "colab": {
          "base_uri": "https://localhost:8080/",
          "height": 545
        },
        "id": "usNj8x2IKBmK",
        "outputId": "40433ee8-7fbd-41cb-f1ac-04b59422e09f"
      },
      "execution_count": 14,
      "outputs": [
        {
          "output_type": "display_data",
          "data": {
            "text/plain": [
              "<Figure size 432x288 with 1 Axes>"
            ],
            "image/png": "[encoded data removed]"
          },
          "metadata": {
            "needs_background": "light"
          }
        },
        {
          "output_type": "display_data",
          "data": {
            "text/plain": [
              "<Figure size 432x288 with 1 Axes>"
            ],
            "image/png": "[encoded data removed]"
          },
          "metadata": {
            "needs_background": "light"
          }
        }
      ]
    },
    {
      "cell_type": "markdown",
      "source": [
        "Feature Importance의 문제점 : High Cardinality\n",
        "\n",
        "* MDI 기반 Feature Importance high cardinality 특성에 높은 값을 부여하는 문제가 존재합니다.\n",
        "\n",
        "* 매 노드 분할 시, Cardinality가 높은 특성이 분할 기준 특성이 될 확률이 높기 때문입니다.\n",
        "\n",
        "* 아무런 의미가 없지만 Cardinality만 높은 난수 특성인 `random`을 추가하여 특성 중요도를 한 번 확인해보도록 합니다. \n",
        "\n"
      ],
      "metadata": {
        "id": "cticJTfgGxkh"
      }
    },
    {
      "cell_type": "code",
      "source": [
        "import numpy as np\n",
        "\n",
        "# 난수 생성\n",
        "rand = np.random.RandomState(seed = 2)\n",
        "\n",
        "X_train_random_added = X_train.copy()\n",
        "\n",
        "# randn() : 평균 0, 표준편차1의 가우시안 (표준정규분포) 난수를 생성합니다.\n",
        "X_train_random_added['random'] = rand.randn(len(X_train))\n",
        "\n",
        "# 위에서 생성한 함수로 파이프라인을 생성합니다. \n",
        "pipe_random_added = get_pipeline()\n",
        "\n",
        "# 생성된 난수와 target 값으로 모델을 훈련시킵니다.\n",
        "pipe_random_added.fit(X_train_random_added, y_train)\n",
        "\n",
        "\n",
        "\n",
        "# 새로 생성된 파이프라인의 랜덤포레스트에 접근합니다. \n",
        "rf = pipe_random_added.named_steps['randomforestclassifier']\n",
        "\n",
        "# 중요도를 다시 가져옵시다\n",
        "importances_random_added = pd.Series(\n",
        "    rf.feature_importances_, X_train_random_added.columns\n",
        ")\n",
        "\n",
        "# 카디널리티 및 중요도를 시각화 합니다.\n",
        "\n",
        "# 중요도\n",
        "importances_random_added.sort_values().plot.barh()\n",
        "plt.title('Feature Importance')\n",
        "plt.show()\n",
        "\n",
        "# 카디널리티.\n",
        "X_train_random_added.nunique().sort_values().plot.barh()\n",
        "plt.title('Cardinailty')\n",
        "plt.show()\n"
      ],
      "metadata": {
        "colab": {
          "base_uri": "https://localhost:8080/",
          "height": 638
        },
        "id": "pD1bmgd5FP48",
        "outputId": "56c92d04-842c-42af-e607-b5ab02f4b3d8"
      },
      "execution_count": 15,
      "outputs": [
        {
          "output_type": "stream",
          "name": "stderr",
          "text": [
            "/usr/local/lib/python3.8/dist-packages/category_encoders/target_encoder.py:122: FutureWarning: Default parameter min_samples_leaf will change in version 2.6.See https://github.com/scikit-learn-contrib/category_encoders/issues/327\n",
            "  warnings.warn(\"Default parameter min_samples_leaf will change in version 2.6.\"\n",
            "/usr/local/lib/python3.8/dist-packages/category_encoders/target_encoder.py:127: FutureWarning: Default parameter smoothing will change in version 2.6.See https://github.com/scikit-learn-contrib/category_encoders/issues/327\n",
            "  warnings.warn(\"Default parameter smoothing will change in version 2.6.\"\n"
          ]
        },
        {
          "output_type": "display_data",
          "data": {
            "text/plain": [
              "<Figure size 432x288 with 1 Axes>"
            ],
            "image/png": "[encoded data removed]"
          },
          "metadata": {
            "needs_background": "light"
          }
        },
        {
          "output_type": "display_data",
          "data": {
            "text/plain": [
              "<Figure size 432x288 with 1 Axes>"
            ],
            "image/png": "[encoded data removed]"
          },
          "metadata": {
            "needs_background": "light"
          }
        }
      ]
    },
    {
      "cell_type": "markdown",
      "source": [
        "카디널리티 수가 가장 많은 컬럼 `random` 특성의 중요도가 중요하다고 나와야하는데,  뭔가 패치된듯..?(알아서 걸러진 느낌)"
      ],
      "metadata": {
        "id": "YvK1x_zyJxBg"
      }
    },
    {
      "cell_type": "markdown",
      "source": [
        "## Drop - Column Importance\n",
        "* 각 특성을 사용하지 않고, 즉 몇가지는 버리고 모델을 학습합니다.\n",
        "  * 이후의 성능 평가는 모든 특성을 사용한 모델의 성능평가와 비교합니다.\n",
        "\n",
        "* 특성을 제거하였을 때, 평가 성능이 크게 하락했다면, 해당 특성이 매우 중요한 특성일 것 입니다.\n",
        "\n",
        "* ❗ 이 방법은 이론적으로 가장 좋아보이지만, 매 특성을 drop한 이후 fit을 진행하므로, 매우 느립니다."
      ],
      "metadata": {
        "id": "trY2ScOnOSPh"
      }
    },
    {
      "cell_type": "code",
      "source": [
        "# 모든 column을 이용하여 학습했을 때 검증 정확도는 다음과 같습니다.\n",
        "score = pipe.score(X_test, y_test)\n",
        "print(f'Before Drop :: 검증 정확도 {score:.6f}')\n",
        "\n",
        "# 빈 시리즈를 생성합니다.\n",
        "dci = pd.Series(dtype = float)\n",
        "\n",
        "# 지정한 feature로 for문을 진행합니다.\n",
        "for feature in features:\n",
        "  p = get_pipeline()\n",
        "\n",
        "  # feature를 drop하여 모델을 재학습합니다.\n",
        "  p.fit(X_train.drop(columns = [feature], axis =1), y_train)\n",
        "\n",
        "  # 파이프라인에 대한 스코어를 확인합니다. \n",
        "  score_dropped = p.score(X_test.drop(columns = [feature], axis=1), y_test)\n",
        "  print(f'Drop {feature} :: 검증 정확도 {score_dropped:.6f}')\n",
        "\n",
        "  # drop-column importance는 해당 특성을 drop 했을 때 성능 하락폭으로 정의됩니다.\n",
        "  dci[feature] = score - score_dropped"
      ],
      "metadata": {
        "colab": {
          "base_uri": "https://localhost:8080/"
        },
        "id": "euRdWGeFPC9C",
        "outputId": "80b35e56-7a60-4fbc-affb-a227a1981dd8"
      },
      "execution_count": 16,
      "outputs": [
        {
          "output_type": "stream",
          "name": "stdout",
          "text": [
            "Before Drop :: 검증 정확도 0.904977\n"
          ]
        },
        {
          "output_type": "stream",
          "name": "stderr",
          "text": [
            "/usr/local/lib/python3.8/dist-packages/category_encoders/target_encoder.py:122: FutureWarning: Default parameter min_samples_leaf will change in version 2.6.See https://github.com/scikit-learn-contrib/category_encoders/issues/327\n",
            "  warnings.warn(\"Default parameter min_samples_leaf will change in version 2.6.\"\n",
            "/usr/local/lib/python3.8/dist-packages/category_encoders/target_encoder.py:127: FutureWarning: Default parameter smoothing will change in version 2.6.See https://github.com/scikit-learn-contrib/category_encoders/issues/327\n",
            "  warnings.warn(\"Default parameter smoothing will change in version 2.6.\"\n"
          ]
        },
        {
          "output_type": "stream",
          "name": "stdout",
          "text": [
            "Drop make :: 검증 정확도 0.891403\n"
          ]
        },
        {
          "output_type": "stream",
          "name": "stderr",
          "text": [
            "/usr/local/lib/python3.8/dist-packages/category_encoders/target_encoder.py:122: FutureWarning: Default parameter min_samples_leaf will change in version 2.6.See https://github.com/scikit-learn-contrib/category_encoders/issues/327\n",
            "  warnings.warn(\"Default parameter min_samples_leaf will change in version 2.6.\"\n",
            "/usr/local/lib/python3.8/dist-packages/category_encoders/target_encoder.py:127: FutureWarning: Default parameter smoothing will change in version 2.6.See https://github.com/scikit-learn-contrib/category_encoders/issues/327\n",
            "  warnings.warn(\"Default parameter smoothing will change in version 2.6.\"\n"
          ]
        },
        {
          "output_type": "stream",
          "name": "stdout",
          "text": [
            "Drop class :: 검증 정확도 0.900452\n"
          ]
        },
        {
          "output_type": "stream",
          "name": "stderr",
          "text": [
            "/usr/local/lib/python3.8/dist-packages/category_encoders/target_encoder.py:122: FutureWarning: Default parameter min_samples_leaf will change in version 2.6.See https://github.com/scikit-learn-contrib/category_encoders/issues/327\n",
            "  warnings.warn(\"Default parameter min_samples_leaf will change in version 2.6.\"\n",
            "/usr/local/lib/python3.8/dist-packages/category_encoders/target_encoder.py:127: FutureWarning: Default parameter smoothing will change in version 2.6.See https://github.com/scikit-learn-contrib/category_encoders/issues/327\n",
            "  warnings.warn(\"Default parameter smoothing will change in version 2.6.\"\n"
          ]
        },
        {
          "output_type": "stream",
          "name": "stdout",
          "text": [
            "Drop esize :: 검증 정확도 0.889140\n"
          ]
        },
        {
          "output_type": "stream",
          "name": "stderr",
          "text": [
            "/usr/local/lib/python3.8/dist-packages/category_encoders/target_encoder.py:122: FutureWarning: Default parameter min_samples_leaf will change in version 2.6.See https://github.com/scikit-learn-contrib/category_encoders/issues/327\n",
            "  warnings.warn(\"Default parameter min_samples_leaf will change in version 2.6.\"\n",
            "/usr/local/lib/python3.8/dist-packages/category_encoders/target_encoder.py:127: FutureWarning: Default parameter smoothing will change in version 2.6.See https://github.com/scikit-learn-contrib/category_encoders/issues/327\n",
            "  warnings.warn(\"Default parameter smoothing will change in version 2.6.\"\n"
          ]
        },
        {
          "output_type": "stream",
          "name": "stdout",
          "text": [
            "Drop n_cylinder :: 검증 정확도 0.904977\n"
          ]
        },
        {
          "output_type": "stream",
          "name": "stderr",
          "text": [
            "/usr/local/lib/python3.8/dist-packages/category_encoders/target_encoder.py:122: FutureWarning: Default parameter min_samples_leaf will change in version 2.6.See https://github.com/scikit-learn-contrib/category_encoders/issues/327\n",
            "  warnings.warn(\"Default parameter min_samples_leaf will change in version 2.6.\"\n",
            "/usr/local/lib/python3.8/dist-packages/category_encoders/target_encoder.py:127: FutureWarning: Default parameter smoothing will change in version 2.6.See https://github.com/scikit-learn-contrib/category_encoders/issues/327\n",
            "  warnings.warn(\"Default parameter smoothing will change in version 2.6.\"\n"
          ]
        },
        {
          "output_type": "stream",
          "name": "stdout",
          "text": [
            "Drop ttype :: 검증 정확도 0.857466\n"
          ]
        },
        {
          "output_type": "stream",
          "name": "stderr",
          "text": [
            "/usr/local/lib/python3.8/dist-packages/category_encoders/target_encoder.py:122: FutureWarning: Default parameter min_samples_leaf will change in version 2.6.See https://github.com/scikit-learn-contrib/category_encoders/issues/327\n",
            "  warnings.warn(\"Default parameter min_samples_leaf will change in version 2.6.\"\n",
            "/usr/local/lib/python3.8/dist-packages/category_encoders/target_encoder.py:127: FutureWarning: Default parameter smoothing will change in version 2.6.See https://github.com/scikit-learn-contrib/category_encoders/issues/327\n",
            "  warnings.warn(\"Default parameter smoothing will change in version 2.6.\"\n"
          ]
        },
        {
          "output_type": "stream",
          "name": "stdout",
          "text": [
            "Drop ftype :: 검증 정확도 0.898190\n"
          ]
        },
        {
          "output_type": "stream",
          "name": "stderr",
          "text": [
            "/usr/local/lib/python3.8/dist-packages/category_encoders/target_encoder.py:122: FutureWarning: Default parameter min_samples_leaf will change in version 2.6.See https://github.com/scikit-learn-contrib/category_encoders/issues/327\n",
            "  warnings.warn(\"Default parameter min_samples_leaf will change in version 2.6.\"\n",
            "/usr/local/lib/python3.8/dist-packages/category_encoders/target_encoder.py:127: FutureWarning: Default parameter smoothing will change in version 2.6.See https://github.com/scikit-learn-contrib/category_encoders/issues/327\n",
            "  warnings.warn(\"Default parameter smoothing will change in version 2.6.\"\n"
          ]
        },
        {
          "output_type": "stream",
          "name": "stdout",
          "text": [
            "Drop fcons_mpg :: 검증 정확도 0.893665\n"
          ]
        }
      ]
    },
    {
      "cell_type": "code",
      "source": [
        "# 그래프를 생성하여 봅시다!\n",
        "%matplotlib inline\n",
        "dci.sort_values().plot.barh()\n",
        "plt.title('Drop-Column Importance')"
      ],
      "metadata": {
        "colab": {
          "base_uri": "https://localhost:8080/",
          "height": 299
        },
        "id": "SaRguQX_G4i4",
        "outputId": "f777abb3-1f9c-408b-c777-a12787331066"
      },
      "execution_count": 17,
      "outputs": [
        {
          "output_type": "execute_result",
          "data": {
            "text/plain": [
              "Text(0.5, 1.0, 'Drop-Column Importance')"
            ]
          },
          "metadata": {},
          "execution_count": 17
        },
        {
          "output_type": "display_data",
          "data": {
            "text/plain": [
              "<Figure size 432x288 with 1 Axes>"
            ],
            "image/png": "[encoded data removed]"
          },
          "metadata": {
            "needs_background": "light"
          }
        }
      ]
    },
    {
      "cell_type": "markdown",
      "source": [
        "\n",
        "\n",
        "* Drop-column Importance는 안정적이고, 이론적으로 가장 괜찮은 특성 중요도 값을 제공합니다. \n",
        " * ❗ 하지만 모델을 여러번 학습시켜야 하는 문제점이 존재합니다.\n"
      ],
      "metadata": {
        "id": "FtTa35xuM4P6"
      }
    },
    {
      "cell_type": "markdown",
      "source": [
        "## Permutation Importance\n",
        "* Permutation Importance는 색다른 방법으로 이 문제를 해결합니다.\n",
        " * 모델을 재학습시키지 않고, 기존 모델에서 각 특성에 노이즈를 주어 모델이 해당 특성을 의사결정에 사용하지 못하게 만들었을 때 성능이 얼마나 감소하는지 확인합니다.\n",
        " * 이때, 노이즈를 주는 가장 간단한 방법은 그 특성값들을 샘플들 내에서 섞는 것(shuffle, permutation) 입니다.\n",
        "\n"
      ],
      "metadata": {
        "id": "b85klfBiTU0j"
      }
    },
    {
      "cell_type": "markdown",
      "source": [
        "#### Permutation Importance 장점과 단점\n",
        "\n",
        "* 장점\n",
        "  * 재학습이 필요 없습니다.\n",
        "  * 모든 모델에 범용적으로 적용 가능한 방법입니다.\n",
        "  * Feature Importance(MDI)보다 high cardinality 특성에 덜 치우친 결과를 냅니다.\n",
        "\n",
        "* 단점\n",
        "  * 강한 상관관계가 있는 특성들이 존재할 때, 잘못된 값을 낼 수 있습니다.\n",
        "    1. 상관관계가 있는 두 특성 중 하나의 값에 노이즈를 주게 되면 비현실적인 데이터로 모델이 결과를 도출하게 됩니다. \n",
        "    2. 하나의 값에 노이즈를 주어도, 해당 정보를 다른 특성으로부터 얻을 수 있고, 성능은 크게 하락하지 않을 수 있습니다.\n",
        "      * 결과적으로, 섞인 특성(및 해당 특성과 강력한 관계가 있는 특성 모두)은 실제로 중요한 특성일 수 있음에도, 낮은 Permutation Importance를 보이게 됩니다. "
      ],
      "metadata": {
        "id": "HSYiOev6-vd0"
      }
    },
    {
      "cell_type": "code",
      "source": [
        "pi = pd.Series(dtype=float)\n",
        "\n",
        "n_iter = 10 # 랜덤으로 특성을 섞어 평가 성능을 확인하는 과정을 몇 번 반복할지 결정합니다.\n",
        "np.random.seed(2) # random seed를 고정하여 반복적으로 아래 코드를 수행해도 같은 결과가 나오게 합니다.\n",
        "\n",
        "\n",
        "# 피처들을 정의하여 데이터셋을 실행합니다. \n",
        "for feature in features:\n",
        "\n",
        "  # 테스트 데이터셋을 복사합니다.\n",
        "  X_test_permed = X_test.copy()\n",
        "\n",
        "  # 모델을 재학습하지 않고, 기존모델에서 feature 값을 여러번 섞습니다. => (n_iter)\n",
        "  # 이후 검증하여 평균 성능을 확인합니다.\n",
        "  \n",
        "  # 순열중요도의 스코어 값을 담기위한 빈 리스트를 작성합니다.\n",
        "  scores_permutated = []\n",
        "\n",
        "  # feature 값을 섞기 위해 지정한 'n_iter' 를 이용하여 for문을 작성합니다. \n",
        "  for _ in range(n_iter):\n",
        "    \n",
        "    # 복사한 데이터셋에 새로운 컬럼을 생성합니다. \n",
        "    # np.random.seed(2) 덕분에 우리가 생성하는 난수는 계속 같은 값을 갖게 될 것 입니다.\n",
        "    X_test_permed[feature] = np.random.permutation(X_test_permed[feature])\n",
        "    \n",
        "    # 미리 생성해놓은 빈리스트에 점수를 담아놓습니다.\n",
        "    scores_permutated.append(pipe.score(X_test_permed, y_test))\n",
        "  \n",
        "  # 생성된 스코어값의 평균값을 생성합니다.\n",
        "  avg_score_permutated = np.mean(scores_permutated)\n",
        "  print(f'Perm {feature} :: 검증 정확도 {avg_score_permutated:.6f}')\n",
        "\n",
        "  # permutation importance는 해당 특성을 랜덤으로 섞었을 때의 성능 하락폭으로 정의됩니다.\n",
        "  pi[feature] = score - avg_score_permutated\n",
        "\n"
      ],
      "metadata": {
        "colab": {
          "base_uri": "https://localhost:8080/"
        },
        "id": "VvQPNQbexQod",
        "outputId": "469ced96-f4ae-40d7-8d23-f8f5b5fb52f4"
      },
      "execution_count": 18,
      "outputs": [
        {
          "output_type": "stream",
          "name": "stdout",
          "text": [
            "Perm make :: 검증 정확도 0.799095\n",
            "Perm class :: 검증 정확도 0.868778\n",
            "Perm esize :: 검증 정확도 0.829186\n",
            "Perm n_cylinder :: 검증 정확도 0.874208\n",
            "Perm ttype :: 검증 정확도 0.804072\n",
            "Perm ftype :: 검증 정확도 0.876471\n",
            "Perm fcons_mpg :: 검증 정확도 0.833937\n"
          ]
        }
      ]
    },
    {
      "cell_type": "code",
      "source": [
        "# 시각화를 진행하여 살펴봅시다.\n",
        "pi.sort_values().plot.barh()\n",
        "plt.title('Permutation Importance')\n"
      ],
      "metadata": {
        "colab": {
          "base_uri": "https://localhost:8080/",
          "height": 299
        },
        "id": "Rt9yzDVH1SlP",
        "outputId": "6820c3f8-be92-47c1-8662-3c9c7addaf51"
      },
      "execution_count": 19,
      "outputs": [
        {
          "output_type": "execute_result",
          "data": {
            "text/plain": [
              "Text(0.5, 1.0, 'Permutation Importance')"
            ]
          },
          "metadata": {},
          "execution_count": 19
        },
        {
          "output_type": "display_data",
          "data": {
            "text/plain": [
              "<Figure size 432x288 with 1 Axes>"
            ],
            "image/png": "[encoded data removed]"
          },
          "metadata": {
            "needs_background": "light"
          }
        }
      ]
    },
    {
      "cell_type": "markdown",
      "source": [
        "#### Cf). Permutation은 해당 특성의 전체 분포를 변화시키지 않습니다. \n",
        " * permutation은 특성값들의 순서만 변경하며, 전체 분포는 변화시키지 않습니다.  "
      ],
      "metadata": {
        "id": "CRxS6wYn1SuX"
      }
    },
    {
      "cell_type": "code",
      "source": [
        "# 테스트 데이터셋\n",
        "print(X_test['class'].value_counts())"
      ],
      "metadata": {
        "colab": {
          "base_uri": "https://localhost:8080/"
        },
        "id": "7Z05wy1v4o-2",
        "outputId": "828476db-8216-4796-bc0e-96df75d10a06"
      },
      "execution_count": 20,
      "outputs": [
        {
          "output_type": "stream",
          "name": "stdout",
          "text": [
            "SUV: Small                 83\n",
            "Pickup truck: Standard     55\n",
            "Mid-size                   53\n",
            "SUV: Standard              50\n",
            "Compact                    48\n",
            "Two-seater                 40\n",
            "Subcompact                 39\n",
            "Full-size                  27\n",
            "Minicompact                21\n",
            "Station wagon: Small        8\n",
            "Pickup truck: Small         5\n",
            "Station wagon: Mid-size     5\n",
            "Special purpose vehicle     4\n",
            "Van: Passenger              2\n",
            "Minivan                     2\n",
            "Name: class, dtype: int64\n"
          ]
        }
      ]
    },
    {
      "cell_type": "code",
      "source": [
        "# Permutation이 적용된 테스트 데이터 셋\n",
        "X_test_pered = X_test.copy()\n",
        "X_test_permed['class'] = np.random.permutation(X_test['class'])\n",
        "print(X_test_permed['class'].value_counts())"
      ],
      "metadata": {
        "colab": {
          "base_uri": "https://localhost:8080/"
        },
        "id": "rjb6HYoi47x0",
        "outputId": "aba49795-396a-4e19-f9a8-1a7355e3a492"
      },
      "execution_count": 21,
      "outputs": [
        {
          "output_type": "stream",
          "name": "stdout",
          "text": [
            "SUV: Small                 83\n",
            "Pickup truck: Standard     55\n",
            "Mid-size                   53\n",
            "SUV: Standard              50\n",
            "Compact                    48\n",
            "Two-seater                 40\n",
            "Subcompact                 39\n",
            "Full-size                  27\n",
            "Minicompact                21\n",
            "Station wagon: Small        8\n",
            "Station wagon: Mid-size     5\n",
            "Pickup truck: Small         5\n",
            "Special purpose vehicle     4\n",
            "Van: Passenger              2\n",
            "Minivan                     2\n",
            "Name: class, dtype: int64\n"
          ]
        }
      ]
    },
    {
      "cell_type": "markdown",
      "source": [
        "#### eli5 라이브러리를 사용하여 Permutation Importance 계산하기.\n",
        "\n",
        "* `eli5` 라이브러리는 Permutation Importance를 쉽게 계산하고 시각화합니다."
      ],
      "metadata": {
        "id": "c2j0RD565xY-"
      }
    },
    {
      "cell_type": "code",
      "source": [
        "import eli5\n",
        "from eli5.sklearn import PermutationImportance\n",
        "\n",
        "# permuter 정의\n",
        "permuter = PermutationImportance(\n",
        "    pipe.named_steps[\"randomforestclassifier\"],  # model\n",
        "    scoring=\"accuracy\",  # metric\n",
        "    n_iter=10,  # 다른 random seed를 사용하여 10번 반복\n",
        "    random_state=2,\n",
        ")\n",
        "\n",
        "# 스코어를 다시 계산합니다.\n",
        "X_test_preprocessed = pipe[0].transform(X_test)\n",
        "permuter.fit(X_test_preprocessed, y_test)"
      ],
      "metadata": {
        "colab": {
          "base_uri": "https://localhost:8080/"
        },
        "id": "n0uoRrEG6Nn1",
        "outputId": "6d42fafa-45ea-403e-f02a-f1bc81984861"
      },
      "execution_count": 22,
      "outputs": [
        {
          "output_type": "execute_result",
          "data": {
            "text/plain": [
              "PermutationImportance(estimator=RandomForestClassifier(class_weight='balanced',\n",
              "                                                       random_state=42),\n",
              "                      n_iter=10, random_state=2, scoring='accuracy')"
            ]
          },
          "metadata": {},
          "execution_count": 22
        }
      ]
    },
    {
      "cell_type": "code",
      "source": [
        "# 피처 이름 생성\n",
        "# 인덱스 형식에 tolist를 사용한다면 반환값은 리스트로 돌려줍니다.\n",
        "feature_names = X_test.columns.tolist()\n",
        "\n",
        "# 순열중요도에 대한 시리즈를 생성합니다.\n",
        "pi = pd.Series(permuter.feature_importances_, feature_names).sort_values()\n",
        "\n",
        "# 그래프를 생성합니다.\n",
        "pi.plot.barh()\n",
        "\n",
        "# 타이틀을 생성합니다.\n",
        "plt.title('Permutation Importance')"
      ],
      "metadata": {
        "colab": {
          "base_uri": "https://localhost:8080/",
          "height": 299
        },
        "id": "C-YudQYO-Is6",
        "outputId": "3c3c0f3f-50c9-46fd-8a1c-961e2141fdae"
      },
      "execution_count": 23,
      "outputs": [
        {
          "output_type": "execute_result",
          "data": {
            "text/plain": [
              "Text(0.5, 1.0, 'Permutation Importance')"
            ]
          },
          "metadata": {},
          "execution_count": 23
        },
        {
          "output_type": "display_data",
          "data": {
            "text/plain": [
              "<Figure size 432x288 with 1 Axes>"
            ],
            "image/png": "[encoded data removed]"
          },
          "metadata": {
            "needs_background": "light"
          }
        }
      ]
    },
    {
      "cell_type": "code",
      "source": [
        "# 특성별 score를 확인합니다.\n",
        "eli5.show_weights(\n",
        "    permuter, \n",
        "    top = None, # 지정가능하며, None 일 경우, 모든 특성을 사용합니다.\n",
        "    feature_names = feature_names # list 형식으로 넣어야 합니다. \n",
        ")"
      ],
      "metadata": {
        "colab": {
          "base_uri": "https://localhost:8080/",
          "height": 156
        },
        "id": "OslF1x05_fLG",
        "outputId": "a52de1bc-65b6-4ad1-daae-fadc774be9cf"
      },
      "execution_count": 24,
      "outputs": [
        {
          "output_type": "execute_result",
          "data": {
            "text/plain": [
              "<IPython.core.display.HTML object>"
            ],
            "text/html": [
              "\n",
              "    <style>\n",
              "    table.eli5-weights tr:hover {\n",
              "        filter: brightness(85%);\n",
              "    }\n",
              "</style>\n",
              "\n",
              "\n",
              "\n",
              "    \n",
              "\n",
              "    \n",
              "\n",
              "    \n",
              "\n",
              "    \n",
              "\n",
              "    \n",
              "\n",
              "    \n",
              "\n",
              "\n",
              "    \n",
              "\n",
              "    \n",
              "\n",
              "    \n",
              "\n",
              "    \n",
              "\n",
              "    \n",
              "\n",
              "    \n",
              "\n",
              "\n",
              "    \n",
              "\n",
              "    \n",
              "\n",
              "    \n",
              "\n",
              "    \n",
              "\n",
              "    \n",
              "        <table class=\"eli5-weights eli5-feature-importances\" style=\"border-collapse: collapse; border: none; margin-top: 0em; table-layout: auto;\">\n",
              "    <thead>\n",
              "    <tr style=\"border: none;\">\n",
              "        <th style=\"padding: 0 1em 0 0.5em; text-align: right; border: none;\">Weight</th>\n",
              "        <th style=\"padding: 0 0.5em 0 0.5em; text-align: left; border: none;\">Feature</th>\n",
              "    </tr>\n",
              "    </thead>\n",
              "    <tbody>\n",
              "    \n",
              "        <tr style=\"background-color: hsl(120, 100.00%, 80.00%); border: none;\">\n",
              "            <td style=\"padding: 0 1em 0 0.5em; text-align: right; border: none;\">\n",
              "                0.1066\n",
              "                \n",
              "                    &plusmn; 0.0314\n",
              "                \n",
              "            </td>\n",
              "            <td style=\"padding: 0 0.5em 0 0.5em; text-align: left; border: none;\">\n",
              "                make\n",
              "            </td>\n",
              "        </tr>\n",
              "    \n",
              "        <tr style=\"background-color: hsl(120, 100.00%, 81.05%); border: none;\">\n",
              "            <td style=\"padding: 0 1em 0 0.5em; text-align: right; border: none;\">\n",
              "                0.0986\n",
              "                \n",
              "                    &plusmn; 0.0324\n",
              "                \n",
              "            </td>\n",
              "            <td style=\"padding: 0 0.5em 0 0.5em; text-align: left; border: none;\">\n",
              "                ttype\n",
              "            </td>\n",
              "        </tr>\n",
              "    \n",
              "        <tr style=\"background-color: hsl(120, 100.00%, 83.66%); border: none;\">\n",
              "            <td style=\"padding: 0 1em 0 0.5em; text-align: right; border: none;\">\n",
              "                0.0799\n",
              "                \n",
              "                    &plusmn; 0.0182\n",
              "                \n",
              "            </td>\n",
              "            <td style=\"padding: 0 0.5em 0 0.5em; text-align: left; border: none;\">\n",
              "                esize\n",
              "            </td>\n",
              "        </tr>\n",
              "    \n",
              "        <tr style=\"background-color: hsl(120, 100.00%, 85.01%); border: none;\">\n",
              "            <td style=\"padding: 0 1em 0 0.5em; text-align: right; border: none;\">\n",
              "                0.0706\n",
              "                \n",
              "                    &plusmn; 0.0185\n",
              "                \n",
              "            </td>\n",
              "            <td style=\"padding: 0 0.5em 0 0.5em; text-align: left; border: none;\">\n",
              "                fcons_mpg\n",
              "            </td>\n",
              "        </tr>\n",
              "    \n",
              "        <tr style=\"background-color: hsl(120, 100.00%, 91.06%); border: none;\">\n",
              "            <td style=\"padding: 0 1em 0 0.5em; text-align: right; border: none;\">\n",
              "                0.0337\n",
              "                \n",
              "                    &plusmn; 0.0132\n",
              "                \n",
              "            </td>\n",
              "            <td style=\"padding: 0 0.5em 0 0.5em; text-align: left; border: none;\">\n",
              "                class\n",
              "            </td>\n",
              "        </tr>\n",
              "    \n",
              "        <tr style=\"background-color: hsl(120, 100.00%, 91.92%); border: none;\">\n",
              "            <td style=\"padding: 0 1em 0 0.5em; text-align: right; border: none;\">\n",
              "                0.0292\n",
              "                \n",
              "                    &plusmn; 0.0185\n",
              "                \n",
              "            </td>\n",
              "            <td style=\"padding: 0 0.5em 0 0.5em; text-align: left; border: none;\">\n",
              "                n_cylinder\n",
              "            </td>\n",
              "        </tr>\n",
              "    \n",
              "        <tr style=\"background-color: hsl(120, 100.00%, 93.43%); border: none;\">\n",
              "            <td style=\"padding: 0 1em 0 0.5em; text-align: right; border: none;\">\n",
              "                0.0217\n",
              "                \n",
              "                    &plusmn; 0.0173\n",
              "                \n",
              "            </td>\n",
              "            <td style=\"padding: 0 0.5em 0 0.5em; text-align: left; border: none;\">\n",
              "                ftype\n",
              "            </td>\n",
              "        </tr>\n",
              "    \n",
              "    \n",
              "    </tbody>\n",
              "</table>\n",
              "    \n",
              "\n",
              "    \n",
              "\n",
              "\n",
              "    \n",
              "\n",
              "    \n",
              "\n",
              "    \n",
              "\n",
              "    \n",
              "\n",
              "    \n",
              "\n",
              "    \n",
              "\n",
              "\n",
              "\n"
            ]
          },
          "metadata": {},
          "execution_count": 24
        }
      ]
    },
    {
      "cell_type": "markdown",
      "source": [
        "#### Cf) Permutation Importance는 Feature Importance 보다 Cardinality만 높은 특성에 덜 민감합니다. \n",
        "\n",
        "* Random 특성의 MDI, PI를 비교하여 봅시다."
      ],
      "metadata": {
        "id": "h7_jQ3o0-JjN"
      }
    },
    {
      "cell_type": "code",
      "source": [
        "# Random 특성 추가하여 봅시다.\n",
        "\n",
        "# 먼저 데이터셋을 카피합니다. \n",
        "X_train_random_added = X_train.copy()\n",
        "X_test_random_added = X_test.copy()\n",
        "\n",
        "\n",
        "# 난수 컬럼을 생성합니다. \n",
        "X_train_random_added['random'] = rand.randn(len(X_train))\n",
        "X_test_random_added['random'] = rand.randn(len(X_test))\n",
        "\n",
        "# 모델을 학습시킵니다. \n",
        "# 생성해놓은 함수를 실행시킵니다. 우리가 지정한 함수 : 파이프라인에는 타겟인코더와 랜덤트리가 들어있습니다.\n",
        "pipe_random_added = get_pipeline()\n",
        "\n",
        "# fit 진행합니다.\n",
        "pipe_random_added.fit(X_train_random_added, y_train)\n",
        "\n",
        "#파이프라인의 랜덤포레스트에 접근합니다.\n",
        "rf = pipe_random_added.named_steps['randomforestclassifier']\n",
        "\n",
        "# MDI를 계산합니다, 먼저 시리즈를 생성합니다.\n",
        "importances_random_added = pd.Series(\n",
        "    rf.feature_importances_, X_train_random_added.columns\n",
        ")\n",
        "\n",
        "# feauture importance를 생성합니다.\n",
        "importances_random_added.sort_values().plot.barh()\n",
        "plt.title('feature Importance')\n",
        "plt.show()\n",
        "\n",
        "#----------------------- 이후, Permutation Importance를 생성합니다.\n",
        "\n",
        "# PI 생성\n",
        "permuter = PermutationImportance(\n",
        "    pipe_random_added.named_steps['randomforestclassifier'], # model의 값.\n",
        "    scoring = 'accuracy',\n",
        "    n_iter = 10, \n",
        "    random_state = 2)\n",
        "\n",
        "\n",
        "\n",
        "# 스코어를 다시 계산합니다.\n",
        "# 파이프라인의 타겟인코더에 접근하여 카피한 훈련 데이터를 적용시킵니다.\n",
        "X_test_preprocessed = pipe_random_added[0].transform(X_test_random_added)\n",
        "\n",
        "# fit을 진행합니다.\n",
        "permuter.fit(X_test_preprocessed, y_test)\n",
        "\n",
        "# 시리즈 형태로 만들기 위해서, index 형태의 데이터를 리스트로 변경합니다. => tolist()\n",
        "feature_names = X_test_random_added.columns.tolist()\n",
        "\n",
        "# 시리즈 생성\n",
        "pi = pd.Series(permuter.feature_importances_, feature_names).sort_values()\n",
        "\n",
        "# 시각화진행\n",
        "pi.plot.barh()\n",
        "plt.title('Permutation Imortance')\n",
        "plt.show()"
      ],
      "metadata": {
        "colab": {
          "base_uri": "https://localhost:8080/",
          "height": 638
        },
        "id": "lUcUCJYK_S83",
        "outputId": "848a4e90-064f-4498-fbff-ef25fd40306c"
      },
      "execution_count": 26,
      "outputs": [
        {
          "output_type": "stream",
          "name": "stderr",
          "text": [
            "/usr/local/lib/python3.8/dist-packages/category_encoders/target_encoder.py:122: FutureWarning: Default parameter min_samples_leaf will change in version 2.6.See https://github.com/scikit-learn-contrib/category_encoders/issues/327\n",
            "  warnings.warn(\"Default parameter min_samples_leaf will change in version 2.6.\"\n",
            "/usr/local/lib/python3.8/dist-packages/category_encoders/target_encoder.py:127: FutureWarning: Default parameter smoothing will change in version 2.6.See https://github.com/scikit-learn-contrib/category_encoders/issues/327\n",
            "  warnings.warn(\"Default parameter smoothing will change in version 2.6.\"\n"
          ]
        },
        {
          "output_type": "display_data",
          "data": {
            "text/plain": [
              "<Figure size 432x288 with 1 Axes>"
            ],
            "image/png": "[encoded data removed]"
          },
          "metadata": {
            "needs_background": "light"
          }
        },
        {
          "output_type": "display_data",
          "data": {
            "text/plain": [
              "<Figure size 432x288 with 1 Axes>"
            ],
            "image/png": "[encoded data removed]"
          },
          "metadata": {
            "needs_background": "light"
          }
        }
      ]
    },
    {
      "cell_type": "markdown",
      "source": [
        "#### 특성 중요도를 파악한 이후, 중요도가 낮은 특성은 drop하는 방식으로 특성 선택을 진행할 수 있습니다.\n",
        "\n",
        "* 불필요하게 많은 특성은 오히려 과적합을 유발하고, 모델 학습의 속도를 느리게 합니다."
      ],
      "metadata": {
        "id": "XTOQyYstVj6q"
      }
    },
    {
      "cell_type": "code",
      "source": [],
      "metadata": {
        "id": "U7ABzMLuCrvj"
      },
      "execution_count": null,
      "outputs": []
    }
  ]
}