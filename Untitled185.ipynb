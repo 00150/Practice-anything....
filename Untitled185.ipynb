{
  "nbformat": 4,
  "nbformat_minor": 0,
  "metadata": {
    "colab": {
      "provenance": [],
      "authorship_tag": "ABX9TyPtmjlLgLDdYPpyBF3h4jNL",
      "include_colab_link": true
    },
    "kernelspec": {
      "name": "python3",
      "display_name": "Python 3"
    },
    "language_info": {
      "name": "python"
    },
    "accelerator": "GPU",
    "gpuClass": "standard"
  },
  "cells": [
    {
      "cell_type": "markdown",
      "metadata": {
        "id": "view-in-github",
        "colab_type": "text"
      },
      "source": [
        "<a href=\"https://colab.research.google.com/github/00150/Practice-anything..../blob/main/Untitled185.ipynb\" target=\"_parent\"><img src=\"https://colab.research.google.com/assets/colab-badge.svg\" alt=\"Open In Colab\"/></a>"
      ]
    },
    {
      "cell_type": "markdown",
      "source": [
        "# **CASE STUDY : 타겟이 극도로 불균형한 분류 문제 해결**\n",
        "> 교통사고에 대하여 청구된 보험들 중 사기성 또는 과장된 청구를 분류하는 데이터셋 이용"
      ],
      "metadata": {
        "id": "9GUqqKfQc805"
      }
    },
    {
      "cell_type": "code",
      "source": [
        "!pip3 install imbalanced-learn\n",
        "!pip install category_encoders\n",
        "!pip3 install xgboost==1.7.2\n",
        "!pip install scikit-learn==1.0 -U"
      ],
      "metadata": {
        "colab": {
          "base_uri": "https://localhost:8080/"
        },
        "id": "3QYEdeC_ePSh",
        "outputId": "4b2cee03-f5ce-4e95-edcb-e764f9e43823"
      },
      "execution_count": 1,
      "outputs": [
        {
          "output_type": "stream",
          "name": "stdout",
          "text": [
            "Looking in indexes: https://pypi.org/simple, https://us-python.pkg.dev/colab-wheels/public/simple/\n",
            "Requirement already satisfied: imbalanced-learn in /usr/local/lib/python3.8/dist-packages (0.8.1)\n",
            "Requirement already satisfied: scipy>=0.19.1 in /usr/local/lib/python3.8/dist-packages (from imbalanced-learn) (1.7.3)\n",
            "Requirement already satisfied: numpy>=1.13.3 in /usr/local/lib/python3.8/dist-packages (from imbalanced-learn) (1.22.4)\n",
            "Requirement already satisfied: joblib>=0.11 in /usr/local/lib/python3.8/dist-packages (from imbalanced-learn) (1.2.0)\n",
            "Requirement already satisfied: scikit-learn>=0.24 in /usr/local/lib/python3.8/dist-packages (from imbalanced-learn) (1.0)\n",
            "Requirement already satisfied: threadpoolctl>=2.0.0 in /usr/local/lib/python3.8/dist-packages (from scikit-learn>=0.24->imbalanced-learn) (3.1.0)\n",
            "Looking in indexes: https://pypi.org/simple, https://us-python.pkg.dev/colab-wheels/public/simple/\n",
            "Requirement already satisfied: category_encoders in /usr/local/lib/python3.8/dist-packages (2.6.0)\n",
            "Requirement already satisfied: scikit-learn>=0.20.0 in /usr/local/lib/python3.8/dist-packages (from category_encoders) (1.0)\n",
            "Requirement already satisfied: numpy>=1.14.0 in /usr/local/lib/python3.8/dist-packages (from category_encoders) (1.22.4)\n",
            "Requirement already satisfied: patsy>=0.5.1 in /usr/local/lib/python3.8/dist-packages (from category_encoders) (0.5.3)\n",
            "Requirement already satisfied: statsmodels>=0.9.0 in /usr/local/lib/python3.8/dist-packages (from category_encoders) (0.12.2)\n",
            "Requirement already satisfied: pandas>=1.0.5 in /usr/local/lib/python3.8/dist-packages (from category_encoders) (1.3.5)\n",
            "Requirement already satisfied: scipy>=1.0.0 in /usr/local/lib/python3.8/dist-packages (from category_encoders) (1.7.3)\n",
            "Requirement already satisfied: python-dateutil>=2.7.3 in /usr/local/lib/python3.8/dist-packages (from pandas>=1.0.5->category_encoders) (2.8.2)\n",
            "Requirement already satisfied: pytz>=2017.3 in /usr/local/lib/python3.8/dist-packages (from pandas>=1.0.5->category_encoders) (2022.7.1)\n",
            "Requirement already satisfied: six in /usr/local/lib/python3.8/dist-packages (from patsy>=0.5.1->category_encoders) (1.15.0)\n",
            "Requirement already satisfied: threadpoolctl>=2.0.0 in /usr/local/lib/python3.8/dist-packages (from scikit-learn>=0.20.0->category_encoders) (3.1.0)\n",
            "Requirement already satisfied: joblib>=0.11 in /usr/local/lib/python3.8/dist-packages (from scikit-learn>=0.20.0->category_encoders) (1.2.0)\n",
            "Looking in indexes: https://pypi.org/simple, https://us-python.pkg.dev/colab-wheels/public/simple/\n",
            "Requirement already satisfied: xgboost==1.7.2 in /usr/local/lib/python3.8/dist-packages (1.7.2)\n",
            "Requirement already satisfied: numpy in /usr/local/lib/python3.8/dist-packages (from xgboost==1.7.2) (1.22.4)\n",
            "Requirement already satisfied: scipy in /usr/local/lib/python3.8/dist-packages (from xgboost==1.7.2) (1.7.3)\n",
            "Looking in indexes: https://pypi.org/simple, https://us-python.pkg.dev/colab-wheels/public/simple/\n",
            "Requirement already satisfied: scikit-learn==1.0 in /usr/local/lib/python3.8/dist-packages (1.0)\n",
            "Requirement already satisfied: scipy>=1.1.0 in /usr/local/lib/python3.8/dist-packages (from scikit-learn==1.0) (1.7.3)\n",
            "Requirement already satisfied: threadpoolctl>=2.0.0 in /usr/local/lib/python3.8/dist-packages (from scikit-learn==1.0) (3.1.0)\n",
            "Requirement already satisfied: numpy>=1.14.6 in /usr/local/lib/python3.8/dist-packages (from scikit-learn==1.0) (1.22.4)\n",
            "Requirement already satisfied: joblib>=0.11 in /usr/local/lib/python3.8/dist-packages (from scikit-learn==1.0) (1.2.0)\n"
          ]
        }
      ]
    },
    {
      "cell_type": "code",
      "source": [
        "import pandas as pd\n",
        "df = pd.read_csv(\"https://ds-lecture-data.s3.ap-northeast-2.amazonaws.com/fraud_oracle.csv\")\n",
        "df.head()"
      ],
      "metadata": {
        "colab": {
          "base_uri": "https://localhost:8080/",
          "height": 299
        },
        "id": "KMdAKuDHgLh2",
        "outputId": "1b6272ca-ac00-451c-b727-23d0b4598fce"
      },
      "execution_count": 2,
      "outputs": [
        {
          "output_type": "execute_result",
          "data": {
            "text/plain": [
              "  Month  WeekOfMonth  DayOfWeek    Make AccidentArea DayOfWeekClaimed  \\\n",
              "0   Dec            5  Wednesday   Honda        Urban          Tuesday   \n",
              "1   Jan            3  Wednesday   Honda        Urban           Monday   \n",
              "2   Oct            5     Friday   Honda        Urban         Thursday   \n",
              "3   Jun            2   Saturday  Toyota        Rural           Friday   \n",
              "4   Jan            5     Monday   Honda        Urban          Tuesday   \n",
              "\n",
              "  MonthClaimed  WeekOfMonthClaimed     Sex MaritalStatus  ...  AgeOfVehicle  \\\n",
              "0          Jan                   1  Female        Single  ...       3 years   \n",
              "1          Jan                   4    Male        Single  ...       6 years   \n",
              "2          Nov                   2    Male       Married  ...       7 years   \n",
              "3          Jul                   1    Male       Married  ...   more than 7   \n",
              "4          Feb                   2  Female        Single  ...       5 years   \n",
              "\n",
              "  AgeOfPolicyHolder PoliceReportFiled WitnessPresent AgentType  \\\n",
              "0          26 to 30                No             No  External   \n",
              "1          31 to 35               Yes             No  External   \n",
              "2          41 to 50                No             No  External   \n",
              "3          51 to 65               Yes             No  External   \n",
              "4          31 to 35                No             No  External   \n",
              "\n",
              "   NumberOfSuppliments  AddressChange_Claim  NumberOfCars  Year  BasePolicy  \n",
              "0                 none               1 year        3 to 4  1994   Liability  \n",
              "1                 none            no change     1 vehicle  1994   Collision  \n",
              "2                 none            no change     1 vehicle  1994   Collision  \n",
              "3          more than 5            no change     1 vehicle  1994   Liability  \n",
              "4                 none            no change     1 vehicle  1994   Collision  \n",
              "\n",
              "[5 rows x 33 columns]"
            ],
            "text/html": [
              "\n",
              "  <div id=\"df-5636ad74-676a-428e-986a-8913d77f6bb3\">\n",
              "    <div class=\"colab-df-container\">\n",
              "      <div>\n",
              "<style scoped>\n",
              "    .dataframe tbody tr th:only-of-type {\n",
              "        vertical-align: middle;\n",
              "    }\n",
              "\n",
              "    .dataframe tbody tr th {\n",
              "        vertical-align: top;\n",
              "    }\n",
              "\n",
              "    .dataframe thead th {\n",
              "        text-align: right;\n",
              "    }\n",
              "</style>\n",
              "<table border=\"1\" class=\"dataframe\">\n",
              "  <thead>\n",
              "    <tr style=\"text-align: right;\">\n",
              "      <th></th>\n",
              "      <th>Month</th>\n",
              "      <th>WeekOfMonth</th>\n",
              "      <th>DayOfWeek</th>\n",
              "      <th>Make</th>\n",
              "      <th>AccidentArea</th>\n",
              "      <th>DayOfWeekClaimed</th>\n",
              "      <th>MonthClaimed</th>\n",
              "      <th>WeekOfMonthClaimed</th>\n",
              "      <th>Sex</th>\n",
              "      <th>MaritalStatus</th>\n",
              "      <th>...</th>\n",
              "      <th>AgeOfVehicle</th>\n",
              "      <th>AgeOfPolicyHolder</th>\n",
              "      <th>PoliceReportFiled</th>\n",
              "      <th>WitnessPresent</th>\n",
              "      <th>AgentType</th>\n",
              "      <th>NumberOfSuppliments</th>\n",
              "      <th>AddressChange_Claim</th>\n",
              "      <th>NumberOfCars</th>\n",
              "      <th>Year</th>\n",
              "      <th>BasePolicy</th>\n",
              "    </tr>\n",
              "  </thead>\n",
              "  <tbody>\n",
              "    <tr>\n",
              "      <th>0</th>\n",
              "      <td>Dec</td>\n",
              "      <td>5</td>\n",
              "      <td>Wednesday</td>\n",
              "      <td>Honda</td>\n",
              "      <td>Urban</td>\n",
              "      <td>Tuesday</td>\n",
              "      <td>Jan</td>\n",
              "      <td>1</td>\n",
              "      <td>Female</td>\n",
              "      <td>Single</td>\n",
              "      <td>...</td>\n",
              "      <td>3 years</td>\n",
              "      <td>26 to 30</td>\n",
              "      <td>No</td>\n",
              "      <td>No</td>\n",
              "      <td>External</td>\n",
              "      <td>none</td>\n",
              "      <td>1 year</td>\n",
              "      <td>3 to 4</td>\n",
              "      <td>1994</td>\n",
              "      <td>Liability</td>\n",
              "    </tr>\n",
              "    <tr>\n",
              "      <th>1</th>\n",
              "      <td>Jan</td>\n",
              "      <td>3</td>\n",
              "      <td>Wednesday</td>\n",
              "      <td>Honda</td>\n",
              "      <td>Urban</td>\n",
              "      <td>Monday</td>\n",
              "      <td>Jan</td>\n",
              "      <td>4</td>\n",
              "      <td>Male</td>\n",
              "      <td>Single</td>\n",
              "      <td>...</td>\n",
              "      <td>6 years</td>\n",
              "      <td>31 to 35</td>\n",
              "      <td>Yes</td>\n",
              "      <td>No</td>\n",
              "      <td>External</td>\n",
              "      <td>none</td>\n",
              "      <td>no change</td>\n",
              "      <td>1 vehicle</td>\n",
              "      <td>1994</td>\n",
              "      <td>Collision</td>\n",
              "    </tr>\n",
              "    <tr>\n",
              "      <th>2</th>\n",
              "      <td>Oct</td>\n",
              "      <td>5</td>\n",
              "      <td>Friday</td>\n",
              "      <td>Honda</td>\n",
              "      <td>Urban</td>\n",
              "      <td>Thursday</td>\n",
              "      <td>Nov</td>\n",
              "      <td>2</td>\n",
              "      <td>Male</td>\n",
              "      <td>Married</td>\n",
              "      <td>...</td>\n",
              "      <td>7 years</td>\n",
              "      <td>41 to 50</td>\n",
              "      <td>No</td>\n",
              "      <td>No</td>\n",
              "      <td>External</td>\n",
              "      <td>none</td>\n",
              "      <td>no change</td>\n",
              "      <td>1 vehicle</td>\n",
              "      <td>1994</td>\n",
              "      <td>Collision</td>\n",
              "    </tr>\n",
              "    <tr>\n",
              "      <th>3</th>\n",
              "      <td>Jun</td>\n",
              "      <td>2</td>\n",
              "      <td>Saturday</td>\n",
              "      <td>Toyota</td>\n",
              "      <td>Rural</td>\n",
              "      <td>Friday</td>\n",
              "      <td>Jul</td>\n",
              "      <td>1</td>\n",
              "      <td>Male</td>\n",
              "      <td>Married</td>\n",
              "      <td>...</td>\n",
              "      <td>more than 7</td>\n",
              "      <td>51 to 65</td>\n",
              "      <td>Yes</td>\n",
              "      <td>No</td>\n",
              "      <td>External</td>\n",
              "      <td>more than 5</td>\n",
              "      <td>no change</td>\n",
              "      <td>1 vehicle</td>\n",
              "      <td>1994</td>\n",
              "      <td>Liability</td>\n",
              "    </tr>\n",
              "    <tr>\n",
              "      <th>4</th>\n",
              "      <td>Jan</td>\n",
              "      <td>5</td>\n",
              "      <td>Monday</td>\n",
              "      <td>Honda</td>\n",
              "      <td>Urban</td>\n",
              "      <td>Tuesday</td>\n",
              "      <td>Feb</td>\n",
              "      <td>2</td>\n",
              "      <td>Female</td>\n",
              "      <td>Single</td>\n",
              "      <td>...</td>\n",
              "      <td>5 years</td>\n",
              "      <td>31 to 35</td>\n",
              "      <td>No</td>\n",
              "      <td>No</td>\n",
              "      <td>External</td>\n",
              "      <td>none</td>\n",
              "      <td>no change</td>\n",
              "      <td>1 vehicle</td>\n",
              "      <td>1994</td>\n",
              "      <td>Collision</td>\n",
              "    </tr>\n",
              "  </tbody>\n",
              "</table>\n",
              "<p>5 rows × 33 columns</p>\n",
              "</div>\n",
              "      <button class=\"colab-df-convert\" onclick=\"convertToInteractive('df-5636ad74-676a-428e-986a-8913d77f6bb3')\"\n",
              "              title=\"Convert this dataframe to an interactive table.\"\n",
              "              style=\"display:none;\">\n",
              "        \n",
              "  <svg xmlns=\"http://www.w3.org/2000/svg\" height=\"24px\"viewBox=\"0 0 24 24\"\n",
              "       width=\"24px\">\n",
              "    <path d=\"M0 0h24v24H0V0z\" fill=\"none\"/>\n",
              "    <path d=\"M18.56 5.44l.94 2.06.94-2.06 2.06-.94-2.06-.94-.94-2.06-.94 2.06-2.06.94zm-11 1L8.5 8.5l.94-2.06 2.06-.94-2.06-.94L8.5 2.5l-.94 2.06-2.06.94zm10 10l.94 2.06.94-2.06 2.06-.94-2.06-.94-.94-2.06-.94 2.06-2.06.94z\"/><path d=\"M17.41 7.96l-1.37-1.37c-.4-.4-.92-.59-1.43-.59-.52 0-1.04.2-1.43.59L10.3 9.45l-7.72 7.72c-.78.78-.78 2.05 0 2.83L4 21.41c.39.39.9.59 1.41.59.51 0 1.02-.2 1.41-.59l7.78-7.78 2.81-2.81c.8-.78.8-2.07 0-2.86zM5.41 20L4 18.59l7.72-7.72 1.47 1.35L5.41 20z\"/>\n",
              "  </svg>\n",
              "      </button>\n",
              "      \n",
              "  <style>\n",
              "    .colab-df-container {\n",
              "      display:flex;\n",
              "      flex-wrap:wrap;\n",
              "      gap: 12px;\n",
              "    }\n",
              "\n",
              "    .colab-df-convert {\n",
              "      background-color: #E8F0FE;\n",
              "      border: none;\n",
              "      border-radius: 50%;\n",
              "      cursor: pointer;\n",
              "      display: none;\n",
              "      fill: #1967D2;\n",
              "      height: 32px;\n",
              "      padding: 0 0 0 0;\n",
              "      width: 32px;\n",
              "    }\n",
              "\n",
              "    .colab-df-convert:hover {\n",
              "      background-color: #E2EBFA;\n",
              "      box-shadow: 0px 1px 2px rgba(60, 64, 67, 0.3), 0px 1px 3px 1px rgba(60, 64, 67, 0.15);\n",
              "      fill: #174EA6;\n",
              "    }\n",
              "\n",
              "    [theme=dark] .colab-df-convert {\n",
              "      background-color: #3B4455;\n",
              "      fill: #D2E3FC;\n",
              "    }\n",
              "\n",
              "    [theme=dark] .colab-df-convert:hover {\n",
              "      background-color: #434B5C;\n",
              "      box-shadow: 0px 1px 3px 1px rgba(0, 0, 0, 0.15);\n",
              "      filter: drop-shadow(0px 1px 2px rgba(0, 0, 0, 0.3));\n",
              "      fill: #FFFFFF;\n",
              "    }\n",
              "  </style>\n",
              "\n",
              "      <script>\n",
              "        const buttonEl =\n",
              "          document.querySelector('#df-5636ad74-676a-428e-986a-8913d77f6bb3 button.colab-df-convert');\n",
              "        buttonEl.style.display =\n",
              "          google.colab.kernel.accessAllowed ? 'block' : 'none';\n",
              "\n",
              "        async function convertToInteractive(key) {\n",
              "          const element = document.querySelector('#df-5636ad74-676a-428e-986a-8913d77f6bb3');\n",
              "          const dataTable =\n",
              "            await google.colab.kernel.invokeFunction('convertToInteractive',\n",
              "                                                     [key], {});\n",
              "          if (!dataTable) return;\n",
              "\n",
              "          const docLinkHtml = 'Like what you see? Visit the ' +\n",
              "            '<a target=\"_blank\" href=https://colab.research.google.com/notebooks/data_table.ipynb>data table notebook</a>'\n",
              "            + ' to learn more about interactive tables.';\n",
              "          element.innerHTML = '';\n",
              "          dataTable['output_type'] = 'display_data';\n",
              "          await google.colab.output.renderOutput(dataTable, element);\n",
              "          const docLink = document.createElement('div');\n",
              "          docLink.innerHTML = docLinkHtml;\n",
              "          element.appendChild(docLink);\n",
              "        }\n",
              "      </script>\n",
              "    </div>\n",
              "  </div>\n",
              "  "
            ]
          },
          "metadata": {},
          "execution_count": 2
        }
      ]
    },
    {
      "cell_type": "markdown",
      "source": [
        "####**01. DATA EDA**\n"
      ],
      "metadata": {
        "id": "h70T73NJgU6r"
      }
    },
    {
      "cell_type": "code",
      "source": [
        "# 특성 확인하기 (feature)\n",
        "print(f'shape : {df.shape}')\n",
        "print(df.columns)"
      ],
      "metadata": {
        "colab": {
          "base_uri": "https://localhost:8080/"
        },
        "id": "mdsDLt-Wgn1G",
        "outputId": "d09e3337-50c7-4c30-9ee5-3ee5cbd72de9"
      },
      "execution_count": 3,
      "outputs": [
        {
          "output_type": "stream",
          "name": "stdout",
          "text": [
            "shape : (15420, 33)\n",
            "Index(['Month', 'WeekOfMonth', 'DayOfWeek', 'Make', 'AccidentArea',\n",
            "       'DayOfWeekClaimed', 'MonthClaimed', 'WeekOfMonthClaimed', 'Sex',\n",
            "       'MaritalStatus', 'Age', 'Fault', 'PolicyType', 'VehicleCategory',\n",
            "       'VehiclePrice', 'FraudFound_P', 'PolicyNumber', 'RepNumber',\n",
            "       'Deductible', 'DriverRating', 'Days_Policy_Accident',\n",
            "       'Days_Policy_Claim', 'PastNumberOfClaims', 'AgeOfVehicle',\n",
            "       'AgeOfPolicyHolder', 'PoliceReportFiled', 'WitnessPresent', 'AgentType',\n",
            "       'NumberOfSuppliments', 'AddressChange_Claim', 'NumberOfCars', 'Year',\n",
            "       'BasePolicy'],\n",
            "      dtype='object')\n"
          ]
        }
      ]
    },
    {
      "cell_type": "code",
      "source": [
        "# 결측치 확인하기.\n",
        "df.isnull().sum()"
      ],
      "metadata": {
        "colab": {
          "base_uri": "https://localhost:8080/"
        },
        "id": "lWdFAL61gtSU",
        "outputId": "1ec7158b-d503-4743-cbdf-d86edea77748"
      },
      "execution_count": 4,
      "outputs": [
        {
          "output_type": "execute_result",
          "data": {
            "text/plain": [
              "Month                   0\n",
              "WeekOfMonth             0\n",
              "DayOfWeek               0\n",
              "Make                    0\n",
              "AccidentArea            0\n",
              "DayOfWeekClaimed        0\n",
              "MonthClaimed            0\n",
              "WeekOfMonthClaimed      0\n",
              "Sex                     0\n",
              "MaritalStatus           0\n",
              "Age                     0\n",
              "Fault                   0\n",
              "PolicyType              0\n",
              "VehicleCategory         0\n",
              "VehiclePrice            0\n",
              "FraudFound_P            0\n",
              "PolicyNumber            0\n",
              "RepNumber               0\n",
              "Deductible              0\n",
              "DriverRating            0\n",
              "Days_Policy_Accident    0\n",
              "Days_Policy_Claim       0\n",
              "PastNumberOfClaims      0\n",
              "AgeOfVehicle            0\n",
              "AgeOfPolicyHolder       0\n",
              "PoliceReportFiled       0\n",
              "WitnessPresent          0\n",
              "AgentType               0\n",
              "NumberOfSuppliments     0\n",
              "AddressChange_Claim     0\n",
              "NumberOfCars            0\n",
              "Year                    0\n",
              "BasePolicy              0\n",
              "dtype: int64"
            ]
          },
          "metadata": {},
          "execution_count": 4
        }
      ]
    },
    {
      "cell_type": "markdown",
      "source": [
        "수치형 데이터 및 범주형 데이터 찾기"
      ],
      "metadata": {
        "id": "V_Q2H_unjp7m"
      }
    },
    {
      "cell_type": "code",
      "source": [
        "df.dtypes"
      ],
      "metadata": {
        "colab": {
          "base_uri": "https://localhost:8080/"
        },
        "id": "hCnRKlYnnzkR",
        "outputId": "06dedc02-ffe3-42c4-9988-fb1586207c7a"
      },
      "execution_count": 5,
      "outputs": [
        {
          "output_type": "execute_result",
          "data": {
            "text/plain": [
              "Month                   object\n",
              "WeekOfMonth              int64\n",
              "DayOfWeek               object\n",
              "Make                    object\n",
              "AccidentArea            object\n",
              "DayOfWeekClaimed        object\n",
              "MonthClaimed            object\n",
              "WeekOfMonthClaimed       int64\n",
              "Sex                     object\n",
              "MaritalStatus           object\n",
              "Age                      int64\n",
              "Fault                   object\n",
              "PolicyType              object\n",
              "VehicleCategory         object\n",
              "VehiclePrice            object\n",
              "FraudFound_P             int64\n",
              "PolicyNumber             int64\n",
              "RepNumber                int64\n",
              "Deductible               int64\n",
              "DriverRating             int64\n",
              "Days_Policy_Accident    object\n",
              "Days_Policy_Claim       object\n",
              "PastNumberOfClaims      object\n",
              "AgeOfVehicle            object\n",
              "AgeOfPolicyHolder       object\n",
              "PoliceReportFiled       object\n",
              "WitnessPresent          object\n",
              "AgentType               object\n",
              "NumberOfSuppliments     object\n",
              "AddressChange_Claim     object\n",
              "NumberOfCars            object\n",
              "Year                     int64\n",
              "BasePolicy              object\n",
              "dtype: object"
            ]
          },
          "metadata": {},
          "execution_count": 5
        }
      ]
    },
    {
      "cell_type": "markdown",
      "source": [
        "데이터 통계량을 간략하게 확인하기. `describe`\n",
        "* 범주형 및 연속형 변수 모두를 살펴봅니다."
      ],
      "metadata": {
        "id": "XyqUnhPHn1hb"
      }
    },
    {
      "cell_type": "code",
      "source": [
        "df.describe(include='all').T"
      ],
      "metadata": {
        "colab": {
          "base_uri": "https://localhost:8080/",
          "height": 1000
        },
        "id": "Hml-PO74oXIV",
        "outputId": "aff740d6-5f36-4905-e398-05ef7327c544"
      },
      "execution_count": 6,
      "outputs": [
        {
          "output_type": "execute_result",
          "data": {
            "text/plain": [
              "                        count unique                top   freq         mean  \\\n",
              "Month                   15420     12                Jan   1411          NaN   \n",
              "WeekOfMonth           15420.0    NaN                NaN    NaN     2.788586   \n",
              "DayOfWeek               15420      7             Monday   2616          NaN   \n",
              "Make                    15420     19            Pontiac   3837          NaN   \n",
              "AccidentArea            15420      2              Urban  13822          NaN   \n",
              "DayOfWeekClaimed        15420      8             Monday   3757          NaN   \n",
              "MonthClaimed            15420     13                Jan   1446          NaN   \n",
              "WeekOfMonthClaimed    15420.0    NaN                NaN    NaN     2.693969   \n",
              "Sex                     15420      2               Male  13000          NaN   \n",
              "MaritalStatus           15420      4            Married  10625          NaN   \n",
              "Age                   15420.0    NaN                NaN    NaN    39.855707   \n",
              "Fault                   15420      2      Policy Holder  11230          NaN   \n",
              "PolicyType              15420      9  Sedan - Collision   5584          NaN   \n",
              "VehicleCategory         15420      3              Sedan   9671          NaN   \n",
              "VehiclePrice            15420      6     20000 to 29000   8079          NaN   \n",
              "FraudFound_P          15420.0    NaN                NaN    NaN     0.059857   \n",
              "PolicyNumber          15420.0    NaN                NaN    NaN       7710.5   \n",
              "RepNumber             15420.0    NaN                NaN    NaN     8.483268   \n",
              "Deductible            15420.0    NaN                NaN    NaN    407.70428   \n",
              "DriverRating          15420.0    NaN                NaN    NaN     2.487808   \n",
              "Days_Policy_Accident    15420      5       more than 30  15247          NaN   \n",
              "Days_Policy_Claim       15420      4       more than 30  15342          NaN   \n",
              "PastNumberOfClaims      15420      4             2 to 4   5485          NaN   \n",
              "AgeOfVehicle            15420      8            7 years   5807          NaN   \n",
              "AgeOfPolicyHolder       15420      9           31 to 35   5593          NaN   \n",
              "PoliceReportFiled       15420      2                 No  14992          NaN   \n",
              "WitnessPresent          15420      2                 No  15333          NaN   \n",
              "AgentType               15420      2           External  15179          NaN   \n",
              "NumberOfSuppliments     15420      4               none   7047          NaN   \n",
              "AddressChange_Claim     15420      5          no change  14324          NaN   \n",
              "NumberOfCars            15420      5          1 vehicle  14316          NaN   \n",
              "Year                  15420.0    NaN                NaN    NaN  1994.866472   \n",
              "BasePolicy              15420      3          Collision   5962          NaN   \n",
              "\n",
              "                              std     min      25%     50%       75%      max  \n",
              "Month                         NaN     NaN      NaN     NaN       NaN      NaN  \n",
              "WeekOfMonth              1.287585     1.0      2.0     3.0       4.0      5.0  \n",
              "DayOfWeek                     NaN     NaN      NaN     NaN       NaN      NaN  \n",
              "Make                          NaN     NaN      NaN     NaN       NaN      NaN  \n",
              "AccidentArea                  NaN     NaN      NaN     NaN       NaN      NaN  \n",
              "DayOfWeekClaimed              NaN     NaN      NaN     NaN       NaN      NaN  \n",
              "MonthClaimed                  NaN     NaN      NaN     NaN       NaN      NaN  \n",
              "WeekOfMonthClaimed       1.259115     1.0      2.0     3.0       4.0      5.0  \n",
              "Sex                           NaN     NaN      NaN     NaN       NaN      NaN  \n",
              "MaritalStatus                 NaN     NaN      NaN     NaN       NaN      NaN  \n",
              "Age                     13.492377     0.0     31.0    38.0      48.0     80.0  \n",
              "Fault                         NaN     NaN      NaN     NaN       NaN      NaN  \n",
              "PolicyType                    NaN     NaN      NaN     NaN       NaN      NaN  \n",
              "VehicleCategory               NaN     NaN      NaN     NaN       NaN      NaN  \n",
              "VehiclePrice                  NaN     NaN      NaN     NaN       NaN      NaN  \n",
              "FraudFound_P              0.23723     0.0      0.0     0.0       0.0      1.0  \n",
              "PolicyNumber          4451.514911     1.0  3855.75  7710.5  11565.25  15420.0  \n",
              "RepNumber                4.599948     1.0      5.0     8.0      12.0     16.0  \n",
              "Deductible              43.950998   300.0    400.0   400.0     400.0    700.0  \n",
              "DriverRating             1.119453     1.0      1.0     2.0       3.0      4.0  \n",
              "Days_Policy_Accident          NaN     NaN      NaN     NaN       NaN      NaN  \n",
              "Days_Policy_Claim             NaN     NaN      NaN     NaN       NaN      NaN  \n",
              "PastNumberOfClaims            NaN     NaN      NaN     NaN       NaN      NaN  \n",
              "AgeOfVehicle                  NaN     NaN      NaN     NaN       NaN      NaN  \n",
              "AgeOfPolicyHolder             NaN     NaN      NaN     NaN       NaN      NaN  \n",
              "PoliceReportFiled             NaN     NaN      NaN     NaN       NaN      NaN  \n",
              "WitnessPresent                NaN     NaN      NaN     NaN       NaN      NaN  \n",
              "AgentType                     NaN     NaN      NaN     NaN       NaN      NaN  \n",
              "NumberOfSuppliments           NaN     NaN      NaN     NaN       NaN      NaN  \n",
              "AddressChange_Claim           NaN     NaN      NaN     NaN       NaN      NaN  \n",
              "NumberOfCars                  NaN     NaN      NaN     NaN       NaN      NaN  \n",
              "Year                     0.803313  1994.0   1994.0  1995.0    1996.0   1996.0  \n",
              "BasePolicy                    NaN     NaN      NaN     NaN       NaN      NaN  "
            ],
            "text/html": [
              "\n",
              "  <div id=\"df-3487c2a5-af08-4a2a-bfe2-32698d664ef6\">\n",
              "    <div class=\"colab-df-container\">\n",
              "      <div>\n",
              "<style scoped>\n",
              "    .dataframe tbody tr th:only-of-type {\n",
              "        vertical-align: middle;\n",
              "    }\n",
              "\n",
              "    .dataframe tbody tr th {\n",
              "        vertical-align: top;\n",
              "    }\n",
              "\n",
              "    .dataframe thead th {\n",
              "        text-align: right;\n",
              "    }\n",
              "</style>\n",
              "<table border=\"1\" class=\"dataframe\">\n",
              "  <thead>\n",
              "    <tr style=\"text-align: right;\">\n",
              "      <th></th>\n",
              "      <th>count</th>\n",
              "      <th>unique</th>\n",
              "      <th>top</th>\n",
              "      <th>freq</th>\n",
              "      <th>mean</th>\n",
              "      <th>std</th>\n",
              "      <th>min</th>\n",
              "      <th>25%</th>\n",
              "      <th>50%</th>\n",
              "      <th>75%</th>\n",
              "      <th>max</th>\n",
              "    </tr>\n",
              "  </thead>\n",
              "  <tbody>\n",
              "    <tr>\n",
              "      <th>Month</th>\n",
              "      <td>15420</td>\n",
              "      <td>12</td>\n",
              "      <td>Jan</td>\n",
              "      <td>1411</td>\n",
              "      <td>NaN</td>\n",
              "      <td>NaN</td>\n",
              "      <td>NaN</td>\n",
              "      <td>NaN</td>\n",
              "      <td>NaN</td>\n",
              "      <td>NaN</td>\n",
              "      <td>NaN</td>\n",
              "    </tr>\n",
              "    <tr>\n",
              "      <th>WeekOfMonth</th>\n",
              "      <td>15420.0</td>\n",
              "      <td>NaN</td>\n",
              "      <td>NaN</td>\n",
              "      <td>NaN</td>\n",
              "      <td>2.788586</td>\n",
              "      <td>1.287585</td>\n",
              "      <td>1.0</td>\n",
              "      <td>2.0</td>\n",
              "      <td>3.0</td>\n",
              "      <td>4.0</td>\n",
              "      <td>5.0</td>\n",
              "    </tr>\n",
              "    <tr>\n",
              "      <th>DayOfWeek</th>\n",
              "      <td>15420</td>\n",
              "      <td>7</td>\n",
              "      <td>Monday</td>\n",
              "      <td>2616</td>\n",
              "      <td>NaN</td>\n",
              "      <td>NaN</td>\n",
              "      <td>NaN</td>\n",
              "      <td>NaN</td>\n",
              "      <td>NaN</td>\n",
              "      <td>NaN</td>\n",
              "      <td>NaN</td>\n",
              "    </tr>\n",
              "    <tr>\n",
              "      <th>Make</th>\n",
              "      <td>15420</td>\n",
              "      <td>19</td>\n",
              "      <td>Pontiac</td>\n",
              "      <td>3837</td>\n",
              "      <td>NaN</td>\n",
              "      <td>NaN</td>\n",
              "      <td>NaN</td>\n",
              "      <td>NaN</td>\n",
              "      <td>NaN</td>\n",
              "      <td>NaN</td>\n",
              "      <td>NaN</td>\n",
              "    </tr>\n",
              "    <tr>\n",
              "      <th>AccidentArea</th>\n",
              "      <td>15420</td>\n",
              "      <td>2</td>\n",
              "      <td>Urban</td>\n",
              "      <td>13822</td>\n",
              "      <td>NaN</td>\n",
              "      <td>NaN</td>\n",
              "      <td>NaN</td>\n",
              "      <td>NaN</td>\n",
              "      <td>NaN</td>\n",
              "      <td>NaN</td>\n",
              "      <td>NaN</td>\n",
              "    </tr>\n",
              "    <tr>\n",
              "      <th>DayOfWeekClaimed</th>\n",
              "      <td>15420</td>\n",
              "      <td>8</td>\n",
              "      <td>Monday</td>\n",
              "      <td>3757</td>\n",
              "      <td>NaN</td>\n",
              "      <td>NaN</td>\n",
              "      <td>NaN</td>\n",
              "      <td>NaN</td>\n",
              "      <td>NaN</td>\n",
              "      <td>NaN</td>\n",
              "      <td>NaN</td>\n",
              "    </tr>\n",
              "    <tr>\n",
              "      <th>MonthClaimed</th>\n",
              "      <td>15420</td>\n",
              "      <td>13</td>\n",
              "      <td>Jan</td>\n",
              "      <td>1446</td>\n",
              "      <td>NaN</td>\n",
              "      <td>NaN</td>\n",
              "      <td>NaN</td>\n",
              "      <td>NaN</td>\n",
              "      <td>NaN</td>\n",
              "      <td>NaN</td>\n",
              "      <td>NaN</td>\n",
              "    </tr>\n",
              "    <tr>\n",
              "      <th>WeekOfMonthClaimed</th>\n",
              "      <td>15420.0</td>\n",
              "      <td>NaN</td>\n",
              "      <td>NaN</td>\n",
              "      <td>NaN</td>\n",
              "      <td>2.693969</td>\n",
              "      <td>1.259115</td>\n",
              "      <td>1.0</td>\n",
              "      <td>2.0</td>\n",
              "      <td>3.0</td>\n",
              "      <td>4.0</td>\n",
              "      <td>5.0</td>\n",
              "    </tr>\n",
              "    <tr>\n",
              "      <th>Sex</th>\n",
              "      <td>15420</td>\n",
              "      <td>2</td>\n",
              "      <td>Male</td>\n",
              "      <td>13000</td>\n",
              "      <td>NaN</td>\n",
              "      <td>NaN</td>\n",
              "      <td>NaN</td>\n",
              "      <td>NaN</td>\n",
              "      <td>NaN</td>\n",
              "      <td>NaN</td>\n",
              "      <td>NaN</td>\n",
              "    </tr>\n",
              "    <tr>\n",
              "      <th>MaritalStatus</th>\n",
              "      <td>15420</td>\n",
              "      <td>4</td>\n",
              "      <td>Married</td>\n",
              "      <td>10625</td>\n",
              "      <td>NaN</td>\n",
              "      <td>NaN</td>\n",
              "      <td>NaN</td>\n",
              "      <td>NaN</td>\n",
              "      <td>NaN</td>\n",
              "      <td>NaN</td>\n",
              "      <td>NaN</td>\n",
              "    </tr>\n",
              "    <tr>\n",
              "      <th>Age</th>\n",
              "      <td>15420.0</td>\n",
              "      <td>NaN</td>\n",
              "      <td>NaN</td>\n",
              "      <td>NaN</td>\n",
              "      <td>39.855707</td>\n",
              "      <td>13.492377</td>\n",
              "      <td>0.0</td>\n",
              "      <td>31.0</td>\n",
              "      <td>38.0</td>\n",
              "      <td>48.0</td>\n",
              "      <td>80.0</td>\n",
              "    </tr>\n",
              "    <tr>\n",
              "      <th>Fault</th>\n",
              "      <td>15420</td>\n",
              "      <td>2</td>\n",
              "      <td>Policy Holder</td>\n",
              "      <td>11230</td>\n",
              "      <td>NaN</td>\n",
              "      <td>NaN</td>\n",
              "      <td>NaN</td>\n",
              "      <td>NaN</td>\n",
              "      <td>NaN</td>\n",
              "      <td>NaN</td>\n",
              "      <td>NaN</td>\n",
              "    </tr>\n",
              "    <tr>\n",
              "      <th>PolicyType</th>\n",
              "      <td>15420</td>\n",
              "      <td>9</td>\n",
              "      <td>Sedan - Collision</td>\n",
              "      <td>5584</td>\n",
              "      <td>NaN</td>\n",
              "      <td>NaN</td>\n",
              "      <td>NaN</td>\n",
              "      <td>NaN</td>\n",
              "      <td>NaN</td>\n",
              "      <td>NaN</td>\n",
              "      <td>NaN</td>\n",
              "    </tr>\n",
              "    <tr>\n",
              "      <th>VehicleCategory</th>\n",
              "      <td>15420</td>\n",
              "      <td>3</td>\n",
              "      <td>Sedan</td>\n",
              "      <td>9671</td>\n",
              "      <td>NaN</td>\n",
              "      <td>NaN</td>\n",
              "      <td>NaN</td>\n",
              "      <td>NaN</td>\n",
              "      <td>NaN</td>\n",
              "      <td>NaN</td>\n",
              "      <td>NaN</td>\n",
              "    </tr>\n",
              "    <tr>\n",
              "      <th>VehiclePrice</th>\n",
              "      <td>15420</td>\n",
              "      <td>6</td>\n",
              "      <td>20000 to 29000</td>\n",
              "      <td>8079</td>\n",
              "      <td>NaN</td>\n",
              "      <td>NaN</td>\n",
              "      <td>NaN</td>\n",
              "      <td>NaN</td>\n",
              "      <td>NaN</td>\n",
              "      <td>NaN</td>\n",
              "      <td>NaN</td>\n",
              "    </tr>\n",
              "    <tr>\n",
              "      <th>FraudFound_P</th>\n",
              "      <td>15420.0</td>\n",
              "      <td>NaN</td>\n",
              "      <td>NaN</td>\n",
              "      <td>NaN</td>\n",
              "      <td>0.059857</td>\n",
              "      <td>0.23723</td>\n",
              "      <td>0.0</td>\n",
              "      <td>0.0</td>\n",
              "      <td>0.0</td>\n",
              "      <td>0.0</td>\n",
              "      <td>1.0</td>\n",
              "    </tr>\n",
              "    <tr>\n",
              "      <th>PolicyNumber</th>\n",
              "      <td>15420.0</td>\n",
              "      <td>NaN</td>\n",
              "      <td>NaN</td>\n",
              "      <td>NaN</td>\n",
              "      <td>7710.5</td>\n",
              "      <td>4451.514911</td>\n",
              "      <td>1.0</td>\n",
              "      <td>3855.75</td>\n",
              "      <td>7710.5</td>\n",
              "      <td>11565.25</td>\n",
              "      <td>15420.0</td>\n",
              "    </tr>\n",
              "    <tr>\n",
              "      <th>RepNumber</th>\n",
              "      <td>15420.0</td>\n",
              "      <td>NaN</td>\n",
              "      <td>NaN</td>\n",
              "      <td>NaN</td>\n",
              "      <td>8.483268</td>\n",
              "      <td>4.599948</td>\n",
              "      <td>1.0</td>\n",
              "      <td>5.0</td>\n",
              "      <td>8.0</td>\n",
              "      <td>12.0</td>\n",
              "      <td>16.0</td>\n",
              "    </tr>\n",
              "    <tr>\n",
              "      <th>Deductible</th>\n",
              "      <td>15420.0</td>\n",
              "      <td>NaN</td>\n",
              "      <td>NaN</td>\n",
              "      <td>NaN</td>\n",
              "      <td>407.70428</td>\n",
              "      <td>43.950998</td>\n",
              "      <td>300.0</td>\n",
              "      <td>400.0</td>\n",
              "      <td>400.0</td>\n",
              "      <td>400.0</td>\n",
              "      <td>700.0</td>\n",
              "    </tr>\n",
              "    <tr>\n",
              "      <th>DriverRating</th>\n",
              "      <td>15420.0</td>\n",
              "      <td>NaN</td>\n",
              "      <td>NaN</td>\n",
              "      <td>NaN</td>\n",
              "      <td>2.487808</td>\n",
              "      <td>1.119453</td>\n",
              "      <td>1.0</td>\n",
              "      <td>1.0</td>\n",
              "      <td>2.0</td>\n",
              "      <td>3.0</td>\n",
              "      <td>4.0</td>\n",
              "    </tr>\n",
              "    <tr>\n",
              "      <th>Days_Policy_Accident</th>\n",
              "      <td>15420</td>\n",
              "      <td>5</td>\n",
              "      <td>more than 30</td>\n",
              "      <td>15247</td>\n",
              "      <td>NaN</td>\n",
              "      <td>NaN</td>\n",
              "      <td>NaN</td>\n",
              "      <td>NaN</td>\n",
              "      <td>NaN</td>\n",
              "      <td>NaN</td>\n",
              "      <td>NaN</td>\n",
              "    </tr>\n",
              "    <tr>\n",
              "      <th>Days_Policy_Claim</th>\n",
              "      <td>15420</td>\n",
              "      <td>4</td>\n",
              "      <td>more than 30</td>\n",
              "      <td>15342</td>\n",
              "      <td>NaN</td>\n",
              "      <td>NaN</td>\n",
              "      <td>NaN</td>\n",
              "      <td>NaN</td>\n",
              "      <td>NaN</td>\n",
              "      <td>NaN</td>\n",
              "      <td>NaN</td>\n",
              "    </tr>\n",
              "    <tr>\n",
              "      <th>PastNumberOfClaims</th>\n",
              "      <td>15420</td>\n",
              "      <td>4</td>\n",
              "      <td>2 to 4</td>\n",
              "      <td>5485</td>\n",
              "      <td>NaN</td>\n",
              "      <td>NaN</td>\n",
              "      <td>NaN</td>\n",
              "      <td>NaN</td>\n",
              "      <td>NaN</td>\n",
              "      <td>NaN</td>\n",
              "      <td>NaN</td>\n",
              "    </tr>\n",
              "    <tr>\n",
              "      <th>AgeOfVehicle</th>\n",
              "      <td>15420</td>\n",
              "      <td>8</td>\n",
              "      <td>7 years</td>\n",
              "      <td>5807</td>\n",
              "      <td>NaN</td>\n",
              "      <td>NaN</td>\n",
              "      <td>NaN</td>\n",
              "      <td>NaN</td>\n",
              "      <td>NaN</td>\n",
              "      <td>NaN</td>\n",
              "      <td>NaN</td>\n",
              "    </tr>\n",
              "    <tr>\n",
              "      <th>AgeOfPolicyHolder</th>\n",
              "      <td>15420</td>\n",
              "      <td>9</td>\n",
              "      <td>31 to 35</td>\n",
              "      <td>5593</td>\n",
              "      <td>NaN</td>\n",
              "      <td>NaN</td>\n",
              "      <td>NaN</td>\n",
              "      <td>NaN</td>\n",
              "      <td>NaN</td>\n",
              "      <td>NaN</td>\n",
              "      <td>NaN</td>\n",
              "    </tr>\n",
              "    <tr>\n",
              "      <th>PoliceReportFiled</th>\n",
              "      <td>15420</td>\n",
              "      <td>2</td>\n",
              "      <td>No</td>\n",
              "      <td>14992</td>\n",
              "      <td>NaN</td>\n",
              "      <td>NaN</td>\n",
              "      <td>NaN</td>\n",
              "      <td>NaN</td>\n",
              "      <td>NaN</td>\n",
              "      <td>NaN</td>\n",
              "      <td>NaN</td>\n",
              "    </tr>\n",
              "    <tr>\n",
              "      <th>WitnessPresent</th>\n",
              "      <td>15420</td>\n",
              "      <td>2</td>\n",
              "      <td>No</td>\n",
              "      <td>15333</td>\n",
              "      <td>NaN</td>\n",
              "      <td>NaN</td>\n",
              "      <td>NaN</td>\n",
              "      <td>NaN</td>\n",
              "      <td>NaN</td>\n",
              "      <td>NaN</td>\n",
              "      <td>NaN</td>\n",
              "    </tr>\n",
              "    <tr>\n",
              "      <th>AgentType</th>\n",
              "      <td>15420</td>\n",
              "      <td>2</td>\n",
              "      <td>External</td>\n",
              "      <td>15179</td>\n",
              "      <td>NaN</td>\n",
              "      <td>NaN</td>\n",
              "      <td>NaN</td>\n",
              "      <td>NaN</td>\n",
              "      <td>NaN</td>\n",
              "      <td>NaN</td>\n",
              "      <td>NaN</td>\n",
              "    </tr>\n",
              "    <tr>\n",
              "      <th>NumberOfSuppliments</th>\n",
              "      <td>15420</td>\n",
              "      <td>4</td>\n",
              "      <td>none</td>\n",
              "      <td>7047</td>\n",
              "      <td>NaN</td>\n",
              "      <td>NaN</td>\n",
              "      <td>NaN</td>\n",
              "      <td>NaN</td>\n",
              "      <td>NaN</td>\n",
              "      <td>NaN</td>\n",
              "      <td>NaN</td>\n",
              "    </tr>\n",
              "    <tr>\n",
              "      <th>AddressChange_Claim</th>\n",
              "      <td>15420</td>\n",
              "      <td>5</td>\n",
              "      <td>no change</td>\n",
              "      <td>14324</td>\n",
              "      <td>NaN</td>\n",
              "      <td>NaN</td>\n",
              "      <td>NaN</td>\n",
              "      <td>NaN</td>\n",
              "      <td>NaN</td>\n",
              "      <td>NaN</td>\n",
              "      <td>NaN</td>\n",
              "    </tr>\n",
              "    <tr>\n",
              "      <th>NumberOfCars</th>\n",
              "      <td>15420</td>\n",
              "      <td>5</td>\n",
              "      <td>1 vehicle</td>\n",
              "      <td>14316</td>\n",
              "      <td>NaN</td>\n",
              "      <td>NaN</td>\n",
              "      <td>NaN</td>\n",
              "      <td>NaN</td>\n",
              "      <td>NaN</td>\n",
              "      <td>NaN</td>\n",
              "      <td>NaN</td>\n",
              "    </tr>\n",
              "    <tr>\n",
              "      <th>Year</th>\n",
              "      <td>15420.0</td>\n",
              "      <td>NaN</td>\n",
              "      <td>NaN</td>\n",
              "      <td>NaN</td>\n",
              "      <td>1994.866472</td>\n",
              "      <td>0.803313</td>\n",
              "      <td>1994.0</td>\n",
              "      <td>1994.0</td>\n",
              "      <td>1995.0</td>\n",
              "      <td>1996.0</td>\n",
              "      <td>1996.0</td>\n",
              "    </tr>\n",
              "    <tr>\n",
              "      <th>BasePolicy</th>\n",
              "      <td>15420</td>\n",
              "      <td>3</td>\n",
              "      <td>Collision</td>\n",
              "      <td>5962</td>\n",
              "      <td>NaN</td>\n",
              "      <td>NaN</td>\n",
              "      <td>NaN</td>\n",
              "      <td>NaN</td>\n",
              "      <td>NaN</td>\n",
              "      <td>NaN</td>\n",
              "      <td>NaN</td>\n",
              "    </tr>\n",
              "  </tbody>\n",
              "</table>\n",
              "</div>\n",
              "      <button class=\"colab-df-convert\" onclick=\"convertToInteractive('df-3487c2a5-af08-4a2a-bfe2-32698d664ef6')\"\n",
              "              title=\"Convert this dataframe to an interactive table.\"\n",
              "              style=\"display:none;\">\n",
              "        \n",
              "  <svg xmlns=\"http://www.w3.org/2000/svg\" height=\"24px\"viewBox=\"0 0 24 24\"\n",
              "       width=\"24px\">\n",
              "    <path d=\"M0 0h24v24H0V0z\" fill=\"none\"/>\n",
              "    <path d=\"M18.56 5.44l.94 2.06.94-2.06 2.06-.94-2.06-.94-.94-2.06-.94 2.06-2.06.94zm-11 1L8.5 8.5l.94-2.06 2.06-.94-2.06-.94L8.5 2.5l-.94 2.06-2.06.94zm10 10l.94 2.06.94-2.06 2.06-.94-2.06-.94-.94-2.06-.94 2.06-2.06.94z\"/><path d=\"M17.41 7.96l-1.37-1.37c-.4-.4-.92-.59-1.43-.59-.52 0-1.04.2-1.43.59L10.3 9.45l-7.72 7.72c-.78.78-.78 2.05 0 2.83L4 21.41c.39.39.9.59 1.41.59.51 0 1.02-.2 1.41-.59l7.78-7.78 2.81-2.81c.8-.78.8-2.07 0-2.86zM5.41 20L4 18.59l7.72-7.72 1.47 1.35L5.41 20z\"/>\n",
              "  </svg>\n",
              "      </button>\n",
              "      \n",
              "  <style>\n",
              "    .colab-df-container {\n",
              "      display:flex;\n",
              "      flex-wrap:wrap;\n",
              "      gap: 12px;\n",
              "    }\n",
              "\n",
              "    .colab-df-convert {\n",
              "      background-color: #E8F0FE;\n",
              "      border: none;\n",
              "      border-radius: 50%;\n",
              "      cursor: pointer;\n",
              "      display: none;\n",
              "      fill: #1967D2;\n",
              "      height: 32px;\n",
              "      padding: 0 0 0 0;\n",
              "      width: 32px;\n",
              "    }\n",
              "\n",
              "    .colab-df-convert:hover {\n",
              "      background-color: #E2EBFA;\n",
              "      box-shadow: 0px 1px 2px rgba(60, 64, 67, 0.3), 0px 1px 3px 1px rgba(60, 64, 67, 0.15);\n",
              "      fill: #174EA6;\n",
              "    }\n",
              "\n",
              "    [theme=dark] .colab-df-convert {\n",
              "      background-color: #3B4455;\n",
              "      fill: #D2E3FC;\n",
              "    }\n",
              "\n",
              "    [theme=dark] .colab-df-convert:hover {\n",
              "      background-color: #434B5C;\n",
              "      box-shadow: 0px 1px 3px 1px rgba(0, 0, 0, 0.15);\n",
              "      filter: drop-shadow(0px 1px 2px rgba(0, 0, 0, 0.3));\n",
              "      fill: #FFFFFF;\n",
              "    }\n",
              "  </style>\n",
              "\n",
              "      <script>\n",
              "        const buttonEl =\n",
              "          document.querySelector('#df-3487c2a5-af08-4a2a-bfe2-32698d664ef6 button.colab-df-convert');\n",
              "        buttonEl.style.display =\n",
              "          google.colab.kernel.accessAllowed ? 'block' : 'none';\n",
              "\n",
              "        async function convertToInteractive(key) {\n",
              "          const element = document.querySelector('#df-3487c2a5-af08-4a2a-bfe2-32698d664ef6');\n",
              "          const dataTable =\n",
              "            await google.colab.kernel.invokeFunction('convertToInteractive',\n",
              "                                                     [key], {});\n",
              "          if (!dataTable) return;\n",
              "\n",
              "          const docLinkHtml = 'Like what you see? Visit the ' +\n",
              "            '<a target=\"_blank\" href=https://colab.research.google.com/notebooks/data_table.ipynb>data table notebook</a>'\n",
              "            + ' to learn more about interactive tables.';\n",
              "          element.innerHTML = '';\n",
              "          dataTable['output_type'] = 'display_data';\n",
              "          await google.colab.output.renderOutput(dataTable, element);\n",
              "          const docLink = document.createElement('div');\n",
              "          docLink.innerHTML = docLinkHtml;\n",
              "          element.appendChild(docLink);\n",
              "        }\n",
              "      </script>\n",
              "    </div>\n",
              "  </div>\n",
              "  "
            ]
          },
          "metadata": {},
          "execution_count": 6
        }
      ]
    },
    {
      "cell_type": "markdown",
      "source": [
        "많은 컬럼이 존재합니다, 의미없는 컬럼은 삭제해도 좋습니다.\n",
        "> 각 컬럼별 카디널리티 개수를 파악합니다."
      ],
      "metadata": {
        "id": "h4Y3InAzobSJ"
      }
    },
    {
      "cell_type": "code",
      "source": [
        "df.nunique().sort_values(ascending = False)"
      ],
      "metadata": {
        "colab": {
          "base_uri": "https://localhost:8080/"
        },
        "id": "_FFV5Zz3or47",
        "outputId": "83b86f70-b5df-474b-ef61-b1bc17ffd9bc"
      },
      "execution_count": 7,
      "outputs": [
        {
          "output_type": "execute_result",
          "data": {
            "text/plain": [
              "PolicyNumber            15420\n",
              "Age                        66\n",
              "Make                       19\n",
              "RepNumber                  16\n",
              "MonthClaimed               13\n",
              "Month                      12\n",
              "AgeOfPolicyHolder           9\n",
              "PolicyType                  9\n",
              "DayOfWeekClaimed            8\n",
              "AgeOfVehicle                8\n",
              "DayOfWeek                   7\n",
              "VehiclePrice                6\n",
              "Days_Policy_Accident        5\n",
              "NumberOfCars                5\n",
              "AddressChange_Claim         5\n",
              "WeekOfMonth                 5\n",
              "WeekOfMonthClaimed          5\n",
              "NumberOfSuppliments         4\n",
              "PastNumberOfClaims          4\n",
              "Days_Policy_Claim           4\n",
              "DriverRating                4\n",
              "Deductible                  4\n",
              "MaritalStatus               4\n",
              "VehicleCategory             3\n",
              "Year                        3\n",
              "BasePolicy                  3\n",
              "FraudFound_P                2\n",
              "Fault                       2\n",
              "PoliceReportFiled           2\n",
              "WitnessPresent              2\n",
              "AgentType                   2\n",
              "AccidentArea                2\n",
              "Sex                         2\n",
              "dtype: int64"
            ]
          },
          "metadata": {},
          "execution_count": 7
        }
      ]
    },
    {
      "cell_type": "markdown",
      "source": [
        "* 높은 카디널리티를 가지고 있는 `column : PolicyNumber`은 `index`와 같은 값을 갖고 있습니다.\n",
        "  * 또한 나머지 피처들의 데이터 값은 대부분 범주형을 띄는 것 같습니다.<br/>\n",
        "  corr 시각화등의 수치형에서 사용하는 분석범보다는 각 그룹별 평균 Fraud 등을 확인하는 것이 좋습니다.\n",
        "* 또한 `Year` 특성을 포함할 경우 미래 사건을 예측하기 어려우므로(외삽) 삭제하도록 합니다."
      ],
      "metadata": {
        "id": "I_7f8Me3pUs5"
      }
    },
    {
      "cell_type": "code",
      "source": [
        "df = df.drop(columns = ['PolicyNumber', 'Year'])\n",
        "df.nunique().sort_values(ascending = False)"
      ],
      "metadata": {
        "colab": {
          "base_uri": "https://localhost:8080/"
        },
        "id": "QRRP9aPmq8A5",
        "outputId": "5edea06c-6b51-42eb-f3c3-594dcb4d6c32"
      },
      "execution_count": 8,
      "outputs": [
        {
          "output_type": "execute_result",
          "data": {
            "text/plain": [
              "Age                     66\n",
              "Make                    19\n",
              "RepNumber               16\n",
              "MonthClaimed            13\n",
              "Month                   12\n",
              "PolicyType               9\n",
              "AgeOfPolicyHolder        9\n",
              "DayOfWeekClaimed         8\n",
              "AgeOfVehicle             8\n",
              "DayOfWeek                7\n",
              "VehiclePrice             6\n",
              "WeekOfMonth              5\n",
              "Days_Policy_Accident     5\n",
              "AddressChange_Claim      5\n",
              "WeekOfMonthClaimed       5\n",
              "NumberOfCars             5\n",
              "DriverRating             4\n",
              "Days_Policy_Claim        4\n",
              "NumberOfSuppliments      4\n",
              "Deductible               4\n",
              "MaritalStatus            4\n",
              "PastNumberOfClaims       4\n",
              "BasePolicy               3\n",
              "VehicleCategory          3\n",
              "PoliceReportFiled        2\n",
              "WitnessPresent           2\n",
              "AgentType                2\n",
              "Fault                    2\n",
              "Sex                      2\n",
              "AccidentArea             2\n",
              "FraudFound_P             2\n",
              "dtype: int64"
            ]
          },
          "metadata": {},
          "execution_count": 8
        }
      ]
    },
    {
      "cell_type": "markdown",
      "source": [
        "#### **01-1. 타겟의 분포 확인하기.**\n",
        "* 타겟의 분포가 굉장히 불균형합니다."
      ],
      "metadata": {
        "id": "M8rc8D-LrNNV"
      }
    },
    {
      "cell_type": "code",
      "source": [
        "target = 'FraudFound_P'\n",
        "df[target].value_counts(normalize = True)"
      ],
      "metadata": {
        "colab": {
          "base_uri": "https://localhost:8080/"
        },
        "id": "Fwif9GN7szyt",
        "outputId": "847bb322-e3be-4003-a997-1c43955508c5"
      },
      "execution_count": 9,
      "outputs": [
        {
          "output_type": "execute_result",
          "data": {
            "text/plain": [
              "0    0.940143\n",
              "1    0.059857\n",
              "Name: FraudFound_P, dtype: float64"
            ]
          },
          "metadata": {},
          "execution_count": 9
        }
      ]
    },
    {
      "cell_type": "markdown",
      "source": [
        "차트로 확인하면 다음과 같습니다. (pie chart) <br/>\n",
        "또한 최대 빈도수로 기준모델 정확도를 생성해봅시다."
      ],
      "metadata": {
        "id": "mu4xUKjmv8hl"
      }
    },
    {
      "cell_type": "code",
      "source": [
        "df[target].value_counts(normalize=True).plot.pie(autopct=\"%.3f%%\")\n",
        "print('Baseline Accuracy', df[target].value_counts(normalize = True).max())"
      ],
      "metadata": {
        "colab": {
          "base_uri": "https://localhost:8080/",
          "height": 267
        },
        "id": "HNbvQ5yfvv00",
        "outputId": "b795296f-1c0a-40cf-e71e-14eba6a8f3df"
      },
      "execution_count": 10,
      "outputs": [
        {
          "output_type": "stream",
          "name": "stdout",
          "text": [
            "Baseline Accuracy 0.9401426718547341\n"
          ]
        },
        {
          "output_type": "display_data",
          "data": {
            "text/plain": [
              "<Figure size 432x288 with 1 Axes>"
            ],
            "image/png": "[encoded data removed]"
          },
          "metadata": {}
        }
      ]
    },
    {
      "cell_type": "markdown",
      "source": [
        "학습 데이터와 평가 데이터의 분리를 진행합니다.\n",
        "* 검증 / 평가 데이터는 말 그대로 모델을 시범으로 운행하여 보는 것으로, 실제 상황에서 모델이 얼마나 데이터들을 잘 모델링하고 있는지를 확인하기 위한 목적입니다.\n",
        "* 따라서 평가용 데이터의 분포에 조작을 가하여 현실 세계의 데이터 분포와 멀어지게 된다면, 해당 데이터로부터 추출된 평가지표는 평가지표로서의 의미를 잃게 됩니다.\n",
        "* 즉, `Oversampling`, `Undersampling`은 불균형한 상황에서 모델이 잘 학습되지 않는 기술적 이슈를 해결하기 위한 테크닉일 뿐, 해당 테크닉이 모델 성능의 평가에 영향을 주어서는 안됩니다"
      ],
      "metadata": {
        "id": "8FkyvpbjvuUx"
      }
    },
    {
      "cell_type": "code",
      "source": [
        "from sklearn.model_selection import train_test_split\n",
        "\n",
        "train, val = train_test_split(df, test_size = 0.2, stratify = df[target], random_state=42)\n",
        "print(train.shape, val.shape)\n"
      ],
      "metadata": {
        "colab": {
          "base_uri": "https://localhost:8080/"
        },
        "id": "KrsBNXuaEdLC",
        "outputId": "f5bbdd78-db48-407b-f978-b8801d3b50e3"
      },
      "execution_count": 11,
      "outputs": [
        {
          "output_type": "stream",
          "name": "stdout",
          "text": [
            "(12336, 31) (3084, 31)\n"
          ]
        }
      ]
    },
    {
      "cell_type": "code",
      "source": [
        "print('Train target distribution :\\n', train[target].value_counts(normalize = True), '\\n')\n",
        "print(f'Val target distribution : \\n {val[target].value_counts(normalize = True)} \\n')"
      ],
      "metadata": {
        "colab": {
          "base_uri": "https://localhost:8080/"
        },
        "id": "-kH4vN_nFuYX",
        "outputId": "f3e1c008-04ad-4dc6-b338-de2385930f32"
      },
      "execution_count": 12,
      "outputs": [
        {
          "output_type": "stream",
          "name": "stdout",
          "text": [
            "Train target distribution :\n",
            " 0    0.940175\n",
            "1    0.059825\n",
            "Name: FraudFound_P, dtype: float64 \n",
            "\n",
            "Val target distribution : \n",
            " 0    0.940013\n",
            "1    0.059987\n",
            "Name: FraudFound_P, dtype: float64 \n",
            "\n"
          ]
        }
      ]
    },
    {
      "cell_type": "markdown",
      "source": [
        "훈련 및 검증데이터의 타겟비율은  원래 데이터와 유사한 타겟 비율을 갖도록 나눠졌습니다.\n"
      ],
      "metadata": {
        "id": "EFPWMAxFHiJB"
      }
    },
    {
      "cell_type": "markdown",
      "source": [
        "#### **01-2. Data Modeling : GBDT**"
      ],
      "metadata": {
        "id": "0NDWJcLLIUiw"
      }
    },
    {
      "cell_type": "code",
      "source": [
        "# features & target 분리\n",
        "X_train, y_train = train.drop(columns=[target]), train[target]\n",
        "X_val, y_val = val.drop(columns=[target]), val[target]"
      ],
      "metadata": {
        "id": "2RiBCtIVIHg5"
      },
      "execution_count": 13,
      "outputs": []
    },
    {
      "cell_type": "code",
      "source": [
        "# OrdinalEncoding 진행, 필요한 라이브러리 가져오기.\n",
        "from category_encoders import OrdinalEncoder\n",
        "\n",
        "# 인코딩 인스턴스 객체 생성\n",
        "encoder = OrdinalEncoder()\n",
        "\n",
        "# train 적용\n",
        "X_train_encoded = encoder.fit_transform(X_train)\n",
        "\n",
        "# val 적용\n",
        "X_val_encoded = encoder.transform(X_val)"
      ],
      "metadata": {
        "id": "T-cT66v2Hz_4"
      },
      "execution_count": 14,
      "outputs": []
    },
    {
      "cell_type": "code",
      "source": [
        "# 필요한 라이브러리 불러오기.\n",
        "from xgboost import XGBClassifier\n",
        "\n",
        "# 모델 생성\n",
        "model = XGBClassifier(\n",
        "    objective=\"binary:logistic\",\n",
        "    eval_metric=\"auc\",\n",
        "    n_estimators=987654321,\n",
        "    random_state=42,\n",
        "    n_jobs=-1,\n",
        "    max_depth=5,\n",
        "    learning_rate=0.1,\n",
        "    early_stopping_rounds = 50 # 50 rounds 동안 성능 개선이 없다면 학습을 중지합니다.\n",
        ") \n",
        "print(model)"
      ],
      "metadata": {
        "id": "RxpmNMN_JlYN",
        "colab": {
          "base_uri": "https://localhost:8080/"
        },
        "outputId": "741885e2-f2e3-48bb-d445-3a2e71dd3046"
      },
      "execution_count": 15,
      "outputs": [
        {
          "output_type": "stream",
          "name": "stdout",
          "text": [
            "XGBClassifier(base_score=None, booster=None, callbacks=None,\n",
            "              colsample_bylevel=None, colsample_bynode=None,\n",
            "              colsample_bytree=None, early_stopping_rounds=50,\n",
            "              enable_categorical=False, eval_metric='auc', feature_types=None,\n",
            "              gamma=None, gpu_id=None, grow_policy=None, importance_type=None,\n",
            "              interaction_constraints=None, learning_rate=0.1, max_bin=None,\n",
            "              max_cat_threshold=None, max_cat_to_onehot=None,\n",
            "              max_delta_step=None, max_depth=5, max_leaves=None,\n",
            "              min_child_weight=None, missing=nan, monotone_constraints=None,\n",
            "              n_estimators=987654321, n_jobs=-1, num_parallel_tree=None,\n",
            "              predictor=None, random_state=42, ...)\n"
          ]
        }
      ]
    },
    {
      "cell_type": "code",
      "source": [
        "watchlist = [(X_train_encoded, y_train), (X_val_encoded, y_val)]\n",
        "\n",
        "model.fit(\n",
        "    X_train_encoded,\n",
        "    y_train,\n",
        "    eval_set=watchlist\n",
        ")"
      ],
      "metadata": {
        "colab": {
          "base_uri": "https://localhost:8080/"
        },
        "id": "Yq3OZtm3RCcP",
        "outputId": "798da8a2-7b67-4dfd-a95a-5bb4cead7c1d"
      },
      "execution_count": 16,
      "outputs": [
        {
          "output_type": "stream",
          "name": "stdout",
          "text": [
            "[0]\tvalidation_0-auc:0.82236\tvalidation_1-auc:0.81901\n",
            "[1]\tvalidation_0-auc:0.82870\tvalidation_1-auc:0.82024\n",
            "[2]\tvalidation_0-auc:0.83006\tvalidation_1-auc:0.82163\n",
            "[3]\tvalidation_0-auc:0.83012\tvalidation_1-auc:0.82098\n",
            "[4]\tvalidation_0-auc:0.83101\tvalidation_1-auc:0.82076\n",
            "[5]\tvalidation_0-auc:0.83371\tvalidation_1-auc:0.82076\n",
            "[6]\tvalidation_0-auc:0.83753\tvalidation_1-auc:0.81310\n",
            "[7]\tvalidation_0-auc:0.83891\tvalidation_1-auc:0.81997\n",
            "[8]\tvalidation_0-auc:0.83919\tvalidation_1-auc:0.82481\n",
            "[9]\tvalidation_0-auc:0.84073\tvalidation_1-auc:0.82336\n",
            "[10]\tvalidation_0-auc:0.84179\tvalidation_1-auc:0.82250\n",
            "[11]\tvalidation_0-auc:0.84213\tvalidation_1-auc:0.82223\n",
            "[12]\tvalidation_0-auc:0.84237\tvalidation_1-auc:0.82302\n",
            "[13]\tvalidation_0-auc:0.84412\tvalidation_1-auc:0.82179\n",
            "[14]\tvalidation_0-auc:0.84538\tvalidation_1-auc:0.82191\n",
            "[15]\tvalidation_0-auc:0.84617\tvalidation_1-auc:0.82359\n",
            "[16]\tvalidation_0-auc:0.84730\tvalidation_1-auc:0.82143\n",
            "[17]\tvalidation_0-auc:0.84841\tvalidation_1-auc:0.82136\n",
            "[18]\tvalidation_0-auc:0.84919\tvalidation_1-auc:0.82160\n",
            "[19]\tvalidation_0-auc:0.84973\tvalidation_1-auc:0.82192\n",
            "[20]\tvalidation_0-auc:0.85050\tvalidation_1-auc:0.82090\n",
            "[21]\tvalidation_0-auc:0.85085\tvalidation_1-auc:0.82082\n",
            "[22]\tvalidation_0-auc:0.85170\tvalidation_1-auc:0.82123\n",
            "[23]\tvalidation_0-auc:0.85252\tvalidation_1-auc:0.82058\n",
            "[24]\tvalidation_0-auc:0.85306\tvalidation_1-auc:0.82057\n",
            "[25]\tvalidation_0-auc:0.85462\tvalidation_1-auc:0.82166\n",
            "[26]\tvalidation_0-auc:0.85529\tvalidation_1-auc:0.82213\n",
            "[27]\tvalidation_0-auc:0.85702\tvalidation_1-auc:0.82107\n",
            "[28]\tvalidation_0-auc:0.85992\tvalidation_1-auc:0.82223\n",
            "[29]\tvalidation_0-auc:0.86073\tvalidation_1-auc:0.82231\n",
            "[30]\tvalidation_0-auc:0.86174\tvalidation_1-auc:0.82229\n",
            "[31]\tvalidation_0-auc:0.86278\tvalidation_1-auc:0.82287\n",
            "[32]\tvalidation_0-auc:0.86338\tvalidation_1-auc:0.82197\n",
            "[33]\tvalidation_0-auc:0.86487\tvalidation_1-auc:0.82225\n",
            "[34]\tvalidation_0-auc:0.86548\tvalidation_1-auc:0.82219\n",
            "[35]\tvalidation_0-auc:0.86596\tvalidation_1-auc:0.82225\n",
            "[36]\tvalidation_0-auc:0.86683\tvalidation_1-auc:0.82207\n",
            "[37]\tvalidation_0-auc:0.86843\tvalidation_1-auc:0.82310\n",
            "[38]\tvalidation_0-auc:0.86899\tvalidation_1-auc:0.82269\n",
            "[39]\tvalidation_0-auc:0.86987\tvalidation_1-auc:0.82244\n",
            "[40]\tvalidation_0-auc:0.87026\tvalidation_1-auc:0.82169\n",
            "[41]\tvalidation_0-auc:0.87084\tvalidation_1-auc:0.82120\n",
            "[42]\tvalidation_0-auc:0.87184\tvalidation_1-auc:0.82267\n",
            "[43]\tvalidation_0-auc:0.87251\tvalidation_1-auc:0.82226\n",
            "[44]\tvalidation_0-auc:0.87301\tvalidation_1-auc:0.82282\n",
            "[45]\tvalidation_0-auc:0.87373\tvalidation_1-auc:0.82259\n",
            "[46]\tvalidation_0-auc:0.87440\tvalidation_1-auc:0.82300\n",
            "[47]\tvalidation_0-auc:0.87530\tvalidation_1-auc:0.82404\n",
            "[48]\tvalidation_0-auc:0.87621\tvalidation_1-auc:0.82319\n",
            "[49]\tvalidation_0-auc:0.87729\tvalidation_1-auc:0.82332\n",
            "[50]\tvalidation_0-auc:0.87840\tvalidation_1-auc:0.82392\n",
            "[51]\tvalidation_0-auc:0.87879\tvalidation_1-auc:0.82407\n",
            "[52]\tvalidation_0-auc:0.88018\tvalidation_1-auc:0.82350\n",
            "[53]\tvalidation_0-auc:0.88076\tvalidation_1-auc:0.82373\n",
            "[54]\tvalidation_0-auc:0.88164\tvalidation_1-auc:0.82330\n",
            "[55]\tvalidation_0-auc:0.88219\tvalidation_1-auc:0.82294\n",
            "[56]\tvalidation_0-auc:0.88359\tvalidation_1-auc:0.82253\n",
            "[57]\tvalidation_0-auc:0.88444\tvalidation_1-auc:0.82221\n",
            "[58]\tvalidation_0-auc:0.88507\tvalidation_1-auc:0.82103\n"
          ]
        },
        {
          "output_type": "execute_result",
          "data": {
            "text/plain": [
              "XGBClassifier(base_score=0.5, booster='gbtree', callbacks=None,\n",
              "              colsample_bylevel=1, colsample_bynode=1, colsample_bytree=1,\n",
              "              early_stopping_rounds=50, enable_categorical=False,\n",
              "              eval_metric='auc', feature_types=None, gamma=0, gpu_id=-1,\n",
              "              grow_policy='depthwise', importance_type=None,\n",
              "              interaction_constraints='', learning_rate=0.1, max_bin=256,\n",
              "              max_cat_threshold=64, max_cat_to_onehot=4, max_delta_step=0,\n",
              "              max_depth=5, max_leaves=0, min_child_weight=1, missing=nan,\n",
              "              monotone_constraints='()', n_estimators=987654321, n_jobs=-1,\n",
              "              num_parallel_tree=1, predictor='auto', random_state=42, ...)"
            ]
          },
          "metadata": {},
          "execution_count": 16
        }
      ]
    },
    {
      "cell_type": "markdown",
      "source": [
        "학습된 모델의 검증 데이터셋에서의 결과를 확인합니다"
      ],
      "metadata": {
        "id": "xdNyxEzcau_J"
      }
    },
    {
      "cell_type": "code",
      "source": [
        "# 필요한 라이브러리를 가져옵니다.\n",
        "import matplotlib.pyplot as plt\n",
        "%matplotlib inline\n",
        "\n",
        "results = model.evals_result()\n",
        "train_error = results['validation_0']['auc']\n",
        "val_error = results['validation_1']['auc']\n",
        "\n",
        "plt.plot(train_error, label = 'Train')\n",
        "plt.plot(val_error, label = 'Validation')\n",
        "plt.ylabel('ROC-AUC')\n",
        "plt.xlabel('Model Complexity (n_estimators)')\n",
        "plt.legend()"
      ],
      "metadata": {
        "colab": {
          "base_uri": "https://localhost:8080/",
          "height": 299
        },
        "id": "UkjNCbIVqzmR",
        "outputId": "1c2c349d-5cbb-4b97-baf9-3f55a30a3b45"
      },
      "execution_count": 17,
      "outputs": [
        {
          "output_type": "execute_result",
          "data": {
            "text/plain": [
              "<matplotlib.legend.Legend at 0x7fcaedf33880>"
            ]
          },
          "metadata": {},
          "execution_count": 17
        },
        {
          "output_type": "display_data",
          "data": {
            "text/plain": [
              "<Figure size 432x288 with 1 Axes>"
            ],
            "image/png": "[encoded data removed]"
          },
          "metadata": {
            "needs_background": "light"
          }
        }
      ]
    },
    {
      "cell_type": "markdown",
      "source": [
        "####**01-4.INSIGHT**<br/>\n",
        "**classification_report** 을 생성하여 결과 값을 확인하여 봅시다."
      ],
      "metadata": {
        "id": "4fOMquM7rFog"
      }
    },
    {
      "cell_type": "markdown",
      "source": [
        "* class 0&1중 Recall의 값이 굉장히 낮습니다. 이 모델은 대부분의 입력을 0으로 예측하는 모델임을 알 수 있습니다."
      ],
      "metadata": {
        "id": "TA-QXsk-tIit"
      }
    },
    {
      "cell_type": "code",
      "source": [
        "from sklearn.metrics import classification_report\n",
        "\n",
        "print('검증 정확도', model.score(X_val_encoded, y_val))\n",
        "print(classification_report(\n",
        "    y_val, model.predict(X_val_encoded, iteration_range = (0, model.best_iteration))\n",
        "))"
      ],
      "metadata": {
        "colab": {
          "base_uri": "https://localhost:8080/"
        },
        "id": "Bs7S96ERrGy7",
        "outputId": "6ea77c1f-312d-472f-95da-cec2d9210bba"
      },
      "execution_count": 18,
      "outputs": [
        {
          "output_type": "stream",
          "name": "stdout",
          "text": [
            "검증 정확도 0.9409857328145266\n",
            "              precision    recall  f1-score   support\n",
            "\n",
            "           0       0.94      1.00      0.97      2899\n",
            "           1       0.67      0.02      0.04       185\n",
            "\n",
            "    accuracy                           0.94      3084\n",
            "   macro avg       0.80      0.51      0.51      3084\n",
            "weighted avg       0.92      0.94      0.91      3084\n",
            "\n"
          ]
        }
      ]
    },
    {
      "cell_type": "markdown",
      "source": [
        "실제 모델의 예측 결과를 확인하여 봅시다. \n",
        "* 모델은 전체 3084개의 데이터 중 단 6개의 데이터에 대해서만 1이라고 대답했습니다.\n",
        "* 모델은 현재 심각하게 0으로 편향되어 있는 상태입니다."
      ],
      "metadata": {
        "id": "J5CIAhAitG4b"
      }
    },
    {
      "cell_type": "code",
      "source": [
        "model.best_iteration"
      ],
      "metadata": {
        "colab": {
          "base_uri": "https://localhost:8080/"
        },
        "id": "hnUnNpd3FU4x",
        "outputId": "06553c1d-8616-4899-f5fe-0226a5cdb63b"
      },
      "execution_count": 19,
      "outputs": [
        {
          "output_type": "execute_result",
          "data": {
            "text/plain": [
              "8"
            ]
          },
          "metadata": {},
          "execution_count": 19
        }
      ]
    },
    {
      "cell_type": "code",
      "source": [
        "model.predict(X_val_encoded, iteration_range = (0, model.best_iteration)).sum()"
      ],
      "metadata": {
        "colab": {
          "base_uri": "https://localhost:8080/"
        },
        "id": "r4o5ita_v7iG",
        "outputId": "e9fcfd27-b9f4-456d-85c9-938150cdcd92"
      },
      "execution_count": 20,
      "outputs": [
        {
          "output_type": "execute_result",
          "data": {
            "text/plain": [
              "6"
            ]
          },
          "metadata": {},
          "execution_count": 20
        }
      ]
    },
    {
      "cell_type": "markdown",
      "source": [
        "Roc-Auc Score 또한 살펴봅니다."
      ],
      "metadata": {
        "id": "qrn1ogDF-WQK"
      }
    },
    {
      "cell_type": "code",
      "source": [
        "from sklearn.metrics import roc_curve, roc_auc_score\n",
        "\n",
        "# roc curve를 그릴 함수를 생성합니다.\n",
        "def get_roc_auc(model, X_val_encoded, y_val):\n",
        "  \n",
        "  # 우리가 생성한 모델이 XGBClassifier인 경우\n",
        "  if isinstance(model, XGBClassifier):\n",
        "    y_pred_proba = model.predict_proba(\n",
        "        X_val_encoded, iteration_range=(0, model.best_iteration)\n",
        "    )[:,1]\n",
        "\n",
        "  \n",
        "  else:\n",
        "    y_pred_proba = model.predict_proba(X_val_encoded)[:,1]\n",
        "\n",
        "  \n",
        "  print('ROC-AUC', roc_auc_score(y_val, y_pred_proba))\n",
        "\n",
        "  # ROC-AUC\n",
        "  # baseline\n",
        "  baseline_fpr, baseline_tpr, _ = roc_curve(y_val, [0]*len(y_val))\n",
        "\n",
        "  # baseline과 비교할 모델 값.\n",
        "  fpr, tpr, thresholds = roc_curve(y_val, y_pred_proba)\n",
        "\n",
        "  # fpr, tpr, thresholds를 살펴볼 수 있는 df 생성.\n",
        "  tmp = pd.DataFrame({'fpr':fpr, 'tpr':tpr, 'thresholds':thresholds})\n",
        "\n",
        "  # plot : baseline\n",
        "  plt.plot(baseline_fpr, baseline_tpr, linestyle='--', color = 'green', label = 'Baseline')\n",
        " \n",
        "  #plot : modelline\n",
        "  plt.plot(fpr, tpr, color = 'blue', label = 'Model')\n",
        "  plt.scatter(fpr, tpr, color = 'red')\n",
        "  plt.legend()\n",
        "  plt.title('Roc Curve')\n",
        "  plt.xlabel(\"FPR\")\n",
        "  plt.ylabel(\"TPR\")\n",
        "  plt.show()\n",
        "  return tmp"
      ],
      "metadata": {
        "id": "5tZX_iW6-d3H"
      },
      "execution_count": 21,
      "outputs": []
    },
    {
      "cell_type": "code",
      "source": [
        "%matplotlib inline\n",
        "get_roc_auc(model, X_val_encoded, y_val)"
      ],
      "metadata": {
        "colab": {
          "base_uri": "https://localhost:8080/",
          "height": 720
        },
        "id": "pPcQ4r-JKgBL",
        "outputId": "409dcfd5-f36f-4a56-a74b-a80209ff6704"
      },
      "execution_count": 22,
      "outputs": [
        {
          "output_type": "stream",
          "name": "stdout",
          "text": [
            "ROC-AUC 0.8199668105497703\n"
          ]
        },
        {
          "output_type": "display_data",
          "data": {
            "text/plain": [
              "<Figure size 432x288 with 1 Axes>"
            ],
            "image/png": "[encoded data removed]"
          },
          "metadata": {
            "needs_background": "light"
          }
        },
        {
          "output_type": "execute_result",
          "data": {
            "text/plain": [
              "         fpr       tpr  thresholds\n",
              "0   0.000000  0.000000    1.754428\n",
              "1   0.000000  0.010811    0.754428\n",
              "2   0.000000  0.021622    0.675852\n",
              "3   0.001725  0.021622    0.429486\n",
              "4   0.001725  0.027027    0.424519\n",
              "..       ...       ...         ...\n",
              "62  0.427734  0.972973    0.261465\n",
              "63  0.429458  0.972973    0.252179\n",
              "64  0.430838  0.972973    0.238105\n",
              "65  0.718524  1.000000    0.224491\n",
              "66  1.000000  1.000000    0.219941\n",
              "\n",
              "[67 rows x 3 columns]"
            ],
            "text/html": [
              "\n",
              "  <div id=\"df-a5475a5e-82eb-4a49-9281-fd481bfc1bb4\">\n",
              "    <div class=\"colab-df-container\">\n",
              "      <div>\n",
              "<style scoped>\n",
              "    .dataframe tbody tr th:only-of-type {\n",
              "        vertical-align: middle;\n",
              "    }\n",
              "\n",
              "    .dataframe tbody tr th {\n",
              "        vertical-align: top;\n",
              "    }\n",
              "\n",
              "    .dataframe thead th {\n",
              "        text-align: right;\n",
              "    }\n",
              "</style>\n",
              "<table border=\"1\" class=\"dataframe\">\n",
              "  <thead>\n",
              "    <tr style=\"text-align: right;\">\n",
              "      <th></th>\n",
              "      <th>fpr</th>\n",
              "      <th>tpr</th>\n",
              "      <th>thresholds</th>\n",
              "    </tr>\n",
              "  </thead>\n",
              "  <tbody>\n",
              "    <tr>\n",
              "      <th>0</th>\n",
              "      <td>0.000000</td>\n",
              "      <td>0.000000</td>\n",
              "      <td>1.754428</td>\n",
              "    </tr>\n",
              "    <tr>\n",
              "      <th>1</th>\n",
              "      <td>0.000000</td>\n",
              "      <td>0.010811</td>\n",
              "      <td>0.754428</td>\n",
              "    </tr>\n",
              "    <tr>\n",
              "      <th>2</th>\n",
              "      <td>0.000000</td>\n",
              "      <td>0.021622</td>\n",
              "      <td>0.675852</td>\n",
              "    </tr>\n",
              "    <tr>\n",
              "      <th>3</th>\n",
              "      <td>0.001725</td>\n",
              "      <td>0.021622</td>\n",
              "      <td>0.429486</td>\n",
              "    </tr>\n",
              "    <tr>\n",
              "      <th>4</th>\n",
              "      <td>0.001725</td>\n",
              "      <td>0.027027</td>\n",
              "      <td>0.424519</td>\n",
              "    </tr>\n",
              "    <tr>\n",
              "      <th>...</th>\n",
              "      <td>...</td>\n",
              "      <td>...</td>\n",
              "      <td>...</td>\n",
              "    </tr>\n",
              "    <tr>\n",
              "      <th>62</th>\n",
              "      <td>0.427734</td>\n",
              "      <td>0.972973</td>\n",
              "      <td>0.261465</td>\n",
              "    </tr>\n",
              "    <tr>\n",
              "      <th>63</th>\n",
              "      <td>0.429458</td>\n",
              "      <td>0.972973</td>\n",
              "      <td>0.252179</td>\n",
              "    </tr>\n",
              "    <tr>\n",
              "      <th>64</th>\n",
              "      <td>0.430838</td>\n",
              "      <td>0.972973</td>\n",
              "      <td>0.238105</td>\n",
              "    </tr>\n",
              "    <tr>\n",
              "      <th>65</th>\n",
              "      <td>0.718524</td>\n",
              "      <td>1.000000</td>\n",
              "      <td>0.224491</td>\n",
              "    </tr>\n",
              "    <tr>\n",
              "      <th>66</th>\n",
              "      <td>1.000000</td>\n",
              "      <td>1.000000</td>\n",
              "      <td>0.219941</td>\n",
              "    </tr>\n",
              "  </tbody>\n",
              "</table>\n",
              "<p>67 rows × 3 columns</p>\n",
              "</div>\n",
              "      <button class=\"colab-df-convert\" onclick=\"convertToInteractive('df-a5475a5e-82eb-4a49-9281-fd481bfc1bb4')\"\n",
              "              title=\"Convert this dataframe to an interactive table.\"\n",
              "              style=\"display:none;\">\n",
              "        \n",
              "  <svg xmlns=\"http://www.w3.org/2000/svg\" height=\"24px\"viewBox=\"0 0 24 24\"\n",
              "       width=\"24px\">\n",
              "    <path d=\"M0 0h24v24H0V0z\" fill=\"none\"/>\n",
              "    <path d=\"M18.56 5.44l.94 2.06.94-2.06 2.06-.94-2.06-.94-.94-2.06-.94 2.06-2.06.94zm-11 1L8.5 8.5l.94-2.06 2.06-.94-2.06-.94L8.5 2.5l-.94 2.06-2.06.94zm10 10l.94 2.06.94-2.06 2.06-.94-2.06-.94-.94-2.06-.94 2.06-2.06.94z\"/><path d=\"M17.41 7.96l-1.37-1.37c-.4-.4-.92-.59-1.43-.59-.52 0-1.04.2-1.43.59L10.3 9.45l-7.72 7.72c-.78.78-.78 2.05 0 2.83L4 21.41c.39.39.9.59 1.41.59.51 0 1.02-.2 1.41-.59l7.78-7.78 2.81-2.81c.8-.78.8-2.07 0-2.86zM5.41 20L4 18.59l7.72-7.72 1.47 1.35L5.41 20z\"/>\n",
              "  </svg>\n",
              "      </button>\n",
              "      \n",
              "  <style>\n",
              "    .colab-df-container {\n",
              "      display:flex;\n",
              "      flex-wrap:wrap;\n",
              "      gap: 12px;\n",
              "    }\n",
              "\n",
              "    .colab-df-convert {\n",
              "      background-color: #E8F0FE;\n",
              "      border: none;\n",
              "      border-radius: 50%;\n",
              "      cursor: pointer;\n",
              "      display: none;\n",
              "      fill: #1967D2;\n",
              "      height: 32px;\n",
              "      padding: 0 0 0 0;\n",
              "      width: 32px;\n",
              "    }\n",
              "\n",
              "    .colab-df-convert:hover {\n",
              "      background-color: #E2EBFA;\n",
              "      box-shadow: 0px 1px 2px rgba(60, 64, 67, 0.3), 0px 1px 3px 1px rgba(60, 64, 67, 0.15);\n",
              "      fill: #174EA6;\n",
              "    }\n",
              "\n",
              "    [theme=dark] .colab-df-convert {\n",
              "      background-color: #3B4455;\n",
              "      fill: #D2E3FC;\n",
              "    }\n",
              "\n",
              "    [theme=dark] .colab-df-convert:hover {\n",
              "      background-color: #434B5C;\n",
              "      box-shadow: 0px 1px 3px 1px rgba(0, 0, 0, 0.15);\n",
              "      filter: drop-shadow(0px 1px 2px rgba(0, 0, 0, 0.3));\n",
              "      fill: #FFFFFF;\n",
              "    }\n",
              "  </style>\n",
              "\n",
              "      <script>\n",
              "        const buttonEl =\n",
              "          document.querySelector('#df-a5475a5e-82eb-4a49-9281-fd481bfc1bb4 button.colab-df-convert');\n",
              "        buttonEl.style.display =\n",
              "          google.colab.kernel.accessAllowed ? 'block' : 'none';\n",
              "\n",
              "        async function convertToInteractive(key) {\n",
              "          const element = document.querySelector('#df-a5475a5e-82eb-4a49-9281-fd481bfc1bb4');\n",
              "          const dataTable =\n",
              "            await google.colab.kernel.invokeFunction('convertToInteractive',\n",
              "                                                     [key], {});\n",
              "          if (!dataTable) return;\n",
              "\n",
              "          const docLinkHtml = 'Like what you see? Visit the ' +\n",
              "            '<a target=\"_blank\" href=https://colab.research.google.com/notebooks/data_table.ipynb>data table notebook</a>'\n",
              "            + ' to learn more about interactive tables.';\n",
              "          element.innerHTML = '';\n",
              "          dataTable['output_type'] = 'display_data';\n",
              "          await google.colab.output.renderOutput(dataTable, element);\n",
              "          const docLink = document.createElement('div');\n",
              "          docLink.innerHTML = docLinkHtml;\n",
              "          element.appendChild(docLink);\n",
              "        }\n",
              "      </script>\n",
              "    </div>\n",
              "  </div>\n",
              "  "
            ]
          },
          "metadata": {},
          "execution_count": 22
        }
      ]
    },
    {
      "cell_type": "markdown",
      "source": [
        "**ROC-AUC Insight**\n",
        "* 모델이 심각하게 편향된 예측을 진행함에도 불구하고, `AUC score`가 상대적으로 높게 나왔습니다.\n",
        "* 타겟 불균형이 존재할 때에는 **AUC가 실제 성능에 비해 높게 계산됩니다❗**<br/>\n",
        "\n",
        "**값 자체만을 보고 성능을 가늠하는 것이 굉장히 위험합니다** <br/>\n",
        "**💡따라서 타겟에 불균형이 존재할 경우, Confusion matrix를 직접 그려보면서 결과를 확인해야 합니다.💡**\n"
      ],
      "metadata": {
        "id": "tdx3P9KGK6K8"
      }
    },
    {
      "cell_type": "markdown",
      "source": [
        "**Confusion Matrix**\n"
      ],
      "metadata": {
        "id": "2Qsru3tiMWd3"
      }
    },
    {
      "cell_type": "code",
      "source": [
        "# 필요한 라이브러리를 가져옵니다.\n",
        "from sklearn.metrics import confusion_matrix, ConfusionMatrixDisplay\n",
        "import seaborn as sns\n",
        "\n",
        "# confusion matrix를 그릴 함수를 생성합니다.\n",
        "def plot_confusion_matrix(model, X_val_encoded, y_val):\n",
        "  # XGBClassifier인 경우\n",
        "  if isinstance(model, XGBClassifier):\n",
        "    y_pred = model.predict(X_val_encoded, iteration_range = (0, model.best_iteration))\n",
        "  # 다른 모델인 경우\n",
        "  else :\n",
        "    y_pred = model.predict(X_val_encoded)\n",
        "    \n",
        "  cm = confusion_matrix(y_val, y_pred)\n",
        "  disp = ConfusionMatrixDisplay(cm)\n",
        "  disp.plot(cmap='Blues')\n",
        "  plt.title(f'confusion_matrix : {len(y_val)}')\n",
        "  plt.show()"
      ],
      "metadata": {
        "id": "mMEFRHeKNCTS"
      },
      "execution_count": 23,
      "outputs": []
    },
    {
      "cell_type": "code",
      "source": [
        "plot_confusion_matrix(model, X_val_encoded, y_val)"
      ],
      "metadata": {
        "colab": {
          "base_uri": "https://localhost:8080/",
          "height": 295
        },
        "id": "t7yX1PeCTAAi",
        "outputId": "9c2707e1-4db4-4fe0-a1e1-9a1cb1be0226"
      },
      "execution_count": 24,
      "outputs": [
        {
          "output_type": "display_data",
          "data": {
            "text/plain": [
              "<Figure size 432x288 with 2 Axes>"
            ],
            "image/png": "[encoded data removed]"
          },
          "metadata": {
            "needs_background": "light"
          }
        }
      ]
    },
    {
      "cell_type": "markdown",
      "source": [
        "## Class - Weight : 가중치를 조절하여 모델 재학습\n",
        "* `XGBoost` 라이브러리에서는 `scale_pos_weight`파라미터를 $ {NumNegSamples}/{NumPosSamples}$로 지정해서 두 클래스의 가중치를 균일하게 조정해줄 수 있다.\n",
        "  * 타겟 불균형 문제가 매우 심각하다면 (일반적으로 > 99%)는 $ \\sqrt{{NumNegSamples}/{NumPosSamples}}$로 지정하기도 합니다.\n",
        "\n",
        "* `skearn`의 모델에서는 `class_weight`를 `balanced`로 하여 가중치를 균일하게 맞춰줍니다."
      ],
      "metadata": {
        "id": "I43vTDr5TGek"
      }
    },
    {
      "cell_type": "code",
      "source": [
        "# 가중치를 주기 위해 모델을 재생성합니다.\n",
        "# 모델 객체 인스턴스 생성.\n",
        "\n",
        "\n",
        "model = XGBClassifier(\n",
        "    objective = 'binary:logistic',\n",
        "    eval_metric = 'auc',\n",
        "    random_state = 42,\n",
        "    n_jobs = -1,\n",
        "    max_depth = 5,\n",
        "    learning_rate = 0.1,\n",
        "    early_stopping_rounds = 50,\n",
        "    scale_pos_weight = (y_val == 0).sum() / (y_val == 1).sum())\n",
        "\n",
        "\n",
        "# eval_set\n",
        "watchlist = [(X_train_encoded, y_train), (X_val_encoded, y_val)]\n",
        "\n",
        "# model.fit\n",
        "model.fit(\n",
        "    X_train_encoded, \n",
        "    y_train, \n",
        "    eval_set = watchlist)\n"
      ],
      "metadata": {
        "colab": {
          "base_uri": "https://localhost:8080/"
        },
        "id": "einP0LrCUux-",
        "outputId": "f6901aa9-8b56-4f47-e80f-947b7469d8e0"
      },
      "execution_count": 25,
      "outputs": [
        {
          "output_type": "stream",
          "name": "stdout",
          "text": [
            "[0]\tvalidation_0-auc:0.83433\tvalidation_1-auc:0.81445\n",
            "[1]\tvalidation_0-auc:0.83916\tvalidation_1-auc:0.82186\n",
            "[2]\tvalidation_0-auc:0.84068\tvalidation_1-auc:0.82422\n",
            "[3]\tvalidation_0-auc:0.84369\tvalidation_1-auc:0.82241\n",
            "[4]\tvalidation_0-auc:0.84471\tvalidation_1-auc:0.82235\n",
            "[5]\tvalidation_0-auc:0.84642\tvalidation_1-auc:0.82144\n",
            "[6]\tvalidation_0-auc:0.84788\tvalidation_1-auc:0.82101\n",
            "[7]\tvalidation_0-auc:0.84857\tvalidation_1-auc:0.82012\n",
            "[8]\tvalidation_0-auc:0.84925\tvalidation_1-auc:0.82103\n",
            "[9]\tvalidation_0-auc:0.85083\tvalidation_1-auc:0.81990\n",
            "[10]\tvalidation_0-auc:0.85290\tvalidation_1-auc:0.81946\n",
            "[11]\tvalidation_0-auc:0.85451\tvalidation_1-auc:0.82083\n",
            "[12]\tvalidation_0-auc:0.85578\tvalidation_1-auc:0.82052\n",
            "[13]\tvalidation_0-auc:0.85646\tvalidation_1-auc:0.82183\n",
            "[14]\tvalidation_0-auc:0.85774\tvalidation_1-auc:0.82076\n",
            "[15]\tvalidation_0-auc:0.85828\tvalidation_1-auc:0.81955\n",
            "[16]\tvalidation_0-auc:0.86057\tvalidation_1-auc:0.81873\n",
            "[17]\tvalidation_0-auc:0.86127\tvalidation_1-auc:0.81997\n",
            "[18]\tvalidation_0-auc:0.86168\tvalidation_1-auc:0.81973\n",
            "[19]\tvalidation_0-auc:0.86249\tvalidation_1-auc:0.81822\n",
            "[20]\tvalidation_0-auc:0.86503\tvalidation_1-auc:0.81775\n",
            "[21]\tvalidation_0-auc:0.86586\tvalidation_1-auc:0.81743\n",
            "[22]\tvalidation_0-auc:0.86784\tvalidation_1-auc:0.81712\n",
            "[23]\tvalidation_0-auc:0.86902\tvalidation_1-auc:0.81705\n",
            "[24]\tvalidation_0-auc:0.86964\tvalidation_1-auc:0.81670\n",
            "[25]\tvalidation_0-auc:0.87053\tvalidation_1-auc:0.81686\n",
            "[26]\tvalidation_0-auc:0.87216\tvalidation_1-auc:0.81608\n",
            "[27]\tvalidation_0-auc:0.87295\tvalidation_1-auc:0.81600\n",
            "[28]\tvalidation_0-auc:0.87343\tvalidation_1-auc:0.81586\n",
            "[29]\tvalidation_0-auc:0.87409\tvalidation_1-auc:0.81641\n",
            "[30]\tvalidation_0-auc:0.87498\tvalidation_1-auc:0.81597\n",
            "[31]\tvalidation_0-auc:0.87520\tvalidation_1-auc:0.81627\n",
            "[32]\tvalidation_0-auc:0.87712\tvalidation_1-auc:0.81678\n",
            "[33]\tvalidation_0-auc:0.87750\tvalidation_1-auc:0.81670\n",
            "[34]\tvalidation_0-auc:0.87889\tvalidation_1-auc:0.81655\n",
            "[35]\tvalidation_0-auc:0.87912\tvalidation_1-auc:0.81656\n",
            "[36]\tvalidation_0-auc:0.87988\tvalidation_1-auc:0.81694\n",
            "[37]\tvalidation_0-auc:0.87985\tvalidation_1-auc:0.81716\n",
            "[38]\tvalidation_0-auc:0.88028\tvalidation_1-auc:0.81671\n",
            "[39]\tvalidation_0-auc:0.88312\tvalidation_1-auc:0.81563\n",
            "[40]\tvalidation_0-auc:0.88344\tvalidation_1-auc:0.81453\n",
            "[41]\tvalidation_0-auc:0.88386\tvalidation_1-auc:0.81445\n",
            "[42]\tvalidation_0-auc:0.88394\tvalidation_1-auc:0.81493\n",
            "[43]\tvalidation_0-auc:0.88404\tvalidation_1-auc:0.81483\n",
            "[44]\tvalidation_0-auc:0.88515\tvalidation_1-auc:0.81466\n",
            "[45]\tvalidation_0-auc:0.88622\tvalidation_1-auc:0.81434\n",
            "[46]\tvalidation_0-auc:0.88851\tvalidation_1-auc:0.81326\n",
            "[47]\tvalidation_0-auc:0.89152\tvalidation_1-auc:0.81532\n",
            "[48]\tvalidation_0-auc:0.89180\tvalidation_1-auc:0.81502\n",
            "[49]\tvalidation_0-auc:0.89196\tvalidation_1-auc:0.81443\n",
            "[50]\tvalidation_0-auc:0.89216\tvalidation_1-auc:0.81407\n",
            "[51]\tvalidation_0-auc:0.89416\tvalidation_1-auc:0.81228\n",
            "[52]\tvalidation_0-auc:0.89677\tvalidation_1-auc:0.81262\n"
          ]
        },
        {
          "output_type": "execute_result",
          "data": {
            "text/plain": [
              "XGBClassifier(base_score=0.5, booster='gbtree', callbacks=None,\n",
              "              colsample_bylevel=1, colsample_bynode=1, colsample_bytree=1,\n",
              "              early_stopping_rounds=50, enable_categorical=False,\n",
              "              eval_metric='auc', feature_types=None, gamma=0, gpu_id=-1,\n",
              "              grow_policy='depthwise', importance_type=None,\n",
              "              interaction_constraints='', learning_rate=0.1, max_bin=256,\n",
              "              max_cat_threshold=64, max_cat_to_onehot=4, max_delta_step=0,\n",
              "              max_depth=5, max_leaves=0, min_child_weight=1, missing=nan,\n",
              "              monotone_constraints='()', n_estimators=100, n_jobs=-1,\n",
              "              num_parallel_tree=1, predictor='auto', random_state=42, ...)"
            ]
          },
          "metadata": {},
          "execution_count": 25
        }
      ]
    },
    {
      "cell_type": "markdown",
      "source": [
        "결과값을 확인하기 위한 함수를 생성합니다."
      ],
      "metadata": {
        "id": "55EGuNbKW-xu"
      }
    },
    {
      "cell_type": "code",
      "source": [
        "def summarize_results(model, X_val_encoded, y_val):\n",
        "  \n",
        "  # 1. Train / Val Loss Plot\n",
        "  if isinstance(model, XGBClassifier):\n",
        "    results = model.evals_result()\n",
        "    tgts = results[\"validation_0\"].keys()\n",
        "\n",
        "    for tgt in tgts:\n",
        "      train_error = results['validation_0'][tgt]\n",
        "      val_error = results['validation_1'][tgt]\n",
        "\n",
        "      # 시각화를 진행.\n",
        "      plt.plot(train_error, label = 'Train')\n",
        "      plt.plot(val_error, label = 'Validation')\n",
        "      plt.ylabel(tgt)\n",
        "      plt.xlabel('Model Complexity (n_estimators')\n",
        "      plt.legend()\n",
        "      plt.show()\n",
        "\n",
        "  # 2. Auccuracy / Classification Report\n",
        "  print('검증 정확도', model.score(X_val_encoded, y_val))\n",
        "\n",
        "  if isinstance(model, XGBClassifier):\n",
        "    y_pred = model.predict(X_val_encoded, iteration_range=(0, model.best_iteration))\n",
        "  \n",
        "  else:\n",
        "    y_pred = model.predict(X_val_encoded)\n",
        "  \n",
        "  print(classification_report(y_val, y_pred))\n",
        "\n",
        "  # 3. ROC - AUC\n",
        "  get_roc_auc(model, X_val_encoded, y_val)\n",
        "\n",
        "  # 4. Confusion Matrix\n",
        "  ConfusionMatrixDisplay.from_estimator(model, X_val_encoded, y_val, cmap ='Blues')\n",
        "  plt.show()"
      ],
      "metadata": {
        "id": "_6o08ePhWnZY"
      },
      "execution_count": 36,
      "outputs": []
    },
    {
      "cell_type": "code",
      "source": [
        "summarize_results(model, X_val_encoded, y_val)"
      ],
      "metadata": {
        "colab": {
          "base_uri": "https://localhost:8080/",
          "height": 1000
        },
        "id": "DTOC-omJZ-GS",
        "outputId": "5c31b820-bed7-43b1-b123-60f496525998"
      },
      "execution_count": 39,
      "outputs": [
        {
          "output_type": "display_data",
          "data": {
            "text/plain": [
              "<Figure size 432x288 with 1 Axes>"
            ],
            "image/png": "[encoded data removed]"
          },
          "metadata": {
            "needs_background": "light"
          }
        },
        {
          "output_type": "stream",
          "name": "stdout",
          "text": [
            "검증 정확도 0.6303501945525292\n",
            "              precision    recall  f1-score   support\n",
            "\n",
            "           0       0.99      0.62      0.76      2899\n",
            "           1       0.13      0.88      0.22       185\n",
            "\n",
            "    accuracy                           0.64      3084\n",
            "   macro avg       0.56      0.75      0.49      3084\n",
            "weighted avg       0.94      0.64      0.73      3084\n",
            "\n",
            "ROC-AUC 0.8218556258915003\n"
          ]
        },
        {
          "output_type": "display_data",
          "data": {
            "text/plain": [
              "<Figure size 432x288 with 1 Axes>"
            ],
            "image/png": "[encoded data removed]"
          },
          "metadata": {
            "needs_background": "light"
          }
        },
        {
          "output_type": "display_data",
          "data": {
            "text/plain": [
              "<Figure size 432x288 with 2 Axes>"
            ],
            "image/png": "[encoded data removed]"
          },
          "metadata": {
            "needs_background": "light"
          }
        }
      ]
    },
    {
      "cell_type": "markdown",
      "source": [
        "위 함수로 결과를 살펴보자면, `class : 0`에 대한 정확도는 다소 낮아졌지만,\n",
        "`class : 1`의 정확도를 크게 향상시켰습니다."
      ],
      "metadata": {
        "id": "W6PJ1NLEXaSa"
      }
    },
    {
      "cell_type": "markdown",
      "source": [
        "## 02. **Undersampling**\n",
        "*`imblearn` 라이브러리의 undersampling 기능을 이용하여 두 class의 샘플 수를 균일하게 맞춰준 후 학습을 진행합니다.\n",
        "* `Undersampling`은 두 클래스의 비율을 동일하게 맞춰주는 강력한 방법이지만,\n",
        "다수 클래스의 데이터에서 많은 손실이 발생한다는 단점이 존재합니다.\n",
        "* **주의❗) 검증데이터셋에는 Undersampling이 적용되지 않아야 합니다.**"
      ],
      "metadata": {
        "id": "7XF8RBJ6iqCx"
      }
    },
    {
      "cell_type": "code",
      "source": [
        "# 필요한 라이브러리를 가져오도록 합니다.\n",
        "from imblearn.under_sampling import RandomUnderSampler\n",
        "\n",
        "# 모델 : 객체 인스턴스 생성.\n",
        "model = XGBClassifier(\n",
        "    objective = 'binary:logistic',\n",
        "    eval_metric ='auc',\n",
        "    n_estimators =987654321,\n",
        "    random_state = 42,\n",
        "    n_jobs = -1,\n",
        "    max_depth = 5,\n",
        "    learning_rate = 0.1,\n",
        "    early_stopping_rounds = 50)\n",
        "\n",
        "# Undersampling\n",
        "X_train_sampled, y_train_sampled = RandomUnderSampler(random_state = 42).fit_resample(X_train_encoded, y_train)"
      ],
      "metadata": {
        "id": "czrjC7FXjhYf"
      },
      "execution_count": 41,
      "outputs": []
    },
    {
      "cell_type": "markdown",
      "source": [
        "`Undersampling`을 진행하면, 각 class의 샘플들이 동일한 비율로 샘플링된 것을 알 수 있습니다."
      ],
      "metadata": {
        "id": "hr2pmGS4kDHJ"
      }
    },
    {
      "cell_type": "code",
      "source": [
        "y_train_sampled.value_counts(normalize = True)"
      ],
      "metadata": {
        "colab": {
          "base_uri": "https://localhost:8080/"
        },
        "id": "ZVBlFzrbk1SR",
        "outputId": "fbdd978b-91ae-4a83-9b06-2136888080a2"
      },
      "execution_count": 44,
      "outputs": [
        {
          "output_type": "execute_result",
          "data": {
            "text/plain": [
              "0    0.5\n",
              "1    0.5\n",
              "Name: FraudFound_P, dtype: float64"
            ]
          },
          "metadata": {},
          "execution_count": 44
        }
      ]
    },
    {
      "cell_type": "code",
      "source": [
        "watchlist = [(X_train_sampled, y_train_sampled), (X_val_encoded, y_val)]\n",
        "\n",
        "model.fit(\n",
        "    X_train_sampled,\n",
        "    y_train_sampled,\n",
        "    eval_set =watchlist\n",
        ")"
      ],
      "metadata": {
        "colab": {
          "base_uri": "https://localhost:8080/"
        },
        "id": "PnEGkxbnk5fO",
        "outputId": "20137ab4-f9c8-4f67-b061-c2405c2b1ada"
      },
      "execution_count": 46,
      "outputs": [
        {
          "output_type": "stream",
          "name": "stdout",
          "text": [
            "[0]\tvalidation_0-auc:0.84146\tvalidation_1-auc:0.80548\n",
            "[1]\tvalidation_0-auc:0.84545\tvalidation_1-auc:0.80839\n",
            "[2]\tvalidation_0-auc:0.84752\tvalidation_1-auc:0.81084\n",
            "[3]\tvalidation_0-auc:0.85192\tvalidation_1-auc:0.81892\n",
            "[4]\tvalidation_0-auc:0.86051\tvalidation_1-auc:0.81784\n",
            "[5]\tvalidation_0-auc:0.86292\tvalidation_1-auc:0.81678\n",
            "[6]\tvalidation_0-auc:0.86505\tvalidation_1-auc:0.81782\n",
            "[7]\tvalidation_0-auc:0.86654\tvalidation_1-auc:0.81828\n",
            "[8]\tvalidation_0-auc:0.87012\tvalidation_1-auc:0.81947\n",
            "[9]\tvalidation_0-auc:0.87476\tvalidation_1-auc:0.82031\n",
            "[10]\tvalidation_0-auc:0.87498\tvalidation_1-auc:0.81572\n",
            "[11]\tvalidation_0-auc:0.87692\tvalidation_1-auc:0.81888\n",
            "[12]\tvalidation_0-auc:0.87932\tvalidation_1-auc:0.82111\n",
            "[13]\tvalidation_0-auc:0.88421\tvalidation_1-auc:0.81981\n",
            "[14]\tvalidation_0-auc:0.88594\tvalidation_1-auc:0.82073\n",
            "[15]\tvalidation_0-auc:0.88724\tvalidation_1-auc:0.82138\n",
            "[16]\tvalidation_0-auc:0.88994\tvalidation_1-auc:0.82096\n",
            "[17]\tvalidation_0-auc:0.89065\tvalidation_1-auc:0.82100\n",
            "[18]\tvalidation_0-auc:0.89315\tvalidation_1-auc:0.81972\n",
            "[19]\tvalidation_0-auc:0.89498\tvalidation_1-auc:0.81968\n",
            "[20]\tvalidation_0-auc:0.89953\tvalidation_1-auc:0.82009\n",
            "[21]\tvalidation_0-auc:0.90187\tvalidation_1-auc:0.82107\n",
            "[22]\tvalidation_0-auc:0.90501\tvalidation_1-auc:0.82212\n",
            "[23]\tvalidation_0-auc:0.90705\tvalidation_1-auc:0.82230\n",
            "[24]\tvalidation_0-auc:0.90898\tvalidation_1-auc:0.82287\n",
            "[25]\tvalidation_0-auc:0.91200\tvalidation_1-auc:0.82402\n",
            "[26]\tvalidation_0-auc:0.91450\tvalidation_1-auc:0.82424\n",
            "[27]\tvalidation_0-auc:0.91787\tvalidation_1-auc:0.82329\n",
            "[28]\tvalidation_0-auc:0.91982\tvalidation_1-auc:0.82295\n",
            "[29]\tvalidation_0-auc:0.92054\tvalidation_1-auc:0.82266\n",
            "[30]\tvalidation_0-auc:0.92170\tvalidation_1-auc:0.82335\n",
            "[31]\tvalidation_0-auc:0.92362\tvalidation_1-auc:0.82220\n",
            "[32]\tvalidation_0-auc:0.92561\tvalidation_1-auc:0.82217\n",
            "[33]\tvalidation_0-auc:0.93053\tvalidation_1-auc:0.82294\n",
            "[34]\tvalidation_0-auc:0.93411\tvalidation_1-auc:0.82325\n",
            "[35]\tvalidation_0-auc:0.93567\tvalidation_1-auc:0.82271\n",
            "[36]\tvalidation_0-auc:0.93624\tvalidation_1-auc:0.82355\n",
            "[37]\tvalidation_0-auc:0.93851\tvalidation_1-auc:0.82231\n",
            "[38]\tvalidation_0-auc:0.93849\tvalidation_1-auc:0.82168\n",
            "[39]\tvalidation_0-auc:0.93933\tvalidation_1-auc:0.82173\n",
            "[40]\tvalidation_0-auc:0.93959\tvalidation_1-auc:0.82185\n",
            "[41]\tvalidation_0-auc:0.94016\tvalidation_1-auc:0.82160\n",
            "[42]\tvalidation_0-auc:0.94068\tvalidation_1-auc:0.82092\n",
            "[43]\tvalidation_0-auc:0.94090\tvalidation_1-auc:0.81952\n",
            "[44]\tvalidation_0-auc:0.94328\tvalidation_1-auc:0.82009\n",
            "[45]\tvalidation_0-auc:0.94418\tvalidation_1-auc:0.82025\n",
            "[46]\tvalidation_0-auc:0.94403\tvalidation_1-auc:0.82003\n",
            "[47]\tvalidation_0-auc:0.94551\tvalidation_1-auc:0.81990\n",
            "[48]\tvalidation_0-auc:0.94637\tvalidation_1-auc:0.81989\n",
            "[49]\tvalidation_0-auc:0.94787\tvalidation_1-auc:0.82047\n",
            "[50]\tvalidation_0-auc:0.94798\tvalidation_1-auc:0.82086\n",
            "[51]\tvalidation_0-auc:0.94836\tvalidation_1-auc:0.82030\n",
            "[52]\tvalidation_0-auc:0.94909\tvalidation_1-auc:0.81987\n",
            "[53]\tvalidation_0-auc:0.95060\tvalidation_1-auc:0.82167\n",
            "[54]\tvalidation_0-auc:0.95105\tvalidation_1-auc:0.82134\n",
            "[55]\tvalidation_0-auc:0.95294\tvalidation_1-auc:0.82074\n",
            "[56]\tvalidation_0-auc:0.95416\tvalidation_1-auc:0.82033\n",
            "[57]\tvalidation_0-auc:0.95491\tvalidation_1-auc:0.82040\n",
            "[58]\tvalidation_0-auc:0.95669\tvalidation_1-auc:0.81995\n",
            "[59]\tvalidation_0-auc:0.95705\tvalidation_1-auc:0.82053\n",
            "[60]\tvalidation_0-auc:0.95833\tvalidation_1-auc:0.81961\n",
            "[61]\tvalidation_0-auc:0.95958\tvalidation_1-auc:0.81957\n",
            "[62]\tvalidation_0-auc:0.96050\tvalidation_1-auc:0.81926\n",
            "[63]\tvalidation_0-auc:0.96182\tvalidation_1-auc:0.81937\n",
            "[64]\tvalidation_0-auc:0.96241\tvalidation_1-auc:0.81913\n",
            "[65]\tvalidation_0-auc:0.96247\tvalidation_1-auc:0.81917\n",
            "[66]\tvalidation_0-auc:0.96337\tvalidation_1-auc:0.81984\n",
            "[67]\tvalidation_0-auc:0.96433\tvalidation_1-auc:0.82012\n",
            "[68]\tvalidation_0-auc:0.96595\tvalidation_1-auc:0.81952\n",
            "[69]\tvalidation_0-auc:0.96657\tvalidation_1-auc:0.82022\n",
            "[70]\tvalidation_0-auc:0.96778\tvalidation_1-auc:0.82078\n",
            "[71]\tvalidation_0-auc:0.96830\tvalidation_1-auc:0.82150\n",
            "[72]\tvalidation_0-auc:0.96821\tvalidation_1-auc:0.82109\n",
            "[73]\tvalidation_0-auc:0.96885\tvalidation_1-auc:0.82081\n",
            "[74]\tvalidation_0-auc:0.96951\tvalidation_1-auc:0.82066\n",
            "[75]\tvalidation_0-auc:0.97179\tvalidation_1-auc:0.81994\n"
          ]
        },
        {
          "output_type": "execute_result",
          "data": {
            "text/plain": [
              "XGBClassifier(base_score=0.5, booster='gbtree', callbacks=None,\n",
              "              colsample_bylevel=1, colsample_bynode=1, colsample_bytree=1,\n",
              "              early_stopping_rounds=50, enable_categorical=False,\n",
              "              eval_metric='auc', feature_types=None, gamma=0, gpu_id=-1,\n",
              "              grow_policy='depthwise', importance_type=None,\n",
              "              interaction_constraints='', learning_rate=0.1, max_bin=256,\n",
              "              max_cat_threshold=64, max_cat_to_onehot=4, max_delta_step=0,\n",
              "              max_depth=5, max_leaves=0, min_child_weight=1, missing=nan,\n",
              "              monotone_constraints='()', n_estimators=987654321, n_jobs=-1,\n",
              "              num_parallel_tree=1, predictor='auto', random_state=42, ...)"
            ]
          },
          "metadata": {},
          "execution_count": 46
        }
      ]
    },
    {
      "cell_type": "code",
      "source": [
        "summarize_results(model, X_val_encoded, y_val)"
      ],
      "metadata": {
        "colab": {
          "base_uri": "https://localhost:8080/",
          "height": 1000
        },
        "id": "bc3T9qNyoarx",
        "outputId": "e1e7e02d-ecbb-4b3f-d1e0-5284252c94eb"
      },
      "execution_count": 47,
      "outputs": [
        {
          "output_type": "display_data",
          "data": {
            "text/plain": [
              "<Figure size 432x288 with 1 Axes>"
            ],
            "image/png": "[encoded data removed]"
          },
          "metadata": {
            "needs_background": "light"
          }
        },
        {
          "output_type": "stream",
          "name": "stdout",
          "text": [
            "검증 정확도 0.6245136186770428\n",
            "              precision    recall  f1-score   support\n",
            "\n",
            "           0       0.99      0.60      0.75      2899\n",
            "           1       0.13      0.95      0.23       185\n",
            "\n",
            "    accuracy                           0.62      3084\n",
            "   macro avg       0.56      0.77      0.49      3084\n",
            "weighted avg       0.94      0.62      0.72      3084\n",
            "\n",
            "ROC-AUC 0.8240222630357159\n"
          ]
        },
        {
          "output_type": "display_data",
          "data": {
            "text/plain": [
              "<Figure size 432x288 with 1 Axes>"
            ],
            "image/png": "[encoded data removed]"
          },
          "metadata": {
            "needs_background": "light"
          }
        },
        {
          "output_type": "display_data",
          "data": {
            "text/plain": [
              "<Figure size 432x288 with 2 Axes>"
            ],
            "image/png": "[encoded data removed]"
          },
          "metadata": {
            "needs_background": "light"
          }
        }
      ]
    },
    {
      "cell_type": "markdown",
      "source": [
        "* 마찬가지로  `class : 0`에 대한 정확도를 다소 희생하였지만, `class : 1`에 대한 정확도를 향상시켰습니다.\n",
        "* 불균형 문제가 심각할 때, `class_weight`를 사용함에도 학습이 잘 진행되지 않고, 여전히 편향되거나 안정적이지 않은 예측결과가 나오는 경우가 종종 존재합니다.\n",
        "  * 이럴 때 `undersampling`은 `oversampling`에 비하여 안정적이면서도 두 class의 균형을 맞추어주는 방법입니다.\n",
        "* 주의❗) 하지만 학습에 사용된 데이터의 수가 크게 감소하게 됩니다.<br/>\n",
        "이렇게되면, **학습 자체가 이루어지지 않거나 예상보다 낮은 성능 결과를 반환할 수 있습니다.**"
      ],
      "metadata": {
        "id": "1rVr5Ajyou6E"
      }
    },
    {
      "cell_type": "markdown",
      "source": [
        "## 03. **Oversampling**\n",
        "* `imblearn` 라이브러리의 Oversmapling 기능을 이용해보고자 합니다.\n",
        "* Oversampling은 소수의 클래스의 기존 데이터들과 유사한 합성 데이터들을 만들어서 데이터 수를 늘리는 방식이다.\n",
        "* **주의❗) 검증 데이터셋에서는 Oversampling이 적용되지 않아야 한다.**"
      ],
      "metadata": {
        "id": "hETrJhWSp9do"
      }
    },
    {
      "cell_type": "code",
      "source": [
        "# 필요한 라이브러리를 가져옵니다.\n",
        "from imblearn.over_sampling import SMOTE\n",
        "\n",
        "# 모델 객체 생성.\n",
        "model = XGBClassifier(\n",
        "    objective ='binary:logistic',\n",
        "    eval_metric = 'auc',\n",
        "    n_estimators = 987654321,\n",
        "    random_state = 42,\n",
        "    n_jobs = -1,\n",
        "    max_depth = 5,\n",
        "    learning_rate = 0.1,\n",
        "    early_stopping_rounds = 50\n",
        ")\n",
        "\n",
        "# oversampling 진행\n",
        "X_train_sampled, y_train_sampled = SMOTE(random_state =42).fit_resample(X_train_encoded, y_train)"
      ],
      "metadata": {
        "id": "lNzJ7vydte78"
      },
      "execution_count": 51,
      "outputs": []
    },
    {
      "cell_type": "markdown",
      "source": [
        "타겟 데이터의 빈도수를 확인해보면 `class :0`의 개수만큼 `class:1`의 개수 또한 늘어난 것을 확인할 수 있습니다."
      ],
      "metadata": {
        "id": "BT0-QM2xvi6_"
      }
    },
    {
      "cell_type": "code",
      "source": [
        "# target의 상태를 확인하여 봅시다.\n",
        "y_train_sampled.value_counts()"
      ],
      "metadata": {
        "colab": {
          "base_uri": "https://localhost:8080/"
        },
        "id": "QaatNfeWvYEC",
        "outputId": "a3a0b77c-abc2-4439-ec55-b81ddcb662e7"
      },
      "execution_count": 49,
      "outputs": [
        {
          "output_type": "execute_result",
          "data": {
            "text/plain": [
              "0    11598\n",
              "1    11598\n",
              "Name: FraudFound_P, dtype: int64"
            ]
          },
          "metadata": {},
          "execution_count": 49
        }
      ]
    },
    {
      "cell_type": "code",
      "source": [
        "watchlist = [(X_train_sampled, y_train_sampled), (X_val_encoded, y_val)]\n",
        "\n",
        "model.fit(\n",
        "    X_train_sampled,\n",
        "    y_train_sampled,\n",
        "    eval_set=watchlist\n",
        ")"
      ],
      "metadata": {
        "colab": {
          "base_uri": "https://localhost:8080/"
        },
        "id": "dCTVE0s2v17K",
        "outputId": "04dbd029-5bd2-432b-c461-db2ca3d3caa8"
      },
      "execution_count": 52,
      "outputs": [
        {
          "output_type": "stream",
          "name": "stdout",
          "text": [
            "[0]\tvalidation_0-auc:0.87761\tvalidation_1-auc:0.77710\n",
            "[1]\tvalidation_0-auc:0.88557\tvalidation_1-auc:0.77809\n",
            "[2]\tvalidation_0-auc:0.90162\tvalidation_1-auc:0.77414\n",
            "[3]\tvalidation_0-auc:0.90342\tvalidation_1-auc:0.77543\n",
            "[4]\tvalidation_0-auc:0.91713\tvalidation_1-auc:0.77857\n",
            "[5]\tvalidation_0-auc:0.92188\tvalidation_1-auc:0.77560\n",
            "[6]\tvalidation_0-auc:0.92162\tvalidation_1-auc:0.77479\n",
            "[7]\tvalidation_0-auc:0.92384\tvalidation_1-auc:0.77546\n",
            "[8]\tvalidation_0-auc:0.92558\tvalidation_1-auc:0.77922\n",
            "[9]\tvalidation_0-auc:0.92551\tvalidation_1-auc:0.77763\n",
            "[10]\tvalidation_0-auc:0.92644\tvalidation_1-auc:0.77625\n",
            "[11]\tvalidation_0-auc:0.92892\tvalidation_1-auc:0.77819\n",
            "[12]\tvalidation_0-auc:0.93598\tvalidation_1-auc:0.78047\n",
            "[13]\tvalidation_0-auc:0.93561\tvalidation_1-auc:0.78045\n",
            "[14]\tvalidation_0-auc:0.93727\tvalidation_1-auc:0.78002\n",
            "[15]\tvalidation_0-auc:0.93803\tvalidation_1-auc:0.77772\n",
            "[16]\tvalidation_0-auc:0.93910\tvalidation_1-auc:0.77881\n",
            "[17]\tvalidation_0-auc:0.94035\tvalidation_1-auc:0.77938\n",
            "[18]\tvalidation_0-auc:0.94067\tvalidation_1-auc:0.77858\n",
            "[19]\tvalidation_0-auc:0.94120\tvalidation_1-auc:0.78018\n",
            "[20]\tvalidation_0-auc:0.94313\tvalidation_1-auc:0.78051\n",
            "[21]\tvalidation_0-auc:0.94585\tvalidation_1-auc:0.78138\n",
            "[22]\tvalidation_0-auc:0.94643\tvalidation_1-auc:0.78251\n",
            "[23]\tvalidation_0-auc:0.94761\tvalidation_1-auc:0.78421\n",
            "[24]\tvalidation_0-auc:0.94991\tvalidation_1-auc:0.78475\n",
            "[25]\tvalidation_0-auc:0.95024\tvalidation_1-auc:0.78443\n",
            "[26]\tvalidation_0-auc:0.95094\tvalidation_1-auc:0.78417\n",
            "[27]\tvalidation_0-auc:0.95183\tvalidation_1-auc:0.78497\n",
            "[28]\tvalidation_0-auc:0.95219\tvalidation_1-auc:0.78543\n",
            "[29]\tvalidation_0-auc:0.95418\tvalidation_1-auc:0.78528\n",
            "[30]\tvalidation_0-auc:0.95478\tvalidation_1-auc:0.78505\n",
            "[31]\tvalidation_0-auc:0.95542\tvalidation_1-auc:0.78501\n",
            "[32]\tvalidation_0-auc:0.95677\tvalidation_1-auc:0.78591\n",
            "[33]\tvalidation_0-auc:0.95723\tvalidation_1-auc:0.78518\n",
            "[34]\tvalidation_0-auc:0.95764\tvalidation_1-auc:0.78594\n",
            "[35]\tvalidation_0-auc:0.95798\tvalidation_1-auc:0.78597\n",
            "[36]\tvalidation_0-auc:0.95889\tvalidation_1-auc:0.78573\n",
            "[37]\tvalidation_0-auc:0.95961\tvalidation_1-auc:0.78614\n",
            "[38]\tvalidation_0-auc:0.96064\tvalidation_1-auc:0.78647\n",
            "[39]\tvalidation_0-auc:0.96099\tvalidation_1-auc:0.78583\n",
            "[40]\tvalidation_0-auc:0.96141\tvalidation_1-auc:0.78486\n",
            "[41]\tvalidation_0-auc:0.96205\tvalidation_1-auc:0.78518\n",
            "[42]\tvalidation_0-auc:0.96255\tvalidation_1-auc:0.78461\n",
            "[43]\tvalidation_0-auc:0.96269\tvalidation_1-auc:0.78543\n",
            "[44]\tvalidation_0-auc:0.96270\tvalidation_1-auc:0.78511\n",
            "[45]\tvalidation_0-auc:0.96361\tvalidation_1-auc:0.78651\n",
            "[46]\tvalidation_0-auc:0.96427\tvalidation_1-auc:0.78611\n",
            "[47]\tvalidation_0-auc:0.96445\tvalidation_1-auc:0.78574\n",
            "[48]\tvalidation_0-auc:0.96492\tvalidation_1-auc:0.78548\n",
            "[49]\tvalidation_0-auc:0.96541\tvalidation_1-auc:0.78524\n",
            "[50]\tvalidation_0-auc:0.96578\tvalidation_1-auc:0.78444\n",
            "[51]\tvalidation_0-auc:0.96630\tvalidation_1-auc:0.78370\n",
            "[52]\tvalidation_0-auc:0.96720\tvalidation_1-auc:0.78489\n",
            "[53]\tvalidation_0-auc:0.96755\tvalidation_1-auc:0.78440\n",
            "[54]\tvalidation_0-auc:0.96770\tvalidation_1-auc:0.78470\n",
            "[55]\tvalidation_0-auc:0.96808\tvalidation_1-auc:0.78474\n",
            "[56]\tvalidation_0-auc:0.96823\tvalidation_1-auc:0.78399\n",
            "[57]\tvalidation_0-auc:0.96885\tvalidation_1-auc:0.78548\n",
            "[58]\tvalidation_0-auc:0.96910\tvalidation_1-auc:0.78506\n",
            "[59]\tvalidation_0-auc:0.96946\tvalidation_1-auc:0.78462\n",
            "[60]\tvalidation_0-auc:0.96977\tvalidation_1-auc:0.78439\n",
            "[61]\tvalidation_0-auc:0.97008\tvalidation_1-auc:0.78533\n",
            "[62]\tvalidation_0-auc:0.97022\tvalidation_1-auc:0.78498\n",
            "[63]\tvalidation_0-auc:0.97050\tvalidation_1-auc:0.78569\n",
            "[64]\tvalidation_0-auc:0.97056\tvalidation_1-auc:0.78565\n",
            "[65]\tvalidation_0-auc:0.97112\tvalidation_1-auc:0.78622\n",
            "[66]\tvalidation_0-auc:0.97174\tvalidation_1-auc:0.78622\n",
            "[67]\tvalidation_0-auc:0.97194\tvalidation_1-auc:0.78590\n",
            "[68]\tvalidation_0-auc:0.97206\tvalidation_1-auc:0.78602\n",
            "[69]\tvalidation_0-auc:0.97238\tvalidation_1-auc:0.78555\n",
            "[70]\tvalidation_0-auc:0.97291\tvalidation_1-auc:0.78535\n",
            "[71]\tvalidation_0-auc:0.97326\tvalidation_1-auc:0.78486\n",
            "[72]\tvalidation_0-auc:0.97390\tvalidation_1-auc:0.78450\n",
            "[73]\tvalidation_0-auc:0.97394\tvalidation_1-auc:0.78452\n",
            "[74]\tvalidation_0-auc:0.97441\tvalidation_1-auc:0.78473\n",
            "[75]\tvalidation_0-auc:0.97493\tvalidation_1-auc:0.78477\n",
            "[76]\tvalidation_0-auc:0.97510\tvalidation_1-auc:0.78389\n",
            "[77]\tvalidation_0-auc:0.97543\tvalidation_1-auc:0.78396\n",
            "[78]\tvalidation_0-auc:0.97555\tvalidation_1-auc:0.78406\n",
            "[79]\tvalidation_0-auc:0.97572\tvalidation_1-auc:0.78401\n",
            "[80]\tvalidation_0-auc:0.97594\tvalidation_1-auc:0.78418\n",
            "[81]\tvalidation_0-auc:0.97600\tvalidation_1-auc:0.78357\n",
            "[82]\tvalidation_0-auc:0.97619\tvalidation_1-auc:0.78364\n",
            "[83]\tvalidation_0-auc:0.97636\tvalidation_1-auc:0.78347\n",
            "[84]\tvalidation_0-auc:0.97652\tvalidation_1-auc:0.78355\n",
            "[85]\tvalidation_0-auc:0.97674\tvalidation_1-auc:0.78378\n",
            "[86]\tvalidation_0-auc:0.97710\tvalidation_1-auc:0.78351\n",
            "[87]\tvalidation_0-auc:0.97732\tvalidation_1-auc:0.78351\n",
            "[88]\tvalidation_0-auc:0.97736\tvalidation_1-auc:0.78314\n",
            "[89]\tvalidation_0-auc:0.97747\tvalidation_1-auc:0.78330\n",
            "[90]\tvalidation_0-auc:0.97748\tvalidation_1-auc:0.78285\n",
            "[91]\tvalidation_0-auc:0.97758\tvalidation_1-auc:0.78289\n",
            "[92]\tvalidation_0-auc:0.97790\tvalidation_1-auc:0.78233\n",
            "[93]\tvalidation_0-auc:0.97797\tvalidation_1-auc:0.78243\n",
            "[94]\tvalidation_0-auc:0.97815\tvalidation_1-auc:0.78303\n",
            "[95]\tvalidation_0-auc:0.97846\tvalidation_1-auc:0.78324\n"
          ]
        },
        {
          "output_type": "execute_result",
          "data": {
            "text/plain": [
              "XGBClassifier(base_score=0.5, booster='gbtree', callbacks=None,\n",
              "              colsample_bylevel=1, colsample_bynode=1, colsample_bytree=1,\n",
              "              early_stopping_rounds=50, enable_categorical=False,\n",
              "              eval_metric='auc', feature_types=None, gamma=0, gpu_id=-1,\n",
              "              grow_policy='depthwise', importance_type=None,\n",
              "              interaction_constraints='', learning_rate=0.1, max_bin=256,\n",
              "              max_cat_threshold=64, max_cat_to_onehot=4, max_delta_step=0,\n",
              "              max_depth=5, max_leaves=0, min_child_weight=1, missing=nan,\n",
              "              monotone_constraints='()', n_estimators=987654321, n_jobs=-1,\n",
              "              num_parallel_tree=1, predictor='auto', random_state=42, ...)"
            ]
          },
          "metadata": {},
          "execution_count": 52
        }
      ]
    },
    {
      "cell_type": "markdown",
      "source": [
        "OVERSAMPLING의 결과를 살펴보았을 때, 가중치 및 UNDERSAMPLING의 `class : 1`의 재현율이 보다 떨어지는 것을 확인할 수 있습니다."
      ],
      "metadata": {
        "id": "3iTTz_POwJW-"
      }
    },
    {
      "cell_type": "code",
      "source": [
        "summarize_results(model, X_val_encoded, y_val)"
      ],
      "metadata": {
        "colab": {
          "base_uri": "https://localhost:8080/",
          "height": 1000
        },
        "id": "Tx5fbWX_v7Em",
        "outputId": "b975b2ca-0325-4101-8caa-c9dd0d75153a"
      },
      "execution_count": 53,
      "outputs": [
        {
          "output_type": "display_data",
          "data": {
            "text/plain": [
              "<Figure size 432x288 with 1 Axes>"
            ],
            "image/png": "[encoded data removed]"
          },
          "metadata": {
            "needs_background": "light"
          }
        },
        {
          "output_type": "stream",
          "name": "stdout",
          "text": [
            "검증 정확도 0.8057717250324254\n",
            "              precision    recall  f1-score   support\n",
            "\n",
            "           0       0.96      0.83      0.89      2899\n",
            "           1       0.14      0.44      0.21       185\n",
            "\n",
            "    accuracy                           0.81      3084\n",
            "   macro avg       0.55      0.64      0.55      3084\n",
            "weighted avg       0.91      0.81      0.85      3084\n",
            "\n",
            "ROC-AUC 0.7851104295050484\n"
          ]
        },
        {
          "output_type": "display_data",
          "data": {
            "text/plain": [
              "<Figure size 432x288 with 1 Axes>"
            ],
            "image/png": "[encoded data removed]"
          },
          "metadata": {
            "needs_background": "light"
          }
        },
        {
          "output_type": "display_data",
          "data": {
            "text/plain": [
              "<Figure size 432x288 with 2 Axes>"
            ],
            "image/png": "[encoded data removed]"
          },
          "metadata": {
            "needs_background": "light"
          }
        }
      ]
    },
    {
      "cell_type": "markdown",
      "source": [
        "## 04. **Oversampling + Undersampling**\n",
        "\n",
        "* Oversampling의 경우 기존 데이터를 기반으로 새로운 데이터를 합성하는 방법입니다.\n",
        "  * 그렇기 때문에 새로 생성된 합성 데이터들이 noisy 하다는 문제가 존재합니다.\n",
        "  * Note❗)위와 같은 문제를 해결하는 방법중 하나가 **Oversampling + Undersampling**입니다.\n"
      ],
      "metadata": {
        "id": "bXWglZ24wdte"
      }
    },
    {
      "cell_type": "markdown",
      "source": [
        "* 데이터를 `Oversampling`으로 합성한 후, 생성된 데이터들 중 노이즈가 큰 데이터들을 `Undersampling`으로 정리합니다."
      ],
      "metadata": {
        "id": "yrfDtNkfxXQX"
      }
    },
    {
      "cell_type": "code",
      "source": [
        "# 필요한 라이브러리를 가져옵니다.\n",
        "from imblearn.combine import SMOTEENN\n",
        "\n",
        "# over&under sampling 적용\n",
        "X_train_sampled, y_train_sampled = SMOTEENN(random_state = 42).fit_resample(X_train_encoded, y_train)\n",
        "\n",
        "# model 생성.\n",
        "model = XGBClassifier(\n",
        "    objective=\"binary:logistic\",\n",
        "    eval_metric=\"auc\",\n",
        "    n_estimators=987654321,\n",
        "    random_state=42,\n",
        "    n_jobs=-1,\n",
        "    max_depth=5,\n",
        "    learning_rate=0.1,\n",
        "    early_stopping_rounds = 50,\n",
        "    scale_pos_weight=(y_train_sampled == 0).sum() / (y_train_sampled == 1).sum(),\n",
        ")"
      ],
      "metadata": {
        "id": "hOpcIEloxmru"
      },
      "execution_count": 54,
      "outputs": []
    },
    {
      "cell_type": "code",
      "source": [
        "# class:1 데이터가 class:0 데이터만큼 생성되었다가 노이즈가 정리되었으므로, 결과적으로 각 타겟 데이터가 동일한 비율은 아니지만 class:1 데이터가 일부 새로 생성되었습니다.\n",
        "y_train_sampled.value_counts()"
      ],
      "metadata": {
        "id": "Y_X7_pBS1XuH",
        "outputId": "8b0dbbdd-81df-40af-e3d9-c430074e3961",
        "colab": {
          "base_uri": "https://localhost:8080/"
        }
      },
      "execution_count": 55,
      "outputs": [
        {
          "output_type": "execute_result",
          "data": {
            "text/plain": [
              "1    11575\n",
              "0     6777\n",
              "Name: FraudFound_P, dtype: int64"
            ]
          },
          "metadata": {},
          "execution_count": 55
        }
      ]
    },
    {
      "cell_type": "code",
      "source": [
        "watchlist = [(X_train_sampled, y_train_sampled), (X_val_encoded, y_val)]\n",
        "\n",
        "model.fit(\n",
        "    X_train_sampled,\n",
        "    y_train_sampled,\n",
        "    eval_set=watchlist)"
      ],
      "metadata": {
        "id": "Kua7ASCJ1mPo",
        "outputId": "f587dbb2-4f1e-459e-ed27-ebab4b9510b7",
        "colab": {
          "base_uri": "https://localhost:8080/"
        }
      },
      "execution_count": 56,
      "outputs": [
        {
          "output_type": "stream",
          "name": "stdout",
          "text": [
            "[0]\tvalidation_0-auc:0.89297\tvalidation_1-auc:0.77613\n",
            "[1]\tvalidation_0-auc:0.89596\tvalidation_1-auc:0.77168\n",
            "[2]\tvalidation_0-auc:0.91558\tvalidation_1-auc:0.77248\n",
            "[3]\tvalidation_0-auc:0.92939\tvalidation_1-auc:0.78054\n",
            "[4]\tvalidation_0-auc:0.92889\tvalidation_1-auc:0.77755\n",
            "[5]\tvalidation_0-auc:0.93317\tvalidation_1-auc:0.77868\n",
            "[6]\tvalidation_0-auc:0.93550\tvalidation_1-auc:0.77955\n",
            "[7]\tvalidation_0-auc:0.93503\tvalidation_1-auc:0.77771\n",
            "[8]\tvalidation_0-auc:0.93637\tvalidation_1-auc:0.77751\n",
            "[9]\tvalidation_0-auc:0.93772\tvalidation_1-auc:0.77906\n",
            "[10]\tvalidation_0-auc:0.93752\tvalidation_1-auc:0.77934\n",
            "[11]\tvalidation_0-auc:0.93956\tvalidation_1-auc:0.77781\n",
            "[12]\tvalidation_0-auc:0.94063\tvalidation_1-auc:0.77799\n",
            "[13]\tvalidation_0-auc:0.94456\tvalidation_1-auc:0.77666\n",
            "[14]\tvalidation_0-auc:0.94454\tvalidation_1-auc:0.77791\n",
            "[15]\tvalidation_0-auc:0.94601\tvalidation_1-auc:0.77808\n",
            "[16]\tvalidation_0-auc:0.94853\tvalidation_1-auc:0.77819\n",
            "[17]\tvalidation_0-auc:0.94935\tvalidation_1-auc:0.77637\n",
            "[18]\tvalidation_0-auc:0.95066\tvalidation_1-auc:0.77859\n",
            "[19]\tvalidation_0-auc:0.95167\tvalidation_1-auc:0.77805\n",
            "[20]\tvalidation_0-auc:0.95512\tvalidation_1-auc:0.78006\n",
            "[21]\tvalidation_0-auc:0.95589\tvalidation_1-auc:0.77926\n",
            "[22]\tvalidation_0-auc:0.95753\tvalidation_1-auc:0.77922\n",
            "[23]\tvalidation_0-auc:0.95814\tvalidation_1-auc:0.77925\n",
            "[24]\tvalidation_0-auc:0.95892\tvalidation_1-auc:0.77973\n",
            "[25]\tvalidation_0-auc:0.95955\tvalidation_1-auc:0.77899\n",
            "[26]\tvalidation_0-auc:0.95984\tvalidation_1-auc:0.77880\n",
            "[27]\tvalidation_0-auc:0.96057\tvalidation_1-auc:0.77950\n",
            "[28]\tvalidation_0-auc:0.96104\tvalidation_1-auc:0.77890\n",
            "[29]\tvalidation_0-auc:0.96286\tvalidation_1-auc:0.77928\n",
            "[30]\tvalidation_0-auc:0.96388\tvalidation_1-auc:0.78015\n",
            "[31]\tvalidation_0-auc:0.96406\tvalidation_1-auc:0.77892\n",
            "[32]\tvalidation_0-auc:0.96494\tvalidation_1-auc:0.77913\n",
            "[33]\tvalidation_0-auc:0.96619\tvalidation_1-auc:0.77942\n",
            "[34]\tvalidation_0-auc:0.96669\tvalidation_1-auc:0.77883\n",
            "[35]\tvalidation_0-auc:0.96686\tvalidation_1-auc:0.77863\n",
            "[36]\tvalidation_0-auc:0.96747\tvalidation_1-auc:0.77914\n",
            "[37]\tvalidation_0-auc:0.96822\tvalidation_1-auc:0.77880\n",
            "[38]\tvalidation_0-auc:0.96828\tvalidation_1-auc:0.77922\n",
            "[39]\tvalidation_0-auc:0.96870\tvalidation_1-auc:0.77939\n",
            "[40]\tvalidation_0-auc:0.96953\tvalidation_1-auc:0.77939\n",
            "[41]\tvalidation_0-auc:0.96979\tvalidation_1-auc:0.77852\n",
            "[42]\tvalidation_0-auc:0.97058\tvalidation_1-auc:0.77823\n",
            "[43]\tvalidation_0-auc:0.97064\tvalidation_1-auc:0.77784\n",
            "[44]\tvalidation_0-auc:0.97103\tvalidation_1-auc:0.77814\n",
            "[45]\tvalidation_0-auc:0.97148\tvalidation_1-auc:0.77788\n",
            "[46]\tvalidation_0-auc:0.97169\tvalidation_1-auc:0.77693\n",
            "[47]\tvalidation_0-auc:0.97218\tvalidation_1-auc:0.77557\n",
            "[48]\tvalidation_0-auc:0.97227\tvalidation_1-auc:0.77569\n",
            "[49]\tvalidation_0-auc:0.97275\tvalidation_1-auc:0.77462\n",
            "[50]\tvalidation_0-auc:0.97324\tvalidation_1-auc:0.77313\n",
            "[51]\tvalidation_0-auc:0.97340\tvalidation_1-auc:0.77402\n",
            "[52]\tvalidation_0-auc:0.97359\tvalidation_1-auc:0.77375\n"
          ]
        },
        {
          "output_type": "execute_result",
          "data": {
            "text/plain": [
              "XGBClassifier(base_score=0.5, booster='gbtree', callbacks=None,\n",
              "              colsample_bylevel=1, colsample_bynode=1, colsample_bytree=1,\n",
              "              early_stopping_rounds=50, enable_categorical=False,\n",
              "              eval_metric='auc', feature_types=None, gamma=0, gpu_id=-1,\n",
              "              grow_policy='depthwise', importance_type=None,\n",
              "              interaction_constraints='', learning_rate=0.1, max_bin=256,\n",
              "              max_cat_threshold=64, max_cat_to_onehot=4, max_delta_step=0,\n",
              "              max_depth=5, max_leaves=0, min_child_weight=1, missing=nan,\n",
              "              monotone_constraints='()', n_estimators=987654321, n_jobs=-1,\n",
              "              num_parallel_tree=1, predictor='auto', random_state=42, ...)"
            ]
          },
          "metadata": {},
          "execution_count": 56
        }
      ]
    },
    {
      "cell_type": "code",
      "source": [
        "summarize_results(model, X_val_encoded, y_val)"
      ],
      "metadata": {
        "id": "G1u1BgZa1puv",
        "outputId": "80952a0a-a261-4962-bf3e-2d892f9343d7",
        "colab": {
          "base_uri": "https://localhost:8080/",
          "height": 1000
        }
      },
      "execution_count": 57,
      "outputs": [
        {
          "output_type": "display_data",
          "data": {
            "text/plain": [
              "<Figure size 432x288 with 1 Axes>"
            ],
            "image/png": "[encoded data removed]"
          },
          "metadata": {
            "needs_background": "light"
          }
        },
        {
          "output_type": "stream",
          "name": "stdout",
          "text": [
            "검증 정확도 0.7295719844357976\n",
            "              precision    recall  f1-score   support\n",
            "\n",
            "           0       0.97      0.73      0.83      2899\n",
            "           1       0.13      0.62      0.21       185\n",
            "\n",
            "    accuracy                           0.72      3084\n",
            "   macro avg       0.55      0.67      0.52      3084\n",
            "weighted avg       0.92      0.72      0.79      3084\n",
            "\n",
            "ROC-AUC 0.7724816572350205\n"
          ]
        },
        {
          "output_type": "display_data",
          "data": {
            "text/plain": [
              "<Figure size 432x288 with 1 Axes>"
            ],
            "image/png": "[encoded data removed]"
          },
          "metadata": {
            "needs_background": "light"
          }
        },
        {
          "output_type": "display_data",
          "data": {
            "text/plain": [
              "<Figure size 432x288 with 2 Axes>"
            ],
            "image/png": "[encoded data removed]"
          },
          "metadata": {
            "needs_background": "light"
          }
        }
      ]
    },
    {
      "cell_type": "markdown",
      "source": [
        "## 05. Ensemble for Imbalanced Dataset\n",
        "> 타겟 불균형 문제를 해결하기 위해 우리가 배운 앙상블 기법이 적용될 수 있습니다.\n",
        "\n",
        "\n",
        "\n",
        "* Undersampling과 Bagging을 함께 적용할 수 있습니다.\n",
        "  * Undersampling은 다수 데이터들에 대하여 큰 손실이 발생하는 문제가 존재합니다.\n",
        "  * 여러 번 Undersampling을 수행하여 각 분류기를 만든 후, 분류기들의 결과를 평균낸다면 다수 데이터에서의 정보 손실을 줄일 수 있을 것 입니다.\n",
        "  * 이를 구현한 것이 `library : imblearn`의 `BalanceBaggingClassifier` 입니다."
      ],
      "metadata": {
        "id": "U80-eybK1znd"
      }
    },
    {
      "cell_type": "code",
      "source": [
        "from imblearn.ensemble import BalancedBaggingClassifier\n",
        "\n",
        "# 모델 인스턴스 객체 생성."
      ],
      "metadata": {
        "id": "ysgNvn3C4szs"
      },
      "execution_count": null,
      "outputs": []
    }
  ]
}