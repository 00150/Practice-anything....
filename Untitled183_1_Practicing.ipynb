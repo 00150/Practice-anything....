{
  "cells": [
    {
      "cell_type": "markdown",
      "metadata": {
        "id": "view-in-github",
        "colab_type": "text"
      },
      "source": [
        "<a href=\"https://colab.research.google.com/github/00150/Practice-anything..../blob/main/Untitled183_1_Practicing.ipynb\" target=\"_parent\"><img src=\"https://colab.research.google.com/assets/colab-badge.svg\" alt=\"Open In Colab\"/></a>"
      ]
    },
    {
      "cell_type": "markdown",
      "metadata": {
        "id": "KR3Dr_fnq3zK"
      },
      "source": [
        "<img align=\"right\" src=\"https://ds-cs-images.s3.ap-northeast-2.amazonaws.com/Codestates_Fulllogo_Color.png\" width=100>\n",
        "\n",
        "## *AIB / SECTION 2 / SPRINT 3 / NOTE 2*\n",
        "\n",
        "# 📝 Assignment\n",
        "---"
      ]
    },
    {
      "cell_type": "markdown",
      "metadata": {
        "id": "l3VB63QEq7xo"
      },
      "source": [
        "# 🌱 **기본 과제**\n",
        "\n",
        "#### **N231 Part.2 모델 학습 부분까지 동일하게 과제를 수행합니다.**"
      ]
    },
    {
      "cell_type": "code",
      "execution_count": 1,
      "metadata": {
        "id": "OTgcTB5EvC6o",
        "colab": {
          "base_uri": "https://localhost:8080/"
        },
        "outputId": "0ea4a249-4c58-4692-e9fd-96adf2b79516"
      },
      "outputs": [
        {
          "output_type": "stream",
          "name": "stdout",
          "text": [
            "Looking in indexes: https://pypi.org/simple, https://us-python.pkg.dev/colab-wheels/public/simple/\n",
            "Requirement already satisfied: category_encoders in /usr/local/lib/python3.8/dist-packages (2.6.0)\n",
            "Requirement already satisfied: numpy>=1.14.0 in /usr/local/lib/python3.8/dist-packages (from category_encoders) (1.21.6)\n",
            "Requirement already satisfied: pandas>=1.0.5 in /usr/local/lib/python3.8/dist-packages (from category_encoders) (1.3.5)\n",
            "Requirement already satisfied: scikit-learn>=0.20.0 in /usr/local/lib/python3.8/dist-packages (from category_encoders) (1.0.2)\n",
            "Requirement already satisfied: patsy>=0.5.1 in /usr/local/lib/python3.8/dist-packages (from category_encoders) (0.5.3)\n",
            "Requirement already satisfied: statsmodels>=0.9.0 in /usr/local/lib/python3.8/dist-packages (from category_encoders) (0.12.2)\n",
            "Requirement already satisfied: scipy>=1.0.0 in /usr/local/lib/python3.8/dist-packages (from category_encoders) (1.7.3)\n",
            "Requirement already satisfied: python-dateutil>=2.7.3 in /usr/local/lib/python3.8/dist-packages (from pandas>=1.0.5->category_encoders) (2.8.2)\n",
            "Requirement already satisfied: pytz>=2017.3 in /usr/local/lib/python3.8/dist-packages (from pandas>=1.0.5->category_encoders) (2022.7)\n",
            "Requirement already satisfied: six in /usr/local/lib/python3.8/dist-packages (from patsy>=0.5.1->category_encoders) (1.15.0)\n",
            "Requirement already satisfied: joblib>=0.11 in /usr/local/lib/python3.8/dist-packages (from scikit-learn>=0.20.0->category_encoders) (1.2.0)\n",
            "Requirement already satisfied: threadpoolctl>=2.0.0 in /usr/local/lib/python3.8/dist-packages (from scikit-learn>=0.20.0->category_encoders) (3.1.0)\n",
            "Looking in indexes: https://pypi.org/simple, https://us-python.pkg.dev/colab-wheels/public/simple/\n",
            "Requirement already satisfied: eli5 in /usr/local/lib/python3.8/dist-packages (0.13.0)\n",
            "Requirement already satisfied: six in /usr/local/lib/python3.8/dist-packages (from eli5) (1.15.0)\n",
            "Requirement already satisfied: scipy in /usr/local/lib/python3.8/dist-packages (from eli5) (1.7.3)\n",
            "Requirement already satisfied: tabulate>=0.7.7 in /usr/local/lib/python3.8/dist-packages (from eli5) (0.8.10)\n",
            "Requirement already satisfied: attrs>17.1.0 in /usr/local/lib/python3.8/dist-packages (from eli5) (22.2.0)\n",
            "Requirement already satisfied: scikit-learn>=0.20 in /usr/local/lib/python3.8/dist-packages (from eli5) (1.0.2)\n",
            "Requirement already satisfied: jinja2>=3.0.0 in /usr/local/lib/python3.8/dist-packages (from eli5) (3.1.2)\n",
            "Requirement already satisfied: graphviz in /usr/local/lib/python3.8/dist-packages (from eli5) (0.10.1)\n",
            "Requirement already satisfied: numpy>=1.9.0 in /usr/local/lib/python3.8/dist-packages (from eli5) (1.21.6)\n",
            "Requirement already satisfied: MarkupSafe>=2.0 in /usr/local/lib/python3.8/dist-packages (from jinja2>=3.0.0->eli5) (2.0.1)\n",
            "Requirement already satisfied: joblib>=0.11 in /usr/local/lib/python3.8/dist-packages (from scikit-learn>=0.20->eli5) (1.2.0)\n",
            "Requirement already satisfied: threadpoolctl>=2.0.0 in /usr/local/lib/python3.8/dist-packages (from scikit-learn>=0.20->eli5) (3.1.0)\n",
            "Looking in indexes: https://pypi.org/simple, https://us-python.pkg.dev/colab-wheels/public/simple/\n",
            "Requirement already satisfied: pdpbox in /usr/local/lib/python3.8/dist-packages (0.2.1)\n",
            "Requirement already satisfied: sklearn in /usr/local/lib/python3.8/dist-packages (from pdpbox) (0.0.post1)\n",
            "Requirement already satisfied: pandas in /usr/local/lib/python3.8/dist-packages (from pdpbox) (1.3.5)\n",
            "Requirement already satisfied: scipy in /usr/local/lib/python3.8/dist-packages (from pdpbox) (1.7.3)\n",
            "Requirement already satisfied: numpy in /usr/local/lib/python3.8/dist-packages (from pdpbox) (1.21.6)\n",
            "Requirement already satisfied: psutil in /usr/local/lib/python3.8/dist-packages (from pdpbox) (5.4.8)\n",
            "Requirement already satisfied: joblib in /usr/local/lib/python3.8/dist-packages (from pdpbox) (1.2.0)\n",
            "Requirement already satisfied: matplotlib==3.1.1 in /usr/local/lib/python3.8/dist-packages (from pdpbox) (3.1.1)\n",
            "Requirement already satisfied: cycler>=0.10 in /usr/local/lib/python3.8/dist-packages (from matplotlib==3.1.1->pdpbox) (0.11.0)\n",
            "Requirement already satisfied: python-dateutil>=2.1 in /usr/local/lib/python3.8/dist-packages (from matplotlib==3.1.1->pdpbox) (2.8.2)\n",
            "Requirement already satisfied: pyparsing!=2.0.4,!=2.1.2,!=2.1.6,>=2.0.1 in /usr/local/lib/python3.8/dist-packages (from matplotlib==3.1.1->pdpbox) (3.0.9)\n",
            "Requirement already satisfied: kiwisolver>=1.0.1 in /usr/local/lib/python3.8/dist-packages (from matplotlib==3.1.1->pdpbox) (1.4.4)\n",
            "Requirement already satisfied: pytz>=2017.3 in /usr/local/lib/python3.8/dist-packages (from pandas->pdpbox) (2022.7)\n",
            "Requirement already satisfied: six>=1.5 in /usr/local/lib/python3.8/dist-packages (from python-dateutil>=2.1->matplotlib==3.1.1->pdpbox) (1.15.0)\n"
          ]
        }
      ],
      "source": [
        "!pip install category_encoders \n",
        "!pip install eli5 \n",
        "!pip install pdpbox"
      ]
    },
    {
      "cell_type": "code",
      "execution_count": 21,
      "metadata": {
        "id": "xNnpEkk7tjt3"
      },
      "outputs": [],
      "source": [
        "import pandas as pd\n",
        "import numpy as np\n",
        "import matplotlib.pyplot as plt\n",
        "import seaborn as sns\n",
        "\n",
        "from sklearn.model_selection import train_test_split\n",
        "from sklearn.preprocessing import LabelEncoder\n",
        "from sklearn.metrics import roc_auc_score\n",
        "from sklearn.pipeline import make_pipeline\n",
        "from category_encoders import OrdinalEncoder\n",
        "from sklearn.ensemble import RandomForestClassifier\n",
        "\n",
        "from pdpbox.pdp import pdp_isolate, pdp_plot"
      ]
    },
    {
      "cell_type": "markdown",
      "metadata": {
        "id": "hUS8L__irBSr"
      },
      "source": [
        "## **Part 1. 데이터 준비**\n",
        "\n",
        "- 어제 사용했던 데이터셋을 불러오세요.\n",
        "\n",
        "- 타겟과 특성을 지정해 주세요. \n",
        "  - 타겟은 `Attrition`입니다.  \n",
        "- 훈련/평가 데이터셋을 분리하세요.\n",
        "  - 훈련/평가 데이터의 비율은 8:2로 합니다.\n",
        "  - `random_state=42`로 설정합니다. \n"
      ]
    },
    {
      "cell_type": "code",
      "execution_count": 22,
      "metadata": {
        "id": "afUN00woumY9",
        "colab": {
          "base_uri": "https://localhost:8080/",
          "height": 223
        },
        "outputId": "1109e672-904f-420e-b563-239e65c8096b"
      },
      "outputs": [
        {
          "output_type": "execute_result",
          "data": {
            "text/plain": [
              "   Age Attrition     BusinessTravel  DailyRate              Department  \\\n",
              "0   41       Yes      Travel_Rarely       1102                   Sales   \n",
              "1   49        No  Travel_Frequently        279  Research & Development   \n",
              "\n",
              "   DistanceFromHome  Education EducationField  EmployeeCount  EmployeeNumber  \\\n",
              "0                 1          2  Life Sciences              1               1   \n",
              "1                 8          1  Life Sciences              1               2   \n",
              "\n",
              "   ...  RelationshipSatisfaction StandardHours  StockOptionLevel  \\\n",
              "0  ...                         1            80                 0   \n",
              "1  ...                         4            80                 1   \n",
              "\n",
              "   TotalWorkingYears  TrainingTimesLastYear WorkLifeBalance  YearsAtCompany  \\\n",
              "0                  8                      0               1               6   \n",
              "1                 10                      3               3              10   \n",
              "\n",
              "  YearsInCurrentRole  YearsSinceLastPromotion  YearsWithCurrManager  \n",
              "0                  4                        0                     5  \n",
              "1                  7                        1                     7  \n",
              "\n",
              "[2 rows x 35 columns]"
            ],
            "text/html": [
              "\n",
              "  <div id=\"df-3f60d9e8-1f87-4f38-9069-112ab59c4b31\">\n",
              "    <div class=\"colab-df-container\">\n",
              "      <div>\n",
              "<style scoped>\n",
              "    .dataframe tbody tr th:only-of-type {\n",
              "        vertical-align: middle;\n",
              "    }\n",
              "\n",
              "    .dataframe tbody tr th {\n",
              "        vertical-align: top;\n",
              "    }\n",
              "\n",
              "    .dataframe thead th {\n",
              "        text-align: right;\n",
              "    }\n",
              "</style>\n",
              "<table border=\"1\" class=\"dataframe\">\n",
              "  <thead>\n",
              "    <tr style=\"text-align: right;\">\n",
              "      <th></th>\n",
              "      <th>Age</th>\n",
              "      <th>Attrition</th>\n",
              "      <th>BusinessTravel</th>\n",
              "      <th>DailyRate</th>\n",
              "      <th>Department</th>\n",
              "      <th>DistanceFromHome</th>\n",
              "      <th>Education</th>\n",
              "      <th>EducationField</th>\n",
              "      <th>EmployeeCount</th>\n",
              "      <th>EmployeeNumber</th>\n",
              "      <th>...</th>\n",
              "      <th>RelationshipSatisfaction</th>\n",
              "      <th>StandardHours</th>\n",
              "      <th>StockOptionLevel</th>\n",
              "      <th>TotalWorkingYears</th>\n",
              "      <th>TrainingTimesLastYear</th>\n",
              "      <th>WorkLifeBalance</th>\n",
              "      <th>YearsAtCompany</th>\n",
              "      <th>YearsInCurrentRole</th>\n",
              "      <th>YearsSinceLastPromotion</th>\n",
              "      <th>YearsWithCurrManager</th>\n",
              "    </tr>\n",
              "  </thead>\n",
              "  <tbody>\n",
              "    <tr>\n",
              "      <th>0</th>\n",
              "      <td>41</td>\n",
              "      <td>Yes</td>\n",
              "      <td>Travel_Rarely</td>\n",
              "      <td>1102</td>\n",
              "      <td>Sales</td>\n",
              "      <td>1</td>\n",
              "      <td>2</td>\n",
              "      <td>Life Sciences</td>\n",
              "      <td>1</td>\n",
              "      <td>1</td>\n",
              "      <td>...</td>\n",
              "      <td>1</td>\n",
              "      <td>80</td>\n",
              "      <td>0</td>\n",
              "      <td>8</td>\n",
              "      <td>0</td>\n",
              "      <td>1</td>\n",
              "      <td>6</td>\n",
              "      <td>4</td>\n",
              "      <td>0</td>\n",
              "      <td>5</td>\n",
              "    </tr>\n",
              "    <tr>\n",
              "      <th>1</th>\n",
              "      <td>49</td>\n",
              "      <td>No</td>\n",
              "      <td>Travel_Frequently</td>\n",
              "      <td>279</td>\n",
              "      <td>Research &amp; Development</td>\n",
              "      <td>8</td>\n",
              "      <td>1</td>\n",
              "      <td>Life Sciences</td>\n",
              "      <td>1</td>\n",
              "      <td>2</td>\n",
              "      <td>...</td>\n",
              "      <td>4</td>\n",
              "      <td>80</td>\n",
              "      <td>1</td>\n",
              "      <td>10</td>\n",
              "      <td>3</td>\n",
              "      <td>3</td>\n",
              "      <td>10</td>\n",
              "      <td>7</td>\n",
              "      <td>1</td>\n",
              "      <td>7</td>\n",
              "    </tr>\n",
              "  </tbody>\n",
              "</table>\n",
              "<p>2 rows × 35 columns</p>\n",
              "</div>\n",
              "      <button class=\"colab-df-convert\" onclick=\"convertToInteractive('df-3f60d9e8-1f87-4f38-9069-112ab59c4b31')\"\n",
              "              title=\"Convert this dataframe to an interactive table.\"\n",
              "              style=\"display:none;\">\n",
              "        \n",
              "  <svg xmlns=\"http://www.w3.org/2000/svg\" height=\"24px\"viewBox=\"0 0 24 24\"\n",
              "       width=\"24px\">\n",
              "    <path d=\"M0 0h24v24H0V0z\" fill=\"none\"/>\n",
              "    <path d=\"M18.56 5.44l.94 2.06.94-2.06 2.06-.94-2.06-.94-.94-2.06-.94 2.06-2.06.94zm-11 1L8.5 8.5l.94-2.06 2.06-.94-2.06-.94L8.5 2.5l-.94 2.06-2.06.94zm10 10l.94 2.06.94-2.06 2.06-.94-2.06-.94-.94-2.06-.94 2.06-2.06.94z\"/><path d=\"M17.41 7.96l-1.37-1.37c-.4-.4-.92-.59-1.43-.59-.52 0-1.04.2-1.43.59L10.3 9.45l-7.72 7.72c-.78.78-.78 2.05 0 2.83L4 21.41c.39.39.9.59 1.41.59.51 0 1.02-.2 1.41-.59l7.78-7.78 2.81-2.81c.8-.78.8-2.07 0-2.86zM5.41 20L4 18.59l7.72-7.72 1.47 1.35L5.41 20z\"/>\n",
              "  </svg>\n",
              "      </button>\n",
              "      \n",
              "  <style>\n",
              "    .colab-df-container {\n",
              "      display:flex;\n",
              "      flex-wrap:wrap;\n",
              "      gap: 12px;\n",
              "    }\n",
              "\n",
              "    .colab-df-convert {\n",
              "      background-color: #E8F0FE;\n",
              "      border: none;\n",
              "      border-radius: 50%;\n",
              "      cursor: pointer;\n",
              "      display: none;\n",
              "      fill: #1967D2;\n",
              "      height: 32px;\n",
              "      padding: 0 0 0 0;\n",
              "      width: 32px;\n",
              "    }\n",
              "\n",
              "    .colab-df-convert:hover {\n",
              "      background-color: #E2EBFA;\n",
              "      box-shadow: 0px 1px 2px rgba(60, 64, 67, 0.3), 0px 1px 3px 1px rgba(60, 64, 67, 0.15);\n",
              "      fill: #174EA6;\n",
              "    }\n",
              "\n",
              "    [theme=dark] .colab-df-convert {\n",
              "      background-color: #3B4455;\n",
              "      fill: #D2E3FC;\n",
              "    }\n",
              "\n",
              "    [theme=dark] .colab-df-convert:hover {\n",
              "      background-color: #434B5C;\n",
              "      box-shadow: 0px 1px 3px 1px rgba(0, 0, 0, 0.15);\n",
              "      filter: drop-shadow(0px 1px 2px rgba(0, 0, 0, 0.3));\n",
              "      fill: #FFFFFF;\n",
              "    }\n",
              "  </style>\n",
              "\n",
              "      <script>\n",
              "        const buttonEl =\n",
              "          document.querySelector('#df-3f60d9e8-1f87-4f38-9069-112ab59c4b31 button.colab-df-convert');\n",
              "        buttonEl.style.display =\n",
              "          google.colab.kernel.accessAllowed ? 'block' : 'none';\n",
              "\n",
              "        async function convertToInteractive(key) {\n",
              "          const element = document.querySelector('#df-3f60d9e8-1f87-4f38-9069-112ab59c4b31');\n",
              "          const dataTable =\n",
              "            await google.colab.kernel.invokeFunction('convertToInteractive',\n",
              "                                                     [key], {});\n",
              "          if (!dataTable) return;\n",
              "\n",
              "          const docLinkHtml = 'Like what you see? Visit the ' +\n",
              "            '<a target=\"_blank\" href=https://colab.research.google.com/notebooks/data_table.ipynb>data table notebook</a>'\n",
              "            + ' to learn more about interactive tables.';\n",
              "          element.innerHTML = '';\n",
              "          dataTable['output_type'] = 'display_data';\n",
              "          await google.colab.output.renderOutput(dataTable, element);\n",
              "          const docLink = document.createElement('div');\n",
              "          docLink.innerHTML = docLinkHtml;\n",
              "          element.appendChild(docLink);\n",
              "        }\n",
              "      </script>\n",
              "    </div>\n",
              "  </div>\n",
              "  "
            ]
          },
          "metadata": {},
          "execution_count": 22
        }
      ],
      "source": [
        "# 데이터셋 불러오기 \n",
        "df = pd.read_csv('https://ds-lecture-data.s3.ap-northeast-2.amazonaws.com/Employee-Attrition.csv')\n",
        "df.head(2)"
      ]
    },
    {
      "cell_type": "code",
      "source": [
        "df.info()"
      ],
      "metadata": {
        "colab": {
          "base_uri": "https://localhost:8080/"
        },
        "id": "RciIhmBCPqq0",
        "outputId": "b4f4721b-d835-4d6e-bae8-881da81d3116"
      },
      "execution_count": 23,
      "outputs": [
        {
          "output_type": "stream",
          "name": "stdout",
          "text": [
            "<class 'pandas.core.frame.DataFrame'>\n",
            "RangeIndex: 1470 entries, 0 to 1469\n",
            "Data columns (total 35 columns):\n",
            " #   Column                    Non-Null Count  Dtype \n",
            "---  ------                    --------------  ----- \n",
            " 0   Age                       1470 non-null   int64 \n",
            " 1   Attrition                 1470 non-null   object\n",
            " 2   BusinessTravel            1470 non-null   object\n",
            " 3   DailyRate                 1470 non-null   int64 \n",
            " 4   Department                1470 non-null   object\n",
            " 5   DistanceFromHome          1470 non-null   int64 \n",
            " 6   Education                 1470 non-null   int64 \n",
            " 7   EducationField            1470 non-null   object\n",
            " 8   EmployeeCount             1470 non-null   int64 \n",
            " 9   EmployeeNumber            1470 non-null   int64 \n",
            " 10  EnvironmentSatisfaction   1470 non-null   int64 \n",
            " 11  Gender                    1470 non-null   object\n",
            " 12  HourlyRate                1470 non-null   int64 \n",
            " 13  JobInvolvement            1470 non-null   int64 \n",
            " 14  JobLevel                  1470 non-null   int64 \n",
            " 15  JobRole                   1470 non-null   object\n",
            " 16  JobSatisfaction           1470 non-null   int64 \n",
            " 17  MaritalStatus             1470 non-null   object\n",
            " 18  MonthlyIncome             1470 non-null   int64 \n",
            " 19  MonthlyRate               1470 non-null   int64 \n",
            " 20  NumCompaniesWorked        1470 non-null   int64 \n",
            " 21  Over18                    1470 non-null   object\n",
            " 22  OverTime                  1470 non-null   object\n",
            " 23  PercentSalaryHike         1470 non-null   int64 \n",
            " 24  PerformanceRating         1470 non-null   int64 \n",
            " 25  RelationshipSatisfaction  1470 non-null   int64 \n",
            " 26  StandardHours             1470 non-null   int64 \n",
            " 27  StockOptionLevel          1470 non-null   int64 \n",
            " 28  TotalWorkingYears         1470 non-null   int64 \n",
            " 29  TrainingTimesLastYear     1470 non-null   int64 \n",
            " 30  WorkLifeBalance           1470 non-null   int64 \n",
            " 31  YearsAtCompany            1470 non-null   int64 \n",
            " 32  YearsInCurrentRole        1470 non-null   int64 \n",
            " 33  YearsSinceLastPromotion   1470 non-null   int64 \n",
            " 34  YearsWithCurrManager      1470 non-null   int64 \n",
            "dtypes: int64(26), object(9)\n",
            "memory usage: 402.1+ KB\n"
          ]
        }
      ]
    },
    {
      "cell_type": "code",
      "source": [
        "# 데이터를 먼저 분할합니다.\n",
        "train, val = train_test_split(df, test_size = 0.2, random_state =42)\n",
        "\n",
        "\n",
        "# 데이터의 feature 및 타겟을 나누어 줍니다. (명목형 및 변수형 데이터로 묶어줍니다)\n",
        "target = 'Attrition'\n",
        "\n",
        "cat_features = ['BusinessTravel', 'Department','EducationField',\n",
        "                'Gender','JobRole','MaritalStatus', 'Over18', 'OverTime']\n",
        "\n",
        "num_features =['Age', 'DailyRate','DistanceFromHome', 'Education','EmployeeCount','EmployeeNumber', \n",
        "               'EnvironmentSatisfaction','HourlyRate','JobInvolvement', 'JobLevel','JobSatisfaction',\n",
        "               'MonthlyIncome', 'MonthlyRate', 'NumCompaniesWorked','PercentSalaryHike', 'PerformanceRating',\n",
        "               'RelationshipSatisfaction', 'StandardHours', 'StockOptionLevel','TotalWorkingYears', \n",
        "               'TrainingTimesLastYear', 'WorkLifeBalance','YearsAtCompany', 'YearsInCurrentRole', \n",
        "               'YearsSinceLastPromotion','YearsWithCurrManager']\n",
        "\n",
        "\n",
        "# 이후 데이터를 분할합니다. (타겟 및 피처)\n",
        "\n",
        "# 훈련\n",
        "X_train = train[cat_features + num_features]\n",
        "y_train = train[target]\n",
        "\n",
        "# 분할\n",
        "X_val = val[cat_features + num_features]\n",
        "y_val = val[target]"
      ],
      "metadata": {
        "id": "vKFthJdfR5Tj"
      },
      "execution_count": 24,
      "outputs": []
    },
    {
      "cell_type": "code",
      "source": [
        "# 비율 확인\n",
        "print(y_train.value_counts())\n",
        "print('\\n')\n",
        "print(y_val.value_counts())"
      ],
      "metadata": {
        "colab": {
          "base_uri": "https://localhost:8080/"
        },
        "id": "nMZHyAf2VuSA",
        "outputId": "24bb4cb0-da88-4a65-905a-eb23cf99fa9f"
      },
      "execution_count": 25,
      "outputs": [
        {
          "output_type": "stream",
          "name": "stdout",
          "text": [
            "No     978\n",
            "Yes    198\n",
            "Name: Attrition, dtype: int64\n",
            "\n",
            "\n",
            "No     255\n",
            "Yes     39\n",
            "Name: Attrition, dtype: int64\n"
          ]
        }
      ]
    },
    {
      "cell_type": "markdown",
      "metadata": {
        "id": "0ckMrZNkYJlx"
      },
      "source": [
        "## **Part 2. 모델 학습**\n",
        "\n",
        "- 타겟 Label을 `No=0`, `Yes=1`로 변환하세요.\n",
        "  - 훈련/평가 데이터 모두 변환합니다. \n",
        "- 훈련 데이터셋에 대하여 기준모델의 AUC score를 확인하세요.\n",
        "  - 기준모델은 최빈값으로 만듭니다.\n",
        "- `OrdinalEncoder()`를 사용하여 특성을 인코딩하세요. \n",
        "- `RandomForestClassifier()`를 사용하여 랜덤포레스트 모델을 학습하세요. \n",
        "  - `random_state=42`로 설정합니다. \n",
        "  - `n_jobs=-1`, `max_depth=3`으로 설정합니다. \n",
        "- `Cross_val_score()`를 활용해서 학습시킨 랜덤포레스트 모델의 검증 score를 구하세요.\n",
        "  - `cv=10`, `n_jobs=-1`로 설정합니다. \n",
        "  - `scoring`은 `roc_auc`를 사용합니다.\n",
        "  - 검증 score는 평균값으로 구할 수 있습니다."
      ]
    },
    {
      "cell_type": "code",
      "source": [
        "# 라벨을 변경하는 함수를 생성합니다.\n",
        "\n",
        "def trans_target(target):\n",
        "  for i, v in enumerate(target):\n",
        "    if target.iloc[i] == 'No':\n",
        "      target.iloc[i] = 0\n",
        "    \n",
        "    else :\n",
        "      target.iloc[i] = 1\n",
        "\n",
        "\n",
        "# 이후 훈련 및 테스트 데이터셋의 타겟에 적용합니다. \n",
        "\n",
        "# 훈련데이터 적용\n",
        "trans_target(y_train)\n",
        "\n",
        "# 검증데이터 적용\n",
        "trans_target(y_val)\n",
        "\n",
        "# 이후 데이터셋을 리스트형태로 바꿔줘야합니다. (fit을 진행하기 위해서는 필수적입니다!)\n",
        "y_train = y_train.tolist()\n",
        "y_val = y_val.tolist()"
      ],
      "metadata": {
        "id": "ldhES9xtWzOR"
      },
      "execution_count": 26,
      "outputs": []
    },
    {
      "cell_type": "code",
      "source": [
        "# 이후 데이터 파이프라인을 생성하는 함수를 작성합니다. (조건 확인)\n",
        "def get_pipeline(**kwargs):\n",
        "  return make_pipeline(\n",
        "      OrdinalEncoder(),\n",
        "      RandomForestClassifier(**kwargs))\n",
        "\n",
        "\n",
        "# 조건에 맞는 파이프라인을 생성합니다. \n",
        "# max_depth =3, n_jobs = -1, random_state =42, class_weight = 'balanced'\n",
        "pipe = get_pipeline(max_depth = 3, n_jobs = -1, random_state = 42)\n",
        "\n",
        "\n",
        "# fit을 진행합니다.\n",
        "pipe.fit(X_train, y_train)"
      ],
      "metadata": {
        "colab": {
          "base_uri": "https://localhost:8080/"
        },
        "id": "AE3tYoFCgvH_",
        "outputId": "09e01cce-e3ba-4b2e-dc1b-48dd16c00011"
      },
      "execution_count": 28,
      "outputs": [
        {
          "output_type": "execute_result",
          "data": {
            "text/plain": [
              "Pipeline(steps=[('ordinalencoder',\n",
              "                 OrdinalEncoder(cols=['BusinessTravel', 'Department',\n",
              "                                      'EducationField', 'Gender', 'JobRole',\n",
              "                                      'MaritalStatus', 'Over18', 'OverTime'],\n",
              "                                mapping=[{'col': 'BusinessTravel',\n",
              "                                          'data_type': dtype('O'),\n",
              "                                          'mapping': Travel_Rarely        1\n",
              "Non-Travel           2\n",
              "Travel_Frequently    3\n",
              "NaN                 -2\n",
              "dtype: int64},\n",
              "                                         {'col': 'Department',\n",
              "                                          'data_type': dtype('O'),\n",
              "                                          'mapping': Research & Dev...\n",
              "NaN                         -2\n",
              "dtype: int64},\n",
              "                                         {'col': 'MaritalStatus',\n",
              "                                          'data_type': dtype('O'),\n",
              "                                          'mapping': Divorced    1\n",
              "Single      2\n",
              "Married     3\n",
              "NaN        -2\n",
              "dtype: int64},\n",
              "                                         {'col': 'Over18',\n",
              "                                          'data_type': dtype('O'),\n",
              "                                          'mapping': Y      1\n",
              "NaN   -2\n",
              "dtype: int64},\n",
              "                                         {'col': 'OverTime',\n",
              "                                          'data_type': dtype('O'),\n",
              "                                          'mapping': No     1\n",
              "Yes    2\n",
              "NaN   -2\n",
              "dtype: int64}])),\n",
              "                ('randomforestclassifier',\n",
              "                 RandomForestClassifier(max_depth=3, n_jobs=-1,\n",
              "                                        random_state=42))])"
            ]
          },
          "metadata": {},
          "execution_count": 28
        }
      ]
    },
    {
      "cell_type": "markdown",
      "metadata": {
        "id": "6HXoVQwUYdsd"
      },
      "source": [
        "## **Part 3. ICE PLOT**\n",
        "\n",
        "- Test Set의 `100번째 샘플`을 사용해서 ICE Plot을 그려보세요.\n",
        "\n",
        "- 아래 특성들에 대한 ICE Plot을 그려보고 특성 값이 변화함에 따라 타겟값이 하락하는 경향을 보이는 특성을 찾아보세요.\n",
        "\n",
        ">`'JobSatisfaction'`\n",
        "\n",
        "> `'DistanceFromHome'`\n",
        "\n",
        "> `'JobInvolvement'`\n",
        " \n",
        "> `'TotalWorkingYears'`"
      ]
    },
    {
      "cell_type": "markdown",
      "metadata": {
        "id": "VMW1hZdMg6nW"
      },
      "source": [
        "##### **Q1. Test Set의 100번째 샘플로 ICE Plot을 그려보고 특성 값이 변화함에 따라 타겟값이 하락하는 경향을 보여주는 특성을 모두 고르세요.**"
      ]
    },
    {
      "cell_type": "code",
      "execution_count": null,
      "metadata": {
        "id": "PPwlb7auxCDg"
      },
      "outputs": [],
      "source": [
        "## 이 곳에서 과제를 수행해주세요."
      ]
    },
    {
      "cell_type": "markdown",
      "metadata": {
        "id": "ffDpdhzI2ZNg"
      },
      "source": [
        "## **Part 4. PDP PLOT**\n",
        "\n",
        "- `Job satisfaction` 특성을 사용해서 pdp plot을 그려보고 타겟값과의 관계를 설명하세요.\n"
      ]
    },
    {
      "cell_type": "code",
      "execution_count": null,
      "metadata": {
        "id": "IsVreTbVQ7lB"
      },
      "outputs": [],
      "source": [
        "target_feature = 'JobSatisfaction'"
      ]
    },
    {
      "cell_type": "markdown",
      "metadata": {
        "id": "Ij3WW71vLhW1"
      },
      "source": [
        "##### **Q2. `Job satisfaction` 특성을 사용해서 pdp plot을 그려보고 타겟값과의 관계를 설명하기 위해 아래 빈칸을 채워보세요.**\n",
        "\n",
        "> Test Set를 사용해서 PDP plot을 그려보면 `Job satisfaction` 특성 값이 변화함에 따라 타겟값이 전체적으로 _____하는 경향성을 보인다.\n",
        "1. 상승\n",
        "2. 하락\n",
        "\n",
        "  "
      ]
    },
    {
      "cell_type": "code",
      "execution_count": null,
      "metadata": {
        "id": "hAge7pu80MPn"
      },
      "outputs": [],
      "source": [
        "## 이 곳에서 과제를 수행해주세요."
      ]
    },
    {
      "cell_type": "markdown",
      "metadata": {
        "id": "rbNfwOQBoqWH"
      },
      "source": [
        "# 🥇 **도전 과제**"
      ]
    },
    {
      "cell_type": "markdown",
      "metadata": {
        "id": "Ct24KTIdv0ed"
      },
      "source": [
        "## **Part 5. 프로젝트 준비**\n",
        "\n",
        "> #### **이번 도전과제는 n231에 이어서 진행해보세요.**\n",
        "\n",
        "- 지난 도전과제에서 지시한 바와 같이 프로젝트에 사용할 데이터셋을 불러오세요. \n",
        "\n",
        "- 모델링을 수행한 후 순열중요도를 구하고 상위 특성만 사용해서 모델을 최적화 해보세요.\n",
        "\n",
        "- PDP를 사용해서 모델을 들여다보고 해석해보세요."
      ]
    },
    {
      "cell_type": "code",
      "source": [],
      "metadata": {
        "id": "gCH_gPghSmEF"
      },
      "execution_count": null,
      "outputs": []
    }
  ],
  "metadata": {
    "colab": {
      "provenance": [],
      "include_colab_link": true
    },
    "kernelspec": {
      "display_name": "Python 3",
      "name": "python3"
    },
    "language_info": {
      "name": "python"
    },
    "accelerator": "GPU",
    "gpuClass": "standard"
  },
  "nbformat": 4,
  "nbformat_minor": 0
}