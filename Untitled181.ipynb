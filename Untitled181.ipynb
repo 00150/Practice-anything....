{
  "nbformat": 4,
  "nbformat_minor": 0,
  "metadata": {
    "colab": {
      "provenance": [],
      "authorship_tag": "ABX9TyPbixbDjsx5xqpZkDYIhD2T",
      "include_colab_link": true
    },
    "kernelspec": {
      "name": "python3",
      "display_name": "Python 3"
    },
    "language_info": {
      "name": "python"
    },
    "accelerator": "GPU",
    "gpuClass": "standard"
  },
  "cells": [
    {
      "cell_type": "markdown",
      "metadata": {
        "id": "view-in-github",
        "colab_type": "text"
      },
      "source": [
        "<a href=\"https://colab.research.google.com/github/00150/Practice-anything..../blob/main/Untitled181.ipynb\" target=\"_parent\"><img src=\"https://colab.research.google.com/assets/colab-badge.svg\" alt=\"Open In Colab\"/></a>"
      ]
    },
    {
      "cell_type": "code",
      "execution_count": 1,
      "metadata": {
        "colab": {
          "base_uri": "https://localhost:8080/"
        },
        "id": "AHyuIwCwcTa5",
        "outputId": "da711a02-fcf5-48e3-faa8-438cb9772a75"
      },
      "outputs": [
        {
          "output_type": "stream",
          "name": "stdout",
          "text": [
            "Looking in indexes: https://pypi.org/simple, https://us-python.pkg.dev/colab-wheels/public/simple/\n",
            "Collecting category_encoders\n",
            "  Downloading category_encoders-2.5.1.post0-py2.py3-none-any.whl (72 kB)\n",
            "\u001b[2K     \u001b[90m━━━━━━━━━━━━━━━━━━━━━━━━━━━━━━━━━━━━━━━━\u001b[0m \u001b[32m72.4/72.4 KB\u001b[0m \u001b[31m9.2 MB/s\u001b[0m eta \u001b[36m0:00:00\u001b[0m\n",
            "\u001b[?25hRequirement already satisfied: patsy>=0.5.1 in /usr/local/lib/python3.8/dist-packages (from category_encoders) (0.5.3)\n",
            "Requirement already satisfied: statsmodels>=0.9.0 in /usr/local/lib/python3.8/dist-packages (from category_encoders) (0.12.2)\n",
            "Requirement already satisfied: numpy>=1.14.0 in /usr/local/lib/python3.8/dist-packages (from category_encoders) (1.21.6)\n",
            "Requirement already satisfied: scikit-learn>=0.20.0 in /usr/local/lib/python3.8/dist-packages (from category_encoders) (1.0.2)\n",
            "Requirement already satisfied: scipy>=1.0.0 in /usr/local/lib/python3.8/dist-packages (from category_encoders) (1.7.3)\n",
            "Requirement already satisfied: pandas>=1.0.5 in /usr/local/lib/python3.8/dist-packages (from category_encoders) (1.3.5)\n",
            "Requirement already satisfied: pytz>=2017.3 in /usr/local/lib/python3.8/dist-packages (from pandas>=1.0.5->category_encoders) (2022.7)\n",
            "Requirement already satisfied: python-dateutil>=2.7.3 in /usr/local/lib/python3.8/dist-packages (from pandas>=1.0.5->category_encoders) (2.8.2)\n",
            "Requirement already satisfied: six in /usr/local/lib/python3.8/dist-packages (from patsy>=0.5.1->category_encoders) (1.15.0)\n",
            "Requirement already satisfied: threadpoolctl>=2.0.0 in /usr/local/lib/python3.8/dist-packages (from scikit-learn>=0.20.0->category_encoders) (3.1.0)\n",
            "Requirement already satisfied: joblib>=0.11 in /usr/local/lib/python3.8/dist-packages (from scikit-learn>=0.20.0->category_encoders) (1.2.0)\n",
            "Installing collected packages: category_encoders\n",
            "Successfully installed category_encoders-2.5.1.post0\n"
          ]
        }
      ],
      "source": [
        "!pip install category_encoders"
      ]
    },
    {
      "cell_type": "code",
      "source": [
        "import pandas as pd\n",
        "import numpy as np\n",
        "pd.options.display.max_columns = None\n",
        "df = pd.read_csv('https://ds-lecture-data.s3.ap-northeast-2.amazonaws.com/chocolate_bar_ratings/flavors_of_cacao.csv')"
      ],
      "metadata": {
        "id": "Kmzo8dHLeMJR"
      },
      "execution_count": 2,
      "outputs": []
    },
    {
      "cell_type": "code",
      "source": [
        "df.head(2)"
      ],
      "metadata": {
        "colab": {
          "base_uri": "https://localhost:8080/",
          "height": 112
        },
        "id": "UgPfd64VeWV-",
        "outputId": "097d3c86-42c9-40c7-80be-20f91cde5cb2"
      },
      "execution_count": 3,
      "outputs": [
        {
          "output_type": "execute_result",
          "data": {
            "text/plain": [
              "  Company \\n(Maker-if known) Specific Bean Origin\\nor Bar Name   REF  \\\n",
              "0                   A. Morin                       Agua Grande  1876   \n",
              "1                   A. Morin                             Kpime  1676   \n",
              "\n",
              "   Review\\nDate Cocoa\\nPercent Company\\nLocation  Rating Bean\\nType  \\\n",
              "0          2016            63%            France    3.75              \n",
              "1          2015            70%            France    2.75              \n",
              "\n",
              "  Broad Bean\\nOrigin  \n",
              "0           Sao Tome  \n",
              "1               Togo  "
            ],
            "text/html": [
              "\n",
              "  <div id=\"df-97f3241f-bb3c-4079-8c9d-b609cada522b\">\n",
              "    <div class=\"colab-df-container\">\n",
              "      <div>\n",
              "<style scoped>\n",
              "    .dataframe tbody tr th:only-of-type {\n",
              "        vertical-align: middle;\n",
              "    }\n",
              "\n",
              "    .dataframe tbody tr th {\n",
              "        vertical-align: top;\n",
              "    }\n",
              "\n",
              "    .dataframe thead th {\n",
              "        text-align: right;\n",
              "    }\n",
              "</style>\n",
              "<table border=\"1\" class=\"dataframe\">\n",
              "  <thead>\n",
              "    <tr style=\"text-align: right;\">\n",
              "      <th></th>\n",
              "      <th>Company \\n(Maker-if known)</th>\n",
              "      <th>Specific Bean Origin\\nor Bar Name</th>\n",
              "      <th>REF</th>\n",
              "      <th>Review\\nDate</th>\n",
              "      <th>Cocoa\\nPercent</th>\n",
              "      <th>Company\\nLocation</th>\n",
              "      <th>Rating</th>\n",
              "      <th>Bean\\nType</th>\n",
              "      <th>Broad Bean\\nOrigin</th>\n",
              "    </tr>\n",
              "  </thead>\n",
              "  <tbody>\n",
              "    <tr>\n",
              "      <th>0</th>\n",
              "      <td>A. Morin</td>\n",
              "      <td>Agua Grande</td>\n",
              "      <td>1876</td>\n",
              "      <td>2016</td>\n",
              "      <td>63%</td>\n",
              "      <td>France</td>\n",
              "      <td>3.75</td>\n",
              "      <td></td>\n",
              "      <td>Sao Tome</td>\n",
              "    </tr>\n",
              "    <tr>\n",
              "      <th>1</th>\n",
              "      <td>A. Morin</td>\n",
              "      <td>Kpime</td>\n",
              "      <td>1676</td>\n",
              "      <td>2015</td>\n",
              "      <td>70%</td>\n",
              "      <td>France</td>\n",
              "      <td>2.75</td>\n",
              "      <td></td>\n",
              "      <td>Togo</td>\n",
              "    </tr>\n",
              "  </tbody>\n",
              "</table>\n",
              "</div>\n",
              "      <button class=\"colab-df-convert\" onclick=\"convertToInteractive('df-97f3241f-bb3c-4079-8c9d-b609cada522b')\"\n",
              "              title=\"Convert this dataframe to an interactive table.\"\n",
              "              style=\"display:none;\">\n",
              "        \n",
              "  <svg xmlns=\"http://www.w3.org/2000/svg\" height=\"24px\"viewBox=\"0 0 24 24\"\n",
              "       width=\"24px\">\n",
              "    <path d=\"M0 0h24v24H0V0z\" fill=\"none\"/>\n",
              "    <path d=\"M18.56 5.44l.94 2.06.94-2.06 2.06-.94-2.06-.94-.94-2.06-.94 2.06-2.06.94zm-11 1L8.5 8.5l.94-2.06 2.06-.94-2.06-.94L8.5 2.5l-.94 2.06-2.06.94zm10 10l.94 2.06.94-2.06 2.06-.94-2.06-.94-.94-2.06-.94 2.06-2.06.94z\"/><path d=\"M17.41 7.96l-1.37-1.37c-.4-.4-.92-.59-1.43-.59-.52 0-1.04.2-1.43.59L10.3 9.45l-7.72 7.72c-.78.78-.78 2.05 0 2.83L4 21.41c.39.39.9.59 1.41.59.51 0 1.02-.2 1.41-.59l7.78-7.78 2.81-2.81c.8-.78.8-2.07 0-2.86zM5.41 20L4 18.59l7.72-7.72 1.47 1.35L5.41 20z\"/>\n",
              "  </svg>\n",
              "      </button>\n",
              "      \n",
              "  <style>\n",
              "    .colab-df-container {\n",
              "      display:flex;\n",
              "      flex-wrap:wrap;\n",
              "      gap: 12px;\n",
              "    }\n",
              "\n",
              "    .colab-df-convert {\n",
              "      background-color: #E8F0FE;\n",
              "      border: none;\n",
              "      border-radius: 50%;\n",
              "      cursor: pointer;\n",
              "      display: none;\n",
              "      fill: #1967D2;\n",
              "      height: 32px;\n",
              "      padding: 0 0 0 0;\n",
              "      width: 32px;\n",
              "    }\n",
              "\n",
              "    .colab-df-convert:hover {\n",
              "      background-color: #E2EBFA;\n",
              "      box-shadow: 0px 1px 2px rgba(60, 64, 67, 0.3), 0px 1px 3px 1px rgba(60, 64, 67, 0.15);\n",
              "      fill: #174EA6;\n",
              "    }\n",
              "\n",
              "    [theme=dark] .colab-df-convert {\n",
              "      background-color: #3B4455;\n",
              "      fill: #D2E3FC;\n",
              "    }\n",
              "\n",
              "    [theme=dark] .colab-df-convert:hover {\n",
              "      background-color: #434B5C;\n",
              "      box-shadow: 0px 1px 3px 1px rgba(0, 0, 0, 0.15);\n",
              "      filter: drop-shadow(0px 1px 2px rgba(0, 0, 0, 0.3));\n",
              "      fill: #FFFFFF;\n",
              "    }\n",
              "  </style>\n",
              "\n",
              "      <script>\n",
              "        const buttonEl =\n",
              "          document.querySelector('#df-97f3241f-bb3c-4079-8c9d-b609cada522b button.colab-df-convert');\n",
              "        buttonEl.style.display =\n",
              "          google.colab.kernel.accessAllowed ? 'block' : 'none';\n",
              "\n",
              "        async function convertToInteractive(key) {\n",
              "          const element = document.querySelector('#df-97f3241f-bb3c-4079-8c9d-b609cada522b');\n",
              "          const dataTable =\n",
              "            await google.colab.kernel.invokeFunction('convertToInteractive',\n",
              "                                                     [key], {});\n",
              "          if (!dataTable) return;\n",
              "\n",
              "          const docLinkHtml = 'Like what you see? Visit the ' +\n",
              "            '<a target=\"_blank\" href=https://colab.research.google.com/notebooks/data_table.ipynb>data table notebook</a>'\n",
              "            + ' to learn more about interactive tables.';\n",
              "          element.innerHTML = '';\n",
              "          dataTable['output_type'] = 'display_data';\n",
              "          await google.colab.output.renderOutput(dataTable, element);\n",
              "          const docLink = document.createElement('div');\n",
              "          docLink.innerHTML = docLinkHtml;\n",
              "          element.appendChild(docLink);\n",
              "        }\n",
              "      </script>\n",
              "    </div>\n",
              "  </div>\n",
              "  "
            ]
          },
          "metadata": {},
          "execution_count": 3
        }
      ]
    },
    {
      "cell_type": "code",
      "source": [
        "df.columns"
      ],
      "metadata": {
        "colab": {
          "base_uri": "https://localhost:8080/"
        },
        "id": "kBnZFjRief8M",
        "outputId": "43ee3afd-0f4f-400a-f2ab-09c13b090708"
      },
      "execution_count": 4,
      "outputs": [
        {
          "output_type": "execute_result",
          "data": {
            "text/plain": [
              "Index(['Company \\n(Maker-if known)', 'Specific Bean Origin\\nor Bar Name',\n",
              "       'REF', 'Review\\nDate', 'Cocoa\\nPercent', 'Company\\nLocation', 'Rating',\n",
              "       'Bean\\nType', 'Broad Bean\\nOrigin'],\n",
              "      dtype='object')"
            ]
          },
          "metadata": {},
          "execution_count": 4
        }
      ]
    },
    {
      "cell_type": "markdown",
      "source": [
        "컬럼의 이름을 보기 쉽게 정리하도록 합니다. "
      ],
      "metadata": {
        "id": "CTv_3xzoem8_"
      }
    },
    {
      "cell_type": "code",
      "source": [
        "df.columns = ['company','specificOrigin','ref','reviewDate','cocoaPercent','companyLocation','rating','beanType','broadOrigin']"
      ],
      "metadata": {
        "id": "J51IcgCJeytD"
      },
      "execution_count": 5,
      "outputs": []
    },
    {
      "cell_type": "markdown",
      "source": [
        "결측치가 존재하는 데이터 확인하기.\n"
      ],
      "metadata": {
        "id": "gMrB7CKse7Pb"
      }
    },
    {
      "cell_type": "code",
      "source": [
        "df.info()"
      ],
      "metadata": {
        "colab": {
          "base_uri": "https://localhost:8080/"
        },
        "id": "ThbE_zDye93d",
        "outputId": "85ac059f-1459-4b27-9929-903c20ba24b7"
      },
      "execution_count": 6,
      "outputs": [
        {
          "output_type": "stream",
          "name": "stdout",
          "text": [
            "<class 'pandas.core.frame.DataFrame'>\n",
            "RangeIndex: 1795 entries, 0 to 1794\n",
            "Data columns (total 9 columns):\n",
            " #   Column           Non-Null Count  Dtype  \n",
            "---  ------           --------------  -----  \n",
            " 0   company          1795 non-null   object \n",
            " 1   specificOrigin   1795 non-null   object \n",
            " 2   ref              1795 non-null   int64  \n",
            " 3   reviewDate       1795 non-null   int64  \n",
            " 4   cocoaPercent     1795 non-null   object \n",
            " 5   companyLocation  1795 non-null   object \n",
            " 6   rating           1795 non-null   float64\n",
            " 7   beanType         1794 non-null   object \n",
            " 8   broadOrigin      1794 non-null   object \n",
            "dtypes: float64(1), int64(2), object(6)\n",
            "memory usage: 126.3+ KB\n"
          ]
        }
      ]
    },
    {
      "cell_type": "code",
      "source": [
        "df.isnull().sum()"
      ],
      "metadata": {
        "colab": {
          "base_uri": "https://localhost:8080/"
        },
        "id": "OT92_Jvse_C5",
        "outputId": "a1c81f69-bb40-4101-c0c2-c3971588e3f2"
      },
      "execution_count": 7,
      "outputs": [
        {
          "output_type": "execute_result",
          "data": {
            "text/plain": [
              "company            0\n",
              "specificOrigin     0\n",
              "ref                0\n",
              "reviewDate         0\n",
              "cocoaPercent       0\n",
              "companyLocation    0\n",
              "rating             0\n",
              "beanType           1\n",
              "broadOrigin        1\n",
              "dtype: int64"
            ]
          },
          "metadata": {},
          "execution_count": 7
        }
      ]
    },
    {
      "cell_type": "code",
      "source": [
        "[(x, df[x].isnull().sum()) for x in df.columns if df[x].isnull().any()]"
      ],
      "metadata": {
        "colab": {
          "base_uri": "https://localhost:8080/"
        },
        "id": "UYXifwSKfBvv",
        "outputId": "2c99d7b9-b675-4f39-b8d2-587775fc32e1"
      },
      "execution_count": 8,
      "outputs": [
        {
          "output_type": "execute_result",
          "data": {
            "text/plain": [
              "[('beanType', 1), ('broadOrigin', 1)]"
            ]
          },
          "metadata": {},
          "execution_count": 8
        }
      ]
    },
    {
      "cell_type": "markdown",
      "source": [
        "데이터 타겟 확인하기. (어떤 부분을 예측해야할까요?) "
      ],
      "metadata": {
        "id": "AbuSkJC2fXv-"
      }
    },
    {
      "cell_type": "code",
      "source": [
        "df.dtypes"
      ],
      "metadata": {
        "colab": {
          "base_uri": "https://localhost:8080/"
        },
        "id": "tLbIrdp7gdHu",
        "outputId": "9bb3a04c-ac3a-4b9d-e9b0-462336c267f2"
      },
      "execution_count": 9,
      "outputs": [
        {
          "output_type": "execute_result",
          "data": {
            "text/plain": [
              "company             object\n",
              "specificOrigin      object\n",
              "ref                  int64\n",
              "reviewDate           int64\n",
              "cocoaPercent        object\n",
              "companyLocation     object\n",
              "rating             float64\n",
              "beanType            object\n",
              "broadOrigin         object\n",
              "dtype: object"
            ]
          },
          "metadata": {},
          "execution_count": 9
        }
      ]
    },
    {
      "cell_type": "code",
      "source": [
        "df.describe(include = 'all').T"
      ],
      "metadata": {
        "colab": {
          "base_uri": "https://localhost:8080/",
          "height": 332
        },
        "id": "Sn4pj93EgeWJ",
        "outputId": "489253b7-4b1e-4c3e-c28e-d642b3f96e45"
      },
      "execution_count": 10,
      "outputs": [
        {
          "output_type": "execute_result",
          "data": {
            "text/plain": [
              "                  count unique         top freq         mean         std  \\\n",
              "company            1795    416        Soma   47          NaN         NaN   \n",
              "specificOrigin     1795   1039  Madagascar   57          NaN         NaN   \n",
              "ref              1795.0    NaN         NaN  NaN  1035.904735  552.886365   \n",
              "reviewDate       1795.0    NaN         NaN  NaN  2012.325348     2.92721   \n",
              "cocoaPercent       1795     45         70%  672          NaN         NaN   \n",
              "companyLocation    1795     60      U.S.A.  764          NaN         NaN   \n",
              "rating           1795.0    NaN         NaN  NaN     3.185933    0.478062   \n",
              "beanType           1794     41              887          NaN         NaN   \n",
              "broadOrigin        1794    100   Venezuela  214          NaN         NaN   \n",
              "\n",
              "                    min     25%     50%     75%     max  \n",
              "company             NaN     NaN     NaN     NaN     NaN  \n",
              "specificOrigin      NaN     NaN     NaN     NaN     NaN  \n",
              "ref                 5.0   576.0  1069.0  1502.0  1952.0  \n",
              "reviewDate       2006.0  2010.0  2013.0  2015.0  2017.0  \n",
              "cocoaPercent        NaN     NaN     NaN     NaN     NaN  \n",
              "companyLocation     NaN     NaN     NaN     NaN     NaN  \n",
              "rating              1.0   2.875    3.25     3.5     5.0  \n",
              "beanType            NaN     NaN     NaN     NaN     NaN  \n",
              "broadOrigin         NaN     NaN     NaN     NaN     NaN  "
            ],
            "text/html": [
              "\n",
              "  <div id=\"df-eef9caf8-f4f6-4a96-abf3-5a88c12fd6a8\">\n",
              "    <div class=\"colab-df-container\">\n",
              "      <div>\n",
              "<style scoped>\n",
              "    .dataframe tbody tr th:only-of-type {\n",
              "        vertical-align: middle;\n",
              "    }\n",
              "\n",
              "    .dataframe tbody tr th {\n",
              "        vertical-align: top;\n",
              "    }\n",
              "\n",
              "    .dataframe thead th {\n",
              "        text-align: right;\n",
              "    }\n",
              "</style>\n",
              "<table border=\"1\" class=\"dataframe\">\n",
              "  <thead>\n",
              "    <tr style=\"text-align: right;\">\n",
              "      <th></th>\n",
              "      <th>count</th>\n",
              "      <th>unique</th>\n",
              "      <th>top</th>\n",
              "      <th>freq</th>\n",
              "      <th>mean</th>\n",
              "      <th>std</th>\n",
              "      <th>min</th>\n",
              "      <th>25%</th>\n",
              "      <th>50%</th>\n",
              "      <th>75%</th>\n",
              "      <th>max</th>\n",
              "    </tr>\n",
              "  </thead>\n",
              "  <tbody>\n",
              "    <tr>\n",
              "      <th>company</th>\n",
              "      <td>1795</td>\n",
              "      <td>416</td>\n",
              "      <td>Soma</td>\n",
              "      <td>47</td>\n",
              "      <td>NaN</td>\n",
              "      <td>NaN</td>\n",
              "      <td>NaN</td>\n",
              "      <td>NaN</td>\n",
              "      <td>NaN</td>\n",
              "      <td>NaN</td>\n",
              "      <td>NaN</td>\n",
              "    </tr>\n",
              "    <tr>\n",
              "      <th>specificOrigin</th>\n",
              "      <td>1795</td>\n",
              "      <td>1039</td>\n",
              "      <td>Madagascar</td>\n",
              "      <td>57</td>\n",
              "      <td>NaN</td>\n",
              "      <td>NaN</td>\n",
              "      <td>NaN</td>\n",
              "      <td>NaN</td>\n",
              "      <td>NaN</td>\n",
              "      <td>NaN</td>\n",
              "      <td>NaN</td>\n",
              "    </tr>\n",
              "    <tr>\n",
              "      <th>ref</th>\n",
              "      <td>1795.0</td>\n",
              "      <td>NaN</td>\n",
              "      <td>NaN</td>\n",
              "      <td>NaN</td>\n",
              "      <td>1035.904735</td>\n",
              "      <td>552.886365</td>\n",
              "      <td>5.0</td>\n",
              "      <td>576.0</td>\n",
              "      <td>1069.0</td>\n",
              "      <td>1502.0</td>\n",
              "      <td>1952.0</td>\n",
              "    </tr>\n",
              "    <tr>\n",
              "      <th>reviewDate</th>\n",
              "      <td>1795.0</td>\n",
              "      <td>NaN</td>\n",
              "      <td>NaN</td>\n",
              "      <td>NaN</td>\n",
              "      <td>2012.325348</td>\n",
              "      <td>2.92721</td>\n",
              "      <td>2006.0</td>\n",
              "      <td>2010.0</td>\n",
              "      <td>2013.0</td>\n",
              "      <td>2015.0</td>\n",
              "      <td>2017.0</td>\n",
              "    </tr>\n",
              "    <tr>\n",
              "      <th>cocoaPercent</th>\n",
              "      <td>1795</td>\n",
              "      <td>45</td>\n",
              "      <td>70%</td>\n",
              "      <td>672</td>\n",
              "      <td>NaN</td>\n",
              "      <td>NaN</td>\n",
              "      <td>NaN</td>\n",
              "      <td>NaN</td>\n",
              "      <td>NaN</td>\n",
              "      <td>NaN</td>\n",
              "      <td>NaN</td>\n",
              "    </tr>\n",
              "    <tr>\n",
              "      <th>companyLocation</th>\n",
              "      <td>1795</td>\n",
              "      <td>60</td>\n",
              "      <td>U.S.A.</td>\n",
              "      <td>764</td>\n",
              "      <td>NaN</td>\n",
              "      <td>NaN</td>\n",
              "      <td>NaN</td>\n",
              "      <td>NaN</td>\n",
              "      <td>NaN</td>\n",
              "      <td>NaN</td>\n",
              "      <td>NaN</td>\n",
              "    </tr>\n",
              "    <tr>\n",
              "      <th>rating</th>\n",
              "      <td>1795.0</td>\n",
              "      <td>NaN</td>\n",
              "      <td>NaN</td>\n",
              "      <td>NaN</td>\n",
              "      <td>3.185933</td>\n",
              "      <td>0.478062</td>\n",
              "      <td>1.0</td>\n",
              "      <td>2.875</td>\n",
              "      <td>3.25</td>\n",
              "      <td>3.5</td>\n",
              "      <td>5.0</td>\n",
              "    </tr>\n",
              "    <tr>\n",
              "      <th>beanType</th>\n",
              "      <td>1794</td>\n",
              "      <td>41</td>\n",
              "      <td></td>\n",
              "      <td>887</td>\n",
              "      <td>NaN</td>\n",
              "      <td>NaN</td>\n",
              "      <td>NaN</td>\n",
              "      <td>NaN</td>\n",
              "      <td>NaN</td>\n",
              "      <td>NaN</td>\n",
              "      <td>NaN</td>\n",
              "    </tr>\n",
              "    <tr>\n",
              "      <th>broadOrigin</th>\n",
              "      <td>1794</td>\n",
              "      <td>100</td>\n",
              "      <td>Venezuela</td>\n",
              "      <td>214</td>\n",
              "      <td>NaN</td>\n",
              "      <td>NaN</td>\n",
              "      <td>NaN</td>\n",
              "      <td>NaN</td>\n",
              "      <td>NaN</td>\n",
              "      <td>NaN</td>\n",
              "      <td>NaN</td>\n",
              "    </tr>\n",
              "  </tbody>\n",
              "</table>\n",
              "</div>\n",
              "      <button class=\"colab-df-convert\" onclick=\"convertToInteractive('df-eef9caf8-f4f6-4a96-abf3-5a88c12fd6a8')\"\n",
              "              title=\"Convert this dataframe to an interactive table.\"\n",
              "              style=\"display:none;\">\n",
              "        \n",
              "  <svg xmlns=\"http://www.w3.org/2000/svg\" height=\"24px\"viewBox=\"0 0 24 24\"\n",
              "       width=\"24px\">\n",
              "    <path d=\"M0 0h24v24H0V0z\" fill=\"none\"/>\n",
              "    <path d=\"M18.56 5.44l.94 2.06.94-2.06 2.06-.94-2.06-.94-.94-2.06-.94 2.06-2.06.94zm-11 1L8.5 8.5l.94-2.06 2.06-.94-2.06-.94L8.5 2.5l-.94 2.06-2.06.94zm10 10l.94 2.06.94-2.06 2.06-.94-2.06-.94-.94-2.06-.94 2.06-2.06.94z\"/><path d=\"M17.41 7.96l-1.37-1.37c-.4-.4-.92-.59-1.43-.59-.52 0-1.04.2-1.43.59L10.3 9.45l-7.72 7.72c-.78.78-.78 2.05 0 2.83L4 21.41c.39.39.9.59 1.41.59.51 0 1.02-.2 1.41-.59l7.78-7.78 2.81-2.81c.8-.78.8-2.07 0-2.86zM5.41 20L4 18.59l7.72-7.72 1.47 1.35L5.41 20z\"/>\n",
              "  </svg>\n",
              "      </button>\n",
              "      \n",
              "  <style>\n",
              "    .colab-df-container {\n",
              "      display:flex;\n",
              "      flex-wrap:wrap;\n",
              "      gap: 12px;\n",
              "    }\n",
              "\n",
              "    .colab-df-convert {\n",
              "      background-color: #E8F0FE;\n",
              "      border: none;\n",
              "      border-radius: 50%;\n",
              "      cursor: pointer;\n",
              "      display: none;\n",
              "      fill: #1967D2;\n",
              "      height: 32px;\n",
              "      padding: 0 0 0 0;\n",
              "      width: 32px;\n",
              "    }\n",
              "\n",
              "    .colab-df-convert:hover {\n",
              "      background-color: #E2EBFA;\n",
              "      box-shadow: 0px 1px 2px rgba(60, 64, 67, 0.3), 0px 1px 3px 1px rgba(60, 64, 67, 0.15);\n",
              "      fill: #174EA6;\n",
              "    }\n",
              "\n",
              "    [theme=dark] .colab-df-convert {\n",
              "      background-color: #3B4455;\n",
              "      fill: #D2E3FC;\n",
              "    }\n",
              "\n",
              "    [theme=dark] .colab-df-convert:hover {\n",
              "      background-color: #434B5C;\n",
              "      box-shadow: 0px 1px 3px 1px rgba(0, 0, 0, 0.15);\n",
              "      filter: drop-shadow(0px 1px 2px rgba(0, 0, 0, 0.3));\n",
              "      fill: #FFFFFF;\n",
              "    }\n",
              "  </style>\n",
              "\n",
              "      <script>\n",
              "        const buttonEl =\n",
              "          document.querySelector('#df-eef9caf8-f4f6-4a96-abf3-5a88c12fd6a8 button.colab-df-convert');\n",
              "        buttonEl.style.display =\n",
              "          google.colab.kernel.accessAllowed ? 'block' : 'none';\n",
              "\n",
              "        async function convertToInteractive(key) {\n",
              "          const element = document.querySelector('#df-eef9caf8-f4f6-4a96-abf3-5a88c12fd6a8');\n",
              "          const dataTable =\n",
              "            await google.colab.kernel.invokeFunction('convertToInteractive',\n",
              "                                                     [key], {});\n",
              "          if (!dataTable) return;\n",
              "\n",
              "          const docLinkHtml = 'Like what you see? Visit the ' +\n",
              "            '<a target=\"_blank\" href=https://colab.research.google.com/notebooks/data_table.ipynb>data table notebook</a>'\n",
              "            + ' to learn more about interactive tables.';\n",
              "          element.innerHTML = '';\n",
              "          dataTable['output_type'] = 'display_data';\n",
              "          await google.colab.output.renderOutput(dataTable, element);\n",
              "          const docLink = document.createElement('div');\n",
              "          docLink.innerHTML = docLinkHtml;\n",
              "          element.appendChild(docLink);\n",
              "        }\n",
              "      </script>\n",
              "    </div>\n",
              "  </div>\n",
              "  "
            ]
          },
          "metadata": {},
          "execution_count": 10
        }
      ]
    },
    {
      "cell_type": "code",
      "source": [
        "df.shape"
      ],
      "metadata": {
        "colab": {
          "base_uri": "https://localhost:8080/"
        },
        "id": "CbA7yUzEgvjN",
        "outputId": "dd8eabf0-8ee0-4b92-e34a-0e750f462238"
      },
      "execution_count": 11,
      "outputs": [
        {
          "output_type": "execute_result",
          "data": {
            "text/plain": [
              "(1795, 9)"
            ]
          },
          "metadata": {},
          "execution_count": 11
        }
      ]
    },
    {
      "cell_type": "code",
      "source": [
        "df['rating'].describe()"
      ],
      "metadata": {
        "colab": {
          "base_uri": "https://localhost:8080/"
        },
        "id": "c2bXwU30g2qn",
        "outputId": "47ab8403-8ca9-412a-b017-5e8b60b031c2"
      },
      "execution_count": 12,
      "outputs": [
        {
          "output_type": "execute_result",
          "data": {
            "text/plain": [
              "count    1795.000000\n",
              "mean        3.185933\n",
              "std         0.478062\n",
              "min         1.000000\n",
              "25%         2.875000\n",
              "50%         3.250000\n",
              "75%         3.500000\n",
              "max         5.000000\n",
              "Name: rating, dtype: float64"
            ]
          },
          "metadata": {},
          "execution_count": 12
        }
      ]
    },
    {
      "cell_type": "code",
      "source": [
        "import seaborn as sns\n",
        "import matplotlib.pyplot as plt\n",
        "sns.displot(df['rating'], kde = True)\n",
        "plt.axvline(3.7, color = 'red')\n"
      ],
      "metadata": {
        "colab": {
          "base_uri": "https://localhost:8080/",
          "height": 387
        },
        "id": "RD6ie80FhAKg",
        "outputId": "5ba5ed02-2cca-4139-cd78-fd665ddb2ad0"
      },
      "execution_count": 13,
      "outputs": [
        {
          "output_type": "execute_result",
          "data": {
            "text/plain": [
              "<matplotlib.lines.Line2D at 0x7fdf59479220>"
            ]
          },
          "metadata": {},
          "execution_count": 13
        },
        {
          "output_type": "display_data",
          "data": {
            "text/plain": [
              "<Figure size 360x360 with 1 Axes>"
            ],
            "image/png": "[encoded data removed]"
          },
          "metadata": {
            "needs_background": "light"
          }
        }
      ]
    },
    {
      "cell_type": "markdown",
      "source": [
        "캐글에서는 맛에 대한 만족도를 1에서 5 사이로 표현합니다.\n",
        "* 3 : 맛은 중간정도\n",
        "* 2 : 맛이 실망스러움\n",
        "* 1 : 진짜 ㅈ같은 맛임"
      ],
      "metadata": {
        "id": "dU2Ve4P9ywDI"
      }
    },
    {
      "cell_type": "markdown",
      "source": [
        "현재 점수가 0.5점 간격으로 그려집니다. \n",
        "3.7점을 기준으로 3.7이상이라면 추천, 그렇지 않으면 비추천을 진행합니다.\n",
        "\n",
        "#### 즉, 이진분류타입으로 값을 바꿔보도록 합니다."
      ],
      "metadata": {
        "id": "D8BAcR5j4nTE"
      }
    },
    {
      "cell_type": "code",
      "source": [
        "# 새로운 컬럼생성\n",
        "df['recommend'] = df['rating'] >= 3.7\n",
        "df['recommend'].nunique()"
      ],
      "metadata": {
        "colab": {
          "base_uri": "https://localhost:8080/"
        },
        "id": "VoXI6pn949r4",
        "outputId": "90660d42-0159-4027-a8f6-93926e17451c"
      },
      "execution_count": 14,
      "outputs": [
        {
          "output_type": "execute_result",
          "data": {
            "text/plain": [
              "2"
            ]
          },
          "metadata": {},
          "execution_count": 14
        }
      ]
    },
    {
      "cell_type": "code",
      "source": [
        "df['recommend'].value_counts()"
      ],
      "metadata": {
        "colab": {
          "base_uri": "https://localhost:8080/"
        },
        "id": "gf7MZ1dp8XsA",
        "outputId": "e3474957-856e-43e2-df6b-5cebe3b007ba"
      },
      "execution_count": 15,
      "outputs": [
        {
          "output_type": "execute_result",
          "data": {
            "text/plain": [
              "False    1485\n",
              "True      310\n",
              "Name: recommend, dtype: int64"
            ]
          },
          "metadata": {},
          "execution_count": 15
        }
      ]
    },
    {
      "cell_type": "markdown",
      "source": [
        "#### 데이터 특성 간단하게 살펴보고, 전처리 진행하기.\n"
      ],
      "metadata": {
        "id": "h4Dzlr3Z8bGA"
      }
    },
    {
      "cell_type": "code",
      "source": [
        "df['cocoaPercent'].head()"
      ],
      "metadata": {
        "colab": {
          "base_uri": "https://localhost:8080/"
        },
        "id": "gcJYEM218l6z",
        "outputId": "a09762c1-9088-4d88-c492-b062dc4e0afe"
      },
      "execution_count": 16,
      "outputs": [
        {
          "output_type": "execute_result",
          "data": {
            "text/plain": [
              "0    63%\n",
              "1    70%\n",
              "2    70%\n",
              "3    70%\n",
              "4    70%\n",
              "Name: cocoaPercent, dtype: object"
            ]
          },
          "metadata": {},
          "execution_count": 16
        }
      ]
    },
    {
      "cell_type": "markdown",
      "source": [
        "#### broadOrigin은 원산지에 대한 특성인데, 같은 값이 다르게 처리되는 경우가 있어 전처리가 필요하다.\n"
      ],
      "metadata": {
        "id": "MC57jLgV8wdQ"
      }
    },
    {
      "cell_type": "code",
      "source": [
        "df['broadOrigin'].unique()"
      ],
      "metadata": {
        "colab": {
          "base_uri": "https://localhost:8080/"
        },
        "id": "GSm5dCZ189wF",
        "outputId": "ea86a768-718c-4189-c0c9-e4e1332b69be"
      },
      "execution_count": 17,
      "outputs": [
        {
          "output_type": "execute_result",
          "data": {
            "text/plain": [
              "array(['Sao Tome', 'Togo', 'Peru', 'Venezuela', 'Cuba', 'Panama',\n",
              "       'Madagascar', 'Brazil', 'Ecuador', 'Colombia', 'Burma',\n",
              "       'Papua New Guinea', 'Bolivia', 'Fiji', 'Mexico', 'Indonesia',\n",
              "       'Trinidad', 'Vietnam', 'Nicaragua', 'Tanzania',\n",
              "       'Dominican Republic', 'Ghana', 'Belize', '\\xa0', 'Jamaica',\n",
              "       'Grenada', 'Guatemala', 'Honduras', 'Costa Rica',\n",
              "       'Domincan Republic', 'Haiti', 'Congo', 'Philippines', 'Malaysia',\n",
              "       'Dominican Rep., Bali', 'Venez,Africa,Brasil,Peru,Mex', 'Gabon',\n",
              "       'Ivory Coast', 'Carribean', 'Sri Lanka', 'Puerto Rico', 'Uganda',\n",
              "       'Martinique', 'Sao Tome & Principe', 'Vanuatu', 'Australia',\n",
              "       'Liberia', 'Ecuador, Costa Rica', 'West Africa', 'Hawaii',\n",
              "       'St. Lucia', 'Cost Rica, Ven', 'Peru, Madagascar',\n",
              "       'Venezuela, Trinidad', 'Trinidad, Tobago',\n",
              "       'Ven, Trinidad, Ecuador', 'South America, Africa', 'India',\n",
              "       'Africa, Carribean, C. Am.', 'Tobago', 'Ven., Indonesia, Ecuad.',\n",
              "       'Trinidad-Tobago', 'Peru, Ecuador, Venezuela',\n",
              "       'Venezuela, Dom. Rep.', 'Colombia, Ecuador', 'Solomon Islands',\n",
              "       'Nigeria', 'Peru, Belize', 'Peru, Mad., Dom. Rep.', nan,\n",
              "       'PNG, Vanuatu, Mad', 'El Salvador', 'South America', 'Samoa',\n",
              "       'Ghana, Domin. Rep', 'Trinidad, Ecuador', 'Cameroon',\n",
              "       'Venezuela, Java', 'Venezuela/ Ghana', 'Venezuela, Ghana',\n",
              "       'Indonesia, Ghana', 'Peru(SMartin,Pangoa,nacional)', 'Principe',\n",
              "       'Central and S. America', 'Ven., Trinidad, Mad.',\n",
              "       'Carribean(DR/Jam/Tri)', 'Ghana & Madagascar',\n",
              "       'Ven.,Ecu.,Peru,Nic.', 'Madagascar & Ecuador',\n",
              "       'Guat., D.R., Peru, Mad., PNG', 'Peru, Dom. Rep',\n",
              "       'Dom. Rep., Madagascar', 'Gre., PNG, Haw., Haiti, Mad',\n",
              "       'Mad., Java, PNG', 'Ven, Bolivia, D.R.', 'DR, Ecuador, Peru',\n",
              "       'Suriname', 'Peru, Ecuador', 'Ecuador, Mad., PNG',\n",
              "       'Ghana, Panama, Ecuador', 'Venezuela, Carribean'], dtype=object)"
            ]
          },
          "metadata": {},
          "execution_count": 17
        }
      ]
    },
    {
      "cell_type": "code",
      "source": [
        "import re\n",
        "\n",
        "# broadOrigin 텍스트를 수정하기 위한 함수입니다.\n",
        "def txt_prep(text):\n",
        "    replacements = [\n",
        "        ['-', ', '], ['/ ', ', '], ['/', ', '], ['\\(', ', '], [' and', ', '], [' &', ', '], ['\\)', ''],\n",
        "        ['Dom Rep|DR|Domin Rep|Dominican Rep,|Domincan Republic', 'Dominican Republic'],\n",
        "        ['Mad,|Mad$', 'Madagascar, '],\n",
        "        ['PNG', 'Papua New Guinea, '],\n",
        "        ['Guat,|Guat$', 'Guatemala, '],\n",
        "        ['Ven,|Ven$|Venez,|Venez$', 'Venezuela, '],\n",
        "        ['Ecu,|Ecu$|Ecuad,|Ecuad$', 'Ecuador, '],\n",
        "        ['Nic,|Nic$', 'Nicaragua, '],\n",
        "        ['Cost Rica', 'Costa Rica'],\n",
        "        ['Mex,|Mex$', 'Mexico, '],\n",
        "        ['Jam,|Jam$', 'Jamaica, '],\n",
        "        ['Haw,|Haw$', 'Hawaii, '],\n",
        "        ['Gre,|Gre$', 'Grenada, '],\n",
        "        ['Tri,|Tri$', 'Trinidad, '],\n",
        "        ['C Am', 'Central America'],\n",
        "        ['S America', 'South America'],\n",
        "        [', $', ''], [',  ', ', '], [', ,', ', '], ['\\xa0', ' '],[',\\s+', ','],\n",
        "        ['\\.',''],\n",
        "        [' Bali', ',Bali']\n",
        "    ]\n",
        "    for i, j in replacements:\n",
        "        text = re.sub(i, j, text)\n",
        "    return text"
      ],
      "metadata": {
        "id": "RMJaCXVd9CAq"
      },
      "execution_count": 18,
      "outputs": []
    },
    {
      "cell_type": "code",
      "source": [
        "df['beanType'].head(40)"
      ],
      "metadata": {
        "colab": {
          "base_uri": "https://localhost:8080/"
        },
        "id": "AlGgT3XfSXag",
        "outputId": "66a95128-4a31-4b4b-898d-a768867487f8"
      },
      "execution_count": 19,
      "outputs": [
        {
          "output_type": "execute_result",
          "data": {
            "text/plain": [
              "0                       \n",
              "1                       \n",
              "2                       \n",
              "3                       \n",
              "4                       \n",
              "5                Criollo\n",
              "6                       \n",
              "7                Criollo\n",
              "8                Criollo\n",
              "9                       \n",
              "10                      \n",
              "11               Criollo\n",
              "12                      \n",
              "13                      \n",
              "14                      \n",
              "15                      \n",
              "16                      \n",
              "17            Trinitario\n",
              "18                      \n",
              "19                      \n",
              "20                      \n",
              "21                      \n",
              "22                      \n",
              "23                      \n",
              "24               Criollo\n",
              "25            Trinitario\n",
              "26            Trinitario\n",
              "27            Trinitario\n",
              "28            Trinitario\n",
              "29    Forastero (Arriba)\n",
              "30    Forastero (Arriba)\n",
              "31               Criollo\n",
              "32            Trinitario\n",
              "33               Criollo\n",
              "34             Forastero\n",
              "35            Trinitario\n",
              "36            Trinitario\n",
              "37            Trinitario\n",
              "38            Trinitario\n",
              "39                      \n",
              "Name: beanType, dtype: object"
            ]
          },
          "metadata": {},
          "execution_count": 19
        }
      ]
    },
    {
      "cell_type": "code",
      "source": [
        "def preprocess (df):\n",
        "\n",
        "    df.dropna(inplace=True)\n",
        "    \n",
        "    df['cocoaPercent'] = df['cocoaPercent'].str.replace('%','',regex = True).astype(float)/100\n",
        "    \n",
        "    df['broadOrigin'] = df['broadOrigin'].apply(txt_prep)\n",
        "    \n",
        "    df['companyLocation'] = df['companyLocation']\\\n",
        "    .str.replace('Amsterdam', 'Holland',regex = True)\\\n",
        "    .str.replace('U.K.', 'England',regex = True)\\\n",
        "    .str.replace('Niacragua', 'Nicaragua',regex = True)\\\n",
        "    .str.replace('Domincan Republic', 'Dominican Republic',regex = True)\n",
        "    \n",
        "    df['beanType'] = df['beanType'].apply(lambda x : 'Missing' if (x == \"\\xa0\") else x)\n",
        "    \n",
        "    df['is_blend'] = np.where(\n",
        "    np.logical_or(\n",
        "        np.logical_or(df['specificOrigin'].str.lower().str.contains(',|blend|;'),\n",
        "                      df['broadOrigin'].str.len() == 1),\n",
        "        df['broadOrigin'].str.lower().str.contains(',')\n",
        "    )\n",
        "    , 1\n",
        "    , 0\n",
        ")\n",
        "    \n",
        "    return df\n",
        "\n",
        "df = preprocess(df)"
      ],
      "metadata": {
        "id": "lED5y4jYQM5d"
      },
      "execution_count": 20,
      "outputs": []
    },
    {
      "cell_type": "code",
      "source": [
        "df['is_blend'].value_counts()"
      ],
      "metadata": {
        "colab": {
          "base_uri": "https://localhost:8080/"
        },
        "id": "SUxrKVi3DKxm",
        "outputId": "85a44143-557c-4077-c6fc-175c54e249fa"
      },
      "execution_count": 21,
      "outputs": [
        {
          "output_type": "execute_result",
          "data": {
            "text/plain": [
              "0    1095\n",
              "1     698\n",
              "Name: is_blend, dtype: int64"
            ]
          },
          "metadata": {},
          "execution_count": 21
        }
      ]
    },
    {
      "cell_type": "code",
      "source": [
        "df.isna().sum().sort_values()"
      ],
      "metadata": {
        "colab": {
          "base_uri": "https://localhost:8080/"
        },
        "id": "6ETLQPpqrYoH",
        "outputId": "31399933-17df-4436-f2c1-5dde13fea02f"
      },
      "execution_count": 22,
      "outputs": [
        {
          "output_type": "execute_result",
          "data": {
            "text/plain": [
              "company            0\n",
              "specificOrigin     0\n",
              "ref                0\n",
              "reviewDate         0\n",
              "cocoaPercent       0\n",
              "companyLocation    0\n",
              "rating             0\n",
              "beanType           0\n",
              "broadOrigin        0\n",
              "recommend          0\n",
              "is_blend           0\n",
              "dtype: int64"
            ]
          },
          "metadata": {},
          "execution_count": 22
        }
      ]
    },
    {
      "cell_type": "code",
      "source": [
        "df['reviewDate'].value_counts().sort_index()"
      ],
      "metadata": {
        "colab": {
          "base_uri": "https://localhost:8080/"
        },
        "id": "B-aq9g-2sGc3",
        "outputId": "3da625ac-b4de-4484-e6bb-cf704d3e5350"
      },
      "execution_count": 23,
      "outputs": [
        {
          "output_type": "execute_result",
          "data": {
            "text/plain": [
              "2006     72\n",
              "2007     77\n",
              "2008     93\n",
              "2009    123\n",
              "2010    111\n",
              "2011    164\n",
              "2012    194\n",
              "2013    184\n",
              "2014    247\n",
              "2015    285\n",
              "2016    219\n",
              "2017     24\n",
              "Name: reviewDate, dtype: int64"
            ]
          },
          "metadata": {},
          "execution_count": 23
        }
      ]
    },
    {
      "cell_type": "markdown",
      "source": [
        "####데이터 분할"
      ],
      "metadata": {
        "id": "27mke7fltJSm"
      }
    },
    {
      "cell_type": "code",
      "source": [
        "from sklearn.model_selection import train_test_split\n",
        "train, val = train_test_split(df, test_size= 0.2, random_state=2)\n",
        "train.shape, val.shape"
      ],
      "metadata": {
        "colab": {
          "base_uri": "https://localhost:8080/"
        },
        "id": "brbZRyWQtemy",
        "outputId": "16d8aefb-d2eb-4f52-9807-0bdc249656dc"
      },
      "execution_count": 24,
      "outputs": [
        {
          "output_type": "execute_result",
          "data": {
            "text/plain": [
              "((1434, 11), (359, 11))"
            ]
          },
          "metadata": {},
          "execution_count": 24
        }
      ]
    },
    {
      "cell_type": "code",
      "source": [
        "# 필요한 라이브러리 가져오기.\n",
        "from category_encoders import OrdinalEncoder\n",
        "from sklearn.pipeline import make_pipeline\n",
        "from sklearn.tree import DecisionTreeClassifier\n",
        "\n",
        "# target & features 지정\n",
        "target = 'recommend'\n",
        "features = df.columns.drop([target, 'reviewDate'])\n",
        "\n",
        "# 데이터 분할\n",
        "X_train = train[features]\n",
        "y_train = train[target]\n",
        "X_val = val[features]\n",
        "y_val = val[target]\n",
        "\n",
        "pipe = make_pipeline(\n",
        "    OrdinalEncoder(),\n",
        "    DecisionTreeClassifier(max_depth=5, random_state=2)\n",
        ")\n",
        "\n",
        "pipe.fit(X_train, y_train)\n",
        "print('검증 정확도:', pipe.score(X_val, y_val))"
      ],
      "metadata": {
        "colab": {
          "base_uri": "https://localhost:8080/"
        },
        "id": "6vH-prAxttKr",
        "outputId": "ab6964f6-8b32-4a6c-f7a3-6bb0b360a43b"
      },
      "execution_count": 25,
      "outputs": [
        {
          "output_type": "stream",
          "name": "stdout",
          "text": [
            "검증 정확도: 1.0\n"
          ]
        }
      ]
    },
    {
      "cell_type": "markdown",
      "source": [
        "#### 검증 정확도가 100%(=1)로 나온 이유는 무엇일까요?\n",
        "---\n",
        "트리를 직접 그려 확인하여 봅시다."
      ],
      "metadata": {
        "id": "S34Uq01Qt1PQ"
      }
    },
    {
      "cell_type": "code",
      "source": [
        "import graphviz\n",
        "from sklearn.tree import export_graphviz\n",
        "tree = pipe.named_steps['decisiontreeclassifier']\n",
        "\n",
        "dot_data = export_graphviz(\n",
        "    tree,\n",
        "    feature_names = X_train.columns,\n",
        "    class_names = y_train.unique().astype(str),\n",
        "    filled = True,\n",
        "    proportion = True, \n",
        ")\n",
        "\n",
        "\n",
        "graphviz.Source(dot_data)"
      ],
      "metadata": {
        "colab": {
          "base_uri": "https://localhost:8080/",
          "height": 280
        },
        "id": "9EqHO96dz4uf",
        "outputId": "5afdf1b5-72c2-4a1e-ac29-fae1e366ac20"
      },
      "execution_count": 26,
      "outputs": [
        {
          "output_type": "execute_result",
          "data": {
            "text/plain": [
              "<graphviz.files.Source at 0x7fdf474814c0>"
            ],
            "image/svg+xml": "<?xml version=\"1.0\" encoding=\"UTF-8\" standalone=\"no\"?>\n<!DOCTYPE svg PUBLIC \"-//W3C//DTD SVG 1.1//EN\"\n \"http://www.w3.org/Graphics/SVG/1.1/DTD/svg11.dtd\">\n<!-- Generated by graphviz version 2.40.1 (20161225.0304)\n -->\n<!-- Title: Tree Pages: 1 -->\n<svg width=\"282pt\" height=\"195pt\"\n viewBox=\"0.00 0.00 282.00 195.00\" xmlns=\"http://www.w3.org/2000/svg\" xmlns:xlink=\"http://www.w3.org/1999/xlink\">\n<g id=\"graph0\" class=\"graph\" transform=\"scale(1 1) rotate(0) translate(4 191)\">\n<title>Tree</title>\n<polygon fill=\"#ffffff\" stroke=\"transparent\" points=\"-4,4 -4,-191 278,-191 278,4 -4,4\"/>\n<!-- 0 -->\n<g id=\"node1\" class=\"node\">\n<title>0</title>\n<polygon fill=\"#eb9c63\" stroke=\"#000000\" points=\"215,-187 59,-187 59,-104 215,-104 215,-187\"/>\n<text text-anchor=\"middle\" x=\"137\" y=\"-171.8\" font-family=\"Helvetica,sans-Serif\" font-size=\"14.00\" fill=\"#000000\">rating &lt;= 3.625</text>\n<text text-anchor=\"middle\" x=\"137\" y=\"-156.8\" font-family=\"Helvetica,sans-Serif\" font-size=\"14.00\" fill=\"#000000\">gini = 0.29</text>\n<text text-anchor=\"middle\" x=\"137\" y=\"-141.8\" font-family=\"Helvetica,sans-Serif\" font-size=\"14.00\" fill=\"#000000\">samples = 100.0%</text>\n<text text-anchor=\"middle\" x=\"137\" y=\"-126.8\" font-family=\"Helvetica,sans-Serif\" font-size=\"14.00\" fill=\"#000000\">value = [0.824, 0.176]</text>\n<text text-anchor=\"middle\" x=\"137\" y=\"-111.8\" font-family=\"Helvetica,sans-Serif\" font-size=\"14.00\" fill=\"#000000\">class = False</text>\n</g>\n<!-- 1 -->\n<g id=\"node2\" class=\"node\">\n<title>1</title>\n<polygon fill=\"#e58139\" stroke=\"#000000\" points=\"128,-68 0,-68 0,0 128,0 128,-68\"/>\n<text text-anchor=\"middle\" x=\"64\" y=\"-52.8\" font-family=\"Helvetica,sans-Serif\" font-size=\"14.00\" fill=\"#000000\">gini = 0.0</text>\n<text text-anchor=\"middle\" x=\"64\" y=\"-37.8\" font-family=\"Helvetica,sans-Serif\" font-size=\"14.00\" fill=\"#000000\">samples = 82.4%</text>\n<text text-anchor=\"middle\" x=\"64\" y=\"-22.8\" font-family=\"Helvetica,sans-Serif\" font-size=\"14.00\" fill=\"#000000\">value = [1.0, 0.0]</text>\n<text text-anchor=\"middle\" x=\"64\" y=\"-7.8\" font-family=\"Helvetica,sans-Serif\" font-size=\"14.00\" fill=\"#000000\">class = False</text>\n</g>\n<!-- 0&#45;&gt;1 -->\n<g id=\"edge1\" class=\"edge\">\n<title>0&#45;&gt;1</title>\n<path fill=\"none\" stroke=\"#000000\" d=\"M109.8175,-103.9815C103.9808,-95.0666 97.8034,-85.6313 91.9386,-76.6734\"/>\n<polygon fill=\"#000000\" stroke=\"#000000\" points=\"94.8386,-74.7129 86.4327,-68.2637 88.9821,-78.5472 94.8386,-74.7129\"/>\n<text text-anchor=\"middle\" x=\"81.3259\" y=\"-89.0365\" font-family=\"Helvetica,sans-Serif\" font-size=\"14.00\" fill=\"#000000\">True</text>\n</g>\n<!-- 2 -->\n<g id=\"node3\" class=\"node\">\n<title>2</title>\n<polygon fill=\"#399de5\" stroke=\"#000000\" points=\"274,-68 146,-68 146,0 274,0 274,-68\"/>\n<text text-anchor=\"middle\" x=\"210\" y=\"-52.8\" font-family=\"Helvetica,sans-Serif\" font-size=\"14.00\" fill=\"#000000\">gini = 0.0</text>\n<text text-anchor=\"middle\" x=\"210\" y=\"-37.8\" font-family=\"Helvetica,sans-Serif\" font-size=\"14.00\" fill=\"#000000\">samples = 17.6%</text>\n<text text-anchor=\"middle\" x=\"210\" y=\"-22.8\" font-family=\"Helvetica,sans-Serif\" font-size=\"14.00\" fill=\"#000000\">value = [0.0, 1.0]</text>\n<text text-anchor=\"middle\" x=\"210\" y=\"-7.8\" font-family=\"Helvetica,sans-Serif\" font-size=\"14.00\" fill=\"#000000\">class = True</text>\n</g>\n<!-- 0&#45;&gt;2 -->\n<g id=\"edge2\" class=\"edge\">\n<title>0&#45;&gt;2</title>\n<path fill=\"none\" stroke=\"#000000\" d=\"M164.1825,-103.9815C170.0192,-95.0666 176.1966,-85.6313 182.0614,-76.6734\"/>\n<polygon fill=\"#000000\" stroke=\"#000000\" points=\"185.0179,-78.5472 187.5673,-68.2637 179.1614,-74.7129 185.0179,-78.5472\"/>\n<text text-anchor=\"middle\" x=\"192.6741\" y=\"-89.0365\" font-family=\"Helvetica,sans-Serif\" font-size=\"14.00\" fill=\"#000000\">False</text>\n</g>\n</g>\n</svg>\n"
          },
          "metadata": {},
          "execution_count": 26
        }
      ]
    },
    {
      "cell_type": "markdown",
      "source": [
        "#### why does this model have perfect accuarcy?\n",
        "---\n",
        "```column = 'rating'```이 상위 root node에서 분할되어 완벽하게 예측을 수행하였기 때문이다. \n",
        "\n"
      ],
      "metadata": {
        "id": "PvBfgp2Ez2Cz"
      }
    },
    {
      "cell_type": "markdown",
      "source": [
        "\n",
        "#### How can I fix this situation?\n",
        "---\n",
        "과적합을 나타내는 컬럼을 지워야 합니다, 이 때 필요없는 컬럼 또한 지우도록 합니다. "
      ],
      "metadata": {
        "id": "Lva3ypcV3ugz"
      }
    },
    {
      "cell_type": "code",
      "source": [
        "features = df.columns.drop([target, \n",
        "                            'reviewDate',\n",
        "                            'rating',\n",
        "                            'ref'])\n",
        "\n",
        "# 훈련 데이터\n",
        "X_train = train[features]\n",
        "y_train = train[target]\n",
        "\n",
        "# 검증 데이터 \n",
        "X_val = val[features]\n",
        "y_val = val[target]\n",
        "\n",
        "# 파이프라인 생성\n",
        "pipe = make_pipeline(\n",
        "    OrdinalEncoder(),\n",
        "    DecisionTreeClassifier(max_depth = 5, \n",
        "                           random_state = 2)\n",
        ")\n",
        "\n",
        "# 데이터 fit\n",
        "pipe.fit(X_train, y_train)\n",
        "print('검증 정확도', pipe.score(X_val, y_val))"
      ],
      "metadata": {
        "colab": {
          "base_uri": "https://localhost:8080/"
        },
        "id": "2eB279l3553B",
        "outputId": "fdc3bdd6-690c-407d-b3fb-664838132704"
      },
      "execution_count": 27,
      "outputs": [
        {
          "output_type": "stream",
          "name": "stdout",
          "text": [
            "검증 정확도 0.83008356545961\n"
          ]
        }
      ]
    },
    {
      "cell_type": "markdown",
      "source": [
        "####  불필요한 컬럼을 삭제한 이후 정확도의 값이 달라졌습니다.\n",
        "---\n",
        "생성된 모델에 대하여 트리를 그린 후 살펴보도록 합니다. "
      ],
      "metadata": {
        "id": "t4gRaX7E64-a"
      }
    },
    {
      "cell_type": "code",
      "source": [
        "tree = pipe.named_steps['decisiontreeclassifier']\n",
        "\n",
        "dot_data = export_graphviz(\n",
        "    tree, \n",
        "    feature_names = X_train.columns,\n",
        "    class_names = y_train.unique().astype(str),\n",
        "    filled = True,\n",
        "    proportion = True\n",
        ")\n",
        "\n",
        "graphviz.Source(dot_data)"
      ],
      "metadata": {
        "colab": {
          "base_uri": "https://localhost:8080/",
          "height": 935
        },
        "id": "jw9kPxtI7ezv",
        "outputId": "4f359431-726d-40c9-d699-2ab5d2605d8c"
      },
      "execution_count": 28,
      "outputs": [
        {
          "output_type": "execute_result",
          "data": {
            "text/plain": [
              "<graphviz.files.Source at 0x7fdf47481790>"
            ],
            "image/svg+xml": "<?xml version=\"1.0\" encoding=\"UTF-8\" standalone=\"no\"?>\n<!DOCTYPE svg PUBLIC \"-//W3C//DTD SVG 1.1//EN\"\n \"http://www.w3.org/Graphics/SVG/1.1/DTD/svg11.dtd\">\n<!-- Generated by graphviz version 2.40.1 (20161225.0304)\n -->\n<!-- Title: Tree Pages: 1 -->\n<svg width=\"2894pt\" height=\"671pt\"\n viewBox=\"0.00 0.00 2894.00 671.00\" xmlns=\"http://www.w3.org/2000/svg\" xmlns:xlink=\"http://www.w3.org/1999/xlink\">\n<g id=\"graph0\" class=\"graph\" transform=\"scale(1 1) rotate(0) translate(4 667)\">\n<title>Tree</title>\n<polygon fill=\"#ffffff\" stroke=\"transparent\" points=\"-4,4 -4,-667 2890,-667 2890,4 -4,4\"/>\n<!-- 0 -->\n<g id=\"node1\" class=\"node\">\n<title>0</title>\n<polygon fill=\"#eb9c63\" stroke=\"#000000\" points=\"1830,-663 1666,-663 1666,-580 1830,-580 1830,-663\"/>\n<text text-anchor=\"middle\" x=\"1748\" y=\"-647.8\" font-family=\"Helvetica,sans-Serif\" font-size=\"14.00\" fill=\"#000000\">specificOrigin &lt;= 265.5</text>\n<text text-anchor=\"middle\" x=\"1748\" y=\"-632.8\" font-family=\"Helvetica,sans-Serif\" font-size=\"14.00\" fill=\"#000000\">gini = 0.29</text>\n<text text-anchor=\"middle\" x=\"1748\" y=\"-617.8\" font-family=\"Helvetica,sans-Serif\" font-size=\"14.00\" fill=\"#000000\">samples = 100.0%</text>\n<text text-anchor=\"middle\" x=\"1748\" y=\"-602.8\" font-family=\"Helvetica,sans-Serif\" font-size=\"14.00\" fill=\"#000000\">value = [0.824, 0.176]</text>\n<text text-anchor=\"middle\" x=\"1748\" y=\"-587.8\" font-family=\"Helvetica,sans-Serif\" font-size=\"14.00\" fill=\"#000000\">class = False</text>\n</g>\n<!-- 1 -->\n<g id=\"node2\" class=\"node\">\n<title>1</title>\n<polygon fill=\"#e99457\" stroke=\"#000000\" points=\"1452,-544 1296,-544 1296,-461 1452,-461 1452,-544\"/>\n<text text-anchor=\"middle\" x=\"1374\" y=\"-528.8\" font-family=\"Helvetica,sans-Serif\" font-size=\"14.00\" fill=\"#000000\">company &lt;= 110.5</text>\n<text text-anchor=\"middle\" x=\"1374\" y=\"-513.8\" font-family=\"Helvetica,sans-Serif\" font-size=\"14.00\" fill=\"#000000\">gini = 0.23</text>\n<text text-anchor=\"middle\" x=\"1374\" y=\"-498.8\" font-family=\"Helvetica,sans-Serif\" font-size=\"14.00\" fill=\"#000000\">samples = 52.6%</text>\n<text text-anchor=\"middle\" x=\"1374\" y=\"-483.8\" font-family=\"Helvetica,sans-Serif\" font-size=\"14.00\" fill=\"#000000\">value = [0.868, 0.132]</text>\n<text text-anchor=\"middle\" x=\"1374\" y=\"-468.8\" font-family=\"Helvetica,sans-Serif\" font-size=\"14.00\" fill=\"#000000\">class = False</text>\n</g>\n<!-- 0&#45;&gt;1 -->\n<g id=\"edge1\" class=\"edge\">\n<title>0&#45;&gt;1</title>\n<path fill=\"none\" stroke=\"#000000\" d=\"M1665.9241,-595.3849C1605.5087,-576.1619 1523.4897,-550.0649 1461.7716,-530.4273\"/>\n<polygon fill=\"#000000\" stroke=\"#000000\" points=\"1462.6374,-527.03 1452.0469,-527.3331 1460.5149,-533.7005 1462.6374,-527.03\"/>\n<text text-anchor=\"middle\" x=\"1463.5325\" y=\"-545.8386\" font-family=\"Helvetica,sans-Serif\" font-size=\"14.00\" fill=\"#000000\">True</text>\n</g>\n<!-- 24 -->\n<g id=\"node25\" class=\"node\">\n<title>24</title>\n<polygon fill=\"#eca572\" stroke=\"#000000\" points=\"2293,-544 2137,-544 2137,-461 2293,-461 2293,-544\"/>\n<text text-anchor=\"middle\" x=\"2215\" y=\"-528.8\" font-family=\"Helvetica,sans-Serif\" font-size=\"14.00\" fill=\"#000000\">company &lt;= 284.0</text>\n<text text-anchor=\"middle\" x=\"2215\" y=\"-513.8\" font-family=\"Helvetica,sans-Serif\" font-size=\"14.00\" fill=\"#000000\">gini = 0.347</text>\n<text text-anchor=\"middle\" x=\"2215\" y=\"-498.8\" font-family=\"Helvetica,sans-Serif\" font-size=\"14.00\" fill=\"#000000\">samples = 47.4%</text>\n<text text-anchor=\"middle\" x=\"2215\" y=\"-483.8\" font-family=\"Helvetica,sans-Serif\" font-size=\"14.00\" fill=\"#000000\">value = [0.776, 0.224]</text>\n<text text-anchor=\"middle\" x=\"2215\" y=\"-468.8\" font-family=\"Helvetica,sans-Serif\" font-size=\"14.00\" fill=\"#000000\">class = False</text>\n</g>\n<!-- 0&#45;&gt;24 -->\n<g id=\"edge24\" class=\"edge\">\n<title>0&#45;&gt;24</title>\n<path fill=\"none\" stroke=\"#000000\" d=\"M1830.1473,-600.5674C1913.3511,-579.3656 2041.6068,-546.6837 2126.888,-524.9525\"/>\n<polygon fill=\"#000000\" stroke=\"#000000\" points=\"2127.9842,-528.2851 2136.8103,-522.4241 2126.2557,-521.5019 2127.9842,-528.2851\"/>\n<text text-anchor=\"middle\" x=\"2124.0451\" y=\"-540.2195\" font-family=\"Helvetica,sans-Serif\" font-size=\"14.00\" fill=\"#000000\">False</text>\n</g>\n<!-- 2 -->\n<g id=\"node3\" class=\"node\">\n<title>2</title>\n<polygon fill=\"#eb9c63\" stroke=\"#000000\" points=\"954,-425 798,-425 798,-342 954,-342 954,-425\"/>\n<text text-anchor=\"middle\" x=\"876\" y=\"-409.8\" font-family=\"Helvetica,sans-Serif\" font-size=\"14.00\" fill=\"#000000\">broadOrigin &lt;= 14.5</text>\n<text text-anchor=\"middle\" x=\"876\" y=\"-394.8\" font-family=\"Helvetica,sans-Serif\" font-size=\"14.00\" fill=\"#000000\">gini = 0.29</text>\n<text text-anchor=\"middle\" x=\"876\" y=\"-379.8\" font-family=\"Helvetica,sans-Serif\" font-size=\"14.00\" fill=\"#000000\">samples = 28.5%</text>\n<text text-anchor=\"middle\" x=\"876\" y=\"-364.8\" font-family=\"Helvetica,sans-Serif\" font-size=\"14.00\" fill=\"#000000\">value = [0.824, 0.176]</text>\n<text text-anchor=\"middle\" x=\"876\" y=\"-349.8\" font-family=\"Helvetica,sans-Serif\" font-size=\"14.00\" fill=\"#000000\">class = False</text>\n</g>\n<!-- 1&#45;&gt;2 -->\n<g id=\"edge2\" class=\"edge\">\n<title>1&#45;&gt;2</title>\n<path fill=\"none\" stroke=\"#000000\" d=\"M1295.9138,-483.8408C1205.8921,-462.3296 1058.2742,-427.0555 964.1884,-404.5731\"/>\n<polygon fill=\"#000000\" stroke=\"#000000\" points=\"964.9452,-401.1555 954.4056,-402.2355 963.3183,-407.9638 964.9452,-401.1555\"/>\n</g>\n<!-- 15 -->\n<g id=\"node16\" class=\"node\">\n<title>15</title>\n<polygon fill=\"#e78c4a\" stroke=\"#000000\" points=\"1452,-425 1296,-425 1296,-342 1452,-342 1452,-425\"/>\n<text text-anchor=\"middle\" x=\"1374\" y=\"-409.8\" font-family=\"Helvetica,sans-Serif\" font-size=\"14.00\" fill=\"#000000\">broadOrigin &lt;= 66.5</text>\n<text text-anchor=\"middle\" x=\"1374\" y=\"-394.8\" font-family=\"Helvetica,sans-Serif\" font-size=\"14.00\" fill=\"#000000\">gini = 0.149</text>\n<text text-anchor=\"middle\" x=\"1374\" y=\"-379.8\" font-family=\"Helvetica,sans-Serif\" font-size=\"14.00\" fill=\"#000000\">samples = 24.1%</text>\n<text text-anchor=\"middle\" x=\"1374\" y=\"-364.8\" font-family=\"Helvetica,sans-Serif\" font-size=\"14.00\" fill=\"#000000\">value = [0.919, 0.081]</text>\n<text text-anchor=\"middle\" x=\"1374\" y=\"-349.8\" font-family=\"Helvetica,sans-Serif\" font-size=\"14.00\" fill=\"#000000\">class = False</text>\n</g>\n<!-- 1&#45;&gt;15 -->\n<g id=\"edge15\" class=\"edge\">\n<title>1&#45;&gt;15</title>\n<path fill=\"none\" stroke=\"#000000\" d=\"M1374,-460.8796C1374,-452.6838 1374,-443.9891 1374,-435.5013\"/>\n<polygon fill=\"#000000\" stroke=\"#000000\" points=\"1377.5001,-435.298 1374,-425.2981 1370.5001,-435.2981 1377.5001,-435.298\"/>\n</g>\n<!-- 3 -->\n<g id=\"node4\" class=\"node\">\n<title>3</title>\n<polygon fill=\"#eca36f\" stroke=\"#000000\" points=\"539,-306 383,-306 383,-223 539,-223 539,-306\"/>\n<text text-anchor=\"middle\" x=\"461\" y=\"-290.8\" font-family=\"Helvetica,sans-Serif\" font-size=\"14.00\" fill=\"#000000\">specificOrigin &lt;= 44.5</text>\n<text text-anchor=\"middle\" x=\"461\" y=\"-275.8\" font-family=\"Helvetica,sans-Serif\" font-size=\"14.00\" fill=\"#000000\">gini = 0.337</text>\n<text text-anchor=\"middle\" x=\"461\" y=\"-260.8\" font-family=\"Helvetica,sans-Serif\" font-size=\"14.00\" fill=\"#000000\">samples = 20.8%</text>\n<text text-anchor=\"middle\" x=\"461\" y=\"-245.8\" font-family=\"Helvetica,sans-Serif\" font-size=\"14.00\" fill=\"#000000\">value = [0.785, 0.215]</text>\n<text text-anchor=\"middle\" x=\"461\" y=\"-230.8\" font-family=\"Helvetica,sans-Serif\" font-size=\"14.00\" fill=\"#000000\">class = False</text>\n</g>\n<!-- 2&#45;&gt;3 -->\n<g id=\"edge3\" class=\"edge\">\n<title>2&#45;&gt;3</title>\n<path fill=\"none\" stroke=\"#000000\" d=\"M797.9417,-361.117C727.0467,-340.7881 622.5866,-310.8345 548.8066,-289.6783\"/>\n<polygon fill=\"#000000\" stroke=\"#000000\" points=\"549.6376,-286.2756 539.0602,-286.8835 547.7081,-293.0044 549.6376,-286.2756\"/>\n</g>\n<!-- 10 -->\n<g id=\"node11\" class=\"node\">\n<title>10</title>\n<polygon fill=\"#e78b48\" stroke=\"#000000\" points=\"954,-306 798,-306 798,-223 954,-223 954,-306\"/>\n<text text-anchor=\"middle\" x=\"876\" y=\"-290.8\" font-family=\"Helvetica,sans-Serif\" font-size=\"14.00\" fill=\"#000000\">broadOrigin &lt;= 58.5</text>\n<text text-anchor=\"middle\" x=\"876\" y=\"-275.8\" font-family=\"Helvetica,sans-Serif\" font-size=\"14.00\" fill=\"#000000\">gini = 0.134</text>\n<text text-anchor=\"middle\" x=\"876\" y=\"-260.8\" font-family=\"Helvetica,sans-Serif\" font-size=\"14.00\" fill=\"#000000\">samples = 7.7%</text>\n<text text-anchor=\"middle\" x=\"876\" y=\"-245.8\" font-family=\"Helvetica,sans-Serif\" font-size=\"14.00\" fill=\"#000000\">value = [0.928, 0.072]</text>\n<text text-anchor=\"middle\" x=\"876\" y=\"-230.8\" font-family=\"Helvetica,sans-Serif\" font-size=\"14.00\" fill=\"#000000\">class = False</text>\n</g>\n<!-- 2&#45;&gt;10 -->\n<g id=\"edge10\" class=\"edge\">\n<title>2&#45;&gt;10</title>\n<path fill=\"none\" stroke=\"#000000\" d=\"M876,-341.8796C876,-333.6838 876,-324.9891 876,-316.5013\"/>\n<polygon fill=\"#000000\" stroke=\"#000000\" points=\"879.5001,-316.298 876,-306.2981 872.5001,-316.2981 879.5001,-316.298\"/>\n</g>\n<!-- 4 -->\n<g id=\"node5\" class=\"node\">\n<title>4</title>\n<polygon fill=\"#ea975b\" stroke=\"#000000\" points=\"298,-187 142,-187 142,-104 298,-104 298,-187\"/>\n<text text-anchor=\"middle\" x=\"220\" y=\"-171.8\" font-family=\"Helvetica,sans-Serif\" font-size=\"14.00\" fill=\"#000000\">broadOrigin &lt;= 9.5</text>\n<text text-anchor=\"middle\" x=\"220\" y=\"-156.8\" font-family=\"Helvetica,sans-Serif\" font-size=\"14.00\" fill=\"#000000\">gini = 0.252</text>\n<text text-anchor=\"middle\" x=\"220\" y=\"-141.8\" font-family=\"Helvetica,sans-Serif\" font-size=\"14.00\" fill=\"#000000\">samples = 9.4%</text>\n<text text-anchor=\"middle\" x=\"220\" y=\"-126.8\" font-family=\"Helvetica,sans-Serif\" font-size=\"14.00\" fill=\"#000000\">value = [0.852, 0.148]</text>\n<text text-anchor=\"middle\" x=\"220\" y=\"-111.8\" font-family=\"Helvetica,sans-Serif\" font-size=\"14.00\" fill=\"#000000\">class = False</text>\n</g>\n<!-- 3&#45;&gt;4 -->\n<g id=\"edge4\" class=\"edge\">\n<title>3&#45;&gt;4</title>\n<path fill=\"none\" stroke=\"#000000\" d=\"M382.7542,-225.8641C358.6395,-213.9569 331.9398,-200.7732 307.2586,-188.5862\"/>\n<polygon fill=\"#000000\" stroke=\"#000000\" points=\"308.7814,-185.4347 298.2653,-184.1455 305.6822,-191.7113 308.7814,-185.4347\"/>\n</g>\n<!-- 7 -->\n<g id=\"node8\" class=\"node\">\n<title>7</title>\n<polygon fill=\"#efb082\" stroke=\"#000000\" points=\"531,-187 391,-187 391,-104 531,-104 531,-187\"/>\n<text text-anchor=\"middle\" x=\"461\" y=\"-171.8\" font-family=\"Helvetica,sans-Serif\" font-size=\"14.00\" fill=\"#000000\">company &lt;= 98.5</text>\n<text text-anchor=\"middle\" x=\"461\" y=\"-156.8\" font-family=\"Helvetica,sans-Serif\" font-size=\"14.00\" fill=\"#000000\">gini = 0.394</text>\n<text text-anchor=\"middle\" x=\"461\" y=\"-141.8\" font-family=\"Helvetica,sans-Serif\" font-size=\"14.00\" fill=\"#000000\">samples = 11.4%</text>\n<text text-anchor=\"middle\" x=\"461\" y=\"-126.8\" font-family=\"Helvetica,sans-Serif\" font-size=\"14.00\" fill=\"#000000\">value = [0.73, 0.27]</text>\n<text text-anchor=\"middle\" x=\"461\" y=\"-111.8\" font-family=\"Helvetica,sans-Serif\" font-size=\"14.00\" fill=\"#000000\">class = False</text>\n</g>\n<!-- 3&#45;&gt;7 -->\n<g id=\"edge7\" class=\"edge\">\n<title>3&#45;&gt;7</title>\n<path fill=\"none\" stroke=\"#000000\" d=\"M461,-222.8796C461,-214.6838 461,-205.9891 461,-197.5013\"/>\n<polygon fill=\"#000000\" stroke=\"#000000\" points=\"464.5001,-197.298 461,-187.2981 457.5001,-197.2981 464.5001,-197.298\"/>\n</g>\n<!-- 5 -->\n<g id=\"node6\" class=\"node\">\n<title>5</title>\n<polygon fill=\"#eb9d65\" stroke=\"#000000\" points=\"140,-68 0,-68 0,0 140,0 140,-68\"/>\n<text text-anchor=\"middle\" x=\"70\" y=\"-52.8\" font-family=\"Helvetica,sans-Serif\" font-size=\"14.00\" fill=\"#000000\">gini = 0.295</text>\n<text text-anchor=\"middle\" x=\"70\" y=\"-37.8\" font-family=\"Helvetica,sans-Serif\" font-size=\"14.00\" fill=\"#000000\">samples = 7.7%</text>\n<text text-anchor=\"middle\" x=\"70\" y=\"-22.8\" font-family=\"Helvetica,sans-Serif\" font-size=\"14.00\" fill=\"#000000\">value = [0.82, 0.18]</text>\n<text text-anchor=\"middle\" x=\"70\" y=\"-7.8\" font-family=\"Helvetica,sans-Serif\" font-size=\"14.00\" fill=\"#000000\">class = False</text>\n</g>\n<!-- 4&#45;&gt;5 -->\n<g id=\"edge5\" class=\"edge\">\n<title>4&#45;&gt;5</title>\n<path fill=\"none\" stroke=\"#000000\" d=\"M164.1455,-103.9815C151.1632,-94.3313 137.3606,-84.0714 124.4403,-74.4673\"/>\n<polygon fill=\"#000000\" stroke=\"#000000\" points=\"126.2083,-71.4204 116.0946,-68.2637 122.0322,-77.0384 126.2083,-71.4204\"/>\n</g>\n<!-- 6 -->\n<g id=\"node7\" class=\"node\">\n<title>6</title>\n<polygon fill=\"#e58139\" stroke=\"#000000\" points=\"281.5,-68 158.5,-68 158.5,0 281.5,0 281.5,-68\"/>\n<text text-anchor=\"middle\" x=\"220\" y=\"-52.8\" font-family=\"Helvetica,sans-Serif\" font-size=\"14.00\" fill=\"#000000\">gini = 0.0</text>\n<text text-anchor=\"middle\" x=\"220\" y=\"-37.8\" font-family=\"Helvetica,sans-Serif\" font-size=\"14.00\" fill=\"#000000\">samples = 1.7%</text>\n<text text-anchor=\"middle\" x=\"220\" y=\"-22.8\" font-family=\"Helvetica,sans-Serif\" font-size=\"14.00\" fill=\"#000000\">value = [1.0, 0.0]</text>\n<text text-anchor=\"middle\" x=\"220\" y=\"-7.8\" font-family=\"Helvetica,sans-Serif\" font-size=\"14.00\" fill=\"#000000\">class = False</text>\n</g>\n<!-- 4&#45;&gt;6 -->\n<g id=\"edge6\" class=\"edge\">\n<title>4&#45;&gt;6</title>\n<path fill=\"none\" stroke=\"#000000\" d=\"M220,-103.9815C220,-95.618 220,-86.7965 220,-78.3409\"/>\n<polygon fill=\"#000000\" stroke=\"#000000\" points=\"223.5001,-78.2636 220,-68.2637 216.5001,-78.2637 223.5001,-78.2636\"/>\n</g>\n<!-- 8 -->\n<g id=\"node9\" class=\"node\">\n<title>8</title>\n<polygon fill=\"#eeab7b\" stroke=\"#000000\" points=\"440,-68 300,-68 300,0 440,0 440,-68\"/>\n<text text-anchor=\"middle\" x=\"370\" y=\"-52.8\" font-family=\"Helvetica,sans-Serif\" font-size=\"14.00\" fill=\"#000000\">gini = 0.375</text>\n<text text-anchor=\"middle\" x=\"370\" y=\"-37.8\" font-family=\"Helvetica,sans-Serif\" font-size=\"14.00\" fill=\"#000000\">samples = 10.6%</text>\n<text text-anchor=\"middle\" x=\"370\" y=\"-22.8\" font-family=\"Helvetica,sans-Serif\" font-size=\"14.00\" fill=\"#000000\">value = [0.75, 0.25]</text>\n<text text-anchor=\"middle\" x=\"370\" y=\"-7.8\" font-family=\"Helvetica,sans-Serif\" font-size=\"14.00\" fill=\"#000000\">class = False</text>\n</g>\n<!-- 7&#45;&gt;8 -->\n<g id=\"edge8\" class=\"edge\">\n<title>7&#45;&gt;8</title>\n<path fill=\"none\" stroke=\"#000000\" d=\"M427.115,-103.9815C419.6891,-94.8828 411.8208,-85.242 404.3759,-76.1199\"/>\n<polygon fill=\"#000000\" stroke=\"#000000\" points=\"406.9986,-73.798 397.9641,-68.2637 401.5755,-78.224 406.9986,-73.798\"/>\n</g>\n<!-- 9 -->\n<g id=\"node10\" class=\"node\">\n<title>9</title>\n<polygon fill=\"#deeffb\" stroke=\"#000000\" points=\"614,-68 458,-68 458,0 614,0 614,-68\"/>\n<text text-anchor=\"middle\" x=\"536\" y=\"-52.8\" font-family=\"Helvetica,sans-Serif\" font-size=\"14.00\" fill=\"#000000\">gini = 0.496</text>\n<text text-anchor=\"middle\" x=\"536\" y=\"-37.8\" font-family=\"Helvetica,sans-Serif\" font-size=\"14.00\" fill=\"#000000\">samples = 0.8%</text>\n<text text-anchor=\"middle\" x=\"536\" y=\"-22.8\" font-family=\"Helvetica,sans-Serif\" font-size=\"14.00\" fill=\"#000000\">value = [0.455, 0.545]</text>\n<text text-anchor=\"middle\" x=\"536\" y=\"-7.8\" font-family=\"Helvetica,sans-Serif\" font-size=\"14.00\" fill=\"#000000\">class = True</text>\n</g>\n<!-- 7&#45;&gt;9 -->\n<g id=\"edge9\" class=\"edge\">\n<title>7&#45;&gt;9</title>\n<path fill=\"none\" stroke=\"#000000\" d=\"M488.9272,-103.9815C494.9238,-95.0666 501.2704,-85.6313 507.2959,-76.6734\"/>\n<polygon fill=\"#000000\" stroke=\"#000000\" points=\"510.2755,-78.5147 512.9527,-68.2637 504.4672,-74.6078 510.2755,-78.5147\"/>\n</g>\n<!-- 11 -->\n<g id=\"node12\" class=\"node\">\n<title>11</title>\n<polygon fill=\"#e78a46\" stroke=\"#000000\" points=\"875,-187 719,-187 719,-104 875,-104 875,-187\"/>\n<text text-anchor=\"middle\" x=\"797\" y=\"-171.8\" font-family=\"Helvetica,sans-Serif\" font-size=\"14.00\" fill=\"#000000\">is_blend &lt;= 0.5</text>\n<text text-anchor=\"middle\" x=\"797\" y=\"-156.8\" font-family=\"Helvetica,sans-Serif\" font-size=\"14.00\" fill=\"#000000\">gini = 0.119</text>\n<text text-anchor=\"middle\" x=\"797\" y=\"-141.8\" font-family=\"Helvetica,sans-Serif\" font-size=\"14.00\" fill=\"#000000\">samples = 7.7%</text>\n<text text-anchor=\"middle\" x=\"797\" y=\"-126.8\" font-family=\"Helvetica,sans-Serif\" font-size=\"14.00\" fill=\"#000000\">value = [0.936, 0.064]</text>\n<text text-anchor=\"middle\" x=\"797\" y=\"-111.8\" font-family=\"Helvetica,sans-Serif\" font-size=\"14.00\" fill=\"#000000\">class = False</text>\n</g>\n<!-- 10&#45;&gt;11 -->\n<g id=\"edge11\" class=\"edge\">\n<title>10&#45;&gt;11</title>\n<path fill=\"none\" stroke=\"#000000\" d=\"M848.3696,-222.8796C842.57,-214.1434 836.3941,-204.8404 830.4092,-195.8253\"/>\n<polygon fill=\"#000000\" stroke=\"#000000\" points=\"833.1951,-193.6935 824.7483,-187.2981 827.3632,-197.5652 833.1951,-193.6935\"/>\n</g>\n<!-- 14 -->\n<g id=\"node15\" class=\"node\">\n<title>14</title>\n<polygon fill=\"#399de5\" stroke=\"#000000\" points=\"1016.5,-179.5 893.5,-179.5 893.5,-111.5 1016.5,-111.5 1016.5,-179.5\"/>\n<text text-anchor=\"middle\" x=\"955\" y=\"-164.3\" font-family=\"Helvetica,sans-Serif\" font-size=\"14.00\" fill=\"#000000\">gini = 0.0</text>\n<text text-anchor=\"middle\" x=\"955\" y=\"-149.3\" font-family=\"Helvetica,sans-Serif\" font-size=\"14.00\" fill=\"#000000\">samples = 0.1%</text>\n<text text-anchor=\"middle\" x=\"955\" y=\"-134.3\" font-family=\"Helvetica,sans-Serif\" font-size=\"14.00\" fill=\"#000000\">value = [0.0, 1.0]</text>\n<text text-anchor=\"middle\" x=\"955\" y=\"-119.3\" font-family=\"Helvetica,sans-Serif\" font-size=\"14.00\" fill=\"#000000\">class = True</text>\n</g>\n<!-- 10&#45;&gt;14 -->\n<g id=\"edge14\" class=\"edge\">\n<title>10&#45;&gt;14</title>\n<path fill=\"none\" stroke=\"#000000\" d=\"M903.6304,-222.8796C911.0763,-211.6636 919.1425,-199.5131 926.6282,-188.2372\"/>\n<polygon fill=\"#000000\" stroke=\"#000000\" points=\"929.6046,-190.082 932.2195,-179.8149 923.7727,-186.2104 929.6046,-190.082\"/>\n</g>\n<!-- 12 -->\n<g id=\"node13\" class=\"node\">\n<title>12</title>\n<polygon fill=\"#e5833c\" stroke=\"#000000\" points=\"788,-68 632,-68 632,0 788,0 788,-68\"/>\n<text text-anchor=\"middle\" x=\"710\" y=\"-52.8\" font-family=\"Helvetica,sans-Serif\" font-size=\"14.00\" fill=\"#000000\">gini = 0.029</text>\n<text text-anchor=\"middle\" x=\"710\" y=\"-37.8\" font-family=\"Helvetica,sans-Serif\" font-size=\"14.00\" fill=\"#000000\">samples = 4.8%</text>\n<text text-anchor=\"middle\" x=\"710\" y=\"-22.8\" font-family=\"Helvetica,sans-Serif\" font-size=\"14.00\" fill=\"#000000\">value = [0.986, 0.014]</text>\n<text text-anchor=\"middle\" x=\"710\" y=\"-7.8\" font-family=\"Helvetica,sans-Serif\" font-size=\"14.00\" fill=\"#000000\">class = False</text>\n</g>\n<!-- 11&#45;&gt;12 -->\n<g id=\"edge12\" class=\"edge\">\n<title>11&#45;&gt;12</title>\n<path fill=\"none\" stroke=\"#000000\" d=\"M764.6044,-103.9815C757.5766,-94.9747 750.1345,-85.4367 743.0807,-76.3965\"/>\n<polygon fill=\"#000000\" stroke=\"#000000\" points=\"745.646,-73.9946 736.7349,-68.2637 740.1272,-78.3008 745.646,-73.9946\"/>\n</g>\n<!-- 13 -->\n<g id=\"node14\" class=\"node\">\n<title>13</title>\n<polygon fill=\"#e9975b\" stroke=\"#000000\" points=\"962,-68 806,-68 806,0 962,0 962,-68\"/>\n<text text-anchor=\"middle\" x=\"884\" y=\"-52.8\" font-family=\"Helvetica,sans-Serif\" font-size=\"14.00\" fill=\"#000000\">gini = 0.25</text>\n<text text-anchor=\"middle\" x=\"884\" y=\"-37.8\" font-family=\"Helvetica,sans-Serif\" font-size=\"14.00\" fill=\"#000000\">samples = 2.9%</text>\n<text text-anchor=\"middle\" x=\"884\" y=\"-22.8\" font-family=\"Helvetica,sans-Serif\" font-size=\"14.00\" fill=\"#000000\">value = [0.854, 0.146]</text>\n<text text-anchor=\"middle\" x=\"884\" y=\"-7.8\" font-family=\"Helvetica,sans-Serif\" font-size=\"14.00\" fill=\"#000000\">class = False</text>\n</g>\n<!-- 11&#45;&gt;13 -->\n<g id=\"edge13\" class=\"edge\">\n<title>11&#45;&gt;13</title>\n<path fill=\"none\" stroke=\"#000000\" d=\"M829.3956,-103.9815C836.4234,-94.9747 843.8655,-85.4367 850.9193,-76.3965\"/>\n<polygon fill=\"#000000\" stroke=\"#000000\" points=\"853.8728,-78.3008 857.2651,-68.2637 848.354,-73.9946 853.8728,-78.3008\"/>\n</g>\n<!-- 16 -->\n<g id=\"node17\" class=\"node\">\n<title>16</title>\n<polygon fill=\"#e78c4a\" stroke=\"#000000\" points=\"1373,-306 1217,-306 1217,-223 1373,-223 1373,-306\"/>\n<text text-anchor=\"middle\" x=\"1295\" y=\"-290.8\" font-family=\"Helvetica,sans-Serif\" font-size=\"14.00\" fill=\"#000000\">specificOrigin &lt;= 6.5</text>\n<text text-anchor=\"middle\" x=\"1295\" y=\"-275.8\" font-family=\"Helvetica,sans-Serif\" font-size=\"14.00\" fill=\"#000000\">gini = 0.144</text>\n<text text-anchor=\"middle\" x=\"1295\" y=\"-260.8\" font-family=\"Helvetica,sans-Serif\" font-size=\"14.00\" fill=\"#000000\">samples = 24.1%</text>\n<text text-anchor=\"middle\" x=\"1295\" y=\"-245.8\" font-family=\"Helvetica,sans-Serif\" font-size=\"14.00\" fill=\"#000000\">value = [0.922, 0.078]</text>\n<text text-anchor=\"middle\" x=\"1295\" y=\"-230.8\" font-family=\"Helvetica,sans-Serif\" font-size=\"14.00\" fill=\"#000000\">class = False</text>\n</g>\n<!-- 15&#45;&gt;16 -->\n<g id=\"edge16\" class=\"edge\">\n<title>15&#45;&gt;16</title>\n<path fill=\"none\" stroke=\"#000000\" d=\"M1346.3696,-341.8796C1340.57,-333.1434 1334.3941,-323.8404 1328.4092,-314.8253\"/>\n<polygon fill=\"#000000\" stroke=\"#000000\" points=\"1331.1951,-312.6935 1322.7483,-306.2981 1325.3632,-316.5652 1331.1951,-312.6935\"/>\n</g>\n<!-- 23 -->\n<g id=\"node24\" class=\"node\">\n<title>23</title>\n<polygon fill=\"#399de5\" stroke=\"#000000\" points=\"1514.5,-298.5 1391.5,-298.5 1391.5,-230.5 1514.5,-230.5 1514.5,-298.5\"/>\n<text text-anchor=\"middle\" x=\"1453\" y=\"-283.3\" font-family=\"Helvetica,sans-Serif\" font-size=\"14.00\" fill=\"#000000\">gini = 0.0</text>\n<text text-anchor=\"middle\" x=\"1453\" y=\"-268.3\" font-family=\"Helvetica,sans-Serif\" font-size=\"14.00\" fill=\"#000000\">samples = 0.1%</text>\n<text text-anchor=\"middle\" x=\"1453\" y=\"-253.3\" font-family=\"Helvetica,sans-Serif\" font-size=\"14.00\" fill=\"#000000\">value = [0.0, 1.0]</text>\n<text text-anchor=\"middle\" x=\"1453\" y=\"-238.3\" font-family=\"Helvetica,sans-Serif\" font-size=\"14.00\" fill=\"#000000\">class = True</text>\n</g>\n<!-- 15&#45;&gt;23 -->\n<g id=\"edge23\" class=\"edge\">\n<title>15&#45;&gt;23</title>\n<path fill=\"none\" stroke=\"#000000\" d=\"M1401.6304,-341.8796C1409.0763,-330.6636 1417.1425,-318.5131 1424.6282,-307.2372\"/>\n<polygon fill=\"#000000\" stroke=\"#000000\" points=\"1427.6046,-309.082 1430.2195,-298.8149 1421.7727,-305.2104 1427.6046,-309.082\"/>\n</g>\n<!-- 17 -->\n<g id=\"node18\" class=\"node\">\n<title>17</title>\n<polygon fill=\"#eb9e67\" stroke=\"#000000\" points=\"1286,-187 1130,-187 1130,-104 1286,-104 1286,-187\"/>\n<text text-anchor=\"middle\" x=\"1208\" y=\"-171.8\" font-family=\"Helvetica,sans-Serif\" font-size=\"14.00\" fill=\"#000000\">beanType &lt;= 11.5</text>\n<text text-anchor=\"middle\" x=\"1208\" y=\"-156.8\" font-family=\"Helvetica,sans-Serif\" font-size=\"14.00\" fill=\"#000000\">gini = 0.305</text>\n<text text-anchor=\"middle\" x=\"1208\" y=\"-141.8\" font-family=\"Helvetica,sans-Serif\" font-size=\"14.00\" fill=\"#000000\">samples = 2.2%</text>\n<text text-anchor=\"middle\" x=\"1208\" y=\"-126.8\" font-family=\"Helvetica,sans-Serif\" font-size=\"14.00\" fill=\"#000000\">value = [0.812, 0.188]</text>\n<text text-anchor=\"middle\" x=\"1208\" y=\"-111.8\" font-family=\"Helvetica,sans-Serif\" font-size=\"14.00\" fill=\"#000000\">class = False</text>\n</g>\n<!-- 16&#45;&gt;17 -->\n<g id=\"edge17\" class=\"edge\">\n<title>16&#45;&gt;17</title>\n<path fill=\"none\" stroke=\"#000000\" d=\"M1264.5716,-222.8796C1258.1189,-214.0534 1251.243,-204.6485 1244.5887,-195.5466\"/>\n<polygon fill=\"#000000\" stroke=\"#000000\" points=\"1247.2856,-193.3051 1238.5583,-187.2981 1241.6347,-197.4364 1247.2856,-193.3051\"/>\n</g>\n<!-- 20 -->\n<g id=\"node21\" class=\"node\">\n<title>20</title>\n<polygon fill=\"#e78a47\" stroke=\"#000000\" points=\"1460,-187 1304,-187 1304,-104 1460,-104 1460,-187\"/>\n<text text-anchor=\"middle\" x=\"1382\" y=\"-171.8\" font-family=\"Helvetica,sans-Serif\" font-size=\"14.00\" fill=\"#000000\">broadOrigin &lt;= 28.5</text>\n<text text-anchor=\"middle\" x=\"1382\" y=\"-156.8\" font-family=\"Helvetica,sans-Serif\" font-size=\"14.00\" fill=\"#000000\">gini = 0.125</text>\n<text text-anchor=\"middle\" x=\"1382\" y=\"-141.8\" font-family=\"Helvetica,sans-Serif\" font-size=\"14.00\" fill=\"#000000\">samples = 21.8%</text>\n<text text-anchor=\"middle\" x=\"1382\" y=\"-126.8\" font-family=\"Helvetica,sans-Serif\" font-size=\"14.00\" fill=\"#000000\">value = [0.933, 0.067]</text>\n<text text-anchor=\"middle\" x=\"1382\" y=\"-111.8\" font-family=\"Helvetica,sans-Serif\" font-size=\"14.00\" fill=\"#000000\">class = False</text>\n</g>\n<!-- 16&#45;&gt;20 -->\n<g id=\"edge20\" class=\"edge\">\n<title>16&#45;&gt;20</title>\n<path fill=\"none\" stroke=\"#000000\" d=\"M1325.4284,-222.8796C1331.8811,-214.0534 1338.757,-204.6485 1345.4113,-195.5466\"/>\n<polygon fill=\"#000000\" stroke=\"#000000\" points=\"1348.3653,-197.4364 1351.4417,-187.2981 1342.7144,-193.3051 1348.3653,-197.4364\"/>\n</g>\n<!-- 18 -->\n<g id=\"node19\" class=\"node\">\n<title>18</title>\n<polygon fill=\"#ea995f\" stroke=\"#000000\" points=\"1136,-68 980,-68 980,0 1136,0 1136,-68\"/>\n<text text-anchor=\"middle\" x=\"1058\" y=\"-52.8\" font-family=\"Helvetica,sans-Serif\" font-size=\"14.00\" fill=\"#000000\">gini = 0.271</text>\n<text text-anchor=\"middle\" x=\"1058\" y=\"-37.8\" font-family=\"Helvetica,sans-Serif\" font-size=\"14.00\" fill=\"#000000\">samples = 2.2%</text>\n<text text-anchor=\"middle\" x=\"1058\" y=\"-22.8\" font-family=\"Helvetica,sans-Serif\" font-size=\"14.00\" fill=\"#000000\">value = [0.839, 0.161]</text>\n<text text-anchor=\"middle\" x=\"1058\" y=\"-7.8\" font-family=\"Helvetica,sans-Serif\" font-size=\"14.00\" fill=\"#000000\">class = False</text>\n</g>\n<!-- 17&#45;&gt;18 -->\n<g id=\"edge18\" class=\"edge\">\n<title>17&#45;&gt;18</title>\n<path fill=\"none\" stroke=\"#000000\" d=\"M1152.1455,-103.9815C1139.1632,-94.3313 1125.3606,-84.0714 1112.4403,-74.4673\"/>\n<polygon fill=\"#000000\" stroke=\"#000000\" points=\"1114.2083,-71.4204 1104.0946,-68.2637 1110.0322,-77.0384 1114.2083,-71.4204\"/>\n</g>\n<!-- 19 -->\n<g id=\"node20\" class=\"node\">\n<title>19</title>\n<polygon fill=\"#399de5\" stroke=\"#000000\" points=\"1277.5,-68 1154.5,-68 1154.5,0 1277.5,0 1277.5,-68\"/>\n<text text-anchor=\"middle\" x=\"1216\" y=\"-52.8\" font-family=\"Helvetica,sans-Serif\" font-size=\"14.00\" fill=\"#000000\">gini = 0.0</text>\n<text text-anchor=\"middle\" x=\"1216\" y=\"-37.8\" font-family=\"Helvetica,sans-Serif\" font-size=\"14.00\" fill=\"#000000\">samples = 0.1%</text>\n<text text-anchor=\"middle\" x=\"1216\" y=\"-22.8\" font-family=\"Helvetica,sans-Serif\" font-size=\"14.00\" fill=\"#000000\">value = [0.0, 1.0]</text>\n<text text-anchor=\"middle\" x=\"1216\" y=\"-7.8\" font-family=\"Helvetica,sans-Serif\" font-size=\"14.00\" fill=\"#000000\">class = True</text>\n</g>\n<!-- 17&#45;&gt;19 -->\n<g id=\"edge19\" class=\"edge\">\n<title>17&#45;&gt;19</title>\n<path fill=\"none\" stroke=\"#000000\" d=\"M1210.9789,-103.9815C1211.579,-95.618 1212.2119,-86.7965 1212.8186,-78.3409\"/>\n<polygon fill=\"#000000\" stroke=\"#000000\" points=\"1216.3169,-78.4885 1213.5416,-68.2637 1209.3349,-77.9875 1216.3169,-78.4885\"/>\n</g>\n<!-- 21 -->\n<g id=\"node22\" class=\"node\">\n<title>21</title>\n<polygon fill=\"#e78b49\" stroke=\"#000000\" points=\"1452,-68 1296,-68 1296,0 1452,0 1452,-68\"/>\n<text text-anchor=\"middle\" x=\"1374\" y=\"-52.8\" font-family=\"Helvetica,sans-Serif\" font-size=\"14.00\" fill=\"#000000\">gini = 0.141</text>\n<text text-anchor=\"middle\" x=\"1374\" y=\"-37.8\" font-family=\"Helvetica,sans-Serif\" font-size=\"14.00\" fill=\"#000000\">samples = 19.2%</text>\n<text text-anchor=\"middle\" x=\"1374\" y=\"-22.8\" font-family=\"Helvetica,sans-Serif\" font-size=\"14.00\" fill=\"#000000\">value = [0.924, 0.076]</text>\n<text text-anchor=\"middle\" x=\"1374\" y=\"-7.8\" font-family=\"Helvetica,sans-Serif\" font-size=\"14.00\" fill=\"#000000\">class = False</text>\n</g>\n<!-- 20&#45;&gt;21 -->\n<g id=\"edge21\" class=\"edge\">\n<title>20&#45;&gt;21</title>\n<path fill=\"none\" stroke=\"#000000\" d=\"M1379.0211,-103.9815C1378.421,-95.618 1377.7881,-86.7965 1377.1814,-78.3409\"/>\n<polygon fill=\"#000000\" stroke=\"#000000\" points=\"1380.6651,-77.9875 1376.4584,-68.2637 1373.6831,-78.4885 1380.6651,-77.9875\"/>\n</g>\n<!-- 22 -->\n<g id=\"node23\" class=\"node\">\n<title>22</title>\n<polygon fill=\"#e58139\" stroke=\"#000000\" points=\"1593.5,-68 1470.5,-68 1470.5,0 1593.5,0 1593.5,-68\"/>\n<text text-anchor=\"middle\" x=\"1532\" y=\"-52.8\" font-family=\"Helvetica,sans-Serif\" font-size=\"14.00\" fill=\"#000000\">gini = 0.0</text>\n<text text-anchor=\"middle\" x=\"1532\" y=\"-37.8\" font-family=\"Helvetica,sans-Serif\" font-size=\"14.00\" fill=\"#000000\">samples = 2.6%</text>\n<text text-anchor=\"middle\" x=\"1532\" y=\"-22.8\" font-family=\"Helvetica,sans-Serif\" font-size=\"14.00\" fill=\"#000000\">value = [1.0, 0.0]</text>\n<text text-anchor=\"middle\" x=\"1532\" y=\"-7.8\" font-family=\"Helvetica,sans-Serif\" font-size=\"14.00\" fill=\"#000000\">class = False</text>\n</g>\n<!-- 20&#45;&gt;22 -->\n<g id=\"edge22\" class=\"edge\">\n<title>20&#45;&gt;22</title>\n<path fill=\"none\" stroke=\"#000000\" d=\"M1437.8545,-103.9815C1450.8368,-94.3313 1464.6394,-84.0714 1477.5597,-74.4673\"/>\n<polygon fill=\"#000000\" stroke=\"#000000\" points=\"1479.9678,-77.0384 1485.9054,-68.2637 1475.7917,-71.4204 1479.9678,-77.0384\"/>\n</g>\n<!-- 25 -->\n<g id=\"node26\" class=\"node\">\n<title>25</title>\n<polygon fill=\"#edaa7a\" stroke=\"#000000\" points=\"2294.5,-425 2135.5,-425 2135.5,-342 2294.5,-342 2294.5,-425\"/>\n<text text-anchor=\"middle\" x=\"2215\" y=\"-409.8\" font-family=\"Helvetica,sans-Serif\" font-size=\"14.00\" fill=\"#000000\">cocoaPercent &lt;= 0.79</text>\n<text text-anchor=\"middle\" x=\"2215\" y=\"-394.8\" font-family=\"Helvetica,sans-Serif\" font-size=\"14.00\" fill=\"#000000\">gini = 0.371</text>\n<text text-anchor=\"middle\" x=\"2215\" y=\"-379.8\" font-family=\"Helvetica,sans-Serif\" font-size=\"14.00\" fill=\"#000000\">samples = 41.7%</text>\n<text text-anchor=\"middle\" x=\"2215\" y=\"-364.8\" font-family=\"Helvetica,sans-Serif\" font-size=\"14.00\" fill=\"#000000\">value = [0.754, 0.246]</text>\n<text text-anchor=\"middle\" x=\"2215\" y=\"-349.8\" font-family=\"Helvetica,sans-Serif\" font-size=\"14.00\" fill=\"#000000\">class = False</text>\n</g>\n<!-- 24&#45;&gt;25 -->\n<g id=\"edge25\" class=\"edge\">\n<title>24&#45;&gt;25</title>\n<path fill=\"none\" stroke=\"#000000\" d=\"M2215,-460.8796C2215,-452.6838 2215,-443.9891 2215,-435.5013\"/>\n<polygon fill=\"#000000\" stroke=\"#000000\" points=\"2218.5001,-435.298 2215,-425.2981 2211.5001,-435.2981 2218.5001,-435.298\"/>\n</g>\n<!-- 38 -->\n<g id=\"node39\" class=\"node\">\n<title>38</title>\n<polygon fill=\"#e78946\" stroke=\"#000000\" points=\"2745,-425 2569,-425 2569,-342 2745,-342 2745,-425\"/>\n<text text-anchor=\"middle\" x=\"2657\" y=\"-409.8\" font-family=\"Helvetica,sans-Serif\" font-size=\"14.00\" fill=\"#000000\">companyLocation &lt;= 1.5</text>\n<text text-anchor=\"middle\" x=\"2657\" y=\"-394.8\" font-family=\"Helvetica,sans-Serif\" font-size=\"14.00\" fill=\"#000000\">gini = 0.116</text>\n<text text-anchor=\"middle\" x=\"2657\" y=\"-379.8\" font-family=\"Helvetica,sans-Serif\" font-size=\"14.00\" fill=\"#000000\">samples = 5.6%</text>\n<text text-anchor=\"middle\" x=\"2657\" y=\"-364.8\" font-family=\"Helvetica,sans-Serif\" font-size=\"14.00\" fill=\"#000000\">value = [0.938, 0.062]</text>\n<text text-anchor=\"middle\" x=\"2657\" y=\"-349.8\" font-family=\"Helvetica,sans-Serif\" font-size=\"14.00\" fill=\"#000000\">class = False</text>\n</g>\n<!-- 24&#45;&gt;38 -->\n<g id=\"edge38\" class=\"edge\">\n<title>24&#45;&gt;38</title>\n<path fill=\"none\" stroke=\"#000000\" d=\"M2293.0033,-481.4991C2367.0362,-461.5672 2478.5882,-431.5339 2558.6772,-409.9715\"/>\n<polygon fill=\"#000000\" stroke=\"#000000\" points=\"2560.0291,-413.2322 2568.7754,-407.2528 2558.2093,-406.4729 2560.0291,-413.2322\"/>\n</g>\n<!-- 26 -->\n<g id=\"node27\" class=\"node\">\n<title>26</title>\n<polygon fill=\"#eeae80\" stroke=\"#000000\" points=\"2171,-306 2015,-306 2015,-223 2171,-223 2171,-306\"/>\n<text text-anchor=\"middle\" x=\"2093\" y=\"-290.8\" font-family=\"Helvetica,sans-Serif\" font-size=\"14.00\" fill=\"#000000\">company &lt;= 7.0</text>\n<text text-anchor=\"middle\" x=\"2093\" y=\"-275.8\" font-family=\"Helvetica,sans-Serif\" font-size=\"14.00\" fill=\"#000000\">gini = 0.388</text>\n<text text-anchor=\"middle\" x=\"2093\" y=\"-260.8\" font-family=\"Helvetica,sans-Serif\" font-size=\"14.00\" fill=\"#000000\">samples = 37.8%</text>\n<text text-anchor=\"middle\" x=\"2093\" y=\"-245.8\" font-family=\"Helvetica,sans-Serif\" font-size=\"14.00\" fill=\"#000000\">value = [0.736, 0.264]</text>\n<text text-anchor=\"middle\" x=\"2093\" y=\"-230.8\" font-family=\"Helvetica,sans-Serif\" font-size=\"14.00\" fill=\"#000000\">class = False</text>\n</g>\n<!-- 25&#45;&gt;26 -->\n<g id=\"edge26\" class=\"edge\">\n<title>25&#45;&gt;26</title>\n<path fill=\"none\" stroke=\"#000000\" d=\"M2172.3303,-341.8796C2162.9123,-332.6931 2152.8516,-322.8798 2143.1672,-313.4336\"/>\n<polygon fill=\"#000000\" stroke=\"#000000\" points=\"2145.4543,-310.7751 2135.8518,-306.2981 2140.5665,-315.7861 2145.4543,-310.7751\"/>\n</g>\n<!-- 33 -->\n<g id=\"node34\" class=\"node\">\n<title>33</title>\n<polygon fill=\"#e78b48\" stroke=\"#000000\" points=\"2419,-306 2255,-306 2255,-223 2419,-223 2419,-306\"/>\n<text text-anchor=\"middle\" x=\"2337\" y=\"-290.8\" font-family=\"Helvetica,sans-Serif\" font-size=\"14.00\" fill=\"#000000\">specificOrigin &lt;= 850.5</text>\n<text text-anchor=\"middle\" x=\"2337\" y=\"-275.8\" font-family=\"Helvetica,sans-Serif\" font-size=\"14.00\" fill=\"#000000\">gini = 0.133</text>\n<text text-anchor=\"middle\" x=\"2337\" y=\"-260.8\" font-family=\"Helvetica,sans-Serif\" font-size=\"14.00\" fill=\"#000000\">samples = 3.9%</text>\n<text text-anchor=\"middle\" x=\"2337\" y=\"-245.8\" font-family=\"Helvetica,sans-Serif\" font-size=\"14.00\" fill=\"#000000\">value = [0.929, 0.071]</text>\n<text text-anchor=\"middle\" x=\"2337\" y=\"-230.8\" font-family=\"Helvetica,sans-Serif\" font-size=\"14.00\" fill=\"#000000\">class = False</text>\n</g>\n<!-- 25&#45;&gt;33 -->\n<g id=\"edge33\" class=\"edge\">\n<title>25&#45;&gt;33</title>\n<path fill=\"none\" stroke=\"#000000\" d=\"M2257.6697,-341.8796C2267.0877,-332.6931 2277.1484,-322.8798 2286.8328,-313.4336\"/>\n<polygon fill=\"#000000\" stroke=\"#000000\" points=\"2289.4335,-315.7861 2294.1482,-306.2981 2284.5457,-310.7751 2289.4335,-315.7861\"/>\n</g>\n<!-- 27 -->\n<g id=\"node28\" class=\"node\">\n<title>27</title>\n<polygon fill=\"#e78946\" stroke=\"#000000\" points=\"1909,-187 1753,-187 1753,-104 1909,-104 1909,-187\"/>\n<text text-anchor=\"middle\" x=\"1831\" y=\"-171.8\" font-family=\"Helvetica,sans-Serif\" font-size=\"14.00\" fill=\"#000000\">broadOrigin &lt;= 15.0</text>\n<text text-anchor=\"middle\" x=\"1831\" y=\"-156.8\" font-family=\"Helvetica,sans-Serif\" font-size=\"14.00\" fill=\"#000000\">gini = 0.114</text>\n<text text-anchor=\"middle\" x=\"1831\" y=\"-141.8\" font-family=\"Helvetica,sans-Serif\" font-size=\"14.00\" fill=\"#000000\">samples = 2.3%</text>\n<text text-anchor=\"middle\" x=\"1831\" y=\"-126.8\" font-family=\"Helvetica,sans-Serif\" font-size=\"14.00\" fill=\"#000000\">value = [0.939, 0.061]</text>\n<text text-anchor=\"middle\" x=\"1831\" y=\"-111.8\" font-family=\"Helvetica,sans-Serif\" font-size=\"14.00\" fill=\"#000000\">class = False</text>\n</g>\n<!-- 26&#45;&gt;27 -->\n<g id=\"edge27\" class=\"edge\">\n<title>26&#45;&gt;27</title>\n<path fill=\"none\" stroke=\"#000000\" d=\"M2014.7462,-228.9573C1984.4164,-215.1815 1949.5581,-199.3489 1918.4105,-185.2017\"/>\n<polygon fill=\"#000000\" stroke=\"#000000\" points=\"1919.8552,-182.0138 1909.3029,-181.0651 1916.9604,-188.3872 1919.8552,-182.0138\"/>\n</g>\n<!-- 30 -->\n<g id=\"node31\" class=\"node\">\n<title>30</title>\n<polygon fill=\"#efb185\" stroke=\"#000000\" points=\"2171,-187 2015,-187 2015,-104 2171,-104 2171,-187\"/>\n<text text-anchor=\"middle\" x=\"2093\" y=\"-171.8\" font-family=\"Helvetica,sans-Serif\" font-size=\"14.00\" fill=\"#000000\">company &lt;= 32.5</text>\n<text text-anchor=\"middle\" x=\"2093\" y=\"-156.8\" font-family=\"Helvetica,sans-Serif\" font-size=\"14.00\" fill=\"#000000\">gini = 0.401</text>\n<text text-anchor=\"middle\" x=\"2093\" y=\"-141.8\" font-family=\"Helvetica,sans-Serif\" font-size=\"14.00\" fill=\"#000000\">samples = 35.5%</text>\n<text text-anchor=\"middle\" x=\"2093\" y=\"-126.8\" font-family=\"Helvetica,sans-Serif\" font-size=\"14.00\" fill=\"#000000\">value = [0.723, 0.277]</text>\n<text text-anchor=\"middle\" x=\"2093\" y=\"-111.8\" font-family=\"Helvetica,sans-Serif\" font-size=\"14.00\" fill=\"#000000\">class = False</text>\n</g>\n<!-- 26&#45;&gt;30 -->\n<g id=\"edge30\" class=\"edge\">\n<title>26&#45;&gt;30</title>\n<path fill=\"none\" stroke=\"#000000\" d=\"M2093,-222.8796C2093,-214.6838 2093,-205.9891 2093,-197.5013\"/>\n<polygon fill=\"#000000\" stroke=\"#000000\" points=\"2096.5001,-197.298 2093,-187.2981 2089.5001,-197.2981 2096.5001,-197.298\"/>\n</g>\n<!-- 28 -->\n<g id=\"node29\" class=\"node\">\n<title>28</title>\n<polygon fill=\"#e58139\" stroke=\"#000000\" points=\"1734.5,-68 1611.5,-68 1611.5,0 1734.5,0 1734.5,-68\"/>\n<text text-anchor=\"middle\" x=\"1673\" y=\"-52.8\" font-family=\"Helvetica,sans-Serif\" font-size=\"14.00\" fill=\"#000000\">gini = 0.0</text>\n<text text-anchor=\"middle\" x=\"1673\" y=\"-37.8\" font-family=\"Helvetica,sans-Serif\" font-size=\"14.00\" fill=\"#000000\">samples = 1.0%</text>\n<text text-anchor=\"middle\" x=\"1673\" y=\"-22.8\" font-family=\"Helvetica,sans-Serif\" font-size=\"14.00\" fill=\"#000000\">value = [1.0, 0.0]</text>\n<text text-anchor=\"middle\" x=\"1673\" y=\"-7.8\" font-family=\"Helvetica,sans-Serif\" font-size=\"14.00\" fill=\"#000000\">class = False</text>\n</g>\n<!-- 27&#45;&gt;28 -->\n<g id=\"edge28\" class=\"edge\">\n<title>27&#45;&gt;28</title>\n<path fill=\"none\" stroke=\"#000000\" d=\"M1772.1666,-103.9815C1758.289,-94.1881 1743.5216,-83.7668 1729.7386,-74.0402\"/>\n<polygon fill=\"#000000\" stroke=\"#000000\" points=\"1731.4892,-70.9918 1721.3007,-68.0856 1727.4531,-76.7111 1731.4892,-70.9918\"/>\n</g>\n<!-- 29 -->\n<g id=\"node30\" class=\"node\">\n<title>29</title>\n<polygon fill=\"#e89152\" stroke=\"#000000\" points=\"1909,-68 1753,-68 1753,0 1909,0 1909,-68\"/>\n<text text-anchor=\"middle\" x=\"1831\" y=\"-52.8\" font-family=\"Helvetica,sans-Serif\" font-size=\"14.00\" fill=\"#000000\">gini = 0.198</text>\n<text text-anchor=\"middle\" x=\"1831\" y=\"-37.8\" font-family=\"Helvetica,sans-Serif\" font-size=\"14.00\" fill=\"#000000\">samples = 1.3%</text>\n<text text-anchor=\"middle\" x=\"1831\" y=\"-22.8\" font-family=\"Helvetica,sans-Serif\" font-size=\"14.00\" fill=\"#000000\">value = [0.889, 0.111]</text>\n<text text-anchor=\"middle\" x=\"1831\" y=\"-7.8\" font-family=\"Helvetica,sans-Serif\" font-size=\"14.00\" fill=\"#000000\">class = False</text>\n</g>\n<!-- 27&#45;&gt;29 -->\n<g id=\"edge29\" class=\"edge\">\n<title>27&#45;&gt;29</title>\n<path fill=\"none\" stroke=\"#000000\" d=\"M1831,-103.9815C1831,-95.618 1831,-86.7965 1831,-78.3409\"/>\n<polygon fill=\"#000000\" stroke=\"#000000\" points=\"1834.5001,-78.2636 1831,-68.2637 1827.5001,-78.2637 1834.5001,-78.2636\"/>\n</g>\n<!-- 31 -->\n<g id=\"node32\" class=\"node\">\n<title>31</title>\n<polygon fill=\"#f6d3b9\" stroke=\"#000000\" points=\"2083,-68 1927,-68 1927,0 2083,0 2083,-68\"/>\n<text text-anchor=\"middle\" x=\"2005\" y=\"-52.8\" font-family=\"Helvetica,sans-Serif\" font-size=\"14.00\" fill=\"#000000\">gini = 0.477</text>\n<text text-anchor=\"middle\" x=\"2005\" y=\"-37.8\" font-family=\"Helvetica,sans-Serif\" font-size=\"14.00\" fill=\"#000000\">samples = 6.2%</text>\n<text text-anchor=\"middle\" x=\"2005\" y=\"-22.8\" font-family=\"Helvetica,sans-Serif\" font-size=\"14.00\" fill=\"#000000\">value = [0.607, 0.393]</text>\n<text text-anchor=\"middle\" x=\"2005\" y=\"-7.8\" font-family=\"Helvetica,sans-Serif\" font-size=\"14.00\" fill=\"#000000\">class = False</text>\n</g>\n<!-- 30&#45;&gt;31 -->\n<g id=\"edge31\" class=\"edge\">\n<title>30&#45;&gt;31</title>\n<path fill=\"none\" stroke=\"#000000\" d=\"M2060.232,-103.9815C2053.051,-94.8828 2045.4421,-85.242 2038.2426,-76.1199\"/>\n<polygon fill=\"#000000\" stroke=\"#000000\" points=\"2040.9849,-73.9451 2032.0422,-68.2637 2035.4901,-78.2818 2040.9849,-73.9451\"/>\n</g>\n<!-- 32 -->\n<g id=\"node33\" class=\"node\">\n<title>32</title>\n<polygon fill=\"#eeac7c\" stroke=\"#000000\" points=\"2257,-68 2101,-68 2101,0 2257,0 2257,-68\"/>\n<text text-anchor=\"middle\" x=\"2179\" y=\"-52.8\" font-family=\"Helvetica,sans-Serif\" font-size=\"14.00\" fill=\"#000000\">gini = 0.377</text>\n<text text-anchor=\"middle\" x=\"2179\" y=\"-37.8\" font-family=\"Helvetica,sans-Serif\" font-size=\"14.00\" fill=\"#000000\">samples = 29.3%</text>\n<text text-anchor=\"middle\" x=\"2179\" y=\"-22.8\" font-family=\"Helvetica,sans-Serif\" font-size=\"14.00\" fill=\"#000000\">value = [0.748, 0.252]</text>\n<text text-anchor=\"middle\" x=\"2179\" y=\"-7.8\" font-family=\"Helvetica,sans-Serif\" font-size=\"14.00\" fill=\"#000000\">class = False</text>\n</g>\n<!-- 30&#45;&gt;32 -->\n<g id=\"edge32\" class=\"edge\">\n<title>30&#45;&gt;32</title>\n<path fill=\"none\" stroke=\"#000000\" d=\"M2125.0232,-103.9815C2131.9702,-94.9747 2139.3269,-85.4367 2146.2996,-76.3965\"/>\n<polygon fill=\"#000000\" stroke=\"#000000\" points=\"2149.2364,-78.3196 2152.5724,-68.2637 2143.6936,-74.0444 2149.2364,-78.3196\"/>\n</g>\n<!-- 34 -->\n<g id=\"node35\" class=\"node\">\n<title>34</title>\n<polygon fill=\"#e68844\" stroke=\"#000000\" points=\"2415,-187 2259,-187 2259,-104 2415,-104 2415,-187\"/>\n<text text-anchor=\"middle\" x=\"2337\" y=\"-171.8\" font-family=\"Helvetica,sans-Serif\" font-size=\"14.00\" fill=\"#000000\">beanType &lt;= 8.0</text>\n<text text-anchor=\"middle\" x=\"2337\" y=\"-156.8\" font-family=\"Helvetica,sans-Serif\" font-size=\"14.00\" fill=\"#000000\">gini = 0.103</text>\n<text text-anchor=\"middle\" x=\"2337\" y=\"-141.8\" font-family=\"Helvetica,sans-Serif\" font-size=\"14.00\" fill=\"#000000\">samples = 3.8%</text>\n<text text-anchor=\"middle\" x=\"2337\" y=\"-126.8\" font-family=\"Helvetica,sans-Serif\" font-size=\"14.00\" fill=\"#000000\">value = [0.945, 0.055]</text>\n<text text-anchor=\"middle\" x=\"2337\" y=\"-111.8\" font-family=\"Helvetica,sans-Serif\" font-size=\"14.00\" fill=\"#000000\">class = False</text>\n</g>\n<!-- 33&#45;&gt;34 -->\n<g id=\"edge34\" class=\"edge\">\n<title>33&#45;&gt;34</title>\n<path fill=\"none\" stroke=\"#000000\" d=\"M2337,-222.8796C2337,-214.6838 2337,-205.9891 2337,-197.5013\"/>\n<polygon fill=\"#000000\" stroke=\"#000000\" points=\"2340.5001,-197.298 2337,-187.2981 2333.5001,-197.2981 2340.5001,-197.298\"/>\n</g>\n<!-- 37 -->\n<g id=\"node38\" class=\"node\">\n<title>37</title>\n<polygon fill=\"#399de5\" stroke=\"#000000\" points=\"2556.5,-179.5 2433.5,-179.5 2433.5,-111.5 2556.5,-111.5 2556.5,-179.5\"/>\n<text text-anchor=\"middle\" x=\"2495\" y=\"-164.3\" font-family=\"Helvetica,sans-Serif\" font-size=\"14.00\" fill=\"#000000\">gini = 0.0</text>\n<text text-anchor=\"middle\" x=\"2495\" y=\"-149.3\" font-family=\"Helvetica,sans-Serif\" font-size=\"14.00\" fill=\"#000000\">samples = 0.1%</text>\n<text text-anchor=\"middle\" x=\"2495\" y=\"-134.3\" font-family=\"Helvetica,sans-Serif\" font-size=\"14.00\" fill=\"#000000\">value = [0.0, 1.0]</text>\n<text text-anchor=\"middle\" x=\"2495\" y=\"-119.3\" font-family=\"Helvetica,sans-Serif\" font-size=\"14.00\" fill=\"#000000\">class = True</text>\n</g>\n<!-- 33&#45;&gt;37 -->\n<g id=\"edge37\" class=\"edge\">\n<title>33&#45;&gt;37</title>\n<path fill=\"none\" stroke=\"#000000\" d=\"M2392.2607,-222.8796C2408.2503,-210.8368 2425.6703,-197.7167 2441.5474,-185.7586\"/>\n<polygon fill=\"#000000\" stroke=\"#000000\" points=\"2443.8116,-188.435 2449.6938,-179.623 2439.6002,-182.8435 2443.8116,-188.435\"/>\n</g>\n<!-- 35 -->\n<g id=\"node36\" class=\"node\">\n<title>35</title>\n<polygon fill=\"#e6843d\" stroke=\"#000000\" points=\"2415,-68 2275,-68 2275,0 2415,0 2415,-68\"/>\n<text text-anchor=\"middle\" x=\"2345\" y=\"-52.8\" font-family=\"Helvetica,sans-Serif\" font-size=\"14.00\" fill=\"#000000\">gini = 0.039</text>\n<text text-anchor=\"middle\" x=\"2345\" y=\"-37.8\" font-family=\"Helvetica,sans-Serif\" font-size=\"14.00\" fill=\"#000000\">samples = 3.5%</text>\n<text text-anchor=\"middle\" x=\"2345\" y=\"-22.8\" font-family=\"Helvetica,sans-Serif\" font-size=\"14.00\" fill=\"#000000\">value = [0.98, 0.02]</text>\n<text text-anchor=\"middle\" x=\"2345\" y=\"-7.8\" font-family=\"Helvetica,sans-Serif\" font-size=\"14.00\" fill=\"#000000\">class = False</text>\n</g>\n<!-- 34&#45;&gt;35 -->\n<g id=\"edge35\" class=\"edge\">\n<title>34&#45;&gt;35</title>\n<path fill=\"none\" stroke=\"#000000\" d=\"M2339.9789,-103.9815C2340.579,-95.618 2341.2119,-86.7965 2341.8186,-78.3409\"/>\n<polygon fill=\"#000000\" stroke=\"#000000\" points=\"2345.3169,-78.4885 2342.5416,-68.2637 2338.3349,-77.9875 2345.3169,-78.4885\"/>\n</g>\n<!-- 36 -->\n<g id=\"node37\" class=\"node\">\n<title>36</title>\n<polygon fill=\"#f6d5bd\" stroke=\"#000000\" points=\"2556.5,-68 2433.5,-68 2433.5,0 2556.5,0 2556.5,-68\"/>\n<text text-anchor=\"middle\" x=\"2495\" y=\"-52.8\" font-family=\"Helvetica,sans-Serif\" font-size=\"14.00\" fill=\"#000000\">gini = 0.48</text>\n<text text-anchor=\"middle\" x=\"2495\" y=\"-37.8\" font-family=\"Helvetica,sans-Serif\" font-size=\"14.00\" fill=\"#000000\">samples = 0.3%</text>\n<text text-anchor=\"middle\" x=\"2495\" y=\"-22.8\" font-family=\"Helvetica,sans-Serif\" font-size=\"14.00\" fill=\"#000000\">value = [0.6, 0.4]</text>\n<text text-anchor=\"middle\" x=\"2495\" y=\"-7.8\" font-family=\"Helvetica,sans-Serif\" font-size=\"14.00\" fill=\"#000000\">class = False</text>\n</g>\n<!-- 34&#45;&gt;36 -->\n<g id=\"edge36\" class=\"edge\">\n<title>34&#45;&gt;36</title>\n<path fill=\"none\" stroke=\"#000000\" d=\"M2395.8334,-103.9815C2409.711,-94.1881 2424.4784,-83.7668 2438.2614,-74.0402\"/>\n<polygon fill=\"#000000\" stroke=\"#000000\" points=\"2440.5469,-76.7111 2446.6993,-68.0856 2436.5108,-70.9918 2440.5469,-76.7111\"/>\n</g>\n<!-- 39 -->\n<g id=\"node40\" class=\"node\">\n<title>39</title>\n<polygon fill=\"#e99457\" stroke=\"#000000\" points=\"2740.5,-306 2573.5,-306 2573.5,-223 2740.5,-223 2740.5,-306\"/>\n<text text-anchor=\"middle\" x=\"2657\" y=\"-290.8\" font-family=\"Helvetica,sans-Serif\" font-size=\"14.00\" fill=\"#000000\">cocoaPercent &lt;= 0.725</text>\n<text text-anchor=\"middle\" x=\"2657\" y=\"-275.8\" font-family=\"Helvetica,sans-Serif\" font-size=\"14.00\" fill=\"#000000\">gini = 0.229</text>\n<text text-anchor=\"middle\" x=\"2657\" y=\"-260.8\" font-family=\"Helvetica,sans-Serif\" font-size=\"14.00\" fill=\"#000000\">samples = 2.6%</text>\n<text text-anchor=\"middle\" x=\"2657\" y=\"-245.8\" font-family=\"Helvetica,sans-Serif\" font-size=\"14.00\" fill=\"#000000\">value = [0.868, 0.132]</text>\n<text text-anchor=\"middle\" x=\"2657\" y=\"-230.8\" font-family=\"Helvetica,sans-Serif\" font-size=\"14.00\" fill=\"#000000\">class = False</text>\n</g>\n<!-- 38&#45;&gt;39 -->\n<g id=\"edge39\" class=\"edge\">\n<title>38&#45;&gt;39</title>\n<path fill=\"none\" stroke=\"#000000\" d=\"M2657,-341.8796C2657,-333.6838 2657,-324.9891 2657,-316.5013\"/>\n<polygon fill=\"#000000\" stroke=\"#000000\" points=\"2660.5001,-316.298 2657,-306.2981 2653.5001,-316.2981 2660.5001,-316.298\"/>\n</g>\n<!-- 44 -->\n<g id=\"node45\" class=\"node\">\n<title>44</title>\n<polygon fill=\"#e58139\" stroke=\"#000000\" points=\"2881.5,-298.5 2758.5,-298.5 2758.5,-230.5 2881.5,-230.5 2881.5,-298.5\"/>\n<text text-anchor=\"middle\" x=\"2820\" y=\"-283.3\" font-family=\"Helvetica,sans-Serif\" font-size=\"14.00\" fill=\"#000000\">gini = 0.0</text>\n<text text-anchor=\"middle\" x=\"2820\" y=\"-268.3\" font-family=\"Helvetica,sans-Serif\" font-size=\"14.00\" fill=\"#000000\">samples = 3.0%</text>\n<text text-anchor=\"middle\" x=\"2820\" y=\"-253.3\" font-family=\"Helvetica,sans-Serif\" font-size=\"14.00\" fill=\"#000000\">value = [1.0, 0.0]</text>\n<text text-anchor=\"middle\" x=\"2820\" y=\"-238.3\" font-family=\"Helvetica,sans-Serif\" font-size=\"14.00\" fill=\"#000000\">class = False</text>\n</g>\n<!-- 38&#45;&gt;44 -->\n<g id=\"edge44\" class=\"edge\">\n<title>38&#45;&gt;44</title>\n<path fill=\"none\" stroke=\"#000000\" d=\"M2714.0095,-341.8796C2730.5051,-329.8368 2748.4763,-316.7167 2764.8559,-304.7586\"/>\n<polygon fill=\"#000000\" stroke=\"#000000\" points=\"2767.2472,-307.3463 2773.26,-298.623 2763.1196,-301.6927 2767.2472,-307.3463\"/>\n</g>\n<!-- 40 -->\n<g id=\"node41\" class=\"node\">\n<title>40</title>\n<polygon fill=\"#eeab7b\" stroke=\"#000000\" points=\"2739,-187 2575,-187 2575,-104 2739,-104 2739,-187\"/>\n<text text-anchor=\"middle\" x=\"2657\" y=\"-171.8\" font-family=\"Helvetica,sans-Serif\" font-size=\"14.00\" fill=\"#000000\">specificOrigin &lt;= 526.0</text>\n<text text-anchor=\"middle\" x=\"2657\" y=\"-156.8\" font-family=\"Helvetica,sans-Serif\" font-size=\"14.00\" fill=\"#000000\">gini = 0.375</text>\n<text text-anchor=\"middle\" x=\"2657\" y=\"-141.8\" font-family=\"Helvetica,sans-Serif\" font-size=\"14.00\" fill=\"#000000\">samples = 1.4%</text>\n<text text-anchor=\"middle\" x=\"2657\" y=\"-126.8\" font-family=\"Helvetica,sans-Serif\" font-size=\"14.00\" fill=\"#000000\">value = [0.75, 0.25]</text>\n<text text-anchor=\"middle\" x=\"2657\" y=\"-111.8\" font-family=\"Helvetica,sans-Serif\" font-size=\"14.00\" fill=\"#000000\">class = False</text>\n</g>\n<!-- 39&#45;&gt;40 -->\n<g id=\"edge40\" class=\"edge\">\n<title>39&#45;&gt;40</title>\n<path fill=\"none\" stroke=\"#000000\" d=\"M2657,-222.8796C2657,-214.6838 2657,-205.9891 2657,-197.5013\"/>\n<polygon fill=\"#000000\" stroke=\"#000000\" points=\"2660.5001,-197.298 2657,-187.2981 2653.5001,-197.2981 2660.5001,-197.298\"/>\n</g>\n<!-- 43 -->\n<g id=\"node44\" class=\"node\">\n<title>43</title>\n<polygon fill=\"#e58139\" stroke=\"#000000\" points=\"2880.5,-179.5 2757.5,-179.5 2757.5,-111.5 2880.5,-111.5 2880.5,-179.5\"/>\n<text text-anchor=\"middle\" x=\"2819\" y=\"-164.3\" font-family=\"Helvetica,sans-Serif\" font-size=\"14.00\" fill=\"#000000\">gini = 0.0</text>\n<text text-anchor=\"middle\" x=\"2819\" y=\"-149.3\" font-family=\"Helvetica,sans-Serif\" font-size=\"14.00\" fill=\"#000000\">samples = 1.3%</text>\n<text text-anchor=\"middle\" x=\"2819\" y=\"-134.3\" font-family=\"Helvetica,sans-Serif\" font-size=\"14.00\" fill=\"#000000\">value = [1.0, 0.0]</text>\n<text text-anchor=\"middle\" x=\"2819\" y=\"-119.3\" font-family=\"Helvetica,sans-Serif\" font-size=\"14.00\" fill=\"#000000\">class = False</text>\n</g>\n<!-- 39&#45;&gt;43 -->\n<g id=\"edge43\" class=\"edge\">\n<title>39&#45;&gt;43</title>\n<path fill=\"none\" stroke=\"#000000\" d=\"M2713.6597,-222.8796C2730.0541,-210.8368 2747.9151,-197.7167 2764.1942,-185.7586\"/>\n<polygon fill=\"#000000\" stroke=\"#000000\" points=\"2766.5595,-188.3639 2772.5468,-179.623 2762.4154,-182.7224 2766.5595,-188.3639\"/>\n</g>\n<!-- 41 -->\n<g id=\"node42\" class=\"node\">\n<title>41</title>\n<polygon fill=\"#e58139\" stroke=\"#000000\" points=\"2711.5,-68 2588.5,-68 2588.5,0 2711.5,0 2711.5,-68\"/>\n<text text-anchor=\"middle\" x=\"2650\" y=\"-52.8\" font-family=\"Helvetica,sans-Serif\" font-size=\"14.00\" fill=\"#000000\">gini = 0.0</text>\n<text text-anchor=\"middle\" x=\"2650\" y=\"-37.8\" font-family=\"Helvetica,sans-Serif\" font-size=\"14.00\" fill=\"#000000\">samples = 0.5%</text>\n<text text-anchor=\"middle\" x=\"2650\" y=\"-22.8\" font-family=\"Helvetica,sans-Serif\" font-size=\"14.00\" fill=\"#000000\">value = [1.0, 0.0]</text>\n<text text-anchor=\"middle\" x=\"2650\" y=\"-7.8\" font-family=\"Helvetica,sans-Serif\" font-size=\"14.00\" fill=\"#000000\">class = False</text>\n</g>\n<!-- 40&#45;&gt;41 -->\n<g id=\"edge41\" class=\"edge\">\n<title>40&#45;&gt;41</title>\n<path fill=\"none\" stroke=\"#000000\" d=\"M2654.3935,-103.9815C2653.8684,-95.618 2653.3146,-86.7965 2652.7837,-78.3409\"/>\n<polygon fill=\"#000000\" stroke=\"#000000\" points=\"2656.2709,-78.0247 2652.1511,-68.2637 2649.2846,-78.4634 2656.2709,-78.0247\"/>\n</g>\n<!-- 42 -->\n<g id=\"node43\" class=\"node\">\n<title>42</title>\n<polygon fill=\"#f5d0b5\" stroke=\"#000000\" points=\"2886,-68 2730,-68 2730,0 2886,0 2886,-68\"/>\n<text text-anchor=\"middle\" x=\"2808\" y=\"-52.8\" font-family=\"Helvetica,sans-Serif\" font-size=\"14.00\" fill=\"#000000\">gini = 0.473</text>\n<text text-anchor=\"middle\" x=\"2808\" y=\"-37.8\" font-family=\"Helvetica,sans-Serif\" font-size=\"14.00\" fill=\"#000000\">samples = 0.9%</text>\n<text text-anchor=\"middle\" x=\"2808\" y=\"-22.8\" font-family=\"Helvetica,sans-Serif\" font-size=\"14.00\" fill=\"#000000\">value = [0.615, 0.385]</text>\n<text text-anchor=\"middle\" x=\"2808\" y=\"-7.8\" font-family=\"Helvetica,sans-Serif\" font-size=\"14.00\" fill=\"#000000\">class = False</text>\n</g>\n<!-- 40&#45;&gt;42 -->\n<g id=\"edge42\" class=\"edge\">\n<title>40&#45;&gt;42</title>\n<path fill=\"none\" stroke=\"#000000\" d=\"M2713.2268,-103.9815C2726.2957,-94.3313 2740.1903,-84.0714 2753.1968,-74.4673\"/>\n<polygon fill=\"#000000\" stroke=\"#000000\" points=\"2755.6326,-77.0195 2761.5981,-68.2637 2751.4745,-71.3883 2755.6326,-77.0195\"/>\n</g>\n</g>\n</svg>\n"
          },
          "metadata": {},
          "execution_count": 28
        }
      ]
    },
    {
      "cell_type": "markdown",
      "source": [
        "### 문제에 맞는 정확한 평가지표 선택하기. \n",
        "---\n",
        "**분류**, **회귀** 모델의 평가지표는 완전히 다릅니다❗"
      ],
      "metadata": {
        "id": "xjxhwtyb7720"
      }
    },
    {
      "cell_type": "markdown",
      "source": [
        "####분류 문제의 주의점.\n",
        "* 타겟의 클래스 비용이  70% 이상 차이가 날 경우, 정확도만 사용한다면 판단을 정확하게 할 수 없습니다.\n",
        "  * **정밀도, 재현율, Roc Curve, AUC**등을 같이 사용해야 합니다."
      ],
      "metadata": {
        "id": "ohBMjsL58nsP"
      }
    },
    {
      "cell_type": "code",
      "source": [
        "pipe.named_steps"
      ],
      "metadata": {
        "colab": {
          "base_uri": "https://localhost:8080/"
        },
        "id": "idrsC027RLYD",
        "outputId": "6f1ed227-1686-4088-b589-43d54c7c728e"
      },
      "execution_count": 29,
      "outputs": [
        {
          "output_type": "execute_result",
          "data": {
            "text/plain": [
              "{'ordinalencoder': OrdinalEncoder(cols=['company', 'specificOrigin', 'companyLocation', 'beanType',\n",
              "                      'broadOrigin'],\n",
              "                mapping=[{'col': 'company', 'data_type': dtype('O'),\n",
              "                          'mapping': Guittard                        1\n",
              " Hotel Chocolat (Coppeneur)      2\n",
              " Bittersweet Origins             3\n",
              " Map Chocolate                   4\n",
              " Dandelion                       5\n",
              "                              ... \n",
              " Ah Cacao                      387\n",
              " Whittakers                    388\n",
              " Edelmond                      389\n",
              " Chuao Chocolatier (Pralus)    390\n",
              " NaN                            -2\n",
              " Length: 391, dtype: int64},\n",
              "                         {'col': 'specificOrigin', 'data_...\n",
              " Trinitario, Nacional       27\n",
              " Nacional (Arriba)          28\n",
              " Criollo, Forastero         29\n",
              " Amazon, ICS                30\n",
              " Forastero(Arriba, CCN)     31\n",
              " Criollo (Amarru)           32\n",
              " Criollo, +                 33\n",
              " Nacional                   34\n",
              " NaN                        -2\n",
              " dtype: int64},\n",
              "                         {'col': 'broadOrigin', 'data_type': dtype('O'),\n",
              "                          'mapping': Trinidad               1\n",
              " Dominican Republic     2\n",
              " Madagascar             3\n",
              " Colombia               4\n",
              " Uganda                 5\n",
              "                       ..\n",
              " Venezuela,Trinidad    86\n",
              " Venezuela,Dom Rep     87\n",
              " Peru,Mad,Dom Rep      88\n",
              " Venezuela,Java        89\n",
              " NaN                   -2\n",
              " Length: 90, dtype: int64}]),\n",
              " 'decisiontreeclassifier': DecisionTreeClassifier(max_depth=5, random_state=2)}"
            ]
          },
          "metadata": {},
          "execution_count": 29
        }
      ]
    },
    {
      "cell_type": "code",
      "source": [
        "pipe.named_steps['decisiontreeclassifier'].classes_"
      ],
      "metadata": {
        "colab": {
          "base_uri": "https://localhost:8080/"
        },
        "id": "_aloX-7uRd0z",
        "outputId": "b68f24ac-437e-406f-a239-b109c3a1498c"
      },
      "execution_count": 30,
      "outputs": [
        {
          "output_type": "execute_result",
          "data": {
            "text/plain": [
              "array([False,  True])"
            ]
          },
          "metadata": {},
          "execution_count": 30
        }
      ]
    },
    {
      "cell_type": "code",
      "source": [
        "# 혼동행렬을 생성합니다, \n",
        "# 먼저 필요한 라이브러리를 생성합니다.\n",
        "from sklearn.metrics import confusion_matrix, ConfusionMatrixDisplay\n",
        "import matplotlib.pyplot as plt\n",
        "\n",
        "# 예측값 생성.\n",
        "y_pred = pipe.predict(X_val)\n",
        "\n",
        "\n",
        "\n",
        "cm = confusion_matrix(y_val, y_pred,\n",
        "                      labels = pipe.named_steps['decisiontreeclassifier'].classes_)\n",
        "\n",
        "disp = ConfusionMatrixDisplay(confusion_matrix =cm, \n",
        "                              display_labels = pipe.named_steps['decisiontreeclassifier'].classes_)\n",
        "\n",
        "\n",
        "\n",
        "disp.plot()\n",
        "plt.title(f'Confusion matrix, n = {len(y_val)}')\n",
        "plt.show()"
      ],
      "metadata": {
        "colab": {
          "base_uri": "https://localhost:8080/",
          "height": 295
        },
        "id": "NuIyWZ6M99oF",
        "outputId": "06a5340a-c5c6-421a-d2f9-64370caa85c2"
      },
      "execution_count": 31,
      "outputs": [
        {
          "output_type": "display_data",
          "data": {
            "text/plain": [
              "<Figure size 432x288 with 2 Axes>"
            ],
            "image/png": "[encoded data removed]"
          },
          "metadata": {
            "needs_background": "light"
          }
        }
      ]
    },
    {
      "cell_type": "markdown",
      "source": [
        "#### Confusion matrix\n",
        "* 현재 모델이 대부분의 다수범주인 'False' 값으로 예측하고 있습니다.\n",
        "* 실제로는 True 범주를 잘 못맞추고 있음에도 불구하고, 아래의 검증 정확도는 83%이상 입니다."
      ],
      "metadata": {
        "id": "AdjRveHVUre2"
      }
    },
    {
      "cell_type": "code",
      "source": [
        "pipe = make_pipeline(\n",
        "    OrdinalEncoder(),\n",
        "    DecisionTreeClassifier(max_depth = 5, random_state=2)\n",
        ")\n",
        "\n",
        "pipe.fit(X_train, y_train)\n",
        "print('검증 정확도', pipe.score(X_val, y_val))"
      ],
      "metadata": {
        "colab": {
          "base_uri": "https://localhost:8080/"
        },
        "id": "LVc3GBDG91Vn",
        "outputId": "27ad45f4-78a9-4824-e5e5-80e979bd464d"
      },
      "execution_count": 32,
      "outputs": [
        {
          "output_type": "stream",
          "name": "stdout",
          "text": [
            "검증 정확도 0.83008356545961\n"
          ]
        }
      ]
    },
    {
      "cell_type": "markdown",
      "source": [
        "report 또한 True를 예측하는 비율이 현저히 낮습니다."
      ],
      "metadata": {
        "id": "tyTIVjVFW452"
      }
    },
    {
      "cell_type": "code",
      "source": [
        "# 분류 보고서를 확인하여 봅시다,\n",
        "from sklearn.metrics import classification_report\n",
        "y_pred = pipe.predict(X_val)\n",
        "print(classification_report(y_val, y_pred))"
      ],
      "metadata": {
        "colab": {
          "base_uri": "https://localhost:8080/"
        },
        "id": "W-h9IDlzTNZ0",
        "outputId": "6be8013d-88b2-440f-bc5f-353e14b0ada7"
      },
      "execution_count": 33,
      "outputs": [
        {
          "output_type": "stream",
          "name": "stdout",
          "text": [
            "              precision    recall  f1-score   support\n",
            "\n",
            "       False       0.84      0.98      0.91       302\n",
            "        True       0.17      0.02      0.03        57\n",
            "\n",
            "    accuracy                           0.83       359\n",
            "   macro avg       0.50      0.50      0.47       359\n",
            "weighted avg       0.73      0.83      0.77       359\n",
            "\n"
          ]
        }
      ]
    },
    {
      "cell_type": "code",
      "source": [
        "# 필요한 라이브러리 가져오기.\n",
        "from sklearn.metrics import roc_auc_score\n",
        "#import matplotlib.pyplot as plt\n",
        "y_pred_proba = pipe.predict_proba(X_val)[:,-1]\n",
        "print('AUC score:', roc_auc_score(y_val, y_pred_proba))"
      ],
      "metadata": {
        "colab": {
          "base_uri": "https://localhost:8080/"
        },
        "id": "zBKzRLTiUW0g",
        "outputId": "11a3bf47-cad6-48b2-bd73-0fcf9c91d9b1"
      },
      "execution_count": 34,
      "outputs": [
        {
          "output_type": "stream",
          "name": "stdout",
          "text": [
            "AUC score: 0.5991634715928895\n"
          ]
        }
      ]
    },
    {
      "cell_type": "code",
      "source": [
        "#ROC 커브를 시각화하여 봅시다.\n",
        "from sklearn.metrics import roc_curve\n",
        "import matplotlib.pyplot as plt\n",
        "fpr, tpr, thresholds = roc_curve(y_val, y_pred_proba)\n",
        "\n",
        "plt.scatter(fpr, tpr, color ='blue')\n",
        "plt.plot(fpr, tpr, color = 'green')\n",
        "plt.title('ROC curve')\n",
        "plt.xlabel('FPR')\n",
        "plt.ylabel('TPR')"
      ],
      "metadata": {
        "colab": {
          "base_uri": "https://localhost:8080/",
          "height": 313
        },
        "id": "ku3s4_RkAFus",
        "outputId": "401ae765-b3e4-42d4-d1ca-539557becf46"
      },
      "execution_count": 35,
      "outputs": [
        {
          "output_type": "execute_result",
          "data": {
            "text/plain": [
              "Text(0, 0.5, 'TPR')"
            ]
          },
          "metadata": {},
          "execution_count": 35
        },
        {
          "output_type": "display_data",
          "data": {
            "text/plain": [
              "<Figure size 432x288 with 1 Axes>"
            ],
            "image/png": "[encoded data removed]"
          },
          "metadata": {
            "needs_background": "light"
          }
        }
      ]
    },
    {
      "cell_type": "markdown",
      "source": [
        "#### 불균형 클래스를 계산하는 법.\n",
        "---\n",
        "* 가중치를 박아넣어줘야 합니다."
      ],
      "metadata": {
        "id": "1sDH-CA-iofp"
      }
    },
    {
      "cell_type": "markdown",
      "source": [
        "가중치 계산하기."
      ],
      "metadata": {
        "id": "epp-xOx5i7Ub"
      }
    },
    {
      "cell_type": "code",
      "source": [
        "y_train.value_counts(normalize = True)"
      ],
      "metadata": {
        "colab": {
          "base_uri": "https://localhost:8080/"
        },
        "id": "ttHAUfYqCoD_",
        "outputId": "b6b4c291-caf0-4101-c986-7a149651b14b"
      },
      "execution_count": 36,
      "outputs": [
        {
          "output_type": "execute_result",
          "data": {
            "text/plain": [
              "False    0.824268\n",
              "True     0.175732\n",
              "Name: recommend, dtype: float64"
            ]
          },
          "metadata": {},
          "execution_count": 36
        }
      ]
    },
    {
      "cell_type": "code",
      "source": [
        "custom = len(y_train)/(2*np.bincount(y_train))\n",
        "custom"
      ],
      "metadata": {
        "colab": {
          "base_uri": "https://localhost:8080/"
        },
        "id": "1fNRvM97AGxQ",
        "outputId": "681489ba-c3cc-48a3-9425-72337bb684a8"
      },
      "execution_count": 37,
      "outputs": [
        {
          "output_type": "execute_result",
          "data": {
            "text/plain": [
              "array([0.60659898, 2.8452381 ])"
            ]
          },
          "metadata": {},
          "execution_count": 37
        }
      ]
    },
    {
      "cell_type": "code",
      "source": [
        "pipe = make_pipeline(\n",
        "    OrdinalEncoder(),\n",
        "    DecisionTreeClassifier(max_depth = 5,\n",
        "                           class_weight = {False:custom[0], True:custom[1]},\n",
        "                           random_state=2)\n",
        ")\n",
        "\n",
        "pipe.fit(X_train, y_train)\n",
        "print('검증 정확도', pipe.score(X_val, y_val))"
      ],
      "metadata": {
        "colab": {
          "base_uri": "https://localhost:8080/"
        },
        "id": "zQHcDeT0iMKh",
        "outputId": "f628a6e8-b2cf-4468-cfe1-b4096eec3700"
      },
      "execution_count": 38,
      "outputs": [
        {
          "output_type": "stream",
          "name": "stdout",
          "text": [
            "검증 정확도 0.584958217270195\n"
          ]
        }
      ]
    },
    {
      "cell_type": "markdown",
      "source": [
        "검증 정확도를 살펴보았을 때, 크게 달라진 점을 찾지 못했습니다. <br>\n",
        "이번에는 혼동행렬을 그려 데이터를 살펴봅시다."
      ],
      "metadata": {
        "id": "7T8sHMbskkEh"
      }
    },
    {
      "cell_type": "code",
      "source": [
        "#혼동행렬에 사용될 예측값을 생성합니다. (검증데이터 이용)\n",
        "# 예측값 이용\n",
        "y_pred = pipe.predict(X_val)\n",
        "\n",
        "cm = confusion_matrix(\n",
        "    y_val, y_pred,\n",
        "    labels = pipe.named_steps['decisiontreeclassifier'].classes_)\n",
        "\n",
        "disp = ConfusionMatrixDisplay(confusion_matrix = cm,\n",
        "                              display_labels = pipe.named_steps['decisiontreeclassifier'].classes_)\n",
        "\n",
        "disp.plot()\n",
        "plt.show()\n"
      ],
      "metadata": {
        "colab": {
          "base_uri": "https://localhost:8080/",
          "height": 281
        },
        "id": "MIKfGMjolay3",
        "outputId": "56207981-4014-4b79-ce06-dea98fb911b1"
      },
      "execution_count": 39,
      "outputs": [
        {
          "output_type": "display_data",
          "data": {
            "text/plain": [
              "<Figure size 432x288 with 2 Axes>"
            ],
            "image/png": "[encoded data removed]"
          },
          "metadata": {
            "needs_background": "light"
          }
        }
      ]
    },
    {
      "cell_type": "markdown",
      "source": [
        "confusion matrix를 확인하였을 때, 확연하게 다른 양상을 확인할 수 있다.\n",
        "<br/>이후 ```classification_report``` 또한 살펴봅시다.\n"
      ],
      "metadata": {
        "id": "Lhp862Idn1wG"
      }
    },
    {
      "cell_type": "markdown",
      "source": [
        "#### True 범주의 수치 살펴보기.\n",
        "* 전반적으로, True의 재현율 및 정밀도의 수치가 지난번 모델보다 더 높아졌습니다."
      ],
      "metadata": {
        "id": "DbGbEUrYoqhO"
      }
    },
    {
      "cell_type": "code",
      "source": [
        "y_pred = pipe.predict(X_val)\n",
        "print(classification_report(y_val, y_pred))"
      ],
      "metadata": {
        "colab": {
          "base_uri": "https://localhost:8080/"
        },
        "id": "nEx09EDtqAGT",
        "outputId": "5a0ccdc3-a2ff-48e7-da81-e7761c8ffe22"
      },
      "execution_count": 40,
      "outputs": [
        {
          "output_type": "stream",
          "name": "stdout",
          "text": [
            "              precision    recall  f1-score   support\n",
            "\n",
            "       False       0.86      0.60      0.71       302\n",
            "        True       0.19      0.49      0.27        57\n",
            "\n",
            "    accuracy                           0.58       359\n",
            "   macro avg       0.53      0.55      0.49       359\n",
            "weighted avg       0.76      0.58      0.64       359\n",
            "\n"
          ]
        }
      ]
    },
    {
      "cell_type": "code",
      "source": [
        "y_pred_proba = pipe.predict_proba(X_val)[:,-1]\n",
        "print('AUC score:', roc_auc_score(y_val, y_pred_proba))\n",
        "fpr, tpr, thresholds = roc_curve(y_val, y_pred_proba)\n",
        "\n",
        "plt.scatter(fpr, tpr, color = 'blue')\n",
        "plt.plot(fpr, tpr, color = 'green')\n",
        "plt.title('ROC curve')\n",
        "plt.xlabel('FPR')\n",
        "plt.ylabel('TPR')"
      ],
      "metadata": {
        "id": "DtcRb2EYpjFd",
        "outputId": "63157aca-f719-4866-f5fe-3ed18b34dfe7",
        "colab": {
          "base_uri": "https://localhost:8080/",
          "height": 331
        }
      },
      "execution_count": 41,
      "outputs": [
        {
          "output_type": "stream",
          "name": "stdout",
          "text": [
            "AUC score: 0.624056000929476\n"
          ]
        },
        {
          "output_type": "execute_result",
          "data": {
            "text/plain": [
              "Text(0, 0.5, 'TPR')"
            ]
          },
          "metadata": {},
          "execution_count": 41
        },
        {
          "output_type": "display_data",
          "data": {
            "text/plain": [
              "<Figure size 432x288 with 1 Axes>"
            ],
            "image/png": "[encoded data removed]"
          },
          "metadata": {
            "needs_background": "light"
          }
        }
      ]
    },
    {
      "cell_type": "markdown",
      "source": [
        "#### ROC Curve가 직선과 비슷하게 나왔다는 것은 분류가 잘 안되었다는 것을 의미한다.\n",
        " * 회귀의 r2 score 값처럼 나온 것이다.\n",
        " * ROC Curve를 통해서 과적합과 과소적합을 알 수는 없습니다. "
      ],
      "metadata": {
        "id": "2ux3HuLUQSSf"
      }
    },
    {
      "cell_type": "markdown",
      "source": [
        "---\n",
        "#### 회귀에서는 타겟의 분포를 주의깊게 살펴봐야 합니다.\n",
        "* house price 데이터를 사용하여봅시다."
      ],
      "metadata": {
        "id": "MwzFHUOUQsP1"
      }
    },
    {
      "cell_type": "code",
      "source": [
        "# data : house price\n",
        "df = pd.read_csv('https://ds-lecture-data.s3.ap-northeast-2.amazonaws.com/house-prices/house_prices_train.csv')\n",
        "df"
      ],
      "metadata": {
        "id": "Iwsxyc3IQ5yQ",
        "outputId": "f0ef7b96-bad1-41d7-a538-65568579a7df",
        "colab": {
          "base_uri": "https://localhost:8080/",
          "height": 488
        }
      },
      "execution_count": 57,
      "outputs": [
        {
          "output_type": "execute_result",
          "data": {
            "text/plain": [
              "        Id  MSSubClass MSZoning  LotFrontage  LotArea Street Alley LotShape  \\\n",
              "0        1          60       RL         65.0     8450   Pave   NaN      Reg   \n",
              "1        2          20       RL         80.0     9600   Pave   NaN      Reg   \n",
              "2        3          60       RL         68.0    11250   Pave   NaN      IR1   \n",
              "3        4          70       RL         60.0     9550   Pave   NaN      IR1   \n",
              "4        5          60       RL         84.0    14260   Pave   NaN      IR1   \n",
              "...    ...         ...      ...          ...      ...    ...   ...      ...   \n",
              "1455  1456          60       RL         62.0     7917   Pave   NaN      Reg   \n",
              "1456  1457          20       RL         85.0    13175   Pave   NaN      Reg   \n",
              "1457  1458          70       RL         66.0     9042   Pave   NaN      Reg   \n",
              "1458  1459          20       RL         68.0     9717   Pave   NaN      Reg   \n",
              "1459  1460          20       RL         75.0     9937   Pave   NaN      Reg   \n",
              "\n",
              "     LandContour Utilities LotConfig LandSlope Neighborhood Condition1  \\\n",
              "0            Lvl    AllPub    Inside       Gtl      CollgCr       Norm   \n",
              "1            Lvl    AllPub       FR2       Gtl      Veenker      Feedr   \n",
              "2            Lvl    AllPub    Inside       Gtl      CollgCr       Norm   \n",
              "3            Lvl    AllPub    Corner       Gtl      Crawfor       Norm   \n",
              "4            Lvl    AllPub       FR2       Gtl      NoRidge       Norm   \n",
              "...          ...       ...       ...       ...          ...        ...   \n",
              "1455         Lvl    AllPub    Inside       Gtl      Gilbert       Norm   \n",
              "1456         Lvl    AllPub    Inside       Gtl       NWAmes       Norm   \n",
              "1457         Lvl    AllPub    Inside       Gtl      Crawfor       Norm   \n",
              "1458         Lvl    AllPub    Inside       Gtl        NAmes       Norm   \n",
              "1459         Lvl    AllPub    Inside       Gtl      Edwards       Norm   \n",
              "\n",
              "     Condition2 BldgType HouseStyle  OverallQual  OverallCond  YearBuilt  \\\n",
              "0          Norm     1Fam     2Story            7            5       2003   \n",
              "1          Norm     1Fam     1Story            6            8       1976   \n",
              "2          Norm     1Fam     2Story            7            5       2001   \n",
              "3          Norm     1Fam     2Story            7            5       1915   \n",
              "4          Norm     1Fam     2Story            8            5       2000   \n",
              "...         ...      ...        ...          ...          ...        ...   \n",
              "1455       Norm     1Fam     2Story            6            5       1999   \n",
              "1456       Norm     1Fam     1Story            6            6       1978   \n",
              "1457       Norm     1Fam     2Story            7            9       1941   \n",
              "1458       Norm     1Fam     1Story            5            6       1950   \n",
              "1459       Norm     1Fam     1Story            5            6       1965   \n",
              "\n",
              "      YearRemodAdd RoofStyle RoofMatl Exterior1st Exterior2nd MasVnrType  \\\n",
              "0             2003     Gable  CompShg     VinylSd     VinylSd    BrkFace   \n",
              "1             1976     Gable  CompShg     MetalSd     MetalSd       None   \n",
              "2             2002     Gable  CompShg     VinylSd     VinylSd    BrkFace   \n",
              "3             1970     Gable  CompShg     Wd Sdng     Wd Shng       None   \n",
              "4             2000     Gable  CompShg     VinylSd     VinylSd    BrkFace   \n",
              "...            ...       ...      ...         ...         ...        ...   \n",
              "1455          2000     Gable  CompShg     VinylSd     VinylSd       None   \n",
              "1456          1988     Gable  CompShg     Plywood     Plywood      Stone   \n",
              "1457          2006     Gable  CompShg     CemntBd     CmentBd       None   \n",
              "1458          1996       Hip  CompShg     MetalSd     MetalSd       None   \n",
              "1459          1965     Gable  CompShg     HdBoard     HdBoard       None   \n",
              "\n",
              "      MasVnrArea ExterQual ExterCond Foundation BsmtQual BsmtCond  \\\n",
              "0          196.0        Gd        TA      PConc       Gd       TA   \n",
              "1            0.0        TA        TA     CBlock       Gd       TA   \n",
              "2          162.0        Gd        TA      PConc       Gd       TA   \n",
              "3            0.0        TA        TA     BrkTil       TA       Gd   \n",
              "4          350.0        Gd        TA      PConc       Gd       TA   \n",
              "...          ...       ...       ...        ...      ...      ...   \n",
              "1455         0.0        TA        TA      PConc       Gd       TA   \n",
              "1456       119.0        TA        TA     CBlock       Gd       TA   \n",
              "1457         0.0        Ex        Gd      Stone       TA       Gd   \n",
              "1458         0.0        TA        TA     CBlock       TA       TA   \n",
              "1459         0.0        Gd        TA     CBlock       TA       TA   \n",
              "\n",
              "     BsmtExposure BsmtFinType1  BsmtFinSF1 BsmtFinType2  BsmtFinSF2  \\\n",
              "0              No          GLQ         706          Unf           0   \n",
              "1              Gd          ALQ         978          Unf           0   \n",
              "2              Mn          GLQ         486          Unf           0   \n",
              "3              No          ALQ         216          Unf           0   \n",
              "4              Av          GLQ         655          Unf           0   \n",
              "...           ...          ...         ...          ...         ...   \n",
              "1455           No          Unf           0          Unf           0   \n",
              "1456           No          ALQ         790          Rec         163   \n",
              "1457           No          GLQ         275          Unf           0   \n",
              "1458           Mn          GLQ          49          Rec        1029   \n",
              "1459           No          BLQ         830          LwQ         290   \n",
              "\n",
              "      BsmtUnfSF  TotalBsmtSF Heating HeatingQC CentralAir Electrical  \\\n",
              "0           150          856    GasA        Ex          Y      SBrkr   \n",
              "1           284         1262    GasA        Ex          Y      SBrkr   \n",
              "2           434          920    GasA        Ex          Y      SBrkr   \n",
              "3           540          756    GasA        Gd          Y      SBrkr   \n",
              "4           490         1145    GasA        Ex          Y      SBrkr   \n",
              "...         ...          ...     ...       ...        ...        ...   \n",
              "1455        953          953    GasA        Ex          Y      SBrkr   \n",
              "1456        589         1542    GasA        TA          Y      SBrkr   \n",
              "1457        877         1152    GasA        Ex          Y      SBrkr   \n",
              "1458          0         1078    GasA        Gd          Y      FuseA   \n",
              "1459        136         1256    GasA        Gd          Y      SBrkr   \n",
              "\n",
              "      1stFlrSF  2ndFlrSF  LowQualFinSF  GrLivArea  BsmtFullBath  BsmtHalfBath  \\\n",
              "0          856       854             0       1710             1             0   \n",
              "1         1262         0             0       1262             0             1   \n",
              "2          920       866             0       1786             1             0   \n",
              "3          961       756             0       1717             1             0   \n",
              "4         1145      1053             0       2198             1             0   \n",
              "...        ...       ...           ...        ...           ...           ...   \n",
              "1455       953       694             0       1647             0             0   \n",
              "1456      2073         0             0       2073             1             0   \n",
              "1457      1188      1152             0       2340             0             0   \n",
              "1458      1078         0             0       1078             1             0   \n",
              "1459      1256         0             0       1256             1             0   \n",
              "\n",
              "      FullBath  HalfBath  BedroomAbvGr  KitchenAbvGr KitchenQual  \\\n",
              "0            2         1             3             1          Gd   \n",
              "1            2         0             3             1          TA   \n",
              "2            2         1             3             1          Gd   \n",
              "3            1         0             3             1          Gd   \n",
              "4            2         1             4             1          Gd   \n",
              "...        ...       ...           ...           ...         ...   \n",
              "1455         2         1             3             1          TA   \n",
              "1456         2         0             3             1          TA   \n",
              "1457         2         0             4             1          Gd   \n",
              "1458         1         0             2             1          Gd   \n",
              "1459         1         1             3             1          TA   \n",
              "\n",
              "      TotRmsAbvGrd Functional  Fireplaces FireplaceQu GarageType  GarageYrBlt  \\\n",
              "0                8        Typ           0         NaN     Attchd       2003.0   \n",
              "1                6        Typ           1          TA     Attchd       1976.0   \n",
              "2                6        Typ           1          TA     Attchd       2001.0   \n",
              "3                7        Typ           1          Gd     Detchd       1998.0   \n",
              "4                9        Typ           1          TA     Attchd       2000.0   \n",
              "...            ...        ...         ...         ...        ...          ...   \n",
              "1455             7        Typ           1          TA     Attchd       1999.0   \n",
              "1456             7       Min1           2          TA     Attchd       1978.0   \n",
              "1457             9        Typ           2          Gd     Attchd       1941.0   \n",
              "1458             5        Typ           0         NaN     Attchd       1950.0   \n",
              "1459             6        Typ           0         NaN     Attchd       1965.0   \n",
              "\n",
              "     GarageFinish  GarageCars  GarageArea GarageQual GarageCond PavedDrive  \\\n",
              "0             RFn           2         548         TA         TA          Y   \n",
              "1             RFn           2         460         TA         TA          Y   \n",
              "2             RFn           2         608         TA         TA          Y   \n",
              "3             Unf           3         642         TA         TA          Y   \n",
              "4             RFn           3         836         TA         TA          Y   \n",
              "...           ...         ...         ...        ...        ...        ...   \n",
              "1455          RFn           2         460         TA         TA          Y   \n",
              "1456          Unf           2         500         TA         TA          Y   \n",
              "1457          RFn           1         252         TA         TA          Y   \n",
              "1458          Unf           1         240         TA         TA          Y   \n",
              "1459          Fin           1         276         TA         TA          Y   \n",
              "\n",
              "      WoodDeckSF  OpenPorchSF  EnclosedPorch  3SsnPorch  ScreenPorch  \\\n",
              "0              0           61              0          0            0   \n",
              "1            298            0              0          0            0   \n",
              "2              0           42              0          0            0   \n",
              "3              0           35            272          0            0   \n",
              "4            192           84              0          0            0   \n",
              "...          ...          ...            ...        ...          ...   \n",
              "1455           0           40              0          0            0   \n",
              "1456         349            0              0          0            0   \n",
              "1457           0           60              0          0            0   \n",
              "1458         366            0            112          0            0   \n",
              "1459         736           68              0          0            0   \n",
              "\n",
              "      PoolArea PoolQC  Fence MiscFeature  MiscVal  MoSold  YrSold SaleType  \\\n",
              "0            0    NaN    NaN         NaN        0       2    2008       WD   \n",
              "1            0    NaN    NaN         NaN        0       5    2007       WD   \n",
              "2            0    NaN    NaN         NaN        0       9    2008       WD   \n",
              "3            0    NaN    NaN         NaN        0       2    2006       WD   \n",
              "4            0    NaN    NaN         NaN        0      12    2008       WD   \n",
              "...        ...    ...    ...         ...      ...     ...     ...      ...   \n",
              "1455         0    NaN    NaN         NaN        0       8    2007       WD   \n",
              "1456         0    NaN  MnPrv         NaN        0       2    2010       WD   \n",
              "1457         0    NaN  GdPrv        Shed     2500       5    2010       WD   \n",
              "1458         0    NaN    NaN         NaN        0       4    2010       WD   \n",
              "1459         0    NaN    NaN         NaN        0       6    2008       WD   \n",
              "\n",
              "     SaleCondition  SalePrice  \n",
              "0           Normal     208500  \n",
              "1           Normal     181500  \n",
              "2           Normal     223500  \n",
              "3          Abnorml     140000  \n",
              "4           Normal     250000  \n",
              "...            ...        ...  \n",
              "1455        Normal     175000  \n",
              "1456        Normal     210000  \n",
              "1457        Normal     266500  \n",
              "1458        Normal     142125  \n",
              "1459        Normal     147500  \n",
              "\n",
              "[1460 rows x 81 columns]"
            ],
            "text/html": [
              "\n",
              "  <div id=\"df-e1e0a8f0-b2a6-4ec0-aa8d-1143a7b6e0bd\">\n",
              "    <div class=\"colab-df-container\">\n",
              "      <div>\n",
              "<style scoped>\n",
              "    .dataframe tbody tr th:only-of-type {\n",
              "        vertical-align: middle;\n",
              "    }\n",
              "\n",
              "    .dataframe tbody tr th {\n",
              "        vertical-align: top;\n",
              "    }\n",
              "\n",
              "    .dataframe thead th {\n",
              "        text-align: right;\n",
              "    }\n",
              "</style>\n",
              "<table border=\"1\" class=\"dataframe\">\n",
              "  <thead>\n",
              "    <tr style=\"text-align: right;\">\n",
              "      <th></th>\n",
              "      <th>Id</th>\n",
              "      <th>MSSubClass</th>\n",
              "      <th>MSZoning</th>\n",
              "      <th>LotFrontage</th>\n",
              "      <th>LotArea</th>\n",
              "      <th>Street</th>\n",
              "      <th>Alley</th>\n",
              "      <th>LotShape</th>\n",
              "      <th>LandContour</th>\n",
              "      <th>Utilities</th>\n",
              "      <th>LotConfig</th>\n",
              "      <th>LandSlope</th>\n",
              "      <th>Neighborhood</th>\n",
              "      <th>Condition1</th>\n",
              "      <th>Condition2</th>\n",
              "      <th>BldgType</th>\n",
              "      <th>HouseStyle</th>\n",
              "      <th>OverallQual</th>\n",
              "      <th>OverallCond</th>\n",
              "      <th>YearBuilt</th>\n",
              "      <th>YearRemodAdd</th>\n",
              "      <th>RoofStyle</th>\n",
              "      <th>RoofMatl</th>\n",
              "      <th>Exterior1st</th>\n",
              "      <th>Exterior2nd</th>\n",
              "      <th>MasVnrType</th>\n",
              "      <th>MasVnrArea</th>\n",
              "      <th>ExterQual</th>\n",
              "      <th>ExterCond</th>\n",
              "      <th>Foundation</th>\n",
              "      <th>BsmtQual</th>\n",
              "      <th>BsmtCond</th>\n",
              "      <th>BsmtExposure</th>\n",
              "      <th>BsmtFinType1</th>\n",
              "      <th>BsmtFinSF1</th>\n",
              "      <th>BsmtFinType2</th>\n",
              "      <th>BsmtFinSF2</th>\n",
              "      <th>BsmtUnfSF</th>\n",
              "      <th>TotalBsmtSF</th>\n",
              "      <th>Heating</th>\n",
              "      <th>HeatingQC</th>\n",
              "      <th>CentralAir</th>\n",
              "      <th>Electrical</th>\n",
              "      <th>1stFlrSF</th>\n",
              "      <th>2ndFlrSF</th>\n",
              "      <th>LowQualFinSF</th>\n",
              "      <th>GrLivArea</th>\n",
              "      <th>BsmtFullBath</th>\n",
              "      <th>BsmtHalfBath</th>\n",
              "      <th>FullBath</th>\n",
              "      <th>HalfBath</th>\n",
              "      <th>BedroomAbvGr</th>\n",
              "      <th>KitchenAbvGr</th>\n",
              "      <th>KitchenQual</th>\n",
              "      <th>TotRmsAbvGrd</th>\n",
              "      <th>Functional</th>\n",
              "      <th>Fireplaces</th>\n",
              "      <th>FireplaceQu</th>\n",
              "      <th>GarageType</th>\n",
              "      <th>GarageYrBlt</th>\n",
              "      <th>GarageFinish</th>\n",
              "      <th>GarageCars</th>\n",
              "      <th>GarageArea</th>\n",
              "      <th>GarageQual</th>\n",
              "      <th>GarageCond</th>\n",
              "      <th>PavedDrive</th>\n",
              "      <th>WoodDeckSF</th>\n",
              "      <th>OpenPorchSF</th>\n",
              "      <th>EnclosedPorch</th>\n",
              "      <th>3SsnPorch</th>\n",
              "      <th>ScreenPorch</th>\n",
              "      <th>PoolArea</th>\n",
              "      <th>PoolQC</th>\n",
              "      <th>Fence</th>\n",
              "      <th>MiscFeature</th>\n",
              "      <th>MiscVal</th>\n",
              "      <th>MoSold</th>\n",
              "      <th>YrSold</th>\n",
              "      <th>SaleType</th>\n",
              "      <th>SaleCondition</th>\n",
              "      <th>SalePrice</th>\n",
              "    </tr>\n",
              "  </thead>\n",
              "  <tbody>\n",
              "    <tr>\n",
              "      <th>0</th>\n",
              "      <td>1</td>\n",
              "      <td>60</td>\n",
              "      <td>RL</td>\n",
              "      <td>65.0</td>\n",
              "      <td>8450</td>\n",
              "      <td>Pave</td>\n",
              "      <td>NaN</td>\n",
              "      <td>Reg</td>\n",
              "      <td>Lvl</td>\n",
              "      <td>AllPub</td>\n",
              "      <td>Inside</td>\n",
              "      <td>Gtl</td>\n",
              "      <td>CollgCr</td>\n",
              "      <td>Norm</td>\n",
              "      <td>Norm</td>\n",
              "      <td>1Fam</td>\n",
              "      <td>2Story</td>\n",
              "      <td>7</td>\n",
              "      <td>5</td>\n",
              "      <td>2003</td>\n",
              "      <td>2003</td>\n",
              "      <td>Gable</td>\n",
              "      <td>CompShg</td>\n",
              "      <td>VinylSd</td>\n",
              "      <td>VinylSd</td>\n",
              "      <td>BrkFace</td>\n",
              "      <td>196.0</td>\n",
              "      <td>Gd</td>\n",
              "      <td>TA</td>\n",
              "      <td>PConc</td>\n",
              "      <td>Gd</td>\n",
              "      <td>TA</td>\n",
              "      <td>No</td>\n",
              "      <td>GLQ</td>\n",
              "      <td>706</td>\n",
              "      <td>Unf</td>\n",
              "      <td>0</td>\n",
              "      <td>150</td>\n",
              "      <td>856</td>\n",
              "      <td>GasA</td>\n",
              "      <td>Ex</td>\n",
              "      <td>Y</td>\n",
              "      <td>SBrkr</td>\n",
              "      <td>856</td>\n",
              "      <td>854</td>\n",
              "      <td>0</td>\n",
              "      <td>1710</td>\n",
              "      <td>1</td>\n",
              "      <td>0</td>\n",
              "      <td>2</td>\n",
              "      <td>1</td>\n",
              "      <td>3</td>\n",
              "      <td>1</td>\n",
              "      <td>Gd</td>\n",
              "      <td>8</td>\n",
              "      <td>Typ</td>\n",
              "      <td>0</td>\n",
              "      <td>NaN</td>\n",
              "      <td>Attchd</td>\n",
              "      <td>2003.0</td>\n",
              "      <td>RFn</td>\n",
              "      <td>2</td>\n",
              "      <td>548</td>\n",
              "      <td>TA</td>\n",
              "      <td>TA</td>\n",
              "      <td>Y</td>\n",
              "      <td>0</td>\n",
              "      <td>61</td>\n",
              "      <td>0</td>\n",
              "      <td>0</td>\n",
              "      <td>0</td>\n",
              "      <td>0</td>\n",
              "      <td>NaN</td>\n",
              "      <td>NaN</td>\n",
              "      <td>NaN</td>\n",
              "      <td>0</td>\n",
              "      <td>2</td>\n",
              "      <td>2008</td>\n",
              "      <td>WD</td>\n",
              "      <td>Normal</td>\n",
              "      <td>208500</td>\n",
              "    </tr>\n",
              "    <tr>\n",
              "      <th>1</th>\n",
              "      <td>2</td>\n",
              "      <td>20</td>\n",
              "      <td>RL</td>\n",
              "      <td>80.0</td>\n",
              "      <td>9600</td>\n",
              "      <td>Pave</td>\n",
              "      <td>NaN</td>\n",
              "      <td>Reg</td>\n",
              "      <td>Lvl</td>\n",
              "      <td>AllPub</td>\n",
              "      <td>FR2</td>\n",
              "      <td>Gtl</td>\n",
              "      <td>Veenker</td>\n",
              "      <td>Feedr</td>\n",
              "      <td>Norm</td>\n",
              "      <td>1Fam</td>\n",
              "      <td>1Story</td>\n",
              "      <td>6</td>\n",
              "      <td>8</td>\n",
              "      <td>1976</td>\n",
              "      <td>1976</td>\n",
              "      <td>Gable</td>\n",
              "      <td>CompShg</td>\n",
              "      <td>MetalSd</td>\n",
              "      <td>MetalSd</td>\n",
              "      <td>None</td>\n",
              "      <td>0.0</td>\n",
              "      <td>TA</td>\n",
              "      <td>TA</td>\n",
              "      <td>CBlock</td>\n",
              "      <td>Gd</td>\n",
              "      <td>TA</td>\n",
              "      <td>Gd</td>\n",
              "      <td>ALQ</td>\n",
              "      <td>978</td>\n",
              "      <td>Unf</td>\n",
              "      <td>0</td>\n",
              "      <td>284</td>\n",
              "      <td>1262</td>\n",
              "      <td>GasA</td>\n",
              "      <td>Ex</td>\n",
              "      <td>Y</td>\n",
              "      <td>SBrkr</td>\n",
              "      <td>1262</td>\n",
              "      <td>0</td>\n",
              "      <td>0</td>\n",
              "      <td>1262</td>\n",
              "      <td>0</td>\n",
              "      <td>1</td>\n",
              "      <td>2</td>\n",
              "      <td>0</td>\n",
              "      <td>3</td>\n",
              "      <td>1</td>\n",
              "      <td>TA</td>\n",
              "      <td>6</td>\n",
              "      <td>Typ</td>\n",
              "      <td>1</td>\n",
              "      <td>TA</td>\n",
              "      <td>Attchd</td>\n",
              "      <td>1976.0</td>\n",
              "      <td>RFn</td>\n",
              "      <td>2</td>\n",
              "      <td>460</td>\n",
              "      <td>TA</td>\n",
              "      <td>TA</td>\n",
              "      <td>Y</td>\n",
              "      <td>298</td>\n",
              "      <td>0</td>\n",
              "      <td>0</td>\n",
              "      <td>0</td>\n",
              "      <td>0</td>\n",
              "      <td>0</td>\n",
              "      <td>NaN</td>\n",
              "      <td>NaN</td>\n",
              "      <td>NaN</td>\n",
              "      <td>0</td>\n",
              "      <td>5</td>\n",
              "      <td>2007</td>\n",
              "      <td>WD</td>\n",
              "      <td>Normal</td>\n",
              "      <td>181500</td>\n",
              "    </tr>\n",
              "    <tr>\n",
              "      <th>2</th>\n",
              "      <td>3</td>\n",
              "      <td>60</td>\n",
              "      <td>RL</td>\n",
              "      <td>68.0</td>\n",
              "      <td>11250</td>\n",
              "      <td>Pave</td>\n",
              "      <td>NaN</td>\n",
              "      <td>IR1</td>\n",
              "      <td>Lvl</td>\n",
              "      <td>AllPub</td>\n",
              "      <td>Inside</td>\n",
              "      <td>Gtl</td>\n",
              "      <td>CollgCr</td>\n",
              "      <td>Norm</td>\n",
              "      <td>Norm</td>\n",
              "      <td>1Fam</td>\n",
              "      <td>2Story</td>\n",
              "      <td>7</td>\n",
              "      <td>5</td>\n",
              "      <td>2001</td>\n",
              "      <td>2002</td>\n",
              "      <td>Gable</td>\n",
              "      <td>CompShg</td>\n",
              "      <td>VinylSd</td>\n",
              "      <td>VinylSd</td>\n",
              "      <td>BrkFace</td>\n",
              "      <td>162.0</td>\n",
              "      <td>Gd</td>\n",
              "      <td>TA</td>\n",
              "      <td>PConc</td>\n",
              "      <td>Gd</td>\n",
              "      <td>TA</td>\n",
              "      <td>Mn</td>\n",
              "      <td>GLQ</td>\n",
              "      <td>486</td>\n",
              "      <td>Unf</td>\n",
              "      <td>0</td>\n",
              "      <td>434</td>\n",
              "      <td>920</td>\n",
              "      <td>GasA</td>\n",
              "      <td>Ex</td>\n",
              "      <td>Y</td>\n",
              "      <td>SBrkr</td>\n",
              "      <td>920</td>\n",
              "      <td>866</td>\n",
              "      <td>0</td>\n",
              "      <td>1786</td>\n",
              "      <td>1</td>\n",
              "      <td>0</td>\n",
              "      <td>2</td>\n",
              "      <td>1</td>\n",
              "      <td>3</td>\n",
              "      <td>1</td>\n",
              "      <td>Gd</td>\n",
              "      <td>6</td>\n",
              "      <td>Typ</td>\n",
              "      <td>1</td>\n",
              "      <td>TA</td>\n",
              "      <td>Attchd</td>\n",
              "      <td>2001.0</td>\n",
              "      <td>RFn</td>\n",
              "      <td>2</td>\n",
              "      <td>608</td>\n",
              "      <td>TA</td>\n",
              "      <td>TA</td>\n",
              "      <td>Y</td>\n",
              "      <td>0</td>\n",
              "      <td>42</td>\n",
              "      <td>0</td>\n",
              "      <td>0</td>\n",
              "      <td>0</td>\n",
              "      <td>0</td>\n",
              "      <td>NaN</td>\n",
              "      <td>NaN</td>\n",
              "      <td>NaN</td>\n",
              "      <td>0</td>\n",
              "      <td>9</td>\n",
              "      <td>2008</td>\n",
              "      <td>WD</td>\n",
              "      <td>Normal</td>\n",
              "      <td>223500</td>\n",
              "    </tr>\n",
              "    <tr>\n",
              "      <th>3</th>\n",
              "      <td>4</td>\n",
              "      <td>70</td>\n",
              "      <td>RL</td>\n",
              "      <td>60.0</td>\n",
              "      <td>9550</td>\n",
              "      <td>Pave</td>\n",
              "      <td>NaN</td>\n",
              "      <td>IR1</td>\n",
              "      <td>Lvl</td>\n",
              "      <td>AllPub</td>\n",
              "      <td>Corner</td>\n",
              "      <td>Gtl</td>\n",
              "      <td>Crawfor</td>\n",
              "      <td>Norm</td>\n",
              "      <td>Norm</td>\n",
              "      <td>1Fam</td>\n",
              "      <td>2Story</td>\n",
              "      <td>7</td>\n",
              "      <td>5</td>\n",
              "      <td>1915</td>\n",
              "      <td>1970</td>\n",
              "      <td>Gable</td>\n",
              "      <td>CompShg</td>\n",
              "      <td>Wd Sdng</td>\n",
              "      <td>Wd Shng</td>\n",
              "      <td>None</td>\n",
              "      <td>0.0</td>\n",
              "      <td>TA</td>\n",
              "      <td>TA</td>\n",
              "      <td>BrkTil</td>\n",
              "      <td>TA</td>\n",
              "      <td>Gd</td>\n",
              "      <td>No</td>\n",
              "      <td>ALQ</td>\n",
              "      <td>216</td>\n",
              "      <td>Unf</td>\n",
              "      <td>0</td>\n",
              "      <td>540</td>\n",
              "      <td>756</td>\n",
              "      <td>GasA</td>\n",
              "      <td>Gd</td>\n",
              "      <td>Y</td>\n",
              "      <td>SBrkr</td>\n",
              "      <td>961</td>\n",
              "      <td>756</td>\n",
              "      <td>0</td>\n",
              "      <td>1717</td>\n",
              "      <td>1</td>\n",
              "      <td>0</td>\n",
              "      <td>1</td>\n",
              "      <td>0</td>\n",
              "      <td>3</td>\n",
              "      <td>1</td>\n",
              "      <td>Gd</td>\n",
              "      <td>7</td>\n",
              "      <td>Typ</td>\n",
              "      <td>1</td>\n",
              "      <td>Gd</td>\n",
              "      <td>Detchd</td>\n",
              "      <td>1998.0</td>\n",
              "      <td>Unf</td>\n",
              "      <td>3</td>\n",
              "      <td>642</td>\n",
              "      <td>TA</td>\n",
              "      <td>TA</td>\n",
              "      <td>Y</td>\n",
              "      <td>0</td>\n",
              "      <td>35</td>\n",
              "      <td>272</td>\n",
              "      <td>0</td>\n",
              "      <td>0</td>\n",
              "      <td>0</td>\n",
              "      <td>NaN</td>\n",
              "      <td>NaN</td>\n",
              "      <td>NaN</td>\n",
              "      <td>0</td>\n",
              "      <td>2</td>\n",
              "      <td>2006</td>\n",
              "      <td>WD</td>\n",
              "      <td>Abnorml</td>\n",
              "      <td>140000</td>\n",
              "    </tr>\n",
              "    <tr>\n",
              "      <th>4</th>\n",
              "      <td>5</td>\n",
              "      <td>60</td>\n",
              "      <td>RL</td>\n",
              "      <td>84.0</td>\n",
              "      <td>14260</td>\n",
              "      <td>Pave</td>\n",
              "      <td>NaN</td>\n",
              "      <td>IR1</td>\n",
              "      <td>Lvl</td>\n",
              "      <td>AllPub</td>\n",
              "      <td>FR2</td>\n",
              "      <td>Gtl</td>\n",
              "      <td>NoRidge</td>\n",
              "      <td>Norm</td>\n",
              "      <td>Norm</td>\n",
              "      <td>1Fam</td>\n",
              "      <td>2Story</td>\n",
              "      <td>8</td>\n",
              "      <td>5</td>\n",
              "      <td>2000</td>\n",
              "      <td>2000</td>\n",
              "      <td>Gable</td>\n",
              "      <td>CompShg</td>\n",
              "      <td>VinylSd</td>\n",
              "      <td>VinylSd</td>\n",
              "      <td>BrkFace</td>\n",
              "      <td>350.0</td>\n",
              "      <td>Gd</td>\n",
              "      <td>TA</td>\n",
              "      <td>PConc</td>\n",
              "      <td>Gd</td>\n",
              "      <td>TA</td>\n",
              "      <td>Av</td>\n",
              "      <td>GLQ</td>\n",
              "      <td>655</td>\n",
              "      <td>Unf</td>\n",
              "      <td>0</td>\n",
              "      <td>490</td>\n",
              "      <td>1145</td>\n",
              "      <td>GasA</td>\n",
              "      <td>Ex</td>\n",
              "      <td>Y</td>\n",
              "      <td>SBrkr</td>\n",
              "      <td>1145</td>\n",
              "      <td>1053</td>\n",
              "      <td>0</td>\n",
              "      <td>2198</td>\n",
              "      <td>1</td>\n",
              "      <td>0</td>\n",
              "      <td>2</td>\n",
              "      <td>1</td>\n",
              "      <td>4</td>\n",
              "      <td>1</td>\n",
              "      <td>Gd</td>\n",
              "      <td>9</td>\n",
              "      <td>Typ</td>\n",
              "      <td>1</td>\n",
              "      <td>TA</td>\n",
              "      <td>Attchd</td>\n",
              "      <td>2000.0</td>\n",
              "      <td>RFn</td>\n",
              "      <td>3</td>\n",
              "      <td>836</td>\n",
              "      <td>TA</td>\n",
              "      <td>TA</td>\n",
              "      <td>Y</td>\n",
              "      <td>192</td>\n",
              "      <td>84</td>\n",
              "      <td>0</td>\n",
              "      <td>0</td>\n",
              "      <td>0</td>\n",
              "      <td>0</td>\n",
              "      <td>NaN</td>\n",
              "      <td>NaN</td>\n",
              "      <td>NaN</td>\n",
              "      <td>0</td>\n",
              "      <td>12</td>\n",
              "      <td>2008</td>\n",
              "      <td>WD</td>\n",
              "      <td>Normal</td>\n",
              "      <td>250000</td>\n",
              "    </tr>\n",
              "    <tr>\n",
              "      <th>...</th>\n",
              "      <td>...</td>\n",
              "      <td>...</td>\n",
              "      <td>...</td>\n",
              "      <td>...</td>\n",
              "      <td>...</td>\n",
              "      <td>...</td>\n",
              "      <td>...</td>\n",
              "      <td>...</td>\n",
              "      <td>...</td>\n",
              "      <td>...</td>\n",
              "      <td>...</td>\n",
              "      <td>...</td>\n",
              "      <td>...</td>\n",
              "      <td>...</td>\n",
              "      <td>...</td>\n",
              "      <td>...</td>\n",
              "      <td>...</td>\n",
              "      <td>...</td>\n",
              "      <td>...</td>\n",
              "      <td>...</td>\n",
              "      <td>...</td>\n",
              "      <td>...</td>\n",
              "      <td>...</td>\n",
              "      <td>...</td>\n",
              "      <td>...</td>\n",
              "      <td>...</td>\n",
              "      <td>...</td>\n",
              "      <td>...</td>\n",
              "      <td>...</td>\n",
              "      <td>...</td>\n",
              "      <td>...</td>\n",
              "      <td>...</td>\n",
              "      <td>...</td>\n",
              "      <td>...</td>\n",
              "      <td>...</td>\n",
              "      <td>...</td>\n",
              "      <td>...</td>\n",
              "      <td>...</td>\n",
              "      <td>...</td>\n",
              "      <td>...</td>\n",
              "      <td>...</td>\n",
              "      <td>...</td>\n",
              "      <td>...</td>\n",
              "      <td>...</td>\n",
              "      <td>...</td>\n",
              "      <td>...</td>\n",
              "      <td>...</td>\n",
              "      <td>...</td>\n",
              "      <td>...</td>\n",
              "      <td>...</td>\n",
              "      <td>...</td>\n",
              "      <td>...</td>\n",
              "      <td>...</td>\n",
              "      <td>...</td>\n",
              "      <td>...</td>\n",
              "      <td>...</td>\n",
              "      <td>...</td>\n",
              "      <td>...</td>\n",
              "      <td>...</td>\n",
              "      <td>...</td>\n",
              "      <td>...</td>\n",
              "      <td>...</td>\n",
              "      <td>...</td>\n",
              "      <td>...</td>\n",
              "      <td>...</td>\n",
              "      <td>...</td>\n",
              "      <td>...</td>\n",
              "      <td>...</td>\n",
              "      <td>...</td>\n",
              "      <td>...</td>\n",
              "      <td>...</td>\n",
              "      <td>...</td>\n",
              "      <td>...</td>\n",
              "      <td>...</td>\n",
              "      <td>...</td>\n",
              "      <td>...</td>\n",
              "      <td>...</td>\n",
              "      <td>...</td>\n",
              "      <td>...</td>\n",
              "      <td>...</td>\n",
              "      <td>...</td>\n",
              "    </tr>\n",
              "    <tr>\n",
              "      <th>1455</th>\n",
              "      <td>1456</td>\n",
              "      <td>60</td>\n",
              "      <td>RL</td>\n",
              "      <td>62.0</td>\n",
              "      <td>7917</td>\n",
              "      <td>Pave</td>\n",
              "      <td>NaN</td>\n",
              "      <td>Reg</td>\n",
              "      <td>Lvl</td>\n",
              "      <td>AllPub</td>\n",
              "      <td>Inside</td>\n",
              "      <td>Gtl</td>\n",
              "      <td>Gilbert</td>\n",
              "      <td>Norm</td>\n",
              "      <td>Norm</td>\n",
              "      <td>1Fam</td>\n",
              "      <td>2Story</td>\n",
              "      <td>6</td>\n",
              "      <td>5</td>\n",
              "      <td>1999</td>\n",
              "      <td>2000</td>\n",
              "      <td>Gable</td>\n",
              "      <td>CompShg</td>\n",
              "      <td>VinylSd</td>\n",
              "      <td>VinylSd</td>\n",
              "      <td>None</td>\n",
              "      <td>0.0</td>\n",
              "      <td>TA</td>\n",
              "      <td>TA</td>\n",
              "      <td>PConc</td>\n",
              "      <td>Gd</td>\n",
              "      <td>TA</td>\n",
              "      <td>No</td>\n",
              "      <td>Unf</td>\n",
              "      <td>0</td>\n",
              "      <td>Unf</td>\n",
              "      <td>0</td>\n",
              "      <td>953</td>\n",
              "      <td>953</td>\n",
              "      <td>GasA</td>\n",
              "      <td>Ex</td>\n",
              "      <td>Y</td>\n",
              "      <td>SBrkr</td>\n",
              "      <td>953</td>\n",
              "      <td>694</td>\n",
              "      <td>0</td>\n",
              "      <td>1647</td>\n",
              "      <td>0</td>\n",
              "      <td>0</td>\n",
              "      <td>2</td>\n",
              "      <td>1</td>\n",
              "      <td>3</td>\n",
              "      <td>1</td>\n",
              "      <td>TA</td>\n",
              "      <td>7</td>\n",
              "      <td>Typ</td>\n",
              "      <td>1</td>\n",
              "      <td>TA</td>\n",
              "      <td>Attchd</td>\n",
              "      <td>1999.0</td>\n",
              "      <td>RFn</td>\n",
              "      <td>2</td>\n",
              "      <td>460</td>\n",
              "      <td>TA</td>\n",
              "      <td>TA</td>\n",
              "      <td>Y</td>\n",
              "      <td>0</td>\n",
              "      <td>40</td>\n",
              "      <td>0</td>\n",
              "      <td>0</td>\n",
              "      <td>0</td>\n",
              "      <td>0</td>\n",
              "      <td>NaN</td>\n",
              "      <td>NaN</td>\n",
              "      <td>NaN</td>\n",
              "      <td>0</td>\n",
              "      <td>8</td>\n",
              "      <td>2007</td>\n",
              "      <td>WD</td>\n",
              "      <td>Normal</td>\n",
              "      <td>175000</td>\n",
              "    </tr>\n",
              "    <tr>\n",
              "      <th>1456</th>\n",
              "      <td>1457</td>\n",
              "      <td>20</td>\n",
              "      <td>RL</td>\n",
              "      <td>85.0</td>\n",
              "      <td>13175</td>\n",
              "      <td>Pave</td>\n",
              "      <td>NaN</td>\n",
              "      <td>Reg</td>\n",
              "      <td>Lvl</td>\n",
              "      <td>AllPub</td>\n",
              "      <td>Inside</td>\n",
              "      <td>Gtl</td>\n",
              "      <td>NWAmes</td>\n",
              "      <td>Norm</td>\n",
              "      <td>Norm</td>\n",
              "      <td>1Fam</td>\n",
              "      <td>1Story</td>\n",
              "      <td>6</td>\n",
              "      <td>6</td>\n",
              "      <td>1978</td>\n",
              "      <td>1988</td>\n",
              "      <td>Gable</td>\n",
              "      <td>CompShg</td>\n",
              "      <td>Plywood</td>\n",
              "      <td>Plywood</td>\n",
              "      <td>Stone</td>\n",
              "      <td>119.0</td>\n",
              "      <td>TA</td>\n",
              "      <td>TA</td>\n",
              "      <td>CBlock</td>\n",
              "      <td>Gd</td>\n",
              "      <td>TA</td>\n",
              "      <td>No</td>\n",
              "      <td>ALQ</td>\n",
              "      <td>790</td>\n",
              "      <td>Rec</td>\n",
              "      <td>163</td>\n",
              "      <td>589</td>\n",
              "      <td>1542</td>\n",
              "      <td>GasA</td>\n",
              "      <td>TA</td>\n",
              "      <td>Y</td>\n",
              "      <td>SBrkr</td>\n",
              "      <td>2073</td>\n",
              "      <td>0</td>\n",
              "      <td>0</td>\n",
              "      <td>2073</td>\n",
              "      <td>1</td>\n",
              "      <td>0</td>\n",
              "      <td>2</td>\n",
              "      <td>0</td>\n",
              "      <td>3</td>\n",
              "      <td>1</td>\n",
              "      <td>TA</td>\n",
              "      <td>7</td>\n",
              "      <td>Min1</td>\n",
              "      <td>2</td>\n",
              "      <td>TA</td>\n",
              "      <td>Attchd</td>\n",
              "      <td>1978.0</td>\n",
              "      <td>Unf</td>\n",
              "      <td>2</td>\n",
              "      <td>500</td>\n",
              "      <td>TA</td>\n",
              "      <td>TA</td>\n",
              "      <td>Y</td>\n",
              "      <td>349</td>\n",
              "      <td>0</td>\n",
              "      <td>0</td>\n",
              "      <td>0</td>\n",
              "      <td>0</td>\n",
              "      <td>0</td>\n",
              "      <td>NaN</td>\n",
              "      <td>MnPrv</td>\n",
              "      <td>NaN</td>\n",
              "      <td>0</td>\n",
              "      <td>2</td>\n",
              "      <td>2010</td>\n",
              "      <td>WD</td>\n",
              "      <td>Normal</td>\n",
              "      <td>210000</td>\n",
              "    </tr>\n",
              "    <tr>\n",
              "      <th>1457</th>\n",
              "      <td>1458</td>\n",
              "      <td>70</td>\n",
              "      <td>RL</td>\n",
              "      <td>66.0</td>\n",
              "      <td>9042</td>\n",
              "      <td>Pave</td>\n",
              "      <td>NaN</td>\n",
              "      <td>Reg</td>\n",
              "      <td>Lvl</td>\n",
              "      <td>AllPub</td>\n",
              "      <td>Inside</td>\n",
              "      <td>Gtl</td>\n",
              "      <td>Crawfor</td>\n",
              "      <td>Norm</td>\n",
              "      <td>Norm</td>\n",
              "      <td>1Fam</td>\n",
              "      <td>2Story</td>\n",
              "      <td>7</td>\n",
              "      <td>9</td>\n",
              "      <td>1941</td>\n",
              "      <td>2006</td>\n",
              "      <td>Gable</td>\n",
              "      <td>CompShg</td>\n",
              "      <td>CemntBd</td>\n",
              "      <td>CmentBd</td>\n",
              "      <td>None</td>\n",
              "      <td>0.0</td>\n",
              "      <td>Ex</td>\n",
              "      <td>Gd</td>\n",
              "      <td>Stone</td>\n",
              "      <td>TA</td>\n",
              "      <td>Gd</td>\n",
              "      <td>No</td>\n",
              "      <td>GLQ</td>\n",
              "      <td>275</td>\n",
              "      <td>Unf</td>\n",
              "      <td>0</td>\n",
              "      <td>877</td>\n",
              "      <td>1152</td>\n",
              "      <td>GasA</td>\n",
              "      <td>Ex</td>\n",
              "      <td>Y</td>\n",
              "      <td>SBrkr</td>\n",
              "      <td>1188</td>\n",
              "      <td>1152</td>\n",
              "      <td>0</td>\n",
              "      <td>2340</td>\n",
              "      <td>0</td>\n",
              "      <td>0</td>\n",
              "      <td>2</td>\n",
              "      <td>0</td>\n",
              "      <td>4</td>\n",
              "      <td>1</td>\n",
              "      <td>Gd</td>\n",
              "      <td>9</td>\n",
              "      <td>Typ</td>\n",
              "      <td>2</td>\n",
              "      <td>Gd</td>\n",
              "      <td>Attchd</td>\n",
              "      <td>1941.0</td>\n",
              "      <td>RFn</td>\n",
              "      <td>1</td>\n",
              "      <td>252</td>\n",
              "      <td>TA</td>\n",
              "      <td>TA</td>\n",
              "      <td>Y</td>\n",
              "      <td>0</td>\n",
              "      <td>60</td>\n",
              "      <td>0</td>\n",
              "      <td>0</td>\n",
              "      <td>0</td>\n",
              "      <td>0</td>\n",
              "      <td>NaN</td>\n",
              "      <td>GdPrv</td>\n",
              "      <td>Shed</td>\n",
              "      <td>2500</td>\n",
              "      <td>5</td>\n",
              "      <td>2010</td>\n",
              "      <td>WD</td>\n",
              "      <td>Normal</td>\n",
              "      <td>266500</td>\n",
              "    </tr>\n",
              "    <tr>\n",
              "      <th>1458</th>\n",
              "      <td>1459</td>\n",
              "      <td>20</td>\n",
              "      <td>RL</td>\n",
              "      <td>68.0</td>\n",
              "      <td>9717</td>\n",
              "      <td>Pave</td>\n",
              "      <td>NaN</td>\n",
              "      <td>Reg</td>\n",
              "      <td>Lvl</td>\n",
              "      <td>AllPub</td>\n",
              "      <td>Inside</td>\n",
              "      <td>Gtl</td>\n",
              "      <td>NAmes</td>\n",
              "      <td>Norm</td>\n",
              "      <td>Norm</td>\n",
              "      <td>1Fam</td>\n",
              "      <td>1Story</td>\n",
              "      <td>5</td>\n",
              "      <td>6</td>\n",
              "      <td>1950</td>\n",
              "      <td>1996</td>\n",
              "      <td>Hip</td>\n",
              "      <td>CompShg</td>\n",
              "      <td>MetalSd</td>\n",
              "      <td>MetalSd</td>\n",
              "      <td>None</td>\n",
              "      <td>0.0</td>\n",
              "      <td>TA</td>\n",
              "      <td>TA</td>\n",
              "      <td>CBlock</td>\n",
              "      <td>TA</td>\n",
              "      <td>TA</td>\n",
              "      <td>Mn</td>\n",
              "      <td>GLQ</td>\n",
              "      <td>49</td>\n",
              "      <td>Rec</td>\n",
              "      <td>1029</td>\n",
              "      <td>0</td>\n",
              "      <td>1078</td>\n",
              "      <td>GasA</td>\n",
              "      <td>Gd</td>\n",
              "      <td>Y</td>\n",
              "      <td>FuseA</td>\n",
              "      <td>1078</td>\n",
              "      <td>0</td>\n",
              "      <td>0</td>\n",
              "      <td>1078</td>\n",
              "      <td>1</td>\n",
              "      <td>0</td>\n",
              "      <td>1</td>\n",
              "      <td>0</td>\n",
              "      <td>2</td>\n",
              "      <td>1</td>\n",
              "      <td>Gd</td>\n",
              "      <td>5</td>\n",
              "      <td>Typ</td>\n",
              "      <td>0</td>\n",
              "      <td>NaN</td>\n",
              "      <td>Attchd</td>\n",
              "      <td>1950.0</td>\n",
              "      <td>Unf</td>\n",
              "      <td>1</td>\n",
              "      <td>240</td>\n",
              "      <td>TA</td>\n",
              "      <td>TA</td>\n",
              "      <td>Y</td>\n",
              "      <td>366</td>\n",
              "      <td>0</td>\n",
              "      <td>112</td>\n",
              "      <td>0</td>\n",
              "      <td>0</td>\n",
              "      <td>0</td>\n",
              "      <td>NaN</td>\n",
              "      <td>NaN</td>\n",
              "      <td>NaN</td>\n",
              "      <td>0</td>\n",
              "      <td>4</td>\n",
              "      <td>2010</td>\n",
              "      <td>WD</td>\n",
              "      <td>Normal</td>\n",
              "      <td>142125</td>\n",
              "    </tr>\n",
              "    <tr>\n",
              "      <th>1459</th>\n",
              "      <td>1460</td>\n",
              "      <td>20</td>\n",
              "      <td>RL</td>\n",
              "      <td>75.0</td>\n",
              "      <td>9937</td>\n",
              "      <td>Pave</td>\n",
              "      <td>NaN</td>\n",
              "      <td>Reg</td>\n",
              "      <td>Lvl</td>\n",
              "      <td>AllPub</td>\n",
              "      <td>Inside</td>\n",
              "      <td>Gtl</td>\n",
              "      <td>Edwards</td>\n",
              "      <td>Norm</td>\n",
              "      <td>Norm</td>\n",
              "      <td>1Fam</td>\n",
              "      <td>1Story</td>\n",
              "      <td>5</td>\n",
              "      <td>6</td>\n",
              "      <td>1965</td>\n",
              "      <td>1965</td>\n",
              "      <td>Gable</td>\n",
              "      <td>CompShg</td>\n",
              "      <td>HdBoard</td>\n",
              "      <td>HdBoard</td>\n",
              "      <td>None</td>\n",
              "      <td>0.0</td>\n",
              "      <td>Gd</td>\n",
              "      <td>TA</td>\n",
              "      <td>CBlock</td>\n",
              "      <td>TA</td>\n",
              "      <td>TA</td>\n",
              "      <td>No</td>\n",
              "      <td>BLQ</td>\n",
              "      <td>830</td>\n",
              "      <td>LwQ</td>\n",
              "      <td>290</td>\n",
              "      <td>136</td>\n",
              "      <td>1256</td>\n",
              "      <td>GasA</td>\n",
              "      <td>Gd</td>\n",
              "      <td>Y</td>\n",
              "      <td>SBrkr</td>\n",
              "      <td>1256</td>\n",
              "      <td>0</td>\n",
              "      <td>0</td>\n",
              "      <td>1256</td>\n",
              "      <td>1</td>\n",
              "      <td>0</td>\n",
              "      <td>1</td>\n",
              "      <td>1</td>\n",
              "      <td>3</td>\n",
              "      <td>1</td>\n",
              "      <td>TA</td>\n",
              "      <td>6</td>\n",
              "      <td>Typ</td>\n",
              "      <td>0</td>\n",
              "      <td>NaN</td>\n",
              "      <td>Attchd</td>\n",
              "      <td>1965.0</td>\n",
              "      <td>Fin</td>\n",
              "      <td>1</td>\n",
              "      <td>276</td>\n",
              "      <td>TA</td>\n",
              "      <td>TA</td>\n",
              "      <td>Y</td>\n",
              "      <td>736</td>\n",
              "      <td>68</td>\n",
              "      <td>0</td>\n",
              "      <td>0</td>\n",
              "      <td>0</td>\n",
              "      <td>0</td>\n",
              "      <td>NaN</td>\n",
              "      <td>NaN</td>\n",
              "      <td>NaN</td>\n",
              "      <td>0</td>\n",
              "      <td>6</td>\n",
              "      <td>2008</td>\n",
              "      <td>WD</td>\n",
              "      <td>Normal</td>\n",
              "      <td>147500</td>\n",
              "    </tr>\n",
              "  </tbody>\n",
              "</table>\n",
              "<p>1460 rows × 81 columns</p>\n",
              "</div>\n",
              "      <button class=\"colab-df-convert\" onclick=\"convertToInteractive('df-e1e0a8f0-b2a6-4ec0-aa8d-1143a7b6e0bd')\"\n",
              "              title=\"Convert this dataframe to an interactive table.\"\n",
              "              style=\"display:none;\">\n",
              "        \n",
              "  <svg xmlns=\"http://www.w3.org/2000/svg\" height=\"24px\"viewBox=\"0 0 24 24\"\n",
              "       width=\"24px\">\n",
              "    <path d=\"M0 0h24v24H0V0z\" fill=\"none\"/>\n",
              "    <path d=\"M18.56 5.44l.94 2.06.94-2.06 2.06-.94-2.06-.94-.94-2.06-.94 2.06-2.06.94zm-11 1L8.5 8.5l.94-2.06 2.06-.94-2.06-.94L8.5 2.5l-.94 2.06-2.06.94zm10 10l.94 2.06.94-2.06 2.06-.94-2.06-.94-.94-2.06-.94 2.06-2.06.94z\"/><path d=\"M17.41 7.96l-1.37-1.37c-.4-.4-.92-.59-1.43-.59-.52 0-1.04.2-1.43.59L10.3 9.45l-7.72 7.72c-.78.78-.78 2.05 0 2.83L4 21.41c.39.39.9.59 1.41.59.51 0 1.02-.2 1.41-.59l7.78-7.78 2.81-2.81c.8-.78.8-2.07 0-2.86zM5.41 20L4 18.59l7.72-7.72 1.47 1.35L5.41 20z\"/>\n",
              "  </svg>\n",
              "      </button>\n",
              "      \n",
              "  <style>\n",
              "    .colab-df-container {\n",
              "      display:flex;\n",
              "      flex-wrap:wrap;\n",
              "      gap: 12px;\n",
              "    }\n",
              "\n",
              "    .colab-df-convert {\n",
              "      background-color: #E8F0FE;\n",
              "      border: none;\n",
              "      border-radius: 50%;\n",
              "      cursor: pointer;\n",
              "      display: none;\n",
              "      fill: #1967D2;\n",
              "      height: 32px;\n",
              "      padding: 0 0 0 0;\n",
              "      width: 32px;\n",
              "    }\n",
              "\n",
              "    .colab-df-convert:hover {\n",
              "      background-color: #E2EBFA;\n",
              "      box-shadow: 0px 1px 2px rgba(60, 64, 67, 0.3), 0px 1px 3px 1px rgba(60, 64, 67, 0.15);\n",
              "      fill: #174EA6;\n",
              "    }\n",
              "\n",
              "    [theme=dark] .colab-df-convert {\n",
              "      background-color: #3B4455;\n",
              "      fill: #D2E3FC;\n",
              "    }\n",
              "\n",
              "    [theme=dark] .colab-df-convert:hover {\n",
              "      background-color: #434B5C;\n",
              "      box-shadow: 0px 1px 3px 1px rgba(0, 0, 0, 0.15);\n",
              "      filter: drop-shadow(0px 1px 2px rgba(0, 0, 0, 0.3));\n",
              "      fill: #FFFFFF;\n",
              "    }\n",
              "  </style>\n",
              "\n",
              "      <script>\n",
              "        const buttonEl =\n",
              "          document.querySelector('#df-e1e0a8f0-b2a6-4ec0-aa8d-1143a7b6e0bd button.colab-df-convert');\n",
              "        buttonEl.style.display =\n",
              "          google.colab.kernel.accessAllowed ? 'block' : 'none';\n",
              "\n",
              "        async function convertToInteractive(key) {\n",
              "          const element = document.querySelector('#df-e1e0a8f0-b2a6-4ec0-aa8d-1143a7b6e0bd');\n",
              "          const dataTable =\n",
              "            await google.colab.kernel.invokeFunction('convertToInteractive',\n",
              "                                                     [key], {});\n",
              "          if (!dataTable) return;\n",
              "\n",
              "          const docLinkHtml = 'Like what you see? Visit the ' +\n",
              "            '<a target=\"_blank\" href=https://colab.research.google.com/notebooks/data_table.ipynb>data table notebook</a>'\n",
              "            + ' to learn more about interactive tables.';\n",
              "          element.innerHTML = '';\n",
              "          dataTable['output_type'] = 'display_data';\n",
              "          await google.colab.output.renderOutput(dataTable, element);\n",
              "          const docLink = document.createElement('div');\n",
              "          docLink.innerHTML = docLinkHtml;\n",
              "          element.appendChild(docLink);\n",
              "        }\n",
              "      </script>\n",
              "    </div>\n",
              "  </div>\n",
              "  "
            ]
          },
          "metadata": {},
          "execution_count": 57
        }
      ]
    },
    {
      "cell_type": "markdown",
      "source": [
        "예측을 진행할 타겟 정하기."
      ],
      "metadata": {
        "id": "TuOpJYIoT3XO"
      }
    },
    {
      "cell_type": "code",
      "source": [
        "target = df['SalePrice']"
      ],
      "metadata": {
        "id": "79jpGuZaT7vi"
      },
      "execution_count": 43,
      "outputs": []
    },
    {
      "cell_type": "markdown",
      "source": [
        "#### 선형 회귀 모델\n",
        "* 특성과 타겟간의 선형관계를 가정한다.\n",
        "* 특성변수들과 타겟변수의 분포가 정규분포 형태일 때 좋은 성능을 보인다."
      ],
      "metadata": {
        "id": "bbjbWGnVUKOL"
      }
    },
    {
      "cell_type": "code",
      "source": [
        "sns.displot(target)"
      ],
      "metadata": {
        "id": "bgU_NJLgXfE9",
        "outputId": "0c15c7eb-058d-499c-a56b-c66c5fcb861a",
        "colab": {
          "base_uri": "https://localhost:8080/",
          "height": 387
        }
      },
      "execution_count": 44,
      "outputs": [
        {
          "output_type": "execute_result",
          "data": {
            "text/plain": [
              "<seaborn.axisgrid.FacetGrid at 0x7fdf4724af40>"
            ]
          },
          "metadata": {},
          "execution_count": 44
        },
        {
          "output_type": "display_data",
          "data": {
            "text/plain": [
              "<Figure size 360x360 with 1 Axes>"
            ],
            "image/png": "[encoded data removed]"
          },
          "metadata": {
            "needs_background": "light"
          }
        }
      ]
    },
    {
      "cell_type": "markdown",
      "source": [
        "#### 현재 타겟의 분포는 right(positively) skewed 되어 있다.\n",
        "* 이상치가 존재한다면 이상치를 제거합니다. "
      ],
      "metadata": {
        "id": "scCYFaZKXhED"
      }
    },
    {
      "cell_type": "code",
      "source": [
        "# 몇몇 특정 가격의 값들은 너무 높아 문제가 될 수 있습니다. \n",
        "\n",
        "# 필요한 라이브러리 생성.\n",
        "import numpy as np\n",
        "\n",
        "# 타겟 이상치 제거. (outlier)\n",
        "df['SalePrice'] = df[df['SalePrice'] < np.percentile(df['SalePrice'], 99.5)]['SalePrice']\n",
        "\n",
        "## 몇몇 변수를 합치고, 이상치를 제거한다.\n",
        "df['All_Flr_SF'] = df['1stFlrSF'] + df['2ndFlrSF']\n",
        "df['All_Liv_SF'] = df['All_Flr_SF'] + df['LowQualFinSF'] + df['GrLivArea']\n",
        "df = df.drop(['1stFlrSF','2ndFlrSF','LowQualFinSF','GrLivArea'], axis=1)\n",
        "\n",
        "\n",
        "df['All_Flr_SF'] = df[df['All_Flr_SF'] < np.percentile(df['All_Flr_SF'], 99.5)]['All_Flr_SF']\n",
        "df['All_Liv_SF'] = df[df['All_Liv_SF'] < np.percentile(df['All_Liv_SF'], 99.5)]['All_Liv_SF']"
      ],
      "metadata": {
        "id": "YU7gSdLRXpzu"
      },
      "execution_count": 45,
      "outputs": []
    },
    {
      "cell_type": "code",
      "source": [
        "df['SalePrice']"
      ],
      "metadata": {
        "id": "ls5mY5TTau9i",
        "outputId": "e6f78491-d4c5-4080-b5ad-a210343fadc9",
        "colab": {
          "base_uri": "https://localhost:8080/"
        }
      },
      "execution_count": 46,
      "outputs": [
        {
          "output_type": "execute_result",
          "data": {
            "text/plain": [
              "0       208500.0\n",
              "1       181500.0\n",
              "2       223500.0\n",
              "3       140000.0\n",
              "4       250000.0\n",
              "          ...   \n",
              "1455    175000.0\n",
              "1456    210000.0\n",
              "1457    266500.0\n",
              "1458    142125.0\n",
              "1459    147500.0\n",
              "Name: SalePrice, Length: 1460, dtype: float64"
            ]
          },
          "metadata": {},
          "execution_count": 46
        }
      ]
    },
    {
      "cell_type": "markdown",
      "source": [
        "이상치 제거 이후 치우침이 어느정도 개선되었으나, 여전히 right-skewed 상태이다."
      ],
      "metadata": {
        "id": "xhVlPTGea7OB"
      }
    },
    {
      "cell_type": "code",
      "source": [
        "target = df['SalePrice']\n",
        "sns.displot(target)"
      ],
      "metadata": {
        "id": "syyZCMBzaxdc",
        "outputId": "ffbc80db-1867-458b-c85f-9ddbabb6445e",
        "colab": {
          "base_uri": "https://localhost:8080/",
          "height": 387
        }
      },
      "execution_count": 47,
      "outputs": [
        {
          "output_type": "execute_result",
          "data": {
            "text/plain": [
              "<seaborn.axisgrid.FacetGrid at 0x7fdf472113a0>"
            ]
          },
          "metadata": {},
          "execution_count": 47
        },
        {
          "output_type": "display_data",
          "data": {
            "text/plain": [
              "<Figure size 360x360 with 1 Axes>"
            ],
            "image/png": "[encoded data removed]"
          },
          "metadata": {
            "needs_background": "light"
          }
        }
      ]
    },
    {
      "cell_type": "markdown",
      "source": [
        "# `로그변환`\n",
        "* 타겟이 right-skewed 상태일 때  로그변환 사용하기.\n",
        "  * 비대칭 분포 형태를 정규분포 형태로 변환시킨다.\n",
        "   * `log1p : in(1+x)`\n",
        "   * `expm1 : exp(X) - 1 : (the inverse of log1p)`"
      ],
      "metadata": {
        "id": "KdoIcSTza4ls"
      }
    },
    {
      "cell_type": "code",
      "source": [
        "plots = pd.DataFrame()\n",
        "\n",
        "# 피처 생성 : 오리지널\n",
        "plots['original'] = target\n",
        "\n",
        "# \n",
        "plots['transformed'] = np.log1p(target)\n",
        "plots['backToOrigninal'] = np.expm1(np.log1p(target))\n",
        "\n",
        "\n",
        "# 시각화. \n",
        "# 1행 3렬로 시각화를 생성합니다. => original, transformed, backToOrigninal\n",
        "fig, ax = plt.subplots(1,3, figsize = (15,5))\n",
        "\n",
        "# 1.\n",
        "sns.histplot(plots['original'], ax = ax[0])\n",
        "\n",
        "# 2. \n",
        "sns.histplot(plots['transformed'], ax=ax[1]);\n",
        "\n",
        "# 3.\n",
        "sns.histplot(plots['backToOrigninal'], ax=ax[2]);\n"
      ],
      "metadata": {
        "id": "KWzAHWtThjMV",
        "outputId": "5478d78c-e953-4fd5-c948-24a46cff2f74",
        "colab": {
          "base_uri": "https://localhost:8080/",
          "height": 334
        }
      },
      "execution_count": 50,
      "outputs": [
        {
          "output_type": "display_data",
          "data": {
            "text/plain": [
              "<Figure size 1080x360 with 3 Axes>"
            ],
            "image/png": "[encoded data removed]"
          },
          "metadata": {
            "needs_background": "light"
          }
        }
      ]
    },
    {
      "cell_type": "markdown",
      "source": [
        "타겟 값에 직접 원하는 함수를 입력하여 변화를 시킬수 있습니다.<br/> \n",
        "다른 방법으로는 `transformed TargetRegressor`를 파이프라인 안에 사용하여, 타겟 분포를 간단하게 변환시켜 학습할 수 있습니다."
      ],
      "metadata": {
        "id": "n9Sxg1dyDXSH"
      }
    },
    {
      "cell_type": "code",
      "source": [
        "target = 'SalePrice'\n",
        "from sklearn.model_selection import train_test_split\n",
        "\n",
        "# 타겟부분에서 누락되지 않은 값만을 찾아냅니다. : notna()\n",
        "df = df[df[target].notna()]\n",
        "\n",
        "\n",
        "# 데이터 분할\n",
        "train, val = train_test_split(df, test_size = 260, random_state=2)\n",
        "\n",
        "# 피처 정의\n",
        "features = train.drop(columns =[target]).columns\n",
        "\n",
        "# 훈련데이터\n",
        "X_train = train[features]\n",
        "y_train = train[target]\n",
        "\n",
        "# 검증 데이터\n",
        "X_val = val[features]\n",
        "y_val = val[target]\n"
      ],
      "metadata": {
        "id": "Z4AY4uiWDYCm"
      },
      "execution_count": 58,
      "outputs": []
    },
    {
      "cell_type": "markdown",
      "source": [
        "#### 다음의 코드는 `TransformedTargetRegressor`를 사용하지 않고, \n",
        "그냥  파이프라인을 생성한 경우 입니다."
      ],
      "metadata": {
        "id": "m1iXh4se0JAy"
      }
    },
    {
      "cell_type": "code",
      "source": [
        "from category_encoders import OrdinalEncoder\n",
        "from sklearn.impute import SimpleImputer\n",
        "from sklearn.ensemble import RandomForestRegressor\n",
        "\n",
        "#파이프 라인 생성\n",
        "pipe = make_pipeline(\n",
        "    OrdinalEncoder(),\n",
        "    SimpleImputer(),\n",
        "    RandomForestRegressor(random_state =2)\n",
        ")\n",
        "\n",
        "pipe.fit(X_train, y_train)\n",
        "pipe.score(X_val, y_val)"
      ],
      "metadata": {
        "id": "w153wQRhEe3j",
        "outputId": "7e5025fa-1788-4e77-a447-8f3e3aa59ff8",
        "colab": {
          "base_uri": "https://localhost:8080/"
        }
      },
      "execution_count": 59,
      "outputs": [
        {
          "output_type": "execute_result",
          "data": {
            "text/plain": [
              "0.8840490006527463"
            ]
          },
          "metadata": {},
          "execution_count": 59
        }
      ]
    },
    {
      "cell_type": "markdown",
      "source": [
        "#### 다음의 코드는 생성된 파이프라인에 `TransformedTargetRegressor`를 사용한 경우입니다."
      ],
      "metadata": {
        "id": "sGLALC7S0GKn"
      }
    },
    {
      "cell_type": "code",
      "source": [
        "from category_encoders import OrdinalEncoder\n",
        "from sklearn.impute import SimpleImputer\n",
        "from sklearn.ensemble import RandomForestRegressor\n",
        "from sklearn.compose import TransformedTargetRegressor\n",
        "\n",
        "# 파이프라인을 생성하는 것은 위와 동일합니다.\n",
        "pipe = make_pipeline(\n",
        "    OrdinalEncoder(),\n",
        "    SimpleImputer(),\n",
        "    RandomForestRegressor(random_state=2)\n",
        ")\n",
        "\n",
        "# 이후 TransformedTargetRegressor를 사용합니다. \n",
        "# 파이프라인을 적용시켜야 합니다. -> func에 로그변환\n",
        "tt = TransformedTargetRegressor(regressor = pipe,\n",
        "                                func = np.log1p, \n",
        "                                inverse_func = np.expm1)\n",
        "\n",
        "tt.fit(X_train, y_train)\n",
        "tt.score(X_val, y_val)"
      ],
      "metadata": {
        "id": "NADMeehczuWt",
        "outputId": "ae520042-d6e3-432d-88bc-386e7bd7d8c1",
        "colab": {
          "base_uri": "https://localhost:8080/"
        }
      },
      "execution_count": 60,
      "outputs": [
        {
          "output_type": "execute_result",
          "data": {
            "text/plain": [
              "0.883342892631486"
            ]
          },
          "metadata": {},
          "execution_count": 60
        }
      ]
    },
    {
      "cell_type": "code",
      "source": [],
      "metadata": {
        "id": "AryyMJF63FXL"
      },
      "execution_count": null,
      "outputs": []
    }
  ]
}