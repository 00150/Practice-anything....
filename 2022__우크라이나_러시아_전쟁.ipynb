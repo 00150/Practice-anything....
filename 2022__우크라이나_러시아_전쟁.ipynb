{
  "nbformat": 4,
  "nbformat_minor": 0,
  "metadata": {
    "colab": {
      "name": "2022_ 우크라이나_러시아_전쟁",
      "provenance": [],
      "mount_file_id": "1_7TZwYr-WMW6xpnwKyD4rGparG0ZDKb4",
      "authorship_tag": "ABX9TyOAqeNoTh7U2cmNd+iqkpwg",
      "include_colab_link": true
    },
    "kernelspec": {
      "name": "python3",
      "display_name": "Python 3"
    },
    "language_info": {
      "name": "python"
    }
  },
  "cells": [
    {
      "cell_type": "markdown",
      "metadata": {
        "id": "view-in-github",
        "colab_type": "text"
      },
      "source": [
        "<a href=\"https://colab.research.google.com/github/00150/Practice-anything..../blob/main/2022__%EC%9A%B0%ED%81%AC%EB%9D%BC%EC%9D%B4%EB%82%98_%EB%9F%AC%EC%8B%9C%EC%95%84_%EC%A0%84%EC%9F%81.ipynb\" target=\"_parent\"><img src=\"https://colab.research.google.com/assets/colab-badge.svg\" alt=\"Open In Colab\"/></a>"
      ]
    },
    {
      "cell_type": "markdown",
      "source": [
        "---\n",
        "## Project2. 우크라이나 러시아 전쟁 🏹\n",
        "\n",
        ">22.02.24 개전된 전쟁은 현재까지 계속 진행중에 있습니다.<br/>\n",
        "주어진 데이터를 이용하여 손실 및 앞으로의 방향을 예측해보도록 합니다.<br/>\n",
        "\n",
        "* ✔참고 : 컬럼 별 주요 데이터 출처는 **우크라이나 군대**와 **국방부** 입니다."
      ],
      "metadata": {
        "id": "vBCKYbDVbNkP"
      }
    },
    {
      "cell_type": "markdown",
      "source": [
        "#### ❗주의.\n",
        "* **장비 및 인력 손실의 수**는 **러시아에만 해당**합니다.\n",
        "* 우크라이나에서는 자국의 장비 및 인력 손실에 관하여 정확하게 발표하지 않았습니다."
      ],
      "metadata": {
        "id": "W2hwAlUZc81N"
      }
    },
    {
      "cell_type": "code",
      "execution_count": null,
      "metadata": {
        "id": "fps4D1ANaHEV"
      },
      "outputs": [],
      "source": [
        "# 패키지 & 라이브러리 import\n",
        "import pandas as pd\n",
        "import numpy as np"
      ]
    },
    {
      "cell_type": "code",
      "source": [
        "url1 = '/content/drive/MyDrive/new_project02/russia_losses_equipment.csv'\n",
        "url2 = '/content/drive/MyDrive/new_project02/russia_losses_personnel.csv'"
      ],
      "metadata": {
        "id": "UNYhCzO8aVRM"
      },
      "execution_count": null,
      "outputs": []
    },
    {
      "cell_type": "code",
      "source": [
        "# 데이터 불러오기\n",
        "df1 = pd.read_csv(url1)"
      ],
      "metadata": {
        "id": "qdSim6cvabpb"
      },
      "execution_count": null,
      "outputs": []
    },
    {
      "cell_type": "code",
      "source": [
        "df1.head()"
      ],
      "metadata": {
        "colab": {
          "base_uri": "https://localhost:8080/",
          "height": 367
        },
        "id": "RtlRseeMal6F",
        "outputId": "104418ed-5488-4d30-8b56-830538b20085"
      },
      "execution_count": null,
      "outputs": [
        {
          "output_type": "execute_result",
          "data": {
            "text/plain": [
              "         date  day  aircraft  helicopter  tank  APC  field artillery  MRL  \\\n",
              "0  2022-02-25    2        10           7    80  516               49    4   \n",
              "1  2022-02-26    3        27          26   146  706               49    4   \n",
              "2  2022-02-27    4        27          26   150  706               50    4   \n",
              "3  2022-02-28    5        29          29   150  816               74   21   \n",
              "4  2022-03-01    6        29          29   198  846               77   24   \n",
              "\n",
              "   military auto  fuel tank  drone  naval ship  anti-aircraft warfare  \\\n",
              "0          100.0       60.0      0           2                      0   \n",
              "1          130.0       60.0      2           2                      0   \n",
              "2          130.0       60.0      2           2                      0   \n",
              "3          291.0       60.0      3           2                      5   \n",
              "4          305.0       60.0      3           2                      7   \n",
              "\n",
              "   special equipment  mobile SRBM system  vehicles and fuel tanks  \\\n",
              "0                NaN                 NaN                      NaN   \n",
              "1                NaN                 NaN                      NaN   \n",
              "2                NaN                 NaN                      NaN   \n",
              "3                NaN                 NaN                      NaN   \n",
              "4                NaN                 NaN                      NaN   \n",
              "\n",
              "   cruise missiles greatest losses direction  \n",
              "0              NaN                       NaN  \n",
              "1              NaN                       NaN  \n",
              "2              NaN                       NaN  \n",
              "3              NaN                       NaN  \n",
              "4              NaN                       NaN  "
            ],
            "text/html": [
              "\n",
              "  <div id=\"df-0aae33f2-a263-422b-be42-3f90beab3f0f\">\n",
              "    <div class=\"colab-df-container\">\n",
              "      <div>\n",
              "<style scoped>\n",
              "    .dataframe tbody tr th:only-of-type {\n",
              "        vertical-align: middle;\n",
              "    }\n",
              "\n",
              "    .dataframe tbody tr th {\n",
              "        vertical-align: top;\n",
              "    }\n",
              "\n",
              "    .dataframe thead th {\n",
              "        text-align: right;\n",
              "    }\n",
              "</style>\n",
              "<table border=\"1\" class=\"dataframe\">\n",
              "  <thead>\n",
              "    <tr style=\"text-align: right;\">\n",
              "      <th></th>\n",
              "      <th>date</th>\n",
              "      <th>day</th>\n",
              "      <th>aircraft</th>\n",
              "      <th>helicopter</th>\n",
              "      <th>tank</th>\n",
              "      <th>APC</th>\n",
              "      <th>field artillery</th>\n",
              "      <th>MRL</th>\n",
              "      <th>military auto</th>\n",
              "      <th>fuel tank</th>\n",
              "      <th>drone</th>\n",
              "      <th>naval ship</th>\n",
              "      <th>anti-aircraft warfare</th>\n",
              "      <th>special equipment</th>\n",
              "      <th>mobile SRBM system</th>\n",
              "      <th>vehicles and fuel tanks</th>\n",
              "      <th>cruise missiles</th>\n",
              "      <th>greatest losses direction</th>\n",
              "    </tr>\n",
              "  </thead>\n",
              "  <tbody>\n",
              "    <tr>\n",
              "      <th>0</th>\n",
              "      <td>2022-02-25</td>\n",
              "      <td>2</td>\n",
              "      <td>10</td>\n",
              "      <td>7</td>\n",
              "      <td>80</td>\n",
              "      <td>516</td>\n",
              "      <td>49</td>\n",
              "      <td>4</td>\n",
              "      <td>100.0</td>\n",
              "      <td>60.0</td>\n",
              "      <td>0</td>\n",
              "      <td>2</td>\n",
              "      <td>0</td>\n",
              "      <td>NaN</td>\n",
              "      <td>NaN</td>\n",
              "      <td>NaN</td>\n",
              "      <td>NaN</td>\n",
              "      <td>NaN</td>\n",
              "    </tr>\n",
              "    <tr>\n",
              "      <th>1</th>\n",
              "      <td>2022-02-26</td>\n",
              "      <td>3</td>\n",
              "      <td>27</td>\n",
              "      <td>26</td>\n",
              "      <td>146</td>\n",
              "      <td>706</td>\n",
              "      <td>49</td>\n",
              "      <td>4</td>\n",
              "      <td>130.0</td>\n",
              "      <td>60.0</td>\n",
              "      <td>2</td>\n",
              "      <td>2</td>\n",
              "      <td>0</td>\n",
              "      <td>NaN</td>\n",
              "      <td>NaN</td>\n",
              "      <td>NaN</td>\n",
              "      <td>NaN</td>\n",
              "      <td>NaN</td>\n",
              "    </tr>\n",
              "    <tr>\n",
              "      <th>2</th>\n",
              "      <td>2022-02-27</td>\n",
              "      <td>4</td>\n",
              "      <td>27</td>\n",
              "      <td>26</td>\n",
              "      <td>150</td>\n",
              "      <td>706</td>\n",
              "      <td>50</td>\n",
              "      <td>4</td>\n",
              "      <td>130.0</td>\n",
              "      <td>60.0</td>\n",
              "      <td>2</td>\n",
              "      <td>2</td>\n",
              "      <td>0</td>\n",
              "      <td>NaN</td>\n",
              "      <td>NaN</td>\n",
              "      <td>NaN</td>\n",
              "      <td>NaN</td>\n",
              "      <td>NaN</td>\n",
              "    </tr>\n",
              "    <tr>\n",
              "      <th>3</th>\n",
              "      <td>2022-02-28</td>\n",
              "      <td>5</td>\n",
              "      <td>29</td>\n",
              "      <td>29</td>\n",
              "      <td>150</td>\n",
              "      <td>816</td>\n",
              "      <td>74</td>\n",
              "      <td>21</td>\n",
              "      <td>291.0</td>\n",
              "      <td>60.0</td>\n",
              "      <td>3</td>\n",
              "      <td>2</td>\n",
              "      <td>5</td>\n",
              "      <td>NaN</td>\n",
              "      <td>NaN</td>\n",
              "      <td>NaN</td>\n",
              "      <td>NaN</td>\n",
              "      <td>NaN</td>\n",
              "    </tr>\n",
              "    <tr>\n",
              "      <th>4</th>\n",
              "      <td>2022-03-01</td>\n",
              "      <td>6</td>\n",
              "      <td>29</td>\n",
              "      <td>29</td>\n",
              "      <td>198</td>\n",
              "      <td>846</td>\n",
              "      <td>77</td>\n",
              "      <td>24</td>\n",
              "      <td>305.0</td>\n",
              "      <td>60.0</td>\n",
              "      <td>3</td>\n",
              "      <td>2</td>\n",
              "      <td>7</td>\n",
              "      <td>NaN</td>\n",
              "      <td>NaN</td>\n",
              "      <td>NaN</td>\n",
              "      <td>NaN</td>\n",
              "      <td>NaN</td>\n",
              "    </tr>\n",
              "  </tbody>\n",
              "</table>\n",
              "</div>\n",
              "      <button class=\"colab-df-convert\" onclick=\"convertToInteractive('df-0aae33f2-a263-422b-be42-3f90beab3f0f')\"\n",
              "              title=\"Convert this dataframe to an interactive table.\"\n",
              "              style=\"display:none;\">\n",
              "        \n",
              "  <svg xmlns=\"http://www.w3.org/2000/svg\" height=\"24px\"viewBox=\"0 0 24 24\"\n",
              "       width=\"24px\">\n",
              "    <path d=\"M0 0h24v24H0V0z\" fill=\"none\"/>\n",
              "    <path d=\"M18.56 5.44l.94 2.06.94-2.06 2.06-.94-2.06-.94-.94-2.06-.94 2.06-2.06.94zm-11 1L8.5 8.5l.94-2.06 2.06-.94-2.06-.94L8.5 2.5l-.94 2.06-2.06.94zm10 10l.94 2.06.94-2.06 2.06-.94-2.06-.94-.94-2.06-.94 2.06-2.06.94z\"/><path d=\"M17.41 7.96l-1.37-1.37c-.4-.4-.92-.59-1.43-.59-.52 0-1.04.2-1.43.59L10.3 9.45l-7.72 7.72c-.78.78-.78 2.05 0 2.83L4 21.41c.39.39.9.59 1.41.59.51 0 1.02-.2 1.41-.59l7.78-7.78 2.81-2.81c.8-.78.8-2.07 0-2.86zM5.41 20L4 18.59l7.72-7.72 1.47 1.35L5.41 20z\"/>\n",
              "  </svg>\n",
              "      </button>\n",
              "      \n",
              "  <style>\n",
              "    .colab-df-container {\n",
              "      display:flex;\n",
              "      flex-wrap:wrap;\n",
              "      gap: 12px;\n",
              "    }\n",
              "\n",
              "    .colab-df-convert {\n",
              "      background-color: #E8F0FE;\n",
              "      border: none;\n",
              "      border-radius: 50%;\n",
              "      cursor: pointer;\n",
              "      display: none;\n",
              "      fill: #1967D2;\n",
              "      height: 32px;\n",
              "      padding: 0 0 0 0;\n",
              "      width: 32px;\n",
              "    }\n",
              "\n",
              "    .colab-df-convert:hover {\n",
              "      background-color: #E2EBFA;\n",
              "      box-shadow: 0px 1px 2px rgba(60, 64, 67, 0.3), 0px 1px 3px 1px rgba(60, 64, 67, 0.15);\n",
              "      fill: #174EA6;\n",
              "    }\n",
              "\n",
              "    [theme=dark] .colab-df-convert {\n",
              "      background-color: #3B4455;\n",
              "      fill: #D2E3FC;\n",
              "    }\n",
              "\n",
              "    [theme=dark] .colab-df-convert:hover {\n",
              "      background-color: #434B5C;\n",
              "      box-shadow: 0px 1px 3px 1px rgba(0, 0, 0, 0.15);\n",
              "      filter: drop-shadow(0px 1px 2px rgba(0, 0, 0, 0.3));\n",
              "      fill: #FFFFFF;\n",
              "    }\n",
              "  </style>\n",
              "\n",
              "      <script>\n",
              "        const buttonEl =\n",
              "          document.querySelector('#df-0aae33f2-a263-422b-be42-3f90beab3f0f button.colab-df-convert');\n",
              "        buttonEl.style.display =\n",
              "          google.colab.kernel.accessAllowed ? 'block' : 'none';\n",
              "\n",
              "        async function convertToInteractive(key) {\n",
              "          const element = document.querySelector('#df-0aae33f2-a263-422b-be42-3f90beab3f0f');\n",
              "          const dataTable =\n",
              "            await google.colab.kernel.invokeFunction('convertToInteractive',\n",
              "                                                     [key], {});\n",
              "          if (!dataTable) return;\n",
              "\n",
              "          const docLinkHtml = 'Like what you see? Visit the ' +\n",
              "            '<a target=\"_blank\" href=https://colab.research.google.com/notebooks/data_table.ipynb>data table notebook</a>'\n",
              "            + ' to learn more about interactive tables.';\n",
              "          element.innerHTML = '';\n",
              "          dataTable['output_type'] = 'display_data';\n",
              "          await google.colab.output.renderOutput(dataTable, element);\n",
              "          const docLink = document.createElement('div');\n",
              "          docLink.innerHTML = docLinkHtml;\n",
              "          element.appendChild(docLink);\n",
              "        }\n",
              "      </script>\n",
              "    </div>\n",
              "  </div>\n",
              "  "
            ]
          },
          "metadata": {},
          "execution_count": 6
        }
      ]
    },
    {
      "cell_type": "code",
      "source": [
        "# 데이터 불러오기 df2\n",
        "df2 = pd.read_csv(url2)"
      ],
      "metadata": {
        "id": "-cCbf-3BannE"
      },
      "execution_count": null,
      "outputs": []
    },
    {
      "cell_type": "code",
      "source": [
        "df2.head()"
      ],
      "metadata": {
        "colab": {
          "base_uri": "https://localhost:8080/",
          "height": 204
        },
        "id": "gp0qaRHmaqh5",
        "outputId": "a518ee2c-eed5-4f09-fe85-180bb4134906"
      },
      "execution_count": null,
      "outputs": [
        {
          "output_type": "execute_result",
          "data": {
            "text/plain": [
              "         date  day  personnel personnel*  POW\n",
              "0  2022-02-25    2       2800      about    0\n",
              "1  2022-02-26    3       4300      about    0\n",
              "2  2022-02-27    4       4500      about    0\n",
              "3  2022-02-28    5       5300      about    0\n",
              "4  2022-03-01    6       5710      about  200"
            ],
            "text/html": [
              "\n",
              "  <div id=\"df-263ee5d3-352d-4d62-8d1f-e377ed072e78\">\n",
              "    <div class=\"colab-df-container\">\n",
              "      <div>\n",
              "<style scoped>\n",
              "    .dataframe tbody tr th:only-of-type {\n",
              "        vertical-align: middle;\n",
              "    }\n",
              "\n",
              "    .dataframe tbody tr th {\n",
              "        vertical-align: top;\n",
              "    }\n",
              "\n",
              "    .dataframe thead th {\n",
              "        text-align: right;\n",
              "    }\n",
              "</style>\n",
              "<table border=\"1\" class=\"dataframe\">\n",
              "  <thead>\n",
              "    <tr style=\"text-align: right;\">\n",
              "      <th></th>\n",
              "      <th>date</th>\n",
              "      <th>day</th>\n",
              "      <th>personnel</th>\n",
              "      <th>personnel*</th>\n",
              "      <th>POW</th>\n",
              "    </tr>\n",
              "  </thead>\n",
              "  <tbody>\n",
              "    <tr>\n",
              "      <th>0</th>\n",
              "      <td>2022-02-25</td>\n",
              "      <td>2</td>\n",
              "      <td>2800</td>\n",
              "      <td>about</td>\n",
              "      <td>0</td>\n",
              "    </tr>\n",
              "    <tr>\n",
              "      <th>1</th>\n",
              "      <td>2022-02-26</td>\n",
              "      <td>3</td>\n",
              "      <td>4300</td>\n",
              "      <td>about</td>\n",
              "      <td>0</td>\n",
              "    </tr>\n",
              "    <tr>\n",
              "      <th>2</th>\n",
              "      <td>2022-02-27</td>\n",
              "      <td>4</td>\n",
              "      <td>4500</td>\n",
              "      <td>about</td>\n",
              "      <td>0</td>\n",
              "    </tr>\n",
              "    <tr>\n",
              "      <th>3</th>\n",
              "      <td>2022-02-28</td>\n",
              "      <td>5</td>\n",
              "      <td>5300</td>\n",
              "      <td>about</td>\n",
              "      <td>0</td>\n",
              "    </tr>\n",
              "    <tr>\n",
              "      <th>4</th>\n",
              "      <td>2022-03-01</td>\n",
              "      <td>6</td>\n",
              "      <td>5710</td>\n",
              "      <td>about</td>\n",
              "      <td>200</td>\n",
              "    </tr>\n",
              "  </tbody>\n",
              "</table>\n",
              "</div>\n",
              "      <button class=\"colab-df-convert\" onclick=\"convertToInteractive('df-263ee5d3-352d-4d62-8d1f-e377ed072e78')\"\n",
              "              title=\"Convert this dataframe to an interactive table.\"\n",
              "              style=\"display:none;\">\n",
              "        \n",
              "  <svg xmlns=\"http://www.w3.org/2000/svg\" height=\"24px\"viewBox=\"0 0 24 24\"\n",
              "       width=\"24px\">\n",
              "    <path d=\"M0 0h24v24H0V0z\" fill=\"none\"/>\n",
              "    <path d=\"M18.56 5.44l.94 2.06.94-2.06 2.06-.94-2.06-.94-.94-2.06-.94 2.06-2.06.94zm-11 1L8.5 8.5l.94-2.06 2.06-.94-2.06-.94L8.5 2.5l-.94 2.06-2.06.94zm10 10l.94 2.06.94-2.06 2.06-.94-2.06-.94-.94-2.06-.94 2.06-2.06.94z\"/><path d=\"M17.41 7.96l-1.37-1.37c-.4-.4-.92-.59-1.43-.59-.52 0-1.04.2-1.43.59L10.3 9.45l-7.72 7.72c-.78.78-.78 2.05 0 2.83L4 21.41c.39.39.9.59 1.41.59.51 0 1.02-.2 1.41-.59l7.78-7.78 2.81-2.81c.8-.78.8-2.07 0-2.86zM5.41 20L4 18.59l7.72-7.72 1.47 1.35L5.41 20z\"/>\n",
              "  </svg>\n",
              "      </button>\n",
              "      \n",
              "  <style>\n",
              "    .colab-df-container {\n",
              "      display:flex;\n",
              "      flex-wrap:wrap;\n",
              "      gap: 12px;\n",
              "    }\n",
              "\n",
              "    .colab-df-convert {\n",
              "      background-color: #E8F0FE;\n",
              "      border: none;\n",
              "      border-radius: 50%;\n",
              "      cursor: pointer;\n",
              "      display: none;\n",
              "      fill: #1967D2;\n",
              "      height: 32px;\n",
              "      padding: 0 0 0 0;\n",
              "      width: 32px;\n",
              "    }\n",
              "\n",
              "    .colab-df-convert:hover {\n",
              "      background-color: #E2EBFA;\n",
              "      box-shadow: 0px 1px 2px rgba(60, 64, 67, 0.3), 0px 1px 3px 1px rgba(60, 64, 67, 0.15);\n",
              "      fill: #174EA6;\n",
              "    }\n",
              "\n",
              "    [theme=dark] .colab-df-convert {\n",
              "      background-color: #3B4455;\n",
              "      fill: #D2E3FC;\n",
              "    }\n",
              "\n",
              "    [theme=dark] .colab-df-convert:hover {\n",
              "      background-color: #434B5C;\n",
              "      box-shadow: 0px 1px 3px 1px rgba(0, 0, 0, 0.15);\n",
              "      filter: drop-shadow(0px 1px 2px rgba(0, 0, 0, 0.3));\n",
              "      fill: #FFFFFF;\n",
              "    }\n",
              "  </style>\n",
              "\n",
              "      <script>\n",
              "        const buttonEl =\n",
              "          document.querySelector('#df-263ee5d3-352d-4d62-8d1f-e377ed072e78 button.colab-df-convert');\n",
              "        buttonEl.style.display =\n",
              "          google.colab.kernel.accessAllowed ? 'block' : 'none';\n",
              "\n",
              "        async function convertToInteractive(key) {\n",
              "          const element = document.querySelector('#df-263ee5d3-352d-4d62-8d1f-e377ed072e78');\n",
              "          const dataTable =\n",
              "            await google.colab.kernel.invokeFunction('convertToInteractive',\n",
              "                                                     [key], {});\n",
              "          if (!dataTable) return;\n",
              "\n",
              "          const docLinkHtml = 'Like what you see? Visit the ' +\n",
              "            '<a target=\"_blank\" href=https://colab.research.google.com/notebooks/data_table.ipynb>data table notebook</a>'\n",
              "            + ' to learn more about interactive tables.';\n",
              "          element.innerHTML = '';\n",
              "          dataTable['output_type'] = 'display_data';\n",
              "          await google.colab.output.renderOutput(dataTable, element);\n",
              "          const docLink = document.createElement('div');\n",
              "          docLink.innerHTML = docLinkHtml;\n",
              "          element.appendChild(docLink);\n",
              "        }\n",
              "      </script>\n",
              "    </div>\n",
              "  </div>\n",
              "  "
            ]
          },
          "metadata": {},
          "execution_count": 14
        }
      ]
    },
    {
      "cell_type": "markdown",
      "source": [
        "---\n",
        "### 1. Data EDA.\n",
        ">분석, 예측 및 분류를 진행하기 이전에 데이터를 살펴보도록 합니다.\n",
        "\n",
        "\n"
      ],
      "metadata": {
        "id": "j-i92SB-a4zM"
      }
    },
    {
      "cell_type": "markdown",
      "source": [
        "#### 1-1.컬럼별 데이터\n",
        "> 가독성을 높히기 위하여 데이터의 컬럼을 한글로 바꿔줍니다.\n",
        "\n"
      ],
      "metadata": {
        "id": "hnqioK8_cajn"
      }
    },
    {
      "cell_type": "code",
      "source": [
        "df1.columns"
      ],
      "metadata": {
        "colab": {
          "base_uri": "https://localhost:8080/"
        },
        "id": "X4vMQBfmcVCq",
        "outputId": "1606047f-9c25-4126-ec05-e9041006b983"
      },
      "execution_count": null,
      "outputs": [
        {
          "output_type": "execute_result",
          "data": {
            "text/plain": [
              "Index(['date', 'day', 'aircraft', 'helicopter', 'tank', 'APC',\n",
              "       'field artillery', 'MRL', 'military auto', 'fuel tank', 'drone',\n",
              "       'naval ship', 'anti-aircraft warfare', 'special equipment',\n",
              "       'mobile SRBM system', 'vehicles and fuel tanks', 'cruise missiles',\n",
              "       'greatest losses direction'],\n",
              "      dtype='object')"
            ]
          },
          "metadata": {},
          "execution_count": 15
        }
      ]
    },
    {
      "cell_type": "code",
      "source": [
        "# 컬럼명을 변경하기 전의 이름을 보관합니다.\n",
        "columns_name_not_modified = df1.columns"
      ],
      "metadata": {
        "id": "7nNyUiEviI9B"
      },
      "execution_count": null,
      "outputs": []
    },
    {
      "cell_type": "code",
      "source": [
        "df1.rename(columns={'date':'날짜','day':'개전일','aircraft':'항공기','helicopter':'헬리콥터','tank' : '탱크',\n",
        "                    'APC':'장갑차','field artillery': '야포' ,'MRL' :'다중로켓발사기', })"
      ],
      "metadata": {
        "id": "Kqrqat7Eceic"
      },
      "execution_count": null,
      "outputs": []
    },
    {
      "cell_type": "code",
      "source": [
        ""
      ],
      "metadata": {
        "id": "JiQBaCZOi3Vo"
      },
      "execution_count": null,
      "outputs": []
    },
    {
      "cell_type": "markdown",
      "source": [
        "참고하고 있는 url\n",
        "\n",
        "https://www.kaggle.com/datasets/piterfm/2022-ukraine-russian-war?select=russia_losses_personnel.csv <br>\n",
        "\n",
        "\n",
        "https://www.kaggle.com/datasets/piterfm/2022-ukraine-russian-war <br>\n",
        "\n",
        "\n",
        "https://www.kaggle.com/code/piterfm/ukraine-russia-war-daily-data?scriptVersionId=102179843 <br>\n"
      ],
      "metadata": {
        "id": "PTqv9-LZi27c"
      }
    }
  ]
}