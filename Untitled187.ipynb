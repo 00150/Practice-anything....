{
  "nbformat": 4,
  "nbformat_minor": 0,
  "metadata": {
    "colab": {
      "provenance": [],
      "authorship_tag": "ABX9TyNPxaAtPCyCF43JojSgXtQm",
      "include_colab_link": true
    },
    "kernelspec": {
      "name": "python3",
      "display_name": "Python 3"
    },
    "language_info": {
      "name": "python"
    }
  },
  "cells": [
    {
      "cell_type": "markdown",
      "metadata": {
        "id": "view-in-github",
        "colab_type": "text"
      },
      "source": [
        "<a href=\"https://colab.research.google.com/github/00150/Practice-anything..../blob/main/Untitled187.ipynb\" target=\"_parent\"><img src=\"https://colab.research.google.com/assets/colab-badge.svg\" alt=\"Open In Colab\"/></a>"
      ]
    },
    {
      "cell_type": "markdown",
      "source": [
        "+) 필요한 라이브리 및 패키지 설치"
      ],
      "metadata": {
        "id": "yPqCDyQjuxUJ"
      }
    },
    {
      "cell_type": "code",
      "source": [
        "!pip install category_encoders"
      ],
      "metadata": {
        "colab": {
          "base_uri": "https://localhost:8080/"
        },
        "id": "7rtaoyUJu3rB",
        "outputId": "e8627f95-6980-42b0-c934-f8624735f58a"
      },
      "execution_count": 37,
      "outputs": [
        {
          "output_type": "stream",
          "name": "stdout",
          "text": [
            "Looking in indexes: https://pypi.org/simple, https://us-python.pkg.dev/colab-wheels/public/simple/\n",
            "Requirement already satisfied: category_encoders in /usr/local/lib/python3.8/dist-packages (2.6.0)\n",
            "Requirement already satisfied: statsmodels>=0.9.0 in /usr/local/lib/python3.8/dist-packages (from category_encoders) (0.12.2)\n",
            "Requirement already satisfied: numpy>=1.14.0 in /usr/local/lib/python3.8/dist-packages (from category_encoders) (1.22.4)\n",
            "Requirement already satisfied: scipy>=1.0.0 in /usr/local/lib/python3.8/dist-packages (from category_encoders) (1.7.3)\n",
            "Requirement already satisfied: pandas>=1.0.5 in /usr/local/lib/python3.8/dist-packages (from category_encoders) (1.3.5)\n",
            "Requirement already satisfied: scikit-learn>=0.20.0 in /usr/local/lib/python3.8/dist-packages (from category_encoders) (1.0.2)\n",
            "Requirement already satisfied: patsy>=0.5.1 in /usr/local/lib/python3.8/dist-packages (from category_encoders) (0.5.3)\n",
            "Requirement already satisfied: pytz>=2017.3 in /usr/local/lib/python3.8/dist-packages (from pandas>=1.0.5->category_encoders) (2022.7.1)\n",
            "Requirement already satisfied: python-dateutil>=2.7.3 in /usr/local/lib/python3.8/dist-packages (from pandas>=1.0.5->category_encoders) (2.8.2)\n",
            "Requirement already satisfied: six in /usr/local/lib/python3.8/dist-packages (from patsy>=0.5.1->category_encoders) (1.15.0)\n",
            "Requirement already satisfied: threadpoolctl>=2.0.0 in /usr/local/lib/python3.8/dist-packages (from scikit-learn>=0.20.0->category_encoders) (3.1.0)\n",
            "Requirement already satisfied: joblib>=0.11 in /usr/local/lib/python3.8/dist-packages (from scikit-learn>=0.20.0->category_encoders) (1.2.0)\n"
          ]
        }
      ]
    },
    {
      "cell_type": "code",
      "source": [
        "!pip install xgboost==1.7.2"
      ],
      "metadata": {
        "colab": {
          "base_uri": "https://localhost:8080/"
        },
        "id": "lNh5dTQsu7B0",
        "outputId": "3533330b-0312-4191-8f74-9adbc7793116"
      },
      "execution_count": 38,
      "outputs": [
        {
          "output_type": "stream",
          "name": "stdout",
          "text": [
            "Looking in indexes: https://pypi.org/simple, https://us-python.pkg.dev/colab-wheels/public/simple/\n",
            "Requirement already satisfied: xgboost==1.7.2 in /usr/local/lib/python3.8/dist-packages (1.7.2)\n",
            "Requirement already satisfied: numpy in /usr/local/lib/python3.8/dist-packages (from xgboost==1.7.2) (1.22.4)\n",
            "Requirement already satisfied: scipy in /usr/local/lib/python3.8/dist-packages (from xgboost==1.7.2) (1.7.3)\n"
          ]
        }
      ]
    },
    {
      "cell_type": "markdown",
      "source": [
        "## 1. DATA EDA."
      ],
      "metadata": {
        "id": "tHliA40M_LSs"
      }
    },
    {
      "cell_type": "code",
      "source": [
        "# 이번 실습에 사용될 데이터는 다음과 같다.\n",
        "# 필요한 패키지 불러오기.\n",
        "import pandas as pd\n",
        "df = pd.read_csv('https://ds-lecture-data.s3.ap-northeast-2.amazonaws.com/temp/train.csv')\n",
        "df"
      ],
      "metadata": {
        "colab": {
          "base_uri": "https://localhost:8080/",
          "height": 487
        },
        "id": "q5X4_jAxu9mw",
        "outputId": "3369b336-04db-469e-f0d3-f8dc22b73a83"
      },
      "execution_count": 39,
      "outputs": [
        {
          "output_type": "execute_result",
          "data": {
            "text/plain": [
              "      policy_id  policy_tenure  age_of_car  age_of_policyholder area_cluster  \\\n",
              "0       ID00001       0.515874        0.05             0.644231           C1   \n",
              "1       ID00002       0.672619        0.02             0.375000           C2   \n",
              "2       ID00003       0.841110        0.02             0.384615           C3   \n",
              "3       ID00004       0.900277        0.11             0.432692           C4   \n",
              "4       ID00005       0.596403        0.11             0.634615           C5   \n",
              "...         ...            ...         ...                  ...          ...   \n",
              "58587   ID58588       0.355089        0.13             0.644231           C8   \n",
              "58588   ID58589       1.199642        0.02             0.519231          C14   \n",
              "58589   ID58590       1.162273        0.05             0.451923           C5   \n",
              "58590   ID58591       1.236307        0.14             0.557692           C8   \n",
              "58591   ID58592       0.124429        0.02             0.442308           C8   \n",
              "\n",
              "       population_density  make segment model fuel_type  ... is_brake_assist  \\\n",
              "0                    4990     1       A    M1       CNG  ...              No   \n",
              "1                   27003     1       A    M1       CNG  ...              No   \n",
              "2                    4076     1       A    M1       CNG  ...              No   \n",
              "3                   21622     1      C1    M2    Petrol  ...             Yes   \n",
              "4                   34738     2       A    M3    Petrol  ...              No   \n",
              "...                   ...   ...     ...   ...       ...  ...             ...   \n",
              "58587                8794     2       A    M3    Petrol  ...              No   \n",
              "58588                7788     1       A    M1       CNG  ...              No   \n",
              "58589               34738     1       A    M1       CNG  ...              No   \n",
              "58590                8794     1      B2    M6    Petrol  ...             Yes   \n",
              "58591                8794     3      C2    M4    Diesel  ...             Yes   \n",
              "\n",
              "      is_power_door_locks is_central_locking  is_power_steering  \\\n",
              "0                      No                 No                Yes   \n",
              "1                      No                 No                Yes   \n",
              "2                      No                 No                Yes   \n",
              "3                     Yes                Yes                Yes   \n",
              "4                     Yes                Yes                Yes   \n",
              "...                   ...                ...                ...   \n",
              "58587                 Yes                Yes                Yes   \n",
              "58588                  No                 No                Yes   \n",
              "58589                  No                 No                Yes   \n",
              "58590                 Yes                Yes                Yes   \n",
              "58591                 Yes                Yes                Yes   \n",
              "\n",
              "      is_driver_seat_height_adjustable is_day_night_rear_view_mirror is_ecw  \\\n",
              "0                                   No                            No     No   \n",
              "1                                   No                            No     No   \n",
              "2                                   No                            No     No   \n",
              "3                                  Yes                           Yes    Yes   \n",
              "4                                   No                           Yes    Yes   \n",
              "...                                ...                           ...    ...   \n",
              "58587                               No                           Yes    Yes   \n",
              "58588                               No                            No     No   \n",
              "58589                               No                            No     No   \n",
              "58590                              Yes                           Yes    Yes   \n",
              "58591                              Yes                            No    Yes   \n",
              "\n",
              "      is_speed_alert ncap_rating is_claim  \n",
              "0                Yes           0        0  \n",
              "1                Yes           0        0  \n",
              "2                Yes           0        0  \n",
              "3                Yes           2        0  \n",
              "4                Yes           2        0  \n",
              "...              ...         ...      ...  \n",
              "58587            Yes           2        0  \n",
              "58588            Yes           0        0  \n",
              "58589            Yes           0        0  \n",
              "58590            Yes           2        0  \n",
              "58591            Yes           3        0  \n",
              "\n",
              "[58592 rows x 44 columns]"
            ],
            "text/html": [
              "\n",
              "  <div id=\"df-eea0937a-7fff-45c1-b246-831607922f13\">\n",
              "    <div class=\"colab-df-container\">\n",
              "      <div>\n",
              "<style scoped>\n",
              "    .dataframe tbody tr th:only-of-type {\n",
              "        vertical-align: middle;\n",
              "    }\n",
              "\n",
              "    .dataframe tbody tr th {\n",
              "        vertical-align: top;\n",
              "    }\n",
              "\n",
              "    .dataframe thead th {\n",
              "        text-align: right;\n",
              "    }\n",
              "</style>\n",
              "<table border=\"1\" class=\"dataframe\">\n",
              "  <thead>\n",
              "    <tr style=\"text-align: right;\">\n",
              "      <th></th>\n",
              "      <th>policy_id</th>\n",
              "      <th>policy_tenure</th>\n",
              "      <th>age_of_car</th>\n",
              "      <th>age_of_policyholder</th>\n",
              "      <th>area_cluster</th>\n",
              "      <th>population_density</th>\n",
              "      <th>make</th>\n",
              "      <th>segment</th>\n",
              "      <th>model</th>\n",
              "      <th>fuel_type</th>\n",
              "      <th>...</th>\n",
              "      <th>is_brake_assist</th>\n",
              "      <th>is_power_door_locks</th>\n",
              "      <th>is_central_locking</th>\n",
              "      <th>is_power_steering</th>\n",
              "      <th>is_driver_seat_height_adjustable</th>\n",
              "      <th>is_day_night_rear_view_mirror</th>\n",
              "      <th>is_ecw</th>\n",
              "      <th>is_speed_alert</th>\n",
              "      <th>ncap_rating</th>\n",
              "      <th>is_claim</th>\n",
              "    </tr>\n",
              "  </thead>\n",
              "  <tbody>\n",
              "    <tr>\n",
              "      <th>0</th>\n",
              "      <td>ID00001</td>\n",
              "      <td>0.515874</td>\n",
              "      <td>0.05</td>\n",
              "      <td>0.644231</td>\n",
              "      <td>C1</td>\n",
              "      <td>4990</td>\n",
              "      <td>1</td>\n",
              "      <td>A</td>\n",
              "      <td>M1</td>\n",
              "      <td>CNG</td>\n",
              "      <td>...</td>\n",
              "      <td>No</td>\n",
              "      <td>No</td>\n",
              "      <td>No</td>\n",
              "      <td>Yes</td>\n",
              "      <td>No</td>\n",
              "      <td>No</td>\n",
              "      <td>No</td>\n",
              "      <td>Yes</td>\n",
              "      <td>0</td>\n",
              "      <td>0</td>\n",
              "    </tr>\n",
              "    <tr>\n",
              "      <th>1</th>\n",
              "      <td>ID00002</td>\n",
              "      <td>0.672619</td>\n",
              "      <td>0.02</td>\n",
              "      <td>0.375000</td>\n",
              "      <td>C2</td>\n",
              "      <td>27003</td>\n",
              "      <td>1</td>\n",
              "      <td>A</td>\n",
              "      <td>M1</td>\n",
              "      <td>CNG</td>\n",
              "      <td>...</td>\n",
              "      <td>No</td>\n",
              "      <td>No</td>\n",
              "      <td>No</td>\n",
              "      <td>Yes</td>\n",
              "      <td>No</td>\n",
              "      <td>No</td>\n",
              "      <td>No</td>\n",
              "      <td>Yes</td>\n",
              "      <td>0</td>\n",
              "      <td>0</td>\n",
              "    </tr>\n",
              "    <tr>\n",
              "      <th>2</th>\n",
              "      <td>ID00003</td>\n",
              "      <td>0.841110</td>\n",
              "      <td>0.02</td>\n",
              "      <td>0.384615</td>\n",
              "      <td>C3</td>\n",
              "      <td>4076</td>\n",
              "      <td>1</td>\n",
              "      <td>A</td>\n",
              "      <td>M1</td>\n",
              "      <td>CNG</td>\n",
              "      <td>...</td>\n",
              "      <td>No</td>\n",
              "      <td>No</td>\n",
              "      <td>No</td>\n",
              "      <td>Yes</td>\n",
              "      <td>No</td>\n",
              "      <td>No</td>\n",
              "      <td>No</td>\n",
              "      <td>Yes</td>\n",
              "      <td>0</td>\n",
              "      <td>0</td>\n",
              "    </tr>\n",
              "    <tr>\n",
              "      <th>3</th>\n",
              "      <td>ID00004</td>\n",
              "      <td>0.900277</td>\n",
              "      <td>0.11</td>\n",
              "      <td>0.432692</td>\n",
              "      <td>C4</td>\n",
              "      <td>21622</td>\n",
              "      <td>1</td>\n",
              "      <td>C1</td>\n",
              "      <td>M2</td>\n",
              "      <td>Petrol</td>\n",
              "      <td>...</td>\n",
              "      <td>Yes</td>\n",
              "      <td>Yes</td>\n",
              "      <td>Yes</td>\n",
              "      <td>Yes</td>\n",
              "      <td>Yes</td>\n",
              "      <td>Yes</td>\n",
              "      <td>Yes</td>\n",
              "      <td>Yes</td>\n",
              "      <td>2</td>\n",
              "      <td>0</td>\n",
              "    </tr>\n",
              "    <tr>\n",
              "      <th>4</th>\n",
              "      <td>ID00005</td>\n",
              "      <td>0.596403</td>\n",
              "      <td>0.11</td>\n",
              "      <td>0.634615</td>\n",
              "      <td>C5</td>\n",
              "      <td>34738</td>\n",
              "      <td>2</td>\n",
              "      <td>A</td>\n",
              "      <td>M3</td>\n",
              "      <td>Petrol</td>\n",
              "      <td>...</td>\n",
              "      <td>No</td>\n",
              "      <td>Yes</td>\n",
              "      <td>Yes</td>\n",
              "      <td>Yes</td>\n",
              "      <td>No</td>\n",
              "      <td>Yes</td>\n",
              "      <td>Yes</td>\n",
              "      <td>Yes</td>\n",
              "      <td>2</td>\n",
              "      <td>0</td>\n",
              "    </tr>\n",
              "    <tr>\n",
              "      <th>...</th>\n",
              "      <td>...</td>\n",
              "      <td>...</td>\n",
              "      <td>...</td>\n",
              "      <td>...</td>\n",
              "      <td>...</td>\n",
              "      <td>...</td>\n",
              "      <td>...</td>\n",
              "      <td>...</td>\n",
              "      <td>...</td>\n",
              "      <td>...</td>\n",
              "      <td>...</td>\n",
              "      <td>...</td>\n",
              "      <td>...</td>\n",
              "      <td>...</td>\n",
              "      <td>...</td>\n",
              "      <td>...</td>\n",
              "      <td>...</td>\n",
              "      <td>...</td>\n",
              "      <td>...</td>\n",
              "      <td>...</td>\n",
              "      <td>...</td>\n",
              "    </tr>\n",
              "    <tr>\n",
              "      <th>58587</th>\n",
              "      <td>ID58588</td>\n",
              "      <td>0.355089</td>\n",
              "      <td>0.13</td>\n",
              "      <td>0.644231</td>\n",
              "      <td>C8</td>\n",
              "      <td>8794</td>\n",
              "      <td>2</td>\n",
              "      <td>A</td>\n",
              "      <td>M3</td>\n",
              "      <td>Petrol</td>\n",
              "      <td>...</td>\n",
              "      <td>No</td>\n",
              "      <td>Yes</td>\n",
              "      <td>Yes</td>\n",
              "      <td>Yes</td>\n",
              "      <td>No</td>\n",
              "      <td>Yes</td>\n",
              "      <td>Yes</td>\n",
              "      <td>Yes</td>\n",
              "      <td>2</td>\n",
              "      <td>0</td>\n",
              "    </tr>\n",
              "    <tr>\n",
              "      <th>58588</th>\n",
              "      <td>ID58589</td>\n",
              "      <td>1.199642</td>\n",
              "      <td>0.02</td>\n",
              "      <td>0.519231</td>\n",
              "      <td>C14</td>\n",
              "      <td>7788</td>\n",
              "      <td>1</td>\n",
              "      <td>A</td>\n",
              "      <td>M1</td>\n",
              "      <td>CNG</td>\n",
              "      <td>...</td>\n",
              "      <td>No</td>\n",
              "      <td>No</td>\n",
              "      <td>No</td>\n",
              "      <td>Yes</td>\n",
              "      <td>No</td>\n",
              "      <td>No</td>\n",
              "      <td>No</td>\n",
              "      <td>Yes</td>\n",
              "      <td>0</td>\n",
              "      <td>0</td>\n",
              "    </tr>\n",
              "    <tr>\n",
              "      <th>58589</th>\n",
              "      <td>ID58590</td>\n",
              "      <td>1.162273</td>\n",
              "      <td>0.05</td>\n",
              "      <td>0.451923</td>\n",
              "      <td>C5</td>\n",
              "      <td>34738</td>\n",
              "      <td>1</td>\n",
              "      <td>A</td>\n",
              "      <td>M1</td>\n",
              "      <td>CNG</td>\n",
              "      <td>...</td>\n",
              "      <td>No</td>\n",
              "      <td>No</td>\n",
              "      <td>No</td>\n",
              "      <td>Yes</td>\n",
              "      <td>No</td>\n",
              "      <td>No</td>\n",
              "      <td>No</td>\n",
              "      <td>Yes</td>\n",
              "      <td>0</td>\n",
              "      <td>0</td>\n",
              "    </tr>\n",
              "    <tr>\n",
              "      <th>58590</th>\n",
              "      <td>ID58591</td>\n",
              "      <td>1.236307</td>\n",
              "      <td>0.14</td>\n",
              "      <td>0.557692</td>\n",
              "      <td>C8</td>\n",
              "      <td>8794</td>\n",
              "      <td>1</td>\n",
              "      <td>B2</td>\n",
              "      <td>M6</td>\n",
              "      <td>Petrol</td>\n",
              "      <td>...</td>\n",
              "      <td>Yes</td>\n",
              "      <td>Yes</td>\n",
              "      <td>Yes</td>\n",
              "      <td>Yes</td>\n",
              "      <td>Yes</td>\n",
              "      <td>Yes</td>\n",
              "      <td>Yes</td>\n",
              "      <td>Yes</td>\n",
              "      <td>2</td>\n",
              "      <td>0</td>\n",
              "    </tr>\n",
              "    <tr>\n",
              "      <th>58591</th>\n",
              "      <td>ID58592</td>\n",
              "      <td>0.124429</td>\n",
              "      <td>0.02</td>\n",
              "      <td>0.442308</td>\n",
              "      <td>C8</td>\n",
              "      <td>8794</td>\n",
              "      <td>3</td>\n",
              "      <td>C2</td>\n",
              "      <td>M4</td>\n",
              "      <td>Diesel</td>\n",
              "      <td>...</td>\n",
              "      <td>Yes</td>\n",
              "      <td>Yes</td>\n",
              "      <td>Yes</td>\n",
              "      <td>Yes</td>\n",
              "      <td>Yes</td>\n",
              "      <td>No</td>\n",
              "      <td>Yes</td>\n",
              "      <td>Yes</td>\n",
              "      <td>3</td>\n",
              "      <td>0</td>\n",
              "    </tr>\n",
              "  </tbody>\n",
              "</table>\n",
              "<p>58592 rows × 44 columns</p>\n",
              "</div>\n",
              "      <button class=\"colab-df-convert\" onclick=\"convertToInteractive('df-eea0937a-7fff-45c1-b246-831607922f13')\"\n",
              "              title=\"Convert this dataframe to an interactive table.\"\n",
              "              style=\"display:none;\">\n",
              "        \n",
              "  <svg xmlns=\"http://www.w3.org/2000/svg\" height=\"24px\"viewBox=\"0 0 24 24\"\n",
              "       width=\"24px\">\n",
              "    <path d=\"M0 0h24v24H0V0z\" fill=\"none\"/>\n",
              "    <path d=\"M18.56 5.44l.94 2.06.94-2.06 2.06-.94-2.06-.94-.94-2.06-.94 2.06-2.06.94zm-11 1L8.5 8.5l.94-2.06 2.06-.94-2.06-.94L8.5 2.5l-.94 2.06-2.06.94zm10 10l.94 2.06.94-2.06 2.06-.94-2.06-.94-.94-2.06-.94 2.06-2.06.94z\"/><path d=\"M17.41 7.96l-1.37-1.37c-.4-.4-.92-.59-1.43-.59-.52 0-1.04.2-1.43.59L10.3 9.45l-7.72 7.72c-.78.78-.78 2.05 0 2.83L4 21.41c.39.39.9.59 1.41.59.51 0 1.02-.2 1.41-.59l7.78-7.78 2.81-2.81c.8-.78.8-2.07 0-2.86zM5.41 20L4 18.59l7.72-7.72 1.47 1.35L5.41 20z\"/>\n",
              "  </svg>\n",
              "      </button>\n",
              "      \n",
              "  <style>\n",
              "    .colab-df-container {\n",
              "      display:flex;\n",
              "      flex-wrap:wrap;\n",
              "      gap: 12px;\n",
              "    }\n",
              "\n",
              "    .colab-df-convert {\n",
              "      background-color: #E8F0FE;\n",
              "      border: none;\n",
              "      border-radius: 50%;\n",
              "      cursor: pointer;\n",
              "      display: none;\n",
              "      fill: #1967D2;\n",
              "      height: 32px;\n",
              "      padding: 0 0 0 0;\n",
              "      width: 32px;\n",
              "    }\n",
              "\n",
              "    .colab-df-convert:hover {\n",
              "      background-color: #E2EBFA;\n",
              "      box-shadow: 0px 1px 2px rgba(60, 64, 67, 0.3), 0px 1px 3px 1px rgba(60, 64, 67, 0.15);\n",
              "      fill: #174EA6;\n",
              "    }\n",
              "\n",
              "    [theme=dark] .colab-df-convert {\n",
              "      background-color: #3B4455;\n",
              "      fill: #D2E3FC;\n",
              "    }\n",
              "\n",
              "    [theme=dark] .colab-df-convert:hover {\n",
              "      background-color: #434B5C;\n",
              "      box-shadow: 0px 1px 3px 1px rgba(0, 0, 0, 0.15);\n",
              "      filter: drop-shadow(0px 1px 2px rgba(0, 0, 0, 0.3));\n",
              "      fill: #FFFFFF;\n",
              "    }\n",
              "  </style>\n",
              "\n",
              "      <script>\n",
              "        const buttonEl =\n",
              "          document.querySelector('#df-eea0937a-7fff-45c1-b246-831607922f13 button.colab-df-convert');\n",
              "        buttonEl.style.display =\n",
              "          google.colab.kernel.accessAllowed ? 'block' : 'none';\n",
              "\n",
              "        async function convertToInteractive(key) {\n",
              "          const element = document.querySelector('#df-eea0937a-7fff-45c1-b246-831607922f13');\n",
              "          const dataTable =\n",
              "            await google.colab.kernel.invokeFunction('convertToInteractive',\n",
              "                                                     [key], {});\n",
              "          if (!dataTable) return;\n",
              "\n",
              "          const docLinkHtml = 'Like what you see? Visit the ' +\n",
              "            '<a target=\"_blank\" href=https://colab.research.google.com/notebooks/data_table.ipynb>data table notebook</a>'\n",
              "            + ' to learn more about interactive tables.';\n",
              "          element.innerHTML = '';\n",
              "          dataTable['output_type'] = 'display_data';\n",
              "          await google.colab.output.renderOutput(dataTable, element);\n",
              "          const docLink = document.createElement('div');\n",
              "          docLink.innerHTML = docLinkHtml;\n",
              "          element.appendChild(docLink);\n",
              "        }\n",
              "      </script>\n",
              "    </div>\n",
              "  </div>\n",
              "  "
            ]
          },
          "metadata": {},
          "execution_count": 39
        }
      ]
    },
    {
      "cell_type": "code",
      "source": [
        "df.info()"
      ],
      "metadata": {
        "colab": {
          "base_uri": "https://localhost:8080/"
        },
        "id": "SC-yuLefviuE",
        "outputId": "0d6d4abc-0fcf-4feb-c3b9-3869d2deb5b2"
      },
      "execution_count": 40,
      "outputs": [
        {
          "output_type": "stream",
          "name": "stdout",
          "text": [
            "<class 'pandas.core.frame.DataFrame'>\n",
            "RangeIndex: 58592 entries, 0 to 58591\n",
            "Data columns (total 44 columns):\n",
            " #   Column                            Non-Null Count  Dtype  \n",
            "---  ------                            --------------  -----  \n",
            " 0   policy_id                         58592 non-null  object \n",
            " 1   policy_tenure                     58592 non-null  float64\n",
            " 2   age_of_car                        58592 non-null  float64\n",
            " 3   age_of_policyholder               58592 non-null  float64\n",
            " 4   area_cluster                      58592 non-null  object \n",
            " 5   population_density                58592 non-null  int64  \n",
            " 6   make                              58592 non-null  int64  \n",
            " 7   segment                           58592 non-null  object \n",
            " 8   model                             58592 non-null  object \n",
            " 9   fuel_type                         58592 non-null  object \n",
            " 10  max_torque                        58592 non-null  object \n",
            " 11  max_power                         58592 non-null  object \n",
            " 12  engine_type                       58592 non-null  object \n",
            " 13  airbags                           58592 non-null  int64  \n",
            " 14  is_esc                            58592 non-null  object \n",
            " 15  is_adjustable_steering            58592 non-null  object \n",
            " 16  is_tpms                           58592 non-null  object \n",
            " 17  is_parking_sensors                58592 non-null  object \n",
            " 18  is_parking_camera                 58592 non-null  object \n",
            " 19  rear_brakes_type                  58592 non-null  object \n",
            " 20  displacement                      58592 non-null  int64  \n",
            " 21  cylinder                          58592 non-null  int64  \n",
            " 22  transmission_type                 58592 non-null  object \n",
            " 23  gear_box                          58592 non-null  int64  \n",
            " 24  steering_type                     58592 non-null  object \n",
            " 25  turning_radius                    58592 non-null  float64\n",
            " 26  length                            58592 non-null  int64  \n",
            " 27  width                             58592 non-null  int64  \n",
            " 28  height                            58592 non-null  int64  \n",
            " 29  gross_weight                      58592 non-null  int64  \n",
            " 30  is_front_fog_lights               58592 non-null  object \n",
            " 31  is_rear_window_wiper              58592 non-null  object \n",
            " 32  is_rear_window_washer             58592 non-null  object \n",
            " 33  is_rear_window_defogger           58592 non-null  object \n",
            " 34  is_brake_assist                   58592 non-null  object \n",
            " 35  is_power_door_locks               58592 non-null  object \n",
            " 36  is_central_locking                58592 non-null  object \n",
            " 37  is_power_steering                 58592 non-null  object \n",
            " 38  is_driver_seat_height_adjustable  58592 non-null  object \n",
            " 39  is_day_night_rear_view_mirror     58592 non-null  object \n",
            " 40  is_ecw                            58592 non-null  object \n",
            " 41  is_speed_alert                    58592 non-null  object \n",
            " 42  ncap_rating                       58592 non-null  int64  \n",
            " 43  is_claim                          58592 non-null  int64  \n",
            "dtypes: float64(4), int64(12), object(28)\n",
            "memory usage: 19.7+ MB\n"
          ]
        }
      ]
    },
    {
      "cell_type": "code",
      "source": [
        "df.isnull().sum()"
      ],
      "metadata": {
        "colab": {
          "base_uri": "https://localhost:8080/"
        },
        "id": "qDgFfrImvv-r",
        "outputId": "e32ae91d-1f55-42e0-a855-56ed40a9513f"
      },
      "execution_count": 41,
      "outputs": [
        {
          "output_type": "execute_result",
          "data": {
            "text/plain": [
              "policy_id                           0\n",
              "policy_tenure                       0\n",
              "age_of_car                          0\n",
              "age_of_policyholder                 0\n",
              "area_cluster                        0\n",
              "population_density                  0\n",
              "make                                0\n",
              "segment                             0\n",
              "model                               0\n",
              "fuel_type                           0\n",
              "max_torque                          0\n",
              "max_power                           0\n",
              "engine_type                         0\n",
              "airbags                             0\n",
              "is_esc                              0\n",
              "is_adjustable_steering              0\n",
              "is_tpms                             0\n",
              "is_parking_sensors                  0\n",
              "is_parking_camera                   0\n",
              "rear_brakes_type                    0\n",
              "displacement                        0\n",
              "cylinder                            0\n",
              "transmission_type                   0\n",
              "gear_box                            0\n",
              "steering_type                       0\n",
              "turning_radius                      0\n",
              "length                              0\n",
              "width                               0\n",
              "height                              0\n",
              "gross_weight                        0\n",
              "is_front_fog_lights                 0\n",
              "is_rear_window_wiper                0\n",
              "is_rear_window_washer               0\n",
              "is_rear_window_defogger             0\n",
              "is_brake_assist                     0\n",
              "is_power_door_locks                 0\n",
              "is_central_locking                  0\n",
              "is_power_steering                   0\n",
              "is_driver_seat_height_adjustable    0\n",
              "is_day_night_rear_view_mirror       0\n",
              "is_ecw                              0\n",
              "is_speed_alert                      0\n",
              "ncap_rating                         0\n",
              "is_claim                            0\n",
              "dtype: int64"
            ]
          },
          "metadata": {},
          "execution_count": 41
        }
      ]
    },
    {
      "cell_type": "code",
      "source": [
        "df.describe(include = 'all').T"
      ],
      "metadata": {
        "colab": {
          "base_uri": "https://localhost:8080/",
          "height": 1000
        },
        "id": "bjWvm2O_vtDV",
        "outputId": "a934f946-cecb-40d1-a318-0ca0f271dcfb"
      },
      "execution_count": 42,
      "outputs": [
        {
          "output_type": "execute_result",
          "data": {
            "text/plain": [
              "                                    count unique                top   freq  \\\n",
              "policy_id                           58592  58592            ID00001      1   \n",
              "policy_tenure                     58592.0    NaN                NaN    NaN   \n",
              "age_of_car                        58592.0    NaN                NaN    NaN   \n",
              "age_of_policyholder               58592.0    NaN                NaN    NaN   \n",
              "area_cluster                        58592     22                 C8  13654   \n",
              "population_density                58592.0    NaN                NaN    NaN   \n",
              "make                              58592.0    NaN                NaN    NaN   \n",
              "segment                             58592      6                 B2  18314   \n",
              "model                               58592     11                 M1  14948   \n",
              "fuel_type                           58592      3             Petrol  20532   \n",
              "max_torque                          58592      9      113Nm@4400rpm  17796   \n",
              "max_power                           58592      9   88.50bhp@6000rpm  17796   \n",
              "engine_type                         58592     11  F8D Petrol Engine  14948   \n",
              "airbags                           58592.0    NaN                NaN    NaN   \n",
              "is_esc                              58592      2                 No  40191   \n",
              "is_adjustable_steering              58592      2                Yes  35526   \n",
              "is_tpms                             58592      2                 No  44574   \n",
              "is_parking_sensors                  58592      2                Yes  56219   \n",
              "is_parking_camera                   58592      2                 No  35704   \n",
              "rear_brakes_type                    58592      2               Drum  44574   \n",
              "displacement                      58592.0    NaN                NaN    NaN   \n",
              "cylinder                          58592.0    NaN                NaN    NaN   \n",
              "transmission_type                   58592      2             Manual  38181   \n",
              "gear_box                          58592.0    NaN                NaN    NaN   \n",
              "steering_type                       58592      3              Power  33502   \n",
              "turning_radius                    58592.0    NaN                NaN    NaN   \n",
              "length                            58592.0    NaN                NaN    NaN   \n",
              "width                             58592.0    NaN                NaN    NaN   \n",
              "height                            58592.0    NaN                NaN    NaN   \n",
              "gross_weight                      58592.0    NaN                NaN    NaN   \n",
              "is_front_fog_lights                 58592      2                Yes  33928   \n",
              "is_rear_window_wiper                58592      2                 No  41634   \n",
              "is_rear_window_washer               58592      2                 No  41634   \n",
              "is_rear_window_defogger             58592      2                 No  38077   \n",
              "is_brake_assist                     58592      2                Yes  32177   \n",
              "is_power_door_locks                 58592      2                Yes  42435   \n",
              "is_central_locking                  58592      2                Yes  42435   \n",
              "is_power_steering                   58592      2                Yes  57383   \n",
              "is_driver_seat_height_adjustable    58592      2                Yes  34291   \n",
              "is_day_night_rear_view_mirror       58592      2                 No  36309   \n",
              "is_ecw                              58592      2                Yes  42435   \n",
              "is_speed_alert                      58592      2                Yes  58229   \n",
              "ncap_rating                       58592.0    NaN                NaN    NaN   \n",
              "is_claim                          58592.0    NaN                NaN    NaN   \n",
              "\n",
              "                                          mean           std       min  \\\n",
              "policy_id                                  NaN           NaN       NaN   \n",
              "policy_tenure                         0.611246      0.414156  0.002735   \n",
              "age_of_car                            0.069424      0.056721       0.0   \n",
              "age_of_policyholder                    0.46942      0.122886  0.288462   \n",
              "area_cluster                               NaN           NaN       NaN   \n",
              "population_density                18826.858667  17660.174792     290.0   \n",
              "make                                  1.763722      1.136988       1.0   \n",
              "segment                                    NaN           NaN       NaN   \n",
              "model                                      NaN           NaN       NaN   \n",
              "fuel_type                                  NaN           NaN       NaN   \n",
              "max_torque                                 NaN           NaN       NaN   \n",
              "max_power                                  NaN           NaN       NaN   \n",
              "engine_type                                NaN           NaN       NaN   \n",
              "airbags                               3.137066      1.832641       1.0   \n",
              "is_esc                                     NaN           NaN       NaN   \n",
              "is_adjustable_steering                     NaN           NaN       NaN   \n",
              "is_tpms                                    NaN           NaN       NaN   \n",
              "is_parking_sensors                         NaN           NaN       NaN   \n",
              "is_parking_camera                          NaN           NaN       NaN   \n",
              "rear_brakes_type                           NaN           NaN       NaN   \n",
              "displacement                       1162.355851    266.304786     796.0   \n",
              "cylinder                              3.626963      0.483616       3.0   \n",
              "transmission_type                          NaN           NaN       NaN   \n",
              "gear_box                              5.245443      0.430353       5.0   \n",
              "steering_type                              NaN           NaN       NaN   \n",
              "turning_radius                        4.852893      0.228061       4.5   \n",
              "length                             3850.476891    311.457119    3445.0   \n",
              "width                              1672.233667    112.089135    1475.0   \n",
              "height                              1553.33537      79.62227    1475.0   \n",
              "gross_weight                       1385.276813    212.423085    1051.0   \n",
              "is_front_fog_lights                        NaN           NaN       NaN   \n",
              "is_rear_window_wiper                       NaN           NaN       NaN   \n",
              "is_rear_window_washer                      NaN           NaN       NaN   \n",
              "is_rear_window_defogger                    NaN           NaN       NaN   \n",
              "is_brake_assist                            NaN           NaN       NaN   \n",
              "is_power_door_locks                        NaN           NaN       NaN   \n",
              "is_central_locking                         NaN           NaN       NaN   \n",
              "is_power_steering                          NaN           NaN       NaN   \n",
              "is_driver_seat_height_adjustable           NaN           NaN       NaN   \n",
              "is_day_night_rear_view_mirror              NaN           NaN       NaN   \n",
              "is_ecw                                     NaN           NaN       NaN   \n",
              "is_speed_alert                             NaN           NaN       NaN   \n",
              "ncap_rating                            1.75995      1.389576       0.0   \n",
              "is_claim                              0.063968      0.244698       0.0   \n",
              "\n",
              "                                       25%       50%       75%       max  \n",
              "policy_id                              NaN       NaN       NaN       NaN  \n",
              "policy_tenure                      0.21025  0.573792  1.039104  1.396641  \n",
              "age_of_car                            0.02      0.06      0.11       1.0  \n",
              "age_of_policyholder               0.365385  0.451923  0.548077       1.0  \n",
              "area_cluster                           NaN       NaN       NaN       NaN  \n",
              "population_density                  6112.0    8794.0   27003.0   73430.0  \n",
              "make                                   1.0       1.0       3.0       5.0  \n",
              "segment                                NaN       NaN       NaN       NaN  \n",
              "model                                  NaN       NaN       NaN       NaN  \n",
              "fuel_type                              NaN       NaN       NaN       NaN  \n",
              "max_torque                             NaN       NaN       NaN       NaN  \n",
              "max_power                              NaN       NaN       NaN       NaN  \n",
              "engine_type                            NaN       NaN       NaN       NaN  \n",
              "airbags                                2.0       2.0       6.0       6.0  \n",
              "is_esc                                 NaN       NaN       NaN       NaN  \n",
              "is_adjustable_steering                 NaN       NaN       NaN       NaN  \n",
              "is_tpms                                NaN       NaN       NaN       NaN  \n",
              "is_parking_sensors                     NaN       NaN       NaN       NaN  \n",
              "is_parking_camera                      NaN       NaN       NaN       NaN  \n",
              "rear_brakes_type                       NaN       NaN       NaN       NaN  \n",
              "displacement                         796.0    1197.0    1493.0    1498.0  \n",
              "cylinder                               3.0       4.0       4.0       4.0  \n",
              "transmission_type                      NaN       NaN       NaN       NaN  \n",
              "gear_box                               5.0       5.0       5.0       6.0  \n",
              "steering_type                          NaN       NaN       NaN       NaN  \n",
              "turning_radius                         4.6       4.8       5.0       5.2  \n",
              "length                              3445.0    3845.0    3995.0    4300.0  \n",
              "width                               1515.0    1735.0    1755.0    1811.0  \n",
              "height                              1475.0    1530.0    1635.0    1825.0  \n",
              "gross_weight                        1185.0    1335.0    1510.0    1720.0  \n",
              "is_front_fog_lights                    NaN       NaN       NaN       NaN  \n",
              "is_rear_window_wiper                   NaN       NaN       NaN       NaN  \n",
              "is_rear_window_washer                  NaN       NaN       NaN       NaN  \n",
              "is_rear_window_defogger                NaN       NaN       NaN       NaN  \n",
              "is_brake_assist                        NaN       NaN       NaN       NaN  \n",
              "is_power_door_locks                    NaN       NaN       NaN       NaN  \n",
              "is_central_locking                     NaN       NaN       NaN       NaN  \n",
              "is_power_steering                      NaN       NaN       NaN       NaN  \n",
              "is_driver_seat_height_adjustable       NaN       NaN       NaN       NaN  \n",
              "is_day_night_rear_view_mirror          NaN       NaN       NaN       NaN  \n",
              "is_ecw                                 NaN       NaN       NaN       NaN  \n",
              "is_speed_alert                         NaN       NaN       NaN       NaN  \n",
              "ncap_rating                            0.0       2.0       3.0       5.0  \n",
              "is_claim                               0.0       0.0       0.0       1.0  "
            ],
            "text/html": [
              "\n",
              "  <div id=\"df-830235da-622e-4ab2-8ec6-c02a2c557eb6\">\n",
              "    <div class=\"colab-df-container\">\n",
              "      <div>\n",
              "<style scoped>\n",
              "    .dataframe tbody tr th:only-of-type {\n",
              "        vertical-align: middle;\n",
              "    }\n",
              "\n",
              "    .dataframe tbody tr th {\n",
              "        vertical-align: top;\n",
              "    }\n",
              "\n",
              "    .dataframe thead th {\n",
              "        text-align: right;\n",
              "    }\n",
              "</style>\n",
              "<table border=\"1\" class=\"dataframe\">\n",
              "  <thead>\n",
              "    <tr style=\"text-align: right;\">\n",
              "      <th></th>\n",
              "      <th>count</th>\n",
              "      <th>unique</th>\n",
              "      <th>top</th>\n",
              "      <th>freq</th>\n",
              "      <th>mean</th>\n",
              "      <th>std</th>\n",
              "      <th>min</th>\n",
              "      <th>25%</th>\n",
              "      <th>50%</th>\n",
              "      <th>75%</th>\n",
              "      <th>max</th>\n",
              "    </tr>\n",
              "  </thead>\n",
              "  <tbody>\n",
              "    <tr>\n",
              "      <th>policy_id</th>\n",
              "      <td>58592</td>\n",
              "      <td>58592</td>\n",
              "      <td>ID00001</td>\n",
              "      <td>1</td>\n",
              "      <td>NaN</td>\n",
              "      <td>NaN</td>\n",
              "      <td>NaN</td>\n",
              "      <td>NaN</td>\n",
              "      <td>NaN</td>\n",
              "      <td>NaN</td>\n",
              "      <td>NaN</td>\n",
              "    </tr>\n",
              "    <tr>\n",
              "      <th>policy_tenure</th>\n",
              "      <td>58592.0</td>\n",
              "      <td>NaN</td>\n",
              "      <td>NaN</td>\n",
              "      <td>NaN</td>\n",
              "      <td>0.611246</td>\n",
              "      <td>0.414156</td>\n",
              "      <td>0.002735</td>\n",
              "      <td>0.21025</td>\n",
              "      <td>0.573792</td>\n",
              "      <td>1.039104</td>\n",
              "      <td>1.396641</td>\n",
              "    </tr>\n",
              "    <tr>\n",
              "      <th>age_of_car</th>\n",
              "      <td>58592.0</td>\n",
              "      <td>NaN</td>\n",
              "      <td>NaN</td>\n",
              "      <td>NaN</td>\n",
              "      <td>0.069424</td>\n",
              "      <td>0.056721</td>\n",
              "      <td>0.0</td>\n",
              "      <td>0.02</td>\n",
              "      <td>0.06</td>\n",
              "      <td>0.11</td>\n",
              "      <td>1.0</td>\n",
              "    </tr>\n",
              "    <tr>\n",
              "      <th>age_of_policyholder</th>\n",
              "      <td>58592.0</td>\n",
              "      <td>NaN</td>\n",
              "      <td>NaN</td>\n",
              "      <td>NaN</td>\n",
              "      <td>0.46942</td>\n",
              "      <td>0.122886</td>\n",
              "      <td>0.288462</td>\n",
              "      <td>0.365385</td>\n",
              "      <td>0.451923</td>\n",
              "      <td>0.548077</td>\n",
              "      <td>1.0</td>\n",
              "    </tr>\n",
              "    <tr>\n",
              "      <th>area_cluster</th>\n",
              "      <td>58592</td>\n",
              "      <td>22</td>\n",
              "      <td>C8</td>\n",
              "      <td>13654</td>\n",
              "      <td>NaN</td>\n",
              "      <td>NaN</td>\n",
              "      <td>NaN</td>\n",
              "      <td>NaN</td>\n",
              "      <td>NaN</td>\n",
              "      <td>NaN</td>\n",
              "      <td>NaN</td>\n",
              "    </tr>\n",
              "    <tr>\n",
              "      <th>population_density</th>\n",
              "      <td>58592.0</td>\n",
              "      <td>NaN</td>\n",
              "      <td>NaN</td>\n",
              "      <td>NaN</td>\n",
              "      <td>18826.858667</td>\n",
              "      <td>17660.174792</td>\n",
              "      <td>290.0</td>\n",
              "      <td>6112.0</td>\n",
              "      <td>8794.0</td>\n",
              "      <td>27003.0</td>\n",
              "      <td>73430.0</td>\n",
              "    </tr>\n",
              "    <tr>\n",
              "      <th>make</th>\n",
              "      <td>58592.0</td>\n",
              "      <td>NaN</td>\n",
              "      <td>NaN</td>\n",
              "      <td>NaN</td>\n",
              "      <td>1.763722</td>\n",
              "      <td>1.136988</td>\n",
              "      <td>1.0</td>\n",
              "      <td>1.0</td>\n",
              "      <td>1.0</td>\n",
              "      <td>3.0</td>\n",
              "      <td>5.0</td>\n",
              "    </tr>\n",
              "    <tr>\n",
              "      <th>segment</th>\n",
              "      <td>58592</td>\n",
              "      <td>6</td>\n",
              "      <td>B2</td>\n",
              "      <td>18314</td>\n",
              "      <td>NaN</td>\n",
              "      <td>NaN</td>\n",
              "      <td>NaN</td>\n",
              "      <td>NaN</td>\n",
              "      <td>NaN</td>\n",
              "      <td>NaN</td>\n",
              "      <td>NaN</td>\n",
              "    </tr>\n",
              "    <tr>\n",
              "      <th>model</th>\n",
              "      <td>58592</td>\n",
              "      <td>11</td>\n",
              "      <td>M1</td>\n",
              "      <td>14948</td>\n",
              "      <td>NaN</td>\n",
              "      <td>NaN</td>\n",
              "      <td>NaN</td>\n",
              "      <td>NaN</td>\n",
              "      <td>NaN</td>\n",
              "      <td>NaN</td>\n",
              "      <td>NaN</td>\n",
              "    </tr>\n",
              "    <tr>\n",
              "      <th>fuel_type</th>\n",
              "      <td>58592</td>\n",
              "      <td>3</td>\n",
              "      <td>Petrol</td>\n",
              "      <td>20532</td>\n",
              "      <td>NaN</td>\n",
              "      <td>NaN</td>\n",
              "      <td>NaN</td>\n",
              "      <td>NaN</td>\n",
              "      <td>NaN</td>\n",
              "      <td>NaN</td>\n",
              "      <td>NaN</td>\n",
              "    </tr>\n",
              "    <tr>\n",
              "      <th>max_torque</th>\n",
              "      <td>58592</td>\n",
              "      <td>9</td>\n",
              "      <td>113Nm@4400rpm</td>\n",
              "      <td>17796</td>\n",
              "      <td>NaN</td>\n",
              "      <td>NaN</td>\n",
              "      <td>NaN</td>\n",
              "      <td>NaN</td>\n",
              "      <td>NaN</td>\n",
              "      <td>NaN</td>\n",
              "      <td>NaN</td>\n",
              "    </tr>\n",
              "    <tr>\n",
              "      <th>max_power</th>\n",
              "      <td>58592</td>\n",
              "      <td>9</td>\n",
              "      <td>88.50bhp@6000rpm</td>\n",
              "      <td>17796</td>\n",
              "      <td>NaN</td>\n",
              "      <td>NaN</td>\n",
              "      <td>NaN</td>\n",
              "      <td>NaN</td>\n",
              "      <td>NaN</td>\n",
              "      <td>NaN</td>\n",
              "      <td>NaN</td>\n",
              "    </tr>\n",
              "    <tr>\n",
              "      <th>engine_type</th>\n",
              "      <td>58592</td>\n",
              "      <td>11</td>\n",
              "      <td>F8D Petrol Engine</td>\n",
              "      <td>14948</td>\n",
              "      <td>NaN</td>\n",
              "      <td>NaN</td>\n",
              "      <td>NaN</td>\n",
              "      <td>NaN</td>\n",
              "      <td>NaN</td>\n",
              "      <td>NaN</td>\n",
              "      <td>NaN</td>\n",
              "    </tr>\n",
              "    <tr>\n",
              "      <th>airbags</th>\n",
              "      <td>58592.0</td>\n",
              "      <td>NaN</td>\n",
              "      <td>NaN</td>\n",
              "      <td>NaN</td>\n",
              "      <td>3.137066</td>\n",
              "      <td>1.832641</td>\n",
              "      <td>1.0</td>\n",
              "      <td>2.0</td>\n",
              "      <td>2.0</td>\n",
              "      <td>6.0</td>\n",
              "      <td>6.0</td>\n",
              "    </tr>\n",
              "    <tr>\n",
              "      <th>is_esc</th>\n",
              "      <td>58592</td>\n",
              "      <td>2</td>\n",
              "      <td>No</td>\n",
              "      <td>40191</td>\n",
              "      <td>NaN</td>\n",
              "      <td>NaN</td>\n",
              "      <td>NaN</td>\n",
              "      <td>NaN</td>\n",
              "      <td>NaN</td>\n",
              "      <td>NaN</td>\n",
              "      <td>NaN</td>\n",
              "    </tr>\n",
              "    <tr>\n",
              "      <th>is_adjustable_steering</th>\n",
              "      <td>58592</td>\n",
              "      <td>2</td>\n",
              "      <td>Yes</td>\n",
              "      <td>35526</td>\n",
              "      <td>NaN</td>\n",
              "      <td>NaN</td>\n",
              "      <td>NaN</td>\n",
              "      <td>NaN</td>\n",
              "      <td>NaN</td>\n",
              "      <td>NaN</td>\n",
              "      <td>NaN</td>\n",
              "    </tr>\n",
              "    <tr>\n",
              "      <th>is_tpms</th>\n",
              "      <td>58592</td>\n",
              "      <td>2</td>\n",
              "      <td>No</td>\n",
              "      <td>44574</td>\n",
              "      <td>NaN</td>\n",
              "      <td>NaN</td>\n",
              "      <td>NaN</td>\n",
              "      <td>NaN</td>\n",
              "      <td>NaN</td>\n",
              "      <td>NaN</td>\n",
              "      <td>NaN</td>\n",
              "    </tr>\n",
              "    <tr>\n",
              "      <th>is_parking_sensors</th>\n",
              "      <td>58592</td>\n",
              "      <td>2</td>\n",
              "      <td>Yes</td>\n",
              "      <td>56219</td>\n",
              "      <td>NaN</td>\n",
              "      <td>NaN</td>\n",
              "      <td>NaN</td>\n",
              "      <td>NaN</td>\n",
              "      <td>NaN</td>\n",
              "      <td>NaN</td>\n",
              "      <td>NaN</td>\n",
              "    </tr>\n",
              "    <tr>\n",
              "      <th>is_parking_camera</th>\n",
              "      <td>58592</td>\n",
              "      <td>2</td>\n",
              "      <td>No</td>\n",
              "      <td>35704</td>\n",
              "      <td>NaN</td>\n",
              "      <td>NaN</td>\n",
              "      <td>NaN</td>\n",
              "      <td>NaN</td>\n",
              "      <td>NaN</td>\n",
              "      <td>NaN</td>\n",
              "      <td>NaN</td>\n",
              "    </tr>\n",
              "    <tr>\n",
              "      <th>rear_brakes_type</th>\n",
              "      <td>58592</td>\n",
              "      <td>2</td>\n",
              "      <td>Drum</td>\n",
              "      <td>44574</td>\n",
              "      <td>NaN</td>\n",
              "      <td>NaN</td>\n",
              "      <td>NaN</td>\n",
              "      <td>NaN</td>\n",
              "      <td>NaN</td>\n",
              "      <td>NaN</td>\n",
              "      <td>NaN</td>\n",
              "    </tr>\n",
              "    <tr>\n",
              "      <th>displacement</th>\n",
              "      <td>58592.0</td>\n",
              "      <td>NaN</td>\n",
              "      <td>NaN</td>\n",
              "      <td>NaN</td>\n",
              "      <td>1162.355851</td>\n",
              "      <td>266.304786</td>\n",
              "      <td>796.0</td>\n",
              "      <td>796.0</td>\n",
              "      <td>1197.0</td>\n",
              "      <td>1493.0</td>\n",
              "      <td>1498.0</td>\n",
              "    </tr>\n",
              "    <tr>\n",
              "      <th>cylinder</th>\n",
              "      <td>58592.0</td>\n",
              "      <td>NaN</td>\n",
              "      <td>NaN</td>\n",
              "      <td>NaN</td>\n",
              "      <td>3.626963</td>\n",
              "      <td>0.483616</td>\n",
              "      <td>3.0</td>\n",
              "      <td>3.0</td>\n",
              "      <td>4.0</td>\n",
              "      <td>4.0</td>\n",
              "      <td>4.0</td>\n",
              "    </tr>\n",
              "    <tr>\n",
              "      <th>transmission_type</th>\n",
              "      <td>58592</td>\n",
              "      <td>2</td>\n",
              "      <td>Manual</td>\n",
              "      <td>38181</td>\n",
              "      <td>NaN</td>\n",
              "      <td>NaN</td>\n",
              "      <td>NaN</td>\n",
              "      <td>NaN</td>\n",
              "      <td>NaN</td>\n",
              "      <td>NaN</td>\n",
              "      <td>NaN</td>\n",
              "    </tr>\n",
              "    <tr>\n",
              "      <th>gear_box</th>\n",
              "      <td>58592.0</td>\n",
              "      <td>NaN</td>\n",
              "      <td>NaN</td>\n",
              "      <td>NaN</td>\n",
              "      <td>5.245443</td>\n",
              "      <td>0.430353</td>\n",
              "      <td>5.0</td>\n",
              "      <td>5.0</td>\n",
              "      <td>5.0</td>\n",
              "      <td>5.0</td>\n",
              "      <td>6.0</td>\n",
              "    </tr>\n",
              "    <tr>\n",
              "      <th>steering_type</th>\n",
              "      <td>58592</td>\n",
              "      <td>3</td>\n",
              "      <td>Power</td>\n",
              "      <td>33502</td>\n",
              "      <td>NaN</td>\n",
              "      <td>NaN</td>\n",
              "      <td>NaN</td>\n",
              "      <td>NaN</td>\n",
              "      <td>NaN</td>\n",
              "      <td>NaN</td>\n",
              "      <td>NaN</td>\n",
              "    </tr>\n",
              "    <tr>\n",
              "      <th>turning_radius</th>\n",
              "      <td>58592.0</td>\n",
              "      <td>NaN</td>\n",
              "      <td>NaN</td>\n",
              "      <td>NaN</td>\n",
              "      <td>4.852893</td>\n",
              "      <td>0.228061</td>\n",
              "      <td>4.5</td>\n",
              "      <td>4.6</td>\n",
              "      <td>4.8</td>\n",
              "      <td>5.0</td>\n",
              "      <td>5.2</td>\n",
              "    </tr>\n",
              "    <tr>\n",
              "      <th>length</th>\n",
              "      <td>58592.0</td>\n",
              "      <td>NaN</td>\n",
              "      <td>NaN</td>\n",
              "      <td>NaN</td>\n",
              "      <td>3850.476891</td>\n",
              "      <td>311.457119</td>\n",
              "      <td>3445.0</td>\n",
              "      <td>3445.0</td>\n",
              "      <td>3845.0</td>\n",
              "      <td>3995.0</td>\n",
              "      <td>4300.0</td>\n",
              "    </tr>\n",
              "    <tr>\n",
              "      <th>width</th>\n",
              "      <td>58592.0</td>\n",
              "      <td>NaN</td>\n",
              "      <td>NaN</td>\n",
              "      <td>NaN</td>\n",
              "      <td>1672.233667</td>\n",
              "      <td>112.089135</td>\n",
              "      <td>1475.0</td>\n",
              "      <td>1515.0</td>\n",
              "      <td>1735.0</td>\n",
              "      <td>1755.0</td>\n",
              "      <td>1811.0</td>\n",
              "    </tr>\n",
              "    <tr>\n",
              "      <th>height</th>\n",
              "      <td>58592.0</td>\n",
              "      <td>NaN</td>\n",
              "      <td>NaN</td>\n",
              "      <td>NaN</td>\n",
              "      <td>1553.33537</td>\n",
              "      <td>79.62227</td>\n",
              "      <td>1475.0</td>\n",
              "      <td>1475.0</td>\n",
              "      <td>1530.0</td>\n",
              "      <td>1635.0</td>\n",
              "      <td>1825.0</td>\n",
              "    </tr>\n",
              "    <tr>\n",
              "      <th>gross_weight</th>\n",
              "      <td>58592.0</td>\n",
              "      <td>NaN</td>\n",
              "      <td>NaN</td>\n",
              "      <td>NaN</td>\n",
              "      <td>1385.276813</td>\n",
              "      <td>212.423085</td>\n",
              "      <td>1051.0</td>\n",
              "      <td>1185.0</td>\n",
              "      <td>1335.0</td>\n",
              "      <td>1510.0</td>\n",
              "      <td>1720.0</td>\n",
              "    </tr>\n",
              "    <tr>\n",
              "      <th>is_front_fog_lights</th>\n",
              "      <td>58592</td>\n",
              "      <td>2</td>\n",
              "      <td>Yes</td>\n",
              "      <td>33928</td>\n",
              "      <td>NaN</td>\n",
              "      <td>NaN</td>\n",
              "      <td>NaN</td>\n",
              "      <td>NaN</td>\n",
              "      <td>NaN</td>\n",
              "      <td>NaN</td>\n",
              "      <td>NaN</td>\n",
              "    </tr>\n",
              "    <tr>\n",
              "      <th>is_rear_window_wiper</th>\n",
              "      <td>58592</td>\n",
              "      <td>2</td>\n",
              "      <td>No</td>\n",
              "      <td>41634</td>\n",
              "      <td>NaN</td>\n",
              "      <td>NaN</td>\n",
              "      <td>NaN</td>\n",
              "      <td>NaN</td>\n",
              "      <td>NaN</td>\n",
              "      <td>NaN</td>\n",
              "      <td>NaN</td>\n",
              "    </tr>\n",
              "    <tr>\n",
              "      <th>is_rear_window_washer</th>\n",
              "      <td>58592</td>\n",
              "      <td>2</td>\n",
              "      <td>No</td>\n",
              "      <td>41634</td>\n",
              "      <td>NaN</td>\n",
              "      <td>NaN</td>\n",
              "      <td>NaN</td>\n",
              "      <td>NaN</td>\n",
              "      <td>NaN</td>\n",
              "      <td>NaN</td>\n",
              "      <td>NaN</td>\n",
              "    </tr>\n",
              "    <tr>\n",
              "      <th>is_rear_window_defogger</th>\n",
              "      <td>58592</td>\n",
              "      <td>2</td>\n",
              "      <td>No</td>\n",
              "      <td>38077</td>\n",
              "      <td>NaN</td>\n",
              "      <td>NaN</td>\n",
              "      <td>NaN</td>\n",
              "      <td>NaN</td>\n",
              "      <td>NaN</td>\n",
              "      <td>NaN</td>\n",
              "      <td>NaN</td>\n",
              "    </tr>\n",
              "    <tr>\n",
              "      <th>is_brake_assist</th>\n",
              "      <td>58592</td>\n",
              "      <td>2</td>\n",
              "      <td>Yes</td>\n",
              "      <td>32177</td>\n",
              "      <td>NaN</td>\n",
              "      <td>NaN</td>\n",
              "      <td>NaN</td>\n",
              "      <td>NaN</td>\n",
              "      <td>NaN</td>\n",
              "      <td>NaN</td>\n",
              "      <td>NaN</td>\n",
              "    </tr>\n",
              "    <tr>\n",
              "      <th>is_power_door_locks</th>\n",
              "      <td>58592</td>\n",
              "      <td>2</td>\n",
              "      <td>Yes</td>\n",
              "      <td>42435</td>\n",
              "      <td>NaN</td>\n",
              "      <td>NaN</td>\n",
              "      <td>NaN</td>\n",
              "      <td>NaN</td>\n",
              "      <td>NaN</td>\n",
              "      <td>NaN</td>\n",
              "      <td>NaN</td>\n",
              "    </tr>\n",
              "    <tr>\n",
              "      <th>is_central_locking</th>\n",
              "      <td>58592</td>\n",
              "      <td>2</td>\n",
              "      <td>Yes</td>\n",
              "      <td>42435</td>\n",
              "      <td>NaN</td>\n",
              "      <td>NaN</td>\n",
              "      <td>NaN</td>\n",
              "      <td>NaN</td>\n",
              "      <td>NaN</td>\n",
              "      <td>NaN</td>\n",
              "      <td>NaN</td>\n",
              "    </tr>\n",
              "    <tr>\n",
              "      <th>is_power_steering</th>\n",
              "      <td>58592</td>\n",
              "      <td>2</td>\n",
              "      <td>Yes</td>\n",
              "      <td>57383</td>\n",
              "      <td>NaN</td>\n",
              "      <td>NaN</td>\n",
              "      <td>NaN</td>\n",
              "      <td>NaN</td>\n",
              "      <td>NaN</td>\n",
              "      <td>NaN</td>\n",
              "      <td>NaN</td>\n",
              "    </tr>\n",
              "    <tr>\n",
              "      <th>is_driver_seat_height_adjustable</th>\n",
              "      <td>58592</td>\n",
              "      <td>2</td>\n",
              "      <td>Yes</td>\n",
              "      <td>34291</td>\n",
              "      <td>NaN</td>\n",
              "      <td>NaN</td>\n",
              "      <td>NaN</td>\n",
              "      <td>NaN</td>\n",
              "      <td>NaN</td>\n",
              "      <td>NaN</td>\n",
              "      <td>NaN</td>\n",
              "    </tr>\n",
              "    <tr>\n",
              "      <th>is_day_night_rear_view_mirror</th>\n",
              "      <td>58592</td>\n",
              "      <td>2</td>\n",
              "      <td>No</td>\n",
              "      <td>36309</td>\n",
              "      <td>NaN</td>\n",
              "      <td>NaN</td>\n",
              "      <td>NaN</td>\n",
              "      <td>NaN</td>\n",
              "      <td>NaN</td>\n",
              "      <td>NaN</td>\n",
              "      <td>NaN</td>\n",
              "    </tr>\n",
              "    <tr>\n",
              "      <th>is_ecw</th>\n",
              "      <td>58592</td>\n",
              "      <td>2</td>\n",
              "      <td>Yes</td>\n",
              "      <td>42435</td>\n",
              "      <td>NaN</td>\n",
              "      <td>NaN</td>\n",
              "      <td>NaN</td>\n",
              "      <td>NaN</td>\n",
              "      <td>NaN</td>\n",
              "      <td>NaN</td>\n",
              "      <td>NaN</td>\n",
              "    </tr>\n",
              "    <tr>\n",
              "      <th>is_speed_alert</th>\n",
              "      <td>58592</td>\n",
              "      <td>2</td>\n",
              "      <td>Yes</td>\n",
              "      <td>58229</td>\n",
              "      <td>NaN</td>\n",
              "      <td>NaN</td>\n",
              "      <td>NaN</td>\n",
              "      <td>NaN</td>\n",
              "      <td>NaN</td>\n",
              "      <td>NaN</td>\n",
              "      <td>NaN</td>\n",
              "    </tr>\n",
              "    <tr>\n",
              "      <th>ncap_rating</th>\n",
              "      <td>58592.0</td>\n",
              "      <td>NaN</td>\n",
              "      <td>NaN</td>\n",
              "      <td>NaN</td>\n",
              "      <td>1.75995</td>\n",
              "      <td>1.389576</td>\n",
              "      <td>0.0</td>\n",
              "      <td>0.0</td>\n",
              "      <td>2.0</td>\n",
              "      <td>3.0</td>\n",
              "      <td>5.0</td>\n",
              "    </tr>\n",
              "    <tr>\n",
              "      <th>is_claim</th>\n",
              "      <td>58592.0</td>\n",
              "      <td>NaN</td>\n",
              "      <td>NaN</td>\n",
              "      <td>NaN</td>\n",
              "      <td>0.063968</td>\n",
              "      <td>0.244698</td>\n",
              "      <td>0.0</td>\n",
              "      <td>0.0</td>\n",
              "      <td>0.0</td>\n",
              "      <td>0.0</td>\n",
              "      <td>1.0</td>\n",
              "    </tr>\n",
              "  </tbody>\n",
              "</table>\n",
              "</div>\n",
              "      <button class=\"colab-df-convert\" onclick=\"convertToInteractive('df-830235da-622e-4ab2-8ec6-c02a2c557eb6')\"\n",
              "              title=\"Convert this dataframe to an interactive table.\"\n",
              "              style=\"display:none;\">\n",
              "        \n",
              "  <svg xmlns=\"http://www.w3.org/2000/svg\" height=\"24px\"viewBox=\"0 0 24 24\"\n",
              "       width=\"24px\">\n",
              "    <path d=\"M0 0h24v24H0V0z\" fill=\"none\"/>\n",
              "    <path d=\"M18.56 5.44l.94 2.06.94-2.06 2.06-.94-2.06-.94-.94-2.06-.94 2.06-2.06.94zm-11 1L8.5 8.5l.94-2.06 2.06-.94-2.06-.94L8.5 2.5l-.94 2.06-2.06.94zm10 10l.94 2.06.94-2.06 2.06-.94-2.06-.94-.94-2.06-.94 2.06-2.06.94z\"/><path d=\"M17.41 7.96l-1.37-1.37c-.4-.4-.92-.59-1.43-.59-.52 0-1.04.2-1.43.59L10.3 9.45l-7.72 7.72c-.78.78-.78 2.05 0 2.83L4 21.41c.39.39.9.59 1.41.59.51 0 1.02-.2 1.41-.59l7.78-7.78 2.81-2.81c.8-.78.8-2.07 0-2.86zM5.41 20L4 18.59l7.72-7.72 1.47 1.35L5.41 20z\"/>\n",
              "  </svg>\n",
              "      </button>\n",
              "      \n",
              "  <style>\n",
              "    .colab-df-container {\n",
              "      display:flex;\n",
              "      flex-wrap:wrap;\n",
              "      gap: 12px;\n",
              "    }\n",
              "\n",
              "    .colab-df-convert {\n",
              "      background-color: #E8F0FE;\n",
              "      border: none;\n",
              "      border-radius: 50%;\n",
              "      cursor: pointer;\n",
              "      display: none;\n",
              "      fill: #1967D2;\n",
              "      height: 32px;\n",
              "      padding: 0 0 0 0;\n",
              "      width: 32px;\n",
              "    }\n",
              "\n",
              "    .colab-df-convert:hover {\n",
              "      background-color: #E2EBFA;\n",
              "      box-shadow: 0px 1px 2px rgba(60, 64, 67, 0.3), 0px 1px 3px 1px rgba(60, 64, 67, 0.15);\n",
              "      fill: #174EA6;\n",
              "    }\n",
              "\n",
              "    [theme=dark] .colab-df-convert {\n",
              "      background-color: #3B4455;\n",
              "      fill: #D2E3FC;\n",
              "    }\n",
              "\n",
              "    [theme=dark] .colab-df-convert:hover {\n",
              "      background-color: #434B5C;\n",
              "      box-shadow: 0px 1px 3px 1px rgba(0, 0, 0, 0.15);\n",
              "      filter: drop-shadow(0px 1px 2px rgba(0, 0, 0, 0.3));\n",
              "      fill: #FFFFFF;\n",
              "    }\n",
              "  </style>\n",
              "\n",
              "      <script>\n",
              "        const buttonEl =\n",
              "          document.querySelector('#df-830235da-622e-4ab2-8ec6-c02a2c557eb6 button.colab-df-convert');\n",
              "        buttonEl.style.display =\n",
              "          google.colab.kernel.accessAllowed ? 'block' : 'none';\n",
              "\n",
              "        async function convertToInteractive(key) {\n",
              "          const element = document.querySelector('#df-830235da-622e-4ab2-8ec6-c02a2c557eb6');\n",
              "          const dataTable =\n",
              "            await google.colab.kernel.invokeFunction('convertToInteractive',\n",
              "                                                     [key], {});\n",
              "          if (!dataTable) return;\n",
              "\n",
              "          const docLinkHtml = 'Like what you see? Visit the ' +\n",
              "            '<a target=\"_blank\" href=https://colab.research.google.com/notebooks/data_table.ipynb>data table notebook</a>'\n",
              "            + ' to learn more about interactive tables.';\n",
              "          element.innerHTML = '';\n",
              "          dataTable['output_type'] = 'display_data';\n",
              "          await google.colab.output.renderOutput(dataTable, element);\n",
              "          const docLink = document.createElement('div');\n",
              "          docLink.innerHTML = docLinkHtml;\n",
              "          element.appendChild(docLink);\n",
              "        }\n",
              "      </script>\n",
              "    </div>\n",
              "  </div>\n",
              "  "
            ]
          },
          "metadata": {},
          "execution_count": 42
        }
      ]
    },
    {
      "cell_type": "code",
      "source": [
        "# 중복값 제거\n",
        "dfi = df.drop_duplicates()"
      ],
      "metadata": {
        "id": "PDGHcLNiv0VD"
      },
      "execution_count": 43,
      "outputs": []
    },
    {
      "cell_type": "code",
      "source": [
        "# 값 확인.\n",
        "print(df.shape, dfi.shape)"
      ],
      "metadata": {
        "colab": {
          "base_uri": "https://localhost:8080/"
        },
        "id": "x28MUqohxdEd",
        "outputId": "1f6d9206-53fc-4b96-a856-dde302f4337d"
      },
      "execution_count": 44,
      "outputs": [
        {
          "output_type": "stream",
          "name": "stdout",
          "text": [
            "(58592, 44) (58592, 44)\n"
          ]
        }
      ]
    },
    {
      "cell_type": "code",
      "source": [
        "# 불필요한 컬럼 제거.\n",
        "drop_list = ['policy_id','area_cluster', 'make', 'model', 'fuel_type', 'airbags', 'cylinder']\n",
        "\n",
        "# df에 덮어씌울꺼임\n",
        "df = dfi.drop(labels = drop_list, axis = 1)"
      ],
      "metadata": {
        "id": "zr7lE4eUxkj7"
      },
      "execution_count": 45,
      "outputs": []
    },
    {
      "cell_type": "code",
      "source": [
        "#데이터 feature 및 타겟 지정.\n",
        "cat_features = ['segment', 'max_torque', 'max_power', 'engine_type', 'is_esc',\n",
        "       'is_adjustable_steering', 'is_tpms', 'is_parking_sensors',\n",
        "       'is_parking_camera', 'rear_brakes_type', 'transmission_type',\n",
        "       'steering_type', 'is_front_fog_lights', 'is_rear_window_wiper',\n",
        "       'is_rear_window_washer', 'is_rear_window_defogger', 'is_brake_assist',\n",
        "       'is_power_door_locks', 'is_central_locking', 'is_power_steering',\n",
        "       'is_driver_seat_height_adjustable', 'is_day_night_rear_view_mirror',\n",
        "       'is_ecw', 'is_speed_alert']\n",
        "\n",
        "\n",
        "num_features = ['policy_tenure', 'age_of_car', 'age_of_policyholder',\n",
        "       'population_density', 'displacement', 'gear_box', 'turning_radius',\n",
        "       'length', 'width', 'height', 'gross_weight', 'ncap_rating', 'is_claim']\n",
        "\n",
        "\n",
        "target = 'is_claim'\n",
        "\n",
        "# 타겟 분포비율 확인. ----> 극단적으로 치우친 불균형 데이터.\n",
        "df[target].value_counts(normalize = True)\n",
        "\n",
        "# 데이터 분할 : 필요한 라이브러리 가져오기.\n",
        "from sklearn.model_selection import train_test_split\n",
        "\n",
        "train, val = train_test_split(df, train_size = 0.8, \n",
        "                               test_size= 0.2, \n",
        "                               random_state= 42,\n",
        "                               stratify = df[target])\n",
        "\n",
        "# train\n",
        "X_train = train[cat_features + num_features]\n",
        "y_train = train[target]\n",
        "\n",
        "\n",
        "# val\n",
        "X_val = val[cat_features + num_features]\n",
        "y_val = val[target]\n",
        "\n",
        "# 각 데이터별 타겟의 분류 비율 확인. : 동일한 비율로 나뉘어짐.\n",
        "y_val.value_counts(normalize = True)\n",
        "y_train.value_counts(normalize = True)"
      ],
      "metadata": {
        "colab": {
          "base_uri": "https://localhost:8080/"
        },
        "id": "HuPwM3_uz_66",
        "outputId": "40314d82-bc4b-4c31-e0d1-eaafeb099996"
      },
      "execution_count": 46,
      "outputs": [
        {
          "output_type": "execute_result",
          "data": {
            "text/plain": [
              "0    0.93604\n",
              "1    0.06396\n",
              "Name: is_claim, dtype: float64"
            ]
          },
          "metadata": {},
          "execution_count": 46
        }
      ]
    },
    {
      "cell_type": "markdown",
      "source": [
        "## 2. MODELING"
      ],
      "metadata": {
        "id": "JXi2MX7q-I8U"
      }
    },
    {
      "cell_type": "code",
      "source": [
        "#  데이터 모델링 : 모델 생성, 필요한 라이브러리 가져오기.\n",
        "from category_encoders import OrdinalEncoder\n",
        "from xgboost import XGBClassifier\n",
        "\n",
        "# 인코딩 - ordinal, 객체 인스턴스 생성.\n",
        "enc = OrdinalEncoder()\n",
        "X_train_encoded = enc.fit_transform(X_train)\n",
        "X_val_encoded = enc.transform(X_val)\n",
        "\n",
        "# XGBClassifier 생성.\n",
        "model = XGBClassifier(\n",
        "    objective = 'binary:logistic',\n",
        "    eval_metric = 'auc',\n",
        "    n_estimators = 1000,\n",
        "    random_state =42,\n",
        "    n_jobs = -1,\n",
        "    max_depth = 6,\n",
        "    learning_rate= 0.1,\n",
        "    early_stopping_rounds = 50\n",
        ")\n",
        "\n",
        "watchlist = [(X_train_encoded,y_train), (X_val_encoded,y_val)]\n",
        "\n",
        "# fit\n",
        "model.fit(X_train_encoded,\n",
        "          y_train,\n",
        "          eval_set = watchlist)\n"
      ],
      "metadata": {
        "colab": {
          "base_uri": "https://localhost:8080/"
        },
        "id": "nnT5w3cl_4Dw",
        "outputId": "3b246391-1c4a-4444-d4fc-3a1616ee7a5d"
      },
      "execution_count": 47,
      "outputs": [
        {
          "output_type": "stream",
          "name": "stdout",
          "text": [
            "[0]\tvalidation_0-auc:1.00000\tvalidation_1-auc:1.00000\n",
            "[1]\tvalidation_0-auc:1.00000\tvalidation_1-auc:1.00000\n",
            "[2]\tvalidation_0-auc:1.00000\tvalidation_1-auc:1.00000\n",
            "[3]\tvalidation_0-auc:1.00000\tvalidation_1-auc:1.00000\n",
            "[4]\tvalidation_0-auc:1.00000\tvalidation_1-auc:1.00000\n",
            "[5]\tvalidation_0-auc:1.00000\tvalidation_1-auc:1.00000\n",
            "[6]\tvalidation_0-auc:1.00000\tvalidation_1-auc:1.00000\n",
            "[7]\tvalidation_0-auc:1.00000\tvalidation_1-auc:1.00000\n",
            "[8]\tvalidation_0-auc:1.00000\tvalidation_1-auc:1.00000\n",
            "[9]\tvalidation_0-auc:1.00000\tvalidation_1-auc:1.00000\n",
            "[10]\tvalidation_0-auc:1.00000\tvalidation_1-auc:1.00000\n",
            "[11]\tvalidation_0-auc:1.00000\tvalidation_1-auc:1.00000\n",
            "[12]\tvalidation_0-auc:1.00000\tvalidation_1-auc:1.00000\n",
            "[13]\tvalidation_0-auc:1.00000\tvalidation_1-auc:1.00000\n",
            "[14]\tvalidation_0-auc:1.00000\tvalidation_1-auc:1.00000\n",
            "[15]\tvalidation_0-auc:1.00000\tvalidation_1-auc:1.00000\n",
            "[16]\tvalidation_0-auc:1.00000\tvalidation_1-auc:1.00000\n",
            "[17]\tvalidation_0-auc:1.00000\tvalidation_1-auc:1.00000\n",
            "[18]\tvalidation_0-auc:1.00000\tvalidation_1-auc:1.00000\n",
            "[19]\tvalidation_0-auc:1.00000\tvalidation_1-auc:1.00000\n",
            "[20]\tvalidation_0-auc:1.00000\tvalidation_1-auc:1.00000\n",
            "[21]\tvalidation_0-auc:1.00000\tvalidation_1-auc:1.00000\n",
            "[22]\tvalidation_0-auc:1.00000\tvalidation_1-auc:1.00000\n",
            "[23]\tvalidation_0-auc:1.00000\tvalidation_1-auc:1.00000\n",
            "[24]\tvalidation_0-auc:1.00000\tvalidation_1-auc:1.00000\n",
            "[25]\tvalidation_0-auc:1.00000\tvalidation_1-auc:1.00000\n",
            "[26]\tvalidation_0-auc:1.00000\tvalidation_1-auc:1.00000\n",
            "[27]\tvalidation_0-auc:1.00000\tvalidation_1-auc:1.00000\n",
            "[28]\tvalidation_0-auc:1.00000\tvalidation_1-auc:1.00000\n",
            "[29]\tvalidation_0-auc:1.00000\tvalidation_1-auc:1.00000\n",
            "[30]\tvalidation_0-auc:1.00000\tvalidation_1-auc:1.00000\n",
            "[31]\tvalidation_0-auc:1.00000\tvalidation_1-auc:1.00000\n",
            "[32]\tvalidation_0-auc:1.00000\tvalidation_1-auc:1.00000\n",
            "[33]\tvalidation_0-auc:1.00000\tvalidation_1-auc:1.00000\n",
            "[34]\tvalidation_0-auc:1.00000\tvalidation_1-auc:1.00000\n",
            "[35]\tvalidation_0-auc:1.00000\tvalidation_1-auc:1.00000\n",
            "[36]\tvalidation_0-auc:1.00000\tvalidation_1-auc:1.00000\n",
            "[37]\tvalidation_0-auc:1.00000\tvalidation_1-auc:1.00000\n",
            "[38]\tvalidation_0-auc:1.00000\tvalidation_1-auc:1.00000\n",
            "[39]\tvalidation_0-auc:1.00000\tvalidation_1-auc:1.00000\n",
            "[40]\tvalidation_0-auc:1.00000\tvalidation_1-auc:1.00000\n",
            "[41]\tvalidation_0-auc:1.00000\tvalidation_1-auc:1.00000\n",
            "[42]\tvalidation_0-auc:1.00000\tvalidation_1-auc:1.00000\n",
            "[43]\tvalidation_0-auc:1.00000\tvalidation_1-auc:1.00000\n",
            "[44]\tvalidation_0-auc:1.00000\tvalidation_1-auc:1.00000\n",
            "[45]\tvalidation_0-auc:1.00000\tvalidation_1-auc:1.00000\n",
            "[46]\tvalidation_0-auc:1.00000\tvalidation_1-auc:1.00000\n",
            "[47]\tvalidation_0-auc:1.00000\tvalidation_1-auc:1.00000\n",
            "[48]\tvalidation_0-auc:1.00000\tvalidation_1-auc:1.00000\n",
            "[49]\tvalidation_0-auc:1.00000\tvalidation_1-auc:1.00000\n"
          ]
        },
        {
          "output_type": "execute_result",
          "data": {
            "text/plain": [
              "XGBClassifier(base_score=0.5, booster='gbtree', callbacks=None,\n",
              "              colsample_bylevel=1, colsample_bynode=1, colsample_bytree=1,\n",
              "              early_stopping_rounds=50, enable_categorical=False,\n",
              "              eval_metric='auc', feature_types=None, gamma=0, gpu_id=-1,\n",
              "              grow_policy='depthwise', importance_type=None,\n",
              "              interaction_constraints='', learning_rate=0.1, max_bin=256,\n",
              "              max_cat_threshold=64, max_cat_to_onehot=4, max_delta_step=0,\n",
              "              max_depth=6, max_leaves=0, min_child_weight=1, missing=nan,\n",
              "              monotone_constraints='()', n_estimators=1000, n_jobs=-1,\n",
              "              num_parallel_tree=1, predictor='auto', random_state=42, ...)"
            ]
          },
          "metadata": {},
          "execution_count": 47
        }
      ]
    },
    {
      "cell_type": "markdown",
      "source": [
        "`early_stopping_rounds`를 적용할 시, `best iteration`은 다음과 같습니다."
      ],
      "metadata": {
        "id": "zHxM1EPLErzY"
      }
    },
    {
      "cell_type": "code",
      "source": [
        "model.best_iteration"
      ],
      "metadata": {
        "colab": {
          "base_uri": "https://localhost:8080/"
        },
        "id": "v-2JExOoFJCa",
        "outputId": "88440a2c-e366-423b-f629-37ecdd5c6758"
      },
      "execution_count": 48,
      "outputs": [
        {
          "output_type": "execute_result",
          "data": {
            "text/plain": [
              "0"
            ]
          },
          "metadata": {},
          "execution_count": 48
        }
      ]
    },
    {
      "cell_type": "markdown",
      "source": [
        "#### 2-1. Performance Assessment\n",
        "### **2-2. 성능 평가**\n",
        "- val set에 대하여 AUC score를 구하기\n",
        "- `classification_report()`를 사용하여 성능을 확인.\n",
        "- confusion matrix를 그리기."
      ],
      "metadata": {
        "id": "JOZ9BSqAFLCV"
      }
    },
    {
      "cell_type": "code",
      "source": [
        "# 필요한 라이브러리 가져오기.\n",
        "from sklearn.metrics import classification_report\n",
        "\n",
        "# 검증 정확도 및 \n",
        "print('검증 정확도', model.score(X_val_encoded,y_val))\n",
        "\n",
        "\n",
        "# 예측값 생성.\n",
        "y_pred = model.predict(X_val_encoded,iteration_range=(0, model.best_iteration))\n",
        "\n",
        "# classification_report\n",
        "print(classification_report(y_pred,\n",
        "                            y_val))"
      ],
      "metadata": {
        "colab": {
          "base_uri": "https://localhost:8080/"
        },
        "id": "bti2216YFyPg",
        "outputId": "8ae58299-26da-406c-a53a-936ce31e1e14"
      },
      "execution_count": 49,
      "outputs": [
        {
          "output_type": "stream",
          "name": "stdout",
          "text": [
            "검증 정확도 1.0\n",
            "              precision    recall  f1-score   support\n",
            "\n",
            "           0       1.00      1.00      1.00     10969\n",
            "           1       1.00      1.00      1.00       750\n",
            "\n",
            "    accuracy                           1.00     11719\n",
            "   macro avg       1.00      1.00      1.00     11719\n",
            "weighted avg       1.00      1.00      1.00     11719\n",
            "\n"
          ]
        }
      ]
    },
    {
      "cell_type": "markdown",
      "source": [
        "auc score를 생성하는 함수를 생성합니다."
      ],
      "metadata": {
        "id": "ITzEpCwbs5S1"
      }
    },
    {
      "cell_type": "code",
      "source": [
        "from sklearn.metrics import roc_curve, roc_auc_score\n",
        "import matplotlib.pyplot as plt\n",
        "\n",
        "def get_roc_auc(model, X_val_encoded, y_val):\n",
        "  \n",
        "  if isinstance(model, XGBClassifier):\n",
        "    y_pred_proba = model.predict_proba(\n",
        "        X_val_encoded,\n",
        "        iteration_range = (0, model.best_iteration)\n",
        "    )[:,1]\n",
        "\n",
        "  else:\n",
        "    y_pred_proba = model.predict_proba(X_val_encoded)[:,1]\n",
        "  \n",
        "  \n",
        "  print(f'ROC-AUC: {roc_auc_score(y_val, y_pred_proba)}')\n",
        "  \n",
        "  #시각화 진행.\n",
        "  baseline_fpr, baseline_tpr, _ = roc_curve(y_val, [0]*len(y_val))\n",
        "  fpr, tpr, thresholds = roc_curve(y_val, y_pred_proba)\n",
        "  tmp = pd.DataFrame({'fpr':fpr, 'tpr':tpr, 'thresholds':thresholds})\n",
        "  plt.plot(baseline_fpr, baseline_tpr, linestyle=\"--\", color=\"green\", label=\"Baseline\"\n",
        "  )\n",
        "  plt.plot(fpr, tpr, color=\"blue\", label=\"Model\")\n",
        "  plt.scatter(fpr, tpr, color=\"red\")\n",
        "  plt.legend()\n",
        "  plt.title(\"ROC curve\")\n",
        "  plt.xlabel(\"FPR\")\n",
        "  plt.ylabel(\"TPR\")\n",
        "  plt.show()\n",
        "  return tmp\n",
        "  \n"
      ],
      "metadata": {
        "id": "w7GmrRfSs8j_"
      },
      "execution_count": 50,
      "outputs": []
    },
    {
      "cell_type": "code",
      "source": [
        "%matplotlib inline\n",
        "get_roc_auc(model, X_val_encoded, y_val)"
      ],
      "metadata": {
        "colab": {
          "base_uri": "https://localhost:8080/",
          "height": 440
        },
        "id": "r3MNkTvi-jNb",
        "outputId": "d086be8c-d231-4592-d123-e599d7d84ee9"
      },
      "execution_count": 51,
      "outputs": [
        {
          "output_type": "stream",
          "name": "stdout",
          "text": [
            "ROC-AUC: 1.0\n"
          ]
        },
        {
          "output_type": "display_data",
          "data": {
            "text/plain": [
              "<Figure size 432x288 with 1 Axes>"
            ],
            "image/png": "[encoded data removed]"
          },
          "metadata": {
            "needs_background": "light"
          }
        },
        {
          "output_type": "execute_result",
          "data": {
            "text/plain": [
              "   fpr  tpr  thresholds\n",
              "0  0.0  0.0    1.549768\n",
              "1  0.0  1.0    0.549768\n",
              "2  1.0  1.0    0.450171"
            ],
            "text/html": [
              "\n",
              "  <div id=\"df-863dce88-9415-4147-96b9-93664022e5ba\">\n",
              "    <div class=\"colab-df-container\">\n",
              "      <div>\n",
              "<style scoped>\n",
              "    .dataframe tbody tr th:only-of-type {\n",
              "        vertical-align: middle;\n",
              "    }\n",
              "\n",
              "    .dataframe tbody tr th {\n",
              "        vertical-align: top;\n",
              "    }\n",
              "\n",
              "    .dataframe thead th {\n",
              "        text-align: right;\n",
              "    }\n",
              "</style>\n",
              "<table border=\"1\" class=\"dataframe\">\n",
              "  <thead>\n",
              "    <tr style=\"text-align: right;\">\n",
              "      <th></th>\n",
              "      <th>fpr</th>\n",
              "      <th>tpr</th>\n",
              "      <th>thresholds</th>\n",
              "    </tr>\n",
              "  </thead>\n",
              "  <tbody>\n",
              "    <tr>\n",
              "      <th>0</th>\n",
              "      <td>0.0</td>\n",
              "      <td>0.0</td>\n",
              "      <td>1.549768</td>\n",
              "    </tr>\n",
              "    <tr>\n",
              "      <th>1</th>\n",
              "      <td>0.0</td>\n",
              "      <td>1.0</td>\n",
              "      <td>0.549768</td>\n",
              "    </tr>\n",
              "    <tr>\n",
              "      <th>2</th>\n",
              "      <td>1.0</td>\n",
              "      <td>1.0</td>\n",
              "      <td>0.450171</td>\n",
              "    </tr>\n",
              "  </tbody>\n",
              "</table>\n",
              "</div>\n",
              "      <button class=\"colab-df-convert\" onclick=\"convertToInteractive('df-863dce88-9415-4147-96b9-93664022e5ba')\"\n",
              "              title=\"Convert this dataframe to an interactive table.\"\n",
              "              style=\"display:none;\">\n",
              "        \n",
              "  <svg xmlns=\"http://www.w3.org/2000/svg\" height=\"24px\"viewBox=\"0 0 24 24\"\n",
              "       width=\"24px\">\n",
              "    <path d=\"M0 0h24v24H0V0z\" fill=\"none\"/>\n",
              "    <path d=\"M18.56 5.44l.94 2.06.94-2.06 2.06-.94-2.06-.94-.94-2.06-.94 2.06-2.06.94zm-11 1L8.5 8.5l.94-2.06 2.06-.94-2.06-.94L8.5 2.5l-.94 2.06-2.06.94zm10 10l.94 2.06.94-2.06 2.06-.94-2.06-.94-.94-2.06-.94 2.06-2.06.94z\"/><path d=\"M17.41 7.96l-1.37-1.37c-.4-.4-.92-.59-1.43-.59-.52 0-1.04.2-1.43.59L10.3 9.45l-7.72 7.72c-.78.78-.78 2.05 0 2.83L4 21.41c.39.39.9.59 1.41.59.51 0 1.02-.2 1.41-.59l7.78-7.78 2.81-2.81c.8-.78.8-2.07 0-2.86zM5.41 20L4 18.59l7.72-7.72 1.47 1.35L5.41 20z\"/>\n",
              "  </svg>\n",
              "      </button>\n",
              "      \n",
              "  <style>\n",
              "    .colab-df-container {\n",
              "      display:flex;\n",
              "      flex-wrap:wrap;\n",
              "      gap: 12px;\n",
              "    }\n",
              "\n",
              "    .colab-df-convert {\n",
              "      background-color: #E8F0FE;\n",
              "      border: none;\n",
              "      border-radius: 50%;\n",
              "      cursor: pointer;\n",
              "      display: none;\n",
              "      fill: #1967D2;\n",
              "      height: 32px;\n",
              "      padding: 0 0 0 0;\n",
              "      width: 32px;\n",
              "    }\n",
              "\n",
              "    .colab-df-convert:hover {\n",
              "      background-color: #E2EBFA;\n",
              "      box-shadow: 0px 1px 2px rgba(60, 64, 67, 0.3), 0px 1px 3px 1px rgba(60, 64, 67, 0.15);\n",
              "      fill: #174EA6;\n",
              "    }\n",
              "\n",
              "    [theme=dark] .colab-df-convert {\n",
              "      background-color: #3B4455;\n",
              "      fill: #D2E3FC;\n",
              "    }\n",
              "\n",
              "    [theme=dark] .colab-df-convert:hover {\n",
              "      background-color: #434B5C;\n",
              "      box-shadow: 0px 1px 3px 1px rgba(0, 0, 0, 0.15);\n",
              "      filter: drop-shadow(0px 1px 2px rgba(0, 0, 0, 0.3));\n",
              "      fill: #FFFFFF;\n",
              "    }\n",
              "  </style>\n",
              "\n",
              "      <script>\n",
              "        const buttonEl =\n",
              "          document.querySelector('#df-863dce88-9415-4147-96b9-93664022e5ba button.colab-df-convert');\n",
              "        buttonEl.style.display =\n",
              "          google.colab.kernel.accessAllowed ? 'block' : 'none';\n",
              "\n",
              "        async function convertToInteractive(key) {\n",
              "          const element = document.querySelector('#df-863dce88-9415-4147-96b9-93664022e5ba');\n",
              "          const dataTable =\n",
              "            await google.colab.kernel.invokeFunction('convertToInteractive',\n",
              "                                                     [key], {});\n",
              "          if (!dataTable) return;\n",
              "\n",
              "          const docLinkHtml = 'Like what you see? Visit the ' +\n",
              "            '<a target=\"_blank\" href=https://colab.research.google.com/notebooks/data_table.ipynb>data table notebook</a>'\n",
              "            + ' to learn more about interactive tables.';\n",
              "          element.innerHTML = '';\n",
              "          dataTable['output_type'] = 'display_data';\n",
              "          await google.colab.output.renderOutput(dataTable, element);\n",
              "          const docLink = document.createElement('div');\n",
              "          docLink.innerHTML = docLinkHtml;\n",
              "          element.appendChild(docLink);\n",
              "        }\n",
              "      </script>\n",
              "    </div>\n",
              "  </div>\n",
              "  "
            ]
          },
          "metadata": {},
          "execution_count": 51
        }
      ]
    },
    {
      "cell_type": "code",
      "source": [
        "\n",
        "# confusion matrix 생성, 필요한 라이브러리 가져오기.\n",
        "from sklearn.metrics import confusion_matrix, ConfusionMatrixDisplay\n",
        "import seaborn as sns\n",
        "import matplotlib.pyplot as plt\n",
        "\n",
        "# 함수로 생성합니다.\n",
        "def plot_confusion_matrix(model, X_val_encoded, y_val):\n",
        "  \n",
        "  # xgbclassifier 모델을 이용할 시\n",
        "  if isinstance(model, XGBClassifier):\n",
        "    y_pred = model.predict(X_val_encoded, iteration_range=(0, model.best_iteration))\n",
        "\n",
        "  # 아니라면, \n",
        "  else:\n",
        "    y_pred = model.predict(X_val_encoded)\n",
        "  \n",
        "  cm = confusion_matrix(y_val, y_pred)\n",
        "  disp = ConfusionMatrixDisplay(cm)  \n",
        "  disp.plot(cmap = 'Blues')\n",
        "  plt.show()\n"
      ],
      "metadata": {
        "id": "Zdp0m6rcGpZ0"
      },
      "execution_count": 52,
      "outputs": []
    },
    {
      "cell_type": "code",
      "source": [
        "plot_confusion_matrix(model, X_val_encoded, y_val)"
      ],
      "metadata": {
        "colab": {
          "base_uri": "https://localhost:8080/",
          "height": 279
        },
        "id": "pXuYVEDKpnMJ",
        "outputId": "ceb37901-8622-4ce9-f665-1d9ad9daec68"
      },
      "execution_count": 53,
      "outputs": [
        {
          "output_type": "display_data",
          "data": {
            "text/plain": [
              "<Figure size 432x288 with 2 Axes>"
            ],
            "image/png": "[encoded data removed]"
          },
          "metadata": {
            "needs_background": "light"
          }
        }
      ]
    },
    {
      "cell_type": "markdown",
      "source": [
        "#### DATA INSIGHT\n",
        "* 1로 예측하는 결과값이 존재하지 않습니다. \n",
        "* 처음부터 타겟이 매우 불균형한 데이터였습니다. \n",
        "\n",
        "**❗불균형한 데이터를 올바르게 예측하기 위해 여러 방법을 이용하도록 합니다.**"
      ],
      "metadata": {
        "id": "t71bwaxzpxCy"
      }
    },
    {
      "cell_type": "markdown",
      "source": [
        "## 3. Scale_pos_weight\n",
        "> `Scale_pos_weight` 을 설정하여 모델을 재생성합니다.\n",
        "\n",
        "* 그 외 파라미터 설정은 같게 놔두도록 합니다.\n",
        "- val set에 대하여 AUC score를 구하기\n",
        "- `classification_report()`를 사용하여 성능을 확인.\n",
        "- confusion matrix를 그리기."
      ],
      "metadata": {
        "id": "2RYA7OHEqaRl"
      }
    },
    {
      "cell_type": "code",
      "source": [
        "# XGBClassifier 재생성.\n",
        "model = XGBClassifier(\n",
        "    objective = 'binary:logistic',\n",
        "    eval_metric = 'auc',\n",
        "    n_estimators = 1000,\n",
        "    random_state =42,\n",
        "    n_jobs = -1,\n",
        "    max_depth = 7,\n",
        "    learning_rate= 0.1,\n",
        "    early_stopping_rounds = 50,\n",
        "    scale_pos_weight=(y_val == 0).sum() / (y_val ==1).sum()\n",
        ")\n",
        "\n",
        "model.fit(\n",
        "    X_train_encoded,\n",
        "    y_train,\n",
        "    eval_set = watchlist\n",
        ")"
      ],
      "metadata": {
        "colab": {
          "base_uri": "https://localhost:8080/"
        },
        "id": "2rKHVE6PqxAO",
        "outputId": "39e27cff-720e-4a52-fce6-43768aa1ec9c"
      },
      "execution_count": 54,
      "outputs": [
        {
          "output_type": "stream",
          "name": "stdout",
          "text": [
            "[0]\tvalidation_0-auc:1.00000\tvalidation_1-auc:1.00000\n",
            "[1]\tvalidation_0-auc:1.00000\tvalidation_1-auc:1.00000\n",
            "[2]\tvalidation_0-auc:1.00000\tvalidation_1-auc:1.00000\n",
            "[3]\tvalidation_0-auc:1.00000\tvalidation_1-auc:1.00000\n",
            "[4]\tvalidation_0-auc:1.00000\tvalidation_1-auc:1.00000\n",
            "[5]\tvalidation_0-auc:1.00000\tvalidation_1-auc:1.00000\n",
            "[6]\tvalidation_0-auc:1.00000\tvalidation_1-auc:1.00000\n",
            "[7]\tvalidation_0-auc:1.00000\tvalidation_1-auc:1.00000\n",
            "[8]\tvalidation_0-auc:1.00000\tvalidation_1-auc:1.00000\n",
            "[9]\tvalidation_0-auc:1.00000\tvalidation_1-auc:1.00000\n",
            "[10]\tvalidation_0-auc:1.00000\tvalidation_1-auc:1.00000\n",
            "[11]\tvalidation_0-auc:1.00000\tvalidation_1-auc:1.00000\n",
            "[12]\tvalidation_0-auc:1.00000\tvalidation_1-auc:1.00000\n",
            "[13]\tvalidation_0-auc:1.00000\tvalidation_1-auc:1.00000\n",
            "[14]\tvalidation_0-auc:1.00000\tvalidation_1-auc:1.00000\n",
            "[15]\tvalidation_0-auc:1.00000\tvalidation_1-auc:1.00000\n",
            "[16]\tvalidation_0-auc:1.00000\tvalidation_1-auc:1.00000\n",
            "[17]\tvalidation_0-auc:1.00000\tvalidation_1-auc:1.00000\n",
            "[18]\tvalidation_0-auc:1.00000\tvalidation_1-auc:1.00000\n",
            "[19]\tvalidation_0-auc:1.00000\tvalidation_1-auc:1.00000\n",
            "[20]\tvalidation_0-auc:1.00000\tvalidation_1-auc:1.00000\n",
            "[21]\tvalidation_0-auc:1.00000\tvalidation_1-auc:1.00000\n",
            "[22]\tvalidation_0-auc:1.00000\tvalidation_1-auc:1.00000\n",
            "[23]\tvalidation_0-auc:1.00000\tvalidation_1-auc:1.00000\n",
            "[24]\tvalidation_0-auc:1.00000\tvalidation_1-auc:1.00000\n",
            "[25]\tvalidation_0-auc:1.00000\tvalidation_1-auc:1.00000\n",
            "[26]\tvalidation_0-auc:1.00000\tvalidation_1-auc:1.00000\n",
            "[27]\tvalidation_0-auc:1.00000\tvalidation_1-auc:1.00000\n",
            "[28]\tvalidation_0-auc:1.00000\tvalidation_1-auc:1.00000\n",
            "[29]\tvalidation_0-auc:1.00000\tvalidation_1-auc:1.00000\n",
            "[30]\tvalidation_0-auc:1.00000\tvalidation_1-auc:1.00000\n",
            "[31]\tvalidation_0-auc:1.00000\tvalidation_1-auc:1.00000\n",
            "[32]\tvalidation_0-auc:1.00000\tvalidation_1-auc:1.00000\n",
            "[33]\tvalidation_0-auc:1.00000\tvalidation_1-auc:1.00000\n",
            "[34]\tvalidation_0-auc:1.00000\tvalidation_1-auc:1.00000\n",
            "[35]\tvalidation_0-auc:1.00000\tvalidation_1-auc:1.00000\n",
            "[36]\tvalidation_0-auc:1.00000\tvalidation_1-auc:1.00000\n",
            "[37]\tvalidation_0-auc:1.00000\tvalidation_1-auc:1.00000\n",
            "[38]\tvalidation_0-auc:1.00000\tvalidation_1-auc:1.00000\n",
            "[39]\tvalidation_0-auc:1.00000\tvalidation_1-auc:1.00000\n",
            "[40]\tvalidation_0-auc:1.00000\tvalidation_1-auc:1.00000\n",
            "[41]\tvalidation_0-auc:1.00000\tvalidation_1-auc:1.00000\n",
            "[42]\tvalidation_0-auc:1.00000\tvalidation_1-auc:1.00000\n",
            "[43]\tvalidation_0-auc:1.00000\tvalidation_1-auc:1.00000\n",
            "[44]\tvalidation_0-auc:1.00000\tvalidation_1-auc:1.00000\n",
            "[45]\tvalidation_0-auc:1.00000\tvalidation_1-auc:1.00000\n",
            "[46]\tvalidation_0-auc:1.00000\tvalidation_1-auc:1.00000\n",
            "[47]\tvalidation_0-auc:1.00000\tvalidation_1-auc:1.00000\n",
            "[48]\tvalidation_0-auc:1.00000\tvalidation_1-auc:1.00000\n",
            "[49]\tvalidation_0-auc:1.00000\tvalidation_1-auc:1.00000\n",
            "[50]\tvalidation_0-auc:1.00000\tvalidation_1-auc:1.00000\n"
          ]
        },
        {
          "output_type": "execute_result",
          "data": {
            "text/plain": [
              "XGBClassifier(base_score=0.5, booster='gbtree', callbacks=None,\n",
              "              colsample_bylevel=1, colsample_bynode=1, colsample_bytree=1,\n",
              "              early_stopping_rounds=50, enable_categorical=False,\n",
              "              eval_metric='auc', feature_types=None, gamma=0, gpu_id=-1,\n",
              "              grow_policy='depthwise', importance_type=None,\n",
              "              interaction_constraints='', learning_rate=0.1, max_bin=256,\n",
              "              max_cat_threshold=64, max_cat_to_onehot=4, max_delta_step=0,\n",
              "              max_depth=7, max_leaves=0, min_child_weight=1, missing=nan,\n",
              "              monotone_constraints='()', n_estimators=1000, n_jobs=-1,\n",
              "              num_parallel_tree=1, predictor='auto', random_state=42, ...)"
            ]
          },
          "metadata": {},
          "execution_count": 54
        }
      ]
    },
    {
      "cell_type": "markdown",
      "source": [
        "데이터를 모델링한 결과를 한눈에 볼 수 있게 함수를 작성합니다."
      ],
      "metadata": {
        "id": "Q3q0vXTwsUdS"
      }
    },
    {
      "cell_type": "code",
      "source": [
        "from xgboost.sklearn import XGBRFClassifier\n",
        "def summarize_results(model, X_val_encoded, y_val):\n",
        "\n",
        "  #1. Train / Val Loss Plot\n",
        "  if isinstance (model, XGBClassifier):\n",
        "    results = model.evals_result()\n",
        "    tgts = results['validation_0'].keys()\n",
        "\n",
        "    for tgt in tgts:\n",
        "      train_error = results['validation_0'][tgt]\n",
        "      val_error = results['validation_1'][tgt]\n",
        "\n",
        "      #plot\n",
        "      plt.plot(train_error, label='Train')\n",
        "      plt.plot(val_error, label = 'Val')\n",
        "      plt.ylabel(tgt)\n",
        "      plt.xlabel('Model Complexity (n_estimators)')\n",
        "      plt.legend()\n",
        "      plt.show()\n",
        "\n",
        "  #2. Accuracy / Classification Report\n",
        "  print('검증 정확도', model.score(X_val_encoded, y_val))\n",
        "  if isinstance(model, XGBClassifier):\n",
        "    y_pred = model.predict(X_val_encoded, iteration_range=(0, model.best_iteration))\n",
        "  \n",
        "  else:\n",
        "    y_pred = model.predict(X_val_encoded)\n",
        "  \n",
        "  print(classification_report(y_val, y_pred))\n",
        "\n",
        "  # 3. ROC-AUC\n",
        "  get_roc_auc(model, X_val_encoded, y_val)\n",
        "\n",
        "  # 4. Confusion Matrix\n",
        "  ConfusionMatrixDisplay.from_estimator(model, X_val_encoded, y_val, cmap='Blues')\n",
        "  plt.show()\n"
      ],
      "metadata": {
        "id": "3_shonpr_GNa"
      },
      "execution_count": 55,
      "outputs": []
    },
    {
      "cell_type": "code",
      "source": [
        "summarize_results(model, X_val_encoded, y_val)"
      ],
      "metadata": {
        "colab": {
          "base_uri": "https://localhost:8080/",
          "height": 1000
        },
        "id": "HPIZeTIAFALB",
        "outputId": "4d3b359b-c619-499f-90c9-1cec94d3d4f1"
      },
      "execution_count": 56,
      "outputs": [
        {
          "output_type": "display_data",
          "data": {
            "text/plain": [
              "<Figure size 432x288 with 1 Axes>"
            ],
            "image/png": "[encoded data removed]"
          },
          "metadata": {
            "needs_background": "light"
          }
        },
        {
          "output_type": "stream",
          "name": "stdout",
          "text": [
            "검증 정확도 1.0\n",
            "              precision    recall  f1-score   support\n",
            "\n",
            "           0       1.00      1.00      1.00     10969\n",
            "           1       1.00      1.00      1.00       750\n",
            "\n",
            "    accuracy                           1.00     11719\n",
            "   macro avg       1.00      1.00      1.00     11719\n",
            "weighted avg       1.00      1.00      1.00     11719\n",
            "\n",
            "ROC-AUC: 1.0\n"
          ]
        },
        {
          "output_type": "display_data",
          "data": {
            "text/plain": [
              "<Figure size 432x288 with 1 Axes>"
            ],
            "image/png": "[encoded data removed]"
          },
          "metadata": {
            "needs_background": "light"
          }
        },
        {
          "output_type": "display_data",
          "data": {
            "text/plain": [
              "<Figure size 432x288 with 2 Axes>"
            ],
            "image/png": "[encoded data removed]"
          },
          "metadata": {
            "needs_background": "light"
          }
        }
      ]
    },
    {
      "cell_type": "markdown",
      "source": [
        "##4. Undersampling - RandomUnderSampler \n",
        "> 주의❗) 검증데이터는 Undersampling이 적용되지 않아야 한다. "
      ],
      "metadata": {
        "id": "OkBdeNkcFeYW"
      }
    },
    {
      "cell_type": "code",
      "source": [
        "#필요한 라이브러리 가져오기.\n",
        "from imblearn.under_sampling import RandomUnderSampler\n",
        "\n",
        "# 모델 재생성.\n",
        "model = XGBClassifier(\n",
        "    objective = 'binary:logistic',\n",
        "    eval_metric = 'auc',\n",
        "    n_estimators = 1000,\n",
        "    random_state =42,\n",
        "    n_jobs = -1,\n",
        "    max_depth = 6,\n",
        "    learning_rate= 0.1,\n",
        "    early_stopping_rounds = 50\n",
        ")\n",
        "\n",
        "X_train_sampled, y_train_sampled = RandomUnderSampler(random_state =42).fit_resample(X_train_encoded, y_train)"
      ],
      "metadata": {
        "id": "Ti_icA9ZHruW"
      },
      "execution_count": 62,
      "outputs": []
    },
    {
      "cell_type": "code",
      "source": [
        "# Undersampling 시 각 class의 샘플들이 동일한 비율로 샘플링된 것을 볼 수 있습니다.\n",
        "y_train_sampled.value_counts()"
      ],
      "metadata": {
        "colab": {
          "base_uri": "https://localhost:8080/"
        },
        "id": "fsgURsOIH1M4",
        "outputId": "bf8d55ea-38bb-47dd-afc9-ca1f75d59700"
      },
      "execution_count": 63,
      "outputs": [
        {
          "output_type": "execute_result",
          "data": {
            "text/plain": [
              "0    2998\n",
              "1    2998\n",
              "Name: is_claim, dtype: int64"
            ]
          },
          "metadata": {},
          "execution_count": 63
        }
      ]
    },
    {
      "cell_type": "code",
      "source": [
        "watchlist = [(X_train_sampled, y_train_sampled), (X_val_encoded, y_val)]\n",
        "\n",
        "model.fit(\n",
        "    X_train_sampled,\n",
        "    y_train_sampled,\n",
        "    eval_set=watchlist\n",
        ")"
      ],
      "metadata": {
        "colab": {
          "base_uri": "https://localhost:8080/"
        },
        "id": "qEoWyT48H77O",
        "outputId": "714bf481-65cb-44ee-ef0a-b99c0b771f22"
      },
      "execution_count": 64,
      "outputs": [
        {
          "output_type": "stream",
          "name": "stdout",
          "text": [
            "[0]\tvalidation_0-auc:1.00000\tvalidation_1-auc:1.00000\n",
            "[1]\tvalidation_0-auc:1.00000\tvalidation_1-auc:1.00000\n",
            "[2]\tvalidation_0-auc:1.00000\tvalidation_1-auc:1.00000\n",
            "[3]\tvalidation_0-auc:1.00000\tvalidation_1-auc:1.00000\n",
            "[4]\tvalidation_0-auc:1.00000\tvalidation_1-auc:1.00000\n",
            "[5]\tvalidation_0-auc:1.00000\tvalidation_1-auc:1.00000\n",
            "[6]\tvalidation_0-auc:1.00000\tvalidation_1-auc:1.00000\n",
            "[7]\tvalidation_0-auc:1.00000\tvalidation_1-auc:1.00000\n",
            "[8]\tvalidation_0-auc:1.00000\tvalidation_1-auc:1.00000\n",
            "[9]\tvalidation_0-auc:1.00000\tvalidation_1-auc:1.00000\n",
            "[10]\tvalidation_0-auc:1.00000\tvalidation_1-auc:1.00000\n",
            "[11]\tvalidation_0-auc:1.00000\tvalidation_1-auc:1.00000\n",
            "[12]\tvalidation_0-auc:1.00000\tvalidation_1-auc:1.00000\n",
            "[13]\tvalidation_0-auc:1.00000\tvalidation_1-auc:1.00000\n",
            "[14]\tvalidation_0-auc:1.00000\tvalidation_1-auc:1.00000\n",
            "[15]\tvalidation_0-auc:1.00000\tvalidation_1-auc:1.00000\n",
            "[16]\tvalidation_0-auc:1.00000\tvalidation_1-auc:1.00000\n",
            "[17]\tvalidation_0-auc:1.00000\tvalidation_1-auc:1.00000\n",
            "[18]\tvalidation_0-auc:1.00000\tvalidation_1-auc:1.00000\n",
            "[19]\tvalidation_0-auc:1.00000\tvalidation_1-auc:1.00000\n",
            "[20]\tvalidation_0-auc:1.00000\tvalidation_1-auc:1.00000\n",
            "[21]\tvalidation_0-auc:1.00000\tvalidation_1-auc:1.00000\n",
            "[22]\tvalidation_0-auc:1.00000\tvalidation_1-auc:1.00000\n",
            "[23]\tvalidation_0-auc:1.00000\tvalidation_1-auc:1.00000\n",
            "[24]\tvalidation_0-auc:1.00000\tvalidation_1-auc:1.00000\n",
            "[25]\tvalidation_0-auc:1.00000\tvalidation_1-auc:1.00000\n",
            "[26]\tvalidation_0-auc:1.00000\tvalidation_1-auc:1.00000\n",
            "[27]\tvalidation_0-auc:1.00000\tvalidation_1-auc:1.00000\n",
            "[28]\tvalidation_0-auc:1.00000\tvalidation_1-auc:1.00000\n",
            "[29]\tvalidation_0-auc:1.00000\tvalidation_1-auc:1.00000\n",
            "[30]\tvalidation_0-auc:1.00000\tvalidation_1-auc:1.00000\n",
            "[31]\tvalidation_0-auc:1.00000\tvalidation_1-auc:1.00000\n",
            "[32]\tvalidation_0-auc:1.00000\tvalidation_1-auc:1.00000\n",
            "[33]\tvalidation_0-auc:1.00000\tvalidation_1-auc:1.00000\n",
            "[34]\tvalidation_0-auc:1.00000\tvalidation_1-auc:1.00000\n",
            "[35]\tvalidation_0-auc:1.00000\tvalidation_1-auc:1.00000\n",
            "[36]\tvalidation_0-auc:1.00000\tvalidation_1-auc:1.00000\n",
            "[37]\tvalidation_0-auc:1.00000\tvalidation_1-auc:1.00000\n",
            "[38]\tvalidation_0-auc:1.00000\tvalidation_1-auc:1.00000\n",
            "[39]\tvalidation_0-auc:1.00000\tvalidation_1-auc:1.00000\n",
            "[40]\tvalidation_0-auc:1.00000\tvalidation_1-auc:1.00000\n",
            "[41]\tvalidation_0-auc:1.00000\tvalidation_1-auc:1.00000\n",
            "[42]\tvalidation_0-auc:1.00000\tvalidation_1-auc:1.00000\n",
            "[43]\tvalidation_0-auc:1.00000\tvalidation_1-auc:1.00000\n",
            "[44]\tvalidation_0-auc:1.00000\tvalidation_1-auc:1.00000\n",
            "[45]\tvalidation_0-auc:1.00000\tvalidation_1-auc:1.00000\n",
            "[46]\tvalidation_0-auc:1.00000\tvalidation_1-auc:1.00000\n",
            "[47]\tvalidation_0-auc:1.00000\tvalidation_1-auc:1.00000\n",
            "[48]\tvalidation_0-auc:1.00000\tvalidation_1-auc:1.00000\n",
            "[49]\tvalidation_0-auc:1.00000\tvalidation_1-auc:1.00000\n",
            "[50]\tvalidation_0-auc:1.00000\tvalidation_1-auc:1.00000\n"
          ]
        },
        {
          "output_type": "execute_result",
          "data": {
            "text/plain": [
              "XGBClassifier(base_score=0.5, booster='gbtree', callbacks=None,\n",
              "              colsample_bylevel=1, colsample_bynode=1, colsample_bytree=1,\n",
              "              early_stopping_rounds=50, enable_categorical=False,\n",
              "              eval_metric='auc', feature_types=None, gamma=0, gpu_id=-1,\n",
              "              grow_policy='depthwise', importance_type=None,\n",
              "              interaction_constraints='', learning_rate=0.1, max_bin=256,\n",
              "              max_cat_threshold=64, max_cat_to_onehot=4, max_delta_step=0,\n",
              "              max_depth=6, max_leaves=0, min_child_weight=1, missing=nan,\n",
              "              monotone_constraints='()', n_estimators=1000, n_jobs=-1,\n",
              "              num_parallel_tree=1, predictor='auto', random_state=42, ...)"
            ]
          },
          "metadata": {},
          "execution_count": 64
        }
      ]
    },
    {
      "cell_type": "code",
      "source": [
        "summarize_results(model, X_val_encoded, y_val)"
      ],
      "metadata": {
        "colab": {
          "base_uri": "https://localhost:8080/",
          "height": 1000
        },
        "id": "TBIfhPRGOPRf",
        "outputId": "0b4ddd23-4fce-4bc5-e328-2720de556cec"
      },
      "execution_count": 65,
      "outputs": [
        {
          "output_type": "display_data",
          "data": {
            "text/plain": [
              "<Figure size 432x288 with 1 Axes>"
            ],
            "image/png": "[encoded data removed]"
          },
          "metadata": {
            "needs_background": "light"
          }
        },
        {
          "output_type": "stream",
          "name": "stdout",
          "text": [
            "검증 정확도 1.0\n",
            "              precision    recall  f1-score   support\n",
            "\n",
            "           0       1.00      1.00      1.00     10969\n",
            "           1       1.00      1.00      1.00       750\n",
            "\n",
            "    accuracy                           1.00     11719\n",
            "   macro avg       1.00      1.00      1.00     11719\n",
            "weighted avg       1.00      1.00      1.00     11719\n",
            "\n",
            "ROC-AUC: 1.0\n"
          ]
        },
        {
          "output_type": "display_data",
          "data": {
            "text/plain": [
              "<Figure size 432x288 with 1 Axes>"
            ],
            "image/png": "[encoded data removed]"
          },
          "metadata": {
            "needs_background": "light"
          }
        },
        {
          "output_type": "display_data",
          "data": {
            "text/plain": [
              "<Figure size 432x288 with 2 Axes>"
            ],
            "image/png": "[encoded data removed]"
          },
          "metadata": {
            "needs_background": "light"
          }
        }
      ]
    },
    {
      "cell_type": "markdown",
      "source": [
        "## 5.Oversampling : SMOTE"
      ],
      "metadata": {
        "id": "3VOtd606OYrW"
      }
    },
    {
      "cell_type": "code",
      "source": [
        "# 필요한 라이브러리 가져오기.\n",
        "from imblearn.over_sampling import SMOTE\n",
        "\n",
        "# 모델 재생성.\n",
        "model = XGBClassifier(\n",
        "    objective = 'binary:logistic',\n",
        "    eval_metric = 'auc',\n",
        "    n_estimators = 1000,\n",
        "    random_state =42,\n",
        "    n_jobs = -1,\n",
        "    max_depth = 6,\n",
        "    learning_rate= 0.1,\n",
        "    early_stopping_rounds = 50\n",
        ")\n",
        "\n",
        "X_train_sampled, y_train_sampled = SMOTE(random_state =42).fit_resample(X_train_encoded, y_train)"
      ],
      "metadata": {
        "id": "BUjcbFXAOkYo"
      },
      "execution_count": 66,
      "outputs": []
    },
    {
      "cell_type": "code",
      "source": [
        "# 1-class의 데이터가 0-class의 데이터 수만큼 늘어난 것을 볼 수 있습니다.\n",
        "y_train_sampled.value_counts()"
      ],
      "metadata": {
        "colab": {
          "base_uri": "https://localhost:8080/"
        },
        "id": "8cgfvlSgQd-S",
        "outputId": "cd872711-fc25-4ce1-982e-c546d31e7927"
      },
      "execution_count": 67,
      "outputs": [
        {
          "output_type": "execute_result",
          "data": {
            "text/plain": [
              "0    43875\n",
              "1    43875\n",
              "Name: is_claim, dtype: int64"
            ]
          },
          "metadata": {},
          "execution_count": 67
        }
      ]
    },
    {
      "cell_type": "code",
      "source": [
        "watchlist = [(X_train_sampled, y_train_sampled), (X_val_encoded, y_val)]\n",
        "\n",
        "model.fit(\n",
        "    X_train_sampled,\n",
        "    y_train_sampled,\n",
        "    eval_set=watchlist)"
      ],
      "metadata": {
        "colab": {
          "base_uri": "https://localhost:8080/"
        },
        "id": "040s6LZiQgjv",
        "outputId": "2df45941-1045-4d33-b6bd-9aa7e1f9e4c8"
      },
      "execution_count": 68,
      "outputs": [
        {
          "output_type": "stream",
          "name": "stdout",
          "text": [
            "[0]\tvalidation_0-auc:1.00000\tvalidation_1-auc:1.00000\n",
            "[1]\tvalidation_0-auc:1.00000\tvalidation_1-auc:1.00000\n",
            "[2]\tvalidation_0-auc:1.00000\tvalidation_1-auc:1.00000\n",
            "[3]\tvalidation_0-auc:1.00000\tvalidation_1-auc:1.00000\n",
            "[4]\tvalidation_0-auc:1.00000\tvalidation_1-auc:1.00000\n",
            "[5]\tvalidation_0-auc:1.00000\tvalidation_1-auc:1.00000\n",
            "[6]\tvalidation_0-auc:1.00000\tvalidation_1-auc:1.00000\n",
            "[7]\tvalidation_0-auc:1.00000\tvalidation_1-auc:1.00000\n",
            "[8]\tvalidation_0-auc:1.00000\tvalidation_1-auc:1.00000\n",
            "[9]\tvalidation_0-auc:1.00000\tvalidation_1-auc:1.00000\n",
            "[10]\tvalidation_0-auc:1.00000\tvalidation_1-auc:1.00000\n",
            "[11]\tvalidation_0-auc:1.00000\tvalidation_1-auc:1.00000\n",
            "[12]\tvalidation_0-auc:1.00000\tvalidation_1-auc:1.00000\n",
            "[13]\tvalidation_0-auc:1.00000\tvalidation_1-auc:1.00000\n",
            "[14]\tvalidation_0-auc:1.00000\tvalidation_1-auc:1.00000\n",
            "[15]\tvalidation_0-auc:1.00000\tvalidation_1-auc:1.00000\n",
            "[16]\tvalidation_0-auc:1.00000\tvalidation_1-auc:1.00000\n",
            "[17]\tvalidation_0-auc:1.00000\tvalidation_1-auc:1.00000\n",
            "[18]\tvalidation_0-auc:1.00000\tvalidation_1-auc:1.00000\n",
            "[19]\tvalidation_0-auc:1.00000\tvalidation_1-auc:1.00000\n",
            "[20]\tvalidation_0-auc:1.00000\tvalidation_1-auc:1.00000\n",
            "[21]\tvalidation_0-auc:1.00000\tvalidation_1-auc:1.00000\n",
            "[22]\tvalidation_0-auc:1.00000\tvalidation_1-auc:1.00000\n",
            "[23]\tvalidation_0-auc:1.00000\tvalidation_1-auc:1.00000\n",
            "[24]\tvalidation_0-auc:1.00000\tvalidation_1-auc:1.00000\n",
            "[25]\tvalidation_0-auc:1.00000\tvalidation_1-auc:1.00000\n",
            "[26]\tvalidation_0-auc:1.00000\tvalidation_1-auc:1.00000\n",
            "[27]\tvalidation_0-auc:1.00000\tvalidation_1-auc:1.00000\n",
            "[28]\tvalidation_0-auc:1.00000\tvalidation_1-auc:1.00000\n",
            "[29]\tvalidation_0-auc:1.00000\tvalidation_1-auc:1.00000\n",
            "[30]\tvalidation_0-auc:1.00000\tvalidation_1-auc:1.00000\n",
            "[31]\tvalidation_0-auc:1.00000\tvalidation_1-auc:1.00000\n",
            "[32]\tvalidation_0-auc:1.00000\tvalidation_1-auc:1.00000\n",
            "[33]\tvalidation_0-auc:1.00000\tvalidation_1-auc:1.00000\n",
            "[34]\tvalidation_0-auc:1.00000\tvalidation_1-auc:1.00000\n",
            "[35]\tvalidation_0-auc:1.00000\tvalidation_1-auc:1.00000\n",
            "[36]\tvalidation_0-auc:1.00000\tvalidation_1-auc:1.00000\n",
            "[37]\tvalidation_0-auc:1.00000\tvalidation_1-auc:1.00000\n",
            "[38]\tvalidation_0-auc:1.00000\tvalidation_1-auc:1.00000\n",
            "[39]\tvalidation_0-auc:1.00000\tvalidation_1-auc:1.00000\n",
            "[40]\tvalidation_0-auc:1.00000\tvalidation_1-auc:1.00000\n",
            "[41]\tvalidation_0-auc:1.00000\tvalidation_1-auc:1.00000\n",
            "[42]\tvalidation_0-auc:1.00000\tvalidation_1-auc:1.00000\n",
            "[43]\tvalidation_0-auc:1.00000\tvalidation_1-auc:1.00000\n",
            "[44]\tvalidation_0-auc:1.00000\tvalidation_1-auc:1.00000\n",
            "[45]\tvalidation_0-auc:1.00000\tvalidation_1-auc:1.00000\n",
            "[46]\tvalidation_0-auc:1.00000\tvalidation_1-auc:1.00000\n",
            "[47]\tvalidation_0-auc:1.00000\tvalidation_1-auc:1.00000\n",
            "[48]\tvalidation_0-auc:1.00000\tvalidation_1-auc:1.00000\n",
            "[49]\tvalidation_0-auc:1.00000\tvalidation_1-auc:1.00000\n",
            "[50]\tvalidation_0-auc:1.00000\tvalidation_1-auc:1.00000\n"
          ]
        },
        {
          "output_type": "execute_result",
          "data": {
            "text/plain": [
              "XGBClassifier(base_score=0.5, booster='gbtree', callbacks=None,\n",
              "              colsample_bylevel=1, colsample_bynode=1, colsample_bytree=1,\n",
              "              early_stopping_rounds=50, enable_categorical=False,\n",
              "              eval_metric='auc', feature_types=None, gamma=0, gpu_id=-1,\n",
              "              grow_policy='depthwise', importance_type=None,\n",
              "              interaction_constraints='', learning_rate=0.1, max_bin=256,\n",
              "              max_cat_threshold=64, max_cat_to_onehot=4, max_delta_step=0,\n",
              "              max_depth=6, max_leaves=0, min_child_weight=1, missing=nan,\n",
              "              monotone_constraints='()', n_estimators=1000, n_jobs=-1,\n",
              "              num_parallel_tree=1, predictor='auto', random_state=42, ...)"
            ]
          },
          "metadata": {},
          "execution_count": 68
        }
      ]
    },
    {
      "cell_type": "code",
      "source": [
        "summarize_results(model, X_val_encoded, y_val)"
      ],
      "metadata": {
        "colab": {
          "base_uri": "https://localhost:8080/",
          "height": 1000
        },
        "id": "bfmFXSDUQkPG",
        "outputId": "255775cf-e478-47f2-e51c-48df5895be22"
      },
      "execution_count": 69,
      "outputs": [
        {
          "output_type": "display_data",
          "data": {
            "text/plain": [
              "<Figure size 432x288 with 1 Axes>"
            ],
            "image/png": "[encoded data removed]"
          },
          "metadata": {
            "needs_background": "light"
          }
        },
        {
          "output_type": "stream",
          "name": "stdout",
          "text": [
            "검증 정확도 1.0\n",
            "              precision    recall  f1-score   support\n",
            "\n",
            "           0       1.00      1.00      1.00     10969\n",
            "           1       1.00      1.00      1.00       750\n",
            "\n",
            "    accuracy                           1.00     11719\n",
            "   macro avg       1.00      1.00      1.00     11719\n",
            "weighted avg       1.00      1.00      1.00     11719\n",
            "\n",
            "ROC-AUC: 1.0\n"
          ]
        },
        {
          "output_type": "display_data",
          "data": {
            "text/plain": [
              "<Figure size 432x288 with 1 Axes>"
            ],
            "image/png": "[encoded data removed]"
          },
          "metadata": {
            "needs_background": "light"
          }
        },
        {
          "output_type": "display_data",
          "data": {
            "text/plain": [
              "<Figure size 432x288 with 2 Axes>"
            ],
            "image/png": "[encoded data removed]"
          },
          "metadata": {
            "needs_background": "light"
          }
        }
      ]
    },
    {
      "cell_type": "markdown",
      "source": [
        "## 06. Oversampling + Undersampling : SMOTEENN"
      ],
      "metadata": {
        "id": "ppg4m0F1QtYk"
      }
    },
    {
      "cell_type": "code",
      "source": [
        "# 필요한 라이브러리 가져오기.\n",
        "from imblearn.combine import SMOTEENN\n",
        "\n",
        "X_train_sampled, y_train_sampled = SMOTEENN(random_state=42).fit_resample(X_train_encoded, y_train)\n",
        "\n",
        "model = XGBClassifier(\n",
        "    objective=\"binary:logistic\",\n",
        "    eval_metric=\"auc\",\n",
        "    n_estimators=987654321,\n",
        "    random_state=42,\n",
        "    n_jobs=-1,\n",
        "    max_depth=6,\n",
        "    learning_rate=0.1,\n",
        "    early_stopping_rounds = 50,\n",
        "    scale_pos_weight=(y_val == 0).sum() / (y_val == 1).sum(),\n",
        ")\n"
      ],
      "metadata": {
        "id": "vkOs3zonRH0l"
      },
      "execution_count": 73,
      "outputs": []
    },
    {
      "cell_type": "code",
      "source": [
        "# 0-class 데이터가 1-class 데이터만큼 생성되었다가 노이즈가 정리되었으므로, 결과적으로 각 타겟 데이터가 동일한 비율은 아니지만 0-class 데이터가 일부 새로 생성되었습니다.\n",
        "y_train_sampled.value_counts()"
      ],
      "metadata": {
        "colab": {
          "base_uri": "https://localhost:8080/"
        },
        "id": "SR6ZEHQ2Rl-A",
        "outputId": "fda92201-9785-4d6b-f818-756cb589b4f0"
      },
      "execution_count": 74,
      "outputs": [
        {
          "output_type": "execute_result",
          "data": {
            "text/plain": [
              "0    43846\n",
              "1    43751\n",
              "Name: is_claim, dtype: int64"
            ]
          },
          "metadata": {},
          "execution_count": 74
        }
      ]
    },
    {
      "cell_type": "code",
      "source": [
        "watchlist = [(X_train_sampled, y_train_sampled), (X_val_encoded, y_val)]\n",
        "\n",
        "model.fit(\n",
        "    X_train_sampled,\n",
        "    y_train_sampled,\n",
        "    eval_set=watchlist)"
      ],
      "metadata": {
        "colab": {
          "base_uri": "https://localhost:8080/"
        },
        "id": "If1fHByMRmdT",
        "outputId": "b9fdcde8-c009-4822-8326-7fddfd900b29"
      },
      "execution_count": 75,
      "outputs": [
        {
          "output_type": "stream",
          "name": "stdout",
          "text": [
            "[0]\tvalidation_0-auc:1.00000\tvalidation_1-auc:1.00000\n",
            "[1]\tvalidation_0-auc:1.00000\tvalidation_1-auc:1.00000\n",
            "[2]\tvalidation_0-auc:1.00000\tvalidation_1-auc:1.00000\n",
            "[3]\tvalidation_0-auc:1.00000\tvalidation_1-auc:1.00000\n",
            "[4]\tvalidation_0-auc:1.00000\tvalidation_1-auc:1.00000\n",
            "[5]\tvalidation_0-auc:1.00000\tvalidation_1-auc:1.00000\n",
            "[6]\tvalidation_0-auc:1.00000\tvalidation_1-auc:1.00000\n",
            "[7]\tvalidation_0-auc:1.00000\tvalidation_1-auc:1.00000\n",
            "[8]\tvalidation_0-auc:1.00000\tvalidation_1-auc:1.00000\n",
            "[9]\tvalidation_0-auc:1.00000\tvalidation_1-auc:1.00000\n",
            "[10]\tvalidation_0-auc:1.00000\tvalidation_1-auc:1.00000\n",
            "[11]\tvalidation_0-auc:1.00000\tvalidation_1-auc:1.00000\n",
            "[12]\tvalidation_0-auc:1.00000\tvalidation_1-auc:1.00000\n",
            "[13]\tvalidation_0-auc:1.00000\tvalidation_1-auc:1.00000\n",
            "[14]\tvalidation_0-auc:1.00000\tvalidation_1-auc:1.00000\n",
            "[15]\tvalidation_0-auc:1.00000\tvalidation_1-auc:1.00000\n",
            "[16]\tvalidation_0-auc:1.00000\tvalidation_1-auc:1.00000\n",
            "[17]\tvalidation_0-auc:1.00000\tvalidation_1-auc:1.00000\n",
            "[18]\tvalidation_0-auc:1.00000\tvalidation_1-auc:1.00000\n",
            "[19]\tvalidation_0-auc:1.00000\tvalidation_1-auc:1.00000\n",
            "[20]\tvalidation_0-auc:1.00000\tvalidation_1-auc:1.00000\n",
            "[21]\tvalidation_0-auc:1.00000\tvalidation_1-auc:1.00000\n",
            "[22]\tvalidation_0-auc:1.00000\tvalidation_1-auc:1.00000\n",
            "[23]\tvalidation_0-auc:1.00000\tvalidation_1-auc:1.00000\n",
            "[24]\tvalidation_0-auc:1.00000\tvalidation_1-auc:1.00000\n",
            "[25]\tvalidation_0-auc:1.00000\tvalidation_1-auc:1.00000\n",
            "[26]\tvalidation_0-auc:1.00000\tvalidation_1-auc:1.00000\n",
            "[27]\tvalidation_0-auc:1.00000\tvalidation_1-auc:1.00000\n",
            "[28]\tvalidation_0-auc:1.00000\tvalidation_1-auc:1.00000\n",
            "[29]\tvalidation_0-auc:1.00000\tvalidation_1-auc:1.00000\n",
            "[30]\tvalidation_0-auc:1.00000\tvalidation_1-auc:1.00000\n",
            "[31]\tvalidation_0-auc:1.00000\tvalidation_1-auc:1.00000\n",
            "[32]\tvalidation_0-auc:1.00000\tvalidation_1-auc:1.00000\n",
            "[33]\tvalidation_0-auc:1.00000\tvalidation_1-auc:1.00000\n",
            "[34]\tvalidation_0-auc:1.00000\tvalidation_1-auc:1.00000\n",
            "[35]\tvalidation_0-auc:1.00000\tvalidation_1-auc:1.00000\n",
            "[36]\tvalidation_0-auc:1.00000\tvalidation_1-auc:1.00000\n",
            "[37]\tvalidation_0-auc:1.00000\tvalidation_1-auc:1.00000\n",
            "[38]\tvalidation_0-auc:1.00000\tvalidation_1-auc:1.00000\n",
            "[39]\tvalidation_0-auc:1.00000\tvalidation_1-auc:1.00000\n",
            "[40]\tvalidation_0-auc:1.00000\tvalidation_1-auc:1.00000\n",
            "[41]\tvalidation_0-auc:1.00000\tvalidation_1-auc:1.00000\n",
            "[42]\tvalidation_0-auc:1.00000\tvalidation_1-auc:1.00000\n",
            "[43]\tvalidation_0-auc:1.00000\tvalidation_1-auc:1.00000\n",
            "[44]\tvalidation_0-auc:1.00000\tvalidation_1-auc:1.00000\n",
            "[45]\tvalidation_0-auc:1.00000\tvalidation_1-auc:1.00000\n",
            "[46]\tvalidation_0-auc:1.00000\tvalidation_1-auc:1.00000\n",
            "[47]\tvalidation_0-auc:1.00000\tvalidation_1-auc:1.00000\n",
            "[48]\tvalidation_0-auc:1.00000\tvalidation_1-auc:1.00000\n",
            "[49]\tvalidation_0-auc:1.00000\tvalidation_1-auc:1.00000\n",
            "[50]\tvalidation_0-auc:1.00000\tvalidation_1-auc:1.00000\n"
          ]
        },
        {
          "output_type": "execute_result",
          "data": {
            "text/plain": [
              "XGBClassifier(base_score=0.5, booster='gbtree', callbacks=None,\n",
              "              colsample_bylevel=1, colsample_bynode=1, colsample_bytree=1,\n",
              "              early_stopping_rounds=50, enable_categorical=False,\n",
              "              eval_metric='auc', feature_types=None, gamma=0, gpu_id=-1,\n",
              "              grow_policy='depthwise', importance_type=None,\n",
              "              interaction_constraints='', learning_rate=0.1, max_bin=256,\n",
              "              max_cat_threshold=64, max_cat_to_onehot=4, max_delta_step=0,\n",
              "              max_depth=6, max_leaves=0, min_child_weight=1, missing=nan,\n",
              "              monotone_constraints='()', n_estimators=987654321, n_jobs=-1,\n",
              "              num_parallel_tree=1, predictor='auto', random_state=42, ...)"
            ]
          },
          "metadata": {},
          "execution_count": 75
        }
      ]
    },
    {
      "cell_type": "code",
      "source": [
        "summarize_results(model, X_val_encoded, y_val)"
      ],
      "metadata": {
        "colab": {
          "base_uri": "https://localhost:8080/",
          "height": 1000
        },
        "id": "I1J33Xi5T9wG",
        "outputId": "74edeb29-79ca-4cc3-c86e-29608c3524ad"
      },
      "execution_count": 76,
      "outputs": [
        {
          "output_type": "display_data",
          "data": {
            "text/plain": [
              "<Figure size 432x288 with 1 Axes>"
            ],
            "image/png": "[encoded data removed]"
          },
          "metadata": {
            "needs_background": "light"
          }
        },
        {
          "output_type": "stream",
          "name": "stdout",
          "text": [
            "검증 정확도 1.0\n",
            "              precision    recall  f1-score   support\n",
            "\n",
            "           0       1.00      1.00      1.00     10969\n",
            "           1       1.00      1.00      1.00       750\n",
            "\n",
            "    accuracy                           1.00     11719\n",
            "   macro avg       1.00      1.00      1.00     11719\n",
            "weighted avg       1.00      1.00      1.00     11719\n",
            "\n",
            "ROC-AUC: 1.0\n"
          ]
        },
        {
          "output_type": "display_data",
          "data": {
            "text/plain": [
              "<Figure size 432x288 with 1 Axes>"
            ],
            "image/png": "[encoded data removed]"
          },
          "metadata": {
            "needs_background": "light"
          }
        },
        {
          "output_type": "display_data",
          "data": {
            "text/plain": [
              "<Figure size 432x288 with 2 Axes>"
            ],
            "image/png": "[encoded data removed]"
          },
          "metadata": {
            "needs_background": "light"
          }
        }
      ]
    },
    {
      "cell_type": "code",
      "source": [],
      "metadata": {
        "id": "WNvdikRzUGLi"
      },
      "execution_count": null,
      "outputs": []
    }
  ]
}