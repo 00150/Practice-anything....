{
  "nbformat": 4,
  "nbformat_minor": 0,
  "metadata": {
    "colab": {
      "name": "긍정, 보통 ,부정 분류 모델(리뷰)",
      "provenance": [],
      "collapsed_sections": [],
      "mount_file_id": "1O6ExL_gVDfHao1R3GmTTdMsXXtRBt7rh",
      "authorship_tag": "ABX9TyOiK+Z8zi4l48yFecdbKIW8",
      "include_colab_link": true
    },
    "kernelspec": {
      "name": "python3",
      "display_name": "Python 3"
    },
    "language_info": {
      "name": "python"
    },
    "accelerator": "GPU",
    "gpuClass": "standard"
  },
  "cells": [
    {
      "cell_type": "markdown",
      "metadata": {
        "id": "view-in-github",
        "colab_type": "text"
      },
      "source": [
        "<a href=\"https://colab.research.google.com/github/00150/Practice-anything..../blob/main/%EA%B8%8D%EC%A0%95%2C_%EB%B3%B4%ED%86%B5_%2C%EB%B6%80%EC%A0%95_%EB%B6%84%EB%A5%98_%EB%AA%A8%EB%8D%B8(%EB%A6%AC%EB%B7%B0).ipynb\" target=\"_parent\"><img src=\"https://colab.research.google.com/assets/colab-badge.svg\" alt=\"Open In Colab\"/></a>"
      ]
    },
    {
      "cell_type": "markdown",
      "source": [
        "## 리뷰데이터 : 감성 분류 & 긍정 / 부정 키워드 분석\n"
      ],
      "metadata": {
        "id": "lZolrHvJI1bg"
      }
    },
    {
      "cell_type": "code",
      "source": [
        "from google.colab import drive\n",
        "drive.mount('/content/drive')"
      ],
      "metadata": {
        "colab": {
          "base_uri": "https://localhost:8080/"
        },
        "id": "kUhBAzKzK1G9",
        "outputId": "d988aad6-c9f7-4cbf-dcdf-e38a55a5749e"
      },
      "execution_count": 1,
      "outputs": [
        {
          "output_type": "stream",
          "name": "stdout",
          "text": [
            "Drive already mounted at /content/drive; to attempt to forcibly remount, call drive.mount(\"/content/drive\", force_remount=True).\n"
          ]
        }
      ]
    },
    {
      "cell_type": "markdown",
      "source": [
        "#### 사용할 라이브러리 생성."
      ],
      "metadata": {
        "id": "7BtjsFr7K-N_"
      }
    },
    {
      "cell_type": "code",
      "source": [
        "%matplotlib inline\n",
        "import pandas as pd\n",
        "import numpy as np\n",
        "import matplotlib.pyplot as plt\n",
        "import seaborn as sns\n"
      ],
      "metadata": {
        "id": "LnqdCbqTKzL9"
      },
      "execution_count": 2,
      "outputs": []
    },
    {
      "cell_type": "code",
      "source": [
        "# 데이터 불러오기.\n",
        "url = '/content/drive/MyDrive/project3  file./train_df_token.csv'\n",
        "\n",
        "train_df = pd.read_csv(url)\n",
        "\n",
        "# 컬럼 : 'Unnamed: 0' 을 제거합니다.\n",
        "train_df.drop(['Unnamed: 0'], axis = 1, inplace = True)"
      ],
      "metadata": {
        "id": "M8E6hDJGLalD"
      },
      "execution_count": 3,
      "outputs": []
    },
    {
      "cell_type": "code",
      "source": [
        "train_df.head(2)"
      ],
      "metadata": {
        "colab": {
          "base_uri": "https://localhost:8080/",
          "height": 112
        },
        "id": "XdWz9yOzL6J8",
        "outputId": "9e36b150-9ed1-498e-fa20-c362736ec59e"
      },
      "execution_count": 4,
      "outputs": [
        {
          "output_type": "execute_result",
          "data": {
            "text/plain": [
              "                                   리뷰텍스트  label\n",
              "0  정말 다 ~맛있는데 ~~ 난 먹을때마다 탕수육에서 냄새가 나는걸까?    3.0\n",
              "1               몇 짐을 돌아오신건지 자장떡을 먹다 맘 ㅠㅠ    3.0"
            ],
            "text/html": [
              "\n",
              "  <div id=\"df-c7d51833-343f-401e-83c0-529f1da3464f\">\n",
              "    <div class=\"colab-df-container\">\n",
              "      <div>\n",
              "<style scoped>\n",
              "    .dataframe tbody tr th:only-of-type {\n",
              "        vertical-align: middle;\n",
              "    }\n",
              "\n",
              "    .dataframe tbody tr th {\n",
              "        vertical-align: top;\n",
              "    }\n",
              "\n",
              "    .dataframe thead th {\n",
              "        text-align: right;\n",
              "    }\n",
              "</style>\n",
              "<table border=\"1\" class=\"dataframe\">\n",
              "  <thead>\n",
              "    <tr style=\"text-align: right;\">\n",
              "      <th></th>\n",
              "      <th>리뷰텍스트</th>\n",
              "      <th>label</th>\n",
              "    </tr>\n",
              "  </thead>\n",
              "  <tbody>\n",
              "    <tr>\n",
              "      <th>0</th>\n",
              "      <td>정말 다 ~맛있는데 ~~ 난 먹을때마다 탕수육에서 냄새가 나는걸까?</td>\n",
              "      <td>3.0</td>\n",
              "    </tr>\n",
              "    <tr>\n",
              "      <th>1</th>\n",
              "      <td>몇 짐을 돌아오신건지 자장떡을 먹다 맘 ㅠㅠ</td>\n",
              "      <td>3.0</td>\n",
              "    </tr>\n",
              "  </tbody>\n",
              "</table>\n",
              "</div>\n",
              "      <button class=\"colab-df-convert\" onclick=\"convertToInteractive('df-c7d51833-343f-401e-83c0-529f1da3464f')\"\n",
              "              title=\"Convert this dataframe to an interactive table.\"\n",
              "              style=\"display:none;\">\n",
              "        \n",
              "  <svg xmlns=\"http://www.w3.org/2000/svg\" height=\"24px\"viewBox=\"0 0 24 24\"\n",
              "       width=\"24px\">\n",
              "    <path d=\"M0 0h24v24H0V0z\" fill=\"none\"/>\n",
              "    <path d=\"M18.56 5.44l.94 2.06.94-2.06 2.06-.94-2.06-.94-.94-2.06-.94 2.06-2.06.94zm-11 1L8.5 8.5l.94-2.06 2.06-.94-2.06-.94L8.5 2.5l-.94 2.06-2.06.94zm10 10l.94 2.06.94-2.06 2.06-.94-2.06-.94-.94-2.06-.94 2.06-2.06.94z\"/><path d=\"M17.41 7.96l-1.37-1.37c-.4-.4-.92-.59-1.43-.59-.52 0-1.04.2-1.43.59L10.3 9.45l-7.72 7.72c-.78.78-.78 2.05 0 2.83L4 21.41c.39.39.9.59 1.41.59.51 0 1.02-.2 1.41-.59l7.78-7.78 2.81-2.81c.8-.78.8-2.07 0-2.86zM5.41 20L4 18.59l7.72-7.72 1.47 1.35L5.41 20z\"/>\n",
              "  </svg>\n",
              "      </button>\n",
              "      \n",
              "  <style>\n",
              "    .colab-df-container {\n",
              "      display:flex;\n",
              "      flex-wrap:wrap;\n",
              "      gap: 12px;\n",
              "    }\n",
              "\n",
              "    .colab-df-convert {\n",
              "      background-color: #E8F0FE;\n",
              "      border: none;\n",
              "      border-radius: 50%;\n",
              "      cursor: pointer;\n",
              "      display: none;\n",
              "      fill: #1967D2;\n",
              "      height: 32px;\n",
              "      padding: 0 0 0 0;\n",
              "      width: 32px;\n",
              "    }\n",
              "\n",
              "    .colab-df-convert:hover {\n",
              "      background-color: #E2EBFA;\n",
              "      box-shadow: 0px 1px 2px rgba(60, 64, 67, 0.3), 0px 1px 3px 1px rgba(60, 64, 67, 0.15);\n",
              "      fill: #174EA6;\n",
              "    }\n",
              "\n",
              "    [theme=dark] .colab-df-convert {\n",
              "      background-color: #3B4455;\n",
              "      fill: #D2E3FC;\n",
              "    }\n",
              "\n",
              "    [theme=dark] .colab-df-convert:hover {\n",
              "      background-color: #434B5C;\n",
              "      box-shadow: 0px 1px 3px 1px rgba(0, 0, 0, 0.15);\n",
              "      filter: drop-shadow(0px 1px 2px rgba(0, 0, 0, 0.3));\n",
              "      fill: #FFFFFF;\n",
              "    }\n",
              "  </style>\n",
              "\n",
              "      <script>\n",
              "        const buttonEl =\n",
              "          document.querySelector('#df-c7d51833-343f-401e-83c0-529f1da3464f button.colab-df-convert');\n",
              "        buttonEl.style.display =\n",
              "          google.colab.kernel.accessAllowed ? 'block' : 'none';\n",
              "\n",
              "        async function convertToInteractive(key) {\n",
              "          const element = document.querySelector('#df-c7d51833-343f-401e-83c0-529f1da3464f');\n",
              "          const dataTable =\n",
              "            await google.colab.kernel.invokeFunction('convertToInteractive',\n",
              "                                                     [key], {});\n",
              "          if (!dataTable) return;\n",
              "\n",
              "          const docLinkHtml = 'Like what you see? Visit the ' +\n",
              "            '<a target=\"_blank\" href=https://colab.research.google.com/notebooks/data_table.ipynb>data table notebook</a>'\n",
              "            + ' to learn more about interactive tables.';\n",
              "          element.innerHTML = '';\n",
              "          dataTable['output_type'] = 'display_data';\n",
              "          await google.colab.output.renderOutput(dataTable, element);\n",
              "          const docLink = document.createElement('div');\n",
              "          docLink.innerHTML = docLinkHtml;\n",
              "          element.appendChild(docLink);\n",
              "        }\n",
              "      </script>\n",
              "    </div>\n",
              "  </div>\n",
              "  "
            ]
          },
          "metadata": {},
          "execution_count": 4
        }
      ]
    },
    {
      "cell_type": "code",
      "source": [
        "train_df.info()"
      ],
      "metadata": {
        "colab": {
          "base_uri": "https://localhost:8080/"
        },
        "id": "oxXhtz8ELk-M",
        "outputId": "f0b54173-83cb-4c0a-bae8-89cd0e97ea5a"
      },
      "execution_count": 5,
      "outputs": [
        {
          "output_type": "stream",
          "name": "stdout",
          "text": [
            "<class 'pandas.core.frame.DataFrame'>\n",
            "RangeIndex: 11845 entries, 0 to 11844\n",
            "Data columns (total 2 columns):\n",
            " #   Column  Non-Null Count  Dtype  \n",
            "---  ------  --------------  -----  \n",
            " 0   리뷰텍스트   11845 non-null  object \n",
            " 1   label   11791 non-null  float64\n",
            "dtypes: float64(1), object(1)\n",
            "memory usage: 185.2+ KB\n"
          ]
        }
      ]
    },
    {
      "cell_type": "code",
      "source": [
        "# 결측값이 존재하는 행이 있는지 확인합니다.\n",
        "train_df[train_df['label'].isnull()]"
      ],
      "metadata": {
        "colab": {
          "base_uri": "https://localhost:8080/",
          "height": 1000
        },
        "id": "Y81UAe7rL3-s",
        "outputId": "30ac5882-ba29-4813-bad9-cc48314786e2"
      },
      "execution_count": 6,
      "outputs": [
        {
          "output_type": "execute_result",
          "data": {
            "text/plain": [
              "                                                  리뷰텍스트  label\n",
              "92     너무 맛있었어요😊 여자친구가 비건 카페를 좋아한다고해서 같이 갔는 데, 비건카페라...    NaN\n",
              "197                               조용하고 뷰도 좋고 가성비 좋은 음식점    NaN\n",
              "400   1. 입장하면 음료교환권 주는데 추가금은 별도 계산해야합니다. 2. 모닥불이 두 곳...    NaN\n",
              "747                                            친절하고 맛있고    NaN\n",
              "788                       코로나로 진짜 오랫만에 갔는데 깔끔해져서 좋아요 ㅎㅎ    NaN\n",
              "1051                                   친절해여 커피가 맛있어요 !!    NaN\n",
              "1128          두딸과 함께 팬케이크 2개짜리를 2번 먹었어요. 달지않고 깔끔한 맛입니다.    NaN\n",
              "1223  아직 크리스마스 에디션은 많이 없는거 같아요 ㅎㅎ 그래도 예뻤구 케이크 짱 기대됩니...    NaN\n",
              "1430  친구들하고 내기볼링하러 갔는데 시설도 깔끔하고 분위기도 엄청 좋았어요 직원분들도 친...    NaN\n",
              "1620  별내에 칼국수 맛집이 흔하지 않는데, 시원한 멸치국수 맛이 최고여서 자주 이용합니다...    NaN\n",
              "1649                                          주차편하고 좋아요    NaN\n",
              "1900  흑임자라떼 아몬드크로와상 검색해서 왔는데 잘찾아온것같아서 둘다 너무 맛있어요 기분 ...    NaN\n",
              "1901                                   뷰도 좋고 커피 찐 맛집이에요    NaN\n",
              "1902                      퇴근하고 자주가는 곳입니다♡ 맛있고 친절하고 좋아요!    NaN\n",
              "2046                                              맛있어요~    NaN\n",
              "2242  별내 맛집,,,최고에요💓 언제 먹어도 너무 맛있어요👍🏻 사진에는 없지만 할라피뇨 파...    NaN\n",
              "2243                                   1메뉴 1쉐프 맛집입니다 굿굿    NaN\n",
              "2244                                           맛있고 좋아요🥰    NaN\n",
              "2245                도우가 쫄깃쫄깃하니 맛있었어요 :-) 까르보나라도 맛있었어용👍🏻    NaN\n",
              "2417  샤브샤브가 너어어무 맛있어요💖 재료 추가 잘 안하는데 매번 버섯 추가해요! 진짜 버...    NaN\n",
              "2420  말이 필요없음.더 있었으면 더 먹었을듯요. 배불러도 자꾸 들어가는맛. 얼큰샤브는 그...    NaN\n",
              "2579                         맛있게 잘 먹었습니다~ 별내 숨은 맛집이에요!!    NaN\n",
              "2664                                           항상 맛있어요ㅎ    NaN\n",
              "2969  처음 갔는데 소고기무한리필 중 가장 괜찮은거 같아요! 직원분 너무 친절하시고 고기 ...    NaN\n",
              "3166  저는 운이 좋아 수타면발 만드시는 장면도 보았는데요 그래서인지 너무 맛있게 먹고 갑...    NaN\n",
              "3237  오늘은 잉글리쉬 반토막 버젼으로: 러빙하는 빵에갸또~ 올리브푸가스 드디어 겟함! 크...    NaN\n",
              "3498                                                  굿    NaN\n",
              "3710  런치세트 구성도 푸짐하고 가성비도 좋네요. 고기를 다 구워주셔서 더운데 땀 뺄 필요...    NaN\n",
              "3821       사장님친절하시고 섬세하게 신경써주셔서 편하게 잘먹고왔습니다 재방문의사 200프로    NaN\n",
              "4017  포장케이스를 던져주고, 제가 포장을 해야하나요? 남은음식 싸간다고 포장은 알아서 하...    NaN\n",
              "4131  늘솜당 제가 좋아하는 빵집이라 진짜 자주왔는데 오늘 간만에 오고 리뷰도 처음써보네요...    NaN\n",
              "4144  2년전에 다니다가 쉬고 다시 다닐만큼 친절하고 세세하게 잘가르쳐주세요. 무리하지않고...    NaN\n",
              "4148  1년 넘게 다니고 있는데 선생님들이 다들 너무 좋으세요!! 한명한명 빠짐없이 자세도...    NaN\n",
              "4173                                              맛있어요😊    NaN\n",
              "4223                                       갈증나서 한잔 먹었어요    NaN\n",
              "4940                                  친절하시구 음식도 맛있어요ㅎㅎ1    NaN\n",
              "5180                                               포장이요    NaN\n",
              "5284                                               맛있어요    NaN\n",
              "5888  리뷰에 직원분 불친절하단 얘기가 있던데, 다른분이신지 모르겠지만 금욜 저녁 직원분들...    NaN\n",
              "5890                                 가볍게 먹기 좋은 서브웨이 좋아요    NaN\n",
              "5949                                             맛있어요🙂🙂    NaN\n",
              "6071                                 고기맛잇어요 참두깨끗하게잘나오고요    NaN\n",
              "6091     사장님의 자상함과 친절한 써비스로 마음 편하게 대화 할 수 있어서 너무 좋아요~^^    NaN\n",
              "6220                                            플리마켓 맛집    NaN\n",
              "6379  동네에서 손가락에 꼽는 김밥 맛집이에요 양도 푸짐하고 재료도 신선하고 정말 맛있어요...    NaN\n",
              "6510                                         깨끗해요. 편안해요    NaN\n",
              "6536  깔끔한 화이트 톤 인테리어, 넓은 공간, 맛있는 디저트 ㅎㅎ 가볍게 동네마실 하러 ...    NaN\n",
              "6617                                   푸짐하게 잘 먹고 가요! ☺️    NaN\n",
              "6657                                       좋아요 매장도깔끔하고1    NaN\n",
              "8874                                               맛있어요    NaN\n",
              "9226      초코 케이크 샀는데 가격도 저렴하고 맛있어요! 사장님 하트초 서비스 감사합니다 😚    NaN\n",
              "9635               24시간이라 좋아요. 직원 분들도 친절하시고 돈까스랑 쫄면 짱맛🤤    NaN\n",
              "9661                                    푸짐해요, 맛있게 먹었어요😊    NaN\n",
              "9888  먹느라 사진이 많이 없지만, 회관하면 유치회관만 알았는데 이런 맛집이 있을줄이야 !...    NaN"
            ],
            "text/html": [
              "\n",
              "  <div id=\"df-6e9ee9c2-24af-40a8-beca-1939c808248a\">\n",
              "    <div class=\"colab-df-container\">\n",
              "      <div>\n",
              "<style scoped>\n",
              "    .dataframe tbody tr th:only-of-type {\n",
              "        vertical-align: middle;\n",
              "    }\n",
              "\n",
              "    .dataframe tbody tr th {\n",
              "        vertical-align: top;\n",
              "    }\n",
              "\n",
              "    .dataframe thead th {\n",
              "        text-align: right;\n",
              "    }\n",
              "</style>\n",
              "<table border=\"1\" class=\"dataframe\">\n",
              "  <thead>\n",
              "    <tr style=\"text-align: right;\">\n",
              "      <th></th>\n",
              "      <th>리뷰텍스트</th>\n",
              "      <th>label</th>\n",
              "    </tr>\n",
              "  </thead>\n",
              "  <tbody>\n",
              "    <tr>\n",
              "      <th>92</th>\n",
              "      <td>너무 맛있었어요😊 여자친구가 비건 카페를 좋아한다고해서 같이 갔는 데, 비건카페라...</td>\n",
              "      <td>NaN</td>\n",
              "    </tr>\n",
              "    <tr>\n",
              "      <th>197</th>\n",
              "      <td>조용하고 뷰도 좋고 가성비 좋은 음식점</td>\n",
              "      <td>NaN</td>\n",
              "    </tr>\n",
              "    <tr>\n",
              "      <th>400</th>\n",
              "      <td>1. 입장하면 음료교환권 주는데 추가금은 별도 계산해야합니다. 2. 모닥불이 두 곳...</td>\n",
              "      <td>NaN</td>\n",
              "    </tr>\n",
              "    <tr>\n",
              "      <th>747</th>\n",
              "      <td>친절하고 맛있고</td>\n",
              "      <td>NaN</td>\n",
              "    </tr>\n",
              "    <tr>\n",
              "      <th>788</th>\n",
              "      <td>코로나로 진짜 오랫만에 갔는데 깔끔해져서 좋아요 ㅎㅎ</td>\n",
              "      <td>NaN</td>\n",
              "    </tr>\n",
              "    <tr>\n",
              "      <th>1051</th>\n",
              "      <td>친절해여 커피가 맛있어요 !!</td>\n",
              "      <td>NaN</td>\n",
              "    </tr>\n",
              "    <tr>\n",
              "      <th>1128</th>\n",
              "      <td>두딸과 함께 팬케이크 2개짜리를 2번 먹었어요. 달지않고 깔끔한 맛입니다.</td>\n",
              "      <td>NaN</td>\n",
              "    </tr>\n",
              "    <tr>\n",
              "      <th>1223</th>\n",
              "      <td>아직 크리스마스 에디션은 많이 없는거 같아요 ㅎㅎ 그래도 예뻤구 케이크 짱 기대됩니...</td>\n",
              "      <td>NaN</td>\n",
              "    </tr>\n",
              "    <tr>\n",
              "      <th>1430</th>\n",
              "      <td>친구들하고 내기볼링하러 갔는데 시설도 깔끔하고 분위기도 엄청 좋았어요 직원분들도 친...</td>\n",
              "      <td>NaN</td>\n",
              "    </tr>\n",
              "    <tr>\n",
              "      <th>1620</th>\n",
              "      <td>별내에 칼국수 맛집이 흔하지 않는데, 시원한 멸치국수 맛이 최고여서 자주 이용합니다...</td>\n",
              "      <td>NaN</td>\n",
              "    </tr>\n",
              "    <tr>\n",
              "      <th>1649</th>\n",
              "      <td>주차편하고 좋아요</td>\n",
              "      <td>NaN</td>\n",
              "    </tr>\n",
              "    <tr>\n",
              "      <th>1900</th>\n",
              "      <td>흑임자라떼 아몬드크로와상 검색해서 왔는데 잘찾아온것같아서 둘다 너무 맛있어요 기분 ...</td>\n",
              "      <td>NaN</td>\n",
              "    </tr>\n",
              "    <tr>\n",
              "      <th>1901</th>\n",
              "      <td>뷰도 좋고 커피 찐 맛집이에요</td>\n",
              "      <td>NaN</td>\n",
              "    </tr>\n",
              "    <tr>\n",
              "      <th>1902</th>\n",
              "      <td>퇴근하고 자주가는 곳입니다♡ 맛있고 친절하고 좋아요!</td>\n",
              "      <td>NaN</td>\n",
              "    </tr>\n",
              "    <tr>\n",
              "      <th>2046</th>\n",
              "      <td>맛있어요~</td>\n",
              "      <td>NaN</td>\n",
              "    </tr>\n",
              "    <tr>\n",
              "      <th>2242</th>\n",
              "      <td>별내 맛집,,,최고에요💓 언제 먹어도 너무 맛있어요👍🏻 사진에는 없지만 할라피뇨 파...</td>\n",
              "      <td>NaN</td>\n",
              "    </tr>\n",
              "    <tr>\n",
              "      <th>2243</th>\n",
              "      <td>1메뉴 1쉐프 맛집입니다 굿굿</td>\n",
              "      <td>NaN</td>\n",
              "    </tr>\n",
              "    <tr>\n",
              "      <th>2244</th>\n",
              "      <td>맛있고 좋아요🥰</td>\n",
              "      <td>NaN</td>\n",
              "    </tr>\n",
              "    <tr>\n",
              "      <th>2245</th>\n",
              "      <td>도우가 쫄깃쫄깃하니 맛있었어요 :-) 까르보나라도 맛있었어용👍🏻</td>\n",
              "      <td>NaN</td>\n",
              "    </tr>\n",
              "    <tr>\n",
              "      <th>2417</th>\n",
              "      <td>샤브샤브가 너어어무 맛있어요💖 재료 추가 잘 안하는데 매번 버섯 추가해요! 진짜 버...</td>\n",
              "      <td>NaN</td>\n",
              "    </tr>\n",
              "    <tr>\n",
              "      <th>2420</th>\n",
              "      <td>말이 필요없음.더 있었으면 더 먹었을듯요. 배불러도 자꾸 들어가는맛. 얼큰샤브는 그...</td>\n",
              "      <td>NaN</td>\n",
              "    </tr>\n",
              "    <tr>\n",
              "      <th>2579</th>\n",
              "      <td>맛있게 잘 먹었습니다~ 별내 숨은 맛집이에요!!</td>\n",
              "      <td>NaN</td>\n",
              "    </tr>\n",
              "    <tr>\n",
              "      <th>2664</th>\n",
              "      <td>항상 맛있어요ㅎ</td>\n",
              "      <td>NaN</td>\n",
              "    </tr>\n",
              "    <tr>\n",
              "      <th>2969</th>\n",
              "      <td>처음 갔는데 소고기무한리필 중 가장 괜찮은거 같아요! 직원분 너무 친절하시고 고기 ...</td>\n",
              "      <td>NaN</td>\n",
              "    </tr>\n",
              "    <tr>\n",
              "      <th>3166</th>\n",
              "      <td>저는 운이 좋아 수타면발 만드시는 장면도 보았는데요 그래서인지 너무 맛있게 먹고 갑...</td>\n",
              "      <td>NaN</td>\n",
              "    </tr>\n",
              "    <tr>\n",
              "      <th>3237</th>\n",
              "      <td>오늘은 잉글리쉬 반토막 버젼으로: 러빙하는 빵에갸또~ 올리브푸가스 드디어 겟함! 크...</td>\n",
              "      <td>NaN</td>\n",
              "    </tr>\n",
              "    <tr>\n",
              "      <th>3498</th>\n",
              "      <td>굿</td>\n",
              "      <td>NaN</td>\n",
              "    </tr>\n",
              "    <tr>\n",
              "      <th>3710</th>\n",
              "      <td>런치세트 구성도 푸짐하고 가성비도 좋네요. 고기를 다 구워주셔서 더운데 땀 뺄 필요...</td>\n",
              "      <td>NaN</td>\n",
              "    </tr>\n",
              "    <tr>\n",
              "      <th>3821</th>\n",
              "      <td>사장님친절하시고 섬세하게 신경써주셔서 편하게 잘먹고왔습니다 재방문의사 200프로</td>\n",
              "      <td>NaN</td>\n",
              "    </tr>\n",
              "    <tr>\n",
              "      <th>4017</th>\n",
              "      <td>포장케이스를 던져주고, 제가 포장을 해야하나요? 남은음식 싸간다고 포장은 알아서 하...</td>\n",
              "      <td>NaN</td>\n",
              "    </tr>\n",
              "    <tr>\n",
              "      <th>4131</th>\n",
              "      <td>늘솜당 제가 좋아하는 빵집이라 진짜 자주왔는데 오늘 간만에 오고 리뷰도 처음써보네요...</td>\n",
              "      <td>NaN</td>\n",
              "    </tr>\n",
              "    <tr>\n",
              "      <th>4144</th>\n",
              "      <td>2년전에 다니다가 쉬고 다시 다닐만큼 친절하고 세세하게 잘가르쳐주세요. 무리하지않고...</td>\n",
              "      <td>NaN</td>\n",
              "    </tr>\n",
              "    <tr>\n",
              "      <th>4148</th>\n",
              "      <td>1년 넘게 다니고 있는데 선생님들이 다들 너무 좋으세요!! 한명한명 빠짐없이 자세도...</td>\n",
              "      <td>NaN</td>\n",
              "    </tr>\n",
              "    <tr>\n",
              "      <th>4173</th>\n",
              "      <td>맛있어요😊</td>\n",
              "      <td>NaN</td>\n",
              "    </tr>\n",
              "    <tr>\n",
              "      <th>4223</th>\n",
              "      <td>갈증나서 한잔 먹었어요</td>\n",
              "      <td>NaN</td>\n",
              "    </tr>\n",
              "    <tr>\n",
              "      <th>4940</th>\n",
              "      <td>친절하시구 음식도 맛있어요ㅎㅎ1</td>\n",
              "      <td>NaN</td>\n",
              "    </tr>\n",
              "    <tr>\n",
              "      <th>5180</th>\n",
              "      <td>포장이요</td>\n",
              "      <td>NaN</td>\n",
              "    </tr>\n",
              "    <tr>\n",
              "      <th>5284</th>\n",
              "      <td>맛있어요</td>\n",
              "      <td>NaN</td>\n",
              "    </tr>\n",
              "    <tr>\n",
              "      <th>5888</th>\n",
              "      <td>리뷰에 직원분 불친절하단 얘기가 있던데, 다른분이신지 모르겠지만 금욜 저녁 직원분들...</td>\n",
              "      <td>NaN</td>\n",
              "    </tr>\n",
              "    <tr>\n",
              "      <th>5890</th>\n",
              "      <td>가볍게 먹기 좋은 서브웨이 좋아요</td>\n",
              "      <td>NaN</td>\n",
              "    </tr>\n",
              "    <tr>\n",
              "      <th>5949</th>\n",
              "      <td>맛있어요🙂🙂</td>\n",
              "      <td>NaN</td>\n",
              "    </tr>\n",
              "    <tr>\n",
              "      <th>6071</th>\n",
              "      <td>고기맛잇어요 참두깨끗하게잘나오고요</td>\n",
              "      <td>NaN</td>\n",
              "    </tr>\n",
              "    <tr>\n",
              "      <th>6091</th>\n",
              "      <td>사장님의 자상함과 친절한 써비스로 마음 편하게 대화 할 수 있어서 너무 좋아요~^^</td>\n",
              "      <td>NaN</td>\n",
              "    </tr>\n",
              "    <tr>\n",
              "      <th>6220</th>\n",
              "      <td>플리마켓 맛집</td>\n",
              "      <td>NaN</td>\n",
              "    </tr>\n",
              "    <tr>\n",
              "      <th>6379</th>\n",
              "      <td>동네에서 손가락에 꼽는 김밥 맛집이에요 양도 푸짐하고 재료도 신선하고 정말 맛있어요...</td>\n",
              "      <td>NaN</td>\n",
              "    </tr>\n",
              "    <tr>\n",
              "      <th>6510</th>\n",
              "      <td>깨끗해요. 편안해요</td>\n",
              "      <td>NaN</td>\n",
              "    </tr>\n",
              "    <tr>\n",
              "      <th>6536</th>\n",
              "      <td>깔끔한 화이트 톤 인테리어, 넓은 공간, 맛있는 디저트 ㅎㅎ 가볍게 동네마실 하러 ...</td>\n",
              "      <td>NaN</td>\n",
              "    </tr>\n",
              "    <tr>\n",
              "      <th>6617</th>\n",
              "      <td>푸짐하게 잘 먹고 가요! ☺️</td>\n",
              "      <td>NaN</td>\n",
              "    </tr>\n",
              "    <tr>\n",
              "      <th>6657</th>\n",
              "      <td>좋아요 매장도깔끔하고1</td>\n",
              "      <td>NaN</td>\n",
              "    </tr>\n",
              "    <tr>\n",
              "      <th>8874</th>\n",
              "      <td>맛있어요</td>\n",
              "      <td>NaN</td>\n",
              "    </tr>\n",
              "    <tr>\n",
              "      <th>9226</th>\n",
              "      <td>초코 케이크 샀는데 가격도 저렴하고 맛있어요! 사장님 하트초 서비스 감사합니다 😚</td>\n",
              "      <td>NaN</td>\n",
              "    </tr>\n",
              "    <tr>\n",
              "      <th>9635</th>\n",
              "      <td>24시간이라 좋아요. 직원 분들도 친절하시고 돈까스랑 쫄면 짱맛🤤</td>\n",
              "      <td>NaN</td>\n",
              "    </tr>\n",
              "    <tr>\n",
              "      <th>9661</th>\n",
              "      <td>푸짐해요, 맛있게 먹었어요😊</td>\n",
              "      <td>NaN</td>\n",
              "    </tr>\n",
              "    <tr>\n",
              "      <th>9888</th>\n",
              "      <td>먹느라 사진이 많이 없지만, 회관하면 유치회관만 알았는데 이런 맛집이 있을줄이야 !...</td>\n",
              "      <td>NaN</td>\n",
              "    </tr>\n",
              "  </tbody>\n",
              "</table>\n",
              "</div>\n",
              "      <button class=\"colab-df-convert\" onclick=\"convertToInteractive('df-6e9ee9c2-24af-40a8-beca-1939c808248a')\"\n",
              "              title=\"Convert this dataframe to an interactive table.\"\n",
              "              style=\"display:none;\">\n",
              "        \n",
              "  <svg xmlns=\"http://www.w3.org/2000/svg\" height=\"24px\"viewBox=\"0 0 24 24\"\n",
              "       width=\"24px\">\n",
              "    <path d=\"M0 0h24v24H0V0z\" fill=\"none\"/>\n",
              "    <path d=\"M18.56 5.44l.94 2.06.94-2.06 2.06-.94-2.06-.94-.94-2.06-.94 2.06-2.06.94zm-11 1L8.5 8.5l.94-2.06 2.06-.94-2.06-.94L8.5 2.5l-.94 2.06-2.06.94zm10 10l.94 2.06.94-2.06 2.06-.94-2.06-.94-.94-2.06-.94 2.06-2.06.94z\"/><path d=\"M17.41 7.96l-1.37-1.37c-.4-.4-.92-.59-1.43-.59-.52 0-1.04.2-1.43.59L10.3 9.45l-7.72 7.72c-.78.78-.78 2.05 0 2.83L4 21.41c.39.39.9.59 1.41.59.51 0 1.02-.2 1.41-.59l7.78-7.78 2.81-2.81c.8-.78.8-2.07 0-2.86zM5.41 20L4 18.59l7.72-7.72 1.47 1.35L5.41 20z\"/>\n",
              "  </svg>\n",
              "      </button>\n",
              "      \n",
              "  <style>\n",
              "    .colab-df-container {\n",
              "      display:flex;\n",
              "      flex-wrap:wrap;\n",
              "      gap: 12px;\n",
              "    }\n",
              "\n",
              "    .colab-df-convert {\n",
              "      background-color: #E8F0FE;\n",
              "      border: none;\n",
              "      border-radius: 50%;\n",
              "      cursor: pointer;\n",
              "      display: none;\n",
              "      fill: #1967D2;\n",
              "      height: 32px;\n",
              "      padding: 0 0 0 0;\n",
              "      width: 32px;\n",
              "    }\n",
              "\n",
              "    .colab-df-convert:hover {\n",
              "      background-color: #E2EBFA;\n",
              "      box-shadow: 0px 1px 2px rgba(60, 64, 67, 0.3), 0px 1px 3px 1px rgba(60, 64, 67, 0.15);\n",
              "      fill: #174EA6;\n",
              "    }\n",
              "\n",
              "    [theme=dark] .colab-df-convert {\n",
              "      background-color: #3B4455;\n",
              "      fill: #D2E3FC;\n",
              "    }\n",
              "\n",
              "    [theme=dark] .colab-df-convert:hover {\n",
              "      background-color: #434B5C;\n",
              "      box-shadow: 0px 1px 3px 1px rgba(0, 0, 0, 0.15);\n",
              "      filter: drop-shadow(0px 1px 2px rgba(0, 0, 0, 0.3));\n",
              "      fill: #FFFFFF;\n",
              "    }\n",
              "  </style>\n",
              "\n",
              "      <script>\n",
              "        const buttonEl =\n",
              "          document.querySelector('#df-6e9ee9c2-24af-40a8-beca-1939c808248a button.colab-df-convert');\n",
              "        buttonEl.style.display =\n",
              "          google.colab.kernel.accessAllowed ? 'block' : 'none';\n",
              "\n",
              "        async function convertToInteractive(key) {\n",
              "          const element = document.querySelector('#df-6e9ee9c2-24af-40a8-beca-1939c808248a');\n",
              "          const dataTable =\n",
              "            await google.colab.kernel.invokeFunction('convertToInteractive',\n",
              "                                                     [key], {});\n",
              "          if (!dataTable) return;\n",
              "\n",
              "          const docLinkHtml = 'Like what you see? Visit the ' +\n",
              "            '<a target=\"_blank\" href=https://colab.research.google.com/notebooks/data_table.ipynb>data table notebook</a>'\n",
              "            + ' to learn more about interactive tables.';\n",
              "          element.innerHTML = '';\n",
              "          dataTable['output_type'] = 'display_data';\n",
              "          await google.colab.output.renderOutput(dataTable, element);\n",
              "          const docLink = document.createElement('div');\n",
              "          docLink.innerHTML = docLinkHtml;\n",
              "          element.appendChild(docLink);\n",
              "        }\n",
              "      </script>\n",
              "    </div>\n",
              "  </div>\n",
              "  "
            ]
          },
          "metadata": {},
          "execution_count": 6
        }
      ]
    },
    {
      "cell_type": "code",
      "source": [
        "# 결측값이 존재하는 컬럼 : label에 값을 채워넣습니다. \n",
        "train_df.at[92,'label'] = 1\n",
        "train_df.at[197,'label'] = 1\n",
        "train_df.at[400,'label'] = 2\n",
        "train_df.at[747,'label'] = 1\n",
        "train_df.at[788,'label'] = 1\n",
        "train_df.at[1051,'label'] = 1\n",
        "train_df.at[1128,'label'] = 1\n",
        "train_df.at[1223,'label'] = 1\n",
        "train_df.at[1430,'label'] = 1\n",
        "train_df.at[1620,'label'] = 1\n",
        "\n",
        "\n",
        "train_df.at[1649,'label'] = 1\n",
        "train_df.at[1900,'label'] = 1\n",
        "train_df.at[1901,'label'] = 1\n",
        "train_df.at[1902,'label'] = 1\n",
        "train_df.at[2046,'label'] = 1\n",
        "\n",
        "\n",
        "train_df.at[2242,'label'] = 1\n",
        "train_df.at[2243,'label'] = 1\n",
        "train_df.at[2244,'label'] = 1\n",
        "train_df.at[2245,'label'] = 1\n",
        "train_df.at[2417,'label'] = 1\n",
        "\n",
        "train_df.at[2420,'label'] = 1\n",
        "train_df.at[2579,'label'] = 1\n",
        "train_df.at[2664,'label'] = 1\n",
        "train_df.at[2969,'label'] = 1\n",
        "train_df.at[3166,'label'] = 1\n",
        "\n",
        "train_df.at[3237,'label'] = 1\n",
        "train_df.at[3498,'label'] = 1\n",
        "train_df.at[3710,'label'] = 1\n",
        "train_df.at[3821,'label'] = 1\n",
        "train_df.at[4017,'label'] = 3\n",
        "\n",
        "train_df.at[4131,'label'] =1\n",
        "train_df.at[4144,'label'] =1\n",
        "train_df.at[4148,'label'] =1\n",
        "train_df.at[4173,'label'] =1\n",
        "\n",
        "train_df.at[4223,'label'] = 1\n",
        "train_df.at[4940,'label'] = 1\n",
        "train_df.at[5180,'label'] = 1\n",
        "train_df.at[5284,'label'] = 1\n",
        "train_df.at[5888,'label'] = 1\n",
        "\n",
        "train_df.at[5890,'label'] = 1\n",
        "train_df.at[5949,'label'] = 1\n",
        "train_df.at[6071,'label'] = 1\n",
        "train_df.at[6091,'label'] = 1\n",
        "train_df.at[6220,'label'] = 1\n",
        "\n",
        "\n",
        "train_df.at[6379,'label'] = 1\n",
        "train_df.at[6510,'label'] = 1\n",
        "train_df.at[6536,'label'] = 1\n",
        "train_df.at[6617,'label'] = 1\n",
        "train_df.at[6657,'label'] = 1\n",
        "\n",
        "train_df.at[8874,'label'] = 1\n",
        "train_df.at[9226,'label'] = 1\n",
        "train_df.at[9635,'label'] = 1\n",
        "train_df.at[9661,'label'] = 1\n",
        "train_df.at[9888,'label'] = 1 "
      ],
      "metadata": {
        "id": "dK_wFvkALmAO"
      },
      "execution_count": 7,
      "outputs": []
    },
    {
      "cell_type": "code",
      "source": [
        "# 행의 결측값을 다시 한 번 확인합니다.\n",
        "train_df['label'].isnull().sum()"
      ],
      "metadata": {
        "colab": {
          "base_uri": "https://localhost:8080/"
        },
        "id": "JvitloGTS1OX",
        "outputId": "9b193729-5328-42a4-b67a-3af8a033d6d1"
      },
      "execution_count": 8,
      "outputs": [
        {
          "output_type": "execute_result",
          "data": {
            "text/plain": [
              "0"
            ]
          },
          "metadata": {},
          "execution_count": 8
        }
      ]
    },
    {
      "cell_type": "code",
      "source": [
        "# 타겟의 범주가 어떤 비율을 가지고 있는지 확인하기.\n",
        "train_tg = train_df['label']\n",
        "train_tg.value_counts(normalize=True)"
      ],
      "metadata": {
        "colab": {
          "base_uri": "https://localhost:8080/"
        },
        "id": "Lwus3_rRS_X8",
        "outputId": "674e3880-0694-4570-b5b2-cbe3dfc4d94c"
      },
      "execution_count": 9,
      "outputs": [
        {
          "output_type": "execute_result",
          "data": {
            "text/plain": [
              "1.0     0.882989\n",
              "2.0     0.066442\n",
              "3.0     0.049979\n",
              "11.0    0.000507\n",
              "33.0    0.000084\n",
              "Name: label, dtype: float64"
            ]
          },
          "metadata": {},
          "execution_count": 9
        }
      ]
    },
    {
      "cell_type": "code",
      "source": [
        "# 타겟 범주 비율을 시각화 합니다.\n",
        "\n",
        "import seaborn as sns\n",
        "import matplotlib.pyplot as plt\n",
        "%matplotlib inline\n",
        "sns.countplot(x=train_tg);"
      ],
      "metadata": {
        "colab": {
          "base_uri": "https://localhost:8080/",
          "height": 279
        },
        "id": "cN8KLtvUYXV1",
        "outputId": "7217c839-b538-4e2a-be0b-5e6626459841"
      },
      "execution_count": 10,
      "outputs": [
        {
          "output_type": "display_data",
          "data": {
            "text/plain": [
              "<Figure size 432x288 with 1 Axes>"
            ],
            "image/png": "[encoded data removed]"
          },
          "metadata": {
            "needs_background": "light"
          }
        }
      ]
    },
    {
      "cell_type": "code",
      "source": [
        "# 11 및 3으로 잘못 표기된 값들을 고쳐줍니다. 11 ->1, 33 -> 3\n",
        "\n",
        "# 먼저 11로 작성된 데이터의 행의 위치를 살펴봅니다.\n",
        "train_df[train_df['label'] == 11]\n",
        "\n",
        "# 이후 텍스트를 확인하여 값을 변경해줍니다.\n",
        "train_df.at[85,'label'] = 1\n",
        "train_df.at[298,'label'] = 1 \n",
        "train_df.at[3820,'label'] = 1 \n",
        "train_df.at[8345,'label'] = 1\n",
        "train_df.at[9102,'label'] = 1  \n",
        "train_df.at[9866,'label'] = 1\n",
        "\n",
        "# 마지막으로 11로 작성된 데이터의 행의 위치를 살펴봅니다.\n",
        "train_df[train_df['label'] == 33]\n",
        "\n",
        "# 이후 텍스트를 확인하여 값을 변경해줍니다.\n",
        "train_df.at[8304,'label'] = 3"
      ],
      "metadata": {
        "id": "B4Xc41niYoIi"
      },
      "execution_count": 11,
      "outputs": []
    },
    {
      "cell_type": "code",
      "source": [
        "train_df[train_df['label'] == 33]"
      ],
      "metadata": {
        "colab": {
          "base_uri": "https://localhost:8080/",
          "height": 49
        },
        "id": "g_b_2eXuY4FB",
        "outputId": "4e3bc985-de91-41f8-87f6-8016eddb80fe"
      },
      "execution_count": 12,
      "outputs": [
        {
          "output_type": "execute_result",
          "data": {
            "text/plain": [
              "Empty DataFrame\n",
              "Columns: [리뷰텍스트, label]\n",
              "Index: []"
            ],
            "text/html": [
              "\n",
              "  <div id=\"df-bb49f87b-e319-4dcb-bda5-3fe47edf2977\">\n",
              "    <div class=\"colab-df-container\">\n",
              "      <div>\n",
              "<style scoped>\n",
              "    .dataframe tbody tr th:only-of-type {\n",
              "        vertical-align: middle;\n",
              "    }\n",
              "\n",
              "    .dataframe tbody tr th {\n",
              "        vertical-align: top;\n",
              "    }\n",
              "\n",
              "    .dataframe thead th {\n",
              "        text-align: right;\n",
              "    }\n",
              "</style>\n",
              "<table border=\"1\" class=\"dataframe\">\n",
              "  <thead>\n",
              "    <tr style=\"text-align: right;\">\n",
              "      <th></th>\n",
              "      <th>리뷰텍스트</th>\n",
              "      <th>label</th>\n",
              "    </tr>\n",
              "  </thead>\n",
              "  <tbody>\n",
              "  </tbody>\n",
              "</table>\n",
              "</div>\n",
              "      <button class=\"colab-df-convert\" onclick=\"convertToInteractive('df-bb49f87b-e319-4dcb-bda5-3fe47edf2977')\"\n",
              "              title=\"Convert this dataframe to an interactive table.\"\n",
              "              style=\"display:none;\">\n",
              "        \n",
              "  <svg xmlns=\"http://www.w3.org/2000/svg\" height=\"24px\"viewBox=\"0 0 24 24\"\n",
              "       width=\"24px\">\n",
              "    <path d=\"M0 0h24v24H0V0z\" fill=\"none\"/>\n",
              "    <path d=\"M18.56 5.44l.94 2.06.94-2.06 2.06-.94-2.06-.94-.94-2.06-.94 2.06-2.06.94zm-11 1L8.5 8.5l.94-2.06 2.06-.94-2.06-.94L8.5 2.5l-.94 2.06-2.06.94zm10 10l.94 2.06.94-2.06 2.06-.94-2.06-.94-.94-2.06-.94 2.06-2.06.94z\"/><path d=\"M17.41 7.96l-1.37-1.37c-.4-.4-.92-.59-1.43-.59-.52 0-1.04.2-1.43.59L10.3 9.45l-7.72 7.72c-.78.78-.78 2.05 0 2.83L4 21.41c.39.39.9.59 1.41.59.51 0 1.02-.2 1.41-.59l7.78-7.78 2.81-2.81c.8-.78.8-2.07 0-2.86zM5.41 20L4 18.59l7.72-7.72 1.47 1.35L5.41 20z\"/>\n",
              "  </svg>\n",
              "      </button>\n",
              "      \n",
              "  <style>\n",
              "    .colab-df-container {\n",
              "      display:flex;\n",
              "      flex-wrap:wrap;\n",
              "      gap: 12px;\n",
              "    }\n",
              "\n",
              "    .colab-df-convert {\n",
              "      background-color: #E8F0FE;\n",
              "      border: none;\n",
              "      border-radius: 50%;\n",
              "      cursor: pointer;\n",
              "      display: none;\n",
              "      fill: #1967D2;\n",
              "      height: 32px;\n",
              "      padding: 0 0 0 0;\n",
              "      width: 32px;\n",
              "    }\n",
              "\n",
              "    .colab-df-convert:hover {\n",
              "      background-color: #E2EBFA;\n",
              "      box-shadow: 0px 1px 2px rgba(60, 64, 67, 0.3), 0px 1px 3px 1px rgba(60, 64, 67, 0.15);\n",
              "      fill: #174EA6;\n",
              "    }\n",
              "\n",
              "    [theme=dark] .colab-df-convert {\n",
              "      background-color: #3B4455;\n",
              "      fill: #D2E3FC;\n",
              "    }\n",
              "\n",
              "    [theme=dark] .colab-df-convert:hover {\n",
              "      background-color: #434B5C;\n",
              "      box-shadow: 0px 1px 3px 1px rgba(0, 0, 0, 0.15);\n",
              "      filter: drop-shadow(0px 1px 2px rgba(0, 0, 0, 0.3));\n",
              "      fill: #FFFFFF;\n",
              "    }\n",
              "  </style>\n",
              "\n",
              "      <script>\n",
              "        const buttonEl =\n",
              "          document.querySelector('#df-bb49f87b-e319-4dcb-bda5-3fe47edf2977 button.colab-df-convert');\n",
              "        buttonEl.style.display =\n",
              "          google.colab.kernel.accessAllowed ? 'block' : 'none';\n",
              "\n",
              "        async function convertToInteractive(key) {\n",
              "          const element = document.querySelector('#df-bb49f87b-e319-4dcb-bda5-3fe47edf2977');\n",
              "          const dataTable =\n",
              "            await google.colab.kernel.invokeFunction('convertToInteractive',\n",
              "                                                     [key], {});\n",
              "          if (!dataTable) return;\n",
              "\n",
              "          const docLinkHtml = 'Like what you see? Visit the ' +\n",
              "            '<a target=\"_blank\" href=https://colab.research.google.com/notebooks/data_table.ipynb>data table notebook</a>'\n",
              "            + ' to learn more about interactive tables.';\n",
              "          element.innerHTML = '';\n",
              "          dataTable['output_type'] = 'display_data';\n",
              "          await google.colab.output.renderOutput(dataTable, element);\n",
              "          const docLink = document.createElement('div');\n",
              "          docLink.innerHTML = docLinkHtml;\n",
              "          element.appendChild(docLink);\n",
              "        }\n",
              "      </script>\n",
              "    </div>\n",
              "  </div>\n",
              "  "
            ]
          },
          "metadata": {},
          "execution_count": 12
        }
      ]
    },
    {
      "cell_type": "markdown",
      "source": [
        "#### 이후 `train_df['label']`의 값을 다시 바꿔줍니다.\n",
        "\n",
        "* **긍정**은 다음과 같이 표기 합니다. : 1\n",
        "* **보통**은 다음과 같이 표기 합니다. : 0\n",
        "* **부정**은 다음과 같이 표기 합니다. : -1 \n",
        "\n",
        "> 긍정 label은 기존에 사용한 값 1과 일치합니다.<br>\n",
        "보통 및 부정의 의미를 갖는 2,3번의 값만 바꿔주면 될 것 같습니다."
      ],
      "metadata": {
        "id": "9LYFrErgPhTZ"
      }
    },
    {
      "cell_type": "code",
      "source": [
        "train_df['label'].replace(2,0, inplace =True)\n",
        "train_df['label'].replace(3,-1, inplace =True)"
      ],
      "metadata": {
        "id": "VbqdfgaBQCzU"
      },
      "execution_count": 13,
      "outputs": []
    },
    {
      "cell_type": "code",
      "source": [
        "# 다시 한 번 값의 범주 비율을 확인합니다.\n",
        "train_tg = train_df['label']\n",
        "train_tg.value_counts(normalize=True)"
      ],
      "metadata": {
        "colab": {
          "base_uri": "https://localhost:8080/"
        },
        "id": "f6huwwB3ZwVb",
        "outputId": "a43fb4f0-cfc1-4535-a44a-d346a2f1879d"
      },
      "execution_count": 14,
      "outputs": [
        {
          "output_type": "execute_result",
          "data": {
            "text/plain": [
              " 1.0    0.883495\n",
              " 0.0    0.066442\n",
              "-1.0    0.050063\n",
              "Name: label, dtype: float64"
            ]
          },
          "metadata": {},
          "execution_count": 14
        }
      ]
    },
    {
      "cell_type": "markdown",
      "source": [
        "#### 클래스 불균형.\n",
        "> 1의 값은 만족을 나타내고, 2는 보통, 3은 부정을 나타냅니다.\n",
        "\n",
        "* 만족을 나타내는 값이 너무 많습니다, 추후 모델이 긍정만을 예측하는 경우가 생깁니다 <br/>\n",
        "\n",
        "* 긍정리뷰를 잘 예측할 수 있으나, 부통과 부정에 관하여는 정확도가 매우 낮을 수 있습니다.\n",
        "\n"
      ],
      "metadata": {
        "id": "3VIJ-yKLZ7y0"
      }
    },
    {
      "cell_type": "markdown",
      "source": [
        "#### 데이터 전처리 "
      ],
      "metadata": {
        "id": "J5aBoRDRdLBw"
      }
    },
    {
      "cell_type": "code",
      "source": [
        "# 데이터 전처리\n",
        "\n",
        "# 컬럼: 리뷰텍스트 구간에서 중복된 리뷰가 존재했습니다. 열을 지정하여 중복을 제거합니다.\n",
        "train_df.drop_duplicates(['리뷰텍스트'], inplace=True)"
      ],
      "metadata": {
        "id": "4Y23N3lKc8vA"
      },
      "execution_count": 15,
      "outputs": []
    },
    {
      "cell_type": "code",
      "source": [
        "# 타겟 범주 비율을 시각화 합니다.\n",
        "\n",
        "import seaborn as sns\n",
        "import matplotlib.pyplot as plt\n",
        "%matplotlib inline\n",
        "sns.countplot(x=train_df['label']);"
      ],
      "metadata": {
        "colab": {
          "base_uri": "https://localhost:8080/",
          "height": 279
        },
        "id": "8ZT9B5Y9diEz",
        "outputId": "19d7ae02-c9b0-4103-d6a4-cc5299b8c432"
      },
      "execution_count": 16,
      "outputs": [
        {
          "output_type": "display_data",
          "data": {
            "text/plain": [
              "<Figure size 432x288 with 1 Axes>"
            ],
            "image/png": "[encoded data removed]"
          },
          "metadata": {
            "needs_background": "light"
          }
        }
      ]
    },
    {
      "cell_type": "code",
      "source": [
        "train_df['label'].value_counts()"
      ],
      "metadata": {
        "colab": {
          "base_uri": "https://localhost:8080/"
        },
        "id": "6h0sEU8Ad2r5",
        "outputId": "1608beeb-c9e2-4d0f-c1c2-f1059a64e487"
      },
      "execution_count": 17,
      "outputs": [
        {
          "output_type": "execute_result",
          "data": {
            "text/plain": [
              " 1.0    6570\n",
              "-1.0     528\n",
              " 0.0     498\n",
              "Name: label, dtype: int64"
            ]
          },
          "metadata": {},
          "execution_count": 17
        }
      ]
    },
    {
      "cell_type": "code",
      "source": [
        "#긍정, 보통 및 불만족에 대한 데이터의 개수는 가장 낮은 보통을 나타내는 데이터의 개수를 기준으로 합니다.\n",
        "\n",
        "# 개수를 일치하고, 각 값이 속한 인덱스 번호를 추출합니다.\n",
        "\n",
        "# 긍정\n",
        "positive_random_idx = train_df[train_df['label'] == 1].sample(498, random_state= 10).index.tolist()\n",
        "\n",
        "# 보통\n",
        "normal_random_idx = train_df[train_df['label'] == 0].sample(498, random_state = 10).index.tolist()\n",
        "\n",
        "# 부정\n",
        "nagative_random_idx = train_df[train_df['label'] == -1].sample(498, random_state = 10).index.tolist()\n",
        "\n",
        "\n",
        "# 위에서 생성한 각각의 인덱스 값을 모두 더합니다.\n",
        "train_random_idx = positive_random_idx + normal_random_idx + nagative_random_idx"
      ],
      "metadata": {
        "id": "LFKH2GRbecuG"
      },
      "execution_count": 18,
      "outputs": []
    },
    {
      "cell_type": "code",
      "source": [
        "# 위에서 가져온 인덱스 리스트 요소를 뽑아 다시 훈련 데이터를 생성합니다.\n",
        "cleaned_train_df = train_df.loc[train_random_idx]\n",
        "cleaned_train_df.shape"
      ],
      "metadata": {
        "colab": {
          "base_uri": "https://localhost:8080/"
        },
        "id": "xPCdq_EXfBae",
        "outputId": "bce605b0-f16b-4819-fb7a-8b4d38f0d780"
      },
      "execution_count": 19,
      "outputs": [
        {
          "output_type": "execute_result",
          "data": {
            "text/plain": [
              "(1494, 2)"
            ]
          },
          "metadata": {},
          "execution_count": 19
        }
      ]
    },
    {
      "cell_type": "markdown",
      "source": [
        "#### 훈련 데이터 리뷰의 전체 길이를 확인해야 합니다."
      ],
      "metadata": {
        "id": "Tj16h-2IIF-X"
      }
    },
    {
      "cell_type": "code",
      "source": [
        "train_length = train_df['리뷰텍스트'].astype(str).apply(len)"
      ],
      "metadata": {
        "id": "RmKQHM7vILgp"
      },
      "execution_count": 20,
      "outputs": []
    },
    {
      "cell_type": "code",
      "source": [
        "#리뷰 통계 정보\n",
        "print('리뷰 길이 최댓값: {}'.format(np.max(train_length)))\n",
        "print('리뷰 길이 최솟값: {}'.format(np.min(train_length)))\n",
        "print('리뷰 길이 평균값: {:.2f}'.format(np.mean(train_length)))\n",
        "print('리뷰 길이 표준편차: {:.2f}'.format(np.std(train_length)))\n",
        "print('리뷰 길이 중간값: {}'.format(np.median(train_length)))\n",
        "print('리뷰 길이 제1사분위: {}'.format(np.percentile(train_length,25)))\n",
        "print('리뷰 길이 제3사분위: {}'.format(np.percentile(train_length,75)))"
      ],
      "metadata": {
        "colab": {
          "base_uri": "https://localhost:8080/"
        },
        "id": "u_wQqTQ_IY_F",
        "outputId": "c5674805-c071-490c-9437-bbe1564615d9"
      },
      "execution_count": 21,
      "outputs": [
        {
          "output_type": "stream",
          "name": "stdout",
          "text": [
            "리뷰 길이 최댓값: 263\n",
            "리뷰 길이 최솟값: 1\n",
            "리뷰 길이 평균값: 51.10\n",
            "리뷰 길이 표준편차: 56.20\n",
            "리뷰 길이 중간값: 27.0\n",
            "리뷰 길이 제1사분위: 13.0\n",
            "리뷰 길이 제3사분위: 70.0\n"
          ]
        }
      ]
    },
    {
      "cell_type": "markdown",
      "source": [
        "---\n",
        "## test_data 작업\n",
        "\n"
      ],
      "metadata": {
        "id": "zQcYtYIvpC1e"
      }
    },
    {
      "cell_type": "code",
      "source": [
        "# 테스트를 진행할 데이터 또한 가져옵니다.\n",
        "url = '/content/drive/MyDrive/project3  file./test_df_token.csv'\n",
        "test_df = pd.read_csv(url, encoding = 'utf-8')\n",
        "\n",
        "# 리뷰텍스트의 \"\" 값 제거\n",
        "test_df = test_df[test_df.리뷰텍스트 !=\"\"]\n",
        "test_df = test_df[test_df.리뷰텍스트 !='없음']\n",
        "test_df = test_df.dropna()\n",
        "\n",
        "# 컬럼 : 'Unnamed: 0' 제거.\n",
        "test_df.drop(['Unnamed: 0.1','Unnamed: 0'], axis = 1, inplace = True)"
      ],
      "metadata": {
        "id": "y5V4FflKgL-G"
      },
      "execution_count": 22,
      "outputs": []
    },
    {
      "cell_type": "code",
      "source": [
        "test_df.shape"
      ],
      "metadata": {
        "colab": {
          "base_uri": "https://localhost:8080/"
        },
        "id": "PY0Wi7sGgSB8",
        "outputId": "0c19d7b1-9da8-4ec4-c06a-25e400f407d8"
      },
      "execution_count": 23,
      "outputs": [
        {
          "output_type": "execute_result",
          "data": {
            "text/plain": [
              "(1212, 2)"
            ]
          },
          "metadata": {},
          "execution_count": 23
        }
      ]
    },
    {
      "cell_type": "code",
      "source": [
        "test_df.info()"
      ],
      "metadata": {
        "colab": {
          "base_uri": "https://localhost:8080/"
        },
        "id": "tkH2-f75mIOC",
        "outputId": "6d6f7e35-e3a4-4869-916b-4713aac04564"
      },
      "execution_count": 24,
      "outputs": [
        {
          "output_type": "stream",
          "name": "stdout",
          "text": [
            "<class 'pandas.core.frame.DataFrame'>\n",
            "Int64Index: 1212 entries, 0 to 1211\n",
            "Data columns (total 2 columns):\n",
            " #   Column  Non-Null Count  Dtype \n",
            "---  ------  --------------  ----- \n",
            " 0   리뷰텍스트   1212 non-null   object\n",
            " 1   label   1212 non-null   int64 \n",
            "dtypes: int64(1), object(1)\n",
            "memory usage: 28.4+ KB\n"
          ]
        }
      ]
    },
    {
      "cell_type": "code",
      "source": [
        "test_df.head()"
      ],
      "metadata": {
        "colab": {
          "base_uri": "https://localhost:8080/",
          "height": 206
        },
        "id": "WI_SfHWB3P4N",
        "outputId": "7358e0d9-5307-42d7-9b09-9845b4d2d76c"
      },
      "execution_count": 25,
      "outputs": [
        {
          "output_type": "execute_result",
          "data": {
            "text/plain": [
              "                                               리뷰텍스트  label\n",
              "0                                     분위기좋고 대화하기 좋아요      1\n",
              "1  매장은 넓어 보여 분위기 좋을것같아 방문 청결상태 별로ㅠㅠ 직원분인지 사장님인지 모...     -1\n",
              "2                                                 굿굿      1\n",
              "3                                       조용히 얘기하기 좋아요      1\n",
              "4                                               맛있어요      1"
            ],
            "text/html": [
              "\n",
              "  <div id=\"df-35bcd168-3485-4fec-88fd-428693170222\">\n",
              "    <div class=\"colab-df-container\">\n",
              "      <div>\n",
              "<style scoped>\n",
              "    .dataframe tbody tr th:only-of-type {\n",
              "        vertical-align: middle;\n",
              "    }\n",
              "\n",
              "    .dataframe tbody tr th {\n",
              "        vertical-align: top;\n",
              "    }\n",
              "\n",
              "    .dataframe thead th {\n",
              "        text-align: right;\n",
              "    }\n",
              "</style>\n",
              "<table border=\"1\" class=\"dataframe\">\n",
              "  <thead>\n",
              "    <tr style=\"text-align: right;\">\n",
              "      <th></th>\n",
              "      <th>리뷰텍스트</th>\n",
              "      <th>label</th>\n",
              "    </tr>\n",
              "  </thead>\n",
              "  <tbody>\n",
              "    <tr>\n",
              "      <th>0</th>\n",
              "      <td>분위기좋고 대화하기 좋아요</td>\n",
              "      <td>1</td>\n",
              "    </tr>\n",
              "    <tr>\n",
              "      <th>1</th>\n",
              "      <td>매장은 넓어 보여 분위기 좋을것같아 방문 청결상태 별로ㅠㅠ 직원분인지 사장님인지 모...</td>\n",
              "      <td>-1</td>\n",
              "    </tr>\n",
              "    <tr>\n",
              "      <th>2</th>\n",
              "      <td>굿굿</td>\n",
              "      <td>1</td>\n",
              "    </tr>\n",
              "    <tr>\n",
              "      <th>3</th>\n",
              "      <td>조용히 얘기하기 좋아요</td>\n",
              "      <td>1</td>\n",
              "    </tr>\n",
              "    <tr>\n",
              "      <th>4</th>\n",
              "      <td>맛있어요</td>\n",
              "      <td>1</td>\n",
              "    </tr>\n",
              "  </tbody>\n",
              "</table>\n",
              "</div>\n",
              "      <button class=\"colab-df-convert\" onclick=\"convertToInteractive('df-35bcd168-3485-4fec-88fd-428693170222')\"\n",
              "              title=\"Convert this dataframe to an interactive table.\"\n",
              "              style=\"display:none;\">\n",
              "        \n",
              "  <svg xmlns=\"http://www.w3.org/2000/svg\" height=\"24px\"viewBox=\"0 0 24 24\"\n",
              "       width=\"24px\">\n",
              "    <path d=\"M0 0h24v24H0V0z\" fill=\"none\"/>\n",
              "    <path d=\"M18.56 5.44l.94 2.06.94-2.06 2.06-.94-2.06-.94-.94-2.06-.94 2.06-2.06.94zm-11 1L8.5 8.5l.94-2.06 2.06-.94-2.06-.94L8.5 2.5l-.94 2.06-2.06.94zm10 10l.94 2.06.94-2.06 2.06-.94-2.06-.94-.94-2.06-.94 2.06-2.06.94z\"/><path d=\"M17.41 7.96l-1.37-1.37c-.4-.4-.92-.59-1.43-.59-.52 0-1.04.2-1.43.59L10.3 9.45l-7.72 7.72c-.78.78-.78 2.05 0 2.83L4 21.41c.39.39.9.59 1.41.59.51 0 1.02-.2 1.41-.59l7.78-7.78 2.81-2.81c.8-.78.8-2.07 0-2.86zM5.41 20L4 18.59l7.72-7.72 1.47 1.35L5.41 20z\"/>\n",
              "  </svg>\n",
              "      </button>\n",
              "      \n",
              "  <style>\n",
              "    .colab-df-container {\n",
              "      display:flex;\n",
              "      flex-wrap:wrap;\n",
              "      gap: 12px;\n",
              "    }\n",
              "\n",
              "    .colab-df-convert {\n",
              "      background-color: #E8F0FE;\n",
              "      border: none;\n",
              "      border-radius: 50%;\n",
              "      cursor: pointer;\n",
              "      display: none;\n",
              "      fill: #1967D2;\n",
              "      height: 32px;\n",
              "      padding: 0 0 0 0;\n",
              "      width: 32px;\n",
              "    }\n",
              "\n",
              "    .colab-df-convert:hover {\n",
              "      background-color: #E2EBFA;\n",
              "      box-shadow: 0px 1px 2px rgba(60, 64, 67, 0.3), 0px 1px 3px 1px rgba(60, 64, 67, 0.15);\n",
              "      fill: #174EA6;\n",
              "    }\n",
              "\n",
              "    [theme=dark] .colab-df-convert {\n",
              "      background-color: #3B4455;\n",
              "      fill: #D2E3FC;\n",
              "    }\n",
              "\n",
              "    [theme=dark] .colab-df-convert:hover {\n",
              "      background-color: #434B5C;\n",
              "      box-shadow: 0px 1px 3px 1px rgba(0, 0, 0, 0.15);\n",
              "      filter: drop-shadow(0px 1px 2px rgba(0, 0, 0, 0.3));\n",
              "      fill: #FFFFFF;\n",
              "    }\n",
              "  </style>\n",
              "\n",
              "      <script>\n",
              "        const buttonEl =\n",
              "          document.querySelector('#df-35bcd168-3485-4fec-88fd-428693170222 button.colab-df-convert');\n",
              "        buttonEl.style.display =\n",
              "          google.colab.kernel.accessAllowed ? 'block' : 'none';\n",
              "\n",
              "        async function convertToInteractive(key) {\n",
              "          const element = document.querySelector('#df-35bcd168-3485-4fec-88fd-428693170222');\n",
              "          const dataTable =\n",
              "            await google.colab.kernel.invokeFunction('convertToInteractive',\n",
              "                                                     [key], {});\n",
              "          if (!dataTable) return;\n",
              "\n",
              "          const docLinkHtml = 'Like what you see? Visit the ' +\n",
              "            '<a target=\"_blank\" href=https://colab.research.google.com/notebooks/data_table.ipynb>data table notebook</a>'\n",
              "            + ' to learn more about interactive tables.';\n",
              "          element.innerHTML = '';\n",
              "          dataTable['output_type'] = 'display_data';\n",
              "          await google.colab.output.renderOutput(dataTable, element);\n",
              "          const docLink = document.createElement('div');\n",
              "          docLink.innerHTML = docLinkHtml;\n",
              "          element.appendChild(docLink);\n",
              "        }\n",
              "      </script>\n",
              "    </div>\n",
              "  </div>\n",
              "  "
            ]
          },
          "metadata": {},
          "execution_count": 25
        }
      ]
    },
    {
      "cell_type": "markdown",
      "source": [
        "#### 테스트 데이터 또한 전처리 작업을 진행합니다."
      ],
      "metadata": {
        "id": "JRoVt-uQqnbM"
      }
    },
    {
      "cell_type": "code",
      "source": [
        "# 데이터 전처리\n",
        "\n",
        "# 컬럼: 리뷰텍스트 구간에서 중복된 리뷰가 존재했습니다. 열을 지정하여 중복을 제거합니다.\n",
        "test_df.drop_duplicates(['리뷰텍스트'], inplace=True)\n",
        "test_df.shape"
      ],
      "metadata": {
        "colab": {
          "base_uri": "https://localhost:8080/"
        },
        "id": "6Iba_bGKqt96",
        "outputId": "a0e7c106-3cc9-4ac9-ec4a-d14bf183e6c2"
      },
      "execution_count": 26,
      "outputs": [
        {
          "output_type": "execute_result",
          "data": {
            "text/plain": [
              "(1212, 2)"
            ]
          },
          "metadata": {},
          "execution_count": 26
        }
      ]
    },
    {
      "cell_type": "code",
      "source": [
        "test_df.head(1)"
      ],
      "metadata": {
        "colab": {
          "base_uri": "https://localhost:8080/",
          "height": 81
        },
        "id": "jLMW23pFuZ1E",
        "outputId": "6a1d372e-119d-4f09-ee88-72a104da3b56"
      },
      "execution_count": 27,
      "outputs": [
        {
          "output_type": "execute_result",
          "data": {
            "text/plain": [
              "            리뷰텍스트  label\n",
              "0  분위기좋고 대화하기 좋아요      1"
            ],
            "text/html": [
              "\n",
              "  <div id=\"df-8c6475e9-7705-4260-a442-698f6bec1657\">\n",
              "    <div class=\"colab-df-container\">\n",
              "      <div>\n",
              "<style scoped>\n",
              "    .dataframe tbody tr th:only-of-type {\n",
              "        vertical-align: middle;\n",
              "    }\n",
              "\n",
              "    .dataframe tbody tr th {\n",
              "        vertical-align: top;\n",
              "    }\n",
              "\n",
              "    .dataframe thead th {\n",
              "        text-align: right;\n",
              "    }\n",
              "</style>\n",
              "<table border=\"1\" class=\"dataframe\">\n",
              "  <thead>\n",
              "    <tr style=\"text-align: right;\">\n",
              "      <th></th>\n",
              "      <th>리뷰텍스트</th>\n",
              "      <th>label</th>\n",
              "    </tr>\n",
              "  </thead>\n",
              "  <tbody>\n",
              "    <tr>\n",
              "      <th>0</th>\n",
              "      <td>분위기좋고 대화하기 좋아요</td>\n",
              "      <td>1</td>\n",
              "    </tr>\n",
              "  </tbody>\n",
              "</table>\n",
              "</div>\n",
              "      <button class=\"colab-df-convert\" onclick=\"convertToInteractive('df-8c6475e9-7705-4260-a442-698f6bec1657')\"\n",
              "              title=\"Convert this dataframe to an interactive table.\"\n",
              "              style=\"display:none;\">\n",
              "        \n",
              "  <svg xmlns=\"http://www.w3.org/2000/svg\" height=\"24px\"viewBox=\"0 0 24 24\"\n",
              "       width=\"24px\">\n",
              "    <path d=\"M0 0h24v24H0V0z\" fill=\"none\"/>\n",
              "    <path d=\"M18.56 5.44l.94 2.06.94-2.06 2.06-.94-2.06-.94-.94-2.06-.94 2.06-2.06.94zm-11 1L8.5 8.5l.94-2.06 2.06-.94-2.06-.94L8.5 2.5l-.94 2.06-2.06.94zm10 10l.94 2.06.94-2.06 2.06-.94-2.06-.94-.94-2.06-.94 2.06-2.06.94z\"/><path d=\"M17.41 7.96l-1.37-1.37c-.4-.4-.92-.59-1.43-.59-.52 0-1.04.2-1.43.59L10.3 9.45l-7.72 7.72c-.78.78-.78 2.05 0 2.83L4 21.41c.39.39.9.59 1.41.59.51 0 1.02-.2 1.41-.59l7.78-7.78 2.81-2.81c.8-.78.8-2.07 0-2.86zM5.41 20L4 18.59l7.72-7.72 1.47 1.35L5.41 20z\"/>\n",
              "  </svg>\n",
              "      </button>\n",
              "      \n",
              "  <style>\n",
              "    .colab-df-container {\n",
              "      display:flex;\n",
              "      flex-wrap:wrap;\n",
              "      gap: 12px;\n",
              "    }\n",
              "\n",
              "    .colab-df-convert {\n",
              "      background-color: #E8F0FE;\n",
              "      border: none;\n",
              "      border-radius: 50%;\n",
              "      cursor: pointer;\n",
              "      display: none;\n",
              "      fill: #1967D2;\n",
              "      height: 32px;\n",
              "      padding: 0 0 0 0;\n",
              "      width: 32px;\n",
              "    }\n",
              "\n",
              "    .colab-df-convert:hover {\n",
              "      background-color: #E2EBFA;\n",
              "      box-shadow: 0px 1px 2px rgba(60, 64, 67, 0.3), 0px 1px 3px 1px rgba(60, 64, 67, 0.15);\n",
              "      fill: #174EA6;\n",
              "    }\n",
              "\n",
              "    [theme=dark] .colab-df-convert {\n",
              "      background-color: #3B4455;\n",
              "      fill: #D2E3FC;\n",
              "    }\n",
              "\n",
              "    [theme=dark] .colab-df-convert:hover {\n",
              "      background-color: #434B5C;\n",
              "      box-shadow: 0px 1px 3px 1px rgba(0, 0, 0, 0.15);\n",
              "      filter: drop-shadow(0px 1px 2px rgba(0, 0, 0, 0.3));\n",
              "      fill: #FFFFFF;\n",
              "    }\n",
              "  </style>\n",
              "\n",
              "      <script>\n",
              "        const buttonEl =\n",
              "          document.querySelector('#df-8c6475e9-7705-4260-a442-698f6bec1657 button.colab-df-convert');\n",
              "        buttonEl.style.display =\n",
              "          google.colab.kernel.accessAllowed ? 'block' : 'none';\n",
              "\n",
              "        async function convertToInteractive(key) {\n",
              "          const element = document.querySelector('#df-8c6475e9-7705-4260-a442-698f6bec1657');\n",
              "          const dataTable =\n",
              "            await google.colab.kernel.invokeFunction('convertToInteractive',\n",
              "                                                     [key], {});\n",
              "          if (!dataTable) return;\n",
              "\n",
              "          const docLinkHtml = 'Like what you see? Visit the ' +\n",
              "            '<a target=\"_blank\" href=https://colab.research.google.com/notebooks/data_table.ipynb>data table notebook</a>'\n",
              "            + ' to learn more about interactive tables.';\n",
              "          element.innerHTML = '';\n",
              "          dataTable['output_type'] = 'display_data';\n",
              "          await google.colab.output.renderOutput(dataTable, element);\n",
              "          const docLink = document.createElement('div');\n",
              "          docLink.innerHTML = docLinkHtml;\n",
              "          element.appendChild(docLink);\n",
              "        }\n",
              "      </script>\n",
              "    </div>\n",
              "  </div>\n",
              "  "
            ]
          },
          "metadata": {},
          "execution_count": 27
        }
      ]
    },
    {
      "cell_type": "code",
      "source": [
        "# 테스트 데이터의 label 값들의 분포를 확인합니다.\n",
        "sns.countplot(x=test_df['label'])"
      ],
      "metadata": {
        "id": "n-7ct_kLcQZR",
        "colab": {
          "base_uri": "https://localhost:8080/",
          "height": 297
        },
        "outputId": "dd4048d6-2c05-49ff-81d6-bb09c8db1834"
      },
      "execution_count": 28,
      "outputs": [
        {
          "output_type": "execute_result",
          "data": {
            "text/plain": [
              "<matplotlib.axes._subplots.AxesSubplot at 0x7f90f4f82d10>"
            ]
          },
          "metadata": {},
          "execution_count": 28
        },
        {
          "output_type": "display_data",
          "data": {
            "text/plain": [
              "<Figure size 432x288 with 1 Axes>"
            ],
            "image/png": "[encoded data removed]"
          },
          "metadata": {
            "needs_background": "light"
          }
        }
      ]
    },
    {
      "cell_type": "markdown",
      "source": [
        "## 모델을 만들기 위한 작업\n",
        "> 각각의 리뷰 텍스트를 토근화합니다.<br>\n",
        "❗ 한글 텍스트의 경우, Okt 형태소 분석기를 활용하였습니다."
      ],
      "metadata": {
        "id": "QQPbYdYVpy-c"
      }
    },
    {
      "cell_type": "code",
      "source": [
        "# 필요한 패키지를 설치합니다.\n",
        "!pip install konlpy"
      ],
      "metadata": {
        "colab": {
          "base_uri": "https://localhost:8080/"
        },
        "id": "B1128G_2scwZ",
        "outputId": "950e8ec7-3e37-4b9b-91dd-6598303e033b"
      },
      "execution_count": 29,
      "outputs": [
        {
          "output_type": "stream",
          "name": "stdout",
          "text": [
            "Looking in indexes: https://pypi.org/simple, https://us-python.pkg.dev/colab-wheels/public/simple/\n",
            "Collecting konlpy\n",
            "  Downloading konlpy-0.6.0-py2.py3-none-any.whl (19.4 MB)\n",
            "\u001b[K     |████████████████████████████████| 19.4 MB 633 kB/s \n",
            "\u001b[?25hRequirement already satisfied: lxml>=4.1.0 in /usr/local/lib/python3.7/dist-packages (from konlpy) (4.2.6)\n",
            "Requirement already satisfied: numpy>=1.6 in /usr/local/lib/python3.7/dist-packages (from konlpy) (1.21.6)\n",
            "Collecting JPype1>=0.7.0\n",
            "  Downloading JPype1-1.4.0-cp37-cp37m-manylinux_2_5_x86_64.manylinux1_x86_64.whl (453 kB)\n",
            "\u001b[K     |████████████████████████████████| 453 kB 71.4 MB/s \n",
            "\u001b[?25hRequirement already satisfied: typing-extensions in /usr/local/lib/python3.7/dist-packages (from JPype1>=0.7.0->konlpy) (4.1.1)\n",
            "Installing collected packages: JPype1, konlpy\n",
            "Successfully installed JPype1-1.4.0 konlpy-0.6.0\n"
          ]
        }
      ]
    },
    {
      "cell_type": "code",
      "source": [
        "# 필요한 라이브러리를 가져옵니다.\n",
        "import re\n",
        "import json\n",
        "from konlpy.tag import Okt\n",
        "from tensorflow.keras.preprocessing.sequence import pad_sequences\n",
        "from tensorflow.keras.preprocessing.text import Tokenizer"
      ],
      "metadata": {
        "id": "w2GV9xWEq8FO"
      },
      "execution_count": 30,
      "outputs": []
    },
    {
      "cell_type": "markdown",
      "source": [
        "#### 1. 각 리뷰에 대하여 토큰화 진행\n",
        "> 함수를 생성하여 진행하도록 하겠습니다.<br/>\n",
        "먼저 **불용어** 리스트를 생성합니다. \n",
        "\n",
        "\n",
        "* 불용어가 담긴 리스트는 `stop_words` 입니다."
      ],
      "metadata": {
        "id": "0BJIPLFSsYuH"
      }
    },
    {
      "cell_type": "code",
      "source": [
        "### 불용어 생성 코드\n",
        "\n",
        "# 불용어가 들어가 있는 텍스트 가져오기. \n",
        "url = '/content/drive/MyDrive/project3  file./koreanstopword.txt'\n",
        "\n",
        "with open(url, 'r') as swt:\n",
        "  \n",
        "  # 불용어 리스트를 생성합니다, 이 때 각 리스트 요소마다 생기는 개행문자를 제거해즙니다,\n",
        "  stop_words = [i.strip() for i in swt]\n",
        "\n",
        "## 완성된 불용어 리스트를 확인합니다,\n",
        "#stop_words\n",
        "\n"
      ],
      "metadata": {
        "id": "WgMITh8JtR7e"
      },
      "execution_count": 31,
      "outputs": []
    },
    {
      "cell_type": "markdown",
      "source": [
        "#### 2. 각 데이터를 전처리 할 수 있는 함수를 생성합니다. "
      ],
      "metadata": {
        "id": "LU9dQsRVU1_o"
      }
    },
    {
      "cell_type": "code",
      "source": [
        "def preprocessing(review, okt, remove_stopwords = False, stop_words = []):\n",
        "\n",
        "  # 지정한 파라미터들은 다음과 같은 역할을 합니다.\n",
        " \n",
        "  #           review : 전처리를 진행할 텍스트\n",
        "  #              okt : 객체를 반복적으로 생성하지 않고, 미리 생성 후 인자로 받습니다.\n",
        "  # remove_stopwords : 불용어를 제거할 지에 대한 여부를 선택합니다.\n",
        "  #       stop_words : 불용어 사전은 사용자가 직접 입력. (기본 값 빈 리스트)\n",
        "\n",
        " \n",
        "  # 1. 한글 및 공백 제외한 문자를 모두 제거합니다.\n",
        "  #     re.sub(정규표현식, 대상 문자열, 치환 문자)\n",
        "  review_text = re.sub('[^가-힣ㄱ-ㅎㅏ-ㅣ\\\\s]','',review)\n",
        " \n",
        "  #2. okt 객체를 활용하여 형태소 단어로 나눠줍니다.\n",
        "  word_review = okt.morphs(review_text,stem=True)\n",
        "  \n",
        "  # 불용어 제거하기.\n",
        "  if remove_stopwords:\n",
        "    # token에 불용어거 들어있다면, 제외합니다.\n",
        "    word_review = [token for token in word_review if not token in stop_words]\n",
        "\n",
        "  return word_review"
      ],
      "metadata": {
        "id": "EhuBw4oeOtE8"
      },
      "execution_count": 32,
      "outputs": []
    },
    {
      "cell_type": "markdown",
      "source": [
        "#### 생성한 함수로 훈련데이터 및 학습 데이터를 전처리합니다."
      ],
      "metadata": {
        "id": "GyLjSdi85bHH"
      }
    },
    {
      "cell_type": "code",
      "source": [
        "# 훈련데이터의 리뷰 텍스트를 담는 빈 리스트를 생성합니다.\n",
        "clean_train_review = []\n",
        "\n",
        "\n",
        "def train_data_engineering(df):\n",
        "  okt =Okt()\n",
        "  for review in df['리뷰텍스트']:\n",
        "\n",
        "    #리뷰가 문자열인 경우에만 전처리를 진행합니다.\n",
        "    if type(review) == str:\n",
        "      clean_train_review.append(preprocessing(review, okt, remove_stopwords= True, stop_words = stop_words))\n",
        "\n",
        "    #리뷰가 str 행이 아니라면, 공백을 생성합니다.\n",
        "    else:\n",
        "      clean_train_review.append([])\n",
        "\n",
        "\n",
        "# 생성된 함수에 훈련 데이터를 적용합니다.\n",
        "train_data_engineering(train_df)"
      ],
      "metadata": {
        "id": "bXKnRi_y8qeL"
      },
      "execution_count": 33,
      "outputs": []
    },
    {
      "cell_type": "markdown",
      "source": [
        "#### 최종적으로, 불용어가 제거되고, 토근화가 잘 되었는지 확인합니다. (train_data)"
      ],
      "metadata": {
        "id": "C2r1cYt9_0ok"
      }
    },
    {
      "cell_type": "code",
      "source": [
        "clean_train_review[:4]"
      ],
      "metadata": {
        "colab": {
          "base_uri": "https://localhost:8080/"
        },
        "id": "R_6zX05qAEVI",
        "outputId": "9a61752c-f7f6-43a1-f3bc-3dfd938ec4a7"
      },
      "execution_count": 34,
      "outputs": [
        {
          "output_type": "execute_result",
          "data": {
            "text/plain": [
              "[['정말', '다', '맛있다', '난', '먹다', '마다', '탕수육', '냄새', '나다', '끄다'],\n",
              " ['짐', '돌아오다', '건지다', '자장', '떡', '먹다', '맘', 'ㅠㅠ'],\n",
              " ['매장', '먹다', '더', '맛', '요'],\n",
              " ['남자친구', '랑', '먹다', '고온', '곳', '메뉴', '정말', '맛있다']]"
            ]
          },
          "metadata": {},
          "execution_count": 34
        }
      ]
    },
    {
      "cell_type": "code",
      "source": [
        "# 실전데이터의 리뷰 텍스트를 담는 빈 리스트를 생성합니다.\n",
        "clean_test_review = []\n",
        "\n",
        "\n",
        "def train_data_engineering(df):\n",
        "  okt =Okt()\n",
        "  for review in df['리뷰텍스트']:\n",
        "\n",
        "    #리뷰가 문자열인 경우에만 전처리를 진행합니다.\n",
        "    if type(review) == str:\n",
        "      clean_test_review.append(preprocessing(review, okt, remove_stopwords= True, stop_words = stop_words))\n",
        "\n",
        "    #리뷰가 str 행이 아니라면, 공백을 생성합니다.\n",
        "    else:\n",
        "      clean_test_review.append([])\n",
        "\n",
        "\n",
        "# 생성된 함수에 훈련 데이터를 적용합니다.\n",
        "train_data_engineering(test_df)"
      ],
      "metadata": {
        "id": "gzYQg99qObZb"
      },
      "execution_count": 35,
      "outputs": []
    },
    {
      "cell_type": "markdown",
      "source": [
        "#### 최종적으로, 불용어가 제거되고, 토근화가 잘 되었는지 확인합니다. (test_data)"
      ],
      "metadata": {
        "id": "8AQYqoTNAec3"
      }
    },
    {
      "cell_type": "code",
      "source": [
        "clean_test_review[:4]"
      ],
      "metadata": {
        "colab": {
          "base_uri": "https://localhost:8080/"
        },
        "id": "KGhhz4ChAlAd",
        "outputId": "3808dad7-a58b-4c63-9379-879be9c38e99"
      },
      "execution_count": 36,
      "outputs": [
        {
          "output_type": "execute_result",
          "data": {
            "text/plain": [
              "[['분위기', '좋다', '대화', '하다', '좋다'],\n",
              " ['매장',\n",
              "  '넓다',\n",
              "  '보이다',\n",
              "  '분위기',\n",
              "  '좋다',\n",
              "  '방문',\n",
              "  '청결',\n",
              "  '상태',\n",
              "  '별로',\n",
              "  'ㅠㅠ',\n",
              "  '직원',\n",
              "  '분',\n",
              "  '인지',\n",
              "  '사장',\n",
              "  '님',\n",
              "  '인지',\n",
              "  '모르다',\n",
              "  '무뚝뚝하다',\n",
              "  '매장',\n",
              "  '먹다',\n",
              "  '일회용',\n",
              "  '컵',\n",
              "  '커피',\n",
              "  '나오다',\n",
              "  '좀더',\n",
              "  '실망',\n",
              "  '스럽다'],\n",
              " ['굿굿'],\n",
              " ['조용하다', '얘기', '하다', '좋다']]"
            ]
          },
          "metadata": {},
          "execution_count": 36
        }
      ]
    },
    {
      "cell_type": "markdown",
      "source": [
        "####3. 토큰화 한 단어를 컴퓨터가 인식할 수 오 있도록 정수 인코딩을 진행합니다."
      ],
      "metadata": {
        "id": "4yl8O8we5itM"
      }
    },
    {
      "cell_type": "code",
      "source": [
        "from keras.preprocessing.text import Tokenizer\n",
        "max_words = 20\n",
        "\n",
        "\n",
        "# num_words ⁉\n",
        "# 케라스의 토크나이저에서는 (num_words = 숫자)와 같은 방법으로 빈도수가 높은 상위 몇개의 단어에만 사용하겠다고 지정할 수 있습니다.\n",
        "tokenizer = Tokenizer(num_words = max_words)\n",
        "\n",
        "\n",
        "# .fit_on_texts() 메소드는 문자 데이터를 입력받아서 리스트의 형태로 변환한다.\n",
        "# 훈련 데이터만 넣습니다 ❗❗\n",
        "tokenizer.fit_on_texts(clean_train_review)\n",
        "\n",
        "X_train = tokenizer.texts_to_sequences(clean_train_review)\n",
        "X_test = tokenizer.texts_to_sequences(clean_test_review) \n"
      ],
      "metadata": {
        "id": "KpYy-pWX_hoB"
      },
      "execution_count": 37,
      "outputs": []
    },
    {
      "cell_type": "markdown",
      "source": [
        "####4. 데이터의 분포별 최대 길이, 평균길이 등을 확인합니다. "
      ],
      "metadata": {
        "id": "DRz2keEoKGXm"
      }
    },
    {
      "cell_type": "markdown",
      "source": [
        "* 훈련 데이터"
      ],
      "metadata": {
        "id": "TOLMpWIpPF0q"
      }
    },
    {
      "cell_type": "code",
      "source": [
        "print(f'텍스트의 최대 길이 : {max(len(i) for i in X_train)}')\n",
        "print(f'텍스트의 최대 길이 : {sum(map(len, X_train))/len(X_train)}')\n",
        "\n",
        "\n",
        "# bins 파라미터 : 히스토그램의 가로축 구간의 개수를 지정\n",
        "plt.hist([len(i) for i in X_train], bins= 50)\n",
        "plt.xlabel('length of Data')\n",
        "plt.ylabel('number of Data')\n",
        "plt.show()"
      ],
      "metadata": {
        "colab": {
          "base_uri": "https://localhost:8080/",
          "height": 315
        },
        "id": "Gee4UUA8NAHg",
        "outputId": "aa4a69eb-a5ac-493f-c014-66aa213dd888"
      },
      "execution_count": 38,
      "outputs": [
        {
          "output_type": "stream",
          "name": "stdout",
          "text": [
            "텍스트의 최대 길이 : 31\n",
            "텍스트의 최대 길이 : 3.8060821484992102\n"
          ]
        },
        {
          "output_type": "display_data",
          "data": {
            "text/plain": [
              "<Figure size 432x288 with 1 Axes>"
            ],
            "image/png": "[encoded data removed]"
          },
          "metadata": {
            "needs_background": "light"
          }
        }
      ]
    },
    {
      "cell_type": "markdown",
      "source": [
        "* 테스트 데이터"
      ],
      "metadata": {
        "id": "6wn-VssUPK0N"
      }
    },
    {
      "cell_type": "code",
      "source": [
        "print(f'텍스트의 최대 길이 : {max(len(i) for i in X_test)}')\n",
        "print(f'텍스트의 최대 길이 : {sum(map(len, X_test))/len(X_test)}')\n",
        "\n",
        "\n",
        "# bins 파라미터 : 히스토그램의 가로축 구간의 개수를 지정\n",
        "plt.hist([len(i) for i in X_test], bins= 50)\n",
        "plt.xlabel('length of Data')\n",
        "plt.ylabel('number of Data')\n",
        "plt.show()"
      ],
      "metadata": {
        "colab": {
          "base_uri": "https://localhost:8080/",
          "height": 318
        },
        "id": "rLquLTNAOhRk",
        "outputId": "8ebc7825-6751-4956-b3e6-f6aafb593444"
      },
      "execution_count": 39,
      "outputs": [
        {
          "output_type": "stream",
          "name": "stdout",
          "text": [
            "텍스트의 최대 길이 : 23\n",
            "텍스트의 최대 길이 : 2.8036303630363038\n"
          ]
        },
        {
          "output_type": "display_data",
          "data": {
            "text/plain": [
              "<Figure size 432x288 with 1 Axes>"
            ],
            "image/png": "[encoded data removed]"
          },
          "metadata": {
            "needs_background": "light"
          }
        }
      ]
    },
    {
      "cell_type": "markdown",
      "source": [
        "### 원핫 인코딩 진행하기.\n",
        "> y_train, y_test 에 들어가는 label 값 1, 0 -1을 컴퓨터가 인식 할 수 있게 합니다.\n",
        "\n",
        "\n"
      ],
      "metadata": {
        "id": "w9jeXWh5PSqk"
      }
    },
    {
      "cell_type": "code",
      "source": [
        "## 훈련 데이터의 y 값 설정.\n",
        "\n",
        "y_train = []\n",
        "\n",
        "for i in range(len(train_df['label'])):\n",
        "  if train_df['label'].iloc[i] == 1:\n",
        "    y_train.append([0,0,1])\n",
        "  \n",
        "  elif train_df['label'].iloc[i] == 0:\n",
        "     y_train.append([0,1,0])\n",
        "\n",
        "  elif train_df['label'].iloc[i] == -1:\n",
        "     y_train.append([1,0,0])\n",
        "\n",
        "# array 변환\n",
        "y_train = np.array(y_train)\n",
        "\n",
        "## 테스트 데이터의 y값 설정\n",
        "\n",
        "y_test = []\n",
        "\n",
        "for i in range(len(test_df['label'])):\n",
        "  if test_df['label'].iloc[i] == 1:\n",
        "    y_test.append([0,0,1])\n",
        "  \n",
        "  elif test_df['label'].iloc[i] == 0:\n",
        "     y_test.append([0,1,0])\n",
        "\n",
        "  elif test_df['label'].iloc[i] == -1:\n",
        "     y_test.append([1,0,0])\n",
        "\n",
        "\n",
        "# array 변화\n",
        "y_test = np.array(y_test)\n",
        "\n",
        "\n",
        "  "
      ],
      "metadata": {
        "id": "jtWVS6pGYMGQ"
      },
      "execution_count": 40,
      "outputs": []
    },
    {
      "cell_type": "markdown",
      "source": [
        "> 변환된 값을 확인합니다.  => `(y_train, y_test)`"
      ],
      "metadata": {
        "id": "LQ6nWxmC6x9b"
      }
    },
    {
      "cell_type": "code",
      "source": [
        "y_train"
      ],
      "metadata": {
        "colab": {
          "base_uri": "https://localhost:8080/"
        },
        "id": "jaApwg7i6acL",
        "outputId": "bea70ebb-eb98-4b2f-ba41-e15acd23ec10"
      },
      "execution_count": 41,
      "outputs": [
        {
          "output_type": "execute_result",
          "data": {
            "text/plain": [
              "array([[1, 0, 0],\n",
              "       [1, 0, 0],\n",
              "       [0, 0, 1],\n",
              "       ...,\n",
              "       [0, 0, 1],\n",
              "       [1, 0, 0],\n",
              "       [0, 0, 1]])"
            ]
          },
          "metadata": {},
          "execution_count": 41
        }
      ]
    },
    {
      "cell_type": "code",
      "source": [
        "y_test"
      ],
      "metadata": {
        "colab": {
          "base_uri": "https://localhost:8080/"
        },
        "id": "eSC4pNuB6QY_",
        "outputId": "f114c0fe-87f8-47f5-e61e-f164909f65b4"
      },
      "execution_count": 42,
      "outputs": [
        {
          "output_type": "execute_result",
          "data": {
            "text/plain": [
              "array([[0, 0, 1],\n",
              "       [1, 0, 0],\n",
              "       [0, 0, 1],\n",
              "       ...,\n",
              "       [0, 0, 1],\n",
              "       [0, 0, 1],\n",
              "       [0, 0, 1]])"
            ]
          },
          "metadata": {},
          "execution_count": 42
        }
      ]
    },
    {
      "cell_type": "code",
      "source": [
        "y_test.shape"
      ],
      "metadata": {
        "colab": {
          "base_uri": "https://localhost:8080/"
        },
        "id": "xiaWxrbzdXtc",
        "outputId": "6fb112b1-9210-4539-b708-7d4c1a2bbfd3"
      },
      "execution_count": 50,
      "outputs": [
        {
          "output_type": "execute_result",
          "data": {
            "text/plain": [
              "TensorShape([1212, 3])"
            ]
          },
          "metadata": {},
          "execution_count": 50
        }
      ]
    },
    {
      "cell_type": "markdown",
      "source": [
        "#### 4. 모델을 생성합니다.\n",
        "> 모델 생성에 필요한 패키지, 라이브러리 등을 import 합니다."
      ],
      "metadata": {
        "id": "JTV1Rf6ziWo2"
      }
    },
    {
      "cell_type": "code",
      "source": [
        "from keras.layers import Embedding, Dense, LSTM\n",
        "from keras.models import Sequential\n",
        "from keras.preprocessing.sequence import pad_sequences"
      ],
      "metadata": {
        "id": "DbNfE2HLiiyg"
      },
      "execution_count": 43,
      "outputs": []
    },
    {
      "cell_type": "code",
      "source": [
        "# 전체 데이터의 길이는 31로 맞추겠습니다.\n",
        "max_len = 31\n",
        "\n",
        "X_train = pad_sequences(X_train, maxlen=max_len)\n",
        "X_test = pad_sequences(X_test, maxlen=max_len)"
      ],
      "metadata": {
        "id": "lJe6GZxhicxj"
      },
      "execution_count": 44,
      "outputs": []
    },
    {
      "cell_type": "markdown",
      "source": [
        "#### `EarlyStopping` & `ModelCheckpoint` 을 이용합니다.\n",
        "> 개선되지 않은 학습에 대한 조기 종료를 실행합니다.\n",
        "\n",
        "\n"
      ],
      "metadata": {
        "id": "N7mIANU47Zi-"
      }
    },
    {
      "cell_type": "code",
      "source": [
        "from keras.callbacks import ModelCheckpoint, EarlyStopping\n",
        "from tensorflow.keras.models import save_model\n",
        "\n",
        "# Best 모델이 저장되는 파일명.\n",
        "SAVE_FILE_NM = 'weights.h5'\n",
        "\n",
        "checkpoint = ModelCheckpoint(SAVE_FILE_NM, monitor = 'val_loss',\n",
        "                             verbose = 1,\n",
        "                             save_best_only = True,\n",
        "                             mode = 'auto')\n",
        "\n",
        "\n",
        "earlystopping = EarlyStopping(monitor = 'val_loss',\n",
        "                              patience = 10)\n"
      ],
      "metadata": {
        "id": "ggdGmj9f73su"
      },
      "execution_count": 45,
      "outputs": []
    },
    {
      "cell_type": "code",
      "source": [
        "# 긍정, 부정, 중립 3가지 분류를 진행합니다.\n",
        "# -> LSTM, softmax, categorical_crossentropy를 사용합니다.\n",
        "\n",
        "model = Sequential()\n",
        "model.add(Embedding(max_words,100))\n",
        "model.add(LSTM(128))\n",
        "model.add(Dense(3, activation='softmax'))\n",
        "\n",
        "model.compile(optimizer='adam', loss = 'categorical_crossentropy', metrics= ['accuracy'])\n",
        "history = model.fit(X_train, y_train, epochs = 10, batch_size = 32, validation_split=0.1,\n",
        "                    callbacks=[earlystopping, checkpoint])\n",
        "\n",
        "save_model(model, r'/content/drive/MyDrive/project3  file.')"
      ],
      "metadata": {
        "colab": {
          "base_uri": "https://localhost:8080/"
        },
        "id": "Wn78HDWMjfjy",
        "outputId": "f47311ba-3400-4f07-9a25-f93709d5143a"
      },
      "execution_count": 46,
      "outputs": [
        {
          "output_type": "stream",
          "name": "stdout",
          "text": [
            "Epoch 1/10\n",
            "206/214 [===========================>..] - ETA: 0s - loss: 0.4811 - accuracy: 0.8618\n",
            "Epoch 1: val_loss improved from inf to 0.38551, saving model to weights.h5\n",
            "214/214 [==============================] - 9s 10ms/step - loss: 0.4766 - accuracy: 0.8634 - val_loss: 0.3855 - val_accuracy: 0.8829\n",
            "Epoch 2/10\n",
            "212/214 [============================>.] - ETA: 0s - loss: 0.4146 - accuracy: 0.8715\n",
            "Epoch 2: val_loss improved from 0.38551 to 0.38388, saving model to weights.h5\n",
            "214/214 [==============================] - 1s 6ms/step - loss: 0.4150 - accuracy: 0.8713 - val_loss: 0.3839 - val_accuracy: 0.8882\n",
            "Epoch 3/10\n",
            "206/214 [===========================>..] - ETA: 0s - loss: 0.4123 - accuracy: 0.8721\n",
            "Epoch 3: val_loss did not improve from 0.38388\n",
            "214/214 [==============================] - 1s 6ms/step - loss: 0.4107 - accuracy: 0.8730 - val_loss: 0.3860 - val_accuracy: 0.8816\n",
            "Epoch 4/10\n",
            "209/214 [============================>.] - ETA: 0s - loss: 0.4070 - accuracy: 0.8737\n",
            "Epoch 4: val_loss improved from 0.38388 to 0.36267, saving model to weights.h5\n",
            "214/214 [==============================] - 1s 6ms/step - loss: 0.4077 - accuracy: 0.8732 - val_loss: 0.3627 - val_accuracy: 0.8908\n",
            "Epoch 5/10\n",
            "210/214 [============================>.] - ETA: 0s - loss: 0.4047 - accuracy: 0.8732\n",
            "Epoch 5: val_loss did not improve from 0.36267\n",
            "214/214 [==============================] - 1s 6ms/step - loss: 0.4036 - accuracy: 0.8739 - val_loss: 0.3695 - val_accuracy: 0.8895\n",
            "Epoch 6/10\n",
            "210/214 [============================>.] - ETA: 0s - loss: 0.4016 - accuracy: 0.8746\n",
            "Epoch 6: val_loss did not improve from 0.36267\n",
            "214/214 [==============================] - 1s 6ms/step - loss: 0.4026 - accuracy: 0.8740 - val_loss: 0.3698 - val_accuracy: 0.8868\n",
            "Epoch 7/10\n",
            "213/214 [============================>.] - ETA: 0s - loss: 0.4006 - accuracy: 0.8729\n",
            "Epoch 7: val_loss did not improve from 0.36267\n",
            "214/214 [==============================] - 1s 6ms/step - loss: 0.4007 - accuracy: 0.8729 - val_loss: 0.3720 - val_accuracy: 0.8868\n",
            "Epoch 8/10\n",
            "209/214 [============================>.] - ETA: 0s - loss: 0.3979 - accuracy: 0.8737\n",
            "Epoch 8: val_loss did not improve from 0.36267\n",
            "214/214 [==============================] - 1s 6ms/step - loss: 0.3983 - accuracy: 0.8733 - val_loss: 0.3690 - val_accuracy: 0.8842\n",
            "Epoch 9/10\n",
            "207/214 [============================>.] - ETA: 0s - loss: 0.3968 - accuracy: 0.8739\n",
            "Epoch 9: val_loss did not improve from 0.36267\n",
            "214/214 [==============================] - 1s 6ms/step - loss: 0.3981 - accuracy: 0.8736 - val_loss: 0.3658 - val_accuracy: 0.8855\n",
            "Epoch 10/10\n",
            "212/214 [============================>.] - ETA: 0s - loss: 0.3953 - accuracy: 0.8737\n",
            "Epoch 10: val_loss did not improve from 0.36267\n",
            "214/214 [==============================] - 1s 6ms/step - loss: 0.3968 - accuracy: 0.8729 - val_loss: 0.3845 - val_accuracy: 0.8816\n"
          ]
        },
        {
          "output_type": "stream",
          "name": "stderr",
          "text": [
            "WARNING:absl:Found untraced functions such as lstm_cell_layer_call_fn, lstm_cell_layer_call_and_return_conditional_losses while saving (showing 2 of 2). These functions will not be directly callable after loading.\n"
          ]
        },
        {
          "output_type": "stream",
          "name": "stdout",
          "text": [
            "INFO:tensorflow:Assets written to: /content/drive/MyDrive/project3  file./assets\n"
          ]
        },
        {
          "output_type": "stream",
          "name": "stderr",
          "text": [
            "INFO:tensorflow:Assets written to: /content/drive/MyDrive/project3  file./assets\n",
            "WARNING:absl:<keras.layers.recurrent.LSTMCell object at 0x7f9068c0b050> has the same name 'LSTMCell' as a built-in Keras object. Consider renaming <class 'keras.layers.recurrent.LSTMCell'> to avoid naming conflicts when loading with `tf.keras.models.load_model`. If renaming is not possible, pass the object in the `custom_objects` parameter of the load function.\n"
          ]
        }
      ]
    },
    {
      "cell_type": "markdown",
      "source": [
        "#### 이번엔 테스트 파일의 정확도를 확인하여 봅시다."
      ],
      "metadata": {
        "id": "pLAkQ9UQmMdC"
      }
    },
    {
      "cell_type": "code",
      "source": [
        "print('테스트 정확도 : {:.2f}%'.format(model.evaluate(X_test,y_test)[1]*100))"
      ],
      "metadata": {
        "colab": {
          "base_uri": "https://localhost:8080/"
        },
        "id": "m5VuoK-_kYmk",
        "outputId": "f1dc7728-cf8f-4f75-c9c5-35c8084d4850"
      },
      "execution_count": 47,
      "outputs": [
        {
          "output_type": "stream",
          "name": "stdout",
          "text": [
            "38/38 [==============================] - 0s 3ms/step - loss: 0.3999 - accuracy: 0.8721\n",
            "테스트 정확도 : 87.21%\n"
          ]
        }
      ]
    },
    {
      "cell_type": "markdown",
      "source": [
        "#### 새로운 문장을 넣어 판단 할 수 있는 함수를 만들어보도록 합니다."
      ],
      "metadata": {
        "id": "xg2fA0WAeVCt"
      }
    }
  ]
}