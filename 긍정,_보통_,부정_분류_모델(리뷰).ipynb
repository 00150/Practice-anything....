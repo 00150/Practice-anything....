{
  "nbformat": 4,
  "nbformat_minor": 0,
  "metadata": {
    "colab": {
      "name": "긍정, 보통 ,부정 분류 모델(리뷰)",
      "provenance": [],
      "collapsed_sections": [],
      "authorship_tag": "ABX9TyMt+g94jXlh32WM5eYwfPme",
      "include_colab_link": true
    },
    "kernelspec": {
      "name": "python3",
      "display_name": "Python 3"
    },
    "language_info": {
      "name": "python"
    }
  },
  "cells": [
    {
      "cell_type": "markdown",
      "metadata": {
        "id": "view-in-github",
        "colab_type": "text"
      },
      "source": [
        "<a href=\"https://colab.research.google.com/github/00150/Practice-anything..../blob/main/%EA%B8%8D%EC%A0%95%2C_%EB%B3%B4%ED%86%B5_%2C%EB%B6%80%EC%A0%95_%EB%B6%84%EB%A5%98_%EB%AA%A8%EB%8D%B8(%EB%A6%AC%EB%B7%B0).ipynb\" target=\"_parent\"><img src=\"https://colab.research.google.com/assets/colab-badge.svg\" alt=\"Open In Colab\"/></a>"
      ]
    },
    {
      "cell_type": "markdown",
      "source": [
        "## 리뷰데이터 : 감성 분류 & 긍정 / 부정 키워드 분석\n"
      ],
      "metadata": {
        "id": "lZolrHvJI1bg"
      }
    },
    {
      "cell_type": "code",
      "source": [
        "from google.colab import drive\n",
        "drive.mount('/content/drive')"
      ],
      "metadata": {
        "colab": {
          "base_uri": "https://localhost:8080/"
        },
        "id": "kUhBAzKzK1G9",
        "outputId": "b02c748a-a0d8-49e4-b17a-48008a3617ed"
      },
      "execution_count": 1,
      "outputs": [
        {
          "output_type": "stream",
          "name": "stdout",
          "text": [
            "Mounted at /content/drive\n"
          ]
        }
      ]
    },
    {
      "cell_type": "markdown",
      "source": [
        "#### 사용할 라이브러리 생성."
      ],
      "metadata": {
        "id": "7BtjsFr7K-N_"
      }
    },
    {
      "cell_type": "code",
      "source": [
        "%matplotlib inline\n",
        "import pandas as pd\n",
        "import numpy as np\n",
        "import matplotlib.pyplot as plt\n",
        "import seaborn as sns\n"
      ],
      "metadata": {
        "id": "LnqdCbqTKzL9"
      },
      "execution_count": 2,
      "outputs": []
    },
    {
      "cell_type": "code",
      "source": [
        "# 데이터 불러오기.\n",
        "url = '/content/drive/MyDrive/project3  file./train_df_token.csv'\n",
        "\n",
        "train_df = pd.read_csv(url)\n",
        "\n",
        "# 컬럼 : 'Unnamed: 0' 을 제거합니다.\n",
        "train_df.drop(['Unnamed: 0'], axis = 1, inplace = True)"
      ],
      "metadata": {
        "id": "M8E6hDJGLalD"
      },
      "execution_count": 3,
      "outputs": []
    },
    {
      "cell_type": "code",
      "source": [
        "train_df.head(2)"
      ],
      "metadata": {
        "colab": {
          "base_uri": "https://localhost:8080/",
          "height": 112
        },
        "id": "XdWz9yOzL6J8",
        "outputId": "93f64fa1-a202-4836-9719-a870af9d4ad6"
      },
      "execution_count": 4,
      "outputs": [
        {
          "output_type": "execute_result",
          "data": {
            "text/plain": [
              "                                   리뷰텍스트  label\n",
              "0  정말 다 ~맛있는데 ~~ 난 먹을때마다 탕수육에서 냄새가 나는걸까?    3.0\n",
              "1               몇 짐을 돌아오신건지 자장떡을 먹다 맘 ㅠㅠ    3.0"
            ],
            "text/html": [
              "\n",
              "  <div id=\"df-7eeb87bf-efa8-4012-b83d-a5b6758be56b\">\n",
              "    <div class=\"colab-df-container\">\n",
              "      <div>\n",
              "<style scoped>\n",
              "    .dataframe tbody tr th:only-of-type {\n",
              "        vertical-align: middle;\n",
              "    }\n",
              "\n",
              "    .dataframe tbody tr th {\n",
              "        vertical-align: top;\n",
              "    }\n",
              "\n",
              "    .dataframe thead th {\n",
              "        text-align: right;\n",
              "    }\n",
              "</style>\n",
              "<table border=\"1\" class=\"dataframe\">\n",
              "  <thead>\n",
              "    <tr style=\"text-align: right;\">\n",
              "      <th></th>\n",
              "      <th>리뷰텍스트</th>\n",
              "      <th>label</th>\n",
              "    </tr>\n",
              "  </thead>\n",
              "  <tbody>\n",
              "    <tr>\n",
              "      <th>0</th>\n",
              "      <td>정말 다 ~맛있는데 ~~ 난 먹을때마다 탕수육에서 냄새가 나는걸까?</td>\n",
              "      <td>3.0</td>\n",
              "    </tr>\n",
              "    <tr>\n",
              "      <th>1</th>\n",
              "      <td>몇 짐을 돌아오신건지 자장떡을 먹다 맘 ㅠㅠ</td>\n",
              "      <td>3.0</td>\n",
              "    </tr>\n",
              "  </tbody>\n",
              "</table>\n",
              "</div>\n",
              "      <button class=\"colab-df-convert\" onclick=\"convertToInteractive('df-7eeb87bf-efa8-4012-b83d-a5b6758be56b')\"\n",
              "              title=\"Convert this dataframe to an interactive table.\"\n",
              "              style=\"display:none;\">\n",
              "        \n",
              "  <svg xmlns=\"http://www.w3.org/2000/svg\" height=\"24px\"viewBox=\"0 0 24 24\"\n",
              "       width=\"24px\">\n",
              "    <path d=\"M0 0h24v24H0V0z\" fill=\"none\"/>\n",
              "    <path d=\"M18.56 5.44l.94 2.06.94-2.06 2.06-.94-2.06-.94-.94-2.06-.94 2.06-2.06.94zm-11 1L8.5 8.5l.94-2.06 2.06-.94-2.06-.94L8.5 2.5l-.94 2.06-2.06.94zm10 10l.94 2.06.94-2.06 2.06-.94-2.06-.94-.94-2.06-.94 2.06-2.06.94z\"/><path d=\"M17.41 7.96l-1.37-1.37c-.4-.4-.92-.59-1.43-.59-.52 0-1.04.2-1.43.59L10.3 9.45l-7.72 7.72c-.78.78-.78 2.05 0 2.83L4 21.41c.39.39.9.59 1.41.59.51 0 1.02-.2 1.41-.59l7.78-7.78 2.81-2.81c.8-.78.8-2.07 0-2.86zM5.41 20L4 18.59l7.72-7.72 1.47 1.35L5.41 20z\"/>\n",
              "  </svg>\n",
              "      </button>\n",
              "      \n",
              "  <style>\n",
              "    .colab-df-container {\n",
              "      display:flex;\n",
              "      flex-wrap:wrap;\n",
              "      gap: 12px;\n",
              "    }\n",
              "\n",
              "    .colab-df-convert {\n",
              "      background-color: #E8F0FE;\n",
              "      border: none;\n",
              "      border-radius: 50%;\n",
              "      cursor: pointer;\n",
              "      display: none;\n",
              "      fill: #1967D2;\n",
              "      height: 32px;\n",
              "      padding: 0 0 0 0;\n",
              "      width: 32px;\n",
              "    }\n",
              "\n",
              "    .colab-df-convert:hover {\n",
              "      background-color: #E2EBFA;\n",
              "      box-shadow: 0px 1px 2px rgba(60, 64, 67, 0.3), 0px 1px 3px 1px rgba(60, 64, 67, 0.15);\n",
              "      fill: #174EA6;\n",
              "    }\n",
              "\n",
              "    [theme=dark] .colab-df-convert {\n",
              "      background-color: #3B4455;\n",
              "      fill: #D2E3FC;\n",
              "    }\n",
              "\n",
              "    [theme=dark] .colab-df-convert:hover {\n",
              "      background-color: #434B5C;\n",
              "      box-shadow: 0px 1px 3px 1px rgba(0, 0, 0, 0.15);\n",
              "      filter: drop-shadow(0px 1px 2px rgba(0, 0, 0, 0.3));\n",
              "      fill: #FFFFFF;\n",
              "    }\n",
              "  </style>\n",
              "\n",
              "      <script>\n",
              "        const buttonEl =\n",
              "          document.querySelector('#df-7eeb87bf-efa8-4012-b83d-a5b6758be56b button.colab-df-convert');\n",
              "        buttonEl.style.display =\n",
              "          google.colab.kernel.accessAllowed ? 'block' : 'none';\n",
              "\n",
              "        async function convertToInteractive(key) {\n",
              "          const element = document.querySelector('#df-7eeb87bf-efa8-4012-b83d-a5b6758be56b');\n",
              "          const dataTable =\n",
              "            await google.colab.kernel.invokeFunction('convertToInteractive',\n",
              "                                                     [key], {});\n",
              "          if (!dataTable) return;\n",
              "\n",
              "          const docLinkHtml = 'Like what you see? Visit the ' +\n",
              "            '<a target=\"_blank\" href=https://colab.research.google.com/notebooks/data_table.ipynb>data table notebook</a>'\n",
              "            + ' to learn more about interactive tables.';\n",
              "          element.innerHTML = '';\n",
              "          dataTable['output_type'] = 'display_data';\n",
              "          await google.colab.output.renderOutput(dataTable, element);\n",
              "          const docLink = document.createElement('div');\n",
              "          docLink.innerHTML = docLinkHtml;\n",
              "          element.appendChild(docLink);\n",
              "        }\n",
              "      </script>\n",
              "    </div>\n",
              "  </div>\n",
              "  "
            ]
          },
          "metadata": {},
          "execution_count": 4
        }
      ]
    },
    {
      "cell_type": "code",
      "source": [
        "train_df.info()"
      ],
      "metadata": {
        "colab": {
          "base_uri": "https://localhost:8080/"
        },
        "id": "oxXhtz8ELk-M",
        "outputId": "5261579a-08b7-4288-d314-109055bdb813"
      },
      "execution_count": 5,
      "outputs": [
        {
          "output_type": "stream",
          "name": "stdout",
          "text": [
            "<class 'pandas.core.frame.DataFrame'>\n",
            "RangeIndex: 11845 entries, 0 to 11844\n",
            "Data columns (total 2 columns):\n",
            " #   Column  Non-Null Count  Dtype  \n",
            "---  ------  --------------  -----  \n",
            " 0   리뷰텍스트   11845 non-null  object \n",
            " 1   label   11791 non-null  float64\n",
            "dtypes: float64(1), object(1)\n",
            "memory usage: 185.2+ KB\n"
          ]
        }
      ]
    },
    {
      "cell_type": "code",
      "source": [
        "# 결측값이 존재하는 행만 추출합니다. \n",
        "train_df[train_df['label'].isnull()]"
      ],
      "metadata": {
        "colab": {
          "base_uri": "https://localhost:8080/",
          "height": 1000
        },
        "id": "Y81UAe7rL3-s",
        "outputId": "3583cda5-464b-48b6-c08b-26da4d6601a6"
      },
      "execution_count": 6,
      "outputs": [
        {
          "output_type": "execute_result",
          "data": {
            "text/plain": [
              "                                                  리뷰텍스트  label\n",
              "92     너무 맛있었어요😊 여자친구가 비건 카페를 좋아한다고해서 같이 갔는 데, 비건카페라...    NaN\n",
              "197                               조용하고 뷰도 좋고 가성비 좋은 음식점    NaN\n",
              "400   1. 입장하면 음료교환권 주는데 추가금은 별도 계산해야합니다. 2. 모닥불이 두 곳...    NaN\n",
              "747                                            친절하고 맛있고    NaN\n",
              "788                       코로나로 진짜 오랫만에 갔는데 깔끔해져서 좋아요 ㅎㅎ    NaN\n",
              "1051                                   친절해여 커피가 맛있어요 !!    NaN\n",
              "1128          두딸과 함께 팬케이크 2개짜리를 2번 먹었어요. 달지않고 깔끔한 맛입니다.    NaN\n",
              "1223  아직 크리스마스 에디션은 많이 없는거 같아요 ㅎㅎ 그래도 예뻤구 케이크 짱 기대됩니...    NaN\n",
              "1430  친구들하고 내기볼링하러 갔는데 시설도 깔끔하고 분위기도 엄청 좋았어요 직원분들도 친...    NaN\n",
              "1620  별내에 칼국수 맛집이 흔하지 않는데, 시원한 멸치국수 맛이 최고여서 자주 이용합니다...    NaN\n",
              "1649                                          주차편하고 좋아요    NaN\n",
              "1900  흑임자라떼 아몬드크로와상 검색해서 왔는데 잘찾아온것같아서 둘다 너무 맛있어요 기분 ...    NaN\n",
              "1901                                   뷰도 좋고 커피 찐 맛집이에요    NaN\n",
              "1902                      퇴근하고 자주가는 곳입니다♡ 맛있고 친절하고 좋아요!    NaN\n",
              "2046                                              맛있어요~    NaN\n",
              "2242  별내 맛집,,,최고에요💓 언제 먹어도 너무 맛있어요👍🏻 사진에는 없지만 할라피뇨 파...    NaN\n",
              "2243                                   1메뉴 1쉐프 맛집입니다 굿굿    NaN\n",
              "2244                                           맛있고 좋아요🥰    NaN\n",
              "2245                도우가 쫄깃쫄깃하니 맛있었어요 :-) 까르보나라도 맛있었어용👍🏻    NaN\n",
              "2417  샤브샤브가 너어어무 맛있어요💖 재료 추가 잘 안하는데 매번 버섯 추가해요! 진짜 버...    NaN\n",
              "2420  말이 필요없음.더 있었으면 더 먹었을듯요. 배불러도 자꾸 들어가는맛. 얼큰샤브는 그...    NaN\n",
              "2579                         맛있게 잘 먹었습니다~ 별내 숨은 맛집이에요!!    NaN\n",
              "2664                                           항상 맛있어요ㅎ    NaN\n",
              "2969  처음 갔는데 소고기무한리필 중 가장 괜찮은거 같아요! 직원분 너무 친절하시고 고기 ...    NaN\n",
              "3166  저는 운이 좋아 수타면발 만드시는 장면도 보았는데요 그래서인지 너무 맛있게 먹고 갑...    NaN\n",
              "3237  오늘은 잉글리쉬 반토막 버젼으로: 러빙하는 빵에갸또~ 올리브푸가스 드디어 겟함! 크...    NaN\n",
              "3498                                                  굿    NaN\n",
              "3710  런치세트 구성도 푸짐하고 가성비도 좋네요. 고기를 다 구워주셔서 더운데 땀 뺄 필요...    NaN\n",
              "3821       사장님친절하시고 섬세하게 신경써주셔서 편하게 잘먹고왔습니다 재방문의사 200프로    NaN\n",
              "4017  포장케이스를 던져주고, 제가 포장을 해야하나요? 남은음식 싸간다고 포장은 알아서 하...    NaN\n",
              "4131  늘솜당 제가 좋아하는 빵집이라 진짜 자주왔는데 오늘 간만에 오고 리뷰도 처음써보네요...    NaN\n",
              "4144  2년전에 다니다가 쉬고 다시 다닐만큼 친절하고 세세하게 잘가르쳐주세요. 무리하지않고...    NaN\n",
              "4148  1년 넘게 다니고 있는데 선생님들이 다들 너무 좋으세요!! 한명한명 빠짐없이 자세도...    NaN\n",
              "4173                                              맛있어요😊    NaN\n",
              "4223                                       갈증나서 한잔 먹었어요    NaN\n",
              "4940                                  친절하시구 음식도 맛있어요ㅎㅎ1    NaN\n",
              "5180                                               포장이요    NaN\n",
              "5284                                               맛있어요    NaN\n",
              "5888  리뷰에 직원분 불친절하단 얘기가 있던데, 다른분이신지 모르겠지만 금욜 저녁 직원분들...    NaN\n",
              "5890                                 가볍게 먹기 좋은 서브웨이 좋아요    NaN\n",
              "5949                                             맛있어요🙂🙂    NaN\n",
              "6071                                 고기맛잇어요 참두깨끗하게잘나오고요    NaN\n",
              "6091     사장님의 자상함과 친절한 써비스로 마음 편하게 대화 할 수 있어서 너무 좋아요~^^    NaN\n",
              "6220                                            플리마켓 맛집    NaN\n",
              "6379  동네에서 손가락에 꼽는 김밥 맛집이에요 양도 푸짐하고 재료도 신선하고 정말 맛있어요...    NaN\n",
              "6510                                         깨끗해요. 편안해요    NaN\n",
              "6536  깔끔한 화이트 톤 인테리어, 넓은 공간, 맛있는 디저트 ㅎㅎ 가볍게 동네마실 하러 ...    NaN\n",
              "6617                                   푸짐하게 잘 먹고 가요! ☺️    NaN\n",
              "6657                                       좋아요 매장도깔끔하고1    NaN\n",
              "8874                                               맛있어요    NaN\n",
              "9226      초코 케이크 샀는데 가격도 저렴하고 맛있어요! 사장님 하트초 서비스 감사합니다 😚    NaN\n",
              "9635               24시간이라 좋아요. 직원 분들도 친절하시고 돈까스랑 쫄면 짱맛🤤    NaN\n",
              "9661                                    푸짐해요, 맛있게 먹었어요😊    NaN\n",
              "9888  먹느라 사진이 많이 없지만, 회관하면 유치회관만 알았는데 이런 맛집이 있을줄이야 !...    NaN"
            ],
            "text/html": [
              "\n",
              "  <div id=\"df-ff08412f-0cec-4561-ad56-a2c02474b01e\">\n",
              "    <div class=\"colab-df-container\">\n",
              "      <div>\n",
              "<style scoped>\n",
              "    .dataframe tbody tr th:only-of-type {\n",
              "        vertical-align: middle;\n",
              "    }\n",
              "\n",
              "    .dataframe tbody tr th {\n",
              "        vertical-align: top;\n",
              "    }\n",
              "\n",
              "    .dataframe thead th {\n",
              "        text-align: right;\n",
              "    }\n",
              "</style>\n",
              "<table border=\"1\" class=\"dataframe\">\n",
              "  <thead>\n",
              "    <tr style=\"text-align: right;\">\n",
              "      <th></th>\n",
              "      <th>리뷰텍스트</th>\n",
              "      <th>label</th>\n",
              "    </tr>\n",
              "  </thead>\n",
              "  <tbody>\n",
              "    <tr>\n",
              "      <th>92</th>\n",
              "      <td>너무 맛있었어요😊 여자친구가 비건 카페를 좋아한다고해서 같이 갔는 데, 비건카페라...</td>\n",
              "      <td>NaN</td>\n",
              "    </tr>\n",
              "    <tr>\n",
              "      <th>197</th>\n",
              "      <td>조용하고 뷰도 좋고 가성비 좋은 음식점</td>\n",
              "      <td>NaN</td>\n",
              "    </tr>\n",
              "    <tr>\n",
              "      <th>400</th>\n",
              "      <td>1. 입장하면 음료교환권 주는데 추가금은 별도 계산해야합니다. 2. 모닥불이 두 곳...</td>\n",
              "      <td>NaN</td>\n",
              "    </tr>\n",
              "    <tr>\n",
              "      <th>747</th>\n",
              "      <td>친절하고 맛있고</td>\n",
              "      <td>NaN</td>\n",
              "    </tr>\n",
              "    <tr>\n",
              "      <th>788</th>\n",
              "      <td>코로나로 진짜 오랫만에 갔는데 깔끔해져서 좋아요 ㅎㅎ</td>\n",
              "      <td>NaN</td>\n",
              "    </tr>\n",
              "    <tr>\n",
              "      <th>1051</th>\n",
              "      <td>친절해여 커피가 맛있어요 !!</td>\n",
              "      <td>NaN</td>\n",
              "    </tr>\n",
              "    <tr>\n",
              "      <th>1128</th>\n",
              "      <td>두딸과 함께 팬케이크 2개짜리를 2번 먹었어요. 달지않고 깔끔한 맛입니다.</td>\n",
              "      <td>NaN</td>\n",
              "    </tr>\n",
              "    <tr>\n",
              "      <th>1223</th>\n",
              "      <td>아직 크리스마스 에디션은 많이 없는거 같아요 ㅎㅎ 그래도 예뻤구 케이크 짱 기대됩니...</td>\n",
              "      <td>NaN</td>\n",
              "    </tr>\n",
              "    <tr>\n",
              "      <th>1430</th>\n",
              "      <td>친구들하고 내기볼링하러 갔는데 시설도 깔끔하고 분위기도 엄청 좋았어요 직원분들도 친...</td>\n",
              "      <td>NaN</td>\n",
              "    </tr>\n",
              "    <tr>\n",
              "      <th>1620</th>\n",
              "      <td>별내에 칼국수 맛집이 흔하지 않는데, 시원한 멸치국수 맛이 최고여서 자주 이용합니다...</td>\n",
              "      <td>NaN</td>\n",
              "    </tr>\n",
              "    <tr>\n",
              "      <th>1649</th>\n",
              "      <td>주차편하고 좋아요</td>\n",
              "      <td>NaN</td>\n",
              "    </tr>\n",
              "    <tr>\n",
              "      <th>1900</th>\n",
              "      <td>흑임자라떼 아몬드크로와상 검색해서 왔는데 잘찾아온것같아서 둘다 너무 맛있어요 기분 ...</td>\n",
              "      <td>NaN</td>\n",
              "    </tr>\n",
              "    <tr>\n",
              "      <th>1901</th>\n",
              "      <td>뷰도 좋고 커피 찐 맛집이에요</td>\n",
              "      <td>NaN</td>\n",
              "    </tr>\n",
              "    <tr>\n",
              "      <th>1902</th>\n",
              "      <td>퇴근하고 자주가는 곳입니다♡ 맛있고 친절하고 좋아요!</td>\n",
              "      <td>NaN</td>\n",
              "    </tr>\n",
              "    <tr>\n",
              "      <th>2046</th>\n",
              "      <td>맛있어요~</td>\n",
              "      <td>NaN</td>\n",
              "    </tr>\n",
              "    <tr>\n",
              "      <th>2242</th>\n",
              "      <td>별내 맛집,,,최고에요💓 언제 먹어도 너무 맛있어요👍🏻 사진에는 없지만 할라피뇨 파...</td>\n",
              "      <td>NaN</td>\n",
              "    </tr>\n",
              "    <tr>\n",
              "      <th>2243</th>\n",
              "      <td>1메뉴 1쉐프 맛집입니다 굿굿</td>\n",
              "      <td>NaN</td>\n",
              "    </tr>\n",
              "    <tr>\n",
              "      <th>2244</th>\n",
              "      <td>맛있고 좋아요🥰</td>\n",
              "      <td>NaN</td>\n",
              "    </tr>\n",
              "    <tr>\n",
              "      <th>2245</th>\n",
              "      <td>도우가 쫄깃쫄깃하니 맛있었어요 :-) 까르보나라도 맛있었어용👍🏻</td>\n",
              "      <td>NaN</td>\n",
              "    </tr>\n",
              "    <tr>\n",
              "      <th>2417</th>\n",
              "      <td>샤브샤브가 너어어무 맛있어요💖 재료 추가 잘 안하는데 매번 버섯 추가해요! 진짜 버...</td>\n",
              "      <td>NaN</td>\n",
              "    </tr>\n",
              "    <tr>\n",
              "      <th>2420</th>\n",
              "      <td>말이 필요없음.더 있었으면 더 먹었을듯요. 배불러도 자꾸 들어가는맛. 얼큰샤브는 그...</td>\n",
              "      <td>NaN</td>\n",
              "    </tr>\n",
              "    <tr>\n",
              "      <th>2579</th>\n",
              "      <td>맛있게 잘 먹었습니다~ 별내 숨은 맛집이에요!!</td>\n",
              "      <td>NaN</td>\n",
              "    </tr>\n",
              "    <tr>\n",
              "      <th>2664</th>\n",
              "      <td>항상 맛있어요ㅎ</td>\n",
              "      <td>NaN</td>\n",
              "    </tr>\n",
              "    <tr>\n",
              "      <th>2969</th>\n",
              "      <td>처음 갔는데 소고기무한리필 중 가장 괜찮은거 같아요! 직원분 너무 친절하시고 고기 ...</td>\n",
              "      <td>NaN</td>\n",
              "    </tr>\n",
              "    <tr>\n",
              "      <th>3166</th>\n",
              "      <td>저는 운이 좋아 수타면발 만드시는 장면도 보았는데요 그래서인지 너무 맛있게 먹고 갑...</td>\n",
              "      <td>NaN</td>\n",
              "    </tr>\n",
              "    <tr>\n",
              "      <th>3237</th>\n",
              "      <td>오늘은 잉글리쉬 반토막 버젼으로: 러빙하는 빵에갸또~ 올리브푸가스 드디어 겟함! 크...</td>\n",
              "      <td>NaN</td>\n",
              "    </tr>\n",
              "    <tr>\n",
              "      <th>3498</th>\n",
              "      <td>굿</td>\n",
              "      <td>NaN</td>\n",
              "    </tr>\n",
              "    <tr>\n",
              "      <th>3710</th>\n",
              "      <td>런치세트 구성도 푸짐하고 가성비도 좋네요. 고기를 다 구워주셔서 더운데 땀 뺄 필요...</td>\n",
              "      <td>NaN</td>\n",
              "    </tr>\n",
              "    <tr>\n",
              "      <th>3821</th>\n",
              "      <td>사장님친절하시고 섬세하게 신경써주셔서 편하게 잘먹고왔습니다 재방문의사 200프로</td>\n",
              "      <td>NaN</td>\n",
              "    </tr>\n",
              "    <tr>\n",
              "      <th>4017</th>\n",
              "      <td>포장케이스를 던져주고, 제가 포장을 해야하나요? 남은음식 싸간다고 포장은 알아서 하...</td>\n",
              "      <td>NaN</td>\n",
              "    </tr>\n",
              "    <tr>\n",
              "      <th>4131</th>\n",
              "      <td>늘솜당 제가 좋아하는 빵집이라 진짜 자주왔는데 오늘 간만에 오고 리뷰도 처음써보네요...</td>\n",
              "      <td>NaN</td>\n",
              "    </tr>\n",
              "    <tr>\n",
              "      <th>4144</th>\n",
              "      <td>2년전에 다니다가 쉬고 다시 다닐만큼 친절하고 세세하게 잘가르쳐주세요. 무리하지않고...</td>\n",
              "      <td>NaN</td>\n",
              "    </tr>\n",
              "    <tr>\n",
              "      <th>4148</th>\n",
              "      <td>1년 넘게 다니고 있는데 선생님들이 다들 너무 좋으세요!! 한명한명 빠짐없이 자세도...</td>\n",
              "      <td>NaN</td>\n",
              "    </tr>\n",
              "    <tr>\n",
              "      <th>4173</th>\n",
              "      <td>맛있어요😊</td>\n",
              "      <td>NaN</td>\n",
              "    </tr>\n",
              "    <tr>\n",
              "      <th>4223</th>\n",
              "      <td>갈증나서 한잔 먹었어요</td>\n",
              "      <td>NaN</td>\n",
              "    </tr>\n",
              "    <tr>\n",
              "      <th>4940</th>\n",
              "      <td>친절하시구 음식도 맛있어요ㅎㅎ1</td>\n",
              "      <td>NaN</td>\n",
              "    </tr>\n",
              "    <tr>\n",
              "      <th>5180</th>\n",
              "      <td>포장이요</td>\n",
              "      <td>NaN</td>\n",
              "    </tr>\n",
              "    <tr>\n",
              "      <th>5284</th>\n",
              "      <td>맛있어요</td>\n",
              "      <td>NaN</td>\n",
              "    </tr>\n",
              "    <tr>\n",
              "      <th>5888</th>\n",
              "      <td>리뷰에 직원분 불친절하단 얘기가 있던데, 다른분이신지 모르겠지만 금욜 저녁 직원분들...</td>\n",
              "      <td>NaN</td>\n",
              "    </tr>\n",
              "    <tr>\n",
              "      <th>5890</th>\n",
              "      <td>가볍게 먹기 좋은 서브웨이 좋아요</td>\n",
              "      <td>NaN</td>\n",
              "    </tr>\n",
              "    <tr>\n",
              "      <th>5949</th>\n",
              "      <td>맛있어요🙂🙂</td>\n",
              "      <td>NaN</td>\n",
              "    </tr>\n",
              "    <tr>\n",
              "      <th>6071</th>\n",
              "      <td>고기맛잇어요 참두깨끗하게잘나오고요</td>\n",
              "      <td>NaN</td>\n",
              "    </tr>\n",
              "    <tr>\n",
              "      <th>6091</th>\n",
              "      <td>사장님의 자상함과 친절한 써비스로 마음 편하게 대화 할 수 있어서 너무 좋아요~^^</td>\n",
              "      <td>NaN</td>\n",
              "    </tr>\n",
              "    <tr>\n",
              "      <th>6220</th>\n",
              "      <td>플리마켓 맛집</td>\n",
              "      <td>NaN</td>\n",
              "    </tr>\n",
              "    <tr>\n",
              "      <th>6379</th>\n",
              "      <td>동네에서 손가락에 꼽는 김밥 맛집이에요 양도 푸짐하고 재료도 신선하고 정말 맛있어요...</td>\n",
              "      <td>NaN</td>\n",
              "    </tr>\n",
              "    <tr>\n",
              "      <th>6510</th>\n",
              "      <td>깨끗해요. 편안해요</td>\n",
              "      <td>NaN</td>\n",
              "    </tr>\n",
              "    <tr>\n",
              "      <th>6536</th>\n",
              "      <td>깔끔한 화이트 톤 인테리어, 넓은 공간, 맛있는 디저트 ㅎㅎ 가볍게 동네마실 하러 ...</td>\n",
              "      <td>NaN</td>\n",
              "    </tr>\n",
              "    <tr>\n",
              "      <th>6617</th>\n",
              "      <td>푸짐하게 잘 먹고 가요! ☺️</td>\n",
              "      <td>NaN</td>\n",
              "    </tr>\n",
              "    <tr>\n",
              "      <th>6657</th>\n",
              "      <td>좋아요 매장도깔끔하고1</td>\n",
              "      <td>NaN</td>\n",
              "    </tr>\n",
              "    <tr>\n",
              "      <th>8874</th>\n",
              "      <td>맛있어요</td>\n",
              "      <td>NaN</td>\n",
              "    </tr>\n",
              "    <tr>\n",
              "      <th>9226</th>\n",
              "      <td>초코 케이크 샀는데 가격도 저렴하고 맛있어요! 사장님 하트초 서비스 감사합니다 😚</td>\n",
              "      <td>NaN</td>\n",
              "    </tr>\n",
              "    <tr>\n",
              "      <th>9635</th>\n",
              "      <td>24시간이라 좋아요. 직원 분들도 친절하시고 돈까스랑 쫄면 짱맛🤤</td>\n",
              "      <td>NaN</td>\n",
              "    </tr>\n",
              "    <tr>\n",
              "      <th>9661</th>\n",
              "      <td>푸짐해요, 맛있게 먹었어요😊</td>\n",
              "      <td>NaN</td>\n",
              "    </tr>\n",
              "    <tr>\n",
              "      <th>9888</th>\n",
              "      <td>먹느라 사진이 많이 없지만, 회관하면 유치회관만 알았는데 이런 맛집이 있을줄이야 !...</td>\n",
              "      <td>NaN</td>\n",
              "    </tr>\n",
              "  </tbody>\n",
              "</table>\n",
              "</div>\n",
              "      <button class=\"colab-df-convert\" onclick=\"convertToInteractive('df-ff08412f-0cec-4561-ad56-a2c02474b01e')\"\n",
              "              title=\"Convert this dataframe to an interactive table.\"\n",
              "              style=\"display:none;\">\n",
              "        \n",
              "  <svg xmlns=\"http://www.w3.org/2000/svg\" height=\"24px\"viewBox=\"0 0 24 24\"\n",
              "       width=\"24px\">\n",
              "    <path d=\"M0 0h24v24H0V0z\" fill=\"none\"/>\n",
              "    <path d=\"M18.56 5.44l.94 2.06.94-2.06 2.06-.94-2.06-.94-.94-2.06-.94 2.06-2.06.94zm-11 1L8.5 8.5l.94-2.06 2.06-.94-2.06-.94L8.5 2.5l-.94 2.06-2.06.94zm10 10l.94 2.06.94-2.06 2.06-.94-2.06-.94-.94-2.06-.94 2.06-2.06.94z\"/><path d=\"M17.41 7.96l-1.37-1.37c-.4-.4-.92-.59-1.43-.59-.52 0-1.04.2-1.43.59L10.3 9.45l-7.72 7.72c-.78.78-.78 2.05 0 2.83L4 21.41c.39.39.9.59 1.41.59.51 0 1.02-.2 1.41-.59l7.78-7.78 2.81-2.81c.8-.78.8-2.07 0-2.86zM5.41 20L4 18.59l7.72-7.72 1.47 1.35L5.41 20z\"/>\n",
              "  </svg>\n",
              "      </button>\n",
              "      \n",
              "  <style>\n",
              "    .colab-df-container {\n",
              "      display:flex;\n",
              "      flex-wrap:wrap;\n",
              "      gap: 12px;\n",
              "    }\n",
              "\n",
              "    .colab-df-convert {\n",
              "      background-color: #E8F0FE;\n",
              "      border: none;\n",
              "      border-radius: 50%;\n",
              "      cursor: pointer;\n",
              "      display: none;\n",
              "      fill: #1967D2;\n",
              "      height: 32px;\n",
              "      padding: 0 0 0 0;\n",
              "      width: 32px;\n",
              "    }\n",
              "\n",
              "    .colab-df-convert:hover {\n",
              "      background-color: #E2EBFA;\n",
              "      box-shadow: 0px 1px 2px rgba(60, 64, 67, 0.3), 0px 1px 3px 1px rgba(60, 64, 67, 0.15);\n",
              "      fill: #174EA6;\n",
              "    }\n",
              "\n",
              "    [theme=dark] .colab-df-convert {\n",
              "      background-color: #3B4455;\n",
              "      fill: #D2E3FC;\n",
              "    }\n",
              "\n",
              "    [theme=dark] .colab-df-convert:hover {\n",
              "      background-color: #434B5C;\n",
              "      box-shadow: 0px 1px 3px 1px rgba(0, 0, 0, 0.15);\n",
              "      filter: drop-shadow(0px 1px 2px rgba(0, 0, 0, 0.3));\n",
              "      fill: #FFFFFF;\n",
              "    }\n",
              "  </style>\n",
              "\n",
              "      <script>\n",
              "        const buttonEl =\n",
              "          document.querySelector('#df-ff08412f-0cec-4561-ad56-a2c02474b01e button.colab-df-convert');\n",
              "        buttonEl.style.display =\n",
              "          google.colab.kernel.accessAllowed ? 'block' : 'none';\n",
              "\n",
              "        async function convertToInteractive(key) {\n",
              "          const element = document.querySelector('#df-ff08412f-0cec-4561-ad56-a2c02474b01e');\n",
              "          const dataTable =\n",
              "            await google.colab.kernel.invokeFunction('convertToInteractive',\n",
              "                                                     [key], {});\n",
              "          if (!dataTable) return;\n",
              "\n",
              "          const docLinkHtml = 'Like what you see? Visit the ' +\n",
              "            '<a target=\"_blank\" href=https://colab.research.google.com/notebooks/data_table.ipynb>data table notebook</a>'\n",
              "            + ' to learn more about interactive tables.';\n",
              "          element.innerHTML = '';\n",
              "          dataTable['output_type'] = 'display_data';\n",
              "          await google.colab.output.renderOutput(dataTable, element);\n",
              "          const docLink = document.createElement('div');\n",
              "          docLink.innerHTML = docLinkHtml;\n",
              "          element.appendChild(docLink);\n",
              "        }\n",
              "      </script>\n",
              "    </div>\n",
              "  </div>\n",
              "  "
            ]
          },
          "metadata": {},
          "execution_count": 6
        }
      ]
    },
    {
      "cell_type": "code",
      "source": [
        "# 결측값이 존재하는 컬럼 : label에 값을 채워넣습니다. \n",
        "train_df.at[92,'label'] = 1\n",
        "train_df.at[197,'label'] = 1\n",
        "train_df.at[400,'label'] = 2\n",
        "train_df.at[747,'label'] = 1\n",
        "train_df.at[788,'label'] = 1\n",
        "train_df.at[1051,'label'] = 1\n",
        "train_df.at[1128,'label'] = 1\n",
        "train_df.at[1223,'label'] = 1\n",
        "train_df.at[1430,'label'] = 1\n",
        "train_df.at[1620,'label'] = 1\n",
        "\n",
        "\n",
        "train_df.at[1649,'label'] = 1\n",
        "train_df.at[1900,'label'] = 1\n",
        "train_df.at[1901,'label'] = 1\n",
        "train_df.at[1902,'label'] = 1\n",
        "train_df.at[2046,'label'] = 1\n",
        "\n",
        "\n",
        "train_df.at[2242,'label'] = 1\n",
        "train_df.at[2243,'label'] = 1\n",
        "train_df.at[2244,'label'] = 1\n",
        "train_df.at[2245,'label'] = 1\n",
        "train_df.at[2417,'label'] = 1\n",
        "\n",
        "train_df.at[2420,'label'] = 1\n",
        "train_df.at[2579,'label'] = 1\n",
        "train_df.at[2664,'label'] = 1\n",
        "train_df.at[2969,'label'] = 1\n",
        "train_df.at[3166,'label'] = 1\n",
        "\n",
        "train_df.at[3237,'label'] = 1\n",
        "train_df.at[3498,'label'] = 1\n",
        "train_df.at[3710,'label'] = 1\n",
        "train_df.at[3821,'label'] = 1\n",
        "train_df.at[4017,'label'] = 3\n",
        "\n",
        "train_df.at[4131,'label'] =1\n",
        "train_df.at[4144,'label'] =1\n",
        "train_df.at[4148,'label'] =1\n",
        "train_df.at[4173,'label'] =1\n",
        "\n",
        "train_df.at[4223,'label'] = 1\n",
        "train_df.at[4940,'label'] = 1\n",
        "train_df.at[5180,'label'] = 1\n",
        "train_df.at[5284,'label'] = 1\n",
        "train_df.at[5888,'label'] = 1\n",
        "\n",
        "train_df.at[5890,'label'] = 1\n",
        "train_df.at[5949,'label'] = 1\n",
        "train_df.at[6071,'label'] = 1\n",
        "train_df.at[6091,'label'] = 1\n",
        "train_df.at[6220,'label'] = 1\n",
        "\n",
        "\n",
        "train_df.at[6379,'label'] = 1\n",
        "train_df.at[6510,'label'] = 1\n",
        "train_df.at[6536,'label'] = 1\n",
        "train_df.at[6617,'label'] = 1\n",
        "train_df.at[6657,'label'] = 1\n",
        "\n",
        "train_df.at[8874,'label'] = 1\n",
        "train_df.at[9226,'label'] = 1\n",
        "train_df.at[9635,'label'] = 1\n",
        "train_df.at[9661,'label'] = 1\n",
        "train_df.at[9888,'label'] = 1 "
      ],
      "metadata": {
        "id": "dK_wFvkALmAO"
      },
      "execution_count": 7,
      "outputs": []
    },
    {
      "cell_type": "code",
      "source": [
        "# 행의 결측값을 다시 한 번 확인합니다.\n",
        "train_df['label'].isnull().sum()"
      ],
      "metadata": {
        "colab": {
          "base_uri": "https://localhost:8080/"
        },
        "id": "JvitloGTS1OX",
        "outputId": "98ebcc9b-bf01-4bb5-87f4-63c5d10b54ac"
      },
      "execution_count": 8,
      "outputs": [
        {
          "output_type": "execute_result",
          "data": {
            "text/plain": [
              "0"
            ]
          },
          "metadata": {},
          "execution_count": 8
        }
      ]
    },
    {
      "cell_type": "code",
      "source": [
        "# 타겟의 범주가 어떤 비율을 가지고 있는지 확인하기.\n",
        "train_tg = train_df['label']\n",
        "train_tg.value_counts(normalize=True)"
      ],
      "metadata": {
        "colab": {
          "base_uri": "https://localhost:8080/"
        },
        "id": "Lwus3_rRS_X8",
        "outputId": "438d617f-48b5-43fe-ef26-e3f6e605bf73"
      },
      "execution_count": 9,
      "outputs": [
        {
          "output_type": "execute_result",
          "data": {
            "text/plain": [
              "1.0     0.882989\n",
              "2.0     0.066442\n",
              "3.0     0.049979\n",
              "11.0    0.000507\n",
              "33.0    0.000084\n",
              "Name: label, dtype: float64"
            ]
          },
          "metadata": {},
          "execution_count": 9
        }
      ]
    },
    {
      "cell_type": "code",
      "source": [
        "# 타겟 범주 비율을 시각화 합니다.\n",
        "\n",
        "import seaborn as sns\n",
        "import matplotlib.pyplot as plt\n",
        "%matplotlib inline\n",
        "sns.countplot(x=train_tg);"
      ],
      "metadata": {
        "colab": {
          "base_uri": "https://localhost:8080/",
          "height": 279
        },
        "id": "cN8KLtvUYXV1",
        "outputId": "0f3aeb1d-2ebf-4cee-8f2e-106b9e519f0a"
      },
      "execution_count": 10,
      "outputs": [
        {
          "output_type": "display_data",
          "data": {
            "text/plain": [
              "<Figure size 432x288 with 1 Axes>"
            ],
            "image/png": "[encoded data removed]"
          },
          "metadata": {
            "needs_background": "light"
          }
        }
      ]
    },
    {
      "cell_type": "code",
      "source": [
        "# 11 및 3으로 잘못 표기된 값들을 고쳐줍니다. 11 ->1, 33 -> 3\n",
        "\n",
        "# 먼저 11로 작성된 데이터의 행의 위치를 살펴봅니다.\n",
        "train_df[train_df['label'] == 11]\n",
        "\n",
        "# 이후 텍스트를 확인하여 값을 변경해줍니다.\n",
        "train_df.at[85,'label'] = 1\n",
        "train_df.at[298,'label'] = 1 \n",
        "train_df.at[3820,'label'] = 1 \n",
        "train_df.at[8345,'label'] = 1\n",
        "train_df.at[9102,'label'] = 1  \n",
        "train_df.at[9866,'label'] = 1\n",
        "\n",
        "# 마지막으로 11로 작성된 데이터의 행의 위치를 살펴봅니다.\n",
        "train_df[train_df['label'] == 33]\n",
        "\n",
        "# 이후 텍스트를 확인하여 값을 변경해줍니다.\n",
        "train_df.at[8304,'label'] = 3"
      ],
      "metadata": {
        "id": "B4Xc41niYoIi"
      },
      "execution_count": 11,
      "outputs": []
    },
    {
      "cell_type": "code",
      "source": [
        "train_df[train_df['label'] == 33]"
      ],
      "metadata": {
        "colab": {
          "base_uri": "https://localhost:8080/",
          "height": 49
        },
        "id": "g_b_2eXuY4FB",
        "outputId": "fe7c7519-37a2-4efe-cc0d-7d03916aa6e6"
      },
      "execution_count": 12,
      "outputs": [
        {
          "output_type": "execute_result",
          "data": {
            "text/plain": [
              "Empty DataFrame\n",
              "Columns: [리뷰텍스트, label]\n",
              "Index: []"
            ],
            "text/html": [
              "\n",
              "  <div id=\"df-cd01244d-2501-4990-8b7f-a9f9aba71f10\">\n",
              "    <div class=\"colab-df-container\">\n",
              "      <div>\n",
              "<style scoped>\n",
              "    .dataframe tbody tr th:only-of-type {\n",
              "        vertical-align: middle;\n",
              "    }\n",
              "\n",
              "    .dataframe tbody tr th {\n",
              "        vertical-align: top;\n",
              "    }\n",
              "\n",
              "    .dataframe thead th {\n",
              "        text-align: right;\n",
              "    }\n",
              "</style>\n",
              "<table border=\"1\" class=\"dataframe\">\n",
              "  <thead>\n",
              "    <tr style=\"text-align: right;\">\n",
              "      <th></th>\n",
              "      <th>리뷰텍스트</th>\n",
              "      <th>label</th>\n",
              "    </tr>\n",
              "  </thead>\n",
              "  <tbody>\n",
              "  </tbody>\n",
              "</table>\n",
              "</div>\n",
              "      <button class=\"colab-df-convert\" onclick=\"convertToInteractive('df-cd01244d-2501-4990-8b7f-a9f9aba71f10')\"\n",
              "              title=\"Convert this dataframe to an interactive table.\"\n",
              "              style=\"display:none;\">\n",
              "        \n",
              "  <svg xmlns=\"http://www.w3.org/2000/svg\" height=\"24px\"viewBox=\"0 0 24 24\"\n",
              "       width=\"24px\">\n",
              "    <path d=\"M0 0h24v24H0V0z\" fill=\"none\"/>\n",
              "    <path d=\"M18.56 5.44l.94 2.06.94-2.06 2.06-.94-2.06-.94-.94-2.06-.94 2.06-2.06.94zm-11 1L8.5 8.5l.94-2.06 2.06-.94-2.06-.94L8.5 2.5l-.94 2.06-2.06.94zm10 10l.94 2.06.94-2.06 2.06-.94-2.06-.94-.94-2.06-.94 2.06-2.06.94z\"/><path d=\"M17.41 7.96l-1.37-1.37c-.4-.4-.92-.59-1.43-.59-.52 0-1.04.2-1.43.59L10.3 9.45l-7.72 7.72c-.78.78-.78 2.05 0 2.83L4 21.41c.39.39.9.59 1.41.59.51 0 1.02-.2 1.41-.59l7.78-7.78 2.81-2.81c.8-.78.8-2.07 0-2.86zM5.41 20L4 18.59l7.72-7.72 1.47 1.35L5.41 20z\"/>\n",
              "  </svg>\n",
              "      </button>\n",
              "      \n",
              "  <style>\n",
              "    .colab-df-container {\n",
              "      display:flex;\n",
              "      flex-wrap:wrap;\n",
              "      gap: 12px;\n",
              "    }\n",
              "\n",
              "    .colab-df-convert {\n",
              "      background-color: #E8F0FE;\n",
              "      border: none;\n",
              "      border-radius: 50%;\n",
              "      cursor: pointer;\n",
              "      display: none;\n",
              "      fill: #1967D2;\n",
              "      height: 32px;\n",
              "      padding: 0 0 0 0;\n",
              "      width: 32px;\n",
              "    }\n",
              "\n",
              "    .colab-df-convert:hover {\n",
              "      background-color: #E2EBFA;\n",
              "      box-shadow: 0px 1px 2px rgba(60, 64, 67, 0.3), 0px 1px 3px 1px rgba(60, 64, 67, 0.15);\n",
              "      fill: #174EA6;\n",
              "    }\n",
              "\n",
              "    [theme=dark] .colab-df-convert {\n",
              "      background-color: #3B4455;\n",
              "      fill: #D2E3FC;\n",
              "    }\n",
              "\n",
              "    [theme=dark] .colab-df-convert:hover {\n",
              "      background-color: #434B5C;\n",
              "      box-shadow: 0px 1px 3px 1px rgba(0, 0, 0, 0.15);\n",
              "      filter: drop-shadow(0px 1px 2px rgba(0, 0, 0, 0.3));\n",
              "      fill: #FFFFFF;\n",
              "    }\n",
              "  </style>\n",
              "\n",
              "      <script>\n",
              "        const buttonEl =\n",
              "          document.querySelector('#df-cd01244d-2501-4990-8b7f-a9f9aba71f10 button.colab-df-convert');\n",
              "        buttonEl.style.display =\n",
              "          google.colab.kernel.accessAllowed ? 'block' : 'none';\n",
              "\n",
              "        async function convertToInteractive(key) {\n",
              "          const element = document.querySelector('#df-cd01244d-2501-4990-8b7f-a9f9aba71f10');\n",
              "          const dataTable =\n",
              "            await google.colab.kernel.invokeFunction('convertToInteractive',\n",
              "                                                     [key], {});\n",
              "          if (!dataTable) return;\n",
              "\n",
              "          const docLinkHtml = 'Like what you see? Visit the ' +\n",
              "            '<a target=\"_blank\" href=https://colab.research.google.com/notebooks/data_table.ipynb>data table notebook</a>'\n",
              "            + ' to learn more about interactive tables.';\n",
              "          element.innerHTML = '';\n",
              "          dataTable['output_type'] = 'display_data';\n",
              "          await google.colab.output.renderOutput(dataTable, element);\n",
              "          const docLink = document.createElement('div');\n",
              "          docLink.innerHTML = docLinkHtml;\n",
              "          element.appendChild(docLink);\n",
              "        }\n",
              "      </script>\n",
              "    </div>\n",
              "  </div>\n",
              "  "
            ]
          },
          "metadata": {},
          "execution_count": 12
        }
      ]
    },
    {
      "cell_type": "code",
      "source": [
        "# 다시 한 번 값의 범주 비율을 확인합니다.\n",
        "train_tg = train_df['label']\n",
        "train_tg.value_counts(normalize=True)"
      ],
      "metadata": {
        "colab": {
          "base_uri": "https://localhost:8080/"
        },
        "id": "f6huwwB3ZwVb",
        "outputId": "19ff563f-c1be-4f8f-cbc9-d69aa8366492"
      },
      "execution_count": 13,
      "outputs": [
        {
          "output_type": "execute_result",
          "data": {
            "text/plain": [
              "1.0    0.883495\n",
              "2.0    0.066442\n",
              "3.0    0.050063\n",
              "Name: label, dtype: float64"
            ]
          },
          "metadata": {},
          "execution_count": 13
        }
      ]
    },
    {
      "cell_type": "markdown",
      "source": [
        "#### 클래스 불균형.\n",
        "> 1의 값은 만족을 나타내고, 2는 보통, 3은 부정을 나타냅니다.\n",
        "\n",
        "* 만족을 나타내는 값이 너무 많습니다, 추후 모델이 긍정만을 예측하는 경우가 생깁니다 <br/>\n",
        "\n",
        "* 긍정리뷰를 잘 예측할 수 있으나, 부통과 부정에 관하여는 정확도가 매우 낮을 수 있습니다.\n",
        "\n"
      ],
      "metadata": {
        "id": "3VIJ-yKLZ7y0"
      }
    },
    {
      "cell_type": "markdown",
      "source": [
        "#### 데이터 전처리 "
      ],
      "metadata": {
        "id": "J5aBoRDRdLBw"
      }
    },
    {
      "cell_type": "code",
      "source": [
        "# 데이터 전처리\n",
        "\n",
        "# 컬럼: 리뷰텍스트 구간에서 중복된 리뷰가 존재했습니다. 열을 지정하여 중복을 제거합니다.\n",
        "train_df.drop_duplicates(['리뷰텍스트'], inplace=True)"
      ],
      "metadata": {
        "id": "4Y23N3lKc8vA"
      },
      "execution_count": 14,
      "outputs": []
    },
    {
      "cell_type": "code",
      "source": [
        "# 타겟 범주 비율을 시각화 합니다.\n",
        "\n",
        "import seaborn as sns\n",
        "import matplotlib.pyplot as plt\n",
        "%matplotlib inline\n",
        "sns.countplot(x=train_df['label']);"
      ],
      "metadata": {
        "colab": {
          "base_uri": "https://localhost:8080/",
          "height": 279
        },
        "id": "8ZT9B5Y9diEz",
        "outputId": "cd52839d-d415-4414-b22c-d78e53354f98"
      },
      "execution_count": 15,
      "outputs": [
        {
          "output_type": "display_data",
          "data": {
            "text/plain": [
              "<Figure size 432x288 with 1 Axes>"
            ],
            "image/png": "[encoded data removed]"
          },
          "metadata": {
            "needs_background": "light"
          }
        }
      ]
    },
    {
      "cell_type": "code",
      "source": [
        "train_df['label'].value_counts()"
      ],
      "metadata": {
        "colab": {
          "base_uri": "https://localhost:8080/"
        },
        "id": "6h0sEU8Ad2r5",
        "outputId": "60ef9e3a-4994-40f7-c4ff-57702ea31249"
      },
      "execution_count": 16,
      "outputs": [
        {
          "output_type": "execute_result",
          "data": {
            "text/plain": [
              "1.0    6570\n",
              "3.0     528\n",
              "2.0     498\n",
              "Name: label, dtype: int64"
            ]
          },
          "metadata": {},
          "execution_count": 16
        }
      ]
    },
    {
      "cell_type": "code",
      "source": [
        "#긍정, 보통 및 불만족에 대한 데이터의 개수는 가장 낮은 보통을 나타내는 데이터의 개수를 기준으로 합니다.\n",
        "\n",
        "# 개수를 일치하고, 각 값이 속한 인덱스 번호를 추출합니다.\n",
        "positive_random_idx = train_df[train_df['label'] == 1].sample(498, random_state= 10).index.tolist()\n",
        "normal_random_idx = train_df[train_df['label'] == 2].sample(498, random_state = 10).index.tolist()\n",
        "nagative_random_idx = train_df[train_df['label'] == 3].sample(498, random_state = 10).index.tolist()\n",
        "\n",
        "\n",
        "# 위에서 생성한 각각의 인덱스 값을 모두 더합니다.\n",
        "train_random_idx = positive_random_idx + normal_random_idx + nagative_random_idx\n"
      ],
      "metadata": {
        "id": "LFKH2GRbecuG"
      },
      "execution_count": 17,
      "outputs": []
    },
    {
      "cell_type": "markdown",
      "source": [
        "---\n",
        "## test_data 작업\n",
        "\n"
      ],
      "metadata": {
        "id": "zQcYtYIvpC1e"
      }
    },
    {
      "cell_type": "code",
      "source": [
        "# 테스트를 진행할 데이터 또한 가져옵니다.\n",
        "url = '/content/drive/MyDrive/project3  file./test_df_token.csv'\n",
        "test_df = pd.read_csv(url)\n",
        "\n",
        "# label 컬럼 생성\n",
        "test_df['label'] = \"\"\n",
        "\n",
        "\n",
        "# 리뷰텍스트의 \"\" 값 제거\n",
        "test_df = test_df[test_df.리뷰텍스트 !=\"\"]\n",
        "test_df = test_df[test_df.리뷰텍스트 !='없음']\n",
        "test_df = test_df.dropna()\n",
        "# 컬럼 : 'Unnamed: 0' 제거.\n",
        "test_df.drop(['Unnamed: 0'], axis = 1, inplace = True)"
      ],
      "metadata": {
        "id": "y5V4FflKgL-G"
      },
      "execution_count": 18,
      "outputs": []
    },
    {
      "cell_type": "code",
      "source": [
        "test_df.shape"
      ],
      "metadata": {
        "colab": {
          "base_uri": "https://localhost:8080/"
        },
        "id": "PY0Wi7sGgSB8",
        "outputId": "e81f3859-ae5c-4746-ede7-101d8dc1de14"
      },
      "execution_count": 19,
      "outputs": [
        {
          "output_type": "execute_result",
          "data": {
            "text/plain": [
              "(2229, 2)"
            ]
          },
          "metadata": {},
          "execution_count": 19
        }
      ]
    },
    {
      "cell_type": "code",
      "source": [
        "test_df.info()"
      ],
      "metadata": {
        "colab": {
          "base_uri": "https://localhost:8080/"
        },
        "id": "tkH2-f75mIOC",
        "outputId": "977d2426-a8e0-4cb8-9d50-d46af81ab0f5"
      },
      "execution_count": 20,
      "outputs": [
        {
          "output_type": "stream",
          "name": "stdout",
          "text": [
            "<class 'pandas.core.frame.DataFrame'>\n",
            "Int64Index: 2229 entries, 1 to 2505\n",
            "Data columns (total 2 columns):\n",
            " #   Column  Non-Null Count  Dtype \n",
            "---  ------  --------------  ----- \n",
            " 0   리뷰텍스트   2229 non-null   object\n",
            " 1   label   2229 non-null   object\n",
            "dtypes: object(2)\n",
            "memory usage: 52.2+ KB\n"
          ]
        }
      ]
    },
    {
      "cell_type": "markdown",
      "source": [
        "#### 테스트 데이터 또한 전처리 작업을 진행합니다."
      ],
      "metadata": {
        "id": "JRoVt-uQqnbM"
      }
    },
    {
      "cell_type": "code",
      "source": [
        "# 데이터 전처리\n",
        "\n",
        "# 컬럼: 리뷰텍스트 구간에서 중복된 리뷰가 존재했습니다. 열을 지정하여 중복을 제거합니다.\n",
        "test_df.drop_duplicates(['리뷰텍스트'], inplace=True)\n",
        "test_df.shape"
      ],
      "metadata": {
        "colab": {
          "base_uri": "https://localhost:8080/"
        },
        "id": "6Iba_bGKqt96",
        "outputId": "515eb2dc-d5d2-4841-a61a-4b9515bc2814"
      },
      "execution_count": 21,
      "outputs": [
        {
          "output_type": "execute_result",
          "data": {
            "text/plain": [
              "(1212, 2)"
            ]
          },
          "metadata": {},
          "execution_count": 21
        }
      ]
    },
    {
      "cell_type": "markdown",
      "source": [
        "## 모델을 만들기 위한 작업\n",
        "> 각각의 리뷰 텍스트를 토근화합니다.<br>\n",
        "❗ 한글 텍스트의 경우, Okt 형태소 분석기를 활용하였습니다."
      ],
      "metadata": {
        "id": "QQPbYdYVpy-c"
      }
    },
    {
      "cell_type": "code",
      "source": [
        "# 필요한 패키지를 설치합니다.\n",
        "!pip install konlpy"
      ],
      "metadata": {
        "colab": {
          "base_uri": "https://localhost:8080/"
        },
        "id": "B1128G_2scwZ",
        "outputId": "4f29b759-040e-4367-ce14-c592c73e8c4b"
      },
      "execution_count": 22,
      "outputs": [
        {
          "output_type": "stream",
          "name": "stdout",
          "text": [
            "Looking in indexes: https://pypi.org/simple, https://us-python.pkg.dev/colab-wheels/public/simple/\n",
            "Collecting konlpy\n",
            "  Downloading konlpy-0.6.0-py2.py3-none-any.whl (19.4 MB)\n",
            "\u001b[K     |████████████████████████████████| 19.4 MB 5.9 MB/s \n",
            "\u001b[?25hCollecting JPype1>=0.7.0\n",
            "  Downloading JPype1-1.4.0-cp37-cp37m-manylinux_2_5_x86_64.manylinux1_x86_64.whl (453 kB)\n",
            "\u001b[K     |████████████████████████████████| 453 kB 39.5 MB/s \n",
            "\u001b[?25hRequirement already satisfied: numpy>=1.6 in /usr/local/lib/python3.7/dist-packages (from konlpy) (1.21.6)\n",
            "Requirement already satisfied: lxml>=4.1.0 in /usr/local/lib/python3.7/dist-packages (from konlpy) (4.2.6)\n",
            "Requirement already satisfied: typing-extensions in /usr/local/lib/python3.7/dist-packages (from JPype1>=0.7.0->konlpy) (4.1.1)\n",
            "Installing collected packages: JPype1, konlpy\n",
            "Successfully installed JPype1-1.4.0 konlpy-0.6.0\n"
          ]
        }
      ]
    },
    {
      "cell_type": "code",
      "source": [
        "# 필요한 라이브러리를 가져옵니다.\n",
        "import re\n",
        "import json\n",
        "from konlpy.tag import Okt\n",
        "from tensorflow.keras.preprocessing.sequence import pad_sequences\n",
        "from tensorflow.keras.preprocessing.text import Tokenizer"
      ],
      "metadata": {
        "id": "w2GV9xWEq8FO"
      },
      "execution_count": 23,
      "outputs": []
    },
    {
      "cell_type": "code",
      "source": [
        ""
      ],
      "metadata": {
        "id": "WgMITh8JtR7e"
      },
      "execution_count": 23,
      "outputs": []
    },
    {
      "cell_type": "markdown",
      "source": [
        "#### 1. 각 리뷰에 대하여 토근화 진행\n",
        "> 함수를 생성하여 진행하도록 하겠습니다.\n",
        "이때 **불용어** 또한 같이 제거하도록 합니다. "
      ],
      "metadata": {
        "id": "0BJIPLFSsYuH"
      }
    }
  ]
}