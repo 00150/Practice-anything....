{
  "nbformat": 4,
  "nbformat_minor": 0,
  "metadata": {
    "colab": {
      "provenance": [],
      "authorship_tag": "ABX9TyN7NiX1TTSQU6Zozenfiw3x",
      "include_colab_link": true
    },
    "kernelspec": {
      "name": "python3",
      "display_name": "Python 3"
    },
    "language_info": {
      "name": "python"
    }
  },
  "cells": [
    {
      "cell_type": "markdown",
      "metadata": {
        "id": "view-in-github",
        "colab_type": "text"
      },
      "source": [
        "<a href=\"https://colab.research.google.com/github/00150/Practice-anything..../blob/main/Untitled184_advanced.ipynb\" target=\"_parent\"><img src=\"https://colab.research.google.com/assets/colab-badge.svg\" alt=\"Open In Colab\"/></a>"
      ]
    },
    {
      "cell_type": "markdown",
      "source": [
        "※ 184의 내용을 바탕으로 연습\n",
        "* 필요한 라이브러리는 그때 그때 사용하도록 할 것. "
      ],
      "metadata": {
        "id": "01N0GnkqW1PS"
      }
    },
    {
      "cell_type": "code",
      "source": [
        "!pip install category_encoders"
      ],
      "metadata": {
        "colab": {
          "base_uri": "https://localhost:8080/"
        },
        "id": "-3Vx7K9wbqC7",
        "outputId": "a8db76ae-02db-449d-b2e0-6191744c4833"
      },
      "execution_count": 21,
      "outputs": [
        {
          "output_type": "stream",
          "name": "stdout",
          "text": [
            "Looking in indexes: https://pypi.org/simple, https://us-python.pkg.dev/colab-wheels/public/simple/\n",
            "Requirement already satisfied: category_encoders in /usr/local/lib/python3.8/dist-packages (2.6.0)\n",
            "Requirement already satisfied: pandas>=1.0.5 in /usr/local/lib/python3.8/dist-packages (from category_encoders) (1.3.5)\n",
            "Requirement already satisfied: scipy>=1.0.0 in /usr/local/lib/python3.8/dist-packages (from category_encoders) (1.7.3)\n",
            "Requirement already satisfied: patsy>=0.5.1 in /usr/local/lib/python3.8/dist-packages (from category_encoders) (0.5.3)\n",
            "Requirement already satisfied: numpy>=1.14.0 in /usr/local/lib/python3.8/dist-packages (from category_encoders) (1.22.4)\n",
            "Requirement already satisfied: scikit-learn>=0.20.0 in /usr/local/lib/python3.8/dist-packages (from category_encoders) (1.0.2)\n",
            "Requirement already satisfied: statsmodels>=0.9.0 in /usr/local/lib/python3.8/dist-packages (from category_encoders) (0.12.2)\n",
            "Requirement already satisfied: pytz>=2017.3 in /usr/local/lib/python3.8/dist-packages (from pandas>=1.0.5->category_encoders) (2022.7.1)\n",
            "Requirement already satisfied: python-dateutil>=2.7.3 in /usr/local/lib/python3.8/dist-packages (from pandas>=1.0.5->category_encoders) (2.8.2)\n",
            "Requirement already satisfied: six in /usr/local/lib/python3.8/dist-packages (from patsy>=0.5.1->category_encoders) (1.15.0)\n",
            "Requirement already satisfied: joblib>=0.11 in /usr/local/lib/python3.8/dist-packages (from scikit-learn>=0.20.0->category_encoders) (1.2.0)\n",
            "Requirement already satisfied: threadpoolctl>=2.0.0 in /usr/local/lib/python3.8/dist-packages (from scikit-learn>=0.20.0->category_encoders) (3.1.0)\n"
          ]
        }
      ]
    },
    {
      "cell_type": "markdown",
      "source": [
        "## **Part 1. 분류/회귀 문제**\n",
        "> 다이아몬드를 보관하기 위해 금고를 만들었습니다. 금고가 너무 작아서 가격이 상위 25% 이상인 것만 보관하려고 합니다. 이를 위해 `price` 특성을 이용해 금고에 보관할 다이아몬드와 그렇지 않은 것으로 분류하는 이진 분류 컬럼을 만들어 타겟으로 사용할 것입니다.\n",
        "\n",
        "- `diamonds` 데이터셋을 불러오세요.\n",
        "- `top25`라는 새로운 타겟 변수(컬럼)를 만들어 주세요. \n",
        "  - `price` 값이 상위 25% 이상이면 `True`, 상위 25% 미만이면 `False`가 되도록 `top25`에 저장하세요. "
      ],
      "metadata": {
        "id": "IM6Xyh-GXMnR"
      }
    },
    {
      "cell_type": "code",
      "source": [
        "# 데이터셋 불러오기\n",
        "import pandas as pd\n",
        "import seaborn as sns\n",
        "\n",
        "diamonds = sns.load_dataset('diamonds')\n",
        "diamonds"
      ],
      "metadata": {
        "colab": {
          "base_uri": "https://localhost:8080/",
          "height": 423
        },
        "id": "vZ-KXjZDXtti",
        "outputId": "7a271b68-03c8-4ea5-9bde-2309ef35d0bd"
      },
      "execution_count": 22,
      "outputs": [
        {
          "output_type": "execute_result",
          "data": {
            "text/plain": [
              "       carat        cut color clarity  depth  table  price     x     y     z\n",
              "0       0.23      Ideal     E     SI2   61.5   55.0    326  3.95  3.98  2.43\n",
              "1       0.21    Premium     E     SI1   59.8   61.0    326  3.89  3.84  2.31\n",
              "2       0.23       Good     E     VS1   56.9   65.0    327  4.05  4.07  2.31\n",
              "3       0.29    Premium     I     VS2   62.4   58.0    334  4.20  4.23  2.63\n",
              "4       0.31       Good     J     SI2   63.3   58.0    335  4.34  4.35  2.75\n",
              "...      ...        ...   ...     ...    ...    ...    ...   ...   ...   ...\n",
              "53935   0.72      Ideal     D     SI1   60.8   57.0   2757  5.75  5.76  3.50\n",
              "53936   0.72       Good     D     SI1   63.1   55.0   2757  5.69  5.75  3.61\n",
              "53937   0.70  Very Good     D     SI1   62.8   60.0   2757  5.66  5.68  3.56\n",
              "53938   0.86    Premium     H     SI2   61.0   58.0   2757  6.15  6.12  3.74\n",
              "53939   0.75      Ideal     D     SI2   62.2   55.0   2757  5.83  5.87  3.64\n",
              "\n",
              "[53940 rows x 10 columns]"
            ],
            "text/html": [
              "\n",
              "  <div id=\"df-6a5ed39e-9f72-45b9-9136-3dd69849a146\">\n",
              "    <div class=\"colab-df-container\">\n",
              "      <div>\n",
              "<style scoped>\n",
              "    .dataframe tbody tr th:only-of-type {\n",
              "        vertical-align: middle;\n",
              "    }\n",
              "\n",
              "    .dataframe tbody tr th {\n",
              "        vertical-align: top;\n",
              "    }\n",
              "\n",
              "    .dataframe thead th {\n",
              "        text-align: right;\n",
              "    }\n",
              "</style>\n",
              "<table border=\"1\" class=\"dataframe\">\n",
              "  <thead>\n",
              "    <tr style=\"text-align: right;\">\n",
              "      <th></th>\n",
              "      <th>carat</th>\n",
              "      <th>cut</th>\n",
              "      <th>color</th>\n",
              "      <th>clarity</th>\n",
              "      <th>depth</th>\n",
              "      <th>table</th>\n",
              "      <th>price</th>\n",
              "      <th>x</th>\n",
              "      <th>y</th>\n",
              "      <th>z</th>\n",
              "    </tr>\n",
              "  </thead>\n",
              "  <tbody>\n",
              "    <tr>\n",
              "      <th>0</th>\n",
              "      <td>0.23</td>\n",
              "      <td>Ideal</td>\n",
              "      <td>E</td>\n",
              "      <td>SI2</td>\n",
              "      <td>61.5</td>\n",
              "      <td>55.0</td>\n",
              "      <td>326</td>\n",
              "      <td>3.95</td>\n",
              "      <td>3.98</td>\n",
              "      <td>2.43</td>\n",
              "    </tr>\n",
              "    <tr>\n",
              "      <th>1</th>\n",
              "      <td>0.21</td>\n",
              "      <td>Premium</td>\n",
              "      <td>E</td>\n",
              "      <td>SI1</td>\n",
              "      <td>59.8</td>\n",
              "      <td>61.0</td>\n",
              "      <td>326</td>\n",
              "      <td>3.89</td>\n",
              "      <td>3.84</td>\n",
              "      <td>2.31</td>\n",
              "    </tr>\n",
              "    <tr>\n",
              "      <th>2</th>\n",
              "      <td>0.23</td>\n",
              "      <td>Good</td>\n",
              "      <td>E</td>\n",
              "      <td>VS1</td>\n",
              "      <td>56.9</td>\n",
              "      <td>65.0</td>\n",
              "      <td>327</td>\n",
              "      <td>4.05</td>\n",
              "      <td>4.07</td>\n",
              "      <td>2.31</td>\n",
              "    </tr>\n",
              "    <tr>\n",
              "      <th>3</th>\n",
              "      <td>0.29</td>\n",
              "      <td>Premium</td>\n",
              "      <td>I</td>\n",
              "      <td>VS2</td>\n",
              "      <td>62.4</td>\n",
              "      <td>58.0</td>\n",
              "      <td>334</td>\n",
              "      <td>4.20</td>\n",
              "      <td>4.23</td>\n",
              "      <td>2.63</td>\n",
              "    </tr>\n",
              "    <tr>\n",
              "      <th>4</th>\n",
              "      <td>0.31</td>\n",
              "      <td>Good</td>\n",
              "      <td>J</td>\n",
              "      <td>SI2</td>\n",
              "      <td>63.3</td>\n",
              "      <td>58.0</td>\n",
              "      <td>335</td>\n",
              "      <td>4.34</td>\n",
              "      <td>4.35</td>\n",
              "      <td>2.75</td>\n",
              "    </tr>\n",
              "    <tr>\n",
              "      <th>...</th>\n",
              "      <td>...</td>\n",
              "      <td>...</td>\n",
              "      <td>...</td>\n",
              "      <td>...</td>\n",
              "      <td>...</td>\n",
              "      <td>...</td>\n",
              "      <td>...</td>\n",
              "      <td>...</td>\n",
              "      <td>...</td>\n",
              "      <td>...</td>\n",
              "    </tr>\n",
              "    <tr>\n",
              "      <th>53935</th>\n",
              "      <td>0.72</td>\n",
              "      <td>Ideal</td>\n",
              "      <td>D</td>\n",
              "      <td>SI1</td>\n",
              "      <td>60.8</td>\n",
              "      <td>57.0</td>\n",
              "      <td>2757</td>\n",
              "      <td>5.75</td>\n",
              "      <td>5.76</td>\n",
              "      <td>3.50</td>\n",
              "    </tr>\n",
              "    <tr>\n",
              "      <th>53936</th>\n",
              "      <td>0.72</td>\n",
              "      <td>Good</td>\n",
              "      <td>D</td>\n",
              "      <td>SI1</td>\n",
              "      <td>63.1</td>\n",
              "      <td>55.0</td>\n",
              "      <td>2757</td>\n",
              "      <td>5.69</td>\n",
              "      <td>5.75</td>\n",
              "      <td>3.61</td>\n",
              "    </tr>\n",
              "    <tr>\n",
              "      <th>53937</th>\n",
              "      <td>0.70</td>\n",
              "      <td>Very Good</td>\n",
              "      <td>D</td>\n",
              "      <td>SI1</td>\n",
              "      <td>62.8</td>\n",
              "      <td>60.0</td>\n",
              "      <td>2757</td>\n",
              "      <td>5.66</td>\n",
              "      <td>5.68</td>\n",
              "      <td>3.56</td>\n",
              "    </tr>\n",
              "    <tr>\n",
              "      <th>53938</th>\n",
              "      <td>0.86</td>\n",
              "      <td>Premium</td>\n",
              "      <td>H</td>\n",
              "      <td>SI2</td>\n",
              "      <td>61.0</td>\n",
              "      <td>58.0</td>\n",
              "      <td>2757</td>\n",
              "      <td>6.15</td>\n",
              "      <td>6.12</td>\n",
              "      <td>3.74</td>\n",
              "    </tr>\n",
              "    <tr>\n",
              "      <th>53939</th>\n",
              "      <td>0.75</td>\n",
              "      <td>Ideal</td>\n",
              "      <td>D</td>\n",
              "      <td>SI2</td>\n",
              "      <td>62.2</td>\n",
              "      <td>55.0</td>\n",
              "      <td>2757</td>\n",
              "      <td>5.83</td>\n",
              "      <td>5.87</td>\n",
              "      <td>3.64</td>\n",
              "    </tr>\n",
              "  </tbody>\n",
              "</table>\n",
              "<p>53940 rows × 10 columns</p>\n",
              "</div>\n",
              "      <button class=\"colab-df-convert\" onclick=\"convertToInteractive('df-6a5ed39e-9f72-45b9-9136-3dd69849a146')\"\n",
              "              title=\"Convert this dataframe to an interactive table.\"\n",
              "              style=\"display:none;\">\n",
              "        \n",
              "  <svg xmlns=\"http://www.w3.org/2000/svg\" height=\"24px\"viewBox=\"0 0 24 24\"\n",
              "       width=\"24px\">\n",
              "    <path d=\"M0 0h24v24H0V0z\" fill=\"none\"/>\n",
              "    <path d=\"M18.56 5.44l.94 2.06.94-2.06 2.06-.94-2.06-.94-.94-2.06-.94 2.06-2.06.94zm-11 1L8.5 8.5l.94-2.06 2.06-.94-2.06-.94L8.5 2.5l-.94 2.06-2.06.94zm10 10l.94 2.06.94-2.06 2.06-.94-2.06-.94-.94-2.06-.94 2.06-2.06.94z\"/><path d=\"M17.41 7.96l-1.37-1.37c-.4-.4-.92-.59-1.43-.59-.52 0-1.04.2-1.43.59L10.3 9.45l-7.72 7.72c-.78.78-.78 2.05 0 2.83L4 21.41c.39.39.9.59 1.41.59.51 0 1.02-.2 1.41-.59l7.78-7.78 2.81-2.81c.8-.78.8-2.07 0-2.86zM5.41 20L4 18.59l7.72-7.72 1.47 1.35L5.41 20z\"/>\n",
              "  </svg>\n",
              "      </button>\n",
              "      \n",
              "  <style>\n",
              "    .colab-df-container {\n",
              "      display:flex;\n",
              "      flex-wrap:wrap;\n",
              "      gap: 12px;\n",
              "    }\n",
              "\n",
              "    .colab-df-convert {\n",
              "      background-color: #E8F0FE;\n",
              "      border: none;\n",
              "      border-radius: 50%;\n",
              "      cursor: pointer;\n",
              "      display: none;\n",
              "      fill: #1967D2;\n",
              "      height: 32px;\n",
              "      padding: 0 0 0 0;\n",
              "      width: 32px;\n",
              "    }\n",
              "\n",
              "    .colab-df-convert:hover {\n",
              "      background-color: #E2EBFA;\n",
              "      box-shadow: 0px 1px 2px rgba(60, 64, 67, 0.3), 0px 1px 3px 1px rgba(60, 64, 67, 0.15);\n",
              "      fill: #174EA6;\n",
              "    }\n",
              "\n",
              "    [theme=dark] .colab-df-convert {\n",
              "      background-color: #3B4455;\n",
              "      fill: #D2E3FC;\n",
              "    }\n",
              "\n",
              "    [theme=dark] .colab-df-convert:hover {\n",
              "      background-color: #434B5C;\n",
              "      box-shadow: 0px 1px 3px 1px rgba(0, 0, 0, 0.15);\n",
              "      filter: drop-shadow(0px 1px 2px rgba(0, 0, 0, 0.3));\n",
              "      fill: #FFFFFF;\n",
              "    }\n",
              "  </style>\n",
              "\n",
              "      <script>\n",
              "        const buttonEl =\n",
              "          document.querySelector('#df-6a5ed39e-9f72-45b9-9136-3dd69849a146 button.colab-df-convert');\n",
              "        buttonEl.style.display =\n",
              "          google.colab.kernel.accessAllowed ? 'block' : 'none';\n",
              "\n",
              "        async function convertToInteractive(key) {\n",
              "          const element = document.querySelector('#df-6a5ed39e-9f72-45b9-9136-3dd69849a146');\n",
              "          const dataTable =\n",
              "            await google.colab.kernel.invokeFunction('convertToInteractive',\n",
              "                                                     [key], {});\n",
              "          if (!dataTable) return;\n",
              "\n",
              "          const docLinkHtml = 'Like what you see? Visit the ' +\n",
              "            '<a target=\"_blank\" href=https://colab.research.google.com/notebooks/data_table.ipynb>data table notebook</a>'\n",
              "            + ' to learn more about interactive tables.';\n",
              "          element.innerHTML = '';\n",
              "          dataTable['output_type'] = 'display_data';\n",
              "          await google.colab.output.renderOutput(dataTable, element);\n",
              "          const docLink = document.createElement('div');\n",
              "          docLink.innerHTML = docLinkHtml;\n",
              "          element.appendChild(docLink);\n",
              "        }\n",
              "      </script>\n",
              "    </div>\n",
              "  </div>\n",
              "  "
            ]
          },
          "metadata": {},
          "execution_count": 22
        }
      ]
    },
    {
      "cell_type": "code",
      "source": [
        "diamonds.info()"
      ],
      "metadata": {
        "colab": {
          "base_uri": "https://localhost:8080/"
        },
        "id": "MMPsW3q4frsX",
        "outputId": "7f86a40b-eeaa-4c65-9f4c-4651e7f436e4"
      },
      "execution_count": 23,
      "outputs": [
        {
          "output_type": "stream",
          "name": "stdout",
          "text": [
            "<class 'pandas.core.frame.DataFrame'>\n",
            "RangeIndex: 53940 entries, 0 to 53939\n",
            "Data columns (total 10 columns):\n",
            " #   Column   Non-Null Count  Dtype   \n",
            "---  ------   --------------  -----   \n",
            " 0   carat    53940 non-null  float64 \n",
            " 1   cut      53940 non-null  category\n",
            " 2   color    53940 non-null  category\n",
            " 3   clarity  53940 non-null  category\n",
            " 4   depth    53940 non-null  float64 \n",
            " 5   table    53940 non-null  float64 \n",
            " 6   price    53940 non-null  int64   \n",
            " 7   x        53940 non-null  float64 \n",
            " 8   y        53940 non-null  float64 \n",
            " 9   z        53940 non-null  float64 \n",
            "dtypes: category(3), float64(6), int64(1)\n",
            "memory usage: 3.0 MB\n"
          ]
        }
      ]
    },
    {
      "cell_type": "markdown",
      "source": [
        "`target: column`은 `price` 입니다.\n",
        "* 또한 현재 컬럼은 연속형 변수입니다.\n",
        "  * 상위 25% 값은 `True`, 아니라면 `False`값으로 변경해야 합니다.\n",
        "  * 이 값은 `top25`라는 새로운 column에 생성되며, 생성시 범주형 변수로 생성됩니다.\n",
        "  "
      ],
      "metadata": {
        "id": "Rftydgj1f78G"
      }
    },
    {
      "cell_type": "code",
      "source": [
        "print(diamonds['price'].min(), diamonds['price'].max())"
      ],
      "metadata": {
        "colab": {
          "base_uri": "https://localhost:8080/"
        },
        "id": "zZrwfZ51mUaY",
        "outputId": "b64c8141-2de1-4ffc-bf5a-336598dff921"
      },
      "execution_count": 24,
      "outputs": [
        {
          "output_type": "stream",
          "name": "stdout",
          "text": [
            "326 18823\n"
          ]
        }
      ]
    },
    {
      "cell_type": "code",
      "source": [
        "diamonds.sort_values(by='price')"
      ],
      "metadata": {
        "colab": {
          "base_uri": "https://localhost:8080/",
          "height": 423
        },
        "id": "GTGfhL2nlK93",
        "outputId": "8dca7e15-741a-406b-bd91-fa308eb39491"
      },
      "execution_count": 25,
      "outputs": [
        {
          "output_type": "execute_result",
          "data": {
            "text/plain": [
              "       carat        cut color clarity  depth  table  price     x     y     z\n",
              "0       0.23      Ideal     E     SI2   61.5   55.0    326  3.95  3.98  2.43\n",
              "1       0.21    Premium     E     SI1   59.8   61.0    326  3.89  3.84  2.31\n",
              "2       0.23       Good     E     VS1   56.9   65.0    327  4.05  4.07  2.31\n",
              "3       0.29    Premium     I     VS2   62.4   58.0    334  4.20  4.23  2.63\n",
              "4       0.31       Good     J     SI2   63.3   58.0    335  4.34  4.35  2.75\n",
              "...      ...        ...   ...     ...    ...    ...    ...   ...   ...   ...\n",
              "27745   2.00  Very Good     H     SI1   62.8   57.0  18803  7.95  8.00  5.01\n",
              "27746   2.07      Ideal     G     SI2   62.5   55.0  18804  8.20  8.13  5.11\n",
              "27747   1.51      Ideal     G      IF   61.7   55.0  18806  7.37  7.41  4.56\n",
              "27748   2.00  Very Good     G     SI1   63.5   56.0  18818  7.90  7.97  5.04\n",
              "27749   2.29    Premium     I     VS2   60.8   60.0  18823  8.50  8.47  5.16\n",
              "\n",
              "[53940 rows x 10 columns]"
            ],
            "text/html": [
              "\n",
              "  <div id=\"df-e29eb4e9-7bab-4ec2-9802-aa29d5d25058\">\n",
              "    <div class=\"colab-df-container\">\n",
              "      <div>\n",
              "<style scoped>\n",
              "    .dataframe tbody tr th:only-of-type {\n",
              "        vertical-align: middle;\n",
              "    }\n",
              "\n",
              "    .dataframe tbody tr th {\n",
              "        vertical-align: top;\n",
              "    }\n",
              "\n",
              "    .dataframe thead th {\n",
              "        text-align: right;\n",
              "    }\n",
              "</style>\n",
              "<table border=\"1\" class=\"dataframe\">\n",
              "  <thead>\n",
              "    <tr style=\"text-align: right;\">\n",
              "      <th></th>\n",
              "      <th>carat</th>\n",
              "      <th>cut</th>\n",
              "      <th>color</th>\n",
              "      <th>clarity</th>\n",
              "      <th>depth</th>\n",
              "      <th>table</th>\n",
              "      <th>price</th>\n",
              "      <th>x</th>\n",
              "      <th>y</th>\n",
              "      <th>z</th>\n",
              "    </tr>\n",
              "  </thead>\n",
              "  <tbody>\n",
              "    <tr>\n",
              "      <th>0</th>\n",
              "      <td>0.23</td>\n",
              "      <td>Ideal</td>\n",
              "      <td>E</td>\n",
              "      <td>SI2</td>\n",
              "      <td>61.5</td>\n",
              "      <td>55.0</td>\n",
              "      <td>326</td>\n",
              "      <td>3.95</td>\n",
              "      <td>3.98</td>\n",
              "      <td>2.43</td>\n",
              "    </tr>\n",
              "    <tr>\n",
              "      <th>1</th>\n",
              "      <td>0.21</td>\n",
              "      <td>Premium</td>\n",
              "      <td>E</td>\n",
              "      <td>SI1</td>\n",
              "      <td>59.8</td>\n",
              "      <td>61.0</td>\n",
              "      <td>326</td>\n",
              "      <td>3.89</td>\n",
              "      <td>3.84</td>\n",
              "      <td>2.31</td>\n",
              "    </tr>\n",
              "    <tr>\n",
              "      <th>2</th>\n",
              "      <td>0.23</td>\n",
              "      <td>Good</td>\n",
              "      <td>E</td>\n",
              "      <td>VS1</td>\n",
              "      <td>56.9</td>\n",
              "      <td>65.0</td>\n",
              "      <td>327</td>\n",
              "      <td>4.05</td>\n",
              "      <td>4.07</td>\n",
              "      <td>2.31</td>\n",
              "    </tr>\n",
              "    <tr>\n",
              "      <th>3</th>\n",
              "      <td>0.29</td>\n",
              "      <td>Premium</td>\n",
              "      <td>I</td>\n",
              "      <td>VS2</td>\n",
              "      <td>62.4</td>\n",
              "      <td>58.0</td>\n",
              "      <td>334</td>\n",
              "      <td>4.20</td>\n",
              "      <td>4.23</td>\n",
              "      <td>2.63</td>\n",
              "    </tr>\n",
              "    <tr>\n",
              "      <th>4</th>\n",
              "      <td>0.31</td>\n",
              "      <td>Good</td>\n",
              "      <td>J</td>\n",
              "      <td>SI2</td>\n",
              "      <td>63.3</td>\n",
              "      <td>58.0</td>\n",
              "      <td>335</td>\n",
              "      <td>4.34</td>\n",
              "      <td>4.35</td>\n",
              "      <td>2.75</td>\n",
              "    </tr>\n",
              "    <tr>\n",
              "      <th>...</th>\n",
              "      <td>...</td>\n",
              "      <td>...</td>\n",
              "      <td>...</td>\n",
              "      <td>...</td>\n",
              "      <td>...</td>\n",
              "      <td>...</td>\n",
              "      <td>...</td>\n",
              "      <td>...</td>\n",
              "      <td>...</td>\n",
              "      <td>...</td>\n",
              "    </tr>\n",
              "    <tr>\n",
              "      <th>27745</th>\n",
              "      <td>2.00</td>\n",
              "      <td>Very Good</td>\n",
              "      <td>H</td>\n",
              "      <td>SI1</td>\n",
              "      <td>62.8</td>\n",
              "      <td>57.0</td>\n",
              "      <td>18803</td>\n",
              "      <td>7.95</td>\n",
              "      <td>8.00</td>\n",
              "      <td>5.01</td>\n",
              "    </tr>\n",
              "    <tr>\n",
              "      <th>27746</th>\n",
              "      <td>2.07</td>\n",
              "      <td>Ideal</td>\n",
              "      <td>G</td>\n",
              "      <td>SI2</td>\n",
              "      <td>62.5</td>\n",
              "      <td>55.0</td>\n",
              "      <td>18804</td>\n",
              "      <td>8.20</td>\n",
              "      <td>8.13</td>\n",
              "      <td>5.11</td>\n",
              "    </tr>\n",
              "    <tr>\n",
              "      <th>27747</th>\n",
              "      <td>1.51</td>\n",
              "      <td>Ideal</td>\n",
              "      <td>G</td>\n",
              "      <td>IF</td>\n",
              "      <td>61.7</td>\n",
              "      <td>55.0</td>\n",
              "      <td>18806</td>\n",
              "      <td>7.37</td>\n",
              "      <td>7.41</td>\n",
              "      <td>4.56</td>\n",
              "    </tr>\n",
              "    <tr>\n",
              "      <th>27748</th>\n",
              "      <td>2.00</td>\n",
              "      <td>Very Good</td>\n",
              "      <td>G</td>\n",
              "      <td>SI1</td>\n",
              "      <td>63.5</td>\n",
              "      <td>56.0</td>\n",
              "      <td>18818</td>\n",
              "      <td>7.90</td>\n",
              "      <td>7.97</td>\n",
              "      <td>5.04</td>\n",
              "    </tr>\n",
              "    <tr>\n",
              "      <th>27749</th>\n",
              "      <td>2.29</td>\n",
              "      <td>Premium</td>\n",
              "      <td>I</td>\n",
              "      <td>VS2</td>\n",
              "      <td>60.8</td>\n",
              "      <td>60.0</td>\n",
              "      <td>18823</td>\n",
              "      <td>8.50</td>\n",
              "      <td>8.47</td>\n",
              "      <td>5.16</td>\n",
              "    </tr>\n",
              "  </tbody>\n",
              "</table>\n",
              "<p>53940 rows × 10 columns</p>\n",
              "</div>\n",
              "      <button class=\"colab-df-convert\" onclick=\"convertToInteractive('df-e29eb4e9-7bab-4ec2-9802-aa29d5d25058')\"\n",
              "              title=\"Convert this dataframe to an interactive table.\"\n",
              "              style=\"display:none;\">\n",
              "        \n",
              "  <svg xmlns=\"http://www.w3.org/2000/svg\" height=\"24px\"viewBox=\"0 0 24 24\"\n",
              "       width=\"24px\">\n",
              "    <path d=\"M0 0h24v24H0V0z\" fill=\"none\"/>\n",
              "    <path d=\"M18.56 5.44l.94 2.06.94-2.06 2.06-.94-2.06-.94-.94-2.06-.94 2.06-2.06.94zm-11 1L8.5 8.5l.94-2.06 2.06-.94-2.06-.94L8.5 2.5l-.94 2.06-2.06.94zm10 10l.94 2.06.94-2.06 2.06-.94-2.06-.94-.94-2.06-.94 2.06-2.06.94z\"/><path d=\"M17.41 7.96l-1.37-1.37c-.4-.4-.92-.59-1.43-.59-.52 0-1.04.2-1.43.59L10.3 9.45l-7.72 7.72c-.78.78-.78 2.05 0 2.83L4 21.41c.39.39.9.59 1.41.59.51 0 1.02-.2 1.41-.59l7.78-7.78 2.81-2.81c.8-.78.8-2.07 0-2.86zM5.41 20L4 18.59l7.72-7.72 1.47 1.35L5.41 20z\"/>\n",
              "  </svg>\n",
              "      </button>\n",
              "      \n",
              "  <style>\n",
              "    .colab-df-container {\n",
              "      display:flex;\n",
              "      flex-wrap:wrap;\n",
              "      gap: 12px;\n",
              "    }\n",
              "\n",
              "    .colab-df-convert {\n",
              "      background-color: #E8F0FE;\n",
              "      border: none;\n",
              "      border-radius: 50%;\n",
              "      cursor: pointer;\n",
              "      display: none;\n",
              "      fill: #1967D2;\n",
              "      height: 32px;\n",
              "      padding: 0 0 0 0;\n",
              "      width: 32px;\n",
              "    }\n",
              "\n",
              "    .colab-df-convert:hover {\n",
              "      background-color: #E2EBFA;\n",
              "      box-shadow: 0px 1px 2px rgba(60, 64, 67, 0.3), 0px 1px 3px 1px rgba(60, 64, 67, 0.15);\n",
              "      fill: #174EA6;\n",
              "    }\n",
              "\n",
              "    [theme=dark] .colab-df-convert {\n",
              "      background-color: #3B4455;\n",
              "      fill: #D2E3FC;\n",
              "    }\n",
              "\n",
              "    [theme=dark] .colab-df-convert:hover {\n",
              "      background-color: #434B5C;\n",
              "      box-shadow: 0px 1px 3px 1px rgba(0, 0, 0, 0.15);\n",
              "      filter: drop-shadow(0px 1px 2px rgba(0, 0, 0, 0.3));\n",
              "      fill: #FFFFFF;\n",
              "    }\n",
              "  </style>\n",
              "\n",
              "      <script>\n",
              "        const buttonEl =\n",
              "          document.querySelector('#df-e29eb4e9-7bab-4ec2-9802-aa29d5d25058 button.colab-df-convert');\n",
              "        buttonEl.style.display =\n",
              "          google.colab.kernel.accessAllowed ? 'block' : 'none';\n",
              "\n",
              "        async function convertToInteractive(key) {\n",
              "          const element = document.querySelector('#df-e29eb4e9-7bab-4ec2-9802-aa29d5d25058');\n",
              "          const dataTable =\n",
              "            await google.colab.kernel.invokeFunction('convertToInteractive',\n",
              "                                                     [key], {});\n",
              "          if (!dataTable) return;\n",
              "\n",
              "          const docLinkHtml = 'Like what you see? Visit the ' +\n",
              "            '<a target=\"_blank\" href=https://colab.research.google.com/notebooks/data_table.ipynb>data table notebook</a>'\n",
              "            + ' to learn more about interactive tables.';\n",
              "          element.innerHTML = '';\n",
              "          dataTable['output_type'] = 'display_data';\n",
              "          await google.colab.output.renderOutput(dataTable, element);\n",
              "          const docLink = document.createElement('div');\n",
              "          docLink.innerHTML = docLinkHtml;\n",
              "          element.appendChild(docLink);\n",
              "        }\n",
              "      </script>\n",
              "    </div>\n",
              "  </div>\n",
              "  "
            ]
          },
          "metadata": {},
          "execution_count": 25
        }
      ]
    },
    {
      "cell_type": "code",
      "source": [
        "# 필요한 라이브러리 가져오기.\n",
        "import numpy as np\n",
        "\n",
        "# 상위 25%에 대한 사분위 수 생성.\n",
        "top_25 = np.percentile(diamonds['price'], 75) # 상위 25%의 값 확인 ->top_25 :5324.25"
      ],
      "metadata": {
        "id": "hmSOa9rckYS1"
      },
      "execution_count": 26,
      "outputs": []
    },
    {
      "cell_type": "code",
      "source": [
        "#  컬럼 생성\n",
        "diamonds['top25'] = diamonds['price'] >= 5324.25"
      ],
      "metadata": {
        "id": "NV8pNpZ5hamt"
      },
      "execution_count": 27,
      "outputs": []
    },
    {
      "cell_type": "code",
      "source": [
        "# 타겟의 고유값을 확인합니다.\n",
        "diamonds['top25'].unique()"
      ],
      "metadata": {
        "colab": {
          "base_uri": "https://localhost:8080/"
        },
        "id": "VitG-Dj_oqj-",
        "outputId": "d573e3e6-1be7-499b-e42b-8274d613b832"
      },
      "execution_count": 28,
      "outputs": [
        {
          "output_type": "execute_result",
          "data": {
            "text/plain": [
              "array([False,  True])"
            ]
          },
          "metadata": {},
          "execution_count": 28
        }
      ]
    },
    {
      "cell_type": "code",
      "source": [
        "# 타겟값의 빈도 확인하기.\n",
        "diamonds['top25'].value_counts(normalize=True)"
      ],
      "metadata": {
        "colab": {
          "base_uri": "https://localhost:8080/"
        },
        "id": "RcQATtuOotXE",
        "outputId": "0fc4f936-a12b-401e-a6c5-7f2a16514430"
      },
      "execution_count": 29,
      "outputs": [
        {
          "output_type": "execute_result",
          "data": {
            "text/plain": [
              "False    0.75\n",
              "True     0.25\n",
              "Name: top25, dtype: float64"
            ]
          },
          "metadata": {},
          "execution_count": 29
        }
      ]
    },
    {
      "cell_type": "markdown",
      "source": [
        "> 타겟 `top25`가 가지고 있는 빈도 값은 아래와 같습니다.\n",
        "\n",
        "* False : 0.75\n",
        "* True : 0.25"
      ],
      "metadata": {
        "id": "Pn2kTtndp4zX"
      }
    },
    {
      "cell_type": "markdown",
      "source": [
        "---"
      ],
      "metadata": {
        "id": "bmOYEPgPqilo"
      }
    },
    {
      "cell_type": "markdown",
      "source": [
        "## **Part 2. 데이터 누수(Data leakage)**\n",
        "- 특성 `X`와 타겟 `y`를 분리하여 저장하세요.\n",
        "  - 특성은 타겟을 제외한 모든 컬럼입니다. \n",
        "- `X`와 `y` 데이터를 train/val set으로 나누세요. \n",
        "  - train/val set의 비는 8:2로 합니다.\n",
        "  - `random_state=2`로 설정합니다. \n",
        "- `DecisionTreeClassifier()`를 사용하여 결정트리 모델을 학습시키세요. \n",
        "  - `random_state=2`로 설정합니다."
      ],
      "metadata": {
        "id": "igVZGYMBqZhy"
      }
    },
    {
      "cell_type": "code",
      "source": [
        "# 필요한 라이브러리 가져오기\n",
        "from sklearn.model_selection import train_test_split\n",
        "\n",
        "# 데이터 분할\n",
        "train, val = train_test_split(diamonds, \n",
        "                              train_size = 0.8,\n",
        "                              test_size = 0.2,\n",
        "                              random_state = 2)\n",
        "\n",
        "\n",
        "# features 확인.\n",
        "features = diamonds.columns.tolist()\n",
        "\n",
        "# 이후 pop 함수를 이용하여 마지막에 생선된 컬럼의 이름 top25를 제거합니다. \n",
        "features.pop(-1)\n",
        "\n",
        "# target \n",
        "target = 'top25'\n",
        "\n",
        "\n",
        "# 훈련 데이터셋 설정.\n",
        "X_train = train[features]\n",
        "y_train = train[target]\n",
        "\n",
        "\n",
        "# 검증 데이터셋 설정.\n",
        "X_val = val[features]\n",
        "y_val = val[target]\n",
        "\n",
        "# 모델 생성 : 인코딩은 오디널로 진행, 결정트리 및, 파이프라인을 이용한 모델 생성.\n",
        "# 필요한 라이브러리 가져오기.\n",
        "from category_encoders import OrdinalEncoder\n",
        "from sklearn.pipeline import make_pipeline\n",
        "from sklearn.tree import DecisionTreeClassifier\n",
        "\n",
        "# 파이프라인 생성.\n",
        "pipe = make_pipeline(\n",
        "    OrdinalEncoder(),\n",
        "    DecisionTreeClassifier(random_state=2)\n",
        ")\n",
        "\n",
        "# fit\n",
        "pipe.fit(X_train, y_train)\n",
        "\n",
        "# score\n",
        "print(f'검증 정확도{pipe.score(X_val, y_val)}')"
      ],
      "metadata": {
        "id": "woC580RNqp63",
        "outputId": "688a952c-af11-48ed-89b1-edcca5942e05",
        "colab": {
          "base_uri": "https://localhost:8080/"
        }
      },
      "execution_count": 30,
      "outputs": [
        {
          "output_type": "stream",
          "name": "stdout",
          "text": [
            "검증 정확도1.0\n"
          ]
        }
      ]
    },
    {
      "cell_type": "markdown",
      "source": [
        "####검증 정확도가 1로 나왔슴다, ㅈ되씀다🤔\n",
        "* 생성된 트리를 시각화하여 봅시다."
      ],
      "metadata": {
        "id": "TTrcqL23toim"
      }
    },
    {
      "cell_type": "code",
      "source": [
        "# 필요한 라이브러리를 가져옵시다.\n",
        "import graphviz\n",
        "from sklearn.tree import export_graphviz\n",
        "\n",
        "# tree 접근 \n",
        "tree = pipe.named_steps['decisiontreeclassifier']\n",
        "dot_data = export_graphviz(\n",
        "    tree,\n",
        "    feature_names = X_train.columns, \n",
        "    class_names = ['False', 'True'],\n",
        "    filled = True,\n",
        "    proportion = True\n",
        ")\n",
        "\n",
        "# 시각화\n",
        "graphviz.Source(dot_data)"
      ],
      "metadata": {
        "id": "4SyQamKkfW_h",
        "outputId": "3d9d6b3c-3951-4f7a-e522-e6f623e8c75e",
        "colab": {
          "base_uri": "https://localhost:8080/",
          "height": 280
        }
      },
      "execution_count": 31,
      "outputs": [
        {
          "output_type": "execute_result",
          "data": {
            "text/plain": [
              "<graphviz.files.Source at 0x7fbac25ba700>"
            ],
            "image/svg+xml": "<?xml version=\"1.0\" encoding=\"UTF-8\" standalone=\"no\"?>\n<!DOCTYPE svg PUBLIC \"-//W3C//DTD SVG 1.1//EN\"\n \"http://www.w3.org/Graphics/SVG/1.1/DTD/svg11.dtd\">\n<!-- Generated by graphviz version 2.43.0 (0)\n -->\n<!-- Title: Tree Pages: 1 -->\n<svg width=\"270pt\" height=\"195pt\"\n viewBox=\"0.00 0.00 270.00 195.00\" xmlns=\"http://www.w3.org/2000/svg\" xmlns:xlink=\"http://www.w3.org/1999/xlink\">\n<g id=\"graph0\" class=\"graph\" transform=\"scale(1 1) rotate(0) translate(4 191)\">\n<title>Tree</title>\n<polygon fill=\"white\" stroke=\"transparent\" points=\"-4,4 -4,-191 266,-191 266,4 -4,4\"/>\n<!-- 0 -->\n<g id=\"node1\" class=\"node\">\n<title>0</title>\n<polygon fill=\"#eeab7b\" stroke=\"black\" points=\"197,-187 65,-187 65,-104 197,-104 197,-187\"/>\n<text text-anchor=\"middle\" x=\"131\" y=\"-171.8\" font-family=\"Helvetica,sans-Serif\" font-size=\"14.00\">price &lt;= 5324.5</text>\n<text text-anchor=\"middle\" x=\"131\" y=\"-156.8\" font-family=\"Helvetica,sans-Serif\" font-size=\"14.00\">gini = 0.375</text>\n<text text-anchor=\"middle\" x=\"131\" y=\"-141.8\" font-family=\"Helvetica,sans-Serif\" font-size=\"14.00\">samples = 100.0%</text>\n<text text-anchor=\"middle\" x=\"131\" y=\"-126.8\" font-family=\"Helvetica,sans-Serif\" font-size=\"14.00\">value = [0.75, 0.25]</text>\n<text text-anchor=\"middle\" x=\"131\" y=\"-111.8\" font-family=\"Helvetica,sans-Serif\" font-size=\"14.00\">class = False</text>\n</g>\n<!-- 1 -->\n<g id=\"node2\" class=\"node\">\n<title>1</title>\n<polygon fill=\"#e58139\" stroke=\"black\" points=\"122,-68 0,-68 0,0 122,0 122,-68\"/>\n<text text-anchor=\"middle\" x=\"61\" y=\"-52.8\" font-family=\"Helvetica,sans-Serif\" font-size=\"14.00\">gini = 0.0</text>\n<text text-anchor=\"middle\" x=\"61\" y=\"-37.8\" font-family=\"Helvetica,sans-Serif\" font-size=\"14.00\">samples = 75.0%</text>\n<text text-anchor=\"middle\" x=\"61\" y=\"-22.8\" font-family=\"Helvetica,sans-Serif\" font-size=\"14.00\">value = [1.0, 0.0]</text>\n<text text-anchor=\"middle\" x=\"61\" y=\"-7.8\" font-family=\"Helvetica,sans-Serif\" font-size=\"14.00\">class = False</text>\n</g>\n<!-- 0&#45;&gt;1 -->\n<g id=\"edge1\" class=\"edge\">\n<title>0&#45;&gt;1</title>\n<path fill=\"none\" stroke=\"black\" d=\"M104.93,-103.73C99.34,-94.97 93.41,-85.7 87.79,-76.91\"/>\n<polygon fill=\"black\" stroke=\"black\" points=\"90.62,-74.84 82.29,-68.3 84.72,-78.61 90.62,-74.84\"/>\n<text text-anchor=\"middle\" x=\"76.91\" y=\"-89.02\" font-family=\"Helvetica,sans-Serif\" font-size=\"14.00\">True</text>\n</g>\n<!-- 2 -->\n<g id=\"node3\" class=\"node\">\n<title>2</title>\n<polygon fill=\"#399de5\" stroke=\"black\" points=\"262,-68 140,-68 140,0 262,0 262,-68\"/>\n<text text-anchor=\"middle\" x=\"201\" y=\"-52.8\" font-family=\"Helvetica,sans-Serif\" font-size=\"14.00\">gini = 0.0</text>\n<text text-anchor=\"middle\" x=\"201\" y=\"-37.8\" font-family=\"Helvetica,sans-Serif\" font-size=\"14.00\">samples = 25.0%</text>\n<text text-anchor=\"middle\" x=\"201\" y=\"-22.8\" font-family=\"Helvetica,sans-Serif\" font-size=\"14.00\">value = [0.0, 1.0]</text>\n<text text-anchor=\"middle\" x=\"201\" y=\"-7.8\" font-family=\"Helvetica,sans-Serif\" font-size=\"14.00\">class = True</text>\n</g>\n<!-- 0&#45;&gt;2 -->\n<g id=\"edge2\" class=\"edge\">\n<title>0&#45;&gt;2</title>\n<path fill=\"none\" stroke=\"black\" d=\"M157.07,-103.73C162.66,-94.97 168.59,-85.7 174.21,-76.91\"/>\n<polygon fill=\"black\" stroke=\"black\" points=\"177.28,-78.61 179.71,-68.3 171.38,-74.84 177.28,-78.61\"/>\n<text text-anchor=\"middle\" x=\"185.09\" y=\"-89.02\" font-family=\"Helvetica,sans-Serif\" font-size=\"14.00\">False</text>\n</g>\n</g>\n</svg>\n"
          },
          "metadata": {},
          "execution_count": 31
        }
      ]
    },
    {
      "cell_type": "markdown",
      "source": [
        "`Untitled 184`에서 배운 것과 같이 현재 `Data Leakage`가 일어난 상태입니다.\n",
        "* `column : price`는 우리가 예측하고자 하는 값과 관련된 것일 뿐, 실제 예측시 사용할 수 있는 데이터는 아닐 것 입니다.\n",
        "\n",
        "**Data Leakage가 일어난 컬럼을 drop한 이후 다시금 진행합니다.**"
      ],
      "metadata": {
        "id": "o2kgWM46gh2C"
      }
    },
    {
      "cell_type": "code",
      "source": [
        "X_train = X_train.drop(columns = 'price')\n",
        "X_val = X_val.drop(columns = 'price')\n",
        "\n",
        "# 다시 모델을 생성합니다.\n",
        "pipe =make_pipeline(\n",
        "    OrdinalEncoder(cols = ['cut', 'color', 'clarity']),\n",
        "    DecisionTreeClassifier(max_depth = 6, random_state = 42)\n",
        ")\n",
        "\n",
        "pipe.fit(X_train, y_train)\n",
        "print('검증 정확도', pipe.score(X_val, y_val))"
      ],
      "metadata": {
        "id": "9FTGWlBpixki",
        "outputId": "d3f3f0a8-41ba-4bc6-b663-e40d581d527f",
        "colab": {
          "base_uri": "https://localhost:8080/"
        }
      },
      "execution_count": 32,
      "outputs": [
        {
          "output_type": "stream",
          "name": "stdout",
          "text": [
            "검증 정확도 0.96440489432703\n"
          ]
        }
      ]
    },
    {
      "cell_type": "markdown",
      "source": [
        "class"
      ],
      "metadata": {
        "id": "PUaRQFyo1CU5"
      }
    },
    {
      "cell_type": "code",
      "source": [
        "from sklearn.metrics import classification_report\n",
        "\n",
        "y_pred = pipe.predict(X_val)\n",
        "print(classification_report(y_val, y_pred))"
      ],
      "metadata": {
        "id": "dv6_3NEr0_X-",
        "outputId": "06f7140d-a3d3-4ec0-be8c-04de2bb813cb",
        "colab": {
          "base_uri": "https://localhost:8080/"
        }
      },
      "execution_count": 33,
      "outputs": [
        {
          "output_type": "stream",
          "name": "stdout",
          "text": [
            "              precision    recall  f1-score   support\n",
            "\n",
            "       False       0.97      0.98      0.98      8083\n",
            "        True       0.95      0.91      0.93      2705\n",
            "\n",
            "    accuracy                           0.96     10788\n",
            "   macro avg       0.96      0.95      0.95     10788\n",
            "weighted avg       0.96      0.96      0.96     10788\n",
            "\n"
          ]
        }
      ]
    },
    {
      "cell_type": "markdown",
      "source": [
        "confusion_matrix 또한 생성하여 봅시다."
      ],
      "metadata": {
        "id": "yQ6KXBrL2jYy"
      }
    },
    {
      "cell_type": "code",
      "source": [
        "from sklearn.metrics import confusion_matrix, ConfusionMatrixDisplay\n",
        "import matplotlib.pyplot as plt\n",
        "\n",
        "\n",
        "# matrix 생성.\n",
        "cm = confusion_matrix(y_val, \n",
        "                      y_pred,\n",
        "                      labels = pipe.named_steps['decisiontreeclassifier'].classes_)\n",
        "\n",
        "# 시각화\n",
        "disp = ConfusionMatrixDisplay(confusion_matrix =cm,\n",
        "                              display_labels = pipe.classes_\n",
        "                              )\n",
        "\n",
        "disp.plot()\n",
        "plt.title(f'Confusion Matrix (n = {len(y_val)})', fontsize = 15)\n",
        "\n",
        "plt.title(f'confusion matrix : {len(y_val)}')\n",
        "plt.show()"
      ],
      "metadata": {
        "id": "NABIKjqs2mU5",
        "outputId": "dda91f73-dd85-4d25-d6b6-de0b45e03bac",
        "colab": {
          "base_uri": "https://localhost:8080/",
          "height": 295
        }
      },
      "execution_count": 34,
      "outputs": [
        {
          "output_type": "display_data",
          "data": {
            "text/plain": [
              "<Figure size 432x288 with 2 Axes>"
            ],
            "image/png": "[encoded data removed]"
          },
          "metadata": {
            "needs_background": "light"
          }
        }
      ]
    },
    {
      "cell_type": "markdown",
      "source": [
        "정확도가 Baseline 보단 높게 나왔으며, 수치는 1에 가깝습니다. 아직까진 과적합을 의심해볼 수 있습니다.\n",
        "\n",
        "* target 데이터는 현재 `데이터불균형`상태입니다.\n",
        "  * 모델을 재생성합니다, 이 때 가중치를 주는 방식으로 불균형을 해결하여 봅시다.`class weight` \n",
        "\n",
        "* 트리 깊이 또한 조절하여 봅시다."
      ],
      "metadata": {
        "id": "nd-j2u1di61e"
      }
    },
    {
      "cell_type": "code",
      "source": [
        "# 파이프라인 재생성.\n",
        "pipe = make_pipeline(\n",
        "    OrdinalEncoder(cols = ['cut', 'color', 'clarity']),\n",
        "    DecisionTreeClassifier(max_depth = 6, \n",
        "                           random_state = 42,\n",
        "                           class_weight = 'balanced'))\n",
        "\n",
        "pipe.fit(X_train, y_train)\n",
        "print(f'검증 정확도:{pipe.score(X_val, y_val)}')\n"
      ],
      "metadata": {
        "id": "4I5LljBqi_Cp",
        "outputId": "42495fc9-b2c4-4c49-a88a-2672dd42bce5",
        "colab": {
          "base_uri": "https://localhost:8080/"
        }
      },
      "execution_count": 39,
      "outputs": [
        {
          "output_type": "stream",
          "name": "stdout",
          "text": [
            "검증 정확도:0.956989247311828\n"
          ]
        }
      ]
    },
    {
      "cell_type": "markdown",
      "source": [
        "생성된 트리 모델을 시각화하여 봅시다."
      ],
      "metadata": {
        "id": "m4nnxG_Pmzo9"
      }
    },
    {
      "cell_type": "code",
      "source": [
        "tree = pipe.named_steps['decisiontreeclassifier']\n",
        "dot_data = export_graphviz(\n",
        "    tree,\n",
        "    feature_names = X_train.columns,\n",
        "    class_names = ['False', 'True'],\n",
        "    filled = True, \n",
        "    proportion = True)\n",
        "\n",
        "graphviz.Source(dot_data)"
      ],
      "metadata": {
        "id": "upOmO5GKq_-u",
        "outputId": "608792ab-d728-497c-e2e3-87c4c7e69456",
        "colab": {
          "base_uri": "https://localhost:8080/",
          "height": 1000
        }
      },
      "execution_count": 40,
      "outputs": [
        {
          "output_type": "execute_result",
          "data": {
            "text/plain": [
              "<graphviz.files.Source at 0x7fbac25b5460>"
            ],
            "image/svg+xml": "<?xml version=\"1.0\" encoding=\"UTF-8\" standalone=\"no\"?>\n<!DOCTYPE svg PUBLIC \"-//W3C//DTD SVG 1.1//EN\"\n \"http://www.w3.org/Graphics/SVG/1.1/DTD/svg11.dtd\">\n<!-- Generated by graphviz version 2.43.0 (0)\n -->\n<!-- Title: Tree Pages: 1 -->\n<svg width=\"8045pt\" height=\"790pt\"\n viewBox=\"0.00 0.00 8044.50 790.00\" xmlns=\"http://www.w3.org/2000/svg\" xmlns:xlink=\"http://www.w3.org/1999/xlink\">\n<g id=\"graph0\" class=\"graph\" transform=\"scale(1 1) rotate(0) translate(4 786)\">\n<title>Tree</title>\n<polygon fill=\"white\" stroke=\"transparent\" points=\"-4,4 -4,-786 8040.5,-786 8040.5,4 -4,4\"/>\n<!-- 0 -->\n<g id=\"node1\" class=\"node\">\n<title>0</title>\n<polygon fill=\"#ffffff\" stroke=\"black\" points=\"3577.5,-782 3447.5,-782 3447.5,-699 3577.5,-699 3577.5,-782\"/>\n<text text-anchor=\"middle\" x=\"3512.5\" y=\"-766.8\" font-family=\"Helvetica,sans-Serif\" font-size=\"14.00\">carat &lt;= 0.985</text>\n<text text-anchor=\"middle\" x=\"3512.5\" y=\"-751.8\" font-family=\"Helvetica,sans-Serif\" font-size=\"14.00\">gini = 0.5</text>\n<text text-anchor=\"middle\" x=\"3512.5\" y=\"-736.8\" font-family=\"Helvetica,sans-Serif\" font-size=\"14.00\">samples = 100.0%</text>\n<text text-anchor=\"middle\" x=\"3512.5\" y=\"-721.8\" font-family=\"Helvetica,sans-Serif\" font-size=\"14.00\">value = [0.5, 0.5]</text>\n<text text-anchor=\"middle\" x=\"3512.5\" y=\"-706.8\" font-family=\"Helvetica,sans-Serif\" font-size=\"14.00\">class = True</text>\n</g>\n<!-- 1 -->\n<g id=\"node2\" class=\"node\">\n<title>1</title>\n<polygon fill=\"#e5833b\" stroke=\"black\" points=\"2300,-663 2153,-663 2153,-580 2300,-580 2300,-663\"/>\n<text text-anchor=\"middle\" x=\"2226.5\" y=\"-647.8\" font-family=\"Helvetica,sans-Serif\" font-size=\"14.00\">y &lt;= 6.165</text>\n<text text-anchor=\"middle\" x=\"2226.5\" y=\"-632.8\" font-family=\"Helvetica,sans-Serif\" font-size=\"14.00\">gini = 0.024</text>\n<text text-anchor=\"middle\" x=\"2226.5\" y=\"-617.8\" font-family=\"Helvetica,sans-Serif\" font-size=\"14.00\">samples = 64.7%</text>\n<text text-anchor=\"middle\" x=\"2226.5\" y=\"-602.8\" font-family=\"Helvetica,sans-Serif\" font-size=\"14.00\">value = [0.988, 0.012]</text>\n<text text-anchor=\"middle\" x=\"2226.5\" y=\"-587.8\" font-family=\"Helvetica,sans-Serif\" font-size=\"14.00\">class = False</text>\n</g>\n<!-- 0&#45;&gt;1 -->\n<g id=\"edge1\" class=\"edge\">\n<title>0&#45;&gt;1</title>\n<path fill=\"none\" stroke=\"black\" d=\"M3447.4,-733.58C3233.1,-714.08 2549.68,-651.9 2310.3,-630.12\"/>\n<polygon fill=\"black\" stroke=\"black\" points=\"2310.54,-626.63 2300.26,-629.21 2309.9,-633.6 2310.54,-626.63\"/>\n<text text-anchor=\"middle\" x=\"2316.26\" y=\"-644.72\" font-family=\"Helvetica,sans-Serif\" font-size=\"14.00\">True</text>\n</g>\n<!-- 50 -->\n<g id=\"node51\" class=\"node\">\n<title>50</title>\n<polygon fill=\"#55abe9\" stroke=\"black\" points=\"4290,-663 4143,-663 4143,-580 4290,-580 4290,-663\"/>\n<text text-anchor=\"middle\" x=\"4216.5\" y=\"-647.8\" font-family=\"Helvetica,sans-Serif\" font-size=\"14.00\">carat &lt;= 1.185</text>\n<text text-anchor=\"middle\" x=\"4216.5\" y=\"-632.8\" font-family=\"Helvetica,sans-Serif\" font-size=\"14.00\">gini = 0.219</text>\n<text text-anchor=\"middle\" x=\"4216.5\" y=\"-617.8\" font-family=\"Helvetica,sans-Serif\" font-size=\"14.00\">samples = 35.3%</text>\n<text text-anchor=\"middle\" x=\"4216.5\" y=\"-602.8\" font-family=\"Helvetica,sans-Serif\" font-size=\"14.00\">value = [0.125, 0.875]</text>\n<text text-anchor=\"middle\" x=\"4216.5\" y=\"-587.8\" font-family=\"Helvetica,sans-Serif\" font-size=\"14.00\">class = True</text>\n</g>\n<!-- 0&#45;&gt;50 -->\n<g id=\"edge50\" class=\"edge\">\n<title>0&#45;&gt;50</title>\n<path fill=\"none\" stroke=\"black\" d=\"M3577.78,-728.65C3706.11,-707.32 3991.04,-659.97 4132.9,-636.39\"/>\n<polygon fill=\"black\" stroke=\"black\" points=\"4133.57,-639.83 4142.86,-634.74 4132.42,-632.93 4133.57,-639.83\"/>\n<text text-anchor=\"middle\" x=\"4128.32\" y=\"-651.37\" font-family=\"Helvetica,sans-Serif\" font-size=\"14.00\">False</text>\n</g>\n<!-- 2 -->\n<g id=\"node3\" class=\"node\">\n<title>2</title>\n<polygon fill=\"#e5823a\" stroke=\"black\" points=\"1141,-544 994,-544 994,-461 1141,-461 1141,-544\"/>\n<text text-anchor=\"middle\" x=\"1067.5\" y=\"-528.8\" font-family=\"Helvetica,sans-Serif\" font-size=\"14.00\">carat &lt;= 0.795</text>\n<text text-anchor=\"middle\" x=\"1067.5\" y=\"-513.8\" font-family=\"Helvetica,sans-Serif\" font-size=\"14.00\">gini = 0.008</text>\n<text text-anchor=\"middle\" x=\"1067.5\" y=\"-498.8\" font-family=\"Helvetica,sans-Serif\" font-size=\"14.00\">samples = 61.6%</text>\n<text text-anchor=\"middle\" x=\"1067.5\" y=\"-483.8\" font-family=\"Helvetica,sans-Serif\" font-size=\"14.00\">value = [0.996, 0.004]</text>\n<text text-anchor=\"middle\" x=\"1067.5\" y=\"-468.8\" font-family=\"Helvetica,sans-Serif\" font-size=\"14.00\">class = False</text>\n</g>\n<!-- 1&#45;&gt;2 -->\n<g id=\"edge2\" class=\"edge\">\n<title>1&#45;&gt;2</title>\n<path fill=\"none\" stroke=\"black\" d=\"M2152.68,-613.05C1947.03,-592.29 1368.49,-533.88 1151.29,-511.96\"/>\n<polygon fill=\"black\" stroke=\"black\" points=\"1151.53,-508.46 1141.23,-510.94 1150.82,-515.43 1151.53,-508.46\"/>\n</g>\n<!-- 25 -->\n<g id=\"node26\" class=\"node\">\n<title>25</title>\n<polygon fill=\"#ea995e\" stroke=\"black\" points=\"2300,-544 2153,-544 2153,-461 2300,-461 2300,-544\"/>\n<text text-anchor=\"middle\" x=\"2226.5\" y=\"-528.8\" font-family=\"Helvetica,sans-Serif\" font-size=\"14.00\">clarity &lt;= 2.5</text>\n<text text-anchor=\"middle\" x=\"2226.5\" y=\"-513.8\" font-family=\"Helvetica,sans-Serif\" font-size=\"14.00\">gini = 0.267</text>\n<text text-anchor=\"middle\" x=\"2226.5\" y=\"-498.8\" font-family=\"Helvetica,sans-Serif\" font-size=\"14.00\">samples = 3.1%</text>\n<text text-anchor=\"middle\" x=\"2226.5\" y=\"-483.8\" font-family=\"Helvetica,sans-Serif\" font-size=\"14.00\">value = [0.841, 0.159]</text>\n<text text-anchor=\"middle\" x=\"2226.5\" y=\"-468.8\" font-family=\"Helvetica,sans-Serif\" font-size=\"14.00\">class = False</text>\n</g>\n<!-- 1&#45;&gt;25 -->\n<g id=\"edge25\" class=\"edge\">\n<title>1&#45;&gt;25</title>\n<path fill=\"none\" stroke=\"black\" d=\"M2226.5,-579.91C2226.5,-571.65 2226.5,-562.86 2226.5,-554.3\"/>\n<polygon fill=\"black\" stroke=\"black\" points=\"2230,-554.02 2226.5,-544.02 2223,-554.02 2230,-554.02\"/>\n</g>\n<!-- 3 -->\n<g id=\"node4\" class=\"node\">\n<title>3</title>\n<polygon fill=\"#e58139\" stroke=\"black\" points=\"511,-425 364,-425 364,-342 511,-342 511,-425\"/>\n<text text-anchor=\"middle\" x=\"437.5\" y=\"-409.8\" font-family=\"Helvetica,sans-Serif\" font-size=\"14.00\">z &lt;= 3.425</text>\n<text text-anchor=\"middle\" x=\"437.5\" y=\"-394.8\" font-family=\"Helvetica,sans-Serif\" font-size=\"14.00\">gini = 0.002</text>\n<text text-anchor=\"middle\" x=\"437.5\" y=\"-379.8\" font-family=\"Helvetica,sans-Serif\" font-size=\"14.00\">samples = 57.8%</text>\n<text text-anchor=\"middle\" x=\"437.5\" y=\"-364.8\" font-family=\"Helvetica,sans-Serif\" font-size=\"14.00\">value = [0.999, 0.001]</text>\n<text text-anchor=\"middle\" x=\"437.5\" y=\"-349.8\" font-family=\"Helvetica,sans-Serif\" font-size=\"14.00\">class = False</text>\n</g>\n<!-- 2&#45;&gt;3 -->\n<g id=\"edge3\" class=\"edge\">\n<title>2&#45;&gt;3</title>\n<path fill=\"none\" stroke=\"black\" d=\"M994,-487.85C875.96,-465.93 644.86,-423.01 520.86,-399.98\"/>\n<polygon fill=\"black\" stroke=\"black\" points=\"521.49,-396.54 511.02,-398.15 520.21,-403.42 521.49,-396.54\"/>\n</g>\n<!-- 12 -->\n<g id=\"node13\" class=\"node\">\n<title>12</title>\n<polygon fill=\"#e68743\" stroke=\"black\" points=\"1141,-425 994,-425 994,-342 1141,-342 1141,-425\"/>\n<text text-anchor=\"middle\" x=\"1067.5\" y=\"-409.8\" font-family=\"Helvetica,sans-Serif\" font-size=\"14.00\">clarity &lt;= 2.5</text>\n<text text-anchor=\"middle\" x=\"1067.5\" y=\"-394.8\" font-family=\"Helvetica,sans-Serif\" font-size=\"14.00\">gini = 0.093</text>\n<text text-anchor=\"middle\" x=\"1067.5\" y=\"-379.8\" font-family=\"Helvetica,sans-Serif\" font-size=\"14.00\">samples = 3.9%</text>\n<text text-anchor=\"middle\" x=\"1067.5\" y=\"-364.8\" font-family=\"Helvetica,sans-Serif\" font-size=\"14.00\">value = [0.951, 0.049]</text>\n<text text-anchor=\"middle\" x=\"1067.5\" y=\"-349.8\" font-family=\"Helvetica,sans-Serif\" font-size=\"14.00\">class = False</text>\n</g>\n<!-- 2&#45;&gt;12 -->\n<g id=\"edge12\" class=\"edge\">\n<title>2&#45;&gt;12</title>\n<path fill=\"none\" stroke=\"black\" d=\"M1067.5,-460.91C1067.5,-452.65 1067.5,-443.86 1067.5,-435.3\"/>\n<polygon fill=\"black\" stroke=\"black\" points=\"1071,-435.02 1067.5,-425.02 1064,-435.02 1071,-435.02\"/>\n</g>\n<!-- 4 -->\n<g id=\"node5\" class=\"node\">\n<title>4</title>\n<polygon fill=\"#e58139\" stroke=\"black\" points=\"345.5,-298.5 223.5,-298.5 223.5,-230.5 345.5,-230.5 345.5,-298.5\"/>\n<text text-anchor=\"middle\" x=\"284.5\" y=\"-283.3\" font-family=\"Helvetica,sans-Serif\" font-size=\"14.00\">gini = 0.0</text>\n<text text-anchor=\"middle\" x=\"284.5\" y=\"-268.3\" font-family=\"Helvetica,sans-Serif\" font-size=\"14.00\">samples = 46.7%</text>\n<text text-anchor=\"middle\" x=\"284.5\" y=\"-253.3\" font-family=\"Helvetica,sans-Serif\" font-size=\"14.00\">value = [1.0, 0.0]</text>\n<text text-anchor=\"middle\" x=\"284.5\" y=\"-238.3\" font-family=\"Helvetica,sans-Serif\" font-size=\"14.00\">class = False</text>\n</g>\n<!-- 3&#45;&gt;4 -->\n<g id=\"edge4\" class=\"edge\">\n<title>3&#45;&gt;4</title>\n<path fill=\"none\" stroke=\"black\" d=\"M384.42,-341.91C368.69,-329.88 351.5,-316.73 335.88,-304.79\"/>\n<polygon fill=\"black\" stroke=\"black\" points=\"337.94,-301.96 327.87,-298.67 333.69,-307.52 337.94,-301.96\"/>\n</g>\n<!-- 5 -->\n<g id=\"node6\" class=\"node\">\n<title>5</title>\n<polygon fill=\"#e5823a\" stroke=\"black\" points=\"511,-306 364,-306 364,-223 511,-223 511,-306\"/>\n<text text-anchor=\"middle\" x=\"437.5\" y=\"-290.8\" font-family=\"Helvetica,sans-Serif\" font-size=\"14.00\">clarity &lt;= 2.5</text>\n<text text-anchor=\"middle\" x=\"437.5\" y=\"-275.8\" font-family=\"Helvetica,sans-Serif\" font-size=\"14.00\">gini = 0.011</text>\n<text text-anchor=\"middle\" x=\"437.5\" y=\"-260.8\" font-family=\"Helvetica,sans-Serif\" font-size=\"14.00\">samples = 11.0%</text>\n<text text-anchor=\"middle\" x=\"437.5\" y=\"-245.8\" font-family=\"Helvetica,sans-Serif\" font-size=\"14.00\">value = [0.994, 0.006]</text>\n<text text-anchor=\"middle\" x=\"437.5\" y=\"-230.8\" font-family=\"Helvetica,sans-Serif\" font-size=\"14.00\">class = False</text>\n</g>\n<!-- 3&#45;&gt;5 -->\n<g id=\"edge5\" class=\"edge\">\n<title>3&#45;&gt;5</title>\n<path fill=\"none\" stroke=\"black\" d=\"M437.5,-341.91C437.5,-333.65 437.5,-324.86 437.5,-316.3\"/>\n<polygon fill=\"black\" stroke=\"black\" points=\"441,-316.02 437.5,-306.02 434,-316.02 441,-316.02\"/>\n</g>\n<!-- 6 -->\n<g id=\"node7\" class=\"node\">\n<title>6</title>\n<polygon fill=\"#e68844\" stroke=\"black\" points=\"274.5,-187 142.5,-187 142.5,-104 274.5,-104 274.5,-187\"/>\n<text text-anchor=\"middle\" x=\"208.5\" y=\"-171.8\" font-family=\"Helvetica,sans-Serif\" font-size=\"14.00\">y &lt;= 5.505</text>\n<text text-anchor=\"middle\" x=\"208.5\" y=\"-156.8\" font-family=\"Helvetica,sans-Serif\" font-size=\"14.00\">gini = 0.096</text>\n<text text-anchor=\"middle\" x=\"208.5\" y=\"-141.8\" font-family=\"Helvetica,sans-Serif\" font-size=\"14.00\">samples = 0.9%</text>\n<text text-anchor=\"middle\" x=\"208.5\" y=\"-126.8\" font-family=\"Helvetica,sans-Serif\" font-size=\"14.00\">value = [0.95, 0.05]</text>\n<text text-anchor=\"middle\" x=\"208.5\" y=\"-111.8\" font-family=\"Helvetica,sans-Serif\" font-size=\"14.00\">class = False</text>\n</g>\n<!-- 5&#45;&gt;6 -->\n<g id=\"edge6\" class=\"edge\">\n<title>5&#45;&gt;6</title>\n<path fill=\"none\" stroke=\"black\" d=\"M363.78,-225.84C338.17,-212.75 309.42,-198.06 283.69,-184.92\"/>\n<polygon fill=\"black\" stroke=\"black\" points=\"285.22,-181.77 274.72,-180.34 282.04,-188 285.22,-181.77\"/>\n</g>\n<!-- 9 -->\n<g id=\"node10\" class=\"node\">\n<title>9</title>\n<polygon fill=\"#e58139\" stroke=\"black\" points=\"511,-187 364,-187 364,-104 511,-104 511,-187\"/>\n<text text-anchor=\"middle\" x=\"437.5\" y=\"-171.8\" font-family=\"Helvetica,sans-Serif\" font-size=\"14.00\">clarity &lt;= 7.5</text>\n<text text-anchor=\"middle\" x=\"437.5\" y=\"-156.8\" font-family=\"Helvetica,sans-Serif\" font-size=\"14.00\">gini = 0.003</text>\n<text text-anchor=\"middle\" x=\"437.5\" y=\"-141.8\" font-family=\"Helvetica,sans-Serif\" font-size=\"14.00\">samples = 10.1%</text>\n<text text-anchor=\"middle\" x=\"437.5\" y=\"-126.8\" font-family=\"Helvetica,sans-Serif\" font-size=\"14.00\">value = [0.999, 0.001]</text>\n<text text-anchor=\"middle\" x=\"437.5\" y=\"-111.8\" font-family=\"Helvetica,sans-Serif\" font-size=\"14.00\">class = False</text>\n</g>\n<!-- 5&#45;&gt;9 -->\n<g id=\"edge9\" class=\"edge\">\n<title>5&#45;&gt;9</title>\n<path fill=\"none\" stroke=\"black\" d=\"M437.5,-222.91C437.5,-214.65 437.5,-205.86 437.5,-197.3\"/>\n<polygon fill=\"black\" stroke=\"black\" points=\"441,-197.02 437.5,-187.02 434,-197.02 441,-197.02\"/>\n</g>\n<!-- 7 -->\n<g id=\"node8\" class=\"node\">\n<title>7</title>\n<polygon fill=\"#bddef6\" stroke=\"black\" points=\"117,-68 0,-68 0,0 117,0 117,-68\"/>\n<text text-anchor=\"middle\" x=\"58.5\" y=\"-52.8\" font-family=\"Helvetica,sans-Serif\" font-size=\"14.00\">gini = 0.48</text>\n<text text-anchor=\"middle\" x=\"58.5\" y=\"-37.8\" font-family=\"Helvetica,sans-Serif\" font-size=\"14.00\">samples = 0.0%</text>\n<text text-anchor=\"middle\" x=\"58.5\" y=\"-22.8\" font-family=\"Helvetica,sans-Serif\" font-size=\"14.00\">value = [0.4, 0.6]</text>\n<text text-anchor=\"middle\" x=\"58.5\" y=\"-7.8\" font-family=\"Helvetica,sans-Serif\" font-size=\"14.00\">class = True</text>\n</g>\n<!-- 6&#45;&gt;7 -->\n<g id=\"edge7\" class=\"edge\">\n<title>6&#45;&gt;7</title>\n<path fill=\"none\" stroke=\"black\" d=\"M152.65,-103.73C139.53,-94.15 125.57,-83.96 112.53,-74.44\"/>\n<polygon fill=\"black\" stroke=\"black\" points=\"114.26,-71.37 104.12,-68.3 110.13,-77.02 114.26,-71.37\"/>\n</g>\n<!-- 8 -->\n<g id=\"node9\" class=\"node\">\n<title>8</title>\n<polygon fill=\"#e68641\" stroke=\"black\" points=\"282,-68 135,-68 135,0 282,0 282,-68\"/>\n<text text-anchor=\"middle\" x=\"208.5\" y=\"-52.8\" font-family=\"Helvetica,sans-Serif\" font-size=\"14.00\">gini = 0.071</text>\n<text text-anchor=\"middle\" x=\"208.5\" y=\"-37.8\" font-family=\"Helvetica,sans-Serif\" font-size=\"14.00\">samples = 0.9%</text>\n<text text-anchor=\"middle\" x=\"208.5\" y=\"-22.8\" font-family=\"Helvetica,sans-Serif\" font-size=\"14.00\">value = [0.963, 0.037]</text>\n<text text-anchor=\"middle\" x=\"208.5\" y=\"-7.8\" font-family=\"Helvetica,sans-Serif\" font-size=\"14.00\">class = False</text>\n</g>\n<!-- 6&#45;&gt;8 -->\n<g id=\"edge8\" class=\"edge\">\n<title>6&#45;&gt;8</title>\n<path fill=\"none\" stroke=\"black\" d=\"M208.5,-103.73C208.5,-95.52 208.5,-86.86 208.5,-78.56\"/>\n<polygon fill=\"black\" stroke=\"black\" points=\"212,-78.3 208.5,-68.3 205,-78.3 212,-78.3\"/>\n</g>\n<!-- 10 -->\n<g id=\"node11\" class=\"node\">\n<title>10</title>\n<polygon fill=\"#e58139\" stroke=\"black\" points=\"417,-68 300,-68 300,0 417,0 417,-68\"/>\n<text text-anchor=\"middle\" x=\"358.5\" y=\"-52.8\" font-family=\"Helvetica,sans-Serif\" font-size=\"14.00\">gini = 0.0</text>\n<text text-anchor=\"middle\" x=\"358.5\" y=\"-37.8\" font-family=\"Helvetica,sans-Serif\" font-size=\"14.00\">samples = 9.6%</text>\n<text text-anchor=\"middle\" x=\"358.5\" y=\"-22.8\" font-family=\"Helvetica,sans-Serif\" font-size=\"14.00\">value = [1.0, 0.0]</text>\n<text text-anchor=\"middle\" x=\"358.5\" y=\"-7.8\" font-family=\"Helvetica,sans-Serif\" font-size=\"14.00\">class = False</text>\n</g>\n<!-- 9&#45;&gt;10 -->\n<g id=\"edge10\" class=\"edge\">\n<title>9&#45;&gt;10</title>\n<path fill=\"none\" stroke=\"black\" d=\"M408.08,-103.73C401.7,-94.88 394.94,-85.51 388.53,-76.63\"/>\n<polygon fill=\"black\" stroke=\"black\" points=\"391.21,-74.36 382.52,-68.3 385.54,-78.46 391.21,-74.36\"/>\n</g>\n<!-- 11 -->\n<g id=\"node12\" class=\"node\">\n<title>11</title>\n<polygon fill=\"#e6843e\" stroke=\"black\" points=\"582,-68 435,-68 435,0 582,0 582,-68\"/>\n<text text-anchor=\"middle\" x=\"508.5\" y=\"-52.8\" font-family=\"Helvetica,sans-Serif\" font-size=\"14.00\">gini = 0.052</text>\n<text text-anchor=\"middle\" x=\"508.5\" y=\"-37.8\" font-family=\"Helvetica,sans-Serif\" font-size=\"14.00\">samples = 0.5%</text>\n<text text-anchor=\"middle\" x=\"508.5\" y=\"-22.8\" font-family=\"Helvetica,sans-Serif\" font-size=\"14.00\">value = [0.973, 0.027]</text>\n<text text-anchor=\"middle\" x=\"508.5\" y=\"-7.8\" font-family=\"Helvetica,sans-Serif\" font-size=\"14.00\">class = False</text>\n</g>\n<!-- 9&#45;&gt;11 -->\n<g id=\"edge11\" class=\"edge\">\n<title>9&#45;&gt;11</title>\n<path fill=\"none\" stroke=\"black\" d=\"M463.94,-103.73C469.62,-94.97 475.62,-85.7 481.33,-76.91\"/>\n<polygon fill=\"black\" stroke=\"black\" points=\"484.4,-78.59 486.91,-68.3 478.53,-74.79 484.4,-78.59\"/>\n</g>\n<!-- 13 -->\n<g id=\"node14\" class=\"node\">\n<title>13</title>\n<polygon fill=\"#f7d8c1\" stroke=\"black\" points=\"1059,-306 912,-306 912,-223 1059,-223 1059,-306\"/>\n<text text-anchor=\"middle\" x=\"985.5\" y=\"-290.8\" font-family=\"Helvetica,sans-Serif\" font-size=\"14.00\">color &lt;= 4.5</text>\n<text text-anchor=\"middle\" x=\"985.5\" y=\"-275.8\" font-family=\"Helvetica,sans-Serif\" font-size=\"14.00\">gini = 0.483</text>\n<text text-anchor=\"middle\" x=\"985.5\" y=\"-260.8\" font-family=\"Helvetica,sans-Serif\" font-size=\"14.00\">samples = 0.2%</text>\n<text text-anchor=\"middle\" x=\"985.5\" y=\"-245.8\" font-family=\"Helvetica,sans-Serif\" font-size=\"14.00\">value = [0.592, 0.408]</text>\n<text text-anchor=\"middle\" x=\"985.5\" y=\"-230.8\" font-family=\"Helvetica,sans-Serif\" font-size=\"14.00\">class = False</text>\n</g>\n<!-- 12&#45;&gt;13 -->\n<g id=\"edge13\" class=\"edge\">\n<title>12&#45;&gt;13</title>\n<path fill=\"none\" stroke=\"black\" d=\"M1039.05,-341.91C1032.82,-333.01 1026.16,-323.51 1019.72,-314.33\"/>\n<polygon fill=\"black\" stroke=\"black\" points=\"1022.5,-312.2 1013.9,-306.02 1016.77,-316.22 1022.5,-312.2\"/>\n</g>\n<!-- 18 -->\n<g id=\"node19\" class=\"node\">\n<title>18</title>\n<polygon fill=\"#e6843e\" stroke=\"black\" points=\"1226,-306 1079,-306 1079,-223 1226,-223 1226,-306\"/>\n<text text-anchor=\"middle\" x=\"1152.5\" y=\"-290.8\" font-family=\"Helvetica,sans-Serif\" font-size=\"14.00\">clarity &lt;= 7.5</text>\n<text text-anchor=\"middle\" x=\"1152.5\" y=\"-275.8\" font-family=\"Helvetica,sans-Serif\" font-size=\"14.00\">gini = 0.051</text>\n<text text-anchor=\"middle\" x=\"1152.5\" y=\"-260.8\" font-family=\"Helvetica,sans-Serif\" font-size=\"14.00\">samples = 3.7%</text>\n<text text-anchor=\"middle\" x=\"1152.5\" y=\"-245.8\" font-family=\"Helvetica,sans-Serif\" font-size=\"14.00\">value = [0.974, 0.026]</text>\n<text text-anchor=\"middle\" x=\"1152.5\" y=\"-230.8\" font-family=\"Helvetica,sans-Serif\" font-size=\"14.00\">class = False</text>\n</g>\n<!-- 12&#45;&gt;18 -->\n<g id=\"edge18\" class=\"edge\">\n<title>12&#45;&gt;18</title>\n<path fill=\"none\" stroke=\"black\" d=\"M1096.99,-341.91C1103.45,-333.01 1110.36,-323.51 1117.02,-314.33\"/>\n<polygon fill=\"black\" stroke=\"black\" points=\"1120.02,-316.17 1123.06,-306.02 1114.35,-312.05 1120.02,-316.17\"/>\n</g>\n<!-- 14 -->\n<g id=\"node15\" class=\"node\">\n<title>14</title>\n<polygon fill=\"#c6e3f8\" stroke=\"black\" points=\"905,-187 758,-187 758,-104 905,-104 905,-187\"/>\n<text text-anchor=\"middle\" x=\"831.5\" y=\"-171.8\" font-family=\"Helvetica,sans-Serif\" font-size=\"14.00\">color &lt;= 1.5</text>\n<text text-anchor=\"middle\" x=\"831.5\" y=\"-156.8\" font-family=\"Helvetica,sans-Serif\" font-size=\"14.00\">gini = 0.486</text>\n<text text-anchor=\"middle\" x=\"831.5\" y=\"-141.8\" font-family=\"Helvetica,sans-Serif\" font-size=\"14.00\">samples = 0.1%</text>\n<text text-anchor=\"middle\" x=\"831.5\" y=\"-126.8\" font-family=\"Helvetica,sans-Serif\" font-size=\"14.00\">value = [0.416, 0.584]</text>\n<text text-anchor=\"middle\" x=\"831.5\" y=\"-111.8\" font-family=\"Helvetica,sans-Serif\" font-size=\"14.00\">class = True</text>\n</g>\n<!-- 13&#45;&gt;14 -->\n<g id=\"edge14\" class=\"edge\">\n<title>13&#45;&gt;14</title>\n<path fill=\"none\" stroke=\"black\" d=\"M932.07,-222.91C919.41,-213.29 905.81,-202.95 892.82,-193.09\"/>\n<polygon fill=\"black\" stroke=\"black\" points=\"894.92,-190.28 884.84,-187.02 890.68,-195.86 894.92,-190.28\"/>\n</g>\n<!-- 17 -->\n<g id=\"node18\" class=\"node\">\n<title>17</title>\n<polygon fill=\"#e58139\" stroke=\"black\" points=\"1044,-179.5 927,-179.5 927,-111.5 1044,-111.5 1044,-179.5\"/>\n<text text-anchor=\"middle\" x=\"985.5\" y=\"-164.3\" font-family=\"Helvetica,sans-Serif\" font-size=\"14.00\">gini = &#45;0.0</text>\n<text text-anchor=\"middle\" x=\"985.5\" y=\"-149.3\" font-family=\"Helvetica,sans-Serif\" font-size=\"14.00\">samples = 0.1%</text>\n<text text-anchor=\"middle\" x=\"985.5\" y=\"-134.3\" font-family=\"Helvetica,sans-Serif\" font-size=\"14.00\">value = [1.0, 0.0]</text>\n<text text-anchor=\"middle\" x=\"985.5\" y=\"-119.3\" font-family=\"Helvetica,sans-Serif\" font-size=\"14.00\">class = False</text>\n</g>\n<!-- 13&#45;&gt;17 -->\n<g id=\"edge17\" class=\"edge\">\n<title>13&#45;&gt;17</title>\n<path fill=\"none\" stroke=\"black\" d=\"M985.5,-222.91C985.5,-212.2 985.5,-200.62 985.5,-189.78\"/>\n<polygon fill=\"black\" stroke=\"black\" points=\"989,-189.67 985.5,-179.67 982,-189.67 989,-189.67\"/>\n</g>\n<!-- 15 -->\n<g id=\"node16\" class=\"node\">\n<title>15</title>\n<polygon fill=\"#e99558\" stroke=\"black\" points=\"747,-68 600,-68 600,0 747,0 747,-68\"/>\n<text text-anchor=\"middle\" x=\"673.5\" y=\"-52.8\" font-family=\"Helvetica,sans-Serif\" font-size=\"14.00\">gini = 0.236</text>\n<text text-anchor=\"middle\" x=\"673.5\" y=\"-37.8\" font-family=\"Helvetica,sans-Serif\" font-size=\"14.00\">samples = 0.0%</text>\n<text text-anchor=\"middle\" x=\"673.5\" y=\"-22.8\" font-family=\"Helvetica,sans-Serif\" font-size=\"14.00\">value = [0.864, 0.136]</text>\n<text text-anchor=\"middle\" x=\"673.5\" y=\"-7.8\" font-family=\"Helvetica,sans-Serif\" font-size=\"14.00\">class = False</text>\n</g>\n<!-- 14&#45;&gt;15 -->\n<g id=\"edge15\" class=\"edge\">\n<title>14&#45;&gt;15</title>\n<path fill=\"none\" stroke=\"black\" d=\"M772.67,-103.73C758.64,-94.01 743.71,-83.66 729.81,-74.02\"/>\n<polygon fill=\"black\" stroke=\"black\" points=\"731.51,-70.94 721.3,-68.13 727.52,-76.7 731.51,-70.94\"/>\n</g>\n<!-- 16 -->\n<g id=\"node17\" class=\"node\">\n<title>16</title>\n<polygon fill=\"#71b9ec\" stroke=\"black\" points=\"897.5,-68 765.5,-68 765.5,0 897.5,0 897.5,-68\"/>\n<text text-anchor=\"middle\" x=\"831.5\" y=\"-52.8\" font-family=\"Helvetica,sans-Serif\" font-size=\"14.00\">gini = 0.343</text>\n<text text-anchor=\"middle\" x=\"831.5\" y=\"-37.8\" font-family=\"Helvetica,sans-Serif\" font-size=\"14.00\">samples = 0.1%</text>\n<text text-anchor=\"middle\" x=\"831.5\" y=\"-22.8\" font-family=\"Helvetica,sans-Serif\" font-size=\"14.00\">value = [0.22, 0.78]</text>\n<text text-anchor=\"middle\" x=\"831.5\" y=\"-7.8\" font-family=\"Helvetica,sans-Serif\" font-size=\"14.00\">class = True</text>\n</g>\n<!-- 14&#45;&gt;16 -->\n<g id=\"edge16\" class=\"edge\">\n<title>14&#45;&gt;16</title>\n<path fill=\"none\" stroke=\"black\" d=\"M831.5,-103.73C831.5,-95.52 831.5,-86.86 831.5,-78.56\"/>\n<polygon fill=\"black\" stroke=\"black\" points=\"835,-78.3 831.5,-68.3 828,-78.3 835,-78.3\"/>\n</g>\n<!-- 19 -->\n<g id=\"node20\" class=\"node\">\n<title>19</title>\n<polygon fill=\"#e5823b\" stroke=\"black\" points=\"1226,-187 1079,-187 1079,-104 1226,-104 1226,-187\"/>\n<text text-anchor=\"middle\" x=\"1152.5\" y=\"-171.8\" font-family=\"Helvetica,sans-Serif\" font-size=\"14.00\">clarity &lt;= 5.5</text>\n<text text-anchor=\"middle\" x=\"1152.5\" y=\"-156.8\" font-family=\"Helvetica,sans-Serif\" font-size=\"14.00\">gini = 0.023</text>\n<text text-anchor=\"middle\" x=\"1152.5\" y=\"-141.8\" font-family=\"Helvetica,sans-Serif\" font-size=\"14.00\">samples = 3.6%</text>\n<text text-anchor=\"middle\" x=\"1152.5\" y=\"-126.8\" font-family=\"Helvetica,sans-Serif\" font-size=\"14.00\">value = [0.989, 0.011]</text>\n<text text-anchor=\"middle\" x=\"1152.5\" y=\"-111.8\" font-family=\"Helvetica,sans-Serif\" font-size=\"14.00\">class = False</text>\n</g>\n<!-- 18&#45;&gt;19 -->\n<g id=\"edge19\" class=\"edge\">\n<title>18&#45;&gt;19</title>\n<path fill=\"none\" stroke=\"black\" d=\"M1152.5,-222.91C1152.5,-214.65 1152.5,-205.86 1152.5,-197.3\"/>\n<polygon fill=\"black\" stroke=\"black\" points=\"1156,-197.02 1152.5,-187.02 1149,-197.02 1156,-197.02\"/>\n</g>\n<!-- 22 -->\n<g id=\"node23\" class=\"node\">\n<title>22</title>\n<polygon fill=\"#ffffff\" stroke=\"black\" points=\"1378,-187 1261,-187 1261,-104 1378,-104 1378,-187\"/>\n<text text-anchor=\"middle\" x=\"1319.5\" y=\"-171.8\" font-family=\"Helvetica,sans-Serif\" font-size=\"14.00\">color &lt;= 4.5</text>\n<text text-anchor=\"middle\" x=\"1319.5\" y=\"-156.8\" font-family=\"Helvetica,sans-Serif\" font-size=\"14.00\">gini = 0.5</text>\n<text text-anchor=\"middle\" x=\"1319.5\" y=\"-141.8\" font-family=\"Helvetica,sans-Serif\" font-size=\"14.00\">samples = 0.1%</text>\n<text text-anchor=\"middle\" x=\"1319.5\" y=\"-126.8\" font-family=\"Helvetica,sans-Serif\" font-size=\"14.00\">value = [0.5, 0.5]</text>\n<text text-anchor=\"middle\" x=\"1319.5\" y=\"-111.8\" font-family=\"Helvetica,sans-Serif\" font-size=\"14.00\">class = True</text>\n</g>\n<!-- 18&#45;&gt;22 -->\n<g id=\"edge22\" class=\"edge\">\n<title>18&#45;&gt;22</title>\n<path fill=\"none\" stroke=\"black\" d=\"M1210.44,-222.91C1224.3,-213.2 1239.2,-202.76 1253.4,-192.81\"/>\n<polygon fill=\"black\" stroke=\"black\" points=\"1255.48,-195.63 1261.66,-187.02 1251.46,-189.89 1255.48,-195.63\"/>\n</g>\n<!-- 20 -->\n<g id=\"node21\" class=\"node\">\n<title>20</title>\n<polygon fill=\"#e5823a\" stroke=\"black\" points=\"1063,-68 916,-68 916,0 1063,0 1063,-68\"/>\n<text text-anchor=\"middle\" x=\"989.5\" y=\"-52.8\" font-family=\"Helvetica,sans-Serif\" font-size=\"14.00\">gini = 0.009</text>\n<text text-anchor=\"middle\" x=\"989.5\" y=\"-37.8\" font-family=\"Helvetica,sans-Serif\" font-size=\"14.00\">samples = 3.0%</text>\n<text text-anchor=\"middle\" x=\"989.5\" y=\"-22.8\" font-family=\"Helvetica,sans-Serif\" font-size=\"14.00\">value = [0.995, 0.005]</text>\n<text text-anchor=\"middle\" x=\"989.5\" y=\"-7.8\" font-family=\"Helvetica,sans-Serif\" font-size=\"14.00\">class = False</text>\n</g>\n<!-- 19&#45;&gt;20 -->\n<g id=\"edge20\" class=\"edge\">\n<title>19&#45;&gt;20</title>\n<path fill=\"none\" stroke=\"black\" d=\"M1091.8,-103.73C1077.2,-93.92 1061.64,-83.46 1047.18,-73.75\"/>\n<polygon fill=\"black\" stroke=\"black\" points=\"1049.06,-70.8 1038.81,-68.13 1045.16,-76.61 1049.06,-70.8\"/>\n</g>\n<!-- 21 -->\n<g id=\"node22\" class=\"node\">\n<title>21</title>\n<polygon fill=\"#e68743\" stroke=\"black\" points=\"1228,-68 1081,-68 1081,0 1228,0 1228,-68\"/>\n<text text-anchor=\"middle\" x=\"1154.5\" y=\"-52.8\" font-family=\"Helvetica,sans-Serif\" font-size=\"14.00\">gini = 0.09</text>\n<text text-anchor=\"middle\" x=\"1154.5\" y=\"-37.8\" font-family=\"Helvetica,sans-Serif\" font-size=\"14.00\">samples = 0.6%</text>\n<text text-anchor=\"middle\" x=\"1154.5\" y=\"-22.8\" font-family=\"Helvetica,sans-Serif\" font-size=\"14.00\">value = [0.953, 0.047]</text>\n<text text-anchor=\"middle\" x=\"1154.5\" y=\"-7.8\" font-family=\"Helvetica,sans-Serif\" font-size=\"14.00\">class = False</text>\n</g>\n<!-- 19&#45;&gt;21 -->\n<g id=\"edge21\" class=\"edge\">\n<title>19&#45;&gt;21</title>\n<path fill=\"none\" stroke=\"black\" d=\"M1153.24,-103.73C1153.39,-95.52 1153.55,-86.86 1153.7,-78.56\"/>\n<polygon fill=\"black\" stroke=\"black\" points=\"1157.21,-78.36 1153.89,-68.3 1150.21,-78.23 1157.21,-78.36\"/>\n</g>\n<!-- 23 -->\n<g id=\"node24\" class=\"node\">\n<title>23</title>\n<polygon fill=\"#52a9e8\" stroke=\"black\" points=\"1393,-68 1246,-68 1246,0 1393,0 1393,-68\"/>\n<text text-anchor=\"middle\" x=\"1319.5\" y=\"-52.8\" font-family=\"Helvetica,sans-Serif\" font-size=\"14.00\">gini = 0.197</text>\n<text text-anchor=\"middle\" x=\"1319.5\" y=\"-37.8\" font-family=\"Helvetica,sans-Serif\" font-size=\"14.00\">samples = 0.0%</text>\n<text text-anchor=\"middle\" x=\"1319.5\" y=\"-22.8\" font-family=\"Helvetica,sans-Serif\" font-size=\"14.00\">value = [0.111, 0.889]</text>\n<text text-anchor=\"middle\" x=\"1319.5\" y=\"-7.8\" font-family=\"Helvetica,sans-Serif\" font-size=\"14.00\">class = True</text>\n</g>\n<!-- 22&#45;&gt;23 -->\n<g id=\"edge23\" class=\"edge\">\n<title>22&#45;&gt;23</title>\n<path fill=\"none\" stroke=\"black\" d=\"M1319.5,-103.73C1319.5,-95.52 1319.5,-86.86 1319.5,-78.56\"/>\n<polygon fill=\"black\" stroke=\"black\" points=\"1323,-78.3 1319.5,-68.3 1316,-78.3 1323,-78.3\"/>\n</g>\n<!-- 24 -->\n<g id=\"node25\" class=\"node\">\n<title>24</title>\n<polygon fill=\"#e58139\" stroke=\"black\" points=\"1528,-68 1411,-68 1411,0 1528,0 1528,-68\"/>\n<text text-anchor=\"middle\" x=\"1469.5\" y=\"-52.8\" font-family=\"Helvetica,sans-Serif\" font-size=\"14.00\">gini = 0.0</text>\n<text text-anchor=\"middle\" x=\"1469.5\" y=\"-37.8\" font-family=\"Helvetica,sans-Serif\" font-size=\"14.00\">samples = 0.0%</text>\n<text text-anchor=\"middle\" x=\"1469.5\" y=\"-22.8\" font-family=\"Helvetica,sans-Serif\" font-size=\"14.00\">value = [1.0, 0.0]</text>\n<text text-anchor=\"middle\" x=\"1469.5\" y=\"-7.8\" font-family=\"Helvetica,sans-Serif\" font-size=\"14.00\">class = False</text>\n</g>\n<!-- 22&#45;&gt;24 -->\n<g id=\"edge24\" class=\"edge\">\n<title>22&#45;&gt;24</title>\n<path fill=\"none\" stroke=\"black\" d=\"M1375.35,-103.73C1388.47,-94.15 1402.43,-83.96 1415.47,-74.44\"/>\n<polygon fill=\"black\" stroke=\"black\" points=\"1417.87,-77.02 1423.88,-68.3 1413.74,-71.37 1417.87,-77.02\"/>\n</g>\n<!-- 26 -->\n<g id=\"node27\" class=\"node\">\n<title>26</title>\n<polygon fill=\"#7ebfee\" stroke=\"black\" points=\"2185.5,-425 2053.5,-425 2053.5,-342 2185.5,-342 2185.5,-425\"/>\n<text text-anchor=\"middle\" x=\"2119.5\" y=\"-409.8\" font-family=\"Helvetica,sans-Serif\" font-size=\"14.00\">color &lt;= 4.5</text>\n<text text-anchor=\"middle\" x=\"2119.5\" y=\"-394.8\" font-family=\"Helvetica,sans-Serif\" font-size=\"14.00\">gini = 0.384</text>\n<text text-anchor=\"middle\" x=\"2119.5\" y=\"-379.8\" font-family=\"Helvetica,sans-Serif\" font-size=\"14.00\">samples = 0.1%</text>\n<text text-anchor=\"middle\" x=\"2119.5\" y=\"-364.8\" font-family=\"Helvetica,sans-Serif\" font-size=\"14.00\">value = [0.26, 0.74]</text>\n<text text-anchor=\"middle\" x=\"2119.5\" y=\"-349.8\" font-family=\"Helvetica,sans-Serif\" font-size=\"14.00\">class = True</text>\n</g>\n<!-- 25&#45;&gt;26 -->\n<g id=\"edge26\" class=\"edge\">\n<title>25&#45;&gt;26</title>\n<path fill=\"none\" stroke=\"black\" d=\"M2189.38,-460.91C2180.99,-451.74 2172.02,-441.93 2163.39,-432.49\"/>\n<polygon fill=\"black\" stroke=\"black\" points=\"2165.89,-430.04 2156.56,-425.02 2160.72,-434.76 2165.89,-430.04\"/>\n</g>\n<!-- 37 -->\n<g id=\"node38\" class=\"node\">\n<title>37</title>\n<polygon fill=\"#e99356\" stroke=\"black\" points=\"2407,-425 2260,-425 2260,-342 2407,-342 2407,-425\"/>\n<text text-anchor=\"middle\" x=\"2333.5\" y=\"-409.8\" font-family=\"Helvetica,sans-Serif\" font-size=\"14.00\">clarity &lt;= 5.5</text>\n<text text-anchor=\"middle\" x=\"2333.5\" y=\"-394.8\" font-family=\"Helvetica,sans-Serif\" font-size=\"14.00\">gini = 0.221</text>\n<text text-anchor=\"middle\" x=\"2333.5\" y=\"-379.8\" font-family=\"Helvetica,sans-Serif\" font-size=\"14.00\">samples = 3.0%</text>\n<text text-anchor=\"middle\" x=\"2333.5\" y=\"-364.8\" font-family=\"Helvetica,sans-Serif\" font-size=\"14.00\">value = [0.873, 0.127]</text>\n<text text-anchor=\"middle\" x=\"2333.5\" y=\"-349.8\" font-family=\"Helvetica,sans-Serif\" font-size=\"14.00\">class = False</text>\n</g>\n<!-- 25&#45;&gt;37 -->\n<g id=\"edge37\" class=\"edge\">\n<title>25&#45;&gt;37</title>\n<path fill=\"none\" stroke=\"black\" d=\"M2263.62,-460.91C2272.01,-451.74 2280.98,-441.93 2289.61,-432.49\"/>\n<polygon fill=\"black\" stroke=\"black\" points=\"2292.28,-434.76 2296.44,-425.02 2287.11,-430.04 2292.28,-434.76\"/>\n</g>\n<!-- 27 -->\n<g id=\"node28\" class=\"node\">\n<title>27</title>\n<polygon fill=\"#56ace9\" stroke=\"black\" points=\"1948,-306 1801,-306 1801,-223 1948,-223 1948,-306\"/>\n<text text-anchor=\"middle\" x=\"1874.5\" y=\"-290.8\" font-family=\"Helvetica,sans-Serif\" font-size=\"14.00\">y &lt;= 6.195</text>\n<text text-anchor=\"middle\" x=\"1874.5\" y=\"-275.8\" font-family=\"Helvetica,sans-Serif\" font-size=\"14.00\">gini = 0.225</text>\n<text text-anchor=\"middle\" x=\"1874.5\" y=\"-260.8\" font-family=\"Helvetica,sans-Serif\" font-size=\"14.00\">samples = 0.1%</text>\n<text text-anchor=\"middle\" x=\"1874.5\" y=\"-245.8\" font-family=\"Helvetica,sans-Serif\" font-size=\"14.00\">value = [0.129, 0.871]</text>\n<text text-anchor=\"middle\" x=\"1874.5\" y=\"-230.8\" font-family=\"Helvetica,sans-Serif\" font-size=\"14.00\">class = True</text>\n</g>\n<!-- 26&#45;&gt;27 -->\n<g id=\"edge27\" class=\"edge\">\n<title>26&#45;&gt;27</title>\n<path fill=\"none\" stroke=\"black\" d=\"M2053.2,-350.84C2023.66,-336.73 1988.56,-319.97 1957.32,-305.05\"/>\n<polygon fill=\"black\" stroke=\"black\" points=\"1958.72,-301.84 1948.19,-300.69 1955.7,-308.16 1958.72,-301.84\"/>\n</g>\n<!-- 34 -->\n<g id=\"node35\" class=\"node\">\n<title>34</title>\n<polygon fill=\"#eca16b\" stroke=\"black\" points=\"2178,-306 2061,-306 2061,-223 2178,-223 2178,-306\"/>\n<text text-anchor=\"middle\" x=\"2119.5\" y=\"-290.8\" font-family=\"Helvetica,sans-Serif\" font-size=\"14.00\">z &lt;= 3.915</text>\n<text text-anchor=\"middle\" x=\"2119.5\" y=\"-275.8\" font-family=\"Helvetica,sans-Serif\" font-size=\"14.00\">gini = 0.32</text>\n<text text-anchor=\"middle\" x=\"2119.5\" y=\"-260.8\" font-family=\"Helvetica,sans-Serif\" font-size=\"14.00\">samples = 0.0%</text>\n<text text-anchor=\"middle\" x=\"2119.5\" y=\"-245.8\" font-family=\"Helvetica,sans-Serif\" font-size=\"14.00\">value = [0.8, 0.2]</text>\n<text text-anchor=\"middle\" x=\"2119.5\" y=\"-230.8\" font-family=\"Helvetica,sans-Serif\" font-size=\"14.00\">class = False</text>\n</g>\n<!-- 26&#45;&gt;34 -->\n<g id=\"edge34\" class=\"edge\">\n<title>26&#45;&gt;34</title>\n<path fill=\"none\" stroke=\"black\" d=\"M2119.5,-341.91C2119.5,-333.65 2119.5,-324.86 2119.5,-316.3\"/>\n<polygon fill=\"black\" stroke=\"black\" points=\"2123,-316.02 2119.5,-306.02 2116,-316.02 2123,-316.02\"/>\n</g>\n<!-- 28 -->\n<g id=\"node29\" class=\"node\">\n<title>28</title>\n<polygon fill=\"#bddef6\" stroke=\"black\" points=\"1783,-187 1666,-187 1666,-104 1783,-104 1783,-187\"/>\n<text text-anchor=\"middle\" x=\"1724.5\" y=\"-171.8\" font-family=\"Helvetica,sans-Serif\" font-size=\"14.00\">z &lt;= 3.82</text>\n<text text-anchor=\"middle\" x=\"1724.5\" y=\"-156.8\" font-family=\"Helvetica,sans-Serif\" font-size=\"14.00\">gini = 0.48</text>\n<text text-anchor=\"middle\" x=\"1724.5\" y=\"-141.8\" font-family=\"Helvetica,sans-Serif\" font-size=\"14.00\">samples = 0.0%</text>\n<text text-anchor=\"middle\" x=\"1724.5\" y=\"-126.8\" font-family=\"Helvetica,sans-Serif\" font-size=\"14.00\">value = [0.4, 0.6]</text>\n<text text-anchor=\"middle\" x=\"1724.5\" y=\"-111.8\" font-family=\"Helvetica,sans-Serif\" font-size=\"14.00\">class = True</text>\n</g>\n<!-- 27&#45;&gt;28 -->\n<g id=\"edge28\" class=\"edge\">\n<title>27&#45;&gt;28</title>\n<path fill=\"none\" stroke=\"black\" d=\"M1822.46,-222.91C1810.24,-213.38 1797.13,-203.15 1784.59,-193.37\"/>\n<polygon fill=\"black\" stroke=\"black\" points=\"1786.49,-190.41 1776.45,-187.02 1782.18,-195.93 1786.49,-190.41\"/>\n</g>\n<!-- 31 -->\n<g id=\"node32\" class=\"node\">\n<title>31</title>\n<polygon fill=\"#49a5e7\" stroke=\"black\" points=\"1948,-187 1801,-187 1801,-104 1948,-104 1948,-187\"/>\n<text text-anchor=\"middle\" x=\"1874.5\" y=\"-171.8\" font-family=\"Helvetica,sans-Serif\" font-size=\"14.00\">x &lt;= 5.635</text>\n<text text-anchor=\"middle\" x=\"1874.5\" y=\"-156.8\" font-family=\"Helvetica,sans-Serif\" font-size=\"14.00\">gini = 0.142</text>\n<text text-anchor=\"middle\" x=\"1874.5\" y=\"-141.8\" font-family=\"Helvetica,sans-Serif\" font-size=\"14.00\">samples = 0.0%</text>\n<text text-anchor=\"middle\" x=\"1874.5\" y=\"-126.8\" font-family=\"Helvetica,sans-Serif\" font-size=\"14.00\">value = [0.077, 0.923]</text>\n<text text-anchor=\"middle\" x=\"1874.5\" y=\"-111.8\" font-family=\"Helvetica,sans-Serif\" font-size=\"14.00\">class = True</text>\n</g>\n<!-- 27&#45;&gt;31 -->\n<g id=\"edge31\" class=\"edge\">\n<title>27&#45;&gt;31</title>\n<path fill=\"none\" stroke=\"black\" d=\"M1874.5,-222.91C1874.5,-214.65 1874.5,-205.86 1874.5,-197.3\"/>\n<polygon fill=\"black\" stroke=\"black\" points=\"1878,-197.02 1874.5,-187.02 1871,-197.02 1878,-197.02\"/>\n</g>\n<!-- 29 -->\n<g id=\"node30\" class=\"node\">\n<title>29</title>\n<polygon fill=\"#399de5\" stroke=\"black\" points=\"1663,-68 1546,-68 1546,0 1663,0 1663,-68\"/>\n<text text-anchor=\"middle\" x=\"1604.5\" y=\"-52.8\" font-family=\"Helvetica,sans-Serif\" font-size=\"14.00\">gini = 0.0</text>\n<text text-anchor=\"middle\" x=\"1604.5\" y=\"-37.8\" font-family=\"Helvetica,sans-Serif\" font-size=\"14.00\">samples = 0.0%</text>\n<text text-anchor=\"middle\" x=\"1604.5\" y=\"-22.8\" font-family=\"Helvetica,sans-Serif\" font-size=\"14.00\">value = [0.0, 1.0]</text>\n<text text-anchor=\"middle\" x=\"1604.5\" y=\"-7.8\" font-family=\"Helvetica,sans-Serif\" font-size=\"14.00\">class = True</text>\n</g>\n<!-- 28&#45;&gt;29 -->\n<g id=\"edge29\" class=\"edge\">\n<title>28&#45;&gt;29</title>\n<path fill=\"none\" stroke=\"black\" d=\"M1679.82,-103.73C1669.62,-94.42 1658.79,-84.54 1648.62,-75.26\"/>\n<polygon fill=\"black\" stroke=\"black\" points=\"1650.74,-72.45 1640.99,-68.3 1646.02,-77.63 1650.74,-72.45\"/>\n</g>\n<!-- 30 -->\n<g id=\"node31\" class=\"node\">\n<title>30</title>\n<polygon fill=\"#e58139\" stroke=\"black\" points=\"1798,-68 1681,-68 1681,0 1798,0 1798,-68\"/>\n<text text-anchor=\"middle\" x=\"1739.5\" y=\"-52.8\" font-family=\"Helvetica,sans-Serif\" font-size=\"14.00\">gini = &#45;0.0</text>\n<text text-anchor=\"middle\" x=\"1739.5\" y=\"-37.8\" font-family=\"Helvetica,sans-Serif\" font-size=\"14.00\">samples = 0.0%</text>\n<text text-anchor=\"middle\" x=\"1739.5\" y=\"-22.8\" font-family=\"Helvetica,sans-Serif\" font-size=\"14.00\">value = [1.0, 0.0]</text>\n<text text-anchor=\"middle\" x=\"1739.5\" y=\"-7.8\" font-family=\"Helvetica,sans-Serif\" font-size=\"14.00\">class = False</text>\n</g>\n<!-- 28&#45;&gt;30 -->\n<g id=\"edge30\" class=\"edge\">\n<title>28&#45;&gt;30</title>\n<path fill=\"none\" stroke=\"black\" d=\"M1730.09,-103.73C1731.22,-95.43 1732.42,-86.67 1733.57,-78.28\"/>\n<polygon fill=\"black\" stroke=\"black\" points=\"1737.05,-78.68 1734.94,-68.3 1730.11,-77.73 1737.05,-78.68\"/>\n</g>\n<!-- 32 -->\n<g id=\"node33\" class=\"node\">\n<title>32</title>\n<polygon fill=\"#e58139\" stroke=\"black\" points=\"1933,-68 1816,-68 1816,0 1933,0 1933,-68\"/>\n<text text-anchor=\"middle\" x=\"1874.5\" y=\"-52.8\" font-family=\"Helvetica,sans-Serif\" font-size=\"14.00\">gini = 0.0</text>\n<text text-anchor=\"middle\" x=\"1874.5\" y=\"-37.8\" font-family=\"Helvetica,sans-Serif\" font-size=\"14.00\">samples = 0.0%</text>\n<text text-anchor=\"middle\" x=\"1874.5\" y=\"-22.8\" font-family=\"Helvetica,sans-Serif\" font-size=\"14.00\">value = [1.0, 0.0]</text>\n<text text-anchor=\"middle\" x=\"1874.5\" y=\"-7.8\" font-family=\"Helvetica,sans-Serif\" font-size=\"14.00\">class = False</text>\n</g>\n<!-- 31&#45;&gt;32 -->\n<g id=\"edge32\" class=\"edge\">\n<title>31&#45;&gt;32</title>\n<path fill=\"none\" stroke=\"black\" d=\"M1874.5,-103.73C1874.5,-95.52 1874.5,-86.86 1874.5,-78.56\"/>\n<polygon fill=\"black\" stroke=\"black\" points=\"1878,-78.3 1874.5,-68.3 1871,-78.3 1878,-78.3\"/>\n</g>\n<!-- 33 -->\n<g id=\"node34\" class=\"node\">\n<title>33</title>\n<polygon fill=\"#45a3e7\" stroke=\"black\" points=\"2098,-68 1951,-68 1951,0 2098,0 2098,-68\"/>\n<text text-anchor=\"middle\" x=\"2024.5\" y=\"-52.8\" font-family=\"Helvetica,sans-Serif\" font-size=\"14.00\">gini = 0.111</text>\n<text text-anchor=\"middle\" x=\"2024.5\" y=\"-37.8\" font-family=\"Helvetica,sans-Serif\" font-size=\"14.00\">samples = 0.0%</text>\n<text text-anchor=\"middle\" x=\"2024.5\" y=\"-22.8\" font-family=\"Helvetica,sans-Serif\" font-size=\"14.00\">value = [0.059, 0.941]</text>\n<text text-anchor=\"middle\" x=\"2024.5\" y=\"-7.8\" font-family=\"Helvetica,sans-Serif\" font-size=\"14.00\">class = True</text>\n</g>\n<!-- 31&#45;&gt;33 -->\n<g id=\"edge33\" class=\"edge\">\n<title>31&#45;&gt;33</title>\n<path fill=\"none\" stroke=\"black\" d=\"M1930.35,-103.73C1943.47,-94.15 1957.43,-83.96 1970.47,-74.44\"/>\n<polygon fill=\"black\" stroke=\"black\" points=\"1972.87,-77.02 1978.88,-68.3 1968.74,-71.37 1972.87,-77.02\"/>\n</g>\n<!-- 35 -->\n<g id=\"node36\" class=\"node\">\n<title>35</title>\n<polygon fill=\"#e58139\" stroke=\"black\" points=\"2083,-179.5 1966,-179.5 1966,-111.5 2083,-111.5 2083,-179.5\"/>\n<text text-anchor=\"middle\" x=\"2024.5\" y=\"-164.3\" font-family=\"Helvetica,sans-Serif\" font-size=\"14.00\">gini = &#45;0.0</text>\n<text text-anchor=\"middle\" x=\"2024.5\" y=\"-149.3\" font-family=\"Helvetica,sans-Serif\" font-size=\"14.00\">samples = 0.0%</text>\n<text text-anchor=\"middle\" x=\"2024.5\" y=\"-134.3\" font-family=\"Helvetica,sans-Serif\" font-size=\"14.00\">value = [1.0, 0.0]</text>\n<text text-anchor=\"middle\" x=\"2024.5\" y=\"-119.3\" font-family=\"Helvetica,sans-Serif\" font-size=\"14.00\">class = False</text>\n</g>\n<!-- 34&#45;&gt;35 -->\n<g id=\"edge35\" class=\"edge\">\n<title>34&#45;&gt;35</title>\n<path fill=\"none\" stroke=\"black\" d=\"M2086.54,-222.91C2077.22,-211.43 2067.08,-198.94 2057.74,-187.44\"/>\n<polygon fill=\"black\" stroke=\"black\" points=\"2060.45,-185.22 2051.43,-179.67 2055.02,-189.64 2060.45,-185.22\"/>\n</g>\n<!-- 36 -->\n<g id=\"node37\" class=\"node\">\n<title>36</title>\n<polygon fill=\"#399de5\" stroke=\"black\" points=\"2218,-179.5 2101,-179.5 2101,-111.5 2218,-111.5 2218,-179.5\"/>\n<text text-anchor=\"middle\" x=\"2159.5\" y=\"-164.3\" font-family=\"Helvetica,sans-Serif\" font-size=\"14.00\">gini = 0.0</text>\n<text text-anchor=\"middle\" x=\"2159.5\" y=\"-149.3\" font-family=\"Helvetica,sans-Serif\" font-size=\"14.00\">samples = 0.0%</text>\n<text text-anchor=\"middle\" x=\"2159.5\" y=\"-134.3\" font-family=\"Helvetica,sans-Serif\" font-size=\"14.00\">value = [0.0, 1.0]</text>\n<text text-anchor=\"middle\" x=\"2159.5\" y=\"-119.3\" font-family=\"Helvetica,sans-Serif\" font-size=\"14.00\">class = True</text>\n</g>\n<!-- 34&#45;&gt;36 -->\n<g id=\"edge36\" class=\"edge\">\n<title>34&#45;&gt;36</title>\n<path fill=\"none\" stroke=\"black\" d=\"M2133.38,-222.91C2137.07,-212.09 2141.08,-200.38 2144.82,-189.44\"/>\n<polygon fill=\"black\" stroke=\"black\" points=\"2148.24,-190.26 2148.16,-179.67 2141.61,-188 2148.24,-190.26\"/>\n</g>\n<!-- 38 -->\n<g id=\"node39\" class=\"node\">\n<title>38</title>\n<polygon fill=\"#e78b49\" stroke=\"black\" points=\"2407,-306 2260,-306 2260,-223 2407,-223 2407,-306\"/>\n<text text-anchor=\"middle\" x=\"2333.5\" y=\"-290.8\" font-family=\"Helvetica,sans-Serif\" font-size=\"14.00\">clarity &lt;= 3.5</text>\n<text text-anchor=\"middle\" x=\"2333.5\" y=\"-275.8\" font-family=\"Helvetica,sans-Serif\" font-size=\"14.00\">gini = 0.14</text>\n<text text-anchor=\"middle\" x=\"2333.5\" y=\"-260.8\" font-family=\"Helvetica,sans-Serif\" font-size=\"14.00\">samples = 2.5%</text>\n<text text-anchor=\"middle\" x=\"2333.5\" y=\"-245.8\" font-family=\"Helvetica,sans-Serif\" font-size=\"14.00\">value = [0.925, 0.075]</text>\n<text text-anchor=\"middle\" x=\"2333.5\" y=\"-230.8\" font-family=\"Helvetica,sans-Serif\" font-size=\"14.00\">class = False</text>\n</g>\n<!-- 37&#45;&gt;38 -->\n<g id=\"edge38\" class=\"edge\">\n<title>37&#45;&gt;38</title>\n<path fill=\"none\" stroke=\"black\" d=\"M2333.5,-341.91C2333.5,-333.65 2333.5,-324.86 2333.5,-316.3\"/>\n<polygon fill=\"black\" stroke=\"black\" points=\"2337,-316.02 2333.5,-306.02 2330,-316.02 2337,-316.02\"/>\n</g>\n<!-- 43 -->\n<g id=\"node44\" class=\"node\">\n<title>43</title>\n<polygon fill=\"#f4caab\" stroke=\"black\" points=\"2723,-306 2576,-306 2576,-223 2723,-223 2723,-306\"/>\n<text text-anchor=\"middle\" x=\"2649.5\" y=\"-290.8\" font-family=\"Helvetica,sans-Serif\" font-size=\"14.00\">color &lt;= 3.5</text>\n<text text-anchor=\"middle\" x=\"2649.5\" y=\"-275.8\" font-family=\"Helvetica,sans-Serif\" font-size=\"14.00\">gini = 0.464</text>\n<text text-anchor=\"middle\" x=\"2649.5\" y=\"-260.8\" font-family=\"Helvetica,sans-Serif\" font-size=\"14.00\">samples = 0.4%</text>\n<text text-anchor=\"middle\" x=\"2649.5\" y=\"-245.8\" font-family=\"Helvetica,sans-Serif\" font-size=\"14.00\">value = [0.634, 0.366]</text>\n<text text-anchor=\"middle\" x=\"2649.5\" y=\"-230.8\" font-family=\"Helvetica,sans-Serif\" font-size=\"14.00\">class = False</text>\n</g>\n<!-- 37&#45;&gt;43 -->\n<g id=\"edge43\" class=\"edge\">\n<title>37&#45;&gt;43</title>\n<path fill=\"none\" stroke=\"black\" d=\"M2407.19,-355.22C2454.91,-337.55 2517.13,-314.51 2566.57,-296.2\"/>\n<polygon fill=\"black\" stroke=\"black\" points=\"2567.81,-299.48 2575.97,-292.73 2565.37,-292.92 2567.81,-299.48\"/>\n</g>\n<!-- 39 -->\n<g id=\"node40\" class=\"node\">\n<title>39</title>\n<polygon fill=\"#e58139\" stroke=\"black\" points=\"2353,-179.5 2236,-179.5 2236,-111.5 2353,-111.5 2353,-179.5\"/>\n<text text-anchor=\"middle\" x=\"2294.5\" y=\"-164.3\" font-family=\"Helvetica,sans-Serif\" font-size=\"14.00\">gini = 0.0</text>\n<text text-anchor=\"middle\" x=\"2294.5\" y=\"-149.3\" font-family=\"Helvetica,sans-Serif\" font-size=\"14.00\">samples = 1.0%</text>\n<text text-anchor=\"middle\" x=\"2294.5\" y=\"-134.3\" font-family=\"Helvetica,sans-Serif\" font-size=\"14.00\">value = [1.0, 0.0]</text>\n<text text-anchor=\"middle\" x=\"2294.5\" y=\"-119.3\" font-family=\"Helvetica,sans-Serif\" font-size=\"14.00\">class = False</text>\n</g>\n<!-- 38&#45;&gt;39 -->\n<g id=\"edge39\" class=\"edge\">\n<title>38&#45;&gt;39</title>\n<path fill=\"none\" stroke=\"black\" d=\"M2319.97,-222.91C2316.36,-212.09 2312.46,-200.38 2308.81,-189.44\"/>\n<polygon fill=\"black\" stroke=\"black\" points=\"2312.04,-188.05 2305.56,-179.67 2305.4,-190.26 2312.04,-188.05\"/>\n</g>\n<!-- 40 -->\n<g id=\"node41\" class=\"node\">\n<title>40</title>\n<polygon fill=\"#e89254\" stroke=\"black\" points=\"2518,-187 2371,-187 2371,-104 2518,-104 2518,-187\"/>\n<text text-anchor=\"middle\" x=\"2444.5\" y=\"-171.8\" font-family=\"Helvetica,sans-Serif\" font-size=\"14.00\">cut &lt;= 3.5</text>\n<text text-anchor=\"middle\" x=\"2444.5\" y=\"-156.8\" font-family=\"Helvetica,sans-Serif\" font-size=\"14.00\">gini = 0.209</text>\n<text text-anchor=\"middle\" x=\"2444.5\" y=\"-141.8\" font-family=\"Helvetica,sans-Serif\" font-size=\"14.00\">samples = 1.6%</text>\n<text text-anchor=\"middle\" x=\"2444.5\" y=\"-126.8\" font-family=\"Helvetica,sans-Serif\" font-size=\"14.00\">value = [0.882, 0.118]</text>\n<text text-anchor=\"middle\" x=\"2444.5\" y=\"-111.8\" font-family=\"Helvetica,sans-Serif\" font-size=\"14.00\">class = False</text>\n</g>\n<!-- 38&#45;&gt;40 -->\n<g id=\"edge40\" class=\"edge\">\n<title>38&#45;&gt;40</title>\n<path fill=\"none\" stroke=\"black\" d=\"M2372.01,-222.91C2380.71,-213.74 2390.02,-203.93 2398.97,-194.49\"/>\n<polygon fill=\"black\" stroke=\"black\" points=\"2401.71,-196.68 2406.06,-187.02 2396.64,-191.87 2401.71,-196.68\"/>\n</g>\n<!-- 41 -->\n<g id=\"node42\" class=\"node\">\n<title>41</title>\n<polygon fill=\"#e78a47\" stroke=\"black\" points=\"2311,-68 2164,-68 2164,0 2311,0 2311,-68\"/>\n<text text-anchor=\"middle\" x=\"2237.5\" y=\"-52.8\" font-family=\"Helvetica,sans-Serif\" font-size=\"14.00\">gini = 0.121</text>\n<text text-anchor=\"middle\" x=\"2237.5\" y=\"-37.8\" font-family=\"Helvetica,sans-Serif\" font-size=\"14.00\">samples = 1.1%</text>\n<text text-anchor=\"middle\" x=\"2237.5\" y=\"-22.8\" font-family=\"Helvetica,sans-Serif\" font-size=\"14.00\">value = [0.935, 0.065]</text>\n<text text-anchor=\"middle\" x=\"2237.5\" y=\"-7.8\" font-family=\"Helvetica,sans-Serif\" font-size=\"14.00\">class = False</text>\n</g>\n<!-- 40&#45;&gt;41 -->\n<g id=\"edge41\" class=\"edge\">\n<title>40&#45;&gt;41</title>\n<path fill=\"none\" stroke=\"black\" d=\"M2370.94,-105.59C2350.88,-94.98 2329.19,-83.5 2309.24,-72.95\"/>\n<polygon fill=\"black\" stroke=\"black\" points=\"2310.68,-69.75 2300.21,-68.17 2307.41,-75.94 2310.68,-69.75\"/>\n</g>\n<!-- 42 -->\n<g id=\"node43\" class=\"node\">\n<title>42</title>\n<polygon fill=\"#eda978\" stroke=\"black\" points=\"2461.5,-68 2329.5,-68 2329.5,0 2461.5,0 2461.5,-68\"/>\n<text text-anchor=\"middle\" x=\"2395.5\" y=\"-52.8\" font-family=\"Helvetica,sans-Serif\" font-size=\"14.00\">gini = 0.365</text>\n<text text-anchor=\"middle\" x=\"2395.5\" y=\"-37.8\" font-family=\"Helvetica,sans-Serif\" font-size=\"14.00\">samples = 0.4%</text>\n<text text-anchor=\"middle\" x=\"2395.5\" y=\"-22.8\" font-family=\"Helvetica,sans-Serif\" font-size=\"14.00\">value = [0.76, 0.24]</text>\n<text text-anchor=\"middle\" x=\"2395.5\" y=\"-7.8\" font-family=\"Helvetica,sans-Serif\" font-size=\"14.00\">class = False</text>\n</g>\n<!-- 40&#45;&gt;42 -->\n<g id=\"edge42\" class=\"edge\">\n<title>40&#45;&gt;42</title>\n<path fill=\"none\" stroke=\"black\" d=\"M2426.25,-103.73C2422.42,-95.15 2418.36,-86.09 2414.5,-77.46\"/>\n<polygon fill=\"black\" stroke=\"black\" points=\"2417.68,-76 2410.4,-68.3 2411.29,-78.86 2417.68,-76\"/>\n</g>\n<!-- 44 -->\n<g id=\"node45\" class=\"node\">\n<title>44</title>\n<polygon fill=\"#b1d9f5\" stroke=\"black\" points=\"2723,-187 2576,-187 2576,-104 2723,-104 2723,-187\"/>\n<text text-anchor=\"middle\" x=\"2649.5\" y=\"-171.8\" font-family=\"Helvetica,sans-Serif\" font-size=\"14.00\">color &lt;= 1.5</text>\n<text text-anchor=\"middle\" x=\"2649.5\" y=\"-156.8\" font-family=\"Helvetica,sans-Serif\" font-size=\"14.00\">gini = 0.47</text>\n<text text-anchor=\"middle\" x=\"2649.5\" y=\"-141.8\" font-family=\"Helvetica,sans-Serif\" font-size=\"14.00\">samples = 0.2%</text>\n<text text-anchor=\"middle\" x=\"2649.5\" y=\"-126.8\" font-family=\"Helvetica,sans-Serif\" font-size=\"14.00\">value = [0.378, 0.622]</text>\n<text text-anchor=\"middle\" x=\"2649.5\" y=\"-111.8\" font-family=\"Helvetica,sans-Serif\" font-size=\"14.00\">class = True</text>\n</g>\n<!-- 43&#45;&gt;44 -->\n<g id=\"edge44\" class=\"edge\">\n<title>43&#45;&gt;44</title>\n<path fill=\"none\" stroke=\"black\" d=\"M2649.5,-222.91C2649.5,-214.65 2649.5,-205.86 2649.5,-197.3\"/>\n<polygon fill=\"black\" stroke=\"black\" points=\"2653,-197.02 2649.5,-187.02 2646,-197.02 2653,-197.02\"/>\n</g>\n<!-- 47 -->\n<g id=\"node48\" class=\"node\">\n<title>47</title>\n<polygon fill=\"#ea985e\" stroke=\"black\" points=\"2928,-187 2781,-187 2781,-104 2928,-104 2928,-187\"/>\n<text text-anchor=\"middle\" x=\"2854.5\" y=\"-171.8\" font-family=\"Helvetica,sans-Serif\" font-size=\"14.00\">x &lt;= 6.255</text>\n<text text-anchor=\"middle\" x=\"2854.5\" y=\"-156.8\" font-family=\"Helvetica,sans-Serif\" font-size=\"14.00\">gini = 0.263</text>\n<text text-anchor=\"middle\" x=\"2854.5\" y=\"-141.8\" font-family=\"Helvetica,sans-Serif\" font-size=\"14.00\">samples = 0.3%</text>\n<text text-anchor=\"middle\" x=\"2854.5\" y=\"-126.8\" font-family=\"Helvetica,sans-Serif\" font-size=\"14.00\">value = [0.844, 0.156]</text>\n<text text-anchor=\"middle\" x=\"2854.5\" y=\"-111.8\" font-family=\"Helvetica,sans-Serif\" font-size=\"14.00\">class = False</text>\n</g>\n<!-- 43&#45;&gt;47 -->\n<g id=\"edge47\" class=\"edge\">\n<title>43&#45;&gt;47</title>\n<path fill=\"none\" stroke=\"black\" d=\"M2720.62,-222.91C2737.96,-213.02 2756.61,-202.37 2774.33,-192.25\"/>\n<polygon fill=\"black\" stroke=\"black\" points=\"2776.55,-195.02 2783.5,-187.02 2773.08,-188.94 2776.55,-195.02\"/>\n</g>\n<!-- 45 -->\n<g id=\"node46\" class=\"node\">\n<title>45</title>\n<polygon fill=\"#f8dcc8\" stroke=\"black\" points=\"2627,-68 2480,-68 2480,0 2627,0 2627,-68\"/>\n<text text-anchor=\"middle\" x=\"2553.5\" y=\"-52.8\" font-family=\"Helvetica,sans-Serif\" font-size=\"14.00\">gini = 0.487</text>\n<text text-anchor=\"middle\" x=\"2553.5\" y=\"-37.8\" font-family=\"Helvetica,sans-Serif\" font-size=\"14.00\">samples = 0.1%</text>\n<text text-anchor=\"middle\" x=\"2553.5\" y=\"-22.8\" font-family=\"Helvetica,sans-Serif\" font-size=\"14.00\">value = [0.581, 0.419]</text>\n<text text-anchor=\"middle\" x=\"2553.5\" y=\"-7.8\" font-family=\"Helvetica,sans-Serif\" font-size=\"14.00\">class = False</text>\n</g>\n<!-- 44&#45;&gt;45 -->\n<g id=\"edge45\" class=\"edge\">\n<title>44&#45;&gt;45</title>\n<path fill=\"none\" stroke=\"black\" d=\"M2613.75,-103.73C2605.84,-94.7 2597.44,-85.12 2589.52,-76.08\"/>\n<polygon fill=\"black\" stroke=\"black\" points=\"2591.92,-73.51 2582.69,-68.3 2586.65,-78.13 2591.92,-73.51\"/>\n</g>\n<!-- 46 -->\n<g id=\"node47\" class=\"node\">\n<title>46</title>\n<polygon fill=\"#7bbeee\" stroke=\"black\" points=\"2777.5,-68 2645.5,-68 2645.5,0 2777.5,0 2777.5,-68\"/>\n<text text-anchor=\"middle\" x=\"2711.5\" y=\"-52.8\" font-family=\"Helvetica,sans-Serif\" font-size=\"14.00\">gini = 0.375</text>\n<text text-anchor=\"middle\" x=\"2711.5\" y=\"-37.8\" font-family=\"Helvetica,sans-Serif\" font-size=\"14.00\">samples = 0.1%</text>\n<text text-anchor=\"middle\" x=\"2711.5\" y=\"-22.8\" font-family=\"Helvetica,sans-Serif\" font-size=\"14.00\">value = [0.25, 0.75]</text>\n<text text-anchor=\"middle\" x=\"2711.5\" y=\"-7.8\" font-family=\"Helvetica,sans-Serif\" font-size=\"14.00\">class = True</text>\n</g>\n<!-- 44&#45;&gt;46 -->\n<g id=\"edge46\" class=\"edge\">\n<title>44&#45;&gt;46</title>\n<path fill=\"none\" stroke=\"black\" d=\"M2672.59,-103.73C2677.49,-95.06 2682.68,-85.9 2687.62,-77.18\"/>\n<polygon fill=\"black\" stroke=\"black\" points=\"2690.76,-78.73 2692.65,-68.3 2684.67,-75.28 2690.76,-78.73\"/>\n</g>\n<!-- 48 -->\n<g id=\"node49\" class=\"node\">\n<title>48</title>\n<polygon fill=\"#e58139\" stroke=\"black\" points=\"2913,-68 2796,-68 2796,0 2913,0 2913,-68\"/>\n<text text-anchor=\"middle\" x=\"2854.5\" y=\"-52.8\" font-family=\"Helvetica,sans-Serif\" font-size=\"14.00\">gini = &#45;0.0</text>\n<text text-anchor=\"middle\" x=\"2854.5\" y=\"-37.8\" font-family=\"Helvetica,sans-Serif\" font-size=\"14.00\">samples = 0.2%</text>\n<text text-anchor=\"middle\" x=\"2854.5\" y=\"-22.8\" font-family=\"Helvetica,sans-Serif\" font-size=\"14.00\">value = [1.0, 0.0]</text>\n<text text-anchor=\"middle\" x=\"2854.5\" y=\"-7.8\" font-family=\"Helvetica,sans-Serif\" font-size=\"14.00\">class = False</text>\n</g>\n<!-- 47&#45;&gt;48 -->\n<g id=\"edge48\" class=\"edge\">\n<title>47&#45;&gt;48</title>\n<path fill=\"none\" stroke=\"black\" d=\"M2854.5,-103.73C2854.5,-95.52 2854.5,-86.86 2854.5,-78.56\"/>\n<polygon fill=\"black\" stroke=\"black\" points=\"2858,-78.3 2854.5,-68.3 2851,-78.3 2858,-78.3\"/>\n</g>\n<!-- 49 -->\n<g id=\"node50\" class=\"node\">\n<title>49</title>\n<polygon fill=\"#f2bf9a\" stroke=\"black\" points=\"3078,-68 2931,-68 2931,0 3078,0 3078,-68\"/>\n<text text-anchor=\"middle\" x=\"3004.5\" y=\"-52.8\" font-family=\"Helvetica,sans-Serif\" font-size=\"14.00\">gini = 0.441</text>\n<text text-anchor=\"middle\" x=\"3004.5\" y=\"-37.8\" font-family=\"Helvetica,sans-Serif\" font-size=\"14.00\">samples = 0.1%</text>\n<text text-anchor=\"middle\" x=\"3004.5\" y=\"-22.8\" font-family=\"Helvetica,sans-Serif\" font-size=\"14.00\">value = [0.672, 0.328]</text>\n<text text-anchor=\"middle\" x=\"3004.5\" y=\"-7.8\" font-family=\"Helvetica,sans-Serif\" font-size=\"14.00\">class = False</text>\n</g>\n<!-- 47&#45;&gt;49 -->\n<g id=\"edge49\" class=\"edge\">\n<title>47&#45;&gt;49</title>\n<path fill=\"none\" stroke=\"black\" d=\"M2910.35,-103.73C2923.47,-94.15 2937.43,-83.96 2950.47,-74.44\"/>\n<polygon fill=\"black\" stroke=\"black\" points=\"2952.87,-77.02 2958.88,-68.3 2948.74,-71.37 2952.87,-77.02\"/>\n</g>\n<!-- 51 -->\n<g id=\"node52\" class=\"node\">\n<title>51</title>\n<polygon fill=\"#86c3ef\" stroke=\"black\" points=\"4290,-544 4143,-544 4143,-461 4290,-461 4290,-544\"/>\n<text text-anchor=\"middle\" x=\"4216.5\" y=\"-528.8\" font-family=\"Helvetica,sans-Serif\" font-size=\"14.00\">clarity &lt;= 4.5</text>\n<text text-anchor=\"middle\" x=\"4216.5\" y=\"-513.8\" font-family=\"Helvetica,sans-Serif\" font-size=\"14.00\">gini = 0.402</text>\n<text text-anchor=\"middle\" x=\"4216.5\" y=\"-498.8\" font-family=\"Helvetica,sans-Serif\" font-size=\"14.00\">samples = 16.9%</text>\n<text text-anchor=\"middle\" x=\"4216.5\" y=\"-483.8\" font-family=\"Helvetica,sans-Serif\" font-size=\"14.00\">value = [0.279, 0.721]</text>\n<text text-anchor=\"middle\" x=\"4216.5\" y=\"-468.8\" font-family=\"Helvetica,sans-Serif\" font-size=\"14.00\">class = True</text>\n</g>\n<!-- 50&#45;&gt;51 -->\n<g id=\"edge51\" class=\"edge\">\n<title>50&#45;&gt;51</title>\n<path fill=\"none\" stroke=\"black\" d=\"M4216.5,-579.91C4216.5,-571.65 4216.5,-562.86 4216.5,-554.3\"/>\n<polygon fill=\"black\" stroke=\"black\" points=\"4220,-554.02 4216.5,-544.02 4213,-554.02 4220,-554.02\"/>\n</g>\n<!-- 82 -->\n<g id=\"node83\" class=\"node\">\n<title>82</title>\n<polygon fill=\"#3fa0e6\" stroke=\"black\" points=\"6342,-544 6195,-544 6195,-461 6342,-461 6342,-544\"/>\n<text text-anchor=\"middle\" x=\"6268.5\" y=\"-528.8\" font-family=\"Helvetica,sans-Serif\" font-size=\"14.00\">y &lt;= 7.005</text>\n<text text-anchor=\"middle\" x=\"6268.5\" y=\"-513.8\" font-family=\"Helvetica,sans-Serif\" font-size=\"14.00\">gini = 0.056</text>\n<text text-anchor=\"middle\" x=\"6268.5\" y=\"-498.8\" font-family=\"Helvetica,sans-Serif\" font-size=\"14.00\">samples = 18.4%</text>\n<text text-anchor=\"middle\" x=\"6268.5\" y=\"-483.8\" font-family=\"Helvetica,sans-Serif\" font-size=\"14.00\">value = [0.029, 0.971]</text>\n<text text-anchor=\"middle\" x=\"6268.5\" y=\"-468.8\" font-family=\"Helvetica,sans-Serif\" font-size=\"14.00\">class = True</text>\n</g>\n<!-- 50&#45;&gt;82 -->\n<g id=\"edge82\" class=\"edge\">\n<title>50&#45;&gt;82</title>\n<path fill=\"none\" stroke=\"black\" d=\"M4290.14,-616.3C4606.48,-598.26 5849.25,-527.4 6184.68,-508.28\"/>\n<polygon fill=\"black\" stroke=\"black\" points=\"6185.03,-511.76 6194.82,-507.7 6184.63,-504.78 6185.03,-511.76\"/>\n</g>\n<!-- 52 -->\n<g id=\"node53\" class=\"node\">\n<title>52</title>\n<polygon fill=\"#dfeffb\" stroke=\"black\" points=\"4053,-425 3906,-425 3906,-342 4053,-342 4053,-425\"/>\n<text text-anchor=\"middle\" x=\"3979.5\" y=\"-409.8\" font-family=\"Helvetica,sans-Serif\" font-size=\"14.00\">clarity &lt;= 2.5</text>\n<text text-anchor=\"middle\" x=\"3979.5\" y=\"-394.8\" font-family=\"Helvetica,sans-Serif\" font-size=\"14.00\">gini = 0.496</text>\n<text text-anchor=\"middle\" x=\"3979.5\" y=\"-379.8\" font-family=\"Helvetica,sans-Serif\" font-size=\"14.00\">samples = 10.7%</text>\n<text text-anchor=\"middle\" x=\"3979.5\" y=\"-364.8\" font-family=\"Helvetica,sans-Serif\" font-size=\"14.00\">value = [0.456, 0.544]</text>\n<text text-anchor=\"middle\" x=\"3979.5\" y=\"-349.8\" font-family=\"Helvetica,sans-Serif\" font-size=\"14.00\">class = True</text>\n</g>\n<!-- 51&#45;&gt;52 -->\n<g id=\"edge52\" class=\"edge\">\n<title>51&#45;&gt;52</title>\n<path fill=\"none\" stroke=\"black\" d=\"M4142.81,-465.12C4117.29,-452.52 4088.51,-438.31 4062.3,-425.37\"/>\n<polygon fill=\"black\" stroke=\"black\" points=\"4063.66,-422.14 4053.14,-420.86 4060.56,-428.42 4063.66,-422.14\"/>\n</g>\n<!-- 67 -->\n<g id=\"node68\" class=\"node\">\n<title>67</title>\n<polygon fill=\"#4da7e8\" stroke=\"black\" points=\"4691.5,-425 4559.5,-425 4559.5,-342 4691.5,-342 4691.5,-425\"/>\n<text text-anchor=\"middle\" x=\"4625.5\" y=\"-409.8\" font-family=\"Helvetica,sans-Serif\" font-size=\"14.00\">color &lt;= 4.5</text>\n<text text-anchor=\"middle\" x=\"4625.5\" y=\"-394.8\" font-family=\"Helvetica,sans-Serif\" font-size=\"14.00\">gini = 0.163</text>\n<text text-anchor=\"middle\" x=\"4625.5\" y=\"-379.8\" font-family=\"Helvetica,sans-Serif\" font-size=\"14.00\">samples = 6.2%</text>\n<text text-anchor=\"middle\" x=\"4625.5\" y=\"-364.8\" font-family=\"Helvetica,sans-Serif\" font-size=\"14.00\">value = [0.09, 0.91]</text>\n<text text-anchor=\"middle\" x=\"4625.5\" y=\"-349.8\" font-family=\"Helvetica,sans-Serif\" font-size=\"14.00\">class = True</text>\n</g>\n<!-- 51&#45;&gt;67 -->\n<g id=\"edge67\" class=\"edge\">\n<title>51&#45;&gt;67</title>\n<path fill=\"none\" stroke=\"black\" d=\"M4290.09,-480.45C4363.39,-459.48 4475.39,-427.44 4549.51,-406.24\"/>\n<polygon fill=\"black\" stroke=\"black\" points=\"4550.61,-409.56 4559.26,-403.45 4548.68,-402.83 4550.61,-409.56\"/>\n</g>\n<!-- 53 -->\n<g id=\"node54\" class=\"node\">\n<title>53</title>\n<polygon fill=\"#3b9ee5\" stroke=\"black\" points=\"3604,-306 3457,-306 3457,-223 3604,-223 3604,-306\"/>\n<text text-anchor=\"middle\" x=\"3530.5\" y=\"-290.8\" font-family=\"Helvetica,sans-Serif\" font-size=\"14.00\">y &lt;= 6.235</text>\n<text text-anchor=\"middle\" x=\"3530.5\" y=\"-275.8\" font-family=\"Helvetica,sans-Serif\" font-size=\"14.00\">gini = 0.018</text>\n<text text-anchor=\"middle\" x=\"3530.5\" y=\"-260.8\" font-family=\"Helvetica,sans-Serif\" font-size=\"14.00\">samples = 1.4%</text>\n<text text-anchor=\"middle\" x=\"3530.5\" y=\"-245.8\" font-family=\"Helvetica,sans-Serif\" font-size=\"14.00\">value = [0.009, 0.991]</text>\n<text text-anchor=\"middle\" x=\"3530.5\" y=\"-230.8\" font-family=\"Helvetica,sans-Serif\" font-size=\"14.00\">class = True</text>\n</g>\n<!-- 52&#45;&gt;53 -->\n<g id=\"edge53\" class=\"edge\">\n<title>52&#45;&gt;53</title>\n<path fill=\"none\" stroke=\"black\" d=\"M3905.86,-363.31C3825.69,-342.42 3697.75,-309.08 3613.92,-287.24\"/>\n<polygon fill=\"black\" stroke=\"black\" points=\"3614.74,-283.83 3604.18,-284.7 3612.97,-290.61 3614.74,-283.83\"/>\n</g>\n<!-- 60 -->\n<g id=\"node61\" class=\"node\">\n<title>60</title>\n<polygon fill=\"#f6d5bd\" stroke=\"black\" points=\"4053,-306 3906,-306 3906,-223 4053,-223 4053,-306\"/>\n<text text-anchor=\"middle\" x=\"3979.5\" y=\"-290.8\" font-family=\"Helvetica,sans-Serif\" font-size=\"14.00\">clarity &lt;= 3.5</text>\n<text text-anchor=\"middle\" x=\"3979.5\" y=\"-275.8\" font-family=\"Helvetica,sans-Serif\" font-size=\"14.00\">gini = 0.48</text>\n<text text-anchor=\"middle\" x=\"3979.5\" y=\"-260.8\" font-family=\"Helvetica,sans-Serif\" font-size=\"14.00\">samples = 9.3%</text>\n<text text-anchor=\"middle\" x=\"3979.5\" y=\"-245.8\" font-family=\"Helvetica,sans-Serif\" font-size=\"14.00\">value = [0.601, 0.399]</text>\n<text text-anchor=\"middle\" x=\"3979.5\" y=\"-230.8\" font-family=\"Helvetica,sans-Serif\" font-size=\"14.00\">class = False</text>\n</g>\n<!-- 52&#45;&gt;60 -->\n<g id=\"edge60\" class=\"edge\">\n<title>52&#45;&gt;60</title>\n<path fill=\"none\" stroke=\"black\" d=\"M3979.5,-341.91C3979.5,-333.65 3979.5,-324.86 3979.5,-316.3\"/>\n<polygon fill=\"black\" stroke=\"black\" points=\"3983,-316.02 3979.5,-306.02 3976,-316.02 3983,-316.02\"/>\n</g>\n<!-- 54 -->\n<g id=\"node55\" class=\"node\">\n<title>54</title>\n<polygon fill=\"#f9e0ce\" stroke=\"black\" points=\"3379,-187 3232,-187 3232,-104 3379,-104 3379,-187\"/>\n<text text-anchor=\"middle\" x=\"3305.5\" y=\"-171.8\" font-family=\"Helvetica,sans-Serif\" font-size=\"14.00\">y &lt;= 6.21</text>\n<text text-anchor=\"middle\" x=\"3305.5\" y=\"-156.8\" font-family=\"Helvetica,sans-Serif\" font-size=\"14.00\">gini = 0.49</text>\n<text text-anchor=\"middle\" x=\"3305.5\" y=\"-141.8\" font-family=\"Helvetica,sans-Serif\" font-size=\"14.00\">samples = 0.0%</text>\n<text text-anchor=\"middle\" x=\"3305.5\" y=\"-126.8\" font-family=\"Helvetica,sans-Serif\" font-size=\"14.00\">value = [0.571, 0.429]</text>\n<text text-anchor=\"middle\" x=\"3305.5\" y=\"-111.8\" font-family=\"Helvetica,sans-Serif\" font-size=\"14.00\">class = False</text>\n</g>\n<!-- 53&#45;&gt;54 -->\n<g id=\"edge54\" class=\"edge\">\n<title>53&#45;&gt;54</title>\n<path fill=\"none\" stroke=\"black\" d=\"M3456.83,-225.19C3434.97,-213.83 3410.89,-201.3 3388.49,-189.66\"/>\n<polygon fill=\"black\" stroke=\"black\" points=\"3389.83,-186.4 3379.34,-184.9 3386.6,-192.62 3389.83,-186.4\"/>\n</g>\n<!-- 57 -->\n<g id=\"node58\" class=\"node\">\n<title>57</title>\n<polygon fill=\"#3a9ee5\" stroke=\"black\" points=\"3604,-187 3457,-187 3457,-104 3604,-104 3604,-187\"/>\n<text text-anchor=\"middle\" x=\"3530.5\" y=\"-171.8\" font-family=\"Helvetica,sans-Serif\" font-size=\"14.00\">color &lt;= 4.5</text>\n<text text-anchor=\"middle\" x=\"3530.5\" y=\"-156.8\" font-family=\"Helvetica,sans-Serif\" font-size=\"14.00\">gini = 0.013</text>\n<text text-anchor=\"middle\" x=\"3530.5\" y=\"-141.8\" font-family=\"Helvetica,sans-Serif\" font-size=\"14.00\">samples = 1.4%</text>\n<text text-anchor=\"middle\" x=\"3530.5\" y=\"-126.8\" font-family=\"Helvetica,sans-Serif\" font-size=\"14.00\">value = [0.007, 0.993]</text>\n<text text-anchor=\"middle\" x=\"3530.5\" y=\"-111.8\" font-family=\"Helvetica,sans-Serif\" font-size=\"14.00\">class = True</text>\n</g>\n<!-- 53&#45;&gt;57 -->\n<g id=\"edge57\" class=\"edge\">\n<title>53&#45;&gt;57</title>\n<path fill=\"none\" stroke=\"black\" d=\"M3530.5,-222.91C3530.5,-214.65 3530.5,-205.86 3530.5,-197.3\"/>\n<polygon fill=\"black\" stroke=\"black\" points=\"3534,-197.02 3530.5,-187.02 3527,-197.02 3534,-197.02\"/>\n</g>\n<!-- 55 -->\n<g id=\"node56\" class=\"node\">\n<title>55</title>\n<polygon fill=\"#7bbeee\" stroke=\"black\" points=\"3228.5,-68 3096.5,-68 3096.5,0 3228.5,0 3228.5,-68\"/>\n<text text-anchor=\"middle\" x=\"3162.5\" y=\"-52.8\" font-family=\"Helvetica,sans-Serif\" font-size=\"14.00\">gini = 0.375</text>\n<text text-anchor=\"middle\" x=\"3162.5\" y=\"-37.8\" font-family=\"Helvetica,sans-Serif\" font-size=\"14.00\">samples = 0.0%</text>\n<text text-anchor=\"middle\" x=\"3162.5\" y=\"-22.8\" font-family=\"Helvetica,sans-Serif\" font-size=\"14.00\">value = [0.25, 0.75]</text>\n<text text-anchor=\"middle\" x=\"3162.5\" y=\"-7.8\" font-family=\"Helvetica,sans-Serif\" font-size=\"14.00\">class = True</text>\n</g>\n<!-- 54&#45;&gt;55 -->\n<g id=\"edge55\" class=\"edge\">\n<title>54&#45;&gt;55</title>\n<path fill=\"none\" stroke=\"black\" d=\"M3252.25,-103.73C3239.75,-94.15 3226.44,-83.96 3214.01,-74.44\"/>\n<polygon fill=\"black\" stroke=\"black\" points=\"3216.05,-71.6 3205.99,-68.3 3211.8,-77.16 3216.05,-71.6\"/>\n</g>\n<!-- 56 -->\n<g id=\"node57\" class=\"node\">\n<title>56</title>\n<polygon fill=\"#e58139\" stroke=\"black\" points=\"3364,-68 3247,-68 3247,0 3364,0 3364,-68\"/>\n<text text-anchor=\"middle\" x=\"3305.5\" y=\"-52.8\" font-family=\"Helvetica,sans-Serif\" font-size=\"14.00\">gini = &#45;0.0</text>\n<text text-anchor=\"middle\" x=\"3305.5\" y=\"-37.8\" font-family=\"Helvetica,sans-Serif\" font-size=\"14.00\">samples = 0.0%</text>\n<text text-anchor=\"middle\" x=\"3305.5\" y=\"-22.8\" font-family=\"Helvetica,sans-Serif\" font-size=\"14.00\">value = [1.0, 0.0]</text>\n<text text-anchor=\"middle\" x=\"3305.5\" y=\"-7.8\" font-family=\"Helvetica,sans-Serif\" font-size=\"14.00\">class = False</text>\n</g>\n<!-- 54&#45;&gt;56 -->\n<g id=\"edge56\" class=\"edge\">\n<title>54&#45;&gt;56</title>\n<path fill=\"none\" stroke=\"black\" d=\"M3305.5,-103.73C3305.5,-95.52 3305.5,-86.86 3305.5,-78.56\"/>\n<polygon fill=\"black\" stroke=\"black\" points=\"3309,-78.3 3305.5,-68.3 3302,-78.3 3309,-78.3\"/>\n</g>\n<!-- 58 -->\n<g id=\"node59\" class=\"node\">\n<title>58</title>\n<polygon fill=\"#399de5\" stroke=\"black\" points=\"3499,-68 3382,-68 3382,0 3499,0 3499,-68\"/>\n<text text-anchor=\"middle\" x=\"3440.5\" y=\"-52.8\" font-family=\"Helvetica,sans-Serif\" font-size=\"14.00\">gini = 0.0</text>\n<text text-anchor=\"middle\" x=\"3440.5\" y=\"-37.8\" font-family=\"Helvetica,sans-Serif\" font-size=\"14.00\">samples = 1.3%</text>\n<text text-anchor=\"middle\" x=\"3440.5\" y=\"-22.8\" font-family=\"Helvetica,sans-Serif\" font-size=\"14.00\">value = [0.0, 1.0]</text>\n<text text-anchor=\"middle\" x=\"3440.5\" y=\"-7.8\" font-family=\"Helvetica,sans-Serif\" font-size=\"14.00\">class = True</text>\n</g>\n<!-- 57&#45;&gt;58 -->\n<g id=\"edge58\" class=\"edge\">\n<title>57&#45;&gt;58</title>\n<path fill=\"none\" stroke=\"black\" d=\"M3496.99,-103.73C3489.57,-94.7 3481.7,-85.12 3474.27,-76.08\"/>\n<polygon fill=\"black\" stroke=\"black\" points=\"3476.92,-73.8 3467.87,-68.3 3471.52,-78.25 3476.92,-73.8\"/>\n</g>\n<!-- 59 -->\n<g id=\"node60\" class=\"node\">\n<title>59</title>\n<polygon fill=\"#4da7e8\" stroke=\"black\" points=\"3664,-68 3517,-68 3517,0 3664,0 3664,-68\"/>\n<text text-anchor=\"middle\" x=\"3590.5\" y=\"-52.8\" font-family=\"Helvetica,sans-Serif\" font-size=\"14.00\">gini = 0.165</text>\n<text text-anchor=\"middle\" x=\"3590.5\" y=\"-37.8\" font-family=\"Helvetica,sans-Serif\" font-size=\"14.00\">samples = 0.1%</text>\n<text text-anchor=\"middle\" x=\"3590.5\" y=\"-22.8\" font-family=\"Helvetica,sans-Serif\" font-size=\"14.00\">value = [0.091, 0.909]</text>\n<text text-anchor=\"middle\" x=\"3590.5\" y=\"-7.8\" font-family=\"Helvetica,sans-Serif\" font-size=\"14.00\">class = True</text>\n</g>\n<!-- 57&#45;&gt;59 -->\n<g id=\"edge59\" class=\"edge\">\n<title>57&#45;&gt;59</title>\n<path fill=\"none\" stroke=\"black\" d=\"M3552.84,-103.73C3557.59,-95.06 3562.61,-85.9 3567.39,-77.18\"/>\n<polygon fill=\"black\" stroke=\"black\" points=\"3570.52,-78.75 3572.25,-68.3 3564.38,-75.39 3570.52,-78.75\"/>\n</g>\n<!-- 61 -->\n<g id=\"node62\" class=\"node\">\n<title>61</title>\n<polygon fill=\"#e89050\" stroke=\"black\" points=\"3971,-187 3824,-187 3824,-104 3971,-104 3971,-187\"/>\n<text text-anchor=\"middle\" x=\"3897.5\" y=\"-171.8\" font-family=\"Helvetica,sans-Serif\" font-size=\"14.00\">carat &lt;= 1.095</text>\n<text text-anchor=\"middle\" x=\"3897.5\" y=\"-156.8\" font-family=\"Helvetica,sans-Serif\" font-size=\"14.00\">gini = 0.188</text>\n<text text-anchor=\"middle\" x=\"3897.5\" y=\"-141.8\" font-family=\"Helvetica,sans-Serif\" font-size=\"14.00\">samples = 4.6%</text>\n<text text-anchor=\"middle\" x=\"3897.5\" y=\"-126.8\" font-family=\"Helvetica,sans-Serif\" font-size=\"14.00\">value = [0.895, 0.105]</text>\n<text text-anchor=\"middle\" x=\"3897.5\" y=\"-111.8\" font-family=\"Helvetica,sans-Serif\" font-size=\"14.00\">class = False</text>\n</g>\n<!-- 60&#45;&gt;61 -->\n<g id=\"edge61\" class=\"edge\">\n<title>60&#45;&gt;61</title>\n<path fill=\"none\" stroke=\"black\" d=\"M3951.05,-222.91C3944.82,-214.01 3938.16,-204.51 3931.72,-195.33\"/>\n<polygon fill=\"black\" stroke=\"black\" points=\"3934.5,-193.2 3925.9,-187.02 3928.77,-197.22 3934.5,-193.2\"/>\n</g>\n<!-- 64 -->\n<g id=\"node65\" class=\"node\">\n<title>64</title>\n<polygon fill=\"#c4e2f7\" stroke=\"black\" points=\"4136,-187 3989,-187 3989,-104 4136,-104 4136,-187\"/>\n<text text-anchor=\"middle\" x=\"4062.5\" y=\"-171.8\" font-family=\"Helvetica,sans-Serif\" font-size=\"14.00\">color &lt;= 4.5</text>\n<text text-anchor=\"middle\" x=\"4062.5\" y=\"-156.8\" font-family=\"Helvetica,sans-Serif\" font-size=\"14.00\">gini = 0.485</text>\n<text text-anchor=\"middle\" x=\"4062.5\" y=\"-141.8\" font-family=\"Helvetica,sans-Serif\" font-size=\"14.00\">samples = 4.7%</text>\n<text text-anchor=\"middle\" x=\"4062.5\" y=\"-126.8\" font-family=\"Helvetica,sans-Serif\" font-size=\"14.00\">value = [0.413, 0.587]</text>\n<text text-anchor=\"middle\" x=\"4062.5\" y=\"-111.8\" font-family=\"Helvetica,sans-Serif\" font-size=\"14.00\">class = True</text>\n</g>\n<!-- 60&#45;&gt;64 -->\n<g id=\"edge64\" class=\"edge\">\n<title>60&#45;&gt;64</title>\n<path fill=\"none\" stroke=\"black\" d=\"M4008.3,-222.91C4014.61,-214.01 4021.35,-204.51 4027.86,-195.33\"/>\n<polygon fill=\"black\" stroke=\"black\" points=\"4030.82,-197.2 4033.75,-187.02 4025.11,-193.15 4030.82,-197.2\"/>\n</g>\n<!-- 62 -->\n<g id=\"node63\" class=\"node\">\n<title>62</title>\n<polygon fill=\"#e68641\" stroke=\"black\" points=\"3829,-68 3682,-68 3682,0 3829,0 3829,-68\"/>\n<text text-anchor=\"middle\" x=\"3755.5\" y=\"-52.8\" font-family=\"Helvetica,sans-Serif\" font-size=\"14.00\">gini = 0.076</text>\n<text text-anchor=\"middle\" x=\"3755.5\" y=\"-37.8\" font-family=\"Helvetica,sans-Serif\" font-size=\"14.00\">samples = 3.6%</text>\n<text text-anchor=\"middle\" x=\"3755.5\" y=\"-22.8\" font-family=\"Helvetica,sans-Serif\" font-size=\"14.00\">value = [0.961, 0.039]</text>\n<text text-anchor=\"middle\" x=\"3755.5\" y=\"-7.8\" font-family=\"Helvetica,sans-Serif\" font-size=\"14.00\">class = False</text>\n</g>\n<!-- 61&#45;&gt;62 -->\n<g id=\"edge62\" class=\"edge\">\n<title>61&#45;&gt;62</title>\n<path fill=\"none\" stroke=\"black\" d=\"M3844.62,-103.73C3832.21,-94.15 3818.99,-83.96 3806.65,-74.44\"/>\n<polygon fill=\"black\" stroke=\"black\" points=\"3808.74,-71.63 3798.68,-68.3 3804.46,-77.18 3808.74,-71.63\"/>\n</g>\n<!-- 63 -->\n<g id=\"node64\" class=\"node\">\n<title>63</title>\n<polygon fill=\"#f0b78e\" stroke=\"black\" points=\"3964,-68 3847,-68 3847,0 3964,0 3964,-68\"/>\n<text text-anchor=\"middle\" x=\"3905.5\" y=\"-52.8\" font-family=\"Helvetica,sans-Serif\" font-size=\"14.00\">gini = 0.42</text>\n<text text-anchor=\"middle\" x=\"3905.5\" y=\"-37.8\" font-family=\"Helvetica,sans-Serif\" font-size=\"14.00\">samples = 1.0%</text>\n<text text-anchor=\"middle\" x=\"3905.5\" y=\"-22.8\" font-family=\"Helvetica,sans-Serif\" font-size=\"14.00\">value = [0.7, 0.3]</text>\n<text text-anchor=\"middle\" x=\"3905.5\" y=\"-7.8\" font-family=\"Helvetica,sans-Serif\" font-size=\"14.00\">class = False</text>\n</g>\n<!-- 61&#45;&gt;63 -->\n<g id=\"edge63\" class=\"edge\">\n<title>61&#45;&gt;63</title>\n<path fill=\"none\" stroke=\"black\" d=\"M3900.48,-103.73C3901.09,-95.43 3901.73,-86.67 3902.34,-78.28\"/>\n<polygon fill=\"black\" stroke=\"black\" points=\"3905.83,-78.53 3903.07,-68.3 3898.85,-78.02 3905.83,-78.53\"/>\n</g>\n<!-- 65 -->\n<g id=\"node66\" class=\"node\">\n<title>65</title>\n<polygon fill=\"#8bc5f0\" stroke=\"black\" points=\"4129,-68 3982,-68 3982,0 4129,0 4129,-68\"/>\n<text text-anchor=\"middle\" x=\"4055.5\" y=\"-52.8\" font-family=\"Helvetica,sans-Serif\" font-size=\"14.00\">gini = 0.414</text>\n<text text-anchor=\"middle\" x=\"4055.5\" y=\"-37.8\" font-family=\"Helvetica,sans-Serif\" font-size=\"14.00\">samples = 2.8%</text>\n<text text-anchor=\"middle\" x=\"4055.5\" y=\"-22.8\" font-family=\"Helvetica,sans-Serif\" font-size=\"14.00\">value = [0.292, 0.708]</text>\n<text text-anchor=\"middle\" x=\"4055.5\" y=\"-7.8\" font-family=\"Helvetica,sans-Serif\" font-size=\"14.00\">class = True</text>\n</g>\n<!-- 64&#45;&gt;65 -->\n<g id=\"edge65\" class=\"edge\">\n<title>64&#45;&gt;65</title>\n<path fill=\"none\" stroke=\"black\" d=\"M4059.89,-103.73C4059.36,-95.43 4058.8,-86.67 4058.27,-78.28\"/>\n<polygon fill=\"black\" stroke=\"black\" points=\"4061.76,-78.06 4057.63,-68.3 4054.77,-78.5 4061.76,-78.06\"/>\n</g>\n<!-- 66 -->\n<g id=\"node67\" class=\"node\">\n<title>66</title>\n<polygon fill=\"#f2bf9a\" stroke=\"black\" points=\"4294,-68 4147,-68 4147,0 4294,0 4294,-68\"/>\n<text text-anchor=\"middle\" x=\"4220.5\" y=\"-52.8\" font-family=\"Helvetica,sans-Serif\" font-size=\"14.00\">gini = 0.441</text>\n<text text-anchor=\"middle\" x=\"4220.5\" y=\"-37.8\" font-family=\"Helvetica,sans-Serif\" font-size=\"14.00\">samples = 1.9%</text>\n<text text-anchor=\"middle\" x=\"4220.5\" y=\"-22.8\" font-family=\"Helvetica,sans-Serif\" font-size=\"14.00\">value = [0.672, 0.328]</text>\n<text text-anchor=\"middle\" x=\"4220.5\" y=\"-7.8\" font-family=\"Helvetica,sans-Serif\" font-size=\"14.00\">class = False</text>\n</g>\n<!-- 64&#45;&gt;66 -->\n<g id=\"edge66\" class=\"edge\">\n<title>64&#45;&gt;66</title>\n<path fill=\"none\" stroke=\"black\" d=\"M4121.33,-103.73C4135.36,-94.01 4150.29,-83.66 4164.19,-74.02\"/>\n<polygon fill=\"black\" stroke=\"black\" points=\"4166.48,-76.7 4172.7,-68.13 4162.49,-70.94 4166.48,-76.7\"/>\n</g>\n<!-- 68 -->\n<g id=\"node69\" class=\"node\">\n<title>68</title>\n<polygon fill=\"#3fa0e6\" stroke=\"black\" points=\"4699,-306 4552,-306 4552,-223 4699,-223 4699,-306\"/>\n<text text-anchor=\"middle\" x=\"4625.5\" y=\"-290.8\" font-family=\"Helvetica,sans-Serif\" font-size=\"14.00\">clarity &lt;= 6.5</text>\n<text text-anchor=\"middle\" x=\"4625.5\" y=\"-275.8\" font-family=\"Helvetica,sans-Serif\" font-size=\"14.00\">gini = 0.054</text>\n<text text-anchor=\"middle\" x=\"4625.5\" y=\"-260.8\" font-family=\"Helvetica,sans-Serif\" font-size=\"14.00\">samples = 4.6%</text>\n<text text-anchor=\"middle\" x=\"4625.5\" y=\"-245.8\" font-family=\"Helvetica,sans-Serif\" font-size=\"14.00\">value = [0.028, 0.972]</text>\n<text text-anchor=\"middle\" x=\"4625.5\" y=\"-230.8\" font-family=\"Helvetica,sans-Serif\" font-size=\"14.00\">class = True</text>\n</g>\n<!-- 67&#45;&gt;68 -->\n<g id=\"edge68\" class=\"edge\">\n<title>67&#45;&gt;68</title>\n<path fill=\"none\" stroke=\"black\" d=\"M4625.5,-341.91C4625.5,-333.65 4625.5,-324.86 4625.5,-316.3\"/>\n<polygon fill=\"black\" stroke=\"black\" points=\"4629,-316.02 4625.5,-306.02 4622,-316.02 4629,-316.02\"/>\n</g>\n<!-- 75 -->\n<g id=\"node76\" class=\"node\">\n<title>75</title>\n<polygon fill=\"#b1d8f5\" stroke=\"black\" points=\"5141,-306 4994,-306 4994,-223 5141,-223 5141,-306\"/>\n<text text-anchor=\"middle\" x=\"5067.5\" y=\"-290.8\" font-family=\"Helvetica,sans-Serif\" font-size=\"14.00\">color &lt;= 6.5</text>\n<text text-anchor=\"middle\" x=\"5067.5\" y=\"-275.8\" font-family=\"Helvetica,sans-Serif\" font-size=\"14.00\">gini = 0.47</text>\n<text text-anchor=\"middle\" x=\"5067.5\" y=\"-260.8\" font-family=\"Helvetica,sans-Serif\" font-size=\"14.00\">samples = 1.6%</text>\n<text text-anchor=\"middle\" x=\"5067.5\" y=\"-245.8\" font-family=\"Helvetica,sans-Serif\" font-size=\"14.00\">value = [0.377, 0.623]</text>\n<text text-anchor=\"middle\" x=\"5067.5\" y=\"-230.8\" font-family=\"Helvetica,sans-Serif\" font-size=\"14.00\">class = True</text>\n</g>\n<!-- 67&#45;&gt;75 -->\n<g id=\"edge75\" class=\"edge\">\n<title>67&#45;&gt;75</title>\n<path fill=\"none\" stroke=\"black\" d=\"M4691.67,-364.98C4769.62,-344.35 4899.22,-310.04 4984.01,-287.6\"/>\n<polygon fill=\"black\" stroke=\"black\" points=\"4985.09,-290.93 4993.86,-284.99 4983.3,-284.17 4985.09,-290.93\"/>\n</g>\n<!-- 69 -->\n<g id=\"node70\" class=\"node\">\n<title>69</title>\n<polygon fill=\"#3b9ee5\" stroke=\"black\" points=\"4612.5,-187 4480.5,-187 4480.5,-104 4612.5,-104 4612.5,-187\"/>\n<text text-anchor=\"middle\" x=\"4546.5\" y=\"-171.8\" font-family=\"Helvetica,sans-Serif\" font-size=\"14.00\">y &lt;= 6.205</text>\n<text text-anchor=\"middle\" x=\"4546.5\" y=\"-156.8\" font-family=\"Helvetica,sans-Serif\" font-size=\"14.00\">gini = 0.02</text>\n<text text-anchor=\"middle\" x=\"4546.5\" y=\"-141.8\" font-family=\"Helvetica,sans-Serif\" font-size=\"14.00\">samples = 3.9%</text>\n<text text-anchor=\"middle\" x=\"4546.5\" y=\"-126.8\" font-family=\"Helvetica,sans-Serif\" font-size=\"14.00\">value = [0.01, 0.99]</text>\n<text text-anchor=\"middle\" x=\"4546.5\" y=\"-111.8\" font-family=\"Helvetica,sans-Serif\" font-size=\"14.00\">class = True</text>\n</g>\n<!-- 68&#45;&gt;69 -->\n<g id=\"edge69\" class=\"edge\">\n<title>68&#45;&gt;69</title>\n<path fill=\"none\" stroke=\"black\" d=\"M4598.09,-222.91C4592.09,-214.01 4585.67,-204.51 4579.47,-195.33\"/>\n<polygon fill=\"black\" stroke=\"black\" points=\"4582.36,-193.35 4573.86,-187.02 4576.56,-197.27 4582.36,-193.35\"/>\n</g>\n<!-- 72 -->\n<g id=\"node73\" class=\"node\">\n<title>72</title>\n<polygon fill=\"#61b1ea\" stroke=\"black\" points=\"4778,-187 4631,-187 4631,-104 4778,-104 4778,-187\"/>\n<text text-anchor=\"middle\" x=\"4704.5\" y=\"-171.8\" font-family=\"Helvetica,sans-Serif\" font-size=\"14.00\">clarity &lt;= 7.5</text>\n<text text-anchor=\"middle\" x=\"4704.5\" y=\"-156.8\" font-family=\"Helvetica,sans-Serif\" font-size=\"14.00\">gini = 0.279</text>\n<text text-anchor=\"middle\" x=\"4704.5\" y=\"-141.8\" font-family=\"Helvetica,sans-Serif\" font-size=\"14.00\">samples = 0.6%</text>\n<text text-anchor=\"middle\" x=\"4704.5\" y=\"-126.8\" font-family=\"Helvetica,sans-Serif\" font-size=\"14.00\">value = [0.168, 0.832]</text>\n<text text-anchor=\"middle\" x=\"4704.5\" y=\"-111.8\" font-family=\"Helvetica,sans-Serif\" font-size=\"14.00\">class = True</text>\n</g>\n<!-- 68&#45;&gt;72 -->\n<g id=\"edge72\" class=\"edge\">\n<title>68&#45;&gt;72</title>\n<path fill=\"none\" stroke=\"black\" d=\"M4652.91,-222.91C4658.91,-214.01 4665.33,-204.51 4671.53,-195.33\"/>\n<polygon fill=\"black\" stroke=\"black\" points=\"4674.44,-197.27 4677.14,-187.02 4668.64,-193.35 4674.44,-197.27\"/>\n</g>\n<!-- 70 -->\n<g id=\"node71\" class=\"node\">\n<title>70</title>\n<polygon fill=\"#80c0ee\" stroke=\"black\" points=\"4459,-68 4312,-68 4312,0 4459,0 4459,-68\"/>\n<text text-anchor=\"middle\" x=\"4385.5\" y=\"-52.8\" font-family=\"Helvetica,sans-Serif\" font-size=\"14.00\">gini = 0.388</text>\n<text text-anchor=\"middle\" x=\"4385.5\" y=\"-37.8\" font-family=\"Helvetica,sans-Serif\" font-size=\"14.00\">samples = 0.1%</text>\n<text text-anchor=\"middle\" x=\"4385.5\" y=\"-22.8\" font-family=\"Helvetica,sans-Serif\" font-size=\"14.00\">value = [0.263, 0.737]</text>\n<text text-anchor=\"middle\" x=\"4385.5\" y=\"-7.8\" font-family=\"Helvetica,sans-Serif\" font-size=\"14.00\">class = True</text>\n</g>\n<!-- 69&#45;&gt;70 -->\n<g id=\"edge70\" class=\"edge\">\n<title>69&#45;&gt;70</title>\n<path fill=\"none\" stroke=\"black\" d=\"M4486.55,-103.73C4472.13,-93.92 4456.76,-83.46 4442.47,-73.75\"/>\n<polygon fill=\"black\" stroke=\"black\" points=\"4444.44,-70.85 4434.2,-68.13 4440.51,-76.64 4444.44,-70.85\"/>\n</g>\n<!-- 71 -->\n<g id=\"node72\" class=\"node\">\n<title>71</title>\n<polygon fill=\"#3a9ee5\" stroke=\"black\" points=\"4624,-68 4477,-68 4477,0 4624,0 4624,-68\"/>\n<text text-anchor=\"middle\" x=\"4550.5\" y=\"-52.8\" font-family=\"Helvetica,sans-Serif\" font-size=\"14.00\">gini = 0.014</text>\n<text text-anchor=\"middle\" x=\"4550.5\" y=\"-37.8\" font-family=\"Helvetica,sans-Serif\" font-size=\"14.00\">samples = 3.8%</text>\n<text text-anchor=\"middle\" x=\"4550.5\" y=\"-22.8\" font-family=\"Helvetica,sans-Serif\" font-size=\"14.00\">value = [0.007, 0.993]</text>\n<text text-anchor=\"middle\" x=\"4550.5\" y=\"-7.8\" font-family=\"Helvetica,sans-Serif\" font-size=\"14.00\">class = True</text>\n</g>\n<!-- 69&#45;&gt;71 -->\n<g id=\"edge71\" class=\"edge\">\n<title>69&#45;&gt;71</title>\n<path fill=\"none\" stroke=\"black\" d=\"M4547.99,-103.73C4548.29,-95.52 4548.61,-86.86 4548.91,-78.56\"/>\n<polygon fill=\"black\" stroke=\"black\" points=\"4552.42,-78.42 4549.28,-68.3 4545.42,-78.17 4552.42,-78.42\"/>\n</g>\n<!-- 73 -->\n<g id=\"node74\" class=\"node\">\n<title>73</title>\n<polygon fill=\"#e58139\" stroke=\"black\" points=\"4759,-68 4642,-68 4642,0 4759,0 4759,-68\"/>\n<text text-anchor=\"middle\" x=\"4700.5\" y=\"-52.8\" font-family=\"Helvetica,sans-Serif\" font-size=\"14.00\">gini = 0.0</text>\n<text text-anchor=\"middle\" x=\"4700.5\" y=\"-37.8\" font-family=\"Helvetica,sans-Serif\" font-size=\"14.00\">samples = 0.2%</text>\n<text text-anchor=\"middle\" x=\"4700.5\" y=\"-22.8\" font-family=\"Helvetica,sans-Serif\" font-size=\"14.00\">value = [1.0, 0.0]</text>\n<text text-anchor=\"middle\" x=\"4700.5\" y=\"-7.8\" font-family=\"Helvetica,sans-Serif\" font-size=\"14.00\">class = False</text>\n</g>\n<!-- 72&#45;&gt;73 -->\n<g id=\"edge73\" class=\"edge\">\n<title>72&#45;&gt;73</title>\n<path fill=\"none\" stroke=\"black\" d=\"M4703.01,-103.73C4702.71,-95.52 4702.39,-86.86 4702.09,-78.56\"/>\n<polygon fill=\"black\" stroke=\"black\" points=\"4705.58,-78.17 4701.72,-68.3 4698.58,-78.42 4705.58,-78.17\"/>\n</g>\n<!-- 74 -->\n<g id=\"node75\" class=\"node\">\n<title>74</title>\n<polygon fill=\"#399de5\" stroke=\"black\" points=\"4894,-68 4777,-68 4777,0 4894,0 4894,-68\"/>\n<text text-anchor=\"middle\" x=\"4835.5\" y=\"-52.8\" font-family=\"Helvetica,sans-Serif\" font-size=\"14.00\">gini = 0.0</text>\n<text text-anchor=\"middle\" x=\"4835.5\" y=\"-37.8\" font-family=\"Helvetica,sans-Serif\" font-size=\"14.00\">samples = 0.4%</text>\n<text text-anchor=\"middle\" x=\"4835.5\" y=\"-22.8\" font-family=\"Helvetica,sans-Serif\" font-size=\"14.00\">value = [0.0, 1.0]</text>\n<text text-anchor=\"middle\" x=\"4835.5\" y=\"-7.8\" font-family=\"Helvetica,sans-Serif\" font-size=\"14.00\">class = True</text>\n</g>\n<!-- 72&#45;&gt;74 -->\n<g id=\"edge74\" class=\"edge\">\n<title>72&#45;&gt;74</title>\n<path fill=\"none\" stroke=\"black\" d=\"M4753.28,-103.73C4764.63,-94.24 4776.69,-84.16 4787.99,-74.72\"/>\n<polygon fill=\"black\" stroke=\"black\" points=\"4790.23,-77.4 4795.66,-68.3 4785.74,-72.03 4790.23,-77.4\"/>\n</g>\n<!-- 76 -->\n<g id=\"node77\" class=\"node\">\n<title>76</title>\n<polygon fill=\"#f6d2b9\" stroke=\"black\" points=\"5141,-187 4994,-187 4994,-104 5141,-104 5141,-187\"/>\n<text text-anchor=\"middle\" x=\"5067.5\" y=\"-171.8\" font-family=\"Helvetica,sans-Serif\" font-size=\"14.00\">y &lt;= 6.515</text>\n<text text-anchor=\"middle\" x=\"5067.5\" y=\"-156.8\" font-family=\"Helvetica,sans-Serif\" font-size=\"14.00\">gini = 0.477</text>\n<text text-anchor=\"middle\" x=\"5067.5\" y=\"-141.8\" font-family=\"Helvetica,sans-Serif\" font-size=\"14.00\">samples = 0.7%</text>\n<text text-anchor=\"middle\" x=\"5067.5\" y=\"-126.8\" font-family=\"Helvetica,sans-Serif\" font-size=\"14.00\">value = [0.608, 0.392]</text>\n<text text-anchor=\"middle\" x=\"5067.5\" y=\"-111.8\" font-family=\"Helvetica,sans-Serif\" font-size=\"14.00\">class = False</text>\n</g>\n<!-- 75&#45;&gt;76 -->\n<g id=\"edge76\" class=\"edge\">\n<title>75&#45;&gt;76</title>\n<path fill=\"none\" stroke=\"black\" d=\"M5067.5,-222.91C5067.5,-214.65 5067.5,-205.86 5067.5,-197.3\"/>\n<polygon fill=\"black\" stroke=\"black\" points=\"5071,-197.02 5067.5,-187.02 5064,-197.02 5071,-197.02\"/>\n</g>\n<!-- 79 -->\n<g id=\"node80\" class=\"node\">\n<title>79</title>\n<polygon fill=\"#7abdee\" stroke=\"black\" points=\"5389,-187 5242,-187 5242,-104 5389,-104 5389,-187\"/>\n<text text-anchor=\"middle\" x=\"5315.5\" y=\"-171.8\" font-family=\"Helvetica,sans-Serif\" font-size=\"14.00\">carat &lt;= 1.015</text>\n<text text-anchor=\"middle\" x=\"5315.5\" y=\"-156.8\" font-family=\"Helvetica,sans-Serif\" font-size=\"14.00\">gini = 0.372</text>\n<text text-anchor=\"middle\" x=\"5315.5\" y=\"-141.8\" font-family=\"Helvetica,sans-Serif\" font-size=\"14.00\">samples = 0.9%</text>\n<text text-anchor=\"middle\" x=\"5315.5\" y=\"-126.8\" font-family=\"Helvetica,sans-Serif\" font-size=\"14.00\">value = [0.247, 0.753]</text>\n<text text-anchor=\"middle\" x=\"5315.5\" y=\"-111.8\" font-family=\"Helvetica,sans-Serif\" font-size=\"14.00\">class = True</text>\n</g>\n<!-- 75&#45;&gt;79 -->\n<g id=\"edge79\" class=\"edge\">\n<title>75&#45;&gt;79</title>\n<path fill=\"none\" stroke=\"black\" d=\"M5141.24,-228.71C5169.96,-215.16 5203.02,-199.57 5232.57,-185.62\"/>\n<polygon fill=\"black\" stroke=\"black\" points=\"5234.07,-188.79 5241.62,-181.36 5231.08,-182.46 5234.07,-188.79\"/>\n</g>\n<!-- 77 -->\n<g id=\"node78\" class=\"node\">\n<title>77</title>\n<polygon fill=\"#e78945\" stroke=\"black\" points=\"5059,-68 4912,-68 4912,0 5059,0 5059,-68\"/>\n<text text-anchor=\"middle\" x=\"4985.5\" y=\"-52.8\" font-family=\"Helvetica,sans-Serif\" font-size=\"14.00\">gini = 0.112</text>\n<text text-anchor=\"middle\" x=\"4985.5\" y=\"-37.8\" font-family=\"Helvetica,sans-Serif\" font-size=\"14.00\">samples = 0.3%</text>\n<text text-anchor=\"middle\" x=\"4985.5\" y=\"-22.8\" font-family=\"Helvetica,sans-Serif\" font-size=\"14.00\">value = [0.941, 0.059]</text>\n<text text-anchor=\"middle\" x=\"4985.5\" y=\"-7.8\" font-family=\"Helvetica,sans-Serif\" font-size=\"14.00\">class = False</text>\n</g>\n<!-- 76&#45;&gt;77 -->\n<g id=\"edge77\" class=\"edge\">\n<title>76&#45;&gt;77</title>\n<path fill=\"none\" stroke=\"black\" d=\"M5036.97,-103.73C5030.27,-94.79 5023.18,-85.32 5016.47,-76.36\"/>\n<polygon fill=\"black\" stroke=\"black\" points=\"5019.23,-74.21 5010.44,-68.3 5013.63,-78.4 5019.23,-74.21\"/>\n</g>\n<!-- 78 -->\n<g id=\"node79\" class=\"node\">\n<title>78</title>\n<polygon fill=\"#cee7f9\" stroke=\"black\" points=\"5224,-68 5077,-68 5077,0 5224,0 5224,-68\"/>\n<text text-anchor=\"middle\" x=\"5150.5\" y=\"-52.8\" font-family=\"Helvetica,sans-Serif\" font-size=\"14.00\">gini = 0.49</text>\n<text text-anchor=\"middle\" x=\"5150.5\" y=\"-37.8\" font-family=\"Helvetica,sans-Serif\" font-size=\"14.00\">samples = 0.4%</text>\n<text text-anchor=\"middle\" x=\"5150.5\" y=\"-22.8\" font-family=\"Helvetica,sans-Serif\" font-size=\"14.00\">value = [0.429, 0.571]</text>\n<text text-anchor=\"middle\" x=\"5150.5\" y=\"-7.8\" font-family=\"Helvetica,sans-Serif\" font-size=\"14.00\">class = True</text>\n</g>\n<!-- 76&#45;&gt;78 -->\n<g id=\"edge78\" class=\"edge\">\n<title>76&#45;&gt;78</title>\n<path fill=\"none\" stroke=\"black\" d=\"M5098.41,-103.73C5105.18,-94.79 5112.36,-85.32 5119.15,-76.36\"/>\n<polygon fill=\"black\" stroke=\"black\" points=\"5122.01,-78.38 5125.26,-68.3 5116.43,-74.15 5122.01,-78.38\"/>\n</g>\n<!-- 80 -->\n<g id=\"node81\" class=\"node\">\n<title>80</title>\n<polygon fill=\"#fdf3ec\" stroke=\"black\" points=\"5389,-68 5242,-68 5242,0 5389,0 5389,-68\"/>\n<text text-anchor=\"middle\" x=\"5315.5\" y=\"-52.8\" font-family=\"Helvetica,sans-Serif\" font-size=\"14.00\">gini = 0.499</text>\n<text text-anchor=\"middle\" x=\"5315.5\" y=\"-37.8\" font-family=\"Helvetica,sans-Serif\" font-size=\"14.00\">samples = 0.3%</text>\n<text text-anchor=\"middle\" x=\"5315.5\" y=\"-22.8\" font-family=\"Helvetica,sans-Serif\" font-size=\"14.00\">value = [0.525, 0.475]</text>\n<text text-anchor=\"middle\" x=\"5315.5\" y=\"-7.8\" font-family=\"Helvetica,sans-Serif\" font-size=\"14.00\">class = False</text>\n</g>\n<!-- 79&#45;&gt;80 -->\n<g id=\"edge80\" class=\"edge\">\n<title>79&#45;&gt;80</title>\n<path fill=\"none\" stroke=\"black\" d=\"M5315.5,-103.73C5315.5,-95.52 5315.5,-86.86 5315.5,-78.56\"/>\n<polygon fill=\"black\" stroke=\"black\" points=\"5319,-78.3 5315.5,-68.3 5312,-78.3 5319,-78.3\"/>\n</g>\n<!-- 81 -->\n<g id=\"node82\" class=\"node\">\n<title>81</title>\n<polygon fill=\"#58ade9\" stroke=\"black\" points=\"5554,-68 5407,-68 5407,0 5554,0 5554,-68\"/>\n<text text-anchor=\"middle\" x=\"5480.5\" y=\"-52.8\" font-family=\"Helvetica,sans-Serif\" font-size=\"14.00\">gini = 0.236</text>\n<text text-anchor=\"middle\" x=\"5480.5\" y=\"-37.8\" font-family=\"Helvetica,sans-Serif\" font-size=\"14.00\">samples = 0.5%</text>\n<text text-anchor=\"middle\" x=\"5480.5\" y=\"-22.8\" font-family=\"Helvetica,sans-Serif\" font-size=\"14.00\">value = [0.137, 0.863]</text>\n<text text-anchor=\"middle\" x=\"5480.5\" y=\"-7.8\" font-family=\"Helvetica,sans-Serif\" font-size=\"14.00\">class = True</text>\n</g>\n<!-- 79&#45;&gt;81 -->\n<g id=\"edge81\" class=\"edge\">\n<title>79&#45;&gt;81</title>\n<path fill=\"none\" stroke=\"black\" d=\"M5376.94,-103.73C5391.72,-93.92 5407.47,-83.46 5422.11,-73.75\"/>\n<polygon fill=\"black\" stroke=\"black\" points=\"5424.19,-76.57 5430.59,-68.13 5420.32,-70.74 5424.19,-76.57\"/>\n</g>\n<!-- 83 -->\n<g id=\"node84\" class=\"node\">\n<title>83</title>\n<polygon fill=\"#4ea7e8\" stroke=\"black\" points=\"6342,-425 6195,-425 6195,-342 6342,-342 6342,-425\"/>\n<text text-anchor=\"middle\" x=\"6268.5\" y=\"-409.8\" font-family=\"Helvetica,sans-Serif\" font-size=\"14.00\">color &lt;= 4.5</text>\n<text text-anchor=\"middle\" x=\"6268.5\" y=\"-394.8\" font-family=\"Helvetica,sans-Serif\" font-size=\"14.00\">gini = 0.175</text>\n<text text-anchor=\"middle\" x=\"6268.5\" y=\"-379.8\" font-family=\"Helvetica,sans-Serif\" font-size=\"14.00\">samples = 5.2%</text>\n<text text-anchor=\"middle\" x=\"6268.5\" y=\"-364.8\" font-family=\"Helvetica,sans-Serif\" font-size=\"14.00\">value = [0.097, 0.903]</text>\n<text text-anchor=\"middle\" x=\"6268.5\" y=\"-349.8\" font-family=\"Helvetica,sans-Serif\" font-size=\"14.00\">class = True</text>\n</g>\n<!-- 82&#45;&gt;83 -->\n<g id=\"edge83\" class=\"edge\">\n<title>82&#45;&gt;83</title>\n<path fill=\"none\" stroke=\"black\" d=\"M6268.5,-460.91C6268.5,-452.65 6268.5,-443.86 6268.5,-435.3\"/>\n<polygon fill=\"black\" stroke=\"black\" points=\"6272,-435.02 6268.5,-425.02 6265,-435.02 6272,-435.02\"/>\n</g>\n<!-- 98 -->\n<g id=\"node99\" class=\"node\">\n<title>98</title>\n<polygon fill=\"#3a9ee5\" stroke=\"black\" points=\"7213,-425 7066,-425 7066,-342 7213,-342 7213,-425\"/>\n<text text-anchor=\"middle\" x=\"7139.5\" y=\"-409.8\" font-family=\"Helvetica,sans-Serif\" font-size=\"14.00\">clarity &lt;= 6.5</text>\n<text text-anchor=\"middle\" x=\"7139.5\" y=\"-394.8\" font-family=\"Helvetica,sans-Serif\" font-size=\"14.00\">gini = 0.013</text>\n<text text-anchor=\"middle\" x=\"7139.5\" y=\"-379.8\" font-family=\"Helvetica,sans-Serif\" font-size=\"14.00\">samples = 13.2%</text>\n<text text-anchor=\"middle\" x=\"7139.5\" y=\"-364.8\" font-family=\"Helvetica,sans-Serif\" font-size=\"14.00\">value = [0.006, 0.994]</text>\n<text text-anchor=\"middle\" x=\"7139.5\" y=\"-349.8\" font-family=\"Helvetica,sans-Serif\" font-size=\"14.00\">class = True</text>\n</g>\n<!-- 82&#45;&gt;98 -->\n<g id=\"edge98\" class=\"edge\">\n<title>82&#45;&gt;98</title>\n<path fill=\"none\" stroke=\"black\" d=\"M6342.01,-491.63C6502.98,-470 6885.79,-418.58 7055.73,-395.75\"/>\n<polygon fill=\"black\" stroke=\"black\" points=\"7056.43,-399.19 7065.88,-394.39 7055.5,-392.25 7056.43,-399.19\"/>\n</g>\n<!-- 84 -->\n<g id=\"node85\" class=\"node\">\n<title>84</title>\n<polygon fill=\"#42a1e6\" stroke=\"black\" points=\"6113,-306 5966,-306 5966,-223 6113,-223 6113,-306\"/>\n<text text-anchor=\"middle\" x=\"6039.5\" y=\"-290.8\" font-family=\"Helvetica,sans-Serif\" font-size=\"14.00\">depth &lt;= 64.35</text>\n<text text-anchor=\"middle\" x=\"6039.5\" y=\"-275.8\" font-family=\"Helvetica,sans-Serif\" font-size=\"14.00\">gini = 0.082</text>\n<text text-anchor=\"middle\" x=\"6039.5\" y=\"-260.8\" font-family=\"Helvetica,sans-Serif\" font-size=\"14.00\">samples = 2.4%</text>\n<text text-anchor=\"middle\" x=\"6039.5\" y=\"-245.8\" font-family=\"Helvetica,sans-Serif\" font-size=\"14.00\">value = [0.043, 0.957]</text>\n<text text-anchor=\"middle\" x=\"6039.5\" y=\"-230.8\" font-family=\"Helvetica,sans-Serif\" font-size=\"14.00\">class = True</text>\n</g>\n<!-- 83&#45;&gt;84 -->\n<g id=\"edge84\" class=\"edge\">\n<title>83&#45;&gt;84</title>\n<path fill=\"none\" stroke=\"black\" d=\"M6194.78,-344.84C6171.59,-332.99 6145.84,-319.83 6122.08,-307.69\"/>\n<polygon fill=\"black\" stroke=\"black\" points=\"6123.58,-304.53 6113.08,-303.09 6120.39,-310.76 6123.58,-304.53\"/>\n</g>\n<!-- 91 -->\n<g id=\"node92\" class=\"node\">\n<title>91</title>\n<polygon fill=\"#5dafea\" stroke=\"black\" points=\"6421,-306 6274,-306 6274,-223 6421,-223 6421,-306\"/>\n<text text-anchor=\"middle\" x=\"6347.5\" y=\"-290.8\" font-family=\"Helvetica,sans-Serif\" font-size=\"14.00\">color &lt;= 6.5</text>\n<text text-anchor=\"middle\" x=\"6347.5\" y=\"-275.8\" font-family=\"Helvetica,sans-Serif\" font-size=\"14.00\">gini = 0.26</text>\n<text text-anchor=\"middle\" x=\"6347.5\" y=\"-260.8\" font-family=\"Helvetica,sans-Serif\" font-size=\"14.00\">samples = 2.8%</text>\n<text text-anchor=\"middle\" x=\"6347.5\" y=\"-245.8\" font-family=\"Helvetica,sans-Serif\" font-size=\"14.00\">value = [0.154, 0.846]</text>\n<text text-anchor=\"middle\" x=\"6347.5\" y=\"-230.8\" font-family=\"Helvetica,sans-Serif\" font-size=\"14.00\">class = True</text>\n</g>\n<!-- 83&#45;&gt;91 -->\n<g id=\"edge91\" class=\"edge\">\n<title>83&#45;&gt;91</title>\n<path fill=\"none\" stroke=\"black\" d=\"M6295.91,-341.91C6301.91,-333.01 6308.33,-323.51 6314.53,-314.33\"/>\n<polygon fill=\"black\" stroke=\"black\" points=\"6317.44,-316.27 6320.14,-306.02 6311.64,-312.35 6317.44,-316.27\"/>\n</g>\n<!-- 85 -->\n<g id=\"node86\" class=\"node\">\n<title>85</title>\n<polygon fill=\"#41a1e6\" stroke=\"black\" points=\"5884,-187 5737,-187 5737,-104 5884,-104 5884,-187\"/>\n<text text-anchor=\"middle\" x=\"5810.5\" y=\"-171.8\" font-family=\"Helvetica,sans-Serif\" font-size=\"14.00\">clarity &lt;= 3.5</text>\n<text text-anchor=\"middle\" x=\"5810.5\" y=\"-156.8\" font-family=\"Helvetica,sans-Serif\" font-size=\"14.00\">gini = 0.072</text>\n<text text-anchor=\"middle\" x=\"5810.5\" y=\"-141.8\" font-family=\"Helvetica,sans-Serif\" font-size=\"14.00\">samples = 2.4%</text>\n<text text-anchor=\"middle\" x=\"5810.5\" y=\"-126.8\" font-family=\"Helvetica,sans-Serif\" font-size=\"14.00\">value = [0.037, 0.963]</text>\n<text text-anchor=\"middle\" x=\"5810.5\" y=\"-111.8\" font-family=\"Helvetica,sans-Serif\" font-size=\"14.00\">class = True</text>\n</g>\n<!-- 84&#45;&gt;85 -->\n<g id=\"edge85\" class=\"edge\">\n<title>84&#45;&gt;85</title>\n<path fill=\"none\" stroke=\"black\" d=\"M5965.78,-225.84C5942.59,-213.99 5916.84,-200.83 5893.08,-188.69\"/>\n<polygon fill=\"black\" stroke=\"black\" points=\"5894.58,-185.53 5884.08,-184.09 5891.39,-191.76 5894.58,-185.53\"/>\n</g>\n<!-- 88 -->\n<g id=\"node89\" class=\"node\">\n<title>88</title>\n<polygon fill=\"#f6d5bd\" stroke=\"black\" points=\"6098,-187 5981,-187 5981,-104 6098,-104 6098,-187\"/>\n<text text-anchor=\"middle\" x=\"6039.5\" y=\"-171.8\" font-family=\"Helvetica,sans-Serif\" font-size=\"14.00\">carat &lt;= 1.46</text>\n<text text-anchor=\"middle\" x=\"6039.5\" y=\"-156.8\" font-family=\"Helvetica,sans-Serif\" font-size=\"14.00\">gini = 0.48</text>\n<text text-anchor=\"middle\" x=\"6039.5\" y=\"-141.8\" font-family=\"Helvetica,sans-Serif\" font-size=\"14.00\">samples = 0.1%</text>\n<text text-anchor=\"middle\" x=\"6039.5\" y=\"-126.8\" font-family=\"Helvetica,sans-Serif\" font-size=\"14.00\">value = [0.6, 0.4]</text>\n<text text-anchor=\"middle\" x=\"6039.5\" y=\"-111.8\" font-family=\"Helvetica,sans-Serif\" font-size=\"14.00\">class = False</text>\n</g>\n<!-- 84&#45;&gt;88 -->\n<g id=\"edge88\" class=\"edge\">\n<title>84&#45;&gt;88</title>\n<path fill=\"none\" stroke=\"black\" d=\"M6039.5,-222.91C6039.5,-214.65 6039.5,-205.86 6039.5,-197.3\"/>\n<polygon fill=\"black\" stroke=\"black\" points=\"6043,-197.02 6039.5,-187.02 6036,-197.02 6043,-197.02\"/>\n</g>\n<!-- 86 -->\n<g id=\"node87\" class=\"node\">\n<title>86</title>\n<polygon fill=\"#4ca6e8\" stroke=\"black\" points=\"5719,-68 5572,-68 5572,0 5719,0 5719,-68\"/>\n<text text-anchor=\"middle\" x=\"5645.5\" y=\"-52.8\" font-family=\"Helvetica,sans-Serif\" font-size=\"14.00\">gini = 0.16</text>\n<text text-anchor=\"middle\" x=\"5645.5\" y=\"-37.8\" font-family=\"Helvetica,sans-Serif\" font-size=\"14.00\">samples = 0.9%</text>\n<text text-anchor=\"middle\" x=\"5645.5\" y=\"-22.8\" font-family=\"Helvetica,sans-Serif\" font-size=\"14.00\">value = [0.088, 0.912]</text>\n<text text-anchor=\"middle\" x=\"5645.5\" y=\"-7.8\" font-family=\"Helvetica,sans-Serif\" font-size=\"14.00\">class = True</text>\n</g>\n<!-- 85&#45;&gt;86 -->\n<g id=\"edge86\" class=\"edge\">\n<title>85&#45;&gt;86</title>\n<path fill=\"none\" stroke=\"black\" d=\"M5749.06,-103.73C5734.28,-93.92 5718.53,-83.46 5703.89,-73.75\"/>\n<polygon fill=\"black\" stroke=\"black\" points=\"5705.68,-70.74 5695.41,-68.13 5701.81,-76.57 5705.68,-70.74\"/>\n</g>\n<!-- 87 -->\n<g id=\"node88\" class=\"node\">\n<title>87</title>\n<polygon fill=\"#3b9ee5\" stroke=\"black\" points=\"5884,-68 5737,-68 5737,0 5884,0 5884,-68\"/>\n<text text-anchor=\"middle\" x=\"5810.5\" y=\"-52.8\" font-family=\"Helvetica,sans-Serif\" font-size=\"14.00\">gini = 0.024</text>\n<text text-anchor=\"middle\" x=\"5810.5\" y=\"-37.8\" font-family=\"Helvetica,sans-Serif\" font-size=\"14.00\">samples = 1.5%</text>\n<text text-anchor=\"middle\" x=\"5810.5\" y=\"-22.8\" font-family=\"Helvetica,sans-Serif\" font-size=\"14.00\">value = [0.012, 0.988]</text>\n<text text-anchor=\"middle\" x=\"5810.5\" y=\"-7.8\" font-family=\"Helvetica,sans-Serif\" font-size=\"14.00\">class = True</text>\n</g>\n<!-- 85&#45;&gt;87 -->\n<g id=\"edge87\" class=\"edge\">\n<title>85&#45;&gt;87</title>\n<path fill=\"none\" stroke=\"black\" d=\"M5810.5,-103.73C5810.5,-95.52 5810.5,-86.86 5810.5,-78.56\"/>\n<polygon fill=\"black\" stroke=\"black\" points=\"5814,-78.3 5810.5,-68.3 5807,-78.3 5814,-78.3\"/>\n</g>\n<!-- 89 -->\n<g id=\"node90\" class=\"node\">\n<title>89</title>\n<polygon fill=\"#ea975c\" stroke=\"black\" points=\"6034.5,-68 5902.5,-68 5902.5,0 6034.5,0 6034.5,-68\"/>\n<text text-anchor=\"middle\" x=\"5968.5\" y=\"-52.8\" font-family=\"Helvetica,sans-Serif\" font-size=\"14.00\">gini = 0.255</text>\n<text text-anchor=\"middle\" x=\"5968.5\" y=\"-37.8\" font-family=\"Helvetica,sans-Serif\" font-size=\"14.00\">samples = 0.0%</text>\n<text text-anchor=\"middle\" x=\"5968.5\" y=\"-22.8\" font-family=\"Helvetica,sans-Serif\" font-size=\"14.00\">value = [0.85, 0.15]</text>\n<text text-anchor=\"middle\" x=\"5968.5\" y=\"-7.8\" font-family=\"Helvetica,sans-Serif\" font-size=\"14.00\">class = False</text>\n</g>\n<!-- 88&#45;&gt;89 -->\n<g id=\"edge89\" class=\"edge\">\n<title>88&#45;&gt;89</title>\n<path fill=\"none\" stroke=\"black\" d=\"M6013.06,-103.73C6007.38,-94.97 6001.38,-85.7 5995.67,-76.91\"/>\n<polygon fill=\"black\" stroke=\"black\" points=\"5998.47,-74.79 5990.09,-68.3 5992.6,-78.59 5998.47,-74.79\"/>\n</g>\n<!-- 90 -->\n<g id=\"node91\" class=\"node\">\n<title>90</title>\n<polygon fill=\"#4fa8e8\" stroke=\"black\" points=\"6170,-68 6053,-68 6053,0 6170,0 6170,-68\"/>\n<text text-anchor=\"middle\" x=\"6111.5\" y=\"-52.8\" font-family=\"Helvetica,sans-Serif\" font-size=\"14.00\">gini = 0.18</text>\n<text text-anchor=\"middle\" x=\"6111.5\" y=\"-37.8\" font-family=\"Helvetica,sans-Serif\" font-size=\"14.00\">samples = 0.0%</text>\n<text text-anchor=\"middle\" x=\"6111.5\" y=\"-22.8\" font-family=\"Helvetica,sans-Serif\" font-size=\"14.00\">value = [0.1, 0.9]</text>\n<text text-anchor=\"middle\" x=\"6111.5\" y=\"-7.8\" font-family=\"Helvetica,sans-Serif\" font-size=\"14.00\">class = True</text>\n</g>\n<!-- 88&#45;&gt;90 -->\n<g id=\"edge90\" class=\"edge\">\n<title>88&#45;&gt;90</title>\n<path fill=\"none\" stroke=\"black\" d=\"M6066.31,-103.73C6072.07,-94.97 6078.16,-85.7 6083.95,-76.91\"/>\n<polygon fill=\"black\" stroke=\"black\" points=\"6087.03,-78.58 6089.6,-68.3 6081.19,-74.73 6087.03,-78.58\"/>\n</g>\n<!-- 92 -->\n<g id=\"node93\" class=\"node\">\n<title>92</title>\n<polygon fill=\"#7abdee\" stroke=\"black\" points=\"6421,-187 6274,-187 6274,-104 6421,-104 6421,-187\"/>\n<text text-anchor=\"middle\" x=\"6347.5\" y=\"-171.8\" font-family=\"Helvetica,sans-Serif\" font-size=\"14.00\">color &lt;= 5.5</text>\n<text text-anchor=\"middle\" x=\"6347.5\" y=\"-156.8\" font-family=\"Helvetica,sans-Serif\" font-size=\"14.00\">gini = 0.373</text>\n<text text-anchor=\"middle\" x=\"6347.5\" y=\"-141.8\" font-family=\"Helvetica,sans-Serif\" font-size=\"14.00\">samples = 1.5%</text>\n<text text-anchor=\"middle\" x=\"6347.5\" y=\"-126.8\" font-family=\"Helvetica,sans-Serif\" font-size=\"14.00\">value = [0.248, 0.752]</text>\n<text text-anchor=\"middle\" x=\"6347.5\" y=\"-111.8\" font-family=\"Helvetica,sans-Serif\" font-size=\"14.00\">class = True</text>\n</g>\n<!-- 91&#45;&gt;92 -->\n<g id=\"edge92\" class=\"edge\">\n<title>91&#45;&gt;92</title>\n<path fill=\"none\" stroke=\"black\" d=\"M6347.5,-222.91C6347.5,-214.65 6347.5,-205.86 6347.5,-197.3\"/>\n<polygon fill=\"black\" stroke=\"black\" points=\"6351,-197.02 6347.5,-187.02 6344,-197.02 6351,-197.02\"/>\n</g>\n<!-- 95 -->\n<g id=\"node96\" class=\"node\">\n<title>95</title>\n<polygon fill=\"#47a4e7\" stroke=\"black\" points=\"6665,-187 6518,-187 6518,-104 6665,-104 6665,-187\"/>\n<text text-anchor=\"middle\" x=\"6591.5\" y=\"-171.8\" font-family=\"Helvetica,sans-Serif\" font-size=\"14.00\">clarity &lt;= 3.5</text>\n<text text-anchor=\"middle\" x=\"6591.5\" y=\"-156.8\" font-family=\"Helvetica,sans-Serif\" font-size=\"14.00\">gini = 0.126</text>\n<text text-anchor=\"middle\" x=\"6591.5\" y=\"-141.8\" font-family=\"Helvetica,sans-Serif\" font-size=\"14.00\">samples = 1.2%</text>\n<text text-anchor=\"middle\" x=\"6591.5\" y=\"-126.8\" font-family=\"Helvetica,sans-Serif\" font-size=\"14.00\">value = [0.068, 0.932]</text>\n<text text-anchor=\"middle\" x=\"6591.5\" y=\"-111.8\" font-family=\"Helvetica,sans-Serif\" font-size=\"14.00\">class = True</text>\n</g>\n<!-- 91&#45;&gt;95 -->\n<g id=\"edge95\" class=\"edge\">\n<title>91&#45;&gt;95</title>\n<path fill=\"none\" stroke=\"black\" d=\"M6421.04,-228.24C6448.64,-215 6480.2,-199.87 6508.59,-186.26\"/>\n<polygon fill=\"black\" stroke=\"black\" points=\"6510.19,-189.37 6517.69,-181.89 6507.16,-183.06 6510.19,-189.37\"/>\n</g>\n<!-- 93 -->\n<g id=\"node94\" class=\"node\">\n<title>93</title>\n<polygon fill=\"#5caeea\" stroke=\"black\" points=\"6335,-68 6188,-68 6188,0 6335,0 6335,-68\"/>\n<text text-anchor=\"middle\" x=\"6261.5\" y=\"-52.8\" font-family=\"Helvetica,sans-Serif\" font-size=\"14.00\">gini = 0.257</text>\n<text text-anchor=\"middle\" x=\"6261.5\" y=\"-37.8\" font-family=\"Helvetica,sans-Serif\" font-size=\"14.00\">samples = 0.9%</text>\n<text text-anchor=\"middle\" x=\"6261.5\" y=\"-22.8\" font-family=\"Helvetica,sans-Serif\" font-size=\"14.00\">value = [0.151, 0.849]</text>\n<text text-anchor=\"middle\" x=\"6261.5\" y=\"-7.8\" font-family=\"Helvetica,sans-Serif\" font-size=\"14.00\">class = True</text>\n</g>\n<!-- 92&#45;&gt;93 -->\n<g id=\"edge93\" class=\"edge\">\n<title>92&#45;&gt;93</title>\n<path fill=\"none\" stroke=\"black\" d=\"M6315.48,-103.73C6308.46,-94.79 6301.02,-85.32 6293.98,-76.36\"/>\n<polygon fill=\"black\" stroke=\"black\" points=\"6296.58,-74 6287.65,-68.3 6291.08,-78.33 6296.58,-74\"/>\n</g>\n<!-- 94 -->\n<g id=\"node95\" class=\"node\">\n<title>94</title>\n<polygon fill=\"#d2e9f9\" stroke=\"black\" points=\"6500,-68 6353,-68 6353,0 6500,0 6500,-68\"/>\n<text text-anchor=\"middle\" x=\"6426.5\" y=\"-52.8\" font-family=\"Helvetica,sans-Serif\" font-size=\"14.00\">gini = 0.492</text>\n<text text-anchor=\"middle\" x=\"6426.5\" y=\"-37.8\" font-family=\"Helvetica,sans-Serif\" font-size=\"14.00\">samples = 0.6%</text>\n<text text-anchor=\"middle\" x=\"6426.5\" y=\"-22.8\" font-family=\"Helvetica,sans-Serif\" font-size=\"14.00\">value = [0.436, 0.564]</text>\n<text text-anchor=\"middle\" x=\"6426.5\" y=\"-7.8\" font-family=\"Helvetica,sans-Serif\" font-size=\"14.00\">class = True</text>\n</g>\n<!-- 92&#45;&gt;94 -->\n<g id=\"edge94\" class=\"edge\">\n<title>92&#45;&gt;94</title>\n<path fill=\"none\" stroke=\"black\" d=\"M6376.92,-103.73C6383.3,-94.88 6390.06,-85.51 6396.47,-76.63\"/>\n<polygon fill=\"black\" stroke=\"black\" points=\"6399.46,-78.46 6402.48,-68.3 6393.79,-74.36 6399.46,-78.46\"/>\n</g>\n<!-- 96 -->\n<g id=\"node97\" class=\"node\">\n<title>96</title>\n<polygon fill=\"#62b1ea\" stroke=\"black\" points=\"6665,-68 6518,-68 6518,0 6665,0 6665,-68\"/>\n<text text-anchor=\"middle\" x=\"6591.5\" y=\"-52.8\" font-family=\"Helvetica,sans-Serif\" font-size=\"14.00\">gini = 0.286</text>\n<text text-anchor=\"middle\" x=\"6591.5\" y=\"-37.8\" font-family=\"Helvetica,sans-Serif\" font-size=\"14.00\">samples = 0.4%</text>\n<text text-anchor=\"middle\" x=\"6591.5\" y=\"-22.8\" font-family=\"Helvetica,sans-Serif\" font-size=\"14.00\">value = [0.173, 0.827]</text>\n<text text-anchor=\"middle\" x=\"6591.5\" y=\"-7.8\" font-family=\"Helvetica,sans-Serif\" font-size=\"14.00\">class = True</text>\n</g>\n<!-- 95&#45;&gt;96 -->\n<g id=\"edge96\" class=\"edge\">\n<title>95&#45;&gt;96</title>\n<path fill=\"none\" stroke=\"black\" d=\"M6591.5,-103.73C6591.5,-95.52 6591.5,-86.86 6591.5,-78.56\"/>\n<polygon fill=\"black\" stroke=\"black\" points=\"6595,-78.3 6591.5,-68.3 6588,-78.3 6595,-78.3\"/>\n</g>\n<!-- 97 -->\n<g id=\"node98\" class=\"node\">\n<title>97</title>\n<polygon fill=\"#40a0e6\" stroke=\"black\" points=\"6830,-68 6683,-68 6683,0 6830,0 6830,-68\"/>\n<text text-anchor=\"middle\" x=\"6756.5\" y=\"-52.8\" font-family=\"Helvetica,sans-Serif\" font-size=\"14.00\">gini = 0.062</text>\n<text text-anchor=\"middle\" x=\"6756.5\" y=\"-37.8\" font-family=\"Helvetica,sans-Serif\" font-size=\"14.00\">samples = 0.9%</text>\n<text text-anchor=\"middle\" x=\"6756.5\" y=\"-22.8\" font-family=\"Helvetica,sans-Serif\" font-size=\"14.00\">value = [0.032, 0.968]</text>\n<text text-anchor=\"middle\" x=\"6756.5\" y=\"-7.8\" font-family=\"Helvetica,sans-Serif\" font-size=\"14.00\">class = True</text>\n</g>\n<!-- 95&#45;&gt;97 -->\n<g id=\"edge97\" class=\"edge\">\n<title>95&#45;&gt;97</title>\n<path fill=\"none\" stroke=\"black\" d=\"M6652.94,-103.73C6667.72,-93.92 6683.47,-83.46 6698.11,-73.75\"/>\n<polygon fill=\"black\" stroke=\"black\" points=\"6700.19,-76.57 6706.59,-68.13 6696.32,-70.74 6700.19,-76.57\"/>\n</g>\n<!-- 99 -->\n<g id=\"node100\" class=\"node\">\n<title>99</title>\n<polygon fill=\"#3a9de5\" stroke=\"black\" points=\"7213,-306 7066,-306 7066,-223 7213,-223 7213,-306\"/>\n<text text-anchor=\"middle\" x=\"7139.5\" y=\"-290.8\" font-family=\"Helvetica,sans-Serif\" font-size=\"14.00\">z &lt;= 4.265</text>\n<text text-anchor=\"middle\" x=\"7139.5\" y=\"-275.8\" font-family=\"Helvetica,sans-Serif\" font-size=\"14.00\">gini = 0.007</text>\n<text text-anchor=\"middle\" x=\"7139.5\" y=\"-260.8\" font-family=\"Helvetica,sans-Serif\" font-size=\"14.00\">samples = 12.6%</text>\n<text text-anchor=\"middle\" x=\"7139.5\" y=\"-245.8\" font-family=\"Helvetica,sans-Serif\" font-size=\"14.00\">value = [0.004, 0.996]</text>\n<text text-anchor=\"middle\" x=\"7139.5\" y=\"-230.8\" font-family=\"Helvetica,sans-Serif\" font-size=\"14.00\">class = True</text>\n</g>\n<!-- 98&#45;&gt;99 -->\n<g id=\"edge99\" class=\"edge\">\n<title>98&#45;&gt;99</title>\n<path fill=\"none\" stroke=\"black\" d=\"M7139.5,-341.91C7139.5,-333.65 7139.5,-324.86 7139.5,-316.3\"/>\n<polygon fill=\"black\" stroke=\"black\" points=\"7143,-316.02 7139.5,-306.02 7136,-316.02 7143,-316.02\"/>\n</g>\n<!-- 106 -->\n<g id=\"node107\" class=\"node\">\n<title>106</title>\n<polygon fill=\"#49a5e7\" stroke=\"black\" points=\"7665,-306 7518,-306 7518,-223 7665,-223 7665,-306\"/>\n<text text-anchor=\"middle\" x=\"7591.5\" y=\"-290.8\" font-family=\"Helvetica,sans-Serif\" font-size=\"14.00\">y &lt;= 7.325</text>\n<text text-anchor=\"middle\" x=\"7591.5\" y=\"-275.8\" font-family=\"Helvetica,sans-Serif\" font-size=\"14.00\">gini = 0.138</text>\n<text text-anchor=\"middle\" x=\"7591.5\" y=\"-260.8\" font-family=\"Helvetica,sans-Serif\" font-size=\"14.00\">samples = 0.6%</text>\n<text text-anchor=\"middle\" x=\"7591.5\" y=\"-245.8\" font-family=\"Helvetica,sans-Serif\" font-size=\"14.00\">value = [0.074, 0.926]</text>\n<text text-anchor=\"middle\" x=\"7591.5\" y=\"-230.8\" font-family=\"Helvetica,sans-Serif\" font-size=\"14.00\">class = True</text>\n</g>\n<!-- 98&#45;&gt;106 -->\n<g id=\"edge106\" class=\"edge\">\n<title>98&#45;&gt;106</title>\n<path fill=\"none\" stroke=\"black\" d=\"M7213.13,-363.44C7293.98,-342.51 7423.53,-308.98 7508.08,-287.09\"/>\n<polygon fill=\"black\" stroke=\"black\" points=\"7509.1,-290.44 7517.9,-284.55 7507.35,-283.67 7509.1,-290.44\"/>\n</g>\n<!-- 100 -->\n<g id=\"node101\" class=\"node\">\n<title>100</title>\n<polygon fill=\"#45a3e7\" stroke=\"black\" points=\"7130,-187 6983,-187 6983,-104 7130,-104 7130,-187\"/>\n<text text-anchor=\"middle\" x=\"7056.5\" y=\"-171.8\" font-family=\"Helvetica,sans-Serif\" font-size=\"14.00\">depth &lt;= 54.2</text>\n<text text-anchor=\"middle\" x=\"7056.5\" y=\"-156.8\" font-family=\"Helvetica,sans-Serif\" font-size=\"14.00\">gini = 0.109</text>\n<text text-anchor=\"middle\" x=\"7056.5\" y=\"-141.8\" font-family=\"Helvetica,sans-Serif\" font-size=\"14.00\">samples = 0.4%</text>\n<text text-anchor=\"middle\" x=\"7056.5\" y=\"-126.8\" font-family=\"Helvetica,sans-Serif\" font-size=\"14.00\">value = [0.058, 0.942]</text>\n<text text-anchor=\"middle\" x=\"7056.5\" y=\"-111.8\" font-family=\"Helvetica,sans-Serif\" font-size=\"14.00\">class = True</text>\n</g>\n<!-- 99&#45;&gt;100 -->\n<g id=\"edge100\" class=\"edge\">\n<title>99&#45;&gt;100</title>\n<path fill=\"none\" stroke=\"black\" d=\"M7110.7,-222.91C7104.39,-214.01 7097.65,-204.51 7091.14,-195.33\"/>\n<polygon fill=\"black\" stroke=\"black\" points=\"7093.89,-193.15 7085.25,-187.02 7088.18,-197.2 7093.89,-193.15\"/>\n</g>\n<!-- 103 -->\n<g id=\"node104\" class=\"node\">\n<title>103</title>\n<polygon fill=\"#399de5\" stroke=\"black\" points=\"7295,-187 7148,-187 7148,-104 7295,-104 7295,-187\"/>\n<text text-anchor=\"middle\" x=\"7221.5\" y=\"-171.8\" font-family=\"Helvetica,sans-Serif\" font-size=\"14.00\">y &lt;= 7.155</text>\n<text text-anchor=\"middle\" x=\"7221.5\" y=\"-156.8\" font-family=\"Helvetica,sans-Serif\" font-size=\"14.00\">gini = 0.004</text>\n<text text-anchor=\"middle\" x=\"7221.5\" y=\"-141.8\" font-family=\"Helvetica,sans-Serif\" font-size=\"14.00\">samples = 12.2%</text>\n<text text-anchor=\"middle\" x=\"7221.5\" y=\"-126.8\" font-family=\"Helvetica,sans-Serif\" font-size=\"14.00\">value = [0.002, 0.998]</text>\n<text text-anchor=\"middle\" x=\"7221.5\" y=\"-111.8\" font-family=\"Helvetica,sans-Serif\" font-size=\"14.00\">class = True</text>\n</g>\n<!-- 99&#45;&gt;103 -->\n<g id=\"edge103\" class=\"edge\">\n<title>99&#45;&gt;103</title>\n<path fill=\"none\" stroke=\"black\" d=\"M7167.95,-222.91C7174.18,-214.01 7180.84,-204.51 7187.28,-195.33\"/>\n<polygon fill=\"black\" stroke=\"black\" points=\"7190.23,-197.22 7193.1,-187.02 7184.5,-193.2 7190.23,-197.22\"/>\n</g>\n<!-- 101 -->\n<g id=\"node102\" class=\"node\">\n<title>101</title>\n<polygon fill=\"#e58139\" stroke=\"black\" points=\"6965,-68 6848,-68 6848,0 6965,0 6965,-68\"/>\n<text text-anchor=\"middle\" x=\"6906.5\" y=\"-52.8\" font-family=\"Helvetica,sans-Serif\" font-size=\"14.00\">gini = 0.0</text>\n<text text-anchor=\"middle\" x=\"6906.5\" y=\"-37.8\" font-family=\"Helvetica,sans-Serif\" font-size=\"14.00\">samples = 0.0%</text>\n<text text-anchor=\"middle\" x=\"6906.5\" y=\"-22.8\" font-family=\"Helvetica,sans-Serif\" font-size=\"14.00\">value = [1.0, 0.0]</text>\n<text text-anchor=\"middle\" x=\"6906.5\" y=\"-7.8\" font-family=\"Helvetica,sans-Serif\" font-size=\"14.00\">class = False</text>\n</g>\n<!-- 100&#45;&gt;101 -->\n<g id=\"edge101\" class=\"edge\">\n<title>100&#45;&gt;101</title>\n<path fill=\"none\" stroke=\"black\" d=\"M7000.65,-103.73C6987.53,-94.15 6973.57,-83.96 6960.53,-74.44\"/>\n<polygon fill=\"black\" stroke=\"black\" points=\"6962.26,-71.37 6952.12,-68.3 6958.13,-77.02 6962.26,-71.37\"/>\n</g>\n<!-- 102 -->\n<g id=\"node103\" class=\"node\">\n<title>102</title>\n<polygon fill=\"#45a3e7\" stroke=\"black\" points=\"7130,-68 6983,-68 6983,0 7130,0 7130,-68\"/>\n<text text-anchor=\"middle\" x=\"7056.5\" y=\"-52.8\" font-family=\"Helvetica,sans-Serif\" font-size=\"14.00\">gini = 0.105</text>\n<text text-anchor=\"middle\" x=\"7056.5\" y=\"-37.8\" font-family=\"Helvetica,sans-Serif\" font-size=\"14.00\">samples = 0.4%</text>\n<text text-anchor=\"middle\" x=\"7056.5\" y=\"-22.8\" font-family=\"Helvetica,sans-Serif\" font-size=\"14.00\">value = [0.056, 0.944]</text>\n<text text-anchor=\"middle\" x=\"7056.5\" y=\"-7.8\" font-family=\"Helvetica,sans-Serif\" font-size=\"14.00\">class = True</text>\n</g>\n<!-- 100&#45;&gt;102 -->\n<g id=\"edge102\" class=\"edge\">\n<title>100&#45;&gt;102</title>\n<path fill=\"none\" stroke=\"black\" d=\"M7056.5,-103.73C7056.5,-95.52 7056.5,-86.86 7056.5,-78.56\"/>\n<polygon fill=\"black\" stroke=\"black\" points=\"7060,-78.3 7056.5,-68.3 7053,-78.3 7060,-78.3\"/>\n</g>\n<!-- 104 -->\n<g id=\"node105\" class=\"node\">\n<title>104</title>\n<polygon fill=\"#3d9fe6\" stroke=\"black\" points=\"7295,-68 7148,-68 7148,0 7295,0 7295,-68\"/>\n<text text-anchor=\"middle\" x=\"7221.5\" y=\"-52.8\" font-family=\"Helvetica,sans-Serif\" font-size=\"14.00\">gini = 0.037</text>\n<text text-anchor=\"middle\" x=\"7221.5\" y=\"-37.8\" font-family=\"Helvetica,sans-Serif\" font-size=\"14.00\">samples = 1.1%</text>\n<text text-anchor=\"middle\" x=\"7221.5\" y=\"-22.8\" font-family=\"Helvetica,sans-Serif\" font-size=\"14.00\">value = [0.019, 0.981]</text>\n<text text-anchor=\"middle\" x=\"7221.5\" y=\"-7.8\" font-family=\"Helvetica,sans-Serif\" font-size=\"14.00\">class = True</text>\n</g>\n<!-- 103&#45;&gt;104 -->\n<g id=\"edge104\" class=\"edge\">\n<title>103&#45;&gt;104</title>\n<path fill=\"none\" stroke=\"black\" d=\"M7221.5,-103.73C7221.5,-95.52 7221.5,-86.86 7221.5,-78.56\"/>\n<polygon fill=\"black\" stroke=\"black\" points=\"7225,-78.3 7221.5,-68.3 7218,-78.3 7225,-78.3\"/>\n</g>\n<!-- 105 -->\n<g id=\"node106\" class=\"node\">\n<title>105</title>\n<polygon fill=\"#399de5\" stroke=\"black\" points=\"7435.5,-68 7313.5,-68 7313.5,0 7435.5,0 7435.5,-68\"/>\n<text text-anchor=\"middle\" x=\"7374.5\" y=\"-52.8\" font-family=\"Helvetica,sans-Serif\" font-size=\"14.00\">gini = 0.001</text>\n<text text-anchor=\"middle\" x=\"7374.5\" y=\"-37.8\" font-family=\"Helvetica,sans-Serif\" font-size=\"14.00\">samples = 11.2%</text>\n<text text-anchor=\"middle\" x=\"7374.5\" y=\"-22.8\" font-family=\"Helvetica,sans-Serif\" font-size=\"14.00\">value = [0.0, 1.0]</text>\n<text text-anchor=\"middle\" x=\"7374.5\" y=\"-7.8\" font-family=\"Helvetica,sans-Serif\" font-size=\"14.00\">class = True</text>\n</g>\n<!-- 103&#45;&gt;105 -->\n<g id=\"edge105\" class=\"edge\">\n<title>103&#45;&gt;105</title>\n<path fill=\"none\" stroke=\"black\" d=\"M7278.47,-103.73C7291.98,-94.06 7306.36,-83.77 7319.77,-74.17\"/>\n<polygon fill=\"black\" stroke=\"black\" points=\"7321.88,-76.97 7327.97,-68.3 7317.8,-71.27 7321.88,-76.97\"/>\n</g>\n<!-- 107 -->\n<g id=\"node108\" class=\"node\">\n<title>107</title>\n<polygon fill=\"#76bbed\" stroke=\"black\" points=\"7665,-187 7518,-187 7518,-104 7665,-104 7665,-187\"/>\n<text text-anchor=\"middle\" x=\"7591.5\" y=\"-171.8\" font-family=\"Helvetica,sans-Serif\" font-size=\"14.00\">clarity &lt;= 7.5</text>\n<text text-anchor=\"middle\" x=\"7591.5\" y=\"-156.8\" font-family=\"Helvetica,sans-Serif\" font-size=\"14.00\">gini = 0.361</text>\n<text text-anchor=\"middle\" x=\"7591.5\" y=\"-141.8\" font-family=\"Helvetica,sans-Serif\" font-size=\"14.00\">samples = 0.2%</text>\n<text text-anchor=\"middle\" x=\"7591.5\" y=\"-126.8\" font-family=\"Helvetica,sans-Serif\" font-size=\"14.00\">value = [0.236, 0.764]</text>\n<text text-anchor=\"middle\" x=\"7591.5\" y=\"-111.8\" font-family=\"Helvetica,sans-Serif\" font-size=\"14.00\">class = True</text>\n</g>\n<!-- 106&#45;&gt;107 -->\n<g id=\"edge107\" class=\"edge\">\n<title>106&#45;&gt;107</title>\n<path fill=\"none\" stroke=\"black\" d=\"M7591.5,-222.91C7591.5,-214.65 7591.5,-205.86 7591.5,-197.3\"/>\n<polygon fill=\"black\" stroke=\"black\" points=\"7595,-197.02 7591.5,-187.02 7588,-197.02 7595,-197.02\"/>\n</g>\n<!-- 110 -->\n<g id=\"node111\" class=\"node\">\n<title>110</title>\n<polygon fill=\"#3e9fe6\" stroke=\"black\" points=\"7894,-187 7747,-187 7747,-104 7894,-104 7894,-187\"/>\n<text text-anchor=\"middle\" x=\"7820.5\" y=\"-171.8\" font-family=\"Helvetica,sans-Serif\" font-size=\"14.00\">z &lt;= 4.29</text>\n<text text-anchor=\"middle\" x=\"7820.5\" y=\"-156.8\" font-family=\"Helvetica,sans-Serif\" font-size=\"14.00\">gini = 0.045</text>\n<text text-anchor=\"middle\" x=\"7820.5\" y=\"-141.8\" font-family=\"Helvetica,sans-Serif\" font-size=\"14.00\">samples = 0.4%</text>\n<text text-anchor=\"middle\" x=\"7820.5\" y=\"-126.8\" font-family=\"Helvetica,sans-Serif\" font-size=\"14.00\">value = [0.023, 0.977]</text>\n<text text-anchor=\"middle\" x=\"7820.5\" y=\"-111.8\" font-family=\"Helvetica,sans-Serif\" font-size=\"14.00\">class = True</text>\n</g>\n<!-- 106&#45;&gt;110 -->\n<g id=\"edge110\" class=\"edge\">\n<title>106&#45;&gt;110</title>\n<path fill=\"none\" stroke=\"black\" d=\"M7665.22,-225.84C7688.41,-213.99 7714.16,-200.83 7737.92,-188.69\"/>\n<polygon fill=\"black\" stroke=\"black\" points=\"7739.61,-191.76 7746.92,-184.09 7736.42,-185.53 7739.61,-191.76\"/>\n</g>\n<!-- 108 -->\n<g id=\"node109\" class=\"node\">\n<title>108</title>\n<polygon fill=\"#fbece1\" stroke=\"black\" points=\"7601,-68 7454,-68 7454,0 7601,0 7601,-68\"/>\n<text text-anchor=\"middle\" x=\"7527.5\" y=\"-52.8\" font-family=\"Helvetica,sans-Serif\" font-size=\"14.00\">gini = 0.497</text>\n<text text-anchor=\"middle\" x=\"7527.5\" y=\"-37.8\" font-family=\"Helvetica,sans-Serif\" font-size=\"14.00\">samples = 0.1%</text>\n<text text-anchor=\"middle\" x=\"7527.5\" y=\"-22.8\" font-family=\"Helvetica,sans-Serif\" font-size=\"14.00\">value = [0.541, 0.459]</text>\n<text text-anchor=\"middle\" x=\"7527.5\" y=\"-7.8\" font-family=\"Helvetica,sans-Serif\" font-size=\"14.00\">class = False</text>\n</g>\n<!-- 107&#45;&gt;108 -->\n<g id=\"edge108\" class=\"edge\">\n<title>107&#45;&gt;108</title>\n<path fill=\"none\" stroke=\"black\" d=\"M7567.67,-103.73C7562.6,-95.06 7557.25,-85.9 7552.15,-77.18\"/>\n<polygon fill=\"black\" stroke=\"black\" points=\"7555.03,-75.17 7546.96,-68.3 7548.99,-78.7 7555.03,-75.17\"/>\n</g>\n<!-- 109 -->\n<g id=\"node110\" class=\"node\">\n<title>109</title>\n<polygon fill=\"#399de5\" stroke=\"black\" points=\"7736,-68 7619,-68 7619,0 7736,0 7736,-68\"/>\n<text text-anchor=\"middle\" x=\"7677.5\" y=\"-52.8\" font-family=\"Helvetica,sans-Serif\" font-size=\"14.00\">gini = &#45;0.0</text>\n<text text-anchor=\"middle\" x=\"7677.5\" y=\"-37.8\" font-family=\"Helvetica,sans-Serif\" font-size=\"14.00\">samples = 0.1%</text>\n<text text-anchor=\"middle\" x=\"7677.5\" y=\"-22.8\" font-family=\"Helvetica,sans-Serif\" font-size=\"14.00\">value = [0.0, 1.0]</text>\n<text text-anchor=\"middle\" x=\"7677.5\" y=\"-7.8\" font-family=\"Helvetica,sans-Serif\" font-size=\"14.00\">class = True</text>\n</g>\n<!-- 107&#45;&gt;109 -->\n<g id=\"edge109\" class=\"edge\">\n<title>107&#45;&gt;109</title>\n<path fill=\"none\" stroke=\"black\" d=\"M7623.52,-103.73C7630.54,-94.79 7637.98,-85.32 7645.02,-76.36\"/>\n<polygon fill=\"black\" stroke=\"black\" points=\"7647.92,-78.33 7651.35,-68.3 7642.42,-74 7647.92,-78.33\"/>\n</g>\n<!-- 111 -->\n<g id=\"node112\" class=\"node\">\n<title>111</title>\n<polygon fill=\"#7bbeee\" stroke=\"black\" points=\"7886.5,-68 7754.5,-68 7754.5,0 7886.5,0 7886.5,-68\"/>\n<text text-anchor=\"middle\" x=\"7820.5\" y=\"-52.8\" font-family=\"Helvetica,sans-Serif\" font-size=\"14.00\">gini = 0.375</text>\n<text text-anchor=\"middle\" x=\"7820.5\" y=\"-37.8\" font-family=\"Helvetica,sans-Serif\" font-size=\"14.00\">samples = 0.0%</text>\n<text text-anchor=\"middle\" x=\"7820.5\" y=\"-22.8\" font-family=\"Helvetica,sans-Serif\" font-size=\"14.00\">value = [0.25, 0.75]</text>\n<text text-anchor=\"middle\" x=\"7820.5\" y=\"-7.8\" font-family=\"Helvetica,sans-Serif\" font-size=\"14.00\">class = True</text>\n</g>\n<!-- 110&#45;&gt;111 -->\n<g id=\"edge111\" class=\"edge\">\n<title>110&#45;&gt;111</title>\n<path fill=\"none\" stroke=\"black\" d=\"M7820.5,-103.73C7820.5,-95.52 7820.5,-86.86 7820.5,-78.56\"/>\n<polygon fill=\"black\" stroke=\"black\" points=\"7824,-78.3 7820.5,-68.3 7817,-78.3 7824,-78.3\"/>\n</g>\n<!-- 112 -->\n<g id=\"node113\" class=\"node\">\n<title>112</title>\n<polygon fill=\"#3d9fe6\" stroke=\"black\" points=\"8036.5,-68 7904.5,-68 7904.5,0 8036.5,0 8036.5,-68\"/>\n<text text-anchor=\"middle\" x=\"7970.5\" y=\"-52.8\" font-family=\"Helvetica,sans-Serif\" font-size=\"14.00\">gini = 0.038</text>\n<text text-anchor=\"middle\" x=\"7970.5\" y=\"-37.8\" font-family=\"Helvetica,sans-Serif\" font-size=\"14.00\">samples = 0.4%</text>\n<text text-anchor=\"middle\" x=\"7970.5\" y=\"-22.8\" font-family=\"Helvetica,sans-Serif\" font-size=\"14.00\">value = [0.02, 0.98]</text>\n<text text-anchor=\"middle\" x=\"7970.5\" y=\"-7.8\" font-family=\"Helvetica,sans-Serif\" font-size=\"14.00\">class = True</text>\n</g>\n<!-- 110&#45;&gt;112 -->\n<g id=\"edge112\" class=\"edge\">\n<title>110&#45;&gt;112</title>\n<path fill=\"none\" stroke=\"black\" d=\"M7876.35,-103.73C7889.47,-94.15 7903.43,-83.96 7916.47,-74.44\"/>\n<polygon fill=\"black\" stroke=\"black\" points=\"7918.87,-77.02 7924.88,-68.3 7914.74,-71.37 7918.87,-77.02\"/>\n</g>\n</g>\n</svg>\n"
          },
          "metadata": {},
          "execution_count": 40
        }
      ]
    },
    {
      "cell_type": "markdown",
      "source": [
        "classification Report를 통하여 각 class에 대한 성능 평가를 진행합니다.\n"
      ],
      "metadata": {
        "id": "fsa9JfLluaVH"
      }
    },
    {
      "cell_type": "code",
      "source": [
        "y_pred = pipe.predict(X_val)\n",
        "print(classification_report(y_val, y_pred))"
      ],
      "metadata": {
        "id": "vL57TYq2uowc",
        "outputId": "ce85d59d-8d9b-4a21-8d83-1ca04c3b6b5c",
        "colab": {
          "base_uri": "https://localhost:8080/"
        }
      },
      "execution_count": 41,
      "outputs": [
        {
          "output_type": "stream",
          "name": "stdout",
          "text": [
            "              precision    recall  f1-score   support\n",
            "\n",
            "       False       0.99      0.95      0.97      8083\n",
            "        True       0.87      0.98      0.92      2705\n",
            "\n",
            "    accuracy                           0.96     10788\n",
            "   macro avg       0.93      0.96      0.94     10788\n",
            "weighted avg       0.96      0.96      0.96     10788\n",
            "\n"
          ]
        }
      ]
    },
    {
      "cell_type": "code",
      "source": [
        "from sklearn.metrics import confusion_matrix, ConfusionMatrixDisplay\n",
        "import matplotlib.pyplot as plt\n",
        "\n",
        "\n",
        "# matrix 생성.\n",
        "cm = confusion_matrix(y_val, \n",
        "                      y_pred,\n",
        "                      labels = pipe.named_steps['decisiontreeclassifier'].classes_)\n",
        "\n",
        "# 시각화\n",
        "disp = ConfusionMatrixDisplay(confusion_matrix =cm,\n",
        "                              display_labels = pipe.classes_\n",
        "                              )\n",
        "\n",
        "disp.plot()\n",
        "plt.title(f'Confusion Matrix (n = {len(y_val)})', fontsize = 15)\n",
        "\n",
        "plt.title(f'confusion matrix : {len(y_val)}')\n",
        "plt.show()"
      ],
      "metadata": {
        "id": "Qk71RWWt04BX",
        "outputId": "35c0d2f1-2e51-4f79-d3dd-02c2a461a2e4",
        "colab": {
          "base_uri": "https://localhost:8080/",
          "height": 295
        }
      },
      "execution_count": 42,
      "outputs": [
        {
          "output_type": "display_data",
          "data": {
            "text/plain": [
              "<Figure size 432x288 with 2 Axes>"
            ],
            "image/png": "[encoded data removed]"
          },
          "metadata": {
            "needs_background": "light"
          }
        }
      ]
    },
    {
      "cell_type": "markdown",
      "source": [
        "가각 다른 옵션으로 만들어지는 모델의 confusion_matrix를 생성한 결과룰 살펴봅시다."
      ],
      "metadata": {
        "id": "VhPJrGsPEen2"
      }
    },
    {
      "cell_type": "code",
      "source": [],
      "metadata": {
        "id": "8IQovvrkEz1J"
      },
      "execution_count": 38,
      "outputs": []
    }
  ]
}