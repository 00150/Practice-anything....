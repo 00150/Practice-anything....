{
  "nbformat": 4,
  "nbformat_minor": 0,
  "metadata": {
    "colab": {
      "provenance": [],
      "authorship_tag": "ABX9TyM0Yuvrmf9EyxPRWR2k62YR",
      "include_colab_link": true
    },
    "kernelspec": {
      "name": "python3",
      "display_name": "Python 3"
    },
    "language_info": {
      "name": "python"
    }
  },
  "cells": [
    {
      "cell_type": "markdown",
      "metadata": {
        "id": "view-in-github",
        "colab_type": "text"
      },
      "source": [
        "<a href=\"https://colab.research.google.com/github/00150/Practice-anything..../blob/main/Untitled189.ipynb\" target=\"_parent\"><img src=\"https://colab.research.google.com/assets/colab-badge.svg\" alt=\"Open In Colab\"/></a>"
      ]
    },
    {
      "cell_type": "markdown",
      "source": [
        "실습에 사용될 라이브러리 미리 생성."
      ],
      "metadata": {
        "id": "lhZmUnZ0GpFf"
      }
    },
    {
      "cell_type": "code",
      "execution_count": 1,
      "metadata": {
        "colab": {
          "base_uri": "https://localhost:8080/"
        },
        "id": "j_KM4ptV1SK4",
        "outputId": "ff295174-362b-455b-ea95-a5fa4046a503"
      },
      "outputs": [
        {
          "output_type": "stream",
          "name": "stdout",
          "text": [
            "Looking in indexes: https://pypi.org/simple, https://us-python.pkg.dev/colab-wheels/public/simple/\n",
            "Requirement already satisfied: pdpbox in /usr/local/lib/python3.8/dist-packages (0.2.1)\n",
            "Requirement already satisfied: scipy in /usr/local/lib/python3.8/dist-packages (from pdpbox) (1.7.3)\n",
            "Requirement already satisfied: matplotlib==3.1.1 in /usr/local/lib/python3.8/dist-packages (from pdpbox) (3.1.1)\n",
            "Requirement already satisfied: pandas in /usr/local/lib/python3.8/dist-packages (from pdpbox) (1.3.5)\n",
            "Requirement already satisfied: psutil in /usr/local/lib/python3.8/dist-packages (from pdpbox) (5.4.8)\n",
            "Requirement already satisfied: sklearn in /usr/local/lib/python3.8/dist-packages (from pdpbox) (0.0.post1)\n",
            "Requirement already satisfied: joblib in /usr/local/lib/python3.8/dist-packages (from pdpbox) (1.2.0)\n",
            "Requirement already satisfied: numpy in /usr/local/lib/python3.8/dist-packages (from pdpbox) (1.22.4)\n",
            "Requirement already satisfied: kiwisolver>=1.0.1 in /usr/local/lib/python3.8/dist-packages (from matplotlib==3.1.1->pdpbox) (1.4.4)\n",
            "Requirement already satisfied: python-dateutil>=2.1 in /usr/local/lib/python3.8/dist-packages (from matplotlib==3.1.1->pdpbox) (2.8.2)\n",
            "Requirement already satisfied: pyparsing!=2.0.4,!=2.1.2,!=2.1.6,>=2.0.1 in /usr/local/lib/python3.8/dist-packages (from matplotlib==3.1.1->pdpbox) (3.0.9)\n",
            "Requirement already satisfied: cycler>=0.10 in /usr/local/lib/python3.8/dist-packages (from matplotlib==3.1.1->pdpbox) (0.11.0)\n",
            "Requirement already satisfied: pytz>=2017.3 in /usr/local/lib/python3.8/dist-packages (from pandas->pdpbox) (2022.7.1)\n",
            "Requirement already satisfied: six>=1.5 in /usr/local/lib/python3.8/dist-packages (from python-dateutil>=2.1->matplotlib==3.1.1->pdpbox) (1.15.0)\n",
            "Looking in indexes: https://pypi.org/simple, https://us-python.pkg.dev/colab-wheels/public/simple/\n",
            "Requirement already satisfied: shap in /usr/local/lib/python3.8/dist-packages (0.41.0)\n",
            "Requirement already satisfied: numba in /usr/local/lib/python3.8/dist-packages (from shap) (0.56.4)\n",
            "Requirement already satisfied: scikit-learn in /usr/local/lib/python3.8/dist-packages (from shap) (1.0.2)\n",
            "Requirement already satisfied: cloudpickle in /usr/local/lib/python3.8/dist-packages (from shap) (2.2.1)\n",
            "Requirement already satisfied: slicer==0.0.7 in /usr/local/lib/python3.8/dist-packages (from shap) (0.0.7)\n",
            "Requirement already satisfied: scipy in /usr/local/lib/python3.8/dist-packages (from shap) (1.7.3)\n",
            "Requirement already satisfied: packaging>20.9 in /usr/local/lib/python3.8/dist-packages (from shap) (23.0)\n",
            "Requirement already satisfied: pandas in /usr/local/lib/python3.8/dist-packages (from shap) (1.3.5)\n",
            "Requirement already satisfied: numpy in /usr/local/lib/python3.8/dist-packages (from shap) (1.22.4)\n",
            "Requirement already satisfied: tqdm>4.25.0 in /usr/local/lib/python3.8/dist-packages (from shap) (4.64.1)\n",
            "Requirement already satisfied: setuptools in /usr/local/lib/python3.8/dist-packages (from numba->shap) (57.4.0)\n",
            "Requirement already satisfied: llvmlite<0.40,>=0.39.0dev0 in /usr/local/lib/python3.8/dist-packages (from numba->shap) (0.39.1)\n",
            "Requirement already satisfied: importlib-metadata in /usr/local/lib/python3.8/dist-packages (from numba->shap) (6.0.0)\n",
            "Requirement already satisfied: pytz>=2017.3 in /usr/local/lib/python3.8/dist-packages (from pandas->shap) (2022.7.1)\n",
            "Requirement already satisfied: python-dateutil>=2.7.3 in /usr/local/lib/python3.8/dist-packages (from pandas->shap) (2.8.2)\n",
            "Requirement already satisfied: joblib>=0.11 in /usr/local/lib/python3.8/dist-packages (from scikit-learn->shap) (1.2.0)\n",
            "Requirement already satisfied: threadpoolctl>=2.0.0 in /usr/local/lib/python3.8/dist-packages (from scikit-learn->shap) (3.1.0)\n",
            "Requirement already satisfied: six>=1.5 in /usr/local/lib/python3.8/dist-packages (from python-dateutil>=2.7.3->pandas->shap) (1.15.0)\n",
            "Requirement already satisfied: zipp>=0.5 in /usr/local/lib/python3.8/dist-packages (from importlib-metadata->numba->shap) (3.14.0)\n"
          ]
        }
      ],
      "source": [
        "!pip install pdpbox\n",
        "!pip install shap"
      ]
    },
    {
      "cell_type": "markdown",
      "source": [
        "##1.Partial Dependence Plots(PDP)\n",
        "높은 성능을 나타내기 위해 랜덤포레스트, 부스팅과 같은 앙상블 모델을 많이 사용하게 되는데, 이런 복잡도가 높은 모델은 선형모델에 비하여 해석하기가 어렵다.\n",
        "\n",
        "* 복잡한 모델 : 이해하기 어렵지만 성능이 좋다.\n",
        "* 단순한 모델 : 이해하기 쉽지만, 성능이 부족하다.\n",
        "\n",
        "예를들어, 랜덤포레스트, 부스팅의 경우 쉽게 특성중요도(Feature importance)값을 얻을 수 있는데,<br/> 이것을 통해서 우리가 알 수 있는 것은 어떤 특성들이 모델의 성능에 중요하다 or 많이 쓰인다는 정보 뿐입니다.\n",
        "<br/> 하지만 특성의 값에 따라서 타겟값이 증가/감소하느냐와 같은 **어떻게 영향을 미치는지**에 대한 정보는 얻을 수 없습니다. <br/>\n",
        "\n",
        "이 때, **부분 의존도 그림(Partial Dependence Plots)**을 사용한다면, 관심있는 특성들이 타겟에 어떻게 영향을 주는지 쉽게 파악할 수 있다. <br/>\n",
        "\n",
        "🔔즉, PDP를 사용하면 특성값에 따라서 타겟값이 증가 or 감소하느냐와 같은 정보를 알 수 있다."
      ],
      "metadata": {
        "id": "Mq1K3w5k1XdV"
      }
    },
    {
      "cell_type": "markdown",
      "source": [
        "Lending Club에서 샘플링한 데이터 세트를 사용하여 이번실습을 진행합니다."
      ],
      "metadata": {
        "id": "9D6phbrXHCdG"
      }
    },
    {
      "cell_type": "code",
      "source": [
        "import pandas as pd\n",
        "\n",
        "df = pd.read_csv('https://ds-lecture-data.s3.ap-northeast-2.amazonaws.com/lending_club/lending_club_sampled.csv')\n",
        "\n",
        "df['issue_d'] = pd.to_datetime(df['issue_d'], infer_datetime_format = True)\n",
        "\n",
        "# issue_d로 정렬\n",
        "df = df.set_index('issue_d').sort_index()\n",
        "\n",
        "df['interest_rate'] = df['int_rate'].astype(float)\n",
        "df['monthly_debts'] = df['annual_inc'] / 12 * df['dti'] / 100\n",
        "\n",
        "# 152개의 특성 중 6개의 특성만 사용할 것 입니다.\n",
        "columns = ['annual_inc', # 연수입\n",
        "           'fico_range_high',# 신용점수\n",
        "           'funded_amnt', # 대출\n",
        "           'title', # 대출 목적\n",
        "           'monthly_debts', # 월간부채\n",
        "           'interest_rate'] # 이자율\n",
        "\n",
        "\n",
        "df = df[columns]\n",
        "df = df.dropna()\n",
        "\n",
        "test = df[-10000:]\n",
        "val = df[-20000:-10000]\n",
        "train = df[:-20000]"
      ],
      "metadata": {
        "id": "1HIs2_LzGmwt"
      },
      "execution_count": 2,
      "outputs": []
    },
    {
      "cell_type": "code",
      "source": [
        "df.columns"
      ],
      "metadata": {
        "colab": {
          "base_uri": "https://localhost:8080/"
        },
        "id": "lYFjn40NC4R4",
        "outputId": "d8788fb4-84ba-452b-caa3-f423662fbef0"
      },
      "execution_count": 3,
      "outputs": [
        {
          "output_type": "execute_result",
          "data": {
            "text/plain": [
              "Index(['annual_inc', 'fico_range_high', 'funded_amnt', 'title',\n",
              "       'monthly_debts', 'interest_rate'],\n",
              "      dtype='object')"
            ]
          },
          "metadata": {},
          "execution_count": 3
        }
      ]
    },
    {
      "cell_type": "code",
      "source": [
        "test.shape, val.shape, train.shape"
      ],
      "metadata": {
        "colab": {
          "base_uri": "https://localhost:8080/"
        },
        "id": "z6mRY7l4JWTx",
        "outputId": "c7e16bba-8f85-4551-a5ec-b9edf0a1d483"
      },
      "execution_count": 4,
      "outputs": [
        {
          "output_type": "execute_result",
          "data": {
            "text/plain": [
              "((10000, 6), (10000, 6), (76408, 6))"
            ]
          },
          "metadata": {},
          "execution_count": 4
        }
      ]
    },
    {
      "cell_type": "code",
      "source": [
        "# 타겟은 이자율\n",
        "target = 'interest_rate'\n",
        "features = df.columns.drop('interest_rate')\n",
        "\n",
        "X_train = train[features]\n",
        "y_train = train[target]\n",
        "\n",
        "X_val = val[features]\n",
        "y_val = val[target]\n",
        "\n",
        "X_test = test[features]\n",
        "y_test = test[target]"
      ],
      "metadata": {
        "id": "jcTxCwxWWRPH"
      },
      "execution_count": 5,
      "outputs": []
    },
    {
      "cell_type": "code",
      "source": [
        "# baseline : 회귀 모델을 생성하기 전, 기준모델을 생성합니다.\n",
        "df[target].mean()"
      ],
      "metadata": {
        "colab": {
          "base_uri": "https://localhost:8080/"
        },
        "id": "nrxMAdK2l8kV",
        "outputId": "95ecc193-73d7-4e2b-e3bd-c39cf88e0100"
      },
      "execution_count": 6,
      "outputs": [
        {
          "output_type": "execute_result",
          "data": {
            "text/plain": [
              "11.67205242303543"
            ]
          },
          "metadata": {},
          "execution_count": 6
        }
      ]
    },
    {
      "cell_type": "code",
      "source": [
        "# 필요한 라이브러리를 가져옵니다.\n",
        "%matplotlib inline\n",
        "import seaborn as sns\n",
        "import matplotlib.pyplot as plt\n",
        "\n",
        "\n",
        "sns.displot(y_train, kde = True)\n",
        "\n",
        "# 기준모델 : 평균값으로 선하나 그려줍시다.\n",
        "plt.axvline(df[target].mean(), color ='blue')\n",
        "plt.axvline(df[target].median(), color ='red')"
      ],
      "metadata": {
        "colab": {
          "base_uri": "https://localhost:8080/",
          "height": 519
        },
        "id": "j1LeEig2W_tC",
        "outputId": "802e39c4-0c48-481c-bc1a-5e74a8dfd72e"
      },
      "execution_count": 7,
      "outputs": [
        {
          "output_type": "stream",
          "name": "stderr",
          "text": [
            "/usr/local/lib/python3.8/dist-packages/matplotlib/cbook/__init__.py:1402: FutureWarning: Support for multi-dimensional indexing (e.g. `obj[:, None]`) is deprecated and will be removed in a future version.  Convert to a numpy array before indexing instead.\n",
            "  x[:, None]\n",
            "/usr/local/lib/python3.8/dist-packages/matplotlib/axes/_base.py:276: FutureWarning: Support for multi-dimensional indexing (e.g. `obj[:, None]`) is deprecated and will be removed in a future version.  Convert to a numpy array before indexing instead.\n",
            "  x = x[:, np.newaxis]\n",
            "/usr/local/lib/python3.8/dist-packages/matplotlib/axes/_base.py:278: FutureWarning: Support for multi-dimensional indexing (e.g. `obj[:, None]`) is deprecated and will be removed in a future version.  Convert to a numpy array before indexing instead.\n",
            "  y = y[:, np.newaxis]\n"
          ]
        },
        {
          "output_type": "execute_result",
          "data": {
            "text/plain": [
              "<matplotlib.lines.Line2D at 0x7f51e17cbca0>"
            ]
          },
          "metadata": {},
          "execution_count": 7
        },
        {
          "output_type": "display_data",
          "data": {
            "text/plain": [
              "<Figure size 360x360 with 1 Axes>"
            ],
            "image/png": "[encoded data removed]"
          },
          "metadata": {
            "needs_background": "light"
          }
        }
      ]
    },
    {
      "cell_type": "markdown",
      "source": [
        "####1-2. 선형회귀 학습 진행."
      ],
      "metadata": {
        "id": "LPrVmdY_YDLA"
      }
    },
    {
      "cell_type": "code",
      "source": [
        "# 필요한 라이브러리 설치.\n",
        "!pip install category_encoders"
      ],
      "metadata": {
        "colab": {
          "base_uri": "https://localhost:8080/"
        },
        "id": "B6mYw57rZMLH",
        "outputId": "d2cac723-ba3a-4917-deb4-ee3e559c1d36"
      },
      "execution_count": 8,
      "outputs": [
        {
          "output_type": "stream",
          "name": "stdout",
          "text": [
            "Looking in indexes: https://pypi.org/simple, https://us-python.pkg.dev/colab-wheels/public/simple/\n",
            "Requirement already satisfied: category_encoders in /usr/local/lib/python3.8/dist-packages (2.6.0)\n",
            "Requirement already satisfied: pandas>=1.0.5 in /usr/local/lib/python3.8/dist-packages (from category_encoders) (1.3.5)\n",
            "Requirement already satisfied: statsmodels>=0.9.0 in /usr/local/lib/python3.8/dist-packages (from category_encoders) (0.12.2)\n",
            "Requirement already satisfied: scikit-learn>=0.20.0 in /usr/local/lib/python3.8/dist-packages (from category_encoders) (1.0.2)\n",
            "Requirement already satisfied: patsy>=0.5.1 in /usr/local/lib/python3.8/dist-packages (from category_encoders) (0.5.3)\n",
            "Requirement already satisfied: numpy>=1.14.0 in /usr/local/lib/python3.8/dist-packages (from category_encoders) (1.22.4)\n",
            "Requirement already satisfied: scipy>=1.0.0 in /usr/local/lib/python3.8/dist-packages (from category_encoders) (1.7.3)\n",
            "Requirement already satisfied: python-dateutil>=2.7.3 in /usr/local/lib/python3.8/dist-packages (from pandas>=1.0.5->category_encoders) (2.8.2)\n",
            "Requirement already satisfied: pytz>=2017.3 in /usr/local/lib/python3.8/dist-packages (from pandas>=1.0.5->category_encoders) (2022.7.1)\n",
            "Requirement already satisfied: six in /usr/local/lib/python3.8/dist-packages (from patsy>=0.5.1->category_encoders) (1.15.0)\n",
            "Requirement already satisfied: joblib>=0.11 in /usr/local/lib/python3.8/dist-packages (from scikit-learn>=0.20.0->category_encoders) (1.2.0)\n",
            "Requirement already satisfied: threadpoolctl>=2.0.0 in /usr/local/lib/python3.8/dist-packages (from scikit-learn>=0.20.0->category_encoders) (3.1.0)\n"
          ]
        }
      ]
    },
    {
      "cell_type": "code",
      "source": [
        "from category_encoders import TargetEncoder\n",
        "from sklearn.linear_model import LinearRegression\n",
        "from sklearn.pipeline import make_pipeline\n",
        "from sklearn.preprocessing import StandardScaler  \n",
        "\n",
        "# 선형회귀 학습 진행\n",
        "linear = make_pipeline(\n",
        "    TargetEncoder(),\n",
        "    LinearRegression()\n",
        ")\n",
        "\n",
        "linear.fit(X_train, y_train)\n",
        "print('R^2', linear.score(X_val, y_val))"
      ],
      "metadata": {
        "colab": {
          "base_uri": "https://localhost:8080/"
        },
        "id": "t-IcEZ-UYWAq",
        "outputId": "f9b4d6f5-0971-4ad9-9bc7-37a3537cef57"
      },
      "execution_count": 9,
      "outputs": [
        {
          "output_type": "stream",
          "name": "stdout",
          "text": [
            "R^2 0.17022988411414786\n"
          ]
        }
      ]
    },
    {
      "cell_type": "markdown",
      "source": [
        "#### 1-3. Linear Regression Insight\n",
        "> 회귀 계수 살펴보기."
      ],
      "metadata": {
        "id": "hAjm3JtLZBiX"
      }
    },
    {
      "cell_type": "code",
      "source": [
        "coefficients = linear.named_steps['linearregression'].coef_\n",
        "pd.Series(coefficients, features)"
      ],
      "metadata": {
        "colab": {
          "base_uri": "https://localhost:8080/"
        },
        "id": "ZXkahVRQvwST",
        "outputId": "562854f0-5842-442d-d2f6-daaa94b47422"
      },
      "execution_count": 10,
      "outputs": [
        {
          "output_type": "execute_result",
          "data": {
            "text/plain": [
              "annual_inc        -0.000005\n",
              "fico_range_high   -0.052555\n",
              "funded_amnt        0.000023\n",
              "title              1.191943\n",
              "monthly_debts      0.000015\n",
              "dtype: float64"
            ]
          },
          "metadata": {},
          "execution_count": 10
        }
      ]
    },
    {
      "cell_type": "code",
      "source": [
        "coefficients"
      ],
      "metadata": {
        "colab": {
          "base_uri": "https://localhost:8080/"
        },
        "id": "l14jaAxwxlPK",
        "outputId": "e0b2e933-6a52-45f9-e8ac-324fff737f20"
      },
      "execution_count": 11,
      "outputs": [
        {
          "output_type": "execute_result",
          "data": {
            "text/plain": [
              "array([-4.91735618e-06, -5.25549228e-02,  2.29863600e-05,  1.19194274e+00,\n",
              "        1.47339542e-05])"
            ]
          },
          "metadata": {},
          "execution_count": 11
        }
      ]
    },
    {
      "cell_type": "markdown",
      "source": [
        "선형 모델에서는 연수입이 이자율에 얼마나 영향을 주는지 알 수 있습니다.\n",
        "* $10k 더 벌수록 0.05 이율이 줄어듭니다."
      ],
      "metadata": {
        "id": "ohZ4yFU5xpPL"
      }
    },
    {
      "cell_type": "code",
      "source": [
        " -0.000005 * 10000"
      ],
      "metadata": {
        "colab": {
          "base_uri": "https://localhost:8080/"
        },
        "id": "e6BCDNBbykPB",
        "outputId": "8f7aa91e-ff19-4a1d-c7e9-c961e6fdd66c"
      },
      "execution_count": 12,
      "outputs": [
        {
          "output_type": "execute_result",
          "data": {
            "text/plain": [
              "-0.05"
            ]
          },
          "metadata": {},
          "execution_count": 12
        }
      ]
    },
    {
      "cell_type": "markdown",
      "source": [
        "`columns : fico_range_high`는 얼마나 영향을 줄까요...\n",
        "* 신용점수가 100 point 오를 때마다 5% 가까이 이율이 줄어든다고 예측합니다."
      ],
      "metadata": {
        "id": "CYb0zzwtynL1"
      }
    },
    {
      "cell_type": "code",
      "source": [
        "-0.052805 * 100"
      ],
      "metadata": {
        "colab": {
          "base_uri": "https://localhost:8080/"
        },
        "id": "_zsATsQGy_BX",
        "outputId": "c66e55c4-b150-4786-9b65-0937fed32c2f"
      },
      "execution_count": 13,
      "outputs": [
        {
          "output_type": "execute_result",
          "data": {
            "text/plain": [
              "-5.2805"
            ]
          },
          "metadata": {},
          "execution_count": 13
        }
      ]
    },
    {
      "cell_type": "markdown",
      "source": [
        "####1-4. gradient boosting 진행.\n",
        "> XGBoost 모델을 생성합니다.\n"
      ],
      "metadata": {
        "id": "2EXDCDwry_QD"
      }
    },
    {
      "cell_type": "code",
      "source": [
        "# 필요한 라이브러리 생성.\n",
        "from category_encoders import OrdinalEncoder\n",
        "from xgboost import XGBRegressor\n",
        "from sklearn.metrics import r2_score\n",
        "\n",
        "encoder = OrdinalEncoder()\n",
        "X_train_encoded = encoder.fit_transform(X_train) # 학습데이터\n",
        "X_val_encoded = encoder.transform(X_val) # 검증데이터\n",
        "\n",
        "boosting = XGBRegressor(\n",
        "    n_estimators=1000,\n",
        "    objective='reg:squarederror', # default\n",
        "    learning_rate=0.2,\n",
        "    early_stopping_rounds=50,\n",
        "    n_jobs=-1\n",
        ")\n",
        "\n",
        "eval_set = [(X_train_encoded, y_train), \n",
        "            (X_val_encoded, y_val)]\n",
        "\n",
        "boosting.fit(X_train_encoded, y_train, \n",
        "          eval_set=eval_set,\n",
        "          early_stopping_rounds=50)"
      ],
      "metadata": {
        "colab": {
          "base_uri": "https://localhost:8080/"
        },
        "id": "L489lfmt7v0A",
        "outputId": "5723d352-a9dd-4326-8eb5-28c2026f68bc"
      },
      "execution_count": 17,
      "outputs": [
        {
          "output_type": "stream",
          "name": "stdout",
          "text": [
            "[0]\tvalidation_0-rmse:9.46177\tvalidation_1-rmse:10.185\n",
            "Multiple eval metrics have been passed: 'validation_1-rmse' will be used for early stopping.\n",
            "\n",
            "Will train until validation_1-rmse hasn't improved in 50 rounds.\n",
            "[1]\tvalidation_0-rmse:7.77956\tvalidation_1-rmse:8.52515\n",
            "[2]\tvalidation_0-rmse:6.4691\tvalidation_1-rmse:7.23695\n",
            "[3]\tvalidation_0-rmse:5.46844\tvalidation_1-rmse:6.24501\n",
            "[4]\tvalidation_0-rmse:4.71471\tvalidation_1-rmse:5.48482\n",
            "[5]\tvalidation_0-rmse:4.15469\tvalidation_1-rmse:4.90874\n",
            "[6]\tvalidation_0-rmse:3.74825\tvalidation_1-rmse:4.49643\n",
            "[7]\tvalidation_0-rmse:3.45963\tvalidation_1-rmse:4.18831\n",
            "[8]\tvalidation_0-rmse:3.25941\tvalidation_1-rmse:3.96925\n",
            "[9]\tvalidation_0-rmse:3.12104\tvalidation_1-rmse:3.79854\n",
            "[10]\tvalidation_0-rmse:3.02593\tvalidation_1-rmse:3.68583\n",
            "[11]\tvalidation_0-rmse:2.95607\tvalidation_1-rmse:3.5969\n",
            "[12]\tvalidation_0-rmse:2.911\tvalidation_1-rmse:3.53576\n",
            "[13]\tvalidation_0-rmse:2.87811\tvalidation_1-rmse:3.48956\n",
            "[14]\tvalidation_0-rmse:2.85599\tvalidation_1-rmse:3.45471\n",
            "[15]\tvalidation_0-rmse:2.83681\tvalidation_1-rmse:3.42347\n",
            "[16]\tvalidation_0-rmse:2.82573\tvalidation_1-rmse:3.40501\n",
            "[17]\tvalidation_0-rmse:2.81517\tvalidation_1-rmse:3.39224\n",
            "[18]\tvalidation_0-rmse:2.80537\tvalidation_1-rmse:3.37447\n",
            "[19]\tvalidation_0-rmse:2.79914\tvalidation_1-rmse:3.36956\n",
            "[20]\tvalidation_0-rmse:2.79257\tvalidation_1-rmse:3.35675\n",
            "[21]\tvalidation_0-rmse:2.78745\tvalidation_1-rmse:3.34615\n",
            "[22]\tvalidation_0-rmse:2.78156\tvalidation_1-rmse:3.33765\n",
            "[23]\tvalidation_0-rmse:2.7765\tvalidation_1-rmse:3.32762\n",
            "[24]\tvalidation_0-rmse:2.77249\tvalidation_1-rmse:3.32593\n",
            "[25]\tvalidation_0-rmse:2.76901\tvalidation_1-rmse:3.32035\n",
            "[26]\tvalidation_0-rmse:2.76629\tvalidation_1-rmse:3.31771\n",
            "[27]\tvalidation_0-rmse:2.76391\tvalidation_1-rmse:3.31435\n",
            "[28]\tvalidation_0-rmse:2.76153\tvalidation_1-rmse:3.31493\n",
            "[29]\tvalidation_0-rmse:2.75898\tvalidation_1-rmse:3.3119\n",
            "[30]\tvalidation_0-rmse:2.75741\tvalidation_1-rmse:3.31101\n",
            "[31]\tvalidation_0-rmse:2.75461\tvalidation_1-rmse:3.30795\n",
            "[32]\tvalidation_0-rmse:2.75223\tvalidation_1-rmse:3.30774\n",
            "[33]\tvalidation_0-rmse:2.75029\tvalidation_1-rmse:3.30708\n",
            "[34]\tvalidation_0-rmse:2.74788\tvalidation_1-rmse:3.30319\n",
            "[35]\tvalidation_0-rmse:2.74625\tvalidation_1-rmse:3.30425\n",
            "[36]\tvalidation_0-rmse:2.74485\tvalidation_1-rmse:3.30343\n",
            "[37]\tvalidation_0-rmse:2.7423\tvalidation_1-rmse:3.3001\n",
            "[38]\tvalidation_0-rmse:2.74124\tvalidation_1-rmse:3.29976\n",
            "[39]\tvalidation_0-rmse:2.73968\tvalidation_1-rmse:3.29738\n",
            "[40]\tvalidation_0-rmse:2.73834\tvalidation_1-rmse:3.29598\n",
            "[41]\tvalidation_0-rmse:2.73717\tvalidation_1-rmse:3.29747\n",
            "[42]\tvalidation_0-rmse:2.7361\tvalidation_1-rmse:3.29669\n",
            "[43]\tvalidation_0-rmse:2.73489\tvalidation_1-rmse:3.29663\n",
            "[44]\tvalidation_0-rmse:2.7334\tvalidation_1-rmse:3.29419\n",
            "[45]\tvalidation_0-rmse:2.73242\tvalidation_1-rmse:3.29331\n",
            "[46]\tvalidation_0-rmse:2.731\tvalidation_1-rmse:3.29426\n",
            "[47]\tvalidation_0-rmse:2.72969\tvalidation_1-rmse:3.29222\n",
            "[48]\tvalidation_0-rmse:2.7287\tvalidation_1-rmse:3.29087\n",
            "[49]\tvalidation_0-rmse:2.72601\tvalidation_1-rmse:3.29056\n",
            "[50]\tvalidation_0-rmse:2.72497\tvalidation_1-rmse:3.28877\n",
            "[51]\tvalidation_0-rmse:2.72435\tvalidation_1-rmse:3.28887\n",
            "[52]\tvalidation_0-rmse:2.7235\tvalidation_1-rmse:3.28876\n",
            "[53]\tvalidation_0-rmse:2.7224\tvalidation_1-rmse:3.28688\n",
            "[54]\tvalidation_0-rmse:2.72135\tvalidation_1-rmse:3.28645\n",
            "[55]\tvalidation_0-rmse:2.72044\tvalidation_1-rmse:3.28761\n",
            "[56]\tvalidation_0-rmse:2.71995\tvalidation_1-rmse:3.2872\n",
            "[57]\tvalidation_0-rmse:2.71869\tvalidation_1-rmse:3.2868\n",
            "[58]\tvalidation_0-rmse:2.71775\tvalidation_1-rmse:3.28682\n",
            "[59]\tvalidation_0-rmse:2.71711\tvalidation_1-rmse:3.2874\n",
            "[60]\tvalidation_0-rmse:2.71587\tvalidation_1-rmse:3.28695\n",
            "[61]\tvalidation_0-rmse:2.71529\tvalidation_1-rmse:3.28635\n",
            "[62]\tvalidation_0-rmse:2.71469\tvalidation_1-rmse:3.28607\n",
            "[63]\tvalidation_0-rmse:2.71292\tvalidation_1-rmse:3.28638\n",
            "[64]\tvalidation_0-rmse:2.71243\tvalidation_1-rmse:3.28754\n",
            "[65]\tvalidation_0-rmse:2.71091\tvalidation_1-rmse:3.28541\n",
            "[66]\tvalidation_0-rmse:2.70922\tvalidation_1-rmse:3.28459\n",
            "[67]\tvalidation_0-rmse:2.70866\tvalidation_1-rmse:3.28448\n",
            "[68]\tvalidation_0-rmse:2.70836\tvalidation_1-rmse:3.28426\n",
            "[69]\tvalidation_0-rmse:2.70781\tvalidation_1-rmse:3.28343\n",
            "[70]\tvalidation_0-rmse:2.70747\tvalidation_1-rmse:3.28353\n",
            "[71]\tvalidation_0-rmse:2.7069\tvalidation_1-rmse:3.28396\n",
            "[72]\tvalidation_0-rmse:2.70565\tvalidation_1-rmse:3.28374\n",
            "[73]\tvalidation_0-rmse:2.70517\tvalidation_1-rmse:3.28324\n",
            "[74]\tvalidation_0-rmse:2.70485\tvalidation_1-rmse:3.28349\n",
            "[75]\tvalidation_0-rmse:2.70431\tvalidation_1-rmse:3.28286\n",
            "[76]\tvalidation_0-rmse:2.70396\tvalidation_1-rmse:3.28269\n",
            "[77]\tvalidation_0-rmse:2.70262\tvalidation_1-rmse:3.28186\n",
            "[78]\tvalidation_0-rmse:2.70198\tvalidation_1-rmse:3.28132\n",
            "[79]\tvalidation_0-rmse:2.70154\tvalidation_1-rmse:3.2808\n",
            "[80]\tvalidation_0-rmse:2.70119\tvalidation_1-rmse:3.28071\n",
            "[81]\tvalidation_0-rmse:2.70045\tvalidation_1-rmse:3.28048\n",
            "[82]\tvalidation_0-rmse:2.70007\tvalidation_1-rmse:3.27971\n",
            "[83]\tvalidation_0-rmse:2.69947\tvalidation_1-rmse:3.2801\n",
            "[84]\tvalidation_0-rmse:2.69901\tvalidation_1-rmse:3.28009\n",
            "[85]\tvalidation_0-rmse:2.69864\tvalidation_1-rmse:3.27994\n",
            "[86]\tvalidation_0-rmse:2.69794\tvalidation_1-rmse:3.27978\n",
            "[87]\tvalidation_0-rmse:2.6976\tvalidation_1-rmse:3.27929\n",
            "[88]\tvalidation_0-rmse:2.69682\tvalidation_1-rmse:3.27942\n",
            "[89]\tvalidation_0-rmse:2.69642\tvalidation_1-rmse:3.27981\n",
            "[90]\tvalidation_0-rmse:2.69602\tvalidation_1-rmse:3.27968\n",
            "[91]\tvalidation_0-rmse:2.69477\tvalidation_1-rmse:3.27927\n",
            "[92]\tvalidation_0-rmse:2.693\tvalidation_1-rmse:3.27838\n",
            "[93]\tvalidation_0-rmse:2.69222\tvalidation_1-rmse:3.2784\n",
            "[94]\tvalidation_0-rmse:2.69108\tvalidation_1-rmse:3.27737\n",
            "[95]\tvalidation_0-rmse:2.69075\tvalidation_1-rmse:3.2774\n",
            "[96]\tvalidation_0-rmse:2.69034\tvalidation_1-rmse:3.27745\n",
            "[97]\tvalidation_0-rmse:2.68943\tvalidation_1-rmse:3.27695\n",
            "[98]\tvalidation_0-rmse:2.68929\tvalidation_1-rmse:3.27725\n",
            "[99]\tvalidation_0-rmse:2.68772\tvalidation_1-rmse:3.27659\n",
            "[100]\tvalidation_0-rmse:2.68757\tvalidation_1-rmse:3.27631\n",
            "[101]\tvalidation_0-rmse:2.68694\tvalidation_1-rmse:3.27659\n",
            "[102]\tvalidation_0-rmse:2.6856\tvalidation_1-rmse:3.27641\n",
            "[103]\tvalidation_0-rmse:2.68478\tvalidation_1-rmse:3.27663\n",
            "[104]\tvalidation_0-rmse:2.68453\tvalidation_1-rmse:3.27643\n",
            "[105]\tvalidation_0-rmse:2.68371\tvalidation_1-rmse:3.27691\n",
            "[106]\tvalidation_0-rmse:2.68288\tvalidation_1-rmse:3.27681\n",
            "[107]\tvalidation_0-rmse:2.68266\tvalidation_1-rmse:3.27687\n",
            "[108]\tvalidation_0-rmse:2.68228\tvalidation_1-rmse:3.2769\n",
            "[109]\tvalidation_0-rmse:2.6816\tvalidation_1-rmse:3.27693\n",
            "[110]\tvalidation_0-rmse:2.68132\tvalidation_1-rmse:3.27653\n",
            "[111]\tvalidation_0-rmse:2.68125\tvalidation_1-rmse:3.27652\n",
            "[112]\tvalidation_0-rmse:2.67973\tvalidation_1-rmse:3.27637\n",
            "[113]\tvalidation_0-rmse:2.67926\tvalidation_1-rmse:3.27692\n",
            "[114]\tvalidation_0-rmse:2.67895\tvalidation_1-rmse:3.27679\n",
            "[115]\tvalidation_0-rmse:2.67878\tvalidation_1-rmse:3.27673\n",
            "[116]\tvalidation_0-rmse:2.67848\tvalidation_1-rmse:3.2764\n",
            "[117]\tvalidation_0-rmse:2.67799\tvalidation_1-rmse:3.27667\n",
            "[118]\tvalidation_0-rmse:2.67719\tvalidation_1-rmse:3.27623\n",
            "[119]\tvalidation_0-rmse:2.67647\tvalidation_1-rmse:3.27676\n",
            "[120]\tvalidation_0-rmse:2.67537\tvalidation_1-rmse:3.27649\n",
            "[121]\tvalidation_0-rmse:2.67531\tvalidation_1-rmse:3.27649\n",
            "[122]\tvalidation_0-rmse:2.67491\tvalidation_1-rmse:3.2762\n",
            "[123]\tvalidation_0-rmse:2.67469\tvalidation_1-rmse:3.27609\n",
            "[124]\tvalidation_0-rmse:2.67428\tvalidation_1-rmse:3.27603\n",
            "[125]\tvalidation_0-rmse:2.67409\tvalidation_1-rmse:3.27605\n",
            "[126]\tvalidation_0-rmse:2.67308\tvalidation_1-rmse:3.27594\n",
            "[127]\tvalidation_0-rmse:2.67269\tvalidation_1-rmse:3.27561\n",
            "[128]\tvalidation_0-rmse:2.67122\tvalidation_1-rmse:3.27605\n",
            "[129]\tvalidation_0-rmse:2.67054\tvalidation_1-rmse:3.27637\n",
            "[130]\tvalidation_0-rmse:2.66966\tvalidation_1-rmse:3.27618\n",
            "[131]\tvalidation_0-rmse:2.66886\tvalidation_1-rmse:3.2756\n",
            "[132]\tvalidation_0-rmse:2.6686\tvalidation_1-rmse:3.27535\n",
            "[133]\tvalidation_0-rmse:2.66839\tvalidation_1-rmse:3.27548\n",
            "[134]\tvalidation_0-rmse:2.66799\tvalidation_1-rmse:3.27531\n",
            "[135]\tvalidation_0-rmse:2.66765\tvalidation_1-rmse:3.27536\n",
            "[136]\tvalidation_0-rmse:2.66678\tvalidation_1-rmse:3.27533\n",
            "[137]\tvalidation_0-rmse:2.66663\tvalidation_1-rmse:3.27583\n",
            "[138]\tvalidation_0-rmse:2.6662\tvalidation_1-rmse:3.27576\n",
            "[139]\tvalidation_0-rmse:2.66573\tvalidation_1-rmse:3.27534\n",
            "[140]\tvalidation_0-rmse:2.66559\tvalidation_1-rmse:3.27513\n",
            "[141]\tvalidation_0-rmse:2.66514\tvalidation_1-rmse:3.2751\n",
            "[142]\tvalidation_0-rmse:2.66506\tvalidation_1-rmse:3.27512\n",
            "[143]\tvalidation_0-rmse:2.66477\tvalidation_1-rmse:3.27521\n",
            "[144]\tvalidation_0-rmse:2.66445\tvalidation_1-rmse:3.27528\n",
            "[145]\tvalidation_0-rmse:2.66426\tvalidation_1-rmse:3.27513\n",
            "[146]\tvalidation_0-rmse:2.66374\tvalidation_1-rmse:3.27526\n",
            "[147]\tvalidation_0-rmse:2.66363\tvalidation_1-rmse:3.27525\n",
            "[148]\tvalidation_0-rmse:2.66337\tvalidation_1-rmse:3.27526\n",
            "[149]\tvalidation_0-rmse:2.6631\tvalidation_1-rmse:3.27518\n",
            "[150]\tvalidation_0-rmse:2.66286\tvalidation_1-rmse:3.2753\n",
            "[151]\tvalidation_0-rmse:2.66243\tvalidation_1-rmse:3.2748\n",
            "[152]\tvalidation_0-rmse:2.66174\tvalidation_1-rmse:3.2746\n",
            "[153]\tvalidation_0-rmse:2.66148\tvalidation_1-rmse:3.27411\n",
            "[154]\tvalidation_0-rmse:2.66115\tvalidation_1-rmse:3.27396\n",
            "[155]\tvalidation_0-rmse:2.66088\tvalidation_1-rmse:3.27391\n",
            "[156]\tvalidation_0-rmse:2.66023\tvalidation_1-rmse:3.27354\n",
            "[157]\tvalidation_0-rmse:2.65991\tvalidation_1-rmse:3.27308\n",
            "[158]\tvalidation_0-rmse:2.65939\tvalidation_1-rmse:3.27356\n",
            "[159]\tvalidation_0-rmse:2.65877\tvalidation_1-rmse:3.27356\n",
            "[160]\tvalidation_0-rmse:2.65811\tvalidation_1-rmse:3.2736\n",
            "[161]\tvalidation_0-rmse:2.65792\tvalidation_1-rmse:3.2735\n",
            "[162]\tvalidation_0-rmse:2.65783\tvalidation_1-rmse:3.27364\n",
            "[163]\tvalidation_0-rmse:2.65762\tvalidation_1-rmse:3.27357\n",
            "[164]\tvalidation_0-rmse:2.65751\tvalidation_1-rmse:3.27379\n",
            "[165]\tvalidation_0-rmse:2.65732\tvalidation_1-rmse:3.27412\n",
            "[166]\tvalidation_0-rmse:2.65638\tvalidation_1-rmse:3.27441\n",
            "[167]\tvalidation_0-rmse:2.65619\tvalidation_1-rmse:3.2745\n",
            "[168]\tvalidation_0-rmse:2.65601\tvalidation_1-rmse:3.2746\n",
            "[169]\tvalidation_0-rmse:2.65586\tvalidation_1-rmse:3.27479\n",
            "[170]\tvalidation_0-rmse:2.65567\tvalidation_1-rmse:3.27483\n",
            "[171]\tvalidation_0-rmse:2.65476\tvalidation_1-rmse:3.27458\n",
            "[172]\tvalidation_0-rmse:2.654\tvalidation_1-rmse:3.27456\n",
            "[173]\tvalidation_0-rmse:2.65394\tvalidation_1-rmse:3.2745\n",
            "[174]\tvalidation_0-rmse:2.65386\tvalidation_1-rmse:3.2744\n",
            "[175]\tvalidation_0-rmse:2.65337\tvalidation_1-rmse:3.27431\n",
            "[176]\tvalidation_0-rmse:2.65306\tvalidation_1-rmse:3.275\n",
            "[177]\tvalidation_0-rmse:2.65245\tvalidation_1-rmse:3.2745\n",
            "[178]\tvalidation_0-rmse:2.65227\tvalidation_1-rmse:3.2746\n",
            "[179]\tvalidation_0-rmse:2.652\tvalidation_1-rmse:3.27436\n",
            "[180]\tvalidation_0-rmse:2.65155\tvalidation_1-rmse:3.27378\n",
            "[181]\tvalidation_0-rmse:2.65032\tvalidation_1-rmse:3.27326\n",
            "[182]\tvalidation_0-rmse:2.65008\tvalidation_1-rmse:3.27341\n",
            "[183]\tvalidation_0-rmse:2.64997\tvalidation_1-rmse:3.27384\n",
            "[184]\tvalidation_0-rmse:2.64977\tvalidation_1-rmse:3.27388\n",
            "[185]\tvalidation_0-rmse:2.64935\tvalidation_1-rmse:3.27392\n",
            "[186]\tvalidation_0-rmse:2.64923\tvalidation_1-rmse:3.27337\n",
            "[187]\tvalidation_0-rmse:2.64904\tvalidation_1-rmse:3.27344\n",
            "[188]\tvalidation_0-rmse:2.64888\tvalidation_1-rmse:3.27347\n",
            "[189]\tvalidation_0-rmse:2.64845\tvalidation_1-rmse:3.27357\n",
            "[190]\tvalidation_0-rmse:2.64783\tvalidation_1-rmse:3.27326\n",
            "[191]\tvalidation_0-rmse:2.64713\tvalidation_1-rmse:3.27337\n",
            "[192]\tvalidation_0-rmse:2.64679\tvalidation_1-rmse:3.27336\n",
            "[193]\tvalidation_0-rmse:2.64658\tvalidation_1-rmse:3.27328\n",
            "[194]\tvalidation_0-rmse:2.64634\tvalidation_1-rmse:3.27321\n",
            "[195]\tvalidation_0-rmse:2.64628\tvalidation_1-rmse:3.27315\n",
            "[196]\tvalidation_0-rmse:2.6461\tvalidation_1-rmse:3.27329\n",
            "[197]\tvalidation_0-rmse:2.64597\tvalidation_1-rmse:3.27332\n",
            "[198]\tvalidation_0-rmse:2.64589\tvalidation_1-rmse:3.27316\n",
            "[199]\tvalidation_0-rmse:2.64582\tvalidation_1-rmse:3.27335\n",
            "[200]\tvalidation_0-rmse:2.64576\tvalidation_1-rmse:3.2733\n",
            "[201]\tvalidation_0-rmse:2.64561\tvalidation_1-rmse:3.27335\n",
            "[202]\tvalidation_0-rmse:2.64501\tvalidation_1-rmse:3.27281\n",
            "[203]\tvalidation_0-rmse:2.64461\tvalidation_1-rmse:3.27264\n",
            "[204]\tvalidation_0-rmse:2.64446\tvalidation_1-rmse:3.27271\n",
            "[205]\tvalidation_0-rmse:2.64424\tvalidation_1-rmse:3.27271\n",
            "[206]\tvalidation_0-rmse:2.64396\tvalidation_1-rmse:3.27264\n",
            "[207]\tvalidation_0-rmse:2.64351\tvalidation_1-rmse:3.27199\n",
            "[208]\tvalidation_0-rmse:2.64312\tvalidation_1-rmse:3.27226\n",
            "[209]\tvalidation_0-rmse:2.64289\tvalidation_1-rmse:3.27224\n",
            "[210]\tvalidation_0-rmse:2.64243\tvalidation_1-rmse:3.27207\n",
            "[211]\tvalidation_0-rmse:2.64152\tvalidation_1-rmse:3.27124\n",
            "[212]\tvalidation_0-rmse:2.64141\tvalidation_1-rmse:3.27119\n",
            "[213]\tvalidation_0-rmse:2.64139\tvalidation_1-rmse:3.27132\n",
            "[214]\tvalidation_0-rmse:2.64078\tvalidation_1-rmse:3.27135\n",
            "[215]\tvalidation_0-rmse:2.64051\tvalidation_1-rmse:3.27133\n",
            "[216]\tvalidation_0-rmse:2.64035\tvalidation_1-rmse:3.27127\n",
            "[217]\tvalidation_0-rmse:2.63997\tvalidation_1-rmse:3.27148\n",
            "[218]\tvalidation_0-rmse:2.63979\tvalidation_1-rmse:3.27122\n",
            "[219]\tvalidation_0-rmse:2.63961\tvalidation_1-rmse:3.27118\n",
            "[220]\tvalidation_0-rmse:2.63954\tvalidation_1-rmse:3.27115\n",
            "[221]\tvalidation_0-rmse:2.63936\tvalidation_1-rmse:3.27126\n",
            "[222]\tvalidation_0-rmse:2.6389\tvalidation_1-rmse:3.27122\n",
            "[223]\tvalidation_0-rmse:2.63863\tvalidation_1-rmse:3.27113\n",
            "[224]\tvalidation_0-rmse:2.63847\tvalidation_1-rmse:3.2711\n",
            "[225]\tvalidation_0-rmse:2.63775\tvalidation_1-rmse:3.27108\n",
            "[226]\tvalidation_0-rmse:2.63744\tvalidation_1-rmse:3.27103\n",
            "[227]\tvalidation_0-rmse:2.63707\tvalidation_1-rmse:3.27123\n",
            "[228]\tvalidation_0-rmse:2.63672\tvalidation_1-rmse:3.27129\n",
            "[229]\tvalidation_0-rmse:2.63653\tvalidation_1-rmse:3.27134\n",
            "[230]\tvalidation_0-rmse:2.63625\tvalidation_1-rmse:3.27148\n",
            "[231]\tvalidation_0-rmse:2.63598\tvalidation_1-rmse:3.27156\n",
            "[232]\tvalidation_0-rmse:2.63567\tvalidation_1-rmse:3.2717\n",
            "[233]\tvalidation_0-rmse:2.6356\tvalidation_1-rmse:3.2718\n",
            "[234]\tvalidation_0-rmse:2.63555\tvalidation_1-rmse:3.2716\n",
            "[235]\tvalidation_0-rmse:2.6354\tvalidation_1-rmse:3.27133\n",
            "[236]\tvalidation_0-rmse:2.63527\tvalidation_1-rmse:3.27136\n",
            "[237]\tvalidation_0-rmse:2.63519\tvalidation_1-rmse:3.27151\n",
            "[238]\tvalidation_0-rmse:2.63489\tvalidation_1-rmse:3.27171\n",
            "[239]\tvalidation_0-rmse:2.63467\tvalidation_1-rmse:3.2719\n",
            "[240]\tvalidation_0-rmse:2.63444\tvalidation_1-rmse:3.27197\n",
            "[241]\tvalidation_0-rmse:2.63428\tvalidation_1-rmse:3.2718\n",
            "[242]\tvalidation_0-rmse:2.63412\tvalidation_1-rmse:3.27186\n",
            "[243]\tvalidation_0-rmse:2.634\tvalidation_1-rmse:3.27188\n",
            "[244]\tvalidation_0-rmse:2.63399\tvalidation_1-rmse:3.27187\n",
            "[245]\tvalidation_0-rmse:2.63374\tvalidation_1-rmse:3.27197\n",
            "[246]\tvalidation_0-rmse:2.63364\tvalidation_1-rmse:3.2721\n",
            "[247]\tvalidation_0-rmse:2.63325\tvalidation_1-rmse:3.2721\n",
            "[248]\tvalidation_0-rmse:2.63229\tvalidation_1-rmse:3.2716\n",
            "[249]\tvalidation_0-rmse:2.63202\tvalidation_1-rmse:3.27202\n",
            "[250]\tvalidation_0-rmse:2.63179\tvalidation_1-rmse:3.27205\n",
            "[251]\tvalidation_0-rmse:2.63165\tvalidation_1-rmse:3.27203\n",
            "[252]\tvalidation_0-rmse:2.63096\tvalidation_1-rmse:3.27233\n",
            "[253]\tvalidation_0-rmse:2.63062\tvalidation_1-rmse:3.27224\n",
            "[254]\tvalidation_0-rmse:2.63043\tvalidation_1-rmse:3.27251\n",
            "[255]\tvalidation_0-rmse:2.62999\tvalidation_1-rmse:3.27235\n",
            "[256]\tvalidation_0-rmse:2.62977\tvalidation_1-rmse:3.27239\n",
            "[257]\tvalidation_0-rmse:2.62965\tvalidation_1-rmse:3.27243\n",
            "[258]\tvalidation_0-rmse:2.6296\tvalidation_1-rmse:3.2729\n",
            "[259]\tvalidation_0-rmse:2.62952\tvalidation_1-rmse:3.27302\n",
            "[260]\tvalidation_0-rmse:2.62946\tvalidation_1-rmse:3.27293\n",
            "[261]\tvalidation_0-rmse:2.62891\tvalidation_1-rmse:3.27305\n",
            "[262]\tvalidation_0-rmse:2.62886\tvalidation_1-rmse:3.27318\n",
            "[263]\tvalidation_0-rmse:2.62848\tvalidation_1-rmse:3.27301\n",
            "[264]\tvalidation_0-rmse:2.6282\tvalidation_1-rmse:3.27309\n",
            "[265]\tvalidation_0-rmse:2.62785\tvalidation_1-rmse:3.2729\n",
            "[266]\tvalidation_0-rmse:2.62782\tvalidation_1-rmse:3.27282\n",
            "[267]\tvalidation_0-rmse:2.62771\tvalidation_1-rmse:3.27271\n",
            "[268]\tvalidation_0-rmse:2.62764\tvalidation_1-rmse:3.2727\n",
            "[269]\tvalidation_0-rmse:2.62757\tvalidation_1-rmse:3.27263\n",
            "[270]\tvalidation_0-rmse:2.62749\tvalidation_1-rmse:3.27259\n",
            "[271]\tvalidation_0-rmse:2.62714\tvalidation_1-rmse:3.27223\n",
            "[272]\tvalidation_0-rmse:2.62689\tvalidation_1-rmse:3.27245\n",
            "[273]\tvalidation_0-rmse:2.62638\tvalidation_1-rmse:3.27201\n",
            "[274]\tvalidation_0-rmse:2.62617\tvalidation_1-rmse:3.27229\n",
            "[275]\tvalidation_0-rmse:2.62579\tvalidation_1-rmse:3.27243\n",
            "[276]\tvalidation_0-rmse:2.62558\tvalidation_1-rmse:3.27252\n",
            "Stopping. Best iteration:\n",
            "[226]\tvalidation_0-rmse:2.63744\tvalidation_1-rmse:3.27103\n",
            "\n"
          ]
        },
        {
          "output_type": "execute_result",
          "data": {
            "text/plain": [
              "XGBRegressor(early_stopping_rounds=50, learning_rate=0.2, n_estimators=1000,\n",
              "             n_jobs=-1, objective='reg:squarederror')"
            ]
          },
          "metadata": {},
          "execution_count": 17
        }
      ]
    },
    {
      "cell_type": "code",
      "source": [
        "boosting.best_iteration"
      ],
      "metadata": {
        "colab": {
          "base_uri": "https://localhost:8080/"
        },
        "id": "mUjLzb4uDukj",
        "outputId": "be1d08e1-ae6d-42b4-bdea-6c617c5e438a"
      },
      "execution_count": 23,
      "outputs": [
        {
          "output_type": "execute_result",
          "data": {
            "text/plain": [
              "226"
            ]
          },
          "metadata": {},
          "execution_count": 23
        }
      ]
    },
    {
      "cell_type": "code",
      "source": [
        "y_pred = boosting.predict(X_val_encoded)\n",
        "print('R^2', r2_score(y_val, y_pred))"
      ],
      "metadata": {
        "colab": {
          "base_uri": "https://localhost:8080/"
        },
        "id": "kfmJnt1_Ee17",
        "outputId": "45816a8c-58c6-40c0-9d47-db9e2eef90cf"
      },
      "execution_count": 22,
      "outputs": [
        {
          "output_type": "stream",
          "name": "stdout",
          "text": [
            "R^2 0.228134736099475\n"
          ]
        }
      ]
    },
    {
      "cell_type": "markdown",
      "source": [
        "그래디언트 부스팅 결과 해석\n",
        "> 선형 모델은 회귀 계수를 이용하여 변수와 타겟 결과를 해석할 수 있지만, 트리모델은 할 수 없다.\n",
        "\n",
        "* 즉, 그래디언트 부스팅을 사용했을 경우, 어떻게 하여 이자율을 예측했는지에 대한 정보를 **'선형모델 보다는 설명하기가 어렵다.'**\n",
        "\n",
        "* 🔎 하지만, 부분의존그림(PDP)를 사용하여 개별 특성과 타겟간의 관계를 볼 수 있다."
      ],
      "metadata": {
        "id": "u6Y8stuzEutR"
      }
    }
  ]
}