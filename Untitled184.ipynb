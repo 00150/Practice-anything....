{
  "nbformat": 4,
  "nbformat_minor": 0,
  "metadata": {
    "colab": {
      "provenance": [],
      "authorship_tag": "ABX9TyM5XUo7zGOqaqzk4dWbvmVp",
      "include_colab_link": true
    },
    "kernelspec": {
      "name": "python3",
      "display_name": "Python 3"
    },
    "language_info": {
      "name": "python"
    }
  },
  "cells": [
    {
      "cell_type": "markdown",
      "metadata": {
        "id": "view-in-github",
        "colab_type": "text"
      },
      "source": [
        "<a href=\"https://colab.research.google.com/github/00150/Practice-anything..../blob/main/Untitled184.ipynb\" target=\"_parent\"><img src=\"https://colab.research.google.com/assets/colab-badge.svg\" alt=\"Open In Colab\"/></a>"
      ]
    },
    {
      "cell_type": "markdown",
      "source": [
        "# **🚗Fuel Consumption Ratings**\n",
        "\n",
        "> 2022년 캐나다에서 팔린 자동차들의 연료 소비량 및 Co2 / Smog 배출량 데이터셋을 사용하여 문제를 정의하고 해결해봅시다.\n",
        "\n",
        "* 주요특성은 다음과 같습니다.\n",
        "- `\"Fuel consumption : 연료 소비\"`: 도시 및 고속도로 연료 소비 등급은 100km당 리터(L/100km)로 표시됩니다. <br/>\n",
        "결합된 등급(55% 도시, 45% 고속도로)은 100km당 L/100km 및 임페리얼 갤런당 마일(mpg)로 표시됩니다\n",
        "- `\"CO2 emissions : CO2 배출량\"`: 도시와 고속도로를 결합한 주행 시 이산화탄소의 배기관 배출량(km당 그램)\n",
        "- `\"CO2 rating : CO2 등급`\": 1(최악)부터 10(최상)까지 등급을 매긴 이산화탄소의 테일파이프 배출\n",
        "- `Smog rating : 스모그레이팅(Smograting)`: 스모그를 형성하는 오염물질의 테일파이프 배출량을 1(최악)부터 10(최상)까지 등급으로 평가함\n",
        "\n",
        "\n",
        "\n",
        "    - `Fuel consumption`: City and highway fuel consumption ratings are shown in liters per 100 kilometers (L/100 km) - the combined rating (55% city, 45% highway) is shown in L/100 km and in miles per imperial gallon (mpg)\n",
        "    - `CO2 emissions`: the tailpipe emissions of carbon dioxide (in grams per kilometer) for combined city and highway driving\n",
        "    - `CO2 rating`: the tailpipe emissions of carbon dioxide rated on a scale from 1 (worst) to 10 (best)\n",
        "    - `Smog rating`: the tailpipe emissions of smog-forming pollutants rated on a scale from 1 (worst) to 10 (best)"
      ],
      "metadata": {
        "id": "LIIFk05ACR63"
      }
    },
    {
      "cell_type": "markdown",
      "source": [
        "#### ❗ 이후 궁금한 컬럼에 대하여 찾아본 것들은 다음과 같습니다.\n",
        "* Cylinders : 숫자가 높을 수록 엔진의 출력과 토크가 향상되어 힘이 좋습니다<br/> 하지만 높은 힘을 낼 수 있기에 그만큼 연비가 좋지 않습니다, 또한 차량값도 높아집니다. "
      ],
      "metadata": {
        "id": "dPJG6DKQFMvS"
      }
    },
    {
      "cell_type": "code",
      "execution_count": 1,
      "metadata": {
        "colab": {
          "base_uri": "https://localhost:8080/"
        },
        "id": "_pk2SbzJBK_K",
        "outputId": "753c906c-3179-467b-a815-39f11c641c7a"
      },
      "outputs": [
        {
          "output_type": "stream",
          "name": "stdout",
          "text": [
            "Looking in indexes: https://pypi.org/simple, https://us-python.pkg.dev/colab-wheels/public/simple/\n",
            "Collecting category_encoders\n",
            "  Downloading category_encoders-2.6.0-py2.py3-none-any.whl (81 kB)\n",
            "\u001b[2K     \u001b[90m━━━━━━━━━━━━━━━━━━━━━━━━━━━━━━━━━━━━━━━\u001b[0m \u001b[32m81.2/81.2 KB\u001b[0m \u001b[31m963.2 kB/s\u001b[0m eta \u001b[36m0:00:00\u001b[0m\n",
            "\u001b[?25hRequirement already satisfied: numpy>=1.14.0 in /usr/local/lib/python3.8/dist-packages (from category_encoders) (1.21.6)\n",
            "Requirement already satisfied: patsy>=0.5.1 in /usr/local/lib/python3.8/dist-packages (from category_encoders) (0.5.3)\n",
            "Requirement already satisfied: scipy>=1.0.0 in /usr/local/lib/python3.8/dist-packages (from category_encoders) (1.7.3)\n",
            "Requirement already satisfied: statsmodels>=0.9.0 in /usr/local/lib/python3.8/dist-packages (from category_encoders) (0.12.2)\n",
            "Requirement already satisfied: scikit-learn>=0.20.0 in /usr/local/lib/python3.8/dist-packages (from category_encoders) (1.0.2)\n",
            "Requirement already satisfied: pandas>=1.0.5 in /usr/local/lib/python3.8/dist-packages (from category_encoders) (1.3.5)\n",
            "Requirement already satisfied: python-dateutil>=2.7.3 in /usr/local/lib/python3.8/dist-packages (from pandas>=1.0.5->category_encoders) (2.8.2)\n",
            "Requirement already satisfied: pytz>=2017.3 in /usr/local/lib/python3.8/dist-packages (from pandas>=1.0.5->category_encoders) (2022.7.1)\n",
            "Requirement already satisfied: six in /usr/local/lib/python3.8/dist-packages (from patsy>=0.5.1->category_encoders) (1.15.0)\n",
            "Requirement already satisfied: threadpoolctl>=2.0.0 in /usr/local/lib/python3.8/dist-packages (from scikit-learn>=0.20.0->category_encoders) (3.1.0)\n",
            "Requirement already satisfied: joblib>=0.11 in /usr/local/lib/python3.8/dist-packages (from scikit-learn>=0.20.0->category_encoders) (1.2.0)\n",
            "Installing collected packages: category_encoders\n",
            "Successfully installed category_encoders-2.6.0\n"
          ]
        }
      ],
      "source": [
        "!pip install category_encoders"
      ]
    },
    {
      "cell_type": "code",
      "source": [
        "import pandas as pd\n",
        "\n",
        "df = pd.read_csv(\"https://ds-lecture-data.s3.ap-northeast-2.amazonaws.com/fuel.csv\")\n",
        "df.head()"
      ],
      "metadata": {
        "colab": {
          "base_uri": "https://localhost:8080/",
          "height": 409
        },
        "id": "R1i4zmDdBsiT",
        "outputId": "73c8319d-8586-4d23-bb42-df6c90162eef"
      },
      "execution_count": 10,
      "outputs": [
        {
          "output_type": "execute_result",
          "data": {
            "text/plain": [
              "   Model Year  Make       Model Vehicle Class  Engine Size(L)  Cylinders  \\\n",
              "0        2018  Ford    Focus ST      Mid-size             2.0          4   \n",
              "1        2018  Ford      Fusion      Mid-size             2.0          4   \n",
              "2        2018  Ford      Fusion      Mid-size             2.5          4   \n",
              "3        2018  Ford  Fusion AWD      Mid-size             2.0          4   \n",
              "4        2018  Ford  Fusion AWD      Mid-size             2.7          6   \n",
              "\n",
              "  Transmission Fuel Type  Fuel Consumption (City (L/100 km)  \\\n",
              "0           M6         X                               10.5   \n",
              "1          AS6         X                               11.2   \n",
              "2           A6         X                               11.3   \n",
              "3          AS6         X                               11.8   \n",
              "4          AS6         X                               13.8   \n",
              "\n",
              "   Fuel Consumption(Hwy (L/100 km))  Fuel Consumption(Comb (L/100 km))  \\\n",
              "0                               7.8                                9.3   \n",
              "1                               7.6                                9.6   \n",
              "2                               7.4                                9.5   \n",
              "3                               8.2                               10.2   \n",
              "4                               9.1                               11.8   \n",
              "\n",
              "   Fuel Consumption(Comb (mpg))  CO2 Emissions(g/km)  CO2 Rating  Smog Rating  \n",
              "0                            30                  219           5            3  \n",
              "1                            29                  225           5            5  \n",
              "2                            30                  223           5            5  \n",
              "3                            28                  238           5            5  \n",
              "4                            24                  277           4            5  "
            ],
            "text/html": [
              "\n",
              "  <div id=\"df-4d647070-3f9c-4f40-9887-f46c832cf554\">\n",
              "    <div class=\"colab-df-container\">\n",
              "      <div>\n",
              "<style scoped>\n",
              "    .dataframe tbody tr th:only-of-type {\n",
              "        vertical-align: middle;\n",
              "    }\n",
              "\n",
              "    .dataframe tbody tr th {\n",
              "        vertical-align: top;\n",
              "    }\n",
              "\n",
              "    .dataframe thead th {\n",
              "        text-align: right;\n",
              "    }\n",
              "</style>\n",
              "<table border=\"1\" class=\"dataframe\">\n",
              "  <thead>\n",
              "    <tr style=\"text-align: right;\">\n",
              "      <th></th>\n",
              "      <th>Model Year</th>\n",
              "      <th>Make</th>\n",
              "      <th>Model</th>\n",
              "      <th>Vehicle Class</th>\n",
              "      <th>Engine Size(L)</th>\n",
              "      <th>Cylinders</th>\n",
              "      <th>Transmission</th>\n",
              "      <th>Fuel Type</th>\n",
              "      <th>Fuel Consumption (City (L/100 km)</th>\n",
              "      <th>Fuel Consumption(Hwy (L/100 km))</th>\n",
              "      <th>Fuel Consumption(Comb (L/100 km))</th>\n",
              "      <th>Fuel Consumption(Comb (mpg))</th>\n",
              "      <th>CO2 Emissions(g/km)</th>\n",
              "      <th>CO2 Rating</th>\n",
              "      <th>Smog Rating</th>\n",
              "    </tr>\n",
              "  </thead>\n",
              "  <tbody>\n",
              "    <tr>\n",
              "      <th>0</th>\n",
              "      <td>2018</td>\n",
              "      <td>Ford</td>\n",
              "      <td>Focus ST</td>\n",
              "      <td>Mid-size</td>\n",
              "      <td>2.0</td>\n",
              "      <td>4</td>\n",
              "      <td>M6</td>\n",
              "      <td>X</td>\n",
              "      <td>10.5</td>\n",
              "      <td>7.8</td>\n",
              "      <td>9.3</td>\n",
              "      <td>30</td>\n",
              "      <td>219</td>\n",
              "      <td>5</td>\n",
              "      <td>3</td>\n",
              "    </tr>\n",
              "    <tr>\n",
              "      <th>1</th>\n",
              "      <td>2018</td>\n",
              "      <td>Ford</td>\n",
              "      <td>Fusion</td>\n",
              "      <td>Mid-size</td>\n",
              "      <td>2.0</td>\n",
              "      <td>4</td>\n",
              "      <td>AS6</td>\n",
              "      <td>X</td>\n",
              "      <td>11.2</td>\n",
              "      <td>7.6</td>\n",
              "      <td>9.6</td>\n",
              "      <td>29</td>\n",
              "      <td>225</td>\n",
              "      <td>5</td>\n",
              "      <td>5</td>\n",
              "    </tr>\n",
              "    <tr>\n",
              "      <th>2</th>\n",
              "      <td>2018</td>\n",
              "      <td>Ford</td>\n",
              "      <td>Fusion</td>\n",
              "      <td>Mid-size</td>\n",
              "      <td>2.5</td>\n",
              "      <td>4</td>\n",
              "      <td>A6</td>\n",
              "      <td>X</td>\n",
              "      <td>11.3</td>\n",
              "      <td>7.4</td>\n",
              "      <td>9.5</td>\n",
              "      <td>30</td>\n",
              "      <td>223</td>\n",
              "      <td>5</td>\n",
              "      <td>5</td>\n",
              "    </tr>\n",
              "    <tr>\n",
              "      <th>3</th>\n",
              "      <td>2018</td>\n",
              "      <td>Ford</td>\n",
              "      <td>Fusion AWD</td>\n",
              "      <td>Mid-size</td>\n",
              "      <td>2.0</td>\n",
              "      <td>4</td>\n",
              "      <td>AS6</td>\n",
              "      <td>X</td>\n",
              "      <td>11.8</td>\n",
              "      <td>8.2</td>\n",
              "      <td>10.2</td>\n",
              "      <td>28</td>\n",
              "      <td>238</td>\n",
              "      <td>5</td>\n",
              "      <td>5</td>\n",
              "    </tr>\n",
              "    <tr>\n",
              "      <th>4</th>\n",
              "      <td>2018</td>\n",
              "      <td>Ford</td>\n",
              "      <td>Fusion AWD</td>\n",
              "      <td>Mid-size</td>\n",
              "      <td>2.7</td>\n",
              "      <td>6</td>\n",
              "      <td>AS6</td>\n",
              "      <td>X</td>\n",
              "      <td>13.8</td>\n",
              "      <td>9.1</td>\n",
              "      <td>11.8</td>\n",
              "      <td>24</td>\n",
              "      <td>277</td>\n",
              "      <td>4</td>\n",
              "      <td>5</td>\n",
              "    </tr>\n",
              "  </tbody>\n",
              "</table>\n",
              "</div>\n",
              "      <button class=\"colab-df-convert\" onclick=\"convertToInteractive('df-4d647070-3f9c-4f40-9887-f46c832cf554')\"\n",
              "              title=\"Convert this dataframe to an interactive table.\"\n",
              "              style=\"display:none;\">\n",
              "        \n",
              "  <svg xmlns=\"http://www.w3.org/2000/svg\" height=\"24px\"viewBox=\"0 0 24 24\"\n",
              "       width=\"24px\">\n",
              "    <path d=\"M0 0h24v24H0V0z\" fill=\"none\"/>\n",
              "    <path d=\"M18.56 5.44l.94 2.06.94-2.06 2.06-.94-2.06-.94-.94-2.06-.94 2.06-2.06.94zm-11 1L8.5 8.5l.94-2.06 2.06-.94-2.06-.94L8.5 2.5l-.94 2.06-2.06.94zm10 10l.94 2.06.94-2.06 2.06-.94-2.06-.94-.94-2.06-.94 2.06-2.06.94z\"/><path d=\"M17.41 7.96l-1.37-1.37c-.4-.4-.92-.59-1.43-.59-.52 0-1.04.2-1.43.59L10.3 9.45l-7.72 7.72c-.78.78-.78 2.05 0 2.83L4 21.41c.39.39.9.59 1.41.59.51 0 1.02-.2 1.41-.59l7.78-7.78 2.81-2.81c.8-.78.8-2.07 0-2.86zM5.41 20L4 18.59l7.72-7.72 1.47 1.35L5.41 20z\"/>\n",
              "  </svg>\n",
              "      </button>\n",
              "      \n",
              "  <style>\n",
              "    .colab-df-container {\n",
              "      display:flex;\n",
              "      flex-wrap:wrap;\n",
              "      gap: 12px;\n",
              "    }\n",
              "\n",
              "    .colab-df-convert {\n",
              "      background-color: #E8F0FE;\n",
              "      border: none;\n",
              "      border-radius: 50%;\n",
              "      cursor: pointer;\n",
              "      display: none;\n",
              "      fill: #1967D2;\n",
              "      height: 32px;\n",
              "      padding: 0 0 0 0;\n",
              "      width: 32px;\n",
              "    }\n",
              "\n",
              "    .colab-df-convert:hover {\n",
              "      background-color: #E2EBFA;\n",
              "      box-shadow: 0px 1px 2px rgba(60, 64, 67, 0.3), 0px 1px 3px 1px rgba(60, 64, 67, 0.15);\n",
              "      fill: #174EA6;\n",
              "    }\n",
              "\n",
              "    [theme=dark] .colab-df-convert {\n",
              "      background-color: #3B4455;\n",
              "      fill: #D2E3FC;\n",
              "    }\n",
              "\n",
              "    [theme=dark] .colab-df-convert:hover {\n",
              "      background-color: #434B5C;\n",
              "      box-shadow: 0px 1px 3px 1px rgba(0, 0, 0, 0.15);\n",
              "      filter: drop-shadow(0px 1px 2px rgba(0, 0, 0, 0.3));\n",
              "      fill: #FFFFFF;\n",
              "    }\n",
              "  </style>\n",
              "\n",
              "      <script>\n",
              "        const buttonEl =\n",
              "          document.querySelector('#df-4d647070-3f9c-4f40-9887-f46c832cf554 button.colab-df-convert');\n",
              "        buttonEl.style.display =\n",
              "          google.colab.kernel.accessAllowed ? 'block' : 'none';\n",
              "\n",
              "        async function convertToInteractive(key) {\n",
              "          const element = document.querySelector('#df-4d647070-3f9c-4f40-9887-f46c832cf554');\n",
              "          const dataTable =\n",
              "            await google.colab.kernel.invokeFunction('convertToInteractive',\n",
              "                                                     [key], {});\n",
              "          if (!dataTable) return;\n",
              "\n",
              "          const docLinkHtml = 'Like what you see? Visit the ' +\n",
              "            '<a target=\"_blank\" href=https://colab.research.google.com/notebooks/data_table.ipynb>data table notebook</a>'\n",
              "            + ' to learn more about interactive tables.';\n",
              "          element.innerHTML = '';\n",
              "          dataTable['output_type'] = 'display_data';\n",
              "          await google.colab.output.renderOutput(dataTable, element);\n",
              "          const docLink = document.createElement('div');\n",
              "          docLink.innerHTML = docLinkHtml;\n",
              "          element.appendChild(docLink);\n",
              "        }\n",
              "      </script>\n",
              "    </div>\n",
              "  </div>\n",
              "  "
            ]
          },
          "metadata": {},
          "execution_count": 10
        }
      ]
    },
    {
      "cell_type": "code",
      "source": [
        "#  특성들을 살펴봅니다.\n",
        "df.columns"
      ],
      "metadata": {
        "colab": {
          "base_uri": "https://localhost:8080/"
        },
        "id": "CrPKcY4TCFFp",
        "outputId": "143f37c6-05d7-46a4-e7da-9a7a51e0c4dc"
      },
      "execution_count": 11,
      "outputs": [
        {
          "output_type": "execute_result",
          "data": {
            "text/plain": [
              "Index(['Model Year', 'Make', 'Model', 'Vehicle Class', 'Engine Size(L)',\n",
              "       'Cylinders', 'Transmission', 'Fuel Type',\n",
              "       'Fuel Consumption (City (L/100 km)', 'Fuel Consumption(Hwy (L/100 km))',\n",
              "       'Fuel Consumption(Comb (L/100 km))', 'Fuel Consumption(Comb (mpg))',\n",
              "       'CO2 Emissions(g/km)', 'CO2 Rating', 'Smog Rating'],\n",
              "      dtype='object')"
            ]
          },
          "metadata": {},
          "execution_count": 11
        }
      ]
    },
    {
      "cell_type": "code",
      "source": [
        "# 컬럼명을 정리합니다.\n",
        "df.columns = [\n",
        "    'year',\n",
        "    'make',\n",
        "    'model',\n",
        "    'class',\n",
        "    'esize',\n",
        "    'n_cylinder',\n",
        "    'ttype',\n",
        "    'ftype',\n",
        "    'fcons_cty',\n",
        "    'fcons_hwy',\n",
        "    \"fcons_comp\",\n",
        "    \"fcons_mpg\",\n",
        "    \"co2_emsn\",\n",
        "    \"co2_rating\",\n",
        "    \"smog_rating\",\n",
        "]"
      ],
      "metadata": {
        "id": "kc1IQ1goCJPn"
      },
      "execution_count": 21,
      "outputs": []
    },
    {
      "cell_type": "code",
      "source": [
        "# 데이터의 타입을 살펴봅니다. 수치형 데이터 및 범주형 데이터를 살펴봅니다.\n",
        "df.dtypes"
      ],
      "metadata": {
        "colab": {
          "base_uri": "https://localhost:8080/"
        },
        "id": "6UEW5RiePfk-",
        "outputId": "613c7fc0-9c2e-4761-81ae-a305b60603a3"
      },
      "execution_count": 22,
      "outputs": [
        {
          "output_type": "execute_result",
          "data": {
            "text/plain": [
              "year             int64\n",
              "make            object\n",
              "model           object\n",
              "class           object\n",
              "esize          float64\n",
              "n_cylinder       int64\n",
              "ttype           object\n",
              "ftype           object\n",
              "fcons_cty      float64\n",
              "fcons_hwy      float64\n",
              "fcons_comp     float64\n",
              "fcons_mpg        int64\n",
              "co2_emsn         int64\n",
              "co2_rating       int64\n",
              "smog_rating      int64\n",
              "dtype: object"
            ]
          },
          "metadata": {},
          "execution_count": 22
        }
      ]
    },
    {
      "cell_type": "code",
      "source": [
        "# 데이터의 결측치를 확인합니다.\n",
        "df.isna().sum()"
      ],
      "metadata": {
        "colab": {
          "base_uri": "https://localhost:8080/"
        },
        "id": "IvcTWdjyQCWL",
        "outputId": "3b83adfe-e86b-493d-ccad-1bdd2c8163e0"
      },
      "execution_count": 14,
      "outputs": [
        {
          "output_type": "execute_result",
          "data": {
            "text/plain": [
              "Model Year                           0\n",
              "Make                                 0\n",
              "Model                                0\n",
              "Vehicle Class                        0\n",
              "Engine Size(L)                       0\n",
              "Cylinders                            0\n",
              "Transmission                         0\n",
              "Fuel Type                            0\n",
              "Fuel Consumption (City (L/100 km)    0\n",
              "Fuel Consumption(Hwy (L/100 km))     0\n",
              "Fuel Consumption(Comb (L/100 km))    0\n",
              "Fuel Consumption(Comb (mpg))         0\n",
              "CO2 Emissions(g/km)                  0\n",
              "CO2 Rating                           0\n",
              "Smog Rating                          0\n",
              "dtype: int64"
            ]
          },
          "metadata": {},
          "execution_count": 14
        }
      ]
    },
    {
      "cell_type": "code",
      "source": [
        "# 데이터를 요약합니다(수치형&명목형 데이터)\n",
        "df.describe(include = 'all').T"
      ],
      "metadata": {
        "colab": {
          "base_uri": "https://localhost:8080/",
          "height": 519
        },
        "id": "zVWk3JIdQQ_R",
        "outputId": "eeb510f9-93f5-4a99-a0a3-268f3dcca6ec"
      },
      "execution_count": 15,
      "outputs": [
        {
          "output_type": "execute_result",
          "data": {
            "text/plain": [
              "                                    count unique         top  freq  \\\n",
              "Model Year                         2206.0    NaN         NaN   NaN   \n",
              "Make                                 2206     39        Ford   204   \n",
              "Model                                2206   1408  Sierra 4WD     8   \n",
              "Vehicle Class                        2206     15  SUV: Small   402   \n",
              "Engine Size(L)                     2206.0    NaN         NaN   NaN   \n",
              "Cylinders                          2206.0    NaN         NaN   NaN   \n",
              "Transmission                         2206     26         AS8   461   \n",
              "Fuel Type                            2206      4           Z  1082   \n",
              "Fuel Consumption (City (L/100 km)  2206.0    NaN         NaN   NaN   \n",
              "Fuel Consumption(Hwy (L/100 km))   2206.0    NaN         NaN   NaN   \n",
              "Fuel Consumption(Comb (L/100 km))  2206.0    NaN         NaN   NaN   \n",
              "Fuel Consumption(Comb (mpg))       2206.0    NaN         NaN   NaN   \n",
              "CO2 Emissions(g/km)                2206.0    NaN         NaN   NaN   \n",
              "CO2 Rating                         2206.0    NaN         NaN   NaN   \n",
              "Smog Rating                        2206.0    NaN         NaN   NaN   \n",
              "\n",
              "                                          mean        std     min     25%  \\\n",
              "Model Year                         2020.513599   1.515018  2018.0  2019.0   \n",
              "Make                                       NaN        NaN     NaN     NaN   \n",
              "Model                                      NaN        NaN     NaN     NaN   \n",
              "Vehicle Class                              NaN        NaN     NaN     NaN   \n",
              "Engine Size(L)                        3.211061    1.35139     1.0     2.0   \n",
              "Cylinders                             5.756573   1.945083     3.0     4.0   \n",
              "Transmission                               NaN        NaN     NaN     NaN   \n",
              "Fuel Type                                  NaN        NaN     NaN     NaN   \n",
              "Fuel Consumption (City (L/100 km)    12.681822   3.434568     4.0    10.3   \n",
              "Fuel Consumption(Hwy (L/100 km))      9.336809   2.214589     3.9     7.7   \n",
              "Fuel Consumption(Comb (L/100 km))    11.175476   2.840341     4.0     9.2   \n",
              "Fuel Consumption(Comb (mpg))         26.955576   7.243658    11.0    22.0   \n",
              "CO2 Emissions(g/km)                 259.476881  62.110232    94.0   215.0   \n",
              "CO2 Rating                            4.429284   1.554814     1.0     3.0   \n",
              "Smog Rating                           4.417044   1.788388     1.0     3.0   \n",
              "\n",
              "                                      50%     75%     max  \n",
              "Model Year                         2021.0  2022.0  2022.0  \n",
              "Make                                  NaN     NaN     NaN  \n",
              "Model                                 NaN     NaN     NaN  \n",
              "Vehicle Class                         NaN     NaN     NaN  \n",
              "Engine Size(L)                        3.0     4.0     8.0  \n",
              "Cylinders                             6.0     6.0    16.0  \n",
              "Transmission                          NaN     NaN     NaN  \n",
              "Fuel Type                             NaN     NaN     NaN  \n",
              "Fuel Consumption (City (L/100 km)    12.3    14.8    30.3  \n",
              "Fuel Consumption(Hwy (L/100 km))      9.1    10.7    20.9  \n",
              "Fuel Consumption(Comb (L/100 km))    10.8    12.9    26.1  \n",
              "Fuel Consumption(Comb (mpg))         26.0    31.0    71.0  \n",
              "CO2 Emissions(g/km)                 255.0   299.0   608.0  \n",
              "CO2 Rating                            4.0     5.0    10.0  \n",
              "Smog Rating                           5.0     6.0     7.0  "
            ],
            "text/html": [
              "\n",
              "  <div id=\"df-eb6d0142-8d9c-4643-801c-7629ccf969a9\">\n",
              "    <div class=\"colab-df-container\">\n",
              "      <div>\n",
              "<style scoped>\n",
              "    .dataframe tbody tr th:only-of-type {\n",
              "        vertical-align: middle;\n",
              "    }\n",
              "\n",
              "    .dataframe tbody tr th {\n",
              "        vertical-align: top;\n",
              "    }\n",
              "\n",
              "    .dataframe thead th {\n",
              "        text-align: right;\n",
              "    }\n",
              "</style>\n",
              "<table border=\"1\" class=\"dataframe\">\n",
              "  <thead>\n",
              "    <tr style=\"text-align: right;\">\n",
              "      <th></th>\n",
              "      <th>count</th>\n",
              "      <th>unique</th>\n",
              "      <th>top</th>\n",
              "      <th>freq</th>\n",
              "      <th>mean</th>\n",
              "      <th>std</th>\n",
              "      <th>min</th>\n",
              "      <th>25%</th>\n",
              "      <th>50%</th>\n",
              "      <th>75%</th>\n",
              "      <th>max</th>\n",
              "    </tr>\n",
              "  </thead>\n",
              "  <tbody>\n",
              "    <tr>\n",
              "      <th>Model Year</th>\n",
              "      <td>2206.0</td>\n",
              "      <td>NaN</td>\n",
              "      <td>NaN</td>\n",
              "      <td>NaN</td>\n",
              "      <td>2020.513599</td>\n",
              "      <td>1.515018</td>\n",
              "      <td>2018.0</td>\n",
              "      <td>2019.0</td>\n",
              "      <td>2021.0</td>\n",
              "      <td>2022.0</td>\n",
              "      <td>2022.0</td>\n",
              "    </tr>\n",
              "    <tr>\n",
              "      <th>Make</th>\n",
              "      <td>2206</td>\n",
              "      <td>39</td>\n",
              "      <td>Ford</td>\n",
              "      <td>204</td>\n",
              "      <td>NaN</td>\n",
              "      <td>NaN</td>\n",
              "      <td>NaN</td>\n",
              "      <td>NaN</td>\n",
              "      <td>NaN</td>\n",
              "      <td>NaN</td>\n",
              "      <td>NaN</td>\n",
              "    </tr>\n",
              "    <tr>\n",
              "      <th>Model</th>\n",
              "      <td>2206</td>\n",
              "      <td>1408</td>\n",
              "      <td>Sierra 4WD</td>\n",
              "      <td>8</td>\n",
              "      <td>NaN</td>\n",
              "      <td>NaN</td>\n",
              "      <td>NaN</td>\n",
              "      <td>NaN</td>\n",
              "      <td>NaN</td>\n",
              "      <td>NaN</td>\n",
              "      <td>NaN</td>\n",
              "    </tr>\n",
              "    <tr>\n",
              "      <th>Vehicle Class</th>\n",
              "      <td>2206</td>\n",
              "      <td>15</td>\n",
              "      <td>SUV: Small</td>\n",
              "      <td>402</td>\n",
              "      <td>NaN</td>\n",
              "      <td>NaN</td>\n",
              "      <td>NaN</td>\n",
              "      <td>NaN</td>\n",
              "      <td>NaN</td>\n",
              "      <td>NaN</td>\n",
              "      <td>NaN</td>\n",
              "    </tr>\n",
              "    <tr>\n",
              "      <th>Engine Size(L)</th>\n",
              "      <td>2206.0</td>\n",
              "      <td>NaN</td>\n",
              "      <td>NaN</td>\n",
              "      <td>NaN</td>\n",
              "      <td>3.211061</td>\n",
              "      <td>1.35139</td>\n",
              "      <td>1.0</td>\n",
              "      <td>2.0</td>\n",
              "      <td>3.0</td>\n",
              "      <td>4.0</td>\n",
              "      <td>8.0</td>\n",
              "    </tr>\n",
              "    <tr>\n",
              "      <th>Cylinders</th>\n",
              "      <td>2206.0</td>\n",
              "      <td>NaN</td>\n",
              "      <td>NaN</td>\n",
              "      <td>NaN</td>\n",
              "      <td>5.756573</td>\n",
              "      <td>1.945083</td>\n",
              "      <td>3.0</td>\n",
              "      <td>4.0</td>\n",
              "      <td>6.0</td>\n",
              "      <td>6.0</td>\n",
              "      <td>16.0</td>\n",
              "    </tr>\n",
              "    <tr>\n",
              "      <th>Transmission</th>\n",
              "      <td>2206</td>\n",
              "      <td>26</td>\n",
              "      <td>AS8</td>\n",
              "      <td>461</td>\n",
              "      <td>NaN</td>\n",
              "      <td>NaN</td>\n",
              "      <td>NaN</td>\n",
              "      <td>NaN</td>\n",
              "      <td>NaN</td>\n",
              "      <td>NaN</td>\n",
              "      <td>NaN</td>\n",
              "    </tr>\n",
              "    <tr>\n",
              "      <th>Fuel Type</th>\n",
              "      <td>2206</td>\n",
              "      <td>4</td>\n",
              "      <td>Z</td>\n",
              "      <td>1082</td>\n",
              "      <td>NaN</td>\n",
              "      <td>NaN</td>\n",
              "      <td>NaN</td>\n",
              "      <td>NaN</td>\n",
              "      <td>NaN</td>\n",
              "      <td>NaN</td>\n",
              "      <td>NaN</td>\n",
              "    </tr>\n",
              "    <tr>\n",
              "      <th>Fuel Consumption (City (L/100 km)</th>\n",
              "      <td>2206.0</td>\n",
              "      <td>NaN</td>\n",
              "      <td>NaN</td>\n",
              "      <td>NaN</td>\n",
              "      <td>12.681822</td>\n",
              "      <td>3.434568</td>\n",
              "      <td>4.0</td>\n",
              "      <td>10.3</td>\n",
              "      <td>12.3</td>\n",
              "      <td>14.8</td>\n",
              "      <td>30.3</td>\n",
              "    </tr>\n",
              "    <tr>\n",
              "      <th>Fuel Consumption(Hwy (L/100 km))</th>\n",
              "      <td>2206.0</td>\n",
              "      <td>NaN</td>\n",
              "      <td>NaN</td>\n",
              "      <td>NaN</td>\n",
              "      <td>9.336809</td>\n",
              "      <td>2.214589</td>\n",
              "      <td>3.9</td>\n",
              "      <td>7.7</td>\n",
              "      <td>9.1</td>\n",
              "      <td>10.7</td>\n",
              "      <td>20.9</td>\n",
              "    </tr>\n",
              "    <tr>\n",
              "      <th>Fuel Consumption(Comb (L/100 km))</th>\n",
              "      <td>2206.0</td>\n",
              "      <td>NaN</td>\n",
              "      <td>NaN</td>\n",
              "      <td>NaN</td>\n",
              "      <td>11.175476</td>\n",
              "      <td>2.840341</td>\n",
              "      <td>4.0</td>\n",
              "      <td>9.2</td>\n",
              "      <td>10.8</td>\n",
              "      <td>12.9</td>\n",
              "      <td>26.1</td>\n",
              "    </tr>\n",
              "    <tr>\n",
              "      <th>Fuel Consumption(Comb (mpg))</th>\n",
              "      <td>2206.0</td>\n",
              "      <td>NaN</td>\n",
              "      <td>NaN</td>\n",
              "      <td>NaN</td>\n",
              "      <td>26.955576</td>\n",
              "      <td>7.243658</td>\n",
              "      <td>11.0</td>\n",
              "      <td>22.0</td>\n",
              "      <td>26.0</td>\n",
              "      <td>31.0</td>\n",
              "      <td>71.0</td>\n",
              "    </tr>\n",
              "    <tr>\n",
              "      <th>CO2 Emissions(g/km)</th>\n",
              "      <td>2206.0</td>\n",
              "      <td>NaN</td>\n",
              "      <td>NaN</td>\n",
              "      <td>NaN</td>\n",
              "      <td>259.476881</td>\n",
              "      <td>62.110232</td>\n",
              "      <td>94.0</td>\n",
              "      <td>215.0</td>\n",
              "      <td>255.0</td>\n",
              "      <td>299.0</td>\n",
              "      <td>608.0</td>\n",
              "    </tr>\n",
              "    <tr>\n",
              "      <th>CO2 Rating</th>\n",
              "      <td>2206.0</td>\n",
              "      <td>NaN</td>\n",
              "      <td>NaN</td>\n",
              "      <td>NaN</td>\n",
              "      <td>4.429284</td>\n",
              "      <td>1.554814</td>\n",
              "      <td>1.0</td>\n",
              "      <td>3.0</td>\n",
              "      <td>4.0</td>\n",
              "      <td>5.0</td>\n",
              "      <td>10.0</td>\n",
              "    </tr>\n",
              "    <tr>\n",
              "      <th>Smog Rating</th>\n",
              "      <td>2206.0</td>\n",
              "      <td>NaN</td>\n",
              "      <td>NaN</td>\n",
              "      <td>NaN</td>\n",
              "      <td>4.417044</td>\n",
              "      <td>1.788388</td>\n",
              "      <td>1.0</td>\n",
              "      <td>3.0</td>\n",
              "      <td>5.0</td>\n",
              "      <td>6.0</td>\n",
              "      <td>7.0</td>\n",
              "    </tr>\n",
              "  </tbody>\n",
              "</table>\n",
              "</div>\n",
              "      <button class=\"colab-df-convert\" onclick=\"convertToInteractive('df-eb6d0142-8d9c-4643-801c-7629ccf969a9')\"\n",
              "              title=\"Convert this dataframe to an interactive table.\"\n",
              "              style=\"display:none;\">\n",
              "        \n",
              "  <svg xmlns=\"http://www.w3.org/2000/svg\" height=\"24px\"viewBox=\"0 0 24 24\"\n",
              "       width=\"24px\">\n",
              "    <path d=\"M0 0h24v24H0V0z\" fill=\"none\"/>\n",
              "    <path d=\"M18.56 5.44l.94 2.06.94-2.06 2.06-.94-2.06-.94-.94-2.06-.94 2.06-2.06.94zm-11 1L8.5 8.5l.94-2.06 2.06-.94-2.06-.94L8.5 2.5l-.94 2.06-2.06.94zm10 10l.94 2.06.94-2.06 2.06-.94-2.06-.94-.94-2.06-.94 2.06-2.06.94z\"/><path d=\"M17.41 7.96l-1.37-1.37c-.4-.4-.92-.59-1.43-.59-.52 0-1.04.2-1.43.59L10.3 9.45l-7.72 7.72c-.78.78-.78 2.05 0 2.83L4 21.41c.39.39.9.59 1.41.59.51 0 1.02-.2 1.41-.59l7.78-7.78 2.81-2.81c.8-.78.8-2.07 0-2.86zM5.41 20L4 18.59l7.72-7.72 1.47 1.35L5.41 20z\"/>\n",
              "  </svg>\n",
              "      </button>\n",
              "      \n",
              "  <style>\n",
              "    .colab-df-container {\n",
              "      display:flex;\n",
              "      flex-wrap:wrap;\n",
              "      gap: 12px;\n",
              "    }\n",
              "\n",
              "    .colab-df-convert {\n",
              "      background-color: #E8F0FE;\n",
              "      border: none;\n",
              "      border-radius: 50%;\n",
              "      cursor: pointer;\n",
              "      display: none;\n",
              "      fill: #1967D2;\n",
              "      height: 32px;\n",
              "      padding: 0 0 0 0;\n",
              "      width: 32px;\n",
              "    }\n",
              "\n",
              "    .colab-df-convert:hover {\n",
              "      background-color: #E2EBFA;\n",
              "      box-shadow: 0px 1px 2px rgba(60, 64, 67, 0.3), 0px 1px 3px 1px rgba(60, 64, 67, 0.15);\n",
              "      fill: #174EA6;\n",
              "    }\n",
              "\n",
              "    [theme=dark] .colab-df-convert {\n",
              "      background-color: #3B4455;\n",
              "      fill: #D2E3FC;\n",
              "    }\n",
              "\n",
              "    [theme=dark] .colab-df-convert:hover {\n",
              "      background-color: #434B5C;\n",
              "      box-shadow: 0px 1px 3px 1px rgba(0, 0, 0, 0.15);\n",
              "      filter: drop-shadow(0px 1px 2px rgba(0, 0, 0, 0.3));\n",
              "      fill: #FFFFFF;\n",
              "    }\n",
              "  </style>\n",
              "\n",
              "      <script>\n",
              "        const buttonEl =\n",
              "          document.querySelector('#df-eb6d0142-8d9c-4643-801c-7629ccf969a9 button.colab-df-convert');\n",
              "        buttonEl.style.display =\n",
              "          google.colab.kernel.accessAllowed ? 'block' : 'none';\n",
              "\n",
              "        async function convertToInteractive(key) {\n",
              "          const element = document.querySelector('#df-eb6d0142-8d9c-4643-801c-7629ccf969a9');\n",
              "          const dataTable =\n",
              "            await google.colab.kernel.invokeFunction('convertToInteractive',\n",
              "                                                     [key], {});\n",
              "          if (!dataTable) return;\n",
              "\n",
              "          const docLinkHtml = 'Like what you see? Visit the ' +\n",
              "            '<a target=\"_blank\" href=https://colab.research.google.com/notebooks/data_table.ipynb>data table notebook</a>'\n",
              "            + ' to learn more about interactive tables.';\n",
              "          element.innerHTML = '';\n",
              "          dataTable['output_type'] = 'display_data';\n",
              "          await google.colab.output.renderOutput(dataTable, element);\n",
              "          const docLink = document.createElement('div');\n",
              "          docLink.innerHTML = docLinkHtml;\n",
              "          element.appendChild(docLink);\n",
              "        }\n",
              "      </script>\n",
              "    </div>\n",
              "  </div>\n",
              "  "
            ]
          },
          "metadata": {},
          "execution_count": 15
        }
      ]
    },
    {
      "cell_type": "markdown",
      "source": [
        "## 1. GREEN 배지를 붙여줍니다.\n",
        "> `SMOG_RATE` 를 살펴보고 우수한 차량을 예측합니다.\n",
        "* 좋은 성능을 가진 차량에 Green 배지를 붙여주어 고객에 추천합니다.\n"
      ],
      "metadata": {
        "id": "hDiYLDHyQWVh"
      }
    },
    {
      "cell_type": "markdown",
      "source": [
        "#### 1-1. `Smog_Rate`의 값이 분포를 확인합니다."
      ],
      "metadata": {
        "id": "QlTqkSKOT8b9"
      }
    },
    {
      "cell_type": "code",
      "source": [
        "df.columns"
      ],
      "metadata": {
        "colab": {
          "base_uri": "https://localhost:8080/"
        },
        "id": "SHLwuQmwR15R",
        "outputId": "bbdb6c7b-9483-4cb5-f932-56177ef67e8b"
      },
      "execution_count": 18,
      "outputs": [
        {
          "output_type": "execute_result",
          "data": {
            "text/plain": [
              "Index(['Model Year', 'Make', 'Model', 'Vehicle Class', 'Engine Size(L)',\n",
              "       'Cylinders', 'Transmission', 'Fuel Type',\n",
              "       'Fuel Consumption (City (L/100 km)', 'Fuel Consumption(Hwy (L/100 km))',\n",
              "       'Fuel Consumption(Comb (L/100 km))', 'Fuel Consumption(Comb (mpg))',\n",
              "       'CO2 Emissions(g/km)', 'CO2 Rating', 'Smog Rating'],\n",
              "      dtype='object')"
            ]
          },
          "metadata": {},
          "execution_count": 18
        }
      ]
    },
    {
      "cell_type": "code",
      "source": [
        "# 타겟이 될 smog_rating의 분포를 확인합니다.\n",
        "df['smog_rating'].describe()"
      ],
      "metadata": {
        "colab": {
          "base_uri": "https://localhost:8080/"
        },
        "id": "l0FlBHiPRflF",
        "outputId": "4582960a-5a91-4468-c91a-aecfc656fcce"
      },
      "execution_count": 23,
      "outputs": [
        {
          "output_type": "execute_result",
          "data": {
            "text/plain": [
              "count    2206.000000\n",
              "mean        4.417044\n",
              "std         1.788388\n",
              "min         1.000000\n",
              "25%         3.000000\n",
              "50%         5.000000\n",
              "75%         6.000000\n",
              "max         7.000000\n",
              "Name: smog_rating, dtype: float64"
            ]
          },
          "metadata": {},
          "execution_count": 23
        }
      ]
    },
    {
      "cell_type": "code",
      "source": [
        "import seaborn as sns\n",
        "import matplotlib.pyplot as plt\n",
        "\n",
        "# 시각화\n",
        "sns.displot(df['smog_rating'], kde=True)\n",
        "\n",
        "# 세로선을 그려줍니다.\n",
        "plt.axvline(6, color = 'red')"
      ],
      "metadata": {
        "colab": {
          "base_uri": "https://localhost:8080/",
          "height": 388
        },
        "id": "VoJ43vdmRpcj",
        "outputId": "6baa10fd-9f3b-43d6-944d-ca31a8d1a00d"
      },
      "execution_count": 26,
      "outputs": [
        {
          "output_type": "execute_result",
          "data": {
            "text/plain": [
              "<matplotlib.lines.Line2D at 0x7f7da26abb80>"
            ]
          },
          "metadata": {},
          "execution_count": 26
        },
        {
          "output_type": "display_data",
          "data": {
            "text/plain": [
              "<Figure size 360x360 with 1 Axes>"
            ],
            "image/png": "[encoded data removed]"
          },
          "metadata": {
            "needs_background": "light"
          }
        }
      ]
    },
    {
      "cell_type": "markdown",
      "source": [
        "####1-2. 일정 이상 `Smog_rate` 값에 대하여 `Green badge`를 주는 기준을 선택합니다.\n",
        "> 6점 이상을 받은 차량에 **Green badge**를 달아주도록 합니다.\n",
        "* 일정 이상의 'Smog_rate'를 받았는지의 여부를 예측하면 충분할 것 같습니다.\n",
        "  * `수치: 순서형 타겟` 인 형태이며, 분류를 위해 새로운 타겟을 생성합니다.\n"
      ],
      "metadata": {
        "id": "e_kUlXf4Ttml"
      }
    },
    {
      "cell_type": "code",
      "source": [
        "# 새로운 컬럼을 생성합니다 -> 6점 이상이라면  배지를 달아줍니다.\n",
        "df['is_green'] = df['smog_rating'] >= 6\n",
        "\n",
        "# 6점 이상이라면 True, 아니라면 False가 출력될 것 입니다.\n",
        "df['is_green'].value_counts()"
      ],
      "metadata": {
        "colab": {
          "base_uri": "https://localhost:8080/"
        },
        "id": "GA_iAdR9VSY8",
        "outputId": "1843264e-4ef0-4689-f849-e8f71b4a9049"
      },
      "execution_count": 28,
      "outputs": [
        {
          "output_type": "execute_result",
          "data": {
            "text/plain": [
              "False    1601\n",
              "True      605\n",
              "Name: is_green, dtype: int64"
            ]
          },
          "metadata": {},
          "execution_count": 28
        }
      ]
    },
    {
      "cell_type": "markdown",
      "source": [
        "#### 1-3. 기준 : baseline 생성."
      ],
      "metadata": {
        "id": "JZMj60T5bU31"
      }
    },
    {
      "cell_type": "markdown",
      "source": [
        "❗ 배지를 달아주기 위하여 타겟값을 현재 분류에 적합한 상태로 만들어 놓은 상태입니다.\n",
        "\n",
        "* 분류 모델의 Baseline을 생성합니다\n"
      ],
      "metadata": {
        "id": "Ck2i5DUCWFPE"
      }
    },
    {
      "cell_type": "code",
      "source": [
        "# 분류 모델의 Baseline는 클래스의 최다 빈도수를 baseline score로 둡니다.\n",
        "print('Baseline Score', df['is_green'].value_counts(normalize = True).max())\n"
      ],
      "metadata": {
        "colab": {
          "base_uri": "https://localhost:8080/"
        },
        "id": "HyXMCZt6WuJ8",
        "outputId": "01f98cc9-2a92-483c-f1df-637923cfed5d"
      },
      "execution_count": 29,
      "outputs": [
        {
          "output_type": "stream",
          "name": "stdout",
          "text": [
            "Baseline Score 0.7257479601087942\n"
          ]
        }
      ]
    },
    {
      "cell_type": "markdown",
      "source": [
        "**수치형 특성과 smog_rating  간의 관계를 살펴봅니다.**\n",
        "df = df.drop"
      ],
      "metadata": {
        "id": "y6NOveShbGIW"
      }
    }
  ]
}